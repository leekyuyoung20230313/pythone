{
  "nbformat": 4,
  "nbformat_minor": 0,
  "metadata": {
    "colab": {
      "provenance": []
    },
    "kernelspec": {
      "name": "python3",
      "display_name": "Python 3"
    },
    "language_info": {
      "name": "python"
    }
  },
  "cells": [
    {
      "cell_type": "code",
      "source": [
        "# 런타임 연결 해제 및 삭제"
      ],
      "metadata": {
        "id": "2OeOw3--cxV4"
      },
      "execution_count": null,
      "outputs": []
    },
    {
      "cell_type": "code",
      "source": [
        "# 이 부분은 처음 한번만 실행하면 됌.\n",
        "# 코드 수정 - \"The reason is that the last Ubuntu update update supports chromium driver just via snap.\"\n",
        "# 최근 우분투 업데이트에서 크롬 드라이버 설치를 snap을 이용해서만 하도록 바뀜\n",
        "# 고로 snap 없이 설치하는 아래 우회 코드로 변경\n",
        "# 출처 : https://colab.research.google.com/drive/1cbEvuZOhkouYLda3RqiwtbM-o9hxGLyC\n",
        "# 출처2 : https://stackoverflow.com/questions/75155063/selenium-use-chrome-on-colab-got-unexpectedly-exited\n",
        "\n",
        "%%shell\n",
        "# Ubuntu no longer distributes chromium-browser outside of snap\n",
        "#\n",
        "# Proposed solution: https://askubuntu.com/questions/1204571/how-to-install-chromium-without-snap\n",
        "\n",
        "# Add debian buster\n",
        "cat > /etc/apt/sources.list.d/debian.list <<'EOF'\n",
        "deb [arch=amd64 signed-by=/usr/share/keyrings/debian-buster.gpg] http://deb.debian.org/debian buster main\n",
        "deb [arch=amd64 signed-by=/usr/share/keyrings/debian-buster-updates.gpg] http://deb.debian.org/debian buster-updates main\n",
        "deb [arch=amd64 signed-by=/usr/share/keyrings/debian-security-buster.gpg] http://deb.debian.org/debian-security buster/updates main\n",
        "EOF\n",
        "\n",
        "# Add keys\n",
        "apt-key adv --keyserver keyserver.ubuntu.com --recv-keys DCC9EFBF77E11517\n",
        "apt-key adv --keyserver keyserver.ubuntu.com --recv-keys 648ACFD622F3D138\n",
        "apt-key adv --keyserver keyserver.ubuntu.com --recv-keys 112695A0E562B32A\n",
        "\n",
        "apt-key export 77E11517 | gpg --dearmour -o /usr/share/keyrings/debian-buster.gpg\n",
        "apt-key export 22F3D138 | gpg --dearmour -o /usr/share/keyrings/debian-buster-updates.gpg\n",
        "apt-key export E562B32A | gpg --dearmour -o /usr/share/keyrings/debian-security-buster.gpg\n",
        "\n",
        "# Prefer debian repo for chromium* packages only\n",
        "# Note the double-blank lines between entries\n",
        "cat > /etc/apt/preferences.d/chromium.pref << 'EOF'\n",
        "Package: *\n",
        "Pin: release a=eoan\n",
        "Pin-Priority: 500\n",
        "\n",
        "\n",
        "Package: *\n",
        "Pin: origin \"deb.debian.org\"\n",
        "Pin-Priority: 300\n",
        "\n",
        "\n",
        "Package: chromium*\n",
        "Pin: origin \"deb.debian.org\"\n",
        "Pin-Priority: 700\n",
        "EOF\n",
        "\n",
        "# Install chromium and chromium-driver\n",
        "apt-get update\n",
        "apt-get install chromium chromium-driver\n",
        "\n",
        "# Install selenium\n",
        "pip install selenium"
      ],
      "metadata": {
        "id": "ujUjZpcDTPZ8"
      },
      "execution_count": null,
      "outputs": []
    },
    {
      "cell_type": "code",
      "source": [
        "from selenium import webdriver\n",
        "from selenium.webdriver.chrome.options import Options\n",
        "from bs4 import BeautifulSoup\n",
        "\n",
        "options = Options()\n",
        "options.add_argument(\"--headless\")\n",
        "options.add_argument(\"--no-sandbox\")\n",
        "options.add_argument('--disable-dev-shm-usage')\n",
        "options.add_argument('lang=ko_KR')\n",
        "options.headless = True"
      ],
      "metadata": {
        "colab": {
          "base_uri": "https://localhost:8080/"
        },
        "id": "e2ukrXw4c5p3",
        "outputId": "541f2cb7-9b81-427b-92e7-88b7bd9d2dce"
      },
      "execution_count": 3,
      "outputs": [
        {
          "output_type": "stream",
          "name": "stderr",
          "text": [
            "<ipython-input-3-8e2c29e82798>:10: DeprecationWarning: headless property is deprecated, instead use add_argument('--headless') or add_argument('--headless=new')\n",
            "  options.headless = True\n"
          ]
        }
      ]
    },
    {
      "cell_type": "code",
      "source": [
        "with webdriver.Chrome(\"/usr/bin/chromedriver\", options=options) as driver:\n",
        "\n",
        "  driver.get('https://www.coffeebeankorea.com/store/store.asp')\n",
        "  html = driver.page_source\n",
        "  soup = BeautifulSoup(html, 'html.parser')\n",
        "  temp = soup.select('#storeListUL > li')\n",
        "  for i in temp:\n",
        "    print(i.select('div.store_txt > p.name > span')[0].text)\n",
        "\n",
        "\n",
        "# # 사용후 종료\n",
        "# driver.quit()"
      ],
      "metadata": {
        "colab": {
          "base_uri": "https://localhost:8080/"
        },
        "id": "JAElW3s6ddaQ",
        "outputId": "3bfaf2b1-e9d4-485f-8dcf-119f68525a5e"
      },
      "execution_count": 4,
      "outputs": [
        {
          "output_type": "stream",
          "name": "stderr",
          "text": [
            "<ipython-input-4-a3de951bfe0c>:1: DeprecationWarning: executable_path has been deprecated, please pass in a Service object\n",
            "  with webdriver.Chrome(\"/usr/bin/chromedriver\", options=options) as driver:\n"
          ]
        },
        {
          "output_type": "stream",
          "name": "stdout",
          "text": [
            "삼성봉은사거리점33m\n",
            "코엑스인터점262m\n",
            "삼성오크우드점316m\n",
            "삼성봉은사로점442m\n",
            "도심공항타워점495m\n",
            "트레이드타워점507m\n",
            "도심공항점560m\n",
            "파르나스몰점626m\n",
            "삼성로점632m\n",
            "삼성루첸타워점845m\n"
          ]
        }
      ]
    },
    {
      "cell_type": "code",
      "source": [
        "# 코드 2\n",
        "import time\n",
        "with webdriver.Chrome(\"/usr/bin/chromedriver\", options=options) as driver:  \n",
        "  \n",
        "  driver.get('https://www.coffeebeankorea.com/store/store.asp')\n",
        "  time.sleep(1)\n",
        "\n",
        "  driver.execute_script(\"storePop2(31)\")  \n",
        "  time.sleep(1)\n",
        "\n",
        "\n",
        "  html = driver.page_source\n",
        "  soup = BeautifulSoup(html, 'html.parser')  \n",
        "  \n",
        "  tbody_list = soup.select('#matizCoverLayer0Content > div > div > div.store_txt > table > tbody > tr')\n",
        "  print(tbody_list)\n",
        "  for row in tbody_list:    \n",
        "    print(row.find('td').text)  \n",
        "\n",
        "# 다른 매장 검색\n",
        "  driver.get('https://www.coffeebeankorea.com/store/store.asp')\n",
        "  time.sleep(1)\n",
        "  driver.execute_script(\"storePop2(142)\")\n",
        "  time.sleep(1)\n",
        "\n",
        "  html = driver.page_source\n",
        "  soup = BeautifulSoup(html, 'html.parser')  \n",
        "\n",
        "  #matizCoverLayer0Content > div > div > div.store_txt > table > tbody\n",
        "  tbody_list = soup.select('#matizCoverLayer0Content > div > div > div.store_txt > table > tbody > tr')\n",
        "  print(tbody_list)\n",
        "  for row in tbody_list:    \n",
        "    print(row.find('td').text)  "
      ],
      "metadata": {
        "colab": {
          "base_uri": "https://localhost:8080/"
        },
        "id": "dblAAkZxfw_V",
        "outputId": "2e0b0e7e-6f82-4986-bfae-e92f09d55da7"
      },
      "execution_count": 5,
      "outputs": [
        {
          "output_type": "stream",
          "name": "stderr",
          "text": [
            "<ipython-input-5-26a15e0cc261>:3: DeprecationWarning: executable_path has been deprecated, please pass in a Service object\n",
            "  with webdriver.Chrome(\"/usr/bin/chromedriver\", options=options) as driver:\n"
          ]
        },
        {
          "output_type": "stream",
          "name": "stdout",
          "text": [
            "[<tr> <th>영업시간</th> <td>평일 07:00-22:00 | 주말/공휴일 08:00-22:00</td> </tr>, <tr> <th>주차</th> <td>건물뒷편주차장(기계주차식) 평일 최초 30분 2,000원 / 1시간 5,000원 (구매영수증 지참시 30분 2,000원 / 1시간 3,500원 1시간 초과시 10분당 1,000원 ( 평일,주말 동일 )</td> </tr>, <tr> <th>주소</th> <td>서울시 강남구 영동대로 607 1,2층  <!--span class=\"lot\">(서울시 강남구 영동대로 607 1,2층)</span--></td> </tr>, <tr> <th>전화번호</th> <td>02-3443-5618</td> </tr>, <tr> <th rowspan=\"2\">기타 정보</th> <td class=\"best\">식약처 인증 위생등급 매우 우수매장</td> </tr>, <tr> <td class=\"hallcake\">홀케익 당일 수령가능</td> </tr>]\n",
            "평일 07:00-22:00 | 주말/공휴일 08:00-22:00\n",
            "건물뒷편주차장(기계주차식) 평일 최초 30분 2,000원 / 1시간 5,000원 (구매영수증 지참시 30분 2,000원 / 1시간 3,500원 1시간 초과시 10분당 1,000원 ( 평일,주말 동일 )\n",
            "서울시 강남구 영동대로 607 1,2층  \n",
            "02-3443-5618\n",
            "식약처 인증 위생등급 매우 우수매장\n",
            "홀케익 당일 수령가능\n",
            "[<tr> <th>영업시간</th> <td>평일 07:00~21:00ㅣ주말/공휴일 07:00~21:00</td> </tr>, <tr> <th>주차</th> <td>주차불가</td> </tr>, <tr> <th>주소</th> <td>서울시 강남구 봉은사로 524 코엑스 인터컨티넨탈아케이드  <!--span class=\"lot\">(서울시 강남구 봉은사로 524 코엑스 인터컨티넨탈아케이드)</span--></td> </tr>, <tr> <th>전화번호</th> <td>02-569-3103</td> </tr>]\n",
            "평일 07:00~21:00ㅣ주말/공휴일 07:00~21:00\n",
            "주차불가\n",
            "서울시 강남구 봉은사로 524 코엑스 인터컨티넨탈아케이드  \n",
            "02-569-3103\n"
          ]
        }
      ]
    },
    {
      "cell_type": "code",
      "source": [
        "# 코드3  https://www.koreabaseball.com/TeamRank/TeamRank.aspx\n",
        "from selenium.webdriver.support.ui import Select\n",
        "from selenium.webdriver.common.by import By\n",
        "import time\n",
        "with webdriver.Chrome(\"/usr/bin/chromedriver\", options=options) as driver:  \n",
        "  driver.get('https://www.koreabaseball.com/TeamRank/TeamRank.aspx')  \n",
        "  \n",
        "  year_dropdown = Select(driver.find_element(By.ID,'cphContents_cphContents_cphContents_ddlYear') )\n",
        "  year_dropdown.select_by_visible_text('2020')\n",
        "  time.sleep(1) \n",
        "  html = driver.page_source\n",
        "  soup = BeautifulSoup(html, 'html.parser')    \n",
        "  tr_lists = soup.select('#cphContents_cphContents_cphContents_udpRecord > table > tbody > tr')\n",
        "  for row in tr_lists:\n",
        "    print( [td.text for td in row.find_all('td')] )\n",
        "  \n",
        "  print('*'*50,'2022','*'*50)\n",
        "  year_dropdown = Select(driver.find_element(By.ID,'cphContents_cphContents_cphContents_ddlYear') )\n",
        "  year_dropdown.select_by_visible_text('2022')\n",
        "  time.sleep(1) \n",
        "  html = driver.page_source\n",
        "  soup = BeautifulSoup(html, 'html.parser')    \n",
        "  tr_lists = soup.select('#cphContents_cphContents_cphContents_udpRecord > table > tbody > tr')\n",
        "  for row in tr_lists:\n",
        "    print( [td.text for td in row.find_all('td')] )\n"
      ],
      "metadata": {
        "colab": {
          "base_uri": "https://localhost:8080/"
        },
        "id": "R5cXBkanwoZ5",
        "outputId": "06c99814-685d-41d9-e8b8-8ca65fd36403"
      },
      "execution_count": 14,
      "outputs": [
        {
          "output_type": "stream",
          "name": "stderr",
          "text": [
            "<ipython-input-14-2f879657ab23>:5: DeprecationWarning: executable_path has been deprecated, please pass in a Service object\n",
            "  with webdriver.Chrome(\"/usr/bin/chromedriver\", options=options) as driver:\n"
          ]
        },
        {
          "output_type": "stream",
          "name": "stdout",
          "text": [
            "['1', 'NC', '144', '83', '55', '6', '0.601', '0', '4승2무4패', '1패', '45-3-24', '38-3-31']\n",
            "['2', '두산', '144', '79', '61', '4', '0.564', '5', '6승0무4패', '4승', '41-2-29', '38-2-32']\n",
            "['3', 'KT', '144', '81', '62', '1', '0.566', '4.5', '7승0무3패', '1패', '44-0-28', '37-1-34']\n",
            "['4', 'LG', '144', '79', '61', '4', '0.564', '5', '5승1무4패', '2패', '39-3-30', '40-1-31']\n",
            "['5', '키움', '144', '80', '63', '1', '0.559', '5.5', '6승0무4패', '1패', '41-1-30', '39-0-33']\n",
            "['6', 'KIA', '144', '73', '71', '0', '0.507', '13', '4승0무6패', '1승', '37-0-35', '36-0-36']\n",
            "['7', '롯데', '144', '71', '72', '1', '0.497', '14.5', '3승0무7패', '1승', '41-0-31', '30-1-41']\n",
            "['8', '삼성', '144', '64', '75', '5', '0.460', '19.5', '6승2무2패', '1승', '33-2-37', '31-3-38']\n",
            "['9', 'SK', '144', '51', '92', '1', '0.357', '34.5', '5승0무5패', '1승', '28-0-44', '23-1-48']\n",
            "['10', '한화', '144', '46', '95', '3', '0.326', '38.5', '3승1무6패', '1승', '25-2-45', '21-1-50']\n",
            "****************************************************************************************************\n",
            "['1', 'SK', '133', '84', '47', '2', '0.632', '0', '6승1무3패', '1승', '40-0-26', '44-2-21']\n",
            "['2', '삼성', '133', '79', '52', '2', '0.594', '5', '4승1무5패', '1승', '37-0-29', '42-2-23']\n",
            "['3', '두산', '133', '73', '57', '3', '0.549', '10.5', '5승0무5패', '1패', '37-2-27', '36-1-30']\n",
            "['4', '롯데', '133', '69', '61', '3', '0.519', '14.5', '8승0무2패', '4승', '33-1-32', '36-2-29']\n",
            "['5', 'KIA', '133', '59', '74', '0', '0.444', '26', '5승0무5패', '3패', '30-0-37', '29-0-37']\n",
            "['6', 'LG', '133', '57', '71', '5', '0.429', '25.5', '3승2무5패', '1패', '31-3-33', '26-2-38']\n",
            "['7', '넥센', '133', '52', '78', '3', '0.391', '31.5', '2승0무8패', '2패', '23-3-41', '29-0-37']\n",
            "['8', '한화', '133', '49', '82', '2', '0.368', '35', '5승1무4패', '2승', '27-1-39', '22-1-43']\n"
          ]
        }
      ]
    },
    {
      "cell_type": "code",
      "source": [
        "# # 사용후 종료\n",
        "driver.quit()"
      ],
      "metadata": {
        "colab": {
          "base_uri": "https://localhost:8080/"
        },
        "id": "L2z5fnC8gne3",
        "outputId": "0ecfc8b9-7d86-4e90-8b3b-bf181a5a2880"
      },
      "execution_count": 8,
      "outputs": [
        {
          "output_type": "stream",
          "name": "stderr",
          "text": [
            "WARNING:urllib3.connectionpool:Retrying (Retry(total=2, connect=None, read=None, redirect=None, status=None)) after connection broken by 'NewConnectionError('<urllib3.connection.HTTPConnection object at 0x7f49bd53ed90>: Failed to establish a new connection: [Errno 111] Connection refused')': /session/54021743d28c3565186bfabd73dc5b67\n",
            "WARNING:urllib3.connectionpool:Retrying (Retry(total=1, connect=None, read=None, redirect=None, status=None)) after connection broken by 'NewConnectionError('<urllib3.connection.HTTPConnection object at 0x7f49bd53eee0>: Failed to establish a new connection: [Errno 111] Connection refused')': /session/54021743d28c3565186bfabd73dc5b67\n",
            "WARNING:urllib3.connectionpool:Retrying (Retry(total=0, connect=None, read=None, redirect=None, status=None)) after connection broken by 'NewConnectionError('<urllib3.connection.HTTPConnection object at 0x7f49bd6d36d0>: Failed to establish a new connection: [Errno 111] Connection refused')': /session/54021743d28c3565186bfabd73dc5b67\n"
          ]
        }
      ]
    },
    {
      "cell_type": "code",
      "source": [],
      "metadata": {
        "id": "MdYFIpNYSSiZ"
      },
      "execution_count": null,
      "outputs": []
    }
  ]
}