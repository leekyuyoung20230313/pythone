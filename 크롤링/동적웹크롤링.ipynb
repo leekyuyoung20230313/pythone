{
  "nbformat": 4,
  "nbformat_minor": 0,
  "metadata": {
    "colab": {
      "provenance": []
    },
    "kernelspec": {
      "name": "python3",
      "display_name": "Python 3"
    },
    "language_info": {
      "name": "python"
    }
  },
  "cells": [
    {
      "cell_type": "code",
      "source": [
        "# 코렙에 크롬드라이버 로드\n",
        "# 사용자 브라우져를 최신버전으로 update\n",
        "!apt-get update\n",
        "!apt-get install -y wget unzip\n",
        "!wget https://dl.google.com/linux/direct/google-chrome-stable_current_amd64.deb\n",
        "!dpkg -i google-chrome-stable_current_amd64.deb\n",
        "!google-chrome --version\n",
        "!pip install webdriver-manager"
      ],
      "metadata": {
        "id": "LPetllNWUdfS"
      },
      "execution_count": null,
      "outputs": []
    },
    {
      "cell_type": "code",
      "source": [
        "# 필요한라이브러리 로드\n",
        "from webdriver_manager.chrome import ChromeDriverManager\n",
        "print(ChromeDriverManager().install()) # 확인용도\n",
        "\n",
        "from selenium import webdriver\n",
        "from selenium.webdriver.chrome.service import Service\n",
        "from webdriver_manager.chrome import ChromeDriverManager\n",
        "import os\n",
        "\n",
        "chrome_options = webdriver.ChromeOptions()\n",
        "chrome_options.add_argument('--no-sandbox')\n",
        "chrome_options.add_argument('--disable-dev-shm-usage')\n",
        "chrome_options.add_argument('lang=ko_KR') \n",
        "\n",
        "service = Service(ChromeDriverManager().install())"
      ],
      "metadata": {
        "id": "AJ7aFiURPJE9",
        "colab": {
          "base_uri": "https://localhost:8080/"
        },
        "outputId": "e4a0eb74-68d1-4079-8956-25bcbc13bcc1"
      },
      "execution_count": 53,
      "outputs": [
        {
          "output_type": "stream",
          "name": "stdout",
          "text": [
            "/root/.wdm/drivers/chromedriver/linux64/112.0.5615.49/chromedriver\n"
          ]
        }
      ]
    },
    {
      "cell_type": "code",
      "source": [
        "# 실제 필요한 코드\n",
        "from bs4 import BeautifulSoup\n",
        "try:\n",
        "    driver = webdriver.Chrome(service=service, options=chrome_options)    \n",
        "    driver.get('https://www.google.com/search?q=ai&hl=ko')\n",
        "    html = driver.page_source\n",
        "    soup = BeautifulSoup(html, 'html.parser')\n",
        "    print(soup.prettify())\n",
        "    # search_box = driver.find_element_by_name('query')\n",
        "    # search_box.send_keys('파이썬')\n",
        "    # search_box.submit()\n",
        "    # driver.quit()\n",
        "except Exception as e:\n",
        "  print(e)"
      ],
      "metadata": {
        "id": "cDzmusrdU09q"
      },
      "execution_count": null,
      "outputs": []
    },
    {
      "cell_type": "code",
      "source": [],
      "metadata": {
        "id": "ujUjZpcDTPZ8"
      },
      "execution_count": null,
      "outputs": []
    }
  ]
}