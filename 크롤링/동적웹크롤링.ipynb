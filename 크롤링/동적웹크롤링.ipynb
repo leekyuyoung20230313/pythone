{
  "nbformat": 4,
  "nbformat_minor": 0,
  "metadata": {
    "colab": {
      "provenance": []
    },
    "kernelspec": {
      "name": "python3",
      "display_name": "Python 3"
    },
    "language_info": {
      "name": "python"
    }
  },
  "cells": [
    {
      "cell_type": "code",
      "source": [
        "# 런타임 연결 해제 및 삭제"
      ],
      "metadata": {
        "id": "2OeOw3--cxV4"
      },
      "execution_count": null,
      "outputs": []
    },
    {
      "cell_type": "code",
      "source": [
        "# 이 부분은 처음 한번만 실행하면 됌.\n",
        "# 코드 수정 - \"The reason is that the last Ubuntu update update supports chromium driver just via snap.\"\n",
        "# 최근 우분투 업데이트에서 크롬 드라이버 설치를 snap을 이용해서만 하도록 바뀜\n",
        "# 고로 snap 없이 설치하는 아래 우회 코드로 변경\n",
        "# 출처 : https://colab.research.google.com/drive/1cbEvuZOhkouYLda3RqiwtbM-o9hxGLyC\n",
        "# 출처2 : https://stackoverflow.com/questions/75155063/selenium-use-chrome-on-colab-got-unexpectedly-exited\n",
        "\n",
        "%%shell\n",
        "# Ubuntu no longer distributes chromium-browser outside of snap\n",
        "#\n",
        "# Proposed solution: https://askubuntu.com/questions/1204571/how-to-install-chromium-without-snap\n",
        "\n",
        "# Add debian buster\n",
        "cat > /etc/apt/sources.list.d/debian.list <<'EOF'\n",
        "deb [arch=amd64 signed-by=/usr/share/keyrings/debian-buster.gpg] http://deb.debian.org/debian buster main\n",
        "deb [arch=amd64 signed-by=/usr/share/keyrings/debian-buster-updates.gpg] http://deb.debian.org/debian buster-updates main\n",
        "deb [arch=amd64 signed-by=/usr/share/keyrings/debian-security-buster.gpg] http://deb.debian.org/debian-security buster/updates main\n",
        "EOF\n",
        "\n",
        "# Add keys\n",
        "apt-key adv --keyserver keyserver.ubuntu.com --recv-keys DCC9EFBF77E11517\n",
        "apt-key adv --keyserver keyserver.ubuntu.com --recv-keys 648ACFD622F3D138\n",
        "apt-key adv --keyserver keyserver.ubuntu.com --recv-keys 112695A0E562B32A\n",
        "\n",
        "apt-key export 77E11517 | gpg --dearmour -o /usr/share/keyrings/debian-buster.gpg\n",
        "apt-key export 22F3D138 | gpg --dearmour -o /usr/share/keyrings/debian-buster-updates.gpg\n",
        "apt-key export E562B32A | gpg --dearmour -o /usr/share/keyrings/debian-security-buster.gpg\n",
        "\n",
        "# Prefer debian repo for chromium* packages only\n",
        "# Note the double-blank lines between entries\n",
        "cat > /etc/apt/preferences.d/chromium.pref << 'EOF'\n",
        "Package: *\n",
        "Pin: release a=eoan\n",
        "Pin-Priority: 500\n",
        "\n",
        "\n",
        "Package: *\n",
        "Pin: origin \"deb.debian.org\"\n",
        "Pin-Priority: 300\n",
        "\n",
        "\n",
        "Package: chromium*\n",
        "Pin: origin \"deb.debian.org\"\n",
        "Pin-Priority: 700\n",
        "EOF\n",
        "\n",
        "# Install chromium and chromium-driver\n",
        "apt-get update\n",
        "apt-get install chromium chromium-driver\n",
        "\n",
        "# Install selenium\n",
        "pip install selenium"
      ],
      "metadata": {
        "id": "ujUjZpcDTPZ8"
      },
      "execution_count": null,
      "outputs": []
    },
    {
      "cell_type": "code",
      "source": [
        "from selenium import webdriver\n",
        "from selenium.webdriver.chrome.options import Options\n",
        "from bs4 import BeautifulSoup\n",
        "\n",
        "options = Options()\n",
        "options.add_argument(\"--headless\")\n",
        "options.add_argument(\"--no-sandbox\")\n",
        "options.add_argument('--disable-dev-shm-usage')\n",
        "options.add_argument('lang=ko_KR')\n",
        "options.headless = True"
      ],
      "metadata": {
        "colab": {
          "base_uri": "https://localhost:8080/"
        },
        "id": "e2ukrXw4c5p3",
        "outputId": "541f2cb7-9b81-427b-92e7-88b7bd9d2dce"
      },
      "execution_count": 3,
      "outputs": [
        {
          "output_type": "stream",
          "name": "stderr",
          "text": [
            "<ipython-input-3-8e2c29e82798>:10: DeprecationWarning: headless property is deprecated, instead use add_argument('--headless') or add_argument('--headless=new')\n",
            "  options.headless = True\n"
          ]
        }
      ]
    },
    {
      "cell_type": "code",
      "source": [
        "with webdriver.Chrome(\"/usr/bin/chromedriver\", options=options) as driver:\n",
        "\n",
        "  driver.get('https://www.coffeebeankorea.com/store/store.asp')\n",
        "  html = driver.page_source\n",
        "  soup = BeautifulSoup(html, 'html.parser')\n",
        "  temp = soup.select('#storeListUL > li')\n",
        "  for i in temp:\n",
        "    print(i.select('div.store_txt > p.name > span')[0].text)\n",
        "\n",
        "\n",
        "# # 사용후 종료\n",
        "# driver.quit()"
      ],
      "metadata": {
        "colab": {
          "base_uri": "https://localhost:8080/"
        },
        "id": "JAElW3s6ddaQ",
        "outputId": "3bfaf2b1-e9d4-485f-8dcf-119f68525a5e"
      },
      "execution_count": 4,
      "outputs": [
        {
          "output_type": "stream",
          "name": "stderr",
          "text": [
            "<ipython-input-4-a3de951bfe0c>:1: DeprecationWarning: executable_path has been deprecated, please pass in a Service object\n",
            "  with webdriver.Chrome(\"/usr/bin/chromedriver\", options=options) as driver:\n"
          ]
        },
        {
          "output_type": "stream",
          "name": "stdout",
          "text": [
            "삼성봉은사거리점33m\n",
            "코엑스인터점262m\n",
            "삼성오크우드점316m\n",
            "삼성봉은사로점442m\n",
            "도심공항타워점495m\n",
            "트레이드타워점507m\n",
            "도심공항점560m\n",
            "파르나스몰점626m\n",
            "삼성로점632m\n",
            "삼성루첸타워점845m\n"
          ]
        }
      ]
    },
    {
      "cell_type": "code",
      "source": [
        "from tqdm import tqdm\n",
        "from IPython.display import clear_output\n",
        "with webdriver.Chrome(\"/usr/bin/chromedriver\", options=options) as driver:    \n",
        "  totals = []\n",
        "  for num in tqdm(range(100)):\n",
        "    driver.get('https://www.coffeebeankorea.com/store/store.asp')\n",
        "    driver.execute_script(f\"storePop2({num})\")  \n",
        "    time.sleep(1)\n",
        "    html = driver.page_source\n",
        "    soup = BeautifulSoup(html, 'html.parser')    \n",
        "    tbody_list = soup.select('#matizCoverLayer0Content > div > div > div.store_txt > table > tbody > tr')  \n",
        "    result = []\n",
        "    \n",
        "    clear_output(wait= True)\n",
        "    print(f'크롤링 결과 : {tbody_list}', end = '\\n')\n",
        "\n",
        "    for row in tbody_list:    \n",
        "      result.append(row.find('td').text) \n",
        "    totals.append(result)"
      ],
      "metadata": {
        "colab": {
          "base_uri": "https://localhost:8080/"
        },
        "id": "fIgvpe0Agiy4",
        "outputId": "84c7b0ba-d637-4838-c8da-7b9a0189d081"
      },
      "execution_count": 26,
      "outputs": [
        {
          "output_type": "stream",
          "name": "stderr",
          "text": [
            "100%|██████████| 100/100 [03:57<00:00,  2.38s/it]"
          ]
        },
        {
          "output_type": "stream",
          "name": "stdout",
          "text": [
            "크롤링 결과 : []\n"
          ]
        },
        {
          "output_type": "stream",
          "name": "stderr",
          "text": [
            "\n"
          ]
        }
      ]
    },
    {
      "cell_type": "code",
      "source": [
        "import pandas as pd\n",
        "new_lists = [row for row in totals if len(row) > 0]\n",
        "df = pd.DataFrame( new_lists)\n",
        "df.to_csv('coffebean.csv', encoding='utf-8')\n",
        "df\n",
        "# 제목달고... 마지막 두개 컬럼의 내용을 합쳐서 하나의 컬럼으로 정리."
      ],
      "metadata": {
        "id": "ip2LPVN9jXoW"
      },
      "execution_count": null,
      "outputs": []
    },
    {
      "cell_type": "code",
      "source": [
        "# 동적페이지에서 브라우져의 객체를 가져올때 또는 컨트롤 할때 \n",
        "from selenium.webdriver.support.ui import Select\n",
        "from selenium.webdriver.common.by import By\n",
        "import time\n",
        "with webdriver.Chrome(\"/usr/bin/chromedriver\", options=options) as driver:  \n",
        "  # 1. 사이트오픈\n",
        "  driver.get('https://www.koreabaseball.com/TeamRank/TeamRank.aspx') \n",
        "  time.sleep(1) \n",
        "  total = []\n",
        "\n",
        "  for year in tqdm(range(1982,2024)):\n",
        "    combobox = driver.find_element(By.ID,'cphContents_cphContents_cphContents_ddlYear')  \n",
        "    combobox_select = Select(combobox)\n",
        "    combobox_select.select_by_value(f'{year}')\n",
        "    time.sleep(1) \n",
        "\n",
        "    # 2. 오픈된 사이트를 크롤링\n",
        "    html = driver.page_source\n",
        "    soup = BeautifulSoup(html, 'html.parser')  \n",
        "    tr_list = soup.select('#cphContents_cphContents_cphContents_udpRecord > table > tbody >tr')\n",
        "    result = []\n",
        "\n",
        "    clear_output(wait= True)\n",
        "    print(f'크롤링 결과 : {tr_list}', end = '\\n')\n",
        "\n",
        "    for tr in tr_list:\n",
        "      result.append([td.text for td in tr.find_all('td')])    \n",
        "    total.append(result)"
      ],
      "metadata": {
        "id": "RkGsquLDkotV"
      },
      "execution_count": null,
      "outputs": []
    },
    {
      "cell_type": "code",
      "source": [
        "df = pd.DataFrame(total)\n",
        "df.to_csv('./kbo.csv',encoding='utf-8')\n",
        "df.head()"
      ],
      "metadata": {
        "id": "KwFFSwr3nYWz"
      },
      "execution_count": null,
      "outputs": []
    },
    {
      "cell_type": "code",
      "source": [
        "# kbo에서 2023년 현재 달력옆에있는 버튼 클릭 이벤트\n",
        "with webdriver.Chrome(\"/usr/bin/chromedriver\", options=options) as driver:  \n",
        "  # 1. 사이트오픈\n",
        "  driver.get('https://www.koreabaseball.com/TeamRank/TeamRank.aspx') \n",
        "  button_el = driver.find_element(By.ID,'cphContents_cphContents_cphContents_btnPreDate')  \n",
        "  button_el.click()\n",
        "  time.sleep(1)  # 시간주지말고... 동적으로 페이지 로딩후 동작하는 라이브러리나 이베트등 찾아볼것 \n",
        "  button_el = driver.find_element(By.ID,'cphContents_cphContents_cphContents_btnPreDate')  \n",
        "  button_el.click()\n",
        "  time.sleep(1) \n",
        "\n",
        "  # 2. 오픈된 사이트를 크롤링\n",
        "  html = driver.page_source\n",
        "  soup = BeautifulSoup(html, 'html.parser')  \n",
        "  tr_list = soup.select('#cphContents_cphContents_cphContents_udpRecord > table > tbody >tr')\n",
        "  for tr in tr_list:\n",
        "    print([td.text for td in tr.find_all('td')])  "
      ],
      "metadata": {
        "colab": {
          "base_uri": "https://localhost:8080/"
        },
        "id": "i-wxAtI5p2Zs",
        "outputId": "c3cbc370-9c04-4250-9b09-1a8cc94ff35d"
      },
      "execution_count": 56,
      "outputs": [
        {
          "output_type": "stream",
          "name": "stderr",
          "text": [
            "<ipython-input-56-458d345efa92>:2: DeprecationWarning: executable_path has been deprecated, please pass in a Service object\n",
            "  with webdriver.Chrome(\"/usr/bin/chromedriver\", options=options) as driver:\n"
          ]
        },
        {
          "output_type": "stream",
          "name": "stdout",
          "text": [
            "['1', 'SSG', '8', '7', '1', '0', '0.875', '0', '7승0무2패', '6승', '2-0-1', '5-0-1']\n",
            "['2', 'LG', '10', '7', '3', '0', '0.700', '1', '7승0무3패', '1승', '3-0-0', '4-0-4']\n",
            "['2', 'NC', '10', '7', '3', '0', '0.700', '1', '6승0무4패', '5승', '5-0-1', '2-0-3']\n",
            "['4', '두산', '9', '6', '3', '0', '0.667', '1.5', '6승0무4패', '2승', '4-0-3', '2-0-1']\n",
            "['5', 'KT', '7', '3', '4', '0', '0.429', '3.5', '4승0무4패', '3패', '1-0-1', '3-0-3']\n",
            "['5', 'KIA', '7', '3', '4', '0', '0.429', '3.5', '3승0무5패', '1승', '2-0-4', '1-0-1']\n",
            "['7', '롯데', '8', '3', '5', '0', '0.375', '4', '4승0무5패', '1패', '3-0-3', '1-0-2']\n",
            "['8', '키움', '9', '3', '6', '0', '0.333', '4.5', '4승0무6패', '5패', '3-0-2', '1-0-4']\n",
            "['9', '삼성', '9', '2', '7', '0', '0.222', '5.5', '3승0무7패', '6패', '3-0-4', '0-0-3']\n",
            "['9', '한화', '9', '2', '7', '0', '0.222', '5.5', '3승0무7패', '1패', '0-0-3', '3-0-4']\n"
          ]
        }
      ]
    },
    {
      "cell_type": "code",
      "source": [
        "from selenium.webdriver.common import keys\n",
        "# 검색\n",
        "with webdriver.Chrome(\"/usr/bin/chromedriver\", options=options) as driver:  \n",
        "  # 1. 사이트오픈\n",
        "  driver.get('https://www.koreabaseball.com/Default.aspx')   \n",
        "  driver.find_element(By.ID,'popupVideo').click()\n",
        "  time.sleep(1)\n",
        "  search_button = driver.find_element(By.ID,'txtTopPlayerWord')  \n",
        "  search_button.send_keys('추신수')\n",
        "  search_button.send_keys(keys.Keys.RETURN)  # 엔터\n",
        "  # search_button.submit()  #검색버튼 클릭  \n",
        "  time.sleep(1)\n",
        "\n",
        "  # 2. 오픈된 사이트를 크롤링\n",
        "  html = driver.page_source\n",
        "  soup = BeautifulSoup(html, 'html.parser')    \n",
        "  tr_list = soup.select('#contents > div.sub-content > div.player_records > div:nth-child(6) > table > tbody > tr')\n",
        "  print(tr_list)\n",
        "  for tr in tr_list:\n",
        "    print([td.text for td in tr.find_all('td')])  \n",
        "  "
      ],
      "metadata": {
        "colab": {
          "base_uri": "https://localhost:8080/"
        },
        "id": "VpsqAUN5rqO8",
        "outputId": "e698f51a-6479-4925-b2ba-6983c28a15e5"
      },
      "execution_count": 77,
      "outputs": [
        {
          "output_type": "stream",
          "name": "stderr",
          "text": [
            "<ipython-input-77-32a1eea70220>:3: DeprecationWarning: executable_path has been deprecated, please pass in a Service object\n",
            "  with webdriver.Chrome(\"/usr/bin/chromedriver\", options=options) as driver:\n"
          ]
        },
        {
          "output_type": "stream",
          "name": "stdout",
          "text": [
            "[<tr>\n",
            "<td>04.13</td>\n",
            "<td>삼성</td>\n",
            "<td>0.500</td>\n",
            "<td>2</td>\n",
            "<td>2</td>\n",
            "<td>0</td>\n",
            "<td>1</td>\n",
            "<td>0</td>\n",
            "<td>0</td>\n",
            "<td>0</td>\n",
            "<td>0</td>\n",
            "<td>0</td>\n",
            "<td>0</td>\n",
            "<td>0</td>\n",
            "<td>0</td>\n",
            "<td>0</td>\n",
            "<td>0</td>\n",
            "</tr>, <tr>\n",
            "<td>04.12</td>\n",
            "<td>삼성</td>\n",
            "<td>0.000</td>\n",
            "<td>5</td>\n",
            "<td>5</td>\n",
            "<td>0</td>\n",
            "<td>0</td>\n",
            "<td>0</td>\n",
            "<td>0</td>\n",
            "<td>0</td>\n",
            "<td>0</td>\n",
            "<td>0</td>\n",
            "<td>0</td>\n",
            "<td>0</td>\n",
            "<td>0</td>\n",
            "<td>2</td>\n",
            "<td>0</td>\n",
            "</tr>, <tr>\n",
            "<td>04.11</td>\n",
            "<td>삼성</td>\n",
            "<td>0.500</td>\n",
            "<td>5</td>\n",
            "<td>4</td>\n",
            "<td>2</td>\n",
            "<td>2</td>\n",
            "<td>0</td>\n",
            "<td>0</td>\n",
            "<td>1</td>\n",
            "<td>1</td>\n",
            "<td>0</td>\n",
            "<td>0</td>\n",
            "<td>0</td>\n",
            "<td>1</td>\n",
            "<td>0</td>\n",
            "<td>0</td>\n",
            "</tr>, <tr>\n",
            "<td>04.09</td>\n",
            "<td>한화</td>\n",
            "<td>0.000</td>\n",
            "<td>4</td>\n",
            "<td>4</td>\n",
            "<td>0</td>\n",
            "<td>0</td>\n",
            "<td>0</td>\n",
            "<td>0</td>\n",
            "<td>0</td>\n",
            "<td>0</td>\n",
            "<td>0</td>\n",
            "<td>0</td>\n",
            "<td>0</td>\n",
            "<td>0</td>\n",
            "<td>1</td>\n",
            "<td>0</td>\n",
            "</tr>, <tr>\n",
            "<td>04.08</td>\n",
            "<td>한화</td>\n",
            "<td>0.667</td>\n",
            "<td>6</td>\n",
            "<td>3</td>\n",
            "<td>1</td>\n",
            "<td>2</td>\n",
            "<td>0</td>\n",
            "<td>0</td>\n",
            "<td>0</td>\n",
            "<td>0</td>\n",
            "<td>0</td>\n",
            "<td>0</td>\n",
            "<td>3</td>\n",
            "<td>0</td>\n",
            "<td>0</td>\n",
            "<td>0</td>\n",
            "</tr>, <tr>\n",
            "<td>04.07</td>\n",
            "<td>한화</td>\n",
            "<td>0.000</td>\n",
            "<td>6</td>\n",
            "<td>5</td>\n",
            "<td>0</td>\n",
            "<td>0</td>\n",
            "<td>0</td>\n",
            "<td>0</td>\n",
            "<td>0</td>\n",
            "<td>0</td>\n",
            "<td>1</td>\n",
            "<td>0</td>\n",
            "<td>1</td>\n",
            "<td>0</td>\n",
            "<td>1</td>\n",
            "<td>0</td>\n",
            "</tr>, <tr>\n",
            "<td>04.04</td>\n",
            "<td>롯데</td>\n",
            "<td>0.000</td>\n",
            "<td>4</td>\n",
            "<td>2</td>\n",
            "<td>1</td>\n",
            "<td>0</td>\n",
            "<td>0</td>\n",
            "<td>0</td>\n",
            "<td>0</td>\n",
            "<td>0</td>\n",
            "<td>0</td>\n",
            "<td>0</td>\n",
            "<td>1</td>\n",
            "<td>1</td>\n",
            "<td>1</td>\n",
            "<td>0</td>\n",
            "</tr>, <tr>\n",
            "<td>04.02</td>\n",
            "<td>KIA</td>\n",
            "<td>0.000</td>\n",
            "<td>5</td>\n",
            "<td>2</td>\n",
            "<td>0</td>\n",
            "<td>0</td>\n",
            "<td>0</td>\n",
            "<td>0</td>\n",
            "<td>0</td>\n",
            "<td>0</td>\n",
            "<td>0</td>\n",
            "<td>0</td>\n",
            "<td>3</td>\n",
            "<td>0</td>\n",
            "<td>0</td>\n",
            "<td>0</td>\n",
            "</tr>, <tr>\n",
            "<td>04.01</td>\n",
            "<td>KIA</td>\n",
            "<td>0.500</td>\n",
            "<td>4</td>\n",
            "<td>2</td>\n",
            "<td>1</td>\n",
            "<td>1</td>\n",
            "<td>0</td>\n",
            "<td>0</td>\n",
            "<td>1</td>\n",
            "<td>1</td>\n",
            "<td>0</td>\n",
            "<td>0</td>\n",
            "<td>2</td>\n",
            "<td>0</td>\n",
            "<td>0</td>\n",
            "<td>0</td>\n",
            "</tr>]\n",
            "['04.13', '삼성', '0.500', '2', '2', '0', '1', '0', '0', '0', '0', '0', '0', '0', '0', '0', '0']\n",
            "['04.12', '삼성', '0.000', '5', '5', '0', '0', '0', '0', '0', '0', '0', '0', '0', '0', '2', '0']\n",
            "['04.11', '삼성', '0.500', '5', '4', '2', '2', '0', '0', '1', '1', '0', '0', '0', '1', '0', '0']\n",
            "['04.09', '한화', '0.000', '4', '4', '0', '0', '0', '0', '0', '0', '0', '0', '0', '0', '1', '0']\n",
            "['04.08', '한화', '0.667', '6', '3', '1', '2', '0', '0', '0', '0', '0', '0', '3', '0', '0', '0']\n",
            "['04.07', '한화', '0.000', '6', '5', '0', '0', '0', '0', '0', '0', '1', '0', '1', '0', '1', '0']\n",
            "['04.04', '롯데', '0.000', '4', '2', '1', '0', '0', '0', '0', '0', '0', '0', '1', '1', '1', '0']\n",
            "['04.02', 'KIA', '0.000', '5', '2', '0', '0', '0', '0', '0', '0', '0', '0', '3', '0', '0', '0']\n",
            "['04.01', 'KIA', '0.500', '4', '2', '1', '1', '0', '0', '1', '1', '0', '0', '2', '0', '0', '0']\n"
          ]
        }
      ]
    },
    {
      "cell_type": "markdown",
      "source": [],
      "metadata": {
        "id": "4HjHMVQhpqll"
      }
    },
    {
      "cell_type": "code",
      "source": [
        "# # 사용후 종료\n",
        "driver.quit()"
      ],
      "metadata": {
        "colab": {
          "base_uri": "https://localhost:8080/"
        },
        "id": "L2z5fnC8gne3",
        "outputId": "8f32dbec-0605-469f-ca73-446bd86f6607"
      },
      "execution_count": 60,
      "outputs": [
        {
          "output_type": "stream",
          "name": "stderr",
          "text": [
            "WARNING:urllib3.connectionpool:Retrying (Retry(total=2, connect=None, read=None, redirect=None, status=None)) after connection broken by 'NewConnectionError('<urllib3.connection.HTTPConnection object at 0x7f49bd35f370>: Failed to establish a new connection: [Errno 111] Connection refused')': /session/a04ee948f8e5aa5b80d98e136de47fc2\n",
            "WARNING:urllib3.connectionpool:Retrying (Retry(total=1, connect=None, read=None, redirect=None, status=None)) after connection broken by 'NewConnectionError('<urllib3.connection.HTTPConnection object at 0x7f49aa266b20>: Failed to establish a new connection: [Errno 111] Connection refused')': /session/a04ee948f8e5aa5b80d98e136de47fc2\n",
            "WARNING:urllib3.connectionpool:Retrying (Retry(total=0, connect=None, read=None, redirect=None, status=None)) after connection broken by 'NewConnectionError('<urllib3.connection.HTTPConnection object at 0x7f49aa2668b0>: Failed to establish a new connection: [Errno 111] Connection refused')': /session/a04ee948f8e5aa5b80d98e136de47fc2\n"
          ]
        }
      ]
    },
    {
      "cell_type": "code",
      "source": [],
      "metadata": {
        "id": "MdYFIpNYSSiZ"
      },
      "execution_count": null,
      "outputs": []
    }
  ]
}