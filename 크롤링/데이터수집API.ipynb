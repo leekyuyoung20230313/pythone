{
  "nbformat": 4,
  "nbformat_minor": 0,
  "metadata": {
    "colab": {
      "provenance": []
    },
    "kernelspec": {
      "name": "python3",
      "display_name": "Python 3"
    },
    "language_info": {
      "name": "python"
    }
  },
  "cells": [
    {
      "cell_type": "code",
      "execution_count": 4,
      "metadata": {
        "id": "tTpJBKSl38SJ"
      },
      "outputs": [],
      "source": [
        "client_id = 'LcBmKREHsLEFmoBkh1oC'\n",
        "client_secret =  'hMjvGHFhkb'\n",
        "url = 'https://openapi.naver.com/v1/search/news.xml'"
      ]
    },
    {
      "cell_type": "code",
      "source": [
        "# 네이버 검색 API 예제 - 블로그 검색\n",
        "import os\n",
        "import sys\n",
        "import urllib.request\n",
        "# client_id = \"LcBmKREHsLEFmoBkh1oC\"\n",
        "# client_secret = \"hMjvGHFhkb\"\n",
        "# encText = urllib.parse.quote(\"강남\")\n",
        "# url_ = \"https://openapi.naver.com/v1/search/news\"\n",
        "# display = 100  # 최대 100\n",
        "# start = 1      # 최대 1000\n",
        "# sort = 'sim'   # date, sim\n",
        "# for start in range(1,10):    \n",
        "#   url = f\"{url_}?query={encText}&display={display}&start={start}&sort={sort}\"\n",
        "#   # url = \"https://openapi.naver.com/v1/search/news?query=\" + encText+\"&display=100\" # JSON 결과\n",
        "#   # url = \"https://openapi.naver.com/v1/search/blog.xml?query=\" + encText # XML 결과  \n",
        "#   request = urllib.request.Request(url)\n",
        "#   request.add_header(\"X-Naver-Client-Id\",client_id)\n",
        "#   request.add_header(\"X-Naver-Client-Secret\",client_secret)\n",
        "#   with urllib.request.urlopen(request) as response:\n",
        "#     rescode = response.getcode()\n",
        "#     if(rescode==200):\n",
        "#         response_body = response.read()\n",
        "#         # print(response_body.decode('utf-8'))\n",
        "#     else:\n",
        "#         print(\"Error Code:\" + rescode)"
      ],
      "metadata": {
        "id": "5QIYFbL29_K6"
      },
      "execution_count": 5,
      "outputs": []
    },
    {
      "cell_type": "code",
      "source": [
        "# import json\n",
        "# datas = json.loads(response_body.decode('utf-8'))\n",
        "# datas['items']\n",
        "# # len(datas['items'])"
      ],
      "metadata": {
        "id": "TGKWSJmbAlph"
      },
      "execution_count": 6,
      "outputs": []
    },
    {
      "cell_type": "code",
      "source": [
        "#  네이버 뉴스 api 크롤링\n",
        "# 뉴스 기사를 크롤링해서 리스트로 저장\n",
        "# 위의 코드를 함수형태로 만들어서.. 사용자로부터 검색어를 입력받아서 수행\n",
        "# 위의 코드는 한페이지에 100건 을 출력하는 프로그램이고 이걸 수정해서 1 페이지부너 1000페이지까지 각 페이지당 100건씩 수집\n",
        "# 정렬은 기본과 sim 두가지 다 사용가능 하도록 함수화 ...\n",
        "# 이렇게 수집한 기사(description) 는 일단... 공백을 기준으로 단어화 하고... 단어를 카운팅\n",
        "import string\n",
        "string.punctuation   # !\"#$%&\\'()*+,-./:;<=>?@[\\\\]^_`{|}~\n",
        "# 단어중에 특수기호는 제거하고 수집한다.\n",
        "# 수집한 기사 목록을 판다스로 변경하고 csv 로 저장  item 목록에 있는 4개 항목 을 컬럼으로 해서 저장\n",
        "# 적절한 시각화. (예를들어 단어 와 빈도수)"
      ],
      "metadata": {
        "colab": {
          "base_uri": "https://localhost:8080/",
          "height": 36
        },
        "id": "JdQ-RvP5BDIv",
        "outputId": "249e8410-565d-4c6e-c56e-c025844ceac4"
      },
      "execution_count": 7,
      "outputs": [
        {
          "output_type": "execute_result",
          "data": {
            "text/plain": [
              "'!\"#$%&\\'()*+,-./:;<=>?@[\\\\]^_`{|}~'"
            ],
            "application/vnd.google.colaboratory.intrinsic+json": {
              "type": "string"
            }
          },
          "metadata": {},
          "execution_count": 7
        }
      ]
    },
    {
      "cell_type": "code",
      "source": [
        "# 함수로 다시 표현.....................\n",
        "import json\n",
        "def naverCrawling(encText,kind = 'news',display=100,start=1,sort='sim'):\n",
        "  client_id = \"LcBmKREHsLEFmoBkh1oC\"\n",
        "  client_secret = \"hMjvGHFhkb\"\n",
        "  encText = urllib.parse.quote(encText)\n",
        "  url_ = f\"https://openapi.naver.com/v1/search/{kind}\"      \n",
        "  url = f\"{url_}?query={encText}&display={display}&start={start}&sort={sort}\"  \n",
        "\n",
        "  request = urllib.request.Request(url)\n",
        "  request.add_header(\"X-Naver-Client-Id\",client_id)\n",
        "  request.add_header(\"X-Naver-Client-Secret\",client_secret)\n",
        "  with urllib.request.urlopen(request) as response:\n",
        "    rescode = response.getcode()\n",
        "    if(rescode==200):\n",
        "        response_body = response.read()\n",
        "        datas = json.loads(response_body.decode('utf-8'))\n",
        "        return datas['items']\n",
        "    else:\n",
        "        print(\"Error Code:\" + rescode)"
      ],
      "metadata": {
        "id": "IEfJeqZDqbYS"
      },
      "execution_count": 8,
      "outputs": []
    },
    {
      "cell_type": "code",
      "source": [
        "from tqdm import tqdm\n",
        "encText = input(\"검색어 : \")\n",
        "title_list, originallink_list,link_list, desription_list =[],[],[],[]\n",
        "\n",
        "for start in tqdm(range(1,10)):\n",
        "  for data in naverCrawling(encText):\n",
        "    title_list.append( data['title'])\n",
        "    originallink_list.append(data['originallink'])\n",
        "    link_list.append(data['link'])\n",
        "    desription_list.append(data['description']) \n",
        "    "
      ],
      "metadata": {
        "colab": {
          "base_uri": "https://localhost:8080/"
        },
        "id": "hBwtXTVDsemM",
        "outputId": "cad293e9-3666-4b13-ceb5-34a8a1bfe93a"
      },
      "execution_count": 9,
      "outputs": [
        {
          "name": "stdout",
          "output_type": "stream",
          "text": [
            "검색어 : 인공지능\n"
          ]
        },
        {
          "output_type": "stream",
          "name": "stderr",
          "text": [
            "100%|██████████| 9/9 [00:14<00:00,  1.63s/it]\n"
          ]
        }
      ]
    },
    {
      "cell_type": "code",
      "source": [
        "from functools import reduce\n",
        "# 데이터 프레임 생성\n",
        "import pandas as pd\n",
        "import numpy as np\n",
        "import string \n",
        "puch = string.punctuation\n",
        "df2 = pd.DataFrame({'title':title_list, 'orignal':originallink_list,'link':link_list, 'desc':desription_list})\n",
        "temp = df2['title'].apply(lambda x: x.split())\n",
        "temp = [ i for i in temp.values]\n",
        "temp = reduce(lambda x,y : x+y, temp)  # 단일 리스트 형태로 변경"
      ],
      "metadata": {
        "id": "TcFRSv7YskPL"
      },
      "execution_count": 10,
      "outputs": []
    },
    {
      "cell_type": "code",
      "source": [
        "import re\n",
        "def cleanWorld(word):\n",
        "  # 한글 정규표현식 패턴\n",
        "  hangul = re.compile('[^ ㄱ-ㅣ가-힣]+')\n",
        "  return \"\".join([ hangul.sub('', i) for i in word if i not in puch ])"
      ],
      "metadata": {
        "id": "qPWnvbT0uUQr"
      },
      "execution_count": 11,
      "outputs": []
    },
    {
      "cell_type": "code",
      "source": [
        "from collections import Counter\n",
        "word_list_cnt =  Counter( [ i for i in map(cleanWorld, temp) if len(i) > 1] )\n",
        "# word_list_cnt = dict(word_list_cnt)\n",
        "word_list_cnt = sorted(word_list_cnt.items(), key = lambda x : x[1],reverse=True)"
      ],
      "metadata": {
        "id": "tAoXOu2o0j8a"
      },
      "execution_count": 12,
      "outputs": []
    },
    {
      "cell_type": "code",
      "source": [
        "# top 20 \n",
        "new_world_list = word_list_cnt[1:22]\n",
        "new_world_list"
      ],
      "metadata": {
        "id": "jb3goJ3j4Va1",
        "colab": {
          "base_uri": "https://localhost:8080/"
        },
        "outputId": "e1ddc0da-b01e-48f3-e8a5-9853a1142f7b"
      },
      "execution_count": 13,
      "outputs": [
        {
          "output_type": "execute_result",
          "data": {
            "text/plain": [
              "[('기술', 153),\n",
              " ('개발', 144),\n",
              " ('기반', 99),\n",
              " ('교육자료', 72),\n",
              " ('개발보급', 72),\n",
              " ('미래', 72),\n",
              " ('나선다', 63),\n",
              " ('활용', 54),\n",
              " ('중앙대', 54),\n",
              " ('치매', 54),\n",
              " ('대구동산병원', 54),\n",
              " ('도입', 54),\n",
              " ('대화형', 45),\n",
              " ('진단분류', 45),\n",
              " ('최첨단', 45),\n",
              " ('인공지능기반', 45),\n",
              " ('계명대', 45),\n",
              " ('세종시교육청', 45),\n",
              " ('인재와', 45),\n",
              " ('키움증권', 45),\n",
              " ('영웅전', 45)]"
            ]
          },
          "metadata": {},
          "execution_count": 13
        }
      ]
    },
    {
      "cell_type": "code",
      "source": [
        "# 한글 처리\n",
        "# 코렙 한글\n",
        "!sudo apt-get install -y fonts-nanum\n",
        "!sudo fc-cache -fv\n",
        "!rm ~/.cache/matplotlib -rf\n",
        "\n",
        "import matplotlib.pyplot as plt\n",
        "plt.rc('font', family='NanumBarunGothic')"
      ],
      "metadata": {
        "id": "Bsdz-aFy_GQk"
      },
      "execution_count": null,
      "outputs": []
    },
    {
      "cell_type": "code",
      "source": [
        "# bar 그래프로 시각화\n",
        "import pandas as pd\n",
        "import seaborn as sns\n",
        "import matplotlib.pyplot as plt\n",
        "plt.figure(figsize=(15,5))\n",
        "pd.DataFrame(new_world_list)\n",
        "sns.barplot(data= pd.DataFrame(new_world_list), x= 0, y=1) "
      ],
      "metadata": {
        "id": "Y35riLPV4bkb",
        "colab": {
          "base_uri": "https://localhost:8080/",
          "height": 507
        },
        "outputId": "2a1c7c65-cf47-4070-a8db-c6b4ec463158"
      },
      "execution_count": 16,
      "outputs": [
        {
          "output_type": "execute_result",
          "data": {
            "text/plain": [
              "<Axes: xlabel='0', ylabel='1'>"
            ]
          },
          "metadata": {},
          "execution_count": 16
        },
        {
          "output_type": "display_data",
          "data": {
            "text/plain": [
              "<Figure size 1500x500 with 1 Axes>"
            ],
            "image/png": "[encoded data removed]"
          },
          "metadata": {}
        }
      ]
    },
    {
      "cell_type": "code",
      "source": [],
      "metadata": {
        "id": "uV1M-F4KAHfj"
      },
      "execution_count": 15,
      "outputs": []
    }
  ]
}