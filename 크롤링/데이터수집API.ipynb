{
  "nbformat": 4,
  "nbformat_minor": 0,
  "metadata": {
    "colab": {
      "provenance": []
    },
    "kernelspec": {
      "name": "python3",
      "display_name": "Python 3"
    },
    "language_info": {
      "name": "python"
    }
  },
  "cells": [
    {
      "cell_type": "code",
      "execution_count": null,
      "metadata": {
        "id": "tTpJBKSl38SJ"
      },
      "outputs": [],
      "source": [
        "client_id = 'LcBmKREHsLEFmoBkh1oC'\n",
        "client_secret =  'hMjvGHFhkb'\n",
        "url = 'https://openapi.naver.com/v1/search/news.xml'"
      ]
    },
    {
      "cell_type": "code",
      "source": [
        "# 네이버 검색 API 예제 - 블로그 검색\n",
        "import os\n",
        "import sys\n",
        "import urllib.request\n",
        "client_id = \"LcBmKREHsLEFmoBkh1oC\"\n",
        "client_secret = \"hMjvGHFhkb\"\n",
        "encText = urllib.parse.quote(\"강남\")\n",
        "url = \"https://openapi.naver.com/v1/search/news\"\n",
        "display = 100\n",
        "start = 1\n",
        "sort = 'sim'\n",
        "url = f\"{url}?query={encText}&display={display}&start={start}&sort={sort}\"\n",
        "# url = \"https://openapi.naver.com/v1/search/news?query=\" + encText+\"&display=100\" # JSON 결과\n",
        "# url = \"https://openapi.naver.com/v1/search/blog.xml?query=\" + encText # XML 결과\n",
        "request = urllib.request.Request(url)\n",
        "request.add_header(\"X-Naver-Client-Id\",client_id)\n",
        "request.add_header(\"X-Naver-Client-Secret\",client_secret)\n",
        "response = urllib.request.urlopen(request)\n",
        "rescode = response.getcode()\n",
        "if(rescode==200):\n",
        "    response_body = response.read()\n",
        "    print(response_body.decode('utf-8'))\n",
        "else:\n",
        "    print(\"Error Code:\" + rescode)"
      ],
      "metadata": {
        "id": "5QIYFbL29_K6"
      },
      "execution_count": null,
      "outputs": []
    },
    {
      "cell_type": "code",
      "source": [
        "import json\n",
        "datas = json.loads(response_body.decode('utf-8'))\n",
        "datas['items']"
      ],
      "metadata": {
        "id": "TGKWSJmbAlph"
      },
      "execution_count": null,
      "outputs": []
    },
    {
      "cell_type": "code",
      "source": [
        "#  네이버 뉴스 api 크롤링\n",
        "# 뉴스 기사를 크롤링해서 리스트로 저장\n",
        "# 위의 코드를 함수형태로 만들어서.. 사용자로부터 검색어를 입력받아서 수행\n",
        "# 위의 코드는 한페이지에 100건 을 출력하는 프로그램이고 이걸 수정해서 1 페이지부너 1000페이지까지 각 페이지당 100건씩 수집\n",
        "# 정렬은 기본과 sim 두가지 다 사용가능 하도록 함수화 ...\n",
        "# 이렇게 수집한 기사는 일단... 공백을 기준으로 단어화 하고... 해당 단어를 카운팅\n",
        "import string\n",
        "string.punctuation   # !\"#$%&\\'()*+,-./:;<=>?@[\\\\]^_`{|}~\n",
        "# 단어중에 특수기호는 제거하고 수집한다.\n",
        "# 수집한 기사 목록을 판다스로 변경하고 csv 로 저장"
      ],
      "metadata": {
        "colab": {
          "base_uri": "https://localhost:8080/",
          "height": 35
        },
        "id": "JdQ-RvP5BDIv",
        "outputId": "50c18b25-9b6d-477f-ca13-be61e86b898a"
      },
      "execution_count": 23,
      "outputs": [
        {
          "output_type": "execute_result",
          "data": {
            "text/plain": [
              "'!\"#$%&\\'()*+,-./:;<=>?@[\\\\]^_`{|}~'"
            ],
            "application/vnd.google.colaboratory.intrinsic+json": {
              "type": "string"
            }
          },
          "metadata": {},
          "execution_count": 23
        }
      ]
    }
  ]
}