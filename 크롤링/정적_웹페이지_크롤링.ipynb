{
  "nbformat": 4,
  "nbformat_minor": 0,
  "metadata": {
    "colab": {
      "provenance": []
    },
    "kernelspec": {
      "name": "python3",
      "display_name": "Python 3"
    },
    "language_info": {
      "name": "python"
    }
  },
  "cells": [
    {
      "cell_type": "code",
      "execution_count": 1,
      "metadata": {
        "id": "aHgQwzR1UHJa"
      },
      "outputs": [],
      "source": [
        "from bs4 import BeautifulSoup\n",
        "import urllib.request"
      ]
    },
    {
      "cell_type": "code",
      "source": [
        "# 결과 저장\n",
        "result = []"
      ],
      "metadata": {
        "id": "k2UTa7MmUTy2"
      },
      "execution_count": 2,
      "outputs": []
    },
    {
      "cell_type": "code",
      "source": [
        "url = 'https://www.hollys.co.kr/store/korea/korStore2.do?pageNo=1'\n",
        "html = urllib.request.urlopen(url)\n",
        "# print(html)\n",
        "soup = BeautifulSoup(html,'html.parser')\n",
        "# print(store_html)\n",
        "#contents > div.content > fieldset > fieldset > div.tableType01 > table > tbody\n",
        "tag_all_tr = soup.select(\"div.tableType01 > table > tbody\")[0].find_all('tr')\n",
        "tag_td_all = tag_all_tr[0].find_all('td')\n",
        "for i in tag_td_all:\n",
        "  print(i.string)\n"
      ],
      "metadata": {
        "colab": {
          "base_uri": "https://localhost:8080/"
        },
        "id": "IcZR1LVaUWD9",
        "outputId": "094f1938-08b1-471a-a6f8-7b53eab8fd02"
      },
      "execution_count": 17,
      "outputs": [
        {
          "output_type": "stream",
          "name": "stdout",
          "text": [
            "서울 광진구\n",
            "강변역점\n",
            "영업중\n",
            "서울 광진구 구의강변로 64, 구의아크로리버 1층 구의동 589-10\n",
            "\n",
            "\n",
            "070-7802-0303\n"
          ]
        }
      ]
    },
    {
      "cell_type": "code",
      "source": [],
      "metadata": {
        "id": "kpZd55KNVvZm"
      },
      "execution_count": null,
      "outputs": []
    }
  ]
}