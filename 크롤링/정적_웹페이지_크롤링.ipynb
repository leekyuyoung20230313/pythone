{
  "nbformat": 4,
  "nbformat_minor": 0,
  "metadata": {
    "colab": {
      "provenance": []
    },
    "kernelspec": {
      "name": "python3",
      "display_name": "Python 3"
    },
    "language_info": {
      "name": "python"
    }
  },
  "cells": [
    {
      "cell_type": "code",
      "execution_count": 2,
      "metadata": {
        "id": "yfT7VBzRB7P5"
      },
      "outputs": [],
      "source": [
        "# 웹페이지 소스미리보기  크롬브라우져의 F12 동일한 내용이라고가정\n",
        "html = '''<h1 id=\"title\">정적웹페이지크롤링</h1><div class=\"top\"><ul\n",
        "class=\"menu\"><li><a href=https://github.com/leekyuyoung20230313/pythone\n",
        "class=\"login\">소스주소 </a></li></ul><ul class=\"brand\"><li><a href=\"https://github.com/leekyuyoung20230313/pythone/tree/main/%ED%81%AC%EB%A1%A4%EB%A7%81>\n",
        "크롤링<li><a href=\"https://github.com/leekyuyoung20230313\">깃허브주소</a></li></ul></div>'''"
      ]
    },
    {
      "cell_type": "code",
      "source": [
        "!pip install beautifulsoup4"
      ],
      "metadata": {
        "colab": {
          "base_uri": "https://localhost:8080/"
        },
        "id": "q9jCK4Q-DMLk",
        "outputId": "12025c57-e789-4275-e1b6-041527247ae0"
      },
      "execution_count": 4,
      "outputs": [
        {
          "output_type": "stream",
          "name": "stdout",
          "text": [
            "Looking in indexes: https://pypi.org/simple, https://us-python.pkg.dev/colab-wheels/public/simple/\n",
            "Requirement already satisfied: beautifulsoup4 in /usr/local/lib/python3.9/dist-packages (4.11.2)\n",
            "Requirement already satisfied: soupsieve>1.2 in /usr/local/lib/python3.9/dist-packages (from beautifulsoup4) (2.4)\n"
          ]
        }
      ]
    },
    {
      "cell_type": "code",
      "source": [
        "from bs4 import BeautifulSoup"
      ],
      "metadata": {
        "id": "hkxDKGZkDb68"
      },
      "execution_count": 6,
      "outputs": []
    },
    {
      "cell_type": "code",
      "source": [
        "soup =  BeautifulSoup(html, 'html.parser')"
      ],
      "metadata": {
        "id": "NLgMIUsfDlzc"
      },
      "execution_count": 7,
      "outputs": []
    },
    {
      "cell_type": "code",
      "source": [
        "print( soup.prettify() )"
      ],
      "metadata": {
        "colab": {
          "base_uri": "https://localhost:8080/"
        },
        "id": "eMgAfIIqEJAt",
        "outputId": "308f2319-8ac0-40f9-d690-c4cca4f64a50"
      },
      "execution_count": 8,
      "outputs": [
        {
          "output_type": "stream",
          "name": "stdout",
          "text": [
            "<h1 id=\"title\">\n",
            " 정적웹페이지크롤링\n",
            "</h1>\n",
            "<div class=\"top\">\n",
            " <ul class=\"menu\">\n",
            "  <li>\n",
            "   <a class=\"login\" href=\"https://github.com/leekyuyoung20230313/pythone\">\n",
            "    소스주소\n",
            "   </a>\n",
            "  </li>\n",
            " </ul>\n",
            " <ul class=\"brand\">\n",
            "  <li>\n",
            "   <a github.com=\"\" href=\"https://github.com/leekyuyoung20230313/pythone/tree/main/%ED%81%AC%EB%A1%A4%EB%A7%81&gt;\n",
            "크롤링&lt;li&gt;&lt;a href=\" https:=\"\" leekyuyoung20230313\"=\"\">\n",
            "    깃허브주소\n",
            "   </a>\n",
            "  </li>\n",
            " </ul>\n",
            "</div>\n"
          ]
        }
      ]
    },
    {
      "cell_type": "code",
      "source": [
        "tag_h1 = soup.h1\n",
        "tag_h1"
      ],
      "metadata": {
        "colab": {
          "base_uri": "https://localhost:8080/"
        },
        "id": "gs0tiRQmEw71",
        "outputId": "e1eeb967-8c6c-4727-eb1a-4fa333066412"
      },
      "execution_count": 10,
      "outputs": [
        {
          "output_type": "execute_result",
          "data": {
            "text/plain": [
              "<h1 id=\"title\">정적웹페이지크롤링</h1>"
            ]
          },
          "metadata": {},
          "execution_count": 10
        }
      ]
    },
    {
      "cell_type": "code",
      "source": [
        "tag_div = soup.div\n",
        "tag_div"
      ],
      "metadata": {
        "colab": {
          "base_uri": "https://localhost:8080/"
        },
        "id": "wGaUhcG1E7jb",
        "outputId": "6d38fad5-86d9-47b3-9972-a7feb17af708"
      },
      "execution_count": 11,
      "outputs": [
        {
          "output_type": "execute_result",
          "data": {
            "text/plain": [
              "<div class=\"top\"><ul class=\"menu\"><li><a class=\"login\" href=\"https://github.com/leekyuyoung20230313/pythone\">소스주소 </a></li></ul><ul class=\"brand\"><li><a github.com=\"\" href=\"https://github.com/leekyuyoung20230313/pythone/tree/main/%ED%81%AC%EB%A1%A4%EB%A7%81&gt;\n",
              "크롤링&lt;li&gt;&lt;a href=\" https:=\"\" leekyuyoung20230313\"=\"\">깃허브주소</a></li></ul></div>"
            ]
          },
          "metadata": {},
          "execution_count": 11
        }
      ]
    },
    {
      "cell_type": "code",
      "source": [
        "tag_ul = soup.ul\n",
        "tag_ul"
      ],
      "metadata": {
        "colab": {
          "base_uri": "https://localhost:8080/"
        },
        "id": "zfzfisTaFBrM",
        "outputId": "53483c94-a259-45ea-9aaf-b4bd4b76d876"
      },
      "execution_count": 13,
      "outputs": [
        {
          "output_type": "execute_result",
          "data": {
            "text/plain": [
              "<ul class=\"menu\"><li><a class=\"login\" href=\"https://github.com/leekyuyoung20230313/pythone\">소스주소 </a></li></ul>"
            ]
          },
          "metadata": {},
          "execution_count": 13
        }
      ]
    },
    {
      "cell_type": "code",
      "source": [
        "tag_li = soup.li\n",
        "tag_li"
      ],
      "metadata": {
        "colab": {
          "base_uri": "https://localhost:8080/"
        },
        "id": "wmaWvvi3FcAc",
        "outputId": "33415a34-1db8-47aa-90a4-c678a635aa59"
      },
      "execution_count": 14,
      "outputs": [
        {
          "output_type": "execute_result",
          "data": {
            "text/plain": [
              "<li><a class=\"login\" href=\"https://github.com/leekyuyoung20230313/pythone\">소스주소 </a></li>"
            ]
          },
          "metadata": {},
          "execution_count": 14
        }
      ]
    },
    {
      "cell_type": "code",
      "source": [
        "tag_a = soup.a\n",
        "tag_a"
      ],
      "metadata": {
        "colab": {
          "base_uri": "https://localhost:8080/"
        },
        "id": "AQSEgVf9FeLM",
        "outputId": "4ad232d9-9f76-451c-de23-69d9de85d2a1"
      },
      "execution_count": 15,
      "outputs": [
        {
          "output_type": "execute_result",
          "data": {
            "text/plain": [
              "<a class=\"login\" href=\"https://github.com/leekyuyoung20230313/pythone\">소스주소 </a>"
            ]
          },
          "metadata": {},
          "execution_count": 15
        }
      ]
    },
    {
      "cell_type": "code",
      "source": [
        "tag_ul_all = soup.find_all('ul')\n",
        "tag_ul_all"
      ],
      "metadata": {
        "colab": {
          "base_uri": "https://localhost:8080/"
        },
        "id": "wa942dnHFkkj",
        "outputId": "eed1fb8d-4fa9-4ca4-c8e2-ae86b5afb615"
      },
      "execution_count": 17,
      "outputs": [
        {
          "output_type": "execute_result",
          "data": {
            "text/plain": [
              "[<ul class=\"menu\"><li><a class=\"login\" href=\"https://github.com/leekyuyoung20230313/pythone\">소스주소 </a></li></ul>,\n",
              " <ul class=\"brand\"><li><a github.com=\"\" href=\"https://github.com/leekyuyoung20230313/pythone/tree/main/%ED%81%AC%EB%A1%A4%EB%A7%81&gt;\n",
              " 크롤링&lt;li&gt;&lt;a href=\" https:=\"\" leekyuyoung20230313\"=\"\">깃허브주소</a></li></ul>]"
            ]
          },
          "metadata": {},
          "execution_count": 17
        }
      ]
    },
    {
      "cell_type": "code",
      "source": [
        "# li 태그 다 가져오기, a 태그 다 가져오기"
      ],
      "metadata": {
        "id": "9ah90zTlF1Yc"
      },
      "execution_count": 18,
      "outputs": []
    },
    {
      "cell_type": "code",
      "source": [
        "# dictionary 구조로 가져온다.\n",
        "tag_a.attrs['href']"
      ],
      "metadata": {
        "colab": {
          "base_uri": "https://localhost:8080/",
          "height": 35
        },
        "id": "ZVOMfTmUF6zN",
        "outputId": "75da69f1-3912-4e8d-8cbf-89da1a12d712"
      },
      "execution_count": 22,
      "outputs": [
        {
          "output_type": "execute_result",
          "data": {
            "text/plain": [
              "'https://github.com/leekyuyoung20230313/pythone'"
            ],
            "application/vnd.google.colaboratory.intrinsic+json": {
              "type": "string"
            }
          },
          "metadata": {},
          "execution_count": 22
        }
      ]
    },
    {
      "cell_type": "code",
      "source": [
        "tag_ul_2 = soup.find('ul',attrs = {'class':'brand'})\n",
        "tag_ul_2"
      ],
      "metadata": {
        "colab": {
          "base_uri": "https://localhost:8080/"
        },
        "id": "egrtB229HI8j",
        "outputId": "aa93012e-ed11-4e1a-cf22-4fce4508dc84"
      },
      "execution_count": 32,
      "outputs": [
        {
          "output_type": "execute_result",
          "data": {
            "text/plain": [
              "<ul class=\"brand\"><li><a github.com=\"\" href=\"https://github.com/leekyuyoung20230313/pythone/tree/main/%ED%81%AC%EB%A1%A4%EB%A7%81&gt;\n",
              "크롤링&lt;li&gt;&lt;a href=\" https:=\"\" leekyuyoung20230313\"=\"\">깃허브주소</a></li></ul>"
            ]
          },
          "metadata": {},
          "execution_count": 32
        }
      ]
    },
    {
      "cell_type": "code",
      "source": [
        "title = soup.find(id='title')\n",
        "title"
      ],
      "metadata": {
        "colab": {
          "base_uri": "https://localhost:8080/"
        },
        "id": "pinFlu5iHw9D",
        "outputId": "be88b89c-aeb7-49e1-f47d-cc416a9caf1b"
      },
      "execution_count": 34,
      "outputs": [
        {
          "output_type": "execute_result",
          "data": {
            "text/plain": [
              "<h1 id=\"title\">정적웹페이지크롤링</h1>"
            ]
          },
          "metadata": {},
          "execution_count": 34
        }
      ]
    },
    {
      "cell_type": "code",
      "source": [
        "title.string"
      ],
      "metadata": {
        "colab": {
          "base_uri": "https://localhost:8080/",
          "height": 35
        },
        "id": "cXuOeN5lILxM",
        "outputId": "b7c895e6-3371-402f-88f1-594a79d70604"
      },
      "execution_count": 37,
      "outputs": [
        {
          "output_type": "execute_result",
          "data": {
            "text/plain": [
              "'정적웹페이지크롤링'"
            ],
            "application/vnd.google.colaboratory.intrinsic+json": {
              "type": "string"
            }
          },
          "metadata": {},
          "execution_count": 37
        }
      ]
    },
    {
      "cell_type": "code",
      "source": [
        "li_list = soup.select(\"div>ul.brand>li\")\n",
        "li_list"
      ],
      "metadata": {
        "colab": {
          "base_uri": "https://localhost:8080/"
        },
        "id": "ZPmsoKbYIhE0",
        "outputId": "4c802a82-ca94-47cf-981e-e3526327f49b"
      },
      "execution_count": 38,
      "outputs": [
        {
          "output_type": "execute_result",
          "data": {
            "text/plain": [
              "[<li><a github.com=\"\" href=\"https://github.com/leekyuyoung20230313/pythone/tree/main/%ED%81%AC%EB%A1%A4%EB%A7%81&gt;\n",
              " 크롤링&lt;li&gt;&lt;a href=\" https:=\"\" leekyuyoung20230313\"=\"\">깃허브주소</a></li>]"
            ]
          },
          "metadata": {},
          "execution_count": 38
        }
      ]
    },
    {
      "cell_type": "code",
      "source": [
        "li_list[0].string"
      ],
      "metadata": {
        "colab": {
          "base_uri": "https://localhost:8080/",
          "height": 35
        },
        "id": "XXG-6FsUI60c",
        "outputId": "cde4c676-9847-44c8-ce3e-080a7807e6fb"
      },
      "execution_count": 40,
      "outputs": [
        {
          "output_type": "execute_result",
          "data": {
            "text/plain": [
              "'깃허브주소'"
            ],
            "application/vnd.google.colaboratory.intrinsic+json": {
              "type": "string"
            }
          },
          "metadata": {},
          "execution_count": 40
        }
      ]
    }
  ]
}