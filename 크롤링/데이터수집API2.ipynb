{
  "nbformat": 4,
  "nbformat_minor": 0,
  "metadata": {
    "colab": {
      "provenance": []
    },
    "kernelspec": {
      "name": "python3",
      "display_name": "Python 3"
    },
    "language_info": {
      "name": "python"
    }
  },
  "cells": [
    {
      "cell_type": "code",
      "execution_count": 23,
      "metadata": {
        "colab": {
          "base_uri": "https://localhost:8080/"
        },
        "id": "-4kJpvyJBMZF",
        "outputId": "1425d987-e63c-45e3-ed1e-3288cdf6bdae"
      },
      "outputs": [
        {
          "output_type": "execute_result",
          "data": {
            "text/plain": [
              "<Response [200]>"
            ]
          },
          "metadata": {},
          "execution_count": 23
        }
      ],
      "source": [
        "import requests\n",
        "\n",
        "url = 'http://openapi.tour.go.kr/openapi/service/EdrcntTourismStatsService/getEdrcntTourismStatsList'\n",
        "params ={'serviceKey' : 'IPkrrHQzICLKgbcQ+aMxHbop/Lki8HoLbmZFNJNrt7vLCi9hIg4cSl9DBEPGS6Lo4Po/w+jczbfC9U5ZYxXxQA==', \n",
        "         'YM' : '201201',\n",
        "         'NAT_CD' : '100',\n",
        "         'ED_CD' : 'D'\n",
        "         }\n",
        "# TEST_SERVICE_KEY = 'IPkrrHQzICLKgbcQ%2BaMxHbop%2FLki8HoLbmZFNJNrt7vLCi9hIg4cSl9DBEPGS6Lo4Po%2Fw%2BjczbfC9U5ZYxXxQA%3D%3D'\n",
        "# url = 'http://openapi.tour.go.kr/openapi/service/EdrcntTourismStatsService/getEdrcntTourismStatsList?YM=201201&NAT_CD=100&ED_CD=D&serviceKey='+TEST_SERVICE_KEY\n",
        "response = requests.get(url, params=params)\n",
        "print(response.content)\n",
        "print(response)\n"
      ]
    },
    {
      "cell_type": "code",
      "source": [
        "import urllib.request\n",
        "import json\n",
        "url = 'http://openapi.tour.go.kr/openapi/service/EdrcntTourismStatsService/getEdrcntTourismStatsList'\n",
        "serviceKey='IPkrrHQzICLKgbcQ%2BaMxHbop%2FLki8HoLbmZFNJNrt7vLCi9hIg4cSl9DBEPGS6Lo4Po%2Fw%2BjczbfC9U5ZYxXxQA%3D%3D'\n",
        "YM='201201'\n",
        "NAT_CD='100'\n",
        "ED_CD='D'\n",
        "params = f'?_type=json&serviceKey={serviceKey}&YM={YM}&NAT_CD={NAT_CD}&ED_CD={ED_CD}'\n",
        "url = url+params\n",
        "request = urllib.request.Request(url)\n",
        "with urllib.request.urlopen(request) as response:\n",
        "    rescode = response.getcode()\n",
        "    if(rescode==200):\n",
        "        response_body = response.read()\n",
        "        data = json.loads(response_body.decode('utf-8'))\n",
        "        print(data)\n",
        "    else:\n",
        "        print(\"Error Code:\" + rescode)"
      ],
      "metadata": {
        "colab": {
          "base_uri": "https://localhost:8080/"
        },
        "id": "jqK0kDKzPiJO",
        "outputId": "8e8348b0-ad95-4763-c5d7-c6f30d187baf"
      },
      "execution_count": 36,
      "outputs": [
        {
          "output_type": "stream",
          "name": "stdout",
          "text": [
            "{'response': {'header': {'resultCode': '0000', 'resultMsg': 'OK'}, 'body': {'items': {'item': {'ed': '국민해외관광객', 'edCd': 'D', 'natCd': 100, 'natKorNm': '한  국', 'num': 1200782, 'rnum': 1, 'ym': 201201}}, 'numOfRows': 10, 'pageNo': 1, 'totalCount': 1}}}\n"
          ]
        }
      ]
    },
    {
      "cell_type": "markdown",
      "source": [],
      "metadata": {
        "id": "kNqLlYovRUJ7"
      }
    },
    {
      "cell_type": "code",
      "source": [],
      "metadata": {
        "id": "GyJ5mBZFQXIJ"
      },
      "execution_count": null,
      "outputs": []
    }
  ]
}