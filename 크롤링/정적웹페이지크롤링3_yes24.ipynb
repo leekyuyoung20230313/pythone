{
  "nbformat": 4,
  "nbformat_minor": 0,
  "metadata": {
    "colab": {
      "provenance": []
    },
    "kernelspec": {
      "name": "python3",
      "display_name": "Python 3"
    },
    "language_info": {
      "name": "python"
    }
  },
  "cells": [
    {
      "cell_type": "code",
      "execution_count": null,
      "metadata": {
        "id": "d1QLrshDHWFZ"
      },
      "outputs": [],
      "source": [
        "from bs4 import BeautifulSoup\n",
        "import urllib.request\n",
        "import pandas as pd\n",
        "\n",
        "srchtext = input(\"검색어 : \")\n",
        "srchtext = urllib.parse.quote(srchtext)\n",
        "result = []\n",
        "for pagenum in range(1,2):\n",
        "  url = f'http://www.yes24.com/Product/Search?domain=ALL&query={srchtext}&page={pagenum}'\n",
        "  print(pagenum)\n",
        "  html = urllib.request.urlopen(url)\n",
        "  soup = BeautifulSoup(html,'html.parser')\n",
        "  litag_list = soup.select('#yesSchList > li')\n",
        "  if len(litag_list) == 0: break\n",
        "  \n",
        "  for temp in litag_list:  \n",
        "    try:\n",
        "      auth =  temp.select('div > div.item_info > div.info_row.info_pubGrp > span.authPub.info_auth > a')\n",
        "      auth = ','.join([au.string for au in auth])\n",
        "\n",
        "      title = temp.select('div > div.item_info > div.info_row.info_name > a.gd_name')[0].string  \n",
        "      public = temp.select('div > div.item_info > div.info_row.info_pubGrp > span.authPub.info_pub > a')[0].string  \n",
        "      date = temp.select('div > div.item_info > div.info_row.info_pubGrp > span.authPub.info_date')[0].string  \n",
        "      result.append([title,auth,public,date])  \n",
        "    except Exception as e:\n",
        "      print(e)      \n",
        "\n",
        "# 출력\n",
        "pd.DataFrame(result,columns=['책 제목','저자','출판사','출판일'])    "
      ]
    },
    {
      "cell_type": "code",
      "source": [
        "result\n"
      ],
      "metadata": {
        "colab": {
          "base_uri": "https://localhost:8080/"
        },
        "id": "6fsHIzPcTJLU",
        "outputId": "87a46d86-1e71-42fc-8fec-b17e52e696b1"
      },
      "execution_count": 32,
      "outputs": [
        {
          "output_type": "execute_result",
          "data": {
            "text/plain": [
              "[['만들면서 배우는 파이썬과 40개의 작품들', '장문철', '앤써북', '2022년 02월'],\n",
              " ['웹 크롤링 & 데이터 분석 with 파이썬', '장철원', '인사이트(insight)', '2022년 01월'],\n",
              " ['웹 크롤링 & 데이터 분석 with 파이썬', '장철원', '인사이트(insight)', '2022년 02월'],\n",
              " ['한입에 웹 크롤링', '김경록', '비제이퍼블릭(BJ퍼블릭)', '2019년 03월'],\n",
              " ['R을 이용한 웹 크롤링과 텍스트 분석', '권상희', '컴원미디어', '2020년 08월'],\n",
              " ['한입에 웹 크롤링', '김경록', '비제이퍼블릭(BJ퍼블릭)', '2018년 09월'],\n",
              " ['크롤링 핵심 가이드', '타케조에 나오키', '위키북스', '2018년 07월'],\n",
              " ['파이썬을 이용한 웹크롤링과 데이터 분석', '방진숙', '인피니티북스', '2021년 09월'],\n",
              " ['한번에 크롤링하는 고령친화정책론', '김용태', '윤성사', '2022년 02월'],\n",
              " ['웹 크롤링하는 한과장', '유펜솔루션 마케팅팀 한지혜', 'e퍼플', '2021년 12월'],\n",
              " ['한번에 크롤링하는 행정학', '강광수', '윤성사', '2020년 03월'],\n",
              " ['일잘러의 비밀, 구글 스프레드시트 제대로 파헤치기', '강남석', '한빛미디어', '2021년 05월'],\n",
              " ['Do it! 파이썬 생활 프로그래밍', '김창현', '이지스퍼블리싱', '2020년 07월'],\n",
              " ['칼퇴하는 일잘러의 업무 스킬, 파이썬 업무 자동화', '이태화', '프리렉', '2022년 12월'],\n",
              " ['파이썬 해킹 레시피', '공재웅', '비제이퍼블릭(BJ퍼블릭)', '2021년 06월'],\n",
              " ['Must Have 코로나보드로 배우는 실전 웹 서비스 개발', '권영재', '골든래빗', '2022년 05월'],\n",
              " ['당신의 칼퇴를 도와주는 UiPath 업무 자동화', '김수환', '비제이퍼블릭(BJ퍼블릭)', '2021년 07월'],\n",
              " ['クロ-リングハック ', '카와카미 모모코', '翔泳社', '2017년 09월'],\n",
              " ['R을 이용한 퀀트 투자 포트폴리오 만들기', '이현열', '제이펍', '2021년 02월'],\n",
              " ['Hello IT 파이썬을 제대로 활용해보려고 해', '스타트코딩(권기준)', '패스트캠퍼스', '2022년 12월'],\n",
              " ['금융 데이터를 위한 파이썬', '테리엇', '비제이퍼블릭(BJ퍼블릭)', '2020년 06월'],\n",
              " ['파이썬을 이용한 머신러닝, 딥러닝 실전 개발 입문', '쿠지라 히코우즈쿠에', '위키북스', '2019년 12월'],\n",
              " ['파이썬 자동화 교과서', '구지라 히코즈쿠에', '제이펍', '2022년 07월']]"
            ]
          },
          "metadata": {},
          "execution_count": 32
        }
      ]
    },
    {
      "cell_type": "code",
      "source": [],
      "metadata": {
        "id": "ZQWIpy3gcyMk"
      },
      "execution_count": null,
      "outputs": []
    }
  ]
}