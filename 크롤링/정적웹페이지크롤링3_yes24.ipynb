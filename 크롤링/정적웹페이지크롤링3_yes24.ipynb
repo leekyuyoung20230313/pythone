{
  "nbformat": 4,
  "nbformat_minor": 0,
  "metadata": {
    "colab": {
      "provenance": []
    },
    "kernelspec": {
      "name": "python3",
      "display_name": "Python 3"
    },
    "language_info": {
      "name": "python"
    }
  },
  "cells": [
    {
      "cell_type": "code",
      "execution_count": null,
      "metadata": {
        "id": "d1QLrshDHWFZ"
      },
      "outputs": [],
      "source": [
        "from bs4 import BeautifulSoup\n",
        "import urllib.request\n",
        "import pandas as pd\n",
        "from IPython.display import clear_output\n",
        "\n",
        "srchtext = input(\"검색어 : \")\n",
        "srchtext = urllib.parse.quote(srchtext)\n",
        "result = []\n",
        "for pagenum in range(1,100):\n",
        "  url = f'http://www.yes24.com/Product/Search?domain=ALL&query={srchtext}&page={pagenum}'\n",
        "  clear_output(wait= True)\n",
        "  print(f'크롤링 페이지 : {url}', end = '\\n')\n",
        "\n",
        "  html = urllib.request.urlopen(url)\n",
        "  soup = BeautifulSoup(html,'html.parser')\n",
        "  litag_list = soup.select('#yesSchList > li')\n",
        "  if len(litag_list) == 0: break\n",
        "  \n",
        "  for temp in litag_list:  \n",
        "    try:\n",
        "      auth =  temp.select('div > div.item_info > div.info_row.info_pubGrp > span.authPub.info_auth > a')\n",
        "      auth = ','.join([au.string for au in auth])\n",
        "\n",
        "      title = temp.select('div > div.item_info > div.info_row.info_name > a.gd_name')[0].string  \n",
        "      public = temp.select('div > div.item_info > div.info_row.info_pubGrp > span.authPub.info_pub > a')[0].string  \n",
        "      date = temp.select('div > div.item_info > div.info_row.info_pubGrp > span.authPub.info_date')[0].string  \n",
        "      result.append([title,auth,public,date])  \n",
        "    except Exception as e:\n",
        "      print(e)      \n",
        "\n",
        "# 출력\n",
        "df = pd.DataFrame(result,columns=['책 제목','저자','출판사','출판일'])    \n",
        "df_sorted = df.sort_values(by = '출판일',ascending=False)\n",
        "df_sorted.reset_index(drop=True,inplace=True)\n",
        "df_sorted.to_csv(f'./yes24_{srchtext}.csv')\n",
        "df_sorted.head()"
      ]
    }
  ]
}