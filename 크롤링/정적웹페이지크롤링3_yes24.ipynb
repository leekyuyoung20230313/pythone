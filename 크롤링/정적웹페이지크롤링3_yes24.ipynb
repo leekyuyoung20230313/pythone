{
  "nbformat": 4,
  "nbformat_minor": 0,
  "metadata": {
    "colab": {
      "provenance": []
    },
    "kernelspec": {
      "name": "python3",
      "display_name": "Python 3"
    },
    "language_info": {
      "name": "python"
    }
  },
  "cells": [
    {
      "cell_type": "code",
      "execution_count": 6,
      "metadata": {
        "colab": {
          "base_uri": "https://localhost:8080/"
        },
        "id": "d1QLrshDHWFZ",
        "outputId": "ef6925ad-9b73-4d48-db08-394c35c29afe"
      },
      "outputs": [
        {
          "output_type": "stream",
          "name": "stdout",
          "text": [
            "만들면서 배우는 파이썬과 40개의 작품들\n",
            "웹 크롤링 & 데이터 분석 with 파이썬\n",
            "웹 크롤링 & 데이터 분석 with 파이썬\n",
            "한입에 웹 크롤링\n",
            "R을 이용한 웹 크롤링과 텍스트 분석\n",
            "한입에 웹 크롤링\n",
            "크롤링 핵심 가이드\n",
            "파이썬을 이용한 웹크롤링과 데이터 분석\n",
            "한번에 크롤링하는 고령친화정책론\n",
            "웹 크롤링하는 한과장\n",
            "한번에 크롤링하는 행정학\n",
            "[로지텍코리아] 초고속 스크롤링 멀티 디바이스 무선 마우스 (M720 Triathlon)/블루투스,유니파잉\n",
            "일잘러의 비밀, 구글 스프레드시트 제대로 파헤치기\n",
            "Do it! 파이썬 생활 프로그래밍\n",
            "칼퇴하는 일잘러의 업무 스킬, 파이썬 업무 자동화\n",
            "파이썬 해킹 레시피\n",
            "Must Have 코로나보드로 배우는 실전 웹 서비스 개발\n",
            "당신의 칼퇴를 도와주는 UiPath 업무 자동화\n",
            "クロ-リングハック \n",
            "R을 이용한 퀀트 투자 포트폴리오 만들기\n",
            "Hello IT 파이썬을 제대로 활용해보려고 해\n",
            "금융 데이터를 위한 파이썬\n",
            "파이썬을 이용한 머신러닝, 딥러닝 실전 개발 입문\n",
            "파이썬 자동화 교과서\n"
          ]
        }
      ],
      "source": [
        "from bs4 import BeautifulSoup\n",
        "import urllib.request\n",
        "url = 'http://www.yes24.com/Product/Search?domain=ALL&query=%ED%81%AC%EB%A1%A4%EB%A7%81'\n",
        "html = urllib.request.urlopen(url)\n",
        "soup = BeautifulSoup(html,'html.parser')\n",
        "litag_list = soup.select('#yesSchList > li')\n",
        "for temp in litag_list:\n",
        "  print(temp.select('div > div.item_info > div.info_row.info_name > a.gd_name')[0].string)"
      ]
    },
    {
      "cell_type": "code",
      "source": [],
      "metadata": {
        "id": "kTcalpgEHnlw"
      },
      "execution_count": null,
      "outputs": []
    }
  ]
}