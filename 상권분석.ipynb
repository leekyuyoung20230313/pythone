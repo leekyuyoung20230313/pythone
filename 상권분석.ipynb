{
  "nbformat": 4,
  "nbformat_minor": 0,
  "metadata": {
    "colab": {
      "provenance": []
    },
    "kernelspec": {
      "name": "python3",
      "display_name": "Python 3"
    },
    "language_info": {
      "name": "python"
    }
  },
  "cells": [
    {
      "cell_type": "code",
      "execution_count": 1,
      "metadata": {
        "id": "8UnYjTe3mQb4"
      },
      "outputs": [],
      "source": [
        "# 상권 분석\n",
        "# https://www.data.go.kr/data/15083033/fileData.do"
      ]
    },
    {
      "cell_type": "code",
      "source": [
        "!unzip '/content/drive/MyDrive/Colab Notebooks/소상공인시장진흥공단_상가(상권)정보_20221231.zip' -d '/content/drive/MyDrive/Colab Notebooks/data/상권분석'"
      ],
      "metadata": {
        "colab": {
          "base_uri": "https://localhost:8080/"
        },
        "id": "X12doGWstctB",
        "outputId": "acef22d9-22cf-4eac-e16f-85252e6cc5ad"
      },
      "execution_count": 2,
      "outputs": [
        {
          "output_type": "stream",
          "name": "stdout",
          "text": [
            "Archive:  /content/drive/MyDrive/Colab Notebooks/소상공인시장진흥공단_상가(상권)정보_20221231.zip\n",
            "replace /content/drive/MyDrive/Colab Notebooks/data/상권분석/[필독]파일열람방법.txt? [y]es, [n]o, [A]ll, [N]one, [r]ename: "
          ]
        }
      ]
    },
    {
      "cell_type": "code",
      "source": [
        "import glob\n",
        "import pandas as pd\n",
        "file_lists = glob.glob('/content/drive/MyDrive/Colab Notebooks/data/상권분석/*.csv')"
      ],
      "metadata": {
        "id": "na-uu13_tl5x"
      },
      "execution_count": 3,
      "outputs": []
    },
    {
      "cell_type": "code",
      "source": [
        "import pandas as pd\n",
        "import numpy as np\n",
        "import seaborn as sns\n",
        "import folium"
      ],
      "metadata": {
        "id": "jYP8MaN0xJ-I"
      },
      "execution_count": 4,
      "outputs": []
    },
    {
      "cell_type": "code",
      "source": [
        "df_202212_세종 = pd.read_csv(file_lists[0])\n",
        "df_202212_세종.shape"
      ],
      "metadata": {
        "colab": {
          "base_uri": "https://localhost:8080/"
        },
        "id": "OL8N42XV2vKR",
        "outputId": "c0aafd01-fe19-4c0b-8f90-158168a94132"
      },
      "execution_count": 5,
      "outputs": [
        {
          "output_type": "execute_result",
          "data": {
            "text/plain": [
              "(111023, 39)"
            ]
          },
          "metadata": {},
          "execution_count": 5
        }
      ]
    },
    {
      "cell_type": "code",
      "source": [
        "df_202212_세종.columns"
      ],
      "metadata": {
        "colab": {
          "base_uri": "https://localhost:8080/"
        },
        "id": "4smBqX2-28dq",
        "outputId": "00fe3c73-e47a-4336-9a1b-c13eb274d271"
      },
      "execution_count": 6,
      "outputs": [
        {
          "output_type": "execute_result",
          "data": {
            "text/plain": [
              "Index(['상가업소번호', '상호명', '지점명', '상권업종대분류코드', '상권업종대분류명', '상권업종중분류코드',\n",
              "       '상권업종중분류명', '상권업종소분류코드', '상권업종소분류명', '표준산업분류코드', '표준산업분류명', '시도코드',\n",
              "       '시도명', '시군구코드', '시군구명', '행정동코드', '행정동명', '법정동코드', '법정동명', '지번코드',\n",
              "       '대지구분코드', '대지구분명', '지번본번지', '지번부번지', '지번주소', '도로명코드', '도로명', '건물본번지',\n",
              "       '건물부번지', '건물관리번호', '건물명', '도로명주소', '구우편번호', '신우편번호', '동정보', '층정보',\n",
              "       '호정보', '경도', '위도'],\n",
              "      dtype='object')"
            ]
          },
          "metadata": {},
          "execution_count": 6
        }
      ]
    },
    {
      "cell_type": "code",
      "source": [
        "# 상권중에 커피가 들어간 업종의 갯수\n",
        "df_coffee =  df_202212_세종[df_202212_세종['상권업종소분류명'].str.contains('커피')]\n",
        "df_coffee.shape"
      ],
      "metadata": {
        "colab": {
          "base_uri": "https://localhost:8080/"
        },
        "id": "RTpCV9Ch3Wpq",
        "outputId": "ec055ab6-71c9-48f8-eaa7-f5cc46e47a26"
      },
      "execution_count": 7,
      "outputs": [
        {
          "output_type": "execute_result",
          "data": {
            "text/plain": [
              "(4610, 39)"
            ]
          },
          "metadata": {},
          "execution_count": 7
        }
      ]
    },
    {
      "cell_type": "code",
      "source": [
        "# 서울의 커피전문점의 개수  \n",
        "df_seoul = pd.read_csv( file_lists[-2])\n",
        "df_seoul[df_seoul['상권업종소분류명'].str.contains('커피')]\n",
        "df_seoul.shape"
      ],
      "metadata": {
        "colab": {
          "base_uri": "https://localhost:8080/"
        },
        "id": "9ibNPgwq3kFi",
        "outputId": "e0699ffc-cf27-4771-b817-651933eaecd9"
      },
      "execution_count": 8,
      "outputs": [
        {
          "output_type": "stream",
          "name": "stderr",
          "text": [
            "<ipython-input-8-659386a39948>:2: DtypeWarning: Columns (35) have mixed types. Specify dtype option on import or set low_memory=False.\n",
            "  df_seoul = pd.read_csv( file_lists[-2])\n"
          ]
        },
        {
          "output_type": "execute_result",
          "data": {
            "text/plain": [
              "(116391, 39)"
            ]
          },
          "metadata": {},
          "execution_count": 8
        }
      ]
    },
    {
      "cell_type": "code",
      "source": [
        "df_seoul2 =  df_seoul[df_seoul['상권업종소분류명'].str.contains('커피')]"
      ],
      "metadata": {
        "id": "BTYhOBnu58dC"
      },
      "execution_count": 9,
      "outputs": []
    },
    {
      "cell_type": "code",
      "source": [
        "# 커피전문점의 이름들...\n",
        "# 상호명중에 가장 많은 이름의 상호를 찾아보자\n",
        "df_seoul2['상호명'].value_counts()[:10]"
      ],
      "metadata": {
        "colab": {
          "base_uri": "https://localhost:8080/"
        },
        "id": "HltQwOEh6L0R",
        "outputId": "28c310a2-a935-4675-bf92-6aed50e3325b"
      },
      "execution_count": 10,
      "outputs": [
        {
          "output_type": "execute_result",
          "data": {
            "text/plain": [
              "카페         212\n",
              "이디야커피       63\n",
              "더리터         62\n",
              "더벤티         44\n",
              "빽다방         43\n",
              "투썸플레이스      30\n",
              "스타벅스        25\n",
              "할리스커피       24\n",
              "공차          23\n",
              "메가엠지씨커피     20\n",
              "Name: 상호명, dtype: int64"
            ]
          },
          "metadata": {},
          "execution_count": 10
        }
      ]
    },
    {
      "cell_type": "code",
      "source": [
        "df_coffee_id =  df_seoul2[df_seoul2['상호명'] == '이디야커피']\n",
        "df_coffee_id.reset_index(drop=True,inplace=True)"
      ],
      "metadata": {
        "id": "aZ6Tq9WD7NHZ"
      },
      "execution_count": 11,
      "outputs": []
    },
    {
      "cell_type": "code",
      "source": [
        "# 중복없이 지점만 출력\n",
        "df_coffee_id['지점명'].unique()"
      ],
      "metadata": {
        "id": "ouWuapXs7gWK",
        "colab": {
          "base_uri": "https://localhost:8080/"
        },
        "outputId": "50bf4ad5-83df-4e32-feaa-88d1b2cc6cd8"
      },
      "execution_count": 12,
      "outputs": [
        {
          "output_type": "execute_result",
          "data": {
            "text/plain": [
              "array([nan, '서곡지구점', '정읍중앙점', '이마트군산점', '군산시민문화회관점', '군산조촌점', '전주효천우미린점',\n",
              "       '진북점', '송천점', '전주중산점', '아중점', '완주제일점', '서신점', '익산시청점', '전북진안점',\n",
              "       '근대역사점', '장수점', '본병원점', '군산나운점', '우아한시티점', '전주평화사거리점', '남원중앙점',\n",
              "       '송학점', '전주대점', '무주점', '전주송천용소점', '임실점', '전주고사점', '순창점', '군산미장점',\n",
              "       '서부시장점', '전주호반5차점', '전주효자점', '격포점', '어양동점', '전동점', '전주사대부고점',\n",
              "       '전주에코세병호점', '군산산북동점', '교대점', '전북모악점', '부안내소사점', '정읍상동점', '전주KBS점',\n",
              "       '시외버스터미널점', '전주평화점', '익산제일점', '에코점', '전주하가지구점', '익산영등동점', '만성골드점',\n",
              "       '전주기지제호수점', '전주휴먼시아점', '전주북일점', '숍서신바구멀점', '전주효자우전점', '진안마이산점'],\n",
              "      dtype=object)"
            ]
          },
          "metadata": {},
          "execution_count": 12
        }
      ]
    },
    {
      "cell_type": "code",
      "source": [
        "# 전처리... (커피전문점에 대해.... 이디야커피)\n",
        "# 지점명이 na이면 해당 na의 상호명으로 대체\n",
        "df_coffee_id[df_coffee_id['지점명'].isna()]"
      ],
      "metadata": {
        "id": "ISs4muE5-Bpa",
        "colab": {
          "base_uri": "https://localhost:8080/",
          "height": 1000
        },
        "outputId": "a201ab2e-b758-4fdb-a248-5f76e4599998"
      },
      "execution_count": 13,
      "outputs": [
        {
          "output_type": "execute_result",
          "data": {
            "text/plain": [
              "      상가업소번호    상호명  지점명 상권업종대분류코드 상권업종대분류명 상권업종중분류코드 상권업종중분류명 상권업종소분류코드  \\\n",
              "0   23423571  이디야커피  NaN         Q       음식       Q12   커피점/카페    Q12A01   \n",
              "4   25385639  이디야커피  NaN         Q       음식       Q12   커피점/카페    Q12A01   \n",
              "21  16742442  이디야커피  NaN         Q       음식       Q12   커피점/카페    Q12A01   \n",
              "32  26364926  이디야커피  NaN         Q       음식       Q12   커피점/카페    Q12A01   \n",
              "40   8616677  이디야커피  NaN         Q       음식       Q12   커피점/카페    Q12A01   \n",
              "\n",
              "       상권업종소분류명 표준산업분류코드  ...                     건물관리번호  건물명  \\\n",
              "0   커피전문점/카페/다방   I56220  ...  4511114600107790002000001  NaN   \n",
              "4   커피전문점/카페/다방   I56220  ...  4511310700104700003005443  NaN   \n",
              "21  커피전문점/카페/다방   I56220  ...  4511113800107590001000001  NaN   \n",
              "32  커피전문점/카페/다방   I56220  ...  4580025024107640002023866  NaN   \n",
              "40  커피전문점/카페/다방   I56220  ...  4571033024106610001000001  NaN   \n",
              "\n",
              "                    도로명주소   구우편번호    신우편번호  동정보  층정보  호정보          경도  \\\n",
              "0     전라북도 전주시 덕진구 오정1길 4  560500  54872.0  NaN  NaN  NaN  127.060137   \n",
              "4   전라북도 전주시 덕진구 기린대로 398  561180  54931.0  NaN  1.0  NaN  127.132504   \n",
              "21    전라북도 전주시 완산구 홍산로 14  560292  55079.0  NaN  1.0  NaN  127.105964   \n",
              "32   전라북도 부안군 부안읍 오정2길 38  579805  56313.0  NaN  NaN  NaN  126.736079   \n",
              "40  전라북도 완주군 이서면 출판로 26-3  565851  55365.0  NaN  1.0  NaN  127.055931   \n",
              "\n",
              "           위도  \n",
              "0   35.835669  \n",
              "4   35.837674  \n",
              "21  35.795893  \n",
              "32  35.725121  \n",
              "40  35.839368  \n",
              "\n",
              "[5 rows x 39 columns]"
            ],
            "text/html": [
              "\n",
              "  <div id=\"df-97462c16-5cbe-418e-90ee-9734b511de75\">\n",
              "    <div class=\"colab-df-container\">\n",
              "      <div>\n",
              "<style scoped>\n",
              "    .dataframe tbody tr th:only-of-type {\n",
              "        vertical-align: middle;\n",
              "    }\n",
              "\n",
              "    .dataframe tbody tr th {\n",
              "        vertical-align: top;\n",
              "    }\n",
              "\n",
              "    .dataframe thead th {\n",
              "        text-align: right;\n",
              "    }\n",
              "</style>\n",
              "<table border=\"1\" class=\"dataframe\">\n",
              "  <thead>\n",
              "    <tr style=\"text-align: right;\">\n",
              "      <th></th>\n",
              "      <th>상가업소번호</th>\n",
              "      <th>상호명</th>\n",
              "      <th>지점명</th>\n",
              "      <th>상권업종대분류코드</th>\n",
              "      <th>상권업종대분류명</th>\n",
              "      <th>상권업종중분류코드</th>\n",
              "      <th>상권업종중분류명</th>\n",
              "      <th>상권업종소분류코드</th>\n",
              "      <th>상권업종소분류명</th>\n",
              "      <th>표준산업분류코드</th>\n",
              "      <th>...</th>\n",
              "      <th>건물관리번호</th>\n",
              "      <th>건물명</th>\n",
              "      <th>도로명주소</th>\n",
              "      <th>구우편번호</th>\n",
              "      <th>신우편번호</th>\n",
              "      <th>동정보</th>\n",
              "      <th>층정보</th>\n",
              "      <th>호정보</th>\n",
              "      <th>경도</th>\n",
              "      <th>위도</th>\n",
              "    </tr>\n",
              "  </thead>\n",
              "  <tbody>\n",
              "    <tr>\n",
              "      <th>0</th>\n",
              "      <td>23423571</td>\n",
              "      <td>이디야커피</td>\n",
              "      <td>NaN</td>\n",
              "      <td>Q</td>\n",
              "      <td>음식</td>\n",
              "      <td>Q12</td>\n",
              "      <td>커피점/카페</td>\n",
              "      <td>Q12A01</td>\n",
              "      <td>커피전문점/카페/다방</td>\n",
              "      <td>I56220</td>\n",
              "      <td>...</td>\n",
              "      <td>4511114600107790002000001</td>\n",
              "      <td>NaN</td>\n",
              "      <td>전라북도 전주시 덕진구 오정1길 4</td>\n",
              "      <td>560500</td>\n",
              "      <td>54872.0</td>\n",
              "      <td>NaN</td>\n",
              "      <td>NaN</td>\n",
              "      <td>NaN</td>\n",
              "      <td>127.060137</td>\n",
              "      <td>35.835669</td>\n",
              "    </tr>\n",
              "    <tr>\n",
              "      <th>4</th>\n",
              "      <td>25385639</td>\n",
              "      <td>이디야커피</td>\n",
              "      <td>NaN</td>\n",
              "      <td>Q</td>\n",
              "      <td>음식</td>\n",
              "      <td>Q12</td>\n",
              "      <td>커피점/카페</td>\n",
              "      <td>Q12A01</td>\n",
              "      <td>커피전문점/카페/다방</td>\n",
              "      <td>I56220</td>\n",
              "      <td>...</td>\n",
              "      <td>4511310700104700003005443</td>\n",
              "      <td>NaN</td>\n",
              "      <td>전라북도 전주시 덕진구 기린대로 398</td>\n",
              "      <td>561180</td>\n",
              "      <td>54931.0</td>\n",
              "      <td>NaN</td>\n",
              "      <td>1.0</td>\n",
              "      <td>NaN</td>\n",
              "      <td>127.132504</td>\n",
              "      <td>35.837674</td>\n",
              "    </tr>\n",
              "    <tr>\n",
              "      <th>21</th>\n",
              "      <td>16742442</td>\n",
              "      <td>이디야커피</td>\n",
              "      <td>NaN</td>\n",
              "      <td>Q</td>\n",
              "      <td>음식</td>\n",
              "      <td>Q12</td>\n",
              "      <td>커피점/카페</td>\n",
              "      <td>Q12A01</td>\n",
              "      <td>커피전문점/카페/다방</td>\n",
              "      <td>I56220</td>\n",
              "      <td>...</td>\n",
              "      <td>4511113800107590001000001</td>\n",
              "      <td>NaN</td>\n",
              "      <td>전라북도 전주시 완산구 홍산로 14</td>\n",
              "      <td>560292</td>\n",
              "      <td>55079.0</td>\n",
              "      <td>NaN</td>\n",
              "      <td>1.0</td>\n",
              "      <td>NaN</td>\n",
              "      <td>127.105964</td>\n",
              "      <td>35.795893</td>\n",
              "    </tr>\n",
              "    <tr>\n",
              "      <th>32</th>\n",
              "      <td>26364926</td>\n",
              "      <td>이디야커피</td>\n",
              "      <td>NaN</td>\n",
              "      <td>Q</td>\n",
              "      <td>음식</td>\n",
              "      <td>Q12</td>\n",
              "      <td>커피점/카페</td>\n",
              "      <td>Q12A01</td>\n",
              "      <td>커피전문점/카페/다방</td>\n",
              "      <td>I56220</td>\n",
              "      <td>...</td>\n",
              "      <td>4580025024107640002023866</td>\n",
              "      <td>NaN</td>\n",
              "      <td>전라북도 부안군 부안읍 오정2길 38</td>\n",
              "      <td>579805</td>\n",
              "      <td>56313.0</td>\n",
              "      <td>NaN</td>\n",
              "      <td>NaN</td>\n",
              "      <td>NaN</td>\n",
              "      <td>126.736079</td>\n",
              "      <td>35.725121</td>\n",
              "    </tr>\n",
              "    <tr>\n",
              "      <th>40</th>\n",
              "      <td>8616677</td>\n",
              "      <td>이디야커피</td>\n",
              "      <td>NaN</td>\n",
              "      <td>Q</td>\n",
              "      <td>음식</td>\n",
              "      <td>Q12</td>\n",
              "      <td>커피점/카페</td>\n",
              "      <td>Q12A01</td>\n",
              "      <td>커피전문점/카페/다방</td>\n",
              "      <td>I56220</td>\n",
              "      <td>...</td>\n",
              "      <td>4571033024106610001000001</td>\n",
              "      <td>NaN</td>\n",
              "      <td>전라북도 완주군 이서면 출판로 26-3</td>\n",
              "      <td>565851</td>\n",
              "      <td>55365.0</td>\n",
              "      <td>NaN</td>\n",
              "      <td>1.0</td>\n",
              "      <td>NaN</td>\n",
              "      <td>127.055931</td>\n",
              "      <td>35.839368</td>\n",
              "    </tr>\n",
              "  </tbody>\n",
              "</table>\n",
              "<p>5 rows × 39 columns</p>\n",
              "</div>\n",
              "      <button class=\"colab-df-convert\" onclick=\"convertToInteractive('df-97462c16-5cbe-418e-90ee-9734b511de75')\"\n",
              "              title=\"Convert this dataframe to an interactive table.\"\n",
              "              style=\"display:none;\">\n",
              "        \n",
              "  <svg xmlns=\"http://www.w3.org/2000/svg\" height=\"24px\"viewBox=\"0 0 24 24\"\n",
              "       width=\"24px\">\n",
              "    <path d=\"M0 0h24v24H0V0z\" fill=\"none\"/>\n",
              "    <path d=\"M18.56 5.44l.94 2.06.94-2.06 2.06-.94-2.06-.94-.94-2.06-.94 2.06-2.06.94zm-11 1L8.5 8.5l.94-2.06 2.06-.94-2.06-.94L8.5 2.5l-.94 2.06-2.06.94zm10 10l.94 2.06.94-2.06 2.06-.94-2.06-.94-.94-2.06-.94 2.06-2.06.94z\"/><path d=\"M17.41 7.96l-1.37-1.37c-.4-.4-.92-.59-1.43-.59-.52 0-1.04.2-1.43.59L10.3 9.45l-7.72 7.72c-.78.78-.78 2.05 0 2.83L4 21.41c.39.39.9.59 1.41.59.51 0 1.02-.2 1.41-.59l7.78-7.78 2.81-2.81c.8-.78.8-2.07 0-2.86zM5.41 20L4 18.59l7.72-7.72 1.47 1.35L5.41 20z\"/>\n",
              "  </svg>\n",
              "      </button>\n",
              "      \n",
              "  <style>\n",
              "    .colab-df-container {\n",
              "      display:flex;\n",
              "      flex-wrap:wrap;\n",
              "      gap: 12px;\n",
              "    }\n",
              "\n",
              "    .colab-df-convert {\n",
              "      background-color: #E8F0FE;\n",
              "      border: none;\n",
              "      border-radius: 50%;\n",
              "      cursor: pointer;\n",
              "      display: none;\n",
              "      fill: #1967D2;\n",
              "      height: 32px;\n",
              "      padding: 0 0 0 0;\n",
              "      width: 32px;\n",
              "    }\n",
              "\n",
              "    .colab-df-convert:hover {\n",
              "      background-color: #E2EBFA;\n",
              "      box-shadow: 0px 1px 2px rgba(60, 64, 67, 0.3), 0px 1px 3px 1px rgba(60, 64, 67, 0.15);\n",
              "      fill: #174EA6;\n",
              "    }\n",
              "\n",
              "    [theme=dark] .colab-df-convert {\n",
              "      background-color: #3B4455;\n",
              "      fill: #D2E3FC;\n",
              "    }\n",
              "\n",
              "    [theme=dark] .colab-df-convert:hover {\n",
              "      background-color: #434B5C;\n",
              "      box-shadow: 0px 1px 3px 1px rgba(0, 0, 0, 0.15);\n",
              "      filter: drop-shadow(0px 1px 2px rgba(0, 0, 0, 0.3));\n",
              "      fill: #FFFFFF;\n",
              "    }\n",
              "  </style>\n",
              "\n",
              "      <script>\n",
              "        const buttonEl =\n",
              "          document.querySelector('#df-97462c16-5cbe-418e-90ee-9734b511de75 button.colab-df-convert');\n",
              "        buttonEl.style.display =\n",
              "          google.colab.kernel.accessAllowed ? 'block' : 'none';\n",
              "\n",
              "        async function convertToInteractive(key) {\n",
              "          const element = document.querySelector('#df-97462c16-5cbe-418e-90ee-9734b511de75');\n",
              "          const dataTable =\n",
              "            await google.colab.kernel.invokeFunction('convertToInteractive',\n",
              "                                                     [key], {});\n",
              "          if (!dataTable) return;\n",
              "\n",
              "          const docLinkHtml = 'Like what you see? Visit the ' +\n",
              "            '<a target=\"_blank\" href=https://colab.research.google.com/notebooks/data_table.ipynb>data table notebook</a>'\n",
              "            + ' to learn more about interactive tables.';\n",
              "          element.innerHTML = '';\n",
              "          dataTable['output_type'] = 'display_data';\n",
              "          await google.colab.output.renderOutput(dataTable, element);\n",
              "          const docLink = document.createElement('div');\n",
              "          docLink.innerHTML = docLinkHtml;\n",
              "          element.appendChild(docLink);\n",
              "        }\n",
              "      </script>\n",
              "    </div>\n",
              "  </div>\n",
              "  "
            ]
          },
          "metadata": {},
          "execution_count": 13
        }
      ]
    },
    {
      "cell_type": "code",
      "source": [
        "temp = df_coffee_id.loc[:,['상호명','지점명']].ffill(axis=1)\n",
        "df_coffee_id.loc[:,'지점명']  = temp['지점명']"
      ],
      "metadata": {
        "colab": {
          "base_uri": "https://localhost:8080/"
        },
        "id": "Ma-Zo24i-jEq",
        "outputId": "32ffadd9-f546-4e3b-bae4-806313e369bb"
      },
      "execution_count": 14,
      "outputs": [
        {
          "output_type": "stream",
          "name": "stderr",
          "text": [
            "<ipython-input-14-f39628850e5d>:2: SettingWithCopyWarning: \n",
            "A value is trying to be set on a copy of a slice from a DataFrame.\n",
            "Try using .loc[row_indexer,col_indexer] = value instead\n",
            "\n",
            "See the caveats in the documentation: https://pandas.pydata.org/pandas-docs/stable/user_guide/indexing.html#returning-a-view-versus-a-copy\n",
            "  df_coffee_id.loc[:,'지점명']  = temp['지점명']\n"
          ]
        }
      ]
    },
    {
      "cell_type": "code",
      "source": [
        "pd.options.display.max_columns = None"
      ],
      "metadata": {
        "id": "8-eOFrzsBORb"
      },
      "execution_count": 15,
      "outputs": []
    },
    {
      "cell_type": "code",
      "source": [
        "df_coffee_id.head(1)"
      ],
      "metadata": {
        "colab": {
          "base_uri": "https://localhost:8080/",
          "height": 526
        },
        "id": "UZJSRFB2BpKr",
        "outputId": "6a955b6e-f39e-4e71-8c1f-0ce746db4c82"
      },
      "execution_count": 16,
      "outputs": [
        {
          "output_type": "execute_result",
          "data": {
            "text/plain": [
              "     상가업소번호    상호명    지점명 상권업종대분류코드 상권업종대분류명 상권업종중분류코드 상권업종중분류명 상권업종소분류코드  \\\n",
              "0  23423571  이디야커피  이디야커피         Q       음식       Q12   커피점/카페    Q12A01   \n",
              "\n",
              "      상권업종소분류명 표준산업분류코드   표준산업분류명  시도코드   시도명  시군구코드     시군구명       행정동코드  \\\n",
              "0  커피전문점/카페/다방   I56220  비알콜 음료점업    45  전라북도  45113  전주시 덕진구  4511367000   \n",
              "\n",
              "  행정동명       법정동코드 법정동명                 지번코드  대지구분코드 대지구분명  지번본번지  지번부번지  \\\n",
              "0  혁신동  4511313800   중동  4511313800107790002       1    대지    779    2.0   \n",
              "\n",
              "                    지번주소         도로명코드                도로명  건물본번지  건물부번지  \\\n",
              "0  전라북도 전주시 덕진구 중동 779-2  451134640745  전라북도 전주시 덕진구 오정1길      4    NaN   \n",
              "\n",
              "                      건물관리번호  건물명                도로명주소   구우편번호    신우편번호  동정보  \\\n",
              "0  4511114600107790002000001  NaN  전라북도 전주시 덕진구 오정1길 4  560500  54872.0  NaN   \n",
              "\n",
              "   층정보  호정보          경도         위도  \n",
              "0  NaN  NaN  127.060137  35.835669  "
            ],
            "text/html": [
              "\n",
              "  <div id=\"df-62974694-f080-4e5c-87e1-42ac1c4b8dce\">\n",
              "    <div class=\"colab-df-container\">\n",
              "      <div>\n",
              "<style scoped>\n",
              "    .dataframe tbody tr th:only-of-type {\n",
              "        vertical-align: middle;\n",
              "    }\n",
              "\n",
              "    .dataframe tbody tr th {\n",
              "        vertical-align: top;\n",
              "    }\n",
              "\n",
              "    .dataframe thead th {\n",
              "        text-align: right;\n",
              "    }\n",
              "</style>\n",
              "<table border=\"1\" class=\"dataframe\">\n",
              "  <thead>\n",
              "    <tr style=\"text-align: right;\">\n",
              "      <th></th>\n",
              "      <th>상가업소번호</th>\n",
              "      <th>상호명</th>\n",
              "      <th>지점명</th>\n",
              "      <th>상권업종대분류코드</th>\n",
              "      <th>상권업종대분류명</th>\n",
              "      <th>상권업종중분류코드</th>\n",
              "      <th>상권업종중분류명</th>\n",
              "      <th>상권업종소분류코드</th>\n",
              "      <th>상권업종소분류명</th>\n",
              "      <th>표준산업분류코드</th>\n",
              "      <th>표준산업분류명</th>\n",
              "      <th>시도코드</th>\n",
              "      <th>시도명</th>\n",
              "      <th>시군구코드</th>\n",
              "      <th>시군구명</th>\n",
              "      <th>행정동코드</th>\n",
              "      <th>행정동명</th>\n",
              "      <th>법정동코드</th>\n",
              "      <th>법정동명</th>\n",
              "      <th>지번코드</th>\n",
              "      <th>대지구분코드</th>\n",
              "      <th>대지구분명</th>\n",
              "      <th>지번본번지</th>\n",
              "      <th>지번부번지</th>\n",
              "      <th>지번주소</th>\n",
              "      <th>도로명코드</th>\n",
              "      <th>도로명</th>\n",
              "      <th>건물본번지</th>\n",
              "      <th>건물부번지</th>\n",
              "      <th>건물관리번호</th>\n",
              "      <th>건물명</th>\n",
              "      <th>도로명주소</th>\n",
              "      <th>구우편번호</th>\n",
              "      <th>신우편번호</th>\n",
              "      <th>동정보</th>\n",
              "      <th>층정보</th>\n",
              "      <th>호정보</th>\n",
              "      <th>경도</th>\n",
              "      <th>위도</th>\n",
              "    </tr>\n",
              "  </thead>\n",
              "  <tbody>\n",
              "    <tr>\n",
              "      <th>0</th>\n",
              "      <td>23423571</td>\n",
              "      <td>이디야커피</td>\n",
              "      <td>이디야커피</td>\n",
              "      <td>Q</td>\n",
              "      <td>음식</td>\n",
              "      <td>Q12</td>\n",
              "      <td>커피점/카페</td>\n",
              "      <td>Q12A01</td>\n",
              "      <td>커피전문점/카페/다방</td>\n",
              "      <td>I56220</td>\n",
              "      <td>비알콜 음료점업</td>\n",
              "      <td>45</td>\n",
              "      <td>전라북도</td>\n",
              "      <td>45113</td>\n",
              "      <td>전주시 덕진구</td>\n",
              "      <td>4511367000</td>\n",
              "      <td>혁신동</td>\n",
              "      <td>4511313800</td>\n",
              "      <td>중동</td>\n",
              "      <td>4511313800107790002</td>\n",
              "      <td>1</td>\n",
              "      <td>대지</td>\n",
              "      <td>779</td>\n",
              "      <td>2.0</td>\n",
              "      <td>전라북도 전주시 덕진구 중동 779-2</td>\n",
              "      <td>451134640745</td>\n",
              "      <td>전라북도 전주시 덕진구 오정1길</td>\n",
              "      <td>4</td>\n",
              "      <td>NaN</td>\n",
              "      <td>4511114600107790002000001</td>\n",
              "      <td>NaN</td>\n",
              "      <td>전라북도 전주시 덕진구 오정1길 4</td>\n",
              "      <td>560500</td>\n",
              "      <td>54872.0</td>\n",
              "      <td>NaN</td>\n",
              "      <td>NaN</td>\n",
              "      <td>NaN</td>\n",
              "      <td>127.060137</td>\n",
              "      <td>35.835669</td>\n",
              "    </tr>\n",
              "  </tbody>\n",
              "</table>\n",
              "</div>\n",
              "      <button class=\"colab-df-convert\" onclick=\"convertToInteractive('df-62974694-f080-4e5c-87e1-42ac1c4b8dce')\"\n",
              "              title=\"Convert this dataframe to an interactive table.\"\n",
              "              style=\"display:none;\">\n",
              "        \n",
              "  <svg xmlns=\"http://www.w3.org/2000/svg\" height=\"24px\"viewBox=\"0 0 24 24\"\n",
              "       width=\"24px\">\n",
              "    <path d=\"M0 0h24v24H0V0z\" fill=\"none\"/>\n",
              "    <path d=\"M18.56 5.44l.94 2.06.94-2.06 2.06-.94-2.06-.94-.94-2.06-.94 2.06-2.06.94zm-11 1L8.5 8.5l.94-2.06 2.06-.94-2.06-.94L8.5 2.5l-.94 2.06-2.06.94zm10 10l.94 2.06.94-2.06 2.06-.94-2.06-.94-.94-2.06-.94 2.06-2.06.94z\"/><path d=\"M17.41 7.96l-1.37-1.37c-.4-.4-.92-.59-1.43-.59-.52 0-1.04.2-1.43.59L10.3 9.45l-7.72 7.72c-.78.78-.78 2.05 0 2.83L4 21.41c.39.39.9.59 1.41.59.51 0 1.02-.2 1.41-.59l7.78-7.78 2.81-2.81c.8-.78.8-2.07 0-2.86zM5.41 20L4 18.59l7.72-7.72 1.47 1.35L5.41 20z\"/>\n",
              "  </svg>\n",
              "      </button>\n",
              "      \n",
              "  <style>\n",
              "    .colab-df-container {\n",
              "      display:flex;\n",
              "      flex-wrap:wrap;\n",
              "      gap: 12px;\n",
              "    }\n",
              "\n",
              "    .colab-df-convert {\n",
              "      background-color: #E8F0FE;\n",
              "      border: none;\n",
              "      border-radius: 50%;\n",
              "      cursor: pointer;\n",
              "      display: none;\n",
              "      fill: #1967D2;\n",
              "      height: 32px;\n",
              "      padding: 0 0 0 0;\n",
              "      width: 32px;\n",
              "    }\n",
              "\n",
              "    .colab-df-convert:hover {\n",
              "      background-color: #E2EBFA;\n",
              "      box-shadow: 0px 1px 2px rgba(60, 64, 67, 0.3), 0px 1px 3px 1px rgba(60, 64, 67, 0.15);\n",
              "      fill: #174EA6;\n",
              "    }\n",
              "\n",
              "    [theme=dark] .colab-df-convert {\n",
              "      background-color: #3B4455;\n",
              "      fill: #D2E3FC;\n",
              "    }\n",
              "\n",
              "    [theme=dark] .colab-df-convert:hover {\n",
              "      background-color: #434B5C;\n",
              "      box-shadow: 0px 1px 3px 1px rgba(0, 0, 0, 0.15);\n",
              "      filter: drop-shadow(0px 1px 2px rgba(0, 0, 0, 0.3));\n",
              "      fill: #FFFFFF;\n",
              "    }\n",
              "  </style>\n",
              "\n",
              "      <script>\n",
              "        const buttonEl =\n",
              "          document.querySelector('#df-62974694-f080-4e5c-87e1-42ac1c4b8dce button.colab-df-convert');\n",
              "        buttonEl.style.display =\n",
              "          google.colab.kernel.accessAllowed ? 'block' : 'none';\n",
              "\n",
              "        async function convertToInteractive(key) {\n",
              "          const element = document.querySelector('#df-62974694-f080-4e5c-87e1-42ac1c4b8dce');\n",
              "          const dataTable =\n",
              "            await google.colab.kernel.invokeFunction('convertToInteractive',\n",
              "                                                     [key], {});\n",
              "          if (!dataTable) return;\n",
              "\n",
              "          const docLinkHtml = 'Like what you see? Visit the ' +\n",
              "            '<a target=\"_blank\" href=https://colab.research.google.com/notebooks/data_table.ipynb>data table notebook</a>'\n",
              "            + ' to learn more about interactive tables.';\n",
              "          element.innerHTML = '';\n",
              "          dataTable['output_type'] = 'display_data';\n",
              "          await google.colab.output.renderOutput(dataTable, element);\n",
              "          const docLink = document.createElement('div');\n",
              "          docLink.innerHTML = docLinkHtml;\n",
              "          element.appendChild(docLink);\n",
              "        }\n",
              "      </script>\n",
              "    </div>\n",
              "  </div>\n",
              "  "
            ]
          },
          "metadata": {},
          "execution_count": 16
        }
      ]
    },
    {
      "cell_type": "code",
      "source": [
        "# 전국데이터에 대해서\n",
        "# 1. 상권업종소분류명 에 커피가 포함되어  있는 데이터를 찾아서\n",
        "# 2. 상호명의 수를 count하고\n",
        "# 3. 가장많이 나온 프랜차이즈 상호에대해서 데이터를 정리.."
      ],
      "metadata": {
        "id": "nNd3rYujB1GM"
      },
      "execution_count": 17,
      "outputs": []
    },
    {
      "cell_type": "code",
      "source": [
        "df_lists = [pd.read_csv(file,low_memory=False) for file in file_lists]"
      ],
      "metadata": {
        "id": "P1QUxgxtDwKu"
      },
      "execution_count": 18,
      "outputs": []
    },
    {
      "cell_type": "code",
      "source": [
        "df = pd.concat(df_lists)\n",
        "df.shape"
      ],
      "metadata": {
        "colab": {
          "base_uri": "https://localhost:8080/"
        },
        "id": "DzMd0mpvEMXs",
        "outputId": "70eab20c-cdae-4e2d-8f04-fea7fd4e5403"
      },
      "execution_count": 19,
      "outputs": [
        {
          "output_type": "execute_result",
          "data": {
            "text/plain": [
              "(2532877, 39)"
            ]
          },
          "metadata": {},
          "execution_count": 19
        }
      ]
    },
    {
      "cell_type": "code",
      "source": [
        "df.to_csv('/content/drive/MyDrive/Colab Notebooks/data/소상공인.csv',encoding='utf-8')"
      ],
      "metadata": {
        "id": "dj9c_tYS1Wg5"
      },
      "execution_count": 36,
      "outputs": []
    },
    {
      "cell_type": "code",
      "source": [
        "df_coffee =  df[df['상권업종소분류명'].str.contains('커피')]\n",
        "df_coffee.head()"
      ],
      "metadata": {
        "id": "l4wFI8eEHvjM",
        "colab": {
          "base_uri": "https://localhost:8080/",
          "height": 1000
        },
        "outputId": "709248a0-fa14-4f85-d34b-a9895994c47d"
      },
      "execution_count": 20,
      "outputs": [
        {
          "output_type": "execute_result",
          "data": {
            "text/plain": [
              "       상가업소번호       상호명     지점명 상권업종대분류코드 상권업종대분류명 상권업종중분류코드 상권업종중분류명  \\\n",
              "13   20778927  키즈까페아이사랑     NaN         Q       음식       Q12   커피점/카페   \n",
              "39   20658047        힐링     NaN         Q       음식       Q12   커피점/카페   \n",
              "56   15589162       드롭탑  속초엑스포점         Q       음식       Q12   커피점/카페   \n",
              "83   20762517     상유재카페     NaN         Q       음식       Q12   커피점/카페   \n",
              "269  20527333      수정다방     NaN         Q       음식       Q12   커피점/카페   \n",
              "\n",
              "    상권업종소분류코드     상권업종소분류명 표준산업분류코드   표준산업분류명  시도코드  시도명  시군구코드 시군구명  \\\n",
              "13     Q12A01  커피전문점/카페/다방   I56220  비알콜 음료점업    42  강원도  42150  강릉시   \n",
              "39     Q12A01  커피전문점/카페/다방   I56220  비알콜 음료점업    42  강원도  42130  원주시   \n",
              "56     Q12A01  커피전문점/카페/다방   I56220  비알콜 음료점업    42  강원도  42210  속초시   \n",
              "83     Q12A01  커피전문점/카페/다방   I56220  비알콜 음료점업    42  강원도  42770  정선군   \n",
              "269    Q12A01  커피전문점/카페/다방   I56220  비알콜 음료점업    42  강원도  42820  고성군   \n",
              "\n",
              "          행정동코드 행정동명       법정동코드 법정동명                 지번코드  대지구분코드 대지구분명  \\\n",
              "13   4215064500  성덕동  4215012500  입암동  4215012500107080003       1    대지   \n",
              "39   4213055000  단구동  4213010700  단구동  4213010700116690010       1    대지   \n",
              "56   4221058000  조양동  4221010800  조양동  4221010800115470008       1    대지   \n",
              "83   4277025000  정선읍  4277025021  정선읍  4277025021102170010       1    대지   \n",
              "269  4282025300  거진읍  4282025321  거진읍  4282025321101580104       1    대지   \n",
              "\n",
              "     지번본번지  지번부번지                     지번주소         도로명코드               도로명  \\\n",
              "13     708    3.0        강원도 강릉시 입암동 708-3  421503220017     강원도 강릉시 성덕포남로   \n",
              "39    1669   10.0      강원도 원주시 단구동 1669-10  421304457132       강원도 원주시 단관길   \n",
              "56    1547    8.0       강원도 속초시 조양동 1547-8  422103223008      강원도 속초시 엑스포로   \n",
              "83     217   10.0   강원도 정선군 정선읍 봉양리 217-10  427703229023   강원도 정선군 정선읍 정선로   \n",
              "269    158  104.0  강원도 고성군 거진읍 거진리 158-104  428204502348  강원도 고성군 거진읍 행랑골길   \n",
              "\n",
              "     건물본번지  건물부번지                     건물관리번호   건물명                 도로명주소  \\\n",
              "13      45    8.0  4215012500107080003000001   NaN    강원도 강릉시 성덕포남로 45-8   \n",
              "39     114    6.0  4213010700116690010000001   NaN     강원도 원주시 단관길 114-6   \n",
              "56      45    NaN  4221010800115470008000001   NaN       강원도 속초시 엑스포로 45   \n",
              "83    1323    NaN  4277025021102170001011447   NaN  강원도 정선군 정선읍 정선로 1323   \n",
              "269      6    NaN  4282025321101580104018419  수정다방    강원도 고성군 거진읍 행랑골길 6   \n",
              "\n",
              "        구우편번호    신우편번호  동정보  층정보  호정보          경도         위도  \n",
              "13   210938.0  25615.0  NaN    2  NaN  128.919456  37.759315  \n",
              "39   220965.0  26490.0  NaN  NaN  NaN  127.958442  37.319958  \n",
              "56   217813.0  24872.0  NaN  NaN  NaN  128.586322  38.191024  \n",
              "83   233804.0  26131.0  NaN    1  NaN  128.660805  37.379458  \n",
              "269  219901.0  24714.0  NaN  NaN  NaN  128.456166  38.447977  "
            ],
            "text/html": [
              "\n",
              "  <div id=\"df-da7ece4b-53d2-43a9-9e69-d53e68e48ae4\">\n",
              "    <div class=\"colab-df-container\">\n",
              "      <div>\n",
              "<style scoped>\n",
              "    .dataframe tbody tr th:only-of-type {\n",
              "        vertical-align: middle;\n",
              "    }\n",
              "\n",
              "    .dataframe tbody tr th {\n",
              "        vertical-align: top;\n",
              "    }\n",
              "\n",
              "    .dataframe thead th {\n",
              "        text-align: right;\n",
              "    }\n",
              "</style>\n",
              "<table border=\"1\" class=\"dataframe\">\n",
              "  <thead>\n",
              "    <tr style=\"text-align: right;\">\n",
              "      <th></th>\n",
              "      <th>상가업소번호</th>\n",
              "      <th>상호명</th>\n",
              "      <th>지점명</th>\n",
              "      <th>상권업종대분류코드</th>\n",
              "      <th>상권업종대분류명</th>\n",
              "      <th>상권업종중분류코드</th>\n",
              "      <th>상권업종중분류명</th>\n",
              "      <th>상권업종소분류코드</th>\n",
              "      <th>상권업종소분류명</th>\n",
              "      <th>표준산업분류코드</th>\n",
              "      <th>표준산업분류명</th>\n",
              "      <th>시도코드</th>\n",
              "      <th>시도명</th>\n",
              "      <th>시군구코드</th>\n",
              "      <th>시군구명</th>\n",
              "      <th>행정동코드</th>\n",
              "      <th>행정동명</th>\n",
              "      <th>법정동코드</th>\n",
              "      <th>법정동명</th>\n",
              "      <th>지번코드</th>\n",
              "      <th>대지구분코드</th>\n",
              "      <th>대지구분명</th>\n",
              "      <th>지번본번지</th>\n",
              "      <th>지번부번지</th>\n",
              "      <th>지번주소</th>\n",
              "      <th>도로명코드</th>\n",
              "      <th>도로명</th>\n",
              "      <th>건물본번지</th>\n",
              "      <th>건물부번지</th>\n",
              "      <th>건물관리번호</th>\n",
              "      <th>건물명</th>\n",
              "      <th>도로명주소</th>\n",
              "      <th>구우편번호</th>\n",
              "      <th>신우편번호</th>\n",
              "      <th>동정보</th>\n",
              "      <th>층정보</th>\n",
              "      <th>호정보</th>\n",
              "      <th>경도</th>\n",
              "      <th>위도</th>\n",
              "    </tr>\n",
              "  </thead>\n",
              "  <tbody>\n",
              "    <tr>\n",
              "      <th>13</th>\n",
              "      <td>20778927</td>\n",
              "      <td>키즈까페아이사랑</td>\n",
              "      <td>NaN</td>\n",
              "      <td>Q</td>\n",
              "      <td>음식</td>\n",
              "      <td>Q12</td>\n",
              "      <td>커피점/카페</td>\n",
              "      <td>Q12A01</td>\n",
              "      <td>커피전문점/카페/다방</td>\n",
              "      <td>I56220</td>\n",
              "      <td>비알콜 음료점업</td>\n",
              "      <td>42</td>\n",
              "      <td>강원도</td>\n",
              "      <td>42150</td>\n",
              "      <td>강릉시</td>\n",
              "      <td>4215064500</td>\n",
              "      <td>성덕동</td>\n",
              "      <td>4215012500</td>\n",
              "      <td>입암동</td>\n",
              "      <td>4215012500107080003</td>\n",
              "      <td>1</td>\n",
              "      <td>대지</td>\n",
              "      <td>708</td>\n",
              "      <td>3.0</td>\n",
              "      <td>강원도 강릉시 입암동 708-3</td>\n",
              "      <td>421503220017</td>\n",
              "      <td>강원도 강릉시 성덕포남로</td>\n",
              "      <td>45</td>\n",
              "      <td>8.0</td>\n",
              "      <td>4215012500107080003000001</td>\n",
              "      <td>NaN</td>\n",
              "      <td>강원도 강릉시 성덕포남로 45-8</td>\n",
              "      <td>210938.0</td>\n",
              "      <td>25615.0</td>\n",
              "      <td>NaN</td>\n",
              "      <td>2</td>\n",
              "      <td>NaN</td>\n",
              "      <td>128.919456</td>\n",
              "      <td>37.759315</td>\n",
              "    </tr>\n",
              "    <tr>\n",
              "      <th>39</th>\n",
              "      <td>20658047</td>\n",
              "      <td>힐링</td>\n",
              "      <td>NaN</td>\n",
              "      <td>Q</td>\n",
              "      <td>음식</td>\n",
              "      <td>Q12</td>\n",
              "      <td>커피점/카페</td>\n",
              "      <td>Q12A01</td>\n",
              "      <td>커피전문점/카페/다방</td>\n",
              "      <td>I56220</td>\n",
              "      <td>비알콜 음료점업</td>\n",
              "      <td>42</td>\n",
              "      <td>강원도</td>\n",
              "      <td>42130</td>\n",
              "      <td>원주시</td>\n",
              "      <td>4213055000</td>\n",
              "      <td>단구동</td>\n",
              "      <td>4213010700</td>\n",
              "      <td>단구동</td>\n",
              "      <td>4213010700116690010</td>\n",
              "      <td>1</td>\n",
              "      <td>대지</td>\n",
              "      <td>1669</td>\n",
              "      <td>10.0</td>\n",
              "      <td>강원도 원주시 단구동 1669-10</td>\n",
              "      <td>421304457132</td>\n",
              "      <td>강원도 원주시 단관길</td>\n",
              "      <td>114</td>\n",
              "      <td>6.0</td>\n",
              "      <td>4213010700116690010000001</td>\n",
              "      <td>NaN</td>\n",
              "      <td>강원도 원주시 단관길 114-6</td>\n",
              "      <td>220965.0</td>\n",
              "      <td>26490.0</td>\n",
              "      <td>NaN</td>\n",
              "      <td>NaN</td>\n",
              "      <td>NaN</td>\n",
              "      <td>127.958442</td>\n",
              "      <td>37.319958</td>\n",
              "    </tr>\n",
              "    <tr>\n",
              "      <th>56</th>\n",
              "      <td>15589162</td>\n",
              "      <td>드롭탑</td>\n",
              "      <td>속초엑스포점</td>\n",
              "      <td>Q</td>\n",
              "      <td>음식</td>\n",
              "      <td>Q12</td>\n",
              "      <td>커피점/카페</td>\n",
              "      <td>Q12A01</td>\n",
              "      <td>커피전문점/카페/다방</td>\n",
              "      <td>I56220</td>\n",
              "      <td>비알콜 음료점업</td>\n",
              "      <td>42</td>\n",
              "      <td>강원도</td>\n",
              "      <td>42210</td>\n",
              "      <td>속초시</td>\n",
              "      <td>4221058000</td>\n",
              "      <td>조양동</td>\n",
              "      <td>4221010800</td>\n",
              "      <td>조양동</td>\n",
              "      <td>4221010800115470008</td>\n",
              "      <td>1</td>\n",
              "      <td>대지</td>\n",
              "      <td>1547</td>\n",
              "      <td>8.0</td>\n",
              "      <td>강원도 속초시 조양동 1547-8</td>\n",
              "      <td>422103223008</td>\n",
              "      <td>강원도 속초시 엑스포로</td>\n",
              "      <td>45</td>\n",
              "      <td>NaN</td>\n",
              "      <td>4221010800115470008000001</td>\n",
              "      <td>NaN</td>\n",
              "      <td>강원도 속초시 엑스포로 45</td>\n",
              "      <td>217813.0</td>\n",
              "      <td>24872.0</td>\n",
              "      <td>NaN</td>\n",
              "      <td>NaN</td>\n",
              "      <td>NaN</td>\n",
              "      <td>128.586322</td>\n",
              "      <td>38.191024</td>\n",
              "    </tr>\n",
              "    <tr>\n",
              "      <th>83</th>\n",
              "      <td>20762517</td>\n",
              "      <td>상유재카페</td>\n",
              "      <td>NaN</td>\n",
              "      <td>Q</td>\n",
              "      <td>음식</td>\n",
              "      <td>Q12</td>\n",
              "      <td>커피점/카페</td>\n",
              "      <td>Q12A01</td>\n",
              "      <td>커피전문점/카페/다방</td>\n",
              "      <td>I56220</td>\n",
              "      <td>비알콜 음료점업</td>\n",
              "      <td>42</td>\n",
              "      <td>강원도</td>\n",
              "      <td>42770</td>\n",
              "      <td>정선군</td>\n",
              "      <td>4277025000</td>\n",
              "      <td>정선읍</td>\n",
              "      <td>4277025021</td>\n",
              "      <td>정선읍</td>\n",
              "      <td>4277025021102170010</td>\n",
              "      <td>1</td>\n",
              "      <td>대지</td>\n",
              "      <td>217</td>\n",
              "      <td>10.0</td>\n",
              "      <td>강원도 정선군 정선읍 봉양리 217-10</td>\n",
              "      <td>427703229023</td>\n",
              "      <td>강원도 정선군 정선읍 정선로</td>\n",
              "      <td>1323</td>\n",
              "      <td>NaN</td>\n",
              "      <td>4277025021102170001011447</td>\n",
              "      <td>NaN</td>\n",
              "      <td>강원도 정선군 정선읍 정선로 1323</td>\n",
              "      <td>233804.0</td>\n",
              "      <td>26131.0</td>\n",
              "      <td>NaN</td>\n",
              "      <td>1</td>\n",
              "      <td>NaN</td>\n",
              "      <td>128.660805</td>\n",
              "      <td>37.379458</td>\n",
              "    </tr>\n",
              "    <tr>\n",
              "      <th>269</th>\n",
              "      <td>20527333</td>\n",
              "      <td>수정다방</td>\n",
              "      <td>NaN</td>\n",
              "      <td>Q</td>\n",
              "      <td>음식</td>\n",
              "      <td>Q12</td>\n",
              "      <td>커피점/카페</td>\n",
              "      <td>Q12A01</td>\n",
              "      <td>커피전문점/카페/다방</td>\n",
              "      <td>I56220</td>\n",
              "      <td>비알콜 음료점업</td>\n",
              "      <td>42</td>\n",
              "      <td>강원도</td>\n",
              "      <td>42820</td>\n",
              "      <td>고성군</td>\n",
              "      <td>4282025300</td>\n",
              "      <td>거진읍</td>\n",
              "      <td>4282025321</td>\n",
              "      <td>거진읍</td>\n",
              "      <td>4282025321101580104</td>\n",
              "      <td>1</td>\n",
              "      <td>대지</td>\n",
              "      <td>158</td>\n",
              "      <td>104.0</td>\n",
              "      <td>강원도 고성군 거진읍 거진리 158-104</td>\n",
              "      <td>428204502348</td>\n",
              "      <td>강원도 고성군 거진읍 행랑골길</td>\n",
              "      <td>6</td>\n",
              "      <td>NaN</td>\n",
              "      <td>4282025321101580104018419</td>\n",
              "      <td>수정다방</td>\n",
              "      <td>강원도 고성군 거진읍 행랑골길 6</td>\n",
              "      <td>219901.0</td>\n",
              "      <td>24714.0</td>\n",
              "      <td>NaN</td>\n",
              "      <td>NaN</td>\n",
              "      <td>NaN</td>\n",
              "      <td>128.456166</td>\n",
              "      <td>38.447977</td>\n",
              "    </tr>\n",
              "  </tbody>\n",
              "</table>\n",
              "</div>\n",
              "      <button class=\"colab-df-convert\" onclick=\"convertToInteractive('df-da7ece4b-53d2-43a9-9e69-d53e68e48ae4')\"\n",
              "              title=\"Convert this dataframe to an interactive table.\"\n",
              "              style=\"display:none;\">\n",
              "        \n",
              "  <svg xmlns=\"http://www.w3.org/2000/svg\" height=\"24px\"viewBox=\"0 0 24 24\"\n",
              "       width=\"24px\">\n",
              "    <path d=\"M0 0h24v24H0V0z\" fill=\"none\"/>\n",
              "    <path d=\"M18.56 5.44l.94 2.06.94-2.06 2.06-.94-2.06-.94-.94-2.06-.94 2.06-2.06.94zm-11 1L8.5 8.5l.94-2.06 2.06-.94-2.06-.94L8.5 2.5l-.94 2.06-2.06.94zm10 10l.94 2.06.94-2.06 2.06-.94-2.06-.94-.94-2.06-.94 2.06-2.06.94z\"/><path d=\"M17.41 7.96l-1.37-1.37c-.4-.4-.92-.59-1.43-.59-.52 0-1.04.2-1.43.59L10.3 9.45l-7.72 7.72c-.78.78-.78 2.05 0 2.83L4 21.41c.39.39.9.59 1.41.59.51 0 1.02-.2 1.41-.59l7.78-7.78 2.81-2.81c.8-.78.8-2.07 0-2.86zM5.41 20L4 18.59l7.72-7.72 1.47 1.35L5.41 20z\"/>\n",
              "  </svg>\n",
              "      </button>\n",
              "      \n",
              "  <style>\n",
              "    .colab-df-container {\n",
              "      display:flex;\n",
              "      flex-wrap:wrap;\n",
              "      gap: 12px;\n",
              "    }\n",
              "\n",
              "    .colab-df-convert {\n",
              "      background-color: #E8F0FE;\n",
              "      border: none;\n",
              "      border-radius: 50%;\n",
              "      cursor: pointer;\n",
              "      display: none;\n",
              "      fill: #1967D2;\n",
              "      height: 32px;\n",
              "      padding: 0 0 0 0;\n",
              "      width: 32px;\n",
              "    }\n",
              "\n",
              "    .colab-df-convert:hover {\n",
              "      background-color: #E2EBFA;\n",
              "      box-shadow: 0px 1px 2px rgba(60, 64, 67, 0.3), 0px 1px 3px 1px rgba(60, 64, 67, 0.15);\n",
              "      fill: #174EA6;\n",
              "    }\n",
              "\n",
              "    [theme=dark] .colab-df-convert {\n",
              "      background-color: #3B4455;\n",
              "      fill: #D2E3FC;\n",
              "    }\n",
              "\n",
              "    [theme=dark] .colab-df-convert:hover {\n",
              "      background-color: #434B5C;\n",
              "      box-shadow: 0px 1px 3px 1px rgba(0, 0, 0, 0.15);\n",
              "      filter: drop-shadow(0px 1px 2px rgba(0, 0, 0, 0.3));\n",
              "      fill: #FFFFFF;\n",
              "    }\n",
              "  </style>\n",
              "\n",
              "      <script>\n",
              "        const buttonEl =\n",
              "          document.querySelector('#df-da7ece4b-53d2-43a9-9e69-d53e68e48ae4 button.colab-df-convert');\n",
              "        buttonEl.style.display =\n",
              "          google.colab.kernel.accessAllowed ? 'block' : 'none';\n",
              "\n",
              "        async function convertToInteractive(key) {\n",
              "          const element = document.querySelector('#df-da7ece4b-53d2-43a9-9e69-d53e68e48ae4');\n",
              "          const dataTable =\n",
              "            await google.colab.kernel.invokeFunction('convertToInteractive',\n",
              "                                                     [key], {});\n",
              "          if (!dataTable) return;\n",
              "\n",
              "          const docLinkHtml = 'Like what you see? Visit the ' +\n",
              "            '<a target=\"_blank\" href=https://colab.research.google.com/notebooks/data_table.ipynb>data table notebook</a>'\n",
              "            + ' to learn more about interactive tables.';\n",
              "          element.innerHTML = '';\n",
              "          dataTable['output_type'] = 'display_data';\n",
              "          await google.colab.output.renderOutput(dataTable, element);\n",
              "          const docLink = document.createElement('div');\n",
              "          docLink.innerHTML = docLinkHtml;\n",
              "          element.appendChild(docLink);\n",
              "        }\n",
              "      </script>\n",
              "    </div>\n",
              "  </div>\n",
              "  "
            ]
          },
          "metadata": {},
          "execution_count": 20
        }
      ]
    },
    {
      "cell_type": "code",
      "source": [
        "df_coffee['상호명'].value_counts()"
      ],
      "metadata": {
        "colab": {
          "base_uri": "https://localhost:8080/"
        },
        "id": "u2a9uCgQI0_8",
        "outputId": "27c8e781-33c5-4dcc-9a04-f8af8334277a"
      },
      "execution_count": 21,
      "outputs": [
        {
          "output_type": "execute_result",
          "data": {
            "text/plain": [
              "카페           5218\n",
              "이디야커피        2075\n",
              "컴포즈커피        1376\n",
              "스타벅스         1208\n",
              "투썸플레이스        926\n",
              "             ... \n",
              "1993            1\n",
              "메가MGG커피         1\n",
              "서동카페            1\n",
              "록수다방            1\n",
              "메이크프로덕션지점       1\n",
              "Name: 상호명, Length: 65770, dtype: int64"
            ]
          },
          "metadata": {},
          "execution_count": 21
        }
      ]
    },
    {
      "cell_type": "code",
      "source": [
        "df_coffee.loc[df_coffee['상호명'].str.contains('이디야'),'상호명'].unique()"
      ],
      "metadata": {
        "colab": {
          "base_uri": "https://localhost:8080/"
        },
        "id": "2-pSPgQQJHAU",
        "outputId": "ac809475-d6c9-4db0-9548-be2fba587cb9"
      },
      "execution_count": 22,
      "outputs": [
        {
          "output_type": "execute_result",
          "data": {
            "text/plain": [
              "array(['이디야커피', '이디야에스프레소', '이디야커피강릉올림픽선수촌점', '이디야커피인제점인제점', '양양이디야',\n",
              "       '이디야커피낙원점', '이디야커피홍천제일점', '이디야커피장학점', '이디야커피전문점', '이디야커피수원영통디지털점',\n",
              "       '이디야커피숍', '이디야커피전문일산시장점', '이디야', '이디야커피남양주가운점', '이디야커피송탄점',\n",
              "       '이디야광명휴먼시아', '거산파트너스구래아크라시티이디야점', '이디야커피일산미래로타운점', '이디야커피동서울대점',\n",
              "       '이디야커피안산반월공단점', '이디야커피안산사동점', '이디야커피가현초교점', '이디야죽전벽산',\n",
              "       '이디야커피양주광적점', '시흥이디야', '이디야커피수지동천중앙점', '이디야-고잔이마트', '이디야커피미사망월점',\n",
              "       '이디야수원디지털엠파이어2', '이디야커피양주삼숭점', '이디야커피향남롯데시네마점',\n",
              "       '이디야판교중앙점EDIYACOFFEE', '이디야커피김포나비초교점', '이디야한양대애리카캠퍼스',\n",
              "       '이디야커피호매실중앙점', '코레일유통이디야커피', '이디야커피파주운정이마트점', '이디야파주동패',\n",
              "       '52아레테이디야미사센텀비즈점', '이디야점', '화서복지장학회이디야커피', '이디야커피창녕점',\n",
              "       '이디야커피김해부원동점', '이디야커피창원시민체육관점', '이디야창원이마트', '이티엔커머스이디야',\n",
              "       '이디야커피개양오거리점', '케이디야스텍', '이디야커피덕곡점덕곡점', '이디야커피경주황성유림점',\n",
              "       '이디야커피경북성주점', '이디야커피경주안강점', '이디야커피대구송현점', '이디야커피대명동점',\n",
              "       '이디야커피대구봉덕점', '이디야커피수영현대점', '이디야커피보수점', '이디야커피부산괴정대로점',\n",
              "       '이디야커피경마공원점', '이디야커피부산금강로점', '이디야커피서부산유통지구점', '이디야커피국제물류점',\n",
              "       '이디야커피유엔공원점', '이디야거제홈타운', '이디야커피프렌차이즈', '이디야커피양재AT점', '이디야서대문점2호',\n",
              "       '이디야IBK고객센터', '이디야커피돈암아리랑점', '이디야커피우장산동점', '이디야커피세광교회점',\n",
              "       '이디야커피동소문동점', '이디야커피낙원동점', '이디야커피마곡역점', '이디야커피한강공원로점',\n",
              "       '이디야커피창신중앙점', '이디야커피등촌동점', '이디야커피중곡대원점', '이디야커피신금호역점',\n",
              "       '이디야커피영등포본동점', '이디야커피정릉아리랑점', '이디야커피신당중앙점', '이디야커피용두점',\n",
              "       '이디야한국수출입은행', '이디야역삼플래티넘', '이디야커피전농뉴타운점', '이디야커피가좌역점',\n",
              "       '엠케이이디야마곡나루역점', '이디야커피선정릉역점', '이디야커피봉천중앙점', '을지사거리이디야커피숍',\n",
              "       '마스터키이디야마곡나루역점', '이디야커피월계인덕점', '이디야커피텐즈힐점', '이디야커피점',\n",
              "       '이디야커피신도림테크노마트', '이디야커피신림중앙점', '부일이디야커피', '이디야카페', '이디야커피망우점',\n",
              "       '이디야마들역', '이디야잠실', '이디야당산', '이디야커피달동사거리점', '이디야커피울산야음루첸점',\n",
              "       '이디야커피복산점', '이디야커피을왕리점', '이디야커피인천학익점', '이디야부평굴다리', '이디야커피인하공전점',\n",
              "       '송도이디야오네', '이디야커피영광백수해안도로점', '이디야커피광양포스코점', '이디야커피순천중앙점',\n",
              "       '이디야커피강진점', '이디야커피오창과학단지점', '이디야커피증평중앙점', '이디야커피청주분평점', '이디야드림플러스',\n",
              "       '이디야커피제주중문점', '이디야커피한라수목원점', '이디야커피서귀포이마트점', '이디야커피김제터미널점',\n",
              "       '이디야커피익산터미널점', '이디야커피군산수송동점', '이디야커피익산어양동점', '이디야커피고창터미널점',\n",
              "       '이디야커피격포점', '이디야커피익산역점', '이디야커피전주반월동점', '이디야커피전주팔복동점',\n",
              "       '이디야커피전주고속터미널점', '이디야안골네거리', '행복한도시이디야커피전주에코로마네', '이디야커피안면점',\n",
              "       '이디야커피천안상명대점', '이디야커피장항'], dtype=object)"
            ]
          },
          "metadata": {},
          "execution_count": 22
        }
      ]
    },
    {
      "cell_type": "code",
      "source": [
        "# 컬럼에서 '코드'가 들어 있는 컬럼을 제외한다."
      ],
      "metadata": {
        "id": "19qlnLyDKlx1"
      },
      "execution_count": 23,
      "outputs": []
    },
    {
      "cell_type": "code",
      "source": [
        "df_coffee.columns[df_coffee.columns.str.contains('코드')] + ['건물관리번호']\n",
        "df_coffee_drop = df_coffee.drop(columns = df_coffee.columns[df_coffee.columns.str.contains('코드')])"
      ],
      "metadata": {
        "id": "u2LbsziXMG3d"
      },
      "execution_count": 24,
      "outputs": []
    },
    {
      "cell_type": "code",
      "source": [
        "df_coffee_drop['상호명'].value_counts()[1:5]"
      ],
      "metadata": {
        "colab": {
          "base_uri": "https://localhost:8080/"
        },
        "id": "DxRvxNOcM0Pn",
        "outputId": "b7f92536-6618-4f12-a3e2-6d1f839d4926"
      },
      "execution_count": 25,
      "outputs": [
        {
          "output_type": "execute_result",
          "data": {
            "text/plain": [
              "이디야커피     2075\n",
              "컴포즈커피     1376\n",
              "스타벅스      1208\n",
              "투썸플레이스     926\n",
              "Name: 상호명, dtype: int64"
            ]
          },
          "metadata": {},
          "execution_count": 25
        }
      ]
    },
    {
      "cell_type": "code",
      "source": [
        "df_coffee_drop['상호명'].value_counts()[1:5].index"
      ],
      "metadata": {
        "colab": {
          "base_uri": "https://localhost:8080/"
        },
        "id": "YA7P28BFNqCT",
        "outputId": "b10e54ef-8448-4378-8678-489aa5b733d7"
      },
      "execution_count": 26,
      "outputs": [
        {
          "output_type": "execute_result",
          "data": {
            "text/plain": [
              "Index(['이디야커피', '컴포즈커피', '스타벅스', '투썸플레이스'], dtype='object')"
            ]
          },
          "metadata": {},
          "execution_count": 26
        }
      ]
    },
    {
      "cell_type": "code",
      "source": [
        "store_count = []\n",
        "for store in ['이디야', '컴포즈', '스타벅스', '투썸플레이스']:\n",
        "  count_ = len(df_coffee_drop.loc[df_coffee_drop['상호명'].str.contains(store), '상호명'])\n",
        "  store_count.append(count_)\n",
        "\n",
        "dict(zip(df_coffee_drop['상호명'].value_counts()[1:5].index,store_count))\n"
      ],
      "metadata": {
        "colab": {
          "base_uri": "https://localhost:8080/"
        },
        "id": "KVSaUQAtN2rg",
        "outputId": "a3577e2e-0d96-4be8-882f-19ea893d3d07"
      },
      "execution_count": 27,
      "outputs": [
        {
          "output_type": "execute_result",
          "data": {
            "text/plain": [
              "{'이디야커피': 2224, '컴포즈커피': 1437, '스타벅스': 1506, '투썸플레이스': 1119}"
            ]
          },
          "metadata": {},
          "execution_count": 27
        }
      ]
    },
    {
      "cell_type": "code",
      "source": [
        " # 4개 지점의 데이터만 추출 \n",
        " major_store_4 = ['이디야', '컴포즈', '스타벅스', '투썸플레이스'] "
      ],
      "metadata": {
        "id": "h9PuuEepPKbz"
      },
      "execution_count": 28,
      "outputs": []
    },
    {
      "cell_type": "code",
      "source": [
        "temp = [df_coffee_drop['상호명'].str.contains(i)  for i in major_store_4]"
      ],
      "metadata": {
        "id": "FD3GT7uvQuRh"
      },
      "execution_count": 29,
      "outputs": []
    },
    {
      "cell_type": "code",
      "source": [
        "from functools import reduce\n",
        "temp = reduce(lambda x,y: x+y, temp )"
      ],
      "metadata": {
        "id": "ModRhIFdQ59u"
      },
      "execution_count": 30,
      "outputs": []
    },
    {
      "cell_type": "code",
      "source": [
        "df_coffee_top4 = df_coffee_drop.loc[temp]\n",
        "\n",
        "temp = np.where(df_coffee_top4['상호명'].str.contains('이디야'),'이디야',np.nan)\n",
        "temp = np.where(df_coffee_top4['상호명'].str.contains('컴포즈'),'컴포즈',temp)\n",
        "temp = np.where(df_coffee_top4['상호명'].str.contains('스타벅스'),'스타벅스',temp)\n",
        "temp = np.where(df_coffee_top4['상호명'].str.contains('투썸플레이스'),'투썸플레이스',temp)\n",
        "df_coffee_top4['프렌차이즈명'] =temp"
      ],
      "metadata": {
        "colab": {
          "base_uri": "https://localhost:8080/"
        },
        "id": "5aDQk4uwRCA-",
        "outputId": "c4659ab2-7a72-4f59-a55c-cf1d89be395d"
      },
      "execution_count": 31,
      "outputs": [
        {
          "output_type": "stream",
          "name": "stderr",
          "text": [
            "<ipython-input-31-7b3983b8a7ac>:7: SettingWithCopyWarning: \n",
            "A value is trying to be set on a copy of a slice from a DataFrame.\n",
            "Try using .loc[row_indexer,col_indexer] = value instead\n",
            "\n",
            "See the caveats in the documentation: https://pandas.pydata.org/pandas-docs/stable/user_guide/indexing.html#returning-a-view-versus-a-copy\n",
            "  df_coffee_top4['프렌차이즈명'] =temp\n"
          ]
        }
      ]
    },
    {
      "cell_type": "code",
      "source": [
        "# 한글처리\n",
        "!sudo apt-get install -y fonts-nanum\n",
        "!sudo fc-cache -fv\n",
        "!rm ~/.cache/matplotlib -rf"
      ],
      "metadata": {
        "id": "_NW6aRhfYyJR"
      },
      "execution_count": null,
      "outputs": []
    },
    {
      "cell_type": "code",
      "source": [
        "# 런타임 재시작 이후\n",
        "import matplotlib.pyplot as plt\n",
        "plt.rc('font', family='NanumBarunGothic')"
      ],
      "metadata": {
        "id": "aEeaCurn3BKH"
      },
      "execution_count": null,
      "outputs": []
    },
    {
      "cell_type": "code",
      "source": [
        "import seaborn as sns\n",
        "plt.figure(figsize=(13,13))\n",
        "sns.scatterplot(data = df_coffee_top4,x = '경도', y='위도', hue='프렌차이즈명',alpha = 0.5)\n",
        "# df_coffee_top4.plot(kind = 'scatter', x = '경도', y='위도', grid=True)\n",
        "plt.show()"
      ],
      "metadata": {
        "colab": {
          "base_uri": "https://localhost:8080/",
          "height": 269
        },
        "id": "QKGQkWI7RakC",
        "outputId": "9f64f23a-5325-4fd7-f28e-73ce8de75d33"
      },
      "execution_count": 1,
      "outputs": [
        {
          "output_type": "error",
          "ename": "NameError",
          "evalue": "ignored",
          "traceback": [
            "\u001b[0;31m---------------------------------------------------------------------------\u001b[0m",
            "\u001b[0;31mNameError\u001b[0m                                 Traceback (most recent call last)",
            "\u001b[0;32m<ipython-input-1-71ce368c6c18>\u001b[0m in \u001b[0;36m<cell line: 6>\u001b[0;34m()\u001b[0m\n\u001b[1;32m      4\u001b[0m \u001b[0;32mimport\u001b[0m \u001b[0mseaborn\u001b[0m \u001b[0;32mas\u001b[0m \u001b[0msns\u001b[0m\u001b[0;34m\u001b[0m\u001b[0;34m\u001b[0m\u001b[0m\n\u001b[1;32m      5\u001b[0m \u001b[0mplt\u001b[0m\u001b[0;34m.\u001b[0m\u001b[0mfigure\u001b[0m\u001b[0;34m(\u001b[0m\u001b[0mfigsize\u001b[0m\u001b[0;34m=\u001b[0m\u001b[0;34m(\u001b[0m\u001b[0;36m13\u001b[0m\u001b[0;34m,\u001b[0m\u001b[0;36m13\u001b[0m\u001b[0;34m)\u001b[0m\u001b[0;34m)\u001b[0m\u001b[0;34m\u001b[0m\u001b[0;34m\u001b[0m\u001b[0m\n\u001b[0;32m----> 6\u001b[0;31m \u001b[0msns\u001b[0m\u001b[0;34m.\u001b[0m\u001b[0mscatterplot\u001b[0m\u001b[0;34m(\u001b[0m\u001b[0mdata\u001b[0m \u001b[0;34m=\u001b[0m \u001b[0mdf_coffee_top4\u001b[0m\u001b[0;34m,\u001b[0m\u001b[0mx\u001b[0m \u001b[0;34m=\u001b[0m \u001b[0;34m'경도'\u001b[0m\u001b[0;34m,\u001b[0m \u001b[0my\u001b[0m\u001b[0;34m=\u001b[0m\u001b[0;34m'위도'\u001b[0m\u001b[0;34m,\u001b[0m \u001b[0mhue\u001b[0m\u001b[0;34m=\u001b[0m\u001b[0;34m'프렌차이즈명'\u001b[0m\u001b[0;34m,\u001b[0m\u001b[0malpha\u001b[0m \u001b[0;34m=\u001b[0m \u001b[0;36m0.5\u001b[0m\u001b[0;34m)\u001b[0m\u001b[0;34m\u001b[0m\u001b[0;34m\u001b[0m\u001b[0m\n\u001b[0m\u001b[1;32m      7\u001b[0m \u001b[0;31m# df_coffee_top4.plot(kind = 'scatter', x = '경도', y='위도', grid=True)\u001b[0m\u001b[0;34m\u001b[0m\u001b[0;34m\u001b[0m\u001b[0m\n\u001b[1;32m      8\u001b[0m \u001b[0mplt\u001b[0m\u001b[0;34m.\u001b[0m\u001b[0mshow\u001b[0m\u001b[0;34m(\u001b[0m\u001b[0;34m)\u001b[0m\u001b[0;34m\u001b[0m\u001b[0;34m\u001b[0m\u001b[0m\n",
            "\u001b[0;31mNameError\u001b[0m: name 'df_coffee_top4' is not defined"
          ]
        },
        {
          "output_type": "display_data",
          "data": {
            "text/plain": [
              "<Figure size 1300x1300 with 0 Axes>"
            ]
          },
          "metadata": {}
        }
      ]
    },
    {
      "cell_type": "code",
      "source": [
        "import pandas as pd\n",
        "df_seoul = pd.read_csv('/content/drive/MyDrive/Colab Notebooks/data/상권분석/소상공인시장진흥공단_상가(상권)정보_서울_202212.csv')"
      ],
      "metadata": {
        "id": "iDpqEo4k3HkA"
      },
      "execution_count": 3,
      "outputs": []
    },
    {
      "cell_type": "code",
      "source": [
        "df_seoul['상권업종대분류명'].unique()"
      ],
      "metadata": {
        "colab": {
          "base_uri": "https://localhost:8080/"
        },
        "id": "jH7_spcDV0kA",
        "outputId": "7336deab-edc1-4ca3-9b3b-52e8c0804644"
      },
      "execution_count": 41,
      "outputs": [
        {
          "output_type": "execute_result",
          "data": {
            "text/plain": [
              "array(['생활서비스', '소매', '숙박', '음식', '학문/교육', '관광/여가/오락', '부동산', '스포츠'],\n",
              "      dtype=object)"
            ]
          },
          "metadata": {},
          "execution_count": 41
        }
      ]
    },
    {
      "cell_type": "code",
      "source": [
        "df_seoul['상권업종대분류명'].value_counts()"
      ],
      "metadata": {
        "colab": {
          "base_uri": "https://localhost:8080/"
        },
        "id": "itYgtF7J2ALm",
        "outputId": "3dbb537d-7515-4232-c472-b666e36e9e12"
      },
      "execution_count": 4,
      "outputs": [
        {
          "output_type": "execute_result",
          "data": {
            "text/plain": [
              "음식          125771\n",
              "소매          107460\n",
              "생활서비스        79679\n",
              "학문/교육        27288\n",
              "부동산          19784\n",
              "관광/여가/오락      9820\n",
              "스포츠           5420\n",
              "숙박            2502\n",
              "Name: 상권업종대분류명, dtype: int64"
            ]
          },
          "metadata": {},
          "execution_count": 4
        }
      ]
    },
    {
      "cell_type": "code",
      "source": [
        "sns.countplot(data=df_seoul, y='상권업종대분류명')\n",
        "plt.show()"
      ],
      "metadata": {
        "colab": {
          "base_uri": "https://localhost:8080/",
          "height": 449
        },
        "id": "w4Wc3nG_2qVy",
        "outputId": "019d75fe-67f3-4033-d2f3-b58d8cb6e935"
      },
      "execution_count": 6,
      "outputs": [
        {
          "output_type": "display_data",
          "data": {
            "text/plain": [
              "<Figure size 640x480 with 1 Axes>"
            ],
            "image/png": "[encoded data removed]"
          },
          "metadata": {}
        }
      ]
    },
    {
      "cell_type": "code",
      "source": [
        "df_seoul.columns"
      ],
      "metadata": {
        "colab": {
          "base_uri": "https://localhost:8080/"
        },
        "id": "Z9vET41v33A1",
        "outputId": "25bf969f-b714-4410-d4fb-76260580f8ee"
      },
      "execution_count": 7,
      "outputs": [
        {
          "output_type": "execute_result",
          "data": {
            "text/plain": [
              "Index(['상가업소번호', '상호명', '지점명', '상권업종대분류코드', '상권업종대분류명', '상권업종중분류코드',\n",
              "       '상권업종중분류명', '상권업종소분류코드', '상권업종소분류명', '표준산업분류코드', '표준산업분류명', '시도코드',\n",
              "       '시도명', '시군구코드', '시군구명', '행정동코드', '행정동명', '법정동코드', '법정동명', '지번코드',\n",
              "       '대지구분코드', '대지구분명', '지번본번지', '지번부번지', '지번주소', '도로명코드', '도로명', '건물본번지',\n",
              "       '건물부번지', '건물관리번호', '건물명', '도로명주소', '구우편번호', '신우편번호', '동정보', '층정보',\n",
              "       '호정보', '경도', '위도'],\n",
              "      dtype='object')"
            ]
          },
          "metadata": {},
          "execution_count": 7
        }
      ]
    },
    {
      "cell_type": "code",
      "source": [
        "# 상위 10개만 \n",
        "temp = df_seoul['상권업종중분류명'].value_counts()\n",
        "temp = df_seoul[df_seoul['상권업종중분류명'].isin(temp[:10].index)]['상권업종중분류명']\n",
        "temp = pd.DataFrame(temp)\n",
        "sns.countplot(temp, y = '상권업종중분류명')\n",
        "plt.show()"
      ],
      "metadata": {
        "colab": {
          "base_uri": "https://localhost:8080/",
          "height": 449
        },
        "id": "t6tJQqIH2yTH",
        "outputId": "2b0991b4-667e-478e-f672-6935cc224dfc"
      },
      "execution_count": 43,
      "outputs": [
        {
          "output_type": "display_data",
          "data": {
            "text/plain": [
              "<Figure size 640x480 with 1 Axes>"
            ],
            "image/png": "[encoded data removed]"
          },
          "metadata": {}
        }
      ]
    },
    {
      "cell_type": "code",
      "source": [
        "pd.options.display.max_columns = None"
      ],
      "metadata": {
        "id": "GvOaBTNM7vYn"
      },
      "execution_count": 45,
      "outputs": []
    },
    {
      "cell_type": "code",
      "source": [
        "# df_seoul[df_seoul['상호명'].str.contains('김밥','햄버거')]['상권업종중분류명'].unique()\n",
        "# df_seoul[df_seoul['상호명'].str.contains('김밥|햄버거')]['상권업종중분류명'].unique()\n",
        "df_seoul[df_seoul['상호명'].str.contains('햄버거')]['상권업종중분류명'].unique()"
      ],
      "metadata": {
        "colab": {
          "base_uri": "https://localhost:8080/"
        },
        "id": "SSnRJ-a88I9e",
        "outputId": "b90a57c1-e5f1-4e26-ebc1-2e272050903a"
      },
      "execution_count": 64,
      "outputs": [
        {
          "output_type": "execute_result",
          "data": {
            "text/plain": [
              "array(['패스트푸드', '한식', '양식'], dtype=object)"
            ]
          },
          "metadata": {},
          "execution_count": 64
        }
      ]
    },
    {
      "cell_type": "code",
      "source": [
        "df_seoul_fastfood = df_seoul[df_seoul['상권업종중분류명'] == '패스트푸드']\n",
        "df_seoul_fastfood.shape"
      ],
      "metadata": {
        "colab": {
          "base_uri": "https://localhost:8080/"
        },
        "id": "jCcEkcT08Llm",
        "outputId": "8695d9fc-d3d7-4e6c-d95b-1f56d5192b1a"
      },
      "execution_count": 57,
      "outputs": [
        {
          "output_type": "execute_result",
          "data": {
            "text/plain": [
              "(6057, 39)"
            ]
          },
          "metadata": {},
          "execution_count": 57
        }
      ]
    },
    {
      "cell_type": "code",
      "source": [
        "pd.options.display.max_rows = None\n",
        "fastFood_cnt = [\n",
        "len(df_seoul_fastfood[df_seoul_fastfood['상호명'].str.contains('롯데|롯대')]),\n",
        "len(df_seoul_fastfood[df_seoul_fastfood['상호명'].str.contains('맥도|멕도')]),\n",
        "len(df_seoul_fastfood[df_seoul_fastfood['상호명'].str.contains('버거킹')])\n",
        "]"
      ],
      "metadata": {
        "id": "fA5-MpYoCDt3"
      },
      "execution_count": 73,
      "outputs": []
    },
    {
      "cell_type": "code",
      "source": [
        "# 패스트푸드점 입지분석\n",
        "# 서울에 3개 버거패스트푸드점의 갯수와 비율\n",
        "# 지도에 표시 - x:경도 y:위도 seaborn\n",
        "# folium을 이용해서 표시"
      ],
      "metadata": {
        "id": "RwfnRdcdCWLa"
      },
      "execution_count": null,
      "outputs": []
    },
    {
      "cell_type": "code",
      "source": [
        "\n",
        "sns.barplot(x = ['롯데리아','맥도널드','버거킹'], y = fastFood_cnt)"
      ],
      "metadata": {
        "colab": {
          "base_uri": "https://localhost:8080/",
          "height": 449
        },
        "id": "xeFKrw8IIYlZ",
        "outputId": "0f09ba0c-0962-4998-a32e-65b9dbddab46"
      },
      "execution_count": 75,
      "outputs": [
        {
          "output_type": "execute_result",
          "data": {
            "text/plain": [
              "<Axes: >"
            ]
          },
          "metadata": {},
          "execution_count": 75
        },
        {
          "output_type": "display_data",
          "data": {
            "text/plain": [
              "<Figure size 640x480 with 1 Axes>"
            ],
            "image/png": "[encoded data removed]"
          },
          "metadata": {}
        }
      ]
    },
    {
      "cell_type": "code",
      "source": [
        "import numpy as np\n",
        "np.array(fastFood_cnt).sum()\n",
        "list(map(lambda x : round( x / np.array(fastFood_cnt).sum(),4), fastFood_cnt))\n",
        "\n"
      ],
      "metadata": {
        "colab": {
          "base_uri": "https://localhost:8080/"
        },
        "id": "up0bL26AIY13",
        "outputId": "855726ee-4ee9-4ab7-85c3-2fa63bb977ad"
      },
      "execution_count": 91,
      "outputs": [
        {
          "output_type": "execute_result",
          "data": {
            "text/plain": [
              "[0.3859, 0.2789, 0.3352]"
            ]
          },
          "metadata": {},
          "execution_count": 91
        }
      ]
    },
    {
      "cell_type": "code",
      "source": [
        "# 지도 seaborn\n",
        "df_seoul['경도'].head()\n",
        "df_seoul['위도'].head()\n",
        "df_seoul['도로명주소'].head()\n",
        "df_seoul['상호명'].head()"
      ],
      "metadata": {
        "colab": {
          "base_uri": "https://localhost:8080/"
        },
        "id": "jUwr8DicI8LP",
        "outputId": "0eca701e-0f52-4035-c146-f8518ef2c023"
      },
      "execution_count": 98,
      "outputs": [
        {
          "output_type": "execute_result",
          "data": {
            "text/plain": [
              "0         제중건강원\n",
              "1         민속악기사\n",
              "2         태평양진주\n",
              "3    김선희꼼꼼국어교습소\n",
              "4           비지트\n",
              "Name: 상호명, dtype: object"
            ]
          },
          "metadata": {},
          "execution_count": 98
        }
      ]
    },
    {
      "cell_type": "code",
      "source": [
        "temp1 = df_seoul_fastfood[df_seoul_fastfood['상호명'].str.contains('롯데|롯대')][['경도','위도','도로명주소']]\n",
        "temp2 = df_seoul_fastfood[df_seoul_fastfood['상호명'].str.contains('맥도|멕도')][['경도','위도','도로명주소']]\n",
        "temp3 = df_seoul_fastfood[df_seoul_fastfood['상호명'].str.contains('버거킹')][['경도','위도','도로명주소']]"
      ],
      "metadata": {
        "id": "NCiluNIsKWji"
      },
      "execution_count": 105,
      "outputs": []
    },
    {
      "cell_type": "code",
      "source": [
        "temp1['브랜드명'] = '롯데리아'\n",
        "temp2['브랜드명'] = '맥도널드'\n",
        "temp3['브랜드명'] = '버거킹'"
      ],
      "metadata": {
        "id": "6CoQd4oQK6fA"
      },
      "execution_count": 106,
      "outputs": []
    },
    {
      "cell_type": "code",
      "source": [
        "fastfood3_df =  pd.concat([temp1,temp2,temp3])\n",
        "fastfood3_df = fastfood3_df.reset_index(drop=True)\n",
        "sns.scatterplot(data = fastfood3_df, x='경도',y='위도', hue='브랜드명')\n",
        "plt.show()"
      ],
      "metadata": {
        "colab": {
          "base_uri": "https://localhost:8080/",
          "height": 449
        },
        "id": "eefAB75hLBew",
        "outputId": "530fe7f5-7d40-4944-f182-03b56ae7e5d5"
      },
      "execution_count": 107,
      "outputs": [
        {
          "output_type": "display_data",
          "data": {
            "text/plain": [
              "<Figure size 640x480 with 1 Axes>"
            ],
            "image/png": "[encoded data removed]"
          },
          "metadata": {}
        }
      ]
    },
    {
      "cell_type": "code",
      "source": [
        "import folium\n",
        "from folium.plugins import MarkerCluster"
      ],
      "metadata": {
        "id": "ZyxrVTvjLzxW"
      },
      "execution_count": 128,
      "outputs": []
    },
    {
      "cell_type": "code",
      "source": [
        "map = folium.Map(location= [ fastfood3_df['위도'].mean() , fastfood3_df['경도'].mean()  ],zoom_start=12  )"
      ],
      "metadata": {
        "id": "lWtdRWNsL6xA"
      },
      "execution_count": 139,
      "outputs": []
    },
    {
      "cell_type": "code",
      "source": [
        "marker_cluser =  MarkerCluster().add_to(map)"
      ],
      "metadata": {
        "id": "VZpwx4v5NXn4"
      },
      "execution_count": 140,
      "outputs": []
    },
    {
      "cell_type": "code",
      "source": [
        "fastfood3_df = fastfood3_df.reset_index(drop=True)\n",
        "for i in range(len(fastfood3_df)):\n",
        "  if fastfood3_df.loc[i,'브랜드명'] == '롯데리아':\n",
        "    icon_color = 'red'\n",
        "  elif fastfood3_df.loc[i,'브랜드명'] == '맥도널드':\n",
        "    icon_color = 'green'\n",
        "  else:\n",
        "    icon_color = 'blue'\n",
        "\n",
        "  folium.Marker( (fastfood3_df['위도'][i],fastfood3_df['경도'][i]),\n",
        "                popup = fastfood3_df['도로명주소'][i],\n",
        "                icon = folium.Icon(color = icon_color)\n",
        "                ).add_to(marker_cluser)"
      ],
      "metadata": {
        "id": "hNcwYJQ-Mv-A"
      },
      "execution_count": 148,
      "outputs": []
    },
    {
      "cell_type": "code",
      "source": [
        "map"
      ],
      "metadata": {
        "id": "Krm3fIQgPZEI"
      },
      "execution_count": null,
      "outputs": []
    },
    {
      "cell_type": "code",
      "source": [],
      "metadata": {
        "id": "ACPmiW6TPbGw"
      },
      "execution_count": null,
      "outputs": []
    }
  ]
}