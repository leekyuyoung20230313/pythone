{
  "nbformat": 4,
  "nbformat_minor": 0,
  "metadata": {
    "colab": {
      "provenance": []
    },
    "kernelspec": {
      "name": "python3",
      "display_name": "Python 3"
    },
    "language_info": {
      "name": "python"
    }
  },
  "cells": [
    {
      "cell_type": "code",
      "execution_count": null,
      "metadata": {
        "id": "8UnYjTe3mQb4"
      },
      "outputs": [],
      "source": [
        "# 상권 분석\n",
        "# https://www.data.go.kr/data/15083033/fileData.do"
      ]
    },
    {
      "cell_type": "code",
      "source": [
        "!unzip '/content/drive/MyDrive/Colab Notebooks/소상공인시장진흥공단_상가(상권)정보_20221231.zip' -d '/content/drive/MyDrive/Colab Notebooks/data/상권분석'"
      ],
      "metadata": {
        "colab": {
          "base_uri": "https://localhost:8080/"
        },
        "id": "X12doGWstctB",
        "outputId": "b97638b6-5e75-4dd6-870c-7887770f3720"
      },
      "execution_count": 1,
      "outputs": [
        {
          "output_type": "stream",
          "name": "stdout",
          "text": [
            "Archive:  /content/drive/MyDrive/Colab Notebooks/소상공인시장진흥공단_상가(상권)정보_20221231.zip\n",
            "replace /content/drive/MyDrive/Colab Notebooks/data/상권분석/[필독]파일열람방법.txt? [y]es, [n]o, [A]ll, [N]one, [r]ename: A\n",
            "  inflating: /content/drive/MyDrive/Colab Notebooks/data/상권분석/[필독]파일열람방법.txt  \n",
            "  inflating: /content/drive/MyDrive/Colab Notebooks/data/상권분석/소상공인시장진흥공단_상가(상권)정보_강원_202212.csv  \n",
            "  inflating: /content/drive/MyDrive/Colab Notebooks/data/상권분석/소상공인시장진흥공단_상가(상권)정보_경기_202212.csv  \n",
            "  inflating: /content/drive/MyDrive/Colab Notebooks/data/상권분석/소상공인시장진흥공단_상가(상권)정보_경남_202212.csv  \n",
            "  inflating: /content/drive/MyDrive/Colab Notebooks/data/상권분석/소상공인시장진흥공단_상가(상권)정보_경북_202212.csv  \n",
            "  inflating: /content/drive/MyDrive/Colab Notebooks/data/상권분석/소상공인시장진흥공단_상가(상권)정보_광주_202212.csv  \n",
            "  inflating: /content/drive/MyDrive/Colab Notebooks/data/상권분석/소상공인시장진흥공단_상가(상권)정보_대구_202212.csv  \n",
            "  inflating: /content/drive/MyDrive/Colab Notebooks/data/상권분석/소상공인시장진흥공단_상가(상권)정보_대전_202212.csv  \n",
            "  inflating: /content/drive/MyDrive/Colab Notebooks/data/상권분석/소상공인시장진흥공단_상가(상권)정보_부산_202212.csv  \n",
            "  inflating: /content/drive/MyDrive/Colab Notebooks/data/상권분석/소상공인시장진흥공단_상가(상권)정보_서울_202212.csv  \n",
            "  inflating: /content/drive/MyDrive/Colab Notebooks/data/상권분석/소상공인시장진흥공단_상가(상권)정보_세종_202212.csv  \n",
            "  inflating: /content/drive/MyDrive/Colab Notebooks/data/상권분석/소상공인시장진흥공단_상가(상권)정보_울산_202212.csv  \n",
            "  inflating: /content/drive/MyDrive/Colab Notebooks/data/상권분석/소상공인시장진흥공단_상가(상권)정보_인천_202212.csv  \n",
            "  inflating: /content/drive/MyDrive/Colab Notebooks/data/상권분석/소상공인시장진흥공단_상가(상권)정보_전남_202212.csv  \n",
            "  inflating: /content/drive/MyDrive/Colab Notebooks/data/상권분석/소상공인시장진흥공단_상가(상권)정보_전북_202212.csv  \n",
            "  inflating: /content/drive/MyDrive/Colab Notebooks/data/상권분석/소상공인시장진흥공단_상가(상권)정보_제주_202212.csv  \n",
            "  inflating: /content/drive/MyDrive/Colab Notebooks/data/상권분석/소상공인시장진흥공단_상가(상권)정보_충남_202212.csv  \n",
            "  inflating: /content/drive/MyDrive/Colab Notebooks/data/상권분석/소상공인시장진흥공단_상가(상권)정보_충북_202212.csv  \n"
          ]
        }
      ]
    },
    {
      "cell_type": "code",
      "source": [
        "import glob\n",
        "import pandas as pd\n",
        "file_lists = glob.glob('/content/drive/MyDrive/Colab Notebooks/data/상권분석/*.csv')"
      ],
      "metadata": {
        "id": "na-uu13_tl5x"
      },
      "execution_count": 3,
      "outputs": []
    },
    {
      "cell_type": "code",
      "source": [
        "import pandas as pd\n",
        "import numpy as np\n",
        "import seaborn as sns\n",
        "import folium"
      ],
      "metadata": {
        "id": "jYP8MaN0xJ-I"
      },
      "execution_count": 6,
      "outputs": []
    },
    {
      "cell_type": "code",
      "source": [
        "df_202212_세종 = pd.read_csv(file_lists[0])\n",
        "df_202212_세종.shape"
      ],
      "metadata": {
        "colab": {
          "base_uri": "https://localhost:8080/"
        },
        "id": "OL8N42XV2vKR",
        "outputId": "5b74d232-3a0f-4cfe-8c42-5e5bd30c6f08"
      },
      "execution_count": 8,
      "outputs": [
        {
          "output_type": "execute_result",
          "data": {
            "text/plain": [
              "(13399, 39)"
            ]
          },
          "metadata": {},
          "execution_count": 8
        }
      ]
    },
    {
      "cell_type": "code",
      "source": [
        "df_202212_세종.columns"
      ],
      "metadata": {
        "colab": {
          "base_uri": "https://localhost:8080/"
        },
        "id": "4smBqX2-28dq",
        "outputId": "0133d28c-f051-4afa-dd59-b27e30c43fda"
      },
      "execution_count": 9,
      "outputs": [
        {
          "output_type": "execute_result",
          "data": {
            "text/plain": [
              "Index(['상가업소번호', '상호명', '지점명', '상권업종대분류코드', '상권업종대분류명', '상권업종중분류코드',\n",
              "       '상권업종중분류명', '상권업종소분류코드', '상권업종소분류명', '표준산업분류코드', '표준산업분류명', '시도코드',\n",
              "       '시도명', '시군구코드', '시군구명', '행정동코드', '행정동명', '법정동코드', '법정동명', '지번코드',\n",
              "       '대지구분코드', '대지구분명', '지번본번지', '지번부번지', '지번주소', '도로명코드', '도로명', '건물본번지',\n",
              "       '건물부번지', '건물관리번호', '건물명', '도로명주소', '구우편번호', '신우편번호', '동정보', '층정보',\n",
              "       '호정보', '경도', '위도'],\n",
              "      dtype='object')"
            ]
          },
          "metadata": {},
          "execution_count": 9
        }
      ]
    },
    {
      "cell_type": "code",
      "source": [
        "# 상권중에 커피가 들어간 업종의 갯수\n",
        "df_coffee =  df_202212_세종[df_202212_세종['상권업종소분류명'].str.contains('커피')]\n",
        "df_coffee.shape"
      ],
      "metadata": {
        "colab": {
          "base_uri": "https://localhost:8080/"
        },
        "id": "RTpCV9Ch3Wpq",
        "outputId": "62262a12-a5b7-4b31-873e-31c8a10b1409"
      },
      "execution_count": 23,
      "outputs": [
        {
          "output_type": "execute_result",
          "data": {
            "text/plain": [
              "(679, 39)"
            ]
          },
          "metadata": {},
          "execution_count": 23
        }
      ]
    },
    {
      "cell_type": "code",
      "source": [
        "# 서울의 커피전문점의 개수  \n",
        "df_seoul = pd.read_csv( file_lists[-2])\n",
        "df_seoul[df_seoul['상권업종소분류명'].str.contains('커피')]\n",
        "df_seoul.shape"
      ],
      "metadata": {
        "colab": {
          "base_uri": "https://localhost:8080/"
        },
        "id": "9ibNPgwq3kFi",
        "outputId": "2ffb22be-1a3d-4998-8628-e87e2d495ab7"
      },
      "execution_count": 25,
      "outputs": [
        {
          "output_type": "execute_result",
          "data": {
            "text/plain": [
              "(377724, 39)"
            ]
          },
          "metadata": {},
          "execution_count": 25
        }
      ]
    },
    {
      "cell_type": "code",
      "source": [
        "df_seoul2 =  df_seoul[df_seoul['상권업종소분류명'].str.contains('커피')]"
      ],
      "metadata": {
        "id": "BTYhOBnu58dC"
      },
      "execution_count": 28,
      "outputs": []
    },
    {
      "cell_type": "code",
      "source": [
        "# 커피전문점의 이름들...\n",
        "# 상호명중에 가장 많은 이름의 상호를 찾아보자\n",
        "df_seoul2['상호명'].value_counts()[:10]"
      ],
      "metadata": {
        "colab": {
          "base_uri": "https://localhost:8080/"
        },
        "id": "HltQwOEh6L0R",
        "outputId": "104b019b-da50-4bcd-e752-bcbd185f1e50"
      },
      "execution_count": 31,
      "outputs": [
        {
          "output_type": "execute_result",
          "data": {
            "text/plain": [
              "카페         710\n",
              "이디야커피      400\n",
              "스타벅스       324\n",
              "메가엠지씨커피    239\n",
              "컴포즈커피      226\n",
              "투썸플레이스     180\n",
              "빽다방        157\n",
              "공차         107\n",
              "커피빈        101\n",
              "커피베이        95\n",
              "Name: 상호명, dtype: int64"
            ]
          },
          "metadata": {},
          "execution_count": 31
        }
      ]
    },
    {
      "cell_type": "code",
      "source": [
        "df_coffee_id =  df_seoul2[df_seoul2['상호명'] == '이디야커피']\n",
        "df_coffee_id.reset_index(drop=True,inplace=True)"
      ],
      "metadata": {
        "id": "aZ6Tq9WD7NHZ"
      },
      "execution_count": 36,
      "outputs": []
    },
    {
      "cell_type": "code",
      "source": [
        "# 중복없이 지점만 출력\n",
        "df_coffee_id['지점명'].unique()"
      ],
      "metadata": {
        "id": "ouWuapXs7gWK"
      },
      "execution_count": null,
      "outputs": []
    },
    {
      "cell_type": "code",
      "source": [
        "# 전처리... (커피전문점에 대해.... 이디야커피)\n",
        "# 지점명이 na이면 해당 na의 상호명으로 대체\n",
        "df_coffee_id[df_coffee_id['지점명'].isna()]"
      ],
      "metadata": {
        "id": "ISs4muE5-Bpa"
      },
      "execution_count": null,
      "outputs": []
    },
    {
      "cell_type": "code",
      "source": [
        "temp = df_coffee_id.loc[:,['상호명','지점명']].ffill(axis=1)\n",
        "df_coffee_id.loc[:,'지점명']  = temp['지점명']"
      ],
      "metadata": {
        "colab": {
          "base_uri": "https://localhost:8080/"
        },
        "id": "Ma-Zo24i-jEq",
        "outputId": "5d8f7fc0-ec27-4b66-b05b-4afc27ae31bc"
      },
      "execution_count": 50,
      "outputs": [
        {
          "output_type": "stream",
          "name": "stderr",
          "text": [
            "<ipython-input-50-f39628850e5d>:2: SettingWithCopyWarning: \n",
            "A value is trying to be set on a copy of a slice from a DataFrame.\n",
            "Try using .loc[row_indexer,col_indexer] = value instead\n",
            "\n",
            "See the caveats in the documentation: https://pandas.pydata.org/pandas-docs/stable/user_guide/indexing.html#returning-a-view-versus-a-copy\n",
            "  df_coffee_id.loc[:,'지점명']  = temp['지점명']\n"
          ]
        }
      ]
    },
    {
      "cell_type": "code",
      "source": [
        "pd.options.display.max_columns = None"
      ],
      "metadata": {
        "id": "8-eOFrzsBORb"
      },
      "execution_count": 52,
      "outputs": []
    },
    {
      "cell_type": "code",
      "source": [
        "df_coffee_id.head(1)"
      ],
      "metadata": {
        "colab": {
          "base_uri": "https://localhost:8080/",
          "height": 509
        },
        "id": "UZJSRFB2BpKr",
        "outputId": "1016093c-572a-4043-c1ce-c1f32be6135e"
      },
      "execution_count": 53,
      "outputs": [
        {
          "output_type": "execute_result",
          "data": {
            "text/plain": [
              "     상가업소번호    상호명   지점명 상권업종대분류코드 상권업종대분류명 상권업종중분류코드 상권업종중분류명 상권업종소분류코드  \\\n",
              "0  25435527  이디야커피  신길역점         Q       음식       Q12   커피점/카페    Q12A01   \n",
              "\n",
              "      상권업종소분류명 표준산업분류코드   표준산업분류명  시도코드    시도명  시군구코드  시군구명       행정동코드  행정동명  \\\n",
              "0  커피전문점/카페/다방   I56220  비알콜 음료점업    11  서울특별시  11560  영등포구  1156063000  신길1동   \n",
              "\n",
              "        법정동코드 법정동명                 지번코드  대지구분코드 대지구분명  지번본번지  지번부번지  \\\n",
              "0  1156013200  신길동  1156013200100590002       1    대지     59    2.0   \n",
              "\n",
              "                  지번주소         도로명코드              도로명  건물본번지  건물부번지  \\\n",
              "0  서울특별시 영등포구 신길동 59-2  115603118022  서울특별시 영등포구 영등포로    353    NaN   \n",
              "\n",
              "                      건물관리번호      건물명                도로명주소   구우편번호   신우편번호  \\\n",
              "0  1156013200100590002019075  엔씨티오피스텔  서울특별시 영등포구 영등포로 353  150050  7318.0   \n",
              "\n",
              "   동정보 층정보  호정보          경도         위도  \n",
              "0  NaN   1  NaN  126.918062  37.515118  "
            ],
            "text/html": [
              "\n",
              "  <div id=\"df-30741953-6047-4558-afcb-2dedb1de5468\">\n",
              "    <div class=\"colab-df-container\">\n",
              "      <div>\n",
              "<style scoped>\n",
              "    .dataframe tbody tr th:only-of-type {\n",
              "        vertical-align: middle;\n",
              "    }\n",
              "\n",
              "    .dataframe tbody tr th {\n",
              "        vertical-align: top;\n",
              "    }\n",
              "\n",
              "    .dataframe thead th {\n",
              "        text-align: right;\n",
              "    }\n",
              "</style>\n",
              "<table border=\"1\" class=\"dataframe\">\n",
              "  <thead>\n",
              "    <tr style=\"text-align: right;\">\n",
              "      <th></th>\n",
              "      <th>상가업소번호</th>\n",
              "      <th>상호명</th>\n",
              "      <th>지점명</th>\n",
              "      <th>상권업종대분류코드</th>\n",
              "      <th>상권업종대분류명</th>\n",
              "      <th>상권업종중분류코드</th>\n",
              "      <th>상권업종중분류명</th>\n",
              "      <th>상권업종소분류코드</th>\n",
              "      <th>상권업종소분류명</th>\n",
              "      <th>표준산업분류코드</th>\n",
              "      <th>표준산업분류명</th>\n",
              "      <th>시도코드</th>\n",
              "      <th>시도명</th>\n",
              "      <th>시군구코드</th>\n",
              "      <th>시군구명</th>\n",
              "      <th>행정동코드</th>\n",
              "      <th>행정동명</th>\n",
              "      <th>법정동코드</th>\n",
              "      <th>법정동명</th>\n",
              "      <th>지번코드</th>\n",
              "      <th>대지구분코드</th>\n",
              "      <th>대지구분명</th>\n",
              "      <th>지번본번지</th>\n",
              "      <th>지번부번지</th>\n",
              "      <th>지번주소</th>\n",
              "      <th>도로명코드</th>\n",
              "      <th>도로명</th>\n",
              "      <th>건물본번지</th>\n",
              "      <th>건물부번지</th>\n",
              "      <th>건물관리번호</th>\n",
              "      <th>건물명</th>\n",
              "      <th>도로명주소</th>\n",
              "      <th>구우편번호</th>\n",
              "      <th>신우편번호</th>\n",
              "      <th>동정보</th>\n",
              "      <th>층정보</th>\n",
              "      <th>호정보</th>\n",
              "      <th>경도</th>\n",
              "      <th>위도</th>\n",
              "    </tr>\n",
              "  </thead>\n",
              "  <tbody>\n",
              "    <tr>\n",
              "      <th>0</th>\n",
              "      <td>25435527</td>\n",
              "      <td>이디야커피</td>\n",
              "      <td>신길역점</td>\n",
              "      <td>Q</td>\n",
              "      <td>음식</td>\n",
              "      <td>Q12</td>\n",
              "      <td>커피점/카페</td>\n",
              "      <td>Q12A01</td>\n",
              "      <td>커피전문점/카페/다방</td>\n",
              "      <td>I56220</td>\n",
              "      <td>비알콜 음료점업</td>\n",
              "      <td>11</td>\n",
              "      <td>서울특별시</td>\n",
              "      <td>11560</td>\n",
              "      <td>영등포구</td>\n",
              "      <td>1156063000</td>\n",
              "      <td>신길1동</td>\n",
              "      <td>1156013200</td>\n",
              "      <td>신길동</td>\n",
              "      <td>1156013200100590002</td>\n",
              "      <td>1</td>\n",
              "      <td>대지</td>\n",
              "      <td>59</td>\n",
              "      <td>2.0</td>\n",
              "      <td>서울특별시 영등포구 신길동 59-2</td>\n",
              "      <td>115603118022</td>\n",
              "      <td>서울특별시 영등포구 영등포로</td>\n",
              "      <td>353</td>\n",
              "      <td>NaN</td>\n",
              "      <td>1156013200100590002019075</td>\n",
              "      <td>엔씨티오피스텔</td>\n",
              "      <td>서울특별시 영등포구 영등포로 353</td>\n",
              "      <td>150050</td>\n",
              "      <td>7318.0</td>\n",
              "      <td>NaN</td>\n",
              "      <td>1</td>\n",
              "      <td>NaN</td>\n",
              "      <td>126.918062</td>\n",
              "      <td>37.515118</td>\n",
              "    </tr>\n",
              "  </tbody>\n",
              "</table>\n",
              "</div>\n",
              "      <button class=\"colab-df-convert\" onclick=\"convertToInteractive('df-30741953-6047-4558-afcb-2dedb1de5468')\"\n",
              "              title=\"Convert this dataframe to an interactive table.\"\n",
              "              style=\"display:none;\">\n",
              "        \n",
              "  <svg xmlns=\"http://www.w3.org/2000/svg\" height=\"24px\"viewBox=\"0 0 24 24\"\n",
              "       width=\"24px\">\n",
              "    <path d=\"M0 0h24v24H0V0z\" fill=\"none\"/>\n",
              "    <path d=\"M18.56 5.44l.94 2.06.94-2.06 2.06-.94-2.06-.94-.94-2.06-.94 2.06-2.06.94zm-11 1L8.5 8.5l.94-2.06 2.06-.94-2.06-.94L8.5 2.5l-.94 2.06-2.06.94zm10 10l.94 2.06.94-2.06 2.06-.94-2.06-.94-.94-2.06-.94 2.06-2.06.94z\"/><path d=\"M17.41 7.96l-1.37-1.37c-.4-.4-.92-.59-1.43-.59-.52 0-1.04.2-1.43.59L10.3 9.45l-7.72 7.72c-.78.78-.78 2.05 0 2.83L4 21.41c.39.39.9.59 1.41.59.51 0 1.02-.2 1.41-.59l7.78-7.78 2.81-2.81c.8-.78.8-2.07 0-2.86zM5.41 20L4 18.59l7.72-7.72 1.47 1.35L5.41 20z\"/>\n",
              "  </svg>\n",
              "      </button>\n",
              "      \n",
              "  <style>\n",
              "    .colab-df-container {\n",
              "      display:flex;\n",
              "      flex-wrap:wrap;\n",
              "      gap: 12px;\n",
              "    }\n",
              "\n",
              "    .colab-df-convert {\n",
              "      background-color: #E8F0FE;\n",
              "      border: none;\n",
              "      border-radius: 50%;\n",
              "      cursor: pointer;\n",
              "      display: none;\n",
              "      fill: #1967D2;\n",
              "      height: 32px;\n",
              "      padding: 0 0 0 0;\n",
              "      width: 32px;\n",
              "    }\n",
              "\n",
              "    .colab-df-convert:hover {\n",
              "      background-color: #E2EBFA;\n",
              "      box-shadow: 0px 1px 2px rgba(60, 64, 67, 0.3), 0px 1px 3px 1px rgba(60, 64, 67, 0.15);\n",
              "      fill: #174EA6;\n",
              "    }\n",
              "\n",
              "    [theme=dark] .colab-df-convert {\n",
              "      background-color: #3B4455;\n",
              "      fill: #D2E3FC;\n",
              "    }\n",
              "\n",
              "    [theme=dark] .colab-df-convert:hover {\n",
              "      background-color: #434B5C;\n",
              "      box-shadow: 0px 1px 3px 1px rgba(0, 0, 0, 0.15);\n",
              "      filter: drop-shadow(0px 1px 2px rgba(0, 0, 0, 0.3));\n",
              "      fill: #FFFFFF;\n",
              "    }\n",
              "  </style>\n",
              "\n",
              "      <script>\n",
              "        const buttonEl =\n",
              "          document.querySelector('#df-30741953-6047-4558-afcb-2dedb1de5468 button.colab-df-convert');\n",
              "        buttonEl.style.display =\n",
              "          google.colab.kernel.accessAllowed ? 'block' : 'none';\n",
              "\n",
              "        async function convertToInteractive(key) {\n",
              "          const element = document.querySelector('#df-30741953-6047-4558-afcb-2dedb1de5468');\n",
              "          const dataTable =\n",
              "            await google.colab.kernel.invokeFunction('convertToInteractive',\n",
              "                                                     [key], {});\n",
              "          if (!dataTable) return;\n",
              "\n",
              "          const docLinkHtml = 'Like what you see? Visit the ' +\n",
              "            '<a target=\"_blank\" href=https://colab.research.google.com/notebooks/data_table.ipynb>data table notebook</a>'\n",
              "            + ' to learn more about interactive tables.';\n",
              "          element.innerHTML = '';\n",
              "          dataTable['output_type'] = 'display_data';\n",
              "          await google.colab.output.renderOutput(dataTable, element);\n",
              "          const docLink = document.createElement('div');\n",
              "          docLink.innerHTML = docLinkHtml;\n",
              "          element.appendChild(docLink);\n",
              "        }\n",
              "      </script>\n",
              "    </div>\n",
              "  </div>\n",
              "  "
            ]
          },
          "metadata": {},
          "execution_count": 53
        }
      ]
    },
    {
      "cell_type": "code",
      "source": [
        "# 전국데이터에 대해서\n",
        "# 1. 상권업종소분류명 에 커피가 포함되어  있는 데이터를 찾아서\n",
        "# 2. 상호명의 수를 count하고\n",
        "# 3. 가장많이 나온 프랜차이즈 상호에대해서 데이터를 정리.."
      ],
      "metadata": {
        "id": "nNd3rYujB1GM"
      },
      "execution_count": null,
      "outputs": []
    }
  ]
}