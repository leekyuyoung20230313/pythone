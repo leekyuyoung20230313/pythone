{
  "nbformat": 4,
  "nbformat_minor": 0,
  "metadata": {
    "colab": {
      "provenance": []
    },
    "kernelspec": {
      "name": "python3",
      "display_name": "Python 3"
    },
    "language_info": {
      "name": "python"
    }
  },
  "cells": [
    {
      "cell_type": "code",
      "execution_count": 3,
      "metadata": {
        "colab": {
          "base_uri": "https://localhost:8080/",
          "height": 107
        },
        "id": "O5EzGNhNaYO3",
        "outputId": "cd3a7036-883a-4b65-9b3b-eb62269e0698"
      },
      "outputs": [
        {
          "output_type": "stream",
          "name": "stderr",
          "text": [
            "Downloading...\n",
            "From: https://github.com/leekyuyoung20230313/pythone/blob/main/datas/ns_202104.zip\n",
            "To: /content/ns_202104.zip\n",
            "140kB [00:00, 10.2MB/s]\n"
          ]
        },
        {
          "output_type": "execute_result",
          "data": {
            "text/plain": [
              "'ns_202104.zip'"
            ],
            "application/vnd.google.colaboratory.intrinsic+json": {
              "type": "string"
            }
          },
          "metadata": {},
          "execution_count": 3
        }
      ],
      "source": [
        "import gdown\n",
        "gdown.download('https://github.com/leekyuyoung20230313/pythone/blob/main/datas/ns_202104.zip',\n",
        "               'ns_202104.zip')\n",
        "!unzip '/content/ns_202104.zip' -d './'"
      ]
    },
    {
      "cell_type": "code",
      "source": [
        "import pandas as pd\n",
        "ns_df = pd.read_csv('./ns_202104.csv')\n",
        "ns_df = ns_df.iloc[:,:-1]"
      ],
      "metadata": {
        "colab": {
          "base_uri": "https://localhost:8080/"
        },
        "id": "KxXQwJrabMTj",
        "outputId": "43d44c20-235e-41d6-f23c-da3fd5dcd44f"
      },
      "execution_count": 44,
      "outputs": [
        {
          "output_type": "stream",
          "name": "stderr",
          "text": [
            "<ipython-input-44-9aa2b0af56cb>:2: DtypeWarning: Columns (5,6,9) have mixed types. Specify dtype option on import or set low_memory=False.\n",
            "  ns_df = pd.read_csv('./ns_202104.csv')\n"
          ]
        }
      ]
    },
    {
      "cell_type": "code",
      "source": [
        "ns_df.columns"
      ],
      "metadata": {
        "colab": {
          "base_uri": "https://localhost:8080/"
        },
        "id": "Ve9MImbsc6PD",
        "outputId": "64498e56-39a9-4f20-84d1-0cf979809c1c"
      },
      "execution_count": 45,
      "outputs": [
        {
          "output_type": "execute_result",
          "data": {
            "text/plain": [
              "Index(['번호', '도서명', '저자', '출판사', '발행년도', 'ISBN', '세트 ISBN', '부가기호', '권',\n",
              "       '주제분류번호', '도서권수', '대출건수', '등록일자'],\n",
              "      dtype='object')"
            ]
          },
          "metadata": {},
          "execution_count": 45
        }
      ]
    },
    {
      "cell_type": "code",
      "source": [
        "ns_df.drop(columns=['부가기호'],inplace=True)"
      ],
      "metadata": {
        "id": "AAZI8PEac_rL"
      },
      "execution_count": 46,
      "outputs": []
    },
    {
      "cell_type": "code",
      "source": [
        "# 결측치 처리\n",
        "ns_df.dropna(axis=1, how='all',inplace=True)"
      ],
      "metadata": {
        "id": "I14W-U5xdP00"
      },
      "execution_count": 47,
      "outputs": []
    },
    {
      "cell_type": "code",
      "source": [
        "# 중복된 데이터   duplicated()\n",
        "ns_df[ns_df.duplicated()]"
      ],
      "metadata": {
        "colab": {
          "base_uri": "https://localhost:8080/",
          "height": 110
        },
        "id": "R3INvLVfdplc",
        "outputId": "47ba4116-1c11-4898-b214-3baf18c6f9fb"
      },
      "execution_count": 48,
      "outputs": [
        {
          "output_type": "execute_result",
          "data": {
            "text/plain": [
              "Empty DataFrame\n",
              "Columns: [번호, 도서명, 저자, 출판사, 발행년도, ISBN, 세트 ISBN, 권, 주제분류번호, 도서권수, 대출건수, 등록일자]\n",
              "Index: []"
            ],
            "text/html": [
              "\n",
              "  <div id=\"df-36dba7a0-43a6-450c-9611-ace9e6e79dba\">\n",
              "    <div class=\"colab-df-container\">\n",
              "      <div>\n",
              "<style scoped>\n",
              "    .dataframe tbody tr th:only-of-type {\n",
              "        vertical-align: middle;\n",
              "    }\n",
              "\n",
              "    .dataframe tbody tr th {\n",
              "        vertical-align: top;\n",
              "    }\n",
              "\n",
              "    .dataframe thead th {\n",
              "        text-align: right;\n",
              "    }\n",
              "</style>\n",
              "<table border=\"1\" class=\"dataframe\">\n",
              "  <thead>\n",
              "    <tr style=\"text-align: right;\">\n",
              "      <th></th>\n",
              "      <th>번호</th>\n",
              "      <th>도서명</th>\n",
              "      <th>저자</th>\n",
              "      <th>출판사</th>\n",
              "      <th>발행년도</th>\n",
              "      <th>ISBN</th>\n",
              "      <th>세트 ISBN</th>\n",
              "      <th>권</th>\n",
              "      <th>주제분류번호</th>\n",
              "      <th>도서권수</th>\n",
              "      <th>대출건수</th>\n",
              "      <th>등록일자</th>\n",
              "    </tr>\n",
              "  </thead>\n",
              "  <tbody>\n",
              "  </tbody>\n",
              "</table>\n",
              "</div>\n",
              "      <button class=\"colab-df-convert\" onclick=\"convertToInteractive('df-36dba7a0-43a6-450c-9611-ace9e6e79dba')\"\n",
              "              title=\"Convert this dataframe to an interactive table.\"\n",
              "              style=\"display:none;\">\n",
              "        \n",
              "  <svg xmlns=\"http://www.w3.org/2000/svg\" height=\"24px\"viewBox=\"0 0 24 24\"\n",
              "       width=\"24px\">\n",
              "    <path d=\"M0 0h24v24H0V0z\" fill=\"none\"/>\n",
              "    <path d=\"M18.56 5.44l.94 2.06.94-2.06 2.06-.94-2.06-.94-.94-2.06-.94 2.06-2.06.94zm-11 1L8.5 8.5l.94-2.06 2.06-.94-2.06-.94L8.5 2.5l-.94 2.06-2.06.94zm10 10l.94 2.06.94-2.06 2.06-.94-2.06-.94-.94-2.06-.94 2.06-2.06.94z\"/><path d=\"M17.41 7.96l-1.37-1.37c-.4-.4-.92-.59-1.43-.59-.52 0-1.04.2-1.43.59L10.3 9.45l-7.72 7.72c-.78.78-.78 2.05 0 2.83L4 21.41c.39.39.9.59 1.41.59.51 0 1.02-.2 1.41-.59l7.78-7.78 2.81-2.81c.8-.78.8-2.07 0-2.86zM5.41 20L4 18.59l7.72-7.72 1.47 1.35L5.41 20z\"/>\n",
              "  </svg>\n",
              "      </button>\n",
              "      \n",
              "  <style>\n",
              "    .colab-df-container {\n",
              "      display:flex;\n",
              "      flex-wrap:wrap;\n",
              "      gap: 12px;\n",
              "    }\n",
              "\n",
              "    .colab-df-convert {\n",
              "      background-color: #E8F0FE;\n",
              "      border: none;\n",
              "      border-radius: 50%;\n",
              "      cursor: pointer;\n",
              "      display: none;\n",
              "      fill: #1967D2;\n",
              "      height: 32px;\n",
              "      padding: 0 0 0 0;\n",
              "      width: 32px;\n",
              "    }\n",
              "\n",
              "    .colab-df-convert:hover {\n",
              "      background-color: #E2EBFA;\n",
              "      box-shadow: 0px 1px 2px rgba(60, 64, 67, 0.3), 0px 1px 3px 1px rgba(60, 64, 67, 0.15);\n",
              "      fill: #174EA6;\n",
              "    }\n",
              "\n",
              "    [theme=dark] .colab-df-convert {\n",
              "      background-color: #3B4455;\n",
              "      fill: #D2E3FC;\n",
              "    }\n",
              "\n",
              "    [theme=dark] .colab-df-convert:hover {\n",
              "      background-color: #434B5C;\n",
              "      box-shadow: 0px 1px 3px 1px rgba(0, 0, 0, 0.15);\n",
              "      filter: drop-shadow(0px 1px 2px rgba(0, 0, 0, 0.3));\n",
              "      fill: #FFFFFF;\n",
              "    }\n",
              "  </style>\n",
              "\n",
              "      <script>\n",
              "        const buttonEl =\n",
              "          document.querySelector('#df-36dba7a0-43a6-450c-9611-ace9e6e79dba button.colab-df-convert');\n",
              "        buttonEl.style.display =\n",
              "          google.colab.kernel.accessAllowed ? 'block' : 'none';\n",
              "\n",
              "        async function convertToInteractive(key) {\n",
              "          const element = document.querySelector('#df-36dba7a0-43a6-450c-9611-ace9e6e79dba');\n",
              "          const dataTable =\n",
              "            await google.colab.kernel.invokeFunction('convertToInteractive',\n",
              "                                                     [key], {});\n",
              "          if (!dataTable) return;\n",
              "\n",
              "          const docLinkHtml = 'Like what you see? Visit the ' +\n",
              "            '<a target=\"_blank\" href=https://colab.research.google.com/notebooks/data_table.ipynb>data table notebook</a>'\n",
              "            + ' to learn more about interactive tables.';\n",
              "          element.innerHTML = '';\n",
              "          dataTable['output_type'] = 'display_data';\n",
              "          await google.colab.output.renderOutput(dataTable, element);\n",
              "          const docLink = document.createElement('div');\n",
              "          docLink.innerHTML = docLinkHtml;\n",
              "          element.appendChild(docLink);\n",
              "        }\n",
              "      </script>\n",
              "    </div>\n",
              "  </div>\n",
              "  "
            ]
          },
          "metadata": {},
          "execution_count": 48
        }
      ]
    },
    {
      "cell_type": "code",
      "source": [
        "# key 를 가지고 중복데이터 검색  - 중복데이터는 1건만 표시\n",
        "ns_df.duplicated(subset=['출판사']).sum()"
      ],
      "metadata": {
        "colab": {
          "base_uri": "https://localhost:8080/"
        },
        "id": "kQ3DDToTeVTJ",
        "outputId": "1e9fc7dc-e1bf-4bb1-9c0f-391aa40d6f3c"
      },
      "execution_count": 49,
      "outputs": [
        {
          "output_type": "execute_result",
          "data": {
            "text/plain": [
              "379767"
            ]
          },
          "metadata": {},
          "execution_count": 49
        }
      ]
    },
    {
      "cell_type": "code",
      "source": [
        "# 중복데이터 모두 표시\n",
        "ns_df.duplicated(subset=['출판사'],keep=False).sum()"
      ],
      "metadata": {
        "colab": {
          "base_uri": "https://localhost:8080/"
        },
        "id": "ERclB3bLeyg8",
        "outputId": "17bedc7c-da9a-4a0f-fe64-f7e43f6ed747"
      },
      "execution_count": 50,
      "outputs": [
        {
          "output_type": "execute_result",
          "data": {
            "text/plain": [
              "392981"
            ]
          },
          "metadata": {},
          "execution_count": 50
        }
      ]
    },
    {
      "cell_type": "code",
      "source": [
        "ns_df.info()"
      ],
      "metadata": {
        "colab": {
          "base_uri": "https://localhost:8080/"
        },
        "id": "bT-AYOhIuQQs",
        "outputId": "96cb0c7e-e145-4233-edc6-8fe5348653d4"
      },
      "execution_count": 51,
      "outputs": [
        {
          "output_type": "stream",
          "name": "stdout",
          "text": [
            "<class 'pandas.core.frame.DataFrame'>\n",
            "RangeIndex: 401682 entries, 0 to 401681\n",
            "Data columns (total 12 columns):\n",
            " #   Column   Non-Null Count   Dtype \n",
            "---  ------   --------------   ----- \n",
            " 0   번호       401682 non-null  int64 \n",
            " 1   도서명      401279 non-null  object\n",
            " 2   저자       401481 non-null  object\n",
            " 3   출판사      396887 non-null  object\n",
            " 4   발행년도     401665 non-null  object\n",
            " 5   ISBN     401682 non-null  object\n",
            " 6   세트 ISBN  61871 non-null   object\n",
            " 7   권        68267 non-null   object\n",
            " 8   주제분류번호   381360 non-null  object\n",
            " 9   도서권수     401682 non-null  int64 \n",
            " 10  대출건수     401682 non-null  int64 \n",
            " 11  등록일자     401682 non-null  object\n",
            "dtypes: int64(3), object(9)\n",
            "memory usage: 36.8+ MB\n"
          ]
        }
      ]
    },
    {
      "cell_type": "code",
      "source": [
        "# 도서명, 저자 ,ISBN, 권 별 대출 건수 - groupby\n",
        "# 수집하는 row에 na 있으면 해당 row 제외\n",
        "ns_df.groupby(['도서명', '저자' ,'ISBN', '권']).sum()"
      ],
      "metadata": {
        "colab": {
          "base_uri": "https://localhost:8080/",
          "height": 607
        },
        "id": "Bh0_No8Se4or",
        "outputId": "80d6d43b-6217-412b-aa86-83c154740968"
      },
      "execution_count": 54,
      "outputs": [
        {
          "output_type": "stream",
          "name": "stderr",
          "text": [
            "<ipython-input-54-9f4499652242>:2: FutureWarning: The default value of numeric_only in DataFrameGroupBy.sum is deprecated. In a future version, numeric_only will default to False. Either specify numeric_only or select only columns which should be valid for the function.\n",
            "  ns_df.groupby(['도서명', '저자' ,'ISBN', '권']).sum()\n"
          ]
        },
        {
          "output_type": "execute_result",
          "data": {
            "text/plain": [
              "                                                                                번호  \\\n",
              "도서명                        저자                             ISBN          권            \n",
              " Insight 영작                조보환 지음                         9788996789871 8   110959   \n",
              " 국역 수원부계록                  수원시화성사업소 [편]                   9788996294450 1   154317   \n",
              " 규칙 혼자서도 잘하는 아이로 길러주는 비법   파멜라 에스페란드;엘리자베스 베르딕 공저 ;강주영 옮김 9788957514337 3   223686   \n",
              " 장동건 =Jang dong gun        김정우,임정식,윤여광,김인구 공저             9788956244365 1   125567   \n",
              " 철학 그리고 현실, 우리 현실 무엇이 문제인가 김태길 지음                         9788977757196 13  149351   \n",
              "...                                                                            ...   \n",
              "林巨正                        고우영 지음                         9788954401319 1   361727   \n",
              "                                                          9788954401326 2   355156   \n",
              "                                                          9788954401333 3   343067   \n",
              "                                                          9788954401340 4   358518   \n",
              "                                                          9788954401357 5   361728   \n",
              "\n",
              "                                                                            도서권수  \\\n",
              "도서명                        저자                             ISBN          권          \n",
              " Insight 영작                조보환 지음                         9788996789871 8      1   \n",
              " 국역 수원부계록                  수원시화성사업소 [편]                   9788996294450 1      1   \n",
              " 규칙 혼자서도 잘하는 아이로 길러주는 비법   파멜라 에스페란드;엘리자베스 베르딕 공저 ;강주영 옮김 9788957514337 3      1   \n",
              " 장동건 =Jang dong gun        김정우,임정식,윤여광,김인구 공저             9788956244365 1      1   \n",
              " 철학 그리고 현실, 우리 현실 무엇이 문제인가 김태길 지음                         9788977757196 13     1   \n",
              "...                                                                          ...   \n",
              "林巨正                        고우영 지음                         9788954401319 1      2   \n",
              "                                                          9788954401326 2      2   \n",
              "                                                          9788954401333 3      2   \n",
              "                                                          9788954401340 4      2   \n",
              "                                                          9788954401357 5      2   \n",
              "\n",
              "                                                                            대출건수  \n",
              "도서명                        저자                             ISBN          권         \n",
              " Insight 영작                조보환 지음                         9788996789871 8      7  \n",
              " 국역 수원부계록                  수원시화성사업소 [편]                   9788996294450 1      2  \n",
              " 규칙 혼자서도 잘하는 아이로 길러주는 비법   파멜라 에스페란드;엘리자베스 베르딕 공저 ;강주영 옮김 9788957514337 3      0  \n",
              " 장동건 =Jang dong gun        김정우,임정식,윤여광,김인구 공저             9788956244365 1      2  \n",
              " 철학 그리고 현실, 우리 현실 무엇이 문제인가 김태길 지음                         9788977757196 13     5  \n",
              "...                                                                          ...  \n",
              "林巨正                        고우영 지음                         9788954401319 1     80  \n",
              "                                                          9788954401326 2     78  \n",
              "                                                          9788954401333 3     75  \n",
              "                                                          9788954401340 4     73  \n",
              "                                                          9788954401357 5     75  \n",
              "\n",
              "[63757 rows x 3 columns]"
            ],
            "text/html": [
              "\n",
              "  <div id=\"df-604a9ca0-d24c-468c-876a-2c8bcd98c1ba\">\n",
              "    <div class=\"colab-df-container\">\n",
              "      <div>\n",
              "<style scoped>\n",
              "    .dataframe tbody tr th:only-of-type {\n",
              "        vertical-align: middle;\n",
              "    }\n",
              "\n",
              "    .dataframe tbody tr th {\n",
              "        vertical-align: top;\n",
              "    }\n",
              "\n",
              "    .dataframe thead th {\n",
              "        text-align: right;\n",
              "    }\n",
              "</style>\n",
              "<table border=\"1\" class=\"dataframe\">\n",
              "  <thead>\n",
              "    <tr style=\"text-align: right;\">\n",
              "      <th></th>\n",
              "      <th></th>\n",
              "      <th></th>\n",
              "      <th></th>\n",
              "      <th>번호</th>\n",
              "      <th>도서권수</th>\n",
              "      <th>대출건수</th>\n",
              "    </tr>\n",
              "    <tr>\n",
              "      <th>도서명</th>\n",
              "      <th>저자</th>\n",
              "      <th>ISBN</th>\n",
              "      <th>권</th>\n",
              "      <th></th>\n",
              "      <th></th>\n",
              "      <th></th>\n",
              "    </tr>\n",
              "  </thead>\n",
              "  <tbody>\n",
              "    <tr>\n",
              "      <th>Insight 영작</th>\n",
              "      <th>조보환 지음</th>\n",
              "      <th>9788996789871</th>\n",
              "      <th>8</th>\n",
              "      <td>110959</td>\n",
              "      <td>1</td>\n",
              "      <td>7</td>\n",
              "    </tr>\n",
              "    <tr>\n",
              "      <th>국역 수원부계록</th>\n",
              "      <th>수원시화성사업소 [편]</th>\n",
              "      <th>9788996294450</th>\n",
              "      <th>1</th>\n",
              "      <td>154317</td>\n",
              "      <td>1</td>\n",
              "      <td>2</td>\n",
              "    </tr>\n",
              "    <tr>\n",
              "      <th>규칙 혼자서도 잘하는 아이로 길러주는 비법</th>\n",
              "      <th>파멜라 에스페란드;엘리자베스 베르딕 공저 ;강주영 옮김</th>\n",
              "      <th>9788957514337</th>\n",
              "      <th>3</th>\n",
              "      <td>223686</td>\n",
              "      <td>1</td>\n",
              "      <td>0</td>\n",
              "    </tr>\n",
              "    <tr>\n",
              "      <th>장동건 =Jang dong gun</th>\n",
              "      <th>김정우,임정식,윤여광,김인구 공저</th>\n",
              "      <th>9788956244365</th>\n",
              "      <th>1</th>\n",
              "      <td>125567</td>\n",
              "      <td>1</td>\n",
              "      <td>2</td>\n",
              "    </tr>\n",
              "    <tr>\n",
              "      <th>철학 그리고 현실, 우리 현실 무엇이 문제인가</th>\n",
              "      <th>김태길 지음</th>\n",
              "      <th>9788977757196</th>\n",
              "      <th>13</th>\n",
              "      <td>149351</td>\n",
              "      <td>1</td>\n",
              "      <td>5</td>\n",
              "    </tr>\n",
              "    <tr>\n",
              "      <th>...</th>\n",
              "      <th>...</th>\n",
              "      <th>...</th>\n",
              "      <th>...</th>\n",
              "      <td>...</td>\n",
              "      <td>...</td>\n",
              "      <td>...</td>\n",
              "    </tr>\n",
              "    <tr>\n",
              "      <th rowspan=\"5\" valign=\"top\">林巨正</th>\n",
              "      <th rowspan=\"5\" valign=\"top\">고우영 지음</th>\n",
              "      <th>9788954401319</th>\n",
              "      <th>1</th>\n",
              "      <td>361727</td>\n",
              "      <td>2</td>\n",
              "      <td>80</td>\n",
              "    </tr>\n",
              "    <tr>\n",
              "      <th>9788954401326</th>\n",
              "      <th>2</th>\n",
              "      <td>355156</td>\n",
              "      <td>2</td>\n",
              "      <td>78</td>\n",
              "    </tr>\n",
              "    <tr>\n",
              "      <th>9788954401333</th>\n",
              "      <th>3</th>\n",
              "      <td>343067</td>\n",
              "      <td>2</td>\n",
              "      <td>75</td>\n",
              "    </tr>\n",
              "    <tr>\n",
              "      <th>9788954401340</th>\n",
              "      <th>4</th>\n",
              "      <td>358518</td>\n",
              "      <td>2</td>\n",
              "      <td>73</td>\n",
              "    </tr>\n",
              "    <tr>\n",
              "      <th>9788954401357</th>\n",
              "      <th>5</th>\n",
              "      <td>361728</td>\n",
              "      <td>2</td>\n",
              "      <td>75</td>\n",
              "    </tr>\n",
              "  </tbody>\n",
              "</table>\n",
              "<p>63757 rows × 3 columns</p>\n",
              "</div>\n",
              "      <button class=\"colab-df-convert\" onclick=\"convertToInteractive('df-604a9ca0-d24c-468c-876a-2c8bcd98c1ba')\"\n",
              "              title=\"Convert this dataframe to an interactive table.\"\n",
              "              style=\"display:none;\">\n",
              "        \n",
              "  <svg xmlns=\"http://www.w3.org/2000/svg\" height=\"24px\"viewBox=\"0 0 24 24\"\n",
              "       width=\"24px\">\n",
              "    <path d=\"M0 0h24v24H0V0z\" fill=\"none\"/>\n",
              "    <path d=\"M18.56 5.44l.94 2.06.94-2.06 2.06-.94-2.06-.94-.94-2.06-.94 2.06-2.06.94zm-11 1L8.5 8.5l.94-2.06 2.06-.94-2.06-.94L8.5 2.5l-.94 2.06-2.06.94zm10 10l.94 2.06.94-2.06 2.06-.94-2.06-.94-.94-2.06-.94 2.06-2.06.94z\"/><path d=\"M17.41 7.96l-1.37-1.37c-.4-.4-.92-.59-1.43-.59-.52 0-1.04.2-1.43.59L10.3 9.45l-7.72 7.72c-.78.78-.78 2.05 0 2.83L4 21.41c.39.39.9.59 1.41.59.51 0 1.02-.2 1.41-.59l7.78-7.78 2.81-2.81c.8-.78.8-2.07 0-2.86zM5.41 20L4 18.59l7.72-7.72 1.47 1.35L5.41 20z\"/>\n",
              "  </svg>\n",
              "      </button>\n",
              "      \n",
              "  <style>\n",
              "    .colab-df-container {\n",
              "      display:flex;\n",
              "      flex-wrap:wrap;\n",
              "      gap: 12px;\n",
              "    }\n",
              "\n",
              "    .colab-df-convert {\n",
              "      background-color: #E8F0FE;\n",
              "      border: none;\n",
              "      border-radius: 50%;\n",
              "      cursor: pointer;\n",
              "      display: none;\n",
              "      fill: #1967D2;\n",
              "      height: 32px;\n",
              "      padding: 0 0 0 0;\n",
              "      width: 32px;\n",
              "    }\n",
              "\n",
              "    .colab-df-convert:hover {\n",
              "      background-color: #E2EBFA;\n",
              "      box-shadow: 0px 1px 2px rgba(60, 64, 67, 0.3), 0px 1px 3px 1px rgba(60, 64, 67, 0.15);\n",
              "      fill: #174EA6;\n",
              "    }\n",
              "\n",
              "    [theme=dark] .colab-df-convert {\n",
              "      background-color: #3B4455;\n",
              "      fill: #D2E3FC;\n",
              "    }\n",
              "\n",
              "    [theme=dark] .colab-df-convert:hover {\n",
              "      background-color: #434B5C;\n",
              "      box-shadow: 0px 1px 3px 1px rgba(0, 0, 0, 0.15);\n",
              "      filter: drop-shadow(0px 1px 2px rgba(0, 0, 0, 0.3));\n",
              "      fill: #FFFFFF;\n",
              "    }\n",
              "  </style>\n",
              "\n",
              "      <script>\n",
              "        const buttonEl =\n",
              "          document.querySelector('#df-604a9ca0-d24c-468c-876a-2c8bcd98c1ba button.colab-df-convert');\n",
              "        buttonEl.style.display =\n",
              "          google.colab.kernel.accessAllowed ? 'block' : 'none';\n",
              "\n",
              "        async function convertToInteractive(key) {\n",
              "          const element = document.querySelector('#df-604a9ca0-d24c-468c-876a-2c8bcd98c1ba');\n",
              "          const dataTable =\n",
              "            await google.colab.kernel.invokeFunction('convertToInteractive',\n",
              "                                                     [key], {});\n",
              "          if (!dataTable) return;\n",
              "\n",
              "          const docLinkHtml = 'Like what you see? Visit the ' +\n",
              "            '<a target=\"_blank\" href=https://colab.research.google.com/notebooks/data_table.ipynb>data table notebook</a>'\n",
              "            + ' to learn more about interactive tables.';\n",
              "          element.innerHTML = '';\n",
              "          dataTable['output_type'] = 'display_data';\n",
              "          await google.colab.output.renderOutput(dataTable, element);\n",
              "          const docLink = document.createElement('div');\n",
              "          docLink.innerHTML = docLinkHtml;\n",
              "          element.appendChild(docLink);\n",
              "        }\n",
              "      </script>\n",
              "    </div>\n",
              "  </div>\n",
              "  "
            ]
          },
          "metadata": {},
          "execution_count": 54
        }
      ]
    },
    {
      "cell_type": "code",
      "source": [
        "ns_df.groupby(['도서명', '저자' ,'ISBN', '권'],dropna=False).sum()"
      ],
      "metadata": {
        "colab": {
          "base_uri": "https://localhost:8080/",
          "height": 641
        },
        "id": "TVsQbg6QvI_E",
        "outputId": "37d9441f-d266-4a10-feaf-4c247c42bd0a"
      },
      "execution_count": 55,
      "outputs": [
        {
          "output_type": "stream",
          "name": "stderr",
          "text": [
            "<ipython-input-55-92c8ae200880>:1: FutureWarning: The default value of numeric_only in DataFrameGroupBy.sum is deprecated. In a future version, numeric_only will default to False. Either specify numeric_only or select only columns which should be valid for the function.\n",
            "  ns_df.groupby(['도서명', '저자' ,'ISBN', '권'],dropna=False).sum()\n"
          ]
        },
        {
          "output_type": "execute_result",
          "data": {
            "text/plain": [
              "                                                                                                번호  \\\n",
              "도서명                                             저자                       ISBN          권             \n",
              " (꼭 필요한 것부터 쉽게 배우는) 자신만만 블로그 차근차근 배우기           김상현 지음                   9788955025637 NaN  196447   \n",
              " (맨처음 배우는) 세상의 직업                               엘레오노라 바르소티 글 ·그림 ;김태은 옮김 9788992924146 NaN  228738   \n",
              " (영잘원 리스닝과 패턴 영어의 절묘한 만남으로 태어난 ) 리스닝 ABC : 입문편  JD Kim 지음                9788993466089 NaN  208220   \n",
              " (즉석에서 바로바로 활용하는) 일상생활 베트남어 첫걸음                 FL4U컨텐츠 지음               9788971728000 NaN   90468   \n",
              " ,에게                                            이기린(이진희)                 9791196137014 NaN   32496   \n",
              "...                                                                                            ...   \n",
              "NaN                                             히라야마 쯔요시 외 5인            9788997924318 NaN  370878   \n",
              "                                                ？德峰(Yang Defeng)         9788960716957 NaN  370795   \n",
              "                                                NaN                      9788971990155 NaN  317397   \n",
              "                                                                         9788972803997 NaN  391425   \n",
              "                                                                         9788973561537 NaN  392882   \n",
              "\n",
              "                                                                                            도서권수  \\\n",
              "도서명                                             저자                       ISBN          권           \n",
              " (꼭 필요한 것부터 쉽게 배우는) 자신만만 블로그 차근차근 배우기           김상현 지음                   9788955025637 NaN     1   \n",
              " (맨처음 배우는) 세상의 직업                               엘레오노라 바르소티 글 ·그림 ;김태은 옮김 9788992924146 NaN     1   \n",
              " (영잘원 리스닝과 패턴 영어의 절묘한 만남으로 태어난 ) 리스닝 ABC : 입문편  JD Kim 지음                9788993466089 NaN     2   \n",
              " (즉석에서 바로바로 활용하는) 일상생활 베트남어 첫걸음                 FL4U컨텐츠 지음               9788971728000 NaN     2   \n",
              " ,에게                                            이기린(이진희)                 9791196137014 NaN     1   \n",
              "...                                                                                          ...   \n",
              "NaN                                             히라야마 쯔요시 외 5인            9788997924318 NaN     1   \n",
              "                                                ？德峰(Yang Defeng)         9788960716957 NaN     1   \n",
              "                                                NaN                      9788971990155 NaN     1   \n",
              "                                                                         9788972803997 NaN     1   \n",
              "                                                                         9788973561537 NaN     1   \n",
              "\n",
              "                                                                                            대출건수  \n",
              "도서명                                             저자                       ISBN          권          \n",
              " (꼭 필요한 것부터 쉽게 배우는) 자신만만 블로그 차근차근 배우기           김상현 지음                   9788955025637 NaN    38  \n",
              " (맨처음 배우는) 세상의 직업                               엘레오노라 바르소티 글 ·그림 ;김태은 옮김 9788992924146 NaN    10  \n",
              " (영잘원 리스닝과 패턴 영어의 절묘한 만남으로 태어난 ) 리스닝 ABC : 입문편  JD Kim 지음                9788993466089 NaN     4  \n",
              " (즉석에서 바로바로 활용하는) 일상생활 베트남어 첫걸음                 FL4U컨텐츠 지음               9788971728000 NaN     3  \n",
              " ,에게                                            이기린(이진희)                 9791196137014 NaN     0  \n",
              "...                                                                                          ...  \n",
              "NaN                                             히라야마 쯔요시 외 5인            9788997924318 NaN     0  \n",
              "                                                ？德峰(Yang Defeng)         9788960716957 NaN     0  \n",
              "                                                NaN                      9788971990155 NaN     2  \n",
              "                                                                         9788972803997 NaN     0  \n",
              "                                                                         9788973561537 NaN     0  \n",
              "\n",
              "[386354 rows x 3 columns]"
            ],
            "text/html": [
              "\n",
              "  <div id=\"df-092213ae-de16-4fc7-b477-a25ab89a78e2\">\n",
              "    <div class=\"colab-df-container\">\n",
              "      <div>\n",
              "<style scoped>\n",
              "    .dataframe tbody tr th:only-of-type {\n",
              "        vertical-align: middle;\n",
              "    }\n",
              "\n",
              "    .dataframe tbody tr th {\n",
              "        vertical-align: top;\n",
              "    }\n",
              "\n",
              "    .dataframe thead th {\n",
              "        text-align: right;\n",
              "    }\n",
              "</style>\n",
              "<table border=\"1\" class=\"dataframe\">\n",
              "  <thead>\n",
              "    <tr style=\"text-align: right;\">\n",
              "      <th></th>\n",
              "      <th></th>\n",
              "      <th></th>\n",
              "      <th></th>\n",
              "      <th>번호</th>\n",
              "      <th>도서권수</th>\n",
              "      <th>대출건수</th>\n",
              "    </tr>\n",
              "    <tr>\n",
              "      <th>도서명</th>\n",
              "      <th>저자</th>\n",
              "      <th>ISBN</th>\n",
              "      <th>권</th>\n",
              "      <th></th>\n",
              "      <th></th>\n",
              "      <th></th>\n",
              "    </tr>\n",
              "  </thead>\n",
              "  <tbody>\n",
              "    <tr>\n",
              "      <th>(꼭 필요한 것부터 쉽게 배우는) 자신만만 블로그 차근차근 배우기</th>\n",
              "      <th>김상현 지음</th>\n",
              "      <th>9788955025637</th>\n",
              "      <th>NaN</th>\n",
              "      <td>196447</td>\n",
              "      <td>1</td>\n",
              "      <td>38</td>\n",
              "    </tr>\n",
              "    <tr>\n",
              "      <th>(맨처음 배우는) 세상의 직업</th>\n",
              "      <th>엘레오노라 바르소티 글 ·그림 ;김태은 옮김</th>\n",
              "      <th>9788992924146</th>\n",
              "      <th>NaN</th>\n",
              "      <td>228738</td>\n",
              "      <td>1</td>\n",
              "      <td>10</td>\n",
              "    </tr>\n",
              "    <tr>\n",
              "      <th>(영잘원 리스닝과 패턴 영어의 절묘한 만남으로 태어난 ) 리스닝 ABC : 입문편</th>\n",
              "      <th>JD Kim 지음</th>\n",
              "      <th>9788993466089</th>\n",
              "      <th>NaN</th>\n",
              "      <td>208220</td>\n",
              "      <td>2</td>\n",
              "      <td>4</td>\n",
              "    </tr>\n",
              "    <tr>\n",
              "      <th>(즉석에서 바로바로 활용하는) 일상생활 베트남어 첫걸음</th>\n",
              "      <th>FL4U컨텐츠 지음</th>\n",
              "      <th>9788971728000</th>\n",
              "      <th>NaN</th>\n",
              "      <td>90468</td>\n",
              "      <td>2</td>\n",
              "      <td>3</td>\n",
              "    </tr>\n",
              "    <tr>\n",
              "      <th>,에게</th>\n",
              "      <th>이기린(이진희)</th>\n",
              "      <th>9791196137014</th>\n",
              "      <th>NaN</th>\n",
              "      <td>32496</td>\n",
              "      <td>1</td>\n",
              "      <td>0</td>\n",
              "    </tr>\n",
              "    <tr>\n",
              "      <th>...</th>\n",
              "      <th>...</th>\n",
              "      <th>...</th>\n",
              "      <th>...</th>\n",
              "      <td>...</td>\n",
              "      <td>...</td>\n",
              "      <td>...</td>\n",
              "    </tr>\n",
              "    <tr>\n",
              "      <th rowspan=\"5\" valign=\"top\">NaN</th>\n",
              "      <th>히라야마 쯔요시 외 5인</th>\n",
              "      <th>9788997924318</th>\n",
              "      <th>NaN</th>\n",
              "      <td>370878</td>\n",
              "      <td>1</td>\n",
              "      <td>0</td>\n",
              "    </tr>\n",
              "    <tr>\n",
              "      <th>？德峰(Yang Defeng)</th>\n",
              "      <th>9788960716957</th>\n",
              "      <th>NaN</th>\n",
              "      <td>370795</td>\n",
              "      <td>1</td>\n",
              "      <td>0</td>\n",
              "    </tr>\n",
              "    <tr>\n",
              "      <th rowspan=\"3\" valign=\"top\">NaN</th>\n",
              "      <th>9788971990155</th>\n",
              "      <th>NaN</th>\n",
              "      <td>317397</td>\n",
              "      <td>1</td>\n",
              "      <td>2</td>\n",
              "    </tr>\n",
              "    <tr>\n",
              "      <th>9788972803997</th>\n",
              "      <th>NaN</th>\n",
              "      <td>391425</td>\n",
              "      <td>1</td>\n",
              "      <td>0</td>\n",
              "    </tr>\n",
              "    <tr>\n",
              "      <th>9788973561537</th>\n",
              "      <th>NaN</th>\n",
              "      <td>392882</td>\n",
              "      <td>1</td>\n",
              "      <td>0</td>\n",
              "    </tr>\n",
              "  </tbody>\n",
              "</table>\n",
              "<p>386354 rows × 3 columns</p>\n",
              "</div>\n",
              "      <button class=\"colab-df-convert\" onclick=\"convertToInteractive('df-092213ae-de16-4fc7-b477-a25ab89a78e2')\"\n",
              "              title=\"Convert this dataframe to an interactive table.\"\n",
              "              style=\"display:none;\">\n",
              "        \n",
              "  <svg xmlns=\"http://www.w3.org/2000/svg\" height=\"24px\"viewBox=\"0 0 24 24\"\n",
              "       width=\"24px\">\n",
              "    <path d=\"M0 0h24v24H0V0z\" fill=\"none\"/>\n",
              "    <path d=\"M18.56 5.44l.94 2.06.94-2.06 2.06-.94-2.06-.94-.94-2.06-.94 2.06-2.06.94zm-11 1L8.5 8.5l.94-2.06 2.06-.94-2.06-.94L8.5 2.5l-.94 2.06-2.06.94zm10 10l.94 2.06.94-2.06 2.06-.94-2.06-.94-.94-2.06-.94 2.06-2.06.94z\"/><path d=\"M17.41 7.96l-1.37-1.37c-.4-.4-.92-.59-1.43-.59-.52 0-1.04.2-1.43.59L10.3 9.45l-7.72 7.72c-.78.78-.78 2.05 0 2.83L4 21.41c.39.39.9.59 1.41.59.51 0 1.02-.2 1.41-.59l7.78-7.78 2.81-2.81c.8-.78.8-2.07 0-2.86zM5.41 20L4 18.59l7.72-7.72 1.47 1.35L5.41 20z\"/>\n",
              "  </svg>\n",
              "      </button>\n",
              "      \n",
              "  <style>\n",
              "    .colab-df-container {\n",
              "      display:flex;\n",
              "      flex-wrap:wrap;\n",
              "      gap: 12px;\n",
              "    }\n",
              "\n",
              "    .colab-df-convert {\n",
              "      background-color: #E8F0FE;\n",
              "      border: none;\n",
              "      border-radius: 50%;\n",
              "      cursor: pointer;\n",
              "      display: none;\n",
              "      fill: #1967D2;\n",
              "      height: 32px;\n",
              "      padding: 0 0 0 0;\n",
              "      width: 32px;\n",
              "    }\n",
              "\n",
              "    .colab-df-convert:hover {\n",
              "      background-color: #E2EBFA;\n",
              "      box-shadow: 0px 1px 2px rgba(60, 64, 67, 0.3), 0px 1px 3px 1px rgba(60, 64, 67, 0.15);\n",
              "      fill: #174EA6;\n",
              "    }\n",
              "\n",
              "    [theme=dark] .colab-df-convert {\n",
              "      background-color: #3B4455;\n",
              "      fill: #D2E3FC;\n",
              "    }\n",
              "\n",
              "    [theme=dark] .colab-df-convert:hover {\n",
              "      background-color: #434B5C;\n",
              "      box-shadow: 0px 1px 3px 1px rgba(0, 0, 0, 0.15);\n",
              "      filter: drop-shadow(0px 1px 2px rgba(0, 0, 0, 0.3));\n",
              "      fill: #FFFFFF;\n",
              "    }\n",
              "  </style>\n",
              "\n",
              "      <script>\n",
              "        const buttonEl =\n",
              "          document.querySelector('#df-092213ae-de16-4fc7-b477-a25ab89a78e2 button.colab-df-convert');\n",
              "        buttonEl.style.display =\n",
              "          google.colab.kernel.accessAllowed ? 'block' : 'none';\n",
              "\n",
              "        async function convertToInteractive(key) {\n",
              "          const element = document.querySelector('#df-092213ae-de16-4fc7-b477-a25ab89a78e2');\n",
              "          const dataTable =\n",
              "            await google.colab.kernel.invokeFunction('convertToInteractive',\n",
              "                                                     [key], {});\n",
              "          if (!dataTable) return;\n",
              "\n",
              "          const docLinkHtml = 'Like what you see? Visit the ' +\n",
              "            '<a target=\"_blank\" href=https://colab.research.google.com/notebooks/data_table.ipynb>data table notebook</a>'\n",
              "            + ' to learn more about interactive tables.';\n",
              "          element.innerHTML = '';\n",
              "          dataTable['output_type'] = 'display_data';\n",
              "          await google.colab.output.renderOutput(dataTable, element);\n",
              "          const docLink = document.createElement('div');\n",
              "          docLink.innerHTML = docLinkHtml;\n",
              "          element.appendChild(docLink);\n",
              "        }\n",
              "      </script>\n",
              "    </div>\n",
              "  </div>\n",
              "  "
            ]
          },
          "metadata": {},
          "execution_count": 55
        }
      ]
    },
    {
      "cell_type": "code",
      "source": [
        "# ~ 연산자\n",
        "import numpy as np\n",
        "temp = np.array([True,True,False])\n",
        "~temp"
      ],
      "metadata": {
        "colab": {
          "base_uri": "https://localhost:8080/"
        },
        "id": "IpGnH81evyes",
        "outputId": "79504196-9651-4ada-cf02-4bd2cf41864a"
      },
      "execution_count": 58,
      "outputs": [
        {
          "output_type": "execute_result",
          "data": {
            "text/plain": [
              "array([False, False,  True])"
            ]
          },
          "metadata": {},
          "execution_count": 58
        }
      ]
    },
    {
      "cell_type": "code",
      "source": [],
      "metadata": {
        "id": "9QmKdeOywL_T"
      },
      "execution_count": null,
      "outputs": []
    }
  ]
}