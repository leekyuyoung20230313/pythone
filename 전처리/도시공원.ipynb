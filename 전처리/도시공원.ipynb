{
  "nbformat": 4,
  "nbformat_minor": 0,
  "metadata": {
    "colab": {
      "provenance": []
    },
    "kernelspec": {
      "name": "python3",
      "display_name": "Python 3"
    },
    "language_info": {
      "name": "python"
    }
  },
  "cells": [
    {
      "cell_type": "code",
      "source": [
        "# 한글처리\n",
        "!sudo apt-get install -y fonts-nanum\n",
        "!sudo fc-cache -fv\n",
        "!rm ~/.cache/matplotlib -rf"
      ],
      "metadata": {
        "id": "eTAj7uAB8Nm-"
      },
      "execution_count": null,
      "outputs": []
    },
    {
      "cell_type": "code",
      "source": [
        "# 런타임 재시작 이후\n",
        "import matplotlib.pyplot as plt\n",
        "plt.rc('font', family='NanumBarunGothic')"
      ],
      "metadata": {
        "id": "a_KdOSLW8PhH"
      },
      "execution_count": 1,
      "outputs": []
    },
    {
      "cell_type": "code",
      "source": [
        "import pandas as pd\n",
        "df = pd.read_csv('/content/drive/MyDrive/Colab Notebooks/data/전국도시공원정보표준데이터.csv',encoding='euc-kr')\n",
        "df = pd.concat( [ df.loc[:, :'공원면적'], df.loc[:, '전화번호' : ] ],axis=1 )\n",
        "df[['소재지도로명주소',\t'소재지지번주소']] = df[['소재지도로명주소',\t'소재지지번주소']].ffill(axis=1)\n",
        "df[['소재지도로명주소',\t'소재지지번주소']] = df[['소재지도로명주소',\t'소재지지번주소']].bfill(axis=1)"
      ],
      "metadata": {
        "id": "041xL_x4d0gg"
      },
      "execution_count": 2,
      "outputs": []
    },
    {
      "cell_type": "code",
      "source": [
        "df.drop(columns=['관리번호','소재지지번주소','제공기관코드','제공기관명'], inplace=True)"
      ],
      "metadata": {
        "id": "eetw7lpYfJmH"
      },
      "execution_count": 3,
      "outputs": []
    },
    {
      "cell_type": "code",
      "source": [
        "df.head()"
      ],
      "metadata": {
        "colab": {
          "base_uri": "https://localhost:8080/",
          "height": 250
        },
        "id": "6WjJ_T8-iNyz",
        "outputId": "1fe95915-e3c9-443b-f6c4-70d27001b1b2"
      },
      "execution_count": 4,
      "outputs": [
        {
          "output_type": "execute_result",
          "data": {
            "text/plain": [
              "              공원명  공원구분             소재지도로명주소         위도          경도    공원면적  \\\n",
              "0           녹색소공원   소공원  서울특별시 용산구 효창동 287-6  37.539217  126.962694  1569.9   \n",
              "1   푸름샘 소공원(소1-1)   소공원     세종특별자치시 마음안로 161  36.516117  127.233781  1820.0   \n",
              "2    솔숲 소공원(소1-2)   소공원     세종특별자치시 만남1북로 73  36.508995  127.230040  1037.0   \n",
              "3  마디꽃 수변공원(수1-1)  수변공원       세종특별자치시 다솜로 38  36.495962  127.257316  4928.0   \n",
              "4    꽃 수변공원(수2-3)  수변공원    세종특별자치시 나리로 26-10  36.473133  127.254482  3575.0   \n",
              "\n",
              "           전화번호     데이터기준일자  \n",
              "0  02-2199-7605  2022-12-20  \n",
              "1  044-301-3613  2022-12-14  \n",
              "2  044-301-3613  2022-12-14  \n",
              "3  044-301-3633  2022-12-14  \n",
              "4  044-301-3613  2022-12-14  "
            ],
            "text/html": [
              "\n",
              "  <div id=\"df-9a0ae2aa-c3a3-4b69-97cc-5ab94357efea\">\n",
              "    <div class=\"colab-df-container\">\n",
              "      <div>\n",
              "<style scoped>\n",
              "    .dataframe tbody tr th:only-of-type {\n",
              "        vertical-align: middle;\n",
              "    }\n",
              "\n",
              "    .dataframe tbody tr th {\n",
              "        vertical-align: top;\n",
              "    }\n",
              "\n",
              "    .dataframe thead th {\n",
              "        text-align: right;\n",
              "    }\n",
              "</style>\n",
              "<table border=\"1\" class=\"dataframe\">\n",
              "  <thead>\n",
              "    <tr style=\"text-align: right;\">\n",
              "      <th></th>\n",
              "      <th>공원명</th>\n",
              "      <th>공원구분</th>\n",
              "      <th>소재지도로명주소</th>\n",
              "      <th>위도</th>\n",
              "      <th>경도</th>\n",
              "      <th>공원면적</th>\n",
              "      <th>전화번호</th>\n",
              "      <th>데이터기준일자</th>\n",
              "    </tr>\n",
              "  </thead>\n",
              "  <tbody>\n",
              "    <tr>\n",
              "      <th>0</th>\n",
              "      <td>녹색소공원</td>\n",
              "      <td>소공원</td>\n",
              "      <td>서울특별시 용산구 효창동 287-6</td>\n",
              "      <td>37.539217</td>\n",
              "      <td>126.962694</td>\n",
              "      <td>1569.9</td>\n",
              "      <td>02-2199-7605</td>\n",
              "      <td>2022-12-20</td>\n",
              "    </tr>\n",
              "    <tr>\n",
              "      <th>1</th>\n",
              "      <td>푸름샘 소공원(소1-1)</td>\n",
              "      <td>소공원</td>\n",
              "      <td>세종특별자치시 마음안로 161</td>\n",
              "      <td>36.516117</td>\n",
              "      <td>127.233781</td>\n",
              "      <td>1820.0</td>\n",
              "      <td>044-301-3613</td>\n",
              "      <td>2022-12-14</td>\n",
              "    </tr>\n",
              "    <tr>\n",
              "      <th>2</th>\n",
              "      <td>솔숲 소공원(소1-2)</td>\n",
              "      <td>소공원</td>\n",
              "      <td>세종특별자치시 만남1북로 73</td>\n",
              "      <td>36.508995</td>\n",
              "      <td>127.230040</td>\n",
              "      <td>1037.0</td>\n",
              "      <td>044-301-3613</td>\n",
              "      <td>2022-12-14</td>\n",
              "    </tr>\n",
              "    <tr>\n",
              "      <th>3</th>\n",
              "      <td>마디꽃 수변공원(수1-1)</td>\n",
              "      <td>수변공원</td>\n",
              "      <td>세종특별자치시 다솜로 38</td>\n",
              "      <td>36.495962</td>\n",
              "      <td>127.257316</td>\n",
              "      <td>4928.0</td>\n",
              "      <td>044-301-3633</td>\n",
              "      <td>2022-12-14</td>\n",
              "    </tr>\n",
              "    <tr>\n",
              "      <th>4</th>\n",
              "      <td>꽃 수변공원(수2-3)</td>\n",
              "      <td>수변공원</td>\n",
              "      <td>세종특별자치시 나리로 26-10</td>\n",
              "      <td>36.473133</td>\n",
              "      <td>127.254482</td>\n",
              "      <td>3575.0</td>\n",
              "      <td>044-301-3613</td>\n",
              "      <td>2022-12-14</td>\n",
              "    </tr>\n",
              "  </tbody>\n",
              "</table>\n",
              "</div>\n",
              "      <button class=\"colab-df-convert\" onclick=\"convertToInteractive('df-9a0ae2aa-c3a3-4b69-97cc-5ab94357efea')\"\n",
              "              title=\"Convert this dataframe to an interactive table.\"\n",
              "              style=\"display:none;\">\n",
              "        \n",
              "  <svg xmlns=\"http://www.w3.org/2000/svg\" height=\"24px\"viewBox=\"0 0 24 24\"\n",
              "       width=\"24px\">\n",
              "    <path d=\"M0 0h24v24H0V0z\" fill=\"none\"/>\n",
              "    <path d=\"M18.56 5.44l.94 2.06.94-2.06 2.06-.94-2.06-.94-.94-2.06-.94 2.06-2.06.94zm-11 1L8.5 8.5l.94-2.06 2.06-.94-2.06-.94L8.5 2.5l-.94 2.06-2.06.94zm10 10l.94 2.06.94-2.06 2.06-.94-2.06-.94-.94-2.06-.94 2.06-2.06.94z\"/><path d=\"M17.41 7.96l-1.37-1.37c-.4-.4-.92-.59-1.43-.59-.52 0-1.04.2-1.43.59L10.3 9.45l-7.72 7.72c-.78.78-.78 2.05 0 2.83L4 21.41c.39.39.9.59 1.41.59.51 0 1.02-.2 1.41-.59l7.78-7.78 2.81-2.81c.8-.78.8-2.07 0-2.86zM5.41 20L4 18.59l7.72-7.72 1.47 1.35L5.41 20z\"/>\n",
              "  </svg>\n",
              "      </button>\n",
              "      \n",
              "  <style>\n",
              "    .colab-df-container {\n",
              "      display:flex;\n",
              "      flex-wrap:wrap;\n",
              "      gap: 12px;\n",
              "    }\n",
              "\n",
              "    .colab-df-convert {\n",
              "      background-color: #E8F0FE;\n",
              "      border: none;\n",
              "      border-radius: 50%;\n",
              "      cursor: pointer;\n",
              "      display: none;\n",
              "      fill: #1967D2;\n",
              "      height: 32px;\n",
              "      padding: 0 0 0 0;\n",
              "      width: 32px;\n",
              "    }\n",
              "\n",
              "    .colab-df-convert:hover {\n",
              "      background-color: #E2EBFA;\n",
              "      box-shadow: 0px 1px 2px rgba(60, 64, 67, 0.3), 0px 1px 3px 1px rgba(60, 64, 67, 0.15);\n",
              "      fill: #174EA6;\n",
              "    }\n",
              "\n",
              "    [theme=dark] .colab-df-convert {\n",
              "      background-color: #3B4455;\n",
              "      fill: #D2E3FC;\n",
              "    }\n",
              "\n",
              "    [theme=dark] .colab-df-convert:hover {\n",
              "      background-color: #434B5C;\n",
              "      box-shadow: 0px 1px 3px 1px rgba(0, 0, 0, 0.15);\n",
              "      filter: drop-shadow(0px 1px 2px rgba(0, 0, 0, 0.3));\n",
              "      fill: #FFFFFF;\n",
              "    }\n",
              "  </style>\n",
              "\n",
              "      <script>\n",
              "        const buttonEl =\n",
              "          document.querySelector('#df-9a0ae2aa-c3a3-4b69-97cc-5ab94357efea button.colab-df-convert');\n",
              "        buttonEl.style.display =\n",
              "          google.colab.kernel.accessAllowed ? 'block' : 'none';\n",
              "\n",
              "        async function convertToInteractive(key) {\n",
              "          const element = document.querySelector('#df-9a0ae2aa-c3a3-4b69-97cc-5ab94357efea');\n",
              "          const dataTable =\n",
              "            await google.colab.kernel.invokeFunction('convertToInteractive',\n",
              "                                                     [key], {});\n",
              "          if (!dataTable) return;\n",
              "\n",
              "          const docLinkHtml = 'Like what you see? Visit the ' +\n",
              "            '<a target=\"_blank\" href=https://colab.research.google.com/notebooks/data_table.ipynb>data table notebook</a>'\n",
              "            + ' to learn more about interactive tables.';\n",
              "          element.innerHTML = '';\n",
              "          dataTable['output_type'] = 'display_data';\n",
              "          await google.colab.output.renderOutput(dataTable, element);\n",
              "          const docLink = document.createElement('div');\n",
              "          docLink.innerHTML = docLinkHtml;\n",
              "          element.appendChild(docLink);\n",
              "        }\n",
              "      </script>\n",
              "    </div>\n",
              "  </div>\n",
              "  "
            ]
          },
          "metadata": {},
          "execution_count": 4
        }
      ]
    },
    {
      "cell_type": "code",
      "source": [
        "# 데이터 타입조사하고 적절한 타입으로 변경\n",
        "# 결측치 확인하고 조치\n",
        "df.info()"
      ],
      "metadata": {
        "colab": {
          "base_uri": "https://localhost:8080/"
        },
        "id": "6qZIaun-iPLA",
        "outputId": "829c3a01-8f24-46e0-a52b-c2b85f31f1c9"
      },
      "execution_count": 5,
      "outputs": [
        {
          "output_type": "stream",
          "name": "stdout",
          "text": [
            "<class 'pandas.core.frame.DataFrame'>\n",
            "RangeIndex: 17525 entries, 0 to 17524\n",
            "Data columns (total 8 columns):\n",
            " #   Column    Non-Null Count  Dtype  \n",
            "---  ------    --------------  -----  \n",
            " 0   공원명       17525 non-null  object \n",
            " 1   공원구분      17525 non-null  object \n",
            " 2   소재지도로명주소  17525 non-null  object \n",
            " 3   위도        17513 non-null  float64\n",
            " 4   경도        17514 non-null  float64\n",
            " 5   공원면적      17525 non-null  float64\n",
            " 6   전화번호      16343 non-null  object \n",
            " 7   데이터기준일자   17525 non-null  object \n",
            "dtypes: float64(3), object(5)\n",
            "memory usage: 1.1+ MB\n"
          ]
        }
      ]
    },
    {
      "cell_type": "code",
      "source": [
        "# 결측치 유무 확인\n",
        "df.isnull().sum()"
      ],
      "metadata": {
        "colab": {
          "base_uri": "https://localhost:8080/"
        },
        "id": "BmByk0ya8iej",
        "outputId": "0035c733-7270-4caa-ec4d-5d4a1cc35b0c"
      },
      "execution_count": 6,
      "outputs": [
        {
          "output_type": "execute_result",
          "data": {
            "text/plain": [
              "공원명            0\n",
              "공원구분           0\n",
              "소재지도로명주소       0\n",
              "위도            12\n",
              "경도            11\n",
              "공원면적           0\n",
              "전화번호        1182\n",
              "데이터기준일자        0\n",
              "dtype: int64"
            ]
          },
          "metadata": {},
          "execution_count": 6
        }
      ]
    },
    {
      "cell_type": "code",
      "source": [
        "df['전화번호'].apply( lambda x :  len(x) == 0 | x.isspace() ).sum()\n",
        "# test = \"\"\n",
        "# test.isspace()\n",
        "# if len(test) == 0 | test.isspace():\n",
        "#   print(\"true\")\n",
        "# else:\n",
        "#   print('false')"
      ],
      "metadata": {
        "colab": {
          "base_uri": "https://localhost:8080/",
          "height": 623
        },
        "id": "xMXMY09B9OCU",
        "outputId": "50b11954-0630-42bc-ef9c-4474422af030"
      },
      "execution_count": 44,
      "outputs": [
        {
          "output_type": "execute_result",
          "data": {
            "text/plain": [
              "               공원명   공원구분                     소재지도로명주소         위도          경도  \\\n",
              "78          백현체육공원   체육공원          경상북도 구미시 산동면 백현리 79  36.186429  128.478491   \n",
              "79           둘모아공원  어린이공원           경상북도 구미시 봉곡동 584-2  36.148431  128.316594   \n",
              "80           다붓소공원    소공원          경상북도 구미시 봉곡동 765 일원  36.155883  128.311526   \n",
              "81           다붓1공원  어린이공원           경상북도 구미시 봉곡동 457-1  36.156392  128.314372   \n",
              "82           다붓2공원  어린이공원             경상북도 구미시 봉곡동 767  36.154808  128.314372   \n",
              "...            ...    ...                          ...        ...         ...   \n",
              "17510         동망공원   근린공원     전라남도 완도군 완도읍 장보고대로 330-3  34.313351  126.765417   \n",
              "17511         노화공원   근린공원    전라남도 완도군 노화읍 이목25번길 49-13  34.178833  126.571583   \n",
              "17512  달도지구농어촌테마공원   문화공원        전라남도 완도군 군외면 청해진로 142  34.394139  126.638688   \n",
              "17513       군내리 공원    소공원  전라남도 완도군 완도읍 청해진남로59번길 10-3  34.309605  126.754337   \n",
              "17514       군내리 공원    소공원  전라남도 완도군 완도읍 청해진남로35번길 14-5  34.311461  126.756121   \n",
              "\n",
              "           공원면적 전화번호     데이터기준일자  \n",
              "78      90967.0  NaN  2022-06-09  \n",
              "79       4279.0  NaN  2022-06-09  \n",
              "80        805.0  NaN  2022-06-09  \n",
              "81       1585.0  NaN  2022-06-09  \n",
              "82       1637.0  NaN  2022-06-09  \n",
              "...         ...  ...         ...  \n",
              "17510  645213.0  NaN  2022-12-21  \n",
              "17511  256700.0  NaN  2022-12-21  \n",
              "17512   18640.0  NaN  2022-12-21  \n",
              "17513     128.0  NaN  2022-12-21  \n",
              "17514     128.0  NaN  2022-12-21  \n",
              "\n",
              "[1182 rows x 8 columns]"
            ],
            "text/html": [
              "\n",
              "  <div id=\"df-bf0d456a-b70b-4883-b47d-8bc5ef26aaf0\">\n",
              "    <div class=\"colab-df-container\">\n",
              "      <div>\n",
              "<style scoped>\n",
              "    .dataframe tbody tr th:only-of-type {\n",
              "        vertical-align: middle;\n",
              "    }\n",
              "\n",
              "    .dataframe tbody tr th {\n",
              "        vertical-align: top;\n",
              "    }\n",
              "\n",
              "    .dataframe thead th {\n",
              "        text-align: right;\n",
              "    }\n",
              "</style>\n",
              "<table border=\"1\" class=\"dataframe\">\n",
              "  <thead>\n",
              "    <tr style=\"text-align: right;\">\n",
              "      <th></th>\n",
              "      <th>공원명</th>\n",
              "      <th>공원구분</th>\n",
              "      <th>소재지도로명주소</th>\n",
              "      <th>위도</th>\n",
              "      <th>경도</th>\n",
              "      <th>공원면적</th>\n",
              "      <th>전화번호</th>\n",
              "      <th>데이터기준일자</th>\n",
              "    </tr>\n",
              "  </thead>\n",
              "  <tbody>\n",
              "    <tr>\n",
              "      <th>78</th>\n",
              "      <td>백현체육공원</td>\n",
              "      <td>체육공원</td>\n",
              "      <td>경상북도 구미시 산동면 백현리 79</td>\n",
              "      <td>36.186429</td>\n",
              "      <td>128.478491</td>\n",
              "      <td>90967.0</td>\n",
              "      <td>NaN</td>\n",
              "      <td>2022-06-09</td>\n",
              "    </tr>\n",
              "    <tr>\n",
              "      <th>79</th>\n",
              "      <td>둘모아공원</td>\n",
              "      <td>어린이공원</td>\n",
              "      <td>경상북도 구미시 봉곡동 584-2</td>\n",
              "      <td>36.148431</td>\n",
              "      <td>128.316594</td>\n",
              "      <td>4279.0</td>\n",
              "      <td>NaN</td>\n",
              "      <td>2022-06-09</td>\n",
              "    </tr>\n",
              "    <tr>\n",
              "      <th>80</th>\n",
              "      <td>다붓소공원</td>\n",
              "      <td>소공원</td>\n",
              "      <td>경상북도 구미시 봉곡동 765 일원</td>\n",
              "      <td>36.155883</td>\n",
              "      <td>128.311526</td>\n",
              "      <td>805.0</td>\n",
              "      <td>NaN</td>\n",
              "      <td>2022-06-09</td>\n",
              "    </tr>\n",
              "    <tr>\n",
              "      <th>81</th>\n",
              "      <td>다붓1공원</td>\n",
              "      <td>어린이공원</td>\n",
              "      <td>경상북도 구미시 봉곡동 457-1</td>\n",
              "      <td>36.156392</td>\n",
              "      <td>128.314372</td>\n",
              "      <td>1585.0</td>\n",
              "      <td>NaN</td>\n",
              "      <td>2022-06-09</td>\n",
              "    </tr>\n",
              "    <tr>\n",
              "      <th>82</th>\n",
              "      <td>다붓2공원</td>\n",
              "      <td>어린이공원</td>\n",
              "      <td>경상북도 구미시 봉곡동 767</td>\n",
              "      <td>36.154808</td>\n",
              "      <td>128.314372</td>\n",
              "      <td>1637.0</td>\n",
              "      <td>NaN</td>\n",
              "      <td>2022-06-09</td>\n",
              "    </tr>\n",
              "    <tr>\n",
              "      <th>...</th>\n",
              "      <td>...</td>\n",
              "      <td>...</td>\n",
              "      <td>...</td>\n",
              "      <td>...</td>\n",
              "      <td>...</td>\n",
              "      <td>...</td>\n",
              "      <td>...</td>\n",
              "      <td>...</td>\n",
              "    </tr>\n",
              "    <tr>\n",
              "      <th>17510</th>\n",
              "      <td>동망공원</td>\n",
              "      <td>근린공원</td>\n",
              "      <td>전라남도 완도군 완도읍 장보고대로 330-3</td>\n",
              "      <td>34.313351</td>\n",
              "      <td>126.765417</td>\n",
              "      <td>645213.0</td>\n",
              "      <td>NaN</td>\n",
              "      <td>2022-12-21</td>\n",
              "    </tr>\n",
              "    <tr>\n",
              "      <th>17511</th>\n",
              "      <td>노화공원</td>\n",
              "      <td>근린공원</td>\n",
              "      <td>전라남도 완도군 노화읍 이목25번길 49-13</td>\n",
              "      <td>34.178833</td>\n",
              "      <td>126.571583</td>\n",
              "      <td>256700.0</td>\n",
              "      <td>NaN</td>\n",
              "      <td>2022-12-21</td>\n",
              "    </tr>\n",
              "    <tr>\n",
              "      <th>17512</th>\n",
              "      <td>달도지구농어촌테마공원</td>\n",
              "      <td>문화공원</td>\n",
              "      <td>전라남도 완도군 군외면 청해진로 142</td>\n",
              "      <td>34.394139</td>\n",
              "      <td>126.638688</td>\n",
              "      <td>18640.0</td>\n",
              "      <td>NaN</td>\n",
              "      <td>2022-12-21</td>\n",
              "    </tr>\n",
              "    <tr>\n",
              "      <th>17513</th>\n",
              "      <td>군내리 공원</td>\n",
              "      <td>소공원</td>\n",
              "      <td>전라남도 완도군 완도읍 청해진남로59번길 10-3</td>\n",
              "      <td>34.309605</td>\n",
              "      <td>126.754337</td>\n",
              "      <td>128.0</td>\n",
              "      <td>NaN</td>\n",
              "      <td>2022-12-21</td>\n",
              "    </tr>\n",
              "    <tr>\n",
              "      <th>17514</th>\n",
              "      <td>군내리 공원</td>\n",
              "      <td>소공원</td>\n",
              "      <td>전라남도 완도군 완도읍 청해진남로35번길 14-5</td>\n",
              "      <td>34.311461</td>\n",
              "      <td>126.756121</td>\n",
              "      <td>128.0</td>\n",
              "      <td>NaN</td>\n",
              "      <td>2022-12-21</td>\n",
              "    </tr>\n",
              "  </tbody>\n",
              "</table>\n",
              "<p>1182 rows × 8 columns</p>\n",
              "</div>\n",
              "      <button class=\"colab-df-convert\" onclick=\"convertToInteractive('df-bf0d456a-b70b-4883-b47d-8bc5ef26aaf0')\"\n",
              "              title=\"Convert this dataframe to an interactive table.\"\n",
              "              style=\"display:none;\">\n",
              "        \n",
              "  <svg xmlns=\"http://www.w3.org/2000/svg\" height=\"24px\"viewBox=\"0 0 24 24\"\n",
              "       width=\"24px\">\n",
              "    <path d=\"M0 0h24v24H0V0z\" fill=\"none\"/>\n",
              "    <path d=\"M18.56 5.44l.94 2.06.94-2.06 2.06-.94-2.06-.94-.94-2.06-.94 2.06-2.06.94zm-11 1L8.5 8.5l.94-2.06 2.06-.94-2.06-.94L8.5 2.5l-.94 2.06-2.06.94zm10 10l.94 2.06.94-2.06 2.06-.94-2.06-.94-.94-2.06-.94 2.06-2.06.94z\"/><path d=\"M17.41 7.96l-1.37-1.37c-.4-.4-.92-.59-1.43-.59-.52 0-1.04.2-1.43.59L10.3 9.45l-7.72 7.72c-.78.78-.78 2.05 0 2.83L4 21.41c.39.39.9.59 1.41.59.51 0 1.02-.2 1.41-.59l7.78-7.78 2.81-2.81c.8-.78.8-2.07 0-2.86zM5.41 20L4 18.59l7.72-7.72 1.47 1.35L5.41 20z\"/>\n",
              "  </svg>\n",
              "      </button>\n",
              "      \n",
              "  <style>\n",
              "    .colab-df-container {\n",
              "      display:flex;\n",
              "      flex-wrap:wrap;\n",
              "      gap: 12px;\n",
              "    }\n",
              "\n",
              "    .colab-df-convert {\n",
              "      background-color: #E8F0FE;\n",
              "      border: none;\n",
              "      border-radius: 50%;\n",
              "      cursor: pointer;\n",
              "      display: none;\n",
              "      fill: #1967D2;\n",
              "      height: 32px;\n",
              "      padding: 0 0 0 0;\n",
              "      width: 32px;\n",
              "    }\n",
              "\n",
              "    .colab-df-convert:hover {\n",
              "      background-color: #E2EBFA;\n",
              "      box-shadow: 0px 1px 2px rgba(60, 64, 67, 0.3), 0px 1px 3px 1px rgba(60, 64, 67, 0.15);\n",
              "      fill: #174EA6;\n",
              "    }\n",
              "\n",
              "    [theme=dark] .colab-df-convert {\n",
              "      background-color: #3B4455;\n",
              "      fill: #D2E3FC;\n",
              "    }\n",
              "\n",
              "    [theme=dark] .colab-df-convert:hover {\n",
              "      background-color: #434B5C;\n",
              "      box-shadow: 0px 1px 3px 1px rgba(0, 0, 0, 0.15);\n",
              "      filter: drop-shadow(0px 1px 2px rgba(0, 0, 0, 0.3));\n",
              "      fill: #FFFFFF;\n",
              "    }\n",
              "  </style>\n",
              "\n",
              "      <script>\n",
              "        const buttonEl =\n",
              "          document.querySelector('#df-bf0d456a-b70b-4883-b47d-8bc5ef26aaf0 button.colab-df-convert');\n",
              "        buttonEl.style.display =\n",
              "          google.colab.kernel.accessAllowed ? 'block' : 'none';\n",
              "\n",
              "        async function convertToInteractive(key) {\n",
              "          const element = document.querySelector('#df-bf0d456a-b70b-4883-b47d-8bc5ef26aaf0');\n",
              "          const dataTable =\n",
              "            await google.colab.kernel.invokeFunction('convertToInteractive',\n",
              "                                                     [key], {});\n",
              "          if (!dataTable) return;\n",
              "\n",
              "          const docLinkHtml = 'Like what you see? Visit the ' +\n",
              "            '<a target=\"_blank\" href=https://colab.research.google.com/notebooks/data_table.ipynb>data table notebook</a>'\n",
              "            + ' to learn more about interactive tables.';\n",
              "          element.innerHTML = '';\n",
              "          dataTable['output_type'] = 'display_data';\n",
              "          await google.colab.output.renderOutput(dataTable, element);\n",
              "          const docLink = document.createElement('div');\n",
              "          docLink.innerHTML = docLinkHtml;\n",
              "          element.appendChild(docLink);\n",
              "        }\n",
              "      </script>\n",
              "    </div>\n",
              "  </div>\n",
              "  "
            ]
          },
          "metadata": {},
          "execution_count": 44
        }
      ]
    },
    {
      "cell_type": "code",
      "source": [
        "# 위도 경도의 이상치를 찾아보자.\n",
        "# boxplot\n",
        "# x : 경도  y : 위도  그려보자\n",
        "\n",
        "# 이상치를 제거하는 방법\n",
        "# 시각적으로 찾는 방법  boxplot, scatter plot 을 이용해서\n",
        "# z-score를 이용하는 방법 평균과 표준편차로 값을 구한다음 해당 threshold(임계치) 를 초과하는 데이터를 이상치로 판단\n",
        "# IQR : 4분위수에서  Q3 - Q1    Q1 - 1.5*IQR < x <  Q1 + 1.5*IQR"
      ],
      "metadata": {
        "id": "sPPj5vj3_IDm"
      },
      "execution_count": 33,
      "outputs": []
    },
    {
      "cell_type": "code",
      "source": [
        "import seaborn as sns\n",
        "sns.scatterplot(data = df , x = '경도', y='위도')"
      ],
      "metadata": {
        "colab": {
          "base_uri": "https://localhost:8080/",
          "height": 467
        },
        "id": "Wc5wZdG4CNyE",
        "outputId": "a95e876f-62ed-4589-fdd7-c4dc593ce41a"
      },
      "execution_count": 34,
      "outputs": [
        {
          "output_type": "execute_result",
          "data": {
            "text/plain": [
              "<Axes: xlabel='경도', ylabel='위도'>"
            ]
          },
          "metadata": {},
          "execution_count": 34
        },
        {
          "output_type": "display_data",
          "data": {
            "text/plain": [
              "<Figure size 640x480 with 1 Axes>"
            ],
            "image/png": "[encoded data removed]"
          },
          "metadata": {}
        }
      ]
    },
    {
      "cell_type": "code",
      "source": [
        "plt.subplot(1,2,1)\n",
        "sns.boxplot(df['위도'])\n",
        "plt.subplot(1,2,2)\n",
        "sns.boxplot(df['경도'])\n",
        "plt.show()"
      ],
      "metadata": {
        "colab": {
          "base_uri": "https://localhost:8080/",
          "height": 430
        },
        "id": "P_J2yAYdCn1y",
        "outputId": "8e76cde3-8f50-480e-a7c5-d535786b8f53"
      },
      "execution_count": 38,
      "outputs": [
        {
          "output_type": "display_data",
          "data": {
            "text/plain": [
              "<Figure size 640x480 with 2 Axes>"
            ],
            "image/png": "[encoded data removed]"
          },
          "metadata": {}
        }
      ]
    },
    {
      "cell_type": "code",
      "source": [
        "df.describe().loc[['25%','75%'],['위도','경도']]"
      ],
      "metadata": {
        "colab": {
          "base_uri": "https://localhost:8080/",
          "height": 112
        },
        "id": "fZaWk-TnJ_5w",
        "outputId": "7e30f97a-1040-4bfd-fc96-d30173f3e696"
      },
      "execution_count": 46,
      "outputs": [
        {
          "output_type": "execute_result",
          "data": {
            "text/plain": [
              "            위도          경도\n",
              "25%  35.569929  126.864630\n",
              "75%  37.450047  127.953347"
            ],
            "text/html": [
              "\n",
              "  <div id=\"df-5b276ada-85d1-4e7c-b03b-59c9ba41af01\">\n",
              "    <div class=\"colab-df-container\">\n",
              "      <div>\n",
              "<style scoped>\n",
              "    .dataframe tbody tr th:only-of-type {\n",
              "        vertical-align: middle;\n",
              "    }\n",
              "\n",
              "    .dataframe tbody tr th {\n",
              "        vertical-align: top;\n",
              "    }\n",
              "\n",
              "    .dataframe thead th {\n",
              "        text-align: right;\n",
              "    }\n",
              "</style>\n",
              "<table border=\"1\" class=\"dataframe\">\n",
              "  <thead>\n",
              "    <tr style=\"text-align: right;\">\n",
              "      <th></th>\n",
              "      <th>위도</th>\n",
              "      <th>경도</th>\n",
              "    </tr>\n",
              "  </thead>\n",
              "  <tbody>\n",
              "    <tr>\n",
              "      <th>25%</th>\n",
              "      <td>35.569929</td>\n",
              "      <td>126.864630</td>\n",
              "    </tr>\n",
              "    <tr>\n",
              "      <th>75%</th>\n",
              "      <td>37.450047</td>\n",
              "      <td>127.953347</td>\n",
              "    </tr>\n",
              "  </tbody>\n",
              "</table>\n",
              "</div>\n",
              "      <button class=\"colab-df-convert\" onclick=\"convertToInteractive('df-5b276ada-85d1-4e7c-b03b-59c9ba41af01')\"\n",
              "              title=\"Convert this dataframe to an interactive table.\"\n",
              "              style=\"display:none;\">\n",
              "        \n",
              "  <svg xmlns=\"http://www.w3.org/2000/svg\" height=\"24px\"viewBox=\"0 0 24 24\"\n",
              "       width=\"24px\">\n",
              "    <path d=\"M0 0h24v24H0V0z\" fill=\"none\"/>\n",
              "    <path d=\"M18.56 5.44l.94 2.06.94-2.06 2.06-.94-2.06-.94-.94-2.06-.94 2.06-2.06.94zm-11 1L8.5 8.5l.94-2.06 2.06-.94-2.06-.94L8.5 2.5l-.94 2.06-2.06.94zm10 10l.94 2.06.94-2.06 2.06-.94-2.06-.94-.94-2.06-.94 2.06-2.06.94z\"/><path d=\"M17.41 7.96l-1.37-1.37c-.4-.4-.92-.59-1.43-.59-.52 0-1.04.2-1.43.59L10.3 9.45l-7.72 7.72c-.78.78-.78 2.05 0 2.83L4 21.41c.39.39.9.59 1.41.59.51 0 1.02-.2 1.41-.59l7.78-7.78 2.81-2.81c.8-.78.8-2.07 0-2.86zM5.41 20L4 18.59l7.72-7.72 1.47 1.35L5.41 20z\"/>\n",
              "  </svg>\n",
              "      </button>\n",
              "      \n",
              "  <style>\n",
              "    .colab-df-container {\n",
              "      display:flex;\n",
              "      flex-wrap:wrap;\n",
              "      gap: 12px;\n",
              "    }\n",
              "\n",
              "    .colab-df-convert {\n",
              "      background-color: #E8F0FE;\n",
              "      border: none;\n",
              "      border-radius: 50%;\n",
              "      cursor: pointer;\n",
              "      display: none;\n",
              "      fill: #1967D2;\n",
              "      height: 32px;\n",
              "      padding: 0 0 0 0;\n",
              "      width: 32px;\n",
              "    }\n",
              "\n",
              "    .colab-df-convert:hover {\n",
              "      background-color: #E2EBFA;\n",
              "      box-shadow: 0px 1px 2px rgba(60, 64, 67, 0.3), 0px 1px 3px 1px rgba(60, 64, 67, 0.15);\n",
              "      fill: #174EA6;\n",
              "    }\n",
              "\n",
              "    [theme=dark] .colab-df-convert {\n",
              "      background-color: #3B4455;\n",
              "      fill: #D2E3FC;\n",
              "    }\n",
              "\n",
              "    [theme=dark] .colab-df-convert:hover {\n",
              "      background-color: #434B5C;\n",
              "      box-shadow: 0px 1px 3px 1px rgba(0, 0, 0, 0.15);\n",
              "      filter: drop-shadow(0px 1px 2px rgba(0, 0, 0, 0.3));\n",
              "      fill: #FFFFFF;\n",
              "    }\n",
              "  </style>\n",
              "\n",
              "      <script>\n",
              "        const buttonEl =\n",
              "          document.querySelector('#df-5b276ada-85d1-4e7c-b03b-59c9ba41af01 button.colab-df-convert');\n",
              "        buttonEl.style.display =\n",
              "          google.colab.kernel.accessAllowed ? 'block' : 'none';\n",
              "\n",
              "        async function convertToInteractive(key) {\n",
              "          const element = document.querySelector('#df-5b276ada-85d1-4e7c-b03b-59c9ba41af01');\n",
              "          const dataTable =\n",
              "            await google.colab.kernel.invokeFunction('convertToInteractive',\n",
              "                                                     [key], {});\n",
              "          if (!dataTable) return;\n",
              "\n",
              "          const docLinkHtml = 'Like what you see? Visit the ' +\n",
              "            '<a target=\"_blank\" href=https://colab.research.google.com/notebooks/data_table.ipynb>data table notebook</a>'\n",
              "            + ' to learn more about interactive tables.';\n",
              "          element.innerHTML = '';\n",
              "          dataTable['output_type'] = 'display_data';\n",
              "          await google.colab.output.renderOutput(dataTable, element);\n",
              "          const docLink = document.createElement('div');\n",
              "          docLink.innerHTML = docLinkHtml;\n",
              "          element.appendChild(docLink);\n",
              "        }\n",
              "      </script>\n",
              "    </div>\n",
              "  </div>\n",
              "  "
            ]
          },
          "metadata": {},
          "execution_count": 46
        }
      ]
    },
    {
      "cell_type": "code",
      "source": [
        "# z- score 값 구하기\n",
        "#  Z = (X - μ) / σ  x: 개별 값  μ:전체평균  σ: 전체표준편차\n",
        "# threshold를 초과하는 데이터를 이상치  일반적으로 2~3으로 설정"
      ],
      "metadata": {
        "id": "4ObWevfgDPlS"
      },
      "execution_count": null,
      "outputs": []
    },
    {
      "cell_type": "code",
      "source": [
        "data = [1, 2, 3, 4, 5, 6, 7, 8, 9, 10, 100]\n",
        "import numpy as np\n",
        "# Z-Score 계산\n",
        "z_scores = np.abs((data - np.mean(data)) / np.std(data))\n",
        "# threshold 값 설정\n",
        "threshold = 3\n",
        "# threshold를 초과하는 데이터 제거\n",
        "data_without_outliers = data[z_scores < threshold]"
      ],
      "metadata": {
        "id": "YpwE1Sw0ERcp"
      },
      "execution_count": null,
      "outputs": []
    },
    {
      "cell_type": "code",
      "source": [
        "z_scores = np.abs((df['위도'] - np.mean(df['위도'])) / np.std(df['위도']))\n",
        "(z_scores >=3 ).sum()"
      ],
      "metadata": {
        "colab": {
          "base_uri": "https://localhost:8080/"
        },
        "id": "tJsFdlEeGWSb",
        "outputId": "1fdb15d8-30e9-45ad-d9f3-7268b176479f"
      },
      "execution_count": 52,
      "outputs": [
        {
          "output_type": "execute_result",
          "data": {
            "text/plain": [
              "59"
            ]
          },
          "metadata": {},
          "execution_count": 52
        }
      ]
    },
    {
      "cell_type": "code",
      "source": [],
      "metadata": {
        "id": "M4TFUNohGiR8"
      },
      "execution_count": null,
      "outputs": []
    }
  ]
}