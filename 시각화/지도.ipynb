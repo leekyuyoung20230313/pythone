{
  "nbformat": 4,
  "nbformat_minor": 0,
  "metadata": {
    "colab": {
      "provenance": []
    },
    "kernelspec": {
      "name": "python3",
      "display_name": "Python 3"
    },
    "language_info": {
      "name": "python"
    }
  },
  "cells": [
    {
      "cell_type": "code",
      "execution_count": 1,
      "metadata": {
        "id": "urgG0HhpI8dT"
      },
      "outputs": [],
      "source": [
        "import folium"
      ]
    },
    {
      "cell_type": "code",
      "source": [
        "# 서울 지도 만들기\n",
        "seoul_map = folium.Map(location=[37.55,126.98], zoom_start=12)"
      ],
      "metadata": {
        "id": "eMfAEPfjJ-Gp"
      },
      "execution_count": 2,
      "outputs": []
    },
    {
      "cell_type": "code",
      "source": [
        "seoul_map.save('./seoul.html')"
      ],
      "metadata": {
        "id": "nuaOzqOHKTQ_"
      },
      "execution_count": 4,
      "outputs": []
    },
    {
      "cell_type": "code",
      "source": [
        "seoul_map2 = folium.Map(location=[37.55,126.98], tiles='Stamen Terrain',  zoom_start=12)\n",
        "seoul_map3 = folium.Map(location=[37.55,126.98], tiles='Stamen Toner',  zoom_start=12)"
      ],
      "metadata": {
        "id": "SRT5Jl9SKoCw"
      },
      "execution_count": 5,
      "outputs": []
    },
    {
      "cell_type": "code",
      "source": [
        "seoul_map2.save('./seoul2.html')\n",
        "seoul_map3.save('./seoul3.html')"
      ],
      "metadata": {
        "id": "LEhBd2-XLFHY"
      },
      "execution_count": 6,
      "outputs": []
    },
    {
      "cell_type": "code",
      "source": [
        "# 지도에 마커표시\n",
        "import pandas as pd\n",
        "file_path = '/content/drive/MyDrive/Colab Notebooks/data/시각화/서울지역 대학교 위치.xlsx'\n",
        "df = pd.read_excel(file_path)\n",
        "df.rename(columns={'Unnamed: 0':'학교명'}, inplace=True)"
      ],
      "metadata": {
        "id": "W18H1qCGLbCQ"
      },
      "execution_count": 9,
      "outputs": []
    },
    {
      "cell_type": "code",
      "source": [
        "df = df.set_index(['학교명'])\n",
        "df.head()"
      ],
      "metadata": {
        "colab": {
          "base_uri": "https://localhost:8080/",
          "height": 238
        },
        "id": "hqPmitxHL0uX",
        "outputId": "dd6be316-f9bc-44c9-fc9e-4d35f2442547"
      },
      "execution_count": 11,
      "outputs": [
        {
          "output_type": "execute_result",
          "data": {
            "text/plain": [
              "                     위도          경도\n",
              "학교명                                \n",
              "KAIST 서울캠퍼스   37.592573  127.046737\n",
              "KC대학교         37.548345  126.854797\n",
              "가톨릭대학교(성신교정)  37.585922  127.004328\n",
              "가톨릭대학교(성의교정)  37.499623  127.006065\n",
              "감리교신학대학교      37.567645  126.961610"
            ],
            "text/html": [
              "\n",
              "  <div id=\"df-546138f7-c995-4d9d-896f-100851cfc930\">\n",
              "    <div class=\"colab-df-container\">\n",
              "      <div>\n",
              "<style scoped>\n",
              "    .dataframe tbody tr th:only-of-type {\n",
              "        vertical-align: middle;\n",
              "    }\n",
              "\n",
              "    .dataframe tbody tr th {\n",
              "        vertical-align: top;\n",
              "    }\n",
              "\n",
              "    .dataframe thead th {\n",
              "        text-align: right;\n",
              "    }\n",
              "</style>\n",
              "<table border=\"1\" class=\"dataframe\">\n",
              "  <thead>\n",
              "    <tr style=\"text-align: right;\">\n",
              "      <th></th>\n",
              "      <th>위도</th>\n",
              "      <th>경도</th>\n",
              "    </tr>\n",
              "    <tr>\n",
              "      <th>학교명</th>\n",
              "      <th></th>\n",
              "      <th></th>\n",
              "    </tr>\n",
              "  </thead>\n",
              "  <tbody>\n",
              "    <tr>\n",
              "      <th>KAIST 서울캠퍼스</th>\n",
              "      <td>37.592573</td>\n",
              "      <td>127.046737</td>\n",
              "    </tr>\n",
              "    <tr>\n",
              "      <th>KC대학교</th>\n",
              "      <td>37.548345</td>\n",
              "      <td>126.854797</td>\n",
              "    </tr>\n",
              "    <tr>\n",
              "      <th>가톨릭대학교(성신교정)</th>\n",
              "      <td>37.585922</td>\n",
              "      <td>127.004328</td>\n",
              "    </tr>\n",
              "    <tr>\n",
              "      <th>가톨릭대학교(성의교정)</th>\n",
              "      <td>37.499623</td>\n",
              "      <td>127.006065</td>\n",
              "    </tr>\n",
              "    <tr>\n",
              "      <th>감리교신학대학교</th>\n",
              "      <td>37.567645</td>\n",
              "      <td>126.961610</td>\n",
              "    </tr>\n",
              "  </tbody>\n",
              "</table>\n",
              "</div>\n",
              "      <button class=\"colab-df-convert\" onclick=\"convertToInteractive('df-546138f7-c995-4d9d-896f-100851cfc930')\"\n",
              "              title=\"Convert this dataframe to an interactive table.\"\n",
              "              style=\"display:none;\">\n",
              "        \n",
              "  <svg xmlns=\"http://www.w3.org/2000/svg\" height=\"24px\"viewBox=\"0 0 24 24\"\n",
              "       width=\"24px\">\n",
              "    <path d=\"M0 0h24v24H0V0z\" fill=\"none\"/>\n",
              "    <path d=\"M18.56 5.44l.94 2.06.94-2.06 2.06-.94-2.06-.94-.94-2.06-.94 2.06-2.06.94zm-11 1L8.5 8.5l.94-2.06 2.06-.94-2.06-.94L8.5 2.5l-.94 2.06-2.06.94zm10 10l.94 2.06.94-2.06 2.06-.94-2.06-.94-.94-2.06-.94 2.06-2.06.94z\"/><path d=\"M17.41 7.96l-1.37-1.37c-.4-.4-.92-.59-1.43-.59-.52 0-1.04.2-1.43.59L10.3 9.45l-7.72 7.72c-.78.78-.78 2.05 0 2.83L4 21.41c.39.39.9.59 1.41.59.51 0 1.02-.2 1.41-.59l7.78-7.78 2.81-2.81c.8-.78.8-2.07 0-2.86zM5.41 20L4 18.59l7.72-7.72 1.47 1.35L5.41 20z\"/>\n",
              "  </svg>\n",
              "      </button>\n",
              "      \n",
              "  <style>\n",
              "    .colab-df-container {\n",
              "      display:flex;\n",
              "      flex-wrap:wrap;\n",
              "      gap: 12px;\n",
              "    }\n",
              "\n",
              "    .colab-df-convert {\n",
              "      background-color: #E8F0FE;\n",
              "      border: none;\n",
              "      border-radius: 50%;\n",
              "      cursor: pointer;\n",
              "      display: none;\n",
              "      fill: #1967D2;\n",
              "      height: 32px;\n",
              "      padding: 0 0 0 0;\n",
              "      width: 32px;\n",
              "    }\n",
              "\n",
              "    .colab-df-convert:hover {\n",
              "      background-color: #E2EBFA;\n",
              "      box-shadow: 0px 1px 2px rgba(60, 64, 67, 0.3), 0px 1px 3px 1px rgba(60, 64, 67, 0.15);\n",
              "      fill: #174EA6;\n",
              "    }\n",
              "\n",
              "    [theme=dark] .colab-df-convert {\n",
              "      background-color: #3B4455;\n",
              "      fill: #D2E3FC;\n",
              "    }\n",
              "\n",
              "    [theme=dark] .colab-df-convert:hover {\n",
              "      background-color: #434B5C;\n",
              "      box-shadow: 0px 1px 3px 1px rgba(0, 0, 0, 0.15);\n",
              "      filter: drop-shadow(0px 1px 2px rgba(0, 0, 0, 0.3));\n",
              "      fill: #FFFFFF;\n",
              "    }\n",
              "  </style>\n",
              "\n",
              "      <script>\n",
              "        const buttonEl =\n",
              "          document.querySelector('#df-546138f7-c995-4d9d-896f-100851cfc930 button.colab-df-convert');\n",
              "        buttonEl.style.display =\n",
              "          google.colab.kernel.accessAllowed ? 'block' : 'none';\n",
              "\n",
              "        async function convertToInteractive(key) {\n",
              "          const element = document.querySelector('#df-546138f7-c995-4d9d-896f-100851cfc930');\n",
              "          const dataTable =\n",
              "            await google.colab.kernel.invokeFunction('convertToInteractive',\n",
              "                                                     [key], {});\n",
              "          if (!dataTable) return;\n",
              "\n",
              "          const docLinkHtml = 'Like what you see? Visit the ' +\n",
              "            '<a target=\"_blank\" href=https://colab.research.google.com/notebooks/data_table.ipynb>data table notebook</a>'\n",
              "            + ' to learn more about interactive tables.';\n",
              "          element.innerHTML = '';\n",
              "          dataTable['output_type'] = 'display_data';\n",
              "          await google.colab.output.renderOutput(dataTable, element);\n",
              "          const docLink = document.createElement('div');\n",
              "          docLink.innerHTML = docLinkHtml;\n",
              "          element.appendChild(docLink);\n",
              "        }\n",
              "      </script>\n",
              "    </div>\n",
              "  </div>\n",
              "  "
            ]
          },
          "metadata": {},
          "execution_count": 11
        }
      ]
    },
    {
      "cell_type": "code",
      "source": [
        "seoul_map = folium.Map(location=[37.55,126.98], zoom_start=12)"
      ],
      "metadata": {
        "id": "63o_u3LaMThp"
      },
      "execution_count": 12,
      "outputs": []
    },
    {
      "cell_type": "code",
      "source": [
        "# 대학교 위치 정보를 Marker로 표시\n",
        "for name, lat, lng in zip(df.index,  df['위도'], df['경도']):\n",
        "  folium.Marker( (lat, lng), popup = name ).add_to(seoul_map)\n",
        "\n",
        "seoul_map.save('./seoul_colleges.html')"
      ],
      "metadata": {
        "id": "xYMWFHuOMf73"
      },
      "execution_count": 13,
      "outputs": []
    },
    {
      "cell_type": "code",
      "source": [
        "from pandas.io.parsers.readers import fill\n",
        "# Marker함수 대신에 CircleMarker() 함수 사용\n",
        "seoul_map = folium.Map(location=[37.55,126.98], zoom_start=12)\n",
        "for name, lat, lng in zip(df.index,  df['위도'], df['경도']):\n",
        "  folium.CircleMarker( (lat, lng), \n",
        "                      radius = 10,\n",
        "                      color = 'brown',\n",
        "                      fill = True,\n",
        "                      fill_color = 'coral',\n",
        "                      fill_opacity = 0.7,\n",
        "                      popup = name ).add_to(seoul_map)\n",
        "\n",
        "seoul_map.save('./seoul_colleges2.html')"
      ],
      "metadata": {
        "id": "4YPcHeXWNFW2"
      },
      "execution_count": 14,
      "outputs": []
    },
    {
      "cell_type": "code",
      "source": [
        "# 지도 영역에  단계구분도 표시\n",
        "import json\n",
        "file_path = '/content/drive/MyDrive/Colab Notebooks/data/시각화/경기도인구데이터.xlsx'\n",
        "df = pd.read_excel(file_path, index_col = '구분')\n",
        "df.columns = df.columns.map(str)"
      ],
      "metadata": {
        "id": "PCiHSCu6N_MH"
      },
      "execution_count": 15,
      "outputs": []
    },
    {
      "cell_type": "code",
      "source": [
        "# 시도구분 경계 json파일 불러오기\n",
        "geo_path = '/content/drive/MyDrive/Colab Notebooks/data/시각화/경기도행정구역경계.json'\n",
        "try:\n",
        "  geo_data = json.load(open(geo_path, encoding='utf-8'))\n",
        "except:\n",
        "  geo_data = json.load(open(geo_path, encoding='utf-8-sig'))  "
      ],
      "metadata": {
        "id": "QDo90u1aPfR_"
      },
      "execution_count": 16,
      "outputs": []
    },
    {
      "cell_type": "code",
      "source": [
        "# 경기도 지도 만들기\n",
        "g_map = folium.Map(location=(37.5502,126.982), tiles = 'Stamen Terrain', zoom_start=9)\n",
        "# 출력할 연도 선택(2007~2017년)\n",
        "year = '2010'\n",
        "# Choroplet 클래스로 단계구분도 표시\n",
        "folium.Choropleth(geo_data = geo_data,  # 지도 경계\n",
        "                  data = df[year],    # 표시하려는 데이터\n",
        "                  columns=[df.index, df[year]],  # 열 지정\n",
        "                  threshold_scale = [1000,100000,300000,500000,700000],\n",
        "                  key_on = 'feature.properties.name'\n",
        "                  ).add_to(g_map)\n",
        "g_map.save(f'./g_map_{year}.html')                  "
      ],
      "metadata": {
        "id": "LURxf4WpP8kH"
      },
      "execution_count": 19,
      "outputs": []
    },
    {
      "cell_type": "code",
      "source": [
        "df[year]"
      ],
      "metadata": {
        "colab": {
          "base_uri": "https://localhost:8080/"
        },
        "id": "ZhhA4YGERDdg",
        "outputId": "bc3f77f7-6966-4bb0-a36d-c583230e367f"
      },
      "execution_count": 18,
      "outputs": [
        {
          "output_type": "execute_result",
          "data": {
            "text/plain": [
              "구분\n",
              "수원시장안구     287474\n",
              "수원시권선구     310553\n",
              "수원시팔달구     216945\n",
              "수원시영통구     252730\n",
              "성남시수정구     256744\n",
              "성남시중원구     263101\n",
              "성남시분당구     434115\n",
              "의정부시       421853\n",
              "안양시만안구     265881\n",
              "안양시동안구     358316\n",
              "부천시원미구     443290\n",
              "부천시소사구     227484\n",
              "부천시오정구     193263\n",
              "광명시        313019\n",
              "평택시        402458\n",
              "동두천시        88780\n",
              "안산시상록구     373969\n",
              "안산시단원구     331071\n",
              "고양시덕양구     378260\n",
              "고양시일산동구    256493\n",
              "고양시일산서구    290086\n",
              "과천시         62291\n",
              "구리시        196800\n",
              "남양주시       492347\n",
              "오산시        145825\n",
              "시흥시        390564\n",
              "군포시        275351\n",
              "의왕시        135009\n",
              "하남시        137131\n",
              "용인시처인구     202714\n",
              "용인시기흥구     301630\n",
              "용인시수지구     295950\n",
              "파주시        303831\n",
              "이천시        195691\n",
              "안성시        163733\n",
              "김포시        205997\n",
              "화성시        371972\n",
              "광주시        229319\n",
              "양주시        179914\n",
              "포천시        158156\n",
              "여주시        109343\n",
              "연천군         45603\n",
              "가평군         55698\n",
              "양평군         87874\n",
              "Name: 2007, dtype: int64"
            ]
          },
          "metadata": {},
          "execution_count": 18
        }
      ]
    }
  ]
}