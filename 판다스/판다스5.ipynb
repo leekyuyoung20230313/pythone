{
  "nbformat": 4,
  "nbformat_minor": 0,
  "metadata": {
    "colab": {
      "provenance": []
    },
    "kernelspec": {
      "name": "python3",
      "display_name": "Python 3"
    },
    "language_info": {
      "name": "python"
    }
  },
  "cells": [
    {
      "cell_type": "code",
      "execution_count": 118,
      "metadata": {
        "id": "bX3gYKKI_EAN"
      },
      "outputs": [],
      "source": [
        "import pandas as pd"
      ]
    },
    {
      "cell_type": "code",
      "source": [
        "raw_data = {\n",
        "  'id' : [1,2,3,4,5,6,7,8,9,10],\n",
        "  'score':list(range(10,20))\n",
        "}\n",
        "df_left = pd.DataFrame( raw_data)\n",
        "\n",
        "raw_data2 = {\n",
        "  'number' : [4,5,6],\n",
        "  'value':list(range(100,103))\n",
        "}\n",
        "df_right = pd.DataFrame( raw_data2)"
      ],
      "metadata": {
        "id": "_g7LUlX9_Ufc"
      },
      "execution_count": 119,
      "outputs": []
    },
    {
      "cell_type": "code",
      "source": [
        "pd.merge(df_left,df_right,how='inner', left_on= 'id', right_on='number')"
      ],
      "metadata": {
        "colab": {
          "base_uri": "https://localhost:8080/",
          "height": 143
        },
        "id": "-cndQYwTAWka",
        "outputId": "b3b986d2-68b1-4940-d388-25e4b8e47fcc"
      },
      "execution_count": 120,
      "outputs": [
        {
          "output_type": "execute_result",
          "data": {
            "text/plain": [
              "   id  score  number  value\n",
              "0   4     13       4    100\n",
              "1   5     14       5    101\n",
              "2   6     15       6    102"
            ],
            "text/html": [
              "\n",
              "  <div id=\"df-7cfe9194-5072-4795-8032-236341dc22b8\">\n",
              "    <div class=\"colab-df-container\">\n",
              "      <div>\n",
              "<style scoped>\n",
              "    .dataframe tbody tr th:only-of-type {\n",
              "        vertical-align: middle;\n",
              "    }\n",
              "\n",
              "    .dataframe tbody tr th {\n",
              "        vertical-align: top;\n",
              "    }\n",
              "\n",
              "    .dataframe thead th {\n",
              "        text-align: right;\n",
              "    }\n",
              "</style>\n",
              "<table border=\"1\" class=\"dataframe\">\n",
              "  <thead>\n",
              "    <tr style=\"text-align: right;\">\n",
              "      <th></th>\n",
              "      <th>id</th>\n",
              "      <th>score</th>\n",
              "      <th>number</th>\n",
              "      <th>value</th>\n",
              "    </tr>\n",
              "  </thead>\n",
              "  <tbody>\n",
              "    <tr>\n",
              "      <th>0</th>\n",
              "      <td>4</td>\n",
              "      <td>13</td>\n",
              "      <td>4</td>\n",
              "      <td>100</td>\n",
              "    </tr>\n",
              "    <tr>\n",
              "      <th>1</th>\n",
              "      <td>5</td>\n",
              "      <td>14</td>\n",
              "      <td>5</td>\n",
              "      <td>101</td>\n",
              "    </tr>\n",
              "    <tr>\n",
              "      <th>2</th>\n",
              "      <td>6</td>\n",
              "      <td>15</td>\n",
              "      <td>6</td>\n",
              "      <td>102</td>\n",
              "    </tr>\n",
              "  </tbody>\n",
              "</table>\n",
              "</div>\n",
              "      <button class=\"colab-df-convert\" onclick=\"convertToInteractive('df-7cfe9194-5072-4795-8032-236341dc22b8')\"\n",
              "              title=\"Convert this dataframe to an interactive table.\"\n",
              "              style=\"display:none;\">\n",
              "        \n",
              "  <svg xmlns=\"http://www.w3.org/2000/svg\" height=\"24px\"viewBox=\"0 0 24 24\"\n",
              "       width=\"24px\">\n",
              "    <path d=\"M0 0h24v24H0V0z\" fill=\"none\"/>\n",
              "    <path d=\"M18.56 5.44l.94 2.06.94-2.06 2.06-.94-2.06-.94-.94-2.06-.94 2.06-2.06.94zm-11 1L8.5 8.5l.94-2.06 2.06-.94-2.06-.94L8.5 2.5l-.94 2.06-2.06.94zm10 10l.94 2.06.94-2.06 2.06-.94-2.06-.94-.94-2.06-.94 2.06-2.06.94z\"/><path d=\"M17.41 7.96l-1.37-1.37c-.4-.4-.92-.59-1.43-.59-.52 0-1.04.2-1.43.59L10.3 9.45l-7.72 7.72c-.78.78-.78 2.05 0 2.83L4 21.41c.39.39.9.59 1.41.59.51 0 1.02-.2 1.41-.59l7.78-7.78 2.81-2.81c.8-.78.8-2.07 0-2.86zM5.41 20L4 18.59l7.72-7.72 1.47 1.35L5.41 20z\"/>\n",
              "  </svg>\n",
              "      </button>\n",
              "      \n",
              "  <style>\n",
              "    .colab-df-container {\n",
              "      display:flex;\n",
              "      flex-wrap:wrap;\n",
              "      gap: 12px;\n",
              "    }\n",
              "\n",
              "    .colab-df-convert {\n",
              "      background-color: #E8F0FE;\n",
              "      border: none;\n",
              "      border-radius: 50%;\n",
              "      cursor: pointer;\n",
              "      display: none;\n",
              "      fill: #1967D2;\n",
              "      height: 32px;\n",
              "      padding: 0 0 0 0;\n",
              "      width: 32px;\n",
              "    }\n",
              "\n",
              "    .colab-df-convert:hover {\n",
              "      background-color: #E2EBFA;\n",
              "      box-shadow: 0px 1px 2px rgba(60, 64, 67, 0.3), 0px 1px 3px 1px rgba(60, 64, 67, 0.15);\n",
              "      fill: #174EA6;\n",
              "    }\n",
              "\n",
              "    [theme=dark] .colab-df-convert {\n",
              "      background-color: #3B4455;\n",
              "      fill: #D2E3FC;\n",
              "    }\n",
              "\n",
              "    [theme=dark] .colab-df-convert:hover {\n",
              "      background-color: #434B5C;\n",
              "      box-shadow: 0px 1px 3px 1px rgba(0, 0, 0, 0.15);\n",
              "      filter: drop-shadow(0px 1px 2px rgba(0, 0, 0, 0.3));\n",
              "      fill: #FFFFFF;\n",
              "    }\n",
              "  </style>\n",
              "\n",
              "      <script>\n",
              "        const buttonEl =\n",
              "          document.querySelector('#df-7cfe9194-5072-4795-8032-236341dc22b8 button.colab-df-convert');\n",
              "        buttonEl.style.display =\n",
              "          google.colab.kernel.accessAllowed ? 'block' : 'none';\n",
              "\n",
              "        async function convertToInteractive(key) {\n",
              "          const element = document.querySelector('#df-7cfe9194-5072-4795-8032-236341dc22b8');\n",
              "          const dataTable =\n",
              "            await google.colab.kernel.invokeFunction('convertToInteractive',\n",
              "                                                     [key], {});\n",
              "          if (!dataTable) return;\n",
              "\n",
              "          const docLinkHtml = 'Like what you see? Visit the ' +\n",
              "            '<a target=\"_blank\" href=https://colab.research.google.com/notebooks/data_table.ipynb>data table notebook</a>'\n",
              "            + ' to learn more about interactive tables.';\n",
              "          element.innerHTML = '';\n",
              "          dataTable['output_type'] = 'display_data';\n",
              "          await google.colab.output.renderOutput(dataTable, element);\n",
              "          const docLink = document.createElement('div');\n",
              "          docLink.innerHTML = docLinkHtml;\n",
              "          element.appendChild(docLink);\n",
              "        }\n",
              "      </script>\n",
              "    </div>\n",
              "  </div>\n",
              "  "
            ]
          },
          "metadata": {},
          "execution_count": 120
        }
      ]
    },
    {
      "cell_type": "code",
      "source": [
        "pd.merge(df_left,df_right,how='left', left_on= 'id', right_on='number')  # 변경하지 않으면 에러"
      ],
      "metadata": {
        "colab": {
          "base_uri": "https://localhost:8080/",
          "height": 363
        },
        "id": "UBk8eRphAXcj",
        "outputId": "88ab737c-5d2b-4f7a-cfc8-69604e65a0bc"
      },
      "execution_count": 121,
      "outputs": [
        {
          "output_type": "execute_result",
          "data": {
            "text/plain": [
              "   id  score  number  value\n",
              "0   1     10     NaN    NaN\n",
              "1   2     11     NaN    NaN\n",
              "2   3     12     NaN    NaN\n",
              "3   4     13     4.0  100.0\n",
              "4   5     14     5.0  101.0\n",
              "5   6     15     6.0  102.0\n",
              "6   7     16     NaN    NaN\n",
              "7   8     17     NaN    NaN\n",
              "8   9     18     NaN    NaN\n",
              "9  10     19     NaN    NaN"
            ],
            "text/html": [
              "\n",
              "  <div id=\"df-cde5558f-3fd2-4b0e-8854-d46f2e9a98fb\">\n",
              "    <div class=\"colab-df-container\">\n",
              "      <div>\n",
              "<style scoped>\n",
              "    .dataframe tbody tr th:only-of-type {\n",
              "        vertical-align: middle;\n",
              "    }\n",
              "\n",
              "    .dataframe tbody tr th {\n",
              "        vertical-align: top;\n",
              "    }\n",
              "\n",
              "    .dataframe thead th {\n",
              "        text-align: right;\n",
              "    }\n",
              "</style>\n",
              "<table border=\"1\" class=\"dataframe\">\n",
              "  <thead>\n",
              "    <tr style=\"text-align: right;\">\n",
              "      <th></th>\n",
              "      <th>id</th>\n",
              "      <th>score</th>\n",
              "      <th>number</th>\n",
              "      <th>value</th>\n",
              "    </tr>\n",
              "  </thead>\n",
              "  <tbody>\n",
              "    <tr>\n",
              "      <th>0</th>\n",
              "      <td>1</td>\n",
              "      <td>10</td>\n",
              "      <td>NaN</td>\n",
              "      <td>NaN</td>\n",
              "    </tr>\n",
              "    <tr>\n",
              "      <th>1</th>\n",
              "      <td>2</td>\n",
              "      <td>11</td>\n",
              "      <td>NaN</td>\n",
              "      <td>NaN</td>\n",
              "    </tr>\n",
              "    <tr>\n",
              "      <th>2</th>\n",
              "      <td>3</td>\n",
              "      <td>12</td>\n",
              "      <td>NaN</td>\n",
              "      <td>NaN</td>\n",
              "    </tr>\n",
              "    <tr>\n",
              "      <th>3</th>\n",
              "      <td>4</td>\n",
              "      <td>13</td>\n",
              "      <td>4.0</td>\n",
              "      <td>100.0</td>\n",
              "    </tr>\n",
              "    <tr>\n",
              "      <th>4</th>\n",
              "      <td>5</td>\n",
              "      <td>14</td>\n",
              "      <td>5.0</td>\n",
              "      <td>101.0</td>\n",
              "    </tr>\n",
              "    <tr>\n",
              "      <th>5</th>\n",
              "      <td>6</td>\n",
              "      <td>15</td>\n",
              "      <td>6.0</td>\n",
              "      <td>102.0</td>\n",
              "    </tr>\n",
              "    <tr>\n",
              "      <th>6</th>\n",
              "      <td>7</td>\n",
              "      <td>16</td>\n",
              "      <td>NaN</td>\n",
              "      <td>NaN</td>\n",
              "    </tr>\n",
              "    <tr>\n",
              "      <th>7</th>\n",
              "      <td>8</td>\n",
              "      <td>17</td>\n",
              "      <td>NaN</td>\n",
              "      <td>NaN</td>\n",
              "    </tr>\n",
              "    <tr>\n",
              "      <th>8</th>\n",
              "      <td>9</td>\n",
              "      <td>18</td>\n",
              "      <td>NaN</td>\n",
              "      <td>NaN</td>\n",
              "    </tr>\n",
              "    <tr>\n",
              "      <th>9</th>\n",
              "      <td>10</td>\n",
              "      <td>19</td>\n",
              "      <td>NaN</td>\n",
              "      <td>NaN</td>\n",
              "    </tr>\n",
              "  </tbody>\n",
              "</table>\n",
              "</div>\n",
              "      <button class=\"colab-df-convert\" onclick=\"convertToInteractive('df-cde5558f-3fd2-4b0e-8854-d46f2e9a98fb')\"\n",
              "              title=\"Convert this dataframe to an interactive table.\"\n",
              "              style=\"display:none;\">\n",
              "        \n",
              "  <svg xmlns=\"http://www.w3.org/2000/svg\" height=\"24px\"viewBox=\"0 0 24 24\"\n",
              "       width=\"24px\">\n",
              "    <path d=\"M0 0h24v24H0V0z\" fill=\"none\"/>\n",
              "    <path d=\"M18.56 5.44l.94 2.06.94-2.06 2.06-.94-2.06-.94-.94-2.06-.94 2.06-2.06.94zm-11 1L8.5 8.5l.94-2.06 2.06-.94-2.06-.94L8.5 2.5l-.94 2.06-2.06.94zm10 10l.94 2.06.94-2.06 2.06-.94-2.06-.94-.94-2.06-.94 2.06-2.06.94z\"/><path d=\"M17.41 7.96l-1.37-1.37c-.4-.4-.92-.59-1.43-.59-.52 0-1.04.2-1.43.59L10.3 9.45l-7.72 7.72c-.78.78-.78 2.05 0 2.83L4 21.41c.39.39.9.59 1.41.59.51 0 1.02-.2 1.41-.59l7.78-7.78 2.81-2.81c.8-.78.8-2.07 0-2.86zM5.41 20L4 18.59l7.72-7.72 1.47 1.35L5.41 20z\"/>\n",
              "  </svg>\n",
              "      </button>\n",
              "      \n",
              "  <style>\n",
              "    .colab-df-container {\n",
              "      display:flex;\n",
              "      flex-wrap:wrap;\n",
              "      gap: 12px;\n",
              "    }\n",
              "\n",
              "    .colab-df-convert {\n",
              "      background-color: #E8F0FE;\n",
              "      border: none;\n",
              "      border-radius: 50%;\n",
              "      cursor: pointer;\n",
              "      display: none;\n",
              "      fill: #1967D2;\n",
              "      height: 32px;\n",
              "      padding: 0 0 0 0;\n",
              "      width: 32px;\n",
              "    }\n",
              "\n",
              "    .colab-df-convert:hover {\n",
              "      background-color: #E2EBFA;\n",
              "      box-shadow: 0px 1px 2px rgba(60, 64, 67, 0.3), 0px 1px 3px 1px rgba(60, 64, 67, 0.15);\n",
              "      fill: #174EA6;\n",
              "    }\n",
              "\n",
              "    [theme=dark] .colab-df-convert {\n",
              "      background-color: #3B4455;\n",
              "      fill: #D2E3FC;\n",
              "    }\n",
              "\n",
              "    [theme=dark] .colab-df-convert:hover {\n",
              "      background-color: #434B5C;\n",
              "      box-shadow: 0px 1px 3px 1px rgba(0, 0, 0, 0.15);\n",
              "      filter: drop-shadow(0px 1px 2px rgba(0, 0, 0, 0.3));\n",
              "      fill: #FFFFFF;\n",
              "    }\n",
              "  </style>\n",
              "\n",
              "      <script>\n",
              "        const buttonEl =\n",
              "          document.querySelector('#df-cde5558f-3fd2-4b0e-8854-d46f2e9a98fb button.colab-df-convert');\n",
              "        buttonEl.style.display =\n",
              "          google.colab.kernel.accessAllowed ? 'block' : 'none';\n",
              "\n",
              "        async function convertToInteractive(key) {\n",
              "          const element = document.querySelector('#df-cde5558f-3fd2-4b0e-8854-d46f2e9a98fb');\n",
              "          const dataTable =\n",
              "            await google.colab.kernel.invokeFunction('convertToInteractive',\n",
              "                                                     [key], {});\n",
              "          if (!dataTable) return;\n",
              "\n",
              "          const docLinkHtml = 'Like what you see? Visit the ' +\n",
              "            '<a target=\"_blank\" href=https://colab.research.google.com/notebooks/data_table.ipynb>data table notebook</a>'\n",
              "            + ' to learn more about interactive tables.';\n",
              "          element.innerHTML = '';\n",
              "          dataTable['output_type'] = 'display_data';\n",
              "          await google.colab.output.renderOutput(dataTable, element);\n",
              "          const docLink = document.createElement('div');\n",
              "          docLink.innerHTML = docLinkHtml;\n",
              "          element.appendChild(docLink);\n",
              "        }\n",
              "      </script>\n",
              "    </div>\n",
              "  </div>\n",
              "  "
            ]
          },
          "metadata": {},
          "execution_count": 121
        }
      ]
    },
    {
      "cell_type": "code",
      "source": [
        "pd.merge(df_left,df_right,how='right', left_on= 'id', right_on='number') # 변경하지 않으면 에러"
      ],
      "metadata": {
        "colab": {
          "base_uri": "https://localhost:8080/",
          "height": 143
        },
        "id": "kGwoBeNGB8dr",
        "outputId": "9d8dca80-bf92-4d4c-e11e-2229ee8b82da"
      },
      "execution_count": 122,
      "outputs": [
        {
          "output_type": "execute_result",
          "data": {
            "text/plain": [
              "   id  score  number  value\n",
              "0   4     13       4    100\n",
              "1   5     14       5    101\n",
              "2   6     15       6    102"
            ],
            "text/html": [
              "\n",
              "  <div id=\"df-27725513-09ca-4430-9834-0acc8641ef86\">\n",
              "    <div class=\"colab-df-container\">\n",
              "      <div>\n",
              "<style scoped>\n",
              "    .dataframe tbody tr th:only-of-type {\n",
              "        vertical-align: middle;\n",
              "    }\n",
              "\n",
              "    .dataframe tbody tr th {\n",
              "        vertical-align: top;\n",
              "    }\n",
              "\n",
              "    .dataframe thead th {\n",
              "        text-align: right;\n",
              "    }\n",
              "</style>\n",
              "<table border=\"1\" class=\"dataframe\">\n",
              "  <thead>\n",
              "    <tr style=\"text-align: right;\">\n",
              "      <th></th>\n",
              "      <th>id</th>\n",
              "      <th>score</th>\n",
              "      <th>number</th>\n",
              "      <th>value</th>\n",
              "    </tr>\n",
              "  </thead>\n",
              "  <tbody>\n",
              "    <tr>\n",
              "      <th>0</th>\n",
              "      <td>4</td>\n",
              "      <td>13</td>\n",
              "      <td>4</td>\n",
              "      <td>100</td>\n",
              "    </tr>\n",
              "    <tr>\n",
              "      <th>1</th>\n",
              "      <td>5</td>\n",
              "      <td>14</td>\n",
              "      <td>5</td>\n",
              "      <td>101</td>\n",
              "    </tr>\n",
              "    <tr>\n",
              "      <th>2</th>\n",
              "      <td>6</td>\n",
              "      <td>15</td>\n",
              "      <td>6</td>\n",
              "      <td>102</td>\n",
              "    </tr>\n",
              "  </tbody>\n",
              "</table>\n",
              "</div>\n",
              "      <button class=\"colab-df-convert\" onclick=\"convertToInteractive('df-27725513-09ca-4430-9834-0acc8641ef86')\"\n",
              "              title=\"Convert this dataframe to an interactive table.\"\n",
              "              style=\"display:none;\">\n",
              "        \n",
              "  <svg xmlns=\"http://www.w3.org/2000/svg\" height=\"24px\"viewBox=\"0 0 24 24\"\n",
              "       width=\"24px\">\n",
              "    <path d=\"M0 0h24v24H0V0z\" fill=\"none\"/>\n",
              "    <path d=\"M18.56 5.44l.94 2.06.94-2.06 2.06-.94-2.06-.94-.94-2.06-.94 2.06-2.06.94zm-11 1L8.5 8.5l.94-2.06 2.06-.94-2.06-.94L8.5 2.5l-.94 2.06-2.06.94zm10 10l.94 2.06.94-2.06 2.06-.94-2.06-.94-.94-2.06-.94 2.06-2.06.94z\"/><path d=\"M17.41 7.96l-1.37-1.37c-.4-.4-.92-.59-1.43-.59-.52 0-1.04.2-1.43.59L10.3 9.45l-7.72 7.72c-.78.78-.78 2.05 0 2.83L4 21.41c.39.39.9.59 1.41.59.51 0 1.02-.2 1.41-.59l7.78-7.78 2.81-2.81c.8-.78.8-2.07 0-2.86zM5.41 20L4 18.59l7.72-7.72 1.47 1.35L5.41 20z\"/>\n",
              "  </svg>\n",
              "      </button>\n",
              "      \n",
              "  <style>\n",
              "    .colab-df-container {\n",
              "      display:flex;\n",
              "      flex-wrap:wrap;\n",
              "      gap: 12px;\n",
              "    }\n",
              "\n",
              "    .colab-df-convert {\n",
              "      background-color: #E8F0FE;\n",
              "      border: none;\n",
              "      border-radius: 50%;\n",
              "      cursor: pointer;\n",
              "      display: none;\n",
              "      fill: #1967D2;\n",
              "      height: 32px;\n",
              "      padding: 0 0 0 0;\n",
              "      width: 32px;\n",
              "    }\n",
              "\n",
              "    .colab-df-convert:hover {\n",
              "      background-color: #E2EBFA;\n",
              "      box-shadow: 0px 1px 2px rgba(60, 64, 67, 0.3), 0px 1px 3px 1px rgba(60, 64, 67, 0.15);\n",
              "      fill: #174EA6;\n",
              "    }\n",
              "\n",
              "    [theme=dark] .colab-df-convert {\n",
              "      background-color: #3B4455;\n",
              "      fill: #D2E3FC;\n",
              "    }\n",
              "\n",
              "    [theme=dark] .colab-df-convert:hover {\n",
              "      background-color: #434B5C;\n",
              "      box-shadow: 0px 1px 3px 1px rgba(0, 0, 0, 0.15);\n",
              "      filter: drop-shadow(0px 1px 2px rgba(0, 0, 0, 0.3));\n",
              "      fill: #FFFFFF;\n",
              "    }\n",
              "  </style>\n",
              "\n",
              "      <script>\n",
              "        const buttonEl =\n",
              "          document.querySelector('#df-27725513-09ca-4430-9834-0acc8641ef86 button.colab-df-convert');\n",
              "        buttonEl.style.display =\n",
              "          google.colab.kernel.accessAllowed ? 'block' : 'none';\n",
              "\n",
              "        async function convertToInteractive(key) {\n",
              "          const element = document.querySelector('#df-27725513-09ca-4430-9834-0acc8641ef86');\n",
              "          const dataTable =\n",
              "            await google.colab.kernel.invokeFunction('convertToInteractive',\n",
              "                                                     [key], {});\n",
              "          if (!dataTable) return;\n",
              "\n",
              "          const docLinkHtml = 'Like what you see? Visit the ' +\n",
              "            '<a target=\"_blank\" href=https://colab.research.google.com/notebooks/data_table.ipynb>data table notebook</a>'\n",
              "            + ' to learn more about interactive tables.';\n",
              "          element.innerHTML = '';\n",
              "          dataTable['output_type'] = 'display_data';\n",
              "          await google.colab.output.renderOutput(dataTable, element);\n",
              "          const docLink = document.createElement('div');\n",
              "          docLink.innerHTML = docLinkHtml;\n",
              "          element.appendChild(docLink);\n",
              "        }\n",
              "      </script>\n",
              "    </div>\n",
              "  </div>\n",
              "  "
            ]
          },
          "metadata": {},
          "execution_count": 122
        }
      ]
    },
    {
      "cell_type": "code",
      "source": [
        "# 파일 리스트\n",
        "from glob import glob"
      ],
      "metadata": {
        "id": "VX32ngH7CMzJ"
      },
      "execution_count": 123,
      "outputs": []
    },
    {
      "cell_type": "code",
      "source": [
        "filelists = glob('/content/drive/MyDrive/Colab Notebooks/data/mergefiles/sales*.xlsx')"
      ],
      "metadata": {
        "id": "39py9WZKFdI6"
      },
      "execution_count": 124,
      "outputs": []
    },
    {
      "cell_type": "code",
      "source": [
        "filelists"
      ],
      "metadata": {
        "colab": {
          "base_uri": "https://localhost:8080/"
        },
        "id": "Sk0yk0e2GG_5",
        "outputId": "3cb4f130-adf5-4c57-eca1-7f08b7b91057"
      },
      "execution_count": 125,
      "outputs": [
        {
          "output_type": "execute_result",
          "data": {
            "text/plain": [
              "['/content/drive/MyDrive/Colab Notebooks/data/mergefiles/sales-feb-2014.xlsx',\n",
              " '/content/drive/MyDrive/Colab Notebooks/data/mergefiles/sales-jan-2014.xlsx',\n",
              " '/content/drive/MyDrive/Colab Notebooks/data/mergefiles/sales-mar-2014.xlsx']"
            ]
          },
          "metadata": {},
          "execution_count": 125
        }
      ]
    },
    {
      "cell_type": "code",
      "source": [
        "# 엑셀파일 로드\n",
        "filelists[0]"
      ],
      "metadata": {
        "colab": {
          "base_uri": "https://localhost:8080/",
          "height": 35
        },
        "id": "zpS1gL12GL0S",
        "outputId": "3eec6c54-12c6-4c10-ca73-03648e73b945"
      },
      "execution_count": 126,
      "outputs": [
        {
          "output_type": "execute_result",
          "data": {
            "text/plain": [
              "'/content/drive/MyDrive/Colab Notebooks/data/mergefiles/sales-feb-2014.xlsx'"
            ],
            "application/vnd.google.colaboratory.intrinsic+json": {
              "type": "string"
            }
          },
          "metadata": {},
          "execution_count": 126
        }
      ]
    },
    {
      "cell_type": "code",
      "source": [
        "df = pd.read_excel( filelists[0] )\n",
        "len(df)"
      ],
      "metadata": {
        "colab": {
          "base_uri": "https://localhost:8080/"
        },
        "id": "EHT11ICkHphT",
        "outputId": "cd32a212-18f6-444e-c809-2ca600e91204"
      },
      "execution_count": 127,
      "outputs": [
        {
          "output_type": "execute_result",
          "data": {
            "text/plain": [
              "108"
            ]
          },
          "metadata": {},
          "execution_count": 127
        }
      ]
    },
    {
      "cell_type": "code",
      "source": [
        "# 위에서 가져온 전체파일들의 데이터 개수의 총 합\n",
        "sum([len(pd.read_excel(i)) for i in filelists])  # sum([100,200,300])"
      ],
      "metadata": {
        "colab": {
          "base_uri": "https://localhost:8080/"
        },
        "id": "91ihWioAHyt5",
        "outputId": "5dcecf6e-c51a-417a-a660-577c4bc39039"
      },
      "execution_count": 128,
      "outputs": [
        {
          "output_type": "execute_result",
          "data": {
            "text/plain": [
              "384"
            ]
          },
          "metadata": {},
          "execution_count": 128
        }
      ]
    },
    {
      "cell_type": "code",
      "source": [
        "# 파일리스트에서 엑셀파일을 읽어서 데이터객체를 리스트로 저장\n",
        "df_lists = [ pd.read_excel(i) for i in filelists]"
      ],
      "metadata": {
        "id": "DjCU6qviNm8M"
      },
      "execution_count": 129,
      "outputs": []
    },
    {
      "cell_type": "code",
      "source": [
        "# axis : {0/'index', 1/'columns'}, default 0\n",
        "df_concat = pd.concat(df_lists)"
      ],
      "metadata": {
        "id": "fBrgXYYGOYjt"
      },
      "execution_count": 130,
      "outputs": []
    },
    {
      "cell_type": "code",
      "source": [
        "len(df_concat)"
      ],
      "metadata": {
        "colab": {
          "base_uri": "https://localhost:8080/"
        },
        "id": "iL5-BrEmO6Uj",
        "outputId": "6cf0eb5f-db5a-471b-ae52-a6caa67c5b48"
      },
      "execution_count": 131,
      "outputs": [
        {
          "output_type": "execute_result",
          "data": {
            "text/plain": [
              "384"
            ]
          },
          "metadata": {},
          "execution_count": 131
        }
      ]
    },
    {
      "cell_type": "code",
      "source": [
        "df_concat.info()"
      ],
      "metadata": {
        "colab": {
          "base_uri": "https://localhost:8080/"
        },
        "id": "poFuObcwPCMj",
        "outputId": "af017e08-9638-4752-c1cd-2cdba50bc19d"
      },
      "execution_count": 132,
      "outputs": [
        {
          "output_type": "stream",
          "name": "stdout",
          "text": [
            "<class 'pandas.core.frame.DataFrame'>\n",
            "Int64Index: 384 entries, 0 to 141\n",
            "Data columns (total 7 columns):\n",
            " #   Column          Non-Null Count  Dtype  \n",
            "---  ------          --------------  -----  \n",
            " 0   account number  384 non-null    int64  \n",
            " 1   name            384 non-null    object \n",
            " 2   sku             384 non-null    object \n",
            " 3   quantity        384 non-null    int64  \n",
            " 4   unit price      384 non-null    float64\n",
            " 5   ext price       384 non-null    float64\n",
            " 6   date            384 non-null    object \n",
            "dtypes: float64(2), int64(2), object(3)\n",
            "memory usage: 24.0+ KB\n"
          ]
        }
      ]
    },
    {
      "cell_type": "code",
      "source": [
        "# 병합후 인덱스가 틀어지므로 다시 재 정렬\n",
        "df_concat = df_concat.reset_index(drop=True)"
      ],
      "metadata": {
        "id": "ime7PJlUPggD"
      },
      "execution_count": 133,
      "outputs": []
    },
    {
      "cell_type": "code",
      "source": [
        "df_concat.info()"
      ],
      "metadata": {
        "colab": {
          "base_uri": "https://localhost:8080/"
        },
        "id": "lg9dx39SP_Ql",
        "outputId": "490da4ff-88f3-4a21-b8c1-41567da90811"
      },
      "execution_count": 134,
      "outputs": [
        {
          "output_type": "stream",
          "name": "stdout",
          "text": [
            "<class 'pandas.core.frame.DataFrame'>\n",
            "RangeIndex: 384 entries, 0 to 383\n",
            "Data columns (total 7 columns):\n",
            " #   Column          Non-Null Count  Dtype  \n",
            "---  ------          --------------  -----  \n",
            " 0   account number  384 non-null    int64  \n",
            " 1   name            384 non-null    object \n",
            " 2   sku             384 non-null    object \n",
            " 3   quantity        384 non-null    int64  \n",
            " 4   unit price      384 non-null    float64\n",
            " 5   ext price       384 non-null    float64\n",
            " 6   date            384 non-null    object \n",
            "dtypes: float64(2), int64(2), object(3)\n",
            "memory usage: 21.1+ KB\n"
          ]
        }
      ]
    },
    {
      "cell_type": "code",
      "source": [
        "df_concat.duplicated().sum()  # 중복된 데이터는 없다"
      ],
      "metadata": {
        "colab": {
          "base_uri": "https://localhost:8080/"
        },
        "id": "rfF4S0YaQmej",
        "outputId": "4dbb32ee-4187-46d6-8fb4-57444a9da258"
      },
      "execution_count": 135,
      "outputs": [
        {
          "output_type": "execute_result",
          "data": {
            "text/plain": [
              "0"
            ]
          },
          "metadata": {},
          "execution_count": 135
        }
      ]
    },
    {
      "cell_type": "code",
      "source": [
        "url = '/content/drive/MyDrive/Colab Notebooks/data/fulldata_03_11_03_P_숙박업.csv'\n",
        "df = pd.read_csv(url,encoding='cp949',low_memory=False)\n",
        "df.head()"
      ],
      "metadata": {
        "colab": {
          "base_uri": "https://localhost:8080/",
          "height": 1000
        },
        "id": "2_k5dodhQ4jr",
        "outputId": "395f56a5-6bd6-47c3-d9a8-c8fe0d35cc86"
      },
      "execution_count": 136,
      "outputs": [
        {
          "output_type": "execute_result",
          "data": {
            "text/plain": [
              "   번호 개방서비스명    개방서비스아이디  개방자치단체코드                    관리번호       인허가일자  \\\n",
              "0   1    숙박업  03_11_03_P   3620000  3620000-201-2005-00005  2005-08-18   \n",
              "1   2    숙박업  03_11_03_P   3620000  3620000-201-2000-00013  2000-06-15   \n",
              "2   3    숙박업  03_11_03_P   3620000  3620000-214-1985-00002  1985-11-19   \n",
              "3   4    숙박업  03_11_03_P   3620000  3620000-201-2000-00014  2000-07-10   \n",
              "4   5    숙박업  03_11_03_P   3620000  3620000-201-2002-00007  2002-04-29   \n",
              "\n",
              "   인허가취소일자  영업상태구분코드  영업상태명  상세영업상태코드 상세영업상태명 폐업일자  휴업시작일자  휴업종료일자  재개업일자  \\\n",
              "0      NaN         1  영업/정상         1      영업  NaN     NaN     NaN    NaN   \n",
              "1      NaN         1  영업/정상         1      영업  NaN     NaN     NaN    NaN   \n",
              "2      NaN         1  영업/정상         1      영업  NaN     NaN     NaN    NaN   \n",
              "3      NaN         1  영업/정상         1      영업  NaN     NaN     NaN    NaN   \n",
              "4      NaN         1  영업/정상         1      영업  NaN     NaN     NaN    NaN   \n",
              "\n",
              "          소재지전화    소재지면적  소재지우편번호                    소재지전체주소  \\\n",
              "0  050350519280   764.53  500-827        광주광역시 북구 신안동 120-13   \n",
              "1  062 973 6277  1292.03  500-480        광주광역시 북구 오룡동 1114-6   \n",
              "2  062 571 5153   343.44  500-870  광주광역시 북구 임동 187-1번지 4, 5층   \n",
              "3   062 5149991   936.18  500-846      광주광역시 북구 용봉동 1366-5번지   \n",
              "4           NaN   928.32  500-878         광주광역시 북구 중흥동 711-8   \n",
              "\n",
              "                       도로명전체주소  도로명우편번호     사업장명               최종수정시점 데이터갱신구분  \\\n",
              "0    광주광역시 북구 중흥로91번길 12 (신안동)  61250.0       야자  2020-12-23 13:53:29       U   \n",
              "1        광주광역시 북구 앰코로 30 (오룡동)  61009.0   엔(N)모텔  2022-11-18 11:06:39       U   \n",
              "2  광주광역시 북구 신임로 2-1 (임동, 4,5층)  61249.0  디오앤에스임동  2018-02-21 16:39:04       I   \n",
              "3   광주광역시 북구 저불로70번길 6-6 (용봉동)  61106.0    에로스모텔  2018-02-21 16:09:17       I   \n",
              "4    광주광역시 북구 경양로165번길 8 (중흥동)  61237.0  클라우드인호텔  2021-07-14 13:13:45       U   \n",
              "\n",
              "               데이터갱신일자    업태구분명        좌표정보(x)        좌표정보(y)    위생업태명  \\\n",
              "0  2020-12-25 02:40:00      여관업  191244.967300  185003.119744      여관업   \n",
              "1  2022-11-20 02:40:00      여관업  186561.710000  191267.830000      여관업   \n",
              "2  2018-08-31 23:59:59  숙박업(생활)  190625.574555  184980.316890  숙박업(생활)   \n",
              "3  2018-08-31 23:59:59      여관업  190456.100119  186764.725022      여관업   \n",
              "4  2021-07-16 02:40:00      여관업  191709.890100  184633.730686      여관업   \n",
              "\n",
              "   건물지상층수  건물지하층수  사용시작지상층  사용끝지상층  사용시작지하층  사용끝지하층  한실수   양실수 조건부허가신고사유  \\\n",
              "0     5.0     1.0      1.0     5.0      0.0     0.0  8.0  24.0       NaN   \n",
              "1     8.0     1.0      1.0     8.0      0.0     0.0  1.0  41.0       NaN   \n",
              "2     5.0     1.0      1.0     5.0      0.0     0.0  8.0   8.0       NaN   \n",
              "3     5.0     1.0      1.0     5.0      0.0     0.0  4.0  28.0       NaN   \n",
              "4     5.0     0.0      1.0     5.0      0.0     0.0  3.0  25.0       NaN   \n",
              "\n",
              "   조건부허가시작일자  조건부허가종료일자 건물소유구분명  여성종사자수  남성종사자수 다중이용업소여부  Unnamed: 44  \n",
              "0        NaN        NaN      임대     NaN     NaN        N          NaN  \n",
              "1        NaN        NaN     NaN     NaN     NaN        N          NaN  \n",
              "2        NaN        NaN      자가     NaN     NaN        N          NaN  \n",
              "3        NaN        NaN      자가     NaN     NaN        N          NaN  \n",
              "4        NaN        NaN     NaN     NaN     NaN        N          NaN  "
            ],
            "text/html": [
              "\n",
              "  <div id=\"df-ed33f7e1-aa8a-441e-b43f-cd526a44e7c2\">\n",
              "    <div class=\"colab-df-container\">\n",
              "      <div>\n",
              "<style scoped>\n",
              "    .dataframe tbody tr th:only-of-type {\n",
              "        vertical-align: middle;\n",
              "    }\n",
              "\n",
              "    .dataframe tbody tr th {\n",
              "        vertical-align: top;\n",
              "    }\n",
              "\n",
              "    .dataframe thead th {\n",
              "        text-align: right;\n",
              "    }\n",
              "</style>\n",
              "<table border=\"1\" class=\"dataframe\">\n",
              "  <thead>\n",
              "    <tr style=\"text-align: right;\">\n",
              "      <th></th>\n",
              "      <th>번호</th>\n",
              "      <th>개방서비스명</th>\n",
              "      <th>개방서비스아이디</th>\n",
              "      <th>개방자치단체코드</th>\n",
              "      <th>관리번호</th>\n",
              "      <th>인허가일자</th>\n",
              "      <th>인허가취소일자</th>\n",
              "      <th>영업상태구분코드</th>\n",
              "      <th>영업상태명</th>\n",
              "      <th>상세영업상태코드</th>\n",
              "      <th>상세영업상태명</th>\n",
              "      <th>폐업일자</th>\n",
              "      <th>휴업시작일자</th>\n",
              "      <th>휴업종료일자</th>\n",
              "      <th>재개업일자</th>\n",
              "      <th>소재지전화</th>\n",
              "      <th>소재지면적</th>\n",
              "      <th>소재지우편번호</th>\n",
              "      <th>소재지전체주소</th>\n",
              "      <th>도로명전체주소</th>\n",
              "      <th>도로명우편번호</th>\n",
              "      <th>사업장명</th>\n",
              "      <th>최종수정시점</th>\n",
              "      <th>데이터갱신구분</th>\n",
              "      <th>데이터갱신일자</th>\n",
              "      <th>업태구분명</th>\n",
              "      <th>좌표정보(x)</th>\n",
              "      <th>좌표정보(y)</th>\n",
              "      <th>위생업태명</th>\n",
              "      <th>건물지상층수</th>\n",
              "      <th>건물지하층수</th>\n",
              "      <th>사용시작지상층</th>\n",
              "      <th>사용끝지상층</th>\n",
              "      <th>사용시작지하층</th>\n",
              "      <th>사용끝지하층</th>\n",
              "      <th>한실수</th>\n",
              "      <th>양실수</th>\n",
              "      <th>조건부허가신고사유</th>\n",
              "      <th>조건부허가시작일자</th>\n",
              "      <th>조건부허가종료일자</th>\n",
              "      <th>건물소유구분명</th>\n",
              "      <th>여성종사자수</th>\n",
              "      <th>남성종사자수</th>\n",
              "      <th>다중이용업소여부</th>\n",
              "      <th>Unnamed: 44</th>\n",
              "    </tr>\n",
              "  </thead>\n",
              "  <tbody>\n",
              "    <tr>\n",
              "      <th>0</th>\n",
              "      <td>1</td>\n",
              "      <td>숙박업</td>\n",
              "      <td>03_11_03_P</td>\n",
              "      <td>3620000</td>\n",
              "      <td>3620000-201-2005-00005</td>\n",
              "      <td>2005-08-18</td>\n",
              "      <td>NaN</td>\n",
              "      <td>1</td>\n",
              "      <td>영업/정상</td>\n",
              "      <td>1</td>\n",
              "      <td>영업</td>\n",
              "      <td>NaN</td>\n",
              "      <td>NaN</td>\n",
              "      <td>NaN</td>\n",
              "      <td>NaN</td>\n",
              "      <td>050350519280</td>\n",
              "      <td>764.53</td>\n",
              "      <td>500-827</td>\n",
              "      <td>광주광역시 북구 신안동 120-13</td>\n",
              "      <td>광주광역시 북구 중흥로91번길 12 (신안동)</td>\n",
              "      <td>61250.0</td>\n",
              "      <td>야자</td>\n",
              "      <td>2020-12-23 13:53:29</td>\n",
              "      <td>U</td>\n",
              "      <td>2020-12-25 02:40:00</td>\n",
              "      <td>여관업</td>\n",
              "      <td>191244.967300</td>\n",
              "      <td>185003.119744</td>\n",
              "      <td>여관업</td>\n",
              "      <td>5.0</td>\n",
              "      <td>1.0</td>\n",
              "      <td>1.0</td>\n",
              "      <td>5.0</td>\n",
              "      <td>0.0</td>\n",
              "      <td>0.0</td>\n",
              "      <td>8.0</td>\n",
              "      <td>24.0</td>\n",
              "      <td>NaN</td>\n",
              "      <td>NaN</td>\n",
              "      <td>NaN</td>\n",
              "      <td>임대</td>\n",
              "      <td>NaN</td>\n",
              "      <td>NaN</td>\n",
              "      <td>N</td>\n",
              "      <td>NaN</td>\n",
              "    </tr>\n",
              "    <tr>\n",
              "      <th>1</th>\n",
              "      <td>2</td>\n",
              "      <td>숙박업</td>\n",
              "      <td>03_11_03_P</td>\n",
              "      <td>3620000</td>\n",
              "      <td>3620000-201-2000-00013</td>\n",
              "      <td>2000-06-15</td>\n",
              "      <td>NaN</td>\n",
              "      <td>1</td>\n",
              "      <td>영업/정상</td>\n",
              "      <td>1</td>\n",
              "      <td>영업</td>\n",
              "      <td>NaN</td>\n",
              "      <td>NaN</td>\n",
              "      <td>NaN</td>\n",
              "      <td>NaN</td>\n",
              "      <td>062 973 6277</td>\n",
              "      <td>1292.03</td>\n",
              "      <td>500-480</td>\n",
              "      <td>광주광역시 북구 오룡동 1114-6</td>\n",
              "      <td>광주광역시 북구 앰코로 30 (오룡동)</td>\n",
              "      <td>61009.0</td>\n",
              "      <td>엔(N)모텔</td>\n",
              "      <td>2022-11-18 11:06:39</td>\n",
              "      <td>U</td>\n",
              "      <td>2022-11-20 02:40:00</td>\n",
              "      <td>여관업</td>\n",
              "      <td>186561.710000</td>\n",
              "      <td>191267.830000</td>\n",
              "      <td>여관업</td>\n",
              "      <td>8.0</td>\n",
              "      <td>1.0</td>\n",
              "      <td>1.0</td>\n",
              "      <td>8.0</td>\n",
              "      <td>0.0</td>\n",
              "      <td>0.0</td>\n",
              "      <td>1.0</td>\n",
              "      <td>41.0</td>\n",
              "      <td>NaN</td>\n",
              "      <td>NaN</td>\n",
              "      <td>NaN</td>\n",
              "      <td>NaN</td>\n",
              "      <td>NaN</td>\n",
              "      <td>NaN</td>\n",
              "      <td>N</td>\n",
              "      <td>NaN</td>\n",
              "    </tr>\n",
              "    <tr>\n",
              "      <th>2</th>\n",
              "      <td>3</td>\n",
              "      <td>숙박업</td>\n",
              "      <td>03_11_03_P</td>\n",
              "      <td>3620000</td>\n",
              "      <td>3620000-214-1985-00002</td>\n",
              "      <td>1985-11-19</td>\n",
              "      <td>NaN</td>\n",
              "      <td>1</td>\n",
              "      <td>영업/정상</td>\n",
              "      <td>1</td>\n",
              "      <td>영업</td>\n",
              "      <td>NaN</td>\n",
              "      <td>NaN</td>\n",
              "      <td>NaN</td>\n",
              "      <td>NaN</td>\n",
              "      <td>062 571 5153</td>\n",
              "      <td>343.44</td>\n",
              "      <td>500-870</td>\n",
              "      <td>광주광역시 북구 임동 187-1번지 4, 5층</td>\n",
              "      <td>광주광역시 북구 신임로 2-1 (임동, 4,5층)</td>\n",
              "      <td>61249.0</td>\n",
              "      <td>디오앤에스임동</td>\n",
              "      <td>2018-02-21 16:39:04</td>\n",
              "      <td>I</td>\n",
              "      <td>2018-08-31 23:59:59</td>\n",
              "      <td>숙박업(생활)</td>\n",
              "      <td>190625.574555</td>\n",
              "      <td>184980.316890</td>\n",
              "      <td>숙박업(생활)</td>\n",
              "      <td>5.0</td>\n",
              "      <td>1.0</td>\n",
              "      <td>1.0</td>\n",
              "      <td>5.0</td>\n",
              "      <td>0.0</td>\n",
              "      <td>0.0</td>\n",
              "      <td>8.0</td>\n",
              "      <td>8.0</td>\n",
              "      <td>NaN</td>\n",
              "      <td>NaN</td>\n",
              "      <td>NaN</td>\n",
              "      <td>자가</td>\n",
              "      <td>NaN</td>\n",
              "      <td>NaN</td>\n",
              "      <td>N</td>\n",
              "      <td>NaN</td>\n",
              "    </tr>\n",
              "    <tr>\n",
              "      <th>3</th>\n",
              "      <td>4</td>\n",
              "      <td>숙박업</td>\n",
              "      <td>03_11_03_P</td>\n",
              "      <td>3620000</td>\n",
              "      <td>3620000-201-2000-00014</td>\n",
              "      <td>2000-07-10</td>\n",
              "      <td>NaN</td>\n",
              "      <td>1</td>\n",
              "      <td>영업/정상</td>\n",
              "      <td>1</td>\n",
              "      <td>영업</td>\n",
              "      <td>NaN</td>\n",
              "      <td>NaN</td>\n",
              "      <td>NaN</td>\n",
              "      <td>NaN</td>\n",
              "      <td>062 5149991</td>\n",
              "      <td>936.18</td>\n",
              "      <td>500-846</td>\n",
              "      <td>광주광역시 북구 용봉동 1366-5번지</td>\n",
              "      <td>광주광역시 북구 저불로70번길 6-6 (용봉동)</td>\n",
              "      <td>61106.0</td>\n",
              "      <td>에로스모텔</td>\n",
              "      <td>2018-02-21 16:09:17</td>\n",
              "      <td>I</td>\n",
              "      <td>2018-08-31 23:59:59</td>\n",
              "      <td>여관업</td>\n",
              "      <td>190456.100119</td>\n",
              "      <td>186764.725022</td>\n",
              "      <td>여관업</td>\n",
              "      <td>5.0</td>\n",
              "      <td>1.0</td>\n",
              "      <td>1.0</td>\n",
              "      <td>5.0</td>\n",
              "      <td>0.0</td>\n",
              "      <td>0.0</td>\n",
              "      <td>4.0</td>\n",
              "      <td>28.0</td>\n",
              "      <td>NaN</td>\n",
              "      <td>NaN</td>\n",
              "      <td>NaN</td>\n",
              "      <td>자가</td>\n",
              "      <td>NaN</td>\n",
              "      <td>NaN</td>\n",
              "      <td>N</td>\n",
              "      <td>NaN</td>\n",
              "    </tr>\n",
              "    <tr>\n",
              "      <th>4</th>\n",
              "      <td>5</td>\n",
              "      <td>숙박업</td>\n",
              "      <td>03_11_03_P</td>\n",
              "      <td>3620000</td>\n",
              "      <td>3620000-201-2002-00007</td>\n",
              "      <td>2002-04-29</td>\n",
              "      <td>NaN</td>\n",
              "      <td>1</td>\n",
              "      <td>영업/정상</td>\n",
              "      <td>1</td>\n",
              "      <td>영업</td>\n",
              "      <td>NaN</td>\n",
              "      <td>NaN</td>\n",
              "      <td>NaN</td>\n",
              "      <td>NaN</td>\n",
              "      <td>NaN</td>\n",
              "      <td>928.32</td>\n",
              "      <td>500-878</td>\n",
              "      <td>광주광역시 북구 중흥동 711-8</td>\n",
              "      <td>광주광역시 북구 경양로165번길 8 (중흥동)</td>\n",
              "      <td>61237.0</td>\n",
              "      <td>클라우드인호텔</td>\n",
              "      <td>2021-07-14 13:13:45</td>\n",
              "      <td>U</td>\n",
              "      <td>2021-07-16 02:40:00</td>\n",
              "      <td>여관업</td>\n",
              "      <td>191709.890100</td>\n",
              "      <td>184633.730686</td>\n",
              "      <td>여관업</td>\n",
              "      <td>5.0</td>\n",
              "      <td>0.0</td>\n",
              "      <td>1.0</td>\n",
              "      <td>5.0</td>\n",
              "      <td>0.0</td>\n",
              "      <td>0.0</td>\n",
              "      <td>3.0</td>\n",
              "      <td>25.0</td>\n",
              "      <td>NaN</td>\n",
              "      <td>NaN</td>\n",
              "      <td>NaN</td>\n",
              "      <td>NaN</td>\n",
              "      <td>NaN</td>\n",
              "      <td>NaN</td>\n",
              "      <td>N</td>\n",
              "      <td>NaN</td>\n",
              "    </tr>\n",
              "  </tbody>\n",
              "</table>\n",
              "</div>\n",
              "      <button class=\"colab-df-convert\" onclick=\"convertToInteractive('df-ed33f7e1-aa8a-441e-b43f-cd526a44e7c2')\"\n",
              "              title=\"Convert this dataframe to an interactive table.\"\n",
              "              style=\"display:none;\">\n",
              "        \n",
              "  <svg xmlns=\"http://www.w3.org/2000/svg\" height=\"24px\"viewBox=\"0 0 24 24\"\n",
              "       width=\"24px\">\n",
              "    <path d=\"M0 0h24v24H0V0z\" fill=\"none\"/>\n",
              "    <path d=\"M18.56 5.44l.94 2.06.94-2.06 2.06-.94-2.06-.94-.94-2.06-.94 2.06-2.06.94zm-11 1L8.5 8.5l.94-2.06 2.06-.94-2.06-.94L8.5 2.5l-.94 2.06-2.06.94zm10 10l.94 2.06.94-2.06 2.06-.94-2.06-.94-.94-2.06-.94 2.06-2.06.94z\"/><path d=\"M17.41 7.96l-1.37-1.37c-.4-.4-.92-.59-1.43-.59-.52 0-1.04.2-1.43.59L10.3 9.45l-7.72 7.72c-.78.78-.78 2.05 0 2.83L4 21.41c.39.39.9.59 1.41.59.51 0 1.02-.2 1.41-.59l7.78-7.78 2.81-2.81c.8-.78.8-2.07 0-2.86zM5.41 20L4 18.59l7.72-7.72 1.47 1.35L5.41 20z\"/>\n",
              "  </svg>\n",
              "      </button>\n",
              "      \n",
              "  <style>\n",
              "    .colab-df-container {\n",
              "      display:flex;\n",
              "      flex-wrap:wrap;\n",
              "      gap: 12px;\n",
              "    }\n",
              "\n",
              "    .colab-df-convert {\n",
              "      background-color: #E8F0FE;\n",
              "      border: none;\n",
              "      border-radius: 50%;\n",
              "      cursor: pointer;\n",
              "      display: none;\n",
              "      fill: #1967D2;\n",
              "      height: 32px;\n",
              "      padding: 0 0 0 0;\n",
              "      width: 32px;\n",
              "    }\n",
              "\n",
              "    .colab-df-convert:hover {\n",
              "      background-color: #E2EBFA;\n",
              "      box-shadow: 0px 1px 2px rgba(60, 64, 67, 0.3), 0px 1px 3px 1px rgba(60, 64, 67, 0.15);\n",
              "      fill: #174EA6;\n",
              "    }\n",
              "\n",
              "    [theme=dark] .colab-df-convert {\n",
              "      background-color: #3B4455;\n",
              "      fill: #D2E3FC;\n",
              "    }\n",
              "\n",
              "    [theme=dark] .colab-df-convert:hover {\n",
              "      background-color: #434B5C;\n",
              "      box-shadow: 0px 1px 3px 1px rgba(0, 0, 0, 0.15);\n",
              "      filter: drop-shadow(0px 1px 2px rgba(0, 0, 0, 0.3));\n",
              "      fill: #FFFFFF;\n",
              "    }\n",
              "  </style>\n",
              "\n",
              "      <script>\n",
              "        const buttonEl =\n",
              "          document.querySelector('#df-ed33f7e1-aa8a-441e-b43f-cd526a44e7c2 button.colab-df-convert');\n",
              "        buttonEl.style.display =\n",
              "          google.colab.kernel.accessAllowed ? 'block' : 'none';\n",
              "\n",
              "        async function convertToInteractive(key) {\n",
              "          const element = document.querySelector('#df-ed33f7e1-aa8a-441e-b43f-cd526a44e7c2');\n",
              "          const dataTable =\n",
              "            await google.colab.kernel.invokeFunction('convertToInteractive',\n",
              "                                                     [key], {});\n",
              "          if (!dataTable) return;\n",
              "\n",
              "          const docLinkHtml = 'Like what you see? Visit the ' +\n",
              "            '<a target=\"_blank\" href=https://colab.research.google.com/notebooks/data_table.ipynb>data table notebook</a>'\n",
              "            + ' to learn more about interactive tables.';\n",
              "          element.innerHTML = '';\n",
              "          dataTable['output_type'] = 'display_data';\n",
              "          await google.colab.output.renderOutput(dataTable, element);\n",
              "          const docLink = document.createElement('div');\n",
              "          docLink.innerHTML = docLinkHtml;\n",
              "          element.appendChild(docLink);\n",
              "        }\n",
              "      </script>\n",
              "    </div>\n",
              "  </div>\n",
              "  "
            ]
          },
          "metadata": {},
          "execution_count": 136
        }
      ]
    },
    {
      "cell_type": "code",
      "source": [
        "pd.options.display.max_columns = None"
      ],
      "metadata": {
        "id": "x0VNnAXwTO_G"
      },
      "execution_count": 137,
      "outputs": []
    },
    {
      "cell_type": "code",
      "source": [
        "df.head(1)"
      ],
      "metadata": {
        "colab": {
          "base_uri": "https://localhost:8080/",
          "height": 561
        },
        "id": "KoeDDIdGW5Q8",
        "outputId": "2a626b11-f734-4fc2-daa1-a9d4abcb5942"
      },
      "execution_count": 138,
      "outputs": [
        {
          "output_type": "execute_result",
          "data": {
            "text/plain": [
              "   번호 개방서비스명    개방서비스아이디  개방자치단체코드                    관리번호       인허가일자  \\\n",
              "0   1    숙박업  03_11_03_P   3620000  3620000-201-2005-00005  2005-08-18   \n",
              "\n",
              "   인허가취소일자  영업상태구분코드  영업상태명  상세영업상태코드 상세영업상태명 폐업일자  휴업시작일자  휴업종료일자  재개업일자  \\\n",
              "0      NaN         1  영업/정상         1      영업  NaN     NaN     NaN    NaN   \n",
              "\n",
              "          소재지전화   소재지면적  소재지우편번호              소재지전체주소  \\\n",
              "0  050350519280  764.53  500-827  광주광역시 북구 신안동 120-13   \n",
              "\n",
              "                     도로명전체주소  도로명우편번호 사업장명               최종수정시점 데이터갱신구분  \\\n",
              "0  광주광역시 북구 중흥로91번길 12 (신안동)  61250.0   야자  2020-12-23 13:53:29       U   \n",
              "\n",
              "               데이터갱신일자 업태구분명      좌표정보(x)        좌표정보(y) 위생업태명  건물지상층수  \\\n",
              "0  2020-12-25 02:40:00   여관업  191244.9673  185003.119744   여관업     5.0   \n",
              "\n",
              "   건물지하층수  사용시작지상층  사용끝지상층  사용시작지하층  사용끝지하층  한실수   양실수 조건부허가신고사유  조건부허가시작일자  \\\n",
              "0     1.0      1.0     5.0      0.0     0.0  8.0  24.0       NaN        NaN   \n",
              "\n",
              "   조건부허가종료일자 건물소유구분명  여성종사자수  남성종사자수 다중이용업소여부  Unnamed: 44  \n",
              "0        NaN      임대     NaN     NaN        N          NaN  "
            ],
            "text/html": [
              "\n",
              "  <div id=\"df-397c2292-4bfb-47b3-822d-8e35a0606b3f\">\n",
              "    <div class=\"colab-df-container\">\n",
              "      <div>\n",
              "<style scoped>\n",
              "    .dataframe tbody tr th:only-of-type {\n",
              "        vertical-align: middle;\n",
              "    }\n",
              "\n",
              "    .dataframe tbody tr th {\n",
              "        vertical-align: top;\n",
              "    }\n",
              "\n",
              "    .dataframe thead th {\n",
              "        text-align: right;\n",
              "    }\n",
              "</style>\n",
              "<table border=\"1\" class=\"dataframe\">\n",
              "  <thead>\n",
              "    <tr style=\"text-align: right;\">\n",
              "      <th></th>\n",
              "      <th>번호</th>\n",
              "      <th>개방서비스명</th>\n",
              "      <th>개방서비스아이디</th>\n",
              "      <th>개방자치단체코드</th>\n",
              "      <th>관리번호</th>\n",
              "      <th>인허가일자</th>\n",
              "      <th>인허가취소일자</th>\n",
              "      <th>영업상태구분코드</th>\n",
              "      <th>영업상태명</th>\n",
              "      <th>상세영업상태코드</th>\n",
              "      <th>상세영업상태명</th>\n",
              "      <th>폐업일자</th>\n",
              "      <th>휴업시작일자</th>\n",
              "      <th>휴업종료일자</th>\n",
              "      <th>재개업일자</th>\n",
              "      <th>소재지전화</th>\n",
              "      <th>소재지면적</th>\n",
              "      <th>소재지우편번호</th>\n",
              "      <th>소재지전체주소</th>\n",
              "      <th>도로명전체주소</th>\n",
              "      <th>도로명우편번호</th>\n",
              "      <th>사업장명</th>\n",
              "      <th>최종수정시점</th>\n",
              "      <th>데이터갱신구분</th>\n",
              "      <th>데이터갱신일자</th>\n",
              "      <th>업태구분명</th>\n",
              "      <th>좌표정보(x)</th>\n",
              "      <th>좌표정보(y)</th>\n",
              "      <th>위생업태명</th>\n",
              "      <th>건물지상층수</th>\n",
              "      <th>건물지하층수</th>\n",
              "      <th>사용시작지상층</th>\n",
              "      <th>사용끝지상층</th>\n",
              "      <th>사용시작지하층</th>\n",
              "      <th>사용끝지하층</th>\n",
              "      <th>한실수</th>\n",
              "      <th>양실수</th>\n",
              "      <th>조건부허가신고사유</th>\n",
              "      <th>조건부허가시작일자</th>\n",
              "      <th>조건부허가종료일자</th>\n",
              "      <th>건물소유구분명</th>\n",
              "      <th>여성종사자수</th>\n",
              "      <th>남성종사자수</th>\n",
              "      <th>다중이용업소여부</th>\n",
              "      <th>Unnamed: 44</th>\n",
              "    </tr>\n",
              "  </thead>\n",
              "  <tbody>\n",
              "    <tr>\n",
              "      <th>0</th>\n",
              "      <td>1</td>\n",
              "      <td>숙박업</td>\n",
              "      <td>03_11_03_P</td>\n",
              "      <td>3620000</td>\n",
              "      <td>3620000-201-2005-00005</td>\n",
              "      <td>2005-08-18</td>\n",
              "      <td>NaN</td>\n",
              "      <td>1</td>\n",
              "      <td>영업/정상</td>\n",
              "      <td>1</td>\n",
              "      <td>영업</td>\n",
              "      <td>NaN</td>\n",
              "      <td>NaN</td>\n",
              "      <td>NaN</td>\n",
              "      <td>NaN</td>\n",
              "      <td>050350519280</td>\n",
              "      <td>764.53</td>\n",
              "      <td>500-827</td>\n",
              "      <td>광주광역시 북구 신안동 120-13</td>\n",
              "      <td>광주광역시 북구 중흥로91번길 12 (신안동)</td>\n",
              "      <td>61250.0</td>\n",
              "      <td>야자</td>\n",
              "      <td>2020-12-23 13:53:29</td>\n",
              "      <td>U</td>\n",
              "      <td>2020-12-25 02:40:00</td>\n",
              "      <td>여관업</td>\n",
              "      <td>191244.9673</td>\n",
              "      <td>185003.119744</td>\n",
              "      <td>여관업</td>\n",
              "      <td>5.0</td>\n",
              "      <td>1.0</td>\n",
              "      <td>1.0</td>\n",
              "      <td>5.0</td>\n",
              "      <td>0.0</td>\n",
              "      <td>0.0</td>\n",
              "      <td>8.0</td>\n",
              "      <td>24.0</td>\n",
              "      <td>NaN</td>\n",
              "      <td>NaN</td>\n",
              "      <td>NaN</td>\n",
              "      <td>임대</td>\n",
              "      <td>NaN</td>\n",
              "      <td>NaN</td>\n",
              "      <td>N</td>\n",
              "      <td>NaN</td>\n",
              "    </tr>\n",
              "  </tbody>\n",
              "</table>\n",
              "</div>\n",
              "      <button class=\"colab-df-convert\" onclick=\"convertToInteractive('df-397c2292-4bfb-47b3-822d-8e35a0606b3f')\"\n",
              "              title=\"Convert this dataframe to an interactive table.\"\n",
              "              style=\"display:none;\">\n",
              "        \n",
              "  <svg xmlns=\"http://www.w3.org/2000/svg\" height=\"24px\"viewBox=\"0 0 24 24\"\n",
              "       width=\"24px\">\n",
              "    <path d=\"M0 0h24v24H0V0z\" fill=\"none\"/>\n",
              "    <path d=\"M18.56 5.44l.94 2.06.94-2.06 2.06-.94-2.06-.94-.94-2.06-.94 2.06-2.06.94zm-11 1L8.5 8.5l.94-2.06 2.06-.94-2.06-.94L8.5 2.5l-.94 2.06-2.06.94zm10 10l.94 2.06.94-2.06 2.06-.94-2.06-.94-.94-2.06-.94 2.06-2.06.94z\"/><path d=\"M17.41 7.96l-1.37-1.37c-.4-.4-.92-.59-1.43-.59-.52 0-1.04.2-1.43.59L10.3 9.45l-7.72 7.72c-.78.78-.78 2.05 0 2.83L4 21.41c.39.39.9.59 1.41.59.51 0 1.02-.2 1.41-.59l7.78-7.78 2.81-2.81c.8-.78.8-2.07 0-2.86zM5.41 20L4 18.59l7.72-7.72 1.47 1.35L5.41 20z\"/>\n",
              "  </svg>\n",
              "      </button>\n",
              "      \n",
              "  <style>\n",
              "    .colab-df-container {\n",
              "      display:flex;\n",
              "      flex-wrap:wrap;\n",
              "      gap: 12px;\n",
              "    }\n",
              "\n",
              "    .colab-df-convert {\n",
              "      background-color: #E8F0FE;\n",
              "      border: none;\n",
              "      border-radius: 50%;\n",
              "      cursor: pointer;\n",
              "      display: none;\n",
              "      fill: #1967D2;\n",
              "      height: 32px;\n",
              "      padding: 0 0 0 0;\n",
              "      width: 32px;\n",
              "    }\n",
              "\n",
              "    .colab-df-convert:hover {\n",
              "      background-color: #E2EBFA;\n",
              "      box-shadow: 0px 1px 2px rgba(60, 64, 67, 0.3), 0px 1px 3px 1px rgba(60, 64, 67, 0.15);\n",
              "      fill: #174EA6;\n",
              "    }\n",
              "\n",
              "    [theme=dark] .colab-df-convert {\n",
              "      background-color: #3B4455;\n",
              "      fill: #D2E3FC;\n",
              "    }\n",
              "\n",
              "    [theme=dark] .colab-df-convert:hover {\n",
              "      background-color: #434B5C;\n",
              "      box-shadow: 0px 1px 3px 1px rgba(0, 0, 0, 0.15);\n",
              "      filter: drop-shadow(0px 1px 2px rgba(0, 0, 0, 0.3));\n",
              "      fill: #FFFFFF;\n",
              "    }\n",
              "  </style>\n",
              "\n",
              "      <script>\n",
              "        const buttonEl =\n",
              "          document.querySelector('#df-397c2292-4bfb-47b3-822d-8e35a0606b3f button.colab-df-convert');\n",
              "        buttonEl.style.display =\n",
              "          google.colab.kernel.accessAllowed ? 'block' : 'none';\n",
              "\n",
              "        async function convertToInteractive(key) {\n",
              "          const element = document.querySelector('#df-397c2292-4bfb-47b3-822d-8e35a0606b3f');\n",
              "          const dataTable =\n",
              "            await google.colab.kernel.invokeFunction('convertToInteractive',\n",
              "                                                     [key], {});\n",
              "          if (!dataTable) return;\n",
              "\n",
              "          const docLinkHtml = 'Like what you see? Visit the ' +\n",
              "            '<a target=\"_blank\" href=https://colab.research.google.com/notebooks/data_table.ipynb>data table notebook</a>'\n",
              "            + ' to learn more about interactive tables.';\n",
              "          element.innerHTML = '';\n",
              "          dataTable['output_type'] = 'display_data';\n",
              "          await google.colab.output.renderOutput(dataTable, element);\n",
              "          const docLink = document.createElement('div');\n",
              "          docLink.innerHTML = docLinkHtml;\n",
              "          element.appendChild(docLink);\n",
              "        }\n",
              "      </script>\n",
              "    </div>\n",
              "  </div>\n",
              "  "
            ]
          },
          "metadata": {},
          "execution_count": 138
        }
      ]
    },
    {
      "cell_type": "code",
      "source": [
        "new_df = df.loc[:, ['개방서비스명','영업상태명','상세영업상태명','소재지전체주소','도로명전체주소','최종수정시점','데이터갱신일자' ] ]"
      ],
      "metadata": {
        "id": "L0aAqfR1W7Br"
      },
      "execution_count": 139,
      "outputs": []
    },
    {
      "cell_type": "code",
      "source": [
        "new_df.to_csv('./hotels.csv' ,encoding='utf-8',index=False)"
      ],
      "metadata": {
        "id": "HgVJpZ4Ebyff"
      },
      "execution_count": 140,
      "outputs": []
    },
    {
      "cell_type": "code",
      "source": [
        "hotels = pd.read_csv('./hotels.csv')\n",
        "hotels.head()"
      ],
      "metadata": {
        "colab": {
          "base_uri": "https://localhost:8080/",
          "height": 354
        },
        "id": "I017nB2JccQn",
        "outputId": "a062f0cd-6f18-469c-b09f-2c44b815b23d"
      },
      "execution_count": 141,
      "outputs": [
        {
          "output_type": "execute_result",
          "data": {
            "text/plain": [
              "  개방서비스명  영업상태명 상세영업상태명                    소재지전체주소  \\\n",
              "0    숙박업  영업/정상      영업        광주광역시 북구 신안동 120-13   \n",
              "1    숙박업  영업/정상      영업        광주광역시 북구 오룡동 1114-6   \n",
              "2    숙박업  영업/정상      영업  광주광역시 북구 임동 187-1번지 4, 5층   \n",
              "3    숙박업  영업/정상      영업      광주광역시 북구 용봉동 1366-5번지   \n",
              "4    숙박업  영업/정상      영업         광주광역시 북구 중흥동 711-8   \n",
              "\n",
              "                       도로명전체주소               최종수정시점              데이터갱신일자  \n",
              "0    광주광역시 북구 중흥로91번길 12 (신안동)  2020-12-23 13:53:29  2020-12-25 02:40:00  \n",
              "1        광주광역시 북구 앰코로 30 (오룡동)  2022-11-18 11:06:39  2022-11-20 02:40:00  \n",
              "2  광주광역시 북구 신임로 2-1 (임동, 4,5층)  2018-02-21 16:39:04  2018-08-31 23:59:59  \n",
              "3   광주광역시 북구 저불로70번길 6-6 (용봉동)  2018-02-21 16:09:17  2018-08-31 23:59:59  \n",
              "4    광주광역시 북구 경양로165번길 8 (중흥동)  2021-07-14 13:13:45  2021-07-16 02:40:00  "
            ],
            "text/html": [
              "\n",
              "  <div id=\"df-9043f5d5-63fd-45e1-9542-d280a303ebf8\">\n",
              "    <div class=\"colab-df-container\">\n",
              "      <div>\n",
              "<style scoped>\n",
              "    .dataframe tbody tr th:only-of-type {\n",
              "        vertical-align: middle;\n",
              "    }\n",
              "\n",
              "    .dataframe tbody tr th {\n",
              "        vertical-align: top;\n",
              "    }\n",
              "\n",
              "    .dataframe thead th {\n",
              "        text-align: right;\n",
              "    }\n",
              "</style>\n",
              "<table border=\"1\" class=\"dataframe\">\n",
              "  <thead>\n",
              "    <tr style=\"text-align: right;\">\n",
              "      <th></th>\n",
              "      <th>개방서비스명</th>\n",
              "      <th>영업상태명</th>\n",
              "      <th>상세영업상태명</th>\n",
              "      <th>소재지전체주소</th>\n",
              "      <th>도로명전체주소</th>\n",
              "      <th>최종수정시점</th>\n",
              "      <th>데이터갱신일자</th>\n",
              "    </tr>\n",
              "  </thead>\n",
              "  <tbody>\n",
              "    <tr>\n",
              "      <th>0</th>\n",
              "      <td>숙박업</td>\n",
              "      <td>영업/정상</td>\n",
              "      <td>영업</td>\n",
              "      <td>광주광역시 북구 신안동 120-13</td>\n",
              "      <td>광주광역시 북구 중흥로91번길 12 (신안동)</td>\n",
              "      <td>2020-12-23 13:53:29</td>\n",
              "      <td>2020-12-25 02:40:00</td>\n",
              "    </tr>\n",
              "    <tr>\n",
              "      <th>1</th>\n",
              "      <td>숙박업</td>\n",
              "      <td>영업/정상</td>\n",
              "      <td>영업</td>\n",
              "      <td>광주광역시 북구 오룡동 1114-6</td>\n",
              "      <td>광주광역시 북구 앰코로 30 (오룡동)</td>\n",
              "      <td>2022-11-18 11:06:39</td>\n",
              "      <td>2022-11-20 02:40:00</td>\n",
              "    </tr>\n",
              "    <tr>\n",
              "      <th>2</th>\n",
              "      <td>숙박업</td>\n",
              "      <td>영업/정상</td>\n",
              "      <td>영업</td>\n",
              "      <td>광주광역시 북구 임동 187-1번지 4, 5층</td>\n",
              "      <td>광주광역시 북구 신임로 2-1 (임동, 4,5층)</td>\n",
              "      <td>2018-02-21 16:39:04</td>\n",
              "      <td>2018-08-31 23:59:59</td>\n",
              "    </tr>\n",
              "    <tr>\n",
              "      <th>3</th>\n",
              "      <td>숙박업</td>\n",
              "      <td>영업/정상</td>\n",
              "      <td>영업</td>\n",
              "      <td>광주광역시 북구 용봉동 1366-5번지</td>\n",
              "      <td>광주광역시 북구 저불로70번길 6-6 (용봉동)</td>\n",
              "      <td>2018-02-21 16:09:17</td>\n",
              "      <td>2018-08-31 23:59:59</td>\n",
              "    </tr>\n",
              "    <tr>\n",
              "      <th>4</th>\n",
              "      <td>숙박업</td>\n",
              "      <td>영업/정상</td>\n",
              "      <td>영업</td>\n",
              "      <td>광주광역시 북구 중흥동 711-8</td>\n",
              "      <td>광주광역시 북구 경양로165번길 8 (중흥동)</td>\n",
              "      <td>2021-07-14 13:13:45</td>\n",
              "      <td>2021-07-16 02:40:00</td>\n",
              "    </tr>\n",
              "  </tbody>\n",
              "</table>\n",
              "</div>\n",
              "      <button class=\"colab-df-convert\" onclick=\"convertToInteractive('df-9043f5d5-63fd-45e1-9542-d280a303ebf8')\"\n",
              "              title=\"Convert this dataframe to an interactive table.\"\n",
              "              style=\"display:none;\">\n",
              "        \n",
              "  <svg xmlns=\"http://www.w3.org/2000/svg\" height=\"24px\"viewBox=\"0 0 24 24\"\n",
              "       width=\"24px\">\n",
              "    <path d=\"M0 0h24v24H0V0z\" fill=\"none\"/>\n",
              "    <path d=\"M18.56 5.44l.94 2.06.94-2.06 2.06-.94-2.06-.94-.94-2.06-.94 2.06-2.06.94zm-11 1L8.5 8.5l.94-2.06 2.06-.94-2.06-.94L8.5 2.5l-.94 2.06-2.06.94zm10 10l.94 2.06.94-2.06 2.06-.94-2.06-.94-.94-2.06-.94 2.06-2.06.94z\"/><path d=\"M17.41 7.96l-1.37-1.37c-.4-.4-.92-.59-1.43-.59-.52 0-1.04.2-1.43.59L10.3 9.45l-7.72 7.72c-.78.78-.78 2.05 0 2.83L4 21.41c.39.39.9.59 1.41.59.51 0 1.02-.2 1.41-.59l7.78-7.78 2.81-2.81c.8-.78.8-2.07 0-2.86zM5.41 20L4 18.59l7.72-7.72 1.47 1.35L5.41 20z\"/>\n",
              "  </svg>\n",
              "      </button>\n",
              "      \n",
              "  <style>\n",
              "    .colab-df-container {\n",
              "      display:flex;\n",
              "      flex-wrap:wrap;\n",
              "      gap: 12px;\n",
              "    }\n",
              "\n",
              "    .colab-df-convert {\n",
              "      background-color: #E8F0FE;\n",
              "      border: none;\n",
              "      border-radius: 50%;\n",
              "      cursor: pointer;\n",
              "      display: none;\n",
              "      fill: #1967D2;\n",
              "      height: 32px;\n",
              "      padding: 0 0 0 0;\n",
              "      width: 32px;\n",
              "    }\n",
              "\n",
              "    .colab-df-convert:hover {\n",
              "      background-color: #E2EBFA;\n",
              "      box-shadow: 0px 1px 2px rgba(60, 64, 67, 0.3), 0px 1px 3px 1px rgba(60, 64, 67, 0.15);\n",
              "      fill: #174EA6;\n",
              "    }\n",
              "\n",
              "    [theme=dark] .colab-df-convert {\n",
              "      background-color: #3B4455;\n",
              "      fill: #D2E3FC;\n",
              "    }\n",
              "\n",
              "    [theme=dark] .colab-df-convert:hover {\n",
              "      background-color: #434B5C;\n",
              "      box-shadow: 0px 1px 3px 1px rgba(0, 0, 0, 0.15);\n",
              "      filter: drop-shadow(0px 1px 2px rgba(0, 0, 0, 0.3));\n",
              "      fill: #FFFFFF;\n",
              "    }\n",
              "  </style>\n",
              "\n",
              "      <script>\n",
              "        const buttonEl =\n",
              "          document.querySelector('#df-9043f5d5-63fd-45e1-9542-d280a303ebf8 button.colab-df-convert');\n",
              "        buttonEl.style.display =\n",
              "          google.colab.kernel.accessAllowed ? 'block' : 'none';\n",
              "\n",
              "        async function convertToInteractive(key) {\n",
              "          const element = document.querySelector('#df-9043f5d5-63fd-45e1-9542-d280a303ebf8');\n",
              "          const dataTable =\n",
              "            await google.colab.kernel.invokeFunction('convertToInteractive',\n",
              "                                                     [key], {});\n",
              "          if (!dataTable) return;\n",
              "\n",
              "          const docLinkHtml = 'Like what you see? Visit the ' +\n",
              "            '<a target=\"_blank\" href=https://colab.research.google.com/notebooks/data_table.ipynb>data table notebook</a>'\n",
              "            + ' to learn more about interactive tables.';\n",
              "          element.innerHTML = '';\n",
              "          dataTable['output_type'] = 'display_data';\n",
              "          await google.colab.output.renderOutput(dataTable, element);\n",
              "          const docLink = document.createElement('div');\n",
              "          docLink.innerHTML = docLinkHtml;\n",
              "          element.appendChild(docLink);\n",
              "        }\n",
              "      </script>\n",
              "    </div>\n",
              "  </div>\n",
              "  "
            ]
          },
          "metadata": {},
          "execution_count": 141
        }
      ]
    },
    {
      "cell_type": "code",
      "source": [
        "from collections import Counter\n",
        "Counter( hotels['상세영업상태명'].values)"
      ],
      "metadata": {
        "colab": {
          "base_uri": "https://localhost:8080/"
        },
        "id": "EIB0ESAfcm68",
        "outputId": "a2d32cb4-df34-44d5-8703-320df5676849"
      },
      "execution_count": 142,
      "outputs": [
        {
          "output_type": "execute_result",
          "data": {
            "text/plain": [
              "Counter({'영업': 29711, '폐업': 25346})"
            ]
          },
          "metadata": {},
          "execution_count": 142
        }
      ]
    },
    {
      "cell_type": "code",
      "source": [
        "hotels['개방서비스명'].value_counts()"
      ],
      "metadata": {
        "colab": {
          "base_uri": "https://localhost:8080/"
        },
        "id": "vQI-EGtedQLl",
        "outputId": "da21092f-b2b8-4258-9e05-5fe02d8b9efc"
      },
      "execution_count": 143,
      "outputs": [
        {
          "output_type": "execute_result",
          "data": {
            "text/plain": [
              "숙박업    55057\n",
              "Name: 개방서비스명, dtype: int64"
            ]
          },
          "metadata": {},
          "execution_count": 143
        }
      ]
    },
    {
      "cell_type": "code",
      "source": [
        "# 없는 데이터는 제거\n",
        "hotels = hotels.dropna()\n",
        "hotels.info()"
      ],
      "metadata": {
        "colab": {
          "base_uri": "https://localhost:8080/"
        },
        "id": "0BMp-gCog_cc",
        "outputId": "fcf2f7b1-cb6e-42c4-ac84-7bdf5dbb9ef9"
      },
      "execution_count": 144,
      "outputs": [
        {
          "output_type": "stream",
          "name": "stdout",
          "text": [
            "<class 'pandas.core.frame.DataFrame'>\n",
            "Int64Index: 39669 entries, 0 to 55056\n",
            "Data columns (total 7 columns):\n",
            " #   Column   Non-Null Count  Dtype \n",
            "---  ------   --------------  ----- \n",
            " 0   개방서비스명   39669 non-null  object\n",
            " 1   영업상태명    39669 non-null  object\n",
            " 2   상세영업상태명  39669 non-null  object\n",
            " 3   소재지전체주소  39669 non-null  object\n",
            " 4   도로명전체주소  39669 non-null  object\n",
            " 5   최종수정시점   39669 non-null  object\n",
            " 6   데이터갱신일자  39669 non-null  object\n",
            "dtypes: object(7)\n",
            "memory usage: 2.4+ MB\n"
          ]
        }
      ]
    },
    {
      "cell_type": "code",
      "source": [
        "# 시군구별 영업 ?, 폐업?\n",
        "# 년 월 기준으로 데이터를 ..... "
      ],
      "metadata": {
        "id": "DPgSfHm-iCn8"
      },
      "execution_count": 145,
      "outputs": []
    },
    {
      "cell_type": "code",
      "source": [
        "hotels['광역시'] = None\n",
        "hotels['시군구'] = None\n",
        "hotels['동읍면'] = None\n",
        "hotels['년도'] = None\n",
        "hotels['월'] = None"
      ],
      "metadata": {
        "id": "PVP_FZDvid3s"
      },
      "execution_count": 146,
      "outputs": []
    },
    {
      "cell_type": "code",
      "source": [
        "hotels.info()"
      ],
      "metadata": {
        "colab": {
          "base_uri": "https://localhost:8080/"
        },
        "id": "7mHfrkSAi_pl",
        "outputId": "1471ee23-a8d2-465f-bcf9-7ca12256fbcc"
      },
      "execution_count": 147,
      "outputs": [
        {
          "output_type": "stream",
          "name": "stdout",
          "text": [
            "<class 'pandas.core.frame.DataFrame'>\n",
            "Int64Index: 39669 entries, 0 to 55056\n",
            "Data columns (total 12 columns):\n",
            " #   Column   Non-Null Count  Dtype \n",
            "---  ------   --------------  ----- \n",
            " 0   개방서비스명   39669 non-null  object\n",
            " 1   영업상태명    39669 non-null  object\n",
            " 2   상세영업상태명  39669 non-null  object\n",
            " 3   소재지전체주소  39669 non-null  object\n",
            " 4   도로명전체주소  39669 non-null  object\n",
            " 5   최종수정시점   39669 non-null  object\n",
            " 6   데이터갱신일자  39669 non-null  object\n",
            " 7   광역시      0 non-null      object\n",
            " 8   시군구      0 non-null      object\n",
            " 9   동읍면      0 non-null      object\n",
            " 10  년도       0 non-null      object\n",
            " 11  월        0 non-null      object\n",
            "dtypes: object(12)\n",
            "memory usage: 3.9+ MB\n"
          ]
        }
      ]
    },
    {
      "cell_type": "code",
      "source": [
        "hotels['소재지전체주소'].values[0].split()[0]"
      ],
      "metadata": {
        "colab": {
          "base_uri": "https://localhost:8080/",
          "height": 35
        },
        "id": "GiXf-6q1jBZ9",
        "outputId": "22fe4fd1-7911-4743-d5e6-19ce2d25df26"
      },
      "execution_count": 148,
      "outputs": [
        {
          "output_type": "execute_result",
          "data": {
            "text/plain": [
              "'광주광역시'"
            ],
            "application/vnd.google.colaboratory.intrinsic+json": {
              "type": "string"
            }
          },
          "metadata": {},
          "execution_count": 148
        }
      ]
    },
    {
      "cell_type": "code",
      "source": [
        "temp = [ i.split()[0] for i in hotels['소재지전체주소'].values]\n",
        "temp[:5]"
      ],
      "metadata": {
        "colab": {
          "base_uri": "https://localhost:8080/"
        },
        "id": "NMJIjSFbx-SP",
        "outputId": "1b8f4c00-ba3c-4474-c701-6f9746216b86"
      },
      "execution_count": 149,
      "outputs": [
        {
          "output_type": "execute_result",
          "data": {
            "text/plain": [
              "['광주광역시', '광주광역시', '광주광역시', '광주광역시', '광주광역시']"
            ]
          },
          "metadata": {},
          "execution_count": 149
        }
      ]
    },
    {
      "cell_type": "code",
      "source": [
        "Counter(temp)"
      ],
      "metadata": {
        "colab": {
          "base_uri": "https://localhost:8080/"
        },
        "id": "OKwMVkwJyYTm",
        "outputId": "a51870a7-8fee-4c76-8e3f-56433512d107"
      },
      "execution_count": 150,
      "outputs": [
        {
          "output_type": "execute_result",
          "data": {
            "text/plain": [
              "Counter({'광주광역시': 1026,\n",
              "         '대구광역시': 1157,\n",
              "         '경상북도': 3183,\n",
              "         '강원도': 3479,\n",
              "         '충청남도': 2865,\n",
              "         '충청북도': 1366,\n",
              "         '제주특별자치도': 1709,\n",
              "         '서울특별시': 3972,\n",
              "         '경기도': 5927,\n",
              "         '인천광역시': 1839,\n",
              "         '전라남도': 2709,\n",
              "         '전라북도': 1857,\n",
              "         '울산광역시': 901,\n",
              "         '경상남도': 3596,\n",
              "         '부산광역시': 2991,\n",
              "         '대전광역시': 996,\n",
              "         '세종특별자치시': 96})"
            ]
          },
          "metadata": {},
          "execution_count": 150
        }
      ]
    },
    {
      "cell_type": "code",
      "source": [
        "temp = [ i.split()[0] for i in hotels['소재지전체주소'].values]\n",
        "hotels['광역시'] = temp"
      ],
      "metadata": {
        "id": "PR3fZVPXylGW"
      },
      "execution_count": 154,
      "outputs": []
    },
    {
      "cell_type": "code",
      "source": [
        "hotels.head(2)"
      ],
      "metadata": {
        "colab": {
          "base_uri": "https://localhost:8080/",
          "height": 260
        },
        "id": "dppc45CTyuzu",
        "outputId": "35b93160-1724-4120-ef63-333f0b0a5761"
      },
      "execution_count": 155,
      "outputs": [
        {
          "output_type": "execute_result",
          "data": {
            "text/plain": [
              "  개방서비스명  영업상태명 상세영업상태명              소재지전체주소                    도로명전체주소  \\\n",
              "0    숙박업  영업/정상      영업  광주광역시 북구 신안동 120-13  광주광역시 북구 중흥로91번길 12 (신안동)   \n",
              "1    숙박업  영업/정상      영업  광주광역시 북구 오룡동 1114-6      광주광역시 북구 앰코로 30 (오룡동)   \n",
              "\n",
              "                최종수정시점              데이터갱신일자    광역시   시군구   동읍면    년도     월  \\\n",
              "0  2020-12-23 13:53:29  2020-12-25 02:40:00  광주광역시  None  None  None  None   \n",
              "1  2022-11-18 11:06:39  2022-11-20 02:40:00  광주광역시  None  None  None  None   \n",
              "\n",
              "       시  \n",
              "0  광주광역시  \n",
              "1  광주광역시  "
            ],
            "text/html": [
              "\n",
              "  <div id=\"df-4ad40472-0ae8-412c-835d-04e9f83c802a\">\n",
              "    <div class=\"colab-df-container\">\n",
              "      <div>\n",
              "<style scoped>\n",
              "    .dataframe tbody tr th:only-of-type {\n",
              "        vertical-align: middle;\n",
              "    }\n",
              "\n",
              "    .dataframe tbody tr th {\n",
              "        vertical-align: top;\n",
              "    }\n",
              "\n",
              "    .dataframe thead th {\n",
              "        text-align: right;\n",
              "    }\n",
              "</style>\n",
              "<table border=\"1\" class=\"dataframe\">\n",
              "  <thead>\n",
              "    <tr style=\"text-align: right;\">\n",
              "      <th></th>\n",
              "      <th>개방서비스명</th>\n",
              "      <th>영업상태명</th>\n",
              "      <th>상세영업상태명</th>\n",
              "      <th>소재지전체주소</th>\n",
              "      <th>도로명전체주소</th>\n",
              "      <th>최종수정시점</th>\n",
              "      <th>데이터갱신일자</th>\n",
              "      <th>광역시</th>\n",
              "      <th>시군구</th>\n",
              "      <th>동읍면</th>\n",
              "      <th>년도</th>\n",
              "      <th>월</th>\n",
              "      <th>시</th>\n",
              "    </tr>\n",
              "  </thead>\n",
              "  <tbody>\n",
              "    <tr>\n",
              "      <th>0</th>\n",
              "      <td>숙박업</td>\n",
              "      <td>영업/정상</td>\n",
              "      <td>영업</td>\n",
              "      <td>광주광역시 북구 신안동 120-13</td>\n",
              "      <td>광주광역시 북구 중흥로91번길 12 (신안동)</td>\n",
              "      <td>2020-12-23 13:53:29</td>\n",
              "      <td>2020-12-25 02:40:00</td>\n",
              "      <td>광주광역시</td>\n",
              "      <td>None</td>\n",
              "      <td>None</td>\n",
              "      <td>None</td>\n",
              "      <td>None</td>\n",
              "      <td>광주광역시</td>\n",
              "    </tr>\n",
              "    <tr>\n",
              "      <th>1</th>\n",
              "      <td>숙박업</td>\n",
              "      <td>영업/정상</td>\n",
              "      <td>영업</td>\n",
              "      <td>광주광역시 북구 오룡동 1114-6</td>\n",
              "      <td>광주광역시 북구 앰코로 30 (오룡동)</td>\n",
              "      <td>2022-11-18 11:06:39</td>\n",
              "      <td>2022-11-20 02:40:00</td>\n",
              "      <td>광주광역시</td>\n",
              "      <td>None</td>\n",
              "      <td>None</td>\n",
              "      <td>None</td>\n",
              "      <td>None</td>\n",
              "      <td>광주광역시</td>\n",
              "    </tr>\n",
              "  </tbody>\n",
              "</table>\n",
              "</div>\n",
              "      <button class=\"colab-df-convert\" onclick=\"convertToInteractive('df-4ad40472-0ae8-412c-835d-04e9f83c802a')\"\n",
              "              title=\"Convert this dataframe to an interactive table.\"\n",
              "              style=\"display:none;\">\n",
              "        \n",
              "  <svg xmlns=\"http://www.w3.org/2000/svg\" height=\"24px\"viewBox=\"0 0 24 24\"\n",
              "       width=\"24px\">\n",
              "    <path d=\"M0 0h24v24H0V0z\" fill=\"none\"/>\n",
              "    <path d=\"M18.56 5.44l.94 2.06.94-2.06 2.06-.94-2.06-.94-.94-2.06-.94 2.06-2.06.94zm-11 1L8.5 8.5l.94-2.06 2.06-.94-2.06-.94L8.5 2.5l-.94 2.06-2.06.94zm10 10l.94 2.06.94-2.06 2.06-.94-2.06-.94-.94-2.06-.94 2.06-2.06.94z\"/><path d=\"M17.41 7.96l-1.37-1.37c-.4-.4-.92-.59-1.43-.59-.52 0-1.04.2-1.43.59L10.3 9.45l-7.72 7.72c-.78.78-.78 2.05 0 2.83L4 21.41c.39.39.9.59 1.41.59.51 0 1.02-.2 1.41-.59l7.78-7.78 2.81-2.81c.8-.78.8-2.07 0-2.86zM5.41 20L4 18.59l7.72-7.72 1.47 1.35L5.41 20z\"/>\n",
              "  </svg>\n",
              "      </button>\n",
              "      \n",
              "  <style>\n",
              "    .colab-df-container {\n",
              "      display:flex;\n",
              "      flex-wrap:wrap;\n",
              "      gap: 12px;\n",
              "    }\n",
              "\n",
              "    .colab-df-convert {\n",
              "      background-color: #E8F0FE;\n",
              "      border: none;\n",
              "      border-radius: 50%;\n",
              "      cursor: pointer;\n",
              "      display: none;\n",
              "      fill: #1967D2;\n",
              "      height: 32px;\n",
              "      padding: 0 0 0 0;\n",
              "      width: 32px;\n",
              "    }\n",
              "\n",
              "    .colab-df-convert:hover {\n",
              "      background-color: #E2EBFA;\n",
              "      box-shadow: 0px 1px 2px rgba(60, 64, 67, 0.3), 0px 1px 3px 1px rgba(60, 64, 67, 0.15);\n",
              "      fill: #174EA6;\n",
              "    }\n",
              "\n",
              "    [theme=dark] .colab-df-convert {\n",
              "      background-color: #3B4455;\n",
              "      fill: #D2E3FC;\n",
              "    }\n",
              "\n",
              "    [theme=dark] .colab-df-convert:hover {\n",
              "      background-color: #434B5C;\n",
              "      box-shadow: 0px 1px 3px 1px rgba(0, 0, 0, 0.15);\n",
              "      filter: drop-shadow(0px 1px 2px rgba(0, 0, 0, 0.3));\n",
              "      fill: #FFFFFF;\n",
              "    }\n",
              "  </style>\n",
              "\n",
              "      <script>\n",
              "        const buttonEl =\n",
              "          document.querySelector('#df-4ad40472-0ae8-412c-835d-04e9f83c802a button.colab-df-convert');\n",
              "        buttonEl.style.display =\n",
              "          google.colab.kernel.accessAllowed ? 'block' : 'none';\n",
              "\n",
              "        async function convertToInteractive(key) {\n",
              "          const element = document.querySelector('#df-4ad40472-0ae8-412c-835d-04e9f83c802a');\n",
              "          const dataTable =\n",
              "            await google.colab.kernel.invokeFunction('convertToInteractive',\n",
              "                                                     [key], {});\n",
              "          if (!dataTable) return;\n",
              "\n",
              "          const docLinkHtml = 'Like what you see? Visit the ' +\n",
              "            '<a target=\"_blank\" href=https://colab.research.google.com/notebooks/data_table.ipynb>data table notebook</a>'\n",
              "            + ' to learn more about interactive tables.';\n",
              "          element.innerHTML = '';\n",
              "          dataTable['output_type'] = 'display_data';\n",
              "          await google.colab.output.renderOutput(dataTable, element);\n",
              "          const docLink = document.createElement('div');\n",
              "          docLink.innerHTML = docLinkHtml;\n",
              "          element.appendChild(docLink);\n",
              "        }\n",
              "      </script>\n",
              "    </div>\n",
              "  </div>\n",
              "  "
            ]
          },
          "metadata": {},
          "execution_count": 155
        }
      ]
    },
    {
      "cell_type": "code",
      "source": [],
      "metadata": {
        "colab": {
          "base_uri": "https://localhost:8080/"
        },
        "id": "5dLVvqjcyx9f",
        "outputId": "245276db-f2f3-4540-d971-9f1e9557f975"
      },
      "execution_count": 153,
      "outputs": [
        {
          "output_type": "execute_result",
          "data": {
            "text/plain": [
              "('경상북도 김천시 덕곡동 1002-5번지', '대구광역시 달서구 이곡동 1198-6번지 외1필지')"
            ]
          },
          "metadata": {},
          "execution_count": 153
        }
      ]
    },
    {
      "cell_type": "code",
      "source": [],
      "metadata": {
        "id": "HbuZhY3r1D9P"
      },
      "execution_count": 153,
      "outputs": []
    }
  ]
}