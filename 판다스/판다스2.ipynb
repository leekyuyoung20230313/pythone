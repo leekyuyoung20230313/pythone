{
  "nbformat": 4,
  "nbformat_minor": 0,
  "metadata": {
    "colab": {
      "provenance": []
    },
    "kernelspec": {
      "name": "python3",
      "display_name": "Python 3"
    },
    "language_info": {
      "name": "python"
    }
  },
  "cells": [
    {
      "cell_type": "code",
      "execution_count": 11,
      "metadata": {
        "id": "2_DMvwT72GQt"
      },
      "outputs": [],
      "source": [
        "import zipfile\n",
        "zip_path = '/content/drive/MyDrive/Colab Notebooks/data/210106_2019년도 고등교육기관 졸업자 취업통계연보.zip'\n",
        "ex_path = '/content/drive/MyDrive/Colab Notebooks/data'\n",
        "\n",
        "with zipfile.ZipFile(zip_path, 'r') as f:\n",
        "  f.extractall(ex_path)"
      ]
    },
    {
      "cell_type": "code",
      "source": [
        "import glob\n",
        "file_lists = glob.glob('/content/drive/MyDrive/Colab Notebooks/data/목차별 파일_엑셀/*.xlsx')"
      ],
      "metadata": {
        "id": "0L_sxnSR4jXL"
      },
      "execution_count": 29,
      "outputs": []
    },
    {
      "cell_type": "code",
      "source": [
        "import pandas as pd\n",
        "import numpy as np"
      ],
      "metadata": {
        "id": "CcC-57uY6TMT"
      },
      "execution_count": 31,
      "outputs": []
    },
    {
      "cell_type": "code",
      "source": [
        "# 파일명 마지막에 현황 글자가 들어간 리스트만 추출\n",
        "temp = [ i.split('/')[-1].split('.')[-2] for i in file_lists]\n",
        "temp = [i.split()[-1] for i in temp]\n",
        "temp"
      ],
      "metadata": {
        "colab": {
          "base_uri": "https://localhost:8080/"
        },
        "id": "7CriP64_6_kh",
        "outputId": "158a539d-f0dc-4816-a9e0-87a6bc40c101"
      },
      "execution_count": 76,
      "outputs": [
        {
          "output_type": "execute_result",
          "data": {
            "text/plain": [
              "['취업현황',\n",
              " '진학상황',\n",
              " '현황',\n",
              " '현황',\n",
              " '취업현황',\n",
              " '현황',\n",
              " '현황',\n",
              " '졸업상황',\n",
              " '현황(일반대학원)',\n",
              " '졸업상황(일반대학원)']"
            ]
          },
          "metadata": {},
          "execution_count": 76
        }
      ]
    },
    {
      "cell_type": "code",
      "source": [
        "idx = np.where(np.array(temp) == '현황')\n",
        "idx"
      ],
      "metadata": {
        "colab": {
          "base_uri": "https://localhost:8080/"
        },
        "id": "FjHeD0um88x7",
        "outputId": "485f6102-ec80-4a70-91ae-d4155c8e1d9b"
      },
      "execution_count": 85,
      "outputs": [
        {
          "output_type": "execute_result",
          "data": {
            "text/plain": [
              "(array([ 2,  3,  5,  6, 49, 50, 51, 52, 53, 54, 61, 62, 63, 64, 65, 66, 67,\n",
              "        68, 69]),)"
            ]
          },
          "metadata": {},
          "execution_count": 85
        }
      ]
    },
    {
      "cell_type": "code",
      "source": [
        "temp = np.array(temp)\n",
        "temp[idx]"
      ],
      "metadata": {
        "colab": {
          "base_uri": "https://localhost:8080/"
        },
        "id": "bGe0mWwh9Wrz",
        "outputId": "9a8c8c79-9f5a-4088-bd44-92efbfd5d827"
      },
      "execution_count": 86,
      "outputs": [
        {
          "output_type": "execute_result",
          "data": {
            "text/plain": [
              "array(['현황', '현황', '현황', '현황', '현황', '현황',\n",
              "       '현황', '현황', '현황', '현황', '현황', '현황',\n",
              "       '현황', '현황', '현황', '현황', '현황', '현황',\n",
              "       '현황'], dtype='<U28')"
            ]
          },
          "metadata": {},
          "execution_count": 86
        }
      ]
    },
    {
      "cell_type": "code",
      "source": [
        "np.array(file_lists)[idx]"
      ],
      "metadata": {
        "colab": {
          "base_uri": "https://localhost:8080/"
        },
        "id": "ovyNuMqA_K0T",
        "outputId": "10d3751f-07c6-4b75-ab4b-0b77d842d9a1"
      },
      "execution_count": 88,
      "outputs": [
        {
          "output_type": "execute_result",
          "data": {
            "text/plain": [
              "array(['/content/drive/MyDrive/Colab Notebooks/data/목차별 파일_엑셀/부록 Ⅰ-3. 학제별 유지취업률 현황.xlsx',\n",
              "       '/content/drive/MyDrive/Colab Notebooks/data/목차별 파일_엑셀/부록 Ⅱ-1-1. 취업자 초임 급여 현황.xlsx',\n",
              "       '/content/drive/MyDrive/Colab Notebooks/data/목차별 파일_엑셀/부록 Ⅱ-1-2. 취업준비기간별 취업 현황.xlsx',\n",
              "       '/content/drive/MyDrive/Colab Notebooks/data/목차별 파일_엑셀/부록 Ⅱ-1-4. 기업규모별 취업 현황.xlsx',\n",
              "       '/content/drive/MyDrive/Colab Notebooks/data/목차별 파일_엑셀/1-3-1. 2019년 졸업자 학제별 설립별 유지취업률 현황.xlsx',\n",
              "       '/content/drive/MyDrive/Colab Notebooks/data/목차별 파일_엑셀/1-3-2. 2019년도 졸업자 계열별 유지취업률 현황.xlsx',\n",
              "       '/content/drive/MyDrive/Colab Notebooks/data/목차별 파일_엑셀/1-2-2. 2015~2019 졸업자 계열별 취업률 현황.xlsx',\n",
              "       '/content/drive/MyDrive/Colab Notebooks/data/목차별 파일_엑셀/1-3-3. 2019년도 졸업자 학교소재지별 유지취업률 현황.xlsx',\n",
              "       '/content/drive/MyDrive/Colab Notebooks/data/목차별 파일_엑셀/1-2-3. 2015~2019 졸업자 학교 소재지별 취업률 현황.xlsx',\n",
              "       '/content/drive/MyDrive/Colab Notebooks/data/목차별 파일_엑셀/1-2-1. 2015~2019 학제별 설립별 취업률 현황.xlsx',\n",
              "       '/content/drive/MyDrive/Colab Notebooks/data/목차별 파일_엑셀/부록 Ⅱ-2-1. 산업분류별 유지취업률 현황.xlsx',\n",
              "       '/content/drive/MyDrive/Colab Notebooks/data/목차별 파일_엑셀/부록 Ⅱ-2-2. 기업규모별 유지취업률 현황.xlsx',\n",
              "       '/content/drive/MyDrive/Colab Notebooks/data/목차별 파일_엑셀/부록 Ⅱ-3. 지역별 진학 현황.xlsx',\n",
              "       '/content/drive/MyDrive/Colab Notebooks/data/목차별 파일_엑셀/부록 Ⅲ-1-1. 졸업자 1인당 자격증 취득 현황.xlsx',\n",
              "       '/content/drive/MyDrive/Colab Notebooks/data/목차별 파일_엑셀/부록 Ⅲ-1-3. 졸업자 국가기술자격 직무별 자격증 취득 현황.xlsx',\n",
              "       '/content/drive/MyDrive/Colab Notebooks/data/목차별 파일_엑셀/부록 Ⅲ-2-1. 취업자 1인당 자격증 취득 현황.xlsx',\n",
              "       '/content/drive/MyDrive/Colab Notebooks/data/목차별 파일_엑셀/부록 Ⅲ-2-2. 취업자 국가기술자격 등급별 자격증 취득 현황.xlsx',\n",
              "       '/content/drive/MyDrive/Colab Notebooks/data/목차별 파일_엑셀/부록 Ⅲ-2-3. 취업자 국가가술자격 직무별 자격증 취득 현황.xlsx',\n",
              "       '/content/drive/MyDrive/Colab Notebooks/data/목차별 파일_엑셀/부록 Ⅲ-1-2. 졸업자 국가기술자격증 등급별 취득 현황.xlsx'],\n",
              "      dtype='<U139')"
            ]
          },
          "metadata": {},
          "execution_count": 88
        }
      ]
    },
    {
      "cell_type": "code",
      "source": [],
      "metadata": {
        "id": "iEzotHDm_kC8"
      },
      "execution_count": null,
      "outputs": []
    }
  ]
}