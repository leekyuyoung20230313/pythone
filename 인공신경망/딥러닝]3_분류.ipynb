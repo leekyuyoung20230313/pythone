{
  "nbformat": 4,
  "nbformat_minor": 0,
  "metadata": {
    "colab": {
      "provenance": [],
      "gpuType": "T4"
    },
    "kernelspec": {
      "name": "python3",
      "display_name": "Python 3"
    },
    "language_info": {
      "name": "python"
    },
    "accelerator": "GPU"
  },
  "cells": [
    {
      "cell_type": "markdown",
      "source": [
        "머신러닝에 사용되었던 iris 데이터를 가지고 분류 모델을 평가\n",
        "  - 인공신경망(딥러닝)"
      ],
      "metadata": {
        "id": "pLGHsqPdxdgU"
      }
    },
    {
      "cell_type": "code",
      "source": [
        "import tensorflow as  tf\n",
        "from sklearn.datasets import load_iris"
      ],
      "metadata": {
        "id": "9OiIYxtQxjYt"
      },
      "execution_count": 1,
      "outputs": []
    },
    {
      "cell_type": "code",
      "source": [
        "load_iris().keys()"
      ],
      "metadata": {
        "colab": {
          "base_uri": "https://localhost:8080/"
        },
        "id": "zFsXcQwmxspa",
        "outputId": "eef7add6-1433-4f62-e1cc-4a28937df8c7"
      },
      "execution_count": 2,
      "outputs": [
        {
          "output_type": "execute_result",
          "data": {
            "text/plain": [
              "dict_keys(['data', 'target', 'frame', 'target_names', 'DESCR', 'feature_names', 'filename', 'data_module'])"
            ]
          },
          "metadata": {},
          "execution_count": 2
        }
      ]
    },
    {
      "cell_type": "code",
      "source": [
        "target = load_iris()['target']\n",
        "data = load_iris()['data']"
      ],
      "metadata": {
        "id": "8a_rCkpExu8y"
      },
      "execution_count": 3,
      "outputs": []
    },
    {
      "cell_type": "markdown",
      "source": [
        "- 모델 설계\n",
        "- 학습데이터와 검증데이터로 손실율과 정확률 시각화\n",
        "- 적절한 에포크수 찾고\n",
        "- 모델 저장\n",
        "- 불러오고\n",
        "- 만약 과적합이 발견되면 규제방법중에 Dropout도 추가\n",
        "- 콜백도 사용해서 최적의 모델을 찾아서 저장"
      ],
      "metadata": {
        "id": "WWtArnfZyB4b"
      }
    },
    {
      "cell_type": "code",
      "source": [
        "from sklearn.model_selection import train_test_split\n",
        "x_train,x_test,y_train,y_test = train_test_split(data,target)"
      ],
      "metadata": {
        "id": "Q7gjwqJhx1eJ"
      },
      "execution_count": 4,
      "outputs": []
    },
    {
      "cell_type": "code",
      "source": [
        "x_train.shape, y_train.shape"
      ],
      "metadata": {
        "colab": {
          "base_uri": "https://localhost:8080/"
        },
        "id": "nDReIW1NDvVW",
        "outputId": "83f12941-18f3-4c4d-e172-3eb1f4d868cf"
      },
      "execution_count": 5,
      "outputs": [
        {
          "output_type": "execute_result",
          "data": {
            "text/plain": [
              "((112, 4), (112,))"
            ]
          },
          "metadata": {},
          "execution_count": 5
        }
      ]
    },
    {
      "cell_type": "code",
      "source": [
        "from sklearn.preprocessing import StandardScaler\n",
        "ss = StandardScaler()\n",
        "x_train_scaled = ss.fit_transform(x_train)\n",
        "x_test_scaled = ss.transform(x_test)"
      ],
      "metadata": {
        "id": "MEt5_RFdDx4A"
      },
      "execution_count": 17,
      "outputs": []
    },
    {
      "cell_type": "code",
      "source": [
        "# 모델 설계\n",
        "inputs = tf.keras.Input(shape=(4,))\n",
        "hidden = tf.keras.layers.Dense(100,activation='relu')(inputs)\n",
        "# hidden = tf.keras.layers.Dense(10,activation='relu')(hidden)\n",
        "# hidden = tf.keras.layers.Dense(5,activation='relu')(hidden)\n",
        "# hidden =tf.keras.layers.Dropout(0.25) (hidden)\n",
        "outputs = tf.keras.layers.Dense(3,activation='softmax')(hidden)\n",
        "model = tf.keras.Model(inputs=inputs, outputs=outputs)\n",
        "model.summary()\n"
      ],
      "metadata": {
        "colab": {
          "base_uri": "https://localhost:8080/"
        },
        "id": "CIEQi4QtEECI",
        "outputId": "4aee8205-f0d3-442f-8fef-b6e9375797e3"
      },
      "execution_count": 28,
      "outputs": [
        {
          "output_type": "stream",
          "name": "stdout",
          "text": [
            "Model: \"model_7\"\n",
            "_________________________________________________________________\n",
            " Layer (type)                Output Shape              Param #   \n",
            "=================================================================\n",
            " input_10 (InputLayer)       [(None, 4)]               0         \n",
            "                                                                 \n",
            " dense_30 (Dense)            (None, 100)               500       \n",
            "                                                                 \n",
            " dense_31 (Dense)            (None, 3)                 303       \n",
            "                                                                 \n",
            "=================================================================\n",
            "Total params: 803\n",
            "Trainable params: 803\n",
            "Non-trainable params: 0\n",
            "_________________________________________________________________\n"
          ]
        }
      ]
    },
    {
      "cell_type": "code",
      "source": [
        "checkpoiont_cb = tf.keras.callbacks.ModelCheckpoint('iris_network.h5')\n",
        "early_stopping_cb = tf.keras.callbacks.EarlyStopping(patience=2,restore_best_weights=True)\n",
        "model.compile(loss=tf.keras.losses.sparse_categorical_crossentropy,metrics=['accuracy'])\n",
        "history = model.fit(x_train_scaled,y_train,validation_split=0.2,epochs=500, callbacks=[checkpoiont_cb,early_stopping_cb])"
      ],
      "metadata": {
        "colab": {
          "base_uri": "https://localhost:8080/"
        },
        "id": "bfe9Oc2PFBiZ",
        "outputId": "2480a5a3-2a8a-483d-9b3e-b2e3297769de"
      },
      "execution_count": 29,
      "outputs": [
        {
          "output_type": "stream",
          "name": "stdout",
          "text": [
            "Epoch 1/500\n",
            "3/3 [==============================] - 1s 91ms/step - loss: 1.0617 - accuracy: 0.4831 - val_loss: 0.9742 - val_accuracy: 0.6957\n",
            "Epoch 2/500\n",
            "3/3 [==============================] - 0s 21ms/step - loss: 0.9412 - accuracy: 0.5843 - val_loss: 0.8896 - val_accuracy: 0.6957\n",
            "Epoch 3/500\n",
            "3/3 [==============================] - 0s 22ms/step - loss: 0.8658 - accuracy: 0.6966 - val_loss: 0.8249 - val_accuracy: 0.7826\n",
            "Epoch 4/500\n",
            "3/3 [==============================] - 0s 21ms/step - loss: 0.8058 - accuracy: 0.7416 - val_loss: 0.7716 - val_accuracy: 0.7391\n",
            "Epoch 5/500\n",
            "3/3 [==============================] - 0s 21ms/step - loss: 0.7569 - accuracy: 0.7528 - val_loss: 0.7276 - val_accuracy: 0.7826\n",
            "Epoch 6/500\n",
            "3/3 [==============================] - 0s 21ms/step - loss: 0.7151 - accuracy: 0.8090 - val_loss: 0.6900 - val_accuracy: 0.7826\n",
            "Epoch 7/500\n",
            "3/3 [==============================] - 0s 22ms/step - loss: 0.6766 - accuracy: 0.8315 - val_loss: 0.6550 - val_accuracy: 0.7826\n",
            "Epoch 8/500\n",
            "3/3 [==============================] - 0s 21ms/step - loss: 0.6426 - accuracy: 0.8427 - val_loss: 0.6245 - val_accuracy: 0.7826\n",
            "Epoch 9/500\n",
            "3/3 [==============================] - 0s 21ms/step - loss: 0.6123 - accuracy: 0.8427 - val_loss: 0.5981 - val_accuracy: 0.7826\n",
            "Epoch 10/500\n",
            "3/3 [==============================] - 0s 21ms/step - loss: 0.5849 - accuracy: 0.8427 - val_loss: 0.5741 - val_accuracy: 0.7826\n",
            "Epoch 11/500\n",
            "3/3 [==============================] - 0s 21ms/step - loss: 0.5588 - accuracy: 0.8764 - val_loss: 0.5525 - val_accuracy: 0.7391\n",
            "Epoch 12/500\n",
            "3/3 [==============================] - 0s 22ms/step - loss: 0.5359 - accuracy: 0.8764 - val_loss: 0.5327 - val_accuracy: 0.7391\n",
            "Epoch 13/500\n",
            "3/3 [==============================] - 0s 23ms/step - loss: 0.5152 - accuracy: 0.8764 - val_loss: 0.5150 - val_accuracy: 0.7391\n",
            "Epoch 14/500\n",
            "3/3 [==============================] - 0s 22ms/step - loss: 0.4964 - accuracy: 0.8764 - val_loss: 0.4989 - val_accuracy: 0.7391\n",
            "Epoch 15/500\n",
            "3/3 [==============================] - 0s 21ms/step - loss: 0.4773 - accuracy: 0.8876 - val_loss: 0.4843 - val_accuracy: 0.7391\n",
            "Epoch 16/500\n",
            "3/3 [==============================] - 0s 26ms/step - loss: 0.4603 - accuracy: 0.8764 - val_loss: 0.4706 - val_accuracy: 0.7391\n",
            "Epoch 17/500\n",
            "3/3 [==============================] - 0s 24ms/step - loss: 0.4448 - accuracy: 0.8876 - val_loss: 0.4583 - val_accuracy: 0.7391\n",
            "Epoch 18/500\n",
            "3/3 [==============================] - 0s 24ms/step - loss: 0.4298 - accuracy: 0.8876 - val_loss: 0.4465 - val_accuracy: 0.7391\n",
            "Epoch 19/500\n",
            "3/3 [==============================] - 0s 25ms/step - loss: 0.4164 - accuracy: 0.8876 - val_loss: 0.4360 - val_accuracy: 0.7391\n",
            "Epoch 20/500\n",
            "3/3 [==============================] - 0s 25ms/step - loss: 0.4043 - accuracy: 0.8876 - val_loss: 0.4264 - val_accuracy: 0.7391\n",
            "Epoch 21/500\n",
            "3/3 [==============================] - 0s 23ms/step - loss: 0.3906 - accuracy: 0.8876 - val_loss: 0.4175 - val_accuracy: 0.7391\n",
            "Epoch 22/500\n",
            "3/3 [==============================] - 0s 23ms/step - loss: 0.3793 - accuracy: 0.8876 - val_loss: 0.4090 - val_accuracy: 0.7391\n",
            "Epoch 23/500\n",
            "3/3 [==============================] - 0s 23ms/step - loss: 0.3703 - accuracy: 0.8876 - val_loss: 0.4009 - val_accuracy: 0.7391\n",
            "Epoch 24/500\n",
            "3/3 [==============================] - 0s 22ms/step - loss: 0.3590 - accuracy: 0.8876 - val_loss: 0.3937 - val_accuracy: 0.7391\n",
            "Epoch 25/500\n",
            "3/3 [==============================] - 0s 25ms/step - loss: 0.3500 - accuracy: 0.8876 - val_loss: 0.3864 - val_accuracy: 0.7391\n",
            "Epoch 26/500\n",
            "3/3 [==============================] - 0s 22ms/step - loss: 0.3402 - accuracy: 0.8876 - val_loss: 0.3800 - val_accuracy: 0.7391\n",
            "Epoch 27/500\n",
            "3/3 [==============================] - 0s 22ms/step - loss: 0.3323 - accuracy: 0.8876 - val_loss: 0.3732 - val_accuracy: 0.7391\n",
            "Epoch 28/500\n",
            "3/3 [==============================] - 0s 23ms/step - loss: 0.3236 - accuracy: 0.8876 - val_loss: 0.3671 - val_accuracy: 0.7391\n",
            "Epoch 29/500\n",
            "3/3 [==============================] - 0s 22ms/step - loss: 0.3158 - accuracy: 0.8876 - val_loss: 0.3612 - val_accuracy: 0.7391\n",
            "Epoch 30/500\n",
            "3/3 [==============================] - 0s 23ms/step - loss: 0.3122 - accuracy: 0.8876 - val_loss: 0.3565 - val_accuracy: 0.7391\n",
            "Epoch 31/500\n",
            "3/3 [==============================] - 0s 25ms/step - loss: 0.3023 - accuracy: 0.8876 - val_loss: 0.3505 - val_accuracy: 0.7826\n",
            "Epoch 32/500\n",
            "3/3 [==============================] - 0s 23ms/step - loss: 0.2959 - accuracy: 0.8876 - val_loss: 0.3453 - val_accuracy: 0.7826\n",
            "Epoch 33/500\n",
            "3/3 [==============================] - 0s 23ms/step - loss: 0.2891 - accuracy: 0.8876 - val_loss: 0.3401 - val_accuracy: 0.7826\n",
            "Epoch 34/500\n",
            "3/3 [==============================] - 0s 23ms/step - loss: 0.2857 - accuracy: 0.8989 - val_loss: 0.3340 - val_accuracy: 0.7826\n",
            "Epoch 35/500\n",
            "3/3 [==============================] - 0s 21ms/step - loss: 0.2777 - accuracy: 0.8876 - val_loss: 0.3301 - val_accuracy: 0.7826\n",
            "Epoch 36/500\n",
            "3/3 [==============================] - 0s 25ms/step - loss: 0.2727 - accuracy: 0.8876 - val_loss: 0.3265 - val_accuracy: 0.7826\n",
            "Epoch 37/500\n",
            "3/3 [==============================] - 0s 22ms/step - loss: 0.2677 - accuracy: 0.8876 - val_loss: 0.3208 - val_accuracy: 0.8261\n",
            "Epoch 38/500\n",
            "3/3 [==============================] - 0s 22ms/step - loss: 0.2630 - accuracy: 0.8876 - val_loss: 0.3173 - val_accuracy: 0.8261\n",
            "Epoch 39/500\n",
            "3/3 [==============================] - 0s 22ms/step - loss: 0.2582 - accuracy: 0.8876 - val_loss: 0.3140 - val_accuracy: 0.8261\n",
            "Epoch 40/500\n",
            "3/3 [==============================] - 0s 22ms/step - loss: 0.2537 - accuracy: 0.8876 - val_loss: 0.3107 - val_accuracy: 0.8261\n",
            "Epoch 41/500\n",
            "3/3 [==============================] - 0s 22ms/step - loss: 0.2479 - accuracy: 0.8876 - val_loss: 0.3050 - val_accuracy: 0.8261\n",
            "Epoch 42/500\n",
            "3/3 [==============================] - 0s 23ms/step - loss: 0.2450 - accuracy: 0.8989 - val_loss: 0.2992 - val_accuracy: 0.8261\n",
            "Epoch 43/500\n",
            "3/3 [==============================] - 0s 23ms/step - loss: 0.2399 - accuracy: 0.9101 - val_loss: 0.2964 - val_accuracy: 0.8261\n",
            "Epoch 44/500\n",
            "3/3 [==============================] - 0s 22ms/step - loss: 0.2367 - accuracy: 0.8989 - val_loss: 0.2914 - val_accuracy: 0.8261\n",
            "Epoch 45/500\n",
            "3/3 [==============================] - 0s 21ms/step - loss: 0.2316 - accuracy: 0.9101 - val_loss: 0.2890 - val_accuracy: 0.8261\n",
            "Epoch 46/500\n",
            "3/3 [==============================] - 0s 21ms/step - loss: 0.2280 - accuracy: 0.9101 - val_loss: 0.2864 - val_accuracy: 0.8261\n",
            "Epoch 47/500\n",
            "3/3 [==============================] - 0s 22ms/step - loss: 0.2234 - accuracy: 0.9101 - val_loss: 0.2823 - val_accuracy: 0.8261\n",
            "Epoch 48/500\n",
            "3/3 [==============================] - 0s 23ms/step - loss: 0.2202 - accuracy: 0.8989 - val_loss: 0.2765 - val_accuracy: 0.8261\n",
            "Epoch 49/500\n",
            "3/3 [==============================] - 0s 22ms/step - loss: 0.2169 - accuracy: 0.9101 - val_loss: 0.2713 - val_accuracy: 0.8261\n",
            "Epoch 50/500\n",
            "3/3 [==============================] - 0s 21ms/step - loss: 0.2124 - accuracy: 0.9101 - val_loss: 0.2691 - val_accuracy: 0.8261\n",
            "Epoch 51/500\n",
            "3/3 [==============================] - 0s 23ms/step - loss: 0.2095 - accuracy: 0.9101 - val_loss: 0.2642 - val_accuracy: 0.8261\n",
            "Epoch 52/500\n",
            "3/3 [==============================] - 0s 26ms/step - loss: 0.2074 - accuracy: 0.9213 - val_loss: 0.2634 - val_accuracy: 0.8261\n",
            "Epoch 53/500\n",
            "3/3 [==============================] - 0s 30ms/step - loss: 0.2023 - accuracy: 0.9101 - val_loss: 0.2589 - val_accuracy: 0.8261\n",
            "Epoch 54/500\n",
            "3/3 [==============================] - 0s 22ms/step - loss: 0.1994 - accuracy: 0.9213 - val_loss: 0.2547 - val_accuracy: 0.8261\n",
            "Epoch 55/500\n",
            "3/3 [==============================] - 0s 22ms/step - loss: 0.1956 - accuracy: 0.9213 - val_loss: 0.2517 - val_accuracy: 0.8261\n",
            "Epoch 56/500\n",
            "3/3 [==============================] - 0s 22ms/step - loss: 0.1934 - accuracy: 0.9213 - val_loss: 0.2494 - val_accuracy: 0.8261\n",
            "Epoch 57/500\n",
            "3/3 [==============================] - 0s 22ms/step - loss: 0.1898 - accuracy: 0.9213 - val_loss: 0.2460 - val_accuracy: 0.8696\n",
            "Epoch 58/500\n",
            "3/3 [==============================] - 0s 21ms/step - loss: 0.1865 - accuracy: 0.9213 - val_loss: 0.2403 - val_accuracy: 0.8696\n",
            "Epoch 59/500\n",
            "3/3 [==============================] - 0s 24ms/step - loss: 0.1833 - accuracy: 0.9213 - val_loss: 0.2380 - val_accuracy: 0.8696\n",
            "Epoch 60/500\n",
            "3/3 [==============================] - 0s 22ms/step - loss: 0.1802 - accuracy: 0.9213 - val_loss: 0.2323 - val_accuracy: 0.8696\n",
            "Epoch 61/500\n",
            "3/3 [==============================] - 0s 22ms/step - loss: 0.1769 - accuracy: 0.9213 - val_loss: 0.2295 - val_accuracy: 0.8696\n",
            "Epoch 62/500\n",
            "3/3 [==============================] - 0s 22ms/step - loss: 0.1763 - accuracy: 0.9213 - val_loss: 0.2240 - val_accuracy: 0.8696\n",
            "Epoch 63/500\n",
            "3/3 [==============================] - 0s 22ms/step - loss: 0.1717 - accuracy: 0.9326 - val_loss: 0.2231 - val_accuracy: 0.8696\n",
            "Epoch 64/500\n",
            "3/3 [==============================] - 0s 22ms/step - loss: 0.1687 - accuracy: 0.9326 - val_loss: 0.2191 - val_accuracy: 0.8696\n",
            "Epoch 65/500\n",
            "3/3 [==============================] - 0s 26ms/step - loss: 0.1667 - accuracy: 0.9326 - val_loss: 0.2164 - val_accuracy: 0.8696\n",
            "Epoch 66/500\n",
            "3/3 [==============================] - 0s 22ms/step - loss: 0.1628 - accuracy: 0.9438 - val_loss: 0.2122 - val_accuracy: 0.8696\n",
            "Epoch 67/500\n",
            "3/3 [==============================] - 0s 21ms/step - loss: 0.1607 - accuracy: 0.9438 - val_loss: 0.2074 - val_accuracy: 0.8696\n",
            "Epoch 68/500\n",
            "3/3 [==============================] - 0s 22ms/step - loss: 0.1578 - accuracy: 0.9326 - val_loss: 0.2035 - val_accuracy: 0.8696\n",
            "Epoch 69/500\n",
            "3/3 [==============================] - 0s 22ms/step - loss: 0.1550 - accuracy: 0.9438 - val_loss: 0.1999 - val_accuracy: 0.8696\n",
            "Epoch 70/500\n",
            "3/3 [==============================] - 0s 23ms/step - loss: 0.1533 - accuracy: 0.9438 - val_loss: 0.2005 - val_accuracy: 0.8696\n",
            "Epoch 71/500\n",
            "3/3 [==============================] - 0s 26ms/step - loss: 0.1496 - accuracy: 0.9551 - val_loss: 0.1975 - val_accuracy: 0.8696\n",
            "Epoch 72/500\n",
            "3/3 [==============================] - 0s 21ms/step - loss: 0.1470 - accuracy: 0.9551 - val_loss: 0.1923 - val_accuracy: 0.8696\n",
            "Epoch 73/500\n",
            "3/3 [==============================] - 0s 22ms/step - loss: 0.1441 - accuracy: 0.9551 - val_loss: 0.1900 - val_accuracy: 0.8696\n",
            "Epoch 74/500\n",
            "3/3 [==============================] - 0s 21ms/step - loss: 0.1416 - accuracy: 0.9551 - val_loss: 0.1864 - val_accuracy: 0.8696\n",
            "Epoch 75/500\n",
            "3/3 [==============================] - 0s 21ms/step - loss: 0.1412 - accuracy: 0.9663 - val_loss: 0.1823 - val_accuracy: 0.8696\n",
            "Epoch 76/500\n",
            "3/3 [==============================] - 0s 21ms/step - loss: 0.1369 - accuracy: 0.9663 - val_loss: 0.1781 - val_accuracy: 0.8696\n",
            "Epoch 77/500\n",
            "3/3 [==============================] - 0s 31ms/step - loss: 0.1345 - accuracy: 0.9775 - val_loss: 0.1777 - val_accuracy: 0.8696\n",
            "Epoch 78/500\n",
            "3/3 [==============================] - 0s 22ms/step - loss: 0.1318 - accuracy: 0.9775 - val_loss: 0.1728 - val_accuracy: 0.8696\n",
            "Epoch 79/500\n",
            "3/3 [==============================] - 0s 21ms/step - loss: 0.1315 - accuracy: 0.9775 - val_loss: 0.1720 - val_accuracy: 0.8696\n",
            "Epoch 80/500\n",
            "3/3 [==============================] - 0s 21ms/step - loss: 0.1273 - accuracy: 0.9775 - val_loss: 0.1682 - val_accuracy: 0.9130\n",
            "Epoch 81/500\n",
            "3/3 [==============================] - 0s 21ms/step - loss: 0.1265 - accuracy: 0.9775 - val_loss: 0.1644 - val_accuracy: 0.9130\n",
            "Epoch 82/500\n",
            "3/3 [==============================] - 0s 24ms/step - loss: 0.1231 - accuracy: 0.9775 - val_loss: 0.1613 - val_accuracy: 0.9130\n",
            "Epoch 83/500\n",
            "3/3 [==============================] - 0s 22ms/step - loss: 0.1210 - accuracy: 0.9775 - val_loss: 0.1569 - val_accuracy: 0.9565\n",
            "Epoch 84/500\n",
            "3/3 [==============================] - 0s 23ms/step - loss: 0.1190 - accuracy: 0.9775 - val_loss: 0.1529 - val_accuracy: 1.0000\n",
            "Epoch 85/500\n",
            "3/3 [==============================] - 0s 24ms/step - loss: 0.1164 - accuracy: 0.9775 - val_loss: 0.1519 - val_accuracy: 0.9565\n",
            "Epoch 86/500\n",
            "3/3 [==============================] - 0s 23ms/step - loss: 0.1150 - accuracy: 0.9775 - val_loss: 0.1473 - val_accuracy: 1.0000\n",
            "Epoch 87/500\n",
            "3/3 [==============================] - 0s 24ms/step - loss: 0.1124 - accuracy: 0.9888 - val_loss: 0.1474 - val_accuracy: 0.9565\n",
            "Epoch 88/500\n",
            "3/3 [==============================] - 0s 34ms/step - loss: 0.1123 - accuracy: 0.9888 - val_loss: 0.1442 - val_accuracy: 0.9565\n",
            "Epoch 89/500\n",
            "3/3 [==============================] - 0s 24ms/step - loss: 0.1099 - accuracy: 0.9888 - val_loss: 0.1392 - val_accuracy: 1.0000\n",
            "Epoch 90/500\n",
            "3/3 [==============================] - 0s 23ms/step - loss: 0.1069 - accuracy: 0.9888 - val_loss: 0.1376 - val_accuracy: 1.0000\n",
            "Epoch 91/500\n",
            "3/3 [==============================] - 0s 22ms/step - loss: 0.1057 - accuracy: 0.9888 - val_loss: 0.1336 - val_accuracy: 1.0000\n",
            "Epoch 92/500\n",
            "3/3 [==============================] - 0s 22ms/step - loss: 0.1036 - accuracy: 0.9888 - val_loss: 0.1338 - val_accuracy: 1.0000\n",
            "Epoch 93/500\n",
            "3/3 [==============================] - 0s 23ms/step - loss: 0.1020 - accuracy: 0.9888 - val_loss: 0.1301 - val_accuracy: 1.0000\n",
            "Epoch 94/500\n",
            "3/3 [==============================] - 0s 23ms/step - loss: 0.1001 - accuracy: 0.9888 - val_loss: 0.1280 - val_accuracy: 1.0000\n",
            "Epoch 95/500\n",
            "3/3 [==============================] - 0s 22ms/step - loss: 0.0988 - accuracy: 0.9888 - val_loss: 0.1279 - val_accuracy: 1.0000\n",
            "Epoch 96/500\n",
            "3/3 [==============================] - 0s 30ms/step - loss: 0.0965 - accuracy: 0.9888 - val_loss: 0.1234 - val_accuracy: 1.0000\n",
            "Epoch 97/500\n",
            "3/3 [==============================] - 0s 22ms/step - loss: 0.0949 - accuracy: 0.9888 - val_loss: 0.1189 - val_accuracy: 1.0000\n",
            "Epoch 98/500\n",
            "3/3 [==============================] - 0s 24ms/step - loss: 0.0957 - accuracy: 0.9888 - val_loss: 0.1194 - val_accuracy: 1.0000\n",
            "Epoch 99/500\n",
            "3/3 [==============================] - 0s 25ms/step - loss: 0.0932 - accuracy: 0.9888 - val_loss: 0.1198 - val_accuracy: 1.0000\n"
          ]
        }
      ]
    },
    {
      "cell_type": "code",
      "source": [
        "import matplotlib.pyplot as plt\n",
        "plt.plot(history.history['accuracy'])\n",
        "plt.plot(history.history['val_accuracy'])\n",
        "plt.show()"
      ],
      "metadata": {
        "colab": {
          "base_uri": "https://localhost:8080/",
          "height": 430
        },
        "id": "88_IBkhgF_I7",
        "outputId": "4616b7c5-2ebd-41c5-b462-45b6b7fa06ba"
      },
      "execution_count": 30,
      "outputs": [
        {
          "output_type": "display_data",
          "data": {
            "text/plain": [
              "<Figure size 640x480 with 1 Axes>"
            ],
            "image/png": "[encoded data removed]"
          },
          "metadata": {}
        }
      ]
    },
    {
      "cell_type": "code",
      "source": [
        "import matplotlib.pyplot as plt\n",
        "plt.plot(history.history['loss'])\n",
        "plt.plot(history.history['val_loss'])\n",
        "plt.show()"
      ],
      "metadata": {
        "colab": {
          "base_uri": "https://localhost:8080/",
          "height": 430
        },
        "id": "MU9xtSPoGvvw",
        "outputId": "5211b154-5ffb-4c3b-8d1d-c659aee2030d"
      },
      "execution_count": 31,
      "outputs": [
        {
          "output_type": "display_data",
          "data": {
            "text/plain": [
              "<Figure size 640x480 with 1 Axes>"
            ],
            "image/png": "[encoded data removed]"
          },
          "metadata": {}
        }
      ]
    },
    {
      "cell_type": "code",
      "source": [
        "model.evaluate(x_test_scaled,y_test)"
      ],
      "metadata": {
        "colab": {
          "base_uri": "https://localhost:8080/"
        },
        "id": "1VSLa9cdHdfR",
        "outputId": "dcb702ee-e666-4791-c6d6-64654a29c9cc"
      },
      "execution_count": 32,
      "outputs": [
        {
          "output_type": "stream",
          "name": "stdout",
          "text": [
            "2/2 [==============================] - 0s 10ms/step - loss: 0.2779 - accuracy: 0.8684\n"
          ]
        },
        {
          "output_type": "execute_result",
          "data": {
            "text/plain": [
              "[0.2778637111186981, 0.8684210777282715]"
            ]
          },
          "metadata": {},
          "execution_count": 32
        }
      ]
    },
    {
      "cell_type": "code",
      "source": [
        "from sklearn.linear_model import LogisticRegression\n",
        "lr = LogisticRegression()\n",
        "lr.fit(x_train_scaled,y_train)\n",
        "lr.score(x_test_scaled,y_test)"
      ],
      "metadata": {
        "colab": {
          "base_uri": "https://localhost:8080/"
        },
        "id": "hHk-KJfyHwMY",
        "outputId": "2b555c0a-a450-4542-9911-b730dff083ca"
      },
      "execution_count": 33,
      "outputs": [
        {
          "output_type": "execute_result",
          "data": {
            "text/plain": [
              "0.8947368421052632"
            ]
          },
          "metadata": {},
          "execution_count": 33
        }
      ]
    },
    {
      "cell_type": "code",
      "source": [],
      "metadata": {
        "colab": {
          "base_uri": "https://localhost:8080/"
        },
        "id": "3O84IEWHICzA",
        "outputId": "1ec5ff3b-563d-4fad-e1d7-32e95c9dff16"
      },
      "execution_count": 34,
      "outputs": [
        {
          "output_type": "execute_result",
          "data": {
            "text/plain": [
              "array([0, 0, 0, 0, 0, 0, 0, 0, 0, 0, 0, 0, 0, 0, 0, 0, 0, 0, 0, 0, 0, 0,\n",
              "       0, 0, 0, 0, 0, 0, 0, 0, 0, 0, 0, 0, 0, 0, 0, 0, 0, 0, 0, 0, 0, 0,\n",
              "       0, 0, 0, 0, 0, 0, 1, 1, 1, 1, 1, 1, 1, 1, 1, 1, 1, 1, 1, 1, 1, 1,\n",
              "       1, 1, 1, 1, 1, 1, 1, 1, 1, 1, 1, 1, 1, 1, 1, 1, 1, 1, 1, 1, 1, 1,\n",
              "       1, 1, 1, 1, 1, 1, 1, 1, 1, 1, 1, 1, 2, 2, 2, 2, 2, 2, 2, 2, 2, 2,\n",
              "       2, 2, 2, 2, 2, 2, 2, 2, 2, 2, 2, 2, 2, 2, 2, 2, 2, 2, 2, 2, 2, 2,\n",
              "       2, 2, 2, 2, 2, 2, 2, 2, 2, 2, 2, 2, 2, 2, 2, 2, 2, 2])"
            ]
          },
          "metadata": {},
          "execution_count": 34
        }
      ]
    }
  ]
}