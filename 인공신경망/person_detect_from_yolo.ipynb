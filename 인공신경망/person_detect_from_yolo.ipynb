{
 "cells": [
  {
   "cell_type": "code",
   "execution_count": null,
   "id": "3fc0484d-4c6e-4859-9c4e-1f596ea009e7",
   "metadata": {},
   "outputs": [],
   "source": [
    "!pip install opencv-python"
   ]
  },
  {
   "cell_type": "code",
   "execution_count": 7,
   "id": "ceb934ea-77e4-407e-aebe-ba55135c2d37",
   "metadata": {},
   "outputs": [],
   "source": [
    "import cv2\n",
    "from PIL import Image\n",
    "import numpy as np"
   ]
  },
  {
   "cell_type": "code",
   "execution_count": 4,
   "id": "1c3a2fe8-5267-4843-8e77-328ec302791d",
   "metadata": {},
   "outputs": [],
   "source": [
    "video = cv2.VideoCapture(0)\n",
    "while video.isOpened():\n",
    "    success,frame = video.read()\n",
    "    if success:\n",
    "        cv2.imshow('camera',frame)\n",
    "        key = cv2.waitKey(1)&0xff\n",
    "        if key == 27: # ESC키를 누르면 중지\n",
    "            break\n",
    "video.release()\n",
    "cv2.destroyAllWindows()"
   ]
  },
  {
   "cell_type": "code",
   "execution_count": 8,
   "id": "e3b69ce9-a19f-4d6b-ac71-7f431f5797c2",
   "metadata": {},
   "outputs": [],
   "source": [
    "classes = []\n",
    "with open('coco.names.txt','r') as f:\n",
    "    classes = [ line.strip() for line in f.readlines() ]    \n",
    "colors = np.random.uniform(0,255,size=(len(classes),3) )\n",
    "\n",
    "model = cv2.dnn.readNet('yolov3.weights','yolov3.cfg')   \n",
    "layer_names = model.getLayerNames()\n",
    "out_layers = [ layer_names[i-1] for i in model.getUnconnectedOutLayers()]"
   ]
  },
  {
   "cell_type": "code",
   "execution_count": 10,
   "id": "6c88fac9-422b-4bbc-bd95-879525357ed3",
   "metadata": {},
   "outputs": [],
   "source": [
    "def process_video():\n",
    "    video = cv2.VideoCapture(0)\n",
    "    while video.isOpened():\n",
    "        success,img = video.read()\n",
    "        if success:\n",
    "            cv2.imshow('camera',img)\n",
    "            key = cv2.waitKey(1)&0xff\n",
    "            if key == 27: # ESC키를 누르면 중지\n",
    "                break\n",
    "            height,width,channels =  img.shape\n",
    "            blob =  cv2.dnn.blobFromImage(img,1.0/256,(448,448),(0,0,0),swapRB=True,crop=False)\n",
    "            model.setInput(blob)\n",
    "            outputs = model.forward(out_layers)\n",
    "\n",
    "            class_ids,confidences,boxes = [],[],[]\n",
    "            # outputs  모델에 대한 검출한 객체의 정보를 담고 있음\n",
    "            for output_ in outputs:\n",
    "              for vec85 in output_:  # vec85 객체의 정보를 담고 있는 벡터\n",
    "                scores = vec85[5:]  # 최고 부류 확률이 0.5를 넘는 바운딩 박스  클래스의 확률 점수\n",
    "                class_id = np.argmax(scores)\n",
    "                confidence=scores[class_id] # 선택된 클래스에 해당하는 신뢰도 값을 가져옮\n",
    "                if confidence>0.5: # 신뢰도가 50% 이상인 경우만 취함\n",
    "                    centerx,centery=int(vec85[0]*width),int(vec85[1]*height)  # 중심좌표를 이미지 크기에 맞게 변환\n",
    "                    w,h=int(vec85[2]*width),int(vec85[3]*height) # 너비와 높이를 조정\n",
    "                    x,y=int(centerx-w/2),int(centery-h/2) # 좌상단 좌표를 계산\n",
    "                    boxes.append([x,y,w,h]) # 감지된 객체의 좌표와 크기를 boxes 리스트에 저장\n",
    "                    confidences.append(float(confidence))\n",
    "                    class_ids.append(class_id)\n",
    "            # Non-Maximum Supperssino(NMS)을 사용\n",
    "            # 겹치는 박스를 제거, 겹치는 박스중에 가장 신뢰도가 높은 박스들의 좌표만 남겨둔다       \n",
    "            indexes=cv2.dnn.NMSBoxes(boxes,confidences,0.5,0.4) \n",
    "\n",
    "            for i in range(len(boxes)):\n",
    "              if i in indexes:\n",
    "                x,y,w,h=boxes[i]\n",
    "                text=str(classes[class_ids[i]])+'%.3f'%confidences[i]\n",
    "                cv2.rectangle(img,(x,y),(x+w,y+h),colors[class_ids[i]],2)\n",
    "                cv2.putText(img,text,(x,y+30),cv2.FONT_HERSHEY_PLAIN,2,colors[class_ids[i]],2)\n",
    "            if 0 in class_ids:  # 사람을 검출( 'person')\n",
    "                print(\"person detect!!!\")                \n",
    "        \n",
    "    video.release()\n",
    "    cv2.destroyAllWindows()"
   ]
  },
  {
   "cell_type": "code",
   "execution_count": 11,
   "id": "9b184dc6-89aa-4cac-a079-e688dddec195",
   "metadata": {},
   "outputs": [
    {
     "ename": "TypeError",
     "evalue": "argument of type 'numpy.int64' is not iterable",
     "output_type": "error",
     "traceback": [
      "\u001b[1;31m---------------------------------------------------------------------------\u001b[0m",
      "\u001b[1;31mTypeError\u001b[0m                                 Traceback (most recent call last)",
      "Cell \u001b[1;32mIn[11], line 1\u001b[0m\n\u001b[1;32m----> 1\u001b[0m process_video()\n",
      "Cell \u001b[1;32mIn[10], line 39\u001b[0m, in \u001b[0;36mprocess_video\u001b[1;34m()\u001b[0m\n\u001b[0;32m     37\u001b[0m             cv2\u001b[38;5;241m.\u001b[39mrectangle(img,(x,y),(x\u001b[38;5;241m+\u001b[39mw,y\u001b[38;5;241m+\u001b[39mh),colors[class_ids[i]],\u001b[38;5;241m2\u001b[39m)\n\u001b[0;32m     38\u001b[0m             cv2\u001b[38;5;241m.\u001b[39mputText(img,text,(x,y\u001b[38;5;241m+\u001b[39m\u001b[38;5;241m30\u001b[39m),cv2\u001b[38;5;241m.\u001b[39mFONT_HERSHEY_PLAIN,\u001b[38;5;241m2\u001b[39m,colors[class_ids[i]],\u001b[38;5;241m2\u001b[39m)\n\u001b[1;32m---> 39\u001b[0m         \u001b[38;5;28;01mif\u001b[39;00m \u001b[38;5;241m0\u001b[39m \u001b[38;5;129;01min\u001b[39;00m class_id:  \u001b[38;5;66;03m# 사람을 검출( 'person')\u001b[39;00m\n\u001b[0;32m     40\u001b[0m             \u001b[38;5;28mprint\u001b[39m(\u001b[38;5;124m\"\u001b[39m\u001b[38;5;124mperson detect!!!\u001b[39m\u001b[38;5;124m\"\u001b[39m)                \n\u001b[0;32m     42\u001b[0m video\u001b[38;5;241m.\u001b[39mrelease()\n",
      "\u001b[1;31mTypeError\u001b[0m: argument of type 'numpy.int64' is not iterable"
     ]
    }
   ],
   "source": [
    "process_video()"
   ]
  },
  {
   "cell_type": "code",
   "execution_count": null,
   "id": "f9d7f99d-cf13-4378-b5f6-45ff24d8127b",
   "metadata": {},
   "outputs": [],
   "source": []
  }
 ],
 "metadata": {
  "kernelspec": {
   "display_name": "Python 3 (ipykernel)",
   "language": "python",
   "name": "python3"
  },
  "language_info": {
   "codemirror_mode": {
    "name": "ipython",
    "version": 3
   },
   "file_extension": ".py",
   "mimetype": "text/x-python",
   "name": "python",
   "nbconvert_exporter": "python",
   "pygments_lexer": "ipython3",
   "version": "3.11.3"
  }
 },
 "nbformat": 4,
 "nbformat_minor": 5
}
