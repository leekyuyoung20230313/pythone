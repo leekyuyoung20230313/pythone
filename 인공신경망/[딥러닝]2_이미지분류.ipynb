{
  "nbformat": 4,
  "nbformat_minor": 0,
  "metadata": {
    "colab": {
      "provenance": []
    },
    "kernelspec": {
      "name": "python3",
      "display_name": "Python 3"
    },
    "language_info": {
      "name": "python"
    }
  },
  "cells": [
    {
      "cell_type": "code",
      "execution_count": 1,
      "metadata": {
        "id": "IoWtUcreQm8J"
      },
      "outputs": [],
      "source": [
        "import tensorflow as tf"
      ]
    },
    {
      "cell_type": "code",
      "source": [
        "(x_train,y_train),(x_test,y_test) = tf.keras.datasets.mnist.load_data()\n",
        "x_train.shape,y_train.shape"
      ],
      "metadata": {
        "colab": {
          "base_uri": "https://localhost:8080/"
        },
        "id": "OywCRh4VTwDF",
        "outputId": "8d8e95a4-716a-49e9-8e2d-d7a937495ab8"
      },
      "execution_count": 2,
      "outputs": [
        {
          "output_type": "stream",
          "name": "stdout",
          "text": [
            "Downloading data from https://storage.googleapis.com/tensorflow/tf-keras-datasets/mnist.npz\n",
            "11490434/11490434 [==============================] - 0s 0us/step\n"
          ]
        },
        {
          "output_type": "execute_result",
          "data": {
            "text/plain": [
              "((60000, 28, 28), (60000,))"
            ]
          },
          "metadata": {},
          "execution_count": 2
        }
      ]
    },
    {
      "cell_type": "markdown",
      "source": [
        "이미지 데이터는 픽셀단위로 되어 있고 각 픽셀은 0 ~ 255 사이"
      ],
      "metadata": {
        "id": "_Z5iZCJpUPmn"
      }
    },
    {
      "cell_type": "code",
      "source": [
        "x_train = x_train / 255.0\n",
        "x_test = x_test / 255.0"
      ],
      "metadata": {
        "id": "Rd0OZepOUD-c"
      },
      "execution_count": 5,
      "outputs": []
    },
    {
      "cell_type": "markdown",
      "source": [
        "모델구성 - funtional api\n",
        "  - 입력층\n",
        "  - 입력층으로부터 1차원으로 변경하는 flatten\n",
        "  - Dense - sigmoid or relu\n",
        "  - Dense - sigmoid or relu\n",
        "  - 출력을 담당하는 Dense - softmax"
      ],
      "metadata": {
        "id": "CNVH67X9UdrF"
      }
    },
    {
      "cell_type": "code",
      "source": [
        "def makeModel():\n",
        "  inputs = tf.keras.Input(shape=(28,28))\n",
        "  x = tf.keras.layers.Flatten()(inputs)\n",
        "  x = tf.keras.layers.Dense(100,activation='relu',name = 'input_layer')(x)\n",
        "  x = tf.keras.layers.Dense(50,activation='relu',name = 'hidden_layer_1')(x)\n",
        "  outputs = tf.keras.layers.Dense(10,activation='softmax',name = 'output_layer')(x)\n",
        "  model = tf.keras.Model(inputs = inputs, outputs=outputs,name='my_model')\n",
        "  return model\n",
        "model = makeModel()\n",
        "model.summary()"
      ],
      "metadata": {
        "colab": {
          "base_uri": "https://localhost:8080/"
        },
        "id": "St_7FuM-UJir",
        "outputId": "729fd34d-d77f-4fe4-fa3f-b0fd82ffbf52"
      },
      "execution_count": 35,
      "outputs": [
        {
          "output_type": "stream",
          "name": "stdout",
          "text": [
            "Model: \"my_model\"\n",
            "_________________________________________________________________\n",
            " Layer (type)                Output Shape              Param #   \n",
            "=================================================================\n",
            " input_5 (InputLayer)        [(None, 28, 28)]          0         \n",
            "                                                                 \n",
            " flatten_4 (Flatten)         (None, 784)               0         \n",
            "                                                                 \n",
            " input_layer (Dense)         (None, 100)               78500     \n",
            "                                                                 \n",
            " hidden_layer_1 (Dense)      (None, 50)                5050      \n",
            "                                                                 \n",
            " output_layer (Dense)        (None, 10)                510       \n",
            "                                                                 \n",
            "=================================================================\n",
            "Total params: 84,060\n",
            "Trainable params: 84,060\n",
            "Non-trainable params: 0\n",
            "_________________________________________________________________\n"
          ]
        }
      ]
    },
    {
      "cell_type": "code",
      "source": [
        "model.get_layer(\"input_layer\")  # 확인 필요"
      ],
      "metadata": {
        "colab": {
          "base_uri": "https://localhost:8080/"
        },
        "id": "YYisupiiXft4",
        "outputId": "cdae9220-1557-4c8f-d1cd-4971b3adce62"
      },
      "execution_count": 25,
      "outputs": [
        {
          "output_type": "execute_result",
          "data": {
            "text/plain": [
              "<keras.layers.core.dense.Dense at 0x7ffa843dd9f0>"
            ]
          },
          "metadata": {},
          "execution_count": 25
        }
      ]
    },
    {
      "cell_type": "code",
      "source": [
        "# 학습방법을 정의\n",
        "model.compile(loss = tf.keras.losses.sparse_categorical_crossentropy, metrics='accuracy')\n",
        "# 학습\n",
        "history = model.fit(x_train,y_train,epochs=10)"
      ],
      "metadata": {
        "colab": {
          "base_uri": "https://localhost:8080/"
        },
        "id": "BPdWqfltYKlw",
        "outputId": "7874803e-bba4-4cc0-efb9-73048df9f563"
      },
      "execution_count": 26,
      "outputs": [
        {
          "output_type": "stream",
          "name": "stdout",
          "text": [
            "Epoch 1/10\n",
            "1875/1875 [==============================] - 4s 2ms/step - loss: 0.2566 - accuracy: 0.9251\n",
            "Epoch 2/10\n",
            "1875/1875 [==============================] - 3s 2ms/step - loss: 0.1163 - accuracy: 0.9647\n",
            "Epoch 3/10\n",
            "1875/1875 [==============================] - 3s 2ms/step - loss: 0.0877 - accuracy: 0.9741\n",
            "Epoch 4/10\n",
            "1875/1875 [==============================] - 3s 2ms/step - loss: 0.0713 - accuracy: 0.9792\n",
            "Epoch 5/10\n",
            "1875/1875 [==============================] - 4s 2ms/step - loss: 0.0606 - accuracy: 0.9823\n",
            "Epoch 6/10\n",
            "1875/1875 [==============================] - 3s 2ms/step - loss: 0.0536 - accuracy: 0.9847\n",
            "Epoch 7/10\n",
            "1875/1875 [==============================] - 3s 2ms/step - loss: 0.0457 - accuracy: 0.9867\n",
            "Epoch 8/10\n",
            "1875/1875 [==============================] - 3s 2ms/step - loss: 0.0409 - accuracy: 0.9887\n",
            "Epoch 9/10\n",
            "1875/1875 [==============================] - 3s 2ms/step - loss: 0.0360 - accuracy: 0.9895\n",
            "Epoch 10/10\n",
            "1875/1875 [==============================] - 3s 2ms/step - loss: 0.0310 - accuracy: 0.9917\n"
          ]
        }
      ]
    },
    {
      "cell_type": "code",
      "source": [
        "history.history"
      ],
      "metadata": {
        "id": "hYnSGMgPYKrG"
      },
      "execution_count": null,
      "outputs": []
    },
    {
      "cell_type": "markdown",
      "source": [
        "학습과정 시각화"
      ],
      "metadata": {
        "id": "RoPMurxmZBxs"
      }
    },
    {
      "cell_type": "code",
      "source": [
        "import matplotlib.pyplot as plt\n",
        "plt.subplot(1,2,1)\n",
        "plt.plot(history.history['loss'])\n",
        "plt.subplot(1,2,2)\n",
        "plt.plot(history.history['accuracy'])\n",
        "plt.show()"
      ],
      "metadata": {
        "colab": {
          "base_uri": "https://localhost:8080/",
          "height": 430
        },
        "id": "gqrmu-uQY_4n",
        "outputId": "2c5ab0f2-a41c-4ee2-9ac4-f93f09fbc183"
      },
      "execution_count": 31,
      "outputs": [
        {
          "output_type": "display_data",
          "data": {
            "text/plain": [
              "<Figure size 640x480 with 2 Axes>"
            ],
            "image/png": "[encoded data removed]"
          },
          "metadata": {}
        }
      ]
    },
    {
      "cell_type": "markdown",
      "source": [
        "에포크를 증가하면?"
      ],
      "metadata": {
        "id": "bF-LIjKJZg99"
      }
    },
    {
      "cell_type": "code",
      "source": [
        "# 추가학습\n",
        "history = model.fit(x_train,y_train,epochs=20,verbose=0)"
      ],
      "metadata": {
        "id": "VIgQt6omZj23"
      },
      "execution_count": 32,
      "outputs": []
    },
    {
      "cell_type": "code",
      "source": [
        "plt.plot(history.history['accuracy'])\n",
        "plt.show()"
      ],
      "metadata": {
        "colab": {
          "base_uri": "https://localhost:8080/",
          "height": 430
        },
        "id": "jq8GJ9XbaAvh",
        "outputId": "061f3d3c-6096-45d9-abc6-712d1da9da16"
      },
      "execution_count": 34,
      "outputs": [
        {
          "output_type": "display_data",
          "data": {
            "text/plain": [
              "<Figure size 640x480 with 1 Axes>"
            ],
            "image/png": "[encoded data removed]"
          },
          "metadata": {}
        }
      ]
    },
    {
      "cell_type": "markdown",
      "source": [
        "매 학습마다 검증데이터를 사용해서 각 과적합 및 기타 정보"
      ],
      "metadata": {
        "id": "0Blf7p0ZarqU"
      }
    },
    {
      "cell_type": "code",
      "source": [
        "model = makeModel()\n",
        "# 학습방법을 정의\n",
        "model.compile(loss = tf.keras.losses.sparse_categorical_crossentropy, metrics='accuracy')\n",
        "# 학습시 훈련데이터와 검증 데이터를 동시에 사용\n",
        "# 검증데이터를 만들기 위해 기존 학습데이터를 분할\n",
        "from sklearn.model_selection import train_test_split\n",
        "x_train2,x_val,y_train2,y_val =  train_test_split(x_train,y_train)\n",
        "x_train2.shape,x_val.shape,y_train2.shape,y_val.shape"
      ],
      "metadata": {
        "colab": {
          "base_uri": "https://localhost:8080/"
        },
        "id": "-5_K91x0a1Ft",
        "outputId": "71bb027c-f8f7-42c2-8b3c-d03f77b353a2"
      },
      "execution_count": 36,
      "outputs": [
        {
          "output_type": "execute_result",
          "data": {
            "text/plain": [
              "((45000, 28, 28), (15000, 28, 28), (45000,), (15000,))"
            ]
          },
          "metadata": {},
          "execution_count": 36
        }
      ]
    },
    {
      "cell_type": "code",
      "source": [
        "history = model.fit(x_train2,y_train2,epochs=20,validation_data=(x_val,y_val))"
      ],
      "metadata": {
        "colab": {
          "base_uri": "https://localhost:8080/"
        },
        "id": "za55NSpIa1It",
        "outputId": "f8e7faff-d379-46c0-8e00-4c3ff563e185"
      },
      "execution_count": 38,
      "outputs": [
        {
          "output_type": "stream",
          "name": "stdout",
          "text": [
            "Epoch 1/20\n",
            "1407/1407 [==============================] - 3s 2ms/step - loss: 0.2849 - accuracy: 0.9174 - val_loss: 0.1874 - val_accuracy: 0.9450\n",
            "Epoch 2/20\n",
            "1407/1407 [==============================] - 3s 2ms/step - loss: 0.1299 - accuracy: 0.9611 - val_loss: 0.1240 - val_accuracy: 0.9638\n",
            "Epoch 3/20\n",
            "1407/1407 [==============================] - 4s 3ms/step - loss: 0.0925 - accuracy: 0.9726 - val_loss: 0.1112 - val_accuracy: 0.9685\n",
            "Epoch 4/20\n",
            "1407/1407 [==============================] - 3s 2ms/step - loss: 0.0742 - accuracy: 0.9785 - val_loss: 0.1018 - val_accuracy: 0.9702\n",
            "Epoch 5/20\n",
            "1407/1407 [==============================] - 3s 2ms/step - loss: 0.0608 - accuracy: 0.9824 - val_loss: 0.0950 - val_accuracy: 0.9731\n",
            "Epoch 6/20\n",
            "1407/1407 [==============================] - 3s 2ms/step - loss: 0.0513 - accuracy: 0.9848 - val_loss: 0.1049 - val_accuracy: 0.9709\n",
            "Epoch 7/20\n",
            "1407/1407 [==============================] - 4s 3ms/step - loss: 0.0439 - accuracy: 0.9870 - val_loss: 0.1072 - val_accuracy: 0.9739\n",
            "Epoch 8/20\n",
            "1407/1407 [==============================] - 3s 2ms/step - loss: 0.0385 - accuracy: 0.9882 - val_loss: 0.1055 - val_accuracy: 0.9749\n",
            "Epoch 9/20\n",
            "1407/1407 [==============================] - 3s 2ms/step - loss: 0.0325 - accuracy: 0.9907 - val_loss: 0.1106 - val_accuracy: 0.9749\n",
            "Epoch 10/20\n",
            "1407/1407 [==============================] - 3s 2ms/step - loss: 0.0276 - accuracy: 0.9919 - val_loss: 0.1164 - val_accuracy: 0.9747\n",
            "Epoch 11/20\n",
            "1407/1407 [==============================] - 4s 3ms/step - loss: 0.0228 - accuracy: 0.9931 - val_loss: 0.1249 - val_accuracy: 0.9741\n",
            "Epoch 12/20\n",
            "1407/1407 [==============================] - 3s 2ms/step - loss: 0.0203 - accuracy: 0.9938 - val_loss: 0.1326 - val_accuracy: 0.9733\n",
            "Epoch 13/20\n",
            "1407/1407 [==============================] - 3s 2ms/step - loss: 0.0183 - accuracy: 0.9948 - val_loss: 0.1318 - val_accuracy: 0.9747\n",
            "Epoch 14/20\n",
            "1407/1407 [==============================] - 4s 3ms/step - loss: 0.0153 - accuracy: 0.9952 - val_loss: 0.1601 - val_accuracy: 0.9727\n",
            "Epoch 15/20\n",
            "1407/1407 [==============================] - 3s 2ms/step - loss: 0.0136 - accuracy: 0.9960 - val_loss: 0.1393 - val_accuracy: 0.9768\n",
            "Epoch 16/20\n",
            "1407/1407 [==============================] - 3s 2ms/step - loss: 0.0115 - accuracy: 0.9966 - val_loss: 0.1566 - val_accuracy: 0.9739\n",
            "Epoch 17/20\n",
            "1407/1407 [==============================] - 3s 2ms/step - loss: 0.0108 - accuracy: 0.9964 - val_loss: 0.1537 - val_accuracy: 0.9757\n",
            "Epoch 18/20\n",
            "1407/1407 [==============================] - 4s 3ms/step - loss: 0.0107 - accuracy: 0.9968 - val_loss: 0.1586 - val_accuracy: 0.9763\n",
            "Epoch 19/20\n",
            "1407/1407 [==============================] - 3s 2ms/step - loss: 0.0076 - accuracy: 0.9976 - val_loss: 0.1776 - val_accuracy: 0.9728\n",
            "Epoch 20/20\n",
            "1407/1407 [==============================] - 3s 2ms/step - loss: 0.0082 - accuracy: 0.9975 - val_loss: 0.1733 - val_accuracy: 0.9748\n"
          ]
        }
      ]
    },
    {
      "cell_type": "code",
      "source": [
        "history.history.keys()"
      ],
      "metadata": {
        "colab": {
          "base_uri": "https://localhost:8080/"
        },
        "id": "api3Ha4Ua1Lp",
        "outputId": "d0c8d694-94fb-4d9b-d401-c894ae0a6a96"
      },
      "execution_count": 39,
      "outputs": [
        {
          "output_type": "execute_result",
          "data": {
            "text/plain": [
              "dict_keys(['loss', 'accuracy', 'val_loss', 'val_accuracy'])"
            ]
          },
          "metadata": {},
          "execution_count": 39
        }
      ]
    },
    {
      "cell_type": "code",
      "source": [
        "plt.plot(history.history['loss'],label='train loss')\n",
        "plt.plot(history.history['val_loss'],label='val loss')\n",
        "plt.show()\n"
      ],
      "metadata": {
        "colab": {
          "base_uri": "https://localhost:8080/",
          "height": 430
        },
        "id": "fhfDESxceZXZ",
        "outputId": "3f0e55c4-ffb4-4dcd-ed04-43cfa55d20fb"
      },
      "execution_count": 40,
      "outputs": [
        {
          "output_type": "display_data",
          "data": {
            "text/plain": [
              "<Figure size 640x480 with 1 Axes>"
            ],
            "image/png": "[encoded data removed]"
          },
          "metadata": {}
        }
      ]
    },
    {
      "cell_type": "code",
      "source": [
        "plt.plot(history.history['accuracy'],label='train accuracy')\n",
        "plt.plot(history.history['val_accuracy'],label='val accuracy')\n",
        "plt.show()\n"
      ],
      "metadata": {
        "colab": {
          "base_uri": "https://localhost:8080/",
          "height": 430
        },
        "id": "7K2V0TOBeZaU",
        "outputId": "3bb2c574-07fb-4345-e2e2-a43258d53bc7"
      },
      "execution_count": 41,
      "outputs": [
        {
          "output_type": "display_data",
          "data": {
            "text/plain": [
              "<Figure size 640x480 with 1 Axes>"
            ],
            "image/png": "[encoded data removed]"
          },
          "metadata": {}
        }
      ]
    },
    {
      "cell_type": "code",
      "source": [
        "model.layers"
      ],
      "metadata": {
        "colab": {
          "base_uri": "https://localhost:8080/"
        },
        "id": "8C6uIt9qfR44",
        "outputId": "07272190-e3b4-4f2b-e5f2-47dcec6583fb"
      },
      "execution_count": 43,
      "outputs": [
        {
          "output_type": "execute_result",
          "data": {
            "text/plain": [
              "[<keras.engine.input_layer.InputLayer at 0x7ffa55f05b10>,\n",
              " <keras.layers.reshaping.flatten.Flatten at 0x7ffa55f04d30>,\n",
              " <keras.layers.core.dense.Dense at 0x7ffa55f04dc0>,\n",
              " <keras.layers.core.dense.Dense at 0x7ffa55f046d0>,\n",
              " <keras.layers.core.dense.Dense at 0x7ffa55f07850>]"
            ]
          },
          "metadata": {},
          "execution_count": 43
        }
      ]
    },
    {
      "cell_type": "code",
      "source": [
        "previous_layer = model.layers[2]\n",
        "previous_layer, previous_layer.output"
      ],
      "metadata": {
        "colab": {
          "base_uri": "https://localhost:8080/"
        },
        "id": "PgjeEr2weZdQ",
        "outputId": "bafa4ab0-5efd-44d4-c0ef-9b13ef9f97de"
      },
      "execution_count": 47,
      "outputs": [
        {
          "output_type": "execute_result",
          "data": {
            "text/plain": [
              "(<keras.layers.core.dense.Dense at 0x7ffa55f04dc0>,\n",
              " <KerasTensor: shape=(None, 100) dtype=float32 (created by layer 'input_layer')>)"
            ]
          },
          "metadata": {},
          "execution_count": 47
        }
      ]
    },
    {
      "cell_type": "code",
      "source": [
        "dropout_layer = tf.keras.layers.Dropout(0.25)(previous_layer.output)"
      ],
      "metadata": {
        "id": "VtWNkAnKhTkm"
      },
      "execution_count": 48,
      "outputs": []
    },
    {
      "cell_type": "code",
      "source": [
        "new_layer = tf.keras.layers.Dense(previous_layer.units,activation=previous_layer.activation)(dropout_layer)"
      ],
      "metadata": {
        "id": "U8aEWnHShTnn"
      },
      "execution_count": 49,
      "outputs": []
    },
    {
      "cell_type": "code",
      "source": [
        "new_model = tf.keras.Model(inputs=model.input, outputs=new_layer)\n",
        "new_model.summary()"
      ],
      "metadata": {
        "colab": {
          "base_uri": "https://localhost:8080/"
        },
        "id": "lWJ5K4F-hTqj",
        "outputId": "31545b5b-1e3a-44ec-f247-2b2bab89ee6f"
      },
      "execution_count": 50,
      "outputs": [
        {
          "output_type": "stream",
          "name": "stdout",
          "text": [
            "Model: \"model_1\"\n",
            "_________________________________________________________________\n",
            " Layer (type)                Output Shape              Param #   \n",
            "=================================================================\n",
            " input_6 (InputLayer)        [(None, 28, 28)]          0         \n",
            "                                                                 \n",
            " flatten_5 (Flatten)         (None, 784)               0         \n",
            "                                                                 \n",
            " input_layer (Dense)         (None, 100)               78500     \n",
            "                                                                 \n",
            " dropout (Dropout)           (None, 100)               0         \n",
            "                                                                 \n",
            " dense_3 (Dense)             (None, 100)               10100     \n",
            "                                                                 \n",
            "=================================================================\n",
            "Total params: 88,600\n",
            "Trainable params: 88,600\n",
            "Non-trainable params: 0\n",
            "_________________________________________________________________\n"
          ]
        }
      ]
    },
    {
      "cell_type": "code",
      "source": [
        "inputs = tf.keras.Input(shape=(28,28))\n",
        "x = tf.keras.layers.Flatten()(inputs)\n",
        "x = tf.keras.layers.Dense(100,activation='relu',name = 'input_layer')(x)\n",
        "x = tf.keras.layers.Dropout(0.25)(x)  # 과적합을 피하기위해서 신경망 규제기법\n",
        "x = tf.keras.layers.Dense(50,activation='relu',name = 'hidden_layer_1')(x)\n",
        "outputs = tf.keras.layers.Dense(10,activation='softmax',name = 'output_layer')(x)\n",
        "new_model2 = tf.keras.Model(inputs = inputs, outputs=outputs,name='my_model')\n",
        "new_model2.compile(loss=tf.keras.losses.sparse_categorical_crossentropy,  metrics='accuracy')\n",
        "history = new_model2.fit(x_train2,y_train2,epochs=20,validation_data=(x_val,y_val))"
      ],
      "metadata": {
        "colab": {
          "base_uri": "https://localhost:8080/"
        },
        "id": "O93b58XYig3H",
        "outputId": "5bb457db-add3-448e-9ea6-1d7f7e8c2afa"
      },
      "execution_count": 52,
      "outputs": [
        {
          "output_type": "stream",
          "name": "stdout",
          "text": [
            "Epoch 1/20\n",
            "1407/1407 [==============================] - 4s 3ms/step - loss: 0.3699 - accuracy: 0.8902 - val_loss: 0.1991 - val_accuracy: 0.9396\n",
            "Epoch 2/20\n",
            "1407/1407 [==============================] - 3s 2ms/step - loss: 0.1875 - accuracy: 0.9449 - val_loss: 0.1289 - val_accuracy: 0.9627\n",
            "Epoch 3/20\n",
            "1407/1407 [==============================] - 3s 2ms/step - loss: 0.1509 - accuracy: 0.9553 - val_loss: 0.1127 - val_accuracy: 0.9665\n",
            "Epoch 4/20\n",
            "1407/1407 [==============================] - 3s 2ms/step - loss: 0.1327 - accuracy: 0.9618 - val_loss: 0.1090 - val_accuracy: 0.9683\n",
            "Epoch 5/20\n",
            "1407/1407 [==============================] - 4s 3ms/step - loss: 0.1214 - accuracy: 0.9656 - val_loss: 0.1007 - val_accuracy: 0.9709\n",
            "Epoch 6/20\n",
            "1407/1407 [==============================] - 3s 2ms/step - loss: 0.1133 - accuracy: 0.9674 - val_loss: 0.1067 - val_accuracy: 0.9699\n",
            "Epoch 7/20\n",
            "1407/1407 [==============================] - 3s 2ms/step - loss: 0.1069 - accuracy: 0.9700 - val_loss: 0.0962 - val_accuracy: 0.9742\n",
            "Epoch 8/20\n",
            "1407/1407 [==============================] - 4s 3ms/step - loss: 0.1036 - accuracy: 0.9706 - val_loss: 0.1011 - val_accuracy: 0.9733\n",
            "Epoch 9/20\n",
            "1407/1407 [==============================] - 4s 3ms/step - loss: 0.0998 - accuracy: 0.9723 - val_loss: 0.0920 - val_accuracy: 0.9740\n",
            "Epoch 10/20\n",
            "1407/1407 [==============================] - 3s 2ms/step - loss: 0.0902 - accuracy: 0.9738 - val_loss: 0.0947 - val_accuracy: 0.9743\n",
            "Epoch 11/20\n",
            "1407/1407 [==============================] - 3s 2ms/step - loss: 0.0911 - accuracy: 0.9751 - val_loss: 0.1094 - val_accuracy: 0.9721\n",
            "Epoch 12/20\n",
            "1407/1407 [==============================] - 4s 2ms/step - loss: 0.0852 - accuracy: 0.9762 - val_loss: 0.1001 - val_accuracy: 0.9744\n",
            "Epoch 13/20\n",
            "1407/1407 [==============================] - 3s 2ms/step - loss: 0.0839 - accuracy: 0.9766 - val_loss: 0.1020 - val_accuracy: 0.9744\n",
            "Epoch 14/20\n",
            "1407/1407 [==============================] - 4s 3ms/step - loss: 0.0843 - accuracy: 0.9770 - val_loss: 0.1125 - val_accuracy: 0.9731\n",
            "Epoch 15/20\n",
            "1407/1407 [==============================] - 4s 3ms/step - loss: 0.0801 - accuracy: 0.9776 - val_loss: 0.0970 - val_accuracy: 0.9749\n",
            "Epoch 16/20\n",
            "1407/1407 [==============================] - 3s 2ms/step - loss: 0.0798 - accuracy: 0.9782 - val_loss: 0.1034 - val_accuracy: 0.9747\n",
            "Epoch 17/20\n",
            "1407/1407 [==============================] - 3s 2ms/step - loss: 0.0783 - accuracy: 0.9782 - val_loss: 0.1051 - val_accuracy: 0.9757\n",
            "Epoch 18/20\n",
            "1407/1407 [==============================] - 3s 2ms/step - loss: 0.0742 - accuracy: 0.9792 - val_loss: 0.1067 - val_accuracy: 0.9754\n",
            "Epoch 19/20\n",
            "1407/1407 [==============================] - 3s 2ms/step - loss: 0.0720 - accuracy: 0.9806 - val_loss: 0.1027 - val_accuracy: 0.9755\n",
            "Epoch 20/20\n",
            "1407/1407 [==============================] - 3s 2ms/step - loss: 0.0696 - accuracy: 0.9804 - val_loss: 0.1071 - val_accuracy: 0.9761\n"
          ]
        }
      ]
    },
    {
      "cell_type": "code",
      "source": [
        "plt.plot(history.history['loss'],label='train loss')\n",
        "plt.plot(history.history['val_loss'],label='val loss')\n",
        "plt.show()"
      ],
      "metadata": {
        "colab": {
          "base_uri": "https://localhost:8080/",
          "height": 430
        },
        "id": "DHsUi7guihAk",
        "outputId": "3e450a47-2152-4177-ea92-ce6a4face8db"
      },
      "execution_count": 53,
      "outputs": [
        {
          "output_type": "display_data",
          "data": {
            "text/plain": [
              "<Figure size 640x480 with 1 Axes>"
            ],
            "image/png": "[encoded data removed]"
          },
          "metadata": {}
        }
      ]
    },
    {
      "cell_type": "code",
      "source": [
        "plt.plot(history.history['accuracy'],label='train accuracy')\n",
        "plt.plot(history.history['val_accuracy'],label='val accuracy')\n",
        "plt.show()"
      ],
      "metadata": {
        "colab": {
          "base_uri": "https://localhost:8080/",
          "height": 430
        },
        "id": "v7QzC89LjwT1",
        "outputId": "12c3ee7a-cff6-4b1f-aeb1-c86fb18636a1"
      },
      "execution_count": 54,
      "outputs": [
        {
          "output_type": "display_data",
          "data": {
            "text/plain": [
              "<Figure size 640x480 with 1 Axes>"
            ],
            "image/png": "[encoded data removed]"
          },
          "metadata": {}
        }
      ]
    },
    {
      "cell_type": "code",
      "source": [
        "new_model2.evaluate(x_test,y_test)"
      ],
      "metadata": {
        "colab": {
          "base_uri": "https://localhost:8080/"
        },
        "id": "_Dsdldv2jwXO",
        "outputId": "320d1b24-1810-4039-a3f4-f3c81da3dbb2"
      },
      "execution_count": 55,
      "outputs": [
        {
          "output_type": "stream",
          "name": "stdout",
          "text": [
            "313/313 [==============================] - 0s 1ms/step - loss: 0.1091 - accuracy: 0.9761\n"
          ]
        },
        {
          "output_type": "execute_result",
          "data": {
            "text/plain": [
              "[0.10913492739200592, 0.9761000275611877]"
            ]
          },
          "metadata": {},
          "execution_count": 55
        }
      ]
    },
    {
      "cell_type": "markdown",
      "source": [
        "모델 저장 및 복원"
      ],
      "metadata": {
        "id": "DSGFqtiskATE"
      }
    },
    {
      "cell_type": "code",
      "source": [
        "new_model2.save_weights('model_weight.h5')"
      ],
      "metadata": {
        "id": "c20jxEpej_et"
      },
      "execution_count": 56,
      "outputs": []
    },
    {
      "cell_type": "code",
      "source": [
        "new_model2.load_weights('model_weight.h5')\n",
        "# compile을 지정하고 fit을 해야 추가 학습이 가능"
      ],
      "metadata": {
        "id": "SicivvLQj_it"
      },
      "execution_count": null,
      "outputs": []
    },
    {
      "cell_type": "code",
      "source": [
        "new_model2.save('model_whole.h5')\n",
        "new_model3 = tf.keras.models.load_model('model_whole.h5')"
      ],
      "metadata": {
        "id": "kM00tfzYj_mY"
      },
      "execution_count": 57,
      "outputs": []
    },
    {
      "cell_type": "code",
      "source": [
        "new_model3.evaluate(x_test,y_test)"
      ],
      "metadata": {
        "colab": {
          "base_uri": "https://localhost:8080/"
        },
        "id": "vuWVc2x7j_p4",
        "outputId": "e928b024-f95f-497f-b2ad-964aa8237027"
      },
      "execution_count": 58,
      "outputs": [
        {
          "output_type": "stream",
          "name": "stdout",
          "text": [
            "313/313 [==============================] - 0s 1ms/step - loss: 0.1091 - accuracy: 0.9761\n"
          ]
        },
        {
          "output_type": "execute_result",
          "data": {
            "text/plain": [
              "[0.10913492739200592, 0.9761000275611877]"
            ]
          },
          "metadata": {},
          "execution_count": 58
        }
      ]
    },
    {
      "cell_type": "markdown",
      "source": [
        "- 함수\n",
        "  - 생성한 함수는 사용자가 직접호출하는 방식\n",
        "- 콜백\n",
        "  - 사용자가 함수를 제공하면.. 시스템이 적당한 시점에 알아서 호출\n",
        "  - Event Function\n",
        "    - 키보드를 클릭하면, 마우스를 움직이면, 왼쪽버튼을 클릭하면...\n"
      ],
      "metadata": {
        "id": "ZgD5eMoclD_k"
      }
    },
    {
      "cell_type": "code",
      "source": [
        "# 모델학습이 끝나면 알아서 모델을 저장해라..\n",
        "# 저장될 파일명을 제공\n",
        "checkpoint_cb = tf.keras.callbacks.ModelCheckpoint('best_model.h5')"
      ],
      "metadata": {
        "id": "xUSClXO-lDE2"
      },
      "execution_count": 60,
      "outputs": []
    },
    {
      "cell_type": "code",
      "source": [
        "inputs = tf.keras.Input(shape=(28,28))\n",
        "x = tf.keras.layers.Flatten()(inputs)\n",
        "x = tf.keras.layers.Dense(100,activation='relu',name = 'input_layer')(x)\n",
        "x = tf.keras.layers.Dropout(0.25)(x)  # 과적합을 피하기위해서 신경망 규제기법\n",
        "x = tf.keras.layers.Dense(50,activation='relu',name = 'hidden_layer_1')(x)\n",
        "outputs = tf.keras.layers.Dense(10,activation='softmax',name = 'output_layer')(x)\n",
        "checkpoint_model = tf.keras.Model(inputs = inputs, outputs=outputs,name='my_model')\n",
        "checkpoint_model.compile(loss=tf.keras.losses.sparse_categorical_crossentropy,  metrics=['accuracy'])\n",
        "history = checkpoint_model.fit(x_train2,y_train2,epochs=20,validation_data=(x_val,y_val), callbacks=[checkpoint_cb])"
      ],
      "metadata": {
        "colab": {
          "base_uri": "https://localhost:8080/"
        },
        "id": "jEkfBOzblDHU",
        "outputId": "28d68f4a-76aa-48b7-f678-749f0e6dad08"
      },
      "execution_count": 61,
      "outputs": [
        {
          "output_type": "stream",
          "name": "stdout",
          "text": [
            "Epoch 1/20\n",
            "1407/1407 [==============================] - 4s 2ms/step - loss: 0.3616 - accuracy: 0.8924 - val_loss: 0.1737 - val_accuracy: 0.9483\n",
            "Epoch 2/20\n",
            "1407/1407 [==============================] - 4s 3ms/step - loss: 0.1898 - accuracy: 0.9437 - val_loss: 0.1415 - val_accuracy: 0.9585\n",
            "Epoch 3/20\n",
            "1407/1407 [==============================] - 3s 2ms/step - loss: 0.1549 - accuracy: 0.9546 - val_loss: 0.1202 - val_accuracy: 0.9655\n",
            "Epoch 4/20\n",
            "1407/1407 [==============================] - 3s 2ms/step - loss: 0.1387 - accuracy: 0.9598 - val_loss: 0.1137 - val_accuracy: 0.9663\n",
            "Epoch 5/20\n",
            "1407/1407 [==============================] - 4s 3ms/step - loss: 0.1249 - accuracy: 0.9644 - val_loss: 0.1162 - val_accuracy: 0.9674\n",
            "Epoch 6/20\n",
            "1407/1407 [==============================] - 3s 2ms/step - loss: 0.1147 - accuracy: 0.9673 - val_loss: 0.0971 - val_accuracy: 0.9728\n",
            "Epoch 7/20\n",
            "1407/1407 [==============================] - 3s 2ms/step - loss: 0.1028 - accuracy: 0.9704 - val_loss: 0.0967 - val_accuracy: 0.9732\n",
            "Epoch 8/20\n",
            "1407/1407 [==============================] - 3s 2ms/step - loss: 0.1039 - accuracy: 0.9710 - val_loss: 0.1029 - val_accuracy: 0.9715\n",
            "Epoch 9/20\n",
            "1407/1407 [==============================] - 4s 3ms/step - loss: 0.0969 - accuracy: 0.9726 - val_loss: 0.0943 - val_accuracy: 0.9749\n",
            "Epoch 10/20\n",
            "1407/1407 [==============================] - 3s 2ms/step - loss: 0.0917 - accuracy: 0.9738 - val_loss: 0.0931 - val_accuracy: 0.9762\n",
            "Epoch 11/20\n",
            "1407/1407 [==============================] - 3s 2ms/step - loss: 0.0894 - accuracy: 0.9750 - val_loss: 0.0905 - val_accuracy: 0.9776\n",
            "Epoch 12/20\n",
            "1407/1407 [==============================] - 3s 2ms/step - loss: 0.0858 - accuracy: 0.9760 - val_loss: 0.0954 - val_accuracy: 0.9767\n",
            "Epoch 13/20\n",
            "1407/1407 [==============================] - 3s 2ms/step - loss: 0.0843 - accuracy: 0.9766 - val_loss: 0.0960 - val_accuracy: 0.9770\n",
            "Epoch 14/20\n",
            "1407/1407 [==============================] - 3s 2ms/step - loss: 0.0786 - accuracy: 0.9781 - val_loss: 0.1039 - val_accuracy: 0.9755\n",
            "Epoch 15/20\n",
            "1407/1407 [==============================] - 3s 2ms/step - loss: 0.0773 - accuracy: 0.9791 - val_loss: 0.1055 - val_accuracy: 0.9757\n",
            "Epoch 16/20\n",
            "1407/1407 [==============================] - 4s 3ms/step - loss: 0.0775 - accuracy: 0.9786 - val_loss: 0.0962 - val_accuracy: 0.9764\n",
            "Epoch 17/20\n",
            "1407/1407 [==============================] - 3s 2ms/step - loss: 0.0754 - accuracy: 0.9796 - val_loss: 0.1009 - val_accuracy: 0.9774\n",
            "Epoch 18/20\n",
            "1407/1407 [==============================] - 3s 2ms/step - loss: 0.0736 - accuracy: 0.9796 - val_loss: 0.1042 - val_accuracy: 0.9777\n",
            "Epoch 19/20\n",
            "1407/1407 [==============================] - 3s 2ms/step - loss: 0.0721 - accuracy: 0.9803 - val_loss: 0.1067 - val_accuracy: 0.9757\n",
            "Epoch 20/20\n",
            "1407/1407 [==============================] - 4s 3ms/step - loss: 0.0705 - accuracy: 0.9802 - val_loss: 0.1052 - val_accuracy: 0.9773\n"
          ]
        }
      ]
    },
    {
      "cell_type": "code",
      "source": [
        "#  load to best model\n",
        "best_model = tf.keras.models.load_model('best_model.h5')\n",
        "best_model.evaluate(x_test,y_test)"
      ],
      "metadata": {
        "colab": {
          "base_uri": "https://localhost:8080/"
        },
        "id": "XspM4BpJlDKS",
        "outputId": "9f093070-3044-4eb7-ea06-eac5abbd718c"
      },
      "execution_count": 62,
      "outputs": [
        {
          "output_type": "stream",
          "name": "stdout",
          "text": [
            "313/313 [==============================] - 1s 2ms/step - loss: 0.1043 - accuracy: 0.9776\n"
          ]
        },
        {
          "output_type": "execute_result",
          "data": {
            "text/plain": [
              "[0.1043064296245575, 0.9775999784469604]"
            ]
          },
          "metadata": {},
          "execution_count": 62
        }
      ]
    },
    {
      "cell_type": "markdown",
      "source": [
        "조기종료 Early Stopping"
      ],
      "metadata": {
        "id": "4SQ7n8_kneSY"
      }
    },
    {
      "cell_type": "code",
      "source": [
        "early_stopping_cb = tf.keras.callbacks.EarlyStopping(patience=2,restore_best_weights=True)"
      ],
      "metadata": {
        "id": "HGiRVoholDNo"
      },
      "execution_count": 63,
      "outputs": []
    },
    {
      "cell_type": "code",
      "source": [
        "inputs = tf.keras.Input(shape=(28,28))\n",
        "x = tf.keras.layers.Flatten()(inputs)\n",
        "x = tf.keras.layers.Dense(100,activation='relu',name = 'input_layer')(x)\n",
        "x = tf.keras.layers.Dropout(0.25)(x)  # 과적합을 피하기위해서 신경망 규제기법\n",
        "x = tf.keras.layers.Dense(50,activation='relu',name = 'hidden_layer_1')(x)\n",
        "outputs = tf.keras.layers.Dense(10,activation='softmax',name = 'output_layer')(x)\n",
        "checkpoint_model = tf.keras.Model(inputs = inputs, outputs=outputs,name='my_model')\n",
        "checkpoint_model.compile(loss=tf.keras.losses.sparse_categorical_crossentropy,  metrics=['accuracy'])\n",
        "history = checkpoint_model.fit(x_train2,y_train2,epochs=100,validation_data=(x_val,y_val), callbacks=[checkpoint_cb,early_stopping_cb])"
      ],
      "metadata": {
        "colab": {
          "base_uri": "https://localhost:8080/"
        },
        "id": "SKh7T8KpoVuG",
        "outputId": "aff53419-7091-4c8f-bd12-2e933d344a9a"
      },
      "execution_count": 64,
      "outputs": [
        {
          "output_type": "stream",
          "name": "stdout",
          "text": [
            "Epoch 1/100\n",
            "1407/1407 [==============================] - 4s 2ms/step - loss: 0.3673 - accuracy: 0.8911 - val_loss: 0.1774 - val_accuracy: 0.9460\n",
            "Epoch 2/100\n",
            "1407/1407 [==============================] - 3s 2ms/step - loss: 0.1950 - accuracy: 0.9430 - val_loss: 0.1343 - val_accuracy: 0.9588\n",
            "Epoch 3/100\n",
            "1407/1407 [==============================] - 4s 3ms/step - loss: 0.1537 - accuracy: 0.9548 - val_loss: 0.1159 - val_accuracy: 0.9651\n",
            "Epoch 4/100\n",
            "1407/1407 [==============================] - 3s 2ms/step - loss: 0.1355 - accuracy: 0.9596 - val_loss: 0.1171 - val_accuracy: 0.9654\n",
            "Epoch 5/100\n",
            "1407/1407 [==============================] - 3s 2ms/step - loss: 0.1233 - accuracy: 0.9648 - val_loss: 0.1033 - val_accuracy: 0.9702\n",
            "Epoch 6/100\n",
            "1407/1407 [==============================] - 3s 2ms/step - loss: 0.1135 - accuracy: 0.9679 - val_loss: 0.1047 - val_accuracy: 0.9707\n",
            "Epoch 7/100\n",
            "1407/1407 [==============================] - 4s 3ms/step - loss: 0.1074 - accuracy: 0.9687 - val_loss: 0.1051 - val_accuracy: 0.9707\n"
          ]
        }
      ]
    },
    {
      "cell_type": "code",
      "source": [
        "early_stopping_cb.stopped_epoch"
      ],
      "metadata": {
        "colab": {
          "base_uri": "https://localhost:8080/"
        },
        "id": "SvvYIc9Wj_tK",
        "outputId": "f8cb0da8-d1f2-439e-bd23-02feacaec696"
      },
      "execution_count": 65,
      "outputs": [
        {
          "output_type": "execute_result",
          "data": {
            "text/plain": [
              "6"
            ]
          },
          "metadata": {},
          "execution_count": 65
        }
      ]
    },
    {
      "cell_type": "code",
      "source": [
        "plt.plot(history.history['loss'],label='train loss')\n",
        "plt.plot(history.history['val_loss'],label='val loss')\n",
        "plt.show()"
      ],
      "metadata": {
        "colab": {
          "base_uri": "https://localhost:8080/",
          "height": 430
        },
        "id": "z1WCEsZqpJak",
        "outputId": "8e1bf85b-85bd-48d1-caf8-c11674acdb70"
      },
      "execution_count": 67,
      "outputs": [
        {
          "output_type": "display_data",
          "data": {
            "text/plain": [
              "<Figure size 640x480 with 1 Axes>"
            ],
            "image/png": "[encoded data removed]"
          },
          "metadata": {}
        }
      ]
    },
    {
      "cell_type": "markdown",
      "source": [],
      "metadata": {
        "id": "JWn4cg6UfL-U"
      }
    },
    {
      "cell_type": "code",
      "source": [],
      "metadata": {
        "id": "kQ5UOp5ea1Og"
      },
      "execution_count": null,
      "outputs": []
    },
    {
      "cell_type": "markdown",
      "source": [],
      "metadata": {
        "id": "vz2tEGE2aOaU"
      }
    },
    {
      "cell_type": "code",
      "source": [
        "class TempClass():\n",
        "  def __init__(self) -> None:\n",
        "    pass\n",
        "  def __call__(self,x):\n",
        "    print(\"호출되었습니다\")"
      ],
      "metadata": {
        "id": "8jzAS-x0VEoI"
      },
      "execution_count": 9,
      "outputs": []
    },
    {
      "cell_type": "code",
      "source": [
        "TempClass()(10)\n"
      ],
      "metadata": {
        "colab": {
          "base_uri": "https://localhost:8080/"
        },
        "id": "wIfACMifVV9-",
        "outputId": "04d0a8c3-d45b-45bd-92e7-8627bee18fea"
      },
      "execution_count": 12,
      "outputs": [
        {
          "output_type": "stream",
          "name": "stdout",
          "text": [
            "호출되었습니다\n"
          ]
        }
      ]
    },
    {
      "cell_type": "code",
      "source": [
        "checkpoint_model.layers"
      ],
      "metadata": {
        "colab": {
          "base_uri": "https://localhost:8080/"
        },
        "id": "LZxrdjNdVe1j",
        "outputId": "d6141a1b-07a6-4e67-a6c1-292ef5946b78"
      },
      "execution_count": 68,
      "outputs": [
        {
          "output_type": "execute_result",
          "data": {
            "text/plain": [
              "[<keras.engine.input_layer.InputLayer at 0x7ffa55e678e0>,\n",
              " <keras.layers.reshaping.flatten.Flatten at 0x7ffa55e655d0>,\n",
              " <keras.layers.core.dense.Dense at 0x7ffa5d986e60>,\n",
              " <keras.layers.regularization.dropout.Dropout at 0x7ffa55f31030>,\n",
              " <keras.layers.core.dense.Dense at 0x7ffa5d9869e0>,\n",
              " <keras.layers.core.dense.Dense at 0x7ffa5d5fb220>]"
            ]
          },
          "metadata": {},
          "execution_count": 68
        }
      ]
    },
    {
      "cell_type": "code",
      "source": [
        "checkpoint_model.summary()"
      ],
      "metadata": {
        "colab": {
          "base_uri": "https://localhost:8080/"
        },
        "id": "8D9DXHIitGib",
        "outputId": "8e2c4628-3c1f-412a-d0da-94615a483bd3"
      },
      "execution_count": 69,
      "outputs": [
        {
          "output_type": "stream",
          "name": "stdout",
          "text": [
            "Model: \"my_model\"\n",
            "_________________________________________________________________\n",
            " Layer (type)                Output Shape              Param #   \n",
            "=================================================================\n",
            " input_10 (InputLayer)       [(None, 28, 28)]          0         \n",
            "                                                                 \n",
            " flatten_9 (Flatten)         (None, 784)               0         \n",
            "                                                                 \n",
            " input_layer (Dense)         (None, 100)               78500     \n",
            "                                                                 \n",
            " dropout_4 (Dropout)         (None, 100)               0         \n",
            "                                                                 \n",
            " hidden_layer_1 (Dense)      (None, 50)                5050      \n",
            "                                                                 \n",
            " output_layer (Dense)        (None, 10)                510       \n",
            "                                                                 \n",
            "=================================================================\n",
            "Total params: 84,060\n",
            "Trainable params: 84,060\n",
            "Non-trainable params: 0\n",
            "_________________________________________________________________\n"
          ]
        }
      ]
    },
    {
      "cell_type": "code",
      "source": [
        "add_layer = checkpoint_model.layers[-2].output"
      ],
      "metadata": {
        "id": "PiXVuJ1ntKq8"
      },
      "execution_count": 79,
      "outputs": []
    },
    {
      "cell_type": "code",
      "source": [
        "new_layer = tf.keras.layers.Dropout(0.5)(add_layer)\n",
        "new_layer"
      ],
      "metadata": {
        "colab": {
          "base_uri": "https://localhost:8080/"
        },
        "id": "Ro2AE9EVtY7B",
        "outputId": "61441cc5-57f1-411b-8afb-ee5c7708e38e"
      },
      "execution_count": 80,
      "outputs": [
        {
          "output_type": "execute_result",
          "data": {
            "text/plain": [
              "<KerasTensor: shape=(None, 50) dtype=float32 (created by layer 'dropout_6')>"
            ]
          },
          "metadata": {},
          "execution_count": 80
        }
      ]
    },
    {
      "cell_type": "code",
      "source": [
        "outputs = checkpoint_model.layers[-1](new_layer)"
      ],
      "metadata": {
        "id": "QM_DBpC7udqQ"
      },
      "execution_count": 81,
      "outputs": []
    },
    {
      "cell_type": "code",
      "source": [
        "new_model = tf.keras.Model(inputs=checkpoint_model.inputs,outputs=outputs)"
      ],
      "metadata": {
        "id": "o8d3q2I2tu9C"
      },
      "execution_count": 82,
      "outputs": []
    },
    {
      "cell_type": "code",
      "source": [
        "new_model.summary()"
      ],
      "metadata": {
        "colab": {
          "base_uri": "https://localhost:8080/"
        },
        "id": "ackm4DGhuFRV",
        "outputId": "487c0735-1013-40eb-d970-6db0beffbf83"
      },
      "execution_count": 83,
      "outputs": [
        {
          "output_type": "stream",
          "name": "stdout",
          "text": [
            "Model: \"model_3\"\n",
            "_________________________________________________________________\n",
            " Layer (type)                Output Shape              Param #   \n",
            "=================================================================\n",
            " input_10 (InputLayer)       [(None, 28, 28)]          0         \n",
            "                                                                 \n",
            " flatten_9 (Flatten)         (None, 784)               0         \n",
            "                                                                 \n",
            " input_layer (Dense)         (None, 100)               78500     \n",
            "                                                                 \n",
            " dropout_4 (Dropout)         (None, 100)               0         \n",
            "                                                                 \n",
            " hidden_layer_1 (Dense)      (None, 50)                5050      \n",
            "                                                                 \n",
            " dropout_6 (Dropout)         (None, 50)                0         \n",
            "                                                                 \n",
            " output_layer (Dense)        (None, 10)                510       \n",
            "                                                                 \n",
            "=================================================================\n",
            "Total params: 84,060\n",
            "Trainable params: 84,060\n",
            "Non-trainable params: 0\n",
            "_________________________________________________________________\n"
          ]
        }
      ]
    },
    {
      "cell_type": "markdown",
      "source": [
        "기존 모델에 레이아웃을 추가하는 방법\n",
        "  - 모델을 불러온다.\n",
        "  - layers()를 이용해서 추가하려는 레이어 인덱스 번호를 취득한다\n",
        "  - 추가하려는 레이어를 만들고 funtional api방식으로 추가\n",
        "    - 새로운 레이어(추가하려는 레이어)\n",
        "  - 나머지도 같이 연결"
      ],
      "metadata": {
        "id": "E2QeZqthuxxG"
      }
    },
    {
      "cell_type": "code",
      "source": [
        "inputs = tf.keras.Input(shape = (28,28))\n",
        "x = tf.keras.layers.Flatten()(inputs)\n",
        "x = tf.keras.layers.Dense(100,activation='sigmoid')(x)\n",
        "outputs = tf.keras.layers.Dense(10,activation='softmax')(x)\n",
        "model = tf.keras.Model(inputs = inputs, outputs = outputs)\n",
        "model.summary()"
      ],
      "metadata": {
        "colab": {
          "base_uri": "https://localhost:8080/"
        },
        "id": "LvpJKzHGvJWC",
        "outputId": "f849a528-8fec-4ff9-f15a-51a666e87b83"
      },
      "execution_count": 87,
      "outputs": [
        {
          "output_type": "stream",
          "name": "stdout",
          "text": [
            "Model: \"model_5\"\n",
            "_________________________________________________________________\n",
            " Layer (type)                Output Shape              Param #   \n",
            "=================================================================\n",
            " input_14 (InputLayer)       [(None, 28, 28)]          0         \n",
            "                                                                 \n",
            " flatten_10 (Flatten)        (None, 784)               0         \n",
            "                                                                 \n",
            " dense_7 (Dense)             (None, 100)               78500     \n",
            "                                                                 \n",
            " dense_8 (Dense)             (None, 10)                1010      \n",
            "                                                                 \n",
            "=================================================================\n",
            "Total params: 79,510\n",
            "Trainable params: 79,510\n",
            "Non-trainable params: 0\n",
            "_________________________________________________________________\n"
          ]
        }
      ]
    },
    {
      "cell_type": "code",
      "source": [
        "add_poin_layer = model.layers[-2].output\n",
        "dropout_layer = tf.keras.layers.Dropout(0.25)(add_poin_layer)\n",
        "outputs = model.layers[-1]\n",
        "outputs = outputs(dropout_layer)"
      ],
      "metadata": {
        "id": "4dZHu_0yvxCK"
      },
      "execution_count": 91,
      "outputs": []
    },
    {
      "cell_type": "code",
      "source": [
        "model2 = tf.keras.Model(inputs = model.input, outputs = outputs)\n",
        "model2.summary()"
      ],
      "metadata": {
        "colab": {
          "base_uri": "https://localhost:8080/"
        },
        "id": "MRDEfdyvwtas",
        "outputId": "ded7ecdb-9ade-487a-d839-05648ee04198"
      },
      "execution_count": 92,
      "outputs": [
        {
          "output_type": "stream",
          "name": "stdout",
          "text": [
            "Model: \"model_6\"\n",
            "_________________________________________________________________\n",
            " Layer (type)                Output Shape              Param #   \n",
            "=================================================================\n",
            " input_14 (InputLayer)       [(None, 28, 28)]          0         \n",
            "                                                                 \n",
            " flatten_10 (Flatten)        (None, 784)               0         \n",
            "                                                                 \n",
            " dense_7 (Dense)             (None, 100)               78500     \n",
            "                                                                 \n",
            " dropout_10 (Dropout)        (None, 100)               0         \n",
            "                                                                 \n",
            " dense_8 (Dense)             (None, 10)                1010      \n",
            "                                                                 \n",
            "=================================================================\n",
            "Total params: 79,510\n",
            "Trainable params: 79,510\n",
            "Non-trainable params: 0\n",
            "_________________________________________________________________\n"
          ]
        }
      ]
    },
    {
      "cell_type": "code",
      "source": [],
      "metadata": {
        "id": "ty-9LsBow_wM"
      },
      "execution_count": null,
      "outputs": []
    }
  ]
}