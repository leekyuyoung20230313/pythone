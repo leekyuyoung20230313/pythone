{
  "nbformat": 4,
  "nbformat_minor": 0,
  "metadata": {
    "colab": {
      "provenance": [],
      "gpuType": "T4"
    },
    "kernelspec": {
      "name": "python3",
      "display_name": "Python 3"
    },
    "language_info": {
      "name": "python"
    }
  },
  "cells": [
    {
      "cell_type": "markdown",
      "source": [
        "손실함수\n",
        "  - 오차제곱합\n",
        "  - 교차 엔트로피\n",
        "\n",
        "  ![image.png](data:image/png;base64,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)"
      ],
      "metadata": {
        "id": "XvxtVmzbLjGa"
      }
    },
    {
      "cell_type": "code",
      "execution_count": 78,
      "metadata": {
        "id": "AIZr-zKwLDg6"
      },
      "outputs": [],
      "source": [
        "# 미분을 수월하게 하기위해서, 신경망에서 학습은 경사하강법-미분관 관련\n",
        "import numpy as np\n",
        "def sum_squres_erros(y,t):\n",
        "  return np.sum((y-t)**2)*0.5"
      ]
    },
    {
      "cell_type": "code",
      "source": [
        "t = np.array([0,0,1,0,0,0,0,0,0,0])\n",
        "y = np.array([0.1,0.05,0.6,0.0,0.05,0.1,0.0,0.1,0.0,0.0])\n",
        "print(sum_squres_erros(t,y))\n",
        "\n",
        "y = np.array([0.1,0.05,0.1,0.0,0.05,0.1,0.0,0.6,0.0,0.0])\n",
        "print(sum_squres_erros(t,y))"
      ],
      "metadata": {
        "colab": {
          "base_uri": "https://localhost:8080/"
        },
        "id": "wUtyQVeFMZYG",
        "outputId": "cdab4506-01de-41bb-853d-77afde38c370"
      },
      "execution_count": 79,
      "outputs": [
        {
          "output_type": "stream",
          "name": "stdout",
          "text": [
            "0.09750000000000003\n",
            "0.5975\n"
          ]
        }
      ]
    },
    {
      "cell_type": "markdown",
      "source": [
        "교차엔트로피\n",
        "\n",
        "![image.png](data:image/png;base64,iVBORw0KGgoAAAANSUhEUgAAAJcAAAAuCAYAAAAlWovEAAAHbklEQVR4nO2aW0hUWxjH/6M5Btp4HWQUywqbEIuIyFELhW5mYRmk0kUNLCqMEmMyKiGiG/ZiQYUPWi+mo0GUGZY26kviJdvWkJrdSKOsbHJ01K3u7zzMOXOQ0dROS0/O+sHA7DXft9a31/z33v9Zs2REROBwGOAw3QVwZi5cXBxmcHFxmMHFxWEGFxeHGVxcHGbMmu4CpgJRFCGK4qRynJyc4OzszKgi+8AuxFVWVoaYmBiEh4cjODh4zLje3l48f/4cgiBg06ZNKCkpmcIqZx4ye1lETU5ORmVlJZ49ewZ3d/efxt69exeJiYl48+YNPD09p6jCmYfdiKu3txcrVqxAUFAQiouLIZPJfhpfWFgIk8mElJSUKapw5mE3ht7FxQU6nQ6lpaW4evXquPFxcXFwcXH5pbGICIIg4PPnz7+UP2MghgiCQJGRkeTl5UWnT5+mkydP0t69e8nPz486OjpYDj0mOTk5JJfLqbGxkdkYubm5BID0ej2zMf4EmIqLiCgmJoa2bNkyou3y5cskSRLroUdFkiSKj4+nwMBA6u7u/qU+WlpaqK+v76cx3t7edi8upo/FoaEhVFdXIyoqCgBgNpthNpuxZ8+ecT0PK2QyGXJyciBJEg4cOACapOUUBAHJycnjLlM4OjqOOO7r68OTJ09QW1trsyxiNpuh1+thMBjGrGd4eNj6XpKkSdU8XTAVV11dHYxGI6KiotDT04OzZ8/C0dERrq6uNrFNTU0oKSkZ8/Xq1avfVpdCoYBOp0NRURH0ev2E896+fYuDBw/CwcEBOp1uwnlPnz7F/v374enpiZaWFmg0GrS3twMAOjs7ERsbC6VSiaysLMybNw+ZmZnW3NevX2P37t3YsWMHAODHjx/w9/fHwMDAhMefLpiuc5WVlUGlUiEvLw+tra3o7+8f84oXBAFVVVVj9rV161YEBgZaj798+YLDhw+PW0N2djaUSqVNu0KhQGxsLCIiIiZwJhbmz58PpVKJhIQExMfHQxRFXL9+Hfv27cPs2bPHzEtJSUF2djbUajXUajXKy8uh1WqRn5+PGzduQKlUIjg4GKmpqSgoKMCpU6esuQsXLsSVK1egUqnw/ft3eHh4IC0tDXK5HJ8+fUJJScn/9xcty2euRqOhQ4cOEZHF69y6dYvlcBPGZDJRTEwMffv2bVJ5g4OD5O7uTp2dndY2rVY7aqyPjw/p9Xrq7u4mAGQwGKyf5eXlkZ+fHxFZfmCo1WoiIurq6iJvb+9R/ahGo6Hbt2+TJEmUn59PRJY5PXbs2KTOYSphdufq6upCbW0tjh8/DsDidRISEiCKIkwmE7y8vEbEFxcXo6amZsz+oqKisHbt2v9cFxEhNTUVZ86cmfQCaX19PQICAqx3QvrbHxkMBrx//x7R0dE2Oc7Ozpg1axY+fPiAoKAgAJa7pkKhAAAkJiaioqICmZmZcHJyQkFBwah+NCIiAhUVFXBzc7POQ3NzM9RqNaqrq+Hs7IyQkJBJnQ9rmInr0aNHICKsWrXK2jY0NIS0tDScO3fOJt7f3x/9/f1j9ufj4/Nb6rpw4QKio6OxdOnScWNra2uxcuVK63FFRQXWrVuH1tZWLFq0CM3NzTAajZgzZw78/f1H5A4PD0OSJMjlcmzevBk6nQ4bNmwAYPGX27ZtA2DxUBqNBkeOHPlpLREREThx4gTCwsKwZs0aAEBlZSWGh4cRFBQEo9E4qXmYCpiI6+XLl7h48SIAy5fp6uqKjx8/orS0FJGRkXBzc7PJCQkJYX7lPXjwAN3d3YiLixs3VhAE6PX6EeISBAGSJFn9VWVlJcLCwtDQ0ID169db427evImvX7+isLAQy5Ytw7Vr15CUlISsrCyoVCoYjUbrBVZTU4OMjAxcunQJbm5uWLx4MbRarc1chIeHg4isogSAtrY2BAQEoKenByqV6j/NDROm96k8dbS2tlJcXBwNDg6OG1tdXU0LFiywWWg1Go0kiqL1OD09ncxmM2m1Wqqvrx+3366uLjKbzSPacnNzqaqqijo6OqixsZHu379P6enpNrlNTU0jfJskSXT06FF6+PAh5eXl0bt378Ydf6qxi/8WTSYTQkNDsXr1ahuvB1i808DAgNUnGgwG+Pr6or29fULrcQMDA7+0Paevrw9z586FIAjw9fUFEaGtrQ0NDQ1ISEgAYPF53t7eaGtrG9VzEhFEUfxfbg+yC3E9fvwYpaWlk8pZsmQJkpKSGFX0L+fPn0dRURFkMhlUKhXi4+Oxc+dOODg4YGhoCBs3bkRSUhJ27drFvJbfjV2IizM92M2uCM7UY9fi6uzsxL1796a7jBmLXYvLy8uLb2VmiF17rrq6Orx48QIeHh4IDQ39bQu1HAt2fecqLy+HQqGASqXiwmKAXYurubkZd+7cwfLly6e7lBmJ3YrLbDbD09MT27dvR0ZGxh+xP+pPw6491z+Iogi5XD7dZcw4uLg4zLDbxyKHPVxcHGZwcXGYwcXFYQYXF4cZXFwcZnBxcZjBxcVhBhcXhxlcXBxmcHFxmMHFxWHGX8kuSU8dkS9+AAAAAElFTkSuQmCC)"
      ],
      "metadata": {
        "id": "RVY5Y10SNO3L"
      }
    },
    {
      "cell_type": "code",
      "source": [
        "# tk는 원핫인코딩\n",
        "# 정답레이블 2 신경망 출력0.6\n",
        "# -log0.6 =0.51\n",
        "# 출력 0.1  -log0.1  = 2.30\n",
        "\n",
        "# no.log --> 0을 입력하면 -inf(마이너스 무한대)\n",
        "def corss_entropy_error(y,t):\n",
        "  delta = 1e-7\n",
        "  return -np.sum(t*np.log(y+delta))"
      ],
      "metadata": {
        "id": "wE6ijlYPMqaC"
      },
      "execution_count": 80,
      "outputs": []
    },
    {
      "cell_type": "code",
      "source": [
        "t = np.array([0,0,1,0,0,0,0,0,0,0])\n",
        "y = np.array([0.1,0.05,0.6,0.0,0.05,0.1,0.0,0.1,0.0,0.0])\n",
        "print(corss_entropy_error(t,y))\n",
        "\n",
        "y = np.array([0.1,0.05,0.1,0.0,0.05,0.1,0.0,0.6,0.0,0.0])\n",
        "print(corss_entropy_error(t,y))"
      ],
      "metadata": {
        "colab": {
          "base_uri": "https://localhost:8080/"
        },
        "id": "9LZrYcSgOSUC",
        "outputId": "b3b956f0-114c-4bae-8f65-f10ed1014e31"
      },
      "execution_count": 81,
      "outputs": [
        {
          "output_type": "stream",
          "name": "stdout",
          "text": [
            "6.447238200383332\n",
            "14.50628607586249\n"
          ]
        }
      ]
    },
    {
      "cell_type": "markdown",
      "source": [
        "미니배치  교차엔트로피\n",
        "\n",
        "![image.png](data:image/png;base64,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)\n",
        "  "
      ],
      "metadata": {
        "id": "XflZWTRAOvxK"
      }
    },
    {
      "cell_type": "code",
      "source": [
        "# t:정답, y:예측\n",
        "# t가 원핫이고  t = 0이면 교차엔트로피 오차도 0 ->출력값만으로 교차엔트로피 계산\n",
        "def corss_entropy_error(y,t):\n",
        "  delta = 1e-7\n",
        "  if y.ndim == 1:\n",
        "    t = t.reshape(1,t.size)\n",
        "    y = y.reshape(1,y.size)\n",
        "  batch_size = y.shape[0]\n",
        "  return -np.sum(t*np.log(y[np.arrange(batch_size),t ]+delta)) / batch_size"
      ],
      "metadata": {
        "id": "-AwxhtNnOh7K"
      },
      "execution_count": 82,
      "outputs": []
    },
    {
      "cell_type": "code",
      "source": [
        "# 매 학습마다 손실함수를 이용한 값이 작아지도록 가중치와 편향을 찾아내는 작업 - 학습\n",
        "# 미분 : 가중치의 변화량에 대한 손실함수의 변화량\n",
        "# 미분이 음수 : 가중치를 양의방향으로 변화->손실함수의 값을 줄임\n",
        "# 미분이 양수 : 가중치를 음의방향으로 변화->손실함수의 값을 줄임\n",
        "# 활성화함수 : 계단함수... 0 1  -> 정확도... 미분을 하면 거의 0이고  이 으미는 미세한 변화를 감지x\n",
        "# 시그모이드.... 미세한 변화도 감지.. 미분가능"
      ],
      "metadata": {
        "id": "T6btVlglQTV7"
      },
      "execution_count": 83,
      "outputs": []
    },
    {
      "cell_type": "markdown",
      "source": [
        "수치미분\n",
        "\n",
        "![image.png](data:image/png;base64,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)"
      ],
      "metadata": {
        "id": "roVFmEJfTcbb"
      }
    },
    {
      "cell_type": "code",
      "source": [
        "# 10분에 2km 이동   speed = 2/10  0.2km  --> 평균\n",
        "# 특정 순간의 변화량 x"
      ],
      "metadata": {
        "id": "TxIcZ2oBTbwr"
      },
      "execution_count": 84,
      "outputs": []
    },
    {
      "cell_type": "code",
      "source": [
        "def numeric_diff(f,x):\n",
        "  h = 10e-50      # 이런 값으 사용 불가  반올림 오차  np.float(1e-50)  0.0   1e-4\n",
        "  return (f(x+h)-f(x)) / h  # 미분. x위치에서 함수의 기울기"
      ],
      "metadata": {
        "id": "SyweW2mAUZ_Y"
      },
      "execution_count": 85,
      "outputs": []
    },
    {
      "cell_type": "code",
      "source": [
        "def numeric_diff(f,x):\n",
        "  h = 1e-4 # 0.001\n",
        "  return (f(x+h)-f(x-h)) / (2*h)"
      ],
      "metadata": {
        "id": "G7NX6P2EUj8o"
      },
      "execution_count": 86,
      "outputs": []
    },
    {
      "cell_type": "markdown",
      "source": [
        "y = 0.01x**2 + 0.1x"
      ],
      "metadata": {
        "id": "3MvAqDRgZMsx"
      }
    },
    {
      "cell_type": "code",
      "source": [
        "def func(x):\n",
        "  return 0.01*x**2 + 0.1*x\n",
        "\n",
        "# 미분... 0.02*x + 0.1\n",
        "# x = 5    0.2   x=10 0.3"
      ],
      "metadata": {
        "id": "UvsVN-bIVu-z"
      },
      "execution_count": 87,
      "outputs": []
    },
    {
      "cell_type": "code",
      "source": [
        "import matplotlib.pyplot as plt"
      ],
      "metadata": {
        "id": "qWVkdY0xZnDh"
      },
      "execution_count": 88,
      "outputs": []
    },
    {
      "cell_type": "code",
      "source": [
        "x = np.arange(0.0,20.0,0.1)\n",
        "y = func(x)\n",
        "plt.plot(x,y)\n",
        "plt.show()"
      ],
      "metadata": {
        "colab": {
          "base_uri": "https://localhost:8080/",
          "height": 430
        },
        "id": "MBW3tA3eZzkR",
        "outputId": "2354a67d-8204-4671-c699-77f856ed3623"
      },
      "execution_count": 89,
      "outputs": [
        {
          "output_type": "display_data",
          "data": {
            "text/plain": [
              "<Figure size 640x480 with 1 Axes>"
            ],
            "image/png": "[encoded data removed]"
          },
          "metadata": {}
        }
      ]
    },
    {
      "cell_type": "code",
      "source": [
        "# x= 5, 10    0.2 0.3\n",
        "numeric_diff(func,5),  numeric_diff(func,10)"
      ],
      "metadata": {
        "colab": {
          "base_uri": "https://localhost:8080/"
        },
        "id": "dAz7nW1sZ2l4",
        "outputId": "fa77de5b-acc9-43b5-a708-46351b43b00f"
      },
      "execution_count": 90,
      "outputs": [
        {
          "output_type": "execute_result",
          "data": {
            "text/plain": [
              "(0.1999999999990898, 0.2999999999986347)"
            ]
          },
          "metadata": {},
          "execution_count": 90
        }
      ]
    },
    {
      "cell_type": "markdown",
      "source": [
        "f(x) = xxxxx  매개변수가 1개\n",
        "\n",
        "f(x0,x1) = x0 ** 2 + x1 ** 2\n",
        "\n",
        "![image.png](data:image/png;base64,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)"
      ],
      "metadata": {
        "id": "1AYjEs-cbKPb"
      }
    },
    {
      "cell_type": "markdown",
      "source": [
        "편미분 : 미분해야할 변수가 여러개인"
      ],
      "metadata": {
        "id": "O9sg5Nw3b15C"
      }
    },
    {
      "cell_type": "code",
      "source": [
        "# x0 = 3  x1 = 4일때 x0에 대한 편미분\n",
        "def func2(x0):\n",
        "  return x0*x0 + 4.0**2\n",
        "numeric_diff(func2,3.0)"
      ],
      "metadata": {
        "colab": {
          "base_uri": "https://localhost:8080/"
        },
        "id": "pJqO3CJXaqLR",
        "outputId": "2f589d5e-771f-4bc4-b2f5-7be78c4792fb"
      },
      "execution_count": 91,
      "outputs": [
        {
          "output_type": "execute_result",
          "data": {
            "text/plain": [
              "6.00000000000378"
            ]
          },
          "metadata": {},
          "execution_count": 91
        }
      ]
    },
    {
      "cell_type": "code",
      "source": [
        "# x0 = 3  x1 = 4일때 x1에 대한 편미분\n",
        "def func3(x1):\n",
        "  return 3.0**2 + x1*x1\n",
        "numeric_diff(func3,4.0)"
      ],
      "metadata": {
        "colab": {
          "base_uri": "https://localhost:8080/"
        },
        "id": "SknywDstcp57",
        "outputId": "06520cc3-8d25-4753-a2b2-1f3458dc2a51"
      },
      "execution_count": 92,
      "outputs": [
        {
          "output_type": "execute_result",
          "data": {
            "text/plain": [
              "7.999999999999119"
            ]
          },
          "metadata": {},
          "execution_count": 92
        }
      ]
    },
    {
      "cell_type": "markdown",
      "source": [
        "모든변수의 편이분을 벡터로 정리한게 기울기(Gradient)"
      ],
      "metadata": {
        "id": "2VD2xLdZd6yy"
      }
    },
    {
      "cell_type": "code",
      "source": [
        "def numerical_gradient(f, x):\n",
        "  h = 1e-4\n",
        "  grad = np.zeros_like(x)\n",
        "\n",
        "  for idx in range(x.size):\n",
        "    tmp_val =  x[idx]\n",
        "    # f(x+h)\n",
        "    x[idx] = tmp_val+h\n",
        "    fxh1 = f(x)\n",
        "    # f(x-h)\n",
        "    x[idx] = tmp_val-h\n",
        "    fxh2 = f(x)\n",
        "\n",
        "    grad[idx] = (fxh1-fxh2) / (2*h)\n",
        "    x[idx] = tmp_val # rollback 값을 복원\n",
        "  return grad"
      ],
      "metadata": {
        "id": "dQAE9SSrdAMf"
      },
      "execution_count": 93,
      "outputs": []
    },
    {
      "cell_type": "code",
      "source": [
        "# 세 점 사이의 기울기  (3,4) (0,2) (3,0)\n",
        "# f(x0 , x1) = x0**2 + x1**2\n",
        "def func4(x):\n",
        "  return x[0]**2 + x[1]**2\n",
        "print( numerical_gradient(func4, np.array([3.0, 4.0]))  )\n",
        "print( numerical_gradient(func4, np.array([0.0, 2.0]))  )\n",
        "print( numerical_gradient(func4, np.array([3.0, 0.0]))  )"
      ],
      "metadata": {
        "colab": {
          "base_uri": "https://localhost:8080/"
        },
        "id": "dhn9r4r9fCXo",
        "outputId": "b765e782-723c-4f63-c6cb-801ea4899716"
      },
      "execution_count": 94,
      "outputs": [
        {
          "output_type": "stream",
          "name": "stdout",
          "text": [
            "[6. 8.]\n",
            "[0. 4.]\n",
            "[6. 0.]\n"
          ]
        }
      ]
    },
    {
      "cell_type": "markdown",
      "source": [
        "![image.png](data:image/png;base64,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)"
      ],
      "metadata": {
        "id": "aj_SxMjWgd_h"
      }
    },
    {
      "cell_type": "markdown",
      "source": [
        "기울기가 가리키는 쪽은 각 위치에서 출력값을 가장 크게 줄이는 방향"
      ],
      "metadata": {
        "id": "g9sN-kCKg2D4"
      }
    },
    {
      "cell_type": "markdown",
      "source": [
        "경사법\n",
        "  - 하강법\n",
        "  - 상승법"
      ],
      "metadata": {
        "id": "y3k2CqK5hIOh"
      }
    },
    {
      "cell_type": "markdown",
      "source": [
        "![image.png](data:image/png;base64,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)"
      ],
      "metadata": {
        "id": "-yAn5XFfh9iW"
      }
    },
    {
      "cell_type": "code",
      "source": [
        "def gradient_descent(f,int_x,lr=0.01,step_num = 100):\n",
        "  x = int_x\n",
        "  for i in range(step_num):\n",
        "    grad = numerical_gradient(f,x)\n",
        "    x -= lr*grad\n",
        "  return x"
      ],
      "metadata": {
        "id": "jkdd_WV7gF6a"
      },
      "execution_count": 95,
      "outputs": []
    },
    {
      "cell_type": "code",
      "source": [
        "# f(x0, x1) = x0**2 + x1**2  경사하강법으로 최소값을 구해보자"
      ],
      "metadata": {
        "id": "KOYiv3IxjUSD"
      },
      "execution_count": 96,
      "outputs": []
    },
    {
      "cell_type": "code",
      "source": [
        "def func(x):\n",
        "  return x[0]**2 + x[1]**2\n",
        "\n",
        "#초기값을\n",
        "init_x = np.array([-3.0, 4.0])\n",
        "gradient_descent(func,init_x,0.1,100)  # 0,0\n"
      ],
      "metadata": {
        "colab": {
          "base_uri": "https://localhost:8080/"
        },
        "id": "VqsSNWe3jc9S",
        "outputId": "1c1e5ba6-1629-4989-ba44-aaab1b76f79d"
      },
      "execution_count": 97,
      "outputs": [
        {
          "output_type": "execute_result",
          "data": {
            "text/plain": [
              "array([-6.11110793e-10,  8.14814391e-10])"
            ]
          },
          "metadata": {},
          "execution_count": 97
        }
      ]
    },
    {
      "cell_type": "code",
      "source": [
        "# 학습률이 너무 크면  - 벗어났음\n",
        "init_x = np.array([-3.0, 4.0])\n",
        "gradient_descent(func,init_x,10.0,100)  # 0,0"
      ],
      "metadata": {
        "colab": {
          "base_uri": "https://localhost:8080/"
        },
        "id": "A9lQF60hnEZH",
        "outputId": "4a208a55-d253-4d30-d225-26090f42f937"
      },
      "execution_count": 98,
      "outputs": [
        {
          "output_type": "execute_result",
          "data": {
            "text/plain": [
              "array([-2.58983747e+13, -1.29524862e+12])"
            ]
          },
          "metadata": {},
          "execution_count": 98
        }
      ]
    },
    {
      "cell_type": "code",
      "source": [
        "# 학습률이 너무 작으면  - 갱신되다가 종료\n",
        "init_x = np.array([-3.0, 4.0])\n",
        "gradient_descent(func,init_x,1e-4,100)  # 0,0"
      ],
      "metadata": {
        "colab": {
          "base_uri": "https://localhost:8080/"
        },
        "id": "Bzn9saPhnejG",
        "outputId": "3c48a25e-9240-44ab-fac3-5b6db361af4b"
      },
      "execution_count": 99,
      "outputs": [
        {
          "output_type": "execute_result",
          "data": {
            "text/plain": [
              "array([-2.94059014,  3.92078685])"
            ]
          },
          "metadata": {},
          "execution_count": 99
        }
      ]
    },
    {
      "cell_type": "markdown",
      "source": [
        "신경망에서 기울기 : 2x3 가중치 W   손실함수 L\n",
        "경사\n",
        "![image.png](data:image/png;base64,iVBORw0KGgoAAAANSUhEUgAAABoAAAAfCAYAAAD5h919AAADG0lEQVRIie1UTUhqWxhdHp8/NIgaSVANoolEFBiCSGDFSYKCBmZIFATNLGgSzRtFkBDVqEmI0KRJQUkF1SDCBk1KMILo5xSlIIInPBl61h1c7oHoqN3HpQePu0Z7s7/vW3t9fwaSxDdA+A6SbyX6p5JBNpvFwcEBFEWB3++H2WxGoVDA1dUVAMBoNMJut1ckKquIJIaGhtDe3g5BEDA6OqoFj8fjcLvdMBqNX1IEVsDb25t2bm5uZiqVIkkuLi5ybGyskruGijWyWCzI5XIgifr6ejw/PwMA9vb24PV6v6YGFWqUTqcxNTUFl8sFQRCQSCTQ1NQERVFwcnKCSCTyZaKyqRsfH2c4HCZJXl5esrOzkyQZjUbpcDg+2BaLxX+fulgshoGBAQBAJBLB7OwsgJ9pE0VRs0ulUlhfXy8ryECW3gyhUAj39/dobGyE1WpFMBhEIpFAd3c3WltbMTg4CFmWEQ6Hsbm5WbbNyxIBgCzLMJlMsFqtZX9cCRWJ/hT+mxW0srKC09PTPxI4GAzC7XZr95Kpe3x8xP7+PhoaGiCKIra2tiBJEgRBQH9/Py4uLnB3dweDwQCPx4OqqipEo1F0dHTA6XR+DqjX8zc3NxwZGeHt7S2np6e5urrKh4cHGo1GbZZkWWZ1dTXtdrvmNzk5yff3d9050iUqFouagyRJbGlpIUn29vbSYrEwm82SJB0OBwFQkiTm83mGQqHfG1hBEGAymZDL5VBXV4dkMgkACAQCyOfz2NnZwfX1NVwuFwBge3sbh4eH6OnpKV00Pfbz83P6/X6ura1xbm6OTqeTJJnJZGg2m+nz+bi0tERFUWiz2SiKIhcWFqiqqq6al5eXz4pUVUUgEMD8/DwmJiZQW1urbemamhr09fVhd3cXqqrCarVieHgYR0dHPzvLYNAVY7PZPitKJpNsa2sjSaqqSq/Xy6enJ+19Y2ODABiPx0mSsViMAHh2dlayPqROM6iqSp/Px+XlZc7MzPD4+PjD++vrK7u6uj7YezyekmkrSfTLOZ1Os1Ao6DplMpmydz38/3bdX6K/RBp+AKexjaFpQmTZAAAAAElFTkSuQmCC)\n"
      ],
      "metadata": {
        "id": "JmpBNUOrocVu"
      }
    },
    {
      "cell_type": "markdown",
      "source": [
        "![image.png](data:image/png;base64,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)"
      ],
      "metadata": {
        "id": "gCQ1Apchoxz2"
      }
    },
    {
      "cell_type": "code",
      "source": [
        "import numpy as np\n",
        "def softmax(x):\n",
        "  exp_x = np.exp(x - np.max(x))\n",
        "  softmax_x = exp_x / np.sum(exp_x)\n",
        "  return softmax_x\n",
        "\n",
        "def cross_entropy_error(y,t):\n",
        "  delta = 1e-7\n",
        "  return -np.sum(np.log(y+delta)*t)"
      ],
      "metadata": {
        "id": "BxJCbwhVqYoQ"
      },
      "execution_count": 100,
      "outputs": []
    },
    {
      "cell_type": "code",
      "source": [
        "class simpleNet:\n",
        "  def __init__(self):\n",
        "    self.W = np.random.randn(2,3)\n",
        "  def predict(self,x):\n",
        "    return np.dot(x, self.W)\n",
        "  def loss(self, x, t):  #x 는 학습용 데이터, t는 정답\n",
        "    z = self.predict(x)\n",
        "    y = softmax(z)\n",
        "    loss = cross_entropy_error(y,t)\n",
        "    return loss"
      ],
      "metadata": {
        "id": "GozqkgFnnra_"
      },
      "execution_count": 101,
      "outputs": []
    },
    {
      "cell_type": "code",
      "source": [
        "np.random.randn(2,3)"
      ],
      "metadata": {
        "colab": {
          "base_uri": "https://localhost:8080/"
        },
        "id": "xltSXKEWpqUO",
        "outputId": "ff39c75d-adcc-40d6-c9aa-7c048f3759e1"
      },
      "execution_count": 102,
      "outputs": [
        {
          "output_type": "execute_result",
          "data": {
            "text/plain": [
              "array([[-0.55134194,  0.37830946, -1.01080142],\n",
              "       [-1.44334615, -0.23654032,  2.45493371]])"
            ]
          },
          "metadata": {},
          "execution_count": 102
        }
      ]
    },
    {
      "cell_type": "code",
      "source": [
        "net = simpleNet()\n",
        "net.W"
      ],
      "metadata": {
        "colab": {
          "base_uri": "https://localhost:8080/"
        },
        "id": "OPG6qTwXprlP",
        "outputId": "d0f688a2-1177-4c1a-de92-6cdc55f6f457"
      },
      "execution_count": 103,
      "outputs": [
        {
          "output_type": "execute_result",
          "data": {
            "text/plain": [
              "array([[-0.45767812,  1.23189307,  0.35246505],\n",
              "       [ 1.14099213, -0.09413328, -0.22933048]])"
            ]
          },
          "metadata": {},
          "execution_count": 103
        }
      ]
    },
    {
      "cell_type": "code",
      "source": [
        "x = np.array([0.6,0.9])\n",
        "p = net.predict(x)\n",
        "print(p)"
      ],
      "metadata": {
        "colab": {
          "base_uri": "https://localhost:8080/"
        },
        "id": "qokfemiOraz-",
        "outputId": "3d3e3a2c-c057-4d4c-f79a-151cc279522a"
      },
      "execution_count": 104,
      "outputs": [
        {
          "output_type": "stream",
          "name": "stdout",
          "text": [
            "[0.75228604 0.6544159  0.0050816 ]\n"
          ]
        }
      ]
    },
    {
      "cell_type": "code",
      "source": [
        "np.argmax(p)"
      ],
      "metadata": {
        "colab": {
          "base_uri": "https://localhost:8080/"
        },
        "id": "pHmFFUeWrlDO",
        "outputId": "0067fea1-14e6-4e13-a4cc-0013e26058fa"
      },
      "execution_count": 105,
      "outputs": [
        {
          "output_type": "execute_result",
          "data": {
            "text/plain": [
              "0"
            ]
          },
          "metadata": {},
          "execution_count": 105
        }
      ]
    },
    {
      "cell_type": "code",
      "source": [
        "t = np.array([1,0,0])\n",
        "net.loss(x,t)"
      ],
      "metadata": {
        "colab": {
          "base_uri": "https://localhost:8080/"
        },
        "id": "nmil4eY8rqt2",
        "outputId": "e265eec0-1c72-408c-96fe-90b79c0fc60b"
      },
      "execution_count": 106,
      "outputs": [
        {
          "output_type": "execute_result",
          "data": {
            "text/plain": [
              "0.8672916466982012"
            ]
          },
          "metadata": {},
          "execution_count": 106
        }
      ]
    },
    {
      "cell_type": "code",
      "source": [
        "def numerical_gradient(f, x):\n",
        "  h = 1e-4\n",
        "  grad = np.zeros_like(x)\n",
        "\n",
        "  for idx in np.ndindex(x.shape):\n",
        "    tmp_val =  x[idx]\n",
        "    # f(x+h)\n",
        "    x[idx] = tmp_val+h\n",
        "    fxh1 = f(x)\n",
        "    # f(x-h)\n",
        "    x[idx] = tmp_val-h\n",
        "    fxh2 = f(x)\n",
        "\n",
        "    grad[idx] = (fxh1-fxh2) / (2*h)\n",
        "    x[idx] = tmp_val # rollback 값을 복원\n",
        "  return grad\n",
        "# 기울기\n",
        "def f(W):\n",
        "  return net.loss(x,t)\n",
        "dW = numerical_gradient(f,net.W)\n",
        "print(dW)"
      ],
      "metadata": {
        "colab": {
          "base_uri": "https://localhost:8080/"
        },
        "id": "OC_sfivJrxM6",
        "outputId": "92ffbbbf-ea62-4388-95bd-48f6ed9fe684"
      },
      "execution_count": 107,
      "outputs": [
        {
          "output_type": "stream",
          "name": "stdout",
          "text": [
            "[[-0.34794732  0.22855283  0.11939449]\n",
            " [-0.52192099  0.34282924  0.17909174]]\n"
          ]
        }
      ]
    },
    {
      "cell_type": "markdown",
      "source": [
        "각 노드별 기울기를 구했으므로 학습에 사용된 가중치를 갱신\n",
        "  - 1. 미니배치\n",
        "  - 2. 기울기 산출\n",
        "  - 3. 매개변수 갱신\n",
        "  - 4. 1 ~ 3번을 반복"
      ],
      "metadata": {
        "id": "hCTv8NrvtsU3"
      }
    },
    {
      "cell_type": "code",
      "source": [
        "# 미니배치: 랜덤하게 골라서 사용 --> 확률적 경사 하강법 SGD"
      ],
      "metadata": {
        "id": "BtleBPaGslUO"
      },
      "execution_count": 108,
      "outputs": []
    },
    {
      "cell_type": "code",
      "source": [
        "# 두개의 층을 가지는 network\n",
        "def sigmoid(x):\n",
        "  return 1 / (1 + np.exp(-x))\n",
        "\n",
        "class TwoLayerNetwork:\n",
        "  def __init__(self,input_size,hidden_size,out_size,weight_init_std=0.01):\n",
        "    self.param = {}\n",
        "    self.param['W1'] = weight_init_std*np.random.randn(input_size,hidden_size)\n",
        "    self.param['b1'] = np.zeros(hidden_size)\n",
        "\n",
        "    self.param['W2'] = weight_init_std*np.random.randn(hidden_size,out_size)\n",
        "    self.param['b2'] = np.zeros(out_size)\n",
        "  def predict(self, x):\n",
        "    W1,W2 = self.param['W1'], self.param['W2']\n",
        "    b1,b2 = self.param['b1'], self.param['b2']\n",
        "\n",
        "    a1 = np.dot(x,W1) + b1\n",
        "    z1 = sigmoid(a1)\n",
        "\n",
        "    a2 = np.dot(z1,W2) + b2\n",
        "    y = softmax(a2)\n",
        "    return y\n",
        "  # 손실함수 입력 x  정답  t\n",
        "  def loss(self, x, t):\n",
        "    y = self.predict(x)\n",
        "    return cross_entropy_error(y,t)\n",
        "\n",
        "  # 정확성\n",
        "  def accuracy(self,x,t):\n",
        "    y = self.predict(x)\n",
        "    y = np.argmax(y,axis=1)\n",
        "    t = np.argmax(t,axis=1)\n",
        "\n",
        "    accuracy = np.sum(y == t) / float(x.shape[0])\n",
        "    return accuracy\n",
        "  def numeric_gradient(self,x,t):\n",
        "    loss_W = lambda w : self.loss(x,t)\n",
        "    grads = {}\n",
        "    grads['W1'] = numerical_gradient(loss_W, self.param['W1'])\n",
        "    grads['b1'] = numerical_gradient(loss_W, self.param['b1'])\n",
        "    grads['W2'] = numerical_gradient(loss_W, self.param['W2'])\n",
        "    grads['b2'] = numerical_gradient(loss_W, self.param['b2'])\n",
        "    return grads\n",
        "\n"
      ],
      "metadata": {
        "id": "AOaU7g2YuSwo"
      },
      "execution_count": 109,
      "outputs": []
    },
    {
      "cell_type": "code",
      "source": [
        "# net = TwoLayerNetwork(input_size = 784, hidden_size=100,out_size=10)"
      ],
      "metadata": {
        "id": "6l7lJHg2wJNQ"
      },
      "execution_count": 110,
      "outputs": []
    },
    {
      "cell_type": "code",
      "source": [
        "# x = np.random.rand(100,784)\n",
        "# y = net.predict(x)\n",
        "# x[:2], y[:2]"
      ],
      "metadata": {
        "id": "f3wTkVNH-Enj"
      },
      "execution_count": 111,
      "outputs": []
    },
    {
      "cell_type": "code",
      "source": [
        "# x = np.random.rand(100,784)\n",
        "# t = np.random.rand(100,10)\n",
        "# x[:2], t[:2]"
      ],
      "metadata": {
        "id": "yKd54-WV_GXL"
      },
      "execution_count": 112,
      "outputs": []
    },
    {
      "cell_type": "code",
      "source": [
        "# grads = net.numeric_gradient(x,t)"
      ],
      "metadata": {
        "id": "lUqeUHrw_m1a"
      },
      "execution_count": 113,
      "outputs": []
    },
    {
      "cell_type": "code",
      "source": [
        "# grads['W1'].shape, grads['b1'].shape"
      ],
      "metadata": {
        "id": "Ixl7dNCh_wTL"
      },
      "execution_count": 114,
      "outputs": []
    },
    {
      "cell_type": "code",
      "source": [
        "# grads['W2'].shape, grads['b2'].shape"
      ],
      "metadata": {
        "id": "oBEk4wPhBQ0T"
      },
      "execution_count": 115,
      "outputs": []
    },
    {
      "cell_type": "code",
      "source": [
        "import tensorflow as tf"
      ],
      "metadata": {
        "id": "hc35BlI1Bh3q"
      },
      "execution_count": 116,
      "outputs": []
    },
    {
      "cell_type": "code",
      "source": [
        "(x_train,y_train),(x_test,y_test) =  tf.keras.datasets.mnist.load_data()\n",
        "x_train.shape"
      ],
      "metadata": {
        "colab": {
          "base_uri": "https://localhost:8080/"
        },
        "id": "nJd3lb63CZzi",
        "outputId": "0dce8594-d233-4b50-b1a8-404a1989e350"
      },
      "execution_count": 117,
      "outputs": [
        {
          "output_type": "execute_result",
          "data": {
            "text/plain": [
              "(60000, 28, 28)"
            ]
          },
          "metadata": {},
          "execution_count": 117
        }
      ]
    },
    {
      "cell_type": "code",
      "source": [
        "# 전처리.. shape, 255.0\n",
        "x_train, x_test = x_train.reshape(-1,28*28), x_test.reshape(-1,28*28)\n",
        "y_train, y_test = y_train.reshape(-1,1), y_test.reshape(-1,1)\n",
        "print(x_train.shape, y_train.shape)\n",
        "train_loss_list = []\n",
        "# 하이퍼 파라메터\n",
        "lr = 0.1\n",
        "epochs = 10000\n",
        "train_size = x_train.shape[1]  # 784\n",
        "batch_size = 100\n",
        "net = TwoLayerNetwork(input_size=train_size, hidden_size=50,out_size=10)\n",
        "for i in range(epochs):\n",
        "  # 미니배치\n",
        "  batch_mask = np.random.choice(train_size,batch_size)\n",
        "  x_batch = x_train[batch_mask]\n",
        "  y_batch = y_train[batch_mask]\n",
        "  # 기울기 계산\n",
        "  grad = net.numeric_gradient(x_batch,y_batch)\n",
        "\n",
        "  # 매개변수 갱신\n",
        "  for key in ['W1','b1','W2','b2']:\n",
        "    net.param[key] -= lr*grad[key]\n",
        "\n",
        "  loss = net.loss(x_batch,y_batch)\n",
        "  train_loss_list.append(loss)"
      ],
      "metadata": {
        "colab": {
          "base_uri": "https://localhost:8080/"
        },
        "id": "nabrN8qfCo6a",
        "outputId": "ba1e5f90-fd3d-4761-f921-d165f3056bea"
      },
      "execution_count": null,
      "outputs": [
        {
          "output_type": "stream",
          "name": "stdout",
          "text": [
            "(60000, 784) (60000, 1)\n"
          ]
        },
        {
          "output_type": "stream",
          "name": "stderr",
          "text": [
            "<ipython-input-109-eaf9915fb4bf>:3: RuntimeWarning: overflow encountered in exp\n",
            "  return 1 / (1 + np.exp(-x))\n"
          ]
        }
      ]
    },
    {
      "cell_type": "code",
      "source": [
        "y_batch.shape"
      ],
      "metadata": {
        "id": "qOM6mX-LFDUc"
      },
      "execution_count": null,
      "outputs": []
    },
    {
      "cell_type": "code",
      "source": [],
      "metadata": {
        "id": "iG7ohqreGcyC"
      },
      "execution_count": null,
      "outputs": []
    }
  ]
}