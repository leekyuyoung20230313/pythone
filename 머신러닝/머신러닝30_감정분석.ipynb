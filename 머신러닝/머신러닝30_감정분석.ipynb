{
  "nbformat": 4,
  "nbformat_minor": 0,
  "metadata": {
    "colab": {
      "provenance": []
    },
    "kernelspec": {
      "name": "python3",
      "display_name": "Python 3"
    },
    "language_info": {
      "name": "python"
    }
  },
  "cells": [
    {
      "cell_type": "markdown",
      "source": [
        "- 영화리뷰 의 긍정 부정\n",
        "- 동료평가의 긍정 부정\n",
        "- 등등 \n"
      ],
      "metadata": {
        "id": "CAODfC8z0nlS"
      }
    },
    {
      "cell_type": "code",
      "source": [
        "!pip install nltk"
      ],
      "metadata": {
        "colab": {
          "base_uri": "https://localhost:8080/"
        },
        "id": "lCLZvVET08qE",
        "outputId": "8ee06e56-bf16-4521-be4e-1e28790da289"
      },
      "execution_count": 1,
      "outputs": [
        {
          "output_type": "stream",
          "name": "stdout",
          "text": [
            "Looking in indexes: https://pypi.org/simple, https://us-python.pkg.dev/colab-wheels/public/simple/\n",
            "Requirement already satisfied: nltk in /usr/local/lib/python3.10/dist-packages (3.8.1)\n",
            "Requirement already satisfied: click in /usr/local/lib/python3.10/dist-packages (from nltk) (8.1.3)\n",
            "Requirement already satisfied: joblib in /usr/local/lib/python3.10/dist-packages (from nltk) (1.2.0)\n",
            "Requirement already satisfied: regex>=2021.8.3 in /usr/local/lib/python3.10/dist-packages (from nltk) (2022.10.31)\n",
            "Requirement already satisfied: tqdm in /usr/local/lib/python3.10/dist-packages (from nltk) (4.65.0)\n"
          ]
        }
      ]
    },
    {
      "cell_type": "code",
      "source": [
        "from nltk.corpus import movie_reviews\n",
        "from nltk.classify import NaiveBayesClassifier\n",
        "from nltk.classify.util import accuracy as nltk_accuracy\n",
        "import nltk\n",
        "nltk.download('movie_reviews')"
      ],
      "metadata": {
        "colab": {
          "base_uri": "https://localhost:8080/"
        },
        "id": "NJd6caS01LfG",
        "outputId": "a9739c4c-0139-4b24-ed9e-c649d1ae9f99"
      },
      "execution_count": 5,
      "outputs": [
        {
          "output_type": "stream",
          "name": "stderr",
          "text": [
            "[nltk_data] Downloading package movie_reviews to /root/nltk_data...\n",
            "[nltk_data]   Package movie_reviews is already up-to-date!\n"
          ]
        },
        {
          "output_type": "execute_result",
          "data": {
            "text/plain": [
              "True"
            ]
          },
          "metadata": {},
          "execution_count": 5
        }
      ]
    },
    {
      "cell_type": "code",
      "source": [
        "# 단어로부터 특성 추출\n",
        "def extract_features(words):\n",
        "  return dict([(word, True) for word in words])"
      ],
      "metadata": {
        "id": "FPhZZVUo1akl"
      },
      "execution_count": 15,
      "outputs": []
    },
    {
      "cell_type": "markdown",
      "source": [
        "말뭉치로부터 데이터를 추출"
      ],
      "metadata": {
        "id": "NOO4eR8e1sQA"
      }
    },
    {
      "cell_type": "code",
      "source": [
        "fileids_pos =  movie_reviews.fileids('pos')\n",
        "fileids_neg =  movie_reviews.fileids('neg')"
      ],
      "metadata": {
        "id": "A4KlPp4V1onV"
      },
      "execution_count": 16,
      "outputs": []
    },
    {
      "cell_type": "code",
      "source": [
        "# [  f for f in fileids_pos]\n",
        "features_pos = [(extract_features(movie_reviews.words(f)),'Positive') for f in fileids_pos]\n",
        "features_neg = [(extract_features(movie_reviews.words(f)),'Negative') for f in fileids_neg]"
      ],
      "metadata": {
        "id": "ID-fN-bq127N"
      },
      "execution_count": 18,
      "outputs": []
    },
    {
      "cell_type": "markdown",
      "source": [
        "훈련데이터와 테스트를 8:2"
      ],
      "metadata": {
        "id": "txRiIYXC4IpL"
      }
    },
    {
      "cell_type": "code",
      "source": [
        "num_train = 0.8\n",
        "num_pos = int(num_train*len(features_pos))\n",
        "num_neg= int(num_train*len(features_neg))\n",
        "feature_train = features_pos[:num_pos] + features_neg[:num_neg]\n",
        "feature_test = features_pos[num_pos:] + features_neg[num_neg:]"
      ],
      "metadata": {
        "id": "_vq8Yv2Y2hQ1"
      },
      "execution_count": 23,
      "outputs": []
    },
    {
      "cell_type": "code",
      "source": [
        "len(feature_train), len(feature_test)"
      ],
      "metadata": {
        "colab": {
          "base_uri": "https://localhost:8080/"
        },
        "id": "4cWpO2g237Fm",
        "outputId": "f2a8a7f3-ae54-4978-9903-62e14a2befb6"
      },
      "execution_count": 24,
      "outputs": [
        {
          "output_type": "execute_result",
          "data": {
            "text/plain": [
              "(1600, 400)"
            ]
          },
          "metadata": {},
          "execution_count": 24
        }
      ]
    },
    {
      "cell_type": "markdown",
      "source": [
        "모델 선정 및  훈련"
      ],
      "metadata": {
        "id": "_FNR6Pq_45Fx"
      }
    },
    {
      "cell_type": "code",
      "source": [
        "classifier = NaiveBayesClassifier.train(feature_train)\n",
        "nltk_accuracy(classifier,feature_train)"
      ],
      "metadata": {
        "colab": {
          "base_uri": "https://localhost:8080/"
        },
        "id": "iWgF68Mk42-e",
        "outputId": "7cd1afa3-7f8e-4785-82d3-c499a8430eee"
      },
      "execution_count": 25,
      "outputs": [
        {
          "output_type": "execute_result",
          "data": {
            "text/plain": [
              "0.9825"
            ]
          },
          "metadata": {},
          "execution_count": 25
        }
      ]
    },
    {
      "cell_type": "code",
      "source": [
        "#유용한 단어(정보를 나타내는) 상위 n개\n",
        "n = 15\n",
        "[name for name,_ in classifier.most_informative_features()[:n]]"
      ],
      "metadata": {
        "colab": {
          "base_uri": "https://localhost:8080/"
        },
        "id": "tN6eJWFv5FBl",
        "outputId": "d7eece32-bda4-4402-8b45-7627f09b4c6d"
      },
      "execution_count": 29,
      "outputs": [
        {
          "output_type": "execute_result",
          "data": {
            "text/plain": [
              "['outstanding',\n",
              " 'insulting',\n",
              " 'vulnerable',\n",
              " 'ludicrous',\n",
              " 'uninvolving',\n",
              " 'astounding',\n",
              " 'avoids',\n",
              " 'fascination',\n",
              " 'affecting',\n",
              " 'animators',\n",
              " 'anna',\n",
              " 'darker',\n",
              " 'seagal',\n",
              " 'symbol',\n",
              " 'idiotic']"
            ]
          },
          "metadata": {},
          "execution_count": 29
        }
      ]
    },
    {
      "cell_type": "markdown",
      "source": [
        "테스트용 셈플 리뷰문장"
      ],
      "metadata": {
        "id": "reqiYyV-5rEv"
      }
    },
    {
      "cell_type": "code",
      "source": [
        "input_reviews = [\n",
        "    'The costumes in this movie were great', \n",
        "    'I think the story was terrible and the characters were very weak',\n",
        "    'People say that the director of the movie is amazing', \n",
        "    'This is such an idiotic movie. I will not recommend it to anyone.' \n",
        "]"
      ],
      "metadata": {
        "id": "_NMhSN-t5RdO"
      },
      "execution_count": 37,
      "outputs": []
    },
    {
      "cell_type": "code",
      "source": [
        "for review in input_reviews:\n",
        "  probilities =  classifier.prob_classify( extract_features(review.split()))\n",
        "  probilities_max =  probilities.max()\n",
        "  print(f\"review : {review}\")\n",
        "  print(f\"probilities_max : {probilities_max}\")\n",
        "  print(f\"probability : {probilities.prob(probilities_max)}\")\n",
        "  print(\"\")"
      ],
      "metadata": {
        "colab": {
          "base_uri": "https://localhost:8080/"
        },
        "id": "7okA2X3R5_rI",
        "outputId": "22e40854-5e06-466f-cb6a-02f1dd0b8edb"
      },
      "execution_count": 40,
      "outputs": [
        {
          "output_type": "stream",
          "name": "stdout",
          "text": [
            "review : The costumes in this movie were great\n",
            "probilities_max : Positive\n",
            "probability : 0.5889462701211449\n",
            "\n",
            "review : I think the story was terrible and the characters were very weak\n",
            "probilities_max : Negative\n",
            "probability : 0.8004493316469383\n",
            "\n",
            "review : People say that the director of the movie is amazing\n",
            "probilities_max : Positive\n",
            "probability : 0.5981099621300947\n",
            "\n",
            "review : This is such an idiotic movie. I will not recommend it to anyone.\n",
            "probilities_max : Negative\n",
            "probability : 0.869404528746512\n",
            "\n"
          ]
        }
      ]
    },
    {
      "cell_type": "code",
      "source": [],
      "metadata": {
        "id": "Kr93N00i7pRq"
      },
      "execution_count": null,
      "outputs": []
    }
  ]
}