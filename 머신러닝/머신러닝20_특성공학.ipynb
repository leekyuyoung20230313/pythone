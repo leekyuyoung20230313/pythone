{
  "nbformat": 4,
  "nbformat_minor": 0,
  "metadata": {
    "colab": {
      "provenance": []
    },
    "kernelspec": {
      "name": "python3",
      "display_name": "Python 3"
    },
    "language_info": {
      "name": "python"
    },
    "widgets": {
      "application/vnd.jupyter.widget-state+json": {
        "55535566ddc3460095f2c0c6e2648427": {
          "model_module": "@jupyter-widgets/controls",
          "model_name": "HBoxModel",
          "model_module_version": "1.5.0",
          "state": {
            "_dom_classes": [],
            "_model_module": "@jupyter-widgets/controls",
            "_model_module_version": "1.5.0",
            "_model_name": "HBoxModel",
            "_view_count": null,
            "_view_module": "@jupyter-widgets/controls",
            "_view_module_version": "1.5.0",
            "_view_name": "HBoxView",
            "box_style": "",
            "children": [
              "IPY_MODEL_da2aeb0e6f08443ebcceddf21cd17dd3",
              "IPY_MODEL_7f1f6ae68e2b4a92b05b160e6cb60184",
              "IPY_MODEL_2b0fa747237f439293bab0587c0bff15"
            ],
            "layout": "IPY_MODEL_346f0847aaba4ef2b563423fee273f7f"
          }
        },
        "da2aeb0e6f08443ebcceddf21cd17dd3": {
          "model_module": "@jupyter-widgets/controls",
          "model_name": "HTMLModel",
          "model_module_version": "1.5.0",
          "state": {
            "_dom_classes": [],
            "_model_module": "@jupyter-widgets/controls",
            "_model_module_version": "1.5.0",
            "_model_name": "HTMLModel",
            "_view_count": null,
            "_view_module": "@jupyter-widgets/controls",
            "_view_module_version": "1.5.0",
            "_view_name": "HTMLView",
            "description": "",
            "description_tooltip": null,
            "layout": "IPY_MODEL_c5b23b0c719344a6a1852b416aabc598",
            "placeholder": "​",
            "style": "IPY_MODEL_14a7def7bc6f467b8bf825252df7ee17",
            "value": "Processing: 100%"
          }
        },
        "7f1f6ae68e2b4a92b05b160e6cb60184": {
          "model_module": "@jupyter-widgets/controls",
          "model_name": "FloatProgressModel",
          "model_module_version": "1.5.0",
          "state": {
            "_dom_classes": [],
            "_model_module": "@jupyter-widgets/controls",
            "_model_module_version": "1.5.0",
            "_model_name": "FloatProgressModel",
            "_view_count": null,
            "_view_module": "@jupyter-widgets/controls",
            "_view_module_version": "1.5.0",
            "_view_name": "ProgressView",
            "bar_style": "",
            "description": "",
            "description_tooltip": null,
            "layout": "IPY_MODEL_7eeac762b5a2479685d10642a6ad5e39",
            "max": 85,
            "min": 0,
            "orientation": "horizontal",
            "style": "IPY_MODEL_048233c4a4e04835a0ddd61ddc8d7bdc",
            "value": 85
          }
        },
        "2b0fa747237f439293bab0587c0bff15": {
          "model_module": "@jupyter-widgets/controls",
          "model_name": "HTMLModel",
          "model_module_version": "1.5.0",
          "state": {
            "_dom_classes": [],
            "_model_module": "@jupyter-widgets/controls",
            "_model_module_version": "1.5.0",
            "_model_name": "HTMLModel",
            "_view_count": null,
            "_view_module": "@jupyter-widgets/controls",
            "_view_module_version": "1.5.0",
            "_view_name": "HTMLView",
            "description": "",
            "description_tooltip": null,
            "layout": "IPY_MODEL_78b8237b6077458983017bb41f3f6cbe",
            "placeholder": "​",
            "style": "IPY_MODEL_a240142a238b4e0d84cd43caae104c2c",
            "value": " 85/85 [00:31&lt;00:00,  2.55it/s]"
          }
        },
        "346f0847aaba4ef2b563423fee273f7f": {
          "model_module": "@jupyter-widgets/base",
          "model_name": "LayoutModel",
          "model_module_version": "1.2.0",
          "state": {
            "_model_module": "@jupyter-widgets/base",
            "_model_module_version": "1.2.0",
            "_model_name": "LayoutModel",
            "_view_count": null,
            "_view_module": "@jupyter-widgets/base",
            "_view_module_version": "1.2.0",
            "_view_name": "LayoutView",
            "align_content": null,
            "align_items": null,
            "align_self": null,
            "border": null,
            "bottom": null,
            "display": null,
            "flex": null,
            "flex_flow": null,
            "grid_area": null,
            "grid_auto_columns": null,
            "grid_auto_flow": null,
            "grid_auto_rows": null,
            "grid_column": null,
            "grid_gap": null,
            "grid_row": null,
            "grid_template_areas": null,
            "grid_template_columns": null,
            "grid_template_rows": null,
            "height": null,
            "justify_content": null,
            "justify_items": null,
            "left": null,
            "margin": null,
            "max_height": null,
            "max_width": null,
            "min_height": null,
            "min_width": null,
            "object_fit": null,
            "object_position": null,
            "order": null,
            "overflow": null,
            "overflow_x": null,
            "overflow_y": null,
            "padding": null,
            "right": null,
            "top": null,
            "visibility": "hidden",
            "width": null
          }
        },
        "c5b23b0c719344a6a1852b416aabc598": {
          "model_module": "@jupyter-widgets/base",
          "model_name": "LayoutModel",
          "model_module_version": "1.2.0",
          "state": {
            "_model_module": "@jupyter-widgets/base",
            "_model_module_version": "1.2.0",
            "_model_name": "LayoutModel",
            "_view_count": null,
            "_view_module": "@jupyter-widgets/base",
            "_view_module_version": "1.2.0",
            "_view_name": "LayoutView",
            "align_content": null,
            "align_items": null,
            "align_self": null,
            "border": null,
            "bottom": null,
            "display": null,
            "flex": null,
            "flex_flow": null,
            "grid_area": null,
            "grid_auto_columns": null,
            "grid_auto_flow": null,
            "grid_auto_rows": null,
            "grid_column": null,
            "grid_gap": null,
            "grid_row": null,
            "grid_template_areas": null,
            "grid_template_columns": null,
            "grid_template_rows": null,
            "height": null,
            "justify_content": null,
            "justify_items": null,
            "left": null,
            "margin": null,
            "max_height": null,
            "max_width": null,
            "min_height": null,
            "min_width": null,
            "object_fit": null,
            "object_position": null,
            "order": null,
            "overflow": null,
            "overflow_x": null,
            "overflow_y": null,
            "padding": null,
            "right": null,
            "top": null,
            "visibility": null,
            "width": null
          }
        },
        "14a7def7bc6f467b8bf825252df7ee17": {
          "model_module": "@jupyter-widgets/controls",
          "model_name": "DescriptionStyleModel",
          "model_module_version": "1.5.0",
          "state": {
            "_model_module": "@jupyter-widgets/controls",
            "_model_module_version": "1.5.0",
            "_model_name": "DescriptionStyleModel",
            "_view_count": null,
            "_view_module": "@jupyter-widgets/base",
            "_view_module_version": "1.2.0",
            "_view_name": "StyleView",
            "description_width": ""
          }
        },
        "7eeac762b5a2479685d10642a6ad5e39": {
          "model_module": "@jupyter-widgets/base",
          "model_name": "LayoutModel",
          "model_module_version": "1.2.0",
          "state": {
            "_model_module": "@jupyter-widgets/base",
            "_model_module_version": "1.2.0",
            "_model_name": "LayoutModel",
            "_view_count": null,
            "_view_module": "@jupyter-widgets/base",
            "_view_module_version": "1.2.0",
            "_view_name": "LayoutView",
            "align_content": null,
            "align_items": null,
            "align_self": null,
            "border": null,
            "bottom": null,
            "display": null,
            "flex": null,
            "flex_flow": null,
            "grid_area": null,
            "grid_auto_columns": null,
            "grid_auto_flow": null,
            "grid_auto_rows": null,
            "grid_column": null,
            "grid_gap": null,
            "grid_row": null,
            "grid_template_areas": null,
            "grid_template_columns": null,
            "grid_template_rows": null,
            "height": null,
            "justify_content": null,
            "justify_items": null,
            "left": null,
            "margin": null,
            "max_height": null,
            "max_width": null,
            "min_height": null,
            "min_width": null,
            "object_fit": null,
            "object_position": null,
            "order": null,
            "overflow": null,
            "overflow_x": null,
            "overflow_y": null,
            "padding": null,
            "right": null,
            "top": null,
            "visibility": null,
            "width": null
          }
        },
        "048233c4a4e04835a0ddd61ddc8d7bdc": {
          "model_module": "@jupyter-widgets/controls",
          "model_name": "ProgressStyleModel",
          "model_module_version": "1.5.0",
          "state": {
            "_model_module": "@jupyter-widgets/controls",
            "_model_module_version": "1.5.0",
            "_model_name": "ProgressStyleModel",
            "_view_count": null,
            "_view_module": "@jupyter-widgets/base",
            "_view_module_version": "1.2.0",
            "_view_name": "StyleView",
            "bar_color": null,
            "description_width": ""
          }
        },
        "78b8237b6077458983017bb41f3f6cbe": {
          "model_module": "@jupyter-widgets/base",
          "model_name": "LayoutModel",
          "model_module_version": "1.2.0",
          "state": {
            "_model_module": "@jupyter-widgets/base",
            "_model_module_version": "1.2.0",
            "_model_name": "LayoutModel",
            "_view_count": null,
            "_view_module": "@jupyter-widgets/base",
            "_view_module_version": "1.2.0",
            "_view_name": "LayoutView",
            "align_content": null,
            "align_items": null,
            "align_self": null,
            "border": null,
            "bottom": null,
            "display": null,
            "flex": null,
            "flex_flow": null,
            "grid_area": null,
            "grid_auto_columns": null,
            "grid_auto_flow": null,
            "grid_auto_rows": null,
            "grid_column": null,
            "grid_gap": null,
            "grid_row": null,
            "grid_template_areas": null,
            "grid_template_columns": null,
            "grid_template_rows": null,
            "height": null,
            "justify_content": null,
            "justify_items": null,
            "left": null,
            "margin": null,
            "max_height": null,
            "max_width": null,
            "min_height": null,
            "min_width": null,
            "object_fit": null,
            "object_position": null,
            "order": null,
            "overflow": null,
            "overflow_x": null,
            "overflow_y": null,
            "padding": null,
            "right": null,
            "top": null,
            "visibility": null,
            "width": null
          }
        },
        "a240142a238b4e0d84cd43caae104c2c": {
          "model_module": "@jupyter-widgets/controls",
          "model_name": "DescriptionStyleModel",
          "model_module_version": "1.5.0",
          "state": {
            "_model_module": "@jupyter-widgets/controls",
            "_model_module_version": "1.5.0",
            "_model_name": "DescriptionStyleModel",
            "_view_count": null,
            "_view_module": "@jupyter-widgets/base",
            "_view_module_version": "1.2.0",
            "_view_name": "StyleView",
            "description_width": ""
          }
        }
      }
    }
  },
  "cells": [
    {
      "cell_type": "code",
      "source": [],
      "metadata": {
        "id": "AnsKRXOgKl8b"
      },
      "execution_count": null,
      "outputs": []
    },
    {
      "cell_type": "markdown",
      "source": [
        "특성공학을 하는 이유\n",
        "  - 학습시간 단축\n",
        "  - 모델을 단순화 쉽게 해석\n",
        "  - 과적합을 줄여서 테스트 세트 성능 향상  (훈련성능 테스트성능 트레이드오프)\n",
        "\n",
        "제거대상\n",
        "  - 독립변수간의 높은 상관관계  \n",
        "  - 중복성\n",
        "  - 무관련성\n",
        "\n",
        "다중공선성\n",
        "  - 회귀모델에서 하나의 특성을 예측할수 있다면 해당데이터 세트의 다른 특성을 사용하더라도 예측이 가능한 현상\n",
        "\n",
        "차원의 저주\n",
        "  - 차원의 수가 증가하면, 특성이 증가하면 데이터를 더 정확하게 설명할수 있는데. 해당 모델이 새로운 데이터로 일반화되기 어렵다. 그래서 과적합 발생    "
      ],
      "metadata": {
        "id": "atTTiaWJKosb"
      }
    },
    {
      "cell_type": "markdown",
      "source": [
        "트리계열의 머신러닝으로 빠르게 데이터의 중요특징을 파악"
      ],
      "metadata": {
        "id": "Epyy_6t_MA9u"
      }
    },
    {
      "cell_type": "code",
      "source": [
        "import pandas as pd\n",
        "import numpy as np\n",
        "import matplotlib.pyplot as plt\n",
        "from sklearn.ensemble import ExtraTreesRegressor"
      ],
      "metadata": {
        "id": "aHUtgOmLK26r"
      },
      "execution_count": 8,
      "outputs": []
    },
    {
      "cell_type": "code",
      "source": [
        "data = pd.read_csv('https://raw.githubusercontent.com/leekyuyoung20230313/pythone/main/%EB%A8%B8%EC%8B%A0%EB%9F%AC%EB%8B%9D/data/train_20.csv')\n",
        "data.head()"
      ],
      "metadata": {
        "colab": {
          "base_uri": "https://localhost:8080/",
          "height": 206
        },
        "id": "gZZzLVyOMVoD",
        "outputId": "e77e088f-2395-4ee7-eba4-5e9f2b7b9978"
      },
      "execution_count": 3,
      "outputs": [
        {
          "output_type": "execute_result",
          "data": {
            "text/plain": [
              "   battery_power  blue  clock_speed  dual_sim  fc  four_g  int_memory\n",
              "0            842     0          2.2         0   1       0           7\n",
              "1           1021     1          0.5         1   0       1          53\n",
              "2            563     1          0.5         1   2       1          41\n",
              "3            615     1          2.5         0   0       0          10\n",
              "4           1821     1          1.2         0  13       1          44"
            ],
            "text/html": [
              "\n",
              "  <div id=\"df-cfdf309c-fd89-45f1-9efa-73e40b12262b\">\n",
              "    <div class=\"colab-df-container\">\n",
              "      <div>\n",
              "<style scoped>\n",
              "    .dataframe tbody tr th:only-of-type {\n",
              "        vertical-align: middle;\n",
              "    }\n",
              "\n",
              "    .dataframe tbody tr th {\n",
              "        vertical-align: top;\n",
              "    }\n",
              "\n",
              "    .dataframe thead th {\n",
              "        text-align: right;\n",
              "    }\n",
              "</style>\n",
              "<table border=\"1\" class=\"dataframe\">\n",
              "  <thead>\n",
              "    <tr style=\"text-align: right;\">\n",
              "      <th></th>\n",
              "      <th>battery_power</th>\n",
              "      <th>blue</th>\n",
              "      <th>clock_speed</th>\n",
              "      <th>dual_sim</th>\n",
              "      <th>fc</th>\n",
              "      <th>four_g</th>\n",
              "      <th>int_memory</th>\n",
              "    </tr>\n",
              "  </thead>\n",
              "  <tbody>\n",
              "    <tr>\n",
              "      <th>0</th>\n",
              "      <td>842</td>\n",
              "      <td>0</td>\n",
              "      <td>2.2</td>\n",
              "      <td>0</td>\n",
              "      <td>1</td>\n",
              "      <td>0</td>\n",
              "      <td>7</td>\n",
              "    </tr>\n",
              "    <tr>\n",
              "      <th>1</th>\n",
              "      <td>1021</td>\n",
              "      <td>1</td>\n",
              "      <td>0.5</td>\n",
              "      <td>1</td>\n",
              "      <td>0</td>\n",
              "      <td>1</td>\n",
              "      <td>53</td>\n",
              "    </tr>\n",
              "    <tr>\n",
              "      <th>2</th>\n",
              "      <td>563</td>\n",
              "      <td>1</td>\n",
              "      <td>0.5</td>\n",
              "      <td>1</td>\n",
              "      <td>2</td>\n",
              "      <td>1</td>\n",
              "      <td>41</td>\n",
              "    </tr>\n",
              "    <tr>\n",
              "      <th>3</th>\n",
              "      <td>615</td>\n",
              "      <td>1</td>\n",
              "      <td>2.5</td>\n",
              "      <td>0</td>\n",
              "      <td>0</td>\n",
              "      <td>0</td>\n",
              "      <td>10</td>\n",
              "    </tr>\n",
              "    <tr>\n",
              "      <th>4</th>\n",
              "      <td>1821</td>\n",
              "      <td>1</td>\n",
              "      <td>1.2</td>\n",
              "      <td>0</td>\n",
              "      <td>13</td>\n",
              "      <td>1</td>\n",
              "      <td>44</td>\n",
              "    </tr>\n",
              "  </tbody>\n",
              "</table>\n",
              "</div>\n",
              "      <button class=\"colab-df-convert\" onclick=\"convertToInteractive('df-cfdf309c-fd89-45f1-9efa-73e40b12262b')\"\n",
              "              title=\"Convert this dataframe to an interactive table.\"\n",
              "              style=\"display:none;\">\n",
              "        \n",
              "  <svg xmlns=\"http://www.w3.org/2000/svg\" height=\"24px\"viewBox=\"0 0 24 24\"\n",
              "       width=\"24px\">\n",
              "    <path d=\"M0 0h24v24H0V0z\" fill=\"none\"/>\n",
              "    <path d=\"M18.56 5.44l.94 2.06.94-2.06 2.06-.94-2.06-.94-.94-2.06-.94 2.06-2.06.94zm-11 1L8.5 8.5l.94-2.06 2.06-.94-2.06-.94L8.5 2.5l-.94 2.06-2.06.94zm10 10l.94 2.06.94-2.06 2.06-.94-2.06-.94-.94-2.06-.94 2.06-2.06.94z\"/><path d=\"M17.41 7.96l-1.37-1.37c-.4-.4-.92-.59-1.43-.59-.52 0-1.04.2-1.43.59L10.3 9.45l-7.72 7.72c-.78.78-.78 2.05 0 2.83L4 21.41c.39.39.9.59 1.41.59.51 0 1.02-.2 1.41-.59l7.78-7.78 2.81-2.81c.8-.78.8-2.07 0-2.86zM5.41 20L4 18.59l7.72-7.72 1.47 1.35L5.41 20z\"/>\n",
              "  </svg>\n",
              "      </button>\n",
              "      \n",
              "  <style>\n",
              "    .colab-df-container {\n",
              "      display:flex;\n",
              "      flex-wrap:wrap;\n",
              "      gap: 12px;\n",
              "    }\n",
              "\n",
              "    .colab-df-convert {\n",
              "      background-color: #E8F0FE;\n",
              "      border: none;\n",
              "      border-radius: 50%;\n",
              "      cursor: pointer;\n",
              "      display: none;\n",
              "      fill: #1967D2;\n",
              "      height: 32px;\n",
              "      padding: 0 0 0 0;\n",
              "      width: 32px;\n",
              "    }\n",
              "\n",
              "    .colab-df-convert:hover {\n",
              "      background-color: #E2EBFA;\n",
              "      box-shadow: 0px 1px 2px rgba(60, 64, 67, 0.3), 0px 1px 3px 1px rgba(60, 64, 67, 0.15);\n",
              "      fill: #174EA6;\n",
              "    }\n",
              "\n",
              "    [theme=dark] .colab-df-convert {\n",
              "      background-color: #3B4455;\n",
              "      fill: #D2E3FC;\n",
              "    }\n",
              "\n",
              "    [theme=dark] .colab-df-convert:hover {\n",
              "      background-color: #434B5C;\n",
              "      box-shadow: 0px 1px 3px 1px rgba(0, 0, 0, 0.15);\n",
              "      filter: drop-shadow(0px 1px 2px rgba(0, 0, 0, 0.3));\n",
              "      fill: #FFFFFF;\n",
              "    }\n",
              "  </style>\n",
              "\n",
              "      <script>\n",
              "        const buttonEl =\n",
              "          document.querySelector('#df-cfdf309c-fd89-45f1-9efa-73e40b12262b button.colab-df-convert');\n",
              "        buttonEl.style.display =\n",
              "          google.colab.kernel.accessAllowed ? 'block' : 'none';\n",
              "\n",
              "        async function convertToInteractive(key) {\n",
              "          const element = document.querySelector('#df-cfdf309c-fd89-45f1-9efa-73e40b12262b');\n",
              "          const dataTable =\n",
              "            await google.colab.kernel.invokeFunction('convertToInteractive',\n",
              "                                                     [key], {});\n",
              "          if (!dataTable) return;\n",
              "\n",
              "          const docLinkHtml = 'Like what you see? Visit the ' +\n",
              "            '<a target=\"_blank\" href=https://colab.research.google.com/notebooks/data_table.ipynb>data table notebook</a>'\n",
              "            + ' to learn more about interactive tables.';\n",
              "          element.innerHTML = '';\n",
              "          dataTable['output_type'] = 'display_data';\n",
              "          await google.colab.output.renderOutput(dataTable, element);\n",
              "          const docLink = document.createElement('div');\n",
              "          docLink.innerHTML = docLinkHtml;\n",
              "          element.appendChild(docLink);\n",
              "        }\n",
              "      </script>\n",
              "    </div>\n",
              "  </div>\n",
              "  "
            ]
          },
          "metadata": {},
          "execution_count": 3
        }
      ]
    },
    {
      "cell_type": "code",
      "source": [
        "x = data.iloc[:,:-1]\n",
        "y = data.iloc[:,-1]"
      ],
      "metadata": {
        "id": "Ti1CaN81MlLq"
      },
      "execution_count": 6,
      "outputs": []
    },
    {
      "cell_type": "code",
      "source": [
        "model = ExtraTreesRegressor()\n",
        "model.fit(x,y)"
      ],
      "metadata": {
        "colab": {
          "base_uri": "https://localhost:8080/",
          "height": 74
        },
        "id": "c5yILK9rNami",
        "outputId": "431e7799-c626-4dd8-9610-620f4de6addb"
      },
      "execution_count": 9,
      "outputs": [
        {
          "output_type": "execute_result",
          "data": {
            "text/plain": [
              "ExtraTreesRegressor()"
            ],
            "text/html": [
              "<style>#sk-container-id-1 {color: black;background-color: white;}#sk-container-id-1 pre{padding: 0;}#sk-container-id-1 div.sk-toggleable {background-color: white;}#sk-container-id-1 label.sk-toggleable__label {cursor: pointer;display: block;width: 100%;margin-bottom: 0;padding: 0.3em;box-sizing: border-box;text-align: center;}#sk-container-id-1 label.sk-toggleable__label-arrow:before {content: \"▸\";float: left;margin-right: 0.25em;color: #696969;}#sk-container-id-1 label.sk-toggleable__label-arrow:hover:before {color: black;}#sk-container-id-1 div.sk-estimator:hover label.sk-toggleable__label-arrow:before {color: black;}#sk-container-id-1 div.sk-toggleable__content {max-height: 0;max-width: 0;overflow: hidden;text-align: left;background-color: #f0f8ff;}#sk-container-id-1 div.sk-toggleable__content pre {margin: 0.2em;color: black;border-radius: 0.25em;background-color: #f0f8ff;}#sk-container-id-1 input.sk-toggleable__control:checked~div.sk-toggleable__content {max-height: 200px;max-width: 100%;overflow: auto;}#sk-container-id-1 input.sk-toggleable__control:checked~label.sk-toggleable__label-arrow:before {content: \"▾\";}#sk-container-id-1 div.sk-estimator input.sk-toggleable__control:checked~label.sk-toggleable__label {background-color: #d4ebff;}#sk-container-id-1 div.sk-label input.sk-toggleable__control:checked~label.sk-toggleable__label {background-color: #d4ebff;}#sk-container-id-1 input.sk-hidden--visually {border: 0;clip: rect(1px 1px 1px 1px);clip: rect(1px, 1px, 1px, 1px);height: 1px;margin: -1px;overflow: hidden;padding: 0;position: absolute;width: 1px;}#sk-container-id-1 div.sk-estimator {font-family: monospace;background-color: #f0f8ff;border: 1px dotted black;border-radius: 0.25em;box-sizing: border-box;margin-bottom: 0.5em;}#sk-container-id-1 div.sk-estimator:hover {background-color: #d4ebff;}#sk-container-id-1 div.sk-parallel-item::after {content: \"\";width: 100%;border-bottom: 1px solid gray;flex-grow: 1;}#sk-container-id-1 div.sk-label:hover label.sk-toggleable__label {background-color: #d4ebff;}#sk-container-id-1 div.sk-serial::before {content: \"\";position: absolute;border-left: 1px solid gray;box-sizing: border-box;top: 0;bottom: 0;left: 50%;z-index: 0;}#sk-container-id-1 div.sk-serial {display: flex;flex-direction: column;align-items: center;background-color: white;padding-right: 0.2em;padding-left: 0.2em;position: relative;}#sk-container-id-1 div.sk-item {position: relative;z-index: 1;}#sk-container-id-1 div.sk-parallel {display: flex;align-items: stretch;justify-content: center;background-color: white;position: relative;}#sk-container-id-1 div.sk-item::before, #sk-container-id-1 div.sk-parallel-item::before {content: \"\";position: absolute;border-left: 1px solid gray;box-sizing: border-box;top: 0;bottom: 0;left: 50%;z-index: -1;}#sk-container-id-1 div.sk-parallel-item {display: flex;flex-direction: column;z-index: 1;position: relative;background-color: white;}#sk-container-id-1 div.sk-parallel-item:first-child::after {align-self: flex-end;width: 50%;}#sk-container-id-1 div.sk-parallel-item:last-child::after {align-self: flex-start;width: 50%;}#sk-container-id-1 div.sk-parallel-item:only-child::after {width: 0;}#sk-container-id-1 div.sk-dashed-wrapped {border: 1px dashed gray;margin: 0 0.4em 0.5em 0.4em;box-sizing: border-box;padding-bottom: 0.4em;background-color: white;}#sk-container-id-1 div.sk-label label {font-family: monospace;font-weight: bold;display: inline-block;line-height: 1.2em;}#sk-container-id-1 div.sk-label-container {text-align: center;}#sk-container-id-1 div.sk-container {/* jupyter's `normalize.less` sets `[hidden] { display: none; }` but bootstrap.min.css set `[hidden] { display: none !important; }` so we also need the `!important` here to be able to override the default hidden behavior on the sphinx rendered scikit-learn.org. See: https://github.com/scikit-learn/scikit-learn/issues/21755 */display: inline-block !important;position: relative;}#sk-container-id-1 div.sk-text-repr-fallback {display: none;}</style><div id=\"sk-container-id-1\" class=\"sk-top-container\"><div class=\"sk-text-repr-fallback\"><pre>ExtraTreesRegressor()</pre><b>In a Jupyter environment, please rerun this cell to show the HTML representation or trust the notebook. <br />On GitHub, the HTML representation is unable to render, please try loading this page with nbviewer.org.</b></div><div class=\"sk-container\" hidden><div class=\"sk-item\"><div class=\"sk-estimator sk-toggleable\"><input class=\"sk-toggleable__control sk-hidden--visually\" id=\"sk-estimator-id-1\" type=\"checkbox\" checked><label for=\"sk-estimator-id-1\" class=\"sk-toggleable__label sk-toggleable__label-arrow\">ExtraTreesRegressor</label><div class=\"sk-toggleable__content\"><pre>ExtraTreesRegressor()</pre></div></div></div></div></div>"
            ]
          },
          "metadata": {},
          "execution_count": 9
        }
      ]
    },
    {
      "cell_type": "code",
      "source": [
        "indexs = np.argsort(model.feature_importances_)[::-1]\n",
        "indexs"
      ],
      "metadata": {
        "colab": {
          "base_uri": "https://localhost:8080/"
        },
        "id": "C58xncJ8Np8j",
        "outputId": "2ad4b92c-9720-4d4c-9cb7-c38b5a8dd982"
      },
      "execution_count": 13,
      "outputs": [
        {
          "output_type": "execute_result",
          "data": {
            "text/plain": [
              "array([0, 2, 4, 5, 3, 1])"
            ]
          },
          "metadata": {},
          "execution_count": 13
        }
      ]
    },
    {
      "cell_type": "code",
      "source": [
        "x.columns[indexs]"
      ],
      "metadata": {
        "colab": {
          "base_uri": "https://localhost:8080/"
        },
        "id": "TWpP-gSHN60q",
        "outputId": "c1907757-8a00-4902-90ee-03c29e75314f"
      },
      "execution_count": 15,
      "outputs": [
        {
          "output_type": "execute_result",
          "data": {
            "text/plain": [
              "Index(['battery_power', 'clock_speed', 'fc', 'four_g', 'dual_sim', 'blue'], dtype='object')"
            ]
          },
          "metadata": {},
          "execution_count": 15
        }
      ]
    },
    {
      "cell_type": "code",
      "source": [
        "data.describe()"
      ],
      "metadata": {
        "colab": {
          "base_uri": "https://localhost:8080/",
          "height": 300
        },
        "id": "s5bCM0IfOOTr",
        "outputId": "5f5e631c-ac27-42d3-a9f8-8d7d5e4a77ac"
      },
      "execution_count": 17,
      "outputs": [
        {
          "output_type": "execute_result",
          "data": {
            "text/plain": [
              "       battery_power       blue  clock_speed     dual_sim           fc  \\\n",
              "count    2000.000000  2000.0000  2000.000000  2000.000000  2000.000000   \n",
              "mean     1238.518500     0.4950     1.522250     0.509500     4.309500   \n",
              "std       439.418206     0.5001     0.816004     0.500035     4.341444   \n",
              "min       501.000000     0.0000     0.500000     0.000000     0.000000   \n",
              "25%       851.750000     0.0000     0.700000     0.000000     1.000000   \n",
              "50%      1226.000000     0.0000     1.500000     1.000000     3.000000   \n",
              "75%      1615.250000     1.0000     2.200000     1.000000     7.000000   \n",
              "max      1998.000000     1.0000     3.000000     1.000000    19.000000   \n",
              "\n",
              "            four_g   int_memory  \n",
              "count  2000.000000  2000.000000  \n",
              "mean      0.521500    32.046500  \n",
              "std       0.499662    18.145715  \n",
              "min       0.000000     2.000000  \n",
              "25%       0.000000    16.000000  \n",
              "50%       1.000000    32.000000  \n",
              "75%       1.000000    48.000000  \n",
              "max       1.000000    64.000000  "
            ],
            "text/html": [
              "\n",
              "  <div id=\"df-d4e54400-80f7-44a2-84da-44a5005c1a9e\">\n",
              "    <div class=\"colab-df-container\">\n",
              "      <div>\n",
              "<style scoped>\n",
              "    .dataframe tbody tr th:only-of-type {\n",
              "        vertical-align: middle;\n",
              "    }\n",
              "\n",
              "    .dataframe tbody tr th {\n",
              "        vertical-align: top;\n",
              "    }\n",
              "\n",
              "    .dataframe thead th {\n",
              "        text-align: right;\n",
              "    }\n",
              "</style>\n",
              "<table border=\"1\" class=\"dataframe\">\n",
              "  <thead>\n",
              "    <tr style=\"text-align: right;\">\n",
              "      <th></th>\n",
              "      <th>battery_power</th>\n",
              "      <th>blue</th>\n",
              "      <th>clock_speed</th>\n",
              "      <th>dual_sim</th>\n",
              "      <th>fc</th>\n",
              "      <th>four_g</th>\n",
              "      <th>int_memory</th>\n",
              "    </tr>\n",
              "  </thead>\n",
              "  <tbody>\n",
              "    <tr>\n",
              "      <th>count</th>\n",
              "      <td>2000.000000</td>\n",
              "      <td>2000.0000</td>\n",
              "      <td>2000.000000</td>\n",
              "      <td>2000.000000</td>\n",
              "      <td>2000.000000</td>\n",
              "      <td>2000.000000</td>\n",
              "      <td>2000.000000</td>\n",
              "    </tr>\n",
              "    <tr>\n",
              "      <th>mean</th>\n",
              "      <td>1238.518500</td>\n",
              "      <td>0.4950</td>\n",
              "      <td>1.522250</td>\n",
              "      <td>0.509500</td>\n",
              "      <td>4.309500</td>\n",
              "      <td>0.521500</td>\n",
              "      <td>32.046500</td>\n",
              "    </tr>\n",
              "    <tr>\n",
              "      <th>std</th>\n",
              "      <td>439.418206</td>\n",
              "      <td>0.5001</td>\n",
              "      <td>0.816004</td>\n",
              "      <td>0.500035</td>\n",
              "      <td>4.341444</td>\n",
              "      <td>0.499662</td>\n",
              "      <td>18.145715</td>\n",
              "    </tr>\n",
              "    <tr>\n",
              "      <th>min</th>\n",
              "      <td>501.000000</td>\n",
              "      <td>0.0000</td>\n",
              "      <td>0.500000</td>\n",
              "      <td>0.000000</td>\n",
              "      <td>0.000000</td>\n",
              "      <td>0.000000</td>\n",
              "      <td>2.000000</td>\n",
              "    </tr>\n",
              "    <tr>\n",
              "      <th>25%</th>\n",
              "      <td>851.750000</td>\n",
              "      <td>0.0000</td>\n",
              "      <td>0.700000</td>\n",
              "      <td>0.000000</td>\n",
              "      <td>1.000000</td>\n",
              "      <td>0.000000</td>\n",
              "      <td>16.000000</td>\n",
              "    </tr>\n",
              "    <tr>\n",
              "      <th>50%</th>\n",
              "      <td>1226.000000</td>\n",
              "      <td>0.0000</td>\n",
              "      <td>1.500000</td>\n",
              "      <td>1.000000</td>\n",
              "      <td>3.000000</td>\n",
              "      <td>1.000000</td>\n",
              "      <td>32.000000</td>\n",
              "    </tr>\n",
              "    <tr>\n",
              "      <th>75%</th>\n",
              "      <td>1615.250000</td>\n",
              "      <td>1.0000</td>\n",
              "      <td>2.200000</td>\n",
              "      <td>1.000000</td>\n",
              "      <td>7.000000</td>\n",
              "      <td>1.000000</td>\n",
              "      <td>48.000000</td>\n",
              "    </tr>\n",
              "    <tr>\n",
              "      <th>max</th>\n",
              "      <td>1998.000000</td>\n",
              "      <td>1.0000</td>\n",
              "      <td>3.000000</td>\n",
              "      <td>1.000000</td>\n",
              "      <td>19.000000</td>\n",
              "      <td>1.000000</td>\n",
              "      <td>64.000000</td>\n",
              "    </tr>\n",
              "  </tbody>\n",
              "</table>\n",
              "</div>\n",
              "      <button class=\"colab-df-convert\" onclick=\"convertToInteractive('df-d4e54400-80f7-44a2-84da-44a5005c1a9e')\"\n",
              "              title=\"Convert this dataframe to an interactive table.\"\n",
              "              style=\"display:none;\">\n",
              "        \n",
              "  <svg xmlns=\"http://www.w3.org/2000/svg\" height=\"24px\"viewBox=\"0 0 24 24\"\n",
              "       width=\"24px\">\n",
              "    <path d=\"M0 0h24v24H0V0z\" fill=\"none\"/>\n",
              "    <path d=\"M18.56 5.44l.94 2.06.94-2.06 2.06-.94-2.06-.94-.94-2.06-.94 2.06-2.06.94zm-11 1L8.5 8.5l.94-2.06 2.06-.94-2.06-.94L8.5 2.5l-.94 2.06-2.06.94zm10 10l.94 2.06.94-2.06 2.06-.94-2.06-.94-.94-2.06-.94 2.06-2.06.94z\"/><path d=\"M17.41 7.96l-1.37-1.37c-.4-.4-.92-.59-1.43-.59-.52 0-1.04.2-1.43.59L10.3 9.45l-7.72 7.72c-.78.78-.78 2.05 0 2.83L4 21.41c.39.39.9.59 1.41.59.51 0 1.02-.2 1.41-.59l7.78-7.78 2.81-2.81c.8-.78.8-2.07 0-2.86zM5.41 20L4 18.59l7.72-7.72 1.47 1.35L5.41 20z\"/>\n",
              "  </svg>\n",
              "      </button>\n",
              "      \n",
              "  <style>\n",
              "    .colab-df-container {\n",
              "      display:flex;\n",
              "      flex-wrap:wrap;\n",
              "      gap: 12px;\n",
              "    }\n",
              "\n",
              "    .colab-df-convert {\n",
              "      background-color: #E8F0FE;\n",
              "      border: none;\n",
              "      border-radius: 50%;\n",
              "      cursor: pointer;\n",
              "      display: none;\n",
              "      fill: #1967D2;\n",
              "      height: 32px;\n",
              "      padding: 0 0 0 0;\n",
              "      width: 32px;\n",
              "    }\n",
              "\n",
              "    .colab-df-convert:hover {\n",
              "      background-color: #E2EBFA;\n",
              "      box-shadow: 0px 1px 2px rgba(60, 64, 67, 0.3), 0px 1px 3px 1px rgba(60, 64, 67, 0.15);\n",
              "      fill: #174EA6;\n",
              "    }\n",
              "\n",
              "    [theme=dark] .colab-df-convert {\n",
              "      background-color: #3B4455;\n",
              "      fill: #D2E3FC;\n",
              "    }\n",
              "\n",
              "    [theme=dark] .colab-df-convert:hover {\n",
              "      background-color: #434B5C;\n",
              "      box-shadow: 0px 1px 3px 1px rgba(0, 0, 0, 0.15);\n",
              "      filter: drop-shadow(0px 1px 2px rgba(0, 0, 0, 0.3));\n",
              "      fill: #FFFFFF;\n",
              "    }\n",
              "  </style>\n",
              "\n",
              "      <script>\n",
              "        const buttonEl =\n",
              "          document.querySelector('#df-d4e54400-80f7-44a2-84da-44a5005c1a9e button.colab-df-convert');\n",
              "        buttonEl.style.display =\n",
              "          google.colab.kernel.accessAllowed ? 'block' : 'none';\n",
              "\n",
              "        async function convertToInteractive(key) {\n",
              "          const element = document.querySelector('#df-d4e54400-80f7-44a2-84da-44a5005c1a9e');\n",
              "          const dataTable =\n",
              "            await google.colab.kernel.invokeFunction('convertToInteractive',\n",
              "                                                     [key], {});\n",
              "          if (!dataTable) return;\n",
              "\n",
              "          const docLinkHtml = 'Like what you see? Visit the ' +\n",
              "            '<a target=\"_blank\" href=https://colab.research.google.com/notebooks/data_table.ipynb>data table notebook</a>'\n",
              "            + ' to learn more about interactive tables.';\n",
              "          element.innerHTML = '';\n",
              "          dataTable['output_type'] = 'display_data';\n",
              "          await google.colab.output.renderOutput(dataTable, element);\n",
              "          const docLink = document.createElement('div');\n",
              "          docLink.innerHTML = docLinkHtml;\n",
              "          element.appendChild(docLink);\n",
              "        }\n",
              "      </script>\n",
              "    </div>\n",
              "  </div>\n",
              "  "
            ]
          },
          "metadata": {},
          "execution_count": 17
        }
      ]
    },
    {
      "cell_type": "code",
      "source": [
        "data.value_counts()"
      ],
      "metadata": {
        "colab": {
          "base_uri": "https://localhost:8080/"
        },
        "id": "QO1IR4ccOfeT",
        "outputId": "d2f37c25-c45a-4af4-f888-bcbe61edb3e7"
      },
      "execution_count": 18,
      "outputs": [
        {
          "output_type": "execute_result",
          "data": {
            "text/plain": [
              "battery_power  blue  clock_speed  dual_sim  fc  four_g  int_memory\n",
              "501            0     2.3          0         12  1       54            1\n",
              "1494           0     1.9          0         2   1       47            1\n",
              "1504           0     1.9          1         7   1       25            1\n",
              "                     1.5          0         12  1       34            1\n",
              "1503           1     0.7          0         10  1       43            1\n",
              "                                                                     ..\n",
              "972            1     1.7          0         0   1       54            1\n",
              "                     1.3          0         8   0       44            1\n",
              "                     0.5          1         5   0       13            1\n",
              "970            1     1.3          1         5   0       59            1\n",
              "1998           1     1.2          0         8   0       31            1\n",
              "Length: 2000, dtype: int64"
            ]
          },
          "metadata": {},
          "execution_count": 18
        }
      ]
    },
    {
      "cell_type": "markdown",
      "source": [
        "통계 테스트를 이용해서 출력변수와 상관관계가 가장 강한 특성을 확인\n",
        "  - 사이킷런의 SelectKBest 클래스 : 상위 k개의 특성을 선택하기위한 통계 테스트 세트를 제공\n",
        "  - 카이제곱 통계테스트를 사용"
      ],
      "metadata": {
        "id": "3AWEXTf7O_nk"
      }
    },
    {
      "cell_type": "code",
      "source": [
        "from sklearn.feature_selection import SelectKBest\n",
        "from sklearn.feature_selection import chi2"
      ],
      "metadata": {
        "id": "DxzbB-L7O0Ly"
      },
      "execution_count": 19,
      "outputs": []
    },
    {
      "cell_type": "code",
      "source": [
        "bestFeature = SelectKBest(score_func=chi2, k = 3)\n",
        "bestf = bestFeature.fit(x,y)\n",
        "df_scores = pd.DataFrame(bestf.scores_)\n",
        "df_columns = pd.DataFrame(x.columns)\n",
        "scores = pd.concat([df_columns,df_scores],axis=1)\n",
        "scores.columns = ['spec','score']\n",
        "scores.nlargest(3,'score')  # 상위 3개 특성을 추출"
      ],
      "metadata": {
        "colab": {
          "base_uri": "https://localhost:8080/",
          "height": 143
        },
        "id": "Khcto-8wPfJ2",
        "outputId": "6cfa41b9-d858-453d-9f20-2e5117f8a525"
      },
      "execution_count": 23,
      "outputs": [
        {
          "output_type": "execute_result",
          "data": {
            "text/plain": [
              "            spec         score\n",
              "0  battery_power  11058.155685\n",
              "4             fc    290.812265\n",
              "1           blue     36.976457"
            ],
            "text/html": [
              "\n",
              "  <div id=\"df-93a4c241-6dc2-4177-bbc0-54a3a9edd5dd\">\n",
              "    <div class=\"colab-df-container\">\n",
              "      <div>\n",
              "<style scoped>\n",
              "    .dataframe tbody tr th:only-of-type {\n",
              "        vertical-align: middle;\n",
              "    }\n",
              "\n",
              "    .dataframe tbody tr th {\n",
              "        vertical-align: top;\n",
              "    }\n",
              "\n",
              "    .dataframe thead th {\n",
              "        text-align: right;\n",
              "    }\n",
              "</style>\n",
              "<table border=\"1\" class=\"dataframe\">\n",
              "  <thead>\n",
              "    <tr style=\"text-align: right;\">\n",
              "      <th></th>\n",
              "      <th>spec</th>\n",
              "      <th>score</th>\n",
              "    </tr>\n",
              "  </thead>\n",
              "  <tbody>\n",
              "    <tr>\n",
              "      <th>0</th>\n",
              "      <td>battery_power</td>\n",
              "      <td>11058.155685</td>\n",
              "    </tr>\n",
              "    <tr>\n",
              "      <th>4</th>\n",
              "      <td>fc</td>\n",
              "      <td>290.812265</td>\n",
              "    </tr>\n",
              "    <tr>\n",
              "      <th>1</th>\n",
              "      <td>blue</td>\n",
              "      <td>36.976457</td>\n",
              "    </tr>\n",
              "  </tbody>\n",
              "</table>\n",
              "</div>\n",
              "      <button class=\"colab-df-convert\" onclick=\"convertToInteractive('df-93a4c241-6dc2-4177-bbc0-54a3a9edd5dd')\"\n",
              "              title=\"Convert this dataframe to an interactive table.\"\n",
              "              style=\"display:none;\">\n",
              "        \n",
              "  <svg xmlns=\"http://www.w3.org/2000/svg\" height=\"24px\"viewBox=\"0 0 24 24\"\n",
              "       width=\"24px\">\n",
              "    <path d=\"M0 0h24v24H0V0z\" fill=\"none\"/>\n",
              "    <path d=\"M18.56 5.44l.94 2.06.94-2.06 2.06-.94-2.06-.94-.94-2.06-.94 2.06-2.06.94zm-11 1L8.5 8.5l.94-2.06 2.06-.94-2.06-.94L8.5 2.5l-.94 2.06-2.06.94zm10 10l.94 2.06.94-2.06 2.06-.94-2.06-.94-.94-2.06-.94 2.06-2.06.94z\"/><path d=\"M17.41 7.96l-1.37-1.37c-.4-.4-.92-.59-1.43-.59-.52 0-1.04.2-1.43.59L10.3 9.45l-7.72 7.72c-.78.78-.78 2.05 0 2.83L4 21.41c.39.39.9.59 1.41.59.51 0 1.02-.2 1.41-.59l7.78-7.78 2.81-2.81c.8-.78.8-2.07 0-2.86zM5.41 20L4 18.59l7.72-7.72 1.47 1.35L5.41 20z\"/>\n",
              "  </svg>\n",
              "      </button>\n",
              "      \n",
              "  <style>\n",
              "    .colab-df-container {\n",
              "      display:flex;\n",
              "      flex-wrap:wrap;\n",
              "      gap: 12px;\n",
              "    }\n",
              "\n",
              "    .colab-df-convert {\n",
              "      background-color: #E8F0FE;\n",
              "      border: none;\n",
              "      border-radius: 50%;\n",
              "      cursor: pointer;\n",
              "      display: none;\n",
              "      fill: #1967D2;\n",
              "      height: 32px;\n",
              "      padding: 0 0 0 0;\n",
              "      width: 32px;\n",
              "    }\n",
              "\n",
              "    .colab-df-convert:hover {\n",
              "      background-color: #E2EBFA;\n",
              "      box-shadow: 0px 1px 2px rgba(60, 64, 67, 0.3), 0px 1px 3px 1px rgba(60, 64, 67, 0.15);\n",
              "      fill: #174EA6;\n",
              "    }\n",
              "\n",
              "    [theme=dark] .colab-df-convert {\n",
              "      background-color: #3B4455;\n",
              "      fill: #D2E3FC;\n",
              "    }\n",
              "\n",
              "    [theme=dark] .colab-df-convert:hover {\n",
              "      background-color: #434B5C;\n",
              "      box-shadow: 0px 1px 3px 1px rgba(0, 0, 0, 0.15);\n",
              "      filter: drop-shadow(0px 1px 2px rgba(0, 0, 0, 0.3));\n",
              "      fill: #FFFFFF;\n",
              "    }\n",
              "  </style>\n",
              "\n",
              "      <script>\n",
              "        const buttonEl =\n",
              "          document.querySelector('#df-93a4c241-6dc2-4177-bbc0-54a3a9edd5dd button.colab-df-convert');\n",
              "        buttonEl.style.display =\n",
              "          google.colab.kernel.accessAllowed ? 'block' : 'none';\n",
              "\n",
              "        async function convertToInteractive(key) {\n",
              "          const element = document.querySelector('#df-93a4c241-6dc2-4177-bbc0-54a3a9edd5dd');\n",
              "          const dataTable =\n",
              "            await google.colab.kernel.invokeFunction('convertToInteractive',\n",
              "                                                     [key], {});\n",
              "          if (!dataTable) return;\n",
              "\n",
              "          const docLinkHtml = 'Like what you see? Visit the ' +\n",
              "            '<a target=\"_blank\" href=https://colab.research.google.com/notebooks/data_table.ipynb>data table notebook</a>'\n",
              "            + ' to learn more about interactive tables.';\n",
              "          element.innerHTML = '';\n",
              "          dataTable['output_type'] = 'display_data';\n",
              "          await google.colab.output.renderOutput(dataTable, element);\n",
              "          const docLink = document.createElement('div');\n",
              "          docLink.innerHTML = docLinkHtml;\n",
              "          element.appendChild(docLink);\n",
              "        }\n",
              "      </script>\n",
              "    </div>\n",
              "  </div>\n",
              "  "
            ]
          },
          "metadata": {},
          "execution_count": 23
        }
      ]
    },
    {
      "cell_type": "markdown",
      "source": [
        "상관관계 히트맵 확인"
      ],
      "metadata": {
        "id": "oK1A73dyQo8P"
      }
    },
    {
      "cell_type": "code",
      "source": [
        "import seaborn as sns\n",
        "data = pd.read_csv('https://raw.githubusercontent.com/leekyuyoung20230313/pythone/main/%EB%A8%B8%EC%8B%A0%EB%9F%AC%EB%8B%9D/data/train_20.csv')\n",
        "correlation_matirix = data.corr()\n",
        "top_corr_feature =  correlation_matirix.index\n",
        "plt.figure(figsize=(20,20))\n",
        "# 출력\n",
        "sns.heatmap(correlation_matirix,annot=True,cmap='RdYlGn')\n",
        "plt.show()"
      ],
      "metadata": {
        "colab": {
          "base_uri": "https://localhost:8080/",
          "height": 1000
        },
        "id": "dBqhnCONP3AT",
        "outputId": "a23926b8-de36-474b-f38b-29398d76e090"
      },
      "execution_count": 28,
      "outputs": [
        {
          "output_type": "display_data",
          "data": {
            "text/plain": [
              "<Figure size 2000x2000 with 2 Axes>"
            ],
            "image/png": "[encoded data removed]"
          },
          "metadata": {}
        }
      ]
    },
    {
      "cell_type": "markdown",
      "source": [
        "중요특성을 자동으로 선택하는 방법\n",
        "  - 래퍼 기반\n",
        "    - forward selection\n",
        "      - 반복할때마다 모델 성능을 개선하기위해 특성이 추가\n",
        "      - 특성이 향상되면 해당 특성이 유지되고, 개선하지 못한 특성을 제거\n",
        "    - backward selection\n",
        "      - 데이터세트에 있는 모든 특성이 있는 상태로 출발\n",
        "      - 반복할때마다 가장 낮은 특성을 제거\n",
        "    - recursive selection(재귀적 특성 제거)\n",
        "      - 반복적으로 모델을 생성해서 반복할때마다 성능이 최고       \n",
        "      또는 최적인 특성을 저장하고 남은 특성으로 다음 모델을 구성 특성이 소진될때까지 반복\n",
        "  - 필터 기반\n",
        "     - 지표를 지정하고 해당 지표를 기반으로 특성을 필터링\n",
        "      - 피어슨 상관관계(Pearson's correlation)\n",
        "      - 선형판별 분석(Liear discriminant analysis, LDA)\n",
        "        - 범주형 변수에서 두개 이상의 레벨에서 특성을 뽑아내거나 분리하는 선형 조합을 찾는데 사용\n",
        "      - 분산분석(Analysis of Vaiance, ANOVA) : LDA와 유사, 하나이상의 범주형 독립변수와 하나의 연속 종속변수를 사용해 계산, 여러그룹의 평균이 같은지 여부를 알려주는 통계 테스트르 제공\n",
        "    - 필터기반의 방법은 다중공선성을 제거하지 않은다\n",
        "    \n",
        "  - 임베디드 방법\n",
        "    - 라쏘회귀\n",
        "      - L1정규화 : 계수크기의 절대값에 해당하는 패널티를 추가\n",
        "    - 릿지회귀\n",
        "      - L2정규화 : 계수크기의 제곱값에 해당하는 패널티를 추가"
      ],
      "metadata": {
        "id": "VJVSKSHEVL-w"
      }
    },
    {
      "cell_type": "markdown",
      "source": [
        "데이터 전처리에 있어서 필요한 기능 및 기술\n",
        "  - 대치 - 결측치 - 개인정보\n",
        "  - 이상치 관리\n",
        "  - 원-핫인코딩\n",
        "  - 로그변환\n",
        "  - 스케일링\n",
        "  - 날짜 처리"
      ],
      "metadata": {
        "id": "mEJDbhzOYLpV"
      }
    },
    {
      "cell_type": "markdown",
      "source": [
        "결측치를 처리하는 방법\n",
        "  - 제거    \n",
        "  - 대치\n",
        "    - 적당한 값\n",
        "      - 수치\n",
        "        - 전체데이터 : 평균, 중위수, 0\n",
        "        - 중요컬럼별 그룹핑해서 평균, 중위수\n",
        "      - 범주형\n",
        "        - 최빈값"
      ],
      "metadata": {
        "id": "XAJUsu8aYn9-"
      }
    },
    {
      "cell_type": "code",
      "source": [
        "from concurrent.futures import thread\n",
        "# EX  임계치를 설정해서 제거\n",
        "# 임계치보다 높은 비율의 결측치를 갖는 열을 제거\n",
        "threshold = 0.6\n",
        "data[(data.isnull().mean()< threshold).index]\n",
        "\n",
        "# 임계치보다 높은 비율의 결측치를 갖는 행을 제거\n",
        "data = data.loc[data.isnull().mean(axis=1) < threshold]\n",
        "data\n"
      ],
      "metadata": {
        "colab": {
          "base_uri": "https://localhost:8080/",
          "height": 423
        },
        "id": "hvBOQCRNUd70",
        "outputId": "4665c5e9-ce78-4a14-da65-da3c3037961a"
      },
      "execution_count": 41,
      "outputs": [
        {
          "output_type": "execute_result",
          "data": {
            "text/plain": [
              "      battery_power  blue  clock_speed  dual_sim  fc  four_g  int_memory\n",
              "0               842     0          2.2         0   1       0           7\n",
              "1              1021     1          0.5         1   0       1          53\n",
              "2               563     1          0.5         1   2       1          41\n",
              "3               615     1          2.5         0   0       0          10\n",
              "4              1821     1          1.2         0  13       1          44\n",
              "...             ...   ...          ...       ...  ..     ...         ...\n",
              "1995            794     1          0.5         1   0       1           2\n",
              "1996           1965     1          2.6         1   0       0          39\n",
              "1997           1911     0          0.9         1   1       1          36\n",
              "1998           1512     0          0.9         0   4       1          46\n",
              "1999            510     1          2.0         1   5       1          45\n",
              "\n",
              "[2000 rows x 7 columns]"
            ],
            "text/html": [
              "\n",
              "  <div id=\"df-6d7fb21b-b4f7-4e09-8ab9-cc35b7593dd0\">\n",
              "    <div class=\"colab-df-container\">\n",
              "      <div>\n",
              "<style scoped>\n",
              "    .dataframe tbody tr th:only-of-type {\n",
              "        vertical-align: middle;\n",
              "    }\n",
              "\n",
              "    .dataframe tbody tr th {\n",
              "        vertical-align: top;\n",
              "    }\n",
              "\n",
              "    .dataframe thead th {\n",
              "        text-align: right;\n",
              "    }\n",
              "</style>\n",
              "<table border=\"1\" class=\"dataframe\">\n",
              "  <thead>\n",
              "    <tr style=\"text-align: right;\">\n",
              "      <th></th>\n",
              "      <th>battery_power</th>\n",
              "      <th>blue</th>\n",
              "      <th>clock_speed</th>\n",
              "      <th>dual_sim</th>\n",
              "      <th>fc</th>\n",
              "      <th>four_g</th>\n",
              "      <th>int_memory</th>\n",
              "    </tr>\n",
              "  </thead>\n",
              "  <tbody>\n",
              "    <tr>\n",
              "      <th>0</th>\n",
              "      <td>842</td>\n",
              "      <td>0</td>\n",
              "      <td>2.2</td>\n",
              "      <td>0</td>\n",
              "      <td>1</td>\n",
              "      <td>0</td>\n",
              "      <td>7</td>\n",
              "    </tr>\n",
              "    <tr>\n",
              "      <th>1</th>\n",
              "      <td>1021</td>\n",
              "      <td>1</td>\n",
              "      <td>0.5</td>\n",
              "      <td>1</td>\n",
              "      <td>0</td>\n",
              "      <td>1</td>\n",
              "      <td>53</td>\n",
              "    </tr>\n",
              "    <tr>\n",
              "      <th>2</th>\n",
              "      <td>563</td>\n",
              "      <td>1</td>\n",
              "      <td>0.5</td>\n",
              "      <td>1</td>\n",
              "      <td>2</td>\n",
              "      <td>1</td>\n",
              "      <td>41</td>\n",
              "    </tr>\n",
              "    <tr>\n",
              "      <th>3</th>\n",
              "      <td>615</td>\n",
              "      <td>1</td>\n",
              "      <td>2.5</td>\n",
              "      <td>0</td>\n",
              "      <td>0</td>\n",
              "      <td>0</td>\n",
              "      <td>10</td>\n",
              "    </tr>\n",
              "    <tr>\n",
              "      <th>4</th>\n",
              "      <td>1821</td>\n",
              "      <td>1</td>\n",
              "      <td>1.2</td>\n",
              "      <td>0</td>\n",
              "      <td>13</td>\n",
              "      <td>1</td>\n",
              "      <td>44</td>\n",
              "    </tr>\n",
              "    <tr>\n",
              "      <th>...</th>\n",
              "      <td>...</td>\n",
              "      <td>...</td>\n",
              "      <td>...</td>\n",
              "      <td>...</td>\n",
              "      <td>...</td>\n",
              "      <td>...</td>\n",
              "      <td>...</td>\n",
              "    </tr>\n",
              "    <tr>\n",
              "      <th>1995</th>\n",
              "      <td>794</td>\n",
              "      <td>1</td>\n",
              "      <td>0.5</td>\n",
              "      <td>1</td>\n",
              "      <td>0</td>\n",
              "      <td>1</td>\n",
              "      <td>2</td>\n",
              "    </tr>\n",
              "    <tr>\n",
              "      <th>1996</th>\n",
              "      <td>1965</td>\n",
              "      <td>1</td>\n",
              "      <td>2.6</td>\n",
              "      <td>1</td>\n",
              "      <td>0</td>\n",
              "      <td>0</td>\n",
              "      <td>39</td>\n",
              "    </tr>\n",
              "    <tr>\n",
              "      <th>1997</th>\n",
              "      <td>1911</td>\n",
              "      <td>0</td>\n",
              "      <td>0.9</td>\n",
              "      <td>1</td>\n",
              "      <td>1</td>\n",
              "      <td>1</td>\n",
              "      <td>36</td>\n",
              "    </tr>\n",
              "    <tr>\n",
              "      <th>1998</th>\n",
              "      <td>1512</td>\n",
              "      <td>0</td>\n",
              "      <td>0.9</td>\n",
              "      <td>0</td>\n",
              "      <td>4</td>\n",
              "      <td>1</td>\n",
              "      <td>46</td>\n",
              "    </tr>\n",
              "    <tr>\n",
              "      <th>1999</th>\n",
              "      <td>510</td>\n",
              "      <td>1</td>\n",
              "      <td>2.0</td>\n",
              "      <td>1</td>\n",
              "      <td>5</td>\n",
              "      <td>1</td>\n",
              "      <td>45</td>\n",
              "    </tr>\n",
              "  </tbody>\n",
              "</table>\n",
              "<p>2000 rows × 7 columns</p>\n",
              "</div>\n",
              "      <button class=\"colab-df-convert\" onclick=\"convertToInteractive('df-6d7fb21b-b4f7-4e09-8ab9-cc35b7593dd0')\"\n",
              "              title=\"Convert this dataframe to an interactive table.\"\n",
              "              style=\"display:none;\">\n",
              "        \n",
              "  <svg xmlns=\"http://www.w3.org/2000/svg\" height=\"24px\"viewBox=\"0 0 24 24\"\n",
              "       width=\"24px\">\n",
              "    <path d=\"M0 0h24v24H0V0z\" fill=\"none\"/>\n",
              "    <path d=\"M18.56 5.44l.94 2.06.94-2.06 2.06-.94-2.06-.94-.94-2.06-.94 2.06-2.06.94zm-11 1L8.5 8.5l.94-2.06 2.06-.94-2.06-.94L8.5 2.5l-.94 2.06-2.06.94zm10 10l.94 2.06.94-2.06 2.06-.94-2.06-.94-.94-2.06-.94 2.06-2.06.94z\"/><path d=\"M17.41 7.96l-1.37-1.37c-.4-.4-.92-.59-1.43-.59-.52 0-1.04.2-1.43.59L10.3 9.45l-7.72 7.72c-.78.78-.78 2.05 0 2.83L4 21.41c.39.39.9.59 1.41.59.51 0 1.02-.2 1.41-.59l7.78-7.78 2.81-2.81c.8-.78.8-2.07 0-2.86zM5.41 20L4 18.59l7.72-7.72 1.47 1.35L5.41 20z\"/>\n",
              "  </svg>\n",
              "      </button>\n",
              "      \n",
              "  <style>\n",
              "    .colab-df-container {\n",
              "      display:flex;\n",
              "      flex-wrap:wrap;\n",
              "      gap: 12px;\n",
              "    }\n",
              "\n",
              "    .colab-df-convert {\n",
              "      background-color: #E8F0FE;\n",
              "      border: none;\n",
              "      border-radius: 50%;\n",
              "      cursor: pointer;\n",
              "      display: none;\n",
              "      fill: #1967D2;\n",
              "      height: 32px;\n",
              "      padding: 0 0 0 0;\n",
              "      width: 32px;\n",
              "    }\n",
              "\n",
              "    .colab-df-convert:hover {\n",
              "      background-color: #E2EBFA;\n",
              "      box-shadow: 0px 1px 2px rgba(60, 64, 67, 0.3), 0px 1px 3px 1px rgba(60, 64, 67, 0.15);\n",
              "      fill: #174EA6;\n",
              "    }\n",
              "\n",
              "    [theme=dark] .colab-df-convert {\n",
              "      background-color: #3B4455;\n",
              "      fill: #D2E3FC;\n",
              "    }\n",
              "\n",
              "    [theme=dark] .colab-df-convert:hover {\n",
              "      background-color: #434B5C;\n",
              "      box-shadow: 0px 1px 3px 1px rgba(0, 0, 0, 0.15);\n",
              "      filter: drop-shadow(0px 1px 2px rgba(0, 0, 0, 0.3));\n",
              "      fill: #FFFFFF;\n",
              "    }\n",
              "  </style>\n",
              "\n",
              "      <script>\n",
              "        const buttonEl =\n",
              "          document.querySelector('#df-6d7fb21b-b4f7-4e09-8ab9-cc35b7593dd0 button.colab-df-convert');\n",
              "        buttonEl.style.display =\n",
              "          google.colab.kernel.accessAllowed ? 'block' : 'none';\n",
              "\n",
              "        async function convertToInteractive(key) {\n",
              "          const element = document.querySelector('#df-6d7fb21b-b4f7-4e09-8ab9-cc35b7593dd0');\n",
              "          const dataTable =\n",
              "            await google.colab.kernel.invokeFunction('convertToInteractive',\n",
              "                                                     [key], {});\n",
              "          if (!dataTable) return;\n",
              "\n",
              "          const docLinkHtml = 'Like what you see? Visit the ' +\n",
              "            '<a target=\"_blank\" href=https://colab.research.google.com/notebooks/data_table.ipynb>data table notebook</a>'\n",
              "            + ' to learn more about interactive tables.';\n",
              "          element.innerHTML = '';\n",
              "          dataTable['output_type'] = 'display_data';\n",
              "          await google.colab.output.renderOutput(dataTable, element);\n",
              "          const docLink = document.createElement('div');\n",
              "          docLink.innerHTML = docLinkHtml;\n",
              "          element.appendChild(docLink);\n",
              "        }\n",
              "      </script>\n",
              "    </div>\n",
              "  </div>\n",
              "  "
            ]
          },
          "metadata": {},
          "execution_count": 41
        }
      ]
    },
    {
      "cell_type": "code",
      "source": [
        "# 대치 "
      ],
      "metadata": {
        "id": "43EnpktoZ597"
      },
      "execution_count": 42,
      "outputs": []
    },
    {
      "cell_type": "code",
      "source": [
        "# 이상치 관리 - boxplot 통해서 간단하고 빠르게 확인\n",
        "sns.boxplot(data)\n"
      ],
      "metadata": {
        "colab": {
          "base_uri": "https://localhost:8080/",
          "height": 448
        },
        "id": "npi0W5qqasXT",
        "outputId": "3f914835-75df-4a0a-b3a9-5a83a7cee827"
      },
      "execution_count": 43,
      "outputs": [
        {
          "output_type": "execute_result",
          "data": {
            "text/plain": [
              "<Axes: >"
            ]
          },
          "metadata": {},
          "execution_count": 43
        },
        {
          "output_type": "display_data",
          "data": {
            "text/plain": [
              "<Figure size 640x480 with 1 Axes>"
            ],
            "image/png": "[encoded data removed]"
          },
          "metadata": {}
        }
      ]
    },
    {
      "cell_type": "code",
      "source": [
        "IQR = data.describe().loc['75%'] - data.describe().loc['25%']"
      ],
      "metadata": {
        "colab": {
          "base_uri": "https://localhost:8080/",
          "height": 423
        },
        "id": "01-AXeKLbemb",
        "outputId": "e0a5537d-da51-4bd9-e6c5-ec945551e306"
      },
      "execution_count": 52,
      "outputs": [
        {
          "output_type": "execute_result",
          "data": {
            "text/plain": [
              "      battery_power  blue  clock_speed  dual_sim   fc  four_g  int_memory\n",
              "0              78.5  -1.0          0.7      -1.0 -5.0    -1.0       -25.0\n",
              "1             257.5   0.0         -1.0       0.0 -6.0     0.0        21.0\n",
              "2            -200.5   0.0         -1.0       0.0 -4.0     0.0         9.0\n",
              "3            -148.5   0.0          1.0      -1.0 -6.0    -1.0       -22.0\n",
              "4            1057.5   0.0         -0.3      -1.0  7.0     0.0        12.0\n",
              "...             ...   ...          ...       ...  ...     ...         ...\n",
              "1995           30.5   0.0         -1.0       0.0 -6.0     0.0       -30.0\n",
              "1996         1201.5   0.0          1.1       0.0 -6.0    -1.0         7.0\n",
              "1997         1147.5  -1.0         -0.6       0.0 -5.0     0.0         4.0\n",
              "1998          748.5  -1.0         -0.6      -1.0 -2.0     0.0        14.0\n",
              "1999         -253.5   0.0          0.5       0.0 -1.0     0.0        13.0\n",
              "\n",
              "[2000 rows x 7 columns]"
            ],
            "text/html": [
              "\n",
              "  <div id=\"df-9d733a53-e4ff-4709-994a-4b13670f54e1\">\n",
              "    <div class=\"colab-df-container\">\n",
              "      <div>\n",
              "<style scoped>\n",
              "    .dataframe tbody tr th:only-of-type {\n",
              "        vertical-align: middle;\n",
              "    }\n",
              "\n",
              "    .dataframe tbody tr th {\n",
              "        vertical-align: top;\n",
              "    }\n",
              "\n",
              "    .dataframe thead th {\n",
              "        text-align: right;\n",
              "    }\n",
              "</style>\n",
              "<table border=\"1\" class=\"dataframe\">\n",
              "  <thead>\n",
              "    <tr style=\"text-align: right;\">\n",
              "      <th></th>\n",
              "      <th>battery_power</th>\n",
              "      <th>blue</th>\n",
              "      <th>clock_speed</th>\n",
              "      <th>dual_sim</th>\n",
              "      <th>fc</th>\n",
              "      <th>four_g</th>\n",
              "      <th>int_memory</th>\n",
              "    </tr>\n",
              "  </thead>\n",
              "  <tbody>\n",
              "    <tr>\n",
              "      <th>0</th>\n",
              "      <td>78.5</td>\n",
              "      <td>-1.0</td>\n",
              "      <td>0.7</td>\n",
              "      <td>-1.0</td>\n",
              "      <td>-5.0</td>\n",
              "      <td>-1.0</td>\n",
              "      <td>-25.0</td>\n",
              "    </tr>\n",
              "    <tr>\n",
              "      <th>1</th>\n",
              "      <td>257.5</td>\n",
              "      <td>0.0</td>\n",
              "      <td>-1.0</td>\n",
              "      <td>0.0</td>\n",
              "      <td>-6.0</td>\n",
              "      <td>0.0</td>\n",
              "      <td>21.0</td>\n",
              "    </tr>\n",
              "    <tr>\n",
              "      <th>2</th>\n",
              "      <td>-200.5</td>\n",
              "      <td>0.0</td>\n",
              "      <td>-1.0</td>\n",
              "      <td>0.0</td>\n",
              "      <td>-4.0</td>\n",
              "      <td>0.0</td>\n",
              "      <td>9.0</td>\n",
              "    </tr>\n",
              "    <tr>\n",
              "      <th>3</th>\n",
              "      <td>-148.5</td>\n",
              "      <td>0.0</td>\n",
              "      <td>1.0</td>\n",
              "      <td>-1.0</td>\n",
              "      <td>-6.0</td>\n",
              "      <td>-1.0</td>\n",
              "      <td>-22.0</td>\n",
              "    </tr>\n",
              "    <tr>\n",
              "      <th>4</th>\n",
              "      <td>1057.5</td>\n",
              "      <td>0.0</td>\n",
              "      <td>-0.3</td>\n",
              "      <td>-1.0</td>\n",
              "      <td>7.0</td>\n",
              "      <td>0.0</td>\n",
              "      <td>12.0</td>\n",
              "    </tr>\n",
              "    <tr>\n",
              "      <th>...</th>\n",
              "      <td>...</td>\n",
              "      <td>...</td>\n",
              "      <td>...</td>\n",
              "      <td>...</td>\n",
              "      <td>...</td>\n",
              "      <td>...</td>\n",
              "      <td>...</td>\n",
              "    </tr>\n",
              "    <tr>\n",
              "      <th>1995</th>\n",
              "      <td>30.5</td>\n",
              "      <td>0.0</td>\n",
              "      <td>-1.0</td>\n",
              "      <td>0.0</td>\n",
              "      <td>-6.0</td>\n",
              "      <td>0.0</td>\n",
              "      <td>-30.0</td>\n",
              "    </tr>\n",
              "    <tr>\n",
              "      <th>1996</th>\n",
              "      <td>1201.5</td>\n",
              "      <td>0.0</td>\n",
              "      <td>1.1</td>\n",
              "      <td>0.0</td>\n",
              "      <td>-6.0</td>\n",
              "      <td>-1.0</td>\n",
              "      <td>7.0</td>\n",
              "    </tr>\n",
              "    <tr>\n",
              "      <th>1997</th>\n",
              "      <td>1147.5</td>\n",
              "      <td>-1.0</td>\n",
              "      <td>-0.6</td>\n",
              "      <td>0.0</td>\n",
              "      <td>-5.0</td>\n",
              "      <td>0.0</td>\n",
              "      <td>4.0</td>\n",
              "    </tr>\n",
              "    <tr>\n",
              "      <th>1998</th>\n",
              "      <td>748.5</td>\n",
              "      <td>-1.0</td>\n",
              "      <td>-0.6</td>\n",
              "      <td>-1.0</td>\n",
              "      <td>-2.0</td>\n",
              "      <td>0.0</td>\n",
              "      <td>14.0</td>\n",
              "    </tr>\n",
              "    <tr>\n",
              "      <th>1999</th>\n",
              "      <td>-253.5</td>\n",
              "      <td>0.0</td>\n",
              "      <td>0.5</td>\n",
              "      <td>0.0</td>\n",
              "      <td>-1.0</td>\n",
              "      <td>0.0</td>\n",
              "      <td>13.0</td>\n",
              "    </tr>\n",
              "  </tbody>\n",
              "</table>\n",
              "<p>2000 rows × 7 columns</p>\n",
              "</div>\n",
              "      <button class=\"colab-df-convert\" onclick=\"convertToInteractive('df-9d733a53-e4ff-4709-994a-4b13670f54e1')\"\n",
              "              title=\"Convert this dataframe to an interactive table.\"\n",
              "              style=\"display:none;\">\n",
              "        \n",
              "  <svg xmlns=\"http://www.w3.org/2000/svg\" height=\"24px\"viewBox=\"0 0 24 24\"\n",
              "       width=\"24px\">\n",
              "    <path d=\"M0 0h24v24H0V0z\" fill=\"none\"/>\n",
              "    <path d=\"M18.56 5.44l.94 2.06.94-2.06 2.06-.94-2.06-.94-.94-2.06-.94 2.06-2.06.94zm-11 1L8.5 8.5l.94-2.06 2.06-.94-2.06-.94L8.5 2.5l-.94 2.06-2.06.94zm10 10l.94 2.06.94-2.06 2.06-.94-2.06-.94-.94-2.06-.94 2.06-2.06.94z\"/><path d=\"M17.41 7.96l-1.37-1.37c-.4-.4-.92-.59-1.43-.59-.52 0-1.04.2-1.43.59L10.3 9.45l-7.72 7.72c-.78.78-.78 2.05 0 2.83L4 21.41c.39.39.9.59 1.41.59.51 0 1.02-.2 1.41-.59l7.78-7.78 2.81-2.81c.8-.78.8-2.07 0-2.86zM5.41 20L4 18.59l7.72-7.72 1.47 1.35L5.41 20z\"/>\n",
              "  </svg>\n",
              "      </button>\n",
              "      \n",
              "  <style>\n",
              "    .colab-df-container {\n",
              "      display:flex;\n",
              "      flex-wrap:wrap;\n",
              "      gap: 12px;\n",
              "    }\n",
              "\n",
              "    .colab-df-convert {\n",
              "      background-color: #E8F0FE;\n",
              "      border: none;\n",
              "      border-radius: 50%;\n",
              "      cursor: pointer;\n",
              "      display: none;\n",
              "      fill: #1967D2;\n",
              "      height: 32px;\n",
              "      padding: 0 0 0 0;\n",
              "      width: 32px;\n",
              "    }\n",
              "\n",
              "    .colab-df-convert:hover {\n",
              "      background-color: #E2EBFA;\n",
              "      box-shadow: 0px 1px 2px rgba(60, 64, 67, 0.3), 0px 1px 3px 1px rgba(60, 64, 67, 0.15);\n",
              "      fill: #174EA6;\n",
              "    }\n",
              "\n",
              "    [theme=dark] .colab-df-convert {\n",
              "      background-color: #3B4455;\n",
              "      fill: #D2E3FC;\n",
              "    }\n",
              "\n",
              "    [theme=dark] .colab-df-convert:hover {\n",
              "      background-color: #434B5C;\n",
              "      box-shadow: 0px 1px 3px 1px rgba(0, 0, 0, 0.15);\n",
              "      filter: drop-shadow(0px 1px 2px rgba(0, 0, 0, 0.3));\n",
              "      fill: #FFFFFF;\n",
              "    }\n",
              "  </style>\n",
              "\n",
              "      <script>\n",
              "        const buttonEl =\n",
              "          document.querySelector('#df-9d733a53-e4ff-4709-994a-4b13670f54e1 button.colab-df-convert');\n",
              "        buttonEl.style.display =\n",
              "          google.colab.kernel.accessAllowed ? 'block' : 'none';\n",
              "\n",
              "        async function convertToInteractive(key) {\n",
              "          const element = document.querySelector('#df-9d733a53-e4ff-4709-994a-4b13670f54e1');\n",
              "          const dataTable =\n",
              "            await google.colab.kernel.invokeFunction('convertToInteractive',\n",
              "                                                     [key], {});\n",
              "          if (!dataTable) return;\n",
              "\n",
              "          const docLinkHtml = 'Like what you see? Visit the ' +\n",
              "            '<a target=\"_blank\" href=https://colab.research.google.com/notebooks/data_table.ipynb>data table notebook</a>'\n",
              "            + ' to learn more about interactive tables.';\n",
              "          element.innerHTML = '';\n",
              "          dataTable['output_type'] = 'display_data';\n",
              "          await google.colab.output.renderOutput(dataTable, element);\n",
              "          const docLink = document.createElement('div');\n",
              "          docLink.innerHTML = docLinkHtml;\n",
              "          element.appendChild(docLink);\n",
              "        }\n",
              "      </script>\n",
              "    </div>\n",
              "  </div>\n",
              "  "
            ]
          },
          "metadata": {},
          "execution_count": 52
        }
      ]
    },
    {
      "cell_type": "markdown",
      "source": [
        "표준편차 - 확인"
      ],
      "metadata": {
        "id": "laRrVRwLcl1G"
      }
    },
    {
      "cell_type": "markdown",
      "source": [
        "one-hot 인코딩"
      ],
      "metadata": {
        "id": "LvybzGZccw9s"
      }
    },
    {
      "cell_type": "code",
      "source": [
        "test_df = pd.DataFrame({\n",
        "    'color' : ['red','red','red','blue','yellow']\n",
        "})\n",
        "test_df"
      ],
      "metadata": {
        "colab": {
          "base_uri": "https://localhost:8080/",
          "height": 206
        },
        "id": "3kjDkVUXcBm1",
        "outputId": "55e49d2d-b0e7-4e95-fc83-c0d999ce8239"
      },
      "execution_count": 53,
      "outputs": [
        {
          "output_type": "execute_result",
          "data": {
            "text/plain": [
              "    color\n",
              "0     red\n",
              "1     red\n",
              "2     red\n",
              "3    blue\n",
              "4  yellow"
            ],
            "text/html": [
              "\n",
              "  <div id=\"df-850ddd14-4d13-46df-8382-b27802ccb8e6\">\n",
              "    <div class=\"colab-df-container\">\n",
              "      <div>\n",
              "<style scoped>\n",
              "    .dataframe tbody tr th:only-of-type {\n",
              "        vertical-align: middle;\n",
              "    }\n",
              "\n",
              "    .dataframe tbody tr th {\n",
              "        vertical-align: top;\n",
              "    }\n",
              "\n",
              "    .dataframe thead th {\n",
              "        text-align: right;\n",
              "    }\n",
              "</style>\n",
              "<table border=\"1\" class=\"dataframe\">\n",
              "  <thead>\n",
              "    <tr style=\"text-align: right;\">\n",
              "      <th></th>\n",
              "      <th>color</th>\n",
              "    </tr>\n",
              "  </thead>\n",
              "  <tbody>\n",
              "    <tr>\n",
              "      <th>0</th>\n",
              "      <td>red</td>\n",
              "    </tr>\n",
              "    <tr>\n",
              "      <th>1</th>\n",
              "      <td>red</td>\n",
              "    </tr>\n",
              "    <tr>\n",
              "      <th>2</th>\n",
              "      <td>red</td>\n",
              "    </tr>\n",
              "    <tr>\n",
              "      <th>3</th>\n",
              "      <td>blue</td>\n",
              "    </tr>\n",
              "    <tr>\n",
              "      <th>4</th>\n",
              "      <td>yellow</td>\n",
              "    </tr>\n",
              "  </tbody>\n",
              "</table>\n",
              "</div>\n",
              "      <button class=\"colab-df-convert\" onclick=\"convertToInteractive('df-850ddd14-4d13-46df-8382-b27802ccb8e6')\"\n",
              "              title=\"Convert this dataframe to an interactive table.\"\n",
              "              style=\"display:none;\">\n",
              "        \n",
              "  <svg xmlns=\"http://www.w3.org/2000/svg\" height=\"24px\"viewBox=\"0 0 24 24\"\n",
              "       width=\"24px\">\n",
              "    <path d=\"M0 0h24v24H0V0z\" fill=\"none\"/>\n",
              "    <path d=\"M18.56 5.44l.94 2.06.94-2.06 2.06-.94-2.06-.94-.94-2.06-.94 2.06-2.06.94zm-11 1L8.5 8.5l.94-2.06 2.06-.94-2.06-.94L8.5 2.5l-.94 2.06-2.06.94zm10 10l.94 2.06.94-2.06 2.06-.94-2.06-.94-.94-2.06-.94 2.06-2.06.94z\"/><path d=\"M17.41 7.96l-1.37-1.37c-.4-.4-.92-.59-1.43-.59-.52 0-1.04.2-1.43.59L10.3 9.45l-7.72 7.72c-.78.78-.78 2.05 0 2.83L4 21.41c.39.39.9.59 1.41.59.51 0 1.02-.2 1.41-.59l7.78-7.78 2.81-2.81c.8-.78.8-2.07 0-2.86zM5.41 20L4 18.59l7.72-7.72 1.47 1.35L5.41 20z\"/>\n",
              "  </svg>\n",
              "      </button>\n",
              "      \n",
              "  <style>\n",
              "    .colab-df-container {\n",
              "      display:flex;\n",
              "      flex-wrap:wrap;\n",
              "      gap: 12px;\n",
              "    }\n",
              "\n",
              "    .colab-df-convert {\n",
              "      background-color: #E8F0FE;\n",
              "      border: none;\n",
              "      border-radius: 50%;\n",
              "      cursor: pointer;\n",
              "      display: none;\n",
              "      fill: #1967D2;\n",
              "      height: 32px;\n",
              "      padding: 0 0 0 0;\n",
              "      width: 32px;\n",
              "    }\n",
              "\n",
              "    .colab-df-convert:hover {\n",
              "      background-color: #E2EBFA;\n",
              "      box-shadow: 0px 1px 2px rgba(60, 64, 67, 0.3), 0px 1px 3px 1px rgba(60, 64, 67, 0.15);\n",
              "      fill: #174EA6;\n",
              "    }\n",
              "\n",
              "    [theme=dark] .colab-df-convert {\n",
              "      background-color: #3B4455;\n",
              "      fill: #D2E3FC;\n",
              "    }\n",
              "\n",
              "    [theme=dark] .colab-df-convert:hover {\n",
              "      background-color: #434B5C;\n",
              "      box-shadow: 0px 1px 3px 1px rgba(0, 0, 0, 0.15);\n",
              "      filter: drop-shadow(0px 1px 2px rgba(0, 0, 0, 0.3));\n",
              "      fill: #FFFFFF;\n",
              "    }\n",
              "  </style>\n",
              "\n",
              "      <script>\n",
              "        const buttonEl =\n",
              "          document.querySelector('#df-850ddd14-4d13-46df-8382-b27802ccb8e6 button.colab-df-convert');\n",
              "        buttonEl.style.display =\n",
              "          google.colab.kernel.accessAllowed ? 'block' : 'none';\n",
              "\n",
              "        async function convertToInteractive(key) {\n",
              "          const element = document.querySelector('#df-850ddd14-4d13-46df-8382-b27802ccb8e6');\n",
              "          const dataTable =\n",
              "            await google.colab.kernel.invokeFunction('convertToInteractive',\n",
              "                                                     [key], {});\n",
              "          if (!dataTable) return;\n",
              "\n",
              "          const docLinkHtml = 'Like what you see? Visit the ' +\n",
              "            '<a target=\"_blank\" href=https://colab.research.google.com/notebooks/data_table.ipynb>data table notebook</a>'\n",
              "            + ' to learn more about interactive tables.';\n",
              "          element.innerHTML = '';\n",
              "          dataTable['output_type'] = 'display_data';\n",
              "          await google.colab.output.renderOutput(dataTable, element);\n",
              "          const docLink = document.createElement('div');\n",
              "          docLink.innerHTML = docLinkHtml;\n",
              "          element.appendChild(docLink);\n",
              "        }\n",
              "      </script>\n",
              "    </div>\n",
              "  </div>\n",
              "  "
            ]
          },
          "metadata": {},
          "execution_count": 53
        }
      ]
    },
    {
      "cell_type": "code",
      "source": [
        "pd.get_dummies(test_df)"
      ],
      "metadata": {
        "colab": {
          "base_uri": "https://localhost:8080/",
          "height": 206
        },
        "id": "5BDzOsuec-wz",
        "outputId": "0208dd44-d181-4b66-d7f5-ee2d8a8c99b6"
      },
      "execution_count": 55,
      "outputs": [
        {
          "output_type": "execute_result",
          "data": {
            "text/plain": [
              "   color_blue  color_red  color_yellow\n",
              "0           0          1             0\n",
              "1           0          1             0\n",
              "2           0          1             0\n",
              "3           1          0             0\n",
              "4           0          0             1"
            ],
            "text/html": [
              "\n",
              "  <div id=\"df-6e7ce512-a205-4fa9-ada0-8ab2af464399\">\n",
              "    <div class=\"colab-df-container\">\n",
              "      <div>\n",
              "<style scoped>\n",
              "    .dataframe tbody tr th:only-of-type {\n",
              "        vertical-align: middle;\n",
              "    }\n",
              "\n",
              "    .dataframe tbody tr th {\n",
              "        vertical-align: top;\n",
              "    }\n",
              "\n",
              "    .dataframe thead th {\n",
              "        text-align: right;\n",
              "    }\n",
              "</style>\n",
              "<table border=\"1\" class=\"dataframe\">\n",
              "  <thead>\n",
              "    <tr style=\"text-align: right;\">\n",
              "      <th></th>\n",
              "      <th>color_blue</th>\n",
              "      <th>color_red</th>\n",
              "      <th>color_yellow</th>\n",
              "    </tr>\n",
              "  </thead>\n",
              "  <tbody>\n",
              "    <tr>\n",
              "      <th>0</th>\n",
              "      <td>0</td>\n",
              "      <td>1</td>\n",
              "      <td>0</td>\n",
              "    </tr>\n",
              "    <tr>\n",
              "      <th>1</th>\n",
              "      <td>0</td>\n",
              "      <td>1</td>\n",
              "      <td>0</td>\n",
              "    </tr>\n",
              "    <tr>\n",
              "      <th>2</th>\n",
              "      <td>0</td>\n",
              "      <td>1</td>\n",
              "      <td>0</td>\n",
              "    </tr>\n",
              "    <tr>\n",
              "      <th>3</th>\n",
              "      <td>1</td>\n",
              "      <td>0</td>\n",
              "      <td>0</td>\n",
              "    </tr>\n",
              "    <tr>\n",
              "      <th>4</th>\n",
              "      <td>0</td>\n",
              "      <td>0</td>\n",
              "      <td>1</td>\n",
              "    </tr>\n",
              "  </tbody>\n",
              "</table>\n",
              "</div>\n",
              "      <button class=\"colab-df-convert\" onclick=\"convertToInteractive('df-6e7ce512-a205-4fa9-ada0-8ab2af464399')\"\n",
              "              title=\"Convert this dataframe to an interactive table.\"\n",
              "              style=\"display:none;\">\n",
              "        \n",
              "  <svg xmlns=\"http://www.w3.org/2000/svg\" height=\"24px\"viewBox=\"0 0 24 24\"\n",
              "       width=\"24px\">\n",
              "    <path d=\"M0 0h24v24H0V0z\" fill=\"none\"/>\n",
              "    <path d=\"M18.56 5.44l.94 2.06.94-2.06 2.06-.94-2.06-.94-.94-2.06-.94 2.06-2.06.94zm-11 1L8.5 8.5l.94-2.06 2.06-.94-2.06-.94L8.5 2.5l-.94 2.06-2.06.94zm10 10l.94 2.06.94-2.06 2.06-.94-2.06-.94-.94-2.06-.94 2.06-2.06.94z\"/><path d=\"M17.41 7.96l-1.37-1.37c-.4-.4-.92-.59-1.43-.59-.52 0-1.04.2-1.43.59L10.3 9.45l-7.72 7.72c-.78.78-.78 2.05 0 2.83L4 21.41c.39.39.9.59 1.41.59.51 0 1.02-.2 1.41-.59l7.78-7.78 2.81-2.81c.8-.78.8-2.07 0-2.86zM5.41 20L4 18.59l7.72-7.72 1.47 1.35L5.41 20z\"/>\n",
              "  </svg>\n",
              "      </button>\n",
              "      \n",
              "  <style>\n",
              "    .colab-df-container {\n",
              "      display:flex;\n",
              "      flex-wrap:wrap;\n",
              "      gap: 12px;\n",
              "    }\n",
              "\n",
              "    .colab-df-convert {\n",
              "      background-color: #E8F0FE;\n",
              "      border: none;\n",
              "      border-radius: 50%;\n",
              "      cursor: pointer;\n",
              "      display: none;\n",
              "      fill: #1967D2;\n",
              "      height: 32px;\n",
              "      padding: 0 0 0 0;\n",
              "      width: 32px;\n",
              "    }\n",
              "\n",
              "    .colab-df-convert:hover {\n",
              "      background-color: #E2EBFA;\n",
              "      box-shadow: 0px 1px 2px rgba(60, 64, 67, 0.3), 0px 1px 3px 1px rgba(60, 64, 67, 0.15);\n",
              "      fill: #174EA6;\n",
              "    }\n",
              "\n",
              "    [theme=dark] .colab-df-convert {\n",
              "      background-color: #3B4455;\n",
              "      fill: #D2E3FC;\n",
              "    }\n",
              "\n",
              "    [theme=dark] .colab-df-convert:hover {\n",
              "      background-color: #434B5C;\n",
              "      box-shadow: 0px 1px 3px 1px rgba(0, 0, 0, 0.15);\n",
              "      filter: drop-shadow(0px 1px 2px rgba(0, 0, 0, 0.3));\n",
              "      fill: #FFFFFF;\n",
              "    }\n",
              "  </style>\n",
              "\n",
              "      <script>\n",
              "        const buttonEl =\n",
              "          document.querySelector('#df-6e7ce512-a205-4fa9-ada0-8ab2af464399 button.colab-df-convert');\n",
              "        buttonEl.style.display =\n",
              "          google.colab.kernel.accessAllowed ? 'block' : 'none';\n",
              "\n",
              "        async function convertToInteractive(key) {\n",
              "          const element = document.querySelector('#df-6e7ce512-a205-4fa9-ada0-8ab2af464399');\n",
              "          const dataTable =\n",
              "            await google.colab.kernel.invokeFunction('convertToInteractive',\n",
              "                                                     [key], {});\n",
              "          if (!dataTable) return;\n",
              "\n",
              "          const docLinkHtml = 'Like what you see? Visit the ' +\n",
              "            '<a target=\"_blank\" href=https://colab.research.google.com/notebooks/data_table.ipynb>data table notebook</a>'\n",
              "            + ' to learn more about interactive tables.';\n",
              "          element.innerHTML = '';\n",
              "          dataTable['output_type'] = 'display_data';\n",
              "          await google.colab.output.renderOutput(dataTable, element);\n",
              "          const docLink = document.createElement('div');\n",
              "          docLink.innerHTML = docLinkHtml;\n",
              "          element.appendChild(docLink);\n",
              "        }\n",
              "      </script>\n",
              "    </div>\n",
              "  </div>\n",
              "  "
            ]
          },
          "metadata": {},
          "execution_count": 55
        }
      ]
    },
    {
      "cell_type": "markdown",
      "source": [
        "로그변환\n",
        "  - 지나치게 치우져진 값을 수정하는데 사용\n",
        "  - 로그변환이 적용되면 데이터 분포가 정규화"
      ],
      "metadata": {
        "id": "r9hlWpZTdW5u"
      }
    },
    {
      "cell_type": "code",
      "source": [
        "# 10 -> 15  5/10  50%\n",
        "# 50 -> 55  5/50  10%  \n",
        "# log(x+1) -> 양수에만 적용하고 1을 더해서 출력이 양수가 되도록 "
      ],
      "metadata": {
        "id": "nh8eqMqLdLVj"
      },
      "execution_count": 56,
      "outputs": []
    },
    {
      "cell_type": "code",
      "source": [
        "data = pd.DataFrame({\n",
        "    'value' : [3,67,-17,44,37,3,31,-38]\n",
        "})\n",
        "data['log+1'] = (data['value']+1).transform(np.log)\n",
        "\n",
        "# 음수처리\n",
        "data['log'] = (data['value']-data['value'].min()+1).transform(np.log)\n",
        "data"
      ],
      "metadata": {
        "colab": {
          "base_uri": "https://localhost:8080/",
          "height": 300
        },
        "id": "PnAbNtbZhsdT",
        "outputId": "4d562e7c-752f-4833-ddea-e1437680cac0"
      },
      "execution_count": 64,
      "outputs": [
        {
          "output_type": "execute_result",
          "data": {
            "text/plain": [
              "   value     log+1       log\n",
              "0      3  1.386294  3.737670\n",
              "1     67  4.219508  4.663439\n",
              "2    -17       NaN  3.091042\n",
              "3     44  3.806662  4.418841\n",
              "4     37  3.637586  4.330733\n",
              "5      3  1.386294  3.737670\n",
              "6     31  3.465736  4.248495\n",
              "7    -38       NaN  0.000000"
            ],
            "text/html": [
              "\n",
              "  <div id=\"df-d834033d-43d3-4f36-bf6b-59ae72945a89\">\n",
              "    <div class=\"colab-df-container\">\n",
              "      <div>\n",
              "<style scoped>\n",
              "    .dataframe tbody tr th:only-of-type {\n",
              "        vertical-align: middle;\n",
              "    }\n",
              "\n",
              "    .dataframe tbody tr th {\n",
              "        vertical-align: top;\n",
              "    }\n",
              "\n",
              "    .dataframe thead th {\n",
              "        text-align: right;\n",
              "    }\n",
              "</style>\n",
              "<table border=\"1\" class=\"dataframe\">\n",
              "  <thead>\n",
              "    <tr style=\"text-align: right;\">\n",
              "      <th></th>\n",
              "      <th>value</th>\n",
              "      <th>log+1</th>\n",
              "      <th>log</th>\n",
              "    </tr>\n",
              "  </thead>\n",
              "  <tbody>\n",
              "    <tr>\n",
              "      <th>0</th>\n",
              "      <td>3</td>\n",
              "      <td>1.386294</td>\n",
              "      <td>3.737670</td>\n",
              "    </tr>\n",
              "    <tr>\n",
              "      <th>1</th>\n",
              "      <td>67</td>\n",
              "      <td>4.219508</td>\n",
              "      <td>4.663439</td>\n",
              "    </tr>\n",
              "    <tr>\n",
              "      <th>2</th>\n",
              "      <td>-17</td>\n",
              "      <td>NaN</td>\n",
              "      <td>3.091042</td>\n",
              "    </tr>\n",
              "    <tr>\n",
              "      <th>3</th>\n",
              "      <td>44</td>\n",
              "      <td>3.806662</td>\n",
              "      <td>4.418841</td>\n",
              "    </tr>\n",
              "    <tr>\n",
              "      <th>4</th>\n",
              "      <td>37</td>\n",
              "      <td>3.637586</td>\n",
              "      <td>4.330733</td>\n",
              "    </tr>\n",
              "    <tr>\n",
              "      <th>5</th>\n",
              "      <td>3</td>\n",
              "      <td>1.386294</td>\n",
              "      <td>3.737670</td>\n",
              "    </tr>\n",
              "    <tr>\n",
              "      <th>6</th>\n",
              "      <td>31</td>\n",
              "      <td>3.465736</td>\n",
              "      <td>4.248495</td>\n",
              "    </tr>\n",
              "    <tr>\n",
              "      <th>7</th>\n",
              "      <td>-38</td>\n",
              "      <td>NaN</td>\n",
              "      <td>0.000000</td>\n",
              "    </tr>\n",
              "  </tbody>\n",
              "</table>\n",
              "</div>\n",
              "      <button class=\"colab-df-convert\" onclick=\"convertToInteractive('df-d834033d-43d3-4f36-bf6b-59ae72945a89')\"\n",
              "              title=\"Convert this dataframe to an interactive table.\"\n",
              "              style=\"display:none;\">\n",
              "        \n",
              "  <svg xmlns=\"http://www.w3.org/2000/svg\" height=\"24px\"viewBox=\"0 0 24 24\"\n",
              "       width=\"24px\">\n",
              "    <path d=\"M0 0h24v24H0V0z\" fill=\"none\"/>\n",
              "    <path d=\"M18.56 5.44l.94 2.06.94-2.06 2.06-.94-2.06-.94-.94-2.06-.94 2.06-2.06.94zm-11 1L8.5 8.5l.94-2.06 2.06-.94-2.06-.94L8.5 2.5l-.94 2.06-2.06.94zm10 10l.94 2.06.94-2.06 2.06-.94-2.06-.94-.94-2.06-.94 2.06-2.06.94z\"/><path d=\"M17.41 7.96l-1.37-1.37c-.4-.4-.92-.59-1.43-.59-.52 0-1.04.2-1.43.59L10.3 9.45l-7.72 7.72c-.78.78-.78 2.05 0 2.83L4 21.41c.39.39.9.59 1.41.59.51 0 1.02-.2 1.41-.59l7.78-7.78 2.81-2.81c.8-.78.8-2.07 0-2.86zM5.41 20L4 18.59l7.72-7.72 1.47 1.35L5.41 20z\"/>\n",
              "  </svg>\n",
              "      </button>\n",
              "      \n",
              "  <style>\n",
              "    .colab-df-container {\n",
              "      display:flex;\n",
              "      flex-wrap:wrap;\n",
              "      gap: 12px;\n",
              "    }\n",
              "\n",
              "    .colab-df-convert {\n",
              "      background-color: #E8F0FE;\n",
              "      border: none;\n",
              "      border-radius: 50%;\n",
              "      cursor: pointer;\n",
              "      display: none;\n",
              "      fill: #1967D2;\n",
              "      height: 32px;\n",
              "      padding: 0 0 0 0;\n",
              "      width: 32px;\n",
              "    }\n",
              "\n",
              "    .colab-df-convert:hover {\n",
              "      background-color: #E2EBFA;\n",
              "      box-shadow: 0px 1px 2px rgba(60, 64, 67, 0.3), 0px 1px 3px 1px rgba(60, 64, 67, 0.15);\n",
              "      fill: #174EA6;\n",
              "    }\n",
              "\n",
              "    [theme=dark] .colab-df-convert {\n",
              "      background-color: #3B4455;\n",
              "      fill: #D2E3FC;\n",
              "    }\n",
              "\n",
              "    [theme=dark] .colab-df-convert:hover {\n",
              "      background-color: #434B5C;\n",
              "      box-shadow: 0px 1px 3px 1px rgba(0, 0, 0, 0.15);\n",
              "      filter: drop-shadow(0px 1px 2px rgba(0, 0, 0, 0.3));\n",
              "      fill: #FFFFFF;\n",
              "    }\n",
              "  </style>\n",
              "\n",
              "      <script>\n",
              "        const buttonEl =\n",
              "          document.querySelector('#df-d834033d-43d3-4f36-bf6b-59ae72945a89 button.colab-df-convert');\n",
              "        buttonEl.style.display =\n",
              "          google.colab.kernel.accessAllowed ? 'block' : 'none';\n",
              "\n",
              "        async function convertToInteractive(key) {\n",
              "          const element = document.querySelector('#df-d834033d-43d3-4f36-bf6b-59ae72945a89');\n",
              "          const dataTable =\n",
              "            await google.colab.kernel.invokeFunction('convertToInteractive',\n",
              "                                                     [key], {});\n",
              "          if (!dataTable) return;\n",
              "\n",
              "          const docLinkHtml = 'Like what you see? Visit the ' +\n",
              "            '<a target=\"_blank\" href=https://colab.research.google.com/notebooks/data_table.ipynb>data table notebook</a>'\n",
              "            + ' to learn more about interactive tables.';\n",
              "          element.innerHTML = '';\n",
              "          dataTable['output_type'] = 'display_data';\n",
              "          await google.colab.output.renderOutput(dataTable, element);\n",
              "          const docLink = document.createElement('div');\n",
              "          docLink.innerHTML = docLinkHtml;\n",
              "          element.appendChild(docLink);\n",
              "        }\n",
              "      </script>\n",
              "    </div>\n",
              "  </div>\n",
              "  "
            ]
          },
          "metadata": {},
          "execution_count": 64
        }
      ]
    },
    {
      "cell_type": "markdown",
      "source": [
        "스케일링\n",
        "  - 정규화(최대 최소 정규화)\n",
        "    - 특성값을 모두 0과 1사이의 값으로 조정\n",
        "     -  x - xmin / xmax - xmin\n",
        "  - 표준화(z-score)\n",
        "    - 평균과 표준편차\n",
        "    - x - mean / std\n"
      ],
      "metadata": {
        "id": "8SqgttfOnVdd"
      }
    },
    {
      "cell_type": "code",
      "source": [
        "# 정규화\n",
        "data = pd.DataFrame({\n",
        "    'value' : [3,67,-17,44,37,3,31,-38]\n",
        "})\n",
        "# 각자 해 보기"
      ],
      "metadata": {
        "id": "aVVpOPHSnq7f"
      },
      "execution_count": null,
      "outputs": []
    },
    {
      "cell_type": "markdown",
      "source": [
        "날자처리\n",
        "  - 년 월 단위로 컬럼만들어서 추가해서 시계열데이터(연속형)를 범주형 데이터로 분리\n",
        "  - 특정 날자 이전 이후\n",
        "  - 요일\n",
        "  - 주말 여부\n",
        "  - 휴일 여부"
      ],
      "metadata": {
        "id": "1CQNKw58if4I"
      }
    },
    {
      "cell_type": "markdown",
      "source": [
        "1. 지도학습vs 비지도학습\n",
        "2. 데이터 전처리 방법\n",
        "  - 이진화\n",
        "  - 평균 제거\n",
        "  - 스케일링\n",
        "  - 정규화\n",
        "3. 레이블 인코딩\n",
        "4. 로지스틱회귀 분류기\n",
        "5. 나이브 베이즈 분류기\n",
        "6. 서포트벡터 머신과 SVM 분류기\n",
        "7. 선형회귀 다항식 회귀\n",
        "8. 단일변수 선형회귀 와 다중 변수 선형회귀\n",
        "9. 서포트벡터 회귀를 사용한 주택가격 추정\n",
        "10 AutoML을 통한 최적의 머신러닝 모델 선정\n",
        "11. piplne & 하이퍼 파라메터 튜닝"
      ],
      "metadata": {
        "id": "bQvatuXq4yD6"
      }
    },
    {
      "cell_type": "code",
      "source": [
        "# 이진화\n",
        "import numpy as np\n",
        "from sklearn.preprocessing import Binarizer, scale, StandardScaler\n",
        "data = np.array([\n",
        "                  [0.12,1.5,-0.3],\n",
        "                  [1.12,2.5,-1.3],\n",
        "                  [-0.12,0.5,0.3]\n",
        "                ])\n",
        "Binarizer(threshold=0.0).transform(data)"
      ],
      "metadata": {
        "colab": {
          "base_uri": "https://localhost:8080/"
        },
        "id": "-7yeYKX0h1mu",
        "outputId": "e781bd66-5867-4f65-bd44-090e2811dac4"
      },
      "execution_count": 83,
      "outputs": [
        {
          "output_type": "execute_result",
          "data": {
            "text/plain": [
              "array([[1., 1., 0.],\n",
              "       [1., 1., 0.],\n",
              "       [0., 1., 1.]])"
            ]
          },
          "metadata": {},
          "execution_count": 83
        }
      ]
    },
    {
      "cell_type": "code",
      "source": [
        "# 평균제거 : 각 컬럼에서 평균을 제거하면 각 특성이 0을 중심으로 분포하도록 만든다\n",
        "# 특성벡터에서 편향을 제거할때 수행함\n",
        "# 데이터에서 편향을 처리하는 방법 - 검색해서 알아볼것"
      ],
      "metadata": {
        "id": "igLkNri36pqe"
      },
      "execution_count": 72,
      "outputs": []
    },
    {
      "cell_type": "code",
      "source": [
        "data.mean(axis=0), data.std(axis=0)"
      ],
      "metadata": {
        "colab": {
          "base_uri": "https://localhost:8080/"
        },
        "id": "k_cCkZlD7nv5",
        "outputId": "cf91fcaf-0500-446a-98a6-6ecd21f74869"
      },
      "execution_count": 77,
      "outputs": [
        {
          "output_type": "execute_result",
          "data": {
            "text/plain": [
              "(array([ 0.37333333,  1.5       , -0.43333333]),\n",
              " array([0.53698748, 0.81649658, 0.65996633]))"
            ]
          },
          "metadata": {},
          "execution_count": 77
        }
      ]
    },
    {
      "cell_type": "code",
      "source": [
        "data_scaled = scale(data)\n",
        "data_scaled, data_scaled.mean(axis=0)"
      ],
      "metadata": {
        "colab": {
          "base_uri": "https://localhost:8080/"
        },
        "id": "iy8666Nb8vXs",
        "outputId": "f6d5a4d2-e93b-432b-9190-b45fb566d94c"
      },
      "execution_count": 80,
      "outputs": [
        {
          "output_type": "execute_result",
          "data": {
            "text/plain": [
              "(array([[-0.47176767,  0.        ,  0.20203051],\n",
              "        [ 1.39047313,  1.22474487, -1.31319831],\n",
              "        [-0.91870546, -1.22474487,  1.1111678 ]]),\n",
              " array([7.40148683e-17, 0.00000000e+00, 7.40148683e-17]))"
            ]
          },
          "metadata": {},
          "execution_count": 80
        }
      ]
    },
    {
      "cell_type": "code",
      "source": [
        "data_scaled.std(axis=0)"
      ],
      "metadata": {
        "colab": {
          "base_uri": "https://localhost:8080/"
        },
        "id": "EvQWhKyx7_nu",
        "outputId": "d6fffdb6-48c6-415f-c732-d9c773287fb6"
      },
      "execution_count": 81,
      "outputs": [
        {
          "output_type": "execute_result",
          "data": {
            "text/plain": [
              "array([1., 1., 1.])"
            ]
          },
          "metadata": {},
          "execution_count": 81
        }
      ]
    },
    {
      "cell_type": "code",
      "source": [
        "StandardScaler().fit_transform(data), data_scaled"
      ],
      "metadata": {
        "colab": {
          "base_uri": "https://localhost:8080/"
        },
        "id": "XVosWTZ39AUd",
        "outputId": "d4cd8316-12d3-4132-992f-77449eaea33e"
      },
      "execution_count": 85,
      "outputs": [
        {
          "output_type": "execute_result",
          "data": {
            "text/plain": [
              "(array([[-0.47176767,  0.        ,  0.20203051],\n",
              "        [ 1.39047313,  1.22474487, -1.31319831],\n",
              "        [-0.91870546, -1.22474487,  1.1111678 ]]),\n",
              " array([[-0.47176767,  0.        ,  0.20203051],\n",
              "        [ 1.39047313,  1.22474487, -1.31319831],\n",
              "        [-0.91870546, -1.22474487,  1.1111678 ]]))"
            ]
          },
          "metadata": {},
          "execution_count": 85
        }
      ]
    },
    {
      "cell_type": "code",
      "source": [
        "# 각 특성에 부여된 가중치가 거의 동일하고 이상치의 중요도가 크지 않도록 특성을 조정\n",
        "# 정규화 - 데이터가 정규분포형대를 취하도록\n",
        "# L1정규화(각행에서 절대값의 합이 1이되도록 작동) , L2정규화(각항에서 제곱의 합이 1이 되도록)\n",
        "# L1정규화가 보통 더 강력한 기술로 간주 - 이상치에 영향을 적게 받음\n",
        "# L2정규화 : 이상치도 정상데이터로 간주할때.. 더 좋은 성능"
      ],
      "metadata": {
        "id": "ZQsJyTiP9drc"
      },
      "execution_count": 86,
      "outputs": []
    },
    {
      "cell_type": "code",
      "source": [
        "from sklearn import preprocessing\n",
        "preprocessing.normalize(data, norm='l1')\n",
        "preprocessing.normalize(data, norm='l2')"
      ],
      "metadata": {
        "id": "li_xnr0l-zE7"
      },
      "execution_count": null,
      "outputs": []
    },
    {
      "cell_type": "markdown",
      "source": [
        "레이블 인코딩"
      ],
      "metadata": {
        "id": "OxQGVWQw_AQA"
      }
    },
    {
      "cell_type": "code",
      "source": [
        "label_data = ['a','a','c','f','d']\n",
        "encoder = preprocessing.LabelEncoder()\n",
        "encoder.fit_transform(label_data)"
      ],
      "metadata": {
        "colab": {
          "base_uri": "https://localhost:8080/"
        },
        "id": "-IPe-6PH-9cE",
        "outputId": "cfca50ae-f387-491a-919e-af03ab7e1270"
      },
      "execution_count": 89,
      "outputs": [
        {
          "output_type": "execute_result",
          "data": {
            "text/plain": [
              "array([0, 0, 1, 3, 2])"
            ]
          },
          "metadata": {},
          "execution_count": 89
        }
      ]
    },
    {
      "cell_type": "markdown",
      "source": [
        "로지스틱회귀 - 분류모델이기때문에 분류기라고 한다\n",
        "\n",
        "로지스틱회귀분류기\n",
        "  - 시그모이드 함수 사용 이유\n",
        "    - 0,1사이로 제한\n",
        "    - 미분이 빠르다\n",
        "    - 비선형으로 변경하기 용이하다"
      ],
      "metadata": {
        "id": "FgpvQxEW_vu_"
      }
    },
    {
      "cell_type": "code",
      "source": [
        "# 적절한 셈플데이터를 만들거나 가져와서 모델을 적용해 본다."
      ],
      "metadata": {
        "id": "YuzPo6rx_jQL"
      },
      "execution_count": 90,
      "outputs": []
    },
    {
      "cell_type": "markdown",
      "source": [
        "나이브 베이즈 분류기\n",
        "  - 이벤트와 관련된 다양한 조건에 따라 이벤트가 발생할 확률을 설명\n",
        "  - 주어진 특성의 값에 다른 특성의 값이 독립임을 가정하고 이 독립 가정을 나이브에 해당"
      ],
      "metadata": {
        "id": "0yVEGiLgA6X9"
      }
    },
    {
      "cell_type": "code",
      "source": [
        "from sklearn.naive_bayes import GaussianNB"
      ],
      "metadata": {
        "id": "5r4Qg0N6AzXs"
      },
      "execution_count": 91,
      "outputs": []
    },
    {
      "cell_type": "markdown",
      "source": [
        "컨퓨전 행렬"
      ],
      "metadata": {
        "id": "zfa-oFzoCRyZ"
      }
    },
    {
      "cell_type": "code",
      "source": [
        "from sklearn.metrics import confusion_matrix,accuracy_score,precision_score,f1_score"
      ],
      "metadata": {
        "id": "3BoCfHDnB-eI"
      },
      "execution_count": 92,
      "outputs": []
    },
    {
      "cell_type": "markdown",
      "source": [
        "서포트벡터 머신\n",
        "\n",
        "![image.png](data:image/png;base64,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)"
      ],
      "metadata": {
        "id": "Lr5OQXitCoSQ"
      }
    },
    {
      "cell_type": "markdown",
      "source": [
        "회귀\n",
        "  - 선형회귀\n",
        "  - y = ax +b\n",
        "  - 평균 제곱 오차(MSE)\n",
        "    - 거의 항상 양수, 0에 가까울 수록 좋다\n",
        "  - 결정계수 \n",
        "    - R2"
      ],
      "metadata": {
        "id": "Ib0hEVS_DJCl"
      }
    },
    {
      "cell_type": "code",
      "source": [
        "from sklearn.linear_model import LinearRegression"
      ],
      "metadata": {
        "id": "4sCdchGpCkG_"
      },
      "execution_count": 93,
      "outputs": []
    },
    {
      "cell_type": "markdown",
      "source": [
        "단일변수 회귀 "
      ],
      "metadata": {
        "id": "rsUYW-9oSZRF"
      }
    },
    {
      "cell_type": "code",
      "source": [
        "import numpy as np\n",
        "import pandas as pd\n",
        "import sklearn.metrics as sm\n",
        "import matplotlib.pyplot as plt\n",
        "data = 'https://raw.githubusercontent.com/leekyuyoung20230313/pythone/main/%EB%A8%B8%EC%8B%A0%EB%9F%AC%EB%8B%9D/data_reg_20.txt'\n",
        "data = pd.read_csv(data,delimiter=',', header=None)\n",
        "x,y = data.iloc[:,1], data.iloc[:,-1]"
      ],
      "metadata": {
        "id": "Ctq1FpGFDeIG"
      },
      "execution_count": 116,
      "outputs": []
    },
    {
      "cell_type": "code",
      "source": [
        "from sklearn.linear_model import LinearRegression"
      ],
      "metadata": {
        "id": "EnzWmUvkTJcc"
      },
      "execution_count": 117,
      "outputs": []
    },
    {
      "cell_type": "code",
      "source": [
        "# 데이터나누고  8:2\n",
        "# from sklearn.model_selection import train_test_split\n",
        "# x_train,x_test,y_train,y_test =  train_test_split(x,y)\n",
        "split_num = int(0.8*len(x))\n",
        "x_train,y_train = x[:split_num], y[:split_num]\n",
        "x_test, y_test = x[split_num:], y[split_num:]"
      ],
      "metadata": {
        "id": "uStt2CSOTvGF"
      },
      "execution_count": 121,
      "outputs": []
    },
    {
      "cell_type": "code",
      "source": [
        "# 모델적용\n",
        "lr = LinearRegression()\n",
        "lr.fit(np.array(x_train).reshape(-1,1),y_train)"
      ],
      "metadata": {
        "colab": {
          "base_uri": "https://localhost:8080/",
          "height": 74
        },
        "id": "dQ5zCRKFTxYN",
        "outputId": "9067f21b-5fc0-40bd-a3c8-ca69b50ed33e"
      },
      "execution_count": 124,
      "outputs": [
        {
          "output_type": "execute_result",
          "data": {
            "text/plain": [
              "LinearRegression()"
            ],
            "text/html": [
              "<style>#sk-container-id-3 {color: black;background-color: white;}#sk-container-id-3 pre{padding: 0;}#sk-container-id-3 div.sk-toggleable {background-color: white;}#sk-container-id-3 label.sk-toggleable__label {cursor: pointer;display: block;width: 100%;margin-bottom: 0;padding: 0.3em;box-sizing: border-box;text-align: center;}#sk-container-id-3 label.sk-toggleable__label-arrow:before {content: \"▸\";float: left;margin-right: 0.25em;color: #696969;}#sk-container-id-3 label.sk-toggleable__label-arrow:hover:before {color: black;}#sk-container-id-3 div.sk-estimator:hover label.sk-toggleable__label-arrow:before {color: black;}#sk-container-id-3 div.sk-toggleable__content {max-height: 0;max-width: 0;overflow: hidden;text-align: left;background-color: #f0f8ff;}#sk-container-id-3 div.sk-toggleable__content pre {margin: 0.2em;color: black;border-radius: 0.25em;background-color: #f0f8ff;}#sk-container-id-3 input.sk-toggleable__control:checked~div.sk-toggleable__content {max-height: 200px;max-width: 100%;overflow: auto;}#sk-container-id-3 input.sk-toggleable__control:checked~label.sk-toggleable__label-arrow:before {content: \"▾\";}#sk-container-id-3 div.sk-estimator input.sk-toggleable__control:checked~label.sk-toggleable__label {background-color: #d4ebff;}#sk-container-id-3 div.sk-label input.sk-toggleable__control:checked~label.sk-toggleable__label {background-color: #d4ebff;}#sk-container-id-3 input.sk-hidden--visually {border: 0;clip: rect(1px 1px 1px 1px);clip: rect(1px, 1px, 1px, 1px);height: 1px;margin: -1px;overflow: hidden;padding: 0;position: absolute;width: 1px;}#sk-container-id-3 div.sk-estimator {font-family: monospace;background-color: #f0f8ff;border: 1px dotted black;border-radius: 0.25em;box-sizing: border-box;margin-bottom: 0.5em;}#sk-container-id-3 div.sk-estimator:hover {background-color: #d4ebff;}#sk-container-id-3 div.sk-parallel-item::after {content: \"\";width: 100%;border-bottom: 1px solid gray;flex-grow: 1;}#sk-container-id-3 div.sk-label:hover label.sk-toggleable__label {background-color: #d4ebff;}#sk-container-id-3 div.sk-serial::before {content: \"\";position: absolute;border-left: 1px solid gray;box-sizing: border-box;top: 0;bottom: 0;left: 50%;z-index: 0;}#sk-container-id-3 div.sk-serial {display: flex;flex-direction: column;align-items: center;background-color: white;padding-right: 0.2em;padding-left: 0.2em;position: relative;}#sk-container-id-3 div.sk-item {position: relative;z-index: 1;}#sk-container-id-3 div.sk-parallel {display: flex;align-items: stretch;justify-content: center;background-color: white;position: relative;}#sk-container-id-3 div.sk-item::before, #sk-container-id-3 div.sk-parallel-item::before {content: \"\";position: absolute;border-left: 1px solid gray;box-sizing: border-box;top: 0;bottom: 0;left: 50%;z-index: -1;}#sk-container-id-3 div.sk-parallel-item {display: flex;flex-direction: column;z-index: 1;position: relative;background-color: white;}#sk-container-id-3 div.sk-parallel-item:first-child::after {align-self: flex-end;width: 50%;}#sk-container-id-3 div.sk-parallel-item:last-child::after {align-self: flex-start;width: 50%;}#sk-container-id-3 div.sk-parallel-item:only-child::after {width: 0;}#sk-container-id-3 div.sk-dashed-wrapped {border: 1px dashed gray;margin: 0 0.4em 0.5em 0.4em;box-sizing: border-box;padding-bottom: 0.4em;background-color: white;}#sk-container-id-3 div.sk-label label {font-family: monospace;font-weight: bold;display: inline-block;line-height: 1.2em;}#sk-container-id-3 div.sk-label-container {text-align: center;}#sk-container-id-3 div.sk-container {/* jupyter's `normalize.less` sets `[hidden] { display: none; }` but bootstrap.min.css set `[hidden] { display: none !important; }` so we also need the `!important` here to be able to override the default hidden behavior on the sphinx rendered scikit-learn.org. See: https://github.com/scikit-learn/scikit-learn/issues/21755 */display: inline-block !important;position: relative;}#sk-container-id-3 div.sk-text-repr-fallback {display: none;}</style><div id=\"sk-container-id-3\" class=\"sk-top-container\"><div class=\"sk-text-repr-fallback\"><pre>LinearRegression()</pre><b>In a Jupyter environment, please rerun this cell to show the HTML representation or trust the notebook. <br />On GitHub, the HTML representation is unable to render, please try loading this page with nbviewer.org.</b></div><div class=\"sk-container\" hidden><div class=\"sk-item\"><div class=\"sk-estimator sk-toggleable\"><input class=\"sk-toggleable__control sk-hidden--visually\" id=\"sk-estimator-id-3\" type=\"checkbox\" checked><label for=\"sk-estimator-id-3\" class=\"sk-toggleable__label sk-toggleable__label-arrow\">LinearRegression</label><div class=\"sk-toggleable__content\"><pre>LinearRegression()</pre></div></div></div></div></div>"
            ]
          },
          "metadata": {},
          "execution_count": 124
        }
      ]
    },
    {
      "cell_type": "code",
      "source": [
        "# 결과 예측\n",
        "y_test_predict = lr.predict(np.array(x_test).reshape(-1, 1))"
      ],
      "metadata": {
        "id": "s9eQN3JHTyin"
      },
      "execution_count": 126,
      "outputs": []
    },
    {
      "cell_type": "code",
      "source": [
        "# 결과 그래프 시각화"
      ],
      "metadata": {
        "id": "w4jI5x_zTz5R"
      },
      "execution_count": null,
      "outputs": []
    },
    {
      "cell_type": "markdown",
      "source": [
        "머신러닝 저장"
      ],
      "metadata": {
        "id": "uTWbsIxzT7S9"
      }
    },
    {
      "cell_type": "code",
      "source": [
        "plt.scatter(x_test,y_test,color='green')\n",
        "plt.plot(x_test,y_test_predict,color='black', linewidth=4)\n",
        "plt.show()"
      ],
      "metadata": {
        "colab": {
          "base_uri": "https://localhost:8080/",
          "height": 430
        },
        "id": "6L2VhKwlT-HH",
        "outputId": "707b8d5d-10a6-437a-c904-8d9b80ceb057"
      },
      "execution_count": 127,
      "outputs": [
        {
          "output_type": "display_data",
          "data": {
            "text/plain": [
              "<Figure size 640x480 with 1 Axes>"
            ],
            "image/png": "[encoded data removed]"
          },
          "metadata": {}
        }
      ]
    },
    {
      "cell_type": "markdown",
      "source": [
        "성능지표로 메트릭스를 사용"
      ],
      "metadata": {
        "id": "ANrQ_MGuWeGm"
      }
    },
    {
      "cell_type": "code",
      "source": [
        "print('Linear regressor performance')\n",
        "print('MAE Mean absolute error ', round(sm.mean_absolute_error(y_test,y_test_predict),2))\n",
        "print('MSE Mean squared error ', round(sm.mean_squared_error(y_test,y_test_predict),2))\n",
        "print('MSE Median squared error ', round(sm.median_absolute_error(y_test,y_test_predict),2))\n",
        "print('Explain variance score ', round(sm.explained_variance_score(y_test,y_test_predict),2))\n",
        "print('R2 ', round(sm.r2_score(y_test,y_test_predict),2))"
      ],
      "metadata": {
        "colab": {
          "base_uri": "https://localhost:8080/"
        },
        "id": "cabnpK8TUm9c",
        "outputId": "c27aa70f-6dd4-4ee0-f259-6dc3f3e99ea0"
      },
      "execution_count": 129,
      "outputs": [
        {
          "output_type": "stream",
          "name": "stdout",
          "text": [
            "Linear regressor performance\n",
            "MAE Mean absolute error  6.48\n",
            "MSE Mean squared error  64.86\n",
            "MSE Median squared error  5.61\n",
            "Explain variance score  0.57\n",
            "R2  0.57\n"
          ]
        }
      ]
    },
    {
      "cell_type": "code",
      "source": [
        "import pickle"
      ],
      "metadata": {
        "id": "3Co7RKHYWzoj"
      },
      "execution_count": 130,
      "outputs": []
    },
    {
      "cell_type": "code",
      "source": [
        "with open('./output_model.pkl', 'wb') as f:\n",
        "  pickle.dump(lr, f)"
      ],
      "metadata": {
        "id": "1qaIm4-1XnY1"
      },
      "execution_count": 131,
      "outputs": []
    },
    {
      "cell_type": "markdown",
      "source": [
        "모델 불러오기"
      ],
      "metadata": {
        "id": "6BbbluuFX-4j"
      }
    },
    {
      "cell_type": "code",
      "source": [
        "with open('./output_model.pkl', 'rb') as f:\n",
        "  new_model = pickle.load(f)"
      ],
      "metadata": {
        "id": "fjUgq4irX8eF"
      },
      "execution_count": 132,
      "outputs": []
    },
    {
      "cell_type": "code",
      "source": [
        "new_model_predict =  new_model.predict(np.array(x_test).reshape(-1,1))"
      ],
      "metadata": {
        "id": "97D7RAKWYKoc"
      },
      "execution_count": 134,
      "outputs": []
    },
    {
      "cell_type": "code",
      "source": [
        "plt.scatter(x_test,y_test,color='green')\n",
        "plt.plot(x_test,new_model_predict,color='black', linewidth=4)\n",
        "plt.show()"
      ],
      "metadata": {
        "colab": {
          "base_uri": "https://localhost:8080/",
          "height": 430
        },
        "id": "ccsh5MApYPEM",
        "outputId": "115aa00c-1b75-4784-eaae-e1601488855c"
      },
      "execution_count": 135,
      "outputs": [
        {
          "output_type": "display_data",
          "data": {
            "text/plain": [
              "<Figure size 640x480 with 1 Axes>"
            ],
            "image/png": "[encoded data removed]"
          },
          "metadata": {}
        }
      ]
    },
    {
      "cell_type": "markdown",
      "source": [
        "설명된 분산 또는 변동 explained variance\n",
        "  - 오차들이 차지하는 비율"
      ],
      "metadata": {
        "id": "3RKgecn8Yq_2"
      }
    },
    {
      "cell_type": "markdown",
      "source": [
        "다변수 회귀분석 - 위에서 적용한 단일 회귀분석에서 컬럼을 다 사용"
      ],
      "metadata": {
        "id": "U6quLSzlZCQg"
      }
    },
    {
      "cell_type": "markdown",
      "source": [
        "선형 - > 비선형으로 변경해서 훈련 및 예측  차수를 10차로 변경"
      ],
      "metadata": {
        "id": "S2jCeroBZZbj"
      }
    },
    {
      "cell_type": "code",
      "source": [
        "from sklearn.preprocessing  import PolynomialFeatures\n",
        "x_train = data.iloc[:split_num,:-1]\n",
        "y_train = data.iloc[:split_num,-1]\n",
        "x_test = data.iloc[split_num:,:-1]\n",
        "y_test = data.iloc[split_num:,-1]"
      ],
      "metadata": {
        "id": "euvLMHWfYcbN"
      },
      "execution_count": 147,
      "outputs": []
    },
    {
      "cell_type": "code",
      "source": [
        "pl = PolynomialFeatures(degree=10)\n",
        "pl.fit(x_train)\n",
        "x_train_poly = pl.transform(x_train)\n",
        "x_test_poly = pl.transform(x_test)"
      ],
      "metadata": {
        "id": "69G6t1xeZmSt"
      },
      "execution_count": 148,
      "outputs": []
    },
    {
      "cell_type": "code",
      "source": [
        "lr = LinearRegression()\n",
        "lr.fit(x_train_poly,y_train)\n",
        "y_test_poly_predict = lr.predict(x_test_poly)"
      ],
      "metadata": {
        "id": "WJIXyUd4aeLF"
      },
      "execution_count": 149,
      "outputs": []
    },
    {
      "cell_type": "code",
      "source": [
        "print('평가용 Linear regressor performance')\n",
        "print('MAE Mean absolute error ', round(sm.mean_absolute_error(y_test,y_test_poly_predict),2))\n",
        "print('MSE Mean squared error ', round(sm.mean_squared_error(y_test,y_test_poly_predict),2))\n",
        "print('MSE Median squared error ', round(sm.median_absolute_error(y_test,y_test_poly_predict),2))\n",
        "print('Explain variance score ', round(sm.explained_variance_score(y_test,y_test_poly_predict),2))\n",
        "print('R2 ', round(sm.r2_score(y_test,y_test_poly_predict),2))"
      ],
      "metadata": {
        "colab": {
          "base_uri": "https://localhost:8080/"
        },
        "id": "ABxJXak1ar5N",
        "outputId": "f0c4c964-7a0b-47fd-f6c7-9a7bd48b03a3"
      },
      "execution_count": 150,
      "outputs": [
        {
          "output_type": "stream",
          "name": "stdout",
          "text": [
            "Linear regressor performance\n",
            "MAE Mean absolute error  84.29\n",
            "MSE Mean squared error  173805.12\n",
            "MSE Median squared error  6.13\n",
            "Explain variance score  -1153.61\n",
            "R2  -1155.87\n"
          ]
        }
      ]
    },
    {
      "cell_type": "code",
      "source": [
        "x_train_poly_predict = lr.predict(x_train_poly)\n",
        "print('학습용 Linear regressor performance')\n",
        "print('MAE Mean absolute error ', round(sm.mean_absolute_error(y_train,x_train_poly_predict),2))\n",
        "print('MSE Mean squared error ', round(sm.mean_squared_error(y_train,x_train_poly_predict),2))\n",
        "print('MSE Median squared error ', round(sm.median_absolute_error(y_train,x_train_poly_predict),2))\n",
        "print('Explain variance score ', round(sm.explained_variance_score(y_train,x_train_poly_predict),2))\n",
        "print('R2 ', round(sm.r2_score(y_train,x_train_poly_predict),2))"
      ],
      "metadata": {
        "colab": {
          "base_uri": "https://localhost:8080/"
        },
        "id": "-_x1hvfgbjc1",
        "outputId": "918f70ff-e44c-47d1-9fff-ae03cf7eb54d"
      },
      "execution_count": 151,
      "outputs": [
        {
          "output_type": "stream",
          "name": "stdout",
          "text": [
            "학습용 Linear regressor performance\n",
            "MAE Mean absolute error  2.3\n",
            "MSE Mean squared error  10.75\n",
            "MSE Median squared error  1.49\n",
            "Explain variance score  0.93\n",
            "R2  0.93\n"
          ]
        }
      ]
    },
    {
      "cell_type": "code",
      "source": [
        "!pip install pycaret"
      ],
      "metadata": {
        "id": "1cz_vEPicnDA"
      },
      "execution_count": null,
      "outputs": []
    },
    {
      "cell_type": "code",
      "source": [
        "data.columns = ['a','b','c','target']"
      ],
      "metadata": {
        "id": "tEzgTdzedUHl"
      },
      "execution_count": 157,
      "outputs": []
    },
    {
      "cell_type": "code",
      "source": [
        "from pycaret import regression\n",
        "regression.setup(data = data, target = 'target')\n",
        "best = regression.compare_models(n_select=5)"
      ],
      "metadata": {
        "colab": {
          "base_uri": "https://localhost:8080/",
          "height": 1000,
          "referenced_widgets": [
            "55535566ddc3460095f2c0c6e2648427",
            "da2aeb0e6f08443ebcceddf21cd17dd3",
            "7f1f6ae68e2b4a92b05b160e6cb60184",
            "2b0fa747237f439293bab0587c0bff15",
            "346f0847aaba4ef2b563423fee273f7f",
            "c5b23b0c719344a6a1852b416aabc598",
            "14a7def7bc6f467b8bf825252df7ee17",
            "7eeac762b5a2479685d10642a6ad5e39",
            "048233c4a4e04835a0ddd61ddc8d7bdc",
            "78b8237b6077458983017bb41f3f6cbe",
            "a240142a238b4e0d84cd43caae104c2c"
          ]
        },
        "id": "-g9BPs2Qb8wF",
        "outputId": "d38c33fd-6c5c-43aa-f988-dc9b56ead52b"
      },
      "execution_count": 158,
      "outputs": [
        {
          "output_type": "display_data",
          "data": {
            "text/plain": [
              "<pandas.io.formats.style.Styler at 0x7f1de6f648e0>"
            ],
            "text/html": [
              "<style type=\"text/css\">\n",
              "#T_b6c7f_row8_col1 {\n",
              "  background-color: lightgreen;\n",
              "}\n",
              "</style>\n",
              "<table id=\"T_b6c7f\" class=\"dataframe\">\n",
              "  <thead>\n",
              "    <tr>\n",
              "      <th class=\"blank level0\" >&nbsp;</th>\n",
              "      <th id=\"T_b6c7f_level0_col0\" class=\"col_heading level0 col0\" >Description</th>\n",
              "      <th id=\"T_b6c7f_level0_col1\" class=\"col_heading level0 col1\" >Value</th>\n",
              "    </tr>\n",
              "  </thead>\n",
              "  <tbody>\n",
              "    <tr>\n",
              "      <th id=\"T_b6c7f_level0_row0\" class=\"row_heading level0 row0\" >0</th>\n",
              "      <td id=\"T_b6c7f_row0_col0\" class=\"data row0 col0\" >Session id</td>\n",
              "      <td id=\"T_b6c7f_row0_col1\" class=\"data row0 col1\" >2480</td>\n",
              "    </tr>\n",
              "    <tr>\n",
              "      <th id=\"T_b6c7f_level0_row1\" class=\"row_heading level0 row1\" >1</th>\n",
              "      <td id=\"T_b6c7f_row1_col0\" class=\"data row1 col0\" >Target</td>\n",
              "      <td id=\"T_b6c7f_row1_col1\" class=\"data row1 col1\" >target</td>\n",
              "    </tr>\n",
              "    <tr>\n",
              "      <th id=\"T_b6c7f_level0_row2\" class=\"row_heading level0 row2\" >2</th>\n",
              "      <td id=\"T_b6c7f_row2_col0\" class=\"data row2 col0\" >Target type</td>\n",
              "      <td id=\"T_b6c7f_row2_col1\" class=\"data row2 col1\" >Regression</td>\n",
              "    </tr>\n",
              "    <tr>\n",
              "      <th id=\"T_b6c7f_level0_row3\" class=\"row_heading level0 row3\" >3</th>\n",
              "      <td id=\"T_b6c7f_row3_col0\" class=\"data row3 col0\" >Original data shape</td>\n",
              "      <td id=\"T_b6c7f_row3_col1\" class=\"data row3 col1\" >(700, 4)</td>\n",
              "    </tr>\n",
              "    <tr>\n",
              "      <th id=\"T_b6c7f_level0_row4\" class=\"row_heading level0 row4\" >4</th>\n",
              "      <td id=\"T_b6c7f_row4_col0\" class=\"data row4 col0\" >Transformed data shape</td>\n",
              "      <td id=\"T_b6c7f_row4_col1\" class=\"data row4 col1\" >(700, 4)</td>\n",
              "    </tr>\n",
              "    <tr>\n",
              "      <th id=\"T_b6c7f_level0_row5\" class=\"row_heading level0 row5\" >5</th>\n",
              "      <td id=\"T_b6c7f_row5_col0\" class=\"data row5 col0\" >Transformed train set shape</td>\n",
              "      <td id=\"T_b6c7f_row5_col1\" class=\"data row5 col1\" >(489, 4)</td>\n",
              "    </tr>\n",
              "    <tr>\n",
              "      <th id=\"T_b6c7f_level0_row6\" class=\"row_heading level0 row6\" >6</th>\n",
              "      <td id=\"T_b6c7f_row6_col0\" class=\"data row6 col0\" >Transformed test set shape</td>\n",
              "      <td id=\"T_b6c7f_row6_col1\" class=\"data row6 col1\" >(211, 4)</td>\n",
              "    </tr>\n",
              "    <tr>\n",
              "      <th id=\"T_b6c7f_level0_row7\" class=\"row_heading level0 row7\" >7</th>\n",
              "      <td id=\"T_b6c7f_row7_col0\" class=\"data row7 col0\" >Numeric features</td>\n",
              "      <td id=\"T_b6c7f_row7_col1\" class=\"data row7 col1\" >3</td>\n",
              "    </tr>\n",
              "    <tr>\n",
              "      <th id=\"T_b6c7f_level0_row8\" class=\"row_heading level0 row8\" >8</th>\n",
              "      <td id=\"T_b6c7f_row8_col0\" class=\"data row8 col0\" >Preprocess</td>\n",
              "      <td id=\"T_b6c7f_row8_col1\" class=\"data row8 col1\" >True</td>\n",
              "    </tr>\n",
              "    <tr>\n",
              "      <th id=\"T_b6c7f_level0_row9\" class=\"row_heading level0 row9\" >9</th>\n",
              "      <td id=\"T_b6c7f_row9_col0\" class=\"data row9 col0\" >Imputation type</td>\n",
              "      <td id=\"T_b6c7f_row9_col1\" class=\"data row9 col1\" >simple</td>\n",
              "    </tr>\n",
              "    <tr>\n",
              "      <th id=\"T_b6c7f_level0_row10\" class=\"row_heading level0 row10\" >10</th>\n",
              "      <td id=\"T_b6c7f_row10_col0\" class=\"data row10 col0\" >Numeric imputation</td>\n",
              "      <td id=\"T_b6c7f_row10_col1\" class=\"data row10 col1\" >mean</td>\n",
              "    </tr>\n",
              "    <tr>\n",
              "      <th id=\"T_b6c7f_level0_row11\" class=\"row_heading level0 row11\" >11</th>\n",
              "      <td id=\"T_b6c7f_row11_col0\" class=\"data row11 col0\" >Categorical imputation</td>\n",
              "      <td id=\"T_b6c7f_row11_col1\" class=\"data row11 col1\" >mode</td>\n",
              "    </tr>\n",
              "    <tr>\n",
              "      <th id=\"T_b6c7f_level0_row12\" class=\"row_heading level0 row12\" >12</th>\n",
              "      <td id=\"T_b6c7f_row12_col0\" class=\"data row12 col0\" >Fold Generator</td>\n",
              "      <td id=\"T_b6c7f_row12_col1\" class=\"data row12 col1\" >KFold</td>\n",
              "    </tr>\n",
              "    <tr>\n",
              "      <th id=\"T_b6c7f_level0_row13\" class=\"row_heading level0 row13\" >13</th>\n",
              "      <td id=\"T_b6c7f_row13_col0\" class=\"data row13 col0\" >Fold Number</td>\n",
              "      <td id=\"T_b6c7f_row13_col1\" class=\"data row13 col1\" >10</td>\n",
              "    </tr>\n",
              "    <tr>\n",
              "      <th id=\"T_b6c7f_level0_row14\" class=\"row_heading level0 row14\" >14</th>\n",
              "      <td id=\"T_b6c7f_row14_col0\" class=\"data row14 col0\" >CPU Jobs</td>\n",
              "      <td id=\"T_b6c7f_row14_col1\" class=\"data row14 col1\" >-1</td>\n",
              "    </tr>\n",
              "    <tr>\n",
              "      <th id=\"T_b6c7f_level0_row15\" class=\"row_heading level0 row15\" >15</th>\n",
              "      <td id=\"T_b6c7f_row15_col0\" class=\"data row15 col0\" >Use GPU</td>\n",
              "      <td id=\"T_b6c7f_row15_col1\" class=\"data row15 col1\" >False</td>\n",
              "    </tr>\n",
              "    <tr>\n",
              "      <th id=\"T_b6c7f_level0_row16\" class=\"row_heading level0 row16\" >16</th>\n",
              "      <td id=\"T_b6c7f_row16_col0\" class=\"data row16 col0\" >Log Experiment</td>\n",
              "      <td id=\"T_b6c7f_row16_col1\" class=\"data row16 col1\" >False</td>\n",
              "    </tr>\n",
              "    <tr>\n",
              "      <th id=\"T_b6c7f_level0_row17\" class=\"row_heading level0 row17\" >17</th>\n",
              "      <td id=\"T_b6c7f_row17_col0\" class=\"data row17 col0\" >Experiment Name</td>\n",
              "      <td id=\"T_b6c7f_row17_col1\" class=\"data row17 col1\" >reg-default-name</td>\n",
              "    </tr>\n",
              "    <tr>\n",
              "      <th id=\"T_b6c7f_level0_row18\" class=\"row_heading level0 row18\" >18</th>\n",
              "      <td id=\"T_b6c7f_row18_col0\" class=\"data row18 col0\" >USI</td>\n",
              "      <td id=\"T_b6c7f_row18_col1\" class=\"data row18 col1\" >a386</td>\n",
              "    </tr>\n",
              "  </tbody>\n",
              "</table>\n"
            ]
          },
          "metadata": {}
        },
        {
          "output_type": "display_data",
          "data": {
            "text/plain": [
              "<IPython.core.display.HTML object>"
            ],
            "text/html": []
          },
          "metadata": {}
        },
        {
          "output_type": "display_data",
          "data": {
            "text/plain": [
              "<pandas.io.formats.style.Styler at 0x7f1e0d632cb0>"
            ],
            "text/html": [
              "<style type=\"text/css\">\n",
              "#T_9c200 th {\n",
              "  text-align: left;\n",
              "}\n",
              "#T_9c200_row0_col0, #T_9c200_row0_col1, #T_9c200_row0_col6, #T_9c200_row1_col0, #T_9c200_row1_col1, #T_9c200_row1_col2, #T_9c200_row1_col3, #T_9c200_row1_col4, #T_9c200_row1_col5, #T_9c200_row1_col6, #T_9c200_row2_col0, #T_9c200_row2_col1, #T_9c200_row2_col2, #T_9c200_row2_col3, #T_9c200_row2_col4, #T_9c200_row2_col5, #T_9c200_row2_col6, #T_9c200_row3_col0, #T_9c200_row3_col1, #T_9c200_row3_col2, #T_9c200_row3_col3, #T_9c200_row3_col4, #T_9c200_row3_col5, #T_9c200_row3_col6, #T_9c200_row4_col0, #T_9c200_row4_col2, #T_9c200_row4_col3, #T_9c200_row4_col4, #T_9c200_row4_col5, #T_9c200_row4_col6, #T_9c200_row5_col0, #T_9c200_row5_col1, #T_9c200_row5_col2, #T_9c200_row5_col3, #T_9c200_row5_col4, #T_9c200_row5_col5, #T_9c200_row5_col6, #T_9c200_row6_col0, #T_9c200_row6_col1, #T_9c200_row6_col2, #T_9c200_row6_col3, #T_9c200_row6_col4, #T_9c200_row6_col5, #T_9c200_row6_col6, #T_9c200_row7_col0, #T_9c200_row7_col1, #T_9c200_row7_col2, #T_9c200_row7_col3, #T_9c200_row7_col4, #T_9c200_row7_col5, #T_9c200_row7_col6, #T_9c200_row8_col0, #T_9c200_row8_col1, #T_9c200_row8_col2, #T_9c200_row8_col3, #T_9c200_row8_col4, #T_9c200_row8_col5, #T_9c200_row8_col6, #T_9c200_row9_col0, #T_9c200_row9_col1, #T_9c200_row9_col2, #T_9c200_row9_col3, #T_9c200_row9_col4, #T_9c200_row9_col5, #T_9c200_row9_col6, #T_9c200_row10_col0, #T_9c200_row10_col1, #T_9c200_row10_col2, #T_9c200_row10_col3, #T_9c200_row10_col4, #T_9c200_row10_col5, #T_9c200_row10_col6, #T_9c200_row11_col0, #T_9c200_row11_col1, #T_9c200_row11_col2, #T_9c200_row11_col3, #T_9c200_row11_col4, #T_9c200_row11_col5, #T_9c200_row11_col6, #T_9c200_row12_col0, #T_9c200_row12_col1, #T_9c200_row12_col2, #T_9c200_row12_col3, #T_9c200_row12_col4, #T_9c200_row12_col5, #T_9c200_row12_col6, #T_9c200_row13_col0, #T_9c200_row13_col1, #T_9c200_row13_col2, #T_9c200_row13_col3, #T_9c200_row13_col4, #T_9c200_row13_col5, #T_9c200_row14_col0, #T_9c200_row14_col1, #T_9c200_row14_col2, #T_9c200_row14_col3, #T_9c200_row14_col4, #T_9c200_row14_col5, #T_9c200_row14_col6, #T_9c200_row15_col0, #T_9c200_row15_col1, #T_9c200_row15_col2, #T_9c200_row15_col3, #T_9c200_row15_col4, #T_9c200_row15_col5, #T_9c200_row15_col6, #T_9c200_row16_col0, #T_9c200_row16_col1, #T_9c200_row16_col2, #T_9c200_row16_col3, #T_9c200_row16_col4, #T_9c200_row16_col5, #T_9c200_row16_col6, #T_9c200_row17_col0, #T_9c200_row17_col1, #T_9c200_row17_col2, #T_9c200_row17_col3, #T_9c200_row17_col4, #T_9c200_row17_col5, #T_9c200_row17_col6, #T_9c200_row18_col0, #T_9c200_row18_col1, #T_9c200_row18_col2, #T_9c200_row18_col3, #T_9c200_row18_col4, #T_9c200_row18_col5, #T_9c200_row18_col6 {\n",
              "  text-align: left;\n",
              "}\n",
              "#T_9c200_row0_col2, #T_9c200_row0_col3, #T_9c200_row0_col4, #T_9c200_row0_col5, #T_9c200_row4_col1, #T_9c200_row13_col6 {\n",
              "  text-align: left;\n",
              "  background-color: yellow;\n",
              "}\n",
              "#T_9c200_row0_col7, #T_9c200_row1_col7, #T_9c200_row2_col7, #T_9c200_row3_col7, #T_9c200_row4_col7, #T_9c200_row5_col7, #T_9c200_row6_col7, #T_9c200_row8_col7, #T_9c200_row9_col7, #T_9c200_row10_col7, #T_9c200_row11_col7, #T_9c200_row12_col7, #T_9c200_row13_col7, #T_9c200_row14_col7, #T_9c200_row15_col7, #T_9c200_row16_col7, #T_9c200_row17_col7, #T_9c200_row18_col7 {\n",
              "  text-align: left;\n",
              "  background-color: lightgrey;\n",
              "}\n",
              "#T_9c200_row7_col7 {\n",
              "  text-align: left;\n",
              "  background-color: yellow;\n",
              "  background-color: lightgrey;\n",
              "}\n",
              "</style>\n",
              "<table id=\"T_9c200\" class=\"dataframe\">\n",
              "  <thead>\n",
              "    <tr>\n",
              "      <th class=\"blank level0\" >&nbsp;</th>\n",
              "      <th id=\"T_9c200_level0_col0\" class=\"col_heading level0 col0\" >Model</th>\n",
              "      <th id=\"T_9c200_level0_col1\" class=\"col_heading level0 col1\" >MAE</th>\n",
              "      <th id=\"T_9c200_level0_col2\" class=\"col_heading level0 col2\" >MSE</th>\n",
              "      <th id=\"T_9c200_level0_col3\" class=\"col_heading level0 col3\" >RMSE</th>\n",
              "      <th id=\"T_9c200_level0_col4\" class=\"col_heading level0 col4\" >R2</th>\n",
              "      <th id=\"T_9c200_level0_col5\" class=\"col_heading level0 col5\" >RMSLE</th>\n",
              "      <th id=\"T_9c200_level0_col6\" class=\"col_heading level0 col6\" >MAPE</th>\n",
              "      <th id=\"T_9c200_level0_col7\" class=\"col_heading level0 col7\" >TT (Sec)</th>\n",
              "    </tr>\n",
              "  </thead>\n",
              "  <tbody>\n",
              "    <tr>\n",
              "      <th id=\"T_9c200_level0_row0\" class=\"row_heading level0 row0\" >huber</th>\n",
              "      <td id=\"T_9c200_row0_col0\" class=\"data row0 col0\" >Huber Regressor</td>\n",
              "      <td id=\"T_9c200_row0_col1\" class=\"data row0 col1\" >3.5826</td>\n",
              "      <td id=\"T_9c200_row0_col2\" class=\"data row0 col2\" >20.4792</td>\n",
              "      <td id=\"T_9c200_row0_col3\" class=\"data row0 col3\" >4.5021</td>\n",
              "      <td id=\"T_9c200_row0_col4\" class=\"data row0 col4\" >0.8472</td>\n",
              "      <td id=\"T_9c200_row0_col5\" class=\"data row0 col5\" >0.3468</td>\n",
              "      <td id=\"T_9c200_row0_col6\" class=\"data row0 col6\" >0.3865</td>\n",
              "      <td id=\"T_9c200_row0_col7\" class=\"data row0 col7\" >0.0350</td>\n",
              "    </tr>\n",
              "    <tr>\n",
              "      <th id=\"T_9c200_level0_row1\" class=\"row_heading level0 row1\" >lr</th>\n",
              "      <td id=\"T_9c200_row1_col0\" class=\"data row1 col0\" >Linear Regression</td>\n",
              "      <td id=\"T_9c200_row1_col1\" class=\"data row1 col1\" >3.5815</td>\n",
              "      <td id=\"T_9c200_row1_col2\" class=\"data row1 col2\" >20.5002</td>\n",
              "      <td id=\"T_9c200_row1_col3\" class=\"data row1 col3\" >4.5042</td>\n",
              "      <td id=\"T_9c200_row1_col4\" class=\"data row1 col4\" >0.8470</td>\n",
              "      <td id=\"T_9c200_row1_col5\" class=\"data row1 col5\" >0.3510</td>\n",
              "      <td id=\"T_9c200_row1_col6\" class=\"data row1 col6\" >0.3925</td>\n",
              "      <td id=\"T_9c200_row1_col7\" class=\"data row1 col7\" >0.3850</td>\n",
              "    </tr>\n",
              "    <tr>\n",
              "      <th id=\"T_9c200_level0_row2\" class=\"row_heading level0 row2\" >ridge</th>\n",
              "      <td id=\"T_9c200_row2_col0\" class=\"data row2 col0\" >Ridge Regression</td>\n",
              "      <td id=\"T_9c200_row2_col1\" class=\"data row2 col1\" >3.5814</td>\n",
              "      <td id=\"T_9c200_row2_col2\" class=\"data row2 col2\" >20.5000</td>\n",
              "      <td id=\"T_9c200_row2_col3\" class=\"data row2 col3\" >4.5043</td>\n",
              "      <td id=\"T_9c200_row2_col4\" class=\"data row2 col4\" >0.8470</td>\n",
              "      <td id=\"T_9c200_row2_col5\" class=\"data row2 col5\" >0.3512</td>\n",
              "      <td id=\"T_9c200_row2_col6\" class=\"data row2 col6\" >0.3930</td>\n",
              "      <td id=\"T_9c200_row2_col7\" class=\"data row2 col7\" >0.0280</td>\n",
              "    </tr>\n",
              "    <tr>\n",
              "      <th id=\"T_9c200_level0_row3\" class=\"row_heading level0 row3\" >lar</th>\n",
              "      <td id=\"T_9c200_row3_col0\" class=\"data row3 col0\" >Least Angle Regression</td>\n",
              "      <td id=\"T_9c200_row3_col1\" class=\"data row3 col1\" >3.5815</td>\n",
              "      <td id=\"T_9c200_row3_col2\" class=\"data row3 col2\" >20.5002</td>\n",
              "      <td id=\"T_9c200_row3_col3\" class=\"data row3 col3\" >4.5042</td>\n",
              "      <td id=\"T_9c200_row3_col4\" class=\"data row3 col4\" >0.8470</td>\n",
              "      <td id=\"T_9c200_row3_col5\" class=\"data row3 col5\" >0.3510</td>\n",
              "      <td id=\"T_9c200_row3_col6\" class=\"data row3 col6\" >0.3925</td>\n",
              "      <td id=\"T_9c200_row3_col7\" class=\"data row3 col7\" >0.0480</td>\n",
              "    </tr>\n",
              "    <tr>\n",
              "      <th id=\"T_9c200_level0_row4\" class=\"row_heading level0 row4\" >br</th>\n",
              "      <td id=\"T_9c200_row4_col0\" class=\"data row4 col0\" >Bayesian Ridge</td>\n",
              "      <td id=\"T_9c200_row4_col1\" class=\"data row4 col1\" >3.5813</td>\n",
              "      <td id=\"T_9c200_row4_col2\" class=\"data row4 col2\" >20.5003</td>\n",
              "      <td id=\"T_9c200_row4_col3\" class=\"data row4 col3\" >4.5044</td>\n",
              "      <td id=\"T_9c200_row4_col4\" class=\"data row4 col4\" >0.8470</td>\n",
              "      <td id=\"T_9c200_row4_col5\" class=\"data row4 col5\" >0.3517</td>\n",
              "      <td id=\"T_9c200_row4_col6\" class=\"data row4 col6\" >0.3939</td>\n",
              "      <td id=\"T_9c200_row4_col7\" class=\"data row4 col7\" >0.0280</td>\n",
              "    </tr>\n",
              "    <tr>\n",
              "      <th id=\"T_9c200_level0_row5\" class=\"row_heading level0 row5\" >lasso</th>\n",
              "      <td id=\"T_9c200_row5_col0\" class=\"data row5 col0\" >Lasso Regression</td>\n",
              "      <td id=\"T_9c200_row5_col1\" class=\"data row5 col1\" >3.6377</td>\n",
              "      <td id=\"T_9c200_row5_col2\" class=\"data row5 col2\" >21.0287</td>\n",
              "      <td id=\"T_9c200_row5_col3\" class=\"data row5 col3\" >4.5693</td>\n",
              "      <td id=\"T_9c200_row5_col4\" class=\"data row5 col4\" >0.8444</td>\n",
              "      <td id=\"T_9c200_row5_col5\" class=\"data row5 col5\" >0.3595</td>\n",
              "      <td id=\"T_9c200_row5_col6\" class=\"data row5 col6\" >0.4779</td>\n",
              "      <td id=\"T_9c200_row5_col7\" class=\"data row5 col7\" >0.0300</td>\n",
              "    </tr>\n",
              "    <tr>\n",
              "      <th id=\"T_9c200_level0_row6\" class=\"row_heading level0 row6\" >llar</th>\n",
              "      <td id=\"T_9c200_row6_col0\" class=\"data row6 col0\" >Lasso Least Angle Regression</td>\n",
              "      <td id=\"T_9c200_row6_col1\" class=\"data row6 col1\" >3.6377</td>\n",
              "      <td id=\"T_9c200_row6_col2\" class=\"data row6 col2\" >21.0287</td>\n",
              "      <td id=\"T_9c200_row6_col3\" class=\"data row6 col3\" >4.5693</td>\n",
              "      <td id=\"T_9c200_row6_col4\" class=\"data row6 col4\" >0.8444</td>\n",
              "      <td id=\"T_9c200_row6_col5\" class=\"data row6 col5\" >0.3595</td>\n",
              "      <td id=\"T_9c200_row6_col6\" class=\"data row6 col6\" >0.4779</td>\n",
              "      <td id=\"T_9c200_row6_col7\" class=\"data row6 col7\" >0.0480</td>\n",
              "    </tr>\n",
              "    <tr>\n",
              "      <th id=\"T_9c200_level0_row7\" class=\"row_heading level0 row7\" >en</th>\n",
              "      <td id=\"T_9c200_row7_col0\" class=\"data row7 col0\" >Elastic Net</td>\n",
              "      <td id=\"T_9c200_row7_col1\" class=\"data row7 col1\" >3.7228</td>\n",
              "      <td id=\"T_9c200_row7_col2\" class=\"data row7 col2\" >21.9911</td>\n",
              "      <td id=\"T_9c200_row7_col3\" class=\"data row7 col3\" >4.6778</td>\n",
              "      <td id=\"T_9c200_row7_col4\" class=\"data row7 col4\" >0.8389</td>\n",
              "      <td id=\"T_9c200_row7_col5\" class=\"data row7 col5\" >0.3595</td>\n",
              "      <td id=\"T_9c200_row7_col6\" class=\"data row7 col6\" >0.5481</td>\n",
              "      <td id=\"T_9c200_row7_col7\" class=\"data row7 col7\" >0.0270</td>\n",
              "    </tr>\n",
              "    <tr>\n",
              "      <th id=\"T_9c200_level0_row8\" class=\"row_heading level0 row8\" >gbr</th>\n",
              "      <td id=\"T_9c200_row8_col0\" class=\"data row8 col0\" >Gradient Boosting Regressor</td>\n",
              "      <td id=\"T_9c200_row8_col1\" class=\"data row8 col1\" >4.1618</td>\n",
              "      <td id=\"T_9c200_row8_col2\" class=\"data row8 col2\" >26.6801</td>\n",
              "      <td id=\"T_9c200_row8_col3\" class=\"data row8 col3\" >5.1356</td>\n",
              "      <td id=\"T_9c200_row8_col4\" class=\"data row8 col4\" >0.8071</td>\n",
              "      <td id=\"T_9c200_row8_col5\" class=\"data row8 col5\" >0.3816</td>\n",
              "      <td id=\"T_9c200_row8_col6\" class=\"data row8 col6\" >0.5502</td>\n",
              "      <td id=\"T_9c200_row8_col7\" class=\"data row8 col7\" >0.1920</td>\n",
              "    </tr>\n",
              "    <tr>\n",
              "      <th id=\"T_9c200_level0_row9\" class=\"row_heading level0 row9\" >et</th>\n",
              "      <td id=\"T_9c200_row9_col0\" class=\"data row9 col0\" >Extra Trees Regressor</td>\n",
              "      <td id=\"T_9c200_row9_col1\" class=\"data row9 col1\" >4.2207</td>\n",
              "      <td id=\"T_9c200_row9_col2\" class=\"data row9 col2\" >28.0843</td>\n",
              "      <td id=\"T_9c200_row9_col3\" class=\"data row9 col3\" >5.2860</td>\n",
              "      <td id=\"T_9c200_row9_col4\" class=\"data row9 col4\" >0.7988</td>\n",
              "      <td id=\"T_9c200_row9_col5\" class=\"data row9 col5\" >0.3759</td>\n",
              "      <td id=\"T_9c200_row9_col6\" class=\"data row9 col6\" >0.5101</td>\n",
              "      <td id=\"T_9c200_row9_col7\" class=\"data row9 col7\" >0.2260</td>\n",
              "    </tr>\n",
              "    <tr>\n",
              "      <th id=\"T_9c200_level0_row10\" class=\"row_heading level0 row10\" >rf</th>\n",
              "      <td id=\"T_9c200_row10_col0\" class=\"data row10 col0\" >Random Forest Regressor</td>\n",
              "      <td id=\"T_9c200_row10_col1\" class=\"data row10 col1\" >4.2869</td>\n",
              "      <td id=\"T_9c200_row10_col2\" class=\"data row10 col2\" >29.0613</td>\n",
              "      <td id=\"T_9c200_row10_col3\" class=\"data row10 col3\" >5.3733</td>\n",
              "      <td id=\"T_9c200_row10_col4\" class=\"data row10 col4\" >0.7925</td>\n",
              "      <td id=\"T_9c200_row10_col5\" class=\"data row10 col5\" >0.3787</td>\n",
              "      <td id=\"T_9c200_row10_col6\" class=\"data row10 col6\" >0.5222</td>\n",
              "      <td id=\"T_9c200_row10_col7\" class=\"data row10 col7\" >0.2660</td>\n",
              "    </tr>\n",
              "    <tr>\n",
              "      <th id=\"T_9c200_level0_row11\" class=\"row_heading level0 row11\" >knn</th>\n",
              "      <td id=\"T_9c200_row11_col0\" class=\"data row11 col0\" >K Neighbors Regressor</td>\n",
              "      <td id=\"T_9c200_row11_col1\" class=\"data row11 col1\" >4.3138</td>\n",
              "      <td id=\"T_9c200_row11_col2\" class=\"data row11 col2\" >29.8157</td>\n",
              "      <td id=\"T_9c200_row11_col3\" class=\"data row11 col3\" >5.4417</td>\n",
              "      <td id=\"T_9c200_row11_col4\" class=\"data row11 col4\" >0.7881</td>\n",
              "      <td id=\"T_9c200_row11_col5\" class=\"data row11 col5\" >0.3519</td>\n",
              "      <td id=\"T_9c200_row11_col6\" class=\"data row11 col6\" >0.4890</td>\n",
              "      <td id=\"T_9c200_row11_col7\" class=\"data row11 col7\" >0.0300</td>\n",
              "    </tr>\n",
              "    <tr>\n",
              "      <th id=\"T_9c200_level0_row12\" class=\"row_heading level0 row12\" >lightgbm</th>\n",
              "      <td id=\"T_9c200_row12_col0\" class=\"data row12 col0\" >Light Gradient Boosting Machine</td>\n",
              "      <td id=\"T_9c200_row12_col1\" class=\"data row12 col1\" >4.3306</td>\n",
              "      <td id=\"T_9c200_row12_col2\" class=\"data row12 col2\" >29.8436</td>\n",
              "      <td id=\"T_9c200_row12_col3\" class=\"data row12 col3\" >5.4410</td>\n",
              "      <td id=\"T_9c200_row12_col4\" class=\"data row12 col4\" >0.7832</td>\n",
              "      <td id=\"T_9c200_row12_col5\" class=\"data row12 col5\" >0.4019</td>\n",
              "      <td id=\"T_9c200_row12_col6\" class=\"data row12 col6\" >0.5786</td>\n",
              "      <td id=\"T_9c200_row12_col7\" class=\"data row12 col7\" >0.1680</td>\n",
              "    </tr>\n",
              "    <tr>\n",
              "      <th id=\"T_9c200_level0_row13\" class=\"row_heading level0 row13\" >par</th>\n",
              "      <td id=\"T_9c200_row13_col0\" class=\"data row13 col0\" >Passive Aggressive Regressor</td>\n",
              "      <td id=\"T_9c200_row13_col1\" class=\"data row13 col1\" >4.4311</td>\n",
              "      <td id=\"T_9c200_row13_col2\" class=\"data row13 col2\" >30.7890</td>\n",
              "      <td id=\"T_9c200_row13_col3\" class=\"data row13 col3\" >5.4551</td>\n",
              "      <td id=\"T_9c200_row13_col4\" class=\"data row13 col4\" >0.7607</td>\n",
              "      <td id=\"T_9c200_row13_col5\" class=\"data row13 col5\" >0.3707</td>\n",
              "      <td id=\"T_9c200_row13_col6\" class=\"data row13 col6\" >0.3545</td>\n",
              "      <td id=\"T_9c200_row13_col7\" class=\"data row13 col7\" >0.0290</td>\n",
              "    </tr>\n",
              "    <tr>\n",
              "      <th id=\"T_9c200_level0_row14\" class=\"row_heading level0 row14\" >ada</th>\n",
              "      <td id=\"T_9c200_row14_col0\" class=\"data row14 col0\" >AdaBoost Regressor</td>\n",
              "      <td id=\"T_9c200_row14_col1\" class=\"data row14 col1\" >4.5988</td>\n",
              "      <td id=\"T_9c200_row14_col2\" class=\"data row14 col2\" >33.5216</td>\n",
              "      <td id=\"T_9c200_row14_col3\" class=\"data row14 col3\" >5.7613</td>\n",
              "      <td id=\"T_9c200_row14_col4\" class=\"data row14 col4\" >0.7577</td>\n",
              "      <td id=\"T_9c200_row14_col5\" class=\"data row14 col5\" >0.3723</td>\n",
              "      <td id=\"T_9c200_row14_col6\" class=\"data row14 col6\" >0.4618</td>\n",
              "      <td id=\"T_9c200_row14_col7\" class=\"data row14 col7\" >0.2130</td>\n",
              "    </tr>\n",
              "    <tr>\n",
              "      <th id=\"T_9c200_level0_row15\" class=\"row_heading level0 row15\" >xgboost</th>\n",
              "      <td id=\"T_9c200_row15_col0\" class=\"data row15 col0\" >Extreme Gradient Boosting</td>\n",
              "      <td id=\"T_9c200_row15_col1\" class=\"data row15 col1\" >4.5343</td>\n",
              "      <td id=\"T_9c200_row15_col2\" class=\"data row15 col2\" >33.5472</td>\n",
              "      <td id=\"T_9c200_row15_col3\" class=\"data row15 col3\" >5.7696</td>\n",
              "      <td id=\"T_9c200_row15_col4\" class=\"data row15 col4\" >0.7565</td>\n",
              "      <td id=\"T_9c200_row15_col5\" class=\"data row15 col5\" >0.4072</td>\n",
              "      <td id=\"T_9c200_row15_col6\" class=\"data row15 col6\" >0.7158</td>\n",
              "      <td id=\"T_9c200_row15_col7\" class=\"data row15 col7\" >0.1090</td>\n",
              "    </tr>\n",
              "    <tr>\n",
              "      <th id=\"T_9c200_level0_row16\" class=\"row_heading level0 row16\" >dt</th>\n",
              "      <td id=\"T_9c200_row16_col0\" class=\"data row16 col0\" >Decision Tree Regressor</td>\n",
              "      <td id=\"T_9c200_row16_col1\" class=\"data row16 col1\" >5.8901</td>\n",
              "      <td id=\"T_9c200_row16_col2\" class=\"data row16 col2\" >57.2502</td>\n",
              "      <td id=\"T_9c200_row16_col3\" class=\"data row16 col3\" >7.5518</td>\n",
              "      <td id=\"T_9c200_row16_col4\" class=\"data row16 col4\" >0.5896</td>\n",
              "      <td id=\"T_9c200_row16_col5\" class=\"data row16 col5\" >0.5092</td>\n",
              "      <td id=\"T_9c200_row16_col6\" class=\"data row16 col6\" >0.9388</td>\n",
              "      <td id=\"T_9c200_row16_col7\" class=\"data row16 col7\" >0.0290</td>\n",
              "    </tr>\n",
              "    <tr>\n",
              "      <th id=\"T_9c200_level0_row17\" class=\"row_heading level0 row17\" >omp</th>\n",
              "      <td id=\"T_9c200_row17_col0\" class=\"data row17 col0\" >Orthogonal Matching Pursuit</td>\n",
              "      <td id=\"T_9c200_row17_col1\" class=\"data row17 col1\" >6.3562</td>\n",
              "      <td id=\"T_9c200_row17_col2\" class=\"data row17 col2\" >61.7770</td>\n",
              "      <td id=\"T_9c200_row17_col3\" class=\"data row17 col3\" >7.8362</td>\n",
              "      <td id=\"T_9c200_row17_col4\" class=\"data row17 col4\" >0.5562</td>\n",
              "      <td id=\"T_9c200_row17_col5\" class=\"data row17 col5\" >0.4770</td>\n",
              "      <td id=\"T_9c200_row17_col6\" class=\"data row17 col6\" >1.0475</td>\n",
              "      <td id=\"T_9c200_row17_col7\" class=\"data row17 col7\" >0.0480</td>\n",
              "    </tr>\n",
              "    <tr>\n",
              "      <th id=\"T_9c200_level0_row18\" class=\"row_heading level0 row18\" >dummy</th>\n",
              "      <td id=\"T_9c200_row18_col0\" class=\"data row18 col0\" >Dummy Regressor</td>\n",
              "      <td id=\"T_9c200_row18_col1\" class=\"data row18 col1\" >9.9189</td>\n",
              "      <td id=\"T_9c200_row18_col2\" class=\"data row18 col2\" >150.0970</td>\n",
              "      <td id=\"T_9c200_row18_col3\" class=\"data row18 col3\" >12.1499</td>\n",
              "      <td id=\"T_9c200_row18_col4\" class=\"data row18 col4\" >-0.0149</td>\n",
              "      <td id=\"T_9c200_row18_col5\" class=\"data row18 col5\" >0.6947</td>\n",
              "      <td id=\"T_9c200_row18_col6\" class=\"data row18 col6\" >2.2808</td>\n",
              "      <td id=\"T_9c200_row18_col7\" class=\"data row18 col7\" >0.0310</td>\n",
              "    </tr>\n",
              "  </tbody>\n",
              "</table>\n"
            ]
          },
          "metadata": {}
        },
        {
          "output_type": "display_data",
          "data": {
            "text/plain": [
              "Processing:   0%|          | 0/85 [00:00<?, ?it/s]"
            ],
            "application/vnd.jupyter.widget-view+json": {
              "version_major": 2,
              "version_minor": 0,
              "model_id": "55535566ddc3460095f2c0c6e2648427"
            }
          },
          "metadata": {
            "application/vnd.jupyter.widget-view+json": {
              "colab": {
                "custom_widget_manager": {
                  "url": "https://ssl.gstatic.com/colaboratory-static/widgets/colab-cdn-widget-manager/b3e629b1971e1542/manager.min.js"
                }
              }
            }
          }
        },
        {
          "output_type": "display_data",
          "data": {
            "text/plain": [
              "<IPython.core.display.HTML object>"
            ],
            "text/html": []
          },
          "metadata": {}
        }
      ]
    },
    {
      "cell_type": "code",
      "source": [],
      "metadata": {
        "id": "GkdqV-WIdH-9"
      },
      "execution_count": null,
      "outputs": []
    }
  ]
}