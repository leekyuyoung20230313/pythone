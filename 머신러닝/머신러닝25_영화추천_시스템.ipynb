{
  "nbformat": 4,
  "nbformat_minor": 0,
  "metadata": {
    "colab": {
      "provenance": []
    },
    "kernelspec": {
      "name": "python3",
      "display_name": "Python 3"
    },
    "language_info": {
      "name": "python"
    }
  },
  "cells": [
    {
      "cell_type": "code",
      "execution_count": 4,
      "metadata": {
        "colab": {
          "base_uri": "https://localhost:8080/"
        },
        "id": "E5a4N_a24mVK",
        "outputId": "097dacd8-8202-4990-af35-8dc82d23060e"
      },
      "outputs": [
        {
          "output_type": "stream",
          "name": "stdout",
          "text": [
            "movie recommendations for Chris Duncan \n",
            "0 : Vertigo\n",
            "1 : Scarface\n",
            "2 : Goodfellas\n",
            "3 : Roman Holiday\n"
          ]
        }
      ],
      "source": [
        "!python recomend_movie.py --user 'Chris Duncan' --jsonfile '/content/rate_23.json'"
      ]
    },
    {
      "cell_type": "code",
      "source": [],
      "metadata": {
        "id": "oPTLDo6Z5V5c"
      },
      "execution_count": null,
      "outputs": []
    }
  ]
}