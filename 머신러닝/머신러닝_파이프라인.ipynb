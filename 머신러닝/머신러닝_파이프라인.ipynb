{
  "nbformat": 4,
  "nbformat_minor": 0,
  "metadata": {
    "colab": {
      "provenance": []
    },
    "kernelspec": {
      "name": "python3",
      "display_name": "Python 3"
    },
    "language_info": {
      "name": "python"
    },
    "widgets": {
      "application/vnd.jupyter.widget-state+json": {
        "18ba7d548ee1449ebd40337ba392e1ef": {
          "model_module": "@jupyter-widgets/controls",
          "model_name": "HBoxModel",
          "model_module_version": "1.5.0",
          "state": {
            "_dom_classes": [],
            "_model_module": "@jupyter-widgets/controls",
            "_model_module_version": "1.5.0",
            "_model_name": "HBoxModel",
            "_view_count": null,
            "_view_module": "@jupyter-widgets/controls",
            "_view_module_version": "1.5.0",
            "_view_name": "HBoxView",
            "box_style": "",
            "children": [
              "IPY_MODEL_d8cc4e010d2b4913a1ea76004da26ff1",
              "IPY_MODEL_6e9ade3598d948818a9e6bcb0fa7da36",
              "IPY_MODEL_106a7a0278884ec29d5d6f30ce24dc48"
            ],
            "layout": "IPY_MODEL_0479689cfe1b48158a8c5a6c27c3716c"
          }
        },
        "d8cc4e010d2b4913a1ea76004da26ff1": {
          "model_module": "@jupyter-widgets/controls",
          "model_name": "HTMLModel",
          "model_module_version": "1.5.0",
          "state": {
            "_dom_classes": [],
            "_model_module": "@jupyter-widgets/controls",
            "_model_module_version": "1.5.0",
            "_model_name": "HTMLModel",
            "_view_count": null,
            "_view_module": "@jupyter-widgets/controls",
            "_view_module_version": "1.5.0",
            "_view_name": "HTMLView",
            "description": "",
            "description_tooltip": null,
            "layout": "IPY_MODEL_6c1b88d622764f8da4cb35724e5cf47b",
            "placeholder": "​",
            "style": "IPY_MODEL_2824e5bbe3d94151b8b04456c370ae69",
            "value": "Processing: 100%"
          }
        },
        "6e9ade3598d948818a9e6bcb0fa7da36": {
          "model_module": "@jupyter-widgets/controls",
          "model_name": "FloatProgressModel",
          "model_module_version": "1.5.0",
          "state": {
            "_dom_classes": [],
            "_model_module": "@jupyter-widgets/controls",
            "_model_module_version": "1.5.0",
            "_model_name": "FloatProgressModel",
            "_view_count": null,
            "_view_module": "@jupyter-widgets/controls",
            "_view_module_version": "1.5.0",
            "_view_name": "ProgressView",
            "bar_style": "",
            "description": "",
            "description_tooltip": null,
            "layout": "IPY_MODEL_79f8a6c4880144e09efdb7425bfe19ad",
            "max": 69,
            "min": 0,
            "orientation": "horizontal",
            "style": "IPY_MODEL_220ec07b350e4364abecb2457d7e1e15",
            "value": 69
          }
        },
        "106a7a0278884ec29d5d6f30ce24dc48": {
          "model_module": "@jupyter-widgets/controls",
          "model_name": "HTMLModel",
          "model_module_version": "1.5.0",
          "state": {
            "_dom_classes": [],
            "_model_module": "@jupyter-widgets/controls",
            "_model_module_version": "1.5.0",
            "_model_name": "HTMLModel",
            "_view_count": null,
            "_view_module": "@jupyter-widgets/controls",
            "_view_module_version": "1.5.0",
            "_view_name": "HTMLView",
            "description": "",
            "description_tooltip": null,
            "layout": "IPY_MODEL_604679f49f834f9fa49da1e6b3a6a616",
            "placeholder": "​",
            "style": "IPY_MODEL_36d9d7fa949142d2ac5c4dc3621f313e",
            "value": " 69/69 [00:26&lt;00:00,  3.49it/s]"
          }
        },
        "0479689cfe1b48158a8c5a6c27c3716c": {
          "model_module": "@jupyter-widgets/base",
          "model_name": "LayoutModel",
          "model_module_version": "1.2.0",
          "state": {
            "_model_module": "@jupyter-widgets/base",
            "_model_module_version": "1.2.0",
            "_model_name": "LayoutModel",
            "_view_count": null,
            "_view_module": "@jupyter-widgets/base",
            "_view_module_version": "1.2.0",
            "_view_name": "LayoutView",
            "align_content": null,
            "align_items": null,
            "align_self": null,
            "border": null,
            "bottom": null,
            "display": null,
            "flex": null,
            "flex_flow": null,
            "grid_area": null,
            "grid_auto_columns": null,
            "grid_auto_flow": null,
            "grid_auto_rows": null,
            "grid_column": null,
            "grid_gap": null,
            "grid_row": null,
            "grid_template_areas": null,
            "grid_template_columns": null,
            "grid_template_rows": null,
            "height": null,
            "justify_content": null,
            "justify_items": null,
            "left": null,
            "margin": null,
            "max_height": null,
            "max_width": null,
            "min_height": null,
            "min_width": null,
            "object_fit": null,
            "object_position": null,
            "order": null,
            "overflow": null,
            "overflow_x": null,
            "overflow_y": null,
            "padding": null,
            "right": null,
            "top": null,
            "visibility": "hidden",
            "width": null
          }
        },
        "6c1b88d622764f8da4cb35724e5cf47b": {
          "model_module": "@jupyter-widgets/base",
          "model_name": "LayoutModel",
          "model_module_version": "1.2.0",
          "state": {
            "_model_module": "@jupyter-widgets/base",
            "_model_module_version": "1.2.0",
            "_model_name": "LayoutModel",
            "_view_count": null,
            "_view_module": "@jupyter-widgets/base",
            "_view_module_version": "1.2.0",
            "_view_name": "LayoutView",
            "align_content": null,
            "align_items": null,
            "align_self": null,
            "border": null,
            "bottom": null,
            "display": null,
            "flex": null,
            "flex_flow": null,
            "grid_area": null,
            "grid_auto_columns": null,
            "grid_auto_flow": null,
            "grid_auto_rows": null,
            "grid_column": null,
            "grid_gap": null,
            "grid_row": null,
            "grid_template_areas": null,
            "grid_template_columns": null,
            "grid_template_rows": null,
            "height": null,
            "justify_content": null,
            "justify_items": null,
            "left": null,
            "margin": null,
            "max_height": null,
            "max_width": null,
            "min_height": null,
            "min_width": null,
            "object_fit": null,
            "object_position": null,
            "order": null,
            "overflow": null,
            "overflow_x": null,
            "overflow_y": null,
            "padding": null,
            "right": null,
            "top": null,
            "visibility": null,
            "width": null
          }
        },
        "2824e5bbe3d94151b8b04456c370ae69": {
          "model_module": "@jupyter-widgets/controls",
          "model_name": "DescriptionStyleModel",
          "model_module_version": "1.5.0",
          "state": {
            "_model_module": "@jupyter-widgets/controls",
            "_model_module_version": "1.5.0",
            "_model_name": "DescriptionStyleModel",
            "_view_count": null,
            "_view_module": "@jupyter-widgets/base",
            "_view_module_version": "1.2.0",
            "_view_name": "StyleView",
            "description_width": ""
          }
        },
        "79f8a6c4880144e09efdb7425bfe19ad": {
          "model_module": "@jupyter-widgets/base",
          "model_name": "LayoutModel",
          "model_module_version": "1.2.0",
          "state": {
            "_model_module": "@jupyter-widgets/base",
            "_model_module_version": "1.2.0",
            "_model_name": "LayoutModel",
            "_view_count": null,
            "_view_module": "@jupyter-widgets/base",
            "_view_module_version": "1.2.0",
            "_view_name": "LayoutView",
            "align_content": null,
            "align_items": null,
            "align_self": null,
            "border": null,
            "bottom": null,
            "display": null,
            "flex": null,
            "flex_flow": null,
            "grid_area": null,
            "grid_auto_columns": null,
            "grid_auto_flow": null,
            "grid_auto_rows": null,
            "grid_column": null,
            "grid_gap": null,
            "grid_row": null,
            "grid_template_areas": null,
            "grid_template_columns": null,
            "grid_template_rows": null,
            "height": null,
            "justify_content": null,
            "justify_items": null,
            "left": null,
            "margin": null,
            "max_height": null,
            "max_width": null,
            "min_height": null,
            "min_width": null,
            "object_fit": null,
            "object_position": null,
            "order": null,
            "overflow": null,
            "overflow_x": null,
            "overflow_y": null,
            "padding": null,
            "right": null,
            "top": null,
            "visibility": null,
            "width": null
          }
        },
        "220ec07b350e4364abecb2457d7e1e15": {
          "model_module": "@jupyter-widgets/controls",
          "model_name": "ProgressStyleModel",
          "model_module_version": "1.5.0",
          "state": {
            "_model_module": "@jupyter-widgets/controls",
            "_model_module_version": "1.5.0",
            "_model_name": "ProgressStyleModel",
            "_view_count": null,
            "_view_module": "@jupyter-widgets/base",
            "_view_module_version": "1.2.0",
            "_view_name": "StyleView",
            "bar_color": null,
            "description_width": ""
          }
        },
        "604679f49f834f9fa49da1e6b3a6a616": {
          "model_module": "@jupyter-widgets/base",
          "model_name": "LayoutModel",
          "model_module_version": "1.2.0",
          "state": {
            "_model_module": "@jupyter-widgets/base",
            "_model_module_version": "1.2.0",
            "_model_name": "LayoutModel",
            "_view_count": null,
            "_view_module": "@jupyter-widgets/base",
            "_view_module_version": "1.2.0",
            "_view_name": "LayoutView",
            "align_content": null,
            "align_items": null,
            "align_self": null,
            "border": null,
            "bottom": null,
            "display": null,
            "flex": null,
            "flex_flow": null,
            "grid_area": null,
            "grid_auto_columns": null,
            "grid_auto_flow": null,
            "grid_auto_rows": null,
            "grid_column": null,
            "grid_gap": null,
            "grid_row": null,
            "grid_template_areas": null,
            "grid_template_columns": null,
            "grid_template_rows": null,
            "height": null,
            "justify_content": null,
            "justify_items": null,
            "left": null,
            "margin": null,
            "max_height": null,
            "max_width": null,
            "min_height": null,
            "min_width": null,
            "object_fit": null,
            "object_position": null,
            "order": null,
            "overflow": null,
            "overflow_x": null,
            "overflow_y": null,
            "padding": null,
            "right": null,
            "top": null,
            "visibility": null,
            "width": null
          }
        },
        "36d9d7fa949142d2ac5c4dc3621f313e": {
          "model_module": "@jupyter-widgets/controls",
          "model_name": "DescriptionStyleModel",
          "model_module_version": "1.5.0",
          "state": {
            "_model_module": "@jupyter-widgets/controls",
            "_model_module_version": "1.5.0",
            "_model_name": "DescriptionStyleModel",
            "_view_count": null,
            "_view_module": "@jupyter-widgets/base",
            "_view_module_version": "1.2.0",
            "_view_name": "StyleView",
            "description_width": ""
          }
        }
      }
    }
  },
  "cells": [
    {
      "cell_type": "code",
      "execution_count": 1,
      "metadata": {
        "id": "Xy7Afi0tvDAE"
      },
      "outputs": [],
      "source": [
        "from sklearn.datasets import load_iris\n",
        "from sklearn.model_selection import train_test_split\n",
        "from sklearn.preprocessing import StandardScaler\n",
        "from sklearn.pipeline import Pipeline\n",
        "#평가할 머신러닝 모델을 선정\n",
        "from sklearn.linear_model import LogisticRegression\n",
        "from sklearn.tree import DecisionTreeClassifier\n",
        "from sklearn.linear_model import SGDClassifier"
      ]
    },
    {
      "cell_type": "code",
      "source": [
        "iris = load_iris()\n",
        "x = iris.data\n",
        "y = iris.target"
      ],
      "metadata": {
        "id": "wm7o4k_67Qj5"
      },
      "execution_count": 2,
      "outputs": []
    },
    {
      "cell_type": "code",
      "source": [
        "x_train,x_test,y_train,y_test = train_test_split(x,y,random_state=100)"
      ],
      "metadata": {
        "id": "0nNIg6bY7YC4"
      },
      "execution_count": 3,
      "outputs": []
    },
    {
      "cell_type": "code",
      "source": [
        "#5번실행해서 평균 성능\n",
        "from sklearn.model_selection import cross_validate"
      ],
      "metadata": {
        "id": "l9IxuoI88n1J"
      },
      "execution_count": 13,
      "outputs": []
    },
    {
      "cell_type": "code",
      "source": [
        "import numpy as np\n",
        "pipeline = Pipeline([\n",
        "    ('scaler',StandardScaler()),\n",
        "    ('classifier',LogisticRegression())    \n",
        "])\n",
        "scores = cross_validate(pipeline,x_train,y_train,n_jobs=-1)\n",
        "# pipeline.fit(x_train,y_train)\n",
        "np.mean(scores['test_score'])"
      ],
      "metadata": {
        "colab": {
          "base_uri": "https://localhost:8080/"
        },
        "id": "ghQZTd1y7ev3",
        "outputId": "c9946528-5515-4a31-a3f6-9ce229edc2b8"
      },
      "execution_count": 19,
      "outputs": [
        {
          "output_type": "execute_result",
          "data": {
            "text/plain": [
              "0.9470355731225297"
            ]
          },
          "metadata": {},
          "execution_count": 19
        }
      ]
    },
    {
      "cell_type": "code",
      "source": [
        "pipeline.score(x_test,y_test)"
      ],
      "metadata": {
        "colab": {
          "base_uri": "https://localhost:8080/"
        },
        "id": "_UWZESJZ8DGQ",
        "outputId": "9b9102bc-1ec5-4949-fe8c-d2bfce0cae5c"
      },
      "execution_count": 11,
      "outputs": [
        {
          "output_type": "execute_result",
          "data": {
            "text/plain": [
              "0.9473684210526315"
            ]
          },
          "metadata": {},
          "execution_count": 11
        }
      ]
    },
    {
      "cell_type": "code",
      "source": [
        "# 1. pipline을 이용해서 전처리부터->모델학습하는 과정까지 일괄처리\n",
        "# 2. 교차검증을 통해 우연히 좋은 성능을 발위하는 모델을 방지\n",
        "# 1번과 2번의 과정을 지정한 머신러닝 모델에대해 각각 적용하고 가장 최상의 모델을 선택\n",
        "score_list = []\n",
        "for model in [LogisticRegression(), DecisionTreeClassifier(), SGDClassifier()]:\n",
        "  pipeline = Pipeline([\n",
        "    ('scaler',StandardScaler()),\n",
        "    ('classifier',model)    \n",
        "  ])\n",
        "  scores = cross_validate(pipeline,x_train,y_train,n_jobs=-1)\n",
        "  m = np.mean(scores[\"test_score\"])\n",
        "  score_list.append(m)\n",
        "  print(f'model : {model} mean test score : {m}')\n"
      ],
      "metadata": {
        "colab": {
          "base_uri": "https://localhost:8080/"
        },
        "id": "N9lqe_Iv8Mgh",
        "outputId": "f46ce7c0-695b-415e-a24e-8becd20f72b2"
      },
      "execution_count": 21,
      "outputs": [
        {
          "output_type": "stream",
          "name": "stdout",
          "text": [
            "model : LogisticRegression() mean test score : 0.9470355731225297\n",
            "model : DecisionTreeClassifier() mean test score : 0.9644268774703558\n",
            "model : SGDClassifier() mean test score : 0.9201581027667984\n"
          ]
        }
      ]
    },
    {
      "cell_type": "code",
      "source": [
        "# 최상의 모델을 선택한 후..... 하이퍼 파라메터 튜닝을 통해 다시 최상의 점수를 획득\n",
        "# 이렇게 해도 별도 낳아지거나 향상된 기미가 안보일때는\n",
        "# 처음데이터 수집 및 처리과정을 다시 한번 검토(피처 엔지니어링을 통해)\n",
        "\n",
        "# 피처 엔지니어링\n",
        "# p-value, VIF 계수 확인을 통한 적절한 feature만 골라서 다시 학습.\n",
        "# 도메인지식을 활용\n",
        "# 트리계열 머신러닝을 먼저적용해서. feature 선택\n",
        "# 범주형데이터는 one hot표현하고, 기존 컬럼을 분석해서 새로운 컬럼을 도출...나이(연속된 데이터)->범주형 데이터로 새로 생성\n",
        "# 기존에 없는 모델이나 라이브러리를 각종 논문이나. 대회 및 기타등등..... 찾아내서 적용"
      ],
      "metadata": {
        "id": "F7CupjKW-tTr"
      },
      "execution_count": 22,
      "outputs": []
    },
    {
      "cell_type": "markdown",
      "source": [
        "AutoML\n",
        "  - 사이킷런 계열 : TPOT"
      ],
      "metadata": {
        "id": "wssXIxtOAnQq"
      }
    },
    {
      "cell_type": "code",
      "source": [
        "!pip install tpot"
      ],
      "metadata": {
        "colab": {
          "base_uri": "https://localhost:8080/"
        },
        "id": "ShPR3XX8_7Ur",
        "outputId": "52708796-afa1-4dc4-ede3-b4747a302a8a"
      },
      "execution_count": 23,
      "outputs": [
        {
          "output_type": "stream",
          "name": "stdout",
          "text": [
            "Looking in indexes: https://pypi.org/simple, https://us-python.pkg.dev/colab-wheels/public/simple/\n",
            "Collecting tpot\n",
            "  Downloading TPOT-0.12.0-py3-none-any.whl (87 kB)\n",
            "\u001b[2K     \u001b[90m━━━━━━━━━━━━━━━━━━━━━━━━━━━━━━━━━━━━━━━━\u001b[0m \u001b[32m87.4/87.4 kB\u001b[0m \u001b[31m7.4 MB/s\u001b[0m eta \u001b[36m0:00:00\u001b[0m\n",
            "\u001b[?25hRequirement already satisfied: numpy>=1.16.3 in /usr/local/lib/python3.10/dist-packages (from tpot) (1.22.4)\n",
            "Requirement already satisfied: scipy>=1.3.1 in /usr/local/lib/python3.10/dist-packages (from tpot) (1.10.1)\n",
            "Requirement already satisfied: scikit-learn>=0.22.0 in /usr/local/lib/python3.10/dist-packages (from tpot) (1.2.2)\n",
            "Collecting deap>=1.2 (from tpot)\n",
            "  Downloading deap-1.3.3-cp310-cp310-manylinux_2_5_x86_64.manylinux1_x86_64.manylinux_2_17_x86_64.manylinux2014_x86_64.whl (139 kB)\n",
            "\u001b[2K     \u001b[90m━━━━━━━━━━━━━━━━━━━━━━━━━━━━━━━━━━━━━━\u001b[0m \u001b[32m139.9/139.9 kB\u001b[0m \u001b[31m15.7 MB/s\u001b[0m eta \u001b[36m0:00:00\u001b[0m\n",
            "\u001b[?25hCollecting update-checker>=0.16 (from tpot)\n",
            "  Downloading update_checker-0.18.0-py3-none-any.whl (7.0 kB)\n",
            "Requirement already satisfied: tqdm>=4.36.1 in /usr/local/lib/python3.10/dist-packages (from tpot) (4.65.0)\n",
            "Collecting stopit>=1.1.1 (from tpot)\n",
            "  Downloading stopit-1.1.2.tar.gz (18 kB)\n",
            "  Preparing metadata (setup.py) ... \u001b[?25l\u001b[?25hdone\n",
            "Requirement already satisfied: pandas>=0.24.2 in /usr/local/lib/python3.10/dist-packages (from tpot) (1.5.3)\n",
            "Requirement already satisfied: joblib>=0.13.2 in /usr/local/lib/python3.10/dist-packages (from tpot) (1.2.0)\n",
            "Requirement already satisfied: xgboost>=1.1.0 in /usr/local/lib/python3.10/dist-packages (from tpot) (1.7.5)\n",
            "Requirement already satisfied: python-dateutil>=2.8.1 in /usr/local/lib/python3.10/dist-packages (from pandas>=0.24.2->tpot) (2.8.2)\n",
            "Requirement already satisfied: pytz>=2020.1 in /usr/local/lib/python3.10/dist-packages (from pandas>=0.24.2->tpot) (2022.7.1)\n",
            "Requirement already satisfied: threadpoolctl>=2.0.0 in /usr/local/lib/python3.10/dist-packages (from scikit-learn>=0.22.0->tpot) (3.1.0)\n",
            "Requirement already satisfied: requests>=2.3.0 in /usr/local/lib/python3.10/dist-packages (from update-checker>=0.16->tpot) (2.27.1)\n",
            "Requirement already satisfied: six>=1.5 in /usr/local/lib/python3.10/dist-packages (from python-dateutil>=2.8.1->pandas>=0.24.2->tpot) (1.16.0)\n",
            "Requirement already satisfied: urllib3<1.27,>=1.21.1 in /usr/local/lib/python3.10/dist-packages (from requests>=2.3.0->update-checker>=0.16->tpot) (1.26.15)\n",
            "Requirement already satisfied: certifi>=2017.4.17 in /usr/local/lib/python3.10/dist-packages (from requests>=2.3.0->update-checker>=0.16->tpot) (2022.12.7)\n",
            "Requirement already satisfied: charset-normalizer~=2.0.0 in /usr/local/lib/python3.10/dist-packages (from requests>=2.3.0->update-checker>=0.16->tpot) (2.0.12)\n",
            "Requirement already satisfied: idna<4,>=2.5 in /usr/local/lib/python3.10/dist-packages (from requests>=2.3.0->update-checker>=0.16->tpot) (3.4)\n",
            "Building wheels for collected packages: stopit\n",
            "  Building wheel for stopit (setup.py) ... \u001b[?25l\u001b[?25hdone\n",
            "  Created wheel for stopit: filename=stopit-1.1.2-py3-none-any.whl size=11938 sha256=d62cdbba3ba15a164847f4b69dc278acc6a8be6e931ea4d49bdad8fa8e564a5c\n",
            "  Stored in directory: /root/.cache/pip/wheels/af/f9/87/bf5b3d565c2a007b4dae9d8142dccc85a9f164e517062dd519\n",
            "Successfully built stopit\n",
            "Installing collected packages: stopit, deap, update-checker, tpot\n",
            "Successfully installed deap-1.3.3 stopit-1.1.2 tpot-0.12.0 update-checker-0.18.0\n"
          ]
        }
      ]
    },
    {
      "cell_type": "code",
      "source": [
        "from tpot import TPOTClassifier\n",
        "automl = TPOTClassifier(generations = 10)\n",
        "automl.fit(x_train,y_train)"
      ],
      "metadata": {
        "colab": {
          "base_uri": "https://localhost:8080/",
          "height": 74
        },
        "id": "L9rkG18UA5nY",
        "outputId": "3ca8100c-c000-4312-91f2-83d0f83f7df0"
      },
      "execution_count": 25,
      "outputs": [
        {
          "output_type": "execute_result",
          "data": {
            "text/plain": [
              "TPOTClassifier(generations=10)"
            ],
            "text/html": [
              "<style>#sk-container-id-5 {color: black;background-color: white;}#sk-container-id-5 pre{padding: 0;}#sk-container-id-5 div.sk-toggleable {background-color: white;}#sk-container-id-5 label.sk-toggleable__label {cursor: pointer;display: block;width: 100%;margin-bottom: 0;padding: 0.3em;box-sizing: border-box;text-align: center;}#sk-container-id-5 label.sk-toggleable__label-arrow:before {content: \"▸\";float: left;margin-right: 0.25em;color: #696969;}#sk-container-id-5 label.sk-toggleable__label-arrow:hover:before {color: black;}#sk-container-id-5 div.sk-estimator:hover label.sk-toggleable__label-arrow:before {color: black;}#sk-container-id-5 div.sk-toggleable__content {max-height: 0;max-width: 0;overflow: hidden;text-align: left;background-color: #f0f8ff;}#sk-container-id-5 div.sk-toggleable__content pre {margin: 0.2em;color: black;border-radius: 0.25em;background-color: #f0f8ff;}#sk-container-id-5 input.sk-toggleable__control:checked~div.sk-toggleable__content {max-height: 200px;max-width: 100%;overflow: auto;}#sk-container-id-5 input.sk-toggleable__control:checked~label.sk-toggleable__label-arrow:before {content: \"▾\";}#sk-container-id-5 div.sk-estimator input.sk-toggleable__control:checked~label.sk-toggleable__label {background-color: #d4ebff;}#sk-container-id-5 div.sk-label input.sk-toggleable__control:checked~label.sk-toggleable__label {background-color: #d4ebff;}#sk-container-id-5 input.sk-hidden--visually {border: 0;clip: rect(1px 1px 1px 1px);clip: rect(1px, 1px, 1px, 1px);height: 1px;margin: -1px;overflow: hidden;padding: 0;position: absolute;width: 1px;}#sk-container-id-5 div.sk-estimator {font-family: monospace;background-color: #f0f8ff;border: 1px dotted black;border-radius: 0.25em;box-sizing: border-box;margin-bottom: 0.5em;}#sk-container-id-5 div.sk-estimator:hover {background-color: #d4ebff;}#sk-container-id-5 div.sk-parallel-item::after {content: \"\";width: 100%;border-bottom: 1px solid gray;flex-grow: 1;}#sk-container-id-5 div.sk-label:hover label.sk-toggleable__label {background-color: #d4ebff;}#sk-container-id-5 div.sk-serial::before {content: \"\";position: absolute;border-left: 1px solid gray;box-sizing: border-box;top: 0;bottom: 0;left: 50%;z-index: 0;}#sk-container-id-5 div.sk-serial {display: flex;flex-direction: column;align-items: center;background-color: white;padding-right: 0.2em;padding-left: 0.2em;position: relative;}#sk-container-id-5 div.sk-item {position: relative;z-index: 1;}#sk-container-id-5 div.sk-parallel {display: flex;align-items: stretch;justify-content: center;background-color: white;position: relative;}#sk-container-id-5 div.sk-item::before, #sk-container-id-5 div.sk-parallel-item::before {content: \"\";position: absolute;border-left: 1px solid gray;box-sizing: border-box;top: 0;bottom: 0;left: 50%;z-index: -1;}#sk-container-id-5 div.sk-parallel-item {display: flex;flex-direction: column;z-index: 1;position: relative;background-color: white;}#sk-container-id-5 div.sk-parallel-item:first-child::after {align-self: flex-end;width: 50%;}#sk-container-id-5 div.sk-parallel-item:last-child::after {align-self: flex-start;width: 50%;}#sk-container-id-5 div.sk-parallel-item:only-child::after {width: 0;}#sk-container-id-5 div.sk-dashed-wrapped {border: 1px dashed gray;margin: 0 0.4em 0.5em 0.4em;box-sizing: border-box;padding-bottom: 0.4em;background-color: white;}#sk-container-id-5 div.sk-label label {font-family: monospace;font-weight: bold;display: inline-block;line-height: 1.2em;}#sk-container-id-5 div.sk-label-container {text-align: center;}#sk-container-id-5 div.sk-container {/* jupyter's `normalize.less` sets `[hidden] { display: none; }` but bootstrap.min.css set `[hidden] { display: none !important; }` so we also need the `!important` here to be able to override the default hidden behavior on the sphinx rendered scikit-learn.org. See: https://github.com/scikit-learn/scikit-learn/issues/21755 */display: inline-block !important;position: relative;}#sk-container-id-5 div.sk-text-repr-fallback {display: none;}</style><div id=\"sk-container-id-5\" class=\"sk-top-container\"><div class=\"sk-text-repr-fallback\"><pre>TPOTClassifier(generations=10)</pre><b>In a Jupyter environment, please rerun this cell to show the HTML representation or trust the notebook. <br />On GitHub, the HTML representation is unable to render, please try loading this page with nbviewer.org.</b></div><div class=\"sk-container\" hidden><div class=\"sk-item\"><div class=\"sk-estimator sk-toggleable\"><input class=\"sk-toggleable__control sk-hidden--visually\" id=\"sk-estimator-id-11\" type=\"checkbox\" checked><label for=\"sk-estimator-id-11\" class=\"sk-toggleable__label sk-toggleable__label-arrow\">TPOTClassifier</label><div class=\"sk-toggleable__content\"><pre>TPOTClassifier(generations=10)</pre></div></div></div></div></div>"
            ]
          },
          "metadata": {},
          "execution_count": 25
        }
      ]
    },
    {
      "cell_type": "markdown",
      "source": [
        "타 계열의 AutoML\n",
        "  - pycaret"
      ],
      "metadata": {
        "id": "lPSJA8dYDHbL"
      }
    },
    {
      "cell_type": "code",
      "source": [
        "!pip install pycaret"
      ],
      "metadata": {
        "id": "Hq4d3AOdBNBY"
      },
      "execution_count": null,
      "outputs": []
    },
    {
      "cell_type": "code",
      "source": [
        "from pycaret import classification\n",
        "classification.setup(data = x_train, target = y_train)"
      ],
      "metadata": {
        "colab": {
          "base_uri": "https://localhost:8080/",
          "height": 663
        },
        "id": "0F9VcwzfDMwa",
        "outputId": "16385992-5654-4f1c-9011-95f3719a4c50"
      },
      "execution_count": 27,
      "outputs": [
        {
          "output_type": "display_data",
          "data": {
            "text/plain": [
              "<pandas.io.formats.style.Styler at 0x7fb9ee7439a0>"
            ],
            "text/html": [
              "<style type=\"text/css\">\n",
              "#T_a9b0f_row8_col1 {\n",
              "  background-color: lightgreen;\n",
              "}\n",
              "</style>\n",
              "<table id=\"T_a9b0f\" class=\"dataframe\">\n",
              "  <thead>\n",
              "    <tr>\n",
              "      <th class=\"blank level0\" >&nbsp;</th>\n",
              "      <th id=\"T_a9b0f_level0_col0\" class=\"col_heading level0 col0\" >Description</th>\n",
              "      <th id=\"T_a9b0f_level0_col1\" class=\"col_heading level0 col1\" >Value</th>\n",
              "    </tr>\n",
              "  </thead>\n",
              "  <tbody>\n",
              "    <tr>\n",
              "      <th id=\"T_a9b0f_level0_row0\" class=\"row_heading level0 row0\" >0</th>\n",
              "      <td id=\"T_a9b0f_row0_col0\" class=\"data row0 col0\" >Session id</td>\n",
              "      <td id=\"T_a9b0f_row0_col1\" class=\"data row0 col1\" >3117</td>\n",
              "    </tr>\n",
              "    <tr>\n",
              "      <th id=\"T_a9b0f_level0_row1\" class=\"row_heading level0 row1\" >1</th>\n",
              "      <td id=\"T_a9b0f_row1_col0\" class=\"data row1 col0\" >Target</td>\n",
              "      <td id=\"T_a9b0f_row1_col1\" class=\"data row1 col1\" >target</td>\n",
              "    </tr>\n",
              "    <tr>\n",
              "      <th id=\"T_a9b0f_level0_row2\" class=\"row_heading level0 row2\" >2</th>\n",
              "      <td id=\"T_a9b0f_row2_col0\" class=\"data row2 col0\" >Target type</td>\n",
              "      <td id=\"T_a9b0f_row2_col1\" class=\"data row2 col1\" >Multiclass</td>\n",
              "    </tr>\n",
              "    <tr>\n",
              "      <th id=\"T_a9b0f_level0_row3\" class=\"row_heading level0 row3\" >3</th>\n",
              "      <td id=\"T_a9b0f_row3_col0\" class=\"data row3 col0\" >Original data shape</td>\n",
              "      <td id=\"T_a9b0f_row3_col1\" class=\"data row3 col1\" >(112, 5)</td>\n",
              "    </tr>\n",
              "    <tr>\n",
              "      <th id=\"T_a9b0f_level0_row4\" class=\"row_heading level0 row4\" >4</th>\n",
              "      <td id=\"T_a9b0f_row4_col0\" class=\"data row4 col0\" >Transformed data shape</td>\n",
              "      <td id=\"T_a9b0f_row4_col1\" class=\"data row4 col1\" >(112, 5)</td>\n",
              "    </tr>\n",
              "    <tr>\n",
              "      <th id=\"T_a9b0f_level0_row5\" class=\"row_heading level0 row5\" >5</th>\n",
              "      <td id=\"T_a9b0f_row5_col0\" class=\"data row5 col0\" >Transformed train set shape</td>\n",
              "      <td id=\"T_a9b0f_row5_col1\" class=\"data row5 col1\" >(78, 5)</td>\n",
              "    </tr>\n",
              "    <tr>\n",
              "      <th id=\"T_a9b0f_level0_row6\" class=\"row_heading level0 row6\" >6</th>\n",
              "      <td id=\"T_a9b0f_row6_col0\" class=\"data row6 col0\" >Transformed test set shape</td>\n",
              "      <td id=\"T_a9b0f_row6_col1\" class=\"data row6 col1\" >(34, 5)</td>\n",
              "    </tr>\n",
              "    <tr>\n",
              "      <th id=\"T_a9b0f_level0_row7\" class=\"row_heading level0 row7\" >7</th>\n",
              "      <td id=\"T_a9b0f_row7_col0\" class=\"data row7 col0\" >Numeric features</td>\n",
              "      <td id=\"T_a9b0f_row7_col1\" class=\"data row7 col1\" >4</td>\n",
              "    </tr>\n",
              "    <tr>\n",
              "      <th id=\"T_a9b0f_level0_row8\" class=\"row_heading level0 row8\" >8</th>\n",
              "      <td id=\"T_a9b0f_row8_col0\" class=\"data row8 col0\" >Preprocess</td>\n",
              "      <td id=\"T_a9b0f_row8_col1\" class=\"data row8 col1\" >True</td>\n",
              "    </tr>\n",
              "    <tr>\n",
              "      <th id=\"T_a9b0f_level0_row9\" class=\"row_heading level0 row9\" >9</th>\n",
              "      <td id=\"T_a9b0f_row9_col0\" class=\"data row9 col0\" >Imputation type</td>\n",
              "      <td id=\"T_a9b0f_row9_col1\" class=\"data row9 col1\" >simple</td>\n",
              "    </tr>\n",
              "    <tr>\n",
              "      <th id=\"T_a9b0f_level0_row10\" class=\"row_heading level0 row10\" >10</th>\n",
              "      <td id=\"T_a9b0f_row10_col0\" class=\"data row10 col0\" >Numeric imputation</td>\n",
              "      <td id=\"T_a9b0f_row10_col1\" class=\"data row10 col1\" >mean</td>\n",
              "    </tr>\n",
              "    <tr>\n",
              "      <th id=\"T_a9b0f_level0_row11\" class=\"row_heading level0 row11\" >11</th>\n",
              "      <td id=\"T_a9b0f_row11_col0\" class=\"data row11 col0\" >Categorical imputation</td>\n",
              "      <td id=\"T_a9b0f_row11_col1\" class=\"data row11 col1\" >mode</td>\n",
              "    </tr>\n",
              "    <tr>\n",
              "      <th id=\"T_a9b0f_level0_row12\" class=\"row_heading level0 row12\" >12</th>\n",
              "      <td id=\"T_a9b0f_row12_col0\" class=\"data row12 col0\" >Fold Generator</td>\n",
              "      <td id=\"T_a9b0f_row12_col1\" class=\"data row12 col1\" >StratifiedKFold</td>\n",
              "    </tr>\n",
              "    <tr>\n",
              "      <th id=\"T_a9b0f_level0_row13\" class=\"row_heading level0 row13\" >13</th>\n",
              "      <td id=\"T_a9b0f_row13_col0\" class=\"data row13 col0\" >Fold Number</td>\n",
              "      <td id=\"T_a9b0f_row13_col1\" class=\"data row13 col1\" >10</td>\n",
              "    </tr>\n",
              "    <tr>\n",
              "      <th id=\"T_a9b0f_level0_row14\" class=\"row_heading level0 row14\" >14</th>\n",
              "      <td id=\"T_a9b0f_row14_col0\" class=\"data row14 col0\" >CPU Jobs</td>\n",
              "      <td id=\"T_a9b0f_row14_col1\" class=\"data row14 col1\" >-1</td>\n",
              "    </tr>\n",
              "    <tr>\n",
              "      <th id=\"T_a9b0f_level0_row15\" class=\"row_heading level0 row15\" >15</th>\n",
              "      <td id=\"T_a9b0f_row15_col0\" class=\"data row15 col0\" >Use GPU</td>\n",
              "      <td id=\"T_a9b0f_row15_col1\" class=\"data row15 col1\" >False</td>\n",
              "    </tr>\n",
              "    <tr>\n",
              "      <th id=\"T_a9b0f_level0_row16\" class=\"row_heading level0 row16\" >16</th>\n",
              "      <td id=\"T_a9b0f_row16_col0\" class=\"data row16 col0\" >Log Experiment</td>\n",
              "      <td id=\"T_a9b0f_row16_col1\" class=\"data row16 col1\" >False</td>\n",
              "    </tr>\n",
              "    <tr>\n",
              "      <th id=\"T_a9b0f_level0_row17\" class=\"row_heading level0 row17\" >17</th>\n",
              "      <td id=\"T_a9b0f_row17_col0\" class=\"data row17 col0\" >Experiment Name</td>\n",
              "      <td id=\"T_a9b0f_row17_col1\" class=\"data row17 col1\" >clf-default-name</td>\n",
              "    </tr>\n",
              "    <tr>\n",
              "      <th id=\"T_a9b0f_level0_row18\" class=\"row_heading level0 row18\" >18</th>\n",
              "      <td id=\"T_a9b0f_row18_col0\" class=\"data row18 col0\" >USI</td>\n",
              "      <td id=\"T_a9b0f_row18_col1\" class=\"data row18 col1\" >5c7a</td>\n",
              "    </tr>\n",
              "  </tbody>\n",
              "</table>\n"
            ]
          },
          "metadata": {}
        },
        {
          "output_type": "execute_result",
          "data": {
            "text/plain": [
              "<pycaret.classification.oop.ClassificationExperiment at 0x7fba00325420>"
            ]
          },
          "metadata": {},
          "execution_count": 27
        }
      ]
    },
    {
      "cell_type": "code",
      "source": [
        "best = classification.compare_models(n_select=5)"
      ],
      "metadata": {
        "colab": {
          "base_uri": "https://localhost:8080/",
          "height": 849,
          "referenced_widgets": [
            "18ba7d548ee1449ebd40337ba392e1ef",
            "d8cc4e010d2b4913a1ea76004da26ff1",
            "6e9ade3598d948818a9e6bcb0fa7da36",
            "106a7a0278884ec29d5d6f30ce24dc48",
            "0479689cfe1b48158a8c5a6c27c3716c",
            "6c1b88d622764f8da4cb35724e5cf47b",
            "2824e5bbe3d94151b8b04456c370ae69",
            "79f8a6c4880144e09efdb7425bfe19ad",
            "220ec07b350e4364abecb2457d7e1e15",
            "604679f49f834f9fa49da1e6b3a6a616",
            "36d9d7fa949142d2ac5c4dc3621f313e"
          ]
        },
        "id": "o0OKzWUzDoC4",
        "outputId": "6228d3fe-13bb-4c62-b114-75f7dc05d0a4"
      },
      "execution_count": 34,
      "outputs": [
        {
          "output_type": "display_data",
          "data": {
            "text/plain": [
              "<IPython.core.display.HTML object>"
            ],
            "text/html": []
          },
          "metadata": {}
        },
        {
          "output_type": "display_data",
          "data": {
            "text/plain": [
              "<pandas.io.formats.style.Styler at 0x7fb9ecb3d3f0>"
            ],
            "text/html": [
              "<style type=\"text/css\">\n",
              "#T_719b7 th {\n",
              "  text-align: left;\n",
              "}\n",
              "#T_719b7_row0_col0, #T_719b7_row0_col2, #T_719b7_row0_col4, #T_719b7_row0_col5, #T_719b7_row0_col6, #T_719b7_row0_col7, #T_719b7_row1_col0, #T_719b7_row1_col4, #T_719b7_row1_col5, #T_719b7_row1_col6, #T_719b7_row1_col7, #T_719b7_row2_col0, #T_719b7_row2_col2, #T_719b7_row2_col4, #T_719b7_row2_col6, #T_719b7_row2_col7, #T_719b7_row3_col0, #T_719b7_row3_col2, #T_719b7_row3_col5, #T_719b7_row4_col0, #T_719b7_row4_col1, #T_719b7_row4_col2, #T_719b7_row4_col3, #T_719b7_row4_col4, #T_719b7_row4_col5, #T_719b7_row4_col6, #T_719b7_row4_col7, #T_719b7_row5_col0, #T_719b7_row5_col1, #T_719b7_row5_col2, #T_719b7_row5_col3, #T_719b7_row5_col4, #T_719b7_row5_col5, #T_719b7_row5_col6, #T_719b7_row5_col7, #T_719b7_row6_col0, #T_719b7_row6_col1, #T_719b7_row6_col3, #T_719b7_row6_col4, #T_719b7_row6_col5, #T_719b7_row6_col6, #T_719b7_row6_col7, #T_719b7_row7_col0, #T_719b7_row7_col1, #T_719b7_row7_col2, #T_719b7_row7_col3, #T_719b7_row7_col4, #T_719b7_row7_col5, #T_719b7_row7_col6, #T_719b7_row7_col7, #T_719b7_row8_col0, #T_719b7_row8_col1, #T_719b7_row8_col2, #T_719b7_row8_col3, #T_719b7_row8_col4, #T_719b7_row8_col5, #T_719b7_row8_col6, #T_719b7_row8_col7, #T_719b7_row9_col0, #T_719b7_row9_col1, #T_719b7_row9_col2, #T_719b7_row9_col3, #T_719b7_row9_col4, #T_719b7_row9_col5, #T_719b7_row9_col6, #T_719b7_row9_col7, #T_719b7_row10_col0, #T_719b7_row10_col1, #T_719b7_row10_col2, #T_719b7_row10_col3, #T_719b7_row10_col4, #T_719b7_row10_col5, #T_719b7_row10_col6, #T_719b7_row10_col7, #T_719b7_row11_col0, #T_719b7_row11_col1, #T_719b7_row11_col2, #T_719b7_row11_col3, #T_719b7_row11_col4, #T_719b7_row11_col5, #T_719b7_row11_col6, #T_719b7_row11_col7, #T_719b7_row12_col0, #T_719b7_row12_col1, #T_719b7_row12_col2, #T_719b7_row12_col3, #T_719b7_row12_col4, #T_719b7_row12_col5, #T_719b7_row12_col6, #T_719b7_row12_col7, #T_719b7_row13_col0, #T_719b7_row13_col1, #T_719b7_row13_col2, #T_719b7_row13_col3, #T_719b7_row13_col4, #T_719b7_row13_col5, #T_719b7_row13_col6, #T_719b7_row13_col7, #T_719b7_row14_col0, #T_719b7_row14_col1, #T_719b7_row14_col2, #T_719b7_row14_col3, #T_719b7_row14_col4, #T_719b7_row14_col5, #T_719b7_row14_col6, #T_719b7_row14_col7 {\n",
              "  text-align: left;\n",
              "}\n",
              "#T_719b7_row0_col1, #T_719b7_row0_col3, #T_719b7_row1_col1, #T_719b7_row1_col2, #T_719b7_row1_col3, #T_719b7_row2_col1, #T_719b7_row2_col3, #T_719b7_row2_col5, #T_719b7_row3_col1, #T_719b7_row3_col3, #T_719b7_row3_col4, #T_719b7_row3_col6, #T_719b7_row3_col7, #T_719b7_row6_col2 {\n",
              "  text-align: left;\n",
              "  background-color: yellow;\n",
              "}\n",
              "#T_719b7_row0_col8, #T_719b7_row1_col8, #T_719b7_row2_col8, #T_719b7_row3_col8, #T_719b7_row4_col8, #T_719b7_row5_col8, #T_719b7_row6_col8, #T_719b7_row7_col8, #T_719b7_row8_col8, #T_719b7_row9_col8, #T_719b7_row10_col8, #T_719b7_row11_col8, #T_719b7_row13_col8, #T_719b7_row14_col8 {\n",
              "  text-align: left;\n",
              "  background-color: lightgrey;\n",
              "}\n",
              "#T_719b7_row12_col8 {\n",
              "  text-align: left;\n",
              "  background-color: yellow;\n",
              "  background-color: lightgrey;\n",
              "}\n",
              "</style>\n",
              "<table id=\"T_719b7\" class=\"dataframe\">\n",
              "  <thead>\n",
              "    <tr>\n",
              "      <th class=\"blank level0\" >&nbsp;</th>\n",
              "      <th id=\"T_719b7_level0_col0\" class=\"col_heading level0 col0\" >Model</th>\n",
              "      <th id=\"T_719b7_level0_col1\" class=\"col_heading level0 col1\" >Accuracy</th>\n",
              "      <th id=\"T_719b7_level0_col2\" class=\"col_heading level0 col2\" >AUC</th>\n",
              "      <th id=\"T_719b7_level0_col3\" class=\"col_heading level0 col3\" >Recall</th>\n",
              "      <th id=\"T_719b7_level0_col4\" class=\"col_heading level0 col4\" >Prec.</th>\n",
              "      <th id=\"T_719b7_level0_col5\" class=\"col_heading level0 col5\" >F1</th>\n",
              "      <th id=\"T_719b7_level0_col6\" class=\"col_heading level0 col6\" >Kappa</th>\n",
              "      <th id=\"T_719b7_level0_col7\" class=\"col_heading level0 col7\" >MCC</th>\n",
              "      <th id=\"T_719b7_level0_col8\" class=\"col_heading level0 col8\" >TT (Sec)</th>\n",
              "    </tr>\n",
              "  </thead>\n",
              "  <tbody>\n",
              "    <tr>\n",
              "      <th id=\"T_719b7_level0_row0\" class=\"row_heading level0 row0\" >qda</th>\n",
              "      <td id=\"T_719b7_row0_col0\" class=\"data row0 col0\" >Quadratic Discriminant Analysis</td>\n",
              "      <td id=\"T_719b7_row0_col1\" class=\"data row0 col1\" >0.9500</td>\n",
              "      <td id=\"T_719b7_row0_col2\" class=\"data row0 col2\" >0.9900</td>\n",
              "      <td id=\"T_719b7_row0_col3\" class=\"data row0 col3\" >0.9500</td>\n",
              "      <td id=\"T_719b7_row0_col4\" class=\"data row0 col4\" >0.9662</td>\n",
              "      <td id=\"T_719b7_row0_col5\" class=\"data row0 col5\" >0.9453</td>\n",
              "      <td id=\"T_719b7_row0_col6\" class=\"data row0 col6\" >0.9233</td>\n",
              "      <td id=\"T_719b7_row0_col7\" class=\"data row0 col7\" >0.9344</td>\n",
              "      <td id=\"T_719b7_row0_col8\" class=\"data row0 col8\" >0.0610</td>\n",
              "    </tr>\n",
              "    <tr>\n",
              "      <th id=\"T_719b7_level0_row1\" class=\"row_heading level0 row1\" >lda</th>\n",
              "      <td id=\"T_719b7_row1_col0\" class=\"data row1 col0\" >Linear Discriminant Analysis</td>\n",
              "      <td id=\"T_719b7_row1_col1\" class=\"data row1 col1\" >0.9500</td>\n",
              "      <td id=\"T_719b7_row1_col2\" class=\"data row1 col2\" >1.0000</td>\n",
              "      <td id=\"T_719b7_row1_col3\" class=\"data row1 col3\" >0.9500</td>\n",
              "      <td id=\"T_719b7_row1_col4\" class=\"data row1 col4\" >0.9662</td>\n",
              "      <td id=\"T_719b7_row1_col5\" class=\"data row1 col5\" >0.9453</td>\n",
              "      <td id=\"T_719b7_row1_col6\" class=\"data row1 col6\" >0.9233</td>\n",
              "      <td id=\"T_719b7_row1_col7\" class=\"data row1 col7\" >0.9344</td>\n",
              "      <td id=\"T_719b7_row1_col8\" class=\"data row1 col8\" >0.1070</td>\n",
              "    </tr>\n",
              "    <tr>\n",
              "      <th id=\"T_719b7_level0_row2\" class=\"row_heading level0 row2\" >xgboost</th>\n",
              "      <td id=\"T_719b7_row2_col0\" class=\"data row2 col0\" >Extreme Gradient Boosting</td>\n",
              "      <td id=\"T_719b7_row2_col1\" class=\"data row2 col1\" >0.9500</td>\n",
              "      <td id=\"T_719b7_row2_col2\" class=\"data row2 col2\" >0.9800</td>\n",
              "      <td id=\"T_719b7_row2_col3\" class=\"data row2 col3\" >0.9500</td>\n",
              "      <td id=\"T_719b7_row2_col4\" class=\"data row2 col4\" >0.9625</td>\n",
              "      <td id=\"T_719b7_row2_col5\" class=\"data row2 col5\" >0.9477</td>\n",
              "      <td id=\"T_719b7_row2_col6\" class=\"data row2 col6\" >0.9233</td>\n",
              "      <td id=\"T_719b7_row2_col7\" class=\"data row2 col7\" >0.9315</td>\n",
              "      <td id=\"T_719b7_row2_col8\" class=\"data row2 col8\" >0.0770</td>\n",
              "    </tr>\n",
              "    <tr>\n",
              "      <th id=\"T_719b7_level0_row3\" class=\"row_heading level0 row3\" >lightgbm</th>\n",
              "      <td id=\"T_719b7_row3_col0\" class=\"data row3 col0\" >Light Gradient Boosting Machine</td>\n",
              "      <td id=\"T_719b7_row3_col1\" class=\"data row3 col1\" >0.9500</td>\n",
              "      <td id=\"T_719b7_row3_col2\" class=\"data row3 col2\" >0.9779</td>\n",
              "      <td id=\"T_719b7_row3_col3\" class=\"data row3 col3\" >0.9500</td>\n",
              "      <td id=\"T_719b7_row3_col4\" class=\"data row3 col4\" >0.9673</td>\n",
              "      <td id=\"T_719b7_row3_col5\" class=\"data row3 col5\" >0.9457</td>\n",
              "      <td id=\"T_719b7_row3_col6\" class=\"data row3 col6\" >0.9238</td>\n",
              "      <td id=\"T_719b7_row3_col7\" class=\"data row3 col7\" >0.9347</td>\n",
              "      <td id=\"T_719b7_row3_col8\" class=\"data row3 col8\" >0.0890</td>\n",
              "    </tr>\n",
              "    <tr>\n",
              "      <th id=\"T_719b7_level0_row4\" class=\"row_heading level0 row4\" >lr</th>\n",
              "      <td id=\"T_719b7_row4_col0\" class=\"data row4 col0\" >Logistic Regression</td>\n",
              "      <td id=\"T_719b7_row4_col1\" class=\"data row4 col1\" >0.9375</td>\n",
              "      <td id=\"T_719b7_row4_col2\" class=\"data row4 col2\" >0.9950</td>\n",
              "      <td id=\"T_719b7_row4_col3\" class=\"data row4 col3\" >0.9375</td>\n",
              "      <td id=\"T_719b7_row4_col4\" class=\"data row4 col4\" >0.9469</td>\n",
              "      <td id=\"T_719b7_row4_col5\" class=\"data row4 col5\" >0.9348</td>\n",
              "      <td id=\"T_719b7_row4_col6\" class=\"data row4 col6\" >0.9038</td>\n",
              "      <td id=\"T_719b7_row4_col7\" class=\"data row4 col7\" >0.9101</td>\n",
              "      <td id=\"T_719b7_row4_col8\" class=\"data row4 col8\" >0.1520</td>\n",
              "    </tr>\n",
              "    <tr>\n",
              "      <th id=\"T_719b7_level0_row5\" class=\"row_heading level0 row5\" >nb</th>\n",
              "      <td id=\"T_719b7_row5_col0\" class=\"data row5 col0\" >Naive Bayes</td>\n",
              "      <td id=\"T_719b7_row5_col1\" class=\"data row5 col1\" >0.9375</td>\n",
              "      <td id=\"T_719b7_row5_col2\" class=\"data row5 col2\" >0.9808</td>\n",
              "      <td id=\"T_719b7_row5_col3\" class=\"data row5 col3\" >0.9375</td>\n",
              "      <td id=\"T_719b7_row5_col4\" class=\"data row5 col4\" >0.9531</td>\n",
              "      <td id=\"T_719b7_row5_col5\" class=\"data row5 col5\" >0.9340</td>\n",
              "      <td id=\"T_719b7_row5_col6\" class=\"data row5 col6\" >0.9038</td>\n",
              "      <td id=\"T_719b7_row5_col7\" class=\"data row5 col7\" >0.9141</td>\n",
              "      <td id=\"T_719b7_row5_col8\" class=\"data row5 col8\" >0.0600</td>\n",
              "    </tr>\n",
              "    <tr>\n",
              "      <th id=\"T_719b7_level0_row6\" class=\"row_heading level0 row6\" >rf</th>\n",
              "      <td id=\"T_719b7_row6_col0\" class=\"data row6 col0\" >Random Forest Classifier</td>\n",
              "      <td id=\"T_719b7_row6_col1\" class=\"data row6 col1\" >0.9375</td>\n",
              "      <td id=\"T_719b7_row6_col2\" class=\"data row6 col2\" >1.0000</td>\n",
              "      <td id=\"T_719b7_row6_col3\" class=\"data row6 col3\" >0.9375</td>\n",
              "      <td id=\"T_719b7_row6_col4\" class=\"data row6 col4\" >0.9531</td>\n",
              "      <td id=\"T_719b7_row6_col5\" class=\"data row6 col5\" >0.9340</td>\n",
              "      <td id=\"T_719b7_row6_col6\" class=\"data row6 col6\" >0.9038</td>\n",
              "      <td id=\"T_719b7_row6_col7\" class=\"data row6 col7\" >0.9141</td>\n",
              "      <td id=\"T_719b7_row6_col8\" class=\"data row6 col8\" >0.2130</td>\n",
              "    </tr>\n",
              "    <tr>\n",
              "      <th id=\"T_719b7_level0_row7\" class=\"row_heading level0 row7\" >gbc</th>\n",
              "      <td id=\"T_719b7_row7_col0\" class=\"data row7 col0\" >Gradient Boosting Classifier</td>\n",
              "      <td id=\"T_719b7_row7_col1\" class=\"data row7 col1\" >0.9375</td>\n",
              "      <td id=\"T_719b7_row7_col2\" class=\"data row7 col2\" >0.9704</td>\n",
              "      <td id=\"T_719b7_row7_col3\" class=\"data row7 col3\" >0.9375</td>\n",
              "      <td id=\"T_719b7_row7_col4\" class=\"data row7 col4\" >0.9531</td>\n",
              "      <td id=\"T_719b7_row7_col5\" class=\"data row7 col5\" >0.9340</td>\n",
              "      <td id=\"T_719b7_row7_col6\" class=\"data row7 col6\" >0.9038</td>\n",
              "      <td id=\"T_719b7_row7_col7\" class=\"data row7 col7\" >0.9141</td>\n",
              "      <td id=\"T_719b7_row7_col8\" class=\"data row7 col8\" >0.4640</td>\n",
              "    </tr>\n",
              "    <tr>\n",
              "      <th id=\"T_719b7_level0_row8\" class=\"row_heading level0 row8\" >dt</th>\n",
              "      <td id=\"T_719b7_row8_col0\" class=\"data row8 col0\" >Decision Tree Classifier</td>\n",
              "      <td id=\"T_719b7_row8_col1\" class=\"data row8 col1\" >0.9250</td>\n",
              "      <td id=\"T_719b7_row8_col2\" class=\"data row8 col2\" >0.9417</td>\n",
              "      <td id=\"T_719b7_row8_col3\" class=\"data row8 col3\" >0.9250</td>\n",
              "      <td id=\"T_719b7_row8_col4\" class=\"data row8 col4\" >0.9375</td>\n",
              "      <td id=\"T_719b7_row8_col5\" class=\"data row8 col5\" >0.9227</td>\n",
              "      <td id=\"T_719b7_row8_col6\" class=\"data row8 col6\" >0.8852</td>\n",
              "      <td id=\"T_719b7_row8_col7\" class=\"data row8 col7\" >0.8934</td>\n",
              "      <td id=\"T_719b7_row8_col8\" class=\"data row8 col8\" >0.0610</td>\n",
              "    </tr>\n",
              "    <tr>\n",
              "      <th id=\"T_719b7_level0_row9\" class=\"row_heading level0 row9\" >et</th>\n",
              "      <td id=\"T_719b7_row9_col0\" class=\"data row9 col0\" >Extra Trees Classifier</td>\n",
              "      <td id=\"T_719b7_row9_col1\" class=\"data row9 col1\" >0.9250</td>\n",
              "      <td id=\"T_719b7_row9_col2\" class=\"data row9 col2\" >0.9954</td>\n",
              "      <td id=\"T_719b7_row9_col3\" class=\"data row9 col3\" >0.9250</td>\n",
              "      <td id=\"T_719b7_row9_col4\" class=\"data row9 col4\" >0.9475</td>\n",
              "      <td id=\"T_719b7_row9_col5\" class=\"data row9 col5\" >0.9188</td>\n",
              "      <td id=\"T_719b7_row9_col6\" class=\"data row9 col6\" >0.8848</td>\n",
              "      <td id=\"T_719b7_row9_col7\" class=\"data row9 col7\" >0.8999</td>\n",
              "      <td id=\"T_719b7_row9_col8\" class=\"data row9 col8\" >0.2090</td>\n",
              "    </tr>\n",
              "    <tr>\n",
              "      <th id=\"T_719b7_level0_row10\" class=\"row_heading level0 row10\" >knn</th>\n",
              "      <td id=\"T_719b7_row10_col0\" class=\"data row10 col0\" >K Neighbors Classifier</td>\n",
              "      <td id=\"T_719b7_row10_col1\" class=\"data row10 col1\" >0.9232</td>\n",
              "      <td id=\"T_719b7_row10_col2\" class=\"data row10 col2\" >0.9800</td>\n",
              "      <td id=\"T_719b7_row10_col3\" class=\"data row10 col3\" >0.9232</td>\n",
              "      <td id=\"T_719b7_row10_col4\" class=\"data row10 col4\" >0.9446</td>\n",
              "      <td id=\"T_719b7_row10_col5\" class=\"data row10 col5\" >0.9201</td>\n",
              "      <td id=\"T_719b7_row10_col6\" class=\"data row10 col6\" >0.8831</td>\n",
              "      <td id=\"T_719b7_row10_col7\" class=\"data row10 col7\" >0.8957</td>\n",
              "      <td id=\"T_719b7_row10_col8\" class=\"data row10 col8\" >0.1130</td>\n",
              "    </tr>\n",
              "    <tr>\n",
              "      <th id=\"T_719b7_level0_row11\" class=\"row_heading level0 row11\" >ada</th>\n",
              "      <td id=\"T_719b7_row11_col0\" class=\"data row11 col0\" >Ada Boost Classifier</td>\n",
              "      <td id=\"T_719b7_row11_col1\" class=\"data row11 col1\" >0.9232</td>\n",
              "      <td id=\"T_719b7_row11_col2\" class=\"data row11 col2\" >0.9925</td>\n",
              "      <td id=\"T_719b7_row11_col3\" class=\"data row11 col3\" >0.9232</td>\n",
              "      <td id=\"T_719b7_row11_col4\" class=\"data row11 col4\" >0.9436</td>\n",
              "      <td id=\"T_719b7_row11_col5\" class=\"data row11 col5\" >0.9198</td>\n",
              "      <td id=\"T_719b7_row11_col6\" class=\"data row11 col6\" >0.8826</td>\n",
              "      <td id=\"T_719b7_row11_col7\" class=\"data row11 col7\" >0.8953</td>\n",
              "      <td id=\"T_719b7_row11_col8\" class=\"data row11 col8\" >0.1350</td>\n",
              "    </tr>\n",
              "    <tr>\n",
              "      <th id=\"T_719b7_level0_row12\" class=\"row_heading level0 row12\" >ridge</th>\n",
              "      <td id=\"T_719b7_row12_col0\" class=\"data row12 col0\" >Ridge Classifier</td>\n",
              "      <td id=\"T_719b7_row12_col1\" class=\"data row12 col1\" >0.8232</td>\n",
              "      <td id=\"T_719b7_row12_col2\" class=\"data row12 col2\" >0.0000</td>\n",
              "      <td id=\"T_719b7_row12_col3\" class=\"data row12 col3\" >0.8232</td>\n",
              "      <td id=\"T_719b7_row12_col4\" class=\"data row12 col4\" >0.8461</td>\n",
              "      <td id=\"T_719b7_row12_col5\" class=\"data row12 col5\" >0.8173</td>\n",
              "      <td id=\"T_719b7_row12_col6\" class=\"data row12 col6\" >0.7292</td>\n",
              "      <td id=\"T_719b7_row12_col7\" class=\"data row12 col7\" >0.7465</td>\n",
              "      <td id=\"T_719b7_row12_col8\" class=\"data row12 col8\" >0.0510</td>\n",
              "    </tr>\n",
              "    <tr>\n",
              "      <th id=\"T_719b7_level0_row13\" class=\"row_heading level0 row13\" >svm</th>\n",
              "      <td id=\"T_719b7_row13_col0\" class=\"data row13 col0\" >SVM - Linear Kernel</td>\n",
              "      <td id=\"T_719b7_row13_col1\" class=\"data row13 col1\" >0.6911</td>\n",
              "      <td id=\"T_719b7_row13_col2\" class=\"data row13 col2\" >0.0000</td>\n",
              "      <td id=\"T_719b7_row13_col3\" class=\"data row13 col3\" >0.6911</td>\n",
              "      <td id=\"T_719b7_row13_col4\" class=\"data row13 col4\" >0.5849</td>\n",
              "      <td id=\"T_719b7_row13_col5\" class=\"data row13 col5\" >0.6069</td>\n",
              "      <td id=\"T_719b7_row13_col6\" class=\"data row13 col6\" >0.5463</td>\n",
              "      <td id=\"T_719b7_row13_col7\" class=\"data row13 col7\" >0.6374</td>\n",
              "      <td id=\"T_719b7_row13_col8\" class=\"data row13 col8\" >0.0530</td>\n",
              "    </tr>\n",
              "    <tr>\n",
              "      <th id=\"T_719b7_level0_row14\" class=\"row_heading level0 row14\" >dummy</th>\n",
              "      <td id=\"T_719b7_row14_col0\" class=\"data row14 col0\" >Dummy Classifier</td>\n",
              "      <td id=\"T_719b7_row14_col1\" class=\"data row14 col1\" >0.3571</td>\n",
              "      <td id=\"T_719b7_row14_col2\" class=\"data row14 col2\" >0.5000</td>\n",
              "      <td id=\"T_719b7_row14_col3\" class=\"data row14 col3\" >0.3571</td>\n",
              "      <td id=\"T_719b7_row14_col4\" class=\"data row14 col4\" >0.1288</td>\n",
              "      <td id=\"T_719b7_row14_col5\" class=\"data row14 col5\" >0.1890</td>\n",
              "      <td id=\"T_719b7_row14_col6\" class=\"data row14 col6\" >0.0000</td>\n",
              "      <td id=\"T_719b7_row14_col7\" class=\"data row14 col7\" >0.0000</td>\n",
              "      <td id=\"T_719b7_row14_col8\" class=\"data row14 col8\" >0.0550</td>\n",
              "    </tr>\n",
              "  </tbody>\n",
              "</table>\n"
            ]
          },
          "metadata": {}
        },
        {
          "output_type": "display_data",
          "data": {
            "text/plain": [
              "Processing:   0%|          | 0/69 [00:00<?, ?it/s]"
            ],
            "application/vnd.jupyter.widget-view+json": {
              "version_major": 2,
              "version_minor": 0,
              "model_id": "18ba7d548ee1449ebd40337ba392e1ef"
            }
          },
          "metadata": {
            "application/vnd.jupyter.widget-view+json": {
              "colab": {
                "custom_widget_manager": {
                  "url": "https://ssl.gstatic.com/colaboratory-static/widgets/colab-cdn-widget-manager/b3e629b1971e1542/manager.min.js"
                }
              }
            }
          }
        },
        {
          "output_type": "display_data",
          "data": {
            "text/plain": [
              "<IPython.core.display.HTML object>"
            ],
            "text/html": []
          },
          "metadata": {}
        }
      ]
    },
    {
      "cell_type": "code",
      "source": [
        "best[0].predict_proba(x_test)[0], best[1].predict_proba(x_test)[0]"
      ],
      "metadata": {
        "colab": {
          "base_uri": "https://localhost:8080/"
        },
        "id": "dkZIVCPsD9aR",
        "outputId": "de5f5dd2-7951-471a-9c0c-450355e74ceb"
      },
      "execution_count": 39,
      "outputs": [
        {
          "output_type": "stream",
          "name": "stderr",
          "text": [
            "/usr/local/lib/python3.10/dist-packages/sklearn/base.py:439: UserWarning: X does not have valid feature names, but QuadraticDiscriminantAnalysis was fitted with feature names\n",
            "  warnings.warn(\n",
            "/usr/local/lib/python3.10/dist-packages/sklearn/base.py:439: UserWarning: X does not have valid feature names, but LinearDiscriminantAnalysis was fitted with feature names\n",
            "  warnings.warn(\n"
          ]
        },
        {
          "output_type": "execute_result",
          "data": {
            "text/plain": [
              "(array([1.05143065e-106, 1.68708584e-006, 9.99998313e-001]),\n",
              " array([2.63373853e-46, 4.00516452e-05, 9.99959948e-01]))"
            ]
          },
          "metadata": {},
          "execution_count": 39
        }
      ]
    },
    {
      "cell_type": "code",
      "source": [
        "\n",
        "models_proba =  np.array([model.predict_proba(x_test) for model in best])\n",
        "models_mean = np.mean(models_proba,axis=0)\n",
        "print(models_proba.shape, models_mean.shape)\n",
        "predict = np.argmax(models_mean,axis=1)\n",
        "predict"
      ],
      "metadata": {
        "colab": {
          "base_uri": "https://localhost:8080/"
        },
        "id": "ukAAatCnEWXo",
        "outputId": "b9dca70b-5cc4-4bfc-c385-6bc373cc9f7f"
      },
      "execution_count": 50,
      "outputs": [
        {
          "output_type": "stream",
          "name": "stdout",
          "text": [
            "(5, 38, 3) (38, 3)\n"
          ]
        },
        {
          "output_type": "stream",
          "name": "stderr",
          "text": [
            "/usr/local/lib/python3.10/dist-packages/sklearn/base.py:439: UserWarning: X does not have valid feature names, but QuadraticDiscriminantAnalysis was fitted with feature names\n",
            "  warnings.warn(\n",
            "/usr/local/lib/python3.10/dist-packages/sklearn/base.py:439: UserWarning: X does not have valid feature names, but LinearDiscriminantAnalysis was fitted with feature names\n",
            "  warnings.warn(\n",
            "/usr/local/lib/python3.10/dist-packages/sklearn/base.py:439: UserWarning: X does not have valid feature names, but LogisticRegression was fitted with feature names\n",
            "  warnings.warn(\n"
          ]
        },
        {
          "output_type": "execute_result",
          "data": {
            "text/plain": [
              "array([2, 0, 2, 0, 2, 2, 0, 0, 2, 0, 0, 2, 0, 0, 2, 1, 1, 2, 2, 2, 2, 0,\n",
              "       2, 0, 1, 2, 1, 0, 1, 2, 1, 1, 1, 0, 0, 1, 0, 1])"
            ]
          },
          "metadata": {},
          "execution_count": 50
        }
      ]
    },
    {
      "cell_type": "code",
      "source": [
        "!wget https://drive.google.com/u/0/uc?id=1ySNDrK4ahhGwgix5QHLaBNExu6GQFfXb&export=download"
      ],
      "metadata": {
        "colab": {
          "base_uri": "https://localhost:8080/"
        },
        "id": "Uty8UeWUFqvp",
        "outputId": "04ab5a27-4df8-4c68-ab3f-c6a529484439"
      },
      "execution_count": 52,
      "outputs": [
        {
          "output_type": "stream",
          "name": "stdout",
          "text": [
            "--2023-05-29 06:28:29--  https://drive.google.com/u/0/uc?id=1ySNDrK4ahhGwgix5QHLaBNExu6GQFfXb\n",
            "Resolving drive.google.com (drive.google.com)... 142.251.167.102, 142.251.167.139, 142.251.167.100, ...\n",
            "Connecting to drive.google.com (drive.google.com)|142.251.167.102|:443... connected.\n",
            "HTTP request sent, awaiting response... 302 Found\n",
            "Location: https://drive.google.com/uc?id=1ySNDrK4ahhGwgix5QHLaBNExu6GQFfXb [following]\n",
            "--2023-05-29 06:28:29--  https://drive.google.com/uc?id=1ySNDrK4ahhGwgix5QHLaBNExu6GQFfXb\n",
            "Reusing existing connection to drive.google.com:443.\n",
            "HTTP request sent, awaiting response... 200 OK\n",
            "Length: unspecified [text/html]\n",
            "Saving to: ‘uc?id=1ySNDrK4ahhGwgix5QHLaBNExu6GQFfXb’\n",
            "\n",
            "\r          uc?id=1yS     [<=>                 ]       0  --.-KB/s               \ruc?id=1ySNDrK4ahhGw     [ <=>                ]   2.20K  --.-KB/s    in 0s      \n",
            "\n",
            "2023-05-29 06:28:29 (19.1 MB/s) - ‘uc?id=1ySNDrK4ahhGwgix5QHLaBNExu6GQFfXb’ saved [2250]\n",
            "\n"
          ]
        }
      ]
    },
    {
      "cell_type": "code",
      "source": [],
      "metadata": {
        "id": "YR9mkP3YMEq5"
      },
      "execution_count": null,
      "outputs": []
    }
  ]
}