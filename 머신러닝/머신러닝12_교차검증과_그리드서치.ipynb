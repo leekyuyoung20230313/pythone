{
  "nbformat": 4,
  "nbformat_minor": 0,
  "metadata": {
    "colab": {
      "provenance": []
    },
    "kernelspec": {
      "name": "python3",
      "display_name": "Python 3"
    },
    "language_info": {
      "name": "python"
    }
  },
  "cells": [
    {
      "cell_type": "markdown",
      "source": [
        "훈련세트, 검증세트, 테스트세트\n",
        "  - 훈련세트 : 모델훈련\n",
        "  - 검증세트 : 모델을 검증 - 최고성능을 찾음\n",
        "  - 테스트세트 : 최종 점검데이터"
      ],
      "metadata": {
        "id": "EFBNQN3ws9nr"
      }
    },
    {
      "cell_type": "code",
      "source": [
        "import pandas as np\n",
        "import numpy as np\n",
        "from sklearn.model_selection import train_test_split\n",
        "from sklearn.datasets import load_wine\n",
        "wine = load_wine()"
      ],
      "metadata": {
        "id": "Q_M6CQ_ktM_n"
      },
      "execution_count": 2,
      "outputs": []
    },
    {
      "cell_type": "code",
      "source": [
        "x,x_test,y,y_test = train_test_split(wine.data,wine.target,test_size=0.2,random_state=42)"
      ],
      "metadata": {
        "id": "8usKjJustekH"
      },
      "execution_count": 5,
      "outputs": []
    },
    {
      "cell_type": "code",
      "source": [
        "x_train,x_test,val_train,val_test =  train_test_split(x,y,test_size=0.2,random_state=42)"
      ],
      "metadata": {
        "id": "cvGYaK8ftscm"
      },
      "execution_count": 7,
      "outputs": []
    },
    {
      "cell_type": "code",
      "source": [
        "from sklearn.tree import DecisionTreeClassifier\n",
        "dt = DecisionTreeClassifier()"
      ],
      "metadata": {
        "id": "7hZlJH7su0i6"
      },
      "execution_count": 8,
      "outputs": []
    },
    {
      "cell_type": "code",
      "source": [
        "from sklearn.model_selection import cross_validate\n",
        "# 분할기는 kfold를 사용하고  기본값은 5겹\n",
        "scores = cross_validate(dt,x,y)"
      ],
      "metadata": {
        "id": "MjzmP5wouFVW"
      },
      "execution_count": 9,
      "outputs": []
    },
    {
      "cell_type": "code",
      "source": [
        "scores"
      ],
      "metadata": {
        "colab": {
          "base_uri": "https://localhost:8080/"
        },
        "id": "_Dp7WWO7vk5O",
        "outputId": "1c44d262-f0e1-4dd6-82ab-5f5d26a0410a"
      },
      "execution_count": 10,
      "outputs": [
        {
          "output_type": "execute_result",
          "data": {
            "text/plain": [
              "{'fit_time': array([0.00467396, 0.00187469, 0.00384998, 0.00158834, 0.00861359]),\n",
              " 'score_time': array([0.00671768, 0.00113988, 0.00125885, 0.00104451, 0.00351024]),\n",
              " 'test_score': array([0.93103448, 0.93103448, 0.89285714, 0.92857143, 0.85714286])}"
            ]
          },
          "metadata": {},
          "execution_count": 10
        }
      ]
    },
    {
      "cell_type": "code",
      "source": [
        "np.mean(scores['test_score'])"
      ],
      "metadata": {
        "colab": {
          "base_uri": "https://localhost:8080/"
        },
        "id": "rP8K0nGdvmRu",
        "outputId": "ec34b18f-009f-4d2d-f3ff-cdbf437125b6"
      },
      "execution_count": 13,
      "outputs": [
        {
          "output_type": "execute_result",
          "data": {
            "text/plain": [
              "0.9081280788177339"
            ]
          },
          "metadata": {},
          "execution_count": 13
        }
      ]
    },
    {
      "cell_type": "markdown",
      "source": [
        "분할기를 사용한 교차검증"
      ],
      "metadata": {
        "id": "tdc7H9LRv701"
      }
    },
    {
      "cell_type": "code",
      "source": [
        "from sklearn.model_selection import StratifiedKFold\n",
        "scores = cross_validate(dt,x,y,cv = StratifiedKFold() )\n",
        "scores"
      ],
      "metadata": {
        "colab": {
          "base_uri": "https://localhost:8080/"
        },
        "id": "NlHvH9Cgvx9m",
        "outputId": "8ad65f95-f0dc-45ad-ebc1-6dfdc44d1111"
      },
      "execution_count": 14,
      "outputs": [
        {
          "output_type": "execute_result",
          "data": {
            "text/plain": [
              "{'fit_time': array([0.0038991 , 0.00255251, 0.0013082 , 0.00124693, 0.00139928]),\n",
              " 'score_time': array([0.00145483, 0.0007472 , 0.00069547, 0.00070143, 0.00076246]),\n",
              " 'test_score': array([0.93103448, 0.93103448, 0.89285714, 0.92857143, 0.89285714])}"
            ]
          },
          "metadata": {},
          "execution_count": 14
        }
      ]
    },
    {
      "cell_type": "code",
      "source": [
        "np.mean(scores['test_score'])"
      ],
      "metadata": {
        "colab": {
          "base_uri": "https://localhost:8080/"
        },
        "id": "iyar1RP_wSCm",
        "outputId": "d3b649b6-040c-4022-aa7b-8ecb9b2baf18"
      },
      "execution_count": 15,
      "outputs": [
        {
          "output_type": "execute_result",
          "data": {
            "text/plain": [
              "0.9152709359605913"
            ]
          },
          "metadata": {},
          "execution_count": 15
        }
      ]
    },
    {
      "cell_type": "markdown",
      "source": [
        "검증폴드 개수를 늘리기(기본은 5겹)"
      ],
      "metadata": {
        "id": "6sXQXQdJwcsp"
      }
    },
    {
      "cell_type": "code",
      "source": [
        "cv =  StratifiedKFold(n_splits=10)\n",
        "scores = cross_validate(dt,x,y,cv = cv )\n",
        "np.mean(scores['test_score'])"
      ],
      "metadata": {
        "colab": {
          "base_uri": "https://localhost:8080/"
        },
        "id": "K8uHOd2hwUHe",
        "outputId": "4f268fff-2622-4266-fe43-cbe11349728b"
      },
      "execution_count": 17,
      "outputs": [
        {
          "output_type": "execute_result",
          "data": {
            "text/plain": [
              "0.8928571428571429"
            ]
          },
          "metadata": {},
          "execution_count": 17
        }
      ]
    },
    {
      "cell_type": "markdown",
      "source": [
        "그리드서치 - 하이퍼파라메터 튜닝\n",
        "  - 하이퍼파라메터 : 머신러닝의 성능을 결정하는 요인중에 정해지지 \n",
        "  않은 값\n",
        "    - 머신러닝함수의 파라메터, 즉 개발에 사용하는 모든 변수를"
      ],
      "metadata": {
        "id": "AtP0aBjMxEcZ"
      }
    },
    {
      "cell_type": "code",
      "source": [
        "from sklearn.model_selection import GridSearchCV\n",
        "parameters = {\n",
        "  'criterion' : [\"gini\", \"entropy\", \"log_loss\"] ,\n",
        "  'min_impurity_decrease' : [0.0001,0.0002,0.0003,0.0004,0.0005]  \n",
        "}\n",
        "gs =  GridSearchCV(DecisionTreeClassifier(random_state=42), param_grid= parameters, n_jobs=-1) # n_jobs=-1 가용한 모든 컴퓨터 자원을 사용\n",
        "gs.fit(x,y)"
      ],
      "metadata": {
        "colab": {
          "base_uri": "https://localhost:8080/",
          "height": 116
        },
        "id": "ZcFV6Kk9wpom",
        "outputId": "9ddc45ee-eaa5-41ba-9c8d-d11de7a249c3"
      },
      "execution_count": 19,
      "outputs": [
        {
          "output_type": "execute_result",
          "data": {
            "text/plain": [
              "GridSearchCV(estimator=DecisionTreeClassifier(random_state=42), n_jobs=-1,\n",
              "             param_grid={'criterion': ['gini', 'entropy', 'log_loss'],\n",
              "                         'min_impurity_decrease': [0.0001, 0.0002, 0.0003,\n",
              "                                                   0.0004, 0.0005]})"
            ],
            "text/html": [
              "<style>#sk-container-id-1 {color: black;background-color: white;}#sk-container-id-1 pre{padding: 0;}#sk-container-id-1 div.sk-toggleable {background-color: white;}#sk-container-id-1 label.sk-toggleable__label {cursor: pointer;display: block;width: 100%;margin-bottom: 0;padding: 0.3em;box-sizing: border-box;text-align: center;}#sk-container-id-1 label.sk-toggleable__label-arrow:before {content: \"▸\";float: left;margin-right: 0.25em;color: #696969;}#sk-container-id-1 label.sk-toggleable__label-arrow:hover:before {color: black;}#sk-container-id-1 div.sk-estimator:hover label.sk-toggleable__label-arrow:before {color: black;}#sk-container-id-1 div.sk-toggleable__content {max-height: 0;max-width: 0;overflow: hidden;text-align: left;background-color: #f0f8ff;}#sk-container-id-1 div.sk-toggleable__content pre {margin: 0.2em;color: black;border-radius: 0.25em;background-color: #f0f8ff;}#sk-container-id-1 input.sk-toggleable__control:checked~div.sk-toggleable__content {max-height: 200px;max-width: 100%;overflow: auto;}#sk-container-id-1 input.sk-toggleable__control:checked~label.sk-toggleable__label-arrow:before {content: \"▾\";}#sk-container-id-1 div.sk-estimator input.sk-toggleable__control:checked~label.sk-toggleable__label {background-color: #d4ebff;}#sk-container-id-1 div.sk-label input.sk-toggleable__control:checked~label.sk-toggleable__label {background-color: #d4ebff;}#sk-container-id-1 input.sk-hidden--visually {border: 0;clip: rect(1px 1px 1px 1px);clip: rect(1px, 1px, 1px, 1px);height: 1px;margin: -1px;overflow: hidden;padding: 0;position: absolute;width: 1px;}#sk-container-id-1 div.sk-estimator {font-family: monospace;background-color: #f0f8ff;border: 1px dotted black;border-radius: 0.25em;box-sizing: border-box;margin-bottom: 0.5em;}#sk-container-id-1 div.sk-estimator:hover {background-color: #d4ebff;}#sk-container-id-1 div.sk-parallel-item::after {content: \"\";width: 100%;border-bottom: 1px solid gray;flex-grow: 1;}#sk-container-id-1 div.sk-label:hover label.sk-toggleable__label {background-color: #d4ebff;}#sk-container-id-1 div.sk-serial::before {content: \"\";position: absolute;border-left: 1px solid gray;box-sizing: border-box;top: 0;bottom: 0;left: 50%;z-index: 0;}#sk-container-id-1 div.sk-serial {display: flex;flex-direction: column;align-items: center;background-color: white;padding-right: 0.2em;padding-left: 0.2em;position: relative;}#sk-container-id-1 div.sk-item {position: relative;z-index: 1;}#sk-container-id-1 div.sk-parallel {display: flex;align-items: stretch;justify-content: center;background-color: white;position: relative;}#sk-container-id-1 div.sk-item::before, #sk-container-id-1 div.sk-parallel-item::before {content: \"\";position: absolute;border-left: 1px solid gray;box-sizing: border-box;top: 0;bottom: 0;left: 50%;z-index: -1;}#sk-container-id-1 div.sk-parallel-item {display: flex;flex-direction: column;z-index: 1;position: relative;background-color: white;}#sk-container-id-1 div.sk-parallel-item:first-child::after {align-self: flex-end;width: 50%;}#sk-container-id-1 div.sk-parallel-item:last-child::after {align-self: flex-start;width: 50%;}#sk-container-id-1 div.sk-parallel-item:only-child::after {width: 0;}#sk-container-id-1 div.sk-dashed-wrapped {border: 1px dashed gray;margin: 0 0.4em 0.5em 0.4em;box-sizing: border-box;padding-bottom: 0.4em;background-color: white;}#sk-container-id-1 div.sk-label label {font-family: monospace;font-weight: bold;display: inline-block;line-height: 1.2em;}#sk-container-id-1 div.sk-label-container {text-align: center;}#sk-container-id-1 div.sk-container {/* jupyter's `normalize.less` sets `[hidden] { display: none; }` but bootstrap.min.css set `[hidden] { display: none !important; }` so we also need the `!important` here to be able to override the default hidden behavior on the sphinx rendered scikit-learn.org. See: https://github.com/scikit-learn/scikit-learn/issues/21755 */display: inline-block !important;position: relative;}#sk-container-id-1 div.sk-text-repr-fallback {display: none;}</style><div id=\"sk-container-id-1\" class=\"sk-top-container\"><div class=\"sk-text-repr-fallback\"><pre>GridSearchCV(estimator=DecisionTreeClassifier(random_state=42), n_jobs=-1,\n",
              "             param_grid={&#x27;criterion&#x27;: [&#x27;gini&#x27;, &#x27;entropy&#x27;, &#x27;log_loss&#x27;],\n",
              "                         &#x27;min_impurity_decrease&#x27;: [0.0001, 0.0002, 0.0003,\n",
              "                                                   0.0004, 0.0005]})</pre><b>In a Jupyter environment, please rerun this cell to show the HTML representation or trust the notebook. <br />On GitHub, the HTML representation is unable to render, please try loading this page with nbviewer.org.</b></div><div class=\"sk-container\" hidden><div class=\"sk-item sk-dashed-wrapped\"><div class=\"sk-label-container\"><div class=\"sk-label sk-toggleable\"><input class=\"sk-toggleable__control sk-hidden--visually\" id=\"sk-estimator-id-1\" type=\"checkbox\" ><label for=\"sk-estimator-id-1\" class=\"sk-toggleable__label sk-toggleable__label-arrow\">GridSearchCV</label><div class=\"sk-toggleable__content\"><pre>GridSearchCV(estimator=DecisionTreeClassifier(random_state=42), n_jobs=-1,\n",
              "             param_grid={&#x27;criterion&#x27;: [&#x27;gini&#x27;, &#x27;entropy&#x27;, &#x27;log_loss&#x27;],\n",
              "                         &#x27;min_impurity_decrease&#x27;: [0.0001, 0.0002, 0.0003,\n",
              "                                                   0.0004, 0.0005]})</pre></div></div></div><div class=\"sk-parallel\"><div class=\"sk-parallel-item\"><div class=\"sk-item\"><div class=\"sk-label-container\"><div class=\"sk-label sk-toggleable\"><input class=\"sk-toggleable__control sk-hidden--visually\" id=\"sk-estimator-id-2\" type=\"checkbox\" ><label for=\"sk-estimator-id-2\" class=\"sk-toggleable__label sk-toggleable__label-arrow\">estimator: DecisionTreeClassifier</label><div class=\"sk-toggleable__content\"><pre>DecisionTreeClassifier(random_state=42)</pre></div></div></div><div class=\"sk-serial\"><div class=\"sk-item\"><div class=\"sk-estimator sk-toggleable\"><input class=\"sk-toggleable__control sk-hidden--visually\" id=\"sk-estimator-id-3\" type=\"checkbox\" ><label for=\"sk-estimator-id-3\" class=\"sk-toggleable__label sk-toggleable__label-arrow\">DecisionTreeClassifier</label><div class=\"sk-toggleable__content\"><pre>DecisionTreeClassifier(random_state=42)</pre></div></div></div></div></div></div></div></div></div></div>"
            ]
          },
          "metadata": {},
          "execution_count": 19
        }
      ]
    },
    {
      "cell_type": "code",
      "source": [
        "gs.best_params_"
      ],
      "metadata": {
        "colab": {
          "base_uri": "https://localhost:8080/"
        },
        "id": "a-e_ZYjtzkc5",
        "outputId": "ba0ab3b5-ca7c-4264-f145-618667b9f445"
      },
      "execution_count": 20,
      "outputs": [
        {
          "output_type": "execute_result",
          "data": {
            "text/plain": [
              "{'criterion': 'gini', 'min_impurity_decrease': 0.0001}"
            ]
          },
          "metadata": {},
          "execution_count": 20
        }
      ]
    },
    {
      "cell_type": "code",
      "source": [
        "gs.cv_results_"
      ],
      "metadata": {
        "colab": {
          "base_uri": "https://localhost:8080/"
        },
        "id": "bQ_ONRyF0K9B",
        "outputId": "30ee9abf-7ddc-4d3f-fc2c-d4c3fade2037"
      },
      "execution_count": 22,
      "outputs": [
        {
          "output_type": "execute_result",
          "data": {
            "text/plain": [
              "{'mean_fit_time': array([0.0044704 , 0.00339036, 0.00232086, 0.00191889, 0.00200181,\n",
              "        0.0023479 , 0.00359125, 0.00286798, 0.00226121, 0.00391083,\n",
              "        0.00216599, 0.00614591, 0.00220366, 0.00218806, 0.00214376]),\n",
              " 'std_fit_time': array([3.34112887e-03, 2.38985906e-03, 5.48378376e-04, 8.62371041e-05,\n",
              "        2.65620657e-04, 5.94879198e-04, 2.79522904e-03, 1.11528025e-03,\n",
              "        1.37913919e-04, 3.68685162e-03, 7.99289744e-05, 5.45465453e-03,\n",
              "        7.27895319e-05, 1.17947924e-04, 8.00550656e-05]),\n",
              " 'mean_score_time': array([0.0011116 , 0.00175953, 0.00179543, 0.00085635, 0.00270314,\n",
              "        0.00080094, 0.00497422, 0.00336175, 0.00500922, 0.00366812,\n",
              "        0.00267529, 0.00207791, 0.00350351, 0.00199366, 0.00082436]),\n",
              " 'std_score_time': array([1.95542518e-04, 1.62281037e-03, 1.14671539e-03, 4.40158150e-05,\n",
              "        3.69861436e-03, 2.54639972e-05, 6.01979241e-03, 2.77115070e-03,\n",
              "        5.36017550e-03, 3.42405424e-03, 2.76767290e-03, 2.46393552e-03,\n",
              "        3.23987187e-03, 2.34003243e-03, 2.96781241e-05]),\n",
              " 'param_criterion': masked_array(data=['gini', 'gini', 'gini', 'gini', 'gini', 'entropy',\n",
              "                    'entropy', 'entropy', 'entropy', 'entropy', 'log_loss',\n",
              "                    'log_loss', 'log_loss', 'log_loss', 'log_loss'],\n",
              "              mask=[False, False, False, False, False, False, False, False,\n",
              "                    False, False, False, False, False, False, False],\n",
              "        fill_value='?',\n",
              "             dtype=object),\n",
              " 'param_min_impurity_decrease': masked_array(data=[0.0001, 0.0002, 0.0003, 0.0004, 0.0005, 0.0001, 0.0002,\n",
              "                    0.0003, 0.0004, 0.0005, 0.0001, 0.0002, 0.0003, 0.0004,\n",
              "                    0.0005],\n",
              "              mask=[False, False, False, False, False, False, False, False,\n",
              "                    False, False, False, False, False, False, False],\n",
              "        fill_value='?',\n",
              "             dtype=object),\n",
              " 'params': [{'criterion': 'gini', 'min_impurity_decrease': 0.0001},\n",
              "  {'criterion': 'gini', 'min_impurity_decrease': 0.0002},\n",
              "  {'criterion': 'gini', 'min_impurity_decrease': 0.0003},\n",
              "  {'criterion': 'gini', 'min_impurity_decrease': 0.0004},\n",
              "  {'criterion': 'gini', 'min_impurity_decrease': 0.0005},\n",
              "  {'criterion': 'entropy', 'min_impurity_decrease': 0.0001},\n",
              "  {'criterion': 'entropy', 'min_impurity_decrease': 0.0002},\n",
              "  {'criterion': 'entropy', 'min_impurity_decrease': 0.0003},\n",
              "  {'criterion': 'entropy', 'min_impurity_decrease': 0.0004},\n",
              "  {'criterion': 'entropy', 'min_impurity_decrease': 0.0005},\n",
              "  {'criterion': 'log_loss', 'min_impurity_decrease': 0.0001},\n",
              "  {'criterion': 'log_loss', 'min_impurity_decrease': 0.0002},\n",
              "  {'criterion': 'log_loss', 'min_impurity_decrease': 0.0003},\n",
              "  {'criterion': 'log_loss', 'min_impurity_decrease': 0.0004},\n",
              "  {'criterion': 'log_loss', 'min_impurity_decrease': 0.0005}],\n",
              " 'split0_test_score': array([0.93103448, 0.93103448, 0.93103448, 0.93103448, 0.93103448,\n",
              "        0.82758621, 0.82758621, 0.82758621, 0.82758621, 0.82758621,\n",
              "        0.82758621, 0.82758621, 0.82758621, 0.82758621, 0.82758621]),\n",
              " 'split1_test_score': array([0.93103448, 0.93103448, 0.93103448, 0.93103448, 0.93103448,\n",
              "        0.82758621, 0.82758621, 0.82758621, 0.82758621, 0.82758621,\n",
              "        0.82758621, 0.82758621, 0.82758621, 0.82758621, 0.82758621]),\n",
              " 'split2_test_score': array([0.89285714, 0.89285714, 0.89285714, 0.89285714, 0.89285714,\n",
              "        0.85714286, 0.85714286, 0.85714286, 0.85714286, 0.85714286,\n",
              "        0.85714286, 0.85714286, 0.85714286, 0.85714286, 0.85714286]),\n",
              " 'split3_test_score': array([0.92857143, 0.92857143, 0.92857143, 0.92857143, 0.92857143,\n",
              "        0.85714286, 0.85714286, 0.85714286, 0.85714286, 0.85714286,\n",
              "        0.85714286, 0.85714286, 0.85714286, 0.85714286, 0.85714286]),\n",
              " 'split4_test_score': array([0.89285714, 0.89285714, 0.89285714, 0.89285714, 0.89285714,\n",
              "        0.89285714, 0.89285714, 0.89285714, 0.89285714, 0.89285714,\n",
              "        0.89285714, 0.89285714, 0.89285714, 0.89285714, 0.89285714]),\n",
              " 'mean_test_score': array([0.91527094, 0.91527094, 0.91527094, 0.91527094, 0.91527094,\n",
              "        0.85246305, 0.85246305, 0.85246305, 0.85246305, 0.85246305,\n",
              "        0.85246305, 0.85246305, 0.85246305, 0.85246305, 0.85246305]),\n",
              " 'std_test_score': array([0.01832287, 0.01832287, 0.01832287, 0.01832287, 0.01832287,\n",
              "        0.02413793, 0.02413793, 0.02413793, 0.02413793, 0.02413793,\n",
              "        0.02413793, 0.02413793, 0.02413793, 0.02413793, 0.02413793]),\n",
              " 'rank_test_score': array([1, 1, 1, 1, 1, 6, 6, 6, 6, 6, 6, 6, 6, 6, 6], dtype=int32)}"
            ]
          },
          "metadata": {},
          "execution_count": 22
        }
      ]
    },
    {
      "cell_type": "code",
      "source": [
        "gs.cv_results_['mean_test_score']"
      ],
      "metadata": {
        "colab": {
          "base_uri": "https://localhost:8080/"
        },
        "id": "jRKR9LKn0Vyv",
        "outputId": "d3d2fe33-662d-42b8-bc16-2b7796f15952"
      },
      "execution_count": 23,
      "outputs": [
        {
          "output_type": "execute_result",
          "data": {
            "text/plain": [
              "array([0.91527094, 0.91527094, 0.91527094, 0.91527094, 0.91527094,\n",
              "       0.85246305, 0.85246305, 0.85246305, 0.85246305, 0.85246305,\n",
              "       0.85246305, 0.85246305, 0.85246305, 0.85246305, 0.85246305])"
            ]
          },
          "metadata": {},
          "execution_count": 23
        }
      ]
    },
    {
      "cell_type": "code",
      "source": [
        "dt = gs.best_estimator_\n",
        "dt.score(x,y)"
      ],
      "metadata": {
        "colab": {
          "base_uri": "https://localhost:8080/"
        },
        "id": "utQXhVlWzzCe",
        "outputId": "30f62297-29b0-49f3-df7d-b53d4b54658c"
      },
      "execution_count": 21,
      "outputs": [
        {
          "output_type": "execute_result",
          "data": {
            "text/plain": [
              "1.0"
            ]
          },
          "metadata": {},
          "execution_count": 21
        }
      ]
    },
    {
      "cell_type": "markdown",
      "source": [
        "그리드서치에 들어갈 파라메터의 값들은 어떻게 셋팅하면 좋을까?"
      ],
      "metadata": {
        "id": "X7I0-pAB0wu7"
      }
    },
    {
      "cell_type": "code",
      "source": [
        "# 확률분포의 형태로 데이터를 만들때\n",
        "# uniform(실수형태), randint(정수형태)\n",
        "from scipy.stats import uniform, randint\n",
        "params = {\n",
        "    'min_impurity_decrease' : uniform(0.0001,0.001),\n",
        "    'max_depth' : randint(20,50),\n",
        "    'min_samples_split' : randint(2,25),\n",
        "    'min_samples_leaf' : randint(1,25)\n",
        "}\n",
        "from sklearn.model_selection import RandomizedSearchCV\n",
        "# RandomizedSearchCV 파라메터 조합을 랜덤하게 조합한다.\n",
        "gs = RandomizedSearchCV(DecisionTreeClassifier(random_state=42), param_distributions=params, n_iter=100,n_jobs=-1)\n",
        "gs.fit(x,y)"
      ],
      "metadata": {
        "colab": {
          "base_uri": "https://localhost:8080/",
          "height": 116
        },
        "id": "OwiOxruc0HRP",
        "outputId": "0810a743-432e-4a9f-b59c-f603074123c5"
      },
      "execution_count": 27,
      "outputs": [
        {
          "output_type": "execute_result",
          "data": {
            "text/plain": [
              "RandomizedSearchCV(estimator=DecisionTreeClassifier(random_state=42),\n",
              "                   n_iter=100, n_jobs=-1,\n",
              "                   param_distributions={'max_depth': <scipy.stats._distn_infrastructure.rv_discrete_frozen object at 0x7f4304fb0c10>,\n",
              "                                        'min_impurity_decrease': <scipy.stats._distn_infrastructure.rv_continuous_frozen object at 0x7f4304fb1960>,\n",
              "                                        'min_samples_leaf': <scipy.stats._distn_infrastructure.rv_discrete_frozen object at 0x7f4304fb2650>,\n",
              "                                        'min_samples_split': <scipy.stats._distn_infrastructure.rv_discrete_frozen object at 0x7f4304fb26e0>})"
            ],
            "text/html": [
              "<style>#sk-container-id-2 {color: black;background-color: white;}#sk-container-id-2 pre{padding: 0;}#sk-container-id-2 div.sk-toggleable {background-color: white;}#sk-container-id-2 label.sk-toggleable__label {cursor: pointer;display: block;width: 100%;margin-bottom: 0;padding: 0.3em;box-sizing: border-box;text-align: center;}#sk-container-id-2 label.sk-toggleable__label-arrow:before {content: \"▸\";float: left;margin-right: 0.25em;color: #696969;}#sk-container-id-2 label.sk-toggleable__label-arrow:hover:before {color: black;}#sk-container-id-2 div.sk-estimator:hover label.sk-toggleable__label-arrow:before {color: black;}#sk-container-id-2 div.sk-toggleable__content {max-height: 0;max-width: 0;overflow: hidden;text-align: left;background-color: #f0f8ff;}#sk-container-id-2 div.sk-toggleable__content pre {margin: 0.2em;color: black;border-radius: 0.25em;background-color: #f0f8ff;}#sk-container-id-2 input.sk-toggleable__control:checked~div.sk-toggleable__content {max-height: 200px;max-width: 100%;overflow: auto;}#sk-container-id-2 input.sk-toggleable__control:checked~label.sk-toggleable__label-arrow:before {content: \"▾\";}#sk-container-id-2 div.sk-estimator input.sk-toggleable__control:checked~label.sk-toggleable__label {background-color: #d4ebff;}#sk-container-id-2 div.sk-label input.sk-toggleable__control:checked~label.sk-toggleable__label {background-color: #d4ebff;}#sk-container-id-2 input.sk-hidden--visually {border: 0;clip: rect(1px 1px 1px 1px);clip: rect(1px, 1px, 1px, 1px);height: 1px;margin: -1px;overflow: hidden;padding: 0;position: absolute;width: 1px;}#sk-container-id-2 div.sk-estimator {font-family: monospace;background-color: #f0f8ff;border: 1px dotted black;border-radius: 0.25em;box-sizing: border-box;margin-bottom: 0.5em;}#sk-container-id-2 div.sk-estimator:hover {background-color: #d4ebff;}#sk-container-id-2 div.sk-parallel-item::after {content: \"\";width: 100%;border-bottom: 1px solid gray;flex-grow: 1;}#sk-container-id-2 div.sk-label:hover label.sk-toggleable__label {background-color: #d4ebff;}#sk-container-id-2 div.sk-serial::before {content: \"\";position: absolute;border-left: 1px solid gray;box-sizing: border-box;top: 0;bottom: 0;left: 50%;z-index: 0;}#sk-container-id-2 div.sk-serial {display: flex;flex-direction: column;align-items: center;background-color: white;padding-right: 0.2em;padding-left: 0.2em;position: relative;}#sk-container-id-2 div.sk-item {position: relative;z-index: 1;}#sk-container-id-2 div.sk-parallel {display: flex;align-items: stretch;justify-content: center;background-color: white;position: relative;}#sk-container-id-2 div.sk-item::before, #sk-container-id-2 div.sk-parallel-item::before {content: \"\";position: absolute;border-left: 1px solid gray;box-sizing: border-box;top: 0;bottom: 0;left: 50%;z-index: -1;}#sk-container-id-2 div.sk-parallel-item {display: flex;flex-direction: column;z-index: 1;position: relative;background-color: white;}#sk-container-id-2 div.sk-parallel-item:first-child::after {align-self: flex-end;width: 50%;}#sk-container-id-2 div.sk-parallel-item:last-child::after {align-self: flex-start;width: 50%;}#sk-container-id-2 div.sk-parallel-item:only-child::after {width: 0;}#sk-container-id-2 div.sk-dashed-wrapped {border: 1px dashed gray;margin: 0 0.4em 0.5em 0.4em;box-sizing: border-box;padding-bottom: 0.4em;background-color: white;}#sk-container-id-2 div.sk-label label {font-family: monospace;font-weight: bold;display: inline-block;line-height: 1.2em;}#sk-container-id-2 div.sk-label-container {text-align: center;}#sk-container-id-2 div.sk-container {/* jupyter's `normalize.less` sets `[hidden] { display: none; }` but bootstrap.min.css set `[hidden] { display: none !important; }` so we also need the `!important` here to be able to override the default hidden behavior on the sphinx rendered scikit-learn.org. See: https://github.com/scikit-learn/scikit-learn/issues/21755 */display: inline-block !important;position: relative;}#sk-container-id-2 div.sk-text-repr-fallback {display: none;}</style><div id=\"sk-container-id-2\" class=\"sk-top-container\"><div class=\"sk-text-repr-fallback\"><pre>RandomizedSearchCV(estimator=DecisionTreeClassifier(random_state=42),\n",
              "                   n_iter=100, n_jobs=-1,\n",
              "                   param_distributions={&#x27;max_depth&#x27;: &lt;scipy.stats._distn_infrastructure.rv_discrete_frozen object at 0x7f4304fb0c10&gt;,\n",
              "                                        &#x27;min_impurity_decrease&#x27;: &lt;scipy.stats._distn_infrastructure.rv_continuous_frozen object at 0x7f4304fb1960&gt;,\n",
              "                                        &#x27;min_samples_leaf&#x27;: &lt;scipy.stats._distn_infrastructure.rv_discrete_frozen object at 0x7f4304fb2650&gt;,\n",
              "                                        &#x27;min_samples_split&#x27;: &lt;scipy.stats._distn_infrastructure.rv_discrete_frozen object at 0x7f4304fb26e0&gt;})</pre><b>In a Jupyter environment, please rerun this cell to show the HTML representation or trust the notebook. <br />On GitHub, the HTML representation is unable to render, please try loading this page with nbviewer.org.</b></div><div class=\"sk-container\" hidden><div class=\"sk-item sk-dashed-wrapped\"><div class=\"sk-label-container\"><div class=\"sk-label sk-toggleable\"><input class=\"sk-toggleable__control sk-hidden--visually\" id=\"sk-estimator-id-4\" type=\"checkbox\" ><label for=\"sk-estimator-id-4\" class=\"sk-toggleable__label sk-toggleable__label-arrow\">RandomizedSearchCV</label><div class=\"sk-toggleable__content\"><pre>RandomizedSearchCV(estimator=DecisionTreeClassifier(random_state=42),\n",
              "                   n_iter=100, n_jobs=-1,\n",
              "                   param_distributions={&#x27;max_depth&#x27;: &lt;scipy.stats._distn_infrastructure.rv_discrete_frozen object at 0x7f4304fb0c10&gt;,\n",
              "                                        &#x27;min_impurity_decrease&#x27;: &lt;scipy.stats._distn_infrastructure.rv_continuous_frozen object at 0x7f4304fb1960&gt;,\n",
              "                                        &#x27;min_samples_leaf&#x27;: &lt;scipy.stats._distn_infrastructure.rv_discrete_frozen object at 0x7f4304fb2650&gt;,\n",
              "                                        &#x27;min_samples_split&#x27;: &lt;scipy.stats._distn_infrastructure.rv_discrete_frozen object at 0x7f4304fb26e0&gt;})</pre></div></div></div><div class=\"sk-parallel\"><div class=\"sk-parallel-item\"><div class=\"sk-item\"><div class=\"sk-label-container\"><div class=\"sk-label sk-toggleable\"><input class=\"sk-toggleable__control sk-hidden--visually\" id=\"sk-estimator-id-5\" type=\"checkbox\" ><label for=\"sk-estimator-id-5\" class=\"sk-toggleable__label sk-toggleable__label-arrow\">estimator: DecisionTreeClassifier</label><div class=\"sk-toggleable__content\"><pre>DecisionTreeClassifier(random_state=42)</pre></div></div></div><div class=\"sk-serial\"><div class=\"sk-item\"><div class=\"sk-estimator sk-toggleable\"><input class=\"sk-toggleable__control sk-hidden--visually\" id=\"sk-estimator-id-6\" type=\"checkbox\" ><label for=\"sk-estimator-id-6\" class=\"sk-toggleable__label sk-toggleable__label-arrow\">DecisionTreeClassifier</label><div class=\"sk-toggleable__content\"><pre>DecisionTreeClassifier(random_state=42)</pre></div></div></div></div></div></div></div></div></div></div>"
            ]
          },
          "metadata": {},
          "execution_count": 27
        }
      ]
    },
    {
      "cell_type": "code",
      "source": [
        "gs.best_params_"
      ],
      "metadata": {
        "colab": {
          "base_uri": "https://localhost:8080/"
        },
        "id": "4uLJbYhJ1Rwo",
        "outputId": "0d59c49c-137d-42f1-f55d-f86f61884053"
      },
      "execution_count": 28,
      "outputs": [
        {
          "output_type": "execute_result",
          "data": {
            "text/plain": [
              "{'max_depth': 49,\n",
              " 'min_impurity_decrease': 0.0009274089163919622,\n",
              " 'min_samples_leaf': 1,\n",
              " 'min_samples_split': 17}"
            ]
          },
          "metadata": {},
          "execution_count": 28
        }
      ]
    },
    {
      "cell_type": "code",
      "source": [
        "dt = gs.best_estimator_\n",
        "dt.score(x,y)"
      ],
      "metadata": {
        "colab": {
          "base_uri": "https://localhost:8080/"
        },
        "id": "UnkEQVna2wxK",
        "outputId": "e542fe54-8b0d-470e-d784-05bb8148ca8d"
      },
      "execution_count": 29,
      "outputs": [
        {
          "output_type": "execute_result",
          "data": {
            "text/plain": [
              "0.9929577464788732"
            ]
          },
          "metadata": {},
          "execution_count": 29
        }
      ]
    },
    {
      "cell_type": "code",
      "source": [
        "np.max(gs.cv_results_['mean_test_score'])"
      ],
      "metadata": {
        "colab": {
          "base_uri": "https://localhost:8080/"
        },
        "id": "rSnPM1iQ265_",
        "outputId": "4d53d4c8-e81d-423f-eaef-a259d150143f"
      },
      "execution_count": 31,
      "outputs": [
        {
          "output_type": "execute_result",
          "data": {
            "text/plain": [
              "0.9224137931034484"
            ]
          },
          "metadata": {},
          "execution_count": 31
        }
      ]
    },
    {
      "cell_type": "code",
      "source": [],
      "metadata": {
        "id": "Fkc_6OD53DY-"
      },
      "execution_count": null,
      "outputs": []
    }
  ]
}