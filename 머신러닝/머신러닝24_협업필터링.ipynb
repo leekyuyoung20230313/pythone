{
  "nbformat": 4,
  "nbformat_minor": 0,
  "metadata": {
    "colab": {
      "provenance": []
    },
    "kernelspec": {
      "name": "python3",
      "display_name": "Python 3"
    },
    "language_info": {
      "name": "python"
    }
  },
  "cells": [
    {
      "cell_type": "code",
      "execution_count": 7,
      "metadata": {
        "colab": {
          "base_uri": "https://localhost:8080/"
        },
        "id": "LEdYgWlkqqit",
        "outputId": "9861758c-c0d2-43e6-b5b4-f611635f9076"
      },
      "outputs": [
        {
          "output_type": "stream",
          "name": "stdout",
          "text": [
            "find simular user to Bill Duffy\n",
            "********************\n",
            "David Smith, \t\t 0.99\n",
            "Samuel Miller, \t\t 0.88\n",
            "Adam Cohen, \t\t 0.86\n"
          ]
        }
      ],
      "source": [
        "!python collaborate_filtering.py --user 'Bill Duffy' --jsonfile '/content/rate_23.json'"
      ]
    },
    {
      "cell_type": "code",
      "source": [],
      "metadata": {
        "id": "_YNK5vmqsU5D"
      },
      "execution_count": null,
      "outputs": []
    }
  ]
}