{
  "nbformat": 4,
  "nbformat_minor": 0,
  "metadata": {
    "colab": {
      "provenance": []
    },
    "kernelspec": {
      "name": "python3",
      "display_name": "Python 3"
    },
    "language_info": {
      "name": "python"
    }
  },
  "cells": [
    {
      "cell_type": "markdown",
      "source": [
        "*   시간영역 신호를 주파수 영역으로 변환\n",
        "*   신호를 주파수 영역 변환한후에는 특성 벡터형태로 사용할수 잇는지 확인해야 함\n",
        "*   멜 주파수 켑스트럼 계수 : Mel Frequency Cepstral Coefficent\n",
        "  - MFCC\n",
        "    - 오디오 신호에서 주파수 영역 특성을 추출하는데 사용\n",
        "\n",
        "\n",
        "\n",
        "\n",
        "\n"
      ],
      "metadata": {
        "id": "Y5D6q1PQkvog"
      }
    },
    {
      "cell_type": "markdown",
      "source": [
        "python_speech_features 패키지를 이용해서 MFCC특성 추출"
      ],
      "metadata": {
        "id": "EtxIwZGjl5_H"
      }
    },
    {
      "cell_type": "code",
      "source": [
        "!pip install python_speech_features"
      ],
      "metadata": {
        "colab": {
          "base_uri": "https://localhost:8080/"
        },
        "id": "8AZcRd0rmaAf",
        "outputId": "26f6016a-83d6-44c6-acd2-59db290fa1d4"
      },
      "execution_count": 1,
      "outputs": [
        {
          "output_type": "stream",
          "name": "stdout",
          "text": [
            "Looking in indexes: https://pypi.org/simple, https://us-python.pkg.dev/colab-wheels/public/simple/\n",
            "Collecting python_speech_features\n",
            "  Downloading python_speech_features-0.6.tar.gz (5.6 kB)\n",
            "  Preparing metadata (setup.py) ... \u001b[?25l\u001b[?25hdone\n",
            "Building wheels for collected packages: python_speech_features\n",
            "  Building wheel for python_speech_features (setup.py) ... \u001b[?25l\u001b[?25hdone\n",
            "  Created wheel for python_speech_features: filename=python_speech_features-0.6-py3-none-any.whl size=5870 sha256=a17d15c76ebe6c032d04812999ec1586e8f592aa1b175854eef953eb3eb343ee\n",
            "  Stored in directory: /root/.cache/pip/wheels/5a/9e/68/30bad9462b3926c29e315df16b562216d12bdc215f4d240294\n",
            "Successfully built python_speech_features\n",
            "Installing collected packages: python_speech_features\n",
            "Successfully installed python_speech_features-0.6\n"
          ]
        }
      ]
    },
    {
      "cell_type": "code",
      "execution_count": 2,
      "metadata": {
        "id": "cSkFqfobkrGo"
      },
      "outputs": [],
      "source": [
        "import numpy as np\n",
        "import matplotlib.pyplot as plt\n",
        "from scipy.io import wavfile\n",
        "from python_speech_features import mfcc, logfbank"
      ]
    },
    {
      "cell_type": "markdown",
      "source": [
        "오디오 파일을 읽고 분석을 위해 처음 10,000개 샘플을 추출"
      ],
      "metadata": {
        "id": "cD1qUq5jm4U4"
      }
    },
    {
      "cell_type": "code",
      "source": [
        "sampling_freq, signal =  wavfile.read('/content/random_sound_26.wav')\n",
        "# 분석을 위해 처음 10,000개 샘플을 가져오기\n",
        "signal = signal[:10000]"
      ],
      "metadata": {
        "id": "um7tej1FmkF3"
      },
      "execution_count": 3,
      "outputs": []
    },
    {
      "cell_type": "markdown",
      "source": [
        "MFCC 추출"
      ],
      "metadata": {
        "id": "Wx9YKcPOnPCf"
      }
    },
    {
      "cell_type": "code",
      "source": [
        "feature_mfcc =  mfcc(signal,sampling_freq)"
      ],
      "metadata": {
        "colab": {
          "base_uri": "https://localhost:8080/"
        },
        "id": "5vDJ-8LvnQnZ",
        "outputId": "19bb861e-d77b-4f3d-9979-949ea3590d36"
      },
      "execution_count": 4,
      "outputs": [
        {
          "output_type": "stream",
          "name": "stderr",
          "text": [
            "WARNING:root:frame length (1103) is greater than FFT size (512), frame will be truncated. Increase NFFT to avoid.\n"
          ]
        }
      ]
    },
    {
      "cell_type": "markdown",
      "source": [
        "MFCC 매개변수 출력"
      ],
      "metadata": {
        "id": "FHaNCcdence7"
      }
    },
    {
      "cell_type": "code",
      "source": [
        "print(f'MFCC shape : {feature_mfcc.shape}')\n",
        "print(f'MFCC: Number of Windows : {feature_mfcc.shape[0]}')\n",
        "print(f'Length of each feature = {feature_mfcc.shape[1]}')"
      ],
      "metadata": {
        "colab": {
          "base_uri": "https://localhost:8080/"
        },
        "id": "xa7APkENnd3x",
        "outputId": "f294c170-c984-49c2-ab9e-899c447c0d2c"
      },
      "execution_count": 5,
      "outputs": [
        {
          "output_type": "stream",
          "name": "stdout",
          "text": [
            "MFCC shape : (22, 13)\n",
            "MFCC: Number of Windows : 22\n",
            "Length of each feature = 13\n"
          ]
        }
      ]
    },
    {
      "cell_type": "markdown",
      "source": [
        "MFCC 특성 시각화"
      ],
      "metadata": {
        "id": "349M5uSIn7XY"
      }
    },
    {
      "cell_type": "code",
      "source": [
        "feature_mfcc_t = feature_mfcc.T\n",
        "plt.matshow(feature_mfcc_t)\n",
        "plt.title('MFCC')\n",
        "plt.show()\n",
        "# 필터 뱅크특성 추출\n",
        "features_fb = logfbank(signal, sampling_freq)\n",
        "print(f'filter bank Number of Window: {features_fb.shape[0]}')\n",
        "print(f'length of each feature : {features_fb.shape[1]}')"
      ],
      "metadata": {
        "colab": {
          "base_uri": "https://localhost:8080/",
          "height": 533
        },
        "id": "9fhPuQVUn0P_",
        "outputId": "d3de7012-ccb7-46f8-e743-c53a249e2554"
      },
      "execution_count": 10,
      "outputs": [
        {
          "output_type": "display_data",
          "data": {
            "text/plain": [
              "<Figure size 812.308x480 with 1 Axes>"
            ],
            "image/png": "[encoded data removed]"
          },
          "metadata": {}
        },
        {
          "output_type": "stream",
          "name": "stderr",
          "text": [
            "WARNING:root:frame length (1103) is greater than FFT size (512), frame will be truncated. Increase NFFT to avoid.\n"
          ]
        },
        {
          "output_type": "stream",
          "name": "stdout",
          "text": [
            "filter bank Number of Window: 22\n",
            "length of each feature : 26\n"
          ]
        }
      ]
    },
    {
      "cell_type": "markdown",
      "source": [
        "특성을 그림"
      ],
      "metadata": {
        "id": "5jxr7Mgzo7Kv"
      }
    },
    {
      "cell_type": "code",
      "source": [
        "features_fb_t = features_fb.T\n",
        "plt.matshow(features_fb_t)\n",
        "plt.title(\"Filter bank\")\n",
        "plt.show()"
      ],
      "metadata": {
        "colab": {
          "base_uri": "https://localhost:8080/",
          "height": 459
        },
        "id": "AShYvf7ZoAae",
        "outputId": "c92dae3e-4994-4c68-f5e2-623ed6bc1207"
      },
      "execution_count": 11,
      "outputs": [
        {
          "output_type": "display_data",
          "data": {
            "text/plain": [
              "<Figure size 406.154x480 with 1 Axes>"
            ],
            "image/png": "[encoded data removed]"
          },
          "metadata": {}
        }
      ]
    },
    {
      "cell_type": "code",
      "source": [],
      "metadata": {
        "id": "kNUr9UEBpDdW"
      },
      "execution_count": null,
      "outputs": []
    }
  ]
}