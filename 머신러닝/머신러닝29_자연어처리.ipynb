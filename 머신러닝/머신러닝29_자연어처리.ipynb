{
  "nbformat": 4,
  "nbformat_minor": 0,
  "metadata": {
    "colab": {
      "provenance": []
    },
    "kernelspec": {
      "name": "python3",
      "display_name": "Python 3"
    },
    "language_info": {
      "name": "python"
    }
  },
  "cells": [
    {
      "cell_type": "code",
      "execution_count": null,
      "metadata": {
        "colab": {
          "base_uri": "https://localhost:8080/"
        },
        "id": "HYaWG_084X_y",
        "outputId": "056c56b0-313d-4070-b366-5ad205a844fd"
      },
      "outputs": [
        {
          "output_type": "stream",
          "name": "stdout",
          "text": [
            "Looking in indexes: https://pypi.org/simple, https://us-python.pkg.dev/colab-wheels/public/simple/\n",
            "Requirement already satisfied: nltk in /usr/local/lib/python3.10/dist-packages (3.8.1)\n",
            "Requirement already satisfied: click in /usr/local/lib/python3.10/dist-packages (from nltk) (8.1.3)\n",
            "Requirement already satisfied: joblib in /usr/local/lib/python3.10/dist-packages (from nltk) (1.2.0)\n",
            "Requirement already satisfied: regex>=2021.8.3 in /usr/local/lib/python3.10/dist-packages (from nltk) (2022.10.31)\n",
            "Requirement already satisfied: tqdm in /usr/local/lib/python3.10/dist-packages (from nltk) (4.65.0)\n"
          ]
        }
      ],
      "source": [
        "!pip install nltk"
      ]
    },
    {
      "cell_type": "code",
      "source": [
        "# wordnet\n",
        "import nltk\n",
        "nltk.download()"
      ],
      "metadata": {
        "id": "yWrKnoQe-DYL"
      },
      "execution_count": null,
      "outputs": []
    },
    {
      "cell_type": "code",
      "source": [
        "!pip install pattern"
      ],
      "metadata": {
        "colab": {
          "base_uri": "https://localhost:8080/"
        },
        "id": "VtxBwGgX_wOv",
        "outputId": "a83f5186-3af3-4df3-8f2e-d2487a6fdfa3"
      },
      "execution_count": null,
      "outputs": [
        {
          "output_type": "stream",
          "name": "stdout",
          "text": [
            "Looking in indexes: https://pypi.org/simple, https://us-python.pkg.dev/colab-wheels/public/simple/\n",
            "Collecting pattern\n",
            "  Downloading Pattern-3.6.0.tar.gz (22.2 MB)\n",
            "\u001b[2K     \u001b[90m━━━━━━━━━━━━━━━━━━━━━━━━━━━━━━━━━━━━━━━━\u001b[0m \u001b[32m22.2/22.2 MB\u001b[0m \u001b[31m57.2 MB/s\u001b[0m eta \u001b[36m0:00:00\u001b[0m\n",
            "\u001b[?25h  Preparing metadata (setup.py) ... \u001b[?25l\u001b[?25hdone\n",
            "Requirement already satisfied: future in /usr/local/lib/python3.10/dist-packages (from pattern) (0.18.3)\n",
            "Collecting backports.csv (from pattern)\n",
            "  Downloading backports.csv-1.0.7-py2.py3-none-any.whl (12 kB)\n",
            "Collecting mysqlclient (from pattern)\n",
            "  Downloading mysqlclient-2.1.1.tar.gz (88 kB)\n",
            "\u001b[2K     \u001b[90m━━━━━━━━━━━━━━━━━━━━━━━━━━━━━━━━━━━━━━━━\u001b[0m \u001b[32m88.1/88.1 kB\u001b[0m \u001b[31m8.1 MB/s\u001b[0m eta \u001b[36m0:00:00\u001b[0m\n",
            "\u001b[?25h  Preparing metadata (setup.py) ... \u001b[?25l\u001b[?25hdone\n",
            "Requirement already satisfied: beautifulsoup4 in /usr/local/lib/python3.10/dist-packages (from pattern) (4.11.2)\n",
            "Requirement already satisfied: lxml in /usr/local/lib/python3.10/dist-packages (from pattern) (4.9.2)\n",
            "Collecting feedparser (from pattern)\n",
            "  Downloading feedparser-6.0.10-py3-none-any.whl (81 kB)\n",
            "\u001b[2K     \u001b[90m━━━━━━━━━━━━━━━━━━━━━━━━━━━━━━━━━━━━━━━━\u001b[0m \u001b[32m81.1/81.1 kB\u001b[0m \u001b[31m9.4 MB/s\u001b[0m eta \u001b[36m0:00:00\u001b[0m\n",
            "\u001b[?25hCollecting pdfminer.six (from pattern)\n",
            "  Downloading pdfminer.six-20221105-py3-none-any.whl (5.6 MB)\n",
            "\u001b[2K     \u001b[90m━━━━━━━━━━━━━━━━━━━━━━━━━━━━━━━━━━━━━━━━\u001b[0m \u001b[32m5.6/5.6 MB\u001b[0m \u001b[31m97.0 MB/s\u001b[0m eta \u001b[36m0:00:00\u001b[0m\n",
            "\u001b[?25hRequirement already satisfied: numpy in /usr/local/lib/python3.10/dist-packages (from pattern) (1.22.4)\n",
            "Requirement already satisfied: scipy in /usr/local/lib/python3.10/dist-packages (from pattern) (1.10.1)\n",
            "Requirement already satisfied: nltk in /usr/local/lib/python3.10/dist-packages (from pattern) (3.8.1)\n",
            "Collecting python-docx (from pattern)\n",
            "  Downloading python-docx-0.8.11.tar.gz (5.6 MB)\n",
            "\u001b[2K     \u001b[90m━━━━━━━━━━━━━━━━━━━━━━━━━━━━━━━━━━━━━━━━\u001b[0m \u001b[32m5.6/5.6 MB\u001b[0m \u001b[31m85.3 MB/s\u001b[0m eta \u001b[36m0:00:00\u001b[0m\n",
            "\u001b[?25h  Preparing metadata (setup.py) ... \u001b[?25l\u001b[?25hdone\n",
            "Collecting cherrypy (from pattern)\n",
            "  Downloading CherryPy-18.8.0-py2.py3-none-any.whl (348 kB)\n",
            "\u001b[2K     \u001b[90m━━━━━━━━━━━━━━━━━━━━━━━━━━━━━━━━━━━━━━\u001b[0m \u001b[32m348.4/348.4 kB\u001b[0m \u001b[31m31.2 MB/s\u001b[0m eta \u001b[36m0:00:00\u001b[0m\n",
            "\u001b[?25hRequirement already satisfied: requests in /usr/local/lib/python3.10/dist-packages (from pattern) (2.27.1)\n",
            "Requirement already satisfied: soupsieve>1.2 in /usr/local/lib/python3.10/dist-packages (from beautifulsoup4->pattern) (2.4.1)\n",
            "Collecting cheroot>=8.2.1 (from cherrypy->pattern)\n",
            "  Downloading cheroot-10.0.0-py3-none-any.whl (101 kB)\n",
            "\u001b[2K     \u001b[90m━━━━━━━━━━━━━━━━━━━━━━━━━━━━━━━━━━━━━━\u001b[0m \u001b[32m101.6/101.6 kB\u001b[0m \u001b[31m10.6 MB/s\u001b[0m eta \u001b[36m0:00:00\u001b[0m\n",
            "\u001b[?25hCollecting portend>=2.1.1 (from cherrypy->pattern)\n",
            "  Downloading portend-3.1.0-py3-none-any.whl (5.3 kB)\n",
            "Requirement already satisfied: more-itertools in /usr/local/lib/python3.10/dist-packages (from cherrypy->pattern) (9.1.0)\n",
            "Collecting zc.lockfile (from cherrypy->pattern)\n",
            "  Downloading zc.lockfile-3.0.post1-py3-none-any.whl (9.8 kB)\n",
            "Collecting jaraco.collections (from cherrypy->pattern)\n",
            "  Downloading jaraco.collections-4.2.0-py3-none-any.whl (11 kB)\n",
            "Collecting sgmllib3k (from feedparser->pattern)\n",
            "  Downloading sgmllib3k-1.0.0.tar.gz (5.8 kB)\n",
            "  Preparing metadata (setup.py) ... \u001b[?25l\u001b[?25hdone\n",
            "Requirement already satisfied: click in /usr/local/lib/python3.10/dist-packages (from nltk->pattern) (8.1.3)\n",
            "Requirement already satisfied: joblib in /usr/local/lib/python3.10/dist-packages (from nltk->pattern) (1.2.0)\n",
            "Requirement already satisfied: regex>=2021.8.3 in /usr/local/lib/python3.10/dist-packages (from nltk->pattern) (2022.10.31)\n",
            "Requirement already satisfied: tqdm in /usr/local/lib/python3.10/dist-packages (from nltk->pattern) (4.65.0)\n",
            "Requirement already satisfied: charset-normalizer>=2.0.0 in /usr/local/lib/python3.10/dist-packages (from pdfminer.six->pattern) (2.0.12)\n",
            "Requirement already satisfied: cryptography>=36.0.0 in /usr/local/lib/python3.10/dist-packages (from pdfminer.six->pattern) (40.0.2)\n",
            "Requirement already satisfied: urllib3<1.27,>=1.21.1 in /usr/local/lib/python3.10/dist-packages (from requests->pattern) (1.26.15)\n",
            "Requirement already satisfied: certifi>=2017.4.17 in /usr/local/lib/python3.10/dist-packages (from requests->pattern) (2022.12.7)\n",
            "Requirement already satisfied: idna<4,>=2.5 in /usr/local/lib/python3.10/dist-packages (from requests->pattern) (3.4)\n",
            "Collecting jaraco.functools (from cheroot>=8.2.1->cherrypy->pattern)\n",
            "  Downloading jaraco.functools-3.7.0-py3-none-any.whl (8.1 kB)\n",
            "Requirement already satisfied: cffi>=1.12 in /usr/local/lib/python3.10/dist-packages (from cryptography>=36.0.0->pdfminer.six->pattern) (1.15.1)\n",
            "Collecting tempora>=1.8 (from portend>=2.1.1->cherrypy->pattern)\n",
            "  Downloading tempora-5.2.2-py3-none-any.whl (13 kB)\n",
            "Collecting jaraco.text (from jaraco.collections->cherrypy->pattern)\n",
            "  Downloading jaraco.text-3.11.1-py3-none-any.whl (11 kB)\n",
            "Requirement already satisfied: setuptools in /usr/local/lib/python3.10/dist-packages (from zc.lockfile->cherrypy->pattern) (67.7.2)\n",
            "Requirement already satisfied: pycparser in /usr/local/lib/python3.10/dist-packages (from cffi>=1.12->cryptography>=36.0.0->pdfminer.six->pattern) (2.21)\n",
            "Requirement already satisfied: pytz in /usr/local/lib/python3.10/dist-packages (from tempora>=1.8->portend>=2.1.1->cherrypy->pattern) (2022.7.1)\n",
            "Collecting jaraco.context>=4.1 (from jaraco.text->jaraco.collections->cherrypy->pattern)\n",
            "  Downloading jaraco.context-4.3.0-py3-none-any.whl (5.3 kB)\n",
            "Collecting autocommand (from jaraco.text->jaraco.collections->cherrypy->pattern)\n",
            "  Downloading autocommand-2.2.2-py3-none-any.whl (19 kB)\n",
            "Requirement already satisfied: inflect in /usr/local/lib/python3.10/dist-packages (from jaraco.text->jaraco.collections->cherrypy->pattern) (6.0.4)\n",
            "Requirement already satisfied: pydantic>=1.9.1 in /usr/local/lib/python3.10/dist-packages (from inflect->jaraco.text->jaraco.collections->cherrypy->pattern) (1.10.7)\n",
            "Requirement already satisfied: typing-extensions>=4.2.0 in /usr/local/lib/python3.10/dist-packages (from pydantic>=1.9.1->inflect->jaraco.text->jaraco.collections->cherrypy->pattern) (4.5.0)\n",
            "Building wheels for collected packages: pattern, mysqlclient, python-docx, sgmllib3k\n",
            "  Building wheel for pattern (setup.py) ... \u001b[?25l\u001b[?25hdone\n",
            "  Created wheel for pattern: filename=Pattern-3.6-py3-none-any.whl size=22332702 sha256=0fd394616301107e7ae512a7ed1b3b52f116fca16bccb1b3f17209f3424299b6\n",
            "  Stored in directory: /root/.cache/pip/wheels/d1/8f/40/fe23abd593ef60be5bfaf3e02154d3484df42aa947bbf4d499\n",
            "  Building wheel for mysqlclient (setup.py) ... \u001b[?25l\u001b[?25hdone\n",
            "  Created wheel for mysqlclient: filename=mysqlclient-2.1.1-cp310-cp310-linux_x86_64.whl size=108352 sha256=a5277e9aaed30ca5df60fd6e211247467cdbd81eb72d59b52c7ebffb8199627b\n",
            "  Stored in directory: /root/.cache/pip/wheels/7d/34/ba/a769c165b01646816afdf9bf792e847ef149693fee432b6b65\n",
            "  Building wheel for python-docx (setup.py) ... \u001b[?25l\u001b[?25hdone\n",
            "  Created wheel for python-docx: filename=python_docx-0.8.11-py3-none-any.whl size=184491 sha256=c4dd0036f7f27650b6c97bccb8d31ebf89efcef377d75af8b1bc26fb0ea6e28b\n",
            "  Stored in directory: /root/.cache/pip/wheels/80/27/06/837436d4c3bd989b957a91679966f207bfd71d358d63a8194d\n",
            "  Building wheel for sgmllib3k (setup.py) ... \u001b[?25l\u001b[?25hdone\n",
            "  Created wheel for sgmllib3k: filename=sgmllib3k-1.0.0-py3-none-any.whl size=6046 sha256=742b3a5b5b023670d62fd7a363f5efb5ee584628863dda430b127b5fd14e65d1\n",
            "  Stored in directory: /root/.cache/pip/wheels/f0/69/93/a47e9d621be168e9e33c7ce60524393c0b92ae83cf6c6e89c5\n",
            "Successfully built pattern mysqlclient python-docx sgmllib3k\n",
            "Installing collected packages: sgmllib3k, backports.csv, zc.lockfile, python-docx, mysqlclient, jaraco.functools, jaraco.context, feedparser, autocommand, tempora, cheroot, portend, pdfminer.six, jaraco.text, jaraco.collections, cherrypy, pattern\n",
            "Successfully installed autocommand-2.2.2 backports.csv-1.0.7 cheroot-10.0.0 cherrypy-18.8.0 feedparser-6.0.10 jaraco.collections-4.2.0 jaraco.context-4.3.0 jaraco.functools-3.7.0 jaraco.text-3.11.1 mysqlclient-2.1.1 pattern-3.6 pdfminer.six-20221105 portend-3.1.0 python-docx-0.8.11 sgmllib3k-1.0.0 tempora-5.2.2 zc.lockfile-3.0.post1\n"
          ]
        }
      ]
    },
    {
      "cell_type": "code",
      "source": [],
      "metadata": {
        "id": "hJCiSmzZARKn"
      },
      "execution_count": null,
      "outputs": []
    },
    {
      "cell_type": "markdown",
      "source": [
        "텍스트 분석 : 단어의 형태를 추출\n",
        "  - 형태소(stemming) 분석\n",
        "    - 다양한 단어형태의 단어로 분리\n",
        "    - 단어의 끝을 잘라내어서 기본형태로 추출 : 휴리스틱"
      ],
      "metadata": {
        "id": "EVCnXyKYAb2o"
      }
    },
    {
      "cell_type": "code",
      "source": [
        "from nltk.stem.porter import PorterStemmer\n",
        "from nltk.stem.lancaster import LancasterStemmer\n",
        "from nltk.stem.snowball import SnowballStemmer"
      ],
      "metadata": {
        "id": "DmYYxXHjA0U7"
      },
      "execution_count": null,
      "outputs": []
    },
    {
      "cell_type": "code",
      "source": [
        "input_word = [\n",
        "    'writing','calves','be','branded','horse','randomize','possibly','provision','hospital','kept','scratchy','code'\n",
        "]"
      ],
      "metadata": {
        "id": "ZzYkGloEBD_Q"
      },
      "execution_count": null,
      "outputs": []
    },
    {
      "cell_type": "markdown",
      "source": [
        "다양한 형태소 분석기 생성"
      ],
      "metadata": {
        "id": "2I51naKwBYIw"
      }
    },
    {
      "cell_type": "code",
      "source": [
        "porter = PorterStemmer()\n",
        "lancaster = LancasterStemmer()\n",
        "snowball = SnowballStemmer('english')"
      ],
      "metadata": {
        "id": "FRGnTP3qBW-X"
      },
      "execution_count": null,
      "outputs": []
    },
    {
      "cell_type": "code",
      "source": [
        "# 표에 표시할 이름 리스트\n",
        "stemmer_names = ['PORTER','LANCASTER','SNOWBALL']\n",
        "formatted_text = '{:>16}'*(len(stemmer_names)+1)\n",
        "formatted_text"
      ],
      "metadata": {
        "colab": {
          "base_uri": "https://localhost:8080/",
          "height": 35
        },
        "id": "WMBmjPH9Boy3",
        "outputId": "5fcbdd51-52e9-4e71-91a8-9e72ba908697"
      },
      "execution_count": null,
      "outputs": [
        {
          "output_type": "execute_result",
          "data": {
            "text/plain": [
              "'{:>16}{:>16}{:>16}{:>16}'"
            ],
            "application/vnd.google.colaboratory.intrinsic+json": {
              "type": "string"
            }
          },
          "metadata": {},
          "execution_count": 8
        }
      ]
    },
    {
      "cell_type": "code",
      "source": [
        "print(f\"\\n {formatted_text.format('INPUT WORD', *stemmer_names)}\")\n",
        "print(\"*\"*70)\n",
        "# 각 단어에서 형태소를 추출하고 결과를 표시\n",
        "for word in input_word:\n",
        "  output = [ word,porter.stem(word), lancaster.stem(word), snowball.stem(word)  ]\n",
        "  print(f\"{formatted_text.format(*output)}\")"
      ],
      "metadata": {
        "colab": {
          "base_uri": "https://localhost:8080/"
        },
        "id": "9H05nD5yCCIH",
        "outputId": "4d190dca-1629-4d6f-c892-146d318c94c2"
      },
      "execution_count": null,
      "outputs": [
        {
          "output_type": "stream",
          "name": "stdout",
          "text": [
            "\n",
            "       INPUT WORD          PORTER       LANCASTER        SNOWBALL\n",
            "**********************************************************************\n",
            "         writing           write            writ           write\n",
            "          calves            calv            calv            calv\n",
            "              be              be              be              be\n",
            "         branded           brand           brand           brand\n",
            "           horse            hors            hors            hors\n",
            "       randomize          random          random          random\n",
            "        possibly         possibl            poss         possibl\n",
            "       provision          provis          provid          provis\n",
            "        hospital          hospit          hospit          hospit\n",
            "            kept            kept            kept            kept\n",
            "        scratchy        scratchi        scratchy        scratchi\n",
            "            code            code             cod            code\n"
          ]
        }
      ]
    },
    {
      "cell_type": "markdown",
      "source": [
        "기본형화\n",
        "  - 단어를 기본형태로 줄이는 방법\n",
        "  - 형태소 분석기를 통과한 단어들을 그룹화 해서 동일한 항목으로 분석\n",
        "  - 형태소 분석기와 비슷하지만 단어에 맥락을 부여 그래서 의미가 비슷한 단어를 한 단어로 연결"
      ],
      "metadata": {
        "id": "0Ep6uzZmDc1o"
      }
    },
    {
      "cell_type": "code",
      "source": [
        "import nltk\n",
        "nltk.download('wordnet')"
      ],
      "metadata": {
        "colab": {
          "base_uri": "https://localhost:8080/"
        },
        "id": "soMeCw_IF9PN",
        "outputId": "f1880658-3d44-409c-d727-e02051b57dae"
      },
      "execution_count": null,
      "outputs": [
        {
          "output_type": "stream",
          "name": "stderr",
          "text": [
            "[nltk_data] Downloading package wordnet to /root/nltk_data...\n"
          ]
        },
        {
          "output_type": "execute_result",
          "data": {
            "text/plain": [
              "True"
            ]
          },
          "metadata": {},
          "execution_count": 20
        }
      ]
    },
    {
      "cell_type": "code",
      "source": [
        "from nltk.stem import WordNetLemmatizer\n",
        "lematizer =  WordNetLemmatizer()\n",
        "# 동사 / 명사 일때가 다름\n",
        "lematizer_names = ['NOUN LEMMATIZER', 'VERB LEMMATIZER']\n",
        "formatted_text = '{:>24}'*(len(lematizer_names)+1)\n",
        "print(f\"\\n {formatted_text.format('INPUT WORD', *lematizer_names)}\")\n",
        "print(\"*\"*100)\n",
        "# 각 단어를 기본형화 하고 출력을 표시\n",
        "for word in input_word:\n",
        "  output = [ word,lematizer.lemmatize(word,pos='n'),lematizer.lemmatize(word,pos='v')  ]\n",
        "  print(f\"{formatted_text.format(*output)}\")"
      ],
      "metadata": {
        "colab": {
          "base_uri": "https://localhost:8080/"
        },
        "id": "_uDvuAaMCTRH",
        "outputId": "f305ea85-7a33-4d2f-aa0f-868fb6c2dd16"
      },
      "execution_count": null,
      "outputs": [
        {
          "output_type": "stream",
          "name": "stdout",
          "text": [
            "\n",
            "               INPUT WORD         NOUN LEMMATIZER         VERB LEMMATIZER\n",
            "****************************************************************************************************\n",
            "                 writing                 writing                   write\n",
            "                  calves                    calf                   calve\n",
            "                      be                      be                      be\n",
            "                 branded                 branded                   brand\n",
            "                   horse                   horse                   horse\n",
            "               randomize               randomize               randomize\n",
            "                possibly                possibly                possibly\n",
            "               provision               provision               provision\n",
            "                hospital                hospital                hospital\n",
            "                    kept                    kept                    keep\n",
            "                scratchy                scratchy                scratchy\n",
            "                    code                    code                    code\n"
          ]
        }
      ]
    },
    {
      "cell_type": "markdown",
      "source": [
        "형태소 분석기출력은 의미가 있을수 있고 없을수 있지만 \n",
        "\n",
        "기본형화는 출력은 모두 의미가 있다"
      ],
      "metadata": {
        "id": "qe94iXz8GFrE"
      }
    },
    {
      "cell_type": "markdown",
      "source": [
        "텍스트 데이터를 청크로 나누기\n",
        "  - 텍스트 데이터를 여러 조각으로 나누는 과정 : 청킹(chunking)\n",
        "  - 큰 텍스트 문서를 다룰때는 의미있는 정보를 추출하기 위해 텍스트를 정크로 분할"
      ],
      "metadata": {
        "id": "VMemaXc3GOkA"
      }
    },
    {
      "cell_type": "code",
      "source": [
        "import numpy as np\n",
        "from nltk.corpus import brown"
      ],
      "metadata": {
        "id": "MKr4mO-1ELKE"
      },
      "execution_count": null,
      "outputs": []
    },
    {
      "cell_type": "code",
      "source": [
        "# 입력텍스트를 청크로 나누는 함수 , 각 청크는 단어 N개를 포함한다.\n",
        "def chucker(input_data, n):\n",
        "  input_words = input_data.split(' ')\n",
        "  output = []\n",
        "  # 단어들을 순환하면서 입력 매개변수를 사용해 청크로 분할\n",
        "  cur_chunk = []\n",
        "  count = 0\n",
        "  for word in input_words:\n",
        "    cur_chunk.append(word)\n",
        "    count += 1\n",
        "    if count == n:\n",
        "      output.append(' '.join(cur_chunk))\n",
        "      count,cur_chunk = 0, []\n",
        "  output.append(' '.join(cur_chunk))\n",
        "  return output"
      ],
      "metadata": {
        "id": "j_1bPpRgHVAx"
      },
      "execution_count": null,
      "outputs": []
    },
    {
      "cell_type": "code",
      "source": [
        "nltk.download('brown')"
      ],
      "metadata": {
        "colab": {
          "base_uri": "https://localhost:8080/"
        },
        "id": "ueZMges-IOXt",
        "outputId": "1687dc34-c718-487b-f96d-08e8f5457dec"
      },
      "execution_count": null,
      "outputs": [
        {
          "output_type": "stream",
          "name": "stderr",
          "text": [
            "[nltk_data] Downloading package brown to /root/nltk_data...\n",
            "[nltk_data]   Package brown is already up-to-date!\n"
          ]
        },
        {
          "output_type": "execute_result",
          "data": {
            "text/plain": [
              "True"
            ]
          },
          "metadata": {},
          "execution_count": 27
        }
      ]
    },
    {
      "cell_type": "code",
      "source": [
        "# 입력 데이터"
      ],
      "metadata": {
        "id": "v2Oy07WdJop0"
      },
      "execution_count": null,
      "outputs": []
    },
    {
      "cell_type": "code",
      "source": [
        "from nltk.corpus.reader import chunked\n",
        "# brown 말뭉치에서 처음 12000 단어를 읽어옮\n",
        "input_data =  ' '.join(brown.words()[:12000])\n",
        "input_data"
      ],
      "metadata": {
        "colab": {
          "base_uri": "https://localhost:8080/",
          "height": 161
        },
        "id": "lrzg7oGCIGip",
        "outputId": "388cc74f-7fc2-4745-a836-e470c83ce63c"
      },
      "execution_count": null,
      "outputs": [
        {
          "output_type": "execute_result",
          "data": {
            "text/plain": [
              "\"The Fulton County Grand Jury said Friday an investigation of Atlanta's recent primary election produced `` no evidence '' that any irregularities took place . The jury further said in term-end presentments that the City Executive Committee , which had over-all charge of the election , `` deserves the praise and thanks of the City of Atlanta '' for the manner in which the election was conducted . The September-October term jury had been charged by Fulton Superior Court Judge Durwood Pye to investigate reports of possible `` irregularities '' in the hard-fought primary which was won by Mayor-nominate Ivan Allen Jr. . `` Only a relative handful of such reports was received '' , the jury said , `` considering the widespread interest in the election , the number of voters and the size of this city '' . The jury said it did find that many of Georgia's registration and election laws `` are outmoded or inadequate and often ambiguous '' . It recommended that Fulton legislators act `` to have these laws studied and revised to the end of modernizing and improving them '' . The grand jury commented on a number of other topics , among them the Atlanta and Fulton County purchasing departments which it said `` are well operated and follow generally accepted practices which inure to the best interest of both governments '' . Merger proposed However , the jury said it believes `` these two offices should be combined to achieve greater efficiency and reduce the cost of administration '' . The City Purchasing Department , the jury said , `` is lacking in experienced clerical personnel as a result of city personnel policies '' . It urged that the city `` take steps to remedy '' this problem . Implementation of Georgia's automobile title law was also recommended by the outgoing jury . It urged that the next Legislature `` provide enabling funds and re-set the effective date so that an orderly implementation of the law may be effected '' . The grand jury took a swipe at the State Welfare Department's handling of federal funds granted for child welfare services in foster homes . `` This is one of the major items in the Fulton County general assistance program '' , the jury said , but the State Welfare Department `` has seen fit to distribute these funds through the welfare departments of all the counties in the state with the exception of Fulton County , which receives none of this money . The jurors said they realize `` a proportionate distribution of these funds might disable this program in our less populous counties '' . Nevertheless , `` we feel that in the future Fulton County should receive some portion of these available funds '' , the jurors said . `` Failure to do this will continue to place a disproportionate burden '' on Fulton taxpayers . The jury also commented on the Fulton ordinary's court which has been under fire for its practices in the appointment of appraisers , guardians and administrators and the awarding of fees and compensation . Wards protected The jury said it found the court `` has incorporated into its operating procedures the recommendations '' of two previous grand juries , the Atlanta Bar Association and an interim citizens committee . `` These actions should serve to protect in fact and in effect the court's wards from undue costs and its appointed and elected servants from unmeritorious criticisms '' , the jury said . Regarding Atlanta's new multi-million-dollar airport , the jury recommended `` that when the new management takes charge Jan. 1 the airport be operated in a manner that will eliminate political influences '' . The jury did not elaborate , but it added that `` there should be periodic surveillance of the pricing practices of the concessionaires for the purpose of keeping the prices reasonable '' . Ask jail deputies On other matters , the jury recommended that : ( 1 ) Four additional deputies be employed at the Fulton County Jail and `` a doctor , medical intern or extern be employed for night and weekend duty at the jail '' . ( 2 ) Fulton legislators `` work with city officials to pass enabling legislation that will permit the establishment of a fair and equitable '' pension plan for city employes . The jury praised the administration and operation of the Atlanta Police Department , the Fulton Tax Commissioner's Office , the Bellwood and Alpharetta prison farms , Grady Hospital and the Fulton Health Department . Mayor William B. Hartsfield filed suit for divorce from his wife , Pearl Williams Hartsfield , in Fulton Superior Court Friday . His petition charged mental cruelty . The couple was married Aug. 2 , 1913 . They have a son , William Berry Jr. , and a daughter , Mrs. J. M. Cheshire of Griffin . Attorneys for the mayor said that an amicable property settlement has been agreed upon . The petition listed the mayor's occupation as `` attorney '' and his age as 71 . It listed his wife's age as 74 and place of birth as Opelika , Ala. . The petition said that the couple has not lived together as man and wife for more than a year . The Hartsfield home is at 637 E. Pelham Rd. Aj . Henry L. Bowden was listed on the petition as the mayor's attorney . Hartsfield has been mayor of Atlanta , with exception of one brief interlude , since 1937 . His political career goes back to his election to city council in 1923 . The mayor's present term of office expires Jan. 1 . He will be succeeded by Ivan Allen Jr. , who became a candidate in the Sept. 13 primary after Mayor Hartsfield announced that he would not run for reelection . Georgia Republicans are getting strong encouragement to enter a candidate in the 1962 governor's race , a top official said Wednesday . Robert Snodgrass , state GOP chairman , said a meeting held Tuesday night in Blue Ridge brought enthusiastic responses from the audience . State Party Chairman James W. Dorsey added that enthusiasm was picking up for a state rally to be held Sept. 8 in Savannah at which newly elected Texas Sen. John Tower will be the featured speaker . In the Blue Ridge meeting , the audience was warned that entering a candidate for governor would force it to take petitions out into voting precincts to obtain the signatures of registered voters . Despite the warning , there was a unanimous vote to enter a candidate , according to Republicans who attended . When the crowd was asked whether it wanted to wait one more term to make the race , it voted no -- and there were no dissents . The largest hurdle the Republicans would have to face is a state law which says that before making a first race , one of two alternative courses must be taken : 1 Five per cent of the voters in each county must sign petitions requesting that the Republicans be allowed to place names of candidates on the general election ballot , or 2 The Republicans must hold a primary under the county unit system -- a system which the party opposes in its platform . Sam Caldwell , State Highway Department public relations director , resigned Tuesday to work for Lt. Gov. Garland Byrd's campaign . Caldwell's resignation had been expected for some time . He will be succeeded by Rob Ledford of Gainesville , who has been an assistant more than three years . When the gubernatorial campaign starts , Caldwell is expected to become a campaign coordinator for Byrd . The Georgia Legislature will wind up its 1961 session Monday and head for home -- where some of the highway bond money it approved will follow shortly . Before adjournment Monday afternoon , the Senate is expected to approve a study of the number of legislators allotted to rural and urban areas to determine what adjustments should be made . Gov. Vandiver is expected to make the traditional visit to both chambers as they work toward adjournment . Vandiver likely will mention the $100 million highway bond issue approved earlier in the session as his first priority item . Construction bonds Meanwhile , it was learned the State Highway Department is very near being ready to issue the first $30 million worth of highway reconstruction bonds . The bond issue will go to the state courts for a friendly test suit to test the validity of the act , and then the sales will begin and contracts let for repair work on some of Georgia's most heavily traveled highways . A Highway Department source said there also is a plan there to issue some $3 million to $4 million worth of Rural Roads Authority bonds for rural road construction work . A revolving fund The department apparently intends to make the Rural Roads Authority a revolving fund under which new bonds would be issued every time a portion of the old ones are paid off by tax authorities . Vandiver opened his race for governor in 1958 with a battle in the Legislature against the issuance of $50 million worth of additional rural roads bonds proposed by then Gov. Marvin Griffin . The Highway Department source told The Constitution , however , that Vandiver has not been consulted yet about the plans to issue the new rural roads bonds . Schley County Rep. B. D. Pelham will offer a resolution Monday in the House to rescind the body's action of Friday in voting itself a $10 per day increase in expense allowances . Pelham said Sunday night there was research being done on whether the `` quickie '' vote on the increase can be repealed outright or whether notice would have to first be given that reconsideration of the action would be sought . While emphasizing that technical details were not fully worked out , Pelham said his resolution would seek to set aside the privilege resolution which the House voted through 87-31 . A similar resolution passed in the Senate by a vote of 29-5 . As of Sunday night , there was no word of a resolution being offered there to rescind the action . Pelham pointed out that Georgia voters last November rejected a constitutional amendment to allow legislators to vote on pay raises for future Legislature sessions . A veteran Jackson County legislator will ask the Georgia House Monday to back federal aid to education , something it has consistently opposed in the past . Rep. Mac Barber of Commerce is asking the House in a privilege resolution to `` endorse increased federal support for public education , provided that such funds be received and expended '' as state funds . Barber , who is in his 13th year as a legislator , said there `` are some members of our congressional delegation in Washington who would like to see it ( the resolution ) passed '' . But he added that none of Georgia's congressmen specifically asked him to offer the resolution . The resolution , which Barber tossed into the House hopper Friday , will be formally read Monday . It says that `` in the event Congress does provide this increase in federal funds '' , the State Board of Education should be directed to `` give priority '' to teacher pay raises . Colquitt -- After a long , hot controversy , Miller County has a new school superintendent , elected , as a policeman put it , in the `` coolest election I ever saw in this county '' . The new school superintendent is Harry Davis , a veteran agriculture teacher , who defeated Felix Bush , a school principal and chairman of the Miller County Democratic Executive Committee . Davis received 1,119 votes in Saturday's election , and Bush got 402 . Ordinary Carey Williams , armed with a pistol , stood by at the polls to insure order . `` This was the coolest , calmest election I ever saw '' , Colquitt Policeman Tom Williams said . `` Being at the polls was just like being at church . I didn't smell a drop of liquor , and we didn't have a bit of trouble '' . The campaign leading to the election was not so quiet , however . It was marked by controversy , anonymous midnight phone calls and veiled threats of violence . The former county school superintendent , George P. Callan , shot himself to death March 18 , four days after he resigned his post in a dispute with the county school board . During the election campaign , both candidates , Davis and Bush , reportedly received anonymous telephone calls . Ordinary Williams said he , too , was subjected to anonymous calls soon after he scheduled the election . Many local citizens feared that there would be irregularities at the polls , and Williams got himself a permit to carry a gun and promised an orderly election . Sheriff Felix Tabb said the ordinary apparently made good his promise . `` Everything went real smooth '' , the sheriff said . `` There wasn't a bit of trouble '' . Austin , Texas -- Committee approval of Gov. Price Daniel's `` abandoned property '' act seemed certain Thursday despite the adamant protests of Texas bankers . Daniel personally led the fight for the measure , which he had watered down considerably since its rejection by two previous Legislatures , in a public hearing before the House Committee on Revenue and Taxation . Under committee rules , it went automatically to a subcommittee for one week . But questions with which committee members taunted bankers appearing as witnesses left little doubt that they will recommend passage of it . Daniel termed `` extremely conservative '' his estimate that it would produce 17 million dollars to help erase an anticipated deficit of 63 million dollars at the end of the current fiscal year next Aug. 31 . He told the committee the measure would merely provide means of enforcing the escheat law which has been on the books `` since Texas was a republic '' . It permits the state to take over bank accounts , stocks and other personal property of persons missing for seven years or more . The bill , which Daniel said he drafted personally , would force banks , insurance firms , pipeline companies and other corporations to report such property to the state treasurer . The escheat law cannot be enforced now because it is almost impossible to locate such property , Daniel declared . Dewey Lawrence , a Tyler lawyer representing the Texas Bankers Association , sounded the opposition keynote when he said it would force banks to violate their contractual obligations with depositors and undermine the confidence of bank customers . `` If you destroy confidence in banks , you do something to the economy '' , he said . `` You take out of circulation many millions of dollars '' . Rep. Charles E. Hughes of Sherman , sponsor of the bill , said a failure to enact it would amount `` to making a gift out of the taxpayers' pockets to banks , insurance and pipeline companies '' . His contention was denied by several bankers , including Scott Hudson of Sherman , Gaynor B. Jones of Houston , J. B. Brady of Harlingen and Howard Cox of Austin . Cox argued that the bill is `` probably unconstitutional '' since , he said , it would impair contracts . He also complained that not enough notice was given on the hearing , since the bill was introduced only last Monday . Austin , Texas -- Senators unanimously approved Thursday the bill of Sen. George Parkhouse of Dallas authorizing establishment of day schools for the deaf in Dallas and the four other largest counties . The bill is designed to provide special schooling for more deaf students in the scholastic age at a reduced cost to the state . There was no debate as the Senate passed the bill on to the House . It would authorize the Texas Education Agency to establish county-wide day schools for the deaf in counties of 300,000 or more population , require deaf children between 6 and 13 years of age to attend the day schools , permitting older ones to attend the residential Texas School for the Deaf here . Operating budget for the day schools in the five counties of Dallas , Harris , Bexar , Tarrant and El Paso would be $451,500 , which would be a savings of $157,460 yearly after the first year's capital outlay of $88,000 was absorbed , Parkhouse told the Senate . The TEA estimated there would be 182 scholastics to attend the day school in Dallas County , saving them from coming to Austin to live in the state deaf school . Dallas may get to hear a debate on horse race parimutuels soon between Reps. V. E. ( Red ) Berry and Joe Ratcliff . While details are still to be worked out , Ratcliff said he expects to tell home folks in Dallas why he thinks Berry's proposed constitutional amendment should be rejected . `` We're getting more ' pro ' letters than ' con ' on horse race betting '' , said Ratcliff . `` But I believe if people were better informed on this question , most of them would oppose it also . I'm willing to stake my political career on it '' . Rep. Berry , an ex-gambler from San Antonio , got elected on his advocacy of betting on the ponies . A House committee which heard his local option proposal is expected to give it a favorable report , although the resolution faces hard sledding later . The house passed finally , and sent to the Senate , a bill extending the State Health Department's authority to give planning assistance to cities . The senate quickly whipped through its meager fare of House bills approved by committees , passing the three on the calendar . One validated acts of school districts . Another enlarged authority of the Beaumont Navigation District . The third amended the enabling act for creation of the Lamar county Hospital District , for which a special constitutional amendment previously was adopted . Without dissent , senators passed a bill by Sen. A. R. Schwartz of Galveston authorizing establishment in the future of a school for the mentally retarded in the Gulf Coast district . Money for its construction will be sought later on but in the meantime the State Hospital board can accept gifts and donations of a site . Two tax revision bills were passed . One , by Sen. Louis Crump of San Saba , would aid more than 17,000 retailers who pay a group of miscellaneous excise taxes by eliminating the requirement that each return be notarized . Instead , retailers would sign a certificate of correctness , violation of which would carry a penalty of one to five years in prison , plus a $1,000 fine . It was one of a series of recommendations by the Texas Research League . The other bill , by Sen. A. M. Aikin Jr. of Paris , would relieve real estate brokers , who pay their own annual licensing fee , from the $12 annual occupation license on brokers in such as stocks and bonds . Natural gas public utility companies would be given the right of eminent domain , under a bill by Sen. Frank Owen 3 , of El Paso , to acquire sites for underground storage reservoirs for gas . Marshall Formby of Plainview , former chairman of the Texas Highway Commission , suggested a plan to fill by appointment future vacancies in the Legislature and Congress , eliminating the need for costly special elections . Under Formby's plan , an appointee would be selected by a board composed of the governor , lieutenant governor , speaker of the House , attorney general and chief justice of the Texas Supreme Court . Austin , Texas -- State representatives decided Thursday against taking a poll on what kind of taxes Texans would prefer to pay . An adverse vote of 81 to 65 kept in the State Affairs Committee a bill which would order the referendum on the April 4 ballot , when Texas votes on a U.S. senator . Rep. Wesley Roberts of Seminole , sponsor of the poll idea , said that further delay in the committee can kill the bill . The West Texan reported that he had finally gotten Chairman Bill Hollowell of the committee to set it for public hearing on Feb. 22 . The proposal would have to receive final legislative approval , by two-thirds majorities , before March 1 to be printed on the April 4 ballot , Roberts said . Opponents generally argued that the ballot couldn't give enough information about tax proposals for the voters to make an intelligent choice . All Dallas members voted with Roberts , except Rep. Bill Jones , who was absent . Austin , Texas -- Paradise lost to the alleged water needs of Texas' big cities Thursday . Rep. James Cotten of Weatherford insisted that a water development bill passed by the Texas House of Representatives was an effort by big cities like Dallas and Fort Worth to cover up places like Paradise , a Wise County hamlet of 250 people . When the shouting ended , the bill passed , 114 to 4 , sending it to the Senate , where a similar proposal is being sponsored by Sen. George Parkhouse of Dallas . Most of the fire was directed by Cotten against Dallas and Sen. Parkhouse . The bill would increase from $5,000,000 to $15,000,000 the maximum loan the state could make to a local water project . Cotten construed this as a veiled effort by Parkhouse to help Dallas and other large cities get money which Cotten felt could better be spent providing water for rural Texas . Statements by other legislators that Dallas is paying for all its water program by local bonds , and that less populous places would benefit most by the pending bill , did not sway Cotten's attack . The bill's defenders were mostly small-town legislators like J. W. Buchanan of Dumas , Eligio ( Kika ) De La Garza of Mission , Sam F. Collins of Newton and Joe Chapman of Sulphur Springs . `` This is a poor boy's bill '' , said Chapman . `` Dallas and Fort Worth can vote bonds . This would help the little peanut districts '' . Austin , Texas -- A Houston teacher , now serving in the Legislature , proposed Thursday a law reducing the time spent learning `` educational methods '' . Rep. Henry C. Grover , who teaches history in the Houston public schools , would reduce from 24 to 12 semester hours the so-called `` teaching methods '' courses required to obtain a junior or senior high school teaching certificate . A normal year's work in college is 30 semester hours . Grover also would require junior-senior high teachers to have at least 24 semester hours credit in the subject they are teaching . The remainder of the 4-year college requirement would be in general subjects . `` A person with a master's degree in physics , chemistry , math or English , yet who has not taken Education courses , is not permitted to teach in the public schools '' , said Grover . College teachers in Texas are not required to have the Education courses . Fifty-three of the 150 representatives immediately joined Grover as co-signers of the proposal . Paris , Texas ( sp. ) -- The board of regents of Paris Junior College has named Dr. Clarence Charles Clark of Hays , Kan. as the school's new president . Dr. Clark will succeed Dr. J. R. McLemore , who will retire at the close of the present school term . Dr. Clark holds an earned Doctor of Education degree from the University of Oklahoma . He also received a Master of Science degree from Texas A & I College and a Bachelor of Science degree from Southwestern State College , Weatherford , Okla. . In addition , Dr. Clark has studied at Rhode Island State College and Massachusetts Institute of Technology . During his college career , Dr. Clark was captain of his basketball team and was a football letterman . Dr. Clark has served as teacher and principal in Oklahoma high schools , as teacher and athletic director at Raymondville , Texas , High School , as an instructor at the University of Oklahoma , and as an associate professor of education at Fort Hays , Kan. , State College . He has served as a border patrolman and was in the Signal Corps of the U.S. Army . Denton , Texas ( sp. ) -- Principals of the 13 schools in the Denton Independent School District have been re-elected for the 1961-62 session upon the recommendation of Supt. Chester O. Strickland . State and federal legislation against racial discrimination in employment was called for yesterday in a report of a `` blue ribbon '' citizens committee on the aid to dependent children program . The report , culminating a year long study of the ADC program in Cook county by a New York City welfare consulting firm , listed 10 long range recommendations designed to reduce the soaring ADC case load . The report called racial discrimination in employment `` one of the most serious causes of family breakdown , desertion , and ADC dependency '' . `` Must solve problem '' The monthly cost of ADC to more than 100,000 recipients in the county is 4.4 million dollars , said C. Virgil Martin , president of Carson Pirie Scott & Co. , committee chairman . `` We must solve the problems which have forced these people to depend upon ADC for subsistence '' , Martin said . The volume of ADC cases will decrease , Martin reported , when the community is able to deal effectively with two problems : Relatively limited skills and discrimination in employment because of color . These , he said , are `` two of the principal underlying causes for family breakups leading to ADC '' . Calls for extension Other recommendations made by the committee are : Extension of the ADC program to all children in need living with any relatives , including both parents , as a means of preserving family unity . Research projects as soon as possible on the causes and prevention of dependency and illegitimacy . Several defendants in the Summerdale police burglary trial made statements indicating their guilt at the time of their arrest , Judge James B. Parsons was told in Criminal court yesterday . The disclosure by Charles Bellows , chief defense counsel , startled observers and was viewed as the prelude to a quarrel between the six attorneys representing the eight former policemen now on trial . Bellows made the disclosure when he asked Judge Parsons to grant his client , Alan Clements , 30 , a separate trial . Bellows made the request while the all-woman jury was out of the courtroom . Fears prejudicial aspects `` The statements may be highly prejudicial to my client '' , Bellows told the court . `` Some of the defendants strongly indicated they knew they were receiving stolen property . It is impossible to get a fair trial when some of the defendants made statements involving themselves and others '' . Judge Parsons leaned over the bench and inquired , `` You mean some of the defendants made statements admitting this '' ? ? `` Yes , your honor '' , replied Bellows . `` What this amounts to , if true , is that there will be a free-for-all fight in this case . There is a conflict among the defendants '' . Washington , July 24 -- President Kennedy today pushed aside other White House business to devote all his time and attention to working on the Berlin crisis address he will deliver tomorrow night to the American people over nationwide television and radio . The President spent much of the week-end at his summer home on Cape Cod writing the first drafts of portions of the address with the help of White House aids in Washington with whom he talked by telephone . Shortly after the Chief Executive returned to Washington in midmorning from Hyannis Port , Mass. , a White House spokesman said the address text still had `` quite a way to go '' toward completion . Decisions are made Asked to elaborate , Pierre Salinger , White House press secretary , replied , `` I would say it's got to go thru several more drafts '' . Salinger said the work President Kennedy , advisers , and members of his staff were doing on the address involved composition and wording , rather than last minute decisions on administration plans to meet the latest Berlin crisis precipitated by Russia's demands and proposals for the city . The last 10 cases in the investigation of the Nov. 8 election were dismissed yesterday by Acting Judge John M. Karns , who charged that the prosecution obtained evidence `` by unfair and fundamentally illegal means '' . Karns said that the cases involved a matter `` of even greater significance than the guilt or innocence '' of the 50 persons . He said evidence was obtained `` in violation of the legal rights of citizens '' . Karns' ruling pertained to eight of the 10 cases . In the two other cases he ruled that the state had been `` unable to make a case '' . Contempt proceedings originally had been brought against 677 persons in 133 precincts by Morris J. Wexler , special prosecutor . Issue jury subpoenas Wexler admitted in earlier court hearings that he issued grand jury subpenas to about 200 persons involved in the election investigation , questioned the individuals in the Criminal courts building , but did not take them before the grand jury . Mayer Goldberg , attorney for election judges in the 58th precinct of the 23d ward , argued this procedure constituted intimidation . Wexler has denied repeatedly that coercion was used in questioning . Karns said it was a `` wrongful act '' for Wexler to take statements `` privately and outside of the grand jury room '' . He said this constituted a `` very serious misuse '' of the Criminal court processes . `` Actually , the abuse of the process may have constituted a contempt of the Criminal court of Cook county , altho vindication of the authority of that court is not the function of this court '' , said Karns , who is a City judge in East St. Louis sitting in Cook County court . Faced seven cases Karns had been scheduled this week to hear seven cases involving 35 persons . Wexler had charged the precinct judges in these cases with `` complementary '' miscount of the vote , in which votes would be taken from one candidate and given to another . The cases involved judges in the 33d , 24th , and 42d precincts of the 31st ward , the 21st and 28th precincts of the 29th ward , the 18th precinct of the 4th ward , and the 9th precinct of the 23d ward . The case of the judges in the 58th precinct of the 23d ward had been heard previously and taken under advisement by Karns . Two other cases also were under advisement . Claims precedent lacking After reading his statement discharging the 23d ward case , Karns told Wexler that if the seven cases scheduled for trial also involved persons who had been subpenaed , he would dismiss them . Washington , Feb. 9 -- President Kennedy today proposed a mammoth new medical care program whereby social security taxes on 70 million American workers would be raised to pay the hospital and some other medical bills of 14.2 million Americans over 65 who are covered by social security or railroad retirement programs . The President , in a special message to Congress , tied in with his aged care plan requests for large federal grants to finance medical and dental scholarships , build 20 new medical and 20 new dental schools , and expand child health care and general medical research . The aged care plan , similar to one the President sponsored last year as a senator , a fight on Capitol hill . It was defeated in Congress last year . Cost up to $37 a year It would be financed by boosting the social security payroll tax by as much as $37 a year for each of the workers now paying such taxes . The social security payroll tax is now 6 per cent -- 3 per cent on each worker and employer -- on the first $4,800 of pay per year . The Kennedy plan alone would boost the base to $5,000 a year and the payroll tax to 6.5 per cent -- 3.25 per cent each . Similar payroll tax boosts would be imposed on those under the railroad retirement system . The payroll tax would actually rise to 7.5 per cent starting Jan. 1 , 1963 , if the plan is approved , because the levy is already scheduled to go up by 1 per cent on that date to pay for other social security costs . Outlays would increase Officials estimated the annual tax boost for the medical plan would amount to 1.5 billion dollars and that medical benefits paid out would run 1 billion or more in the first year , 1963 . Both figures would go higher in later years . Other parts of the Kennedy health plan would entail federal grants of 750 million to 1 billion dollars over the next 10 years . These would be paid for out of general , not payroll , taxes . Nursing home care The aged care plan carries these benefits for persons over 65 who are under the social security and railroad retirement systems : 1 Full payment of hospital bills for stays up to 90 days for each illness , except that the patient would pay $10 a day of the cost for the first nine days . 2 Full payment of nursing home bills for up to 180 days following discharge from a hospital . A patient could receive up to 300 days paid-for nursing home care under a `` unit formula '' allowing more of such care for those who use none or only part of the hospital-care credit . 3 Hospital outpatient clinic diagnostic service for all costs in excess of $20 a patient . 4 Community visiting nurse services at home for up to 240 days an illness . The President noted that Congress last year passed a law providing grants to states to help pay medical bills of the needy aged . Calls proposal modest He said his plan is designed to `` meet the needs of those millions who have no wish to receive care at the taxpayers' expense , but who are nevertheless staggered by the drain on their savings -- or those of their children -- caused by an extended hospital stay '' . `` This is a very modest proposal cut to meet absolutely essential needs '' , he said , `` and with sufficient ' deductible ' requirements to discourage any malingering or unnecessary overcrowding of our hospitals . `` This is not a program of socialized medicine . It is a program of prepayment of health costs with absolute freedom of choice guaranteed . Every person will choose his own doctor and hospital '' . Wouldn't pay doctors The plan does not cover doctor bills . They would still be paid by the patient . Apart from the aged care plan the President's most ambitious and costly proposals were for federal scholarships , and grants to build or enlarge medical and dental schools . The President said the nation's 92 medical and 47 dental schools cannot now handle the student load needed to meet the rising need for health care . Moreover , he said , many qualified young people are not going into medicine and dentistry because they can't afford the schooling costs . Contributions to schools The scholarship plan would provide federal contributions to each medical and dental school equal to $1,500 a year for one-fourth of the first year students . The schools could use the money to pay 4-year scholarships , based on need , of up to $2,000 a year per student . In addition , the government would pay a $1,000 `` cost of education '' grant to the schools for each $1,500 in scholarship grants . Officials estimated the combined programs would cost 5.1 million dollars the first year and would go up to 21 millions by 1966 . The President recommended federal `` matching grants '' totaling 700 million dollars in 10 years for constructing new medical and dental schools or enlarging the capacity of existing ones . More for nursing homes In the area of `` community health services '' , the President called for doubling the present 10 million dollar a year federal grants for nursing home construction . He asked for another 10 million dollar `` initial '' appropriation for `` stimulatory grants '' to states to improve nursing homes . He further proposed grants of an unspecified sum for experimental hospitals . In the child health field , the President said he will recommend later an increase in funds for programs under the children's bureau . He also asked Congress to approve establishment of a national child health institute . Asks research funds The President said he will ask Congress to increase grants to states for vocational rehabilitation . He did not say by how much . For medical research he asked a 20 million dollar a year increase , from 30 to 50 millions , in matching grants for building research facilities . The President said he will also propose increasing , by an unspecified amount , the 540 million dollars in the 1961-62 budget for direct government research in medicine . The President said his proposals combine the `` indispensable elements in a sound health program -- people , knowledge , services , facilities , and the means to pay for them '' . Reaction as expected Congressional reaction to the message was along expected lines . Legislators who last year opposed placing aged-care under the social security system criticized the President's plan . Those who backed a similar plan last year hailed the message . Senate Republican Leader Dirksen ( Ill. ) and House Republican Leader Charles Halleck ( Ind. ) said the message did not persuade them to change their opposition to compulsory medical insurance . Halleck said the voluntary care plan enacted last year should be given a fair trial first . House Speaker Sam Rayburn ( D. , Tex. ) called the Kennedy program `` a mighty fine thing '' , but made no prediction on its fate in the House . Washington , Feb. 9 -- Acting hastily under White House pressure , the Senate tonight confirmed Robert C. Weaver as the nation's federal housing chief . Only 11 senators were on the floor and there was no record vote . A number of scattered `` ayes '' and `` noes '' was heard . Customary Senate rules were ignored in order to speed approval of the Negro leader as administrator of the housing and home finance agency . In the last eight years , all Presidential appointments , including those of cabinet rank , have been denied immediate action because of a Senate rule requiring at least a 24 hour delay after they are reported to the floor . Enforce by demand The rule was enforced by demand of Sen. Wayne Morse ( D. , Ore. ) in connection with President Eisenhower's cabinet selections in 1953 and President Kennedy's in 1961 . Oslo The most positive element to emerge from the Oslo meeting of North Atlantic Treaty Organization Foreign Ministers has been the freer , franker , and wider discussions , animated by much better mutual understanding than in past meetings . This has been a working session of an organization that , by its very nature , can only proceed along its route step by step and without dramatic changes . In Oslo , the ministers have met in a climate of candor , and made a genuine attempt to get information and understanding one another's problems . This atmosphere of understanding has been particularly noticeable where relations are concerned between the `` colonialist '' powers and those who have never , or not for a long time , had such problems . The nightmare of a clash between those in trouble in Africa , exacerbated by the difficulties , changes , and tragedies facing them , and other allies who intellectually and emotionally disapprove of the circumstances that have brought these troubles about , has been conspicuous by its absence . Explosion avoided In the case of Portugal , which a few weeks ago was rumored ready to walk out of the NATO Council should critics of its Angola policy prove harsh , there has been a noticeable relaxation of tension . The general , remarkably courteous , explanation has left basic positions unchanged , but there has been no explosion in the council . There should even be no more bitter surprises in the UN General Assembly as to NATO members' votes , since a new ad hoc NATO committee has been set up so that in the future such topics as Angola will be discussed in advance . Canada alone has been somewhat out of step with the Oslo attempt to get all the allied cars back on the track behind the NATO locomotive . Even Norway , despite daily but limited manifestations against atomic arms in the heart of this northernmost capital of the alliance , is today closer to the NATO line . On the negative side of the balance sheet must be set some disappointment that the United States leadership has not been as much in evidence as hoped for . One diplomat described the tenor of Secretary of State Dean Rusk's speeches as `` inconclusive '' . But he hastened to add that , if United States policies were not always clear , despite Mr. Rusk's analysis of the various global danger points and setbacks for the West , this may merely mean the new administration has not yet firmly fixed its policy . Exploratory mood A certain vagueness may also be caused by tactical appreciation of the fact that the present council meeting is a semipublic affair , with no fewer than six Soviet correspondents accredited . The impression has nevertheless been given during these three days , despite Mr. Rusk's personal popularity , that the United States delegation came to Oslo in a somewhat tentative and exploratory frame of mind , more ready to listen and learn than to enunciate firm policy on a global scale with detailed application to individual danger spots . The Secretary of State himself , in his first speech , gave some idea of the tremendous march of events inside and outside the United States that has preoccupied the new administration in the past four months . But where the core of NATO is concerned , the Secretary of State has not only reiterated the United States' profound attachment to the alliance , `` cornerstone '' of its foreign policy , but has announced that five nuclear submarines will eventually be at NATO's disposal in European waters . The Secretary of State has also solemnly repeated a warning to the Soviet Union that the United States will not stand for another setback in Berlin , an affirmation once again taken up by the council as a whole . Conflict surveyed The secretary's greatest achievement is perhaps the rekindling of NATO realization that East-West friction , wherever it take place around the globe , is in essence the general conflict between two entirely different societies , and must be treated as such without regard to geographical distance or lack of apparent connection . The annual spring meeting has given an impetus in three main directions : more , deeper , and more timely political consultation within the alliance , the use of the Organization for Economic Cooperation and Development ( when ratified ) as a method of coordinating aid to the underdeveloped countries , and the need for strengthening conventional forces as well as the maintenance of the nuclear deterrent . This increase in the `` threshold '' , as the conventional forces strengthening is called , will prove one of the alliance's most difficult problems in the months to come . Each ally will have to carry out obligations long since laid down , but never completely fulfilled . Washington The Kennedy administration moves haltingly toward a Geneva conference on Laos just as serious debate over its foreign policy erupts for the first time . There is little optimism here that the Communists will be any more docile at the conference table than they were in military actions on the ground in Laos . The United States , State Department officials explain , now is mainly interested in setting up an international inspection system which will prevent Laos from being used as a base for Communist attacks on neighboring Thailand and South Viet Nam . They count on the aid of the neutral countries attending the Geneva conference to achieve this . The United States hopes that any future Lao Cabinet would not become Communist dominated . But it is apparent that no acceptable formula has been found to prevent such a possibility . Policies modified The inclination here is to accept a de facto cease-fire in Laos , rather than continue to insist on a verification of the cease-fire by the international control commission before participating in the Geneva conference . This is another of the modifications of policy on Laos that the Kennedy administration has felt compelled to make . It excuses these actions as being the chain reaction to basic errors made in the previous administration . Its spokesmen insist that there has not been time enough to institute reforms in military and economic aid policies in the critical areas . But with the months moving on -- and the immediate confrontations with the Communists showing no gain for the free world -- the question arises : How effective have Kennedy administration first foreign policy decisions been in dealing with Communist aggression ? ? Former Vice-President Richard M. Nixon in Detroit called for a firmer and tougher policy toward the Soviet Union . He was critical of what he feels is President Kennedy's tendency to be too conciliatory . GOP restrained It does not take a Gallup poll to find out that most Republicans in Congress feel this understates the situation as Republicans see it . They can hardly restrain themselves from raising the question of whether Republicans , if they had been in power , would have made `` amateurish and monumental blunders '' in Cuba . One Republican senator told this correspondent that he was constantly being asked why he didn't attack the Kennedy administration on this score . His reply , he said , was that he agreed to the need for unity in the country now . But he further said that it was better politics to let others question the wisdom of administration policies first . The Republicans some weeks ago served notice through Senator Thruston B. Morton ( R ) of Kentucky , chairman of the Republican National Committee , that the Kennedy administration would be held responsible if the outcome in Laos was a coalition government susceptible of Communist domination . Kennedy administration policies also have been assailed now from another direction by 70 Harvard , Boston University , Brandeis , and Massachusetts Institute of Technology educators . Detente urged This group pleads with the administration to `` give no further support for the invasion of Cuba by exile groups '' . It recommends that the United States `` seek instead to detach the Castro regime from the Communist bloc by working for a diplomatic detente and a resumption of trade relations ; ; and concentrate its constructive efforts on eliminating in other parts of Latin America the social conditions on which totalitarian nationalism feeds '' . Mr. Nixon , for his part , would oppose intervention in Cuba without specific provocation . But he did recommend that President Kennedy state clearly that if Communist countries shipped any further arms to Cuba that it would not be tolerated . Until the Cuban fiasco and the Communist military victories in Laos , almost any observer would have said that President Kennedy had blended a program that respected , generally , the opinions voiced both by Mr. Nixon and the professors . Aid plans revamped Very early in his administration he informed the Kremlin through diplomatic channels , a high official source disclosed , that the new administration would react even tougher than the Eisenhower administration would during the formative period of the administration . Strenuous efforts were made to remove pin pricking from administration statements . Policies on nuclear test ban negotiations were reviewed and changed . But thus far there has been no response in kind . Foreign aid programs were revamped to give greater emphasis to economic aid and to encourage political reform in recipient nations . In Laos , the administration looked at the Eisenhower administration efforts to show determination by sailing a naval fleet into Southeast Asian waters as a useless gesture . Again and again it asked the Communists to `` freeze '' the military situation in Laos . But the Communists aided the Pathet Lao at an even faster rate . And after several correspondents went into Pathet Lao territory and exposed the huge build-up , administration spokesmen acclaimed them for performing a `` great service '' and laid the matter before the Southeast Asia Treaty Organization . SEATO was steamed up and prepared contingency plans for coping with the military losses in Laos . But the Communists never gave sufficient provocation at any one time for the United States to want to risk a limited or an all-out war over Laos . ( Some SEATO nations disagreed , however . ) There was the further complication that the administration had very early concluded that Laos was ill suited to be an ally , unlike its more determined neighbors , Thailand and South Viet Nam . The administration declared itself in favor of a neutralized Laos . The pro-Western government , which the United States had helped in a revolt against the Souvanna Phouma `` neutralist '' government , never did appear to spark much fighting spirit in the Royal Lao Army . There certainly was not any more energy displayed after it was clear the United States would not back the pro-Western government to the hilt . If the administration ever had any ideas that it could find an acceptable alternative to Prince Souvanna Phouma , whom it felt was too trusting of Communists , it gradually had to relinquish them . One factor was the statement of Senator J. W. Fulbright ( D ) of Arkansas , chairman of the Senate Foreign Relations Committee . He declared on March 25 that the United States had erred a year and a half ago by `` encouraging the removal '' of Prince Souvanna . Washington The White House is taking extraordinary steps to check the rapid growth of juvenile delinquency in the United States . The President is deeply concerned over this problem and its effect upon the `` vitality of the nation '' . In an important assertion of national leadership in this field , he has issued an executive order establishing the President's committee on Juvenile Delinquency and Crime , to be supported and assisted by a Citizens Advisory Council of recognized authorities on juvenile problems . The President asks the support and cooperation of Congress in his efforts through the enactment of legislation to provide federal grants to states for specified efforts in combating this disturbing crime trend . Offenses multiply The President has also called upon the Attorney General , the Secretary of Health , Education and Welfare , and the Secretary of Labor to coordinate their efforts `` in the development of a program of federal leadership to assist states and local communities in their efforts to cope with the problem . Simultaneously the President announced Thursday the appointment of David L. Hackett , a special assistant to the Attorney General , as executive director of the new Committee on Juvenile Delinquency and Youth Crime . His sense of urgency in this matter stems from the fact that court cases and juvenile arrests have more than doubled since 1948 , each year showing an increase in offenders . Among arrests reported by the Federal Bureau of Investigation in 1959 , about half for burglary and larceny involved persons under 18 years of age . East Providence should organize its civil defense setup and begin by appointing a full-time director , Raymond H. Hawksley , the present city CD head , believes . Mr. Hawksley said yesterday he would be willing to go before the city council `` or anyone else locally '' to outline his proposal at the earliest possible time . East Providence now has no civil defense program . Mr. Hawksley , the state's general treasurer , has been a part-time CD director in the city for the last nine years . He is not interested in being named a full-time director . Noting that President Kennedy has handed the Defense Department the major responsibility for the nation's civil defense program , Mr. Hawksley said the federal government would pay half the salary of a full-time local director . He expressed the opinion the city could hire a CD director for about $3,500 a year and would only have to put up half that amount on a matching fund basis to defray the salary costs . Mr. Hawksley said he believed there are a number of qualified city residents who would be willing to take the full-time CD job . One of these men is former Fire Chief John A. Laughlin , he said . Along with a director , the city should provide a CD headquarters so that pertinent information about the local organization would be centralized . Mr. Hawksley said . One advantage that would come to the city in having a full-time director , he said , is that East Providence would become eligible to apply to the federal government for financial aid in purchasing equipment needed for a sound civil defense program . Matching funds also can be obtained for procurement of such items as radios , sirens and rescue trucks , he said . Mr. Hawksley believes that East Providence could use two more rescue trucks , similar to the CD vehicle obtained several years ago and now detailed to the Central Fire Station . He would assign one of the rescue trucks to the Riverside section of the city and the other to the Rumford area . Speaking of the present status of civil defense in the city , Mr. Hawksley said he would be willing to bet that not more than one person in a hundred would know what to do or where to go in the event of an enemy attack . The Narragansett Race Track grounds is one assembly point , he said , and a drive-in theater in Seekonk would be another . Riverside residents would go to the Seekonk assembly point . Mr. Hawksley said he was not critical of city residents for not knowing what to do or where to assemble in case of an air attack . Such vital information , he said , has to be made available to the public frequently and at regular intervals for residents to know . If the city council fails to consider appointment of a full-time CD director , Mr. Hawksley said , then he plans to call a meeting early in September so that a civil defense organization will be developed locally . One of the first things he would do , he said , would be to organize classes in first aid . Other steps would be developed after information drifts down to the local level from the federal government . Rhode Island is going to examine its Sunday sales law with possible revisions in mind . Governor Notte said last night he plans to name a committee to make the study and come up with recommendations for possible changes in time for the next session of the General Assembly . The governor's move into the so-called `` blue law '' controversy came in the form of a letter to Miss Mary R. Grant , deputy city clerk of Central Falls . A copy was released to the press . Mr. Notte was responding to a resolution adopted by the Central Falls City Council on July 10 and sent to the state house by Miss Grant . The resolution urges the governor to have a complete study of the Sunday sales laws made with an eye to their revision at the next session of the legislature . While the city council suggested that the Legislative Council might perform the review , Mr. Notte said that instead he will take up the matter with Atty. Gen. J. Joseph Nugent to get `` the benefit of his views '' . He will then appoint the study committee with Mr. Nugent's cooperation , the governor said . `` I would expect the proposed committee to hold public hearings '' , Mr. Notte said , `` to obtain the views of the general public and religious , labor and special-interest groups affected by these laws '' . The governor wrote Miss Grant that he has been concerned for some time `` with the continuous problem which confronts our local and state law enforcement officers as a result of the laws regulating Sunday sales '' . The attorney general has advised local police that it is their duty to enforce the blue laws . Should there be evidence they are shirking , he has said , the state police will step into the situation . There has been more activity across the state line in Massachusetts than in Rhode Island in recent weeks toward enforcement of the Sunday sales laws . The statutes , similar in both the Bay State and Rhode Island and dating back in some instances to colonial times , severely limit the types of merchandise that may be sold on the Sabbath . The Central Falls City Council expressed concern especially that more foods be placed on the eligible list and that neighborhood grocery and variety stores be allowed to do business on Sunday . The only day they `` have a chance to compete with large supermarkets is on Sunday '' , the council's resolution said . The small shops `` must be retained , for they provide essential service to the community '' , according to the resolution , which added that they `` also are the source of livelihood for thousands of our neighbors '' . It declares that Sunday sales licenses provide `` great revenue '' to the local government . The council advised the governor that `` large supermarkets , factory outlets and department stores not be allowed to do business '' on Sunday . They `` operate on a volume basis '' , it was contended , `` and are not essential to provide the more limited but vital shopping needs of the community '' . Liberals and conservatives in both parties -- Democratic and Republican -- should divorce themselves and form two independent parties , George H. Reama , nationally known labor-management expert , said here yesterday . Mr. Reama told the Rotary Club of Providence at its luncheon at the Sheraton-Biltmore Hotel that about half of the people in the country want the `` welfare '' type of government and the other half want a free enterprise system . He suggested that a regrouping of forces might allow the average voter a better pull at the right lever for him on election day . He said he was `` confessing that I was a member of the Socialist Party in 1910 '' . That , he added , was when he was `` a very young man , a machinist and toolmaker by trade . `` That was before I studied law . Some of my fellow workers were grooming me for an office in the Socialist Party . The lawyer with whom I studied law steered me off the Socialist track . He steered me to the right track -- the free enterprise track '' . He said that when he was a Socialist in 1910 , the party called for government operation of all utilities and the pooling of all resources . He suggested that without the Socialist Party ever gaining a national victory , most of its original program has come to pass under both major parties . Mr. Reama , who retired as vice president of the American Screw Co. in 1955 said , `` Both parties in the last election told us that we need a five per cent growth in the gross national product -- but neither told us how to achieve it '' . He said he favors wage increases for workers -- `` but manufacturers are caught in a profit squeeze '' -- and raises should only come when the public is conditioned to higher prices , he added . Indicating the way in which he has turned his back on his 1910 philosophy , Mr. Reama said : `` A Socialist is a person who believes in dividing everything he does not own '' . Mr. Reama , far from really being retired , is engaged in industrial relations counseling . A petition bearing the signatures of more than 1,700 Johnston taxpayers was presented to the town council last night as what is hoped will be the first step in obtaining a home rule charter for the town . William A. Martinelli , chairman of the Citizens Group of Johnston , transferred the petitions from his left hand to his right hand after the council voted to accept them at the suggestion of Council President Raymond Fortin Sr. . The law which governs home rule charter petitions states that they must be referred to the chairman of the board of canvassers for verification of the signatures within 10 days and Mr. Martinelli happens to hold that post . Mr. Martinelli explained that there should be more than enough signatures to assure the scheduling of a vote on the home rule charter and possible election of a nine member charter commission within 70 days . He explained that by law the council must establish procedures for a vote on the issue within 60 days after the board of canvassers completes its work . A difference of opinion arose between Mr. Martinelli and John P. Bourcier , town solicitor , over the exact manner in which the vote is handled . Mr. Martinelli has , in recent weeks , been of the opinion that a special town meeting would be called for the vote , while Mr. Bourcier said that a special election might be called instead . Mr. Bourcier said that he had consulted several Superior Court justices in the last week and received opinions favoring both procedures . He assured Mr. Martinelli and the council that he would study the correct method and report back to the council as soon as possible . Mr. Martinelli said yesterday that the Citizens Group of Johnston will meet again July 24 to plan further strategy in the charter movement . He said that the group has no candidates for the charter commission in mind at present , but that it will undoubtedly endorse candidates when the time comes . `` After inspiring this , I think we should certainly follow through on it '' , he declared . `` It has become our responsibility and I hope that the Citizens Group will spearhead the movement '' . He said he would not be surprised if some of the more than 30 members of the group are interested in running on the required non-partisan ballot for posts on the charter commission . `` Our most immediate goal is to increase public awareness of the movement '' , he indicated , `` and to tell them what this will mean for the town '' . He expects that if the present timetable is followed a vote will be scheduled during the last week in September . Some opposition to the home rule movement started to be heard yesterday , with spokesmen for the town's insurgent Democratic leadership speaking out against the home rule charter in favor of the model municipal league charter . Increasing opposition can be expected in coming weeks , it was indicated . Misunderstanding of the real meaning of a home rule charter was cited as a factor which has caused the Citizens Group to obtain signatures under what were termed `` false pretenses '' . Several signers affixed their names , it was learned , after being told that no tax increase would be possible without consent of the General Assembly and that a provision could be included in the charter to have the town take over the Johnston Sanitary District sewer system . Action on a new ordinance permitting motorists who plead guilty to minor traffic offenses to pay fines at the local police station may be taken at Monday's special North Providence Town Council meeting . Council president Frank SanAntonio said yesterday he may ask the council to formally request Town Solicitor Michael A. Abatuno to draft the ordinance . At the last session of the General Assembly , the town was authorized to adopt such an ordinance as a means of making enforcement of minor offenses more effective . Nothing has been done yet to take advantage of the enabling legislation . At present all offenses must be taken to Sixth District Court for disposition . Local police have hesitated to prosecute them because of the heavy court costs involved even for the simplest offense . Plainfield -- James P. Mitchell and Sen. Walter H. Jones R-Bergen , last night disagreed on the value of using as a campaign issue a remark by Richard J. Hughes , Democratic gubernatorial candidate , that the GOP is `` Campaigning on the carcass of Eisenhower Republicanism '' . Mitchell was for using it , Jones against , and Sen. Wayne Dumont Jr. R-Warren did not mention it when the three Republican gubernatorial candidates spoke at staggered intervals before 100 persons at the Park Hotel . The controversial remark was first made Sunday by Hughes at a Westfield Young Democratic Club cocktail party at the Scotch Plains Country Club . It was greeted with a chorus of boos by 500 women in Trenton Monday at a forum of the State Federation of Women's Clubs . Hughes said Monday , `` It is the apparent intention of the Republican Party to campaign on the carcass of what they call Eisenhower Republicanism , but the heart stopped beating and the lifeblood congealed after Eisenhower retired . Now he's gone , the Republican Party is not going to be able to sell the tattered remains to the people of the state '' . Sunday he had added , `` We can love Eisenhower the man , even if we considered him a mediocre president but there is nothing left of the Republican Party without his leadership '' . Mitchell said the statement should become a major issue in the primary and the fall campaign . `` How can a man with any degree of common decency charge this '' ? ? He asked . The former secretary of labor said he was proud to be an Eisenhower Republican `` and proud to have absorbed his philosophy '' while working in his adminstration . Mitchell said the closeness of the outcome in last fall's Presidential election did not mean that Eisenhower Republicanism was a dead issue . Regrets attack Jones said he regretted Hughes had made a personal attack on a past president . `` He is wrong to inject Eisenhower into this campaign '' , he said , `` because the primary is being waged on state issues and I will not be forced into re-arguing an old national campaign '' . The audience last night did not respond with either applause or boos to mention of Hughes' remark . Dumont spoke on the merit of having an open primary . He then launched into what the issues should be in the campaign . State aid to schools , the continuance of railroad passenger service , the proper uses of surplus funds of the Port of New York Authority , and making New Jersey attractive to new industry . Decries joblessness Mitchell decried the high rate of unemployment in the state and said the Meyner administration and the Republican-controlled State Senate `` Must share the blame for this '' . Noting that Plainfield last year had lost the Mack Truck Co. plant , he said industry will not come into this state until there is tax reform . `` But I am not in favor of a sales or state income tax at this time '' , Mitchell said . Jones , unhappy that the candidates were limited to eight minutes for a speech and no audience questions , saved his barbs for Mitchell . He said Mitchell is against the centralization of government in Washington but looks to the Kennedy Administration for aid to meet New Jersey school and transportation crises . `` He calls for help while saying he is against centralization , but you can't have it both ways '' , Jones said . The state is now faced with the immediate question of raising new taxes whether on utilities , real estate or motor vehicles , he said , `` and I challenge Mitchell to tell the people where he stands on the tax issue '' . Defends Ike Earlier , Mitchell said in a statement : `` I think that all Americans will resent deeply the statements made about President Eisenhower by Richard J. Hughes . His reference to ' discredited carcass ' or ' tattered remains ' of the president's leadership is an insult to the man who led our forces to victory in the greatest war in all history , to the man who was twice elected overwhelmingly by the American people as president of the United States , and who\""
            ],
            "application/vnd.google.colaboratory.intrinsic+json": {
              "type": "string"
            }
          },
          "metadata": {},
          "execution_count": 42
        }
      ]
    },
    {
      "cell_type": "code",
      "source": [
        "# 각 청크에 있는 단어의 개수를 정의\n",
        "chunk_size = 700\n",
        "# 입력 텍스트를 청크로 분할하고 결과를 표시\n",
        "chunks = chucker(input_data, chunk_size)\n",
        "print(len(chunks))\n",
        "for idx, chunk in enumerate(chunks):\n",
        "  print(f\"chunk {idx+1} ==> {chunk[:50]}\")"
      ],
      "metadata": {
        "colab": {
          "base_uri": "https://localhost:8080/"
        },
        "id": "17xfl2s0JSvv",
        "outputId": "d9473262-cdcd-432e-86d9-07471b8ce045"
      },
      "execution_count": null,
      "outputs": [
        {
          "output_type": "stream",
          "name": "stdout",
          "text": [
            "18\n",
            "chunk 1 ==> The Fulton County Grand Jury said Friday an invest\n",
            "chunk 2 ==> '' . ( 2 ) Fulton legislators `` work with city of\n",
            "chunk 3 ==> . Construction bonds Meanwhile , it was learned th\n",
            "chunk 4 ==> , anonymous midnight phone calls and veiled threat\n",
            "chunk 5 ==> Harris , Bexar , Tarrant and El Paso would be $451\n",
            "chunk 6 ==> set it for public hearing on Feb. 22 . The proposa\n",
            "chunk 7 ==> College . He has served as a border patrolman and \n",
            "chunk 8 ==> of his staff were doing on the address involved co\n",
            "chunk 9 ==> plan alone would boost the base to $5,000 a year a\n",
            "chunk 10 ==> nursing homes In the area of `` community health s\n",
            "chunk 11 ==> of its Angola policy prove harsh , there has been \n",
            "chunk 12 ==> system which will prevent Laos from being used as \n",
            "chunk 13 ==> reform in recipient nations . In Laos , the admini\n",
            "chunk 14 ==> . He is not interested in being named a full-time \n",
            "chunk 15 ==> said , `` to obtain the views of the general publi\n",
            "chunk 16 ==> '' . Mr. Reama , far from really being retired , i\n",
            "chunk 17 ==> making enforcement of minor offenses more effectiv\n",
            "chunk 18 ==> to tell the people where he stands on the tax issu\n"
          ]
        }
      ]
    },
    {
      "cell_type": "markdown",
      "source": [
        "단어 빈도수 추출하기\n",
        "  - Bag of Words model\n",
        "    - 문서에 있는 모든 단어의 어휘를 추출하고 행렬형태로 변환    "
      ],
      "metadata": {
        "id": "-6-q3o_PKZPw"
      }
    },
    {
      "cell_type": "code",
      "source": [
        "#1 The children are playing in the hall\n",
        "#2 The hall has a lot  of space\n",
        "#3 Lots of childeren like playing in an open space"
      ],
      "metadata": {
        "id": "Jco22VvgKWPi"
      },
      "execution_count": null,
      "outputs": []
    },
    {
      "cell_type": "code",
      "source": [
        "# 고유한 단어 14개가 있음 그래서 특성벡터는 14차원\n",
        "# 1 : [2,1,0,0,0,0,0,0,0,0,0,0,0] \n",
        "# 1 : [1,0,0,0,0,0,0,0,0,0,0,0,0] \n",
        "# 1 : [0,1,0,0,0,0,0,0,0,0,0,0,0] "
      ],
      "metadata": {
        "id": "oDkzwPQ2J-jT"
      },
      "execution_count": null,
      "outputs": []
    },
    {
      "cell_type": "code",
      "source": [
        "import numpy as np\n",
        "from sklearn.feature_extraction.text import CountVectorizer\n",
        "from nltk.corpus import brown"
      ],
      "metadata": {
        "id": "38XdaE94O_JM"
      },
      "execution_count": null,
      "outputs": []
    },
    {
      "cell_type": "code",
      "source": [
        "# 브라운 말뭉치에서 입력데이터를 읽어온다.\n",
        "input_data = ' '.join(brown.words()[:5400])\n",
        "# 각 청크의 단어 개수\n",
        "chunck_size = 800\n",
        "# 입력 텍스트를 청크로 분할\n",
        "text_chunks = chucker(input_data,chunck_size)"
      ],
      "metadata": {
        "id": "LKZxO3OaPGwI"
      },
      "execution_count": null,
      "outputs": []
    },
    {
      "cell_type": "code",
      "source": [
        "# 청크를 딕셔너리로 변환\n",
        "chunks = []\n",
        "for count,chunk in enumerate(text_chunks):\n",
        "  d = {'index':count, 'text':chunk}\n",
        "  chunks.append(d)"
      ],
      "metadata": {
        "id": "-G-0_5vJQC-R"
      },
      "execution_count": null,
      "outputs": []
    },
    {
      "cell_type": "code",
      "source": [
        "# 각 단어의 개수를 구하는 CounterVectroize를 사용\n",
        "# 매개변수 : 최소 문서 빈도수, 최대 문서 빈도수\n",
        "# 문서-용어 행렬\n",
        "count_vectorzier =  CountVectorizer(min_df=7,max_df=20)\n",
        "document_term_matrix =  count_vectorzier.fit_transform([chunk['text'] for chunk in chunks] )"
      ],
      "metadata": {
        "id": "nFY8xn-mQFgg"
      },
      "execution_count": null,
      "outputs": []
    },
    {
      "cell_type": "code",
      "source": [
        "# 어휘추출 : 단어목록과 비슷\n",
        "vocabulary = np.array(count_vectorzier.get_feature_names_out())\n",
        "vocabulary"
      ],
      "metadata": {
        "colab": {
          "base_uri": "https://localhost:8080/"
        },
        "id": "GTdOm8gGQfUw",
        "outputId": "89a216d3-c5fd-4e72-c1f1-7a9d7d63c916"
      },
      "execution_count": null,
      "outputs": [
        {
          "output_type": "execute_result",
          "data": {
            "text/plain": [
              "array(['and', 'are', 'be', 'by', 'county', 'for', 'in', 'is', 'it', 'of',\n",
              "       'on', 'one', 'said', 'state', 'that', 'the', 'to', 'two', 'was',\n",
              "       'which', 'with'], dtype=object)"
            ]
          },
          "metadata": {},
          "execution_count": 66
        }
      ]
    },
    {
      "cell_type": "code",
      "source": [
        "chunk_names = []\n",
        "for i in range(len(text_chunks)):\n",
        "  chunk_names.append('Chunk-'+str(i+1))\n",
        "\n",
        "  #문서-용어 행렬 출력\n",
        "formatted_text = '{:12}' * (len(chunk_names)+1)\n",
        "print(f\"{formatted_text.format('Word', *chunk_names)}\\n\")\n",
        "for word,item in zip(vocabulary,document_term_matrix.T):\n",
        "  output = [word] + [str(freq) for freq in item.data]\n",
        "  print(formatted_text.format(*output))\n"
      ],
      "metadata": {
        "colab": {
          "base_uri": "https://localhost:8080/"
        },
        "id": "wSjmZQjnSErR",
        "outputId": "a9e7ec11-20d1-4c58-deef-5937a9b4be32"
      },
      "execution_count": null,
      "outputs": [
        {
          "output_type": "stream",
          "name": "stdout",
          "text": [
            "Word        Chunk-1     Chunk-2     Chunk-3     Chunk-4     Chunk-5     Chunk-6     Chunk-7     \n",
            "\n",
            "and         23          9           9           11          9           17          10          \n",
            "are         2           2           1           1           2           2           1           \n",
            "be          6           8           7           7           6           2           1           \n",
            "by          3           4           4           5           14          3           6           \n",
            "county      6           2           7           3           1           2           2           \n",
            "for         7           13          4           10          7           6           4           \n",
            "in          15          11          15          11          13          14          17          \n",
            "is          2           7           3           4           5           5           2           \n",
            "it          8           6           8           9           3           1           2           \n",
            "of          31          20          20          30          29          35          26          \n",
            "on          4           3           5           10          6           5           2           \n",
            "one         1           3           1           2           2           1           1           \n",
            "said        12          5           7           7           4           3           7           \n",
            "state       3           7           2           6           3           4           1           \n",
            "that        13          8           9           2           7           1           7           \n",
            "the         71          51          43          51          43          52          49          \n",
            "to          11          26          20          26          21          15          11          \n",
            "two         2           1           1           1           1           2           2           \n",
            "was         5           6           7           7           4           7           3           \n",
            "which       7           4           5           4           3           1           1           \n",
            "with        2           2           3           1           2           2           3           \n"
          ]
        }
      ]
    },
    {
      "cell_type": "markdown",
      "source": [
        "위에서 시각화 한 모델-용어 행렬을 기반으로 예측\n",
        "카테고리 예측기\n",
        "   - 텍스트가 속한 카테고리를 예측\n",
        "   - 텍스트 분류에 자주 사용\n",
        "   - 검색엔진\n",
        "   - TF-IDF(Term Frequency-Inverse Document Frequency) 지표를 사용\n",
        "      - 문서세트 에서 주어진 문서내의 단어가 얼마나 중요한지 판단\n",
        "      - TF : 빈도, 문서마다 단어개수가 다름 고정성을 위해서 정규화 각 단어개수를 문서내 총 단어개수로 나눈다\n",
        "      - IDF : 단어가 문서세트내 문서에서 얼마나 고유한지\n",
        "        - 모든 단어는 중요성이 같다고 가정  "
      ],
      "metadata": {
        "id": "_Q186qpZUatN"
      }
    },
    {
      "cell_type": "code",
      "source": [
        "from sklearn.datasets import fetch_20newsgroups\n",
        "from sklearn.naive_bayes import MultinomialNB\n",
        "from sklearn.feature_extraction.text import TfidfTransformer, CountVectorizer"
      ],
      "metadata": {
        "id": "59uNO-5BTlfZ"
      },
      "execution_count": null,
      "outputs": []
    },
    {
      "cell_type": "code",
      "source": [
        "# 카테고리 구분하는 맵\n",
        "category_map = {'talk.politics.misc': 'Politics', \n",
        "                'rec.autos': 'Autos', \n",
        "                'rec.sport.hockey': 'Hockey', \n",
        "                'sci.electronics': 'Electronics', \n",
        "                'sci.med': 'Medicine'}"
      ],
      "metadata": {
        "id": "FSEJytoqWNzS"
      },
      "execution_count": null,
      "outputs": []
    },
    {
      "cell_type": "code",
      "source": [
        "# 텍스트 데이터 로드\n",
        "training_data =  fetch_20newsgroups(subset='train', categories=category_map.keys(), shuffle=True, random_state=45)"
      ],
      "metadata": {
        "id": "nMiQaWpHWOM7"
      },
      "execution_count": null,
      "outputs": []
    },
    {
      "cell_type": "code",
      "source": [
        "# CounterVectorizer를 사용해서 용어 개수 추출\n",
        "count_vectorizer =  CountVectorizer()\n",
        "train_tc =  count_vectorizer.fit_transform(training_data.data)\n",
        "train_tc.shape"
      ],
      "metadata": {
        "colab": {
          "base_uri": "https://localhost:8080/"
        },
        "id": "yeqFJmy_XX4S",
        "outputId": "cfbb9d03-ba82-41da-b75a-9dfe8d789dec"
      },
      "execution_count": null,
      "outputs": [
        {
          "output_type": "execute_result",
          "data": {
            "text/plain": [
              "(2844, 40321)"
            ]
          },
          "metadata": {},
          "execution_count": 91
        }
      ]
    },
    {
      "cell_type": "code",
      "source": [
        "# TF-IDF 변환기 생성\n",
        "tfid = TfidfTransformer()\n",
        "train_tfid = tfid.fit_transform(train_tc)"
      ],
      "metadata": {
        "id": "qLn0au7LaZoc"
      },
      "execution_count": null,
      "outputs": []
    },
    {
      "cell_type": "code",
      "source": [
        "# 카테고리가 다항.... 그래서 다항 분류기 나이브 베이즈 훈련용 데이터로 학습\n",
        "classifier =  MultinomialNB().fit(train_tfid,training_data.target)"
      ],
      "metadata": {
        "id": "jUv_KptXbZf0"
      },
      "execution_count": null,
      "outputs": []
    },
    {
      "cell_type": "code",
      "source": [
        "# 테스트 데이터\n",
        "input_data = [\n",
        "    'You need to be careful with cars when you are driving on slippery roads', \n",
        "    'A lot of devices can be operated wirelessly',\n",
        "    'Players need to be careful when they are close to goal posts',\n",
        "    'Political debates help us understand the perspectives of both sides'\n",
        "]\n",
        "# 테스트데이터를 변환\n",
        "input_tc =  count_vectorizer.transform(input_data)\n",
        "# TF-IDF 변환\n",
        "input_tfidf =  tfid.transform(input_tc)"
      ],
      "metadata": {
        "id": "1UISRkZobP81"
      },
      "execution_count": null,
      "outputs": []
    },
    {
      "cell_type": "code",
      "source": [
        "# 예측\n",
        "predictions =  classifier.predict(input_tfidf)"
      ],
      "metadata": {
        "id": "cBC1eiudbt97"
      },
      "execution_count": null,
      "outputs": []
    },
    {
      "cell_type": "code",
      "source": [
        "predictions, training_data.target"
      ],
      "metadata": {
        "colab": {
          "base_uri": "https://localhost:8080/"
        },
        "id": "8hp9kFFlcxjx",
        "outputId": "81b5a15b-e6db-4f62-d593-d0959fbb5c79"
      },
      "execution_count": null,
      "outputs": [
        {
          "output_type": "execute_result",
          "data": {
            "text/plain": [
              "(array([0, 2, 1, 4]), array([0, 4, 2, ..., 0, 1, 3]))"
            ]
          },
          "metadata": {},
          "execution_count": 99
        }
      ]
    },
    {
      "cell_type": "code",
      "source": [
        "# 결과 출력\n",
        "for sent,category in  zip(input_data, predictions):\n",
        "  print(f\"input:{sent}\\nPredicted:{category} {category_map[training_data.target_names[category]]}\")"
      ],
      "metadata": {
        "colab": {
          "base_uri": "https://localhost:8080/"
        },
        "id": "BWA7WUfhclpy",
        "outputId": "a55e1e84-a7dd-4fea-9136-69de7d93fbe8"
      },
      "execution_count": null,
      "outputs": [
        {
          "output_type": "stream",
          "name": "stdout",
          "text": [
            "input:You need to be careful with cars when you are driving on slippery roads\n",
            "Predicted:0 Autos\n",
            "input:A lot of devices can be operated wirelessly\n",
            "Predicted:2 Electronics\n",
            "input:Players need to be careful when they are close to goal posts\n",
            "Predicted:1 Hockey\n",
            "input:Political debates help us understand the perspectives of both sides\n",
            "Predicted:4 Politics\n"
          ]
        }
      ]
    },
    {
      "cell_type": "markdown",
      "source": [
        "이름으로  성별을 분류"
      ],
      "metadata": {
        "id": "-PBiomgpdbcr"
      }
    },
    {
      "cell_type": "code",
      "source": [
        "import random\n",
        "from nltk import NaiveBayesClassifier\n",
        "from nltk.classify import accuracy as nltk_accuracy\n",
        "from nltk.corpus import names  # nltk.download('names')"
      ],
      "metadata": {
        "id": "Rxz4JUASdQN_"
      },
      "execution_count": null,
      "outputs": []
    },
    {
      "cell_type": "code",
      "source": [
        "# 입력한 단어의 마지막 n개의 문자를 추출하는 함수\n",
        "def extract_features(word, n=2):\n",
        "  last_n_letters = word[-n:]\n",
        "  return {'feature' : last_n_letters.lower()}"
      ],
      "metadata": {
        "id": "U9U5CgFyedtD"
      },
      "execution_count": null,
      "outputs": []
    },
    {
      "cell_type": "code",
      "source": [
        "import nltk\n",
        "nltk.download('names')"
      ],
      "metadata": {
        "colab": {
          "base_uri": "https://localhost:8080/"
        },
        "id": "oAlZ3dQke6cD",
        "outputId": "2d749170-1a3f-451a-cb3e-02a7d7b4e7d7"
      },
      "execution_count": null,
      "outputs": [
        {
          "output_type": "stream",
          "name": "stderr",
          "text": [
            "[nltk_data] Downloading package names to /root/nltk_data...\n",
            "[nltk_data]   Unzipping corpora/names.zip.\n"
          ]
        },
        {
          "output_type": "execute_result",
          "data": {
            "text/plain": [
              "True"
            ]
          },
          "metadata": {},
          "execution_count": 109
        }
      ]
    },
    {
      "cell_type": "code",
      "source": [
        "# NLTK에서 사용 가능한 레이블링된 이름\n",
        "male_list =  [(name,'male')  for name in names.words('male.txt')]\n",
        "female_list =  [(name,'female')  for name in names.words('female.txt')]\n",
        "data = (male_list + female_list)\n",
        "data[:5]"
      ],
      "metadata": {
        "colab": {
          "base_uri": "https://localhost:8080/"
        },
        "id": "mLc2jT5YfEIl",
        "outputId": "637c5816-f281-44e2-90fd-41367ed30637"
      },
      "execution_count": null,
      "outputs": [
        {
          "output_type": "execute_result",
          "data": {
            "text/plain": [
              "[('Aamir', 'male'),\n",
              " ('Aaron', 'male'),\n",
              " ('Abbey', 'male'),\n",
              " ('Abbie', 'male'),\n",
              " ('Abbot', 'male')]"
            ]
          },
          "metadata": {},
          "execution_count": 140
        }
      ]
    },
    {
      "cell_type": "code",
      "source": [
        "# 데이터를 섞는다.\n",
        "# 난수 생성기의 seed 값을 고정  \n",
        "random.seed(45)\n",
        "# 데이터 섞음\n",
        "random.shuffle(data)\n",
        "data[:5]"
      ],
      "metadata": {
        "colab": {
          "base_uri": "https://localhost:8080/"
        },
        "id": "NJwab81ofWG6",
        "outputId": "30e59bc6-00ac-41c1-efe9-b3b39911e8c3"
      },
      "execution_count": null,
      "outputs": [
        {
          "output_type": "execute_result",
          "data": {
            "text/plain": [
              "[('Ambur', 'female'),\n",
              " ('Yetta', 'female'),\n",
              " ('Kimberly', 'female'),\n",
              " ('Kacy', 'female'),\n",
              " ('Malkah', 'female')]"
            ]
          },
          "metadata": {},
          "execution_count": 141
        }
      ]
    },
    {
      "cell_type": "code",
      "source": [
        "# 테스트에 사용할 데이터\n",
        "inputs_names = []\n",
        "cnt = 0\n",
        "for i in range(4):  \n",
        "  idx = random.randint(1,len(data))\n",
        "  inputs_names.append(data[idx][0])\n",
        "inputs_names  \n",
        "test_data = [i for i in data if i[0] in inputs_names]\n",
        "test_data"
      ],
      "metadata": {
        "colab": {
          "base_uri": "https://localhost:8080/"
        },
        "id": "Zv5Fi13phYhP",
        "outputId": "9ab47fbe-07d0-4202-a194-db051a65dfad"
      },
      "execution_count": null,
      "outputs": [
        {
          "output_type": "execute_result",
          "data": {
            "text/plain": [
              "[('Elke', 'female'),\n",
              " ('Dianemarie', 'female'),\n",
              " ('Ewan', 'male'),\n",
              " ('Myrle', 'female')]"
            ]
          },
          "metadata": {},
          "execution_count": 168
        }
      ]
    },
    {
      "cell_type": "code",
      "source": [
        "# 데이터에서 테스트용 데이터는 제외(분리)\n",
        "data2 = [i for i in data if i[0] not in inputs_names]"
      ],
      "metadata": {
        "id": "iFBHfYdsxACK"
      },
      "execution_count": null,
      "outputs": []
    },
    {
      "cell_type": "code",
      "source": [
        "# 훈련데이터와 검증용 데이터 8:2\n",
        "num_train = int(0.8*len(data2))"
      ],
      "metadata": {
        "id": "ok_XdjRshaGa"
      },
      "execution_count": null,
      "outputs": []
    },
    {
      "cell_type": "code",
      "source": [
        "# 마지막 n 개의 문자는 성별을 예측할 특성 벡터로 사용\n",
        "# 적절한 n개를 찾기 위해서 1~5정도를 순환하면서 성능변화를 감지\n",
        "for i in range(1,6):  \n",
        "  features = [(extract_features(n,i),gender) for (n, gender) in data2]\n",
        "  # 훈련용와 검증용으로 데이터 분리\n",
        "  train_data, val_data = features[:num_train],features[num_train:]\n",
        "  classifier = NaiveBayesClassifier.train(train_data)\n",
        "  # 분류기 정화도 계산\n",
        "  accuracy = round(nltk_accuracy(classifier,val_data),2)\n",
        "  print(f\"number of end letters : {i} accuracy : {accuracy}\")\n",
        "  # 훈련 된 모델을 이용해서 테스트용으로 분리한 이름의 결과를 \n",
        "  print(\"*\"*100)\n",
        "  for name,gender in test_data:    \n",
        "    print(f\"name : {name}/predict : {classifier.classify(extract_features(name,i))}\\t\\t\\t real : {gender}\")"
      ],
      "metadata": {
        "colab": {
          "base_uri": "https://localhost:8080/"
        },
        "id": "oCibYYcpiY_P",
        "outputId": "36d7e7d3-6e4f-42d1-e189-3ac0fd4a57fd"
      },
      "execution_count": null,
      "outputs": [
        {
          "output_type": "stream",
          "name": "stdout",
          "text": [
            "number of end letters : 1 accuracy : 0.74\n",
            "****************************************************************************************************\n",
            "name : Elke/predict : female\t\t\t real : female\n",
            "name : Dianemarie/predict : female\t\t\t real : female\n",
            "name : Ewan/predict : male\t\t\t real : male\n",
            "name : Myrle/predict : female\t\t\t real : female\n",
            "number of end letters : 2 accuracy : 0.78\n",
            "****************************************************************************************************\n",
            "name : Elke/predict : male\t\t\t real : female\n",
            "name : Dianemarie/predict : female\t\t\t real : female\n",
            "name : Ewan/predict : male\t\t\t real : male\n",
            "name : Myrle/predict : female\t\t\t real : female\n",
            "number of end letters : 3 accuracy : 0.77\n",
            "****************************************************************************************************\n",
            "name : Elke/predict : female\t\t\t real : female\n",
            "name : Dianemarie/predict : female\t\t\t real : female\n",
            "name : Ewan/predict : female\t\t\t real : male\n",
            "name : Myrle/predict : female\t\t\t real : female\n",
            "number of end letters : 4 accuracy : 0.7\n",
            "****************************************************************************************************\n",
            "name : Elke/predict : female\t\t\t real : female\n",
            "name : Dianemarie/predict : female\t\t\t real : female\n",
            "name : Ewan/predict : female\t\t\t real : male\n",
            "name : Myrle/predict : female\t\t\t real : female\n",
            "number of end letters : 5 accuracy : 0.65\n",
            "****************************************************************************************************\n",
            "name : Elke/predict : female\t\t\t real : female\n",
            "name : Dianemarie/predict : female\t\t\t real : female\n",
            "name : Ewan/predict : female\t\t\t real : male\n",
            "name : Myrle/predict : female\t\t\t real : female\n"
          ]
        }
      ]
    },
    {
      "cell_type": "code",
      "source": [],
      "metadata": {
        "id": "eUcdjsxLj6Eb"
      },
      "execution_count": null,
      "outputs": []
    }
  ]
}