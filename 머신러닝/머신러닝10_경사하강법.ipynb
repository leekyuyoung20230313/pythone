{
  "nbformat": 4,
  "nbformat_minor": 0,
  "metadata": {
    "colab": {
      "provenance": []
    },
    "kernelspec": {
      "name": "python3",
      "display_name": "Python 3"
    },
    "language_info": {
      "name": "python"
    }
  },
  "cells": [
    {
      "cell_type": "code",
      "execution_count": null,
      "metadata": {
        "id": "crYcBCHFS5iL"
      },
      "outputs": [],
      "source": []
    },
    {
      "cell_type": "markdown",
      "source": [
        "경사하강법(Gradient Descent)\n",
        "   - SGDClassifier :  확률적 경사하강법을 적용한 알고리즘\n",
        "   - 손실함수(Loss Function) : 손실함수를 최소화 하기 위해 학습\n",
        "   - 모델의 파라메터 : weight(가중치) bias(편향)\n",
        "   - 경사(Gradient) : 기울기 , 손실함수가 감소하는 방향\n",
        "   - 학습률(Learning Rate)\n",
        "   - 알고리즘\n",
        "    - 초기 파라메터를 셋팅(초기화 랜덤한 값을 지정)\n",
        "    - 경사의 반대 방향으로 파라메터를 업데이트, 현재 파라메터 값에서 학습률과 경사를 곱한 값을 빼는것으로\n",
        "     - 위의 과정을 반복,, 최소가 될때까지(경사가 제로가 될때까지)\n",
        "\n",
        "배치   \n",
        "  -확률적 경사하강법 : 훈련데이터에서 데이터를 하나씩 꺼내서 학습\n",
        "  - 미니배치 경사 하강법 : 랜덤하게 일정 개수를 꺼내서 학습\n",
        "  - 배치 경사하강법 : 전체를 다 사용\n",
        "\n",
        "           \n"
      ],
      "metadata": {
        "id": "0E9Jj8FqS9t9"
      }
    },
    {
      "cell_type": "code",
      "source": [
        "# 라이브러리 로드\n",
        "import numpy as np\n",
        "import pandas as pd\n",
        "url ='https://raw.githubusercontent.com/leekyuyoung20230313/pythone/main/%EB%A8%B8%EC%8B%A0%EB%9F%AC%EB%8B%9D/data/data2.csv'\n",
        "df = pd.read_csv(url)\n",
        "df.head()"
      ],
      "metadata": {
        "colab": {
          "base_uri": "https://localhost:8080/",
          "height": 206
        },
        "id": "GVwA1opqXCM2",
        "outputId": "d2f372b5-7335-4bea-a24a-e10b6488a158"
      },
      "execution_count": 1,
      "outputs": [
        {
          "output_type": "execute_result",
          "data": {
            "text/plain": [
              "  Species  Weight  Length  Diagonal   Height   Width\n",
              "0       A   242.0    25.4      30.0  11.5200  4.0200\n",
              "1       A   290.0    26.3      31.2  12.4800  4.3056\n",
              "2       A   340.0    26.5      31.1  12.3778  4.6961\n",
              "3       A   363.0    29.0      33.5  12.7300  4.4555\n",
              "4       A   430.0    29.0      34.0  12.4440  5.1340"
            ],
            "text/html": [
              "\n",
              "  <div id=\"df-01aa3082-54b9-4f71-8da1-66ceedefdda7\">\n",
              "    <div class=\"colab-df-container\">\n",
              "      <div>\n",
              "<style scoped>\n",
              "    .dataframe tbody tr th:only-of-type {\n",
              "        vertical-align: middle;\n",
              "    }\n",
              "\n",
              "    .dataframe tbody tr th {\n",
              "        vertical-align: top;\n",
              "    }\n",
              "\n",
              "    .dataframe thead th {\n",
              "        text-align: right;\n",
              "    }\n",
              "</style>\n",
              "<table border=\"1\" class=\"dataframe\">\n",
              "  <thead>\n",
              "    <tr style=\"text-align: right;\">\n",
              "      <th></th>\n",
              "      <th>Species</th>\n",
              "      <th>Weight</th>\n",
              "      <th>Length</th>\n",
              "      <th>Diagonal</th>\n",
              "      <th>Height</th>\n",
              "      <th>Width</th>\n",
              "    </tr>\n",
              "  </thead>\n",
              "  <tbody>\n",
              "    <tr>\n",
              "      <th>0</th>\n",
              "      <td>A</td>\n",
              "      <td>242.0</td>\n",
              "      <td>25.4</td>\n",
              "      <td>30.0</td>\n",
              "      <td>11.5200</td>\n",
              "      <td>4.0200</td>\n",
              "    </tr>\n",
              "    <tr>\n",
              "      <th>1</th>\n",
              "      <td>A</td>\n",
              "      <td>290.0</td>\n",
              "      <td>26.3</td>\n",
              "      <td>31.2</td>\n",
              "      <td>12.4800</td>\n",
              "      <td>4.3056</td>\n",
              "    </tr>\n",
              "    <tr>\n",
              "      <th>2</th>\n",
              "      <td>A</td>\n",
              "      <td>340.0</td>\n",
              "      <td>26.5</td>\n",
              "      <td>31.1</td>\n",
              "      <td>12.3778</td>\n",
              "      <td>4.6961</td>\n",
              "    </tr>\n",
              "    <tr>\n",
              "      <th>3</th>\n",
              "      <td>A</td>\n",
              "      <td>363.0</td>\n",
              "      <td>29.0</td>\n",
              "      <td>33.5</td>\n",
              "      <td>12.7300</td>\n",
              "      <td>4.4555</td>\n",
              "    </tr>\n",
              "    <tr>\n",
              "      <th>4</th>\n",
              "      <td>A</td>\n",
              "      <td>430.0</td>\n",
              "      <td>29.0</td>\n",
              "      <td>34.0</td>\n",
              "      <td>12.4440</td>\n",
              "      <td>5.1340</td>\n",
              "    </tr>\n",
              "  </tbody>\n",
              "</table>\n",
              "</div>\n",
              "      <button class=\"colab-df-convert\" onclick=\"convertToInteractive('df-01aa3082-54b9-4f71-8da1-66ceedefdda7')\"\n",
              "              title=\"Convert this dataframe to an interactive table.\"\n",
              "              style=\"display:none;\">\n",
              "        \n",
              "  <svg xmlns=\"http://www.w3.org/2000/svg\" height=\"24px\"viewBox=\"0 0 24 24\"\n",
              "       width=\"24px\">\n",
              "    <path d=\"M0 0h24v24H0V0z\" fill=\"none\"/>\n",
              "    <path d=\"M18.56 5.44l.94 2.06.94-2.06 2.06-.94-2.06-.94-.94-2.06-.94 2.06-2.06.94zm-11 1L8.5 8.5l.94-2.06 2.06-.94-2.06-.94L8.5 2.5l-.94 2.06-2.06.94zm10 10l.94 2.06.94-2.06 2.06-.94-2.06-.94-.94-2.06-.94 2.06-2.06.94z\"/><path d=\"M17.41 7.96l-1.37-1.37c-.4-.4-.92-.59-1.43-.59-.52 0-1.04.2-1.43.59L10.3 9.45l-7.72 7.72c-.78.78-.78 2.05 0 2.83L4 21.41c.39.39.9.59 1.41.59.51 0 1.02-.2 1.41-.59l7.78-7.78 2.81-2.81c.8-.78.8-2.07 0-2.86zM5.41 20L4 18.59l7.72-7.72 1.47 1.35L5.41 20z\"/>\n",
              "  </svg>\n",
              "      </button>\n",
              "      \n",
              "  <style>\n",
              "    .colab-df-container {\n",
              "      display:flex;\n",
              "      flex-wrap:wrap;\n",
              "      gap: 12px;\n",
              "    }\n",
              "\n",
              "    .colab-df-convert {\n",
              "      background-color: #E8F0FE;\n",
              "      border: none;\n",
              "      border-radius: 50%;\n",
              "      cursor: pointer;\n",
              "      display: none;\n",
              "      fill: #1967D2;\n",
              "      height: 32px;\n",
              "      padding: 0 0 0 0;\n",
              "      width: 32px;\n",
              "    }\n",
              "\n",
              "    .colab-df-convert:hover {\n",
              "      background-color: #E2EBFA;\n",
              "      box-shadow: 0px 1px 2px rgba(60, 64, 67, 0.3), 0px 1px 3px 1px rgba(60, 64, 67, 0.15);\n",
              "      fill: #174EA6;\n",
              "    }\n",
              "\n",
              "    [theme=dark] .colab-df-convert {\n",
              "      background-color: #3B4455;\n",
              "      fill: #D2E3FC;\n",
              "    }\n",
              "\n",
              "    [theme=dark] .colab-df-convert:hover {\n",
              "      background-color: #434B5C;\n",
              "      box-shadow: 0px 1px 3px 1px rgba(0, 0, 0, 0.15);\n",
              "      filter: drop-shadow(0px 1px 2px rgba(0, 0, 0, 0.3));\n",
              "      fill: #FFFFFF;\n",
              "    }\n",
              "  </style>\n",
              "\n",
              "      <script>\n",
              "        const buttonEl =\n",
              "          document.querySelector('#df-01aa3082-54b9-4f71-8da1-66ceedefdda7 button.colab-df-convert');\n",
              "        buttonEl.style.display =\n",
              "          google.colab.kernel.accessAllowed ? 'block' : 'none';\n",
              "\n",
              "        async function convertToInteractive(key) {\n",
              "          const element = document.querySelector('#df-01aa3082-54b9-4f71-8da1-66ceedefdda7');\n",
              "          const dataTable =\n",
              "            await google.colab.kernel.invokeFunction('convertToInteractive',\n",
              "                                                     [key], {});\n",
              "          if (!dataTable) return;\n",
              "\n",
              "          const docLinkHtml = 'Like what you see? Visit the ' +\n",
              "            '<a target=\"_blank\" href=https://colab.research.google.com/notebooks/data_table.ipynb>data table notebook</a>'\n",
              "            + ' to learn more about interactive tables.';\n",
              "          element.innerHTML = '';\n",
              "          dataTable['output_type'] = 'display_data';\n",
              "          await google.colab.output.renderOutput(dataTable, element);\n",
              "          const docLink = document.createElement('div');\n",
              "          docLink.innerHTML = docLinkHtml;\n",
              "          element.appendChild(docLink);\n",
              "        }\n",
              "      </script>\n",
              "    </div>\n",
              "  </div>\n",
              "  "
            ]
          },
          "metadata": {},
          "execution_count": 1
        }
      ]
    },
    {
      "cell_type": "code",
      "source": [
        "# 모델 라이브러리\n",
        "from sklearn.linear_model import SGDClassifier\n",
        "sc = SGDClassifier(loss='log', max_iter=10,random_state=42)"
      ],
      "metadata": {
        "id": "v-wiTXysYwq1"
      },
      "execution_count": 2,
      "outputs": []
    },
    {
      "cell_type": "code",
      "source": [
        "# 데이터 전처리\n",
        "from sklearn.preprocessing import StandardScaler\n",
        "from sklearn.model_selection import train_test_split\n",
        "X = df.iloc[:,1:].to_numpy()\n",
        "y = df.iloc[:,0].to_numpy()\n",
        "ss = StandardScaler()\n",
        "x_train,x_test,y_train,y_test =  train_test_split(X,y ,random_state=100)\n",
        "ss.fit(x_train)\n",
        "x_train = ss.fit_transform(x_train)\n",
        "x_test = ss.fit_transform(x_test)"
      ],
      "metadata": {
        "id": "qb8zJmKsZK_k"
      },
      "execution_count": 10,
      "outputs": []
    },
    {
      "cell_type": "code",
      "source": [
        "# 모델 적용\n",
        "# 확률적 경사 하강법\n",
        "sc.fit(x_train,y_train)\n",
        "sc.score(x_train,y_train), sc.score(x_test,y_test)"
      ],
      "metadata": {
        "colab": {
          "base_uri": "https://localhost:8080/"
        },
        "id": "jsGSid5dbfUo",
        "outputId": "dfb9b0d0-ee17-4bbf-b79b-c7b3ccab0c18"
      },
      "execution_count": 11,
      "outputs": [
        {
          "output_type": "stream",
          "name": "stderr",
          "text": [
            "/usr/local/lib/python3.10/dist-packages/sklearn/linear_model/_stochastic_gradient.py:163: FutureWarning: The loss 'log' was deprecated in v1.1 and will be removed in version 1.3. Use `loss='log_loss'` which is equivalent.\n",
            "  warnings.warn(\n",
            "/usr/local/lib/python3.10/dist-packages/sklearn/linear_model/_stochastic_gradient.py:702: ConvergenceWarning: Maximum number of iteration reached before convergence. Consider increasing max_iter to improve the fit.\n",
            "  warnings.warn(\n"
          ]
        },
        {
          "output_type": "execute_result",
          "data": {
            "text/plain": [
              "(0.7983193277310925, 0.825)"
            ]
          },
          "metadata": {},
          "execution_count": 11
        }
      ]
    },
    {
      "cell_type": "code",
      "source": [
        "# 미니배치 기법\n",
        "sc.partial_fit(x_train,y_train)\n",
        "sc.score(x_train,y_train), sc.score(x_test,y_test)"
      ],
      "metadata": {
        "colab": {
          "base_uri": "https://localhost:8080/"
        },
        "id": "2_WB65Y4btiD",
        "outputId": "7fe3457c-6129-4aba-f7ad-925f04962bf6"
      },
      "execution_count": 12,
      "outputs": [
        {
          "output_type": "execute_result",
          "data": {
            "text/plain": [
              "(0.8067226890756303, 0.75)"
            ]
          },
          "metadata": {},
          "execution_count": 12
        }
      ]
    },
    {
      "cell_type": "markdown",
      "source": [
        "SGDClassfier 함수에 사용한 손실함수\n",
        "  - 로지스틱 손실 함수(Logistic Loss Function)\n",
        "    - 주로 이진분류 문제에 사용, 실제값과 예측사이의 오차를 측정\n",
        "    - L(y, y') = -[y * log(y') + (1-y) * log(1-y')]\n",
        "    - y'는 예측값으로 (0~1사이의값)\n",
        "  - 힌지손실함수(Hinge Loss Function)\n",
        "    - SVM(Support Vector Machin)에 사용되는 함수\n",
        "    - 예측값과 실제값 사이의 마진(margin)오차를 츶겅\n",
        "    - L(y, y') = max(0, 1 - y * y') "
      ],
      "metadata": {
        "id": "GeQbq9-igMAE"
      }
    },
    {
      "cell_type": "code",
      "source": [
        "import matplotlib.pyplot as plt\n",
        "def logistic_func(y,y_pred):\n",
        "  return - (y* np.log(y_pred) + (1-y) * np.log(1 - y_pred))\n",
        "\n",
        "def hinge_loss(y,y_pred):\n",
        "  return np.maximum(0,1 - y*y_pred)  \n",
        "\n",
        "y_true = 1\n",
        "y_pred = np.linspace(0.01,0.99,100)\n",
        "lostic_loss = logistic_func(y_true, y_pred)\n",
        "\n",
        "y_pred2 = np.linspace(-2,2,100)\n",
        "hinge_loss = hinge_loss(y_true, y_pred2)\n",
        "\n",
        "plt.subplot(1,2,1)\n",
        "plt.plot(y_pred,lostic_loss)\n",
        "plt.title('lostic loss')\n",
        "plt.subplot(1,2,2)\n",
        "plt.plot(y_pred2,hinge_loss)\n",
        "plt.title('hinge loss')\n",
        "plt.show()"
      ],
      "metadata": {
        "colab": {
          "base_uri": "https://localhost:8080/",
          "height": 452
        },
        "id": "xwKaRruvcZ-s",
        "outputId": "79be13f4-bd3a-4c84-9ba3-367a5a1706ea"
      },
      "execution_count": 14,
      "outputs": [
        {
          "output_type": "display_data",
          "data": {
            "text/plain": [
              "<Figure size 640x480 with 2 Axes>"
            ],
            "image/png": "[encoded data removed]"
          },
          "metadata": {}
        }
      ]
    },
    {
      "cell_type": "code",
      "source": [
        "sc = SGDClassifier(loss='hinge', max_iter=10,random_state=42)\n",
        "# 확률적 경사 하강법\n",
        "sc.fit(x_train,y_train)\n",
        "print(sc.score(x_train,y_train), sc.score(x_test,y_test))\n",
        "# 미니배치 기법\n",
        "sc.partial_fit(x_train,y_train)\n",
        "print(sc.score(x_train,y_train), sc.score(x_test,y_test))"
      ],
      "metadata": {
        "colab": {
          "base_uri": "https://localhost:8080/"
        },
        "id": "sI57Zobpi9GF",
        "outputId": "ae87899b-e99b-48d3-c58f-879c68ba6551"
      },
      "execution_count": 16,
      "outputs": [
        {
          "output_type": "stream",
          "name": "stdout",
          "text": [
            "0.7899159663865546 0.8\n",
            "0.7983193277310925 0.85\n"
          ]
        },
        {
          "output_type": "stream",
          "name": "stderr",
          "text": [
            "/usr/local/lib/python3.10/dist-packages/sklearn/linear_model/_stochastic_gradient.py:702: ConvergenceWarning: Maximum number of iteration reached before convergence. Consider increasing max_iter to improve the fit.\n",
            "  warnings.warn(\n"
          ]
        }
      ]
    },
    {
      "cell_type": "markdown",
      "source": [
        "스케일링\n",
        "  - 표준화(Statndardization)\n",
        "    - 평균이 0 이고 표준편차가 1되도록 변환하는방법  z-score\n",
        "    - Z = (X - μ) / σ\n",
        "    - X는 각각의 데이터  μ 평균  σ 표준편차\n",
        "    - 데이터의 분포를 중심으로 모으고 이상치(outlier)영향을 줄여주는 효과  선형회귀나 로지스틱회귀모델에서 사용하면 좋음\n",
        "  - 정규화(Nomalization)\n",
        "    - 최소-최대(Min-Max Scaling)\n",
        "    - 최소값과 최대값 사이의 범위로 조정 , 0과 1사이로 조정 ,비교적 작은 범위로 스케일링, 모델을 학습할때 각 특성의 중요도를고르게 만들어 줌\n",
        "    - X_scaled = (X - X_min) / (X_max - X_min)\n",
        "    - 신경망(Neural Network)이나 이미지처리와 같은 모델\n",
        "  - 로버스트 (Robust Scaling)\n",
        "    - 중앙값(median) IQR(Interquartile Range)를 사용\n",
        "    - 데이터에 이상치가 분포할때 이상치 영향을 적게 받는다"
      ],
      "metadata": {
        "id": "m53ks-A_jqlA"
      }
    },
    {
      "cell_type": "markdown",
      "source": [
        "과적합과 조기종료(수동)"
      ],
      "metadata": {
        "id": "QMYaJJ3Znyft"
      }
    },
    {
      "cell_type": "code",
      "source": [
        "sc = SGDClassifier(loss='log_loss', random_state=42)\n",
        "train_score = []\n",
        "test_score = []\n",
        "clasess = np.unique(y_train)\n",
        "clasess"
      ],
      "metadata": {
        "colab": {
          "base_uri": "https://localhost:8080/"
        },
        "id": "gKz0zFq9jdJd",
        "outputId": "478755f8-b036-47fd-ef28-432654d9fd84"
      },
      "execution_count": 17,
      "outputs": [
        {
          "output_type": "execute_result",
          "data": {
            "text/plain": [
              "array(['A', 'B', 'C', 'D', 'E', 'F', 'G'], dtype=object)"
            ]
          },
          "metadata": {},
          "execution_count": 17
        }
      ]
    },
    {
      "cell_type": "code",
      "source": [
        "#미니배치 학습\n",
        "for _ in range(300):\n",
        "  sc.partial_fit(x_train,y_train,classes=clasess)\n",
        "  train_score.append(sc.score(x_train,y_train))\n",
        "  test_score.append(sc.score(x_test,y_test))"
      ],
      "metadata": {
        "id": "LsG3nl3XoMzd"
      },
      "execution_count": 19,
      "outputs": []
    },
    {
      "cell_type": "code",
      "source": [
        "plt.figure(figsize=(15,5))\n",
        "plt.plot(train_score,label='Training')\n",
        "plt.plot(test_score,label='Validation')\n",
        "plt.xlabel('epoch')\n",
        "plt.ylabel('accuracy')\n",
        "plt.show()"
      ],
      "metadata": {
        "colab": {
          "base_uri": "https://localhost:8080/",
          "height": 465
        },
        "id": "LhmWIpxPo-9k",
        "outputId": "c34fc9ae-7727-47dc-b035-0eb8ab45c139"
      },
      "execution_count": 21,
      "outputs": [
        {
          "output_type": "display_data",
          "data": {
            "text/plain": [
              "<Figure size 1500x500 with 1 Axes>"
            ],
            "image/png": "[encoded data removed]"
          },
          "metadata": {}
        }
      ]
    },
    {
      "cell_type": "code",
      "source": [
        "# tol=None 허용오차를 설정하지 않는다 \n",
        "# 이 값을 설정하지 않으면 모델이 더 높은 정확도를 달성하기 위해 가능한 많은 반복을 수행\n",
        "sc = SGDClassifier(loss='log_loss', tol=None, max_iter=100, random_state=42)\n",
        "sc.fit(x_train,y_train)\n",
        "sc.score(x_train,y_train), sc.score(x_test, y_test)"
      ],
      "metadata": {
        "colab": {
          "base_uri": "https://localhost:8080/"
        },
        "id": "jbEwziG1pQv8",
        "outputId": "ed553960-36a6-49bd-d896-02e47e4171a9"
      },
      "execution_count": 26,
      "outputs": [
        {
          "output_type": "execute_result",
          "data": {
            "text/plain": [
              "(0.9327731092436975, 0.9)"
            ]
          },
          "metadata": {},
          "execution_count": 26
        }
      ]
    },
    {
      "cell_type": "code",
      "source": [
        "x_train"
      ],
      "metadata": {
        "id": "qMZl1fJEptxf"
      },
      "execution_count": null,
      "outputs": []
    },
    {
      "cell_type": "code",
      "source": [],
      "metadata": {
        "id": "x-Ul9VwGp2zE"
      },
      "execution_count": null,
      "outputs": []
    }
  ]
}