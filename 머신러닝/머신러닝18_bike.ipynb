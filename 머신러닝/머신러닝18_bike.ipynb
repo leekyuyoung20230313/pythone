{
  "nbformat": 4,
  "nbformat_minor": 0,
  "metadata": {
    "colab": {
      "provenance": []
    },
    "kernelspec": {
      "name": "python3",
      "display_name": "Python 3"
    },
    "language_info": {
      "name": "python"
    }
  },
  "cells": [
    {
      "cell_type": "code",
      "execution_count": 1,
      "metadata": {
        "id": "TDKmvITLzg_J"
      },
      "outputs": [],
      "source": [
        "url = 'https://raw.githubusercontent.com/leekyuyoung20230313/pythone/main/%EB%A8%B8%EC%8B%A0%EB%9F%AC%EB%8B%9D/data/bike.csv'"
      ]
    },
    {
      "cell_type": "code",
      "source": [
        "import pandas as pd\n",
        "import numpy as np\n",
        "from sklearn.tree import DecisionTreeRegressor"
      ],
      "metadata": {
        "id": "R_nEh9qg0Ai2"
      },
      "execution_count": 2,
      "outputs": []
    },
    {
      "cell_type": "code",
      "source": [
        "bike = pd.read_csv(url)\n",
        "bike.head()"
      ],
      "metadata": {
        "colab": {
          "base_uri": "https://localhost:8080/",
          "height": 206
        },
        "id": "YRClwPjG0eIE",
        "outputId": "758c9881-cb00-4a7d-a0de-e47754ecb884"
      },
      "execution_count": 3,
      "outputs": [
        {
          "output_type": "execute_result",
          "data": {
            "text/plain": [
              "   instant  season   yr  mnth  holiday  weekday  workingday  weathersit  \\\n",
              "0        1     1.0  0.0   1.0      0.0      6.0         0.0           2   \n",
              "1        2     1.0  0.0   1.0      0.0      0.0         0.0           2   \n",
              "2        3     1.0  0.0   1.0      0.0      1.0         1.0           1   \n",
              "3        4     1.0  0.0   1.0      0.0      2.0         1.0           1   \n",
              "4        5     1.0  0.0   1.0      0.0      3.0         1.0           1   \n",
              "\n",
              "       temp     atemp       hum  windspeed   cnt  \n",
              "0  0.344167  0.363625  0.805833   0.160446   985  \n",
              "1  0.363478  0.353739  0.696087   0.248539   801  \n",
              "2  0.196364  0.189405  0.437273   0.248309  1349  \n",
              "3  0.200000  0.212122  0.590435   0.160296  1562  \n",
              "4  0.226957  0.229270  0.436957   0.186900  1600  "
            ],
            "text/html": [
              "\n",
              "  <div id=\"df-0ce85e60-0de8-45ff-97fb-1643d579e622\">\n",
              "    <div class=\"colab-df-container\">\n",
              "      <div>\n",
              "<style scoped>\n",
              "    .dataframe tbody tr th:only-of-type {\n",
              "        vertical-align: middle;\n",
              "    }\n",
              "\n",
              "    .dataframe tbody tr th {\n",
              "        vertical-align: top;\n",
              "    }\n",
              "\n",
              "    .dataframe thead th {\n",
              "        text-align: right;\n",
              "    }\n",
              "</style>\n",
              "<table border=\"1\" class=\"dataframe\">\n",
              "  <thead>\n",
              "    <tr style=\"text-align: right;\">\n",
              "      <th></th>\n",
              "      <th>instant</th>\n",
              "      <th>season</th>\n",
              "      <th>yr</th>\n",
              "      <th>mnth</th>\n",
              "      <th>holiday</th>\n",
              "      <th>weekday</th>\n",
              "      <th>workingday</th>\n",
              "      <th>weathersit</th>\n",
              "      <th>temp</th>\n",
              "      <th>atemp</th>\n",
              "      <th>hum</th>\n",
              "      <th>windspeed</th>\n",
              "      <th>cnt</th>\n",
              "    </tr>\n",
              "  </thead>\n",
              "  <tbody>\n",
              "    <tr>\n",
              "      <th>0</th>\n",
              "      <td>1</td>\n",
              "      <td>1.0</td>\n",
              "      <td>0.0</td>\n",
              "      <td>1.0</td>\n",
              "      <td>0.0</td>\n",
              "      <td>6.0</td>\n",
              "      <td>0.0</td>\n",
              "      <td>2</td>\n",
              "      <td>0.344167</td>\n",
              "      <td>0.363625</td>\n",
              "      <td>0.805833</td>\n",
              "      <td>0.160446</td>\n",
              "      <td>985</td>\n",
              "    </tr>\n",
              "    <tr>\n",
              "      <th>1</th>\n",
              "      <td>2</td>\n",
              "      <td>1.0</td>\n",
              "      <td>0.0</td>\n",
              "      <td>1.0</td>\n",
              "      <td>0.0</td>\n",
              "      <td>0.0</td>\n",
              "      <td>0.0</td>\n",
              "      <td>2</td>\n",
              "      <td>0.363478</td>\n",
              "      <td>0.353739</td>\n",
              "      <td>0.696087</td>\n",
              "      <td>0.248539</td>\n",
              "      <td>801</td>\n",
              "    </tr>\n",
              "    <tr>\n",
              "      <th>2</th>\n",
              "      <td>3</td>\n",
              "      <td>1.0</td>\n",
              "      <td>0.0</td>\n",
              "      <td>1.0</td>\n",
              "      <td>0.0</td>\n",
              "      <td>1.0</td>\n",
              "      <td>1.0</td>\n",
              "      <td>1</td>\n",
              "      <td>0.196364</td>\n",
              "      <td>0.189405</td>\n",
              "      <td>0.437273</td>\n",
              "      <td>0.248309</td>\n",
              "      <td>1349</td>\n",
              "    </tr>\n",
              "    <tr>\n",
              "      <th>3</th>\n",
              "      <td>4</td>\n",
              "      <td>1.0</td>\n",
              "      <td>0.0</td>\n",
              "      <td>1.0</td>\n",
              "      <td>0.0</td>\n",
              "      <td>2.0</td>\n",
              "      <td>1.0</td>\n",
              "      <td>1</td>\n",
              "      <td>0.200000</td>\n",
              "      <td>0.212122</td>\n",
              "      <td>0.590435</td>\n",
              "      <td>0.160296</td>\n",
              "      <td>1562</td>\n",
              "    </tr>\n",
              "    <tr>\n",
              "      <th>4</th>\n",
              "      <td>5</td>\n",
              "      <td>1.0</td>\n",
              "      <td>0.0</td>\n",
              "      <td>1.0</td>\n",
              "      <td>0.0</td>\n",
              "      <td>3.0</td>\n",
              "      <td>1.0</td>\n",
              "      <td>1</td>\n",
              "      <td>0.226957</td>\n",
              "      <td>0.229270</td>\n",
              "      <td>0.436957</td>\n",
              "      <td>0.186900</td>\n",
              "      <td>1600</td>\n",
              "    </tr>\n",
              "  </tbody>\n",
              "</table>\n",
              "</div>\n",
              "      <button class=\"colab-df-convert\" onclick=\"convertToInteractive('df-0ce85e60-0de8-45ff-97fb-1643d579e622')\"\n",
              "              title=\"Convert this dataframe to an interactive table.\"\n",
              "              style=\"display:none;\">\n",
              "        \n",
              "  <svg xmlns=\"http://www.w3.org/2000/svg\" height=\"24px\"viewBox=\"0 0 24 24\"\n",
              "       width=\"24px\">\n",
              "    <path d=\"M0 0h24v24H0V0z\" fill=\"none\"/>\n",
              "    <path d=\"M18.56 5.44l.94 2.06.94-2.06 2.06-.94-2.06-.94-.94-2.06-.94 2.06-2.06.94zm-11 1L8.5 8.5l.94-2.06 2.06-.94-2.06-.94L8.5 2.5l-.94 2.06-2.06.94zm10 10l.94 2.06.94-2.06 2.06-.94-2.06-.94-.94-2.06-.94 2.06-2.06.94z\"/><path d=\"M17.41 7.96l-1.37-1.37c-.4-.4-.92-.59-1.43-.59-.52 0-1.04.2-1.43.59L10.3 9.45l-7.72 7.72c-.78.78-.78 2.05 0 2.83L4 21.41c.39.39.9.59 1.41.59.51 0 1.02-.2 1.41-.59l7.78-7.78 2.81-2.81c.8-.78.8-2.07 0-2.86zM5.41 20L4 18.59l7.72-7.72 1.47 1.35L5.41 20z\"/>\n",
              "  </svg>\n",
              "      </button>\n",
              "      \n",
              "  <style>\n",
              "    .colab-df-container {\n",
              "      display:flex;\n",
              "      flex-wrap:wrap;\n",
              "      gap: 12px;\n",
              "    }\n",
              "\n",
              "    .colab-df-convert {\n",
              "      background-color: #E8F0FE;\n",
              "      border: none;\n",
              "      border-radius: 50%;\n",
              "      cursor: pointer;\n",
              "      display: none;\n",
              "      fill: #1967D2;\n",
              "      height: 32px;\n",
              "      padding: 0 0 0 0;\n",
              "      width: 32px;\n",
              "    }\n",
              "\n",
              "    .colab-df-convert:hover {\n",
              "      background-color: #E2EBFA;\n",
              "      box-shadow: 0px 1px 2px rgba(60, 64, 67, 0.3), 0px 1px 3px 1px rgba(60, 64, 67, 0.15);\n",
              "      fill: #174EA6;\n",
              "    }\n",
              "\n",
              "    [theme=dark] .colab-df-convert {\n",
              "      background-color: #3B4455;\n",
              "      fill: #D2E3FC;\n",
              "    }\n",
              "\n",
              "    [theme=dark] .colab-df-convert:hover {\n",
              "      background-color: #434B5C;\n",
              "      box-shadow: 0px 1px 3px 1px rgba(0, 0, 0, 0.15);\n",
              "      filter: drop-shadow(0px 1px 2px rgba(0, 0, 0, 0.3));\n",
              "      fill: #FFFFFF;\n",
              "    }\n",
              "  </style>\n",
              "\n",
              "      <script>\n",
              "        const buttonEl =\n",
              "          document.querySelector('#df-0ce85e60-0de8-45ff-97fb-1643d579e622 button.colab-df-convert');\n",
              "        buttonEl.style.display =\n",
              "          google.colab.kernel.accessAllowed ? 'block' : 'none';\n",
              "\n",
              "        async function convertToInteractive(key) {\n",
              "          const element = document.querySelector('#df-0ce85e60-0de8-45ff-97fb-1643d579e622');\n",
              "          const dataTable =\n",
              "            await google.colab.kernel.invokeFunction('convertToInteractive',\n",
              "                                                     [key], {});\n",
              "          if (!dataTable) return;\n",
              "\n",
              "          const docLinkHtml = 'Like what you see? Visit the ' +\n",
              "            '<a target=\"_blank\" href=https://colab.research.google.com/notebooks/data_table.ipynb>data table notebook</a>'\n",
              "            + ' to learn more about interactive tables.';\n",
              "          element.innerHTML = '';\n",
              "          dataTable['output_type'] = 'display_data';\n",
              "          await google.colab.output.renderOutput(dataTable, element);\n",
              "          const docLink = document.createElement('div');\n",
              "          docLink.innerHTML = docLinkHtml;\n",
              "          element.appendChild(docLink);\n",
              "        }\n",
              "      </script>\n",
              "    </div>\n",
              "  </div>\n",
              "  "
            ]
          },
          "metadata": {},
          "execution_count": 3
        }
      ]
    },
    {
      "cell_type": "code",
      "source": [
        "X = bike.iloc[:,1:-1]\n",
        "y = bike.iloc[:,-1]"
      ],
      "metadata": {
        "id": "ZyKvXd4z0jm8"
      },
      "execution_count": 4,
      "outputs": []
    },
    {
      "cell_type": "code",
      "source": [
        "X.isnull().sum()"
      ],
      "metadata": {
        "colab": {
          "base_uri": "https://localhost:8080/"
        },
        "id": "YSyNp0p41bqx",
        "outputId": "f8fd94b9-b5f5-4c38-8967-c11e3de5b0ac"
      },
      "execution_count": 5,
      "outputs": [
        {
          "output_type": "execute_result",
          "data": {
            "text/plain": [
              "season        0\n",
              "yr            0\n",
              "mnth          0\n",
              "holiday       0\n",
              "weekday       0\n",
              "workingday    0\n",
              "weathersit    0\n",
              "temp          0\n",
              "atemp         0\n",
              "hum           0\n",
              "windspeed     0\n",
              "dtype: int64"
            ]
          },
          "metadata": {},
          "execution_count": 5
        }
      ]
    },
    {
      "cell_type": "code",
      "source": [
        "# 모델\n",
        "dt = DecisionTreeRegressor(random_state=100)\n",
        "# 해당 모델을 이용한 교차검증\n",
        "from sklearn.model_selection import cross_val_score\n",
        "import sklearn"
      ],
      "metadata": {
        "id": "zbKILLRx003c"
      },
      "execution_count": 6,
      "outputs": []
    },
    {
      "cell_type": "code",
      "source": [
        "sklearn.metrics.get_scorer_names()"
      ],
      "metadata": {
        "colab": {
          "base_uri": "https://localhost:8080/"
        },
        "id": "Xie2mIok2fOl",
        "outputId": "ddfb65a8-5038-4af7-9077-196b7a98572a"
      },
      "execution_count": 7,
      "outputs": [
        {
          "output_type": "execute_result",
          "data": {
            "text/plain": [
              "['accuracy',\n",
              " 'adjusted_mutual_info_score',\n",
              " 'adjusted_rand_score',\n",
              " 'average_precision',\n",
              " 'balanced_accuracy',\n",
              " 'completeness_score',\n",
              " 'explained_variance',\n",
              " 'f1',\n",
              " 'f1_macro',\n",
              " 'f1_micro',\n",
              " 'f1_samples',\n",
              " 'f1_weighted',\n",
              " 'fowlkes_mallows_score',\n",
              " 'homogeneity_score',\n",
              " 'jaccard',\n",
              " 'jaccard_macro',\n",
              " 'jaccard_micro',\n",
              " 'jaccard_samples',\n",
              " 'jaccard_weighted',\n",
              " 'matthews_corrcoef',\n",
              " 'max_error',\n",
              " 'mutual_info_score',\n",
              " 'neg_brier_score',\n",
              " 'neg_log_loss',\n",
              " 'neg_mean_absolute_error',\n",
              " 'neg_mean_absolute_percentage_error',\n",
              " 'neg_mean_gamma_deviance',\n",
              " 'neg_mean_poisson_deviance',\n",
              " 'neg_mean_squared_error',\n",
              " 'neg_mean_squared_log_error',\n",
              " 'neg_median_absolute_error',\n",
              " 'neg_negative_likelihood_ratio',\n",
              " 'neg_root_mean_squared_error',\n",
              " 'normalized_mutual_info_score',\n",
              " 'positive_likelihood_ratio',\n",
              " 'precision',\n",
              " 'precision_macro',\n",
              " 'precision_micro',\n",
              " 'precision_samples',\n",
              " 'precision_weighted',\n",
              " 'r2',\n",
              " 'rand_score',\n",
              " 'recall',\n",
              " 'recall_macro',\n",
              " 'recall_micro',\n",
              " 'recall_samples',\n",
              " 'recall_weighted',\n",
              " 'roc_auc',\n",
              " 'roc_auc_ovo',\n",
              " 'roc_auc_ovo_weighted',\n",
              " 'roc_auc_ovr',\n",
              " 'roc_auc_ovr_weighted',\n",
              " 'top_k_accuracy',\n",
              " 'v_measure_score']"
            ]
          },
          "metadata": {},
          "execution_count": 7
        }
      ]
    },
    {
      "cell_type": "code",
      "source": [
        "sv = cross_val_score(dt,X,y, scoring='neg_mean_squared_error')\n",
        "sv"
      ],
      "metadata": {
        "colab": {
          "base_uri": "https://localhost:8080/"
        },
        "id": "dzIH258_1L9c",
        "outputId": "2dbc4fda-9a77-4e98-b70b-61e673a338c0"
      },
      "execution_count": 8,
      "outputs": [
        {
          "output_type": "execute_result",
          "data": {
            "text/plain": [
              "array([-1243738.08163265,  -641841.28767123, -2258767.04794521,\n",
              "       -1601199.3630137 , -2062262.69178082])"
            ]
          },
          "metadata": {},
          "execution_count": 8
        }
      ]
    },
    {
      "cell_type": "code",
      "source": [
        "# RMSE\n",
        "rmse = np.sqrt(-sv)\n",
        "rmse"
      ],
      "metadata": {
        "colab": {
          "base_uri": "https://localhost:8080/"
        },
        "id": "pFOs3CQB1g3b",
        "outputId": "c60f53e8-0785-4e94-ea58-a3d6ce0d0e12"
      },
      "execution_count": 9,
      "outputs": [
        {
          "output_type": "execute_result",
          "data": {
            "text/plain": [
              "array([1115.23005772,  801.14997826, 1502.91950814, 1265.38506511,\n",
              "       1436.05803914])"
            ]
          },
          "metadata": {},
          "execution_count": 9
        }
      ]
    },
    {
      "cell_type": "code",
      "source": [
        "np.mean(rmse)"
      ],
      "metadata": {
        "colab": {
          "base_uri": "https://localhost:8080/"
        },
        "id": "1qQtWc_83RKk",
        "outputId": "5f723e0c-5b95-4986-90ee-43e3b62846bf"
      },
      "execution_count": 10,
      "outputs": [
        {
          "output_type": "execute_result",
          "data": {
            "text/plain": [
              "1224.148529674594"
            ]
          },
          "metadata": {},
          "execution_count": 10
        }
      ]
    },
    {
      "cell_type": "code",
      "source": [
        "# 데이터 분할\n",
        "from sklearn.model_selection import train_test_split\n",
        "x_train,x_test,y_train,y_test = train_test_split(X,y,test_size=0.2,random_state=100)"
      ],
      "metadata": {
        "id": "oLRpj_IY3Ujz"
      },
      "execution_count": 11,
      "outputs": []
    },
    {
      "cell_type": "code",
      "source": [
        "# 학습\n",
        "dt.fit(x_train,y_train)\n",
        "# 예측\n",
        "y_pred = dt.predict(x_train)\n",
        "#rmse\n",
        "from sklearn.metrics import mean_squared_error\n",
        "dt_mse = mean_squared_error(y_train, y_pred)\n",
        "dt_rmse = np.sqrt(dt_mse)\n",
        "print(f\"rmse : {dt_rmse}\")"
      ],
      "metadata": {
        "colab": {
          "base_uri": "https://localhost:8080/"
        },
        "id": "pUIqPAMI3yqs",
        "outputId": "d53d61e3-c049-4dd1-cf0c-4db86c101ec2"
      },
      "execution_count": 12,
      "outputs": [
        {
          "output_type": "stream",
          "name": "stdout",
          "text": [
            "rmse : 0.0\n"
          ]
        }
      ]
    },
    {
      "cell_type": "code",
      "source": [
        "# 학습하지 않은 테스트 데이터 예측\n",
        "y_teest_pred = dt.predict(x_test)\n",
        "#rmse\n",
        "from sklearn.metrics import mean_squared_error\n",
        "dt_mse = mean_squared_error(y_test, y_teest_pred)\n",
        "dt_rmse = np.sqrt(dt_mse)\n",
        "print(f\"rmse : {dt_rmse}\")"
      ],
      "metadata": {
        "id": "9gQWc_o24adV",
        "colab": {
          "base_uri": "https://localhost:8080/"
        },
        "outputId": "c999f69a-aea2-4c46-a32a-c58e89c3c69b"
      },
      "execution_count": 13,
      "outputs": [
        {
          "output_type": "stream",
          "name": "stdout",
          "text": [
            "rmse : 842.5550306014657\n"
          ]
        }
      ]
    },
    {
      "cell_type": "code",
      "source": [
        "dt.score(x_train,y_train), dt.score(x_test,y_test)"
      ],
      "metadata": {
        "colab": {
          "base_uri": "https://localhost:8080/"
        },
        "id": "qwXvRipB5SeP",
        "outputId": "e7d0e711-f9cd-453e-b26a-459b952cc6c3"
      },
      "execution_count": 14,
      "outputs": [
        {
          "output_type": "execute_result",
          "data": {
            "text/plain": [
              "(1.0, 0.7917927132755787)"
            ]
          },
          "metadata": {},
          "execution_count": 14
        }
      ]
    },
    {
      "cell_type": "code",
      "source": [
        "dt.get_depth()"
      ],
      "metadata": {
        "colab": {
          "base_uri": "https://localhost:8080/"
        },
        "id": "XV4FK88B5mAl",
        "outputId": "c73fed4f-a4f6-4487-c215-dadb63bd7ec8"
      },
      "execution_count": 16,
      "outputs": [
        {
          "output_type": "execute_result",
          "data": {
            "text/plain": [
              "19"
            ]
          },
          "metadata": {},
          "execution_count": 16
        }
      ]
    },
    {
      "cell_type": "code",
      "source": [
        "dt.feature_importances_, dt.feature_names_in_"
      ],
      "metadata": {
        "colab": {
          "base_uri": "https://localhost:8080/"
        },
        "id": "aVwr9BMg5vW0",
        "outputId": "b8c5e87b-7fdf-4afc-e6be-b27e3b57ac35"
      },
      "execution_count": 18,
      "outputs": [
        {
          "output_type": "execute_result",
          "data": {
            "text/plain": [
              "(array([0.07949201, 0.27761082, 0.02195797, 0.00108578, 0.01084614,\n",
              "        0.00207843, 0.04023998, 0.43094774, 0.04841651, 0.05618582,\n",
              "        0.03113881]),\n",
              " array(['season', 'yr', 'mnth', 'holiday', 'weekday', 'workingday',\n",
              "        'weathersit', 'temp', 'atemp', 'hum', 'windspeed'], dtype=object))"
            ]
          },
          "metadata": {},
          "execution_count": 18
        }
      ]
    },
    {
      "cell_type": "code",
      "source": [
        "import_dt = dict(zip(dt.feature_names_in_, dt.feature_importances_))\n",
        "import_dt = sorted(import_dt.items(),key = lambda x : x[1],reverse=True)\n",
        "import_dt"
      ],
      "metadata": {
        "colab": {
          "base_uri": "https://localhost:8080/"
        },
        "id": "tBljRBM96HOU",
        "outputId": "6afeabe0-172a-411b-b5f4-8d42f9076f5f"
      },
      "execution_count": 20,
      "outputs": [
        {
          "output_type": "execute_result",
          "data": {
            "text/plain": [
              "[('temp', 0.4309477412411022),\n",
              " ('yr', 0.27761081761315914),\n",
              " ('season', 0.0794920107727855),\n",
              " ('hum', 0.05618582334147451),\n",
              " ('atemp', 0.04841650736778333),\n",
              " ('weathersit', 0.040239978047628445),\n",
              " ('windspeed', 0.031138806704320735),\n",
              " ('mnth', 0.021957970030936698),\n",
              " ('weekday', 0.010846137350116554),\n",
              " ('workingday', 0.0020784259097937326),\n",
              " ('holiday', 0.0010857816208990588)]"
            ]
          },
          "metadata": {},
          "execution_count": 20
        }
      ]
    },
    {
      "cell_type": "code",
      "source": [
        "# 파이퍼 파라메터 튜닝\n",
        "from sklearn.model_selection import GridSearchCV\n",
        "# 모델 로드\n",
        "dt = DecisionTreeRegressor(random_state=100)\n",
        "# 파라메터\n",
        "params = {'max_depth' : [None,2,3,4,5,6,7,8,9,10,20]}\n",
        "# 튜닝\n",
        "grid_reg = GridSearchCV(dt,param_grid=params,scoring='neg_mean_squared_error',cv=5,return_train_score=True, n_jobs=-1 )\n",
        "grid_reg.fit(x_train,y_train)\n",
        "# 최상의 매개변수 출력\n",
        "print(f'최상의 매개변수 : {grid_reg.best_params_}')"
      ],
      "metadata": {
        "colab": {
          "base_uri": "https://localhost:8080/"
        },
        "id": "5lzWFQOZ6dmt",
        "outputId": "05222780-168d-4064-8b5f-990875795c05"
      },
      "execution_count": 21,
      "outputs": [
        {
          "output_type": "stream",
          "name": "stdout",
          "text": [
            "최상의 매개변수 : {'max_depth': 5}\n"
          ]
        }
      ]
    },
    {
      "cell_type": "code",
      "source": [
        "best_model = grid_reg.best_estimator_\n",
        "y_pred = best_model.predict(x_test)\n",
        "#rmse\n",
        "mse = mean_squared_error(y_test, y_pred)\n",
        "rmse = np.sqrt(mse)\n",
        "print(f\"test rmse : {rmse}\")"
      ],
      "metadata": {
        "colab": {
          "base_uri": "https://localhost:8080/"
        },
        "id": "LigVpoO88A_E",
        "outputId": "903c8c0f-b175-4358-e907-cac5d8f14d7a"
      },
      "execution_count": 22,
      "outputs": [
        {
          "output_type": "stream",
          "name": "stdout",
          "text": [
            "test rmse : 747.2054971052871\n"
          ]
        }
      ]
    },
    {
      "cell_type": "code",
      "source": [
        "import_dt = dict(zip(best_model.feature_names_in_, best_model.feature_importances_))\n",
        "import_dt = sorted(import_dt.items(),key = lambda x : x[1],reverse=True)\n",
        "import_dt"
      ],
      "metadata": {
        "colab": {
          "base_uri": "https://localhost:8080/"
        },
        "id": "SBLs_yIN8oc9",
        "outputId": "939aecde-0c3a-4d1c-b961-942f6940f522"
      },
      "execution_count": 24,
      "outputs": [
        {
          "output_type": "execute_result",
          "data": {
            "text/plain": [
              "[('temp', 0.45982544809130715),\n",
              " ('yr', 0.3123343917420042),\n",
              " ('season', 0.08759657863333012),\n",
              " ('weathersit', 0.050181871585009294),\n",
              " ('atemp', 0.029763747927659116),\n",
              " ('hum', 0.02476376627935139),\n",
              " ('mnth', 0.017318545362041037),\n",
              " ('windspeed', 0.016757191200028755),\n",
              " ('holiday', 0.0012046007361451148),\n",
              " ('weekday', 0.0002538584431237691),\n",
              " ('workingday', 0.0)]"
            ]
          },
          "metadata": {},
          "execution_count": 24
        }
      ]
    },
    {
      "cell_type": "code",
      "source": [
        "from sklearn.inspection import permutation_importance\n",
        "# permutation_importance 순열 중요도.. feature 특성 - 각 특성을 무작위로 섞어서 모델의 성능 변화를 측정\n",
        "\n",
        "result = permutation_importance(best_model,x_train,y_train,random_state=100)\n",
        "import_dt = dict(zip(x_train.columns, result.importances_mean))\n",
        "import_dt = sorted(import_dt.items(),key = lambda x : x[1],reverse=True)\n",
        "import_dt"
      ],
      "metadata": {
        "colab": {
          "base_uri": "https://localhost:8080/"
        },
        "id": "cB_1Ur3e9BF8",
        "outputId": "5e2652a3-326c-4785-cf02-0254d4c60823"
      },
      "execution_count": 29,
      "outputs": [
        {
          "output_type": "execute_result",
          "data": {
            "text/plain": [
              "[('yr', 0.5612204617244092),\n",
              " ('temp', 0.5091022401828734),\n",
              " ('season', 0.11425871259463789),\n",
              " ('weathersit', 0.08484595603974827),\n",
              " ('atemp', 0.0781860416330136),\n",
              " ('hum', 0.07583963802114117),\n",
              " ('mnth', 0.043045582128536174),\n",
              " ('windspeed', 0.037821758596693324),\n",
              " ('holiday', 0.0019205556236377096),\n",
              " ('weekday', 0.0005415261474897903),\n",
              " ('workingday', 0.0)]"
            ]
          },
          "metadata": {},
          "execution_count": 29
        }
      ]
    },
    {
      "cell_type": "code",
      "source": [],
      "metadata": {
        "id": "RUmfIg1r9zDd"
      },
      "execution_count": null,
      "outputs": []
    }
  ]
}