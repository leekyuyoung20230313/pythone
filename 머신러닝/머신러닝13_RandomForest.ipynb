{
  "nbformat": 4,
  "nbformat_minor": 0,
  "metadata": {
    "colab": {
      "provenance": []
    },
    "kernelspec": {
      "name": "python3",
      "display_name": "Python 3"
    },
    "language_info": {
      "name": "python"
    }
  },
  "cells": [
    {
      "cell_type": "code",
      "execution_count": 17,
      "metadata": {
        "id": "kZezZjQQkK_X"
      },
      "outputs": [],
      "source": [
        "from sklearn.datasets import load_wine\n",
        "from sklearn.ensemble import RandomForestClassifier, ExtraTreesClassifier, GradientBoostingClassifier,HistGradientBoostingClassifier\n",
        "from sklearn.model_selection import cross_validate\n",
        "import numpy as np"
      ]
    },
    {
      "cell_type": "code",
      "source": [
        "wine = load_wine()"
      ],
      "metadata": {
        "id": "aadWog0plhVG"
      },
      "execution_count": 12,
      "outputs": []
    },
    {
      "cell_type": "code",
      "source": [
        "scores = cross_validate(RandomForestClassifier(),wine.data, wine.target)\n",
        "np.mean( scores['test_score'])"
      ],
      "metadata": {
        "colab": {
          "base_uri": "https://localhost:8080/"
        },
        "id": "nn1JAD7nli9c",
        "outputId": "5e2db272-12f7-4b5c-e2f2-eb7e689da8d6"
      },
      "execution_count": 13,
      "outputs": [
        {
          "output_type": "execute_result",
          "data": {
            "text/plain": [
              "0.9665079365079364"
            ]
          },
          "metadata": {},
          "execution_count": 13
        }
      ]
    },
    {
      "cell_type": "code",
      "source": [
        "scores = cross_validate(ExtraTreesClassifier(),wine.data, wine.target)\n",
        "np.mean( scores['test_score'])"
      ],
      "metadata": {
        "colab": {
          "base_uri": "https://localhost:8080/"
        },
        "id": "R0T_v4Z1paJ-",
        "outputId": "6a50c2ef-0ba8-4a10-dcea-11ed5f265b4e"
      },
      "execution_count": 14,
      "outputs": [
        {
          "output_type": "execute_result",
          "data": {
            "text/plain": [
              "0.9944444444444445"
            ]
          },
          "metadata": {},
          "execution_count": 14
        }
      ]
    },
    {
      "cell_type": "code",
      "source": [
        "scores = cross_validate(GradientBoostingClassifier(),wine.data, wine.target)\n",
        "np.mean( scores['test_score'])"
      ],
      "metadata": {
        "colab": {
          "base_uri": "https://localhost:8080/"
        },
        "id": "DQa2KjO2p1FG",
        "outputId": "f407b285-87aa-4988-b6bd-1d4333c596de"
      },
      "execution_count": 16,
      "outputs": [
        {
          "output_type": "execute_result",
          "data": {
            "text/plain": [
              "0.9385714285714286"
            ]
          },
          "metadata": {},
          "execution_count": 16
        }
      ]
    },
    {
      "cell_type": "code",
      "source": [
        "scores = cross_validate(HistGradientBoostingClassifier(),wine.data, wine.target)\n",
        "np.mean( scores['test_score'])"
      ],
      "metadata": {
        "colab": {
          "base_uri": "https://localhost:8080/"
        },
        "id": "Hf28kvfEp_gk",
        "outputId": "213dfe6a-519e-4ae4-f97a-5a4956343aa8"
      },
      "execution_count": 18,
      "outputs": [
        {
          "output_type": "execute_result",
          "data": {
            "text/plain": [
              "0.9552380952380952"
            ]
          },
          "metadata": {},
          "execution_count": 18
        }
      ]
    },
    {
      "cell_type": "markdown",
      "source": [
        "앙상블계열의 가장우수한 모델\n",
        "  - XGBoost , LightGBM"
      ],
      "metadata": {
        "id": "r5jQlzggqS3d"
      }
    },
    {
      "cell_type": "code",
      "source": [
        "from xgboost import XGBClassifier\n",
        "scores = cross_validate(XGBClassifier(),wine.data, wine.target)\n",
        "np.mean( scores['test_score'])"
      ],
      "metadata": {
        "colab": {
          "base_uri": "https://localhost:8080/"
        },
        "id": "J1vv70VwqLYU",
        "outputId": "305393ef-c8f9-47f8-b643-c1ec4fd188e1"
      },
      "execution_count": 20,
      "outputs": [
        {
          "output_type": "execute_result",
          "data": {
            "text/plain": [
              "0.9498412698412698"
            ]
          },
          "metadata": {},
          "execution_count": 20
        }
      ]
    },
    {
      "cell_type": "code",
      "source": [
        "from lightgbm import LGBMClassifier\n",
        "scores = cross_validate(LGBMClassifier(),wine.data, wine.target)\n",
        "np.mean( scores['test_score'])"
      ],
      "metadata": {
        "colab": {
          "base_uri": "https://localhost:8080/"
        },
        "id": "q2BTW-BFq9iO",
        "outputId": "1a54aba4-dcfc-4a25-db05-c707f7fb5c60"
      },
      "execution_count": 23,
      "outputs": [
        {
          "output_type": "execute_result",
          "data": {
            "text/plain": [
              "0.9665079365079364"
            ]
          },
          "metadata": {},
          "execution_count": 23
        }
      ]
    },
    {
      "cell_type": "markdown",
      "source": [
        "랜덤포레스트\n",
        "  - dt를 조합한 예측모델\n",
        "  - 부트스트랩 샘플링: 원본데이터집합에서 샘플링(중복을 허용)\n",
        "  - 무작위로 특성 선택(Random Feature Selection) : 무작위로 특성을 선택해서 사용, 최적의 분할 기준을 찾아서 수행\n",
        "  - 앙상블 : tree를 조합해서 예측이나 분류를 수행"
      ],
      "metadata": {
        "id": "vUrKBbM0rVvX"
      }
    },
    {
      "cell_type": "markdown",
      "source": [
        "엑스트라 트리\n",
        "  - 분할기준을 무작위로 선택 해서 학습한 tree중에서 최적의 트리를 선택 \n",
        "  - 부트스트랩 샘플링이 없음 - 전체데이터를 가지고 사용\n",
        "\n"
      ],
      "metadata": {
        "id": "Zz0H1QxosZKY"
      }
    },
    {
      "cell_type": "markdown",
      "source": [
        "그레디언트 부스팅\n",
        "  - 경사하강법을 이용한 학습\n",
        "  - Decision Tree를 사용해서 분할 및 예측 매번 학습된 Tree를 가지고 이전모델의 오차를 보완하고 성능을 향상\n",
        "  - 오차보정기능 : 예측오차에대한 보정을 통해 성능 향상"
      ],
      "metadata": {
        "id": "ZUoP5gzwtF8-"
      }
    },
    {
      "cell_type": "markdown",
      "source": [
        "히스토그램 기반 그레디언트 부스팅\n",
        "  - 대규모데이터를 처리하기위해서 데이터를 히스토그램 구간으로 나누고\n",
        "  - 분할 기준을 세운다음 , 각 단계별로 그레디언트 부스팅을 적용"
      ],
      "metadata": {
        "id": "nP6q7ycPuHEV"
      }
    },
    {
      "cell_type": "markdown",
      "source": [
        "XGBoost(Extreme Gradient Boosting)\n",
        "  - 그레디언트 부스팅 성능 향상 버전\n",
        "  - 규제알고리즘이 적용\n",
        "  - 자동으로 가지치기(depth)\n",
        "  - Earyl Stopping을 적용(조기종료)\n",
        "  - 병렬처리:다중코어를 활용\n",
        "  - 각종 대회에서 수상경력이 많은 모델"
      ],
      "metadata": {
        "id": "NVcT-rIYucxe"
      }
    },
    {
      "cell_type": "markdown",
      "source": [
        "LightGBM\n",
        "  - Gradient Boosting 기반 알고리즘\n",
        "  - 대규모 데이터셋 처리에 탁월한 성능\n",
        "  - 메모리 사용이 적어\n",
        "  - 원-핫인코딩 없이 카테고리를 자동으로 분류"
      ],
      "metadata": {
        "id": "JejaN_MCvNQs"
      }
    },
    {
      "cell_type": "markdown",
      "source": [
        "앙상블학습법 정형데이터에서 가장 뛰어난 성능을 내는 머신러닝\n",
        "  - 사이킷런\n",
        "    - 랜덤포레스트 : 부트스트램 샘플\n",
        "    - 엑스트리 트리 : 결정트리의 노드를 래덤하게 분할\n",
        "    - 그레이디언트 부스팅 : 이전트리의 손실을 보완하는 식으로 얖은 결정트리를 연속해서 추가\n",
        "    - 히스토그램 기반 그레이디언트 부스팅 : 훈련데이터를 256개의 정수구간으로 나누어 빠르고 높은성능\n",
        "            \n",
        "  - 그외 라이브러리\n",
        "    - XGBoost\n",
        "    - LightGBM"
      ],
      "metadata": {
        "id": "NagL_Wslvvlu"
      }
    },
    {
      "cell_type": "markdown",
      "source": [
        "ETC\n",
        "  - SVC\n",
        "  - MLPClassfier - neural_network\n",
        "  - LinearDiscriminantAnalysis\n",
        "  - GaussianNB "
      ],
      "metadata": {
        "id": "1uqLTAw2wnwQ"
      }
    },
    {
      "cell_type": "code",
      "source": [],
      "metadata": {
        "id": "7yHhYXkOsWlI"
      },
      "execution_count": null,
      "outputs": []
    }
  ]
}