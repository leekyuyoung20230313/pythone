{
  "nbformat": 4,
  "nbformat_minor": 0,
  "metadata": {
    "colab": {
      "provenance": []
    },
    "kernelspec": {
      "name": "python3",
      "display_name": "Python 3"
    },
    "language_info": {
      "name": "python"
    }
  },
  "cells": [
    {
      "cell_type": "code",
      "execution_count": 213,
      "metadata": {
        "id": "CBNol7FTSoV5"
      },
      "outputs": [],
      "source": []
    },
    {
      "cell_type": "markdown",
      "source": [
        "SGD python code\n",
        "  - 확률적 경사하강법\n",
        "  - 손실함수의 최소가 되는 값을 찾는 바법\n",
        "  - 손실을 적용할수 있는 모델로 선형회귀인 LinearRegression 을 이용"
      ],
      "metadata": {
        "id": "8XsuRPXCSuCB"
      }
    },
    {
      "cell_type": "markdown",
      "source": [
        "클래스 생성\n",
        "  - 생성자를 통해 필요한 하이퍼 파라메터를 적용"
      ],
      "metadata": {
        "id": "rE4_clmkTBHf"
      }
    },
    {
      "cell_type": "code",
      "source": [
        "import numpy as np\n",
        "from tqdm import tqdm\n",
        "class LinearRegressionGD(object):\n",
        "    def __init__(self, fit_intercept=True, copy_X=True,\n",
        "                 eta0=0.001, epochs=1000, batch_size = 1, \n",
        "                 weight_decay=0.9, shuffle = True):\n",
        "        self.fit_intercept = fit_intercept\n",
        "        self.copy_X = copy_X\n",
        "        self._eta0 = eta0\n",
        "        self._epochs = epochs\n",
        "\n",
        "        self._cost_history = []\n",
        "\n",
        "        self._coef = None\n",
        "        self._intercept = None\n",
        "        self._new_X = None\n",
        "        self._w_history = None\n",
        "        self._weight_decay = weight_decay\n",
        "        self._batch_size = batch_size\n",
        "        self._is_SGD = shuffle\n",
        "\n",
        "    def gradient(self, X, y, theta):  # 경사하강법으로 기울기를 계산  \n",
        "        temp = X.T.dot(self.hypothesis_function(X, theta)-y) / len(X)        \n",
        "        return X.T.dot(self.hypothesis_function(X, theta)-y) / len(X)\n",
        "\n",
        "    def fit(self, X, y):  # 학습\n",
        "        self._new_X = np.array(X)  # X 데이터 할당\n",
        "        y = y.reshape(-1, 1)\n",
        "\n",
        "        if self.fit_intercept:    # intercept 추가 여부  바이어스 사용 여부\n",
        "            # 1로만 구성된 상수항을 모든 데이터를 추가\n",
        "            intercept_vector = np.ones([len(self._new_X), 1])\n",
        "            self._new_X = np.concatenate(\n",
        "                    (intercept_vector, self._new_X), axis=1)\n",
        "        \n",
        "        # elf._new_X.shape  (배치사이트, 속성의 개수)\n",
        "        theta_init = np.random.normal(0, 1, self._new_X.shape[1]) # 가중치 초기화  평균이0이고 std 1인 정규분포\n",
        "        # weight값 초기화\n",
        "        self._w_history = [theta_init]\n",
        "        self._cost_history = [self.cost(\n",
        "                        self.hypothesis_function(self._new_X, theta_init), y)]\n",
        "\n",
        "        theta = theta_init\n",
        "\n",
        "        for epoch in tqdm(range(self._epochs)): # 지정된 epoch의 값만큼 학습 실행            \n",
        "            X_copy = np.copy(self._new_X)            \n",
        "            y_copy = np.copy(y)                        \n",
        "            if self._is_SGD:   # stochastic 적용 여부\n",
        "                # x와 y를 hstack을 해서 합친다음 섞고 분리한다.                      \n",
        "                y_copy = y_copy.reshape(-1,1)\n",
        "                temp = np.hstack((X_copy,y_copy))                \n",
        "                np.random.shuffle( temp )                \n",
        "                X_copy = temp[:,:-1]\n",
        "                y_copy = temp[:,1].reshape(-1,1)         \n",
        "                # np.random.shuffle( X_copy )\n",
        "\n",
        "            batch = len(X_copy) // self._batch_size \n",
        "            # batch 사이즈를 기준으로 전체데이터를 나눔\n",
        "\n",
        "            for batch_count  in range(batch):\n",
        "                X_batch = np.copy(   # BATCH 사이즈를 기준으로 데이터를 slice\n",
        "                            X_copy[batch_count * self._batch_size : (batch_count+1) * self._batch_size])\n",
        "                \n",
        "                y_batch = np.copy(   # BATCH 사이즈를 기준으로 데이터를 slice\n",
        "                            y_copy[batch_count * self._batch_size : (batch_count+1) * self._batch_size])\n",
        "                \n",
        "                gradient = self.gradient(X_batch  , y_batch, theta).flatten()                                \n",
        "                theta = theta - self._eta0 * gradient\n",
        "\n",
        "            if epoch % 100 == 0:\n",
        "                self._w_history.append(theta)\n",
        "                cost = self.cost(\n",
        "                    self.hypothesis_function(self._new_X, theta), y)\n",
        "                self._cost_history.append(cost)\n",
        "            self._eta0 = self._eta0 * self._weight_decay\n",
        "\n",
        "        if self.fit_intercept:\n",
        "            self._intercept = theta[0]\n",
        "            self._coef = theta[1:]\n",
        "        else:\n",
        "            self._coef = theta\n",
        "    \n",
        "    def cost(self, h, y): # 비용함수 \n",
        "        return 1/(2*len(y)) * np.sum((h-y).flatten() ** 2)\n",
        "\n",
        "    def hypothesis_function(self, X, theta):  # 가설함수(값을 예측)        \n",
        "        return X.dot(theta).reshape(-1, 1)\n",
        "    \n",
        "\n",
        "    def predict(self, X):\n",
        "        test_X = np.array(X)\n",
        "\n",
        "        if self.fit_intercept:\n",
        "            intercept_vector = np.ones([len(test_X), 1])\n",
        "            test_X = np.concatenate(\n",
        "                    (intercept_vector, test_X), axis=1)\n",
        "\n",
        "            weights = np.concatenate(([self._intercept], self._coef), axis=0)\n",
        "        else:\n",
        "            weights = self._coef\n",
        "\n",
        "        return test_X.dot(weights)\n",
        "\n",
        "    @property\n",
        "    def coef(self):\n",
        "        return self._coef\n",
        "\n",
        "    @property\n",
        "    def intercept(self):\n",
        "        return self._intercept\n",
        "\n",
        "    @property\n",
        "    def weights_history(self):\n",
        "        return np.array(self._w_history)\n",
        "\n",
        "    @property\n",
        "    def cost_history(self):\n",
        "        return self._cost_history"
      ],
      "metadata": {
        "id": "CRSI7BA2SxCQ"
      },
      "execution_count": 226,
      "outputs": []
    },
    {
      "cell_type": "code",
      "source": [
        "import pandas as pd\n",
        "train_df = pd.read_csv('https://raw.githubusercontent.com/leekyuyoung20230313/pythone/main/%EB%A8%B8%EC%8B%A0%EB%9F%AC%EB%8B%9D/data/train.csv')\n",
        "X = train_df['x'].to_numpy().reshape(-1,1)\n",
        "y = train_df['y'].to_numpy()\n",
        "X.shape, y.shape"
      ],
      "metadata": {
        "colab": {
          "base_uri": "https://localhost:8080/"
        },
        "id": "MZ6eJMivZLni",
        "outputId": "65ce9876-69fb-4bc5-8f9a-91a6b93896eb"
      },
      "execution_count": 227,
      "outputs": [
        {
          "output_type": "execute_result",
          "data": {
            "text/plain": [
              "((700, 1), (700,))"
            ]
          },
          "metadata": {},
          "execution_count": 227
        }
      ]
    },
    {
      "cell_type": "code",
      "source": [
        "gd_lr = LinearRegressionGD(eta0=0.001,epochs=10000,batch_size=1,shuffle=False) #경사하강법\n",
        "bgd_lr = LinearRegressionGD(eta0=0.001,epochs=10000,batch_size=len(X),shuffle=False) #배치 경사하강법\n",
        "sgd_lr = LinearRegressionGD(eta0=0.001,epochs=10000,batch_size=1,shuffle=True) #확률적 경사하강법\n",
        "msgd_lr = LinearRegressionGD(eta0=0.001,epochs=10000,batch_size=100,shuffle=True) #미니배치 확률적 경사하강법"
      ],
      "metadata": {
        "id": "S6iaPCRvcas4"
      },
      "execution_count": 228,
      "outputs": []
    },
    {
      "cell_type": "code",
      "source": [
        "gd_lr.fit(X,y)\n",
        "bgd_lr.fit(X,y)\n",
        "sgd_lr.fit(X,y)\n",
        "msgd_lr.fit(X,y)"
      ],
      "metadata": {
        "colab": {
          "base_uri": "https://localhost:8080/"
        },
        "id": "8DAUO33HdLdm",
        "outputId": "5f2847f5-6fdd-4fe4-9988-868fe519a169"
      },
      "execution_count": 229,
      "outputs": [
        {
          "output_type": "stream",
          "name": "stderr",
          "text": [
            "  0%|          | 0/10000 [00:00<?, ?it/s]<ipython-input-226-1e7ee7175845>:68: RuntimeWarning: invalid value encountered in subtract\n",
            "  theta = theta - self._eta0 * gradient\n",
            "100%|██████████| 10000/10000 [02:22<00:00, 70.18it/s]\n",
            "100%|██████████| 10000/10000 [00:00<00:00, 32065.02it/s]\n",
            "100%|██████████| 10000/10000 [02:33<00:00, 65.14it/s]\n",
            "100%|██████████| 10000/10000 [00:11<00:00, 883.64it/s]\n"
          ]
        }
      ]
    },
    {
      "cell_type": "code",
      "source": [
        "sgd_lr.cost_history"
      ],
      "metadata": {
        "id": "fBbtAhlxlwFJ"
      },
      "execution_count": null,
      "outputs": []
    },
    {
      "cell_type": "code",
      "source": [
        "import matplotlib.pyplot as plt\n",
        "plt.subplot(2,2,1)\n",
        "plt.plot(range(len(gd_lr.cost_history)),gd_lr.cost_history,c='r')\n",
        "plt.subplot(2,2,2)\n",
        "plt.plot(range(len(bgd_lr.cost_history)),bgd_lr.cost_history,c='y')\n",
        "plt.subplot(2,2,3)\n",
        "plt.plot(range(len(sgd_lr.cost_history)),sgd_lr.cost_history,c='g')\n",
        "plt.subplot(2,2,4)\n",
        "plt.plot(range(len(msgd_lr.cost_history)),msgd_lr.cost_history,c='b')"
      ],
      "metadata": {
        "colab": {
          "base_uri": "https://localhost:8080/",
          "height": 463
        },
        "id": "nuPYheOC3aLD",
        "outputId": "31b6298c-02fe-43af-bda7-2d22ff3e7ec1"
      },
      "execution_count": 233,
      "outputs": [
        {
          "output_type": "execute_result",
          "data": {
            "text/plain": [
              "[<matplotlib.lines.Line2D at 0x7f65f92159c0>]"
            ]
          },
          "metadata": {},
          "execution_count": 233
        },
        {
          "output_type": "display_data",
          "data": {
            "text/plain": [
              "<Figure size 640x480 with 4 Axes>"
            ],
            "image/png": "[encoded data removed]"
          },
          "metadata": {}
        }
      ]
    },
    {
      "cell_type": "code",
      "source": [],
      "metadata": {
        "id": "jrTPaAeu4xNj"
      },
      "execution_count": 219,
      "outputs": []
    }
  ]
}