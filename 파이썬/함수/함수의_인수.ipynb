{
  "nbformat": 4,
  "nbformat_minor": 0,
  "metadata": {
    "colab": {
      "provenance": []
    },
    "kernelspec": {
      "name": "python3",
      "display_name": "Python 3"
    },
    "language_info": {
      "name": "python"
    }
  },
  "cells": [
    {
      "cell_type": "code",
      "execution_count": 1,
      "metadata": {
        "id": "gUDnKfrkBzNH"
      },
      "outputs": [],
      "source": [
        "import random as r\n",
        "import turtle as t"
      ]
    },
    {
      "cell_type": "code",
      "source": [
        "def recursive(data):  \n",
        "  data += 1\n",
        "  print(\"data:\",data)   \n",
        "  if data == 3:    \n",
        "    return data   \n",
        "  return data + recursive(data)"
      ],
      "metadata": {
        "id": "egSWbGPyCFKP"
      },
      "execution_count": 2,
      "outputs": []
    },
    {
      "cell_type": "code",
      "source": [
        "print(recursive(0))"
      ],
      "metadata": {
        "colab": {
          "base_uri": "https://localhost:8080/"
        },
        "id": "ey1feILICPc-",
        "outputId": "8b3e528d-1519-4f67-a484-749e7def89b4"
      },
      "execution_count": 3,
      "outputs": [
        {
          "output_type": "stream",
          "name": "stdout",
          "text": [
            "data: 1\n",
            "data: 2\n",
            "data: 3\n",
            "6\n"
          ]
        }
      ]
    },
    {
      "cell_type": "code",
      "source": [
        "def factorial(n):\n",
        "  if n == 1:\n",
        "    return 1\n",
        "  return n*factorial(n-1)"
      ],
      "metadata": {
        "id": "EFynC2UUDNXG"
      },
      "execution_count": 4,
      "outputs": []
    },
    {
      "cell_type": "code",
      "source": [
        "factorial(5)"
      ],
      "metadata": {
        "colab": {
          "base_uri": "https://localhost:8080/"
        },
        "id": "UkyzeW8nJjld",
        "outputId": "8fcf4538-e33b-4893-ff04-baf73e56777c"
      },
      "execution_count": 5,
      "outputs": [
        {
          "output_type": "execute_result",
          "data": {
            "text/plain": [
              "120"
            ]
          },
          "metadata": {},
          "execution_count": 5
        }
      ]
    },
    {
      "cell_type": "code",
      "source": [
        "number = int(input(\"펙토리얼 숫자를 입력하세요\"))\n",
        "print(f\"{number} 펙토리얼은 {factorial(number)} 입니다.\")"
      ],
      "metadata": {
        "colab": {
          "base_uri": "https://localhost:8080/"
        },
        "id": "bDZNitP2JuD9",
        "outputId": "0828b1b1-05be-4842-ad29-f31c3a4f9835"
      },
      "execution_count": 6,
      "outputs": [
        {
          "output_type": "stream",
          "name": "stdout",
          "text": [
            "펙토리얼 숫자를 입력하세요5\n",
            "5 펙토리얼은 120 입니다.\n"
          ]
        }
      ]
    },
    {
      "cell_type": "markdown",
      "source": [
        "키워드 매개변수"
      ],
      "metadata": {
        "id": "vTd3SvH3WURm"
      }
    },
    {
      "cell_type": "code",
      "source": [
        "def calc4(num1,num2,op='+'):\n",
        "  if op == '+':\n",
        "    return num1 + num2\n",
        "  elif op == '-':\n",
        "    return num1 - num2"
      ],
      "metadata": {
        "id": "1d1K9t-CPA7U"
      },
      "execution_count": 7,
      "outputs": []
    },
    {
      "cell_type": "code",
      "source": [
        "print( calc4('-',10,10 ))"
      ],
      "metadata": {
        "colab": {
          "base_uri": "https://localhost:8080/"
        },
        "id": "EaRCRn85Wlre",
        "outputId": "b63a5d8a-8670-48c9-bc35-4bc971689ce1"
      },
      "execution_count": 8,
      "outputs": [
        {
          "output_type": "stream",
          "name": "stdout",
          "text": [
            "None\n"
          ]
        }
      ]
    },
    {
      "cell_type": "code",
      "source": [
        "print( calc4(num1 = 20, num2 = 10, op='-') )"
      ],
      "metadata": {
        "colab": {
          "base_uri": "https://localhost:8080/"
        },
        "id": "Be-oEtsZWpyj",
        "outputId": "cb2fce41-ca30-48c3-c201-fe885926fdf8"
      },
      "execution_count": 9,
      "outputs": [
        {
          "output_type": "stream",
          "name": "stdout",
          "text": [
            "10\n"
          ]
        }
      ]
    },
    {
      "cell_type": "code",
      "source": [
        "print( calc4(10,20))"
      ],
      "metadata": {
        "colab": {
          "base_uri": "https://localhost:8080/"
        },
        "id": "4lzIa8mPW3hb",
        "outputId": "18881180-0d3a-4f11-f15d-8e7516c08cdf"
      },
      "execution_count": 10,
      "outputs": [
        {
          "output_type": "stream",
          "name": "stdout",
          "text": [
            "30\n"
          ]
        }
      ]
    },
    {
      "cell_type": "code",
      "source": [
        "def myfunc(a):\n",
        "  print(a)"
      ],
      "metadata": {
        "id": "5uOtuY6aXjzG"
      },
      "execution_count": 11,
      "outputs": []
    },
    {
      "cell_type": "code",
      "source": [
        "def myfunc(a,b=\"\"):\n",
        "  print(a,b)"
      ],
      "metadata": {
        "id": "yzzLtifzYJ-7"
      },
      "execution_count": 12,
      "outputs": []
    },
    {
      "cell_type": "code",
      "source": [
        "myfunc(10,20)"
      ],
      "metadata": {
        "colab": {
          "base_uri": "https://localhost:8080/"
        },
        "id": "OK469t8YYMVU",
        "outputId": "bbe94ebf-09ec-478a-8f11-a07c50519f4f"
      },
      "execution_count": 13,
      "outputs": [
        {
          "output_type": "stream",
          "name": "stdout",
          "text": [
            "10 20\n"
          ]
        }
      ]
    },
    {
      "cell_type": "code",
      "source": [
        "def add(a=0,b=0,c=0,d=0,e=0,f=0):\n",
        "  return a+b+c+d+e+f"
      ],
      "metadata": {
        "id": "2pHtI52rYUTy"
      },
      "execution_count": 14,
      "outputs": []
    },
    {
      "cell_type": "code",
      "source": [
        "print( add (10,20,30,40) )"
      ],
      "metadata": {
        "colab": {
          "base_uri": "https://localhost:8080/"
        },
        "id": "IYpWynm9YzcD",
        "outputId": "e915d944-1ceb-4ca7-94e3-c1afccfa6505"
      },
      "execution_count": 15,
      "outputs": [
        {
          "output_type": "stream",
          "name": "stdout",
          "text": [
            "100\n"
          ]
        }
      ]
    },
    {
      "cell_type": "markdown",
      "source": [
        "디폴트 매개변수와 일반 매개변수를 같이 사용하는 경우"
      ],
      "metadata": {
        "id": "alp-6bPIdVpr"
      }
    },
    {
      "cell_type": "code",
      "source": [
        "def myfunc(a, b = 0, c = 0):\n",
        "  pass"
      ],
      "metadata": {
        "id": "Qv6I67ifdVN2"
      },
      "execution_count": 16,
      "outputs": []
    },
    {
      "cell_type": "code",
      "source": [
        "myfunc(1,2)"
      ],
      "metadata": {
        "id": "cD9vCtZLY1OD"
      },
      "execution_count": 17,
      "outputs": []
    },
    {
      "cell_type": "markdown",
      "source": [
        "가변 매개변수"
      ],
      "metadata": {
        "id": "e-L57G0jfVt2"
      }
    },
    {
      "cell_type": "code",
      "source": [
        "def myfunc(*datas):  # 튜플형태로 들어옴\n",
        "  print(type(datas), datas)\n",
        "  # for i in datas:\n",
        "  #   print(i)\n"
      ],
      "metadata": {
        "id": "IZe9GHNndkai"
      },
      "execution_count": 18,
      "outputs": []
    },
    {
      "cell_type": "code",
      "source": [
        "myfunc(1,2,3,4,5)"
      ],
      "metadata": {
        "colab": {
          "base_uri": "https://localhost:8080/"
        },
        "id": "ceZ2_ZU7flk6",
        "outputId": "6c8f136f-2581-42cd-e23b-875ab368b478"
      },
      "execution_count": 19,
      "outputs": [
        {
          "output_type": "stream",
          "name": "stdout",
          "text": [
            "<class 'tuple'> (1, 2, 3, 4, 5)\n"
          ]
        }
      ]
    },
    {
      "cell_type": "code",
      "source": [
        "lists = [1,2,3,'100','200','홍길동',12.5,25.3, [1,2,3],(1,2,3),{'a':1,'b':2}]"
      ],
      "metadata": {
        "id": "TNAuGzKyfplR"
      },
      "execution_count": 20,
      "outputs": []
    },
    {
      "cell_type": "code",
      "source": [
        "# 집합에서 정수만 추출하는 함수\n",
        "def findInt(*datas):\n",
        "  for i in datas:\n",
        "    if type(i) == int:\n",
        "      print(i)"
      ],
      "metadata": {
        "id": "RX3LVWZpgE7y"
      },
      "execution_count": 22,
      "outputs": []
    },
    {
      "cell_type": "code",
      "source": [
        "findInt(1,2,3,'100','200','홍길동',12.5,25.3, [1,2,3],(1,2,3),{'a':1,'b':2})"
      ],
      "metadata": {
        "colab": {
          "base_uri": "https://localhost:8080/"
        },
        "id": "F4L7bDv1gh-h",
        "outputId": "1738f6af-bdbc-4c81-eb2e-f92972a81494"
      },
      "execution_count": 23,
      "outputs": [
        {
          "output_type": "stream",
          "name": "stdout",
          "text": [
            "1\n",
            "2\n",
            "3\n"
          ]
        }
      ]
    },
    {
      "cell_type": "markdown",
      "source": [
        "일반변수와 가변매개변수가 같이 사용하는 경우"
      ],
      "metadata": {
        "id": "6urofpgXgxzI"
      }
    },
    {
      "cell_type": "code",
      "source": [
        "def myfunc(*datas,a):\n",
        "  print(datas,a)"
      ],
      "metadata": {
        "id": "Z7FXYcfggqGx"
      },
      "execution_count": 29,
      "outputs": []
    },
    {
      "cell_type": "code",
      "source": [
        "myfunc(1, 2,3,4,a= 5)"
      ],
      "metadata": {
        "colab": {
          "base_uri": "https://localhost:8080/"
        },
        "id": "0VmAPbafg7Kq",
        "outputId": "1144356e-b203-4026-af81-6ee0a4d929e9"
      },
      "execution_count": 39,
      "outputs": [
        {
          "output_type": "stream",
          "name": "stdout",
          "text": [
            "(1, 2, 3, 4) 5\n"
          ]
        }
      ]
    },
    {
      "cell_type": "code",
      "source": [
        "myfunc(1, 2,3,4,5)"
      ],
      "metadata": {
        "colab": {
          "base_uri": "https://localhost:8080/",
          "height": 171
        },
        "id": "Vtx0oBj4idfx",
        "outputId": "0bc6d572-d027-4157-fb2b-c75b32b2e530"
      },
      "execution_count": 40,
      "outputs": [
        {
          "output_type": "error",
          "ename": "TypeError",
          "evalue": "ignored",
          "traceback": [
            "\u001b[0;31m---------------------------------------------------------------------------\u001b[0m",
            "\u001b[0;31mTypeError\u001b[0m                                 Traceback (most recent call last)",
            "\u001b[0;32m<ipython-input-40-e96c7b2f0b2f>\u001b[0m in \u001b[0;36m<module>\u001b[0;34m\u001b[0m\n\u001b[0;32m----> 1\u001b[0;31m \u001b[0mmyfunc\u001b[0m\u001b[0;34m(\u001b[0m\u001b[0;36m1\u001b[0m\u001b[0;34m,\u001b[0m \u001b[0;36m2\u001b[0m\u001b[0;34m,\u001b[0m\u001b[0;36m3\u001b[0m\u001b[0;34m,\u001b[0m\u001b[0;36m4\u001b[0m\u001b[0;34m,\u001b[0m\u001b[0;36m5\u001b[0m\u001b[0;34m)\u001b[0m\u001b[0;34m\u001b[0m\u001b[0;34m\u001b[0m\u001b[0m\n\u001b[0m",
            "\u001b[0;31mTypeError\u001b[0m: myfunc() missing 1 required keyword-only argument: 'a'"
          ]
        }
      ]
    },
    {
      "cell_type": "markdown",
      "source": [
        "일반매개변수, 디폴트매개변수, 가변매개변수"
      ],
      "metadata": {
        "id": "8eofN7kYjQF9"
      }
    },
    {
      "cell_type": "code",
      "source": [
        "def myfunc(a, b = 0, *c):\n",
        "  print(a,b,c)"
      ],
      "metadata": {
        "id": "7YA-gR8DjBBJ"
      },
      "execution_count": 44,
      "outputs": []
    },
    {
      "cell_type": "code",
      "source": [
        "def myfunc(a, *b, c = 0):\n",
        "  print(a,b,c)"
      ],
      "metadata": {
        "id": "-AcsQiDDkcbx"
      },
      "execution_count": 48,
      "outputs": []
    },
    {
      "cell_type": "code",
      "source": [
        "myfunc(1,2,3,4,5)"
      ],
      "metadata": {
        "colab": {
          "base_uri": "https://localhost:8080/"
        },
        "id": "WuKRcqD1jx1j",
        "outputId": "84e9e6d0-adf1-48fb-d806-1536e8c69892"
      },
      "execution_count": 49,
      "outputs": [
        {
          "output_type": "stream",
          "name": "stdout",
          "text": [
            "1 (2, 3, 4, 5) 0\n"
          ]
        }
      ]
    },
    {
      "cell_type": "code",
      "source": [
        "# print(value, ..., sep=' ', end='\\n', file=sys.stdout, flush=False)\n",
        "# 일반매개변수, 가변매개변수, 디폴트 매개변수"
      ],
      "metadata": {
        "id": "E1qyJkiVj7Wh"
      },
      "execution_count": 50,
      "outputs": []
    },
    {
      "cell_type": "code",
      "source": [],
      "metadata": {
        "id": "ELLu2Dzql29p"
      },
      "execution_count": null,
      "outputs": []
    }
  ]
}