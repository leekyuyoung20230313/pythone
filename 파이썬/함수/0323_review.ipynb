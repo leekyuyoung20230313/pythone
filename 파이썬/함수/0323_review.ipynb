{
  "nbformat": 4,
  "nbformat_minor": 0,
  "metadata": {
    "colab": {
      "provenance": []
    },
    "kernelspec": {
      "name": "python3",
      "display_name": "Python 3"
    },
    "language_info": {
      "name": "python"
    }
  },
  "cells": [
    {
      "cell_type": "markdown",
      "source": [
        "조건문\n",
        "  - if ~ elif ~ else\n",
        "  - switch 지원안함\n",
        "반복문\n",
        "  - while\n",
        "  - for   --> 사용빈도수가 많다.\n",
        "    - 리스트 컴프리핸선"
      ],
      "metadata": {
        "id": "C0-r_5oT5-A7"
      }
    },
    {
      "cell_type": "markdown",
      "source": [
        "![image.png](data:image/png;base64,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)"
      ],
      "metadata": {
        "id": "kTrbeAhv69RE"
      }
    },
    {
      "cell_type": "code",
      "execution_count": 2,
      "metadata": {
        "colab": {
          "base_uri": "https://localhost:8080/"
        },
        "id": "oBRybhXj47Zs",
        "outputId": "53a42e86-a3bb-43fc-bf78-71850087fec0"
      },
      "outputs": [
        {
          "output_type": "execute_result",
          "data": {
            "text/plain": [
              "7"
            ]
          },
          "metadata": {},
          "execution_count": 2
        }
      ],
      "source": [
        "list_1 = [1,5,7,3]\n",
        "maxlist =  max(list_1)\n",
        "maxlist"
      ]
    },
    {
      "cell_type": "code",
      "source": [
        "a = sorted(list_1)\n",
        "a"
      ],
      "metadata": {
        "colab": {
          "base_uri": "https://localhost:8080/"
        },
        "id": "KdzUnhER8Uld",
        "outputId": "d4150bf6-930e-4308-9a63-5e0d08825a04"
      },
      "execution_count": 5,
      "outputs": [
        {
          "output_type": "execute_result",
          "data": {
            "text/plain": [
              "[1, 3, 5, 7]"
            ]
          },
          "metadata": {},
          "execution_count": 5
        }
      ]
    },
    {
      "cell_type": "code",
      "source": [
        "list_1.sort()"
      ],
      "metadata": {
        "id": "c4oIMGOg9TTI"
      },
      "execution_count": 6,
      "outputs": []
    },
    {
      "cell_type": "code",
      "source": [
        "import random\n",
        "random.shuffle(list_1)"
      ],
      "metadata": {
        "id": "e9sUd7Je9bcL"
      },
      "execution_count": 7,
      "outputs": []
    },
    {
      "cell_type": "markdown",
      "source": [
        "함수의 사용 목적은\n",
        "  - 코드의 재 사용\n",
        "  - 유지보수 및 코드의 간결성을 위해"
      ],
      "metadata": {
        "id": "jcbZ-j2u-pVk"
      }
    },
    {
      "cell_type": "code",
      "source": [
        "def menu():\n",
        "  print(\"1. 이름을 입력하세요\")\n",
        "  print(\"2. 점수를 입력하세요\")\n",
        "  print(\"3. 결과를 출력합니다.\")"
      ],
      "metadata": {
        "id": "mt2dt-KE9m27"
      },
      "execution_count": 8,
      "outputs": []
    },
    {
      "cell_type": "code",
      "source": [
        "menu()"
      ],
      "metadata": {
        "colab": {
          "base_uri": "https://localhost:8080/"
        },
        "id": "qB7kJgNVASyN",
        "outputId": "5dd008ed-4b4b-4c12-f7f0-0dc7935ef47f"
      },
      "execution_count": 10,
      "outputs": [
        {
          "output_type": "stream",
          "name": "stdout",
          "text": [
            "1. 이름을 입력하세요\n",
            "2. 점수를 입력하세요\n",
            "3. 결과를 출력합니다.\n"
          ]
        }
      ]
    },
    {
      "cell_type": "code",
      "source": [
        "def add(x,y):\n",
        "  return x+y"
      ],
      "metadata": {
        "id": "X5ZBSej2_FgN"
      },
      "execution_count": 18,
      "outputs": []
    },
    {
      "cell_type": "code",
      "source": [
        "result =  add(10,20)\n"
      ],
      "metadata": {
        "id": "2xjFcFOq__Yj"
      },
      "execution_count": null,
      "outputs": []
    },
    {
      "cell_type": "code",
      "source": [
        "for x in [1,2,3]:\n",
        "  pass"
      ],
      "metadata": {
        "id": "R7Nc0J6YB0OW"
      },
      "execution_count": 20,
      "outputs": []
    },
    {
      "cell_type": "code",
      "source": [
        "x"
      ],
      "metadata": {
        "colab": {
          "base_uri": "https://localhost:8080/"
        },
        "id": "SFAEH2QkB0lz",
        "outputId": "89eaca47-b8ef-4f55-a1a6-21c152cf1cf6"
      },
      "execution_count": 21,
      "outputs": [
        {
          "output_type": "execute_result",
          "data": {
            "text/plain": [
              "3"
            ]
          },
          "metadata": {},
          "execution_count": 21
        }
      ]
    },
    {
      "cell_type": "code",
      "source": [
        "for i in [1,2,3]:\n",
        "  for j in [10,20,30]:\n",
        "    pass"
      ],
      "metadata": {
        "id": "MlBeQhdhDrVE"
      },
      "execution_count": 22,
      "outputs": []
    },
    {
      "cell_type": "code",
      "source": [
        "i, j"
      ],
      "metadata": {
        "colab": {
          "base_uri": "https://localhost:8080/"
        },
        "id": "uza1uul8EcBM",
        "outputId": "fd3608fc-623d-4d59-cd62-e1cba344f0ce"
      },
      "execution_count": 23,
      "outputs": [
        {
          "output_type": "execute_result",
          "data": {
            "text/plain": [
              "(3, 30)"
            ]
          },
          "metadata": {},
          "execution_count": 23
        }
      ]
    },
    {
      "cell_type": "code",
      "source": [
        "def minus(a,b):\n",
        "  return a-b\n",
        "def multi(a,b):\n",
        "  return a*b\n",
        "def divide(a,b):\n",
        "  if b != 0:            \n",
        "    return a/b     \n",
        "  print(\"0으로 나눌수 없습니다. \")\n",
        "  b = int(input(\"0이 아닌 숫자를 입력하세요\"))\n",
        "  return a/b"
      ],
      "metadata": {
        "id": "20KJOraZEdlU"
      },
      "execution_count": 26,
      "outputs": []
    },
    {
      "cell_type": "code",
      "source": [
        "divide(10,0)"
      ],
      "metadata": {
        "colab": {
          "base_uri": "https://localhost:8080/"
        },
        "id": "7jnvZ_x3J1UC",
        "outputId": "649e3549-07d9-441d-c392-21b264884e19"
      },
      "execution_count": 27,
      "outputs": [
        {
          "name": "stdout",
          "output_type": "stream",
          "text": [
            "0으로 나눌수 없습니다. \n",
            "0이 아닌 숫자를 입력하세요2\n"
          ]
        },
        {
          "output_type": "execute_result",
          "data": {
            "text/plain": [
              "5.0"
            ]
          },
          "metadata": {},
          "execution_count": 27
        }
      ]
    },
    {
      "cell_type": "code",
      "source": [
        "# 사용자로부터 나이를 입력받는다.(1 ~ 150) - 조건문과 순환문  isdigit()\n",
        "# 성인(20세 이상)이면 요금이 15000 이고 청소년이면 8000(12~19) - 조건문\n",
        "# 그밖이 연령은 3000원을 받는다 -적당한변수\n",
        "# 영업이 종료되면 결산을한다.  -프린트\n",
        "# 성인  청소년  그외  \\t 을 end옵션에 넣어서 적절히 표현\n",
        "#  5      10      2\n",
        "# 75,000  80,000   6,000\n",
        "# total : 161,000원"
      ],
      "metadata": {
        "id": "edz8NkU2J2l9"
      },
      "execution_count": 28,
      "outputs": []
    },
    {
      "cell_type": "code",
      "source": [
        "def getAge():\n",
        "  '''숫자만 입력받로 값의 범위는 1 ~ 150'''\n",
        "  while True:\n",
        "    age = input(\"나이를 입력하세요:\")\n",
        "    if age.isdigit() and 1 <= int(age) <=150:      \n",
        "      return int(age)\n",
        "\n",
        "def checkAge(age, enternum):\n",
        "  '''age:나이 , enternum:딕셔너리'''\n",
        "  if age >= 20:\n",
        "    enternum['adult'] += 1\n",
        "  elif age>=12:\n",
        "    enternum['teenager'] += 1\n",
        "  else:\n",
        "    enternum['etc'] += 1   \n",
        "\n",
        "def showResult(enternum):  \n",
        "  '''enternum:딕셔너리를 받아서 출력'''\n",
        "  print(\"성인\\t청소년\\t그외\")    \n",
        "  print(f\"{enternum['adult']}\\t{enternum['teenager']}\\t{enternum['etc']}\")\n",
        "  print(f\"{enternum['adult']*15000}\\t{enternum['teenager']*8000}\\t{enternum['etc']*3000}\")\n",
        "  total = enternum['adult']*15000+enternum['teenager']*8000+enternum['etc']*3000\n",
        "  print(f\"total = {total}\")\n"
      ],
      "metadata": {
        "id": "oDcCAvJYXLA1"
      },
      "execution_count": null,
      "outputs": []
    },
    {
      "cell_type": "code",
      "source": [
        "# 10명 정원이고 정원을 꽉 채웠다고 하면\n",
        "enternum = {\"adult\":0, \"teenager\":0, \"etc\":0}\n",
        "for _  in range(5):    \n",
        "  age = getAge()\n",
        "  checkAge(age,enternum)  \n",
        "  showResult(enternum) "
      ],
      "metadata": {
        "id": "aZ_F2rIbM3pQ"
      },
      "execution_count": null,
      "outputs": []
    },
    {
      "cell_type": "markdown",
      "source": [
        "함수의 매개변수(parameter), 인수(agument)\n",
        "  - 함수에 전달되는 값"
      ],
      "metadata": {
        "id": "3NOOZA50bPmv"
      }
    },
    {
      "cell_type": "code",
      "source": [
        "def add(a,b):\n",
        "  return a+b"
      ],
      "metadata": {
        "id": "WRt_f8rhZfj5"
      },
      "execution_count": 32,
      "outputs": []
    },
    {
      "cell_type": "code",
      "source": [
        "# print(value, ..., sep=' ', end='\\n', file=sys.stdout, flush=False)\n",
        "print"
      ],
      "metadata": {
        "id": "bp8aD4hBbyP_"
      },
      "execution_count": null,
      "outputs": []
    },
    {
      "cell_type": "code",
      "source": [
        "#함수의 4가지 case\n",
        "#1 파라메터도 없고 리턴도 없다\n",
        "from datetime import datetime\n",
        "\n",
        "def showCurrentTime():\n",
        "  print(\"현재시간:\",datetime.now())\n",
        "\n",
        "def getCurrentTime():\n",
        "  return datetime.now()\n",
        "\n",
        "def showFormattedCuttentTime(formatted):\n",
        "  '''%Y-%m-%d %H:%M:%S'''\n",
        "  now = datetime.now()\n",
        "  print(now.strftime(formatted))\n",
        "\n",
        "def getFormattedCuttentTime(formatted):\n",
        "  '''%Y-%m-%d %H:%M:%S'''\n",
        "  now = datetime.now()\n",
        "  return now.strftime(formatted)  "
      ],
      "metadata": {
        "id": "j_lQnXTMv8qw"
      },
      "execution_count": 51,
      "outputs": []
    },
    {
      "cell_type": "code",
      "source": [
        "showFormattedCuttentTime('%Y-%m-%d')"
      ],
      "metadata": {
        "colab": {
          "base_uri": "https://localhost:8080/"
        },
        "id": "HNQ-TDkxwZEj",
        "outputId": "d2e25854-7444-4f60-e7cb-716ce94cc241"
      },
      "execution_count": 52,
      "outputs": [
        {
          "output_type": "stream",
          "name": "stdout",
          "text": [
            "2023-03-23\n"
          ]
        }
      ]
    },
    {
      "cell_type": "code",
      "source": [
        "list1 = [0]\n",
        "list2 = list1"
      ],
      "metadata": {
        "id": "lOO9ll8Bwb8i"
      },
      "execution_count": 54,
      "outputs": []
    },
    {
      "cell_type": "code",
      "source": [
        "# 나누기 함수: 결과를 리턴하는 함수\n",
        "def divide(x,y,result):  \n",
        "  if y == 0:\n",
        "    return False\n",
        "  else:\n",
        "    result[0] = x / y\n",
        "    return True"
      ],
      "metadata": {
        "id": "1a9wrtWbAeHA"
      },
      "execution_count": 58,
      "outputs": []
    },
    {
      "cell_type": "code",
      "source": [
        "x = 10; y = 0 ;result = [0]\n",
        "if (divide(x,y,result) ):\n",
        "  print(result[0])\n",
        "else:\n",
        "  print(\"계산실패, y값을 확인하세요\")"
      ],
      "metadata": {
        "colab": {
          "base_uri": "https://localhost:8080/"
        },
        "id": "DYtCown1CdJ0",
        "outputId": "3aec258a-5e69-42ac-e809-9917c62d63a8"
      },
      "execution_count": 61,
      "outputs": [
        {
          "output_type": "stream",
          "name": "stdout",
          "text": [
            "계산실패, y값을 확인하세요\n"
          ]
        }
      ]
    },
    {
      "cell_type": "code",
      "source": [],
      "metadata": {
        "id": "pJKNIvZ8DhDt"
      },
      "execution_count": null,
      "outputs": []
    }
  ]
}