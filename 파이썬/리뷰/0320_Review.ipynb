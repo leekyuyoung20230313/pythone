{
  "nbformat": 4,
  "nbformat_minor": 0,
  "metadata": {
    "colab": {
      "provenance": []
    },
    "kernelspec": {
      "name": "python3",
      "display_name": "Python 3"
    },
    "language_info": {
      "name": "python"
    }
  },
  "cells": [
    {
      "cell_type": "markdown",
      "source": [
        "변수\n",
        "  - 만드는 방법\n",
        "    - 변수명 = 값  (변수선언과 동시에 초기화)\n",
        "    - 값이없는 변수를 만들기 위해서는 None으로 초기화 한다\n",
        "  - 데이터 타입\n",
        "    - 숫자\n",
        "      - 정수\n",
        "      - 실수\n",
        "    - 문자\n",
        "    - 논리형\n",
        "  - 타입변경(주로... 숫자형 문자열을 숫자로변경할때 자주 일어남)\n",
        "    - 문자 <-> 숫자\n",
        "    - 명령어\n",
        "      - int()\n",
        "      - float()\n",
        "      - str()     \n",
        "파이썬 변수의 특징\n",
        "  - 데이터타입을 특정하지 않는다\n",
        "  - 해당 변수에는 어떤타입의 데이터가 들어있는지 모른다\n",
        "  - 변수에 들어있는 데이터 타입을 조사하는 각종 명령어들이 존재      \n",
        "    - chat gpt를 통해 물어서 채워놓을것"
      ],
      "metadata": {
        "id": "zKJw4BFkgQXL"
      }
    },
    {
      "cell_type": "code",
      "source": [
        "# 적당한 변수를 만들것\n",
        "name = \"이규영\"\n",
        "# 변수를 사용하려면.. 연산을 해야한다.\n",
        "name2 = name * 3\n",
        "#  총 연산자는 두개  , 곱셈, 대입\n",
        "# 저장할 대상 = 데이터\n",
        "# lvalue, rvalue\n",
        "name3 = name + '3'"
      ],
      "metadata": {
        "id": "Y0gX7lQZgt0T"
      },
      "execution_count": 8,
      "outputs": []
    },
    {
      "cell_type": "code",
      "source": [
        "product = None # 초기화 하지 않은 변수는 사용할수 없으며 이 문장은 초기화가 아니라\n",
        "# 변수를 인지할수 있도록 빈 값(null)로 선언함"
      ],
      "metadata": {
        "id": "9wIMdTsPkDoV"
      },
      "execution_count": 14,
      "outputs": []
    },
    {
      "cell_type": "code",
      "source": [
        "# product + 1  # error"
      ],
      "metadata": {
        "id": "uVIk56h0kOza"
      },
      "execution_count": 12,
      "outputs": []
    },
    {
      "cell_type": "code",
      "source": [
        "product = \"\" # 초기화\n",
        "product = product + \"10\""
      ],
      "metadata": {
        "id": "vBCqc3Jtlwji"
      },
      "execution_count": 17,
      "outputs": []
    },
    {
      "cell_type": "code",
      "source": [
        "# 타이별 초기화 (문법은아니고 경험에 의한것)\n",
        "data = 0\n",
        "data = 0.0\n",
        "data = \"\"\n",
        "data = False\n"
      ],
      "metadata": {
        "id": "7LhzVxpFpGnA"
      },
      "execution_count": 18,
      "outputs": []
    },
    {
      "cell_type": "code",
      "source": [
        "# 정수(실수)끼리 연산\n",
        "print(1+1, 1-1, 1*1, 1/1)\n",
        "print(5 // 2, 5 % 2, 5**2 )"
      ],
      "metadata": {
        "colab": {
          "base_uri": "https://localhost:8080/"
        },
        "id": "_-gw3UCorejb",
        "outputId": "31d3badd-54b7-47a1-88c3-aff9a969a99e"
      },
      "execution_count": 20,
      "outputs": [
        {
          "output_type": "stream",
          "name": "stdout",
          "text": [
            "2 0 1 1.0\n",
            "2 1 25\n"
          ]
        }
      ]
    },
    {
      "cell_type": "code",
      "source": [
        "# 숫자형인 정수와 실수의 연산\n",
        "print(1 + 1.2, 1 - 1.2 , 1 * 1.2, 1 / 1.2)\n",
        "print(5 // 2.2 , 5 % 2.2 , 5**2.2 )"
      ],
      "metadata": {
        "colab": {
          "base_uri": "https://localhost:8080/"
        },
        "id": "9OmM7KsQsFqo",
        "outputId": "52a91bf8-ceec-4f08-aa4a-ebf7d83d2696"
      },
      "execution_count": 21,
      "outputs": [
        {
          "output_type": "stream",
          "name": "stdout",
          "text": [
            "2.2 -0.19999999999999996 1.2 0.8333333333333334\n",
            "2.0 0.5999999999999996 34.493241536530384\n"
          ]
        }
      ]
    },
    {
      "cell_type": "code",
      "source": [
        "# 불린형 연산(참과 거짓)\n",
        "print(False + False, False - False, False * False, False / False)"
      ],
      "metadata": {
        "colab": {
          "base_uri": "https://localhost:8080/",
          "height": 189
        },
        "id": "_Ib3i7w6srp_",
        "outputId": "9719b1ac-570d-4b09-90f5-c2ff48f6fbc4"
      },
      "execution_count": 23,
      "outputs": [
        {
          "output_type": "error",
          "ename": "ZeroDivisionError",
          "evalue": "ignored",
          "traceback": [
            "\u001b[0;31m---------------------------------------------------------------------------\u001b[0m",
            "\u001b[0;31mZeroDivisionError\u001b[0m                         Traceback (most recent call last)",
            "\u001b[0;32m<ipython-input-23-3df87f570d0b>\u001b[0m in \u001b[0;36m<module>\u001b[0;34m\u001b[0m\n\u001b[1;32m      1\u001b[0m \u001b[0;31m# 불린형 연산(참과 거짓)\u001b[0m\u001b[0;34m\u001b[0m\u001b[0;34m\u001b[0m\u001b[0m\n\u001b[0;32m----> 2\u001b[0;31m \u001b[0mprint\u001b[0m\u001b[0;34m(\u001b[0m\u001b[0;32mFalse\u001b[0m \u001b[0;34m+\u001b[0m \u001b[0;32mFalse\u001b[0m\u001b[0;34m,\u001b[0m \u001b[0;32mFalse\u001b[0m \u001b[0;34m-\u001b[0m \u001b[0;32mFalse\u001b[0m\u001b[0;34m,\u001b[0m \u001b[0;32mFalse\u001b[0m \u001b[0;34m*\u001b[0m \u001b[0;32mFalse\u001b[0m\u001b[0;34m,\u001b[0m \u001b[0;32mFalse\u001b[0m \u001b[0;34m/\u001b[0m \u001b[0;32mFalse\u001b[0m\u001b[0;34m)\u001b[0m\u001b[0;34m\u001b[0m\u001b[0;34m\u001b[0m\u001b[0m\n\u001b[0m",
            "\u001b[0;31mZeroDivisionError\u001b[0m: division by zero"
          ]
        }
      ]
    },
    {
      "cell_type": "code",
      "source": [
        "print(True + True, True - True, True * True, True / True)"
      ],
      "metadata": {
        "colab": {
          "base_uri": "https://localhost:8080/"
        },
        "id": "i_wPaLu8tFpE",
        "outputId": "4f1f5f0b-419f-4aea-c423-95a09c6750cf"
      },
      "execution_count": 24,
      "outputs": [
        {
          "output_type": "stream",
          "name": "stdout",
          "text": [
            "2 0 1 1.0\n"
          ]
        }
      ]
    },
    {
      "cell_type": "code",
      "source": [
        "# 1. 불린형 산술연산\n",
        "print(True * True )  # True\n",
        "print(True * False)  # False\n",
        "print(False * True)  # False\n",
        "print(False * False) # False"
      ],
      "metadata": {
        "colab": {
          "base_uri": "https://localhost:8080/"
        },
        "id": "_egTw2Fqtij3",
        "outputId": "5ef48caf-9a1d-4b13-ad7f-8d367535bf8f"
      },
      "execution_count": 26,
      "outputs": [
        {
          "output_type": "stream",
          "name": "stdout",
          "text": [
            "1\n",
            "0\n",
            "0\n",
            "0\n"
          ]
        }
      ]
    },
    {
      "cell_type": "code",
      "source": [
        "# 논리 연산\n",
        "# and ---> 위의 1번과 개념이 동일한다   -->논리 곱\n",
        "# 조건1 and 조건2 \n"
      ],
      "metadata": {
        "id": "X_rdUKcBtqJg"
      },
      "execution_count": null,
      "outputs": []
    },
    {
      "cell_type": "code",
      "source": [
        "# 1. 불린형 산술연산\n",
        "print(True + True )  # True\n",
        "print(True + False)  # True\n",
        "print(False + True)  # True\n",
        "print(False + False) # False"
      ],
      "metadata": {
        "colab": {
          "base_uri": "https://localhost:8080/"
        },
        "id": "HJY6EfBRuuUN",
        "outputId": "5825d0dd-b536-490a-9219-02f3dc9ad950"
      },
      "execution_count": 27,
      "outputs": [
        {
          "output_type": "stream",
          "name": "stdout",
          "text": [
            "2\n",
            "1\n",
            "1\n",
            "0\n"
          ]
        }
      ]
    },
    {
      "cell_type": "code",
      "source": [
        "# 논리연사자 중에서 or는 논리 합"
      ],
      "metadata": {
        "id": "9K6eeK4_ux2v"
      },
      "execution_count": 32,
      "outputs": []
    },
    {
      "cell_type": "code",
      "source": [
        "# 타입변경( 타 언어에서 타입변경은 변수자체를 변경)\n",
        "# 파이썬에서는 변수에 들어 있는 데이터를 변경\n",
        "# 키보드 입력을 통해 숫자를입력받았다.. 이때 숫자는 무슨 타입인가?  -> 문자열\n",
        "number = input(\"숫자를 입력하세요 : \")\n",
        "# number의 타입은? -- 타입을 알아보는 명령는 type( number )\n",
        "print(type( number ))\n",
        "int(number) + 150"
      ],
      "metadata": {
        "colab": {
          "base_uri": "https://localhost:8080/"
        },
        "id": "UUaJlaGQviNP",
        "outputId": "d2a214dc-ee72-4e5f-f067-872413577a71"
      },
      "execution_count": 37,
      "outputs": [
        {
          "output_type": "stream",
          "name": "stdout",
          "text": [
            "숫자를 입력하세요 : 10\n",
            "<class 'str'>\n"
          ]
        },
        {
          "output_type": "execute_result",
          "data": {
            "text/plain": [
              "160"
            ]
          },
          "metadata": {},
          "execution_count": 37
        }
      ]
    },
    {
      "cell_type": "code",
      "source": [
        "# 타입변경\n",
        "# int()  float()  str()\n",
        "# bool(125623201)\n",
        "# bool(0) --> False"
      ],
      "metadata": {
        "colab": {
          "base_uri": "https://localhost:8080/"
        },
        "id": "8b27C6Aby0cH",
        "outputId": "093bf2f5-5b0c-4aec-a33b-71b6fd4830da"
      },
      "execution_count": 40,
      "outputs": [
        {
          "output_type": "execute_result",
          "data": {
            "text/plain": [
              "True"
            ]
          },
          "metadata": {},
          "execution_count": 40
        }
      ]
    },
    {
      "cell_type": "code",
      "source": [
        "# 파이썬에서 변수에 들어 잇는 데이터의 타입은 무엇일까?\n",
        "num = '10'\n",
        "print(type(num))          # 타입에 상관없이 사용가능\n",
        "print(isinstance(num, int)) # 타입에 상관없이 사용가능\n",
        "print(num.isdigit() ) # 문자열인 경우만 해당"
      ],
      "metadata": {
        "colab": {
          "base_uri": "https://localhost:8080/"
        },
        "id": "hGV2w6Zj0Ct2",
        "outputId": "ef190a24-e85d-4407-c443-81cd151fe48e"
      },
      "execution_count": 41,
      "outputs": [
        {
          "output_type": "stream",
          "name": "stdout",
          "text": [
            "<class 'str'>\n",
            "False\n",
            "True\n"
          ]
        }
      ]
    },
    {
      "cell_type": "code",
      "source": [
        "print(type('0'))\n",
        "print(type(0))\n",
        "print(type(1.1))\n",
        "print(type(True))\n",
        "if type('0') == str:\n",
        "  print(\"문자열\")"
      ],
      "metadata": {
        "colab": {
          "base_uri": "https://localhost:8080/"
        },
        "id": "3_ooAPCA6TKl",
        "outputId": "a9ab6ff2-8442-49fc-a071-7487e0abfc3e"
      },
      "execution_count": 45,
      "outputs": [
        {
          "output_type": "stream",
          "name": "stdout",
          "text": [
            "<class 'str'>\n",
            "<class 'int'>\n",
            "<class 'float'>\n",
            "<class 'bool'>\n",
            "문자열\n"
          ]
        }
      ]
    },
    {
      "cell_type": "code",
      "source": [
        "print(isinstance('0', str))\n",
        "if isinstance('0', str):\n",
        "  print(\"문자열\")"
      ],
      "metadata": {
        "colab": {
          "base_uri": "https://localhost:8080/"
        },
        "id": "lW2KB2_h7o32",
        "outputId": "e774d699-2ee6-4b6a-b059-a768faaa0288"
      },
      "execution_count": 47,
      "outputs": [
        {
          "output_type": "stream",
          "name": "stdout",
          "text": [
            "True\n",
            "문자열\n"
          ]
        }
      ]
    },
    {
      "cell_type": "code",
      "source": [
        "'0'.isdigit()"
      ],
      "metadata": {
        "id": "MnWtroYP8cr9"
      },
      "execution_count": null,
      "outputs": []
    },
    {
      "cell_type": "code",
      "source": [
        "# 사용자로부터 데이터를 입력받아서 숫자(실수)면 정수로변경해서 제곱을 구하는 예시를 들어봅시다\n",
        "data = input(\"정수를 입력하세요\")\n",
        "if data.isdigit():\n",
        "  print(int(data) ** 2)"
      ],
      "metadata": {
        "colab": {
          "base_uri": "https://localhost:8080/"
        },
        "id": "jpS_e4wF9XCv",
        "outputId": "5b64d6e2-aaf2-4cd9-ebee-5c17ac95fe0e"
      },
      "execution_count": 54,
      "outputs": [
        {
          "output_type": "stream",
          "name": "stdout",
          "text": [
            "정수를 입력하세요10\n",
            "100\n"
          ]
        }
      ]
    },
    {
      "cell_type": "code",
      "source": [
        "num1 = input(\"정수 입력 :\")\n",
        "num2 = input(\"정수 입력 :\")\n",
        "# 두개의 서로다른 변수의 값을 이용해서 + - * / 를 각각해 주세요\n",
        "# isDigit()을 이용해 주세요"
      ],
      "metadata": {
        "id": "uBa-LTVK9qlN"
      },
      "execution_count": null,
      "outputs": []
    },
    {
      "cell_type": "code",
      "source": [
        "su,dan = 5,800\n",
        "print(\"금액:\",su*dan  )"
      ],
      "metadata": {
        "colab": {
          "base_uri": "https://localhost:8080/"
        },
        "id": "R4swtO9xPhoL",
        "outputId": "a73c21a9-f2c4-49ea-d029-8cfad94a0386"
      },
      "execution_count": 55,
      "outputs": [
        {
          "output_type": "stream",
          "name": "stdout",
          "text": [
            "금액: 4000\n"
          ]
        }
      ]
    },
    {
      "cell_type": "code",
      "source": [
        "# 수량과 단가를 입력받아서 총 금액을 출력\n",
        "su =  input(\"수량을 입력하세요:\")\n",
        "danga = input(\"단가를 입력하세요:\")\n",
        "if su.isdigit() and danga.isdigit():\n",
        "  print(\"총금액:\",int(su)*int(danga))\n",
        "else:\n",
        "  print(\"\")"
      ],
      "metadata": {
        "colab": {
          "base_uri": "https://localhost:8080/"
        },
        "id": "kkWL6SH4P0r6",
        "outputId": "bd46d176-9b5f-4c07-bdf2-657b94ee9bc6"
      },
      "execution_count": 63,
      "outputs": [
        {
          "output_type": "stream",
          "name": "stdout",
          "text": [
            "수량을 입력하세요:5\n",
            "단가를 입력하세요:10\n",
            "총금액: 50\n"
          ]
        }
      ]
    },
    {
      "cell_type": "code",
      "source": [
        "# y = 3x**2 + 2x + 10 의 방정식에서 x는  사용자로부터 입력을 받아서 y값을 계산"
      ],
      "metadata": {
        "id": "6PgX8kc5QP0q"
      },
      "execution_count": 57,
      "outputs": []
    },
    {
      "cell_type": "code",
      "source": [
        "# 슬라이싱\n",
        "name = \"동해물과 백두산이 마르고 닳도록 하느님이 보우하사 우리나라만세\""
      ],
      "metadata": {
        "id": "tObWN7LOQb1j"
      },
      "execution_count": 64,
      "outputs": []
    },
    {
      "cell_type": "code",
      "source": [
        "print(name)"
      ],
      "metadata": {
        "colab": {
          "base_uri": "https://localhost:8080/"
        },
        "id": "xXh0G104UEzM",
        "outputId": "0db070e6-3e91-49f2-d53c-e6a18facb3c4"
      },
      "execution_count": 65,
      "outputs": [
        {
          "output_type": "stream",
          "name": "stdout",
          "text": [
            "동해물과 백두산이 마르고 닳도록 하느님이 보우하사 우리나라만세\n"
          ]
        }
      ]
    },
    {
      "cell_type": "code",
      "source": [
        "# 문자열[시작인덱스 : 종료인덱스 ] --->  문자열[시작인덱스 : 종료인덱스-1 ]\n",
        "print( name[ : -1]  )  #######"
      ],
      "metadata": {
        "colab": {
          "base_uri": "https://localhost:8080/"
        },
        "id": "KwNGK1iPUHTi",
        "outputId": "4f9f9b32-9568-48bb-8d4d-1a5165fe8911"
      },
      "execution_count": 73,
      "outputs": [
        {
          "output_type": "stream",
          "name": "stdout",
          "text": [
            "동해물과 백두산이 마르고 닳도록 하느님이 보우하사 우리나라만\n"
          ]
        }
      ]
    },
    {
      "cell_type": "code",
      "source": [
        "print( name[1 : ]  ) #######"
      ],
      "metadata": {
        "colab": {
          "base_uri": "https://localhost:8080/"
        },
        "id": "0ECMxenQULw5",
        "outputId": "f9eadd40-0150-4833-fc77-93d8ff5eefd1"
      },
      "execution_count": 74,
      "outputs": [
        {
          "output_type": "stream",
          "name": "stdout",
          "text": [
            "해물과 백두산이 마르고 닳도록 하느님이 보우하사 우리나라만세\n"
          ]
        }
      ]
    },
    {
      "cell_type": "code",
      "source": [
        "# name[ : 4 : 1 ] \n",
        "name[ : 4 ]  #######"
      ],
      "metadata": {
        "colab": {
          "base_uri": "https://localhost:8080/",
          "height": 35
        },
        "id": "dyLj1UANV__q",
        "outputId": "edd9d4a9-c009-4f36-a8cd-3297eebd4345"
      },
      "execution_count": 80,
      "outputs": [
        {
          "output_type": "execute_result",
          "data": {
            "text/plain": [
              "'동해물과'"
            ],
            "application/vnd.google.colaboratory.intrinsic+json": {
              "type": "string"
            }
          },
          "metadata": {},
          "execution_count": 80
        }
      ]
    },
    {
      "cell_type": "code",
      "source": [
        "name[ : 4 : -1 ]"
      ],
      "metadata": {
        "colab": {
          "base_uri": "https://localhost:8080/",
          "height": 35
        },
        "id": "j70aopmEWJ74",
        "outputId": "fd3d2d0b-106b-42f1-82e6-6123b4c9bc46"
      },
      "execution_count": 81,
      "outputs": [
        {
          "output_type": "execute_result",
          "data": {
            "text/plain": [
              "'세만라나리우 사하우보 이님느하 록도닳 고르마 이산두백'"
            ],
            "application/vnd.google.colaboratory.intrinsic+json": {
              "type": "string"
            }
          },
          "metadata": {},
          "execution_count": 81
        }
      ]
    },
    {
      "cell_type": "code",
      "source": [
        "name[::-1]  #######"
      ],
      "metadata": {
        "colab": {
          "base_uri": "https://localhost:8080/",
          "height": 35
        },
        "id": "kMdbTL_TWx-v",
        "outputId": "915f68a0-9989-44a5-9490-21ea3c9f56a0"
      },
      "execution_count": 82,
      "outputs": [
        {
          "output_type": "execute_result",
          "data": {
            "text/plain": [
              "'세만라나리우 사하우보 이님느하 록도닳 고르마 이산두백 과물해동'"
            ],
            "application/vnd.google.colaboratory.intrinsic+json": {
              "type": "string"
            }
          },
          "metadata": {},
          "execution_count": 82
        }
      ]
    },
    {
      "cell_type": "code",
      "source": [
        "# 논리연산자\n",
        "# 논리 & 연산자\n",
        "# True / False\n",
        "# and / or"
      ],
      "metadata": {
        "id": "xv0BdtyOXKuw"
      },
      "execution_count": 83,
      "outputs": []
    },
    {
      "cell_type": "code",
      "source": [
        "# 비트연산자 실제 비트에 있는 이진수를 연산\n",
        "# &---> and   \n",
        "# | --> or"
      ],
      "metadata": {
        "id": "76cN0zJpYMjk"
      },
      "execution_count": null,
      "outputs": []
    },
    {
      "cell_type": "code",
      "source": [
        "print(True and True)"
      ],
      "metadata": {
        "colab": {
          "base_uri": "https://localhost:8080/"
        },
        "id": "vr2ZkgaWZEWd",
        "outputId": "08e83a90-b36f-4bf9-ac2d-a138bb6b5e2e"
      },
      "execution_count": 84,
      "outputs": [
        {
          "output_type": "stream",
          "name": "stdout",
          "text": [
            "True\n"
          ]
        }
      ]
    },
    {
      "cell_type": "code",
      "source": [
        "print(False or False)"
      ],
      "metadata": {
        "colab": {
          "base_uri": "https://localhost:8080/"
        },
        "id": "OxOixKs2ZIYo",
        "outputId": "a2c70f50-5e64-4d78-e94d-aaed6edfa9ec"
      },
      "execution_count": 85,
      "outputs": [
        {
          "output_type": "stream",
          "name": "stdout",
          "text": [
            "False\n"
          ]
        }
      ]
    },
    {
      "cell_type": "code",
      "source": [
        "# 조건문\n",
        "# 모든 명령어를 한나도 빠짐없이 꼼꼼히 실행하는 구조."
      ],
      "metadata": {
        "id": "2gd2uSTgZQ3Q"
      },
      "execution_count": 86,
      "outputs": []
    },
    {
      "cell_type": "code",
      "source": [
        "a = True\n",
        "print(\"a\")\n",
        "\n",
        "if not a:\n",
        "  print(\"b\")\n",
        "  print(\"b\")\n",
        "  print(\"b\")\n",
        "else:\n",
        "  print(\"c\")\n",
        "  "
      ],
      "metadata": {
        "colab": {
          "base_uri": "https://localhost:8080/"
        },
        "id": "F3SsZrmqct3g",
        "outputId": "ead0fb03-0d87-4354-d76d-bedb09753400"
      },
      "execution_count": 89,
      "outputs": [
        {
          "output_type": "stream",
          "name": "stdout",
          "text": [
            "a\n",
            "c\n"
          ]
        }
      ]
    },
    {
      "cell_type": "markdown",
      "source": [
        "![image.png](data:image/png;base64,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)"
      ],
      "metadata": {
        "id": "LbD-_g2Bdccy"
      }
    },
    {
      "cell_type": "code",
      "source": [
        "data = input(\"먹고싶은 음식은?:\")  # 고기\n",
        "if data == '고기':\n",
        "  print(\"삼키다\")\n",
        "else:\n",
        "  print(\"뱉다\")  \n",
        "\n",
        "print(\"프로그램 종료\")\n"
      ],
      "metadata": {
        "colab": {
          "base_uri": "https://localhost:8080/"
        },
        "id": "jRx84S0Wcv0w",
        "outputId": "970c8e0e-ed3d-4f8d-cc65-40da790f1a5c"
      },
      "execution_count": 91,
      "outputs": [
        {
          "output_type": "stream",
          "name": "stdout",
          "text": [
            "먹고싶은 음식은?:사탕\n",
            "뱉다\n",
            "프로그램 종료\n"
          ]
        }
      ]
    },
    {
      "cell_type": "markdown",
      "source": [
        "![image.png](data:image/png;base64,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)"
      ],
      "metadata": {
        "id": "H9XHuUgpfJVA"
      }
    },
    {
      "cell_type": "code",
      "source": [
        "isRain = input(\"비가오면 y를 입력하세요\")\n",
        "isFriendsIn =input(\"친구가 집에 있으면 y를 입력하세요\")"
      ],
      "metadata": {
        "id": "sU-xzidPd0Np"
      },
      "execution_count": null,
      "outputs": []
    },
    {
      "cell_type": "code",
      "source": [
        "isRain = input(\"비가오면 y를 입력하세요\")\n",
        "isFriendsIn =input(\"친구가 집에 있으면 y를 입력하세요\")\n",
        "\n",
        "if isRain.upper() == 'Y':\n",
        "  print(\"집에서 잠이나 잔다\")\n",
        "elif isFriendsIn.upper() == 'Y':    \n",
        "    print(\"친구집으로 간다\")\n",
        "else:\n",
        "    print(\"집에서 논다\")\n",
        "print(\"프로그램 종료\")    "
      ],
      "metadata": {
        "colab": {
          "base_uri": "https://localhost:8080/"
        },
        "id": "bC6T4_Nbjt4a",
        "outputId": "ff28652c-23c7-40ac-946e-07ba3d4a54bc"
      },
      "execution_count": 96,
      "outputs": [
        {
          "output_type": "stream",
          "name": "stdout",
          "text": [
            "비가오면 y를 입력하세요n\n",
            "친구가 집에 있으면 y를 입력하세요n\n",
            "집에서 논다\n",
            "프로그램 종료\n"
          ]
        }
      ]
    },
    {
      "cell_type": "code",
      "source": [
        "a = 'Y'\n"
      ],
      "metadata": {
        "id": "YET2F8D5kXad"
      },
      "execution_count": 104,
      "outputs": []
    },
    {
      "cell_type": "code",
      "source": [
        "a = 'Y'\n",
        "if a.upper() == 'Y':\n",
        "  print(\"yes\")"
      ],
      "metadata": {
        "colab": {
          "base_uri": "https://localhost:8080/"
        },
        "id": "J6XLe_K1nNiP",
        "outputId": "58014c4a-7967-407f-bbb9-99173527344f"
      },
      "execution_count": 106,
      "outputs": [
        {
          "output_type": "stream",
          "name": "stdout",
          "text": [
            "yes\n"
          ]
        }
      ]
    },
    {
      "cell_type": "code",
      "source": [
        "a.upper()"
      ],
      "metadata": {
        "colab": {
          "base_uri": "https://localhost:8080/",
          "height": 35
        },
        "id": "ST9nrFJ9nWUJ",
        "outputId": "2747d2cc-83a8-4f0a-a1bb-5d887afd7928"
      },
      "execution_count": 105,
      "outputs": [
        {
          "output_type": "execute_result",
          "data": {
            "text/plain": [
              "'Y'"
            ],
            "application/vnd.google.colaboratory.intrinsic+json": {
              "type": "string"
            }
          },
          "metadata": {},
          "execution_count": 105
        }
      ]
    },
    {
      "cell_type": "code",
      "source": [],
      "metadata": {
        "id": "LtLMT6mmnbmW"
      },
      "execution_count": null,
      "outputs": []
    }
  ]
}