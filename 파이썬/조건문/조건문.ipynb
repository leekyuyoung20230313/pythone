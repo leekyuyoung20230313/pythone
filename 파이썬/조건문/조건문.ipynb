{
  "nbformat": 4,
  "nbformat_minor": 0,
  "metadata": {
    "colab": {
      "provenance": []
    },
    "kernelspec": {
      "name": "python3",
      "display_name": "Python 3"
    },
    "language_info": {
      "name": "python"
    }
  },
  "cells": [
    {
      "cell_type": "markdown",
      "source": [
        "조건문\n",
        "  - 조건에따라 실행여부가 결정되는 문장\n",
        "  - if statement\n",
        "  - if else \n",
        "  - if eslif eslif eslif ... else  "
      ],
      "metadata": {
        "id": "kdjznH_x_rOM"
      }
    },
    {
      "cell_type": "code",
      "execution_count": 4,
      "metadata": {
        "colab": {
          "base_uri": "https://localhost:8080/"
        },
        "id": "QdqdTzK__paT",
        "outputId": "be540f08-886a-4346-b781-ee57d3983b7d"
      },
      "outputs": [
        {
          "output_type": "stream",
          "name": "stdout",
          "text": [
            "점수를 입력하세요 : 90\n",
            "합격\n"
          ]
        }
      ],
      "source": [
        "score = int(input(\"점수를 입력하세요 : \"))\n",
        "\n",
        "if score >= 90:\n",
        "  print(\"A\")\n",
        "elif score >=80:\n",
        "  print(\"B\")\n",
        "elif score >=70:\n",
        "  print(\"C\")\n",
        "elif score >=60:\n",
        "  print(\"D\")  \n",
        "else:\n",
        "  print(\"F\")    "
      ]
    },
    {
      "cell_type": "code",
      "source": [
        "# 개선  누군가는 정직하기 숫자를 입력하지만.. 누군가는 장난으로 문자를 입력할수 도 있다\n",
        "score = int(input(\"점수를 입력하세요 : \"))\n"
      ],
      "metadata": {
        "id": "BbTTs5fPAXsO"
      },
      "execution_count": null,
      "outputs": []
    },
    {
      "cell_type": "code",
      "source": [
        "# 숫자판단\n",
        "isinstance(\"10\",int)  # 숫자여부를 판단하는  함수\n",
        "\"10\".isnumeric() # 문자열이 숫자인지 판단하는 함수\n",
        "type(\"10\") == str # 주어진 데이터의 타입이 오른쪽에 있는 타입과 같은지 확인하는 명령어"
      ],
      "metadata": {
        "id": "a66_IAqmEAyv"
      },
      "execution_count": null,
      "outputs": []
    },
    {
      "cell_type": "code",
      "source": [
        "score = input(\"데이터를입력하세요 : \")\n",
        "print( score.isdigit() )\n",
        "print(type(score) )"
      ],
      "metadata": {
        "colab": {
          "base_uri": "https://localhost:8080/"
        },
        "id": "DAxnwWfHEOlD",
        "outputId": "18311eae-205e-4050-ba14-bdc6a2c211e4"
      },
      "execution_count": 17,
      "outputs": [
        {
          "output_type": "stream",
          "name": "stdout",
          "text": [
            "데이터를입력하세요 : 10\n",
            "True\n",
            "<class 'str'>\n"
          ]
        }
      ]
    },
    {
      "cell_type": "code",
      "source": [
        "score = input(\"데이터를입력하세요 : \")\n",
        "if score.isdigit():\n",
        "  score = int(score)\n",
        "else:  \n",
        "  score = input(\"정수를 다시 입력하세요 : \")"
      ],
      "metadata": {
        "colab": {
          "base_uri": "https://localhost:8080/"
        },
        "id": "_RqfHPoLFNQO",
        "outputId": "08abd341-2cf1-48ca-c459-9f7f529f81d2"
      },
      "execution_count": 20,
      "outputs": [
        {
          "name": "stdout",
          "output_type": "stream",
          "text": [
            "데이터를입력하세요 : 12.5\n",
            "정수를 다시 입력하세요 : 12\n"
          ]
        }
      ]
    },
    {
      "cell_type": "code",
      "source": [
        "x = int(input('input data : '))\n",
        "if x > 0:\n",
        "  if x % 2 == 0:\n",
        "    print(x,\"는 0보다 큰 짝수 입니다.\")"
      ],
      "metadata": {
        "colab": {
          "base_uri": "https://localhost:8080/"
        },
        "id": "ebfrbPSXJOuJ",
        "outputId": "63d0a50e-b217-4cf9-bada-ff7fe9670abe"
      },
      "execution_count": 25,
      "outputs": [
        {
          "output_type": "stream",
          "name": "stdout",
          "text": [
            "input data : 20\n",
            "x는 0보다큰 짝수 입니다.\n"
          ]
        }
      ]
    },
    {
      "cell_type": "code",
      "source": [
        "x = int(input('input data : '))\n",
        "if x > 0 and x % 2 == 0:\n",
        "  print(x,\"은(는) 0보다 큰 짝수 입니다.\",sep=\"\")"
      ],
      "metadata": {
        "colab": {
          "base_uri": "https://localhost:8080/"
        },
        "id": "_vA0GgyRJcFE",
        "outputId": "4af8f16b-58ab-4de2-b431-ba4163c93393"
      },
      "execution_count": 29,
      "outputs": [
        {
          "output_type": "stream",
          "name": "stdout",
          "text": [
            "input data : 10\n",
            "10은(는) 0보다 큰 짝수 입니다.\n"
          ]
        }
      ]
    },
    {
      "cell_type": "code",
      "source": [
        "x = int(input('input data : '))\n",
        "if x > 0:\n",
        "  if x % 2 == 0:\n",
        "    print(x,\"는 0보다 큰 짝수 입니다.\",sep=\"\")\n",
        "  else:\n",
        "    print(x,\"는 0보다 큰 홀수 입니다.\",sep=\"\")"
      ],
      "metadata": {
        "id": "bNsXiAubSJBO"
      },
      "execution_count": null,
      "outputs": []
    },
    {
      "cell_type": "code",
      "source": [
        "x = int(input('input data : '))\n",
        "if x > 0 and x % 2 == 0:\n",
        "    print(x,\"는 0보다 큰 짝수 입니다.\",sep=\"\")\n",
        "else:\n",
        "    print(x,\"는 0보다 큰 홀수 입니다.\",sep=\"\")"
      ],
      "metadata": {
        "id": "Xqyzn2EwUzlY"
      },
      "execution_count": null,
      "outputs": []
    },
    {
      "cell_type": "code",
      "source": [
        "x = int(input('input data : '))\n",
        "if x > 0:\n",
        "  print(\"양수입니다.\")\n",
        "  if x % 2 == 0:\n",
        "    print(x,\"는 0보다 큰 짝수 입니다.\")"
      ],
      "metadata": {
        "id": "rSELP3NnVy-d"
      },
      "execution_count": null,
      "outputs": []
    },
    {
      "cell_type": "code",
      "source": [
        "def abc1():\n",
        "  print(\"abc1\")\n",
        "def abc2():\n",
        "  print(\"abc2\")\n",
        "def abc3():\n",
        "  print(\"abc3\")    "
      ],
      "metadata": {
        "id": "1WypGBKPa94_"
      },
      "execution_count": 32,
      "outputs": []
    },
    {
      "cell_type": "code",
      "source": [
        "func_list = [abc1,abc2,abc3]\n",
        "x = int(input(\"0부터 2까지 정수 입력 : \"))\n",
        "func_list[x]()"
      ],
      "metadata": {
        "colab": {
          "base_uri": "https://localhost:8080/"
        },
        "id": "L9jklqxqfaav",
        "outputId": "d986ab60-06cf-49ae-900c-34cf2ca92c7e"
      },
      "execution_count": 35,
      "outputs": [
        {
          "output_type": "stream",
          "name": "stdout",
          "text": [
            "0부터 2까지 정수 입력 : 1\n",
            "abc2\n"
          ]
        }
      ]
    },
    {
      "cell_type": "code",
      "source": [
        "greeting = \"hello\"\n",
        "print(greeting[ : ])\n",
        "print(greeting[ 0: 5])\n",
        "print(greeting[ ::1])"
      ],
      "metadata": {
        "colab": {
          "base_uri": "https://localhost:8080/"
        },
        "id": "oN7QdXC4frSX",
        "outputId": "08828cb2-271f-40a2-f5b2-2af2ffb178d2"
      },
      "execution_count": 39,
      "outputs": [
        {
          "output_type": "stream",
          "name": "stdout",
          "text": [
            "hello\n",
            "hello\n",
            "hello\n"
          ]
        }
      ]
    },
    {
      "cell_type": "code",
      "source": [
        "print(greeting[ :])\n",
        "print(greeting[ :-1])\n",
        "print(greeting[ :-2])\n",
        "print(greeting[ :-3])"
      ],
      "metadata": {
        "colab": {
          "base_uri": "https://localhost:8080/"
        },
        "id": "Y-r74-wNqrdU",
        "outputId": "ffe6b74d-7a68-4e1c-9e67-891b0ead9541"
      },
      "execution_count": 40,
      "outputs": [
        {
          "output_type": "stream",
          "name": "stdout",
          "text": [
            "hello\n",
            "hell\n",
            "hel\n",
            "he\n"
          ]
        }
      ]
    },
    {
      "cell_type": "code",
      "source": [
        "print(greeting[ :])\n",
        "print(greeting[ :1])\n",
        "print(greeting[ :2])\n",
        "print(greeting[ :3])"
      ],
      "metadata": {
        "colab": {
          "base_uri": "https://localhost:8080/"
        },
        "id": "K92bv0AQq3HY",
        "outputId": "0fcd44e9-7158-46f8-a5df-1d543504850a"
      },
      "execution_count": 41,
      "outputs": [
        {
          "output_type": "stream",
          "name": "stdout",
          "text": [
            "hello\n",
            "h\n",
            "he\n",
            "hel\n"
          ]
        }
      ]
    },
    {
      "cell_type": "code",
      "source": [
        "greeting"
      ],
      "metadata": {
        "colab": {
          "base_uri": "https://localhost:8080/",
          "height": 35
        },
        "id": "VPPCUdsyq6dR",
        "outputId": "ced5644b-0944-42af-c0c9-6c39dcc633d1"
      },
      "execution_count": 42,
      "outputs": [
        {
          "output_type": "execute_result",
          "data": {
            "text/plain": [
              "'hello'"
            ],
            "application/vnd.google.colaboratory.intrinsic+json": {
              "type": "string"
            }
          },
          "metadata": {},
          "execution_count": 42
        }
      ]
    },
    {
      "cell_type": "code",
      "source": [
        "greeting[::-1]"
      ],
      "metadata": {
        "colab": {
          "base_uri": "https://localhost:8080/",
          "height": 35
        },
        "id": "5YNgCGturB1R",
        "outputId": "3dc0cbd4-6240-4a1c-8ceb-7a1839bf200e"
      },
      "execution_count": 43,
      "outputs": [
        {
          "output_type": "execute_result",
          "data": {
            "text/plain": [
              "'olleh'"
            ],
            "application/vnd.google.colaboratory.intrinsic+json": {
              "type": "string"
            }
          },
          "metadata": {},
          "execution_count": 43
        }
      ]
    },
    {
      "cell_type": "code",
      "source": [],
      "metadata": {
        "id": "Jmnp6pXirFZQ"
      },
      "execution_count": null,
      "outputs": []
    }
  ]
}