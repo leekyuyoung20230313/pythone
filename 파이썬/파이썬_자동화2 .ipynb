{
  "nbformat": 4,
  "nbformat_minor": 0,
  "metadata": {
    "colab": {
      "provenance": []
    },
    "kernelspec": {
      "name": "python3",
      "display_name": "Python 3"
    },
    "language_info": {
      "name": "python"
    }
  },
  "cells": [
    {
      "cell_type": "code",
      "source": [
        "!pip install python-docx"
      ],
      "metadata": {
        "id": "3e1X8buoAsYf"
      },
      "execution_count": null,
      "outputs": []
    },
    {
      "cell_type": "code",
      "source": [],
      "metadata": {
        "id": "jU6XtP85PaRa"
      },
      "execution_count": null,
      "outputs": []
    },
    {
      "cell_type": "code",
      "execution_count": 20,
      "metadata": {
        "id": "uYnY04qoAZ9L"
      },
      "outputs": [],
      "source": [
        "from docx import Document\n",
        "from docx.shared import Inches\n",
        "def makeDoc(savedFile, title=\"\",pragraph=\"\",tableData=None):\n",
        "  document = Document()  # 문서객체생성\n",
        "  # 문서의 가장 처음에 위치하는 제목역활\n",
        "  document.add_heading(title, 0)  \n",
        "  # 내용중에 bold , italic 가능\n",
        "  p = document.add_paragraph(pragraph)  \n",
        "\n",
        "  # 테이블의 header\n",
        "  table = document.add_table(rows=1, cols=3)\n",
        "  hdr_cells = table.rows[0].cells\n",
        "  hdr_cells[0].text = 'Qty'\n",
        "  hdr_cells[1].text = 'Id'\n",
        "  hdr_cells[2].text = 'Desc'\n",
        "  # 테이블의 body\n",
        "  for qty, id, desc in tableData:    \n",
        "    row_cells = table.add_row().cells    \n",
        "    row_cells[0].text = str(qty)    \n",
        "    row_cells[1].text = str(id)\n",
        "    row_cells[2].text = str(desc)\n",
        "\n",
        "  document.add_page_break()\n",
        "  document.save(savedFile)"
      ]
    },
    {
      "cell_type": "code",
      "source": [
        "tableData = [\n",
        "    [10,200,'햄'],\n",
        "    [20,500,'돼지고기'],\n",
        "]\n",
        "makeDoc('./invoice1.doc','1월주문','아래 주문 내용을 확인해 주세요',tableData)"
      ],
      "metadata": {
        "id": "HyxDUGCxApan"
      },
      "execution_count": 21,
      "outputs": []
    },
    {
      "cell_type": "code",
      "source": [],
      "metadata": {
        "id": "G7AXDLROVo0Z"
      },
      "execution_count": null,
      "outputs": []
    }
  ]
}