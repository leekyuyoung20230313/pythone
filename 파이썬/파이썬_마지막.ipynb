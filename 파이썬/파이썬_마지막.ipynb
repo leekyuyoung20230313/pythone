{
  "nbformat": 4,
  "nbformat_minor": 0,
  "metadata": {
    "colab": {
      "provenance": []
    },
    "kernelspec": {
      "name": "python3",
      "display_name": "Python 3"
    },
    "language_info": {
      "name": "python"
    }
  },
  "cells": [
    {
      "cell_type": "code",
      "execution_count": 8,
      "metadata": {
        "id": "hFn9dAaehUkc"
      },
      "outputs": [],
      "source": [
        "'''\n",
        "Animal 클래스를 상속받는 Dog 클래스를 작성하세요. \n",
        "Dog 클래스는 Animal 클래스와 동일한 속성과 메서드를 가지며, \n",
        "bark() 메서드를 추가로 가지며, \"멍멍!\"이라는 문자열을 반환합니다.\n",
        "'''\n",
        "# Cat  클래스 및 기타 동물 클래스\n",
        "# 변수와 기타 함수는 다양하게 한번 만들어서 사용\n",
        "\n",
        "# __str__(self)\n",
        "# __eq__(self)\n",
        "# 정렬..... 람다 \n",
        "\n",
        "class Animal(object):\n",
        "  def __init__(self,name,age,breed=None):\n",
        "    self.name = name\n",
        "    self.age = age\n",
        "    self.breed = breed\n",
        "  def __str__(self):\n",
        "    return f\"name : {self.name}, age : {self.age}, breed : {self.breed}\"\n",
        "  def __eq__(self, __o: object) -> bool:\n",
        "    return (self.name == __o.name) and (self.age == __o.age) and (self.breed == __o.breed)\n",
        "\n",
        "class Dog(Animal):    \n",
        "  def bark(self):\n",
        "    return f\"멍멍\"  \n",
        "\n",
        "class Cat(Animal):    \n",
        "  def bark(self):\n",
        "    return f\"야옹\"      \n",
        "\n",
        "class Human(Animal):\n",
        "  def __init__(self, name, age, gender):\n",
        "    super().__init__(name, age)\n",
        "    self.gender = gender\n",
        "  def __str__(self):\n",
        "    return f\"name : {self.name}, age : {self.age}, gender : {self.gender}\"   \n",
        "  \n",
        "  def __eq__(self, __o: object) -> bool:\n",
        "    raise Exception('사람은 같을수가 없습니다.')\n"
      ]
    },
    {
      "cell_type": "code",
      "source": [
        "d1 = Dog(\"꾸꾸\",1.5,'아메리칸 블리')\n",
        "d2 = Dog(\"꾸꾸\",1.5,'아메리칸 블리')\n",
        "c1 = Cat('나비',2,'페르시아')\n",
        "c2 = Cat('나비',3,'페르시아')\n",
        "h1 = Human(\"홍길동\",25,'남')\n",
        "h2 = Human(\"영희\",35,'여')"
      ],
      "metadata": {
        "id": "yPQgENfXyDYp"
      },
      "execution_count": 9,
      "outputs": []
    },
    {
      "cell_type": "code",
      "source": [
        "animal_lists = [\n",
        "    Dog(\"꾸꾸\",1.5,'아메리칸 블리'),\n",
        "    Dog(\"꾸꾸\",1.5,'아메리칸 블리'),\n",
        "    Cat('나비',2,'페르시아'),\n",
        "    Cat('나비',3,'페르시아'),\n",
        "    Human(\"홍길동\",25,'남'),\n",
        "    Human(\"영희\",35,'여')\n",
        "]"
      ],
      "metadata": {
        "id": "mk4hhw1Mycp0"
      },
      "execution_count": 10,
      "outputs": []
    },
    {
      "cell_type": "code",
      "source": [
        "animal_lists[0] == animal_lists[2]"
      ],
      "metadata": {
        "colab": {
          "base_uri": "https://localhost:8080/"
        },
        "id": "-Yh2um2_yrK0",
        "outputId": "0f4c4d20-2341-47bb-9b44-b59eec9ad957"
      },
      "execution_count": 14,
      "outputs": [
        {
          "output_type": "execute_result",
          "data": {
            "text/plain": [
              "False"
            ]
          },
          "metadata": {},
          "execution_count": 14
        }
      ]
    },
    {
      "cell_type": "code",
      "source": [
        "sorted_list = sorted(animal_lists, key = lambda x: x.age ,reverse=True)"
      ],
      "metadata": {
        "id": "_U51hM43zF3z"
      },
      "execution_count": 21,
      "outputs": []
    },
    {
      "cell_type": "code",
      "source": [
        "for i in sorted_list:\n",
        "  print(i)\n",
        "  print('*'*50)"
      ],
      "metadata": {
        "colab": {
          "base_uri": "https://localhost:8080/"
        },
        "id": "1H4vAUtJz7wM",
        "outputId": "a24c8730-4371-4fa7-ea57-f83b654a85b8"
      },
      "execution_count": 22,
      "outputs": [
        {
          "output_type": "stream",
          "name": "stdout",
          "text": [
            "name : 영희, age : 35, gender : 여\n",
            "**************************************************\n",
            "name : 홍길동, age : 25, gender : 남\n",
            "**************************************************\n",
            "name : 나비, age : 3, breed : 페르시아\n",
            "**************************************************\n",
            "name : 나비, age : 2, breed : 페르시아\n",
            "**************************************************\n",
            "name : 꾸꾸, age : 1.5, breed : 아메리칸 블리\n",
            "**************************************************\n",
            "name : 꾸꾸, age : 1.5, breed : 아메리칸 블리\n",
            "**************************************************\n"
          ]
        }
      ]
    },
    {
      "cell_type": "code",
      "source": [],
      "metadata": {
        "id": "rj6vCPgo0G3M"
      },
      "execution_count": null,
      "outputs": []
    }
  ]
}