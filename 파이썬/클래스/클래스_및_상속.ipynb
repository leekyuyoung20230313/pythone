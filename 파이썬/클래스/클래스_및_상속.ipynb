{
  "nbformat": 4,
  "nbformat_minor": 0,
  "metadata": {
    "colab": {
      "provenance": []
    },
    "kernelspec": {
      "name": "python3",
      "display_name": "Python 3"
    },
    "language_info": {
      "name": "python"
    }
  },
  "cells": [
    {
      "cell_type": "code",
      "source": [
        "# 입장객의 나이에 따른 할인율 적용 및 리포트\n",
        "# 20~~ adult  20000\n",
        "# 12 ~ 19 : teenager  20000*0.8\n",
        "#~11 : child :20000*0"
      ],
      "metadata": {
        "id": "HODqn7eGnC9w"
      },
      "execution_count": 6,
      "outputs": []
    },
    {
      "cell_type": "code",
      "source": [
        "class People(object):\n",
        "  def __init__(self) -> None:    \n",
        "    self.price = 20000\n",
        "  def getPrice(self):\n",
        "    return int(self.price - self.price*self.discount)\n",
        "\n",
        "class Adult(People):\n",
        "  def __init__(self):\n",
        "    super().__init__()\n",
        "    self.discount = .0  \n",
        "\n",
        "class Teenager(People):\n",
        "  def __init__(self):\n",
        "    super().__init__()\n",
        "    self.discount = .2  \n",
        "\n",
        "class Child(People):\n",
        "  def __init__(self):\n",
        "    super().__init__()\n",
        "    self.discount = 1.  "
      ],
      "metadata": {
        "id": "03gAJlCpntQQ"
      },
      "execution_count": 7,
      "outputs": []
    },
    {
      "cell_type": "code",
      "source": [
        "type(Adult()) == Adult\n",
        "type(Teenager()) == Teenager"
      ],
      "metadata": {
        "colab": {
          "base_uri": "https://localhost:8080/"
        },
        "id": "djQaqMCSrd_I",
        "outputId": "5159a7fd-2807-4ac6-8fae-b89c002ddaaf"
      },
      "execution_count": 12,
      "outputs": [
        {
          "output_type": "execute_result",
          "data": {
            "text/plain": [
              "True"
            ]
          },
          "metadata": {},
          "execution_count": 12
        }
      ]
    },
    {
      "cell_type": "code",
      "source": [
        "from typing import Counter\n",
        "class EnteranceMng(object):\n",
        "  def __init__(self):\n",
        "    self.lists = []\n",
        "  def checkAge(self,age):\n",
        "    if age >=20:\n",
        "      self.lists.append(Adult())\n",
        "    elif age >=12:\n",
        "      self.lists.append(Teenager())\n",
        "    else:\n",
        "      self.lists.append(Child())\n",
        "  def calc(self):\n",
        "    return sum([i.getPrice() for i in self.lists])\n",
        "  def __str__(self) -> str:\n",
        "    s = \"어른\\t청소년\\t어린이(유아포함)\\n\"    \n",
        "    dics = {Adult : 0, Teenager:0,Child:0}\n",
        "    for i in self.lists:\n",
        "      if type(i) == Adult:\n",
        "        dics[Adult] += 1\n",
        "      elif type(i) == Teenager:\n",
        "        dics[Teenager] += 1\n",
        "      else:\n",
        "        dics[Child] += 1\n",
        "    s += f\"{dics[Adult]}\\t{dics[Teenager]}\\t{dics[Child]}\"\n",
        "    return s"
      ],
      "metadata": {
        "id": "NrMcHelqpeV5"
      },
      "execution_count": 28,
      "outputs": []
    },
    {
      "cell_type": "code",
      "source": [
        "e = EnteranceMng()\n",
        "for i in range(1, 1000):\n",
        "  age = int(input(\"나이를 입력하세요 : \"))\n",
        "  e.checkAge(age)\n",
        "  if i% 3 == 0:\n",
        "    isContinue = input(\"계속 하시겠습니까(y/Y) : \")\n",
        "    if isContinue.upper() != 'Y':\n",
        "      break\n",
        "\n",
        "print(e)\n",
        "print(\"총 금액은 : \", e.calc())"
      ],
      "metadata": {
        "colab": {
          "base_uri": "https://localhost:8080/"
        },
        "id": "msOBHHgZsQ03",
        "outputId": "95b3d8f7-5a05-4d7d-8a83-9693e77d5d99"
      },
      "execution_count": 34,
      "outputs": [
        {
          "output_type": "stream",
          "name": "stdout",
          "text": [
            "나이를 입력하세요 : 25\n",
            "나이를 입력하세요 : 20\n",
            "나이를 입력하세요 : 15\n",
            "계속 하시겠습니까(y/Y) : y\n",
            "나이를 입력하세요 : 1\n",
            "나이를 입력하세요 : 20\n",
            "나이를 입력하세요 : 36\n",
            "계속 하시겠습니까(y/Y) : y\n",
            "나이를 입력하세요 : 2\n",
            "나이를 입력하세요 : 5\n",
            "나이를 입력하세요 : 10\n",
            "계속 하시겠습니까(y/Y) : n\n",
            "어른\t청소년\t어린이(유아포함)\n",
            "4\t1\t4\n",
            "총 금액은 :  96000\n"
          ]
        }
      ]
    },
    {
      "cell_type": "code",
      "source": [
        "!"
      ],
      "metadata": {
        "id": "ftRLhC-_ufvX"
      },
      "execution_count": null,
      "outputs": []
    }
  ]
}