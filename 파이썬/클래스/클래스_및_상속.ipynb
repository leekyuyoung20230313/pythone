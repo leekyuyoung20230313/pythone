{
  "nbformat": 4,
  "nbformat_minor": 0,
  "metadata": {
    "colab": {
      "provenance": []
    },
    "kernelspec": {
      "name": "python3",
      "display_name": "Python 3"
    },
    "language_info": {
      "name": "python"
    }
  },
  "cells": [
    {
      "cell_type": "code",
      "source": [
        "# 입장객의 나이에 따른 할인율 적용 및 리포트\n",
        "# 20~~ adult  20000\n",
        "# 12 ~ 19 : teenager  20000*0.8\n",
        "#~11 : child :20000*0"
      ],
      "metadata": {
        "id": "HODqn7eGnC9w"
      },
      "execution_count": 6,
      "outputs": []
    },
    {
      "cell_type": "code",
      "source": [
        "class People(object):\n",
        "  def __init__(self) -> None:    \n",
        "    self.price = 20000\n",
        "  def getPrice(self):\n",
        "    return int(self.price - self.price*self.discount)\n",
        "\n",
        "class Adult(People):\n",
        "  def __init__(self):\n",
        "    super().__init__()\n",
        "    self.discount = .0  \n",
        "\n",
        "class Teenager(People):\n",
        "  def __init__(self):\n",
        "    super().__init__()\n",
        "    self.discount = .2  \n",
        "\n",
        "class Child(People):\n",
        "  def __init__(self):\n",
        "    super().__init__()\n",
        "    self.discount = 1.  "
      ],
      "metadata": {
        "id": "03gAJlCpntQQ"
      },
      "execution_count": 7,
      "outputs": []
    },
    {
      "cell_type": "code",
      "source": [
        "type(Adult()) == Adult\n",
        "type(Teenager()) == Teenager"
      ],
      "metadata": {
        "colab": {
          "base_uri": "https://localhost:8080/"
        },
        "id": "djQaqMCSrd_I",
        "outputId": "5159a7fd-2807-4ac6-8fae-b89c002ddaaf"
      },
      "execution_count": 12,
      "outputs": [
        {
          "output_type": "execute_result",
          "data": {
            "text/plain": [
              "True"
            ]
          },
          "metadata": {},
          "execution_count": 12
        }
      ]
    },
    {
      "cell_type": "code",
      "source": [
        "from typing import Counter\n",
        "class EnteranceMng(object):\n",
        "  def __init__(self):\n",
        "    self.lists = []\n",
        "  def checkAge(self,age):\n",
        "    if age >=20:\n",
        "      self.lists.append(Adult())\n",
        "    elif age >=12:\n",
        "      self.lists.append(Teenager())\n",
        "    else:\n",
        "      self.lists.append(Child())\n",
        "  def calc(self):\n",
        "    return sum([i.getPrice() for i in self.lists])\n",
        "  def __str__(self) -> str:\n",
        "    s = \"어른\\t청소년\\t어린이(유아포함)\\n\"    \n",
        "    dics = {Adult : 0, Teenager:0,Child:0}\n",
        "    for i in self.lists:\n",
        "      if type(i) == Adult:\n",
        "        dics[Adult] += 1\n",
        "      elif type(i) == Teenager:\n",
        "        dics[Teenager] += 1\n",
        "      else:\n",
        "        dics[Child] += 1\n",
        "    s += f\"{dics[Adult]}\\t{dics[Teenager]}\\t{dics[Child]}\"\n",
        "    return s"
      ],
      "metadata": {
        "id": "NrMcHelqpeV5"
      },
      "execution_count": 28,
      "outputs": []
    },
    {
      "cell_type": "code",
      "source": [
        "e = EnteranceMng()\n",
        "for i in range(1, 1000):\n",
        "  age = int(input(\"나이를 입력하세요 : \"))\n",
        "  e.checkAge(age)\n",
        "  if i% 3 == 0:\n",
        "    isContinue = input(\"계속 하시겠습니까(y/Y) : \")\n",
        "    if isContinue.upper() != 'Y':\n",
        "      break\n",
        "\n",
        "print(e)\n",
        "print(f\"총 금액은 : {e.calc():,.0f}원\")"
      ],
      "metadata": {
        "colab": {
          "base_uri": "https://localhost:8080/"
        },
        "id": "msOBHHgZsQ03",
        "outputId": "f609879a-7d36-4fb1-bf09-fe98c2152cc4"
      },
      "execution_count": 35,
      "outputs": [
        {
          "output_type": "stream",
          "name": "stdout",
          "text": [
            "나이를 입력하세요 : 20\n",
            "나이를 입력하세요 : 10\n",
            "나이를 입력하세요 : 10\n",
            "계속 하시겠습니까(y/Y) : n\n",
            "어른\t청소년\t어린이(유아포함)\n",
            "1\t0\t2\n",
            "총 금액은 : 20000\n"
          ]
        }
      ]
    },
    {
      "cell_type": "code",
      "source": [
        "print(f\"총 금액은 : {e.calc():,.0f}원\")"
      ],
      "metadata": {
        "colab": {
          "base_uri": "https://localhost:8080/"
        },
        "id": "ftRLhC-_ufvX",
        "outputId": "248e168b-3b4e-42c2-b126-4345b7234a7f"
      },
      "execution_count": 37,
      "outputs": [
        {
          "output_type": "stream",
          "name": "stdout",
          "text": [
            "총 금액은 : 20,000원\n"
          ]
        }
      ]
    },
    {
      "cell_type": "code",
      "source": [
        "# 4칙연산을 지원하는 계산기.."
      ],
      "metadata": {
        "id": "wToJx5pg2cOj"
      },
      "execution_count": 38,
      "outputs": []
    },
    {
      "cell_type": "code",
      "source": [
        "# 커피숍 만들기..\n",
        "# 아메리카노, 까페라떼, 카푸치노\n",
        "# [아메리카노,아메리카노,아메리카노,카푸치노,카푸치노]\n",
        "# total price 구하기"
      ],
      "metadata": {
        "id": "HyM-e0n82sH4"
      },
      "execution_count": null,
      "outputs": []
    }
  ]
}