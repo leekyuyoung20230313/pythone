{
  "nbformat": 4,
  "nbformat_minor": 0,
  "metadata": {
    "colab": {
      "provenance": []
    },
    "kernelspec": {
      "name": "python3",
      "display_name": "Python 3"
    },
    "language_info": {
      "name": "python"
    }
  },
  "cells": [
    {
      "cell_type": "code",
      "execution_count": 1,
      "metadata": {
        "colab": {
          "base_uri": "https://localhost:8080/",
          "height": 71
        },
        "id": "2KmcPbL3sslI",
        "outputId": "bcd6fb44-f019-401f-ef06-7cbe36dd9ade"
      },
      "outputs": [
        {
          "output_type": "execute_result",
          "data": {
            "text/plain": [
              "'클래스\\n목적 성적관리를 위한 클래스를\\n학생의 정보\\n  변수\\n    수강과목(국,영,수) - dictionary\\n    이름  : string\\n    석차 : int\\n  함수\\n    생성자 : 위의 변수를 여기서 생성해 준다\\n    객체를 출력하면 실행되는 __str__ 를 재정의해서 클래스의 변수내용을 출력하는 함수로 작성 \\n\\n클래스 외부\\n함수\\n    석차를 구하는 함수\\n학생들을 저장하는 리스트    \\n\\n'"
            ],
            "application/vnd.google.colaboratory.intrinsic+json": {
              "type": "string"
            }
          },
          "metadata": {},
          "execution_count": 1
        }
      ],
      "source": [
        "'''클래스\n",
        "목적 성적관리를 위한 클래스를\n",
        "학생의 정보\n",
        "  변수\n",
        "    수강과목(국,영,수)\n",
        "    이름  : string\n",
        "    석차 : int\n",
        "  함수\n",
        "    생성자 : 위의 변수를 여기서 생성해 준다\n",
        "    객체를 출력하면 실행되는 __str__ 를 재정의해서 클래스의 변수내용을 출력하는 함수로 작성 \n",
        "\n",
        "클래스 외부\n",
        "함수\n",
        "    석차를 구하는 함수\n",
        "학생들을 저장하는 리스트    \n",
        "\n",
        "'''"
      ]
    },
    {
      "cell_type": "code",
      "source": [
        "class Student(object):\n",
        "  def __init__(self,name,kor,eng,math) -> None:\n",
        "    self.name = name\n",
        "    self.kor = kor\n",
        "    self.eng = eng\n",
        "    self.math = math\n",
        "    self.rank = -1\n",
        "  def __str__(self):\n",
        "    return f\"name:{self.name}, kor:{self.kor}, eng:{self.eng}, math:{self.math}, rank:{self.rank}\"    "
      ],
      "metadata": {
        "id": "TuZTCIQdtxC6"
      },
      "execution_count": 2,
      "outputs": []
    },
    {
      "cell_type": "code",
      "source": [
        "student_list = []\n",
        "for _ in range(5):\n",
        "  data = input(\"이름 국어 영어 수학 을 공백을 기준으로 차례대로 입력:\").split()\n",
        "  student_list.append(Student(data[0],data[1],data[2],data[3]))"
      ],
      "metadata": {
        "colab": {
          "base_uri": "https://localhost:8080/"
        },
        "id": "jSL6kXjtueTQ",
        "outputId": "fa27e720-dc47-4afd-c3fb-e5a5a281272e"
      },
      "execution_count": 7,
      "outputs": [
        {
          "name": "stdout",
          "output_type": "stream",
          "text": [
            "이름 국어 영어 수학 을 공백을 기준으로 차례대로 입력:홍길동 80 90 70\n",
            "이름 국어 영어 수학 을 공백을 기준으로 차례대로 입력:김유신 90 80 70\n",
            "이름 국어 영어 수학 을 공백을 기준으로 차례대로 입력:철수 95 98 97\n",
            "이름 국어 영어 수학 을 공백을 기준으로 차례대로 입력:영희 85 87 99\n",
            "이름 국어 영어 수학 을 공백을 기준으로 차례대로 입력:희야 99 96 90\n"
          ]
        }
      ]
    },
    {
      "cell_type": "code",
      "source": [
        "# 입력 데이터 확인\n",
        "for i in student_list:\n",
        "  print(i)"
      ],
      "metadata": {
        "colab": {
          "base_uri": "https://localhost:8080/"
        },
        "id": "0E0W3gFJu_-A",
        "outputId": "802fcacc-93f3-4dfd-aaed-82690fa04ad0"
      },
      "execution_count": 8,
      "outputs": [
        {
          "output_type": "stream",
          "name": "stdout",
          "text": [
            "name:홍길동, kor:80, eng:90, math:70, rank:-1\n",
            "name:김유신, kor:90, eng:80, math:70, rank:-1\n",
            "name:철수, kor:95, eng:98, math:97, rank:-1\n",
            "name:영희, kor:85, eng:87, math:99, rank:-1\n",
            "name:희야, kor:99, eng:96, math:90, rank:-1\n"
          ]
        }
      ]
    },
    {
      "cell_type": "code",
      "source": [
        "# 함수 매개변수를 객체리스트를 받아서 석차를 구한다음 각 객체의 rank에 기록"
      ],
      "metadata": {
        "id": "MO3VS7jmvEKH"
      },
      "execution_count": 6,
      "outputs": []
    },
    {
      "cell_type": "code",
      "source": [
        "# 총점을 리스트에 저장하고\n",
        "# 총점을 오름차순으로정렬 한후 새로운 리스트에 저장\n",
        "# 새로운 리스트에 인덱스를구한다(조회하고자 하는 총점)\n",
        "def calcRank(student_list):\n",
        "  total_jumsu = [ int(i.kor)+int(i.eng)+int(i.math)  for i in student_list ]\n",
        "  sorted_total_jumsu = sorted(total_jumsu, reverse=True)  \n",
        "  rank_list = [ sorted_total_jumsu.index(i)+1 for i in total_jumsu]\n",
        "  \n",
        "  for idx,s in enumerate(student_list):\n",
        "    s.rank  = rank_list[idx]"
      ],
      "metadata": {
        "id": "TSqzCbocvVlS"
      },
      "execution_count": 16,
      "outputs": []
    },
    {
      "cell_type": "code",
      "source": [
        "calcRank(student_list)"
      ],
      "metadata": {
        "id": "rScEARmT3zkb"
      },
      "execution_count": 17,
      "outputs": []
    },
    {
      "cell_type": "code",
      "source": [
        "# 데이터 확인\n",
        "for i in student_list:\n",
        "  print(i)"
      ],
      "metadata": {
        "colab": {
          "base_uri": "https://localhost:8080/"
        },
        "id": "QUOdK9dQ31mR",
        "outputId": "c830f94d-cd53-4689-da4c-bcd15e7e9169"
      },
      "execution_count": 18,
      "outputs": [
        {
          "output_type": "stream",
          "name": "stdout",
          "text": [
            "name:홍길동, kor:80, eng:90, math:70, rank:4\n",
            "name:김유신, kor:90, eng:80, math:70, rank:4\n",
            "name:철수, kor:95, eng:98, math:97, rank:1\n",
            "name:영희, kor:85, eng:87, math:99, rank:3\n",
            "name:희야, kor:99, eng:96, math:90, rank:2\n"
          ]
        }
      ]
    },
    {
      "cell_type": "code",
      "source": [],
      "metadata": {
        "id": "XFxOg1v04jAA"
      },
      "execution_count": null,
      "outputs": []
    }
  ]
}