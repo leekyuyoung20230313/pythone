{
  "nbformat": 4,
  "nbformat_minor": 0,
  "metadata": {
    "colab": {
      "provenance": []
    },
    "kernelspec": {
      "name": "python3",
      "display_name": "Python 3"
    },
    "language_info": {
      "name": "python"
    }
  },
  "cells": [
    {
      "cell_type": "code",
      "execution_count": 1,
      "metadata": {
        "colab": {
          "base_uri": "https://localhost:8080/",
          "height": 71
        },
        "id": "2KmcPbL3sslI",
        "outputId": "bcd6fb44-f019-401f-ef06-7cbe36dd9ade"
      },
      "outputs": [
        {
          "output_type": "execute_result",
          "data": {
            "text/plain": [
              "'클래스\\n목적 성적관리를 위한 클래스를\\n학생의 정보\\n  변수\\n    수강과목(국,영,수) - dictionary\\n    이름  : string\\n    석차 : int\\n  함수\\n    생성자 : 위의 변수를 여기서 생성해 준다\\n    객체를 출력하면 실행되는 __str__ 를 재정의해서 클래스의 변수내용을 출력하는 함수로 작성 \\n\\n클래스 외부\\n함수\\n    석차를 구하는 함수\\n학생들을 저장하는 리스트    \\n\\n'"
            ],
            "application/vnd.google.colaboratory.intrinsic+json": {
              "type": "string"
            }
          },
          "metadata": {},
          "execution_count": 1
        }
      ],
      "source": [
        "'''클래스\n",
        "목적 성적관리를 위한 클래스를\n",
        "학생의 정보\n",
        "  변수\n",
        "    수강과목(국,영,수)\n",
        "    이름  : string\n",
        "    석차 : int\n",
        "  함수\n",
        "    생성자 : 위의 변수를 여기서 생성해 준다\n",
        "    객체를 출력하면 실행되는 __str__ 를 재정의해서 클래스의 변수내용을 출력하는 함수로 작성 \n",
        "\n",
        "클래스 외부\n",
        "함수\n",
        "    석차를 구하는 함수\n",
        "학생들을 저장하는 리스트    \n",
        "\n",
        "'''"
      ]
    },
    {
      "cell_type": "code",
      "source": [
        "class Student(object):\n",
        "  def __init__(self,name,kor,eng,math) -> None:\n",
        "    self.name = name\n",
        "    self.kor = kor\n",
        "    self.eng = eng\n",
        "    self.math = math\n",
        "    self.rank = -1\n",
        "  def __str__(self):\n",
        "    return f\"name:{self.name}, kor:{self.kor}, eng:{self.eng}, math:{self.math}, rank:{self.rank}\"    "
      ],
      "metadata": {
        "id": "TuZTCIQdtxC6"
      },
      "execution_count": 2,
      "outputs": []
    },
    {
      "cell_type": "code",
      "source": [
        "student_list = []\n",
        "data = input(\"이름 국어 영어 수학 을 공백을 기준으로 차례대로 입력:\")\n",
        "data = data.split()\n",
        "student_list.append(Student(data[0],data[1],data[2],data[3]))"
      ],
      "metadata": {
        "colab": {
          "base_uri": "https://localhost:8080/"
        },
        "id": "jSL6kXjtueTQ",
        "outputId": "fb846785-11e0-4a8c-8a93-1dc3a045001b"
      },
      "execution_count": 3,
      "outputs": [
        {
          "name": "stdout",
          "output_type": "stream",
          "text": [
            "이름 국어 영어 수학 을 공백을 기준으로 차례대로 입력:홍길동 100 95 99\n"
          ]
        }
      ]
    },
    {
      "cell_type": "code",
      "source": [
        "print(student_list[0])"
      ],
      "metadata": {
        "colab": {
          "base_uri": "https://localhost:8080/"
        },
        "id": "0E0W3gFJu_-A",
        "outputId": "044a9dcf-80c8-4505-b75a-22788cf9ba64"
      },
      "execution_count": 5,
      "outputs": [
        {
          "output_type": "stream",
          "name": "stdout",
          "text": [
            "name:홍길동, kor:100, eng:95, math:99, rank:-1\n"
          ]
        }
      ]
    },
    {
      "cell_type": "code",
      "source": [],
      "metadata": {
        "id": "MO3VS7jmvEKH"
      },
      "execution_count": null,
      "outputs": []
    }
  ]
}