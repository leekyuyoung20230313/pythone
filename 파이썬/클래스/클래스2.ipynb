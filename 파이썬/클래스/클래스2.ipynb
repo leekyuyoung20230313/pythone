{
  "nbformat": 4,
  "nbformat_minor": 0,
  "metadata": {
    "colab": {
      "provenance": []
    },
    "kernelspec": {
      "name": "python3",
      "display_name": "Python 3"
    },
    "language_info": {
      "name": "python"
    }
  },
  "cells": [
    {
      "cell_type": "code",
      "execution_count": 1,
      "metadata": {
        "colab": {
          "base_uri": "https://localhost:8080/",
          "height": 71
        },
        "id": "2KmcPbL3sslI",
        "outputId": "bcd6fb44-f019-401f-ef06-7cbe36dd9ade"
      },
      "outputs": [
        {
          "output_type": "execute_result",
          "data": {
            "text/plain": [
              "'클래스\\n목적 성적관리를 위한 클래스를\\n학생의 정보\\n  변수\\n    수강과목(국,영,수) - dictionary\\n    이름  : string\\n    석차 : int\\n  함수\\n    생성자 : 위의 변수를 여기서 생성해 준다\\n    객체를 출력하면 실행되는 __str__ 를 재정의해서 클래스의 변수내용을 출력하는 함수로 작성 \\n\\n클래스 외부\\n함수\\n    석차를 구하는 함수\\n학생들을 저장하는 리스트    \\n\\n'"
            ],
            "application/vnd.google.colaboratory.intrinsic+json": {
              "type": "string"
            }
          },
          "metadata": {},
          "execution_count": 1
        }
      ],
      "source": [
        "'''클래스\n",
        "목적 성적관리를 위한 클래스를\n",
        "학생의 정보\n",
        "  변수\n",
        "    수강과목(국,영,수)\n",
        "    이름  : string\n",
        "    석차 : int\n",
        "  함수\n",
        "    생성자 : 위의 변수를 여기서 생성해 준다\n",
        "    객체를 출력하면 실행되는 __str__ 를 재정의해서 클래스의 변수내용을 출력하는 함수로 작성 \n",
        "\n",
        "클래스 외부\n",
        "함수\n",
        "    석차를 구하는 함수\n",
        "학생들을 저장하는 리스트    \n",
        "\n",
        "'''"
      ]
    },
    {
      "cell_type": "code",
      "source": [
        "class Student(object):\n",
        "  def __init__(self,name,kor,eng,math) -> None:\n",
        "    self.name = name\n",
        "    self.kor = kor\n",
        "    self.eng = eng\n",
        "    self.math = math\n",
        "    self.rank = -1\n",
        "  def __str__(self):\n",
        "    return f\"name:{self.name}, kor:{self.kor}, eng:{self.eng}, math:{self.math}, rank:{self.rank}\"    \n",
        "\n",
        "  def __eq__(self, __o: object) -> bool:\n",
        "    return int(self.kor) == int(__o.kor)"
      ],
      "metadata": {
        "id": "TuZTCIQdtxC6"
      },
      "execution_count": 52,
      "outputs": []
    },
    {
      "cell_type": "code",
      "source": [
        "student_list = []\n",
        "for _ in range(5):\n",
        "  data = input(\"이름 국어 영어 수학 을 공백을 기준으로 차례대로 입력:\").split()\n",
        "  student_list.append(Student(data[0],data[1],data[2],data[3]))"
      ],
      "metadata": {
        "colab": {
          "base_uri": "https://localhost:8080/"
        },
        "id": "jSL6kXjtueTQ",
        "outputId": "fa27e720-dc47-4afd-c3fb-e5a5a281272e"
      },
      "execution_count": 7,
      "outputs": [
        {
          "name": "stdout",
          "output_type": "stream",
          "text": [
            "이름 국어 영어 수학 을 공백을 기준으로 차례대로 입력:홍길동 80 90 70\n",
            "이름 국어 영어 수학 을 공백을 기준으로 차례대로 입력:김유신 90 80 70\n",
            "이름 국어 영어 수학 을 공백을 기준으로 차례대로 입력:철수 95 98 97\n",
            "이름 국어 영어 수학 을 공백을 기준으로 차례대로 입력:영희 85 87 99\n",
            "이름 국어 영어 수학 을 공백을 기준으로 차례대로 입력:희야 99 96 90\n"
          ]
        }
      ]
    },
    {
      "cell_type": "code",
      "source": [
        "# 입력 데이터 확인\n",
        "for i in student_list:\n",
        "  print(i)"
      ],
      "metadata": {
        "colab": {
          "base_uri": "https://localhost:8080/"
        },
        "id": "0E0W3gFJu_-A",
        "outputId": "802fcacc-93f3-4dfd-aaed-82690fa04ad0"
      },
      "execution_count": 8,
      "outputs": [
        {
          "output_type": "stream",
          "name": "stdout",
          "text": [
            "name:홍길동, kor:80, eng:90, math:70, rank:-1\n",
            "name:김유신, kor:90, eng:80, math:70, rank:-1\n",
            "name:철수, kor:95, eng:98, math:97, rank:-1\n",
            "name:영희, kor:85, eng:87, math:99, rank:-1\n",
            "name:희야, kor:99, eng:96, math:90, rank:-1\n"
          ]
        }
      ]
    },
    {
      "cell_type": "code",
      "source": [
        "# 함수 매개변수를 객체리스트를 받아서 석차를 구한다음 각 객체의 rank에 기록"
      ],
      "metadata": {
        "id": "MO3VS7jmvEKH"
      },
      "execution_count": 6,
      "outputs": []
    },
    {
      "cell_type": "code",
      "source": [
        "# 총점을 리스트에 저장하고\n",
        "# 총점을 오름차순으로정렬 한후 새로운 리스트에 저장\n",
        "# 새로운 리스트에 인덱스를구한다(조회하고자 하는 총점)\n",
        "def calcRank(student_list):\n",
        "  total_jumsu = [ int(i.kor)+int(i.eng)+int(i.math)  for i in student_list ]\n",
        "  sorted_total_jumsu = sorted(total_jumsu, reverse=True)  \n",
        "  rank_list = [ sorted_total_jumsu.index(i)+1 for i in total_jumsu]\n",
        "  \n",
        "  for idx,s in enumerate(student_list):\n",
        "    s.rank  = rank_list[idx]"
      ],
      "metadata": {
        "id": "TSqzCbocvVlS"
      },
      "execution_count": 16,
      "outputs": []
    },
    {
      "cell_type": "code",
      "source": [
        "calcRank(student_list)"
      ],
      "metadata": {
        "id": "rScEARmT3zkb"
      },
      "execution_count": 17,
      "outputs": []
    },
    {
      "cell_type": "code",
      "source": [
        "# 데이터 확인\n",
        "for i in student_list:\n",
        "  print(i)"
      ],
      "metadata": {
        "colab": {
          "base_uri": "https://localhost:8080/"
        },
        "id": "QUOdK9dQ31mR",
        "outputId": "c830f94d-cd53-4689-da4c-bcd15e7e9169"
      },
      "execution_count": 18,
      "outputs": [
        {
          "output_type": "stream",
          "name": "stdout",
          "text": [
            "name:홍길동, kor:80, eng:90, math:70, rank:4\n",
            "name:김유신, kor:90, eng:80, math:70, rank:4\n",
            "name:철수, kor:95, eng:98, math:97, rank:1\n",
            "name:영희, kor:85, eng:87, math:99, rank:3\n",
            "name:희야, kor:99, eng:96, math:90, rank:2\n"
          ]
        }
      ]
    },
    {
      "cell_type": "code",
      "source": [
        "# 등수로 정렬해서 출력\n",
        "for i in sorted(student_list, key = lambda x: x.rank):\n",
        "  print(i)"
      ],
      "metadata": {
        "colab": {
          "base_uri": "https://localhost:8080/"
        },
        "id": "XFxOg1v04jAA",
        "outputId": "6218bbef-e64e-46fa-e54a-aa614e86aba1"
      },
      "execution_count": 20,
      "outputs": [
        {
          "output_type": "stream",
          "name": "stdout",
          "text": [
            "name:철수, kor:95, eng:98, math:97, rank:1\n",
            "name:희야, kor:99, eng:96, math:90, rank:2\n",
            "name:영희, kor:85, eng:87, math:99, rank:3\n",
            "name:홍길동, kor:80, eng:90, math:70, rank:4\n",
            "name:김유신, kor:90, eng:80, math:70, rank:4\n"
          ]
        }
      ]
    },
    {
      "cell_type": "markdown",
      "source": [
        "- 클래스: 변수 & 함수로 구성\n",
        "- 객체 : 클래스를 이용해서 생성한 변수\n",
        "- 객체만드는 방법 :  클래스명( 매개변수 ) -> 내부적으로 __init__(self,매개변수)  가 호출된다.\n",
        "- 변수만드는 방법 : __init__() 함수(생성자)안에서 self.변수 = 값"
      ],
      "metadata": {
        "id": "6pmKyxbh6QRh"
      }
    },
    {
      "cell_type": "code",
      "source": [
        "# 클래스 만들고 사용하는 예제 10개 만들어서 사용해보고 이해하기\n",
        "# 예제는 gpt를 통해서 (ex : python class 만드는 예제 10개 만들어줘 )"
      ],
      "metadata": {
        "id": "TOGnOiVg6Ezw"
      },
      "execution_count": 21,
      "outputs": []
    },
    {
      "cell_type": "markdown",
      "source": [
        "- 객체는 일반적인 변수처럼도 사용 가능하게 만들수 있다\n",
        "- 객체지향 오버로딩(overloading)\n",
        "  - 객체간의 연산, 비교\n",
        "- 객체지향 오버라이딩(overriding)"
      ],
      "metadata": {
        "id": "n_QTiLw4KD3Q"
      }
    },
    {
      "cell_type": "code",
      "source": [
        "class Rectangle(object):\n",
        "  def __init__(self, width,height) -> None:\n",
        "    self.width = width\n",
        "    self.height = height\n",
        "  def __str__(self):\n",
        "    return f\"widh:{self.width}, height:{self.height}\"\n",
        "  def getArea(self):\n",
        "    return self.width * self.height"
      ],
      "metadata": {
        "id": "aLwPuqxCIzYg"
      },
      "execution_count": 29,
      "outputs": []
    },
    {
      "cell_type": "code",
      "source": [
        "class Point(object):\n",
        "  def __init__(self,x,y):\n",
        "    self.x = x\n",
        "    self.y = y\n",
        "  def __str__(self):\n",
        "    return f\"({self.x},{self.y})\""
      ],
      "metadata": {
        "id": "5Uw6dTpIM-kP"
      },
      "execution_count": 33,
      "outputs": []
    },
    {
      "cell_type": "code",
      "source": [
        "import math\n",
        "\n",
        "right_top = Point(5,5)\n",
        "left_bottom = Point(2,3)\n",
        "# 1 사각형의 넓이\n",
        "width = abs(right_top.x - left_bottom.x)\n",
        "height = abs(right_top.y - left_bottom.y)\n",
        "r1 = Rectangle(width,height)\n",
        "print('사각형의 넓이 :',r1.getArea())\n",
        "\n",
        "# 2. 두 점사이의 거리 : 피타고라스의 정리    c = math.sqrt(a**2 + b**2)\n",
        "print('두점사이의 거리 :',round( math.sqrt(width**2 + height**2), 2) )"
      ],
      "metadata": {
        "colab": {
          "base_uri": "https://localhost:8080/"
        },
        "id": "gcDZBXx1NPeG",
        "outputId": "382c8026-e13d-4f83-ed83-cf135c8d0038"
      },
      "execution_count": 44,
      "outputs": [
        {
          "output_type": "stream",
          "name": "stdout",
          "text": [
            "사각형의 넓이 : 6\n",
            "두점사이의 거리 : 3.61\n"
          ]
        }
      ]
    },
    {
      "cell_type": "code",
      "source": [
        "s1 = Student('홍길동',100,100,100)\n",
        "s2 = Student('이순신',100,100,100)"
      ],
      "metadata": {
        "id": "3VaWUm53Sh8z"
      },
      "execution_count": 54,
      "outputs": []
    },
    {
      "cell_type": "code",
      "source": [
        "s1 == s2"
      ],
      "metadata": {
        "colab": {
          "base_uri": "https://localhost:8080/"
        },
        "id": "W98XmnIbT9W2",
        "outputId": "13acf48c-124e-466e-cb3b-9deecf2e8a7e"
      },
      "execution_count": 55,
      "outputs": [
        {
          "output_type": "execute_result",
          "data": {
            "text/plain": [
              "True"
            ]
          },
          "metadata": {},
          "execution_count": 55
        }
      ]
    },
    {
      "cell_type": "markdown",
      "source": [
        "- +: __add__\n",
        "- -: __sub__\n",
        "- *: __mul__\n",
        "- /: __truediv__\n",
        "- //: __floordiv__\n",
        "- %: __mod__\n",
        "- **: __pow__\n",
        "- ==: __eq__\n",
        "- !=: __ne__\n",
        "- <: __lt__\n",
        "- <=: __le__\n",
        "- >: __gt__\n",
        "- >=: __ge__\n",
        "- &: __and__\n",
        "- |: __or__\n",
        "- ^: __xor__\n",
        "- ~: __invert__\n",
        "- <<: __lshift__\n",
        "- >>: __rshift__\n",
        "각각의 특수 메소드는 해당하는 연산자가 사용될 때 호출됩니다. 예를 들어, __add__ 메소드는 덧셈 연산자(+)가 사용될 때 호출되며, __sub__ 메소드는 뺄셈 연산자(-)가 사용될 때 호출됩니다.\n",
        "\n",
        "다음은 __mul__ 메소드를 이용하여 곱셈 연산자(*)를 오버로딩하는 예제 코드입니다.\n",
        "\n",
        "python\n",
        "Copy code\n",
        "class Number:\n",
        "    def __init__(self, value):\n",
        "        self.value = value\n",
        "    \n",
        "    def __mul__(self, other):\n",
        "        if isinstance(other, Number):\n",
        "            return Number(self.value * other.value)\n",
        "        raise TypeError(\"Invalid operand type for *\")\n",
        "\n",
        "num1 = Number(10)\n",
        "num2 = Number(20)\n",
        "\n",
        "result = num1 * num2\n",
        "print(result.value) # 200\n",
        "위 코드에서 Number 클래스는 숫자 값을 가지는 객체를 나타내며, __mul__ 함수를 오버로딩하여 곱셈 연산을 지원합니다. result = num1 * num2 코드에서는 num1.__mul__(num2)가 호출되어 두 객체의 값을 곱한 새로운 Number 객체를 반환합니다. 결과적으로 result.value는 200이 출력됩니다.\n",
        "\n",
        "\n",
        "\n",
        "\n",
        "이규영\n",
        "파이썬 두 점 사이의 거리\n",
        "두 점 사이의 거리를 계산하기 위해서는 수학적인 공식인 피타고라스의 정리를 이용할 수 있습니다. 이 공식은 세 변의 길이가 각각 a, b, c인 직각삼각형에서 빗변의 길이 c를 구하는 공식으로, a^2 + b^2 = c^2입니다.\n",
        "\n",
        "두 점의 좌표를 (x1, y1)과 (x2, y2)라고 할 때, 두 점 사이의 거리는 다음과 같이 계산할 수 있습니다.\n",
        "\n",
        "python\n",
        "Copy code\n",
        "import math\n",
        "\n",
        "class Point:\n",
        "    def __init__(self, x, y):\n",
        "        self.x = x\n",
        "        self.y = y\n",
        "        \n",
        "    def distance(self, other):\n",
        "        dx = self.x - other.x\n",
        "        dy = self.y - other.y\n",
        "        return math.sqrt(dx**2 + dy**2)\n",
        "위 코드에서 Point 클래스는 (x, y) 좌표를 가지는 점을 나타내며, distance 메소드를 이용하여 다른 점과의 거리를 계산합니다. distance 메소드는 인자로 다른 Point 객체를 받아 해당 점과의 거리를 계산한 뒤 반환합니다.\n",
        "\n",
        "이제 두 점을 생성하여 distance 메소드를 호출해보겠습니다.\n",
        "\n",
        "python\n",
        "Copy code\n",
        "p1 = Point(1, 2)\n",
        "p2 = Point(4, 6)\n",
        "\n",
        "print(p1.distance(p2)) # 5.0\n",
        "위 코드에서 p1.distance(p2)는 p1과 p2 사이의 거리를 계산한 뒤 반환합니다. 이 경우에는 5.0이 출력됩니다."
      ],
      "metadata": {
        "id": "-q82kbhnU-Xo"
      }
    },
    {
      "cell_type": "code",
      "source": [
        "# 내장함수\n",
        "# __init__  : 변수만들때\n",
        "# __str__ : 객체 자체를 출력할때\n",
        "# __eq__ : 객체끼리 == 같은지 비교할때"
      ],
      "metadata": {
        "id": "kzVpqUxQT-6d"
      },
      "execution_count": 56,
      "outputs": []
    },
    {
      "cell_type": "code",
      "source": [],
      "metadata": {
        "id": "ywjS1lmeWLFS"
      },
      "execution_count": null,
      "outputs": []
    }
  ]
}