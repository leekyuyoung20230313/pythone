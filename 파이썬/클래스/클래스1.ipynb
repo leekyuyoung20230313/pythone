{
  "nbformat": 4,
  "nbformat_minor": 0,
  "metadata": {
    "colab": {
      "provenance": []
    },
    "kernelspec": {
      "name": "python3",
      "display_name": "Python 3"
    },
    "language_info": {
      "name": "python"
    }
  },
  "cells": [
    {
      "cell_type": "code",
      "execution_count": 17,
      "metadata": {
        "id": "WIm0uM1OznjT"
      },
      "outputs": [],
      "source": [
        "class Dog(object):  \n",
        "  def __init__(self,data) -> None:\n",
        "    self.mydata = data    \n",
        "    print(\"초기화 함수 호출... 이것을 생성자라고 부른다. 왜냐.. 객체생성시 가장먼저 자동호출\")\n",
        "  "
      ]
    },
    {
      "cell_type": "code",
      "source": [
        "# 클래스를 이용한 객체 생성 방법\n",
        "dog_object = Dog(3)"
      ],
      "metadata": {
        "colab": {
          "base_uri": "https://localhost:8080/"
        },
        "id": "kNJbK0n80Lab",
        "outputId": "420593c7-a583-47f3-e6eb-95e6424f3b52"
      },
      "execution_count": 24,
      "outputs": [
        {
          "output_type": "stream",
          "name": "stdout",
          "text": [
            "초기화 함수 호출... 이것을 생성자라고 부른다. 왜냐.. 객체생성시 가장먼저 자동호출\n"
          ]
        }
      ]
    },
    {
      "cell_type": "code",
      "source": [
        "# Cat 클래스를 만들어서 맴버변수로 age를 만들고 사용해 보세요\n",
        "class Cat(object):  \n",
        "  def __init__(self,data) -> None:\n",
        "    self.age = data  \n",
        "\n",
        "cat_object = Cat(2)"
      ],
      "metadata": {
        "id": "7nSmkMSS1QgM"
      },
      "execution_count": 25,
      "outputs": []
    },
    {
      "cell_type": "code",
      "source": [
        "# Human 클래스\n",
        "# 맴버변수로 age name, address\n",
        "# 객체만들기\n",
        "class Human():\n",
        "  def __init__(self,age,name,address) -> None:\n",
        "    self.age = age\n",
        "    self.name = name\n",
        "    self.address = address"
      ],
      "metadata": {
        "id": "S8UC2ta03MvE"
      },
      "execution_count": 34,
      "outputs": []
    },
    {
      "cell_type": "code",
      "source": [
        "# 객체 h는 Human 클래스의 생성자를 통해 초기화하는데.. 이때 데이터는 10,'홍길동','서울시'을 넘겨준거고\n",
        "# 해당값을 가지고 내부에 있는 클래스 맴버변수를 생성한다\n",
        "# 클래스 맴버변수는\n",
        "# self.age = age\n",
        "# self.name = name\n",
        "# self.address = address\n",
        "\n",
        "h = Human(10,'홍길동','서울시')"
      ],
      "metadata": {
        "id": "Ja-awZK89SFL"
      },
      "execution_count": 35,
      "outputs": []
    },
    {
      "cell_type": "code",
      "source": [
        "h2 = Human(20,'철수','경기도')\n",
        "h3 = Human(30,'영희','대전')\n",
        "h4 = Human(30,'순희','대구')"
      ],
      "metadata": {
        "id": "04yrSs2_9lX7"
      },
      "execution_count": 36,
      "outputs": []
    },
    {
      "cell_type": "code",
      "source": [
        "print(h.name, h2.name,h3.name,h4.name)"
      ],
      "metadata": {
        "colab": {
          "base_uri": "https://localhost:8080/"
        },
        "id": "lHe6lBb3-Zk8",
        "outputId": "8bb22ca2-81ee-4fc6-c585-47f20a6b3fe5"
      },
      "execution_count": 37,
      "outputs": [
        {
          "output_type": "stream",
          "name": "stdout",
          "text": [
            "홍길동 철수 영희 순희\n"
          ]
        }
      ]
    },
    {
      "cell_type": "code",
      "source": [
        "humanlist = [h,h2,h3,h4]"
      ],
      "metadata": {
        "id": "BrIArmwv-i6b"
      },
      "execution_count": 38,
      "outputs": []
    },
    {
      "cell_type": "code",
      "source": [
        "humanlist = [  Human(11,'홍길동1','서울시1'),Human(22,'홍길동2','서울시2'),Human(33,'홍길동3','서울시3') ]"
      ],
      "metadata": {
        "id": "fEetjQJ0-rCz"
      },
      "execution_count": 39,
      "outputs": []
    },
    {
      "cell_type": "code",
      "source": [
        "humanlist[0].name"
      ],
      "metadata": {
        "colab": {
          "base_uri": "https://localhost:8080/",
          "height": 35
        },
        "id": "M5GrrUzZ-zIc",
        "outputId": "a8f7be2c-4178-4a20-ed5f-fee4936ad5ef"
      },
      "execution_count": 40,
      "outputs": [
        {
          "output_type": "execute_result",
          "data": {
            "text/plain": [
              "'홍길동1'"
            ],
            "application/vnd.google.colaboratory.intrinsic+json": {
              "type": "string"
            }
          },
          "metadata": {},
          "execution_count": 40
        }
      ]
    },
    {
      "cell_type": "code",
      "source": [
        "class Animal():\n",
        "  def __init__(self,eat) -> None:\n",
        "    self.abc = eat"
      ],
      "metadata": {
        "id": "qW2kllVw-2WE"
      },
      "execution_count": 45,
      "outputs": []
    },
    {
      "cell_type": "code",
      "source": [
        "a = Animal(\"고기\")"
      ],
      "metadata": {
        "id": "I8znTIw6Ajzj"
      },
      "execution_count": 46,
      "outputs": []
    },
    {
      "cell_type": "code",
      "source": [],
      "metadata": {
        "id": "5ppKBYQ_AtK7"
      },
      "execution_count": null,
      "outputs": []
    }
  ]
}