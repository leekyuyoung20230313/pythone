{
  "nbformat": 4,
  "nbformat_minor": 0,
  "metadata": {
    "colab": {
      "provenance": []
    },
    "kernelspec": {
      "name": "python3",
      "display_name": "Python 3"
    },
    "language_info": {
      "name": "python"
    }
  },
  "cells": [
    {
      "cell_type": "code",
      "execution_count": 17,
      "metadata": {
        "id": "WIm0uM1OznjT"
      },
      "outputs": [],
      "source": [
        "class Dog(object):  \n",
        "  def __init__(self,data) -> None:\n",
        "    self.mydata = data    \n",
        "    print(\"초기화 함수 호출... 이것을 생성자라고 부른다. 왜냐.. 객체생성시 가장먼저 자동호출\")\n",
        "  "
      ]
    },
    {
      "cell_type": "code",
      "source": [
        "# 클래스를 이용한 객체 생성 방법\n",
        "dog_object = Dog(3)"
      ],
      "metadata": {
        "colab": {
          "base_uri": "https://localhost:8080/"
        },
        "id": "kNJbK0n80Lab",
        "outputId": "420593c7-a583-47f3-e6eb-95e6424f3b52"
      },
      "execution_count": 24,
      "outputs": [
        {
          "output_type": "stream",
          "name": "stdout",
          "text": [
            "초기화 함수 호출... 이것을 생성자라고 부른다. 왜냐.. 객체생성시 가장먼저 자동호출\n"
          ]
        }
      ]
    },
    {
      "cell_type": "code",
      "source": [
        "# Cat 클래스를 만들어서 맴버변수로 age를 만들고 사용해 보세요\n",
        "class Cat(object):  \n",
        "  def __init__(self,data) -> None:\n",
        "    self.age = data  \n",
        "\n",
        "cat_object = Cat(2)"
      ],
      "metadata": {
        "id": "7nSmkMSS1QgM"
      },
      "execution_count": 25,
      "outputs": []
    },
    {
      "cell_type": "code",
      "source": [
        "# Human 클래스\n",
        "# 맴버변수로 age name, address\n",
        "# 객체만들기\n",
        "class Human():\n",
        "  def __init__(self,age,name,address) -> None:\n",
        "    self.age = age\n",
        "    self.name = name\n",
        "    self.address = address"
      ],
      "metadata": {
        "id": "S8UC2ta03MvE"
      },
      "execution_count": 34,
      "outputs": []
    },
    {
      "cell_type": "code",
      "source": [
        "# 객체 h는 Human 클래스의 생성자를 통해 초기화하는데.. 이때 데이터는 10,'홍길동','서울시'을 넘겨준거고\n",
        "# 해당값을 가지고 내부에 있는 클래스 맴버변수를 생성한다\n",
        "# 클래스 맴버변수는\n",
        "# self.age = age\n",
        "# self.name = name\n",
        "# self.address = address\n",
        "\n",
        "h = Human(10,'홍길동','서울시')"
      ],
      "metadata": {
        "id": "Ja-awZK89SFL"
      },
      "execution_count": 35,
      "outputs": []
    },
    {
      "cell_type": "code",
      "source": [
        "h.age = 20"
      ],
      "metadata": {
        "colab": {
          "base_uri": "https://localhost:8080/"
        },
        "id": "ipaqpdGAIHZ3",
        "outputId": "ffe5beb0-98d5-452e-c992-4dabc405f402"
      },
      "execution_count": 47,
      "outputs": [
        {
          "output_type": "execute_result",
          "data": {
            "text/plain": [
              "10"
            ]
          },
          "metadata": {},
          "execution_count": 47
        }
      ]
    },
    {
      "cell_type": "code",
      "source": [
        "h2 = Human(20,'철수','경기도')\n",
        "h3 = Human(30,'영희','대전')\n",
        "h4 = Human(30,'순희','대구')"
      ],
      "metadata": {
        "id": "04yrSs2_9lX7"
      },
      "execution_count": 36,
      "outputs": []
    },
    {
      "cell_type": "code",
      "source": [
        "print(h.name, h2.name,h3.name,h4.name)"
      ],
      "metadata": {
        "colab": {
          "base_uri": "https://localhost:8080/"
        },
        "id": "lHe6lBb3-Zk8",
        "outputId": "8bb22ca2-81ee-4fc6-c585-47f20a6b3fe5"
      },
      "execution_count": 37,
      "outputs": [
        {
          "output_type": "stream",
          "name": "stdout",
          "text": [
            "홍길동 철수 영희 순희\n"
          ]
        }
      ]
    },
    {
      "cell_type": "code",
      "source": [
        "humanlist = [h,h2,h3,h4]"
      ],
      "metadata": {
        "id": "BrIArmwv-i6b"
      },
      "execution_count": 38,
      "outputs": []
    },
    {
      "cell_type": "code",
      "source": [
        "humanlist = [  Human(11,'홍길동1','서울시1'),Human(22,'홍길동2','서울시2'),Human(33,'홍길동3','서울시3') ]"
      ],
      "metadata": {
        "id": "fEetjQJ0-rCz"
      },
      "execution_count": 39,
      "outputs": []
    },
    {
      "cell_type": "code",
      "source": [
        "humanlist[0].name"
      ],
      "metadata": {
        "colab": {
          "base_uri": "https://localhost:8080/",
          "height": 35
        },
        "id": "M5GrrUzZ-zIc",
        "outputId": "a8f7be2c-4178-4a20-ed5f-fee4936ad5ef"
      },
      "execution_count": 40,
      "outputs": [
        {
          "output_type": "execute_result",
          "data": {
            "text/plain": [
              "'홍길동1'"
            ],
            "application/vnd.google.colaboratory.intrinsic+json": {
              "type": "string"
            }
          },
          "metadata": {},
          "execution_count": 40
        }
      ]
    },
    {
      "cell_type": "code",
      "source": [
        "class Animal():\n",
        "  def __init__(self,eat) -> None:\n",
        "    self.abc = eat"
      ],
      "metadata": {
        "id": "qW2kllVw-2WE"
      },
      "execution_count": 45,
      "outputs": []
    },
    {
      "cell_type": "code",
      "source": [
        "a = Animal(\"고기\")"
      ],
      "metadata": {
        "id": "I8znTIw6Ajzj"
      },
      "execution_count": 46,
      "outputs": []
    },
    {
      "cell_type": "code",
      "source": [
        "#  클래스명 - > 자유\n",
        "#  맴버변수의 개수나 형태도 자유\n",
        "# 클래스의 객체를 생성하고\n",
        "# 객체를 통해 맴버변수의 값 확인\n",
        "# 객체를 통해 맴버변수의 값을 변경"
      ],
      "metadata": {
        "id": "5ppKBYQ_AtK7"
      },
      "execution_count": null,
      "outputs": []
    },
    {
      "cell_type": "code",
      "source": [
        "# 클래스의 객체를 여러개 만들어서 특정 맴버변수를 기준으로 정렬\n",
        "# 정렬은 람다함수를 이용\n",
        "# sorted(리스트데이터, key = 람다로 표현)"
      ],
      "metadata": {
        "id": "K5yXAKJCKAhd"
      },
      "execution_count": 48,
      "outputs": []
    },
    {
      "cell_type": "code",
      "source": [
        "class Student(object):\n",
        "  def __init__(self, name,age=-1,jumsu=-1,rank=-1) -> None:\n",
        "    self.name = name\n",
        "    self.age = age\n",
        "    self.jumsu = jumsu\n",
        "    self.rank = rank   "
      ],
      "metadata": {
        "id": "pcfcAw-kKRY7"
      },
      "execution_count": 49,
      "outputs": []
    },
    {
      "cell_type": "code",
      "source": [
        "student_list = [Student(\"이규영\",10,90,10),Student(\"이규형\",5,80,20),Student(\"홍길동\",13,70,30)]"
      ],
      "metadata": {
        "id": "We-JOqk9LRWL"
      },
      "execution_count": 55,
      "outputs": []
    },
    {
      "cell_type": "code",
      "source": [
        "s = Student(\"이규영\",10,90,10)\n",
        "s"
      ],
      "metadata": {
        "colab": {
          "base_uri": "https://localhost:8080/"
        },
        "id": "5wNElwTRcTdE",
        "outputId": "75964f6d-6549-4d2f-9955-1582bbd420ae"
      },
      "execution_count": 64,
      "outputs": [
        {
          "output_type": "execute_result",
          "data": {
            "text/plain": [
              "<__main__.Student at 0x7f0fe8d211c0>"
            ]
          },
          "metadata": {},
          "execution_count": 64
        }
      ]
    },
    {
      "cell_type": "code",
      "source": [
        "# 객체를 주면 객체의 내용을 출력하는 함수\n",
        "def showMember(s):\n",
        "  print(s.name,s.age,s.jumsu,s.rank)"
      ],
      "metadata": {
        "id": "EVoJlilocYKD"
      },
      "execution_count": 70,
      "outputs": []
    },
    {
      "cell_type": "code",
      "source": [
        "# 정렬\n",
        "sorted_age = sorted(student_list, key = lambda x:x.rank)\n",
        "[ (i.name,i.age,i.jumsu,i.rank) for i in sorted_age ]\n",
        "# 순서대로 출력\n",
        "for i in student_list:\n",
        "  showMember(i)\n",
        "\n",
        "print(\"*\"*50)  \n",
        "# 이중에서 나이가 또는 이름이 등등 특정 조건으로 찾고\n",
        "# 원하는 변수의 값을 변경\n",
        "find_list = [i for i in student_list if i.age >= 10 ]\n",
        "for i in find_list:\n",
        "  showMember(i)\n",
        "# 리스트에 추가도 하고\n",
        "\n",
        "# 리스트에 삭제도 하고\n",
        "\n",
        "# 각 객체들의 특정 변수의 값만 뽑아서 리스트로 만들기\n",
        "[i.name for i in student_list ]"
      ],
      "metadata": {
        "colab": {
          "base_uri": "https://localhost:8080/"
        },
        "id": "gSMbMC5xLiDS",
        "outputId": "71b5695f-7486-4303-a134-ed619d092e59"
      },
      "execution_count": 74,
      "outputs": [
        {
          "output_type": "stream",
          "name": "stdout",
          "text": [
            "이규영 10 90 10\n",
            "이규형 5 80 20\n",
            "홍길동 13 70 30\n",
            "**************************************************\n",
            "이규영 10 90 10\n",
            "홍길동 13 70 30\n"
          ]
        },
        {
          "output_type": "execute_result",
          "data": {
            "text/plain": [
              "['이규영', '이규형', '홍길동']"
            ]
          },
          "metadata": {},
          "execution_count": 74
        }
      ]
    },
    {
      "cell_type": "code",
      "source": [
        "class Dumy(object):\n",
        "  def __init__(self,data) -> None:\n",
        "    self.data = data\n",
        "  def __str__(self) -> str:\n",
        "    return \"누가 나를 불렀나요?\""
      ],
      "metadata": {
        "id": "hyQnOABaa4ma"
      },
      "execution_count": 81,
      "outputs": []
    },
    {
      "cell_type": "code",
      "source": [
        "# __init__을 호출해서 객체를 생성하는 문법\n",
        "d1 = Dumy(10)"
      ],
      "metadata": {
        "id": "Vg3kjVgod86y"
      },
      "execution_count": 82,
      "outputs": []
    },
    {
      "cell_type": "code",
      "source": [
        "print(d1)"
      ],
      "metadata": {
        "colab": {
          "base_uri": "https://localhost:8080/"
        },
        "id": "2GdiR9q6eDhC",
        "outputId": "3f73d6b4-eacf-4de1-aeb4-31ca934b0f1d"
      },
      "execution_count": 83,
      "outputs": [
        {
          "output_type": "stream",
          "name": "stdout",
          "text": [
            "누가 나를 불렀나요?\n"
          ]
        }
      ]
    },
    {
      "cell_type": "code",
      "source": [],
      "metadata": {
        "id": "e5uZXdBFeFv6"
      },
      "execution_count": null,
      "outputs": []
    }
  ]
}