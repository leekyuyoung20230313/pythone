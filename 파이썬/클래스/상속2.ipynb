{
  "nbformat": 4,
  "nbformat_minor": 0,
  "metadata": {
    "colab": {
      "provenance": []
    },
    "kernelspec": {
      "name": "python3",
      "display_name": "Python 3"
    },
    "language_info": {
      "name": "python"
    }
  },
  "cells": [
    {
      "cell_type": "code",
      "execution_count": 22,
      "metadata": {
        "id": "kxAVluVNV0nG"
      },
      "outputs": [],
      "source": [
        "class Shape(object):\n",
        "  def draw(self):\n",
        "    NotImplemented()\n",
        "\n",
        "class Rectangle(Shape):\n",
        "  def __init__(self,width,height):\n",
        "    self.width =width\n",
        "    self.height = height\n",
        "  def draw(self):\n",
        "    print(\"사각형을 그린다\")\n",
        "\n",
        "class Circle(Shape):\n",
        "  def __init__(self,radius):\n",
        "    self.radius = radius\n",
        "  def draw(self):\n",
        "    print(\"원을 그린다\")  \n",
        "\n",
        "class Triangle(Shape):\n",
        "  def __init__(self,width,height):\n",
        "    self.width =width\n",
        "    self.height = height\n",
        "  def draw(self):\n",
        "    print('삼각형을 그린다')"
      ]
    },
    {
      "cell_type": "code",
      "source": [],
      "metadata": {
        "id": "NP4wk2sKWWmo"
      },
      "execution_count": null,
      "outputs": []
    }
  ]
}