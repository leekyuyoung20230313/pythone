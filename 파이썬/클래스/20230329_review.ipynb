{
  "nbformat": 4,
  "nbformat_minor": 0,
  "metadata": {
    "colab": {
      "provenance": []
    },
    "kernelspec": {
      "name": "python3",
      "display_name": "Python 3"
    },
    "language_info": {
      "name": "python"
    }
  },
  "cells": [
    {
      "cell_type": "markdown",
      "source": [
        "Review\n",
        "  - 클래스\n",
        "  - __init__: 생성자\n",
        "  - __str__ : 객체를 출력\n",
        "  - __eq__  : 객체끼리 비교\n",
        "  - __add__ : 객체끼리 연산 +  "
      ],
      "metadata": {
        "id": "dr-zFPC_ylOr"
      }
    },
    {
      "cell_type": "code",
      "source": [
        "class MyClass(object):\n",
        "  def __init__(self):\n",
        "    pass"
      ],
      "metadata": {
        "id": "OBv-Bi6-y1DM"
      },
      "execution_count": 1,
      "outputs": []
    },
    {
      "cell_type": "code",
      "source": [
        "a = MyClass()  # 클래스이름으로 함수처럼 사용->생성자(__init__)를 호출 ->객체"
      ],
      "metadata": {
        "id": "SHaK4wQgzQ_0"
      },
      "execution_count": 2,
      "outputs": []
    },
    {
      "cell_type": "code",
      "source": [
        "type(a)"
      ],
      "metadata": {
        "colab": {
          "base_uri": "https://localhost:8080/"
        },
        "id": "fK0mD8B2zhBD",
        "outputId": "bdd66a12-544d-4339-fc62-c468d44c98af"
      },
      "execution_count": 3,
      "outputs": [
        {
          "output_type": "execute_result",
          "data": {
            "text/plain": [
              "__main__.MyClass"
            ]
          },
          "metadata": {},
          "execution_count": 3
        }
      ]
    },
    {
      "cell_type": "code",
      "source": [
        "class MyClass(object):\n",
        "  def __init__(self,num1,num2):\n",
        "    self.num1 = num1\n",
        "    self.num2 = num2\n",
        "  def __str__(self):\n",
        "    return f\"num1:{self.num1},num2:{self.num2}\"\n",
        "  def __eq__(self, other):\n",
        "    return (self.num1 == other.num1) and (self.num2 == other.num2)\n",
        "  def showGreeting(self,msg):\n",
        "    print(f\"안녕하세요 {msg}\")"
      ],
      "metadata": {
        "id": "5oAFLCVazihB"
      },
      "execution_count": 38,
      "outputs": []
    },
    {
      "cell_type": "code",
      "source": [
        "my1 = MyClass(10,20)\n",
        "my2 = MyClass(10,20)"
      ],
      "metadata": {
        "id": "98-sZvb1zsmp"
      },
      "execution_count": 39,
      "outputs": []
    },
    {
      "cell_type": "code",
      "source": [
        "my1.num1,   my1.num2"
      ],
      "metadata": {
        "colab": {
          "base_uri": "https://localhost:8080/"
        },
        "id": "p5Ot-Nf4zzIy",
        "outputId": "e5f99159-ba60-41f5-8000-178b488cf2a5"
      },
      "execution_count": 40,
      "outputs": [
        {
          "output_type": "execute_result",
          "data": {
            "text/plain": [
              "(10, 20)"
            ]
          },
          "metadata": {},
          "execution_count": 40
        }
      ]
    },
    {
      "cell_type": "code",
      "source": [
        "print(my1)\n",
        "print(my2)"
      ],
      "metadata": {
        "colab": {
          "base_uri": "https://localhost:8080/"
        },
        "id": "zSyUdj1jz18x",
        "outputId": "b08fc5be-f0fe-4884-df8d-9f1b35fc1d05"
      },
      "execution_count": 41,
      "outputs": [
        {
          "output_type": "stream",
          "name": "stdout",
          "text": [
            "num1:10,num2:20\n",
            "num1:10,num2:20\n"
          ]
        }
      ]
    },
    {
      "cell_type": "code",
      "source": [
        "my1 == my2"
      ],
      "metadata": {
        "colab": {
          "base_uri": "https://localhost:8080/"
        },
        "id": "zraGR9qPz42S",
        "outputId": "d69c30e2-2513-47df-aee2-58bd4cc59f9c"
      },
      "execution_count": 42,
      "outputs": [
        {
          "output_type": "execute_result",
          "data": {
            "text/plain": [
              "True"
            ]
          },
          "metadata": {},
          "execution_count": 42
        }
      ]
    },
    {
      "cell_type": "code",
      "source": [
        "my1.showGreeting(\"kim\")"
      ],
      "metadata": {
        "colab": {
          "base_uri": "https://localhost:8080/"
        },
        "id": "-YsfNpuK0j8Z",
        "outputId": "efec5a96-3258-44e7-a35f-388d292ff158"
      },
      "execution_count": 43,
      "outputs": [
        {
          "output_type": "stream",
          "name": "stdout",
          "text": [
            "안녕하세요 kim\n"
          ]
        }
      ]
    },
    {
      "cell_type": "code",
      "source": [
        "# 노트북\n",
        "#  노트의 집합\n",
        "\n",
        "# 노트 : 내용을 작성하고 삭제\n",
        "# 변수 : 문자열을 저장할 변수\n",
        "'''\n",
        "class Note(object):\n",
        "  def __inint__\n",
        "  def add   글자추가\n",
        "  def erase 글자 삭제\n",
        "  def find  글자 찾기\n",
        "\n",
        "class NoteBook(object):\n",
        "  def __init__(self, maxPage = 300): \n",
        "    self.note = {}\n",
        "  def addNote(self,note):\n",
        "    마지막 페이지를 찾아서 추가 최대값에 도달할때까지    \n",
        "    self.note['1'] = note\n",
        "  def remove(self, pagenum=0):\n",
        "    딕션너리에서 해당페이지 번호를 찾아서 제거 페이지가 없을때까지\n",
        "    self.note.pop(0)\n",
        "  def findNote(self, msg):\n",
        "    문장으로 해당 내용이 있는 노트 찾기\n",
        "'''"
      ],
      "metadata": {
        "id": "D8DnO9YQ1PUE"
      },
      "execution_count": null,
      "outputs": []
    },
    {
      "cell_type": "code",
      "source": [
        "class Note(object):\n",
        "  def __init__(self,msg=\"\"):  \n",
        "    self.msg = msg\n",
        "  def __str__(self):\n",
        "    return self.msg  \n",
        "  def __eq__(self, other):\n",
        "    return self.msg == other.msg\n",
        "  def add(self,msg):\n",
        "    self.msg += msg\n",
        "  def erase(self, msg):\n",
        "    self.msg = \" \".join([ i for i in self.msg.split() if i != msg ])\n",
        "    return self.msg\n",
        "  def find_msg(self,msg):\n",
        "    return self.msg.find(msg) != -1\n",
        "  "
      ],
      "metadata": {
        "id": "UCoT9SLi4Yt8"
      },
      "execution_count": 63,
      "outputs": []
    },
    {
      "cell_type": "code",
      "source": [
        "class NoteBook(object):\n",
        "  '''NoteBook ver1 , self.note-->dic, key:페이지번호, value : note객체'''\n",
        "  def __init__(self):\n",
        "    self.note = {}\n",
        "  def addNote(self,note):\n",
        "    if len(self.note) !=0 and len(self.note) < 300:\n",
        "      self.note[ list(self.note)[-1]+1  ] = 200\n",
        "    else:\n",
        "      self.note[1] = 100\n",
        "  def __version__(self):\n",
        "    return f\"0.1.0\"\n",
        "\n",
        "  def remove_page(self, page_num):\n",
        "    if page_num in self.note.keys():\n",
        "      self.note.pop(page_num)\n",
        "    else:\n",
        "      print(\"해당페이지의 노트가 없습니다.\")\n",
        "  def find_note_msg(self,msg):     \n",
        "    return [key for key,value in self.note.items() if msg in value.split() ]\n",
        "  def find_note_page(self, page_num):\n",
        "    if page_num in self.note.keys():\n",
        "      return self.note[page_num]\n",
        "    else:\n",
        "      print(\"해당페이지의 노트가 없습니다.\")\n"
      ],
      "metadata": {
        "id": "liiJF_4W5viB"
      },
      "execution_count": 103,
      "outputs": []
    },
    {
      "cell_type": "code",
      "source": [],
      "metadata": {
        "id": "NM-CjsmMEZNZ"
      },
      "execution_count": null,
      "outputs": []
    }
  ]
}