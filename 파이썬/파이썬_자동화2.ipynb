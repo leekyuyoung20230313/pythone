{
  "nbformat": 4,
  "nbformat_minor": 0,
  "metadata": {
    "colab": {
      "provenance": []
    },
    "kernelspec": {
      "name": "python3",
      "display_name": "Python 3"
    },
    "language_info": {
      "name": "python"
    }
  },
  "cells": [
    {
      "cell_type": "code",
      "source": [
        "!pip install python-docx"
      ],
      "metadata": {
        "id": "3e1X8buoAsYf"
      },
      "execution_count": null,
      "outputs": []
    },
    {
      "cell_type": "code",
      "execution_count": 7,
      "metadata": {
        "id": "uYnY04qoAZ9L"
      },
      "outputs": [],
      "source": [
        "from docx import Document\n",
        "from docx.shared import Inches\n",
        "\n",
        "document = Document()  # 문서객체생성\n",
        "# 문서의 가장 처음에 위치하는 제목역활\n",
        "document.add_heading('Document Title', 0)\n",
        "\n",
        "# 내용중에 bold , italic 가능\n",
        "p = document.add_paragraph('A plain paragraph having some ')\n",
        "p.add_run('bold').bold = True\n",
        "p.add_run(' and some ')\n",
        "p.add_run('italic.').italic = True\n",
        "\n",
        "records = (\n",
        "    (3, '101', 'Spam'),\n",
        "    (7, '422', 'Eggs'),\n",
        "    (4, '631', 'Spam, spam, eggs, and spam')\n",
        ")\n",
        "\n",
        "# 테이블의 header\n",
        "table = document.add_table(rows=1, cols=3)\n",
        "hdr_cells = table.rows[0].cells\n",
        "hdr_cells[0].text = 'Qty'\n",
        "hdr_cells[1].text = 'Id'\n",
        "hdr_cells[2].text = 'Desc'\n",
        "# 테이블의 body\n",
        "for qty, id, desc in records:\n",
        "    row_cells = table.add_row().cells\n",
        "    row_cells[0].text = str(qty)\n",
        "    row_cells[1].text = id\n",
        "    row_cells[2].text = desc\n",
        "\n",
        "document.add_page_break()\n",
        "\n",
        "document.save('demo.docx')"
      ]
    },
    {
      "cell_type": "code",
      "source": [],
      "metadata": {
        "id": "HyxDUGCxApan"
      },
      "execution_count": null,
      "outputs": []
    }
  ]
}