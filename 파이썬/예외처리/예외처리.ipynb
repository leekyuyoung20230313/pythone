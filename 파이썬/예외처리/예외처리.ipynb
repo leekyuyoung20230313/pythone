{
  "nbformat": 4,
  "nbformat_minor": 0,
  "metadata": {
    "colab": {
      "provenance": []
    },
    "kernelspec": {
      "name": "python3",
      "display_name": "Python 3"
    },
    "language_info": {
      "name": "python"
    }
  },
  "cells": [
    {
      "cell_type": "code",
      "execution_count": null,
      "metadata": {
        "colab": {
          "base_uri": "https://localhost:8080/"
        },
        "id": "unR7Ghv07SOM",
        "outputId": "dfc2c282-e345-4bb8-d37c-494d66f8d985"
      },
      "outputs": [
        {
          "output_type": "stream",
          "name": "stdout",
          "text": [
            "숫자입력 : 10\n",
            "1.0\n",
            "인덱스 번호 : 20\n",
            "list index out of range\n",
            "try구문 종료 및 다른명령어 수행\n"
          ]
        }
      ],
      "source": [
        "try:\n",
        "  num1 = 10\n",
        "  print( num1 / int(input(\"숫자입력 : \")) )\n",
        "  list = [1,2]\n",
        "  print(list[ int(input('인덱스 번호 : '))  ])\n",
        "except Exception as e:\n",
        "  print(e)\n",
        "\n",
        "print(\"try구문 종료 및 다른명령어 수행\")"
      ]
    },
    {
      "cell_type": "code",
      "source": [
        "num1 / 0"
      ],
      "metadata": {
        "colab": {
          "base_uri": "https://localhost:8080/",
          "height": 171
        },
        "id": "9XAQ8B_k8wUD",
        "outputId": "9959c17f-7ca6-4939-b56d-884f24b734c3"
      },
      "execution_count": null,
      "outputs": [
        {
          "output_type": "error",
          "ename": "ZeroDivisionError",
          "evalue": "ignored",
          "traceback": [
            "\u001b[0;31m---------------------------------------------------------------------------\u001b[0m",
            "\u001b[0;31mZeroDivisionError\u001b[0m                         Traceback (most recent call last)",
            "\u001b[0;32m<ipython-input-11-165ad47e13ca>\u001b[0m in \u001b[0;36m<cell line: 1>\u001b[0;34m()\u001b[0m\n\u001b[0;32m----> 1\u001b[0;31m \u001b[0mnum1\u001b[0m \u001b[0;34m/\u001b[0m \u001b[0;36m0\u001b[0m\u001b[0;34m\u001b[0m\u001b[0;34m\u001b[0m\u001b[0m\n\u001b[0m",
            "\u001b[0;31mZeroDivisionError\u001b[0m: division by zero"
          ]
        }
      ]
    },
    {
      "cell_type": "code",
      "source": [
        "try:\n",
        "  num1 = 10\n",
        "  print( num1 / int(input(\"숫자입력 : \")) )\n",
        "  list = [1,2]\n",
        "  print(list[ int(input('인덱스 번호 : '))  ])\n",
        "except ZeroDivisionError:\n",
        "  print(\"0으로 나누면 안됩니다.\")\n",
        "except ValueError:\n",
        "  print(\"입력값이 잘못되었습니다.\")\n",
        "except IndexError :\n",
        "  print('인덱스를 확인하세요 사용가능한 인덱스 범위는 0 ~',len(list)-1)  \n",
        "\n",
        "print(\"try구문 종료 및 다른명령어 수행\")"
      ],
      "metadata": {
        "colab": {
          "base_uri": "https://localhost:8080/"
        },
        "id": "OgYJlmPR-dR5",
        "outputId": "4e624290-f53c-4f8e-cc54-b087046c986b"
      },
      "execution_count": null,
      "outputs": [
        {
          "output_type": "stream",
          "name": "stdout",
          "text": [
            "숫자입력 : 1\n",
            "10.0\n",
            "인덱스 번호 : 5\n",
            "인덱스를 확인하세요 사용가능한 인덱스 범위는 0 ~ 1\n",
            "try구문 종료 및 다른명령어 수행\n"
          ]
        }
      ]
    },
    {
      "cell_type": "code",
      "source": [
        "try:\n",
        "  num1 = 10\n",
        "  print( num1 / int(input(\"숫자입력 : \")) )\n",
        "  list = [1,2]\n",
        "  print(list[ int(input('인덱스 번호 : '))  ])\n",
        "except ZeroDivisionError:\n",
        "  print(\"0으로 나누면 안됩니다.\")\n",
        "except ValueError:\n",
        "  print(\"입력값이 잘못되었습니다.\")  \n",
        "else:\n",
        "  pass\n",
        "\n",
        "print(\"try구문 종료 및 다른명령어 수행\")"
      ],
      "metadata": {
        "colab": {
          "base_uri": "https://localhost:8080/",
          "height": 297
        },
        "id": "SUSfNY2I-mMa",
        "outputId": "4581da8e-584f-47ba-b3d5-560c300229c0"
      },
      "execution_count": null,
      "outputs": [
        {
          "name": "stdout",
          "output_type": "stream",
          "text": [
            "숫자입력 : 1\n",
            "10.0\n",
            "인덱스 번호 : 5\n"
          ]
        },
        {
          "output_type": "error",
          "ename": "IndexError",
          "evalue": "ignored",
          "traceback": [
            "\u001b[0;31m---------------------------------------------------------------------------\u001b[0m",
            "\u001b[0;31mIndexError\u001b[0m                                Traceback (most recent call last)",
            "\u001b[0;32m<ipython-input-19-7cd135c3b6bf>\u001b[0m in \u001b[0;36m<cell line: 1>\u001b[0;34m()\u001b[0m\n\u001b[1;32m      3\u001b[0m   \u001b[0mprint\u001b[0m\u001b[0;34m(\u001b[0m \u001b[0mnum1\u001b[0m \u001b[0;34m/\u001b[0m \u001b[0mint\u001b[0m\u001b[0;34m(\u001b[0m\u001b[0minput\u001b[0m\u001b[0;34m(\u001b[0m\u001b[0;34m\"숫자입력 : \"\u001b[0m\u001b[0;34m)\u001b[0m\u001b[0;34m)\u001b[0m \u001b[0;34m)\u001b[0m\u001b[0;34m\u001b[0m\u001b[0;34m\u001b[0m\u001b[0m\n\u001b[1;32m      4\u001b[0m   \u001b[0mlist\u001b[0m \u001b[0;34m=\u001b[0m \u001b[0;34m[\u001b[0m\u001b[0;36m1\u001b[0m\u001b[0;34m,\u001b[0m\u001b[0;36m2\u001b[0m\u001b[0;34m]\u001b[0m\u001b[0;34m\u001b[0m\u001b[0;34m\u001b[0m\u001b[0m\n\u001b[0;32m----> 5\u001b[0;31m   \u001b[0mprint\u001b[0m\u001b[0;34m(\u001b[0m\u001b[0mlist\u001b[0m\u001b[0;34m[\u001b[0m \u001b[0mint\u001b[0m\u001b[0;34m(\u001b[0m\u001b[0minput\u001b[0m\u001b[0;34m(\u001b[0m\u001b[0;34m'인덱스 번호 : '\u001b[0m\u001b[0;34m)\u001b[0m\u001b[0;34m)\u001b[0m  \u001b[0;34m]\u001b[0m\u001b[0;34m)\u001b[0m\u001b[0;34m\u001b[0m\u001b[0;34m\u001b[0m\u001b[0m\n\u001b[0m\u001b[1;32m      6\u001b[0m \u001b[0;32mexcept\u001b[0m \u001b[0mZeroDivisionError\u001b[0m\u001b[0;34m:\u001b[0m\u001b[0;34m\u001b[0m\u001b[0;34m\u001b[0m\u001b[0m\n\u001b[1;32m      7\u001b[0m   \u001b[0mprint\u001b[0m\u001b[0;34m(\u001b[0m\u001b[0;34m\"0으로 나누면 안됩니다.\"\u001b[0m\u001b[0;34m)\u001b[0m\u001b[0;34m\u001b[0m\u001b[0;34m\u001b[0m\u001b[0m\n",
            "\u001b[0;31mIndexError\u001b[0m: list index out of range"
          ]
        }
      ]
    },
    {
      "cell_type": "code",
      "source": [
        "try:\n",
        "  num1 = 10\n",
        "  print( num1 / int(input(\"숫자입력 : \")) )\n",
        "  list = [1,2]\n",
        "  print(list[ int(input('인덱스 번호 : '))  ])\n",
        "except ZeroDivisionError:\n",
        "  print(\"0으로 나누면 안됩니다.\")\n",
        "except Exception as e:\n",
        "  print(\"0으로 나누는 예외가 아닌 또다른 알수 없는 예외가 발생했습니다.\",e)  \n",
        "\n",
        "\n",
        "print(\"try구문 종료 및 다른명령어 수행\")"
      ],
      "metadata": {
        "colab": {
          "base_uri": "https://localhost:8080/"
        },
        "id": "k6R6Ro6N_j5K",
        "outputId": "c998c517-ba85-4a4e-d283-4d7e22a25114"
      },
      "execution_count": null,
      "outputs": [
        {
          "output_type": "stream",
          "name": "stdout",
          "text": [
            "숫자입력 : 1\n",
            "10.0\n",
            "인덱스 번호 : 5\n",
            "0으로 나누는 예외가 아닌 또다른 알수 없는 예외가 발생했습니다. list index out of range\n",
            "try구문 종료 및 다른명령어 수행\n"
          ]
        }
      ]
    },
    {
      "cell_type": "code",
      "source": [
        "try:\n",
        "  # 자원을 할당받는다......\n",
        "  num1 = 10\n",
        "  print( num1 / int(input(\"숫자입력 : \")) )  \n",
        "  list = [1,2]\n",
        "  print(list[ int(input('인덱스 번호 : '))  ])\n",
        "  # 로직이 정상적으로 끝나면 자원을 해제한다...\n",
        "except Exception as e:\n",
        "  print(\"알수 없는 예외가 발생했습니다. error:\",e)  \n",
        "finally:\n",
        "  print(\"정상실행이든 예외가발생했든  try 구문을 종료하기전에 반드시 must 실행되는 블럭\")  \n",
        "\n",
        "print(\"try 구문과 상관없이 실행되는 외부 명령어..............\")  "
      ],
      "metadata": {
        "id": "gTeRALAAAJjJ"
      },
      "execution_count": null,
      "outputs": []
    },
    {
      "cell_type": "code",
      "source": [
        "# raise Exception('내가만든 오류')\n",
        "raise ValueError('이런값을 보지못했어....')"
      ],
      "metadata": {
        "colab": {
          "base_uri": "https://localhost:8080/",
          "height": 189
        },
        "id": "3IdMLv_IBquy",
        "outputId": "e73b3b33-ce47-491e-9bcf-7d40889c1867"
      },
      "execution_count": null,
      "outputs": [
        {
          "output_type": "error",
          "ename": "ValueError",
          "evalue": "ignored",
          "traceback": [
            "\u001b[0;31m---------------------------------------------------------------------------\u001b[0m",
            "\u001b[0;31mValueError\u001b[0m                                Traceback (most recent call last)",
            "\u001b[0;32m<ipython-input-28-e917d7cbe494>\u001b[0m in \u001b[0;36m<cell line: 2>\u001b[0;34m()\u001b[0m\n\u001b[1;32m      1\u001b[0m \u001b[0;31m# raise Exception('내가만든 오류')\u001b[0m\u001b[0;34m\u001b[0m\u001b[0;34m\u001b[0m\u001b[0m\n\u001b[0;32m----> 2\u001b[0;31m \u001b[0;32mraise\u001b[0m \u001b[0mValueError\u001b[0m\u001b[0;34m(\u001b[0m\u001b[0;34m'이런값을 보지못했어....'\u001b[0m\u001b[0;34m)\u001b[0m\u001b[0;34m\u001b[0m\u001b[0;34m\u001b[0m\u001b[0m\n\u001b[0m",
            "\u001b[0;31mValueError\u001b[0m: 이런값을 보지못했어...."
          ]
        }
      ]
    },
    {
      "cell_type": "code",
      "source": [
        "class GoodError(Exception):\n",
        "  def __init__(self, msg):\n",
        "    self.msg = msg\n",
        "  def __str__(self):\n",
        "    return self.msg"
      ],
      "metadata": {
        "id": "S33QzQF3FA-2"
      },
      "execution_count": null,
      "outputs": []
    },
    {
      "cell_type": "code",
      "source": [
        "while True:\n",
        "  try:\n",
        "    value = input(\"당신은 좋은 사람 입니까?(y/Y) : \")\n",
        "    if value.upper() != 'Y':\n",
        "       raise GoodError('오류 발생')   \n",
        "    break \n",
        "  except GoodError as e: \n",
        "    print(e)"
      ],
      "metadata": {
        "colab": {
          "base_uri": "https://localhost:8080/"
        },
        "id": "RGwbUcXbCEYQ",
        "outputId": "6644489d-187b-45a9-cae3-bd1747ecf594"
      },
      "execution_count": null,
      "outputs": [
        {
          "name": "stdout",
          "output_type": "stream",
          "text": [
            "당신은 좋은 사람 입니까?(y/Y) : n\n",
            "오류 발생\n",
            "당신은 좋은 사람 입니까?(y/Y) : y\n"
          ]
        }
      ]
    },
    {
      "cell_type": "code",
      "source": [
        "# assert 구문 : 특정 조건을 검사해서 만족하지 못하면 예외 발생\n",
        "assert isinstance(10 ,str )"
      ],
      "metadata": {
        "colab": {
          "base_uri": "https://localhost:8080/",
          "height": 189
        },
        "id": "SBW8Q9llChQq",
        "outputId": "11ba5c74-12bf-4847-e4b0-65e743107a49"
      },
      "execution_count": null,
      "outputs": [
        {
          "output_type": "error",
          "ename": "AssertionError",
          "evalue": "ignored",
          "traceback": [
            "\u001b[0;31m---------------------------------------------------------------------------\u001b[0m",
            "\u001b[0;31mAssertionError\u001b[0m                            Traceback (most recent call last)",
            "\u001b[0;32m<ipython-input-11-34fd1a0ebd89>\u001b[0m in \u001b[0;36m<cell line: 2>\u001b[0;34m()\u001b[0m\n\u001b[1;32m      1\u001b[0m \u001b[0;31m# assert 구문 : 특정 조건을 검사해서 만족하지 못하면 예외 발생\u001b[0m\u001b[0;34m\u001b[0m\u001b[0;34m\u001b[0m\u001b[0m\n\u001b[0;32m----> 2\u001b[0;31m \u001b[0;32massert\u001b[0m \u001b[0misinstance\u001b[0m\u001b[0;34m(\u001b[0m\u001b[0;36m10\u001b[0m \u001b[0;34m,\u001b[0m\u001b[0mstr\u001b[0m \u001b[0;34m)\u001b[0m\u001b[0;34m\u001b[0m\u001b[0;34m\u001b[0m\u001b[0m\n\u001b[0m",
            "\u001b[0;31mAssertionError\u001b[0m: "
          ]
        }
      ]
    },
    {
      "cell_type": "code",
      "source": [
        "num = 10\n",
        "assert num > 0, '0보다 커야 합니다.'\n",
        "print('aaa')"
      ],
      "metadata": {
        "colab": {
          "base_uri": "https://localhost:8080/"
        },
        "id": "DONnQBQ7IvIT",
        "outputId": "7bd8bc27-4bc8-4f3f-8dfa-f6e5335367b7"
      },
      "execution_count": 17,
      "outputs": [
        {
          "output_type": "stream",
          "name": "stdout",
          "text": [
            "aaa\n"
          ]
        }
      ]
    },
    {
      "cell_type": "code",
      "source": [],
      "metadata": {
        "id": "gVrgpLxdIywD"
      },
      "execution_count": null,
      "outputs": []
    }
  ]
}