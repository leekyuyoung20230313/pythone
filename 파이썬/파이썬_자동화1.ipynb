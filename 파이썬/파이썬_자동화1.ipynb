{
  "nbformat": 4,
  "nbformat_minor": 0,
  "metadata": {
    "colab": {
      "provenance": []
    },
    "kernelspec": {
      "name": "python3",
      "display_name": "Python 3"
    },
    "language_info": {
      "name": "python"
    }
  },
  "cells": [
    {
      "cell_type": "code",
      "source": [
        "import openpyxl"
      ],
      "metadata": {
        "id": "iWMhOuo6IMKp"
      },
      "execution_count": 3,
      "outputs": []
    },
    {
      "cell_type": "code",
      "source": [
        "from openpyxl import Workbook\n",
        "wb = Workbook()\n",
        "\n",
        "# grab the active worksheet\n",
        "ws = wb.active\n",
        "\n",
        "# Data can be assigned directly to cells\n",
        "ws['A1'] = 42\n",
        "\n",
        "# Rows can also be appended\n",
        "ws.append([1, 2, 3])\n",
        "ws.append([10, 20, 30])\n",
        "\n",
        "# Python types will automatically be converted\n",
        "import datetime\n",
        "ws['A2'] = datetime.datetime.now()\n",
        "\n",
        "# Save the file\n",
        "wb.save(\"sample.xlsx\")"
      ],
      "metadata": {
        "id": "nu7BQHFMIOPZ"
      },
      "execution_count": 5,
      "outputs": []
    },
    {
      "cell_type": "code",
      "source": [
        "from openpyxl import load_workbook\n",
        "# 엑셀 파일 로드\n",
        "workbook = load_workbook(filename='/content/sample.xlsx')\n",
        "\n",
        "# 워크시트 선택\n",
        "worksheet = workbook.active\n",
        "\n",
        "# 셀 값 출력\n",
        "print(worksheet['A1'].value)"
      ],
      "metadata": {
        "colab": {
          "base_uri": "https://localhost:8080/"
        },
        "id": "ycpQHzfhImoy",
        "outputId": "cd669f75-25a8-4b6d-9815-8e4a9ee45dc4"
      },
      "execution_count": 10,
      "outputs": [
        {
          "output_type": "stream",
          "name": "stdout",
          "text": [
            "42\n"
          ]
        }
      ]
    },
    {
      "cell_type": "code",
      "source": [
        "from openpyxl import load_workbook\n",
        "# 엑셀 파일 로드\n",
        "workbook = load_workbook(filename='/content/sample2.xlsx')\n",
        "\n",
        "# 워크시트 선택\n",
        "worksheet = workbook.active\n",
        "\n",
        "# 셀 값 출력\n",
        "number = 3\n",
        "while True:\n",
        "  if worksheet['A'+str(number)].value:\n",
        "    print(worksheet['A'+str(number)].value,\n",
        "          worksheet['B'+str(number)].value,\n",
        "          worksheet['C'+str(number)].value)    \n",
        "  else:\n",
        "    break\n",
        "  number += 1\n"
      ],
      "metadata": {
        "id": "sQcXRXOeL7Yh"
      },
      "execution_count": null,
      "outputs": []
    },
    {
      "cell_type": "code",
      "source": [
        "import glob"
      ],
      "metadata": {
        "id": "abi9QoOjNPCo"
      },
      "execution_count": 17,
      "outputs": []
    },
    {
      "cell_type": "code",
      "source": [
        "file_list = glob.glob('/content/apply/*.xlsx')"
      ],
      "metadata": {
        "id": "Bay5Vgi7Z9J3"
      },
      "execution_count": 22,
      "outputs": []
    },
    {
      "cell_type": "code",
      "source": [
        "file_list"
      ],
      "metadata": {
        "colab": {
          "base_uri": "https://localhost:8080/"
        },
        "id": "OpGt9yrraFwf",
        "outputId": "a17ede00-4497-4253-b4d8-04eff46e4346"
      },
      "execution_count": 23,
      "outputs": [
        {
          "output_type": "execute_result",
          "data": {
            "text/plain": [
              "['/content/apply/sample.xlsx',\n",
              " '/content/apply/sample3.xlsx',\n",
              " '/content/apply/sample2.xlsx']"
            ]
          },
          "metadata": {},
          "execution_count": 23
        }
      ]
    },
    {
      "cell_type": "code",
      "source": [
        "# 1. 파일명을 입력받아서 주어진 format형태로 데이터를 읽는 함수를 만든다\n",
        "# glob을 이용해서 디렉터리에 있는 파일명을 수집한다.\n",
        "# 파일명리스트를 순환하면서 1번에서 만든 함수를 이용해서 데이터를 리스트로 저장한다.\n",
        "# 저장할 파일명을 받아서 데이터  리스트에 잇는 데이터를 해당 파일에 저장한다."
      ],
      "metadata": {
        "id": "KR-HBc18a3jm"
      },
      "execution_count": 24,
      "outputs": []
    },
    {
      "cell_type": "code",
      "source": [
        "from openpyxl import load_workbook\n",
        "def readExcel(filename):\n",
        "  # 엑셀 파일 로드\n",
        "  workbook = load_workbook(filename=filename)\n",
        "\n",
        "  # 워크시트 선택\n",
        "  worksheet = workbook.active\n",
        "\n",
        "  # 셀 값 출력\n",
        "  number = 3\n",
        "  result = []\n",
        "  while True:\n",
        "    if worksheet['A'+str(number)].value:\n",
        "      result.append([\n",
        "          worksheet['A'+str(number)].value,\n",
        "          worksheet['B'+str(number)].value,\n",
        "          worksheet['C'+str(number)].value\n",
        "      ])      \n",
        "    else:\n",
        "      break\n",
        "    number += 1\n",
        "  return result"
      ],
      "metadata": {
        "id": "QJsdISic4zPH"
      },
      "execution_count": 27,
      "outputs": []
    },
    {
      "cell_type": "code",
      "source": [
        "readExcel('/content/apply/sample2.xlsx')"
      ],
      "metadata": {
        "colab": {
          "base_uri": "https://localhost:8080/"
        },
        "id": "UhODfBLw6E85",
        "outputId": "1e1819bb-62a9-49a8-cda4-67b4f9024854"
      },
      "execution_count": 33,
      "outputs": [
        {
          "output_type": "execute_result",
          "data": {
            "text/plain": [
              "[['홍길동', '111@111.com', '010-1111-1111'],\n",
              " ['기영이', '222@222.com', '010-2222-2222'],\n",
              " ['구렁이', '333@333.com', '010-3333-3333']]"
            ]
          },
          "metadata": {},
          "execution_count": 33
        }
      ]
    },
    {
      "cell_type": "code",
      "source": [
        "fileList = glob.glob('/content/apply/*.xlsx')\n",
        "fileList"
      ],
      "metadata": {
        "colab": {
          "base_uri": "https://localhost:8080/"
        },
        "id": "b-MqCy9c5SKX",
        "outputId": "87012d52-f34f-4653-d664-12a3c592870e"
      },
      "execution_count": 31,
      "outputs": [
        {
          "output_type": "execute_result",
          "data": {
            "text/plain": [
              "['/content/apply/sample3.xlsx', '/content/apply/sample2.xlsx']"
            ]
          },
          "metadata": {},
          "execution_count": 31
        }
      ]
    },
    {
      "cell_type": "code",
      "source": [
        "totalList = []\n",
        "for filepath in fileList:\n",
        "  totalList += readExcel(filepath)"
      ],
      "metadata": {
        "id": "M424BtGr5W_u"
      },
      "execution_count": 34,
      "outputs": []
    },
    {
      "cell_type": "code",
      "source": [
        "totalList"
      ],
      "metadata": {
        "colab": {
          "base_uri": "https://localhost:8080/"
        },
        "id": "1T-lyDj56Twe",
        "outputId": "0aeaa7dc-580a-42f7-c572-2c26ffed15e9"
      },
      "execution_count": 35,
      "outputs": [
        {
          "output_type": "execute_result",
          "data": {
            "text/plain": [
              "[['홍길동', '111@111.com', '010-1111-1111'],\n",
              " ['기영이', '222@222.com', '010-2222-2222'],\n",
              " ['구렁이', '333@333.com', '010-3333-3333'],\n",
              " ['구렁이2', '333@333.com', '010-3333-3333'],\n",
              " ['구렁이3', '333@333.com', '010-3333-3333'],\n",
              " ['구렁이4', '333@333.com', '010-3333-3333'],\n",
              " ['홍길동', '111@111.com', '010-1111-1111'],\n",
              " ['기영이', '222@222.com', '010-2222-2222'],\n",
              " ['구렁이', '333@333.com', '010-3333-3333']]"
            ]
          },
          "metadata": {},
          "execution_count": 35
        }
      ]
    },
    {
      "cell_type": "code",
      "source": [
        "# save\n",
        "from openpyxl import Workbook\n",
        "workbook = load_workbook(filename='/content/result/result.xlsx')\n",
        "ws = workbook.active\n",
        "\n",
        "for data in totalList:\n",
        "  ws.append(data)\n",
        "\n",
        "workbook.save(\"/content/result/result2.xlsx\")"
      ],
      "metadata": {
        "id": "cHtZUv336Une"
      },
      "execution_count": 42,
      "outputs": []
    },
    {
      "cell_type": "code",
      "source": [],
      "metadata": {
        "id": "GDCEHa4B7TL7"
      },
      "execution_count": null,
      "outputs": []
    }
  ]
}