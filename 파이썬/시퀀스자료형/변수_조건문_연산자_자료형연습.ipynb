{
  "nbformat": 4,
  "nbformat_minor": 0,
  "metadata": {
    "colab": {
      "provenance": []
    },
    "kernelspec": {
      "name": "python3",
      "display_name": "Python 3"
    },
    "language_info": {
      "name": "python"
    }
  },
  "cells": [
    {
      "cell_type": "code",
      "execution_count": 5,
      "metadata": {
        "colab": {
          "base_uri": "https://localhost:8080/"
        },
        "id": "wXzMai20JF-y",
        "outputId": "bf595b7d-1f52-4081-cb27-bcb5dfa70f44"
      },
      "outputs": [
        {
          "output_type": "stream",
          "name": "stdout",
          "text": [
            "love 단어 존재\n"
          ]
        }
      ],
      "source": [
        "# 1 . input(\"단어를 입력하세요\")\n",
        "# 2. 번역시도\n",
        "# 3 없으면 내가 만들어 준다.\n",
        "dic_1 = {'love':'사랑'}\n",
        "if 'love' in dic_1.keys():\n",
        "  print('love 단어 존재')\n",
        "else:\n",
        "  print('love 단어 없음')\n"
      ]
    },
    {
      "cell_type": "code",
      "source": [
        "import random\n",
        "list_1 = []\n",
        "list_1.append(random.randrange(1,10));list_1.append(random.randrange(1,10))\n",
        "list_1.append(random.randrange(1,10));list_1.append(random.randrange(1,10))\n",
        "list_1.append(random.randrange(1,10));list_1.append(random.randrange(1,10))\n",
        "list_1.append(random.randrange(1,10));list_1.append(random.randrange(1,10))\n",
        "list_1.append(random.randrange(1,10));list_1.append(random.randrange(1,10))\n",
        "list_1\n",
        "# 이중에서 짝수만 골라서 새로운 리스트로 만들고 출력\n",
        "# set함수의 차 집합또는 교집합을 이용해 볼것"
      ],
      "metadata": {
        "colab": {
          "base_uri": "https://localhost:8080/"
        },
        "id": "h7s0sQJlJZ5R",
        "outputId": "51d3d2bc-a24c-4550-f665-380aa3a9395e"
      },
      "execution_count": 11,
      "outputs": [
        {
          "output_type": "execute_result",
          "data": {
            "text/plain": [
              "[8, 2, 3, 5, 1, 8, 6, 6, 4, 1]"
            ]
          },
          "metadata": {},
          "execution_count": 11
        }
      ]
    },
    {
      "cell_type": "code",
      "source": [],
      "metadata": {
        "id": "r5_yMH1rKlCz"
      },
      "execution_count": null,
      "outputs": []
    }
  ]
}