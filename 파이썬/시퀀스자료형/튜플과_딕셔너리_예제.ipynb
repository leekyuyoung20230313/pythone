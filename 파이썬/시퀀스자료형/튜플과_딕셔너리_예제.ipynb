{
  "nbformat": 4,
  "nbformat_minor": 0,
  "metadata": {
    "colab": {
      "provenance": []
    },
    "kernelspec": {
      "name": "python3",
      "display_name": "Python 3"
    },
    "language_info": {
      "name": "python"
    }
  },
  "cells": [
    {
      "cell_type": "code",
      "execution_count": 13,
      "metadata": {
        "colab": {
          "base_uri": "https://localhost:8080/"
        },
        "id": "v1u_mKep2QaU",
        "outputId": "91cf83f3-3a46-414a-eddf-c58deb3e6e05"
      },
      "outputs": [
        {
          "output_type": "execute_result",
          "data": {
            "text/plain": [
              "(10, 20, 30)"
            ]
          },
          "metadata": {},
          "execution_count": 13
        }
      ],
      "source": [
        "a,b,c = 10,20,30\n",
        "temp3 = 10,20,30\n",
        "temp3"
      ]
    },
    {
      "cell_type": "code",
      "source": [
        "a,b,c = [100,200,300]\n",
        "temp1 = [100,200,300]\n",
        "temp1"
      ],
      "metadata": {
        "colab": {
          "base_uri": "https://localhost:8080/"
        },
        "id": "hxQcIWdX2mpZ",
        "outputId": "4708546d-c831-4e0b-821a-6f9ee5f357b3"
      },
      "execution_count": 14,
      "outputs": [
        {
          "output_type": "execute_result",
          "data": {
            "text/plain": [
              "[100, 200, 300]"
            ]
          },
          "metadata": {},
          "execution_count": 14
        }
      ]
    },
    {
      "cell_type": "code",
      "source": [
        "a,b,c = (110,220,330)\n",
        "temp2 = (110,220,330)\n",
        "temp2"
      ],
      "metadata": {
        "colab": {
          "base_uri": "https://localhost:8080/"
        },
        "id": "zdwAySpX2uqn",
        "outputId": "7b0631d3-80ed-4040-eedf-fd7b969d2288"
      },
      "execution_count": 15,
      "outputs": [
        {
          "output_type": "execute_result",
          "data": {
            "text/plain": [
              "(110, 220, 330)"
            ]
          },
          "metadata": {},
          "execution_count": 15
        }
      ]
    },
    {
      "cell_type": "code",
      "source": [
        "a,b,c = {\"a\":1,\"b\":2,\"c\":3}  # 거의 사용안함 문법에러는 아니지만 의미없음\n",
        "temp4 = {\"a\":1,\"b\":2,\"c\":3}"
      ],
      "metadata": {
        "id": "22wWusWv2wQh"
      },
      "execution_count": 21,
      "outputs": []
    },
    {
      "cell_type": "code",
      "source": [
        "list_1 = [1,2,3]\n",
        "list_1"
      ],
      "metadata": {
        "colab": {
          "base_uri": "https://localhost:8080/"
        },
        "id": "QYpACnsj3Zhv",
        "outputId": "cdbad0c3-9c83-4a65-9889-e5386c25a349"
      },
      "execution_count": 22,
      "outputs": [
        {
          "output_type": "execute_result",
          "data": {
            "text/plain": [
              "[1, 2, 3]"
            ]
          },
          "metadata": {},
          "execution_count": 22
        }
      ]
    },
    {
      "cell_type": "code",
      "source": [
        "tuple_1 = tuple(list_1)\n",
        "tuple_1"
      ],
      "metadata": {
        "colab": {
          "base_uri": "https://localhost:8080/"
        },
        "id": "ugHkLdTf3aan",
        "outputId": "de9e5bfe-0409-4e98-b2b0-0282f3391f33"
      },
      "execution_count": 23,
      "outputs": [
        {
          "output_type": "execute_result",
          "data": {
            "text/plain": [
              "(1, 2, 3)"
            ]
          },
          "metadata": {},
          "execution_count": 23
        }
      ]
    },
    {
      "cell_type": "code",
      "source": [
        "list(tuple_1)"
      ],
      "metadata": {
        "colab": {
          "base_uri": "https://localhost:8080/"
        },
        "id": "a-xDLj6s3yF_",
        "outputId": "84414698-9af5-4d80-ce1c-b55faf231b85"
      },
      "execution_count": 24,
      "outputs": [
        {
          "output_type": "execute_result",
          "data": {
            "text/plain": [
              "[1, 2, 3]"
            ]
          },
          "metadata": {},
          "execution_count": 24
        }
      ]
    },
    {
      "cell_type": "code",
      "source": [
        "dict_1 = {'a':1, 'b':2}\n",
        "dict_1"
      ],
      "metadata": {
        "colab": {
          "base_uri": "https://localhost:8080/"
        },
        "id": "qMoIGw9o30Sv",
        "outputId": "dbaaecd9-6634-4663-a615-d08dfa017bcc"
      },
      "execution_count": 25,
      "outputs": [
        {
          "output_type": "execute_result",
          "data": {
            "text/plain": [
              "{'a': 1, 'b': 2}"
            ]
          },
          "metadata": {},
          "execution_count": 25
        }
      ]
    },
    {
      "cell_type": "code",
      "source": [
        "list(dict_1)"
      ],
      "metadata": {
        "colab": {
          "base_uri": "https://localhost:8080/"
        },
        "id": "rjS5xKMo4AQ3",
        "outputId": "78a0c18b-e78c-4e09-a936-15608f514dc9"
      },
      "execution_count": 26,
      "outputs": [
        {
          "output_type": "execute_result",
          "data": {
            "text/plain": [
              "['a', 'b']"
            ]
          },
          "metadata": {},
          "execution_count": 26
        }
      ]
    },
    {
      "cell_type": "code",
      "source": [
        "#  딕셔너리에 key값만을 가져오기위해서 keys()사용 안하고 \n",
        "# list(딕셔너리변수) 하면 바로 사용가능"
      ],
      "metadata": {
        "id": "mfa0-RI84B23"
      },
      "execution_count": 29,
      "outputs": []
    },
    {
      "cell_type": "code",
      "source": [
        "key_ = list(dict_1)\n",
        "dict_1[key_[0]]"
      ],
      "metadata": {
        "colab": {
          "base_uri": "https://localhost:8080/"
        },
        "id": "4niBueMr4H0f",
        "outputId": "a90c5535-c1d6-4439-e12c-92c43ebd41a0"
      },
      "execution_count": 37,
      "outputs": [
        {
          "output_type": "execute_result",
          "data": {
            "text/plain": [
              "1"
            ]
          },
          "metadata": {},
          "execution_count": 37
        }
      ]
    },
    {
      "cell_type": "code",
      "source": [
        "# zip\n",
        "a = ['홍길동','이순신']\n",
        "b = [100,200]\n",
        "list(zip(a,b))  # 많이 사용하는 기법"
      ],
      "metadata": {
        "colab": {
          "base_uri": "https://localhost:8080/"
        },
        "id": "hU_i-JNo4mjO",
        "outputId": "55670dd1-f062-45bb-fbdc-bf0afb99dc54"
      },
      "execution_count": 39,
      "outputs": [
        {
          "output_type": "execute_result",
          "data": {
            "text/plain": [
              "[('홍길동', 100), ('이순신', 200)]"
            ]
          },
          "metadata": {},
          "execution_count": 39
        }
      ]
    },
    {
      "cell_type": "code",
      "source": [],
      "metadata": {
        "id": "Me2CL_9J5OHm"
      },
      "execution_count": null,
      "outputs": []
    }
  ]
}