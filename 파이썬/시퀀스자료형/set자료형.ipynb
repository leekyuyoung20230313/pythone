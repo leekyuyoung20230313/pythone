{
  "nbformat": 4,
  "nbformat_minor": 0,
  "metadata": {
    "colab": {
      "provenance": []
    },
    "kernelspec": {
      "name": "python3",
      "display_name": "Python 3"
    },
    "language_info": {
      "name": "python"
    }
  },
  "cells": [
    {
      "cell_type": "code",
      "execution_count": 7,
      "metadata": {
        "id": "kFSWoTa0FXbF"
      },
      "outputs": [],
      "source": [
        "s1 = set([1,2,3,1,2,3,1,2,3])"
      ]
    },
    {
      "cell_type": "code",
      "source": [
        "s1"
      ],
      "metadata": {
        "colab": {
          "base_uri": "https://localhost:8080/"
        },
        "id": "V5tjxwSwFn9B",
        "outputId": "7dfdc9b9-b04d-45c6-e4f8-06236fde158e"
      },
      "execution_count": 8,
      "outputs": [
        {
          "output_type": "execute_result",
          "data": {
            "text/plain": [
              "{1, 2, 3}"
            ]
          },
          "metadata": {},
          "execution_count": 8
        }
      ]
    },
    {
      "cell_type": "code",
      "source": [
        "# 중복을 허용하지 않는다\n",
        "list_1 = [10,2,5,1,2,5,1,2,5,1,1,2,2,2]\n",
        "list_1 = set(list_1)\n",
        "list_1 = list(list_1)"
      ],
      "metadata": {
        "id": "PL6yeRt4Fuy0"
      },
      "execution_count": 12,
      "outputs": []
    },
    {
      "cell_type": "code",
      "source": [
        "list_1"
      ],
      "metadata": {
        "colab": {
          "base_uri": "https://localhost:8080/"
        },
        "id": "go-_Axl4GKDN",
        "outputId": "5a3246a0-59c1-405e-f39a-da85289c0d8d"
      },
      "execution_count": 15,
      "outputs": [
        {
          "output_type": "execute_result",
          "data": {
            "text/plain": [
              "[1, 10, 2, 5]"
            ]
          },
          "metadata": {},
          "execution_count": 15
        }
      ]
    },
    {
      "cell_type": "code",
      "source": [
        "list_1 = [1,2,3,4,5]\n",
        "list_2 = [3,4,5,6,7]"
      ],
      "metadata": {
        "id": "ZnKl0cHhGK7k"
      },
      "execution_count": 16,
      "outputs": []
    },
    {
      "cell_type": "code",
      "source": [
        "set_1 = set(list_1)\n",
        "set_2 = set(list_2)"
      ],
      "metadata": {
        "id": "R2c3F1HIGpkE"
      },
      "execution_count": 17,
      "outputs": []
    },
    {
      "cell_type": "code",
      "source": [
        "# 교집합\n",
        "set_1 & set_2  # 많이 사용 하는 방법\n",
        "set_1.intersection(set_2)"
      ],
      "metadata": {
        "colab": {
          "base_uri": "https://localhost:8080/"
        },
        "id": "7nSPfBPsHSMc",
        "outputId": "2ad05f9d-21d4-44ca-ec19-f46f1d024d57"
      },
      "execution_count": 19,
      "outputs": [
        {
          "output_type": "execute_result",
          "data": {
            "text/plain": [
              "{3, 4, 5}"
            ]
          },
          "metadata": {},
          "execution_count": 19
        }
      ]
    },
    {
      "cell_type": "code",
      "source": [
        "# 합집합  - 중복은 제거한다. \n",
        "set_1 | set_2  # 많이 사용 하는 방법\n",
        "set_1.union(set_2)"
      ],
      "metadata": {
        "colab": {
          "base_uri": "https://localhost:8080/"
        },
        "id": "cEG5aMLrHX2l",
        "outputId": "9a9aeda2-52fa-4c02-cf7d-891f7721658a"
      },
      "execution_count": 21,
      "outputs": [
        {
          "output_type": "execute_result",
          "data": {
            "text/plain": [
              "{1, 2, 3, 4, 5, 6, 7}"
            ]
          },
          "metadata": {},
          "execution_count": 21
        }
      ]
    },
    {
      "cell_type": "code",
      "source": [
        "# 차집합\n",
        "set_1 - set_2 # 많이 사용 하는 방법\n",
        "set_1.difference(set_2)"
      ],
      "metadata": {
        "colab": {
          "base_uri": "https://localhost:8080/"
        },
        "id": "9H2uRZGDHjAL",
        "outputId": "1f1eff34-0249-42ce-a1cf-cabaf8b5bbeb"
      },
      "execution_count": 22,
      "outputs": [
        {
          "output_type": "execute_result",
          "data": {
            "text/plain": [
              "{1, 2}"
            ]
          },
          "metadata": {},
          "execution_count": 22
        }
      ]
    },
    {
      "cell_type": "code",
      "source": [],
      "metadata": {
        "id": "KmiJiy1aISBL"
      },
      "execution_count": null,
      "outputs": []
    }
  ]
}