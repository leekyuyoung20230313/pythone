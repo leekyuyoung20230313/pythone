{
  "nbformat": 4,
  "nbformat_minor": 0,
  "metadata": {
    "colab": {
      "provenance": []
    },
    "kernelspec": {
      "name": "python3",
      "display_name": "Python 3"
    },
    "language_info": {
      "name": "python"
    }
  },
  "cells": [
    {
      "cell_type": "code",
      "execution_count": 1,
      "metadata": {
        "id": "LDKPTHWJ6P5q"
      },
      "outputs": [],
      "source": [
        "# 1. 이름과 점수를 각각 쌍으로 입력받는다\n",
        "# 1. 번에서 받은 데이터를 dictionary로 만든다.\n",
        "# 위의 과정을 3번 반복한다\n",
        "# 그리고 전체 데이터를 출력한다.\n",
        "# key 값만 출력한다\n",
        "# value 값만 출력한다"
      ]
    },
    {
      "cell_type": "code",
      "source": [
        "result = {}\n",
        "name = input(\"이름\")\n",
        "jumsu = int(input(\"점수\"))\n",
        "result[name] = jumsu\n",
        "\n",
        "name = input(\"이름\")\n",
        "jumsu = int(input(\"점수\"))\n",
        "result[name] = jumsu\n",
        "\n",
        "name = input(\"이름\")\n",
        "jumsu = int(input(\"점수\"))\n",
        "result[name] = jumsu\n",
        "#############################################################\n",
        "name, jumsu = input(\"공백기준으로 이름과 점수\").split()\n",
        "result[name] = jumsu\n",
        "name, jumsu = input(\"공백기준으로 이름과 점수\").split()\n",
        "result[name] = jumsu\n",
        "name, jumsu = input(\"공백기준으로 이름과 점수\").split()\n",
        "result[name] = jumsu\n",
        "#############################################################\n",
        "\n",
        "name = input(\"공백기준으로 3명의 이름\").split()\n",
        "jumsu = map(int, input(\"공백기준으로 3명의 점수\").split() )\n",
        "result = {name[0]:jumsu[0], name[1]:jumsu[1], name[2]:jumsu[2]}\n",
        "#############################################################\n",
        "\n",
        "result  # 전체 출력\n",
        "\n",
        "list(result.keys())  #key만 출력\n",
        "list(result)          #key만 출력\n",
        "\n",
        "list(result.values) #value만 출력"
      ],
      "metadata": {
        "id": "c63CCz0Z6jIa"
      },
      "execution_count": null,
      "outputs": []
    },
    {
      "cell_type": "code",
      "source": [
        "# 리스트    [  ]\n",
        "# 튜플 # 변경불가 -- 계산결과를 반한하는 함수를 만들때 사용  (  )\n",
        "# 딕셔너리   { }"
      ],
      "metadata": {
        "id": "1y925IPPEwSK"
      },
      "execution_count": 1,
      "outputs": []
    },
    {
      "cell_type": "code",
      "source": [],
      "metadata": {
        "id": "ddasQs1JE-8V"
      },
      "execution_count": null,
      "outputs": []
    }
  ]
}