{
  "nbformat": 4,
  "nbformat_minor": 0,
  "metadata": {
    "colab": {
      "provenance": []
    },
    "kernelspec": {
      "name": "python3",
      "display_name": "Python 3"
    },
    "language_info": {
      "name": "python"
    }
  },
  "cells": [
    {
      "cell_type": "code",
      "execution_count": null,
      "metadata": {
        "id": "r07MGpd4sQEK"
      },
      "outputs": [],
      "source": []
    },
    {
      "cell_type": "markdown",
      "source": [
        "딕셔너리\n",
        "  - 사전기능\n",
        "  - key : value가 한쌍의 데이터\n",
        "  - key는 중복될수 없는 값\n",
        "  - value : 중복 가능\n",
        "  - { }"
      ],
      "metadata": {
        "id": "aOKnNW-VsSiB"
      }
    },
    {
      "cell_type": "code",
      "source": [
        "# 3명의 학생의 이름과 점수를 관리하고 싶다.\n",
        "names = ['홍길동','이순신', '김철수']\n",
        "scores = [100,99,98]\n",
        "\n",
        "names[0], scores[0]\n",
        " "
      ],
      "metadata": {
        "colab": {
          "base_uri": "https://localhost:8080/"
        },
        "id": "xRU6FpPWtqcN",
        "outputId": "2989c441-cef5-4750-c357-57bb89a235eb"
      },
      "execution_count": 2,
      "outputs": [
        {
          "output_type": "execute_result",
          "data": {
            "text/plain": [
              "('홍길동', 100)"
            ]
          },
          "metadata": {},
          "execution_count": 2
        }
      ]
    },
    {
      "cell_type": "code",
      "source": [
        "dic_1 = { \"홍길동\":100, '이순신':99, '김철수':98  }"
      ],
      "metadata": {
        "id": "c7NBHqlPt-0l"
      },
      "execution_count": 3,
      "outputs": []
    },
    {
      "cell_type": "code",
      "source": [
        "dic_1"
      ],
      "metadata": {
        "colab": {
          "base_uri": "https://localhost:8080/"
        },
        "id": "27U1qkWEuh6I",
        "outputId": "fcb6f9d9-99c4-4e3f-f2b4-cc9de327b909"
      },
      "execution_count": 4,
      "outputs": [
        {
          "output_type": "execute_result",
          "data": {
            "text/plain": [
              "{'홍길동': 100, '이순신': 99, '김철수': 98}"
            ]
          },
          "metadata": {},
          "execution_count": 4
        }
      ]
    },
    {
      "cell_type": "code",
      "source": [
        "# 연산 + * \n",
        "# 추가,삭제,업데이트\n",
        "# 정렬 sort\n",
        "# 인덱싱  [ ]\n",
        "# 슬라이싱 [ : -1 ]"
      ],
      "metadata": {
        "id": "Lx90QEZ9ujI4"
      },
      "execution_count": 7,
      "outputs": []
    },
    {
      "cell_type": "code",
      "source": [
        "dic_2 = { \"김영희\":100  }"
      ],
      "metadata": {
        "id": "Ex8Jcv_zuuCK"
      },
      "execution_count": 8,
      "outputs": []
    },
    {
      "cell_type": "code",
      "source": [
        "# 데이터 읽기   key : value  인덱스로. 0 1 이런값이 아니라 key값을 주어야 함\n",
        "dic_1['홍길동']"
      ],
      "metadata": {
        "colab": {
          "base_uri": "https://localhost:8080/"
        },
        "id": "EDJV7xJxvFwY",
        "outputId": "16781bd1-697f-41e7-c98c-845aeebec531"
      },
      "execution_count": 14,
      "outputs": [
        {
          "output_type": "execute_result",
          "data": {
            "text/plain": [
              "100"
            ]
          },
          "metadata": {},
          "execution_count": 14
        }
      ]
    },
    {
      "cell_type": "code",
      "source": [
        "# 데이터 수정하기\n",
        "dic_1['홍길동'] = 200"
      ],
      "metadata": {
        "id": "N-bS_uQDvIFv"
      },
      "execution_count": 16,
      "outputs": []
    },
    {
      "cell_type": "code",
      "source": [
        "# Create - {key:value, .....}\n",
        "# Rread -  [key] \n",
        "# Update\n",
        "# Delete\n"
      ],
      "metadata": {
        "colab": {
          "base_uri": "https://localhost:8080/"
        },
        "id": "zCfJeStewHPS",
        "outputId": "98784dc8-1d5b-45d6-957e-4302b5612651"
      },
      "execution_count": 17,
      "outputs": [
        {
          "output_type": "execute_result",
          "data": {
            "text/plain": [
              "{'홍길동': 200, '이순신': 99, '김철수': 98}"
            ]
          },
          "metadata": {},
          "execution_count": 17
        }
      ]
    },
    {
      "cell_type": "code",
      "source": [
        "# 데이터 추가 - 새로운 key:value 생성\n",
        "dic_1['abc'] = 100"
      ],
      "metadata": {
        "id": "SzwCqudiwODA"
      },
      "execution_count": 21,
      "outputs": []
    },
    {
      "cell_type": "code",
      "source": [
        "dic_1[120] = 100"
      ],
      "metadata": {
        "id": "y-LLneoSzi8A"
      },
      "execution_count": 23,
      "outputs": []
    },
    {
      "cell_type": "code",
      "source": [
        "dic_1"
      ],
      "metadata": {
        "colab": {
          "base_uri": "https://localhost:8080/"
        },
        "id": "2LF9k7Oqzse3",
        "outputId": "392cf0a2-c383-498c-f226-1c33febdf618"
      },
      "execution_count": 24,
      "outputs": [
        {
          "output_type": "execute_result",
          "data": {
            "text/plain": [
              "{'홍길동': 200, '이순신': 99, '김철수': 98, 'abc': 100, 120: 100}"
            ]
          },
          "metadata": {},
          "execution_count": 24
        }
      ]
    },
    {
      "cell_type": "code",
      "source": [
        "dic_1.pop('홍길동')"
      ],
      "metadata": {
        "colab": {
          "base_uri": "https://localhost:8080/"
        },
        "id": "a2VppExyz7no",
        "outputId": "39bc53c8-c70f-44e2-9904-700dac30805d"
      },
      "execution_count": 25,
      "outputs": [
        {
          "output_type": "execute_result",
          "data": {
            "text/plain": [
              "200"
            ]
          },
          "metadata": {},
          "execution_count": 25
        }
      ]
    },
    {
      "cell_type": "code",
      "source": [
        "dic_1"
      ],
      "metadata": {
        "colab": {
          "base_uri": "https://localhost:8080/"
        },
        "id": "qKxX1UPN0PXB",
        "outputId": "eb422561-b2b5-4987-cea9-32890aa496a7"
      },
      "execution_count": 26,
      "outputs": [
        {
          "output_type": "execute_result",
          "data": {
            "text/plain": [
              "{'이순신': 99, '김철수': 98, 'abc': 100, 120: 100}"
            ]
          },
          "metadata": {},
          "execution_count": 26
        }
      ]
    },
    {
      "cell_type": "code",
      "source": [
        "dic_1.popitem()"
      ],
      "metadata": {
        "colab": {
          "base_uri": "https://localhost:8080/"
        },
        "id": "UjRHjYGJ0Qgn",
        "outputId": "022c9783-8c0e-4d75-b4e7-74c0c1912b22"
      },
      "execution_count": 27,
      "outputs": [
        {
          "output_type": "execute_result",
          "data": {
            "text/plain": [
              "(120, 100)"
            ]
          },
          "metadata": {},
          "execution_count": 27
        }
      ]
    },
    {
      "cell_type": "code",
      "source": [
        "dic_1"
      ],
      "metadata": {
        "colab": {
          "base_uri": "https://localhost:8080/"
        },
        "id": "GN0woA5H0cuI",
        "outputId": "493f3eab-1cc2-466d-eabd-2781e2eb67fd"
      },
      "execution_count": 28,
      "outputs": [
        {
          "output_type": "execute_result",
          "data": {
            "text/plain": [
              "{'이순신': 99, '김철수': 98, 'abc': 100}"
            ]
          },
          "metadata": {},
          "execution_count": 28
        }
      ]
    },
    {
      "cell_type": "code",
      "source": [
        "dic_1.popitem()"
      ],
      "metadata": {
        "colab": {
          "base_uri": "https://localhost:8080/"
        },
        "id": "xWpxBTDq0fnW",
        "outputId": "23620af2-21f1-4814-bea5-cb4f1c725585"
      },
      "execution_count": 29,
      "outputs": [
        {
          "output_type": "execute_result",
          "data": {
            "text/plain": [
              "('abc', 100)"
            ]
          },
          "metadata": {},
          "execution_count": 29
        }
      ]
    },
    {
      "cell_type": "code",
      "source": [
        "dic_1"
      ],
      "metadata": {
        "colab": {
          "base_uri": "https://localhost:8080/"
        },
        "id": "MIrV4d100hJm",
        "outputId": "2f4b9379-070d-46ac-daa8-9caec9b200e1"
      },
      "execution_count": 30,
      "outputs": [
        {
          "output_type": "execute_result",
          "data": {
            "text/plain": [
              "{'이순신': 99, '김철수': 98}"
            ]
          },
          "metadata": {},
          "execution_count": 30
        }
      ]
    },
    {
      "cell_type": "code",
      "source": [
        "del dic_1['이순신']"
      ],
      "metadata": {
        "id": "Cjkp40Hn0oXX"
      },
      "execution_count": 32,
      "outputs": []
    },
    {
      "cell_type": "code",
      "source": [
        "dic_1"
      ],
      "metadata": {
        "colab": {
          "base_uri": "https://localhost:8080/"
        },
        "id": "4mTKRtFI1EYX",
        "outputId": "552b1724-373a-459c-a040-3770bef9f4f1"
      },
      "execution_count": 33,
      "outputs": [
        {
          "output_type": "execute_result",
          "data": {
            "text/plain": [
              "{'김철수': 98}"
            ]
          },
          "metadata": {},
          "execution_count": 33
        }
      ]
    },
    {
      "cell_type": "code",
      "source": [
        "dic_1 = { \"홍길동\":100, '이순신':99, '김철수':98  }"
      ],
      "metadata": {
        "id": "19QgTQfM1OPv"
      },
      "execution_count": 34,
      "outputs": []
    },
    {
      "cell_type": "code",
      "source": [
        "list(dic_1.keys())"
      ],
      "metadata": {
        "colab": {
          "base_uri": "https://localhost:8080/"
        },
        "id": "Uvhnpvda1Rmm",
        "outputId": "12264021-de64-46a7-a60f-15e4c667e1b5"
      },
      "execution_count": 40,
      "outputs": [
        {
          "output_type": "execute_result",
          "data": {
            "text/plain": [
              "['홍길동', '이순신', '김철수']"
            ]
          },
          "metadata": {},
          "execution_count": 40
        }
      ]
    },
    {
      "cell_type": "code",
      "source": [
        "list(dic_1.values())"
      ],
      "metadata": {
        "colab": {
          "base_uri": "https://localhost:8080/"
        },
        "id": "-oAT5N5m1TlH",
        "outputId": "728a005b-3f53-4dcc-e964-e6c7b12bfed9"
      },
      "execution_count": 41,
      "outputs": [
        {
          "output_type": "execute_result",
          "data": {
            "text/plain": [
              "[100, 99, 98]"
            ]
          },
          "metadata": {},
          "execution_count": 41
        }
      ]
    },
    {
      "cell_type": "code",
      "source": [
        "list(dic_1.items())"
      ],
      "metadata": {
        "colab": {
          "base_uri": "https://localhost:8080/"
        },
        "id": "Z4VKIQnA1jdX",
        "outputId": "ec21d802-5dde-43d8-92f2-8e80e72a1bec"
      },
      "execution_count": 43,
      "outputs": [
        {
          "output_type": "execute_result",
          "data": {
            "text/plain": [
              "[('홍길동', 100), ('이순신', 99), ('김철수', 98)]"
            ]
          },
          "metadata": {},
          "execution_count": 43
        }
      ]
    },
    {
      "cell_type": "code",
      "source": [],
      "metadata": {
        "id": "sLsKTtj81xYf"
      },
      "execution_count": null,
      "outputs": []
    }
  ]
}