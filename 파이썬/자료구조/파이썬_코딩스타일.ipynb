{
  "nbformat": 4,
  "nbformat_minor": 0,
  "metadata": {
    "colab": {
      "provenance": []
    },
    "kernelspec": {
      "name": "python3",
      "display_name": "Python 3"
    },
    "language_info": {
      "name": "python"
    }
  },
  "cells": [
    {
      "cell_type": "code",
      "execution_count": 1,
      "metadata": {
        "colab": {
          "base_uri": "https://localhost:8080/",
          "height": 35
        },
        "id": "CSNM0JNgiQPU",
        "outputId": "9a584088-97a6-45b4-e815-d6cf9501ef5f"
      },
      "outputs": [
        {
          "output_type": "execute_result",
          "data": {
            "text/plain": [
              "'redgreenblueyellow'"
            ],
            "application/vnd.google.colaboratory.intrinsic+json": {
              "type": "string"
            }
          },
          "metadata": {},
          "execution_count": 1
        }
      ],
      "source": [
        "colors = ['red','green','blue','yellow']\n",
        "# redgrrenblueyello\n",
        "result = \"\"\n",
        "for i in colors:\n",
        "  result += i\n",
        "result  "
      ]
    },
    {
      "cell_type": "code",
      "source": [
        "''.join(colors)"
      ],
      "metadata": {
        "colab": {
          "base_uri": "https://localhost:8080/",
          "height": 35
        },
        "id": "QXwIcmmdjHTQ",
        "outputId": "aa8d4041-d2f9-4682-dcf5-aad7fe2ce8a6"
      },
      "execution_count": 4,
      "outputs": [
        {
          "output_type": "execute_result",
          "data": {
            "text/plain": [
              "'redgreenblueyellow'"
            ],
            "application/vnd.google.colaboratory.intrinsic+json": {
              "type": "string"
            }
          },
          "metadata": {},
          "execution_count": 4
        }
      ]
    },
    {
      "cell_type": "code",
      "source": [
        "# 리스트 컴프리핸션\n",
        "result = []\n",
        "for i in range(10):\n",
        "  if i % 2 ==0:\n",
        "    result.append(i)\n",
        "\n",
        "# 리스트 컴프리핸션\n",
        "result = [ i for i in range(10)  if i % 2 == 0]\n",
        "result"
      ],
      "metadata": {
        "colab": {
          "base_uri": "https://localhost:8080/"
        },
        "id": "ZxxVYt_ijULW",
        "outputId": "cbb72593-b78e-44e5-8a91-d68a8b58bdba"
      },
      "execution_count": 8,
      "outputs": [
        {
          "output_type": "execute_result",
          "data": {
            "text/plain": [
              "[0, 2, 4, 6, 8]"
            ]
          },
          "metadata": {},
          "execution_count": 8
        }
      ]
    },
    {
      "cell_type": "code",
      "source": [
        "result = []\n",
        "for i in range(10):\n",
        "  if i % 2 ==0:\n",
        "    result.append(0)\n",
        "  else:\n",
        "    result.append(1)\n",
        "# 리스트 컴프리핸션    \n",
        "result = [0 if i % 2 == 0 else 1 for i in range(10 )]\n",
        "result"
      ],
      "metadata": {
        "colab": {
          "base_uri": "https://localhost:8080/"
        },
        "id": "oVSqJQYPj1Xf",
        "outputId": "ffd1989d-9731-4121-9342-bc938b8d120a"
      },
      "execution_count": 9,
      "outputs": [
        {
          "output_type": "execute_result",
          "data": {
            "text/plain": [
              "[0, 1, 0, 1, 0, 1, 0, 1, 0, 1]"
            ]
          },
          "metadata": {},
          "execution_count": 9
        }
      ]
    },
    {
      "cell_type": "code",
      "source": [
        "result = []\n",
        "for i in range(10):\n",
        "   result.append(i*2)\n",
        "# 리스트 컴프리핸션      \n",
        "result = [ i*2 for i in range(10)]\t\n",
        "result"
      ],
      "metadata": {
        "colab": {
          "base_uri": "https://localhost:8080/"
        },
        "id": "0HqPvPk_j_JX",
        "outputId": "41f38654-db8d-43a6-93a6-a570ec28a85e"
      },
      "execution_count": 10,
      "outputs": [
        {
          "output_type": "execute_result",
          "data": {
            "text/plain": [
              "[0, 2, 4, 6, 8, 10, 12, 14, 16, 18]"
            ]
          },
          "metadata": {},
          "execution_count": 10
        }
      ]
    },
    {
      "cell_type": "code",
      "source": [
        "for idx,value in enumerate(result):\n",
        "  print(idx,value)"
      ],
      "metadata": {
        "id": "YkgRvv5slkcn"
      },
      "execution_count": null,
      "outputs": []
    },
    {
      "cell_type": "code",
      "source": [
        "list1 = [i for i in range(5)]\n",
        "list2 = [i for i in range(5)][::-1]"
      ],
      "metadata": {
        "id": "7Zyq4SedlxfO"
      },
      "execution_count": 12,
      "outputs": []
    },
    {
      "cell_type": "code",
      "source": [
        "dict(zip(list1,list2))"
      ],
      "metadata": {
        "colab": {
          "base_uri": "https://localhost:8080/"
        },
        "id": "sdqH2zABmBoG",
        "outputId": "b90ce44f-1845-4956-9edd-6c420f931e91"
      },
      "execution_count": 17,
      "outputs": [
        {
          "output_type": "execute_result",
          "data": {
            "text/plain": [
              "{0: 4, 1: 3, 2: 2, 3: 1, 4: 0}"
            ]
          },
          "metadata": {},
          "execution_count": 17
        }
      ]
    },
    {
      "cell_type": "code",
      "source": [
        "for a,(b,c) in enumerate(zip(list1,list2)):\n",
        "  print(a,b,c)"
      ],
      "metadata": {
        "colab": {
          "base_uri": "https://localhost:8080/"
        },
        "id": "6Q2NFj9rmDnm",
        "outputId": "6460b5fe-303a-4533-bfdd-a8530c8d49fb"
      },
      "execution_count": 24,
      "outputs": [
        {
          "output_type": "stream",
          "name": "stdout",
          "text": [
            "0 0 4\n",
            "1 1 3\n",
            "2 2 2\n",
            "3 3 1\n",
            "4 4 0\n"
          ]
        }
      ]
    },
    {
      "cell_type": "code",
      "source": [
        "for a,b in enumerate(zip(list1,list2)):\n",
        "  print(a,b)"
      ],
      "metadata": {
        "colab": {
          "base_uri": "https://localhost:8080/"
        },
        "id": "lKoewaT1mgev",
        "outputId": "00d3a117-7978-40e7-d3aa-1d9454a2aba0"
      },
      "execution_count": 25,
      "outputs": [
        {
          "output_type": "stream",
          "name": "stdout",
          "text": [
            "0 (0, 4)\n",
            "1 (1, 3)\n",
            "2 (2, 2)\n",
            "3 (3, 1)\n",
            "4 (4, 0)\n"
          ]
        }
      ]
    },
    {
      "cell_type": "markdown",
      "source": [
        "리스트 컴프리핸션, zip, enumerate"
      ],
      "metadata": {
        "id": "CIuR5Eq4nCqK"
      }
    },
    {
      "cell_type": "code",
      "source": [
        "import random\n",
        "list1 = [random.randrange(100) for i in range(10)]\n",
        "list2 = [random.randrange(100) for i in range(10)]  "
      ],
      "metadata": {
        "id": "xpKHewklm1Xf"
      },
      "execution_count": 26,
      "outputs": []
    },
    {
      "cell_type": "code",
      "source": [
        "# 두 리스트에서 각 쌍이 짝수인 값들만 뽑아서 짝수끼리 묶어서 출력\n",
        "list1, list2"
      ],
      "metadata": {
        "colab": {
          "base_uri": "https://localhost:8080/"
        },
        "id": "iu3JQhhxoI5H",
        "outputId": "195c6f9e-d8ab-4950-e873-f3e783c8003c"
      },
      "execution_count": 27,
      "outputs": [
        {
          "output_type": "execute_result",
          "data": {
            "text/plain": [
              "([11, 76, 5, 74, 99, 41, 28, 91, 86, 73],\n",
              " [11, 52, 2, 53, 85, 93, 73, 7, 74, 49])"
            ]
          },
          "metadata": {},
          "execution_count": 27
        }
      ]
    },
    {
      "cell_type": "code",
      "source": [
        "result = []\n",
        "for a,b in zip(list1,list2):\n",
        "  if a %2==0 and b %2 ==0:\n",
        "    result.append((a,b))"
      ],
      "metadata": {
        "id": "gCfScfF6oY4_"
      },
      "execution_count": 29,
      "outputs": []
    },
    {
      "cell_type": "code",
      "source": [
        "[ (a,b) for a,b in zip(list1,list2) if a %2==0 and b %2 ==0 ]"
      ],
      "metadata": {
        "colab": {
          "base_uri": "https://localhost:8080/"
        },
        "id": "TFLbbMN2tgDI",
        "outputId": "def087d7-0145-4100-e5b3-e1f2c7eeff5c"
      },
      "execution_count": 31,
      "outputs": [
        {
          "output_type": "execute_result",
          "data": {
            "text/plain": [
              "[(76, 52), (86, 74)]"
            ]
          },
          "metadata": {},
          "execution_count": 31
        }
      ]
    },
    {
      "cell_type": "code",
      "source": [
        "list1.index(5)"
      ],
      "metadata": {
        "colab": {
          "base_uri": "https://localhost:8080/"
        },
        "id": "5FdkRnYIt0cP",
        "outputId": "5d70fe58-2844-410c-88cd-f7c2a029c840"
      },
      "execution_count": 35,
      "outputs": [
        {
          "output_type": "execute_result",
          "data": {
            "text/plain": [
              "2"
            ]
          },
          "metadata": {},
          "execution_count": 35
        }
      ]
    },
    {
      "cell_type": "code",
      "source": [
        "list1"
      ],
      "metadata": {
        "colab": {
          "base_uri": "https://localhost:8080/"
        },
        "id": "SFmJiSuQwB4l",
        "outputId": "bada6105-c30d-4647-b97c-be16d6b962ab"
      },
      "execution_count": 36,
      "outputs": [
        {
          "output_type": "execute_result",
          "data": {
            "text/plain": [
              "[11, 76, 5, 74, 99, 41, 28, 91, 86, 73]"
            ]
          },
          "metadata": {},
          "execution_count": 36
        }
      ]
    },
    {
      "cell_type": "code",
      "source": [
        "# list1.index(5) 를 사용하지 않고 구현해 보기\n",
        "# 리스트에서 첫번째로 일치하는 값에 대한 인덱스를 반환하는 함수를 만들어서 사용해 보기\n",
        "for i in range(len(list1)):\n",
        "  if 5 == list1[i]:\n",
        "    print(i)"
      ],
      "metadata": {
        "colab": {
          "base_uri": "https://localhost:8080/"
        },
        "id": "sjJTfWI3uJ__",
        "outputId": "487fed18-0824-4b47-a696-26ef60a2cd4c"
      },
      "execution_count": 38,
      "outputs": [
        {
          "output_type": "stream",
          "name": "stdout",
          "text": [
            "2\n"
          ]
        }
      ]
    },
    {
      "cell_type": "code",
      "source": [
        "for idx,i in enumerate(list1):\n",
        "  if 5 == i:\n",
        "    print(idx)"
      ],
      "metadata": {
        "colab": {
          "base_uri": "https://localhost:8080/"
        },
        "id": "d5Zf9swEwJ6_",
        "outputId": "c7eb8538-fa95-48af-8242-27ac199dd94f"
      },
      "execution_count": 39,
      "outputs": [
        {
          "output_type": "stream",
          "name": "stdout",
          "text": [
            "2\n"
          ]
        }
      ]
    },
    {
      "cell_type": "code",
      "source": [],
      "metadata": {
        "id": "swY3mQVuwXy3"
      },
      "execution_count": null,
      "outputs": []
    }
  ]
}