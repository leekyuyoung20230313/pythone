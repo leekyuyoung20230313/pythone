{
  "nbformat": 4,
  "nbformat_minor": 0,
  "metadata": {
    "colab": {
      "provenance": []
    },
    "kernelspec": {
      "name": "python3",
      "display_name": "Python 3"
    },
    "language_info": {
      "name": "python"
    }
  },
  "cells": [
    {
      "cell_type": "markdown",
      "source": [
        "- 람다함수\n",
        "- 맵리듀스"
      ],
      "metadata": {
        "id": "y_BOKC9Xwpda"
      }
    },
    {
      "cell_type": "code",
      "execution_count": 1,
      "metadata": {
        "id": "W8VigLs4wmYZ"
      },
      "outputs": [],
      "source": [
        "# 람다함수는 이름없이 사용하는 함수 -> 익명 함수"
      ]
    },
    {
      "cell_type": "code",
      "source": [
        "def calc(f,x,y):\n",
        "  return f(x,y)"
      ],
      "metadata": {
        "id": "3NOae0Fcwsev"
      },
      "execution_count": 10,
      "outputs": []
    },
    {
      "cell_type": "code",
      "source": [
        "calc(lambda x,y : x**2+y**2, 10,20)"
      ],
      "metadata": {
        "colab": {
          "base_uri": "https://localhost:8080/"
        },
        "id": "X8h4xC2izBZ-",
        "outputId": "47f075d9-8555-4fb3-f1e7-6ee61677bf23"
      },
      "execution_count": 11,
      "outputs": [
        {
          "output_type": "execute_result",
          "data": {
            "text/plain": [
              "500"
            ]
          },
          "metadata": {},
          "execution_count": 11
        }
      ]
    },
    {
      "cell_type": "code",
      "source": [
        "calc(lambda x,y : x**2 / y, 5,2)"
      ],
      "metadata": {
        "colab": {
          "base_uri": "https://localhost:8080/"
        },
        "id": "EOLjXSPTzNAI",
        "outputId": "2e599a84-2b37-4e63-fdfc-d575a5c5841d"
      },
      "execution_count": 12,
      "outputs": [
        {
          "output_type": "execute_result",
          "data": {
            "text/plain": [
              "12.5"
            ]
          },
          "metadata": {},
          "execution_count": 12
        }
      ]
    },
    {
      "cell_type": "code",
      "source": [
        "f = lambda msg : f\"안녕하세요, {msg}님! 반갑습니다.\""
      ],
      "metadata": {
        "id": "sf5ukhyizjpI"
      },
      "execution_count": 15,
      "outputs": []
    },
    {
      "cell_type": "code",
      "source": [
        "f('이규영')"
      ],
      "metadata": {
        "colab": {
          "base_uri": "https://localhost:8080/",
          "height": 35
        },
        "id": "Dpu4HP48z6Of",
        "outputId": "8f0748d5-9bd8-4dec-830d-7b24b5fb096d"
      },
      "execution_count": 16,
      "outputs": [
        {
          "output_type": "execute_result",
          "data": {
            "text/plain": [
              "'안녕하세요, 이규영님! 반갑습니다.'"
            ],
            "application/vnd.google.colaboratory.intrinsic+json": {
              "type": "string"
            }
          },
          "metadata": {},
          "execution_count": 16
        }
      ]
    },
    {
      "cell_type": "code",
      "source": [
        "f = lambda x,y: x+y\n",
        "f(10,20)"
      ],
      "metadata": {
        "colab": {
          "base_uri": "https://localhost:8080/"
        },
        "id": "bDF1DiPKz8bX",
        "outputId": "9f66fb91-46bb-4da9-f969-2197244c7e07"
      },
      "execution_count": 17,
      "outputs": [
        {
          "output_type": "execute_result",
          "data": {
            "text/plain": [
              "30"
            ]
          },
          "metadata": {},
          "execution_count": 17
        }
      ]
    },
    {
      "cell_type": "code",
      "source": [
        "f = lambda x,y: x**y\n",
        "f(10,2)"
      ],
      "metadata": {
        "colab": {
          "base_uri": "https://localhost:8080/"
        },
        "id": "m0R3xx8W0Fi3",
        "outputId": "9fc92f83-c8f1-4d1d-8066-0b9e15d5bb67"
      },
      "execution_count": 18,
      "outputs": [
        {
          "output_type": "execute_result",
          "data": {
            "text/plain": [
              "100"
            ]
          },
          "metadata": {},
          "execution_count": 18
        }
      ]
    },
    {
      "cell_type": "code",
      "source": [
        "f = lambda x,y: x**y / 2\n",
        "f(10,2)"
      ],
      "metadata": {
        "colab": {
          "base_uri": "https://localhost:8080/"
        },
        "id": "_ksUJUT70I5P",
        "outputId": "4073bca5-03d2-434b-8d82-872d91f5dc55"
      },
      "execution_count": 19,
      "outputs": [
        {
          "output_type": "execute_result",
          "data": {
            "text/plain": [
              "50.0"
            ]
          },
          "metadata": {},
          "execution_count": 19
        }
      ]
    },
    {
      "cell_type": "code",
      "source": [
        "f = lambda x,y: x**y // 2\n",
        "f(10,2)"
      ],
      "metadata": {
        "colab": {
          "base_uri": "https://localhost:8080/"
        },
        "id": "MNlPtdrP0MI_",
        "outputId": "713564a3-327f-4def-e1c3-5f0f6a9008f2"
      },
      "execution_count": 20,
      "outputs": [
        {
          "output_type": "execute_result",
          "data": {
            "text/plain": [
              "50"
            ]
          },
          "metadata": {},
          "execution_count": 20
        }
      ]
    },
    {
      "cell_type": "code",
      "source": [
        "f = lambda *args : sum(args)\n",
        "f(10,2,2,5,1,5,4,1,5,4)"
      ],
      "metadata": {
        "colab": {
          "base_uri": "https://localhost:8080/"
        },
        "id": "ZxVpiKaR0Ok_",
        "outputId": "1a882faa-784e-4503-c4f2-e11cb0e41456"
      },
      "execution_count": 21,
      "outputs": [
        {
          "output_type": "execute_result",
          "data": {
            "text/plain": [
              "39"
            ]
          },
          "metadata": {},
          "execution_count": 21
        }
      ]
    },
    {
      "cell_type": "code",
      "source": [
        "# 임의의 리스트를만든다\n",
        "import random\n",
        "list1 = [ random.randrange(100)  for i in range(5)]\n",
        "list1"
      ],
      "metadata": {
        "colab": {
          "base_uri": "https://localhost:8080/"
        },
        "id": "7N9piksK0gRY",
        "outputId": "4fe65da8-11be-451e-abb2-44798f9008ee"
      },
      "execution_count": 22,
      "outputs": [
        {
          "output_type": "execute_result",
          "data": {
            "text/plain": [
              "[45, 42, 26, 91, 9]"
            ]
          },
          "metadata": {},
          "execution_count": 22
        }
      ]
    },
    {
      "cell_type": "code",
      "source": [
        "# 임의의 딕셔너리\n",
        "list1 = [ random.randrange(100)  for i in range(5)]\n",
        "list2 = [ random.randrange(100)  for i in range(5)]\n",
        "dic1 = dict(zip(list1,list2))\n",
        "dic1"
      ],
      "metadata": {
        "colab": {
          "base_uri": "https://localhost:8080/"
        },
        "id": "7SCDDR6X01ug",
        "outputId": "9b8c1b01-f487-45e8-8ee5-68d4209a8e96"
      },
      "execution_count": 23,
      "outputs": [
        {
          "output_type": "execute_result",
          "data": {
            "text/plain": [
              "{53: 85, 32: 12, 94: 78, 42: 25}"
            ]
          },
          "metadata": {},
          "execution_count": 23
        }
      ]
    },
    {
      "cell_type": "code",
      "source": [
        "sorted(dic1.items(), key =lambda x : x[1],reverse=True  )"
      ],
      "metadata": {
        "colab": {
          "base_uri": "https://localhost:8080/"
        },
        "id": "RpM5n7er1F9I",
        "outputId": "bc2ee2b8-7115-4659-874d-3e76c72b9d7e"
      },
      "execution_count": 29,
      "outputs": [
        {
          "output_type": "execute_result",
          "data": {
            "text/plain": [
              "[(53, 85), (94, 78), (42, 25), (32, 12)]"
            ]
          },
          "metadata": {},
          "execution_count": 29
        }
      ]
    },
    {
      "cell_type": "markdown",
      "source": [
        "필터 : 집합에서 특정 조건을 만족하는 것만 골라냄"
      ],
      "metadata": {
        "id": "Ni0IANNj2WPp"
      }
    },
    {
      "cell_type": "code",
      "source": [
        "list1"
      ],
      "metadata": {
        "colab": {
          "base_uri": "https://localhost:8080/"
        },
        "id": "ThQzZ5DK1fXR",
        "outputId": "83ed3bfa-fb7b-4bff-8ab9-9ecca3247cef"
      },
      "execution_count": 31,
      "outputs": [
        {
          "output_type": "execute_result",
          "data": {
            "text/plain": [
              "[53, 32, 94, 42, 42]"
            ]
          },
          "metadata": {},
          "execution_count": 31
        }
      ]
    },
    {
      "cell_type": "code",
      "source": [
        "list(filter(lambda x: x>=50, list1))"
      ],
      "metadata": {
        "colab": {
          "base_uri": "https://localhost:8080/"
        },
        "id": "QSO7NJ4f2div",
        "outputId": "d43eeb39-9a00-4044-811c-627efeec5d93"
      },
      "execution_count": 33,
      "outputs": [
        {
          "output_type": "execute_result",
          "data": {
            "text/plain": [
              "[53, 94]"
            ]
          },
          "metadata": {},
          "execution_count": 33
        }
      ]
    },
    {
      "cell_type": "code",
      "source": [
        "list(filter(lambda x : x%2==0, list1))"
      ],
      "metadata": {
        "colab": {
          "base_uri": "https://localhost:8080/"
        },
        "id": "2eHWK9qW2zdf",
        "outputId": "9dbf4fee-b866-40c0-cf1c-46777ffc38b6"
      },
      "execution_count": 35,
      "outputs": [
        {
          "output_type": "execute_result",
          "data": {
            "text/plain": [
              "[32, 94, 42, 42]"
            ]
          },
          "metadata": {},
          "execution_count": 35
        }
      ]
    },
    {
      "cell_type": "code",
      "source": [
        "# 람다 , 필터"
      ],
      "metadata": {
        "id": "LmKopYSY2-jA"
      },
      "execution_count": 36,
      "outputs": []
    },
    {
      "cell_type": "markdown",
      "source": [
        ":맵리듀스(MapReduce) : 빅데이터처리 알고리즘으로도 많이 사용\n",
        "  - map\n",
        "  - reduce\n"
      ],
      "metadata": {
        "id": "9rqr-I-g6ImA"
      }
    },
    {
      "cell_type": "code",
      "source": [
        "# map : 연속형 자료에서 각 데이터에 적용할 함수를 사용하는 함수\n",
        "list1 = [random.randrange(20)  for i in range(10)]\n",
        "list1"
      ],
      "metadata": {
        "colab": {
          "base_uri": "https://localhost:8080/"
        },
        "id": "APjqLP0b6T4A",
        "outputId": "1a86e78c-431d-4cce-fd4a-c8b5647ab8db"
      },
      "execution_count": 38,
      "outputs": [
        {
          "output_type": "execute_result",
          "data": {
            "text/plain": [
              "[12, 15, 15, 10, 15, 16, 18, 7, 18, 0]"
            ]
          },
          "metadata": {},
          "execution_count": 38
        }
      ]
    },
    {
      "cell_type": "code",
      "source": [
        "# 시퀀스형데이터 = [1,2,3]\n",
        "# [ i+1 for i  in 시퀀스형데이터  ]   \n",
        "# [1+1]\n",
        "# [1+1,2+1]\n",
        "# [1+1,2+1,3+1]\n",
        "#[2,3,4]\n"
      ],
      "metadata": {
        "id": "79jiU8A18vJs"
      },
      "execution_count": null,
      "outputs": []
    },
    {
      "cell_type": "code",
      "source": [
        "list(map(lambda x: x**2  , list1))\n",
        "# --> 리스트 컴프리핸션\n",
        "[i**2  for i in list1 ]"
      ],
      "metadata": {
        "colab": {
          "base_uri": "https://localhost:8080/"
        },
        "id": "CbsQNPm-6t8p",
        "outputId": "d0b00eae-7075-40bf-b9d8-d846b3d6329f"
      },
      "execution_count": 44,
      "outputs": [
        {
          "output_type": "execute_result",
          "data": {
            "text/plain": [
              "[144, 225, 225, 100, 225, 256, 324, 49, 324, 0]"
            ]
          },
          "metadata": {},
          "execution_count": 44
        }
      ]
    },
    {
      "cell_type": "code",
      "source": [
        "list(filter(lambda x : x%2==0, list1))\n",
        "# --> 리스트 컴프리 핸션\n",
        "[i for i in list1 if i%2==0]"
      ],
      "metadata": {
        "colab": {
          "base_uri": "https://localhost:8080/"
        },
        "id": "DyWRWVNl7scq",
        "outputId": "b5597329-2f3c-4e2c-8ce2-93ce2262cf6b"
      },
      "execution_count": 45,
      "outputs": [
        {
          "output_type": "execute_result",
          "data": {
            "text/plain": [
              "[12, 10, 16, 18, 18, 0]"
            ]
          },
          "metadata": {},
          "execution_count": 45
        }
      ]
    },
    {
      "cell_type": "code",
      "source": [
        "# 트랜드의 변화가 감지되고 있음....\n",
        "# 최근에는 map 과 filter를 사용하지 않는 경향이 있음 ---> 리스트 컴프리핸션으로 대체 가능"
      ],
      "metadata": {
        "id": "jh3MCRJh66fo"
      },
      "execution_count": 46,
      "outputs": []
    },
    {
      "cell_type": "code",
      "source": [
        "print(list1)\n",
        "print(list1)\n",
        "print(\"*\"*40)\n",
        "list(map(lambda x,y: x+y  ,list1,list1 ))"
      ],
      "metadata": {
        "colab": {
          "base_uri": "https://localhost:8080/"
        },
        "id": "2Yzd-7l99cMY",
        "outputId": "254759d8-fe9f-412d-d343-cc86448fe626"
      },
      "execution_count": 54,
      "outputs": [
        {
          "output_type": "stream",
          "name": "stdout",
          "text": [
            "[12, 15, 15, 10, 15, 16, 18, 7, 18, 0]\n",
            "[12, 15, 15, 10, 15, 16, 18, 7, 18, 0]\n",
            "****************************************\n"
          ]
        },
        {
          "output_type": "execute_result",
          "data": {
            "text/plain": [
              "[24, 30, 30, 20, 30, 32, 36, 14, 36, 0]"
            ]
          },
          "metadata": {},
          "execution_count": 54
        }
      ]
    },
    {
      "cell_type": "code",
      "source": [
        "print(list1)\n",
        "print(list1)\n",
        "print(\"*\"*40)\n",
        "list(map(lambda x,y: x+y  ,list1,list1 ))"
      ],
      "metadata": {
        "colab": {
          "base_uri": "https://localhost:8080/"
        },
        "id": "nRyXHg59-ClY",
        "outputId": "bfebc15a-3d57-4b76-b83e-e8e1af6cb50b"
      },
      "execution_count": 58,
      "outputs": [
        {
          "output_type": "stream",
          "name": "stdout",
          "text": [
            "[12, 15, 15, 10, 15, 16, 18, 7, 18, 0]\n",
            "[12, 15, 15, 10, 15, 16, 18, 7, 18, 0]\n",
            "****************************************\n"
          ]
        },
        {
          "output_type": "execute_result",
          "data": {
            "text/plain": [
              "[24, 30, 30, 20, 30, 32, 36, 14, 36, 0]"
            ]
          },
          "metadata": {},
          "execution_count": 58
        }
      ]
    },
    {
      "cell_type": "code",
      "source": [
        "print(list1)\n",
        "print(list1)\n",
        "print(\"*\"*40)\n",
        "[x+y for x,y in zip(list1,list1)]"
      ],
      "metadata": {
        "colab": {
          "base_uri": "https://localhost:8080/"
        },
        "id": "amXNKQ6J-wqI",
        "outputId": "adfa2a47-1c51-4373-acac-0d3b1c98ad12"
      },
      "execution_count": 59,
      "outputs": [
        {
          "output_type": "stream",
          "name": "stdout",
          "text": [
            "[12, 15, 15, 10, 15, 16, 18, 7, 18, 0]\n",
            "[12, 15, 15, 10, 15, 16, 18, 7, 18, 0]\n",
            "****************************************\n"
          ]
        },
        {
          "output_type": "execute_result",
          "data": {
            "text/plain": [
              "[24, 30, 30, 20, 30, 32, 36, 14, 36, 0]"
            ]
          },
          "metadata": {},
          "execution_count": 59
        }
      ]
    },
    {
      "cell_type": "code",
      "source": [
        "# reduce는 map과 비슷하지만 다르다\n",
        "# 시퀀스 자료형에 순서대로 함수를 적용애서 모든 값을 통합\n",
        "# list(map(lambda x,y: x+y, list1))"
      ],
      "metadata": {
        "id": "ePo3jvC--zfY"
      },
      "execution_count": null,
      "outputs": []
    },
    {
      "cell_type": "code",
      "source": [
        "list1"
      ],
      "metadata": {
        "colab": {
          "base_uri": "https://localhost:8080/"
        },
        "id": "1TaO6SfW_zpg",
        "outputId": "a4ff1bd9-6067-464f-d8d0-e059e54346de"
      },
      "execution_count": 61,
      "outputs": [
        {
          "output_type": "execute_result",
          "data": {
            "text/plain": [
              "[12, 15, 15, 10, 15, 16, 18, 7, 18, 0]"
            ]
          },
          "metadata": {},
          "execution_count": 61
        }
      ]
    },
    {
      "cell_type": "code",
      "source": [
        "from functools import reduce"
      ],
      "metadata": {
        "id": "nh_QOMKHANIc"
      },
      "execution_count": 63,
      "outputs": []
    },
    {
      "cell_type": "code",
      "source": [
        "reduce(lambda x,y: x+y, list1)"
      ],
      "metadata": {
        "colab": {
          "base_uri": "https://localhost:8080/"
        },
        "id": "q0g3Bmrr_1o4",
        "outputId": "01972bef-b416-4f07-a428-e3635e68dce3"
      },
      "execution_count": 64,
      "outputs": [
        {
          "output_type": "execute_result",
          "data": {
            "text/plain": [
              "126"
            ]
          },
          "metadata": {},
          "execution_count": 64
        }
      ]
    },
    {
      "cell_type": "code",
      "source": [],
      "metadata": {
        "id": "T1AjvGIDAUng"
      },
      "execution_count": null,
      "outputs": []
    }
  ]
}