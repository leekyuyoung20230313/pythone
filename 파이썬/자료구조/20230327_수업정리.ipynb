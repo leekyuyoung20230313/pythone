{
  "nbformat": 4,
  "nbformat_minor": 0,
  "metadata": {
    "colab": {
      "provenance": []
    },
    "kernelspec": {
      "name": "python3",
      "display_name": "Python 3"
    },
    "language_info": {
      "name": "python"
    }
  },
  "cells": [
    {
      "cell_type": "markdown",
      "source": [
        "- 스텍 : redo, undo\n",
        "- 큐 : 순서대로 데이터 처리(일반적인 처리방법)\n",
        "- 람다 : 익명함수  함수의 매개변수로 함수가 사용될때(map,filter,reduce, sorted)\n",
        "- map, filter --> 리스트 컴프리핸션\n",
        "- reduce : 사용빈도가 낮다(sum... 기타 대처할 만한게 있음)"
      ],
      "metadata": {
        "id": "IqBKdXSQBGSZ"
      }
    },
    {
      "cell_type": "code",
      "source": [
        "# 클래스\n",
        "# 선형대수학 : 방정식,행렬, 벡터... 연산...\n",
        "# numpy, pandas\n",
        "# ---------- 데이터 수집\n",
        "# ----------  시각화\n",
        "# ---------  분석에 필요한 기술.... (통계약간 수학약간... 기타...) 사이파이 라이브러리... ,T-검증...상관관계 등등\n",
        "# 1차 프로젝트 일주일동안 \n",
        "# 데이터베이스 - 데이터 저장 및 처리(대용량)\n",
        "# 머신러닝(자연어처리..GAN, GPT)\n",
        "# 2차 프로젝트\n",
        "# 엔지니어링 - 하둡, 도커, -- 인공지능 모델.... 리눅스, 사용자인터페이스는 윈도우  실시간 처리\n",
        "# 딥러닝(인공신경망) - 이미지 디텍팅, 강화학습... 최신실무 인공지능 알고리즘\n",
        "# 최종"
      ],
      "metadata": {
        "id": "u8XqQQYOBtUN"
      },
      "execution_count": 1,
      "outputs": []
    },
    {
      "cell_type": "code",
      "source": [
        "news = open('news.txt')\n",
        "print(news.read())\n",
        "news.close()"
      ],
      "metadata": {
        "colab": {
          "base_uri": "https://localhost:8080/"
        },
        "id": "xVK3jytdDT0R",
        "outputId": "75e9d5d5-3f81-40dc-90f2-c421e21c6457"
      },
      "execution_count": 5,
      "outputs": [
        {
          "output_type": "stream",
          "name": "stdout",
          "text": [
            "노후계획도시 중 1기 신도시는 일시에 대규모 주택공급이 이뤄진 지역이다. 자족 기능이 부족해 대부분 베드타운으로 전락했다는 지적이다. 재건축 연한이 다가오는 등 노후도가 높고, 주차난, 배관 부식, 기반시설 노후화 등 주거환경이 악화돼 주민의 정비 요구가 높은 실정이다.\n",
            "\n",
            "원 장관은 특별법 발의 전부터 정비사업과 관련한 주민들의 의견 청취에 나섰다. 이 자리에서 '리모델링 단지에 대한 소외', '용적률 인센티브', '정비사업시 영구임대 단지에 대한 대책' 등 주민간 갈등이 있을 만한 사안 관련 주요 질문도 나왔다.\n",
            "\n",
            "우선 특별법 발표 전 리모델링을 이미 추진 중이던 단지들에 대해서는 '불이익이 없다'는 입장을 명확히했다. 원 장관은 전날 \"리모델링을 추진했던 분들의 당혹스러움을 너무 잘 알고 있다. 리모델링해서 불이익받는 건 없다는 원칙을 말씀드린다\"며 \"(도시 정비) 전체 질서에 따르겠다는 것만 전제해주면, 차별이 없도록 가급적 조정하겠다\"고 말했다.\n",
            "\n",
            "단지간 용적률 인센티브 차이 등에 대해서는 최소화하겠다는 방침이다. 정비사업의 목적이 '집값 상승'이 아닌, 노후 단지가 모인 신도시에 자족 기능을 넣어 신도시별 맞춤형 정비사업을 진행하겠다고 밝히면서다. 이에 용적률 인센티브를 많이 받는 단지는 그만큼 공공 기여분도 많아질 전망이다.\n",
            "\n",
            "한국토지주택공사(LH) 영구임대 단지가 있는 단지의 경우 우선 '통합개발' 원칙을 내세웠다. 특히 군포의 경우 LH가 공급한 아파트가 60%가량이기도 하다. 이에 대해 이한준 LH 사장은 \"산본신도시 전체 기본계획뿐만 아니라 통합개발에도 참여할 것\"이라며 \"특히 공동주택에 여러가지 품질 문제가 논의되고 있는데, LH는 고품질 공공주택 공급을 목표로 한다\"고 말했다.\n",
            "\n",
            "다만 1기 신도시 규모가 커 신속하고 광역적인 정비가 어렵고, 주민간 갈등, 대규모 이주 수요에 대한 체계적인 관리가 필요하다는 점은 풀어야 할 숙제다. 용적률이 이미 높은 점도 부담이다. 1기 신도시의 평균 용적률은 △고양 일산 169% △성남 분당 184% △안양 평촌 204% △군포 산본 205% △부천 중동 226% 등이다. 통상 용적률이 200%가 넘으면 재건축에 따른 사업성이 떨어진다고 평가한다.\n",
            "\n",
            "특별법엔 용적률 규제를 2종에서 3종 등으로 종상향하는 방안이 담겨 있다. 준주거의 경우 최대 500% 용적률도 가능하다. 다만 500%를 적용할 경우 정부가 '닭장아파트'를 만든다는 비판을 받을 수 있다.\n",
            "\n",
            "이에 대해 원 장관은 전날 역세권 용적률 완화가 오히려 '독'이 될 수 있다는 한 산본신도시 주민의 말에 공감하기도 했다. 단지간 용적률 인센티브 차이에 따라 갈등이 촉발될 경우 도시 정비 자체가 늦어질 수 있다는 의견이었다.\n",
            "\n",
            "원 장관은 \"부동산이 다른 것보다 돈이 더 쉽게 벌리던 시절이 계속될지는 두고 볼 일이다\"라며 \"도시정비의 목적은 낡고, 보도와 차도가 구분이 안 돼 있고, 기반 시설이 부족한 것을 살기 좋은 도시를 만드는 것\"이라고 말했다.\n"
          ]
        }
      ]
    },
    {
      "cell_type": "code",
      "source": [
        "f = open(\"news.txt\", 'r')\n",
        "while True:\n",
        "    line = f.readline()    \n",
        "    if not line:  break\n",
        "    print(line)    \n",
        "f.close()"
      ],
      "metadata": {
        "colab": {
          "base_uri": "https://localhost:8080/"
        },
        "id": "jQ6ziRyoI-Dq",
        "outputId": "12e1c84b-9609-4e3d-d817-4c4cef329e08"
      },
      "execution_count": 30,
      "outputs": [
        {
          "output_type": "stream",
          "name": "stdout",
          "text": [
            "노후계획도시 중 1기 신도시는 일시에 대규모 주택공급이 이뤄진 지역이다. 자족 기능이 부족해 대부분 베드타운으로 전락했다는 지적이다. 재건축 연한이 다가오는 등 노후도가 높고, 주차난, 배관 부식, 기반시설 노후화 등 주거환경이 악화돼 주민의 정비 요구가 높은 실정이다.\n"
          ]
        }
      ]
    },
    {
      "cell_type": "code",
      "source": [
        "with open(\"news.txt\", 'r') as f:\n",
        "  while True:\n",
        "      line = f.readline()\n",
        "      if not line: break\n",
        "      print(line)"
      ],
      "metadata": {
        "id": "wihZkm4pLJWB"
      },
      "execution_count": null,
      "outputs": []
    },
    {
      "cell_type": "code",
      "source": [
        "# 파일을 읽어서 사용자가 원하는 단어가 있는 문장을 출력하는 기능\n",
        "input_data =  input(\"찾고자 하는 단어 또는 문장을 입력하세요 \")\n",
        "with open(\"news.txt\", 'r') as f:\n",
        "  while True:\n",
        "      line = f.readline()\n",
        "      if len( [i for i in line.split() if i == input_data]) > 0:\n",
        "        print(line.split())\n",
        "        break\n",
        "\n",
        "      if not line: break\n",
        "      print(line)"
      ],
      "metadata": {
        "id": "oPUlxnJ6JtjB"
      },
      "execution_count": null,
      "outputs": []
    },
    {
      "cell_type": "code",
      "source": [],
      "metadata": {
        "id": "ORWVrCVXM0S5"
      },
      "execution_count": null,
      "outputs": []
    }
  ]
}