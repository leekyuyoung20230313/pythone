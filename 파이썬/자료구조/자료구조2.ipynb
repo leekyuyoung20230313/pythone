{
  "nbformat": 4,
  "nbformat_minor": 0,
  "metadata": {
    "colab": {
      "provenance": []
    },
    "kernelspec": {
      "name": "python3",
      "display_name": "Python 3"
    },
    "language_info": {
      "name": "python"
    }
  },
  "cells": [
    {
      "cell_type": "code",
      "execution_count": 1,
      "metadata": {
        "id": "g_jxyAEWi-wW"
      },
      "outputs": [],
      "source": [
        "def tupleReturnTest():\n",
        "  return (10,20)"
      ]
    },
    {
      "cell_type": "code",
      "source": [
        "result = tupleReturnTest()"
      ],
      "metadata": {
        "id": "ncyc7i6HqEle"
      },
      "execution_count": 2,
      "outputs": []
    },
    {
      "cell_type": "code",
      "source": [
        "# result[0] = 20"
      ],
      "metadata": {
        "id": "CyRU7u_Os1vs"
      },
      "execution_count": 3,
      "outputs": []
    },
    {
      "cell_type": "code",
      "source": [
        "a,b = tupleReturnTest()"
      ],
      "metadata": {
        "id": "dLkiBjw3s2qk"
      },
      "execution_count": 4,
      "outputs": []
    },
    {
      "cell_type": "code",
      "source": [
        "a"
      ],
      "metadata": {
        "colab": {
          "base_uri": "https://localhost:8080/"
        },
        "id": "rw236E57tC6k",
        "outputId": "08df607b-61dc-4b85-d07e-58307818f6fe"
      },
      "execution_count": 5,
      "outputs": [
        {
          "output_type": "execute_result",
          "data": {
            "text/plain": [
              "10"
            ]
          },
          "metadata": {},
          "execution_count": 5
        }
      ]
    },
    {
      "cell_type": "code",
      "source": [
        "a = 20"
      ],
      "metadata": {
        "id": "HAvMER0XtDzk"
      },
      "execution_count": 6,
      "outputs": []
    },
    {
      "cell_type": "code",
      "source": [
        "# 스택\n",
        "import random\n",
        "stack_ = [ random.randrange(100) for i in range(10)  ]\n",
        "stack_"
      ],
      "metadata": {
        "colab": {
          "base_uri": "https://localhost:8080/"
        },
        "id": "o4tki3DEtE30",
        "outputId": "bba67d46-f67d-4a42-c68b-f958a443c193"
      },
      "execution_count": 7,
      "outputs": [
        {
          "output_type": "execute_result",
          "data": {
            "text/plain": [
              "[48, 18, 81, 73, 24, 3, 64, 56, 39, 65]"
            ]
          },
          "metadata": {},
          "execution_count": 7
        }
      ]
    },
    {
      "cell_type": "code",
      "source": [
        "stack_.append(10)"
      ],
      "metadata": {
        "id": "qEVPvIHTt9cP"
      },
      "execution_count": 8,
      "outputs": []
    },
    {
      "cell_type": "code",
      "source": [
        "stack_"
      ],
      "metadata": {
        "colab": {
          "base_uri": "https://localhost:8080/"
        },
        "id": "U88_d-OvvDq8",
        "outputId": "60f0439c-b6a8-40c0-aaf5-78d033db5f18"
      },
      "execution_count": 9,
      "outputs": [
        {
          "output_type": "execute_result",
          "data": {
            "text/plain": [
              "[48, 18, 81, 73, 24, 3, 64, 56, 39, 65, 10]"
            ]
          },
          "metadata": {},
          "execution_count": 9
        }
      ]
    },
    {
      "cell_type": "code",
      "source": [
        "# 순환문 안에서 순환에 대상이되는 원본의 형태를 변경하면 안된다\n",
        "for _ in range(len(stack_)):\n",
        "  print(stack_.pop(), len(stack_))"
      ],
      "metadata": {
        "colab": {
          "base_uri": "https://localhost:8080/"
        },
        "id": "D0-GJBU7ubgP",
        "outputId": "18d19665-7367-4291-db7b-34772bad04f0"
      },
      "execution_count": 10,
      "outputs": [
        {
          "output_type": "stream",
          "name": "stdout",
          "text": [
            "10 10\n",
            "65 9\n",
            "39 8\n",
            "56 7\n",
            "64 6\n",
            "3 5\n",
            "24 4\n",
            "73 3\n",
            "81 2\n",
            "18 1\n",
            "48 0\n"
          ]
        }
      ]
    },
    {
      "cell_type": "code",
      "source": [
        "stack_"
      ],
      "metadata": {
        "colab": {
          "base_uri": "https://localhost:8080/"
        },
        "id": "XJ_V2N5Xuln2",
        "outputId": "f27443c6-8393-4f85-c2a9-04c6922c61b4"
      },
      "execution_count": 11,
      "outputs": [
        {
          "output_type": "execute_result",
          "data": {
            "text/plain": [
              "[]"
            ]
          },
          "metadata": {},
          "execution_count": 11
        }
      ]
    },
    {
      "cell_type": "code",
      "source": [
        "# 큐\n",
        "import random\n",
        "queue_ = [ random.randrange(100) for i in range(10)  ]\n",
        "queue_"
      ],
      "metadata": {
        "colab": {
          "base_uri": "https://localhost:8080/"
        },
        "id": "87hM0WgitjrO",
        "outputId": "8fd0a368-cf79-4945-bf07-1d999b17452f"
      },
      "execution_count": 12,
      "outputs": [
        {
          "output_type": "execute_result",
          "data": {
            "text/plain": [
              "[53, 75, 22, 35, 26, 25, 31, 22, 43, 64]"
            ]
          },
          "metadata": {},
          "execution_count": 12
        }
      ]
    },
    {
      "cell_type": "code",
      "source": [
        "for _ in range(len(queue_)):\n",
        "  print(queue_.pop(0))"
      ],
      "metadata": {
        "colab": {
          "base_uri": "https://localhost:8080/"
        },
        "id": "CkY7MrmItkre",
        "outputId": "9a81a602-d733-4812-cba0-fb1b5bddf612"
      },
      "execution_count": 13,
      "outputs": [
        {
          "output_type": "stream",
          "name": "stdout",
          "text": [
            "53\n",
            "75\n",
            "22\n",
            "35\n",
            "26\n",
            "25\n",
            "31\n",
            "22\n",
            "43\n",
            "64\n"
          ]
        }
      ]
    },
    {
      "cell_type": "code",
      "source": [
        "queue_"
      ],
      "metadata": {
        "colab": {
          "base_uri": "https://localhost:8080/"
        },
        "id": "z8hI3zniw0A8",
        "outputId": "41c62c31-3e78-4cb8-d727-1d2bb6bfe3a9"
      },
      "execution_count": 14,
      "outputs": [
        {
          "output_type": "execute_result",
          "data": {
            "text/plain": [
              "[]"
            ]
          },
          "metadata": {},
          "execution_count": 14
        }
      ]
    },
    {
      "cell_type": "code",
      "source": [
        "queue_ = []\n",
        "import time\n",
        "import threading"
      ],
      "metadata": {
        "id": "EXjZWnuAyW8t"
      },
      "execution_count": 15,
      "outputs": []
    },
    {
      "cell_type": "code",
      "source": [
        "# 생산자 함수\n",
        "def producer():\n",
        "  while True:\n",
        "    num = random.randrange(10)\n",
        "    queue_.append(num)\n",
        "    print('producer',num)\n",
        "    time.sleep(3)\n",
        "\n",
        "# 소비자 함수\n",
        "def consumer():\n",
        "  while True:    \n",
        "    num = queue_.pop(0)\n",
        "    print('consumer',num)\n",
        "    time.sleep(1)"
      ],
      "metadata": {
        "id": "jm_NqNy_w1kU"
      },
      "execution_count": 16,
      "outputs": []
    },
    {
      "cell_type": "code",
      "source": [
        "# th1 = threading.Thread(target=producer)\n",
        "# th2 = threading.Thread(target=consumer)\n",
        "\n",
        "# th1.start()\n",
        "# th2.start()\n",
        "\n",
        "# th1.join()\n",
        "# th2.join()"
      ],
      "metadata": {
        "id": "09aGpQYZyi-N"
      },
      "execution_count": 17,
      "outputs": []
    },
    {
      "cell_type": "code",
      "source": [
        "# 스텍은 주로 이전상태를 기억할 필요가 있을때 사용\n",
        "forwardStack,backwardStack = [], []\n",
        "# 새로운 곳으로....\n",
        "def click(url_):\n",
        "  forwardStack.append(url_)\n",
        "\n",
        "# back을 한번이상 한 상태에서 다시 앞으로 갈때\n",
        "def go():  \n",
        "  forwardStack.append( backwardStack.pop() )  \n",
        "def back():\n",
        "  backwardStack.append( forwardStack.pop())\n",
        "\n",
        "def showCurrentUrl():\n",
        "  print(forwardStack[-1])\n",
        "  "
      ],
      "metadata": {
        "id": "_b-LPqDwyj9U"
      },
      "execution_count": 42,
      "outputs": []
    },
    {
      "cell_type": "code",
      "source": [
        "click('a'); click('b'); click('c'); click('d');"
      ],
      "metadata": {
        "id": "RXnNANpz2Bae"
      },
      "execution_count": 44,
      "outputs": []
    },
    {
      "cell_type": "code",
      "source": [
        "showCurrentUrl()"
      ],
      "metadata": {
        "colab": {
          "base_uri": "https://localhost:8080/"
        },
        "id": "N2ogu_FN2S2F",
        "outputId": "c92d5b9b-b7e0-4699-b16e-e987b227d134"
      },
      "execution_count": 46,
      "outputs": [
        {
          "output_type": "stream",
          "name": "stdout",
          "text": [
            "d\n"
          ]
        }
      ]
    },
    {
      "cell_type": "code",
      "source": [
        "back();back()\n",
        "showCurrentUrl()"
      ],
      "metadata": {
        "colab": {
          "base_uri": "https://localhost:8080/"
        },
        "id": "k_FpDVGU9vSu",
        "outputId": "221dec4d-df6f-486c-8259-7f5531e4dcf5"
      },
      "execution_count": 47,
      "outputs": [
        {
          "output_type": "stream",
          "name": "stdout",
          "text": [
            "b\n"
          ]
        }
      ]
    },
    {
      "cell_type": "code",
      "source": [
        "go()\n",
        "showCurrentUrl()"
      ],
      "metadata": {
        "colab": {
          "base_uri": "https://localhost:8080/"
        },
        "id": "AA41nNPu9zbu",
        "outputId": "29b923c5-bf47-4227-a257-58f3cd12eba1"
      },
      "execution_count": 48,
      "outputs": [
        {
          "output_type": "stream",
          "name": "stdout",
          "text": [
            "c\n"
          ]
        }
      ]
    },
    {
      "cell_type": "code",
      "source": [
        "myset1 = [1,2,3,4,5]\n",
        "myset2 = [100,2,3,400,500]"
      ],
      "metadata": {
        "id": "VHS0kJGG93QF"
      },
      "execution_count": 57,
      "outputs": []
    },
    {
      "cell_type": "code",
      "source": [
        "# 두 리스트 중에 공통요소\n",
        "# myset1에서 myset2에 있는 데이터를 제외한 나머지 데이터\n",
        "# 두 리스트를 합치되... 중복은 한건만 기록"
      ],
      "metadata": {
        "id": "M_0CqKda-yym"
      },
      "execution_count": 58,
      "outputs": []
    },
    {
      "cell_type": "code",
      "source": [
        "myset1 = set(myset1)\n",
        "myset2 = set(myset2)"
      ],
      "metadata": {
        "id": "2BExXj4P_TUG"
      },
      "execution_count": 59,
      "outputs": []
    },
    {
      "cell_type": "code",
      "source": [
        "myset1 = list(myset1)\n",
        "myset2 = list(myset2)"
      ],
      "metadata": {
        "id": "gjtQ3aQA_hhX"
      },
      "execution_count": 60,
      "outputs": []
    },
    {
      "cell_type": "code",
      "source": [
        "# student1 = {\"아이디\":1111, \"이름\":\"홍길동1\", \"주소\" : \"서울시1\"}\n",
        "# student2 = {\"아이디\":222, \"이름\":\"홍길동2\", \"주소\" : \"서울시2\"}\n",
        "# student3 = {\"아이디\":333, \"이름\":\"홍길동3\", \"주소\" : \"서울시3\"}\n",
        "\n",
        "# studentList =  [student1,student2,student3]\n",
        "\n",
        "# teacher1 = {\"아이디\":1111, \"이름\":\"홍길동\", \"주소\" : \"서울시\"}\n",
        "# teacher2 = {\"아이디\":1111, \"이름\":\"홍길동\", \"주소\" : \"서울시\"}\n",
        "# teacher3 = {\"아이디\":1111, \"이름\":\"홍길동\", \"주소\" : \"서울시\"}\n",
        "\n",
        "# teacherList = [teacher1,teacher2,teacher3]\n",
        "\n",
        "uni1 = {\n",
        "    'studentLists' : [\n",
        "        {\"아이디\":1111, \"이름\":\"홍길동1\", \"주소\" : \"서울시\"},\n",
        "        {\"아이디\":1112, \"이름\":\"홍길동2\", \"주소\" : \"서울시\"},\n",
        "        {\"아이디\":1113, \"이름\":\"홍길동3\", \"주소\" : \"서울시\"}\n",
        "    ],\n",
        "    'teacherList' : [\n",
        "        {\"아이디\":1111, \"이름\":\"홍길동\", \"주소\" : \"서울시\"},\n",
        "        {},\n",
        "        {}\n",
        "    ]  \n",
        "}"
      ],
      "metadata": {
        "id": "fAXE881O_qOO"
      },
      "execution_count": 61,
      "outputs": []
    },
    {
      "cell_type": "code",
      "source": [
        "# 카운팅.... 투표시스템\n",
        "dic1 = {}\n",
        "\n",
        "dic1.keys()\n",
        "list(dic1)\n",
        "for i in dic1:\n",
        "  pass\n",
        "\n",
        "dic1.values()\n",
        "\n",
        "dic1.items()\n",
        "for a,b, in dic1.items():\n",
        "  pass"
      ],
      "metadata": {
        "id": "DWdoIVdDDWJe"
      },
      "execution_count": 62,
      "outputs": []
    },
    {
      "cell_type": "code",
      "source": [
        "# stack 과 queue의 자료구조를 리스트를 이용해서 연습\n"
      ],
      "metadata": {
        "id": "AHkaB4hQDXYw"
      },
      "execution_count": null,
      "outputs": []
    },
    {
      "cell_type": "code",
      "source": [
        "from collections import deque"
      ],
      "metadata": {
        "id": "vr766Sa6JA0C"
      },
      "execution_count": 63,
      "outputs": []
    },
    {
      "cell_type": "code",
      "source": [
        "deque_list = deque([ i for i in range(5)])"
      ],
      "metadata": {
        "id": "rbiEDshtSVE-"
      },
      "execution_count": 65,
      "outputs": []
    },
    {
      "cell_type": "code",
      "source": [
        "deque_list"
      ],
      "metadata": {
        "colab": {
          "base_uri": "https://localhost:8080/"
        },
        "id": "gW02t0aeShbd",
        "outputId": "dc8eed2d-1976-4582-de71-b64d0a1d27e9"
      },
      "execution_count": 66,
      "outputs": [
        {
          "output_type": "execute_result",
          "data": {
            "text/plain": [
              "deque([0, 1, 2, 3, 4])"
            ]
          },
          "metadata": {},
          "execution_count": 66
        }
      ]
    },
    {
      "cell_type": "code",
      "source": [
        "deque_list.append(100)"
      ],
      "metadata": {
        "id": "5Ix-eC5SSnLn"
      },
      "execution_count": 68,
      "outputs": []
    },
    {
      "cell_type": "code",
      "source": [
        "deque_list"
      ],
      "metadata": {
        "colab": {
          "base_uri": "https://localhost:8080/"
        },
        "id": "r8mmAv6_T0Lf",
        "outputId": "75c00c8f-43ba-4e31-94c5-92748c5e0b7d"
      },
      "execution_count": 69,
      "outputs": [
        {
          "output_type": "execute_result",
          "data": {
            "text/plain": [
              "deque([0, 1, 2, 3, 4, 100])"
            ]
          },
          "metadata": {},
          "execution_count": 69
        }
      ]
    },
    {
      "cell_type": "code",
      "source": [
        "deque_list.appendleft(10)"
      ],
      "metadata": {
        "id": "XuyVHip7T7fv"
      },
      "execution_count": 70,
      "outputs": []
    },
    {
      "cell_type": "code",
      "source": [
        "deque_list"
      ],
      "metadata": {
        "colab": {
          "base_uri": "https://localhost:8080/"
        },
        "id": "NXiG8U24T-e2",
        "outputId": "23630bd0-842f-43b3-d425-7a16f8d2002c"
      },
      "execution_count": 71,
      "outputs": [
        {
          "output_type": "execute_result",
          "data": {
            "text/plain": [
              "deque([10, 0, 1, 2, 3, 4, 100])"
            ]
          },
          "metadata": {},
          "execution_count": 71
        }
      ]
    },
    {
      "cell_type": "code",
      "source": [
        "deque_list.pop()"
      ],
      "metadata": {
        "colab": {
          "base_uri": "https://localhost:8080/"
        },
        "id": "JAW8Hwe8UCeX",
        "outputId": "6042435e-8cd8-4d20-a344-6e40f15e5c8a"
      },
      "execution_count": 72,
      "outputs": [
        {
          "output_type": "execute_result",
          "data": {
            "text/plain": [
              "100"
            ]
          },
          "metadata": {},
          "execution_count": 72
        }
      ]
    },
    {
      "cell_type": "code",
      "source": [
        "deque_list.popleft()"
      ],
      "metadata": {
        "colab": {
          "base_uri": "https://localhost:8080/"
        },
        "id": "7YkNr2UGUFq_",
        "outputId": "fcffa946-7d63-492a-b806-3610c2e320e1"
      },
      "execution_count": 73,
      "outputs": [
        {
          "output_type": "execute_result",
          "data": {
            "text/plain": [
              "10"
            ]
          },
          "metadata": {},
          "execution_count": 73
        }
      ]
    },
    {
      "cell_type": "code",
      "source": [
        "deque_list.clear()"
      ],
      "metadata": {
        "id": "TGfka2WNULae"
      },
      "execution_count": 74,
      "outputs": []
    },
    {
      "cell_type": "code",
      "source": [
        "deque_list.append(1)"
      ],
      "metadata": {
        "id": "s1Ym0f5vUWU-"
      },
      "execution_count": 75,
      "outputs": []
    },
    {
      "cell_type": "code",
      "source": [
        "deque_list.append(2)"
      ],
      "metadata": {
        "id": "ug86IY1RUdMP"
      },
      "execution_count": 76,
      "outputs": []
    },
    {
      "cell_type": "code",
      "source": [
        "deque_list"
      ],
      "metadata": {
        "colab": {
          "base_uri": "https://localhost:8080/"
        },
        "id": "d1HFeKajUek3",
        "outputId": "3bfe796f-d099-4c3d-9fef-687e3d12cb65"
      },
      "execution_count": 77,
      "outputs": [
        {
          "output_type": "execute_result",
          "data": {
            "text/plain": [
              "deque([1, 2])"
            ]
          },
          "metadata": {},
          "execution_count": 77
        }
      ]
    },
    {
      "cell_type": "code",
      "source": [
        "deque_list.popleft()"
      ],
      "metadata": {
        "colab": {
          "base_uri": "https://localhost:8080/"
        },
        "id": "BESu_kG6UfcP",
        "outputId": "2cd30065-ab66-4129-e292-cdd9efa0bcc8"
      },
      "execution_count": 78,
      "outputs": [
        {
          "output_type": "execute_result",
          "data": {
            "text/plain": [
              "1"
            ]
          },
          "metadata": {},
          "execution_count": 78
        }
      ]
    },
    {
      "cell_type": "code",
      "source": [
        "# append, popleft 를 사용하면 queue\n",
        "# appendleft, pop 를 사용하면 queue"
      ],
      "metadata": {
        "id": "Tt80atbbUhwP"
      },
      "execution_count": 79,
      "outputs": []
    },
    {
      "cell_type": "code",
      "source": [
        "# append, pop 을 사용하면 stack\n",
        "# appendleft, popleft 사용하면 stack"
      ],
      "metadata": {
        "id": "TF7ml45kUu3G"
      },
      "execution_count": 80,
      "outputs": []
    },
    {
      "cell_type": "code",
      "source": [
        "deque_list = deque([i for i in range(5)])\n",
        "deque_list"
      ],
      "metadata": {
        "colab": {
          "base_uri": "https://localhost:8080/"
        },
        "id": "H0F_ic9rU51_",
        "outputId": "5213370f-48b5-4b5f-eedf-e6476cbc403b"
      },
      "execution_count": 82,
      "outputs": [
        {
          "output_type": "execute_result",
          "data": {
            "text/plain": [
              "deque([0, 1, 2, 3, 4])"
            ]
          },
          "metadata": {},
          "execution_count": 82
        }
      ]
    },
    {
      "cell_type": "code",
      "source": [
        "deque(reversed(deque_list))"
      ],
      "metadata": {
        "colab": {
          "base_uri": "https://localhost:8080/"
        },
        "id": "_ZAqffYoXKYe",
        "outputId": "4a313c90-7d2d-4292-c460-639386b4e647"
      },
      "execution_count": 85,
      "outputs": [
        {
          "output_type": "execute_result",
          "data": {
            "text/plain": [
              "deque([4, 3, 2, 1, 0])"
            ]
          },
          "metadata": {},
          "execution_count": 85
        }
      ]
    },
    {
      "cell_type": "code",
      "source": [
        "dic1 = {}\n",
        "dic1['X'] = 0\n",
        "dic1['L'] = 0\n",
        "dic1['Y'] = 0\n",
        "dic1['Z'] = 0\n",
        "dic1"
      ],
      "metadata": {
        "colab": {
          "base_uri": "https://localhost:8080/"
        },
        "id": "8jpaSxL2XTYP",
        "outputId": "544d946c-7ec5-45a7-d2be-cf3f8e66f033"
      },
      "execution_count": 86,
      "outputs": [
        {
          "output_type": "execute_result",
          "data": {
            "text/plain": [
              "{'X': 0, 'L': 0, 'Y': 0, 'Z': 0}"
            ]
          },
          "metadata": {},
          "execution_count": 86
        }
      ]
    },
    {
      "cell_type": "code",
      "source": [
        "def sort_by_key(t):\n",
        "  return t[0]\n",
        "\n",
        "d = dict()\n",
        "d['X'] = 0\n",
        "d['L'] = 0\n",
        "d['Y'] = 0\n",
        "d['Z'] = 0\n",
        "sorted(d.items(), key =sort_by_key)"
      ],
      "metadata": {
        "colab": {
          "base_uri": "https://localhost:8080/"
        },
        "id": "oztBUlLqX9u_",
        "outputId": "0678b098-e83a-4a7a-ab2f-c0f8f220fcd7"
      },
      "execution_count": 95,
      "outputs": [
        {
          "output_type": "execute_result",
          "data": {
            "text/plain": [
              "[('L', 0), ('X', 0), ('Y', 0), ('Z', 0)]"
            ]
          },
          "metadata": {},
          "execution_count": 95
        }
      ]
    },
    {
      "cell_type": "code",
      "source": [
        "list_1 = [1,2,3,4,5,1,2]\n",
        "list_1.count(3)"
      ],
      "metadata": {
        "colab": {
          "base_uri": "https://localhost:8080/"
        },
        "id": "sVmr0iGMYd0f",
        "outputId": "3af7757b-b25c-4696-a034-cce6896a86e8"
      },
      "execution_count": 98,
      "outputs": [
        {
          "output_type": "execute_result",
          "data": {
            "text/plain": [
              "1"
            ]
          },
          "metadata": {},
          "execution_count": 98
        }
      ]
    },
    {
      "cell_type": "code",
      "source": [
        "from collections import Counter\n",
        "Counter(list_1)"
      ],
      "metadata": {
        "colab": {
          "base_uri": "https://localhost:8080/"
        },
        "id": "lBbHTpJFajow",
        "outputId": "cbe53159-3870-4103-cdb9-dc1787786905"
      },
      "execution_count": 100,
      "outputs": [
        {
          "output_type": "execute_result",
          "data": {
            "text/plain": [
              "Counter({1: 2, 2: 2, 3: 1, 4: 1, 5: 1})"
            ]
          },
          "metadata": {},
          "execution_count": 100
        }
      ]
    },
    {
      "cell_type": "markdown",
      "source": [
        "자료구조\n",
        "  - 스텍\n",
        "  - 큐\n",
        "  - set\n",
        "  - dequeue (stack & queue)\n",
        "  - Conter(리스트의 각 개수를 dic형태로 알려준다)\n",
        "  - dictionary 정렬(값과 키방식)\n",
        "    - 외부함수를 만들어서 key로 제공  \n",
        "    - def f(t):\n",
        "\n",
        "        return t[0]  --> key\n",
        "    - def f(t):\n",
        "    \n",
        "        return t[1]  --> value\n",
        "    - sorted(dic, key = f)      "
      ],
      "metadata": {
        "id": "rIvfvcY_bRtp"
      }
    },
    {
      "cell_type": "code",
      "source": [
        "datas = '''우리는 이 책에서 이제까지 값을 \"입력\"받을 때는 사용자가 직접 입력하는 방식을 사용했고 \"출력\"할 때는 모니터 화면에 결괏값을 출력하는 방식을 사용했다. 하지만 입출력 방법이 꼭 이것만 있는 것은 아니다. 이번에는 파일을 통한 입출력 방법에 대해 알아보자. 여기에서는 파일을 새로 만든 다음 프로그램이 만든 결괏값을 새 파일에 적어볼 것이다. 또 파일에 적은 내용을 읽고, 새로운 내용을 추가하는 방법도 알아볼 것이다.'''"
      ],
      "metadata": {
        "id": "LZOpqID4avSf"
      },
      "execution_count": 101,
      "outputs": []
    },
    {
      "cell_type": "code",
      "source": [
        "test = Counter(datas.split())"
      ],
      "metadata": {
        "id": "hBKjyr1pb4rX"
      },
      "execution_count": 105,
      "outputs": []
    },
    {
      "cell_type": "code",
      "source": [
        "# 정렬 \n",
        "# 1 value 기준으로 정렬\n",
        "# 2 key 기준으로 정렬"
      ],
      "metadata": {
        "id": "jkiGdksagR13"
      },
      "execution_count": 104,
      "outputs": []
    },
    {
      "cell_type": "code",
      "source": [
        "def sorted_by_key(t):\n",
        "  return t[0]\n",
        "\n",
        "sorted_key = sorted(test, key=sorted_by_key)\n",
        "sorted_value = sorted(test, key=test.get)"
      ],
      "metadata": {
        "id": "zbvqU0fEgbTn"
      },
      "execution_count": 113,
      "outputs": []
    },
    {
      "cell_type": "code",
      "source": [
        "sorted_key"
      ],
      "metadata": {
        "colab": {
          "base_uri": "https://localhost:8080/"
        },
        "id": "nTfTE-7UhSuf",
        "outputId": "a6fc6890-bb58-4a93-b851-3de03ca1cbbf"
      },
      "execution_count": 112,
      "outputs": [
        {
          "output_type": "execute_result",
          "data": {
            "text/plain": [
              "['\"입력\"받을',\n",
              " '\"출력\"할',\n",
              " '값을',\n",
              " '것은',\n",
              " '것이다.',\n",
              " '결괏값을',\n",
              " '꼭',\n",
              " '내용을',\n",
              " '다음',\n",
              " '대해',\n",
              " '때는',\n",
              " '또',\n",
              " '만든',\n",
              " '모니터',\n",
              " '방식을',\n",
              " '방법이',\n",
              " '방법에',\n",
              " '방법도',\n",
              " '사용자가',\n",
              " '사용했고',\n",
              " '사용했다.',\n",
              " '새로',\n",
              " '새',\n",
              " '새로운',\n",
              " '아니다.',\n",
              " '알아보자.',\n",
              " '알아볼',\n",
              " '여기에서는',\n",
              " '우리는',\n",
              " '이',\n",
              " '이제까지',\n",
              " '이것만',\n",
              " '이번에는',\n",
              " '읽고,',\n",
              " '입력하는',\n",
              " '입출력',\n",
              " '있는',\n",
              " '적어볼',\n",
              " '적은',\n",
              " '직접',\n",
              " '책에서',\n",
              " '추가하는',\n",
              " '출력하는',\n",
              " '통한',\n",
              " '파일을',\n",
              " '파일에',\n",
              " '프로그램이',\n",
              " '하지만',\n",
              " '화면에']"
            ]
          },
          "metadata": {},
          "execution_count": 112
        }
      ]
    },
    {
      "cell_type": "code",
      "source": [],
      "metadata": {
        "id": "cZNmYcBYhshI"
      },
      "execution_count": null,
      "outputs": []
    }
  ]
}