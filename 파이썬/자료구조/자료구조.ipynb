{
  "nbformat": 4,
  "nbformat_minor": 0,
  "metadata": {
    "colab": {
      "provenance": []
    },
    "kernelspec": {
      "name": "python3",
      "display_name": "Python 3"
    },
    "language_info": {
      "name": "python"
    }
  },
  "cells": [
    {
      "cell_type": "code",
      "execution_count": null,
      "metadata": {
        "id": "81J0ShZhJ2Hk"
      },
      "outputs": [],
      "source": [
        "def func1(data):\n",
        "  return data + func2(data+1)\n",
        "def func2(data):\n",
        "  return data + func3(data+1)\n",
        "def func3(data):\n",
        "  return data\n",
        "\n",
        "print(func1(1))\n"
      ]
    },
    {
      "cell_type": "code",
      "source": [
        "def func(data):\n",
        "  if data == 3:\n",
        "    return data\n",
        "  return data + func(data+1)"
      ],
      "metadata": {
        "id": "_R4ivpGxS1iz"
      },
      "execution_count": null,
      "outputs": []
    },
    {
      "cell_type": "code",
      "source": [
        "# 2장의 1번\n",
        "def price(su=0,dan=0):\n",
        "  return su*dan\n",
        "\n",
        "def func1(x):\n",
        "  return 2.5*(x**2) + 3.3*x + 6\n",
        "\n",
        "def calcKal(fat,carbohytdrate, protein):\n",
        "  return fat*9 + carbohytdrate*4 + protein*4\n",
        "\n",
        "def firstWord(word1,word2,word3):\n",
        "  return word1[0].upper() +word2[0].upper()+word3[0].upper()"
      ],
      "metadata": {
        "id": "H-W3Lv2vT4qr"
      },
      "execution_count": 3,
      "outputs": []
    },
    {
      "cell_type": "code",
      "source": [
        "def myFunc(x):\n",
        "  if x >=10:\n",
        "    return 10000  "
      ],
      "metadata": {
        "id": "D33_4lmPWcBb"
      },
      "execution_count": 5,
      "outputs": []
    },
    {
      "cell_type": "code",
      "source": [
        "x = int(input(\"수하물의 무게를 입력하세요:\"))\n",
        "y = myFunc(x)\n",
        "if y != None:\n",
        "  print(\"수수료는:\",y)\n",
        "else:\n",
        "  print(\"수수료는 없습니다.\")  "
      ],
      "metadata": {
        "colab": {
          "base_uri": "https://localhost:8080/"
        },
        "id": "9DnzEQtLWcEN",
        "outputId": "051a1813-4bcc-42fb-bad7-6af7798c8b61"
      },
      "execution_count": 8,
      "outputs": [
        {
          "output_type": "stream",
          "name": "stdout",
          "text": [
            "수하물의 무게를 입력하세요:12\n",
            "수수료는: 10000\n"
          ]
        }
      ]
    },
    {
      "cell_type": "code",
      "source": [
        "def myFunc2(x):\n",
        "  return (x // 10) * 10000"
      ],
      "metadata": {
        "id": "Z7fEh6AsiDBy"
      },
      "execution_count": null,
      "outputs": []
    },
    {
      "cell_type": "code",
      "source": [
        "# 1과 100사이의 3의 배수 이면서 2의 배수면 안된다...\n",
        "hap = 0\n",
        "for x in range(1,101):\n",
        "  if (x % 3 == 0) and (x % 2 != 0):\n",
        "    print(x,end=' ')\n",
        "    hap += x\n",
        "print()\n",
        "print(\"누적합:\",hap)  \n",
        "      "
      ],
      "metadata": {
        "colab": {
          "base_uri": "https://localhost:8080/"
        },
        "id": "-UlDb822WcK1",
        "outputId": "dcbbf3fb-7c07-423c-b9d0-214a5e358a17"
      },
      "execution_count": 9,
      "outputs": [
        {
          "output_type": "stream",
          "name": "stdout",
          "text": [
            "3 9 15 21 27 33 39 45 51 57 63 69 75 81 87 93 99 \n",
            "누적합: 867\n"
          ]
        }
      ]
    },
    {
      "cell_type": "code",
      "source": [
        "result = [ x for x in range(1,101) if (x % 3 == 0) and (x % 2 != 0) ]\n",
        "for i in result:\n",
        "  print(i,end=' ')\n",
        "print()  \n",
        "print(\"누적합:\",sum(result))"
      ],
      "metadata": {
        "colab": {
          "base_uri": "https://localhost:8080/"
        },
        "id": "eu8w_sCdWcOT",
        "outputId": "bf8e40db-81eb-465f-deb0-1af6a72133cd"
      },
      "execution_count": 11,
      "outputs": [
        {
          "output_type": "stream",
          "name": "stdout",
          "text": [
            "3 9 15 21 27 33 39 45 51 57 63 69 75 81 87 93 99 \n",
            "누적합: 867\n"
          ]
        }
      ]
    },
    {
      "cell_type": "code",
      "source": [
        "str_data = '''안녕하세요 파이썬 세계로 오신걸\n",
        "환영합니다.\n",
        "파이썬은 비단뱀 처럼 매력적인 언어입니다.'''"
      ],
      "metadata": {
        "id": "4GXDvwepkZGY"
      },
      "execution_count": 12,
      "outputs": []
    },
    {
      "cell_type": "code",
      "source": [
        "print(str_data)"
      ],
      "metadata": {
        "colab": {
          "base_uri": "https://localhost:8080/"
        },
        "id": "aqyPOGitlU6Y",
        "outputId": "8b64f1fe-143e-402b-cb5e-a79b775de5d5"
      },
      "execution_count": 13,
      "outputs": [
        {
          "output_type": "stream",
          "name": "stdout",
          "text": [
            "안녕하세요 파이썬 세계로 오신걸\n",
            "환영합니다.\n",
            "파이썬은 비단뱀 처럼 매력적인 언어입니다.\n"
          ]
        }
      ]
    },
    {
      "cell_type": "code",
      "source": [
        "list_1 = str_data.split()\n",
        "for i in list_1:\n",
        "  print(i)\n",
        "print(\"단어개수:\",len( list_1 ))  "
      ],
      "metadata": {
        "colab": {
          "base_uri": "https://localhost:8080/"
        },
        "id": "eEawLlTalWfv",
        "outputId": "ca34100c-774e-4b72-e051-83a3c0effd41"
      },
      "execution_count": 16,
      "outputs": [
        {
          "output_type": "stream",
          "name": "stdout",
          "text": [
            "안녕하세요\n",
            "파이썬\n",
            "세계로\n",
            "오신걸\n",
            "환영합니다.\n",
            "파이썬은\n",
            "비단뱀\n",
            "처럼\n",
            "매력적인\n",
            "언어입니다.\n",
            "단어개수: 10\n"
          ]
        }
      ]
    },
    {
      "cell_type": "code",
      "source": [
        "mydata = '''스위스에서 오셔서 산새들이 속삭이는 산림 숲속에서 숫사슴을 샅샅이 수색해 식사하고 산 속 샘물로 세수하며 사는 삼십 삼살 샴쌍둥이 미세스 스미스씨와 미스터 심슨씨는 삼성 설립 사장의 회사 자산 상속자인 사촌의 사돈 김상속씨의 숫기있고 숭글숭글한 숫색시 삼성소속 식산업 종사자 김삼순씨를 만나서 삼성 수산물 운송수송 수색 실장에게 스위스에서 숫사슴을 샅샅이 수색했던 것을 인정받아 스위스 수산물 운송 수송 과정에서 상해 삭힌 냄새가 나는 수산물을 수색해내는 삼성 소속 수산물 운송수송 수색 사원이 되서 살신성인으로 쉴새없이 수색하다 산성수에 손이 산화되어 수술실에서 수술하게 됐는데 쉽사리 수술이 잘 안돼서 심신에 좋은 산삼을 달여 슈르릅 들이켰더니 힘이 샘솟아 다시 몸사려 수색하다 삼성 소속 식산업 종사자 김삼순씨와 셋이서 삼삼오오 삼월 삼십 삼일 세시 삼십 삼분 삼십 삼초에 쉰 세살 김식사씨네 시내 스시식당에 식사하러 가서 싱싱한 샥스핀 스시와 삼색샤시참치스시를 살사소스와 슥슥삭삭 샅샅이 비빈 것과 스위스산 소세지를 샤샤샥 싹쓸어 입속에 쑤쎠넣어 살며시 삼키고 스산한 새벽 세시 삼십 삼분 삼십 삼초에 산림 숲속으로 사라졌다.'''"
      ],
      "metadata": {
        "id": "FLLXECavlYKg"
      },
      "execution_count": 22,
      "outputs": []
    },
    {
      "cell_type": "code",
      "source": [
        "# hint dictionary의 특징을 잘 활용해서 각 단어의 빈도수를 구해라 \n",
        "list1 = mydata.split()\n",
        "dic1 = {}\n",
        "for i in list1:\n",
        "  if i not in dic1.keys():  # 키가 없으면 키를 등록한다.\n",
        "    dic1[i] = 1\n",
        "  else:   \n",
        "    dic1[i] += 1          # 해당 키에대해 값을 증가한다."
      ],
      "metadata": {
        "id": "7-8WAMJCmWaw"
      },
      "execution_count": 35,
      "outputs": []
    },
    {
      "cell_type": "code",
      "source": [
        "sorted_keys = sorted(dic1,key=dic1.get, reverse=True)\n",
        "{ i:dic1[i] for i in sorted_keys[:5]}"
      ],
      "metadata": {
        "colab": {
          "base_uri": "https://localhost:8080/"
        },
        "id": "J3Xs9BhHq0fv",
        "outputId": "4fdc3f7c-dab5-4f3a-abdc-61aed0379fb1"
      },
      "execution_count": 48,
      "outputs": [
        {
          "output_type": "execute_result",
          "data": {
            "text/plain": [
              "{'삼십': 6, '삼성': 4, '샅샅이': 3, '수산물': 3, '스위스에서': 2}"
            ]
          },
          "metadata": {},
          "execution_count": 48
        }
      ]
    },
    {
      "cell_type": "code",
      "source": [
        "# 단어를 카운트했으면.... 2개이상 반복된 문장들만 추출"
      ],
      "metadata": {
        "id": "RsCQuxvdwjPF"
      },
      "execution_count": null,
      "outputs": []
    }
  ]
}