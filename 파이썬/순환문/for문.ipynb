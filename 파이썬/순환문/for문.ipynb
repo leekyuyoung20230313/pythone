{
  "nbformat": 4,
  "nbformat_minor": 0,
  "metadata": {
    "colab": {
      "provenance": []
    },
    "kernelspec": {
      "name": "python3",
      "display_name": "Python 3"
    },
    "language_info": {
      "name": "python"
    }
  },
  "cells": [
    {
      "cell_type": "code",
      "execution_count": null,
      "metadata": {
        "id": "O7E2F86WvUys"
      },
      "outputs": [],
      "source": []
    },
    {
      "cell_type": "markdown",
      "source": [
        "while\n",
        "  - 순환횟수와 관계없는경우\n",
        "  - 특정 조건을 만족할때 까지\n",
        "  - 예를들어 설정온도 맞추고 해당 온도가 될때까지 시스템 가동\n",
        "\n",
        "for\n",
        "  - 시퀀스 자료형의 데이터를 순차적으로 접근할때\n",
        "  - 순환 횟수가 정해져 있다\n",
        "  - 설정온도를 맞췄는데.. 시스템을 대략 10번 가동"
      ],
      "metadata": {
        "id": "XRjTdOrPvmHB"
      }
    },
    {
      "cell_type": "code",
      "source": [
        "list_1 = [1,1,2,5,7,8]\n",
        "list_1"
      ],
      "metadata": {
        "colab": {
          "base_uri": "https://localhost:8080/"
        },
        "id": "zuQ1w_B_vsTZ",
        "outputId": "4d4791b4-c8a9-4cf4-f6ae-183aaa8889e9"
      },
      "execution_count": 3,
      "outputs": [
        {
          "output_type": "execute_result",
          "data": {
            "text/plain": [
              "[1, 1, 2, 5, 7, 8]"
            ]
          },
          "metadata": {},
          "execution_count": 3
        }
      ]
    },
    {
      "cell_type": "code",
      "source": [
        "i = 0\n",
        "while i < len(list_1):\n",
        "  print(list_1[i] *5,end = '\\t')\n",
        "  i += 1"
      ],
      "metadata": {
        "colab": {
          "base_uri": "https://localhost:8080/"
        },
        "id": "AGbcIl8Ow4n4",
        "outputId": "7cec4011-c9ec-4eca-894e-b691e1d80101"
      },
      "execution_count": 9,
      "outputs": [
        {
          "output_type": "stream",
          "name": "stdout",
          "text": [
            "5\t5\t10\t25\t35\t40\t"
          ]
        }
      ]
    },
    {
      "cell_type": "code",
      "source": [
        "for abc in list_1:\n",
        "  print(abc*5,end='\\t')"
      ],
      "metadata": {
        "colab": {
          "base_uri": "https://localhost:8080/"
        },
        "id": "AU0sLtNixK3v",
        "outputId": "deb65872-3341-4d12-cad5-f98679ed2de7"
      },
      "execution_count": 11,
      "outputs": [
        {
          "output_type": "stream",
          "name": "stdout",
          "text": [
            "5\t5\t10\t25\t35\t40\t"
          ]
        }
      ]
    },
    {
      "cell_type": "markdown",
      "source": [
        "for 순환문은 자료를 변수로 받아오기때문에 변경이 안된다..\n",
        "\n",
        "while 형태에서 인덱스방식으로 접근하면 데이터 변경도 가능하다"
      ],
      "metadata": {
        "id": "YyWSAmfJyi9w"
      }
    },
    {
      "cell_type": "code",
      "source": [
        "# while : 사용자로부터 숫자를 계속 입력받아서  그 합이 100을 넘을때 까지 숫자를 입력 받아라\n",
        "\n",
        "# for 1부터 10 까지 더하세요  1+2+3+4+5+6+7+8+9+10"
      ],
      "metadata": {
        "id": "q2yPy2YYyM12"
      },
      "execution_count": 13,
      "outputs": []
    },
    {
      "cell_type": "code",
      "source": [
        "total = 0\n",
        "while True:\n",
        "  total += int(input(\"정수입력 : \"))\n",
        "  if total > 100:\n",
        "    break"
      ],
      "metadata": {
        "id": "IEf0qGRpzvh_"
      },
      "execution_count": null,
      "outputs": []
    },
    {
      "cell_type": "code",
      "source": [
        "total = 0\n",
        "while total < 100:\n",
        "  total += int(input(\"정수입력 : \"))"
      ],
      "metadata": {
        "id": "jx7D7TXW2Y0g"
      },
      "execution_count": null,
      "outputs": []
    },
    {
      "cell_type": "code",
      "source": [
        "total = 0\n",
        "for i in range(1, 11):\n",
        "  total += i\n",
        "print(total)"
      ],
      "metadata": {
        "colab": {
          "base_uri": "https://localhost:8080/"
        },
        "id": "LReajcTY2ode",
        "outputId": "bc86cccc-07a7-4586-e0da-2b7ed5ac73bf"
      },
      "execution_count": 17,
      "outputs": [
        {
          "output_type": "stream",
          "name": "stdout",
          "text": [
            "55\n"
          ]
        }
      ]
    },
    {
      "cell_type": "markdown",
      "source": [
        "continue <-> break"
      ],
      "metadata": {
        "id": "-A5UtWB83fmY"
      }
    },
    {
      "cell_type": "code",
      "source": [
        "for i in range(10):  \n",
        "  if i == 5:\n",
        "    continue\n",
        "  print(i)\n",
        "  print(\"순환문 동작중\",i)"
      ],
      "metadata": {
        "colab": {
          "base_uri": "https://localhost:8080/"
        },
        "id": "5SWvmvHb2xt3",
        "outputId": "2782063b-5194-4def-e6e0-d2db6095da8c"
      },
      "execution_count": 20,
      "outputs": [
        {
          "output_type": "stream",
          "name": "stdout",
          "text": [
            "0\n",
            "순환문 동작중 0\n",
            "1\n",
            "순환문 동작중 1\n",
            "2\n",
            "순환문 동작중 2\n",
            "3\n",
            "순환문 동작중 3\n",
            "4\n",
            "순환문 동작중 4\n",
            "6\n",
            "순환문 동작중 6\n",
            "7\n",
            "순환문 동작중 7\n",
            "8\n",
            "순환문 동작중 8\n",
            "9\n",
            "순환문 동작중 9\n"
          ]
        }
      ]
    },
    {
      "cell_type": "code",
      "source": [
        "for i in range(10):\n",
        "  if i % 2 == 0:\n",
        "    continue\n",
        "  \n",
        "  print(i)"
      ],
      "metadata": {
        "colab": {
          "base_uri": "https://localhost:8080/"
        },
        "id": "XxOLQKJf221N",
        "outputId": "bbd184ff-09b9-4a0b-863d-d9602a06fe91"
      },
      "execution_count": 21,
      "outputs": [
        {
          "output_type": "stream",
          "name": "stdout",
          "text": [
            "1\n",
            "3\n",
            "5\n",
            "7\n",
            "9\n"
          ]
        }
      ]
    },
    {
      "cell_type": "code",
      "source": [
        "for i in range(1,21):\n",
        "  print(i,end='\\t')\n",
        "  if i % 5 == 0:\n",
        "    print()"
      ],
      "metadata": {
        "colab": {
          "base_uri": "https://localhost:8080/"
        },
        "id": "Ktrg2k0P-Dyj",
        "outputId": "b4f99207-0f7b-47b7-9bbb-f2ec7b4c0cee"
      },
      "execution_count": 3,
      "outputs": [
        {
          "output_type": "stream",
          "name": "stdout",
          "text": [
            "1\t2\t3\t4\t5\t\n",
            "6\t7\t8\t9\t10\t\n",
            "11\t12\t13\t14\t15\t\n",
            "16\t17\t18\t19\t20\t\n"
          ]
        }
      ]
    },
    {
      "cell_type": "code",
      "source": [
        "# 0 -> 1\n",
        "# 1 -> 6\n",
        "# 2 -> 11\n",
        "# 3 -> 16\n",
        "for i in range(4):\n",
        "  for j in range((i*5)+1, (i+1)*5+1  ):\n",
        "    print( j, end='\\t' )\n",
        "  print()"
      ],
      "metadata": {
        "colab": {
          "base_uri": "https://localhost:8080/"
        },
        "id": "2yV84nrh-hjG",
        "outputId": "70a6e7d3-de62-4612-8adf-46219df48e88"
      },
      "execution_count": 6,
      "outputs": [
        {
          "output_type": "stream",
          "name": "stdout",
          "text": [
            "1\t2\t3\t4\t5\t\n",
            "6\t7\t8\t9\t10\t\n",
            "11\t12\t13\t14\t15\t\n",
            "16\t17\t18\t19\t20\t\n"
          ]
        }
      ]
    },
    {
      "cell_type": "code",
      "source": [
        "# *****\n",
        "# *****\n",
        "# *****\n",
        "# *****\n",
        "\n",
        "# for i in range(4):\n",
        "#   for j in range(5):\n",
        "#     print('*',end='')\n",
        "#   print()\n",
        "for i in range(4):\n",
        "  print('*'*5,end='')\n",
        "  print()\n",
        "\n",
        "\n",
        "# *\n",
        "# **\n",
        "# ***\n",
        "# ****\n",
        "# *****\n",
        "print(\"=\"*20)\n",
        "\n",
        "for i in range(5):\n",
        "  for j in range(i+1):\n",
        "    print(\"*\",end='')\n",
        "  print()\n",
        "\n",
        "print(\"=\"*20)\n",
        "# *****\n",
        "# ****\n",
        "# ***\n",
        "# **\n",
        "# *\n",
        "# 0  5\n",
        "# 1  4\n",
        "# 2  3\n",
        "# 3  2\n",
        "# 4  1\n",
        "for i in range(5):\n",
        "  for j in range(5-i):\n",
        "    print(\"*\",end='')\n",
        "  print()\n",
        "\n",
        "print(\"=\"*20)\n",
        "#0     *      1   3\n",
        "#1    ***     3   2\n",
        "#2   *****    5   1\n",
        "#3  *******   7   0\n",
        "for i in range(4):\n",
        "  print(\" \"*(3-i), end='')\n",
        "  for j in range(i*2+1):    \n",
        "    print(\"*\",end='')\n",
        "  print()"
      ],
      "metadata": {
        "colab": {
          "base_uri": "https://localhost:8080/"
        },
        "id": "4WOYebU65EI2",
        "outputId": "4b6a25d4-ed2f-4ef2-af5f-72f4390403b4"
      },
      "execution_count": 4,
      "outputs": [
        {
          "output_type": "stream",
          "name": "stdout",
          "text": [
            "*****\n",
            "*****\n",
            "*****\n",
            "*****\n",
            "====================\n",
            "*\n",
            "**\n",
            "***\n",
            "****\n",
            "*****\n",
            "====================\n",
            "*****\n",
            "****\n",
            "***\n",
            "**\n",
            "*\n",
            "====================\n",
            "   *\n",
            "  ***\n",
            " *****\n",
            "*******\n"
          ]
        }
      ]
    },
    {
      "cell_type": "code",
      "source": [
        "for i in range(4):  # 0 ~ 3\n",
        "  # for j in range(4-i):# 4,3,2,1\n",
        "  #   continue\n",
        "  print(\" \"*(4-i), \"*\"*(2*i+1))"
      ],
      "metadata": {
        "colab": {
          "base_uri": "https://localhost:8080/"
        },
        "id": "H9y-MLKQJdSp",
        "outputId": "2289b1e9-969a-4fa9-ea34-859be50d5741"
      },
      "execution_count": 16,
      "outputs": [
        {
          "output_type": "stream",
          "name": "stdout",
          "text": [
            "j 3\n",
            "    *\n",
            "j 2\n",
            "   ***\n",
            "j 1\n",
            "  *****\n",
            "j 0\n",
            " *******\n"
          ]
        }
      ]
    },
    {
      "cell_type": "markdown",
      "source": [
        "자주 사용하는 라이브러리\n",
        "  - range\n",
        "  - map\n",
        "  - list\n",
        "  - set\n",
        "  - tuple\n",
        "  - dic\n",
        "  - zip\n",
        "  - 순환문 for"
      ],
      "metadata": {
        "id": "CitUFlLKOVxA"
      }
    },
    {
      "cell_type": "markdown",
      "source": [
        "리스트 컴프리핸션   list comprehansion\n",
        "  - 단순한 for문을 한줄로 표현해서 가독성을 높이고 성능도 향상\n",
        "  - for문 안에 한줄의 로직 또는 if를 사용해도 한개의 명령어 if else"
      ],
      "metadata": {
        "id": "LhZGSJQEOkmF"
      }
    },
    {
      "cell_type": "code",
      "source": [
        "# 1 부터 10  1 2 3 4 5 6 7 8 9 10 \n",
        "list_1 = list(range(1,11))\n",
        "list_1"
      ],
      "metadata": {
        "colab": {
          "base_uri": "https://localhost:8080/"
        },
        "id": "UZWbw1CxMPGV",
        "outputId": "fe1dca90-2083-466d-9748-5c409901ea91"
      },
      "execution_count": 22,
      "outputs": [
        {
          "output_type": "execute_result",
          "data": {
            "text/plain": [
              "[1, 2, 3, 4, 5, 6, 7, 8, 9, 10]"
            ]
          },
          "metadata": {},
          "execution_count": 22
        }
      ]
    },
    {
      "cell_type": "code",
      "source": [
        "# list_1에 각 값에 10을 곱한 값을 가지는 새로운 리스트를 생성\n",
        "new_list = []\n",
        "for i in list_1:\n",
        "  new_list.append(i*10)\n",
        "\n",
        "new_list  "
      ],
      "metadata": {
        "colab": {
          "base_uri": "https://localhost:8080/"
        },
        "id": "u2KVlAT3PFA1",
        "outputId": "7ae1728a-5a24-43a7-acb5-522415b288a7"
      },
      "execution_count": 24,
      "outputs": [
        {
          "output_type": "execute_result",
          "data": {
            "text/plain": [
              "[10, 20, 30, 40, 50, 60, 70, 80, 90, 100]"
            ]
          },
          "metadata": {},
          "execution_count": 24
        }
      ]
    },
    {
      "cell_type": "code",
      "source": [
        "new_list = [ i*10 for i in list_1 ]"
      ],
      "metadata": {
        "colab": {
          "base_uri": "https://localhost:8080/"
        },
        "id": "0NdfORnZPUm4",
        "outputId": "6f19e40a-c087-4345-b393-833f474286de"
      },
      "execution_count": 25,
      "outputs": [
        {
          "output_type": "execute_result",
          "data": {
            "text/plain": [
              "[10, 20, 30, 40, 50, 60, 70, 80, 90, 100]"
            ]
          },
          "metadata": {},
          "execution_count": 25
        }
      ]
    },
    {
      "cell_type": "code",
      "source": [
        "[ i for i in list_1 ]"
      ],
      "metadata": {
        "colab": {
          "base_uri": "https://localhost:8080/"
        },
        "id": "8M7C_AHSPos0",
        "outputId": "f7381edb-6ead-457b-d757-77fbe56208d3"
      },
      "execution_count": 26,
      "outputs": [
        {
          "output_type": "execute_result",
          "data": {
            "text/plain": [
              "[1, 2, 3, 4, 5, 6, 7, 8, 9, 10]"
            ]
          },
          "metadata": {},
          "execution_count": 26
        }
      ]
    },
    {
      "cell_type": "code",
      "source": [
        "new_list=[]\n",
        "for i in list_1:\n",
        "  if i% 2 == 0:\n",
        "    new_list.append(i)\n",
        "\n",
        "new_list"
      ],
      "metadata": {
        "colab": {
          "base_uri": "https://localhost:8080/"
        },
        "id": "zDtdFj99P9_l",
        "outputId": "735622ae-c670-4ef3-beed-8c837c02f881"
      },
      "execution_count": 27,
      "outputs": [
        {
          "output_type": "execute_result",
          "data": {
            "text/plain": [
              "[2, 4, 6, 8, 10]"
            ]
          },
          "metadata": {},
          "execution_count": 27
        }
      ]
    },
    {
      "cell_type": "code",
      "source": [
        "[i for i in list_1 if i%2==0 ]"
      ],
      "metadata": {
        "colab": {
          "base_uri": "https://localhost:8080/"
        },
        "id": "DKL0_NF2QQCd",
        "outputId": "c6e7c57e-a8b4-4596-f168-4ac4a60aafe5"
      },
      "execution_count": 28,
      "outputs": [
        {
          "output_type": "execute_result",
          "data": {
            "text/plain": [
              "[2, 4, 6, 8, 10]"
            ]
          },
          "metadata": {},
          "execution_count": 28
        }
      ]
    },
    {
      "cell_type": "code",
      "source": [
        "new_list=[]\n",
        "for i in list_1:\n",
        "  if i%2==0:\n",
        "    new_list.append(i*2)\n",
        "  else:\n",
        "    new_list.append(i)\n",
        "new_list    "
      ],
      "metadata": {
        "colab": {
          "base_uri": "https://localhost:8080/"
        },
        "id": "1XGbguUYQlFu",
        "outputId": "0f3a979a-abb5-49a2-ece7-d0633c5048c2"
      },
      "execution_count": 29,
      "outputs": [
        {
          "output_type": "execute_result",
          "data": {
            "text/plain": [
              "[1, 4, 3, 8, 5, 12, 7, 16, 9, 20]"
            ]
          },
          "metadata": {},
          "execution_count": 29
        }
      ]
    },
    {
      "cell_type": "code",
      "source": [
        "[ i*2  if i%2==0 else i  for i in list_1  ]"
      ],
      "metadata": {
        "colab": {
          "base_uri": "https://localhost:8080/"
        },
        "id": "g_S7JRpRRDD-",
        "outputId": "df223f80-2cbd-49f1-affd-a442f44e3aef"
      },
      "execution_count": 30,
      "outputs": [
        {
          "output_type": "execute_result",
          "data": {
            "text/plain": [
              "[1, 4, 3, 8, 5, 12, 7, 16, 9, 20]"
            ]
          },
          "metadata": {},
          "execution_count": 30
        }
      ]
    },
    {
      "cell_type": "code",
      "source": [],
      "metadata": {
        "id": "fbA4fYFNRWad"
      },
      "execution_count": null,
      "outputs": []
    }
  ]
}