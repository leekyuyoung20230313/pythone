{
  "nbformat": 4,
  "nbformat_minor": 0,
  "metadata": {
    "colab": {
      "provenance": []
    },
    "kernelspec": {
      "name": "python3",
      "display_name": "Python 3"
    },
    "language_info": {
      "name": "python"
    }
  },
  "cells": [
    {
      "cell_type": "code",
      "execution_count": null,
      "metadata": {
        "id": "ApwlpfLzKEBO"
      },
      "outputs": [],
      "source": []
    },
    {
      "cell_type": "markdown",
      "source": [
        "- 변수\n",
        "  - 내용\n",
        "  - 몇가지 예제\n",
        "- 자료형\n",
        "- 조건문\n",
        "- 반복문\n",
        "- 문자열\n",
        "- 자주사용하는 파이썬 함수들 map,filter, join, reduce\n",
        "- 리스트 컴프리 핸션\n",
        "- 클래스\n",
        "- 상속\n",
        "- 예외처리\n",
        "- assert"
      ],
      "metadata": {
        "id": "q4yvUf7rKHIK"
      }
    },
    {
      "cell_type": "code",
      "source": [
        "T = 'baabbaaabcbaccbabacccaa'\n",
        "dict1 = {i:0 for i in T}\n",
        "dict1"
      ],
      "metadata": {
        "colab": {
          "base_uri": "https://localhost:8080/"
        },
        "id": "bpBkkUEKKhuc",
        "outputId": "dcd727cf-4ed6-4dcb-e84f-3b38365ee268"
      },
      "execution_count": 24,
      "outputs": [
        {
          "output_type": "execute_result",
          "data": {
            "text/plain": [
              "{'b': 0, 'a': 0, 'c': 0}"
            ]
          },
          "metadata": {},
          "execution_count": 24
        }
      ]
    },
    {
      "cell_type": "code",
      "source": [
        "comp = ''\n",
        "isfirst = False\n",
        "for data in T:\n",
        "  if data == comp:\n",
        "    if isfirst: \n",
        "      dict1[data] += 1    \n",
        "      isfirst = False\n",
        "    dict1[data] += 1\n",
        "  else:\n",
        "    isfirst = True\n",
        "    comp = data     \n",
        "dict1    \n"
      ],
      "metadata": {
        "colab": {
          "base_uri": "https://localhost:8080/"
        },
        "id": "BWb3zIoXZIFS",
        "outputId": "479da418-22dd-453e-c56d-49de363c904e"
      },
      "execution_count": 25,
      "outputs": [
        {
          "output_type": "execute_result",
          "data": {
            "text/plain": [
              "{'b': 2, 'a': 7, 'c': 5}"
            ]
          },
          "metadata": {},
          "execution_count": 25
        }
      ]
    },
    {
      "cell_type": "markdown",
      "source": [
        "파이썬 미니 프로젝트 ( 클래스를 사용해서 객체지향으로..)\n",
        "\n",
        "  - 1.로또 번호 생성기  (게임수 입력하면 입력한 갯수만큼)\n",
        "    - 임의의 수를 당첨번호라고 정하고 생성한 로또번호에 대해 당첨여부 및 등수 출력 해 보기\n",
        "  - 2.텍스트 분석기 : 단어개수 카운팅해서 정렬해서 출력\n",
        "  - 3.퀴즈 프로그램 : 랜덤하게 퀴즈를 내서 맞추는\n",
        "  - 4.계산기 4칙연산을 람다를 응용해서 만들기       "
      ],
      "metadata": {
        "id": "P34vwplit-oU"
      }
    },
    {
      "cell_type": "code",
      "source": [
        "import random\n",
        "class Lotto(object):\n",
        "  def __init__(self):\n",
        "    lottonum = list(range(1,46+1))   \n",
        "    random.shuffle(lottonum)     \n",
        "    self.gamenumber = None\n",
        "    self.jungdab = lottonum[:6]\n",
        "    self.generates = None\n",
        "    print(\"정답 : \",self.jungdab)\n",
        "  def generator(self):    \n",
        "    self.generates = []\n",
        "    for i in range(self.gamenumber):\n",
        "      lottonum = list(range(1,46+1))        \n",
        "      random.shuffle(lottonum)\n",
        "      self.generates.append(lottonum[:6])\n",
        "    return self.generates\n",
        "\n",
        "  def inputGameNumber(self):\n",
        "    for i in range(10):\n",
        "      try:\n",
        "        self.gamenumber = int(input(\"게임수를 입력하세요 : \"))        \n",
        "        assert self.gamenumber > 0\n",
        "        break\n",
        "      except Exception as e:\n",
        "        print(e) \n",
        "  def checkLotto(self):\n",
        "    # 3개이상 맞춰야 당첨     \n",
        "    for idx, listdata in enumerate(self.generates):  # 게임리스트\n",
        "      count,countlist = 0,[]\n",
        "      for i in self.jungdab:      # 정답리스트      \n",
        "        if i in listdata:       # 정답의 각 번호가 게임리스트에 있으면\n",
        "          count += 1\n",
        "          countlist.append(i)\n",
        "      print(f'{idx+1}게임의 맞춘수 : {count} 번호:{countlist}')\n"
      ],
      "metadata": {
        "id": "uXtcWUU9aUbU"
      },
      "execution_count": 53,
      "outputs": []
    },
    {
      "cell_type": "code",
      "source": [
        "r = Lotto()\n",
        "num = r.inputGameNumber()\n",
        "print(r.generator())\n",
        "r.checkLotto()"
      ],
      "metadata": {
        "colab": {
          "base_uri": "https://localhost:8080/"
        },
        "id": "1cOUrduOG7ok",
        "outputId": "e1f1afd0-9451-42ac-d54f-fc1e9ce6113b"
      },
      "execution_count": 54,
      "outputs": [
        {
          "output_type": "stream",
          "name": "stdout",
          "text": [
            "정답 :  [5, 27, 38, 26, 24, 19]\n",
            "게임수를 입력하세요 : 3\n",
            "[[4, 26, 37, 46, 24, 3], [22, 30, 40, 34, 32, 43], [6, 36, 9, 23, 13, 18]]\n",
            "1게임의 맞춘수 : 2 번호:[26, 24]\n",
            "2게임의 맞춘수 : 0 번호:[]\n",
            "3게임의 맞춘수 : 0 번호:[]\n"
          ]
        }
      ]
    },
    {
      "cell_type": "code",
      "source": [
        "def printArrays(arr):\n",
        "  for i in arr:\n",
        "    print(i)\n",
        "\n",
        "class Test(object):\n",
        "  def __str__(self) -> str:\n",
        "    return f\"abc abc\"\n",
        "\n",
        "\n"
      ],
      "metadata": {
        "colab": {
          "base_uri": "https://localhost:8080/"
        },
        "id": "SAiVn_sAHG9c",
        "outputId": "4189a6e9-c1f1-4e6d-9981-82ff5f3f3970"
      },
      "execution_count": 3,
      "outputs": [
        {
          "output_type": "execute_result",
          "data": {
            "text/plain": [
              "<map at 0x7f22e8551820>"
            ]
          },
          "metadata": {},
          "execution_count": 3
        }
      ]
    },
    {
      "cell_type": "code",
      "source": [
        "# 카드방식 - 시작을 고유한 숫자로된 집합 - 섞는다..->원하는 갯수만큼 뽑는다\n",
        "import random\n",
        "a = list(range(1,47)) # 1 ~ 46의 번호 집합\n",
        "print(a)\n",
        "random.shuffle(a)  # 집합을 섞어\n",
        "print(a)\n",
        "print(a[:6])  # 6개 번호추출"
      ],
      "metadata": {
        "colab": {
          "base_uri": "https://localhost:8080/"
        },
        "id": "2pECfHjTOLok",
        "outputId": "5724f30f-d4b7-4fc7-ae86-1d7da502df18"
      },
      "execution_count": 5,
      "outputs": [
        {
          "output_type": "stream",
          "name": "stdout",
          "text": [
            "[1, 2, 3, 4, 5, 6, 7, 8, 9, 10, 11, 12, 13, 14, 15, 16, 17, 18, 19, 20, 21, 22, 23, 24, 25, 26, 27, 28, 29, 30, 31, 32, 33, 34, 35, 36, 37, 38, 39, 40, 41, 42, 43, 44, 45, 46]\n",
            "[7, 16, 40, 12, 23, 30, 44, 15, 25, 31, 11, 9, 38, 42, 1, 13, 4, 21, 35, 6, 17, 45, 26, 3, 8, 43, 36, 27, 2, 19, 37, 14, 24, 28, 41, 46, 29, 39, 20, 10, 5, 34, 33, 32, 18, 22]\n",
            "[7, 16, 40, 12, 23, 30]\n"
          ]
        }
      ]
    },
    {
      "cell_type": "code",
      "source": [
        "# 리스트를 이용한 방법\n",
        "list1 = []\n",
        "r = random.randrange(1,47)  # 랜덤한 값을 하나 선택\n",
        "while len(list1) < 6:   #--> 집합의 개수가 6개보다 작을때까지\n",
        "  if r not in list1:      # 집합에 선택한 번호가 없으면\n",
        "    list1.append(r)       # 집합에 추가\n",
        "  r = random.randrange(1,47)  # 임의의 수를 생성\n",
        "\n",
        "print(list1)    "
      ],
      "metadata": {
        "colab": {
          "base_uri": "https://localhost:8080/"
        },
        "id": "6FV-bDzoR512",
        "outputId": "592d034c-7134-46d9-c7b0-05c60e2a9d6a"
      },
      "execution_count": 36,
      "outputs": [
        {
          "output_type": "stream",
          "name": "stdout",
          "text": [
            "[24, 37, 30, 4, 1, 32]\n"
          ]
        }
      ]
    },
    {
      "cell_type": "code",
      "source": [
        "# set의 속성을 이용\n",
        "list1 = []\n",
        "t = set(list1)    # set을 이용해서 리스트의 중복을 제거\n",
        "while len(t) < 6:   # set의 개수가 6보다 작을때 까지\n",
        "  list1.append(random.randrange(1,47))   # 리스트에 무조건 임의의 값을 추가(중복 상관없이)\n",
        "  t = set(list1)          # 리스를 set으로 치환해서 중복을 제거한다\n",
        "\n",
        "print(t)  "
      ],
      "metadata": {
        "colab": {
          "base_uri": "https://localhost:8080/"
        },
        "id": "9nHLfx5XSNqF",
        "outputId": "87bb424c-4f75-4d2a-b27c-a7a482466eda"
      },
      "execution_count": 37,
      "outputs": [
        {
          "output_type": "stream",
          "name": "stdout",
          "text": [
            "{34, 6, 42, 21, 22, 24}\n"
          ]
        }
      ]
    },
    {
      "cell_type": "code",
      "source": [
        "# 실수하기 좋은 case\n",
        "[\n",
        "  [1,2,3,4,5] ,\n",
        "  [3,4,5,6,7]   \n",
        "]"
      ],
      "metadata": {
        "colab": {
          "base_uri": "https://localhost:8080/"
        },
        "id": "VWBAlRB-S50V",
        "outputId": "7eca5044-00b9-41f2-ed92-3f1f27c25167"
      },
      "execution_count": 14,
      "outputs": [
        {
          "output_type": "execute_result",
          "data": {
            "text/plain": [
              "[[1, 2, 3, 4, 5], [3, 4, 5, 6, 7]]"
            ]
          },
          "metadata": {},
          "execution_count": 14
        }
      ]
    },
    {
      "cell_type": "code",
      "source": [
        "datas = []\n",
        "for j in range(3):    \n",
        "  subdata = []\n",
        "  for i in range(5):\n",
        "    subdata.append(random.randrange(100))\n",
        "  datas.append(subdata)    "
      ],
      "metadata": {
        "id": "NZxxKxaxYQa8"
      },
      "execution_count": 34,
      "outputs": []
    },
    {
      "cell_type": "code",
      "source": [
        "datas"
      ],
      "metadata": {
        "colab": {
          "base_uri": "https://localhost:8080/"
        },
        "id": "zqtOQ2XUY45t",
        "outputId": "32a2c5a4-ad5a-415a-cb65-21e8dcd40961"
      },
      "execution_count": 35,
      "outputs": [
        {
          "output_type": "execute_result",
          "data": {
            "text/plain": [
              "[[56, 33, 88, 89, 18], [73, 97, 1, 25, 4], [89, 65, 58, 36, 7]]"
            ]
          },
          "metadata": {},
          "execution_count": 35
        }
      ]
    },
    {
      "cell_type": "code",
      "source": [
        "from collections import Counter\n",
        "# 텍스트 분석기\n",
        "class WordCount(object):\n",
        "  def __init__(self,msg):\n",
        "    '''초기화 하면서 텍스 입력\n",
        "    msg : 텍스트\n",
        "    '''\n",
        "    assert msg != \"\", \"한개이상의 단어가 포함된 문장을 입력하세요\"\n",
        "\n",
        "    self.msg = msg\n",
        "    self.wordDic = {}\n",
        "    pass\n",
        "  def __str__(self):\n",
        "    return str(self.wordDic)\n",
        "\n",
        "  def getWordCount(self):\n",
        "    self.wordDic = dict(Counter(self.msg.split()))\n",
        "    return self.wordDic\n",
        "  def wordSorted(self,key=False, reverse=False):\n",
        "    '''key : True면 key값을 기준으로 정렬\n",
        "    '''\n",
        "    if key:\n",
        "      return sorted(self.wordDic.items(), key=lambda x: x[0], reverse = reverse )      \n",
        "    return sorted(self.wordDic.items(), key=lambda x: x[1], reverse = reverse )    \n"
      ],
      "metadata": {
        "id": "MhgJqh6IY5kk"
      },
      "execution_count": 76,
      "outputs": []
    },
    {
      "cell_type": "code",
      "source": [
        "w = WordCount('''박 원내대표는 30일 국회에서 열린 정책조정회의에서 \n",
        "“정말 블랙핑크와 레이디 가가의 합동공연 제안을 대통령이 보고받지 못했다는 이유로, \n",
        "핵심 외교비서관을 내쫓고 대미 정책을 총괄하는 국가안보실장이 사퇴한단 말인가”라고 되물으며 이렇게 말했다. \n",
        "이어 “바로 다음 달 있을 방미를 앞두고 밤을 새워 전략을 짜도 모자랄 대통령실이, \n",
        "대책은 고사하고 온갖 풍문의 진원지가 되고 있다”며 “업무 구분도, 프로토콜도, 시스템도 없이, \n",
        "어느 때보다 복잡한 외교안보 난맥상을 어떻게 풀어가겠다는 것인지 묻지 않을 수 없다”고 목소리를 높였다.''')"
      ],
      "metadata": {
        "id": "oMqFw-KZlyoe"
      },
      "execution_count": 77,
      "outputs": []
    },
    {
      "cell_type": "code",
      "source": [
        "w.getWordCount()"
      ],
      "metadata": {
        "id": "ZnpEjwh-mBQE"
      },
      "execution_count": null,
      "outputs": []
    },
    {
      "cell_type": "code",
      "source": [
        "w.wordSorted(key=True,reverse=False)"
      ],
      "metadata": {
        "id": "qj-XXZfbmgEU"
      },
      "execution_count": null,
      "outputs": []
    },
    {
      "cell_type": "code",
      "source": [
        "import random\n",
        "class QuizeGame(object):\n",
        "  def __init__(self,data):\n",
        "    self.quizeDic = data\n",
        "    assert type(data) == dict, '딕셔너리 형태로  퀴즈:정답  형식을 맞추세요'\n",
        "    self.key = None\n",
        "    self.value = None\n",
        "  def __str__(self):\n",
        "    return str(self.quizeDic)\n",
        "  def checkQuize(self,value):\n",
        "    if self.quizeDic[self.key].upper() == value.upper():\n",
        "      return True\n",
        "    return False\n",
        "  def generateQuize(self):\n",
        "    self.key = random.choice( list(self.quizeDic.keys()) )\n",
        "    return self.key \n"
      ],
      "metadata": {
        "id": "au4jScelm5Ps"
      },
      "execution_count": 101,
      "outputs": []
    },
    {
      "cell_type": "code",
      "source": [
        "temp = {\n",
        "    '지구는 둥글다':'y', '개구리는 파충류 이다.':'n'\n",
        "}\n",
        "q = QuizeGame(temp)"
      ],
      "metadata": {
        "id": "0XuIGCBeof7W"
      },
      "execution_count": 102,
      "outputs": []
    },
    {
      "cell_type": "code",
      "source": [
        "for i in range(3):\n",
        "  print(\"문제는 다음과 같습니다:\",q.generateQuize())\n",
        "  if q.checkQuize( input(\"정답은 : \") ):\n",
        "    print(\"짝짝짝....정답...\")\n",
        "  else:\n",
        "    print(\"아쉽게도 아닙니다.\")"
      ],
      "metadata": {
        "colab": {
          "base_uri": "https://localhost:8080/"
        },
        "id": "N80-VY9LokcU",
        "outputId": "405072ec-bb5e-45a7-8124-20516bc7ca7c"
      },
      "execution_count": 103,
      "outputs": [
        {
          "output_type": "stream",
          "name": "stdout",
          "text": [
            "문제는 다음과 같습니다: 지구는 둥글다\n",
            "정답은 : n\n",
            "아쉽게도 아닙니다.\n",
            "문제는 다음과 같습니다: 지구는 둥글다\n",
            "정답은 : y\n",
            "짝짝짝....정답...\n",
            "문제는 다음과 같습니다: 개구리는 파충류 이다.\n",
            "정답은 : y\n",
            "아쉽게도 아닙니다.\n"
          ]
        }
      ]
    },
    {
      "cell_type": "code",
      "source": [
        "# 계산기\n",
        "# 공백을 기준으로 숫자를 입력받고\n",
        "# 4칙연산중에 하나를 입력\n",
        "class Calc4(object):\n",
        "  def __init__(self):    \n",
        "    self.datas = None\n",
        "    self.result = None\n",
        "    self.op = None      \n",
        "  def __str__(self):\n",
        "    pass\n",
        "  def getNumbers(self,*datas):\n",
        "    self.datas = datas\n",
        "\n",
        "  def calculator(self,op):\n",
        "    self.result = 0\n",
        "    try:\n",
        "      if op == '+':\n",
        "        for i in self.datas:          \n",
        "          self.result += i\n",
        "      elif op == '-':\n",
        "        for i in self.datas:\n",
        "          self.result -= i\n",
        "      elif op == '/':\n",
        "        for i in self.datas:\n",
        "          self.result /= i\n",
        "      elif op == 'x':\n",
        "        self.result = 1\n",
        "        for i in self.datas:\n",
        "          self.result *= i      \n",
        "      else:\n",
        "        pass\n",
        "    except ZeroDivisionError:\n",
        "      print(\"0으로 나눌수 없습니다.\")\n",
        "    except Exception as e:\n",
        "      print(\"연산중에 알수없는 에러가 발생 :\",e)\n",
        "    else:\n",
        "      return self.result"
      ],
      "metadata": {
        "id": "4ii52MxMqsmr"
      },
      "execution_count": 131,
      "outputs": []
    },
    {
      "cell_type": "code",
      "source": [
        "c4 = Calc4()"
      ],
      "metadata": {
        "id": "9smUjACutE8h"
      },
      "execution_count": 132,
      "outputs": []
    },
    {
      "cell_type": "code",
      "source": [
        "c4.getNumbers(10,20,30,40,50)"
      ],
      "metadata": {
        "id": "nJfOyl6PtWs0"
      },
      "execution_count": 133,
      "outputs": []
    },
    {
      "cell_type": "code",
      "source": [
        "c4.calculator('x')"
      ],
      "metadata": {
        "colab": {
          "base_uri": "https://localhost:8080/"
        },
        "id": "eMW1md4otfsF",
        "outputId": "15153b2f-a0b6-46e3-945b-5746fc69820f"
      },
      "execution_count": 135,
      "outputs": [
        {
          "output_type": "execute_result",
          "data": {
            "text/plain": [
              "12000000"
            ]
          },
          "metadata": {},
          "execution_count": 135
        }
      ]
    },
    {
      "cell_type": "code",
      "source": [],
      "metadata": {
        "id": "yZFR2tVXtvo9"
      },
      "execution_count": null,
      "outputs": []
    }
  ]
}