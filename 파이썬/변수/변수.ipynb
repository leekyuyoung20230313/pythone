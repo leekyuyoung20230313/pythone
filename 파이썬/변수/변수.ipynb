{
  "nbformat": 4,
  "nbformat_minor": 0,
  "metadata": {
    "colab": {
      "provenance": []
    },
    "kernelspec": {
      "name": "python3",
      "display_name": "Python 3"
    },
    "language_info": {
      "name": "python"
    }
  },
  "cells": [
    {
      "cell_type": "code",
      "execution_count": 1,
      "metadata": {
        "colab": {
          "base_uri": "https://localhost:8080/"
        },
        "id": "HEoYXNjn4pnv",
        "outputId": "99b25199-e302-4712-b845-58e34c5f44d5"
      },
      "outputs": [
        {
          "output_type": "stream",
          "name": "stdout",
          "text": [
            "hello world!\n"
          ]
        }
      ],
      "source": [
        "# 화면에 출력하는 명령어는 print이고 () 안에는 출력하고 싶은 데이터를 넣는다.\n",
        "# 문자열은... 문자들의 집합이고  \"\" 로 둘러싼다\n",
        "print(\"hello\",\"world!\")"
      ]
    },
    {
      "cell_type": "code",
      "source": [
        "# \"Hello, World!\" 와 \"12345x7890\" 이 각 줄에 출력되게 만드세요"
      ],
      "metadata": {
        "id": "oFK3atNF6_hT"
      },
      "execution_count": 2,
      "outputs": []
    },
    {
      "cell_type": "code",
      "source": [
        "print(\"Hello, World!\"); print('12345x7890')"
      ],
      "metadata": {
        "colab": {
          "base_uri": "https://localhost:8080/"
        },
        "id": "lNlxxtZL8eh8",
        "outputId": "3f8e0ab1-4d57-4283-e2f5-3a3e5b982d90"
      },
      "execution_count": 3,
      "outputs": [
        {
          "output_type": "stream",
          "name": "stdout",
          "text": [
            "Hello, World!\n",
            "12345x7890\n"
          ]
        }
      ]
    },
    {
      "cell_type": "code",
      "source": [
        "a = 10\n",
        "if a == 10:\n",
        "  print('10입니다')"
      ],
      "metadata": {
        "colab": {
          "base_uri": "https://localhost:8080/"
        },
        "id": "HFw8mukr92-F",
        "outputId": "e90b3c05-b5a6-4948-dec7-1c60099e4b99"
      },
      "execution_count": 4,
      "outputs": [
        {
          "output_type": "stream",
          "name": "stdout",
          "text": [
            "10입니다\n"
          ]
        }
      ]
    },
    {
      "cell_type": "code",
      "source": [
        "4.3-2.7"
      ],
      "metadata": {
        "colab": {
          "base_uri": "https://localhost:8080/"
        },
        "id": "k1owztRa_a6E",
        "outputId": "72b4afbc-c70e-439f-8935-77b828a0d65f"
      },
      "execution_count": 5,
      "outputs": [
        {
          "output_type": "execute_result",
          "data": {
            "text/plain": [
              "1.5999999999999996"
            ]
          },
          "metadata": {},
          "execution_count": 5
        }
      ]
    },
    {
      "cell_type": "code",
      "source": [
        "4.3 - 2.0"
      ],
      "metadata": {
        "colab": {
          "base_uri": "https://localhost:8080/"
        },
        "id": "XvhbNVEPByV7",
        "outputId": "f9dd8fa4-acce-4100-cccb-2b4deed59257"
      },
      "execution_count": 6,
      "outputs": [
        {
          "output_type": "execute_result",
          "data": {
            "text/plain": [
              "2.3"
            ]
          },
          "metadata": {},
          "execution_count": 6
        }
      ]
    },
    {
      "cell_type": "code",
      "source": [
        "4.2 + 5\n"
      ],
      "metadata": {
        "colab": {
          "base_uri": "https://localhost:8080/"
        },
        "id": "d09aqiyXB-hr",
        "outputId": "3673f699-8f31-4814-b190-aaf66fbf52c6"
      },
      "execution_count": 7,
      "outputs": [
        {
          "output_type": "execute_result",
          "data": {
            "text/plain": [
              "9.2"
            ]
          },
          "metadata": {},
          "execution_count": 7
        }
      ]
    },
    {
      "cell_type": "code",
      "source": [
        "print(225+0.6*102); print(10+20)"
      ],
      "metadata": {
        "colab": {
          "base_uri": "https://localhost:8080/"
        },
        "id": "ix50ivKeCj9a",
        "outputId": "91a81637-f493-4c26-d957-b472e9de09bf"
      },
      "execution_count": 8,
      "outputs": [
        {
          "output_type": "stream",
          "name": "stdout",
          "text": [
            "286.2\n",
            "30\n"
          ]
        }
      ]
    },
    {
      "cell_type": "code",
      "source": [
        "225+0.6*102, 10+20"
      ],
      "metadata": {
        "colab": {
          "base_uri": "https://localhost:8080/"
        },
        "id": "QCriJSD3G6ZP",
        "outputId": "0372e609-5032-4dde-f3c7-9d5616537625"
      },
      "execution_count": 9,
      "outputs": [
        {
          "output_type": "execute_result",
          "data": {
            "text/plain": [
              "(286.2, 30)"
            ]
          },
          "metadata": {},
          "execution_count": 9
        }
      ]
    },
    {
      "cell_type": "code",
      "source": [
        "print(\"hello world\")"
      ],
      "metadata": {
        "colab": {
          "base_uri": "https://localhost:8080/"
        },
        "id": "NTRc65fUIZd9",
        "outputId": "32ba4f84-bbc7-41b5-d951-79f325ca1f84"
      },
      "execution_count": 10,
      "outputs": [
        {
          "output_type": "stream",
          "name": "stdout",
          "text": [
            "hello world\n"
          ]
        }
      ]
    },
    {
      "cell_type": "code",
      "source": [
        "a = b = 10\n",
        "c,d,e,f,g = 20,None,1,-1,'ㅎㅎㅎ'"
      ],
      "metadata": {
        "id": "gIcbUhzSJjoj"
      },
      "execution_count": 16,
      "outputs": []
    },
    {
      "cell_type": "code",
      "source": [
        "print(c,d,e,f,g)"
      ],
      "metadata": {
        "colab": {
          "base_uri": "https://localhost:8080/"
        },
        "id": "wr0Q-SIdJn8z",
        "outputId": "c0bf6225-da51-41e4-e92c-e2232fe723a8"
      },
      "execution_count": 17,
      "outputs": [
        {
          "output_type": "stream",
          "name": "stdout",
          "text": [
            "20 None 1 -1 ㅎㅎㅎ\n"
          ]
        }
      ]
    },
    {
      "cell_type": "code",
      "source": [
        "print(1+2)\n",
        "print(\"-\"*300)\n",
        "print(10+20)"
      ],
      "metadata": {
        "colab": {
          "base_uri": "https://localhost:8080/"
        },
        "id": "PbnHgrhzTRaz",
        "outputId": "637b54a6-d4b7-4a42-af51-9f20ff2ae4e5"
      },
      "execution_count": 20,
      "outputs": [
        {
          "output_type": "stream",
          "name": "stdout",
          "text": [
            "3\n",
            "------------------------------------------------------------------------------------------------------------------------------------------------------------------------------------------------------------------------------------------------------------------------------------------------------------\n",
            "30\n"
          ]
        }
      ]
    },
    {
      "cell_type": "code",
      "source": [
        "\"hello\"+str(20)"
      ],
      "metadata": {
        "colab": {
          "base_uri": "https://localhost:8080/",
          "height": 35
        },
        "id": "7eZ1FKgBVVy8",
        "outputId": "0b265031-2751-493c-d998-8138b1afed87"
      },
      "execution_count": 22,
      "outputs": [
        {
          "output_type": "execute_result",
          "data": {
            "text/plain": [
              "'hello20'"
            ],
            "application/vnd.google.colaboratory.intrinsic+json": {
              "type": "string"
            }
          },
          "metadata": {},
          "execution_count": 22
        }
      ]
    },
    {
      "cell_type": "code",
      "source": [
        "s = \"Hello, Python\"\n",
        "print(\"s의 길이는\",str(len(s))+\"입니다.\")"
      ],
      "metadata": {
        "colab": {
          "base_uri": "https://localhost:8080/"
        },
        "id": "CSgrUw-IVjp6",
        "outputId": "c3965cf7-3196-4812-df45-2021c8a8e8f1"
      },
      "execution_count": 27,
      "outputs": [
        {
          "output_type": "stream",
          "name": "stdout",
          "text": [
            "s의 길이는 13입니다.\n"
          ]
        }
      ]
    },
    {
      "cell_type": "code",
      "source": [
        "print(f\"s의 길이는 {len(s)}입니다.\")"
      ],
      "metadata": {
        "colab": {
          "base_uri": "https://localhost:8080/"
        },
        "id": "rXXxhKmcX6Q6",
        "outputId": "eff994ef-ca6b-4a46-afe7-d87d8b9133b2"
      },
      "execution_count": 28,
      "outputs": [
        {
          "output_type": "stream",
          "name": "stdout",
          "text": [
            "s의 길이는 13입니다.\n"
          ]
        }
      ]
    },
    {
      "cell_type": "code",
      "source": [
        "data = input(\"값을 입력하세요 : \")"
      ],
      "metadata": {
        "colab": {
          "base_uri": "https://localhost:8080/"
        },
        "id": "q-mhlWmqYPei",
        "outputId": "edd4c040-1df4-4ed2-b41d-9868e30fde97"
      },
      "execution_count": 33,
      "outputs": [
        {
          "name": "stdout",
          "output_type": "stream",
          "text": [
            "값을 입력하세요 : 123\n"
          ]
        }
      ]
    },
    {
      "cell_type": "code",
      "source": [
        "data + str(10)"
      ],
      "metadata": {
        "colab": {
          "base_uri": "https://localhost:8080/",
          "height": 35
        },
        "id": "Z7TuoLFya6Ve",
        "outputId": "ed68d7ea-dbd7-4488-e314-9d8ae9130da0"
      },
      "execution_count": 40,
      "outputs": [
        {
          "output_type": "execute_result",
          "data": {
            "text/plain": [
              "'12310'"
            ],
            "application/vnd.google.colaboratory.intrinsic+json": {
              "type": "string"
            }
          },
          "metadata": {},
          "execution_count": 40
        }
      ]
    },
    {
      "cell_type": "markdown",
      "source": [
        "한번에 여러개 입력받기"
      ],
      "metadata": {
        "id": "cftkuUUSuozV"
      }
    },
    {
      "cell_type": "code",
      "source": [
        "print(\"안 녕 하 세 요\")"
      ],
      "metadata": {
        "colab": {
          "base_uri": "https://localhost:8080/"
        },
        "id": "KxHLa1mEbE3r",
        "outputId": "cbaac681-442f-4f6c-c8f1-38b9d2650f00"
      },
      "execution_count": 42,
      "outputs": [
        {
          "output_type": "stream",
          "name": "stdout",
          "text": [
            "안 녕 하 세 요\n"
          ]
        }
      ]
    },
    {
      "cell_type": "code",
      "source": [
        "print(\"안 녕 하 세 요\".split())"
      ],
      "metadata": {
        "colab": {
          "base_uri": "https://localhost:8080/"
        },
        "id": "Ey_rYTd4ob9a",
        "outputId": "270bc304-1e0c-4c62-ef0c-b9825075ad24"
      },
      "execution_count": 44,
      "outputs": [
        {
          "output_type": "stream",
          "name": "stdout",
          "text": [
            "['안', '녕', '하', '세', '요']\n"
          ]
        }
      ]
    },
    {
      "cell_type": "code",
      "source": [
        "a =  \"안 녕 하 세 요\".split()"
      ],
      "metadata": {
        "id": "7lqRzL9HvGRN"
      },
      "execution_count": 45,
      "outputs": []
    },
    {
      "cell_type": "code",
      "source": [
        "a1,a2,a3,a4,a5 = \"안 녕 하 세 요\".split()"
      ],
      "metadata": {
        "id": "95I7VQIkvjZi"
      },
      "execution_count": 49,
      "outputs": []
    },
    {
      "cell_type": "code",
      "source": [
        "print(a1)"
      ],
      "metadata": {
        "colab": {
          "base_uri": "https://localhost:8080/"
        },
        "id": "JA1yZuDsvrHi",
        "outputId": "41ae0429-5ab1-4796-9b0e-1c4cb5ae5860"
      },
      "execution_count": 47,
      "outputs": [
        {
          "output_type": "stream",
          "name": "stdout",
          "text": [
            "안\n"
          ]
        }
      ]
    },
    {
      "cell_type": "code",
      "source": [
        "print(\"1234\"[0]); print(\"1234\"[1])"
      ],
      "metadata": {
        "colab": {
          "base_uri": "https://localhost:8080/"
        },
        "id": "BMy2KFpyvswC",
        "outputId": "dbcbcfb2-abe6-4a2e-b8a6-26aa95558283"
      },
      "execution_count": 52,
      "outputs": [
        {
          "output_type": "stream",
          "name": "stdout",
          "text": [
            "1\n",
            "2\n"
          ]
        }
      ]
    },
    {
      "cell_type": "code",
      "source": [
        "print(\"1234\"[3]);"
      ],
      "metadata": {
        "colab": {
          "base_uri": "https://localhost:8080/"
        },
        "id": "qb01_9lexfdS",
        "outputId": "52762054-b910-42d7-d3e9-4e4b2efae93a"
      },
      "execution_count": 53,
      "outputs": [
        {
          "output_type": "stream",
          "name": "stdout",
          "text": [
            "4\n"
          ]
        }
      ]
    },
    {
      "cell_type": "code",
      "source": [
        "# 사용자로부터 숫자를 입력받아서 꺼꾸로 만들어보자\n",
        "# 최종타입은 숫자(정수)\n",
        "# ex  12345 -> 54321"
      ],
      "metadata": {
        "id": "H48li6qBxvtJ"
      },
      "execution_count": 54,
      "outputs": []
    },
    {
      "cell_type": "code",
      "source": [
        "number =  input(\"숫자를 입력하세요 : \") # 12345\n",
        "print(number)"
      ],
      "metadata": {
        "colab": {
          "base_uri": "https://localhost:8080/"
        },
        "id": "sm8TH4b1x_OC",
        "outputId": "4b347c8e-fbd0-4699-80a8-62a72ed76ae9"
      },
      "execution_count": 55,
      "outputs": [
        {
          "output_type": "stream",
          "name": "stdout",
          "text": [
            "숫자를 입력하세요 : 12345\n",
            "12345\n"
          ]
        }
      ]
    },
    {
      "cell_type": "code",
      "source": [
        "print(number[4],number[3],number[2],number[1],number[0])"
      ],
      "metadata": {
        "colab": {
          "base_uri": "https://localhost:8080/"
        },
        "id": "M-dOS45L1Le5",
        "outputId": "ee988068-64a5-4641-ebde-729f588f4f65"
      },
      "execution_count": 59,
      "outputs": [
        {
          "output_type": "stream",
          "name": "stdout",
          "text": [
            "5 4 3 2 1\n"
          ]
        }
      ]
    },
    {
      "cell_type": "code",
      "source": [
        "number[4]+number[3]+number[2]+number[1]+number[0]"
      ],
      "metadata": {
        "colab": {
          "base_uri": "https://localhost:8080/",
          "height": 35
        },
        "id": "qv9zMc9g1Vpx",
        "outputId": "a332e8b5-23a2-43a1-f711-a9e61f99baa2"
      },
      "execution_count": 60,
      "outputs": [
        {
          "output_type": "execute_result",
          "data": {
            "text/plain": [
              "'54321'"
            ],
            "application/vnd.google.colaboratory.intrinsic+json": {
              "type": "string"
            }
          },
          "metadata": {},
          "execution_count": 60
        }
      ]
    },
    {
      "cell_type": "code",
      "source": [
        "int(number[4]+number[3]+number[2]+number[1]+number[0])"
      ],
      "metadata": {
        "colab": {
          "base_uri": "https://localhost:8080/"
        },
        "id": "gbK995mC1qvK",
        "outputId": "9f6f1e65-ccea-427e-934d-ca019985a9a3"
      },
      "execution_count": 61,
      "outputs": [
        {
          "output_type": "execute_result",
          "data": {
            "text/plain": [
              "54321"
            ]
          },
          "metadata": {},
          "execution_count": 61
        }
      ]
    },
    {
      "cell_type": "code",
      "source": [
        "a,b,c = map(str,[111,222,333])"
      ],
      "metadata": {
        "id": "gQvbbCRt1ubq"
      },
      "execution_count": 76,
      "outputs": []
    },
    {
      "cell_type": "code",
      "source": [
        "print(a+b+c)"
      ],
      "metadata": {
        "colab": {
          "base_uri": "https://localhost:8080/"
        },
        "id": "AiPNjiX32yTa",
        "outputId": "976fcdec-040f-4828-81d4-a36a7e69e643"
      },
      "execution_count": 77,
      "outputs": [
        {
          "output_type": "stream",
          "name": "stdout",
          "text": [
            "111222333\n"
          ]
        }
      ]
    },
    {
      "cell_type": "code",
      "source": [
        "a,b,c =  map(int, input().split())"
      ],
      "metadata": {
        "colab": {
          "base_uri": "https://localhost:8080/"
        },
        "id": "GkrO7tNP3aZp",
        "outputId": "57880d4e-9fda-46f7-8d8f-539254b45833"
      },
      "execution_count": 81,
      "outputs": [
        {
          "name": "stdout",
          "output_type": "stream",
          "text": [
            "10 20 30\n"
          ]
        }
      ]
    },
    {
      "cell_type": "code",
      "source": [
        "print(a+b+c)"
      ],
      "metadata": {
        "colab": {
          "base_uri": "https://localhost:8080/"
        },
        "id": "00MnyHaF9Hv5",
        "outputId": "44919c83-54e5-4677-b70f-822a9727a8a4"
      },
      "execution_count": 85,
      "outputs": [
        {
          "output_type": "stream",
          "name": "stdout",
          "text": [
            "60\n"
          ]
        }
      ]
    },
    {
      "cell_type": "code",
      "source": [
        "print(\"a\\nb\\nc\\n\")"
      ],
      "metadata": {
        "colab": {
          "base_uri": "https://localhost:8080/"
        },
        "id": "9fRS-nrQ9fwR",
        "outputId": "83fff8c3-b7da-460c-cdd4-02a36d381ea6"
      },
      "execution_count": 87,
      "outputs": [
        {
          "output_type": "stream",
          "name": "stdout",
          "text": [
            "a\n",
            "b\n",
            "c\n",
            "\n"
          ]
        }
      ]
    },
    {
      "cell_type": "markdown",
      "source": [
        "중간점검\n",
        "  - 변수\n",
        "    - 만드는 규칙\n",
        "    - 빈 변수 만들기(None)\n",
        "    - 여러개 한번에 할당\n",
        "    - 문자 <-> 숫자(정수, 실수)\n",
        "    - 입력받기\n",
        "    - 문자열 길이 구하기\n",
        "    - 문자열 분리하기\n",
        "    - 분리된 문자열에 특정함수 일괄 적용하기 map\n",
        "    - 출력에 옵션정하기\n",
        "    - 변수 swap\n",
        "    - 문자열 연결+ , 반복* (문자열 연산)\n",
        "\n",
        "응용문제\n",
        "  - 타인의 BMI를 구해봅시다\n",
        "  - BMI (kg/m2)를 구하는 방법은 (몸무게) / (키)2 로서, 단위에서 알 수 있듯이 몸무게는 kg, 키는 m이다\n",
        "  - 키와 몸무게를 입력받아서 구해봅시다"
      ],
      "metadata": {
        "id": "MOewuxrgAWHq"
      }
    },
    {
      "cell_type": "code",
      "source": [
        "cm = 172\n",
        "kg = 65"
      ],
      "metadata": {
        "id": "cSdDfGHCDmdx"
      },
      "execution_count": 88,
      "outputs": []
    },
    {
      "cell_type": "code",
      "source": [
        "kg/( (cm/100)**2)"
      ],
      "metadata": {
        "colab": {
          "base_uri": "https://localhost:8080/"
        },
        "id": "wP2PITZUJQLc",
        "outputId": "c9a71edf-6c19-42ef-8bfa-600112efb8ea"
      },
      "execution_count": 91,
      "outputs": [
        {
          "output_type": "execute_result",
          "data": {
            "text/plain": [
              "21.971335857220122"
            ]
          },
          "metadata": {},
          "execution_count": 91
        }
      ]
    },
    {
      "cell_type": "code",
      "source": [
        "(kg/cm/cm)*10000"
      ],
      "metadata": {
        "colab": {
          "base_uri": "https://localhost:8080/"
        },
        "id": "Je3ch6urJRE5",
        "outputId": "8f674c6a-d974-47ea-c88d-8af24d5e85da"
      },
      "execution_count": 92,
      "outputs": [
        {
          "output_type": "execute_result",
          "data": {
            "text/plain": [
              "21.971335857220122"
            ]
          },
          "metadata": {},
          "execution_count": 92
        }
      ]
    },
    {
      "cell_type": "code",
      "source": [
        "kg/cm/cm"
      ],
      "metadata": {
        "colab": {
          "base_uri": "https://localhost:8080/"
        },
        "id": "tvX__H8tJZPZ",
        "outputId": "8ed32f93-093d-4ea0-e705-873395d6f0a8"
      },
      "execution_count": 95,
      "outputs": [
        {
          "output_type": "execute_result",
          "data": {
            "text/plain": [
              "0.002197133585722012"
            ]
          },
          "metadata": {},
          "execution_count": 95
        }
      ]
    },
    {
      "cell_type": "code",
      "source": [
        "print(\"abc\\\\ndef\")"
      ],
      "metadata": {
        "colab": {
          "base_uri": "https://localhost:8080/"
        },
        "id": "FXEyVC2gJb-p",
        "outputId": "cc047e64-a12d-43a1-f071-2364ee3e5dc1"
      },
      "execution_count": 104,
      "outputs": [
        {
          "output_type": "stream",
          "name": "stdout",
          "text": [
            "abc\\ndef\n"
          ]
        }
      ]
    },
    {
      "cell_type": "code",
      "source": [
        "# print(value, ..., sep=' ', end='\\n', file=sys.stdout, flush=False) \n",
        "print('a','b','c',sep='', end='')\n",
        "print('a','b','c',sep='')"
      ],
      "metadata": {
        "colab": {
          "base_uri": "https://localhost:8080/"
        },
        "id": "muI4ujWVJ2Ux",
        "outputId": "6b075cea-9777-48e8-a102-8a1138d00d9d"
      },
      "execution_count": 108,
      "outputs": [
        {
          "output_type": "stream",
          "name": "stdout",
          "text": [
            "abcabc\n"
          ]
        }
      ]
    },
    {
      "cell_type": "code",
      "source": [
        "\"aBcDeF\".upper()"
      ],
      "metadata": {
        "colab": {
          "base_uri": "https://localhost:8080/",
          "height": 35
        },
        "id": "dZDDmvErKz3Z",
        "outputId": "1e554b9d-3ccb-4515-98cc-a133b6c9350c"
      },
      "execution_count": 109,
      "outputs": [
        {
          "output_type": "execute_result",
          "data": {
            "text/plain": [
              "'ABCDEF'"
            ],
            "application/vnd.google.colaboratory.intrinsic+json": {
              "type": "string"
            }
          },
          "metadata": {},
          "execution_count": 109
        }
      ]
    },
    {
      "cell_type": "code",
      "source": [
        "\"aBcDeF\".lower()"
      ],
      "metadata": {
        "colab": {
          "base_uri": "https://localhost:8080/",
          "height": 35
        },
        "id": "2NpdNyyONLSY",
        "outputId": "b2c7038b-ab4a-4fd6-ba1a-db069ee556c7"
      },
      "execution_count": 110,
      "outputs": [
        {
          "output_type": "execute_result",
          "data": {
            "text/plain": [
              "'abcdef'"
            ],
            "application/vnd.google.colaboratory.intrinsic+json": {
              "type": "string"
            }
          },
          "metadata": {},
          "execution_count": 110
        }
      ]
    },
    {
      "cell_type": "markdown",
      "source": [
        "프린트 함수 옵션"
      ],
      "metadata": {
        "id": "dEZkT9lpRPkO"
      }
    },
    {
      "cell_type": "code",
      "source": [
        "print(\"a\",\"b\",\"c\",sep=\"||\", end=\"여기까지\")"
      ],
      "metadata": {
        "colab": {
          "base_uri": "https://localhost:8080/"
        },
        "id": "iZFOF-iaNRNA",
        "outputId": "114db7dd-aad3-45a1-ea99-21d18e09be35"
      },
      "execution_count": 119,
      "outputs": [
        {
          "output_type": "stream",
          "name": "stdout",
          "text": [
            "a||b||c여기까지"
          ]
        }
      ]
    },
    {
      "cell_type": "code",
      "source": [
        "print(\"100동101호의 관리비는 210000원 입니다.\")\n",
        "print(\"100동102호의 관리비는 110000원 입니다.\")\n",
        "print(\"200동301호의 관리비는 210000원 입니다.\")"
      ],
      "metadata": {
        "colab": {
          "base_uri": "https://localhost:8080/"
        },
        "id": "99xmyU3MRUsp",
        "outputId": "205e2143-e36a-484b-ffb5-1194d40596a4"
      },
      "execution_count": 120,
      "outputs": [
        {
          "output_type": "stream",
          "name": "stdout",
          "text": [
            "100동101호의 관리비는 210000원 입니다.\n",
            "100동102호의 관리비는 110000원 입니다.\n",
            "200동301호의 관리비는 210000원 입니다.\n"
          ]
        }
      ]
    },
    {
      "cell_type": "code",
      "source": [
        "dong,ho,price = 100,101,210000\n",
        "#  100동 101호의 관리비는 210000원 입니다."
      ],
      "metadata": {
        "id": "R4UK7ML7SLl8"
      },
      "execution_count": 122,
      "outputs": []
    },
    {
      "cell_type": "code",
      "source": [
        "print(dong,\"동 \",ho,\"호의 관리비는 \",price,\"원 입니다.\",sep=\"\")"
      ],
      "metadata": {
        "colab": {
          "base_uri": "https://localhost:8080/"
        },
        "id": "JiLXXUbqSbxz",
        "outputId": "92670b84-6e15-48cc-d1e1-3aa53cf0da26"
      },
      "execution_count": 126,
      "outputs": [
        {
          "output_type": "stream",
          "name": "stdout",
          "text": [
            "100동 101호의 관리비는 210000원 입니다.\n"
          ]
        }
      ]
    },
    {
      "cell_type": "code",
      "source": [
        "print(f\"{dong}동 {ho}호의 관리비는 {price}원 입니다\")"
      ],
      "metadata": {
        "colab": {
          "base_uri": "https://localhost:8080/"
        },
        "id": "iOdj-38ATQdI",
        "outputId": "666ed923-c664-4350-d959-79c417b55ed2"
      },
      "execution_count": 127,
      "outputs": [
        {
          "output_type": "stream",
          "name": "stdout",
          "text": [
            "100동 101호의 관리비는 210000원 입니다\n"
          ]
        }
      ]
    },
    {
      "cell_type": "code",
      "source": [
        "print(f\"{3.14657:.2f}\")"
      ],
      "metadata": {
        "colab": {
          "base_uri": "https://localhost:8080/"
        },
        "id": "h6jAqGrxT0L_",
        "outputId": "20b20de7-b2e5-4ef6-e3c2-a11d897f37c5"
      },
      "execution_count": 131,
      "outputs": [
        {
          "output_type": "stream",
          "name": "stdout",
          "text": [
            "3.15\n"
          ]
        }
      ]
    },
    {
      "cell_type": "code",
      "source": [
        "5/2"
      ],
      "metadata": {
        "colab": {
          "base_uri": "https://localhost:8080/"
        },
        "id": "3l1dBxeuUClQ",
        "outputId": "c0c0755e-27c8-4539-b154-bdc32b3d2235"
      },
      "execution_count": 132,
      "outputs": [
        {
          "output_type": "execute_result",
          "data": {
            "text/plain": [
              "2.5"
            ]
          },
          "metadata": {},
          "execution_count": 132
        }
      ]
    },
    {
      "cell_type": "code",
      "source": [
        "# 5나누기 2의 정수는 000이고 실수는 000 입니다.\n",
        "5 // 2"
      ],
      "metadata": {
        "colab": {
          "base_uri": "https://localhost:8080/"
        },
        "id": "gEppuj1qVRPq",
        "outputId": "3d9c8bff-e752-4aed-ba9d-329b932e6502"
      },
      "execution_count": 133,
      "outputs": [
        {
          "output_type": "execute_result",
          "data": {
            "text/plain": [
              "2"
            ]
          },
          "metadata": {},
          "execution_count": 133
        }
      ]
    },
    {
      "cell_type": "code",
      "source": [
        "# 사용자로부터 2개의 정수를 입력받아서 두 정수를 나눈결과를\n",
        "# 정수와 실수로 구분해서 출력할것"
      ],
      "metadata": {
        "id": "02g51RB8VaGQ"
      },
      "execution_count": 134,
      "outputs": []
    },
    {
      "cell_type": "code",
      "source": [
        "number1,number2 = map(int, input(\"두개의 정수를 공백을 기준으로 입력\").split())\n",
        "result1 = number1 / number2\n",
        "result2 = number1 // number2\n",
        "print(\"정수:\",result2)\n",
        "print(\"실수:\",result1 - result2)"
      ],
      "metadata": {
        "colab": {
          "base_uri": "https://localhost:8080/"
        },
        "id": "IU37Bl7_VxhB",
        "outputId": "61be899b-5f8d-40c5-a4d3-47acae3d6320"
      },
      "execution_count": 135,
      "outputs": [
        {
          "output_type": "stream",
          "name": "stdout",
          "text": [
            "두개의 정수를 공백을 기준으로 입력5 2\n",
            "정수: 2\n",
            "실수: 0.5\n"
          ]
        }
      ]
    },
    {
      "cell_type": "code",
      "source": [
        "data = 12.56634\n",
        "# 반올림  소수점 둘째자리까지 구해서 새로운 변수에 할당\n",
        "# print( f\"{data:.2f}\" )\n",
        "newData = float(f\"{data:.2f}\")\n",
        "print(newData)"
      ],
      "metadata": {
        "colab": {
          "base_uri": "https://localhost:8080/"
        },
        "id": "S6n-Axe0W9Rp",
        "outputId": "4e8e4b94-243d-4fdf-9048-cc3292841368"
      },
      "execution_count": 139,
      "outputs": [
        {
          "output_type": "stream",
          "name": "stdout",
          "text": [
            "12.57\n"
          ]
        }
      ]
    },
    {
      "cell_type": "code",
      "source": [
        "# 반올림미 적용\n",
        "data = 12.56634\n",
        "int(data*100)/100"
      ],
      "metadata": {
        "colab": {
          "base_uri": "https://localhost:8080/"
        },
        "id": "KSxiq84qXopw",
        "outputId": "1b456a73-5fb4-4ccc-d7ba-260f94fbe6d2"
      },
      "execution_count": 140,
      "outputs": [
        {
          "output_type": "execute_result",
          "data": {
            "text/plain": [
              "12.56"
            ]
          },
          "metadata": {},
          "execution_count": 140
        }
      ]
    },
    {
      "cell_type": "code",
      "source": [
        "# 반올림 적용\n",
        "data = 12.56534\n",
        "int(data*100+0.5)/100\n",
        "# 12.57"
      ],
      "metadata": {
        "colab": {
          "base_uri": "https://localhost:8080/"
        },
        "id": "ky83abkHZGzM",
        "outputId": "ee54469f-e9c2-4147-f92f-5cf0dfbe4b74"
      },
      "execution_count": 143,
      "outputs": [
        {
          "output_type": "execute_result",
          "data": {
            "text/plain": [
              "12.57"
            ]
          },
          "metadata": {},
          "execution_count": 143
        }
      ]
    },
    {
      "cell_type": "code",
      "source": [
        "basicData"
      ],
      "metadata": {
        "id": "wxM9H9x5Z2PB"
      },
      "execution_count": null,
      "outputs": []
    },
    {
      "cell_type": "code",
      "source": [
        "5 / 0"
      ],
      "metadata": {
        "colab": {
          "base_uri": "https://localhost:8080/",
          "height": 171
        },
        "id": "XT7zkrGwcjqg",
        "outputId": "45d92c03-1975-477f-a2eb-b1dacef5cbde"
      },
      "execution_count": 145,
      "outputs": [
        {
          "output_type": "error",
          "ename": "ZeroDivisionError",
          "evalue": "ignored",
          "traceback": [
            "\u001b[0;31m---------------------------------------------------------------------------\u001b[0m",
            "\u001b[0;31mZeroDivisionError\u001b[0m                         Traceback (most recent call last)",
            "\u001b[0;32m<ipython-input-145-adafc2937013>\u001b[0m in \u001b[0;36m<module>\u001b[0;34m\u001b[0m\n\u001b[0;32m----> 1\u001b[0;31m \u001b[0;36m5\u001b[0m \u001b[0;34m/\u001b[0m \u001b[0;36m0\u001b[0m\u001b[0;34m\u001b[0m\u001b[0;34m\u001b[0m\u001b[0m\n\u001b[0m",
            "\u001b[0;31mZeroDivisionError\u001b[0m: division by zero"
          ]
        }
      ]
    },
    {
      "cell_type": "code",
      "source": [
        "z = 0\n",
        "try:\n",
        "    z = 5 / 2\n",
        "except ZeroDivisionError:\n",
        "    z = 0\n",
        "print(z)"
      ],
      "metadata": {
        "colab": {
          "base_uri": "https://localhost:8080/"
        },
        "id": "KizGXQODcl5i",
        "outputId": "b226ec9e-5904-439b-b2c3-765a273a05f5"
      },
      "execution_count": 147,
      "outputs": [
        {
          "output_type": "stream",
          "name": "stdout",
          "text": [
            "2.5\n"
          ]
        }
      ]
    },
    {
      "cell_type": "code",
      "source": [
        "data = 10\n",
        "print(f\"abc {data} def\")\n"
      ],
      "metadata": {
        "colab": {
          "base_uri": "https://localhost:8080/"
        },
        "id": "zgmF6VTedZsv",
        "outputId": "d090f3c2-2b8f-4ce9-a539-de6dd42ebb8e"
      },
      "execution_count": 149,
      "outputs": [
        {
          "output_type": "stream",
          "name": "stdout",
          "text": [
            "abc 10 def\n"
          ]
        }
      ]
    },
    {
      "cell_type": "code",
      "source": [],
      "metadata": {
        "id": "xW4DedWakHj4"
      },
      "execution_count": null,
      "outputs": []
    }
  ]
}