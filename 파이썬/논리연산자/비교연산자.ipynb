{
  "nbformat": 4,
  "nbformat_minor": 0,
  "metadata": {
    "colab": {
      "provenance": []
    },
    "kernelspec": {
      "name": "python3",
      "display_name": "Python 3"
    },
    "language_info": {
      "name": "python"
    }
  },
  "cells": [
    {
      "cell_type": "markdown",
      "source": [
        "파이썬 연산자의 종류 \n",
        "  - 다음 예시를 코드로 확인해 보세요\n",
        "  - 자료형에 따라 연산 결과가 다르게 나타날 수 있으니 주의해야 합니다. 예를 들어, 숫자형 데이터에서는 + 연산자는 덧셈을 의미하지만, 문자열에서는 두 문자열을 이어붙이는 연산을 의미합니다. 따라서, 데이터의 자료형을 잘 파악하고 연산을 수행해야 합니다.\n",
        "\n",
        "\n"
      ],
      "metadata": {
        "id": "70Q87bsfKlEj"
      }
    },
    {
      "cell_type": "markdown",
      "source": [
        "![image.png](data:image/png;base64,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)"
      ],
      "metadata": {
        "id": "YsQbfQdzDLie"
      }
    },
    {
      "cell_type": "code",
      "source": [
        "# 각 연산자에 대한 예시 확인해보기\n",
        "7 // 2"
      ],
      "metadata": {
        "colab": {
          "base_uri": "https://localhost:8080/"
        },
        "id": "GcOcD5WjKknz",
        "outputId": "f40cdb12-9562-4aaf-a146-9d6d3d75c6c7"
      },
      "execution_count": 10,
      "outputs": [
        {
          "output_type": "execute_result",
          "data": {
            "text/plain": [
              "3"
            ]
          },
          "metadata": {},
          "execution_count": 10
        }
      ]
    },
    {
      "cell_type": "code",
      "source": [
        "7 % 2"
      ],
      "metadata": {
        "colab": {
          "base_uri": "https://localhost:8080/"
        },
        "id": "MlRLSAedMbqR",
        "outputId": "cadb17e2-c04d-4ef7-c580-04255ae5e717"
      },
      "execution_count": 11,
      "outputs": [
        {
          "output_type": "execute_result",
          "data": {
            "text/plain": [
              "1"
            ]
          },
          "metadata": {},
          "execution_count": 11
        }
      ]
    },
    {
      "cell_type": "code",
      "source": [
        "7 / 2"
      ],
      "metadata": {
        "colab": {
          "base_uri": "https://localhost:8080/"
        },
        "id": "BGvWAuxvMhSb",
        "outputId": "d3132caf-2356-4e68-ff5d-68e6268cd4c0"
      },
      "execution_count": 12,
      "outputs": [
        {
          "output_type": "execute_result",
          "data": {
            "text/plain": [
              "3.5"
            ]
          },
          "metadata": {},
          "execution_count": 12
        }
      ]
    },
    {
      "cell_type": "code",
      "source": [
        "7**2"
      ],
      "metadata": {
        "colab": {
          "base_uri": "https://localhost:8080/"
        },
        "id": "-L1uVe3VMlai",
        "outputId": "1199dafe-a4e4-4bf5-da6d-aace538ae343"
      },
      "execution_count": 13,
      "outputs": [
        {
          "output_type": "execute_result",
          "data": {
            "text/plain": [
              "49"
            ]
          },
          "metadata": {},
          "execution_count": 13
        }
      ]
    },
    {
      "cell_type": "code",
      "source": [
        "# 서로다른 타입의 데이터로 연산해 보기  문자형, 불린형"
      ],
      "metadata": {
        "id": "AUnS84NWKgmo"
      },
      "execution_count": 9,
      "outputs": []
    },
    {
      "cell_type": "code",
      "source": [
        "# 1.문자열과 숫자\n",
        "name = \"Alice\"\n",
        "age = 25\n",
        "# print(\"이름: \" + name + \", 나이: \" + age)\n",
        "# 정수를 문자열로 변환한 후 문자열과 더해주어야 합니다.\n",
        "print(\"이름: \" + name + \", 나이: \" + str(age))"
      ],
      "metadata": {
        "colab": {
          "base_uri": "https://localhost:8080/"
        },
        "id": "hB7cUZLBLGRR",
        "outputId": "bd292812-97a1-4465-a549-34991376bc0a"
      },
      "execution_count": 16,
      "outputs": [
        {
          "output_type": "stream",
          "name": "stdout",
          "text": [
            "이름: Alice, 나이: 25\n"
          ]
        }
      ]
    },
    {
      "cell_type": "code",
      "source": [
        "# 문자열연산에 대한 에러타입\n",
        "# TypeError: can only concatenate str (not \"int\") to str                  +\n",
        "# TypeError: unsupported operand type(s) for -: 'str' and 'str'           -"
      ],
      "metadata": {
        "id": "flJ0IpxSNPWf"
      },
      "execution_count": null,
      "outputs": []
    },
    {
      "cell_type": "code",
      "source": [
        "# 문자열 곱셈\n",
        "\"abc\" * 3"
      ],
      "metadata": {
        "colab": {
          "base_uri": "https://localhost:8080/",
          "height": 35
        },
        "id": "4irX-XPgS4pM",
        "outputId": "56b7bab1-8eb2-4d0d-c7aa-324dd741a4ce"
      },
      "execution_count": 18,
      "outputs": [
        {
          "output_type": "execute_result",
          "data": {
            "text/plain": [
              "'abcabcabc'"
            ],
            "application/vnd.google.colaboratory.intrinsic+json": {
              "type": "string"
            }
          },
          "metadata": {},
          "execution_count": 18
        }
      ]
    },
    {
      "cell_type": "markdown",
      "source": [
        "비교 논리 연산자\n",
        "  - 불 연산자 boolean operation\n",
        "  ![image.png](data:image/png;base64,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)"
      ],
      "metadata": {
        "id": "SLPHmxDlTL1l"
      }
    },
    {
      "cell_type": "code",
      "source": [
        "a = 5\n",
        "b = 3\n",
        "\n",
        "# 같음 비교\n",
        "print(a == b)  # False\n",
        "\n",
        "# 다름 비교\n",
        "print(a != b)  # True\n",
        "\n",
        "# 크기 비교\n",
        "print(a > b)   # True\n",
        "print(a >= b)  # True\n",
        "print(a < b)   # False\n",
        "print(a <= b)  # False\n",
        "\n",
        "# 객체 동일성 비교\n",
        "x = [1, 2, 3]\n",
        "y = [1, 2, 3]\n",
        "z = x\n",
        "\n",
        "print(x == y)   # True\n",
        "print(x is y)   # False\n",
        "print(x is z)   # True\n",
        "print(x is not y)  # True\n"
      ],
      "metadata": {
        "colab": {
          "base_uri": "https://localhost:8080/"
        },
        "id": "Jb5S7H4-TCYf",
        "outputId": "9e7520a4-27b6-4447-b2f3-0e98fca5f20e"
      },
      "execution_count": 20,
      "outputs": [
        {
          "output_type": "stream",
          "name": "stdout",
          "text": [
            "False\n",
            "True\n",
            "True\n",
            "True\n",
            "False\n",
            "False\n",
            "True\n",
            "False\n",
            "True\n",
            "True\n"
          ]
        }
      ]
    },
    {
      "cell_type": "markdown",
      "source": [
        "파이썬 논리연산자"
      ],
      "metadata": {
        "id": "uPEoT9kQXOaD"
      }
    },
    {
      "cell_type": "code",
      "source": [
        "kor = 92\n",
        "eng = 88\n",
        "math = 95\n",
        "sci = 90\n",
        "scores = [kor,eng,math,sci]\n",
        "avg = (scores[0] + scores[1] +scores[2] + scores[3]) / 4\n",
        "bo1 = kor >=40\n",
        "bo2 = eng >=40\n",
        "bo3 = math >=40\n",
        "bo4 = sci >=40\n",
        "bo5 = bo1 and bo2 and bo3 and bo4\n",
        "# 국어가 90점 이상이고 영어가 90점 이상을 출력\n",
        "print( kor >=90  and eng >=90     )\n",
        "# 국어가 90점 이상 이거나 영어가 90점 이상을 출력\n",
        "print( kor >=90 or eng >=90 )\n",
        "# 모든과목의 평균이 60점 이상이고 각 과목별 점수가 40점 이상인 조건을 만들어서 출력\n",
        "print( avg >=60 and bo5 )\n"
      ],
      "metadata": {
        "colab": {
          "base_uri": "https://localhost:8080/"
        },
        "id": "9eNEOrxZXNsC",
        "outputId": "faffb002-3cad-4e37-92c2-349214c527de"
      },
      "execution_count": 24,
      "outputs": [
        {
          "output_type": "stream",
          "name": "stdout",
          "text": [
            "False\n",
            "True\n",
            "True\n"
          ]
        }
      ]
    },
    {
      "cell_type": "code",
      "source": [],
      "metadata": {
        "id": "suvwPo13-2QG"
      },
      "execution_count": null,
      "outputs": []
    }
  ]
}