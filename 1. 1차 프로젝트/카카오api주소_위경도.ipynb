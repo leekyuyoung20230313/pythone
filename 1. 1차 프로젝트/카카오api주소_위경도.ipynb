{
  "nbformat": 4,
  "nbformat_minor": 0,
  "metadata": {
    "colab": {
      "provenance": []
    },
    "kernelspec": {
      "name": "python3",
      "display_name": "Python 3"
    },
    "language_info": {
      "name": "python"
    }
  },
  "cells": [
    {
      "cell_type": "code",
      "source": [
        "import requests, json\n",
        "rest_api_key = '8b3a86e5f105fc49ce708ca7af1259bf'\n",
        "\n",
        "def get_giodata(address='서울'):\n",
        "  url = 'https://dapi.kakao.com/v2/local/search/address.json?query='+address\n",
        "  headers = {\"Authorization\": \"KakaoAK \"+rest_api_key}\n",
        "  api_json = json.loads(str(requests.get(url,headers=headers).text))\n",
        "  address = api_json['documents'][0]['address']\n",
        "  crd = {\"lat\": str(address['y']), \"lng\": str(address['x'])}\n",
        "  address_name = address['address_name']\n",
        "  return crd"
      ],
      "metadata": {
        "id": "gQbTZyGqo6Vt"
      },
      "execution_count": 16,
      "outputs": []
    },
    {
      "cell_type": "code",
      "source": [
        "get_giodata('서울특별시 강남구 강남대로94길 13 1층~5층 (역삼동, 삼경빌딩)')"
      ],
      "metadata": {
        "colab": {
          "base_uri": "https://localhost:8080/"
        },
        "id": "1wNkamP5r-eF",
        "outputId": "32d9b51f-3ab9-4b4a-eec9-88d92c2779a8"
      },
      "execution_count": 17,
      "outputs": [
        {
          "output_type": "execute_result",
          "data": {
            "text/plain": [
              "{'lat': '37.4995844298918', 'lng': '127.028419603321'}"
            ]
          },
          "metadata": {},
          "execution_count": 17
        }
      ]
    },
    {
      "cell_type": "code",
      "source": [
        "import folium\n",
        "from folium import Marker\n",
        "\n",
        "m = folium.Map(location=[37.4995844298918, 127.028419603321])\n",
        "Marker(location = [37.4995844298918, 127.028419603321],\n",
        "           popup='메가it 강남',\n",
        "           icon=folium.Icon(color='blue',icon='star')\n",
        "          ).add_to(m)\n",
        "m"
      ],
      "metadata": {
        "colab": {
          "base_uri": "https://localhost:8080/",
          "height": 602
        },
        "id": "f3gJDL3js9Nu",
        "outputId": "ba0de0cd-be21-426c-8ed6-463141eb4dff"
      },
      "execution_count": 19,
      "outputs": [
        {
          "output_type": "execute_result",
          "data": {
            "text/plain": [
              "<folium.folium.Map at 0x7f8b64cfe8e0>"
            ],
            "text/html": [
              "<div style=\"width:100%;\"><div style=\"position:relative;width:100%;height:0;padding-bottom:60%;\"><span style=\"color:#565656\">Make this Notebook Trusted to load map: File -> Trust Notebook</span><iframe srcdoc=\"&lt;!DOCTYPE html&gt;\n",
              "&lt;html&gt;\n",
              "&lt;head&gt;\n",
              "    \n",
              "    &lt;meta http-equiv=&quot;content-type&quot; content=&quot;text/html; charset=UTF-8&quot; /&gt;\n",
              "    \n",
              "        &lt;script&gt;\n",
              "            L_NO_TOUCH = false;\n",
              "            L_DISABLE_3D = false;\n",
              "        &lt;/script&gt;\n",
              "    \n",
              "    &lt;style&gt;html, body {width: 100%;height: 100%;margin: 0;padding: 0;}&lt;/style&gt;\n",
              "    &lt;style&gt;#map {position:absolute;top:0;bottom:0;right:0;left:0;}&lt;/style&gt;\n",
              "    &lt;script src=&quot;https://cdn.jsdelivr.net/npm/leaflet@1.9.3/dist/leaflet.js&quot;&gt;&lt;/script&gt;\n",
              "    &lt;script src=&quot;https://code.jquery.com/jquery-1.12.4.min.js&quot;&gt;&lt;/script&gt;\n",
              "    &lt;script src=&quot;https://cdn.jsdelivr.net/npm/bootstrap@5.2.2/dist/js/bootstrap.bundle.min.js&quot;&gt;&lt;/script&gt;\n",
              "    &lt;script src=&quot;https://cdnjs.cloudflare.com/ajax/libs/Leaflet.awesome-markers/2.0.2/leaflet.awesome-markers.js&quot;&gt;&lt;/script&gt;\n",
              "    &lt;link rel=&quot;stylesheet&quot; href=&quot;https://cdn.jsdelivr.net/npm/leaflet@1.9.3/dist/leaflet.css&quot;/&gt;\n",
              "    &lt;link rel=&quot;stylesheet&quot; href=&quot;https://cdn.jsdelivr.net/npm/bootstrap@5.2.2/dist/css/bootstrap.min.css&quot;/&gt;\n",
              "    &lt;link rel=&quot;stylesheet&quot; href=&quot;https://netdna.bootstrapcdn.com/bootstrap/3.0.0/css/bootstrap.min.css&quot;/&gt;\n",
              "    &lt;link rel=&quot;stylesheet&quot; href=&quot;https://cdn.jsdelivr.net/npm/@fortawesome/fontawesome-free@6.2.0/css/all.min.css&quot;/&gt;\n",
              "    &lt;link rel=&quot;stylesheet&quot; href=&quot;https://cdnjs.cloudflare.com/ajax/libs/Leaflet.awesome-markers/2.0.2/leaflet.awesome-markers.css&quot;/&gt;\n",
              "    &lt;link rel=&quot;stylesheet&quot; href=&quot;https://cdn.jsdelivr.net/gh/python-visualization/folium/folium/templates/leaflet.awesome.rotate.min.css&quot;/&gt;\n",
              "    \n",
              "            &lt;meta name=&quot;viewport&quot; content=&quot;width=device-width,\n",
              "                initial-scale=1.0, maximum-scale=1.0, user-scalable=no&quot; /&gt;\n",
              "            &lt;style&gt;\n",
              "                #map_84a2023d01452c2e1b00e3bf1a54fed0 {\n",
              "                    position: relative;\n",
              "                    width: 100.0%;\n",
              "                    height: 100.0%;\n",
              "                    left: 0.0%;\n",
              "                    top: 0.0%;\n",
              "                }\n",
              "                .leaflet-container { font-size: 1rem; }\n",
              "            &lt;/style&gt;\n",
              "        \n",
              "&lt;/head&gt;\n",
              "&lt;body&gt;\n",
              "    \n",
              "    \n",
              "            &lt;div class=&quot;folium-map&quot; id=&quot;map_84a2023d01452c2e1b00e3bf1a54fed0&quot; &gt;&lt;/div&gt;\n",
              "        \n",
              "&lt;/body&gt;\n",
              "&lt;script&gt;\n",
              "    \n",
              "    \n",
              "            var map_84a2023d01452c2e1b00e3bf1a54fed0 = L.map(\n",
              "                &quot;map_84a2023d01452c2e1b00e3bf1a54fed0&quot;,\n",
              "                {\n",
              "                    center: [37.4995844298918, 127.028419603321],\n",
              "                    crs: L.CRS.EPSG3857,\n",
              "                    zoom: 10,\n",
              "                    zoomControl: true,\n",
              "                    preferCanvas: false,\n",
              "                }\n",
              "            );\n",
              "\n",
              "            \n",
              "\n",
              "        \n",
              "    \n",
              "            var tile_layer_536b1c0ad0102d690bad460376984472 = L.tileLayer(\n",
              "                &quot;https://{s}.tile.openstreetmap.org/{z}/{x}/{y}.png&quot;,\n",
              "                {&quot;attribution&quot;: &quot;Data by \\u0026copy; \\u003ca target=\\&quot;_blank\\&quot; href=\\&quot;http://openstreetmap.org\\&quot;\\u003eOpenStreetMap\\u003c/a\\u003e, under \\u003ca target=\\&quot;_blank\\&quot; href=\\&quot;http://www.openstreetmap.org/copyright\\&quot;\\u003eODbL\\u003c/a\\u003e.&quot;, &quot;detectRetina&quot;: false, &quot;maxNativeZoom&quot;: 18, &quot;maxZoom&quot;: 18, &quot;minZoom&quot;: 0, &quot;noWrap&quot;: false, &quot;opacity&quot;: 1, &quot;subdomains&quot;: &quot;abc&quot;, &quot;tms&quot;: false}\n",
              "            ).addTo(map_84a2023d01452c2e1b00e3bf1a54fed0);\n",
              "        \n",
              "    \n",
              "            var marker_039aaf680b8c25c744624cdc474ee2a6 = L.marker(\n",
              "                [37.4995844298918, 127.028419603321],\n",
              "                {}\n",
              "            ).addTo(map_84a2023d01452c2e1b00e3bf1a54fed0);\n",
              "        \n",
              "    \n",
              "            var icon_f253e7d7c223b93d139911c0a67f61a0 = L.AwesomeMarkers.icon(\n",
              "                {&quot;extraClasses&quot;: &quot;fa-rotate-0&quot;, &quot;icon&quot;: &quot;star&quot;, &quot;iconColor&quot;: &quot;white&quot;, &quot;markerColor&quot;: &quot;blue&quot;, &quot;prefix&quot;: &quot;glyphicon&quot;}\n",
              "            );\n",
              "            marker_039aaf680b8c25c744624cdc474ee2a6.setIcon(icon_f253e7d7c223b93d139911c0a67f61a0);\n",
              "        \n",
              "    \n",
              "        var popup_3be0706820089cf84290fec1b6de579f = L.popup({&quot;maxWidth&quot;: &quot;100%&quot;});\n",
              "\n",
              "        \n",
              "            \n",
              "                var html_19dace6043ff9f2ca6d1dfac43e2af2a = $(`&lt;div id=&quot;html_19dace6043ff9f2ca6d1dfac43e2af2a&quot; style=&quot;width: 100.0%; height: 100.0%;&quot;&gt;메가it 강남&lt;/div&gt;`)[0];\n",
              "                popup_3be0706820089cf84290fec1b6de579f.setContent(html_19dace6043ff9f2ca6d1dfac43e2af2a);\n",
              "            \n",
              "        \n",
              "\n",
              "        marker_039aaf680b8c25c744624cdc474ee2a6.bindPopup(popup_3be0706820089cf84290fec1b6de579f)\n",
              "        ;\n",
              "\n",
              "        \n",
              "    \n",
              "&lt;/script&gt;\n",
              "&lt;/html&gt;\" style=\"position:absolute;width:100%;height:100%;left:0;top:0;border:none !important;\" allowfullscreen webkitallowfullscreen mozallowfullscreen></iframe></div></div>"
            ]
          },
          "metadata": {},
          "execution_count": 19
        }
      ]
    },
    {
      "cell_type": "code",
      "source": [],
      "metadata": {
        "id": "T4sJ9_b5tS78"
      },
      "execution_count": null,
      "outputs": []
    }
  ]
}