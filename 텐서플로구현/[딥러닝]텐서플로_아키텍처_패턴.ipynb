{
  "nbformat": 4,
  "nbformat_minor": 0,
  "metadata": {
    "colab": {
      "provenance": []
    },
    "kernelspec": {
      "name": "python3",
      "display_name": "Python 3"
    },
    "language_info": {
      "name": "python"
    }
  },
  "cells": [
    {
      "cell_type": "markdown",
      "source": [
        "Residual Connection(잔차 연결)\n",
        "  - 네트웍이 깊어지면 Gradient Vanishing(기울기 소멸문제) 해결\n",
        "  - 성능향상"
      ],
      "metadata": {
        "id": "yHvUD2Z0rFlw"
      }
    },
    {
      "cell_type": "code",
      "execution_count": 1,
      "metadata": {
        "id": "RP1qcJyDqyQu"
      },
      "outputs": [],
      "source": [
        "import tensorflow as tf\n",
        "from tensorflow.keras import layers"
      ]
    },
    {
      "cell_type": "markdown",
      "source": [
        "잔차블럭"
      ],
      "metadata": {
        "id": "4kqI58smtEwA"
      }
    },
    {
      "cell_type": "code",
      "source": [
        "from keras.api._v2.keras import activations\n",
        "inputs = layers.Input(shape=(32,32,3))\n",
        "x = layers.Conv2D(32,3,activation='relu')(inputs)\n",
        "residual = x\n",
        "x = layers.Conv2D(64,3,activation='relu',padding='same')(x)\n",
        "residual = layers.Conv2D(64,1)(residual)\n",
        "x = layers.add([x,residual])\n",
        "x"
      ],
      "metadata": {
        "colab": {
          "base_uri": "https://localhost:8080/"
        },
        "id": "st_2AmJCrkfv",
        "outputId": "1980b38c-6dbf-4911-f64a-981974ea0fc3"
      },
      "execution_count": 14,
      "outputs": [
        {
          "output_type": "execute_result",
          "data": {
            "text/plain": [
              "<KerasTensor: shape=(None, 30, 30, 64) dtype=float32 (created by layer 'add_5')>"
            ]
          },
          "metadata": {},
          "execution_count": 14
        }
      ]
    },
    {
      "cell_type": "markdown",
      "source": [
        "최대폴링 가진 잔차블럭"
      ],
      "metadata": {
        "id": "gRPiAGlBtCKx"
      }
    },
    {
      "cell_type": "code",
      "source": [
        "inputs = layers.Input(shape=(32,32,3))\n",
        "x = layers.Conv2D(32,3,activation='relu')(inputs)\n",
        "residual = x\n",
        "x = layers.Conv2D(64,3,activation='relu',padding='same')(x)\n",
        "x = layers.MaxPooling2D(padding='same')(x)\n",
        "residual = layers.Conv2D(64,1,strides=2)(residual)\n",
        "x = layers.add([x,residual])\n",
        "x"
      ],
      "metadata": {
        "colab": {
          "base_uri": "https://localhost:8080/"
        },
        "id": "s9vF3l-AsLeH",
        "outputId": "0ff6359c-aafa-4a85-fefe-7e67616f85f9"
      },
      "execution_count": 13,
      "outputs": [
        {
          "output_type": "execute_result",
          "data": {
            "text/plain": [
              "<KerasTensor: shape=(None, 15, 15, 64) dtype=float32 (created by layer 'add_4')>"
            ]
          },
          "metadata": {},
          "execution_count": 13
        }
      ]
    },
    {
      "cell_type": "code",
      "source": [
        "inputs = layers.Input(shape=(32,32,3))\n",
        "x = layers.Rescaling(1./255)(inputs)\n",
        "def residual_block(x, filter, pooling=False):\n",
        "  residual = x\n",
        "  x = layers.Conv2D(filter,3,activation='relu',padding='same')(x)\n",
        "  x = layers.Conv2D(filter,3,activation='relu',padding='same')(x)\n",
        "  if pooling:\n",
        "    x = layers.MaxPooling2D(2, padding='same')(x)\n",
        "    residual = layers.Conv2D(filter,1,strides=2)(residual)\n",
        "  elif filter != residual.shape[-1]:\n",
        "    residual = layers.Conv2D(filter,1)(residual)\n",
        "  x = layers.add([x,residual])\n",
        "  return x\n",
        "\n",
        "x = residual_block(x,filter=32,pooling=True)\n",
        "x = residual_block(x,filter=64,pooling=True)\n",
        "x = residual_block(x,filter=128,pooling=False)\n",
        "\n",
        "x = layers.GlobalAveragePooling2D()(x)  # Flatten을 안해도.... 일차원 벡터로 변경해준다.\n",
        "outputs = layers.Dense(1,activation='sigmoid')(x)\n",
        "model = tf.keras.Model(inputs,outputs)\n",
        "model.summary()"
      ],
      "metadata": {
        "colab": {
          "base_uri": "https://localhost:8080/"
        },
        "id": "y8LYZ1sBsMcH",
        "outputId": "e866bc6e-3a1a-4220-e4f6-8ed41c642c6e"
      },
      "execution_count": 16,
      "outputs": [
        {
          "output_type": "stream",
          "name": "stdout",
          "text": [
            "Model: \"model\"\n",
            "__________________________________________________________________________________________________\n",
            " Layer (type)                   Output Shape         Param #     Connected to                     \n",
            "==================================================================================================\n",
            " input_10 (InputLayer)          [(None, 32, 32, 3)]  0           []                               \n",
            "                                                                                                  \n",
            " rescaling_1 (Rescaling)        (None, 32, 32, 3)    0           ['input_10[0][0]']               \n",
            "                                                                                                  \n",
            " conv2d_23 (Conv2D)             (None, 32, 32, 32)   896         ['rescaling_1[0][0]']            \n",
            "                                                                                                  \n",
            " conv2d_24 (Conv2D)             (None, 32, 32, 32)   9248        ['conv2d_23[0][0]']              \n",
            "                                                                                                  \n",
            " max_pooling2d_4 (MaxPooling2D)  (None, 16, 16, 32)  0           ['conv2d_24[0][0]']              \n",
            "                                                                                                  \n",
            " conv2d_25 (Conv2D)             (None, 16, 16, 32)   128         ['rescaling_1[0][0]']            \n",
            "                                                                                                  \n",
            " add_6 (Add)                    (None, 16, 16, 32)   0           ['max_pooling2d_4[0][0]',        \n",
            "                                                                  'conv2d_25[0][0]']              \n",
            "                                                                                                  \n",
            " conv2d_26 (Conv2D)             (None, 16, 16, 64)   18496       ['add_6[0][0]']                  \n",
            "                                                                                                  \n",
            " conv2d_27 (Conv2D)             (None, 16, 16, 64)   36928       ['conv2d_26[0][0]']              \n",
            "                                                                                                  \n",
            " max_pooling2d_5 (MaxPooling2D)  (None, 8, 8, 64)    0           ['conv2d_27[0][0]']              \n",
            "                                                                                                  \n",
            " conv2d_28 (Conv2D)             (None, 8, 8, 64)     2112        ['add_6[0][0]']                  \n",
            "                                                                                                  \n",
            " add_7 (Add)                    (None, 8, 8, 64)     0           ['max_pooling2d_5[0][0]',        \n",
            "                                                                  'conv2d_28[0][0]']              \n",
            "                                                                                                  \n",
            " conv2d_29 (Conv2D)             (None, 8, 8, 128)    73856       ['add_7[0][0]']                  \n",
            "                                                                                                  \n",
            " conv2d_30 (Conv2D)             (None, 8, 8, 128)    147584      ['conv2d_29[0][0]']              \n",
            "                                                                                                  \n",
            " conv2d_31 (Conv2D)             (None, 8, 8, 128)    8320        ['add_7[0][0]']                  \n",
            "                                                                                                  \n",
            " add_8 (Add)                    (None, 8, 8, 128)    0           ['conv2d_30[0][0]',              \n",
            "                                                                  'conv2d_31[0][0]']              \n",
            "                                                                                                  \n",
            " global_average_pooling2d (Glob  (None, 128)         0           ['add_8[0][0]']                  \n",
            " alAveragePooling2D)                                                                              \n",
            "                                                                                                  \n",
            " dense (Dense)                  (None, 1)            129         ['global_average_pooling2d[0][0]'\n",
            "                                                                 ]                                \n",
            "                                                                                                  \n",
            "==================================================================================================\n",
            "Total params: 297,697\n",
            "Trainable params: 297,697\n",
            "Non-trainable params: 0\n",
            "__________________________________________________________________________________________________\n"
          ]
        }
      ]
    },
    {
      "cell_type": "markdown",
      "source": [
        "real 이미지\n",
        "  - 폴더별 클래스를 만들고 해당 크래스폴더에 이미지 데이터\n",
        "  - 상위 폴더를 image_dataset_from_directory를 적용하면\n",
        "    - 이미지셋과 라벨셋\n",
        "  - 이미지 agumentation 증폭\n",
        "  - 배치정규화(과도한 규제 및 dropout을 피할수 있음)\n"
      ],
      "metadata": {
        "id": "GHCxV_F5xEVx"
      }
    },
    {
      "cell_type": "code",
      "source": [],
      "metadata": {
        "id": "MnUN-2WBvrQA"
      },
      "execution_count": null,
      "outputs": []
    }
  ]
}