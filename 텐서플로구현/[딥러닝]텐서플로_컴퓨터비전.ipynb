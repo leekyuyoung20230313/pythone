{
  "nbformat": 4,
  "nbformat_minor": 0,
  "metadata": {
    "colab": {
      "provenance": [],
      "gpuType": "T4"
    },
    "kernelspec": {
      "name": "python3",
      "display_name": "Python 3"
    },
    "language_info": {
      "name": "python"
    },
    "accelerator": "GPU"
  },
  "cells": [
    {
      "cell_type": "markdown",
      "source": [
        "간단한 conv net 만들기\n",
        "  - 데이터는 mnist 사용\n",
        "  - conv - pool - conv - pool -conv - faltten - fc"
      ],
      "metadata": {
        "id": "imZVbf1WGjoy"
      }
    },
    {
      "cell_type": "code",
      "source": [
        "import tensorflow as tf\n",
        "inputs = tf.keras.Input(shape=(28, 28, 1))\n",
        "x = tf.keras.layers.Conv2D(filters=32, kernel_size=3, activation=\"relu\")(inputs)\n",
        "x = tf.keras.layers.MaxPooling2D(pool_size=2)(x)\n",
        "x = tf.keras.layers.Conv2D(filters=64, kernel_size=3, activation=\"relu\")(x)\n",
        "x = tf.keras.layers.MaxPooling2D(pool_size=2)(x)\n",
        "x = tf.keras.layers.Conv2D(filters=128, kernel_size=3, activation=\"relu\")(x)\n",
        "x = tf.keras.layers.Flatten()(x)\n",
        "outputs = tf.keras.layers.Dense(10, activation=\"softmax\")(x)\n",
        "model = tf.keras.Model(inputs=inputs, outputs=outputs)"
      ],
      "metadata": {
        "id": "3eEwqiNGHe_a"
      },
      "execution_count": 1,
      "outputs": []
    },
    {
      "cell_type": "code",
      "source": [
        "from tensorflow.keras.datasets import mnist\n",
        "(train_images, train_labels), (test_images, test_labels) = mnist.load_data()\n",
        "train_images = train_images.reshape((60000, 28, 28, 1))\n",
        "train_images = train_images.astype(\"float32\") / 255\n",
        "test_images = test_images.reshape((10000, 28, 28, 1))\n",
        "test_images = test_images.astype(\"float32\") / 255\n",
        "\n",
        "train_labels = tf.keras.utils.to_categorical(train_labels,10)\n",
        "test_labels = tf.keras.utils.to_categorical(test_labels,10)\n"
      ],
      "metadata": {
        "colab": {
          "base_uri": "https://localhost:8080/"
        },
        "id": "fSuHYnDaIdOp",
        "outputId": "6290ca42-cfeb-4e36-9c74-13cd1c853f1e"
      },
      "execution_count": 2,
      "outputs": [
        {
          "output_type": "stream",
          "name": "stdout",
          "text": [
            "Downloading data from https://storage.googleapis.com/tensorflow/tf-keras-datasets/mnist.npz\n",
            "11490434/11490434 [==============================] - 0s 0us/step\n"
          ]
        }
      ]
    },
    {
      "cell_type": "code",
      "source": [
        "model.compile(loss = tf.keras.losses.categorical_crossentropy,metrics=['accuracy'])\n",
        "hist = model.fit(train_images,train_labels,epochs=10,batch_size=128,validation_data=(test_images,test_labels))"
      ],
      "metadata": {
        "colab": {
          "base_uri": "https://localhost:8080/"
        },
        "id": "Y0hzfoDoIsma",
        "outputId": "9b92c537-ead0-497e-a83b-f8e86fb8cd44"
      },
      "execution_count": 3,
      "outputs": [
        {
          "output_type": "stream",
          "name": "stdout",
          "text": [
            "Epoch 1/10\n",
            "469/469 [==============================] - 16s 8ms/step - loss: 0.2135 - accuracy: 0.9329 - val_loss: 0.0691 - val_accuracy: 0.9764\n",
            "Epoch 2/10\n",
            "469/469 [==============================] - 3s 6ms/step - loss: 0.0544 - accuracy: 0.9832 - val_loss: 0.0416 - val_accuracy: 0.9860\n",
            "Epoch 3/10\n",
            "469/469 [==============================] - 2s 5ms/step - loss: 0.0366 - accuracy: 0.9887 - val_loss: 0.0299 - val_accuracy: 0.9897\n",
            "Epoch 4/10\n",
            "469/469 [==============================] - 2s 5ms/step - loss: 0.0277 - accuracy: 0.9913 - val_loss: 0.0264 - val_accuracy: 0.9923\n",
            "Epoch 5/10\n",
            "469/469 [==============================] - 2s 5ms/step - loss: 0.0213 - accuracy: 0.9936 - val_loss: 0.0391 - val_accuracy: 0.9880\n",
            "Epoch 6/10\n",
            "469/469 [==============================] - 3s 6ms/step - loss: 0.0175 - accuracy: 0.9947 - val_loss: 0.0284 - val_accuracy: 0.9918\n",
            "Epoch 7/10\n",
            "469/469 [==============================] - 3s 7ms/step - loss: 0.0134 - accuracy: 0.9960 - val_loss: 0.0267 - val_accuracy: 0.9923\n",
            "Epoch 8/10\n",
            "469/469 [==============================] - 2s 5ms/step - loss: 0.0116 - accuracy: 0.9964 - val_loss: 0.0281 - val_accuracy: 0.9922\n",
            "Epoch 9/10\n",
            "469/469 [==============================] - 2s 5ms/step - loss: 0.0098 - accuracy: 0.9972 - val_loss: 0.0321 - val_accuracy: 0.9930\n",
            "Epoch 10/10\n",
            "469/469 [==============================] - 2s 5ms/step - loss: 0.0075 - accuracy: 0.9976 - val_loss: 0.0316 - val_accuracy: 0.9916\n"
          ]
        }
      ]
    },
    {
      "cell_type": "markdown",
      "source": [
        "dog vs cat 분류"
      ],
      "metadata": {
        "id": "gn2c3DyYJwXd"
      }
    },
    {
      "cell_type": "code",
      "source": [
        "!unzip /content/drive/MyDrive/imgs/dogs-vs-cats.zip -d ./dogcat"
      ],
      "metadata": {
        "id": "bEGFed5hJbD6"
      },
      "execution_count": null,
      "outputs": []
    },
    {
      "cell_type": "code",
      "source": [
        "!unzip /content/dogcat/test1.zip -d /content/dogcat/test\n",
        "!unzip /content/dogcat/train.zip -d /content/dogcat/train"
      ],
      "metadata": {
        "id": "H_g19O0VKACq"
      },
      "execution_count": null,
      "outputs": []
    },
    {
      "cell_type": "code",
      "source": [
        "import tensorflow as tf\n",
        "inputs = tf.keras.Input(shape=(180, 180, 3))\n",
        "x = tf.keras.layers.Rescaling(1./255)(inputs)\n",
        "x = tf.keras.layers.Conv2D(filters=32, kernel_size=3, activation=\"relu\")(x)\n",
        "x = tf.keras.layers.MaxPooling2D(pool_size=2)(x)\n",
        "x = tf.keras.layers.Conv2D(filters=64, kernel_size=3, activation=\"relu\")(x)\n",
        "x = tf.keras.layers.MaxPooling2D(pool_size=2)(x)\n",
        "x = tf.keras.layers.Conv2D(filters=128, kernel_size=3, activation=\"relu\")(x)\n",
        "x = tf.keras.layers.Flatten()(x)\n",
        "outputs = tf.keras.layers.Dense(1, activation=\"sigmoid\")(x)\n",
        "model = tf.keras.Model(inputs=inputs, outputs=outputs)"
      ],
      "metadata": {
        "id": "FE_bydfIKjFT"
      },
      "execution_count": 6,
      "outputs": []
    },
    {
      "cell_type": "code",
      "source": [
        "model.compile(loss = tf.keras.losses.binary_crossentropy,optimizer='adam',metrics=['accuracy'])"
      ],
      "metadata": {
        "id": "hCxrz2-iLXrb"
      },
      "execution_count": 7,
      "outputs": []
    },
    {
      "cell_type": "code",
      "source": [
        "!mkdir /content/dogcat/train/dog\n",
        "!mkdir /content/dogcat/train/cat"
      ],
      "metadata": {
        "id": "WWt7pcA-PK7F"
      },
      "execution_count": 24,
      "outputs": []
    },
    {
      "cell_type": "code",
      "source": [
        "from glob import glob\n",
        "import shutil\n",
        "cat_path = '/content/dogcat/train/cat/'\n",
        "dog_path = '/content/dogcat/train/dog/'\n",
        "filepahts = glob(\"/content/dogcat/train/train/*.*\")\n",
        "for idx,filename in enumerate( [name.split(\"/\")[-1] for name in filepahts]):\n",
        "  if 'dog' in filename:\n",
        "    shutil.copyfile(src =filepahts[idx] , dst =dog_path+filename )\n",
        "  elif 'cat' in filename:\n",
        "    shutil.copyfile(src =filepahts[idx] , dst =cat_path+filename )\n",
        "\n",
        "shutil.rmtree('/content/dogcat/train/train')"
      ],
      "metadata": {
        "id": "Pp8pfhoeOQu0"
      },
      "execution_count": 26,
      "outputs": []
    },
    {
      "cell_type": "code",
      "source": [
        "!mkdir /content/dogcat/test/dog\n",
        "!mkdir /content/dogcat/test/cat"
      ],
      "metadata": {
        "id": "cJwc4qV7Q5Dp"
      },
      "execution_count": 33,
      "outputs": []
    },
    {
      "cell_type": "code",
      "source": [
        "from glob import glob\n",
        "import shutil\n",
        "cat_path = '/content/dogcat/test/cat/'\n",
        "dog_path = '/content/dogcat/test/dog/'\n",
        "filepahts = glob(\"/content/dogcat/test/test1/*.*\")\n",
        "for idx,filename in enumerate( [name.split(\"/\")[-1] for name in filepahts]):\n",
        "  if 'dog' in filename:\n",
        "    shutil.copyfile(src =filepahts[idx] , dst =dog_path+filename )\n",
        "  elif 'cat' in filename:\n",
        "    shutil.copyfile(src =filepahts[idx] , dst =cat_path+filename )\n",
        "shutil.rmtree('/content/dogcat/test/test1')"
      ],
      "metadata": {
        "id": "ibHWwqVeQ-Ir"
      },
      "execution_count": 34,
      "outputs": []
    },
    {
      "cell_type": "code",
      "source": [
        "from tensorflow.keras.utils import image_dataset_from_directory"
      ],
      "metadata": {
        "id": "FJ9XCdj9LoWb"
      },
      "execution_count": 35,
      "outputs": []
    },
    {
      "cell_type": "code",
      "source": [
        "train_data_set = image_dataset_from_directory(\n",
        "    \"/content/dogcat/train\",\n",
        "    image_size = (180,180),\n",
        "    batch_size=32\n",
        ")\n",
        "test_data_set = image_dataset_from_directory(\n",
        "    \"/content/dogcat/test\",\n",
        "    image_size = (180,180),\n",
        "    batch_size=32\n",
        ")"
      ],
      "metadata": {
        "colab": {
          "base_uri": "https://localhost:8080/",
          "height": 476
        },
        "id": "gHDMyVIWLxNS",
        "outputId": "40841383-6fa5-4891-cb3d-2aa60330251f"
      },
      "execution_count": 36,
      "outputs": [
        {
          "output_type": "stream",
          "name": "stdout",
          "text": [
            "Found 25000 files belonging to 2 classes.\n",
            "Found 0 files belonging to 2 classes.\n"
          ]
        },
        {
          "output_type": "error",
          "ename": "ValueError",
          "evalue": "ignored",
          "traceback": [
            "\u001b[0;31m---------------------------------------------------------------------------\u001b[0m",
            "\u001b[0;31mValueError\u001b[0m                                Traceback (most recent call last)",
            "\u001b[0;32m<ipython-input-36-802fd2581bc9>\u001b[0m in \u001b[0;36m<cell line: 6>\u001b[0;34m()\u001b[0m\n\u001b[1;32m      4\u001b[0m     \u001b[0mbatch_size\u001b[0m\u001b[0;34m=\u001b[0m\u001b[0;36m32\u001b[0m\u001b[0;34m\u001b[0m\u001b[0;34m\u001b[0m\u001b[0m\n\u001b[1;32m      5\u001b[0m )\n\u001b[0;32m----> 6\u001b[0;31m test_data_set = image_dataset_from_directory(\n\u001b[0m\u001b[1;32m      7\u001b[0m     \u001b[0;34m\"/content/dogcat/test\"\u001b[0m\u001b[0;34m,\u001b[0m\u001b[0;34m\u001b[0m\u001b[0;34m\u001b[0m\u001b[0m\n\u001b[1;32m      8\u001b[0m     \u001b[0mimage_size\u001b[0m \u001b[0;34m=\u001b[0m \u001b[0;34m(\u001b[0m\u001b[0;36m180\u001b[0m\u001b[0;34m,\u001b[0m\u001b[0;36m180\u001b[0m\u001b[0;34m)\u001b[0m\u001b[0;34m,\u001b[0m\u001b[0;34m\u001b[0m\u001b[0;34m\u001b[0m\u001b[0m\n",
            "\u001b[0;32m/usr/local/lib/python3.10/dist-packages/keras/utils/image_dataset.py\u001b[0m in \u001b[0;36mimage_dataset_from_directory\u001b[0;34m(directory, labels, label_mode, class_names, color_mode, batch_size, image_size, shuffle, seed, validation_split, subset, interpolation, follow_links, crop_to_aspect_ratio, **kwargs)\u001b[0m\n\u001b[1;32m    295\u001b[0m         )\n\u001b[1;32m    296\u001b[0m         \u001b[0;32mif\u001b[0m \u001b[0;32mnot\u001b[0m \u001b[0mimage_paths\u001b[0m\u001b[0;34m:\u001b[0m\u001b[0;34m\u001b[0m\u001b[0;34m\u001b[0m\u001b[0m\n\u001b[0;32m--> 297\u001b[0;31m             raise ValueError(\n\u001b[0m\u001b[1;32m    298\u001b[0m                 \u001b[0;34mf\"No images found in directory {directory}. \"\u001b[0m\u001b[0;34m\u001b[0m\u001b[0;34m\u001b[0m\u001b[0m\n\u001b[1;32m    299\u001b[0m                 \u001b[0;34mf\"Allowed formats: {ALLOWLIST_FORMATS}\"\u001b[0m\u001b[0;34m\u001b[0m\u001b[0;34m\u001b[0m\u001b[0m\n",
            "\u001b[0;31mValueError\u001b[0m: No images found in directory /content/dogcat/test. Allowed formats: ('.bmp', '.gif', '.jpeg', '.jpg', '.png')"
          ]
        }
      ]
    },
    {
      "cell_type": "code",
      "source": [
        "for data_batch, label_batch in train_data_set:\n",
        "  print(f\"데이터 배치 크기 : {data_batch.shape}\")\n",
        "  print(f\"라벨 배치 크기 : {label_batch.shape}\")\n",
        "  break"
      ],
      "metadata": {
        "colab": {
          "base_uri": "https://localhost:8080/"
        },
        "id": "8szUGIUTMGtx",
        "outputId": "adee5c98-4205-4562-c056-35d2ecc67856"
      },
      "execution_count": 12,
      "outputs": [
        {
          "output_type": "stream",
          "name": "stdout",
          "text": [
            "데이터 배치 크기 : (32, 180, 180, 3)\n",
            "라벨 배치 크기 : (32,)\n"
          ]
        }
      ]
    },
    {
      "cell_type": "code",
      "source": [
        "hist = model.fit(\n",
        "   train_data_set,\n",
        "   epochs=30,\n",
        "   validation_data= test_data_set\n",
        ")"
      ],
      "metadata": {
        "id": "aaUvJgpsMPYi"
      },
      "execution_count": null,
      "outputs": []
    },
    {
      "cell_type": "code",
      "source": [],
      "metadata": {
        "id": "04y8xrF0NMzM"
      },
      "execution_count": null,
      "outputs": []
    }
  ]
}