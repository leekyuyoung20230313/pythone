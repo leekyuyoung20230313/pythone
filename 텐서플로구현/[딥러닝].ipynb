{
  "nbformat": 4,
  "nbformat_minor": 0,
  "metadata": {
    "colab": {
      "provenance": []
    },
    "kernelspec": {
      "name": "python3",
      "display_name": "Python 3"
    },
    "language_info": {
      "name": "python"
    }
  },
  "cells": [
    {
      "cell_type": "code",
      "execution_count": 1,
      "metadata": {
        "colab": {
          "base_uri": "https://localhost:8080/"
        },
        "id": "guswZXoqwl6x",
        "outputId": "7ed09df9-0b5b-4982-8220-9a5f42835787"
      },
      "outputs": [
        {
          "output_type": "execute_result",
          "data": {
            "text/plain": [
              "2.0"
            ]
          },
          "metadata": {},
          "execution_count": 1
        }
      ],
      "source": [
        "import tensorflow as tf\n",
        "x = tf.Variable(10.)\n",
        "with tf.GradientTape() as tape:\n",
        "  y = 2*x+3\n",
        "tape.gradient(y,x).numpy()"
      ]
    },
    {
      "cell_type": "code",
      "source": [
        "x = tf.Variable(10.)\n",
        "with tf.GradientTape() as tape:\n",
        "  y = x**2\n",
        "tape.gradient(y,x).numpy()"
      ],
      "metadata": {
        "colab": {
          "base_uri": "https://localhost:8080/"
        },
        "id": "AM7uSy1vxOPU",
        "outputId": "34eb29a5-6d73-4e8d-9c89-c9bd903791f9"
      },
      "execution_count": 2,
      "outputs": [
        {
          "output_type": "execute_result",
          "data": {
            "text/plain": [
              "20.0"
            ]
          },
          "metadata": {},
          "execution_count": 2
        }
      ]
    },
    {
      "cell_type": "markdown",
      "source": [
        "Mnist의 데이터를 이용해서 tensoflow의 라이브러리 레이를 적용한 모델 만들고 학습"
      ],
      "metadata": {
        "id": "Ix9QHALlyGNr"
      }
    },
    {
      "cell_type": "code",
      "source": [
        "import tensorflow as tf"
      ],
      "metadata": {
        "id": "dHhAKyg0xr80"
      },
      "execution_count": 3,
      "outputs": []
    },
    {
      "cell_type": "code",
      "source": [
        "(x_train,y_train),(x_test,y_test) =  tf.keras.datasets.mnist.load_data()\n",
        "x_train_sacled = x_train / 255.0\n",
        "x_test_sacled = x_test / 255.0\n",
        "y_train = tf.keras.utils.to_categorical(y_train,10)\n",
        "y_test = tf.keras.utils.to_categorical(y_test,10)"
      ],
      "metadata": {
        "colab": {
          "base_uri": "https://localhost:8080/"
        },
        "id": "D-Vl2pbuyRkO",
        "outputId": "a94a50cd-4c26-4243-b46a-e43f2179d45e"
      },
      "execution_count": 4,
      "outputs": [
        {
          "output_type": "stream",
          "name": "stdout",
          "text": [
            "Downloading data from https://storage.googleapis.com/tensorflow/tf-keras-datasets/mnist.npz\n",
            "11490434/11490434 [==============================] - 0s 0us/step\n"
          ]
        }
      ]
    },
    {
      "cell_type": "code",
      "source": [
        "x_test_sacled.shape, y_train.shape"
      ],
      "metadata": {
        "colab": {
          "base_uri": "https://localhost:8080/"
        },
        "id": "48VZwjUwyx_j",
        "outputId": "a33e8cb1-a49a-4a2b-9ddd-e5d185498798"
      },
      "execution_count": 5,
      "outputs": [
        {
          "output_type": "execute_result",
          "data": {
            "text/plain": [
              "((10000, 28, 28), (60000, 10))"
            ]
          },
          "metadata": {},
          "execution_count": 5
        }
      ]
    },
    {
      "cell_type": "code",
      "source": [
        "inputs = tf.keras.Input(shape=(28,28))\n",
        "x = tf.keras.layers.Flatten()(inputs)\n",
        "x = tf.keras.layers.Dense(512,activation='relu')(x)\n",
        "outputs = tf.keras.layers.Dense(10,activation='softmax')(x)\n",
        "model = tf.keras.Model(inputs=inputs, outputs=outputs)"
      ],
      "metadata": {
        "id": "qDhl4l4vy0Wr"
      },
      "execution_count": 6,
      "outputs": []
    },
    {
      "cell_type": "code",
      "source": [
        "model.summary()"
      ],
      "metadata": {
        "colab": {
          "base_uri": "https://localhost:8080/"
        },
        "id": "iCYHi7t6zw4m",
        "outputId": "241d961c-8653-4582-f3d0-dae0b99e2b1a"
      },
      "execution_count": 7,
      "outputs": [
        {
          "output_type": "stream",
          "name": "stdout",
          "text": [
            "Model: \"model\"\n",
            "_________________________________________________________________\n",
            " Layer (type)                Output Shape              Param #   \n",
            "=================================================================\n",
            " input_1 (InputLayer)        [(None, 28, 28)]          0         \n",
            "                                                                 \n",
            " flatten (Flatten)           (None, 784)               0         \n",
            "                                                                 \n",
            " dense (Dense)               (None, 512)               401920    \n",
            "                                                                 \n",
            " dense_1 (Dense)             (None, 10)                5130      \n",
            "                                                                 \n",
            "=================================================================\n",
            "Total params: 407,050\n",
            "Trainable params: 407,050\n",
            "Non-trainable params: 0\n",
            "_________________________________________________________________\n"
          ]
        }
      ]
    },
    {
      "cell_type": "code",
      "source": [
        "x_train_sacled.shape"
      ],
      "metadata": {
        "colab": {
          "base_uri": "https://localhost:8080/"
        },
        "id": "yS42J77O0nR_",
        "outputId": "e9dfd84d-906c-4f3a-90be-35d8260395b5"
      },
      "execution_count": 8,
      "outputs": [
        {
          "output_type": "execute_result",
          "data": {
            "text/plain": [
              "(60000, 28, 28)"
            ]
          },
          "metadata": {},
          "execution_count": 8
        }
      ]
    },
    {
      "cell_type": "code",
      "source": [
        "model.compile(optimizer='adam', loss = tf.keras.losses.categorical_crossentropy,metrics=['accuracy'])\n",
        "model.fit(x_train_sacled,y_train,epochs=5,batch_size=128)"
      ],
      "metadata": {
        "colab": {
          "base_uri": "https://localhost:8080/"
        },
        "id": "XNXhBptw0GtD",
        "outputId": "fa5c20e4-b3f8-4ce9-c664-c362fbba2de2"
      },
      "execution_count": 9,
      "outputs": [
        {
          "output_type": "stream",
          "name": "stdout",
          "text": [
            "Epoch 1/5\n",
            "469/469 [==============================] - 13s 26ms/step - loss: 0.2696 - accuracy: 0.9238\n",
            "Epoch 2/5\n",
            "469/469 [==============================] - 10s 22ms/step - loss: 0.1107 - accuracy: 0.9676\n",
            "Epoch 3/5\n",
            "469/469 [==============================] - 5s 12ms/step - loss: 0.0721 - accuracy: 0.9789\n",
            "Epoch 4/5\n",
            "469/469 [==============================] - 6s 12ms/step - loss: 0.0521 - accuracy: 0.9846\n",
            "Epoch 5/5\n",
            "469/469 [==============================] - 6s 14ms/step - loss: 0.0372 - accuracy: 0.9895\n"
          ]
        },
        {
          "output_type": "execute_result",
          "data": {
            "text/plain": [
              "<keras.callbacks.History at 0x7f1af62ae8f0>"
            ]
          },
          "metadata": {},
          "execution_count": 9
        }
      ]
    },
    {
      "cell_type": "markdown",
      "source": [
        "코드로 구현해 보기.."
      ],
      "metadata": {
        "id": "-7cnVH_Y1J7-"
      }
    },
    {
      "cell_type": "code",
      "source": [
        "class NativeDense:\n",
        "  def __init__(self,input_size,output_size,activation):\n",
        "    self.activation = activation\n",
        "    w_shape = (input_size,output_size)\n",
        "    w_initial_value = tf.random.uniform(w_shape,minval=0, maxval=1e-1)\n",
        "    self.W = tf.Variable(w_initial_value)\n",
        "\n",
        "    b_shape = (output_size,)\n",
        "    b_inital_value = tf.zeros(b_shape)\n",
        "    self.b = tf.Variable(b_inital_value)\n",
        "  def __call__(self,inputs):\n",
        "    return self.activation( tf.matmul(inputs,self.W)+self.b )\n",
        "  @property\n",
        "  def weight(self):\n",
        "    return [self.W, self.b]"
      ],
      "metadata": {
        "id": "jNS0aOOl0i_z"
      },
      "execution_count": 10,
      "outputs": []
    },
    {
      "cell_type": "code",
      "source": [
        "class NativeSequential:\n",
        "  def __init__(self, layers):\n",
        "    self.layers = layers\n",
        "  def __call__(self, inputs):\n",
        "    x = inputs\n",
        "    for layer in self.layers:\n",
        "      x = layer(x)\n",
        "    return x\n",
        "  @property\n",
        "  def weights(self):\n",
        "    weights = []\n",
        "    for layer in self.layers:\n",
        "       weights += layer.weight\n",
        "    return weights"
      ],
      "metadata": {
        "id": "pE5hEEnA2eAt"
      },
      "execution_count": 11,
      "outputs": []
    },
    {
      "cell_type": "code",
      "source": [
        "nd1 = NativeDense(input_size=28*28, output_size=512, activation = tf.nn.relu)\n",
        "nd2 = NativeDense(input_size=512, output_size=10, activation = tf.nn.softmax)\n",
        "model = NativeSequential([nd1,nd2])\n",
        "len(model.weights)"
      ],
      "metadata": {
        "colab": {
          "base_uri": "https://localhost:8080/"
        },
        "id": "MlviL0db2txk",
        "outputId": "7b5c1d30-417e-4ee7-b3fa-d868994d08b1"
      },
      "execution_count": 43,
      "outputs": [
        {
          "output_type": "execute_result",
          "data": {
            "text/plain": [
              "4"
            ]
          },
          "metadata": {},
          "execution_count": 43
        }
      ]
    },
    {
      "cell_type": "markdown",
      "source": [
        "미니배치"
      ],
      "metadata": {
        "id": "L2WcRlIH5Zmc"
      }
    },
    {
      "cell_type": "code",
      "source": [
        "import math\n",
        "class BatchGenerator:\n",
        "  def __init__(self,images, labels, batch_size=128):\n",
        "    self.index = 0\n",
        "    self.images = images\n",
        "    self.labels = labels\n",
        "    self.batch_size = batch_size\n",
        "    self.num_batches = math.ceil(len(images) / batch_size)\n",
        "  def next(self):\n",
        "    images = self.images[self.index:self.index+self.batch_size]\n",
        "    labels = self.labels[self.index:self.index+self.batch_size]\n",
        "    self.index += self.batch_size\n",
        "    return images,labels"
      ],
      "metadata": {
        "id": "P_iYAhzc4Ovk"
      },
      "execution_count": 44,
      "outputs": []
    },
    {
      "cell_type": "code",
      "source": [],
      "metadata": {
        "id": "fcJh6R8_zA8-"
      },
      "execution_count": 44,
      "outputs": []
    },
    {
      "cell_type": "markdown",
      "source": [
        "훈련스텝"
      ],
      "metadata": {
        "id": "lqsIwE-0tvsS"
      }
    },
    {
      "cell_type": "code",
      "source": [
        "lr = 1e-3\n",
        "def update_weights(gradients, weights):\n",
        "  for g, w in zip(gradients, weights):\n",
        "    w.assign_sub(g*lr)"
      ],
      "metadata": {
        "id": "4GqPzmIwvkFS"
      },
      "execution_count": 45,
      "outputs": []
    },
    {
      "cell_type": "code",
      "source": [
        "def one_traning_step(model, images_batch, labels_batch):\n",
        "  with tf.GradientTape() as tape:\n",
        "    predictions = model(images_batch)\n",
        "    per_sample_losses = tf.keras.losses.sparse_categorical_crossentropy(labels_batch,predictions)\n",
        "    average_loss = tf.reduce_mean(per_sample_losses)\n",
        "  gradients =  tape.gradient(average_loss,model.weights)\n",
        "  update_weights(gradients,model.weights)\n",
        "  return average_loss"
      ],
      "metadata": {
        "id": "TfPcMyJZ6MWl"
      },
      "execution_count": 46,
      "outputs": []
    },
    {
      "cell_type": "code",
      "source": [
        "# optimizer = tf.keras.optimizers.SGD(learning_rate=1e-3)\n",
        "optimizer = tf.keras.optimizers.Adam(learning_rate=1e-3)\n",
        "def update_weights(gradients,weights):\n",
        "    optimizer.apply_gradients(zip(gradients,weights))"
      ],
      "metadata": {
        "id": "xu3klIS1vjCo"
      },
      "execution_count": 47,
      "outputs": []
    },
    {
      "cell_type": "markdown",
      "source": [
        "전체 훈련 루프"
      ],
      "metadata": {
        "id": "rEWZ_NtyxCvK"
      }
    },
    {
      "cell_type": "code",
      "source": [
        "def fit(model, images,labels,epochs,batch_size=128):\n",
        "  for epoch_counter in range(epochs):\n",
        "    print(f\"epoch {epoch_counter+1}\")\n",
        "    batch_generator =  BatchGenerator(images,labels)\n",
        "    for batch_counter in range(batch_generator.num_batches):\n",
        "      images_batch, labels_batch =  batch_generator.next()\n",
        "      loss = one_traning_step(model,images_batch, labels_batch)\n",
        "      if batch_counter % 100 == 0:\n",
        "        print(f\"{batch_counter}번째 손실값 : {loss:.2f}\")"
      ],
      "metadata": {
        "id": "qusTOtOOw-U5"
      },
      "execution_count": 48,
      "outputs": []
    },
    {
      "cell_type": "code",
      "source": [
        "(train_images,train_labels),(test_images,test_labels) = tf.keras.datasets.mnist.load_data()\n",
        "train_images = train_images.reshape(-1,28*28)\n",
        "train_images = train_images.astype(\"float32\") / 255\n",
        "test_images = test_images.reshape(-1,28*28)\n",
        "test_images = test_images.astype(\"float32\") / 255\n",
        "fit(model,train_images, train_labels, epochs=10,batch_size=128)"
      ],
      "metadata": {
        "colab": {
          "base_uri": "https://localhost:8080/"
        },
        "id": "zp642FD-x_-o",
        "outputId": "abe9dc5b-6167-4fe3-98f3-b90f44c38a01"
      },
      "execution_count": 49,
      "outputs": [
        {
          "output_type": "stream",
          "name": "stdout",
          "text": [
            "epoch 1\n",
            "0번째 손실값 : 5.03\n",
            "100번째 손실값 : 0.46\n",
            "200번째 손실값 : 0.31\n",
            "300번째 손실값 : 0.30\n",
            "400번째 손실값 : 0.52\n",
            "epoch 2\n",
            "0번째 손실값 : 0.30\n",
            "100번째 손실값 : 0.23\n",
            "200번째 손실값 : 0.25\n",
            "300번째 손실값 : 0.25\n",
            "400번째 손실값 : 0.50\n",
            "epoch 3\n",
            "0번째 손실값 : 0.18\n",
            "100번째 손실값 : 0.20\n",
            "200번째 손실값 : 0.24\n",
            "300번째 손실값 : 0.25\n",
            "400번째 손실값 : 0.46\n",
            "epoch 4\n",
            "0번째 손실값 : 0.17\n",
            "100번째 손실값 : 0.20\n",
            "200번째 손실값 : 0.24\n",
            "300번째 손실값 : 0.26\n",
            "400번째 손실값 : 0.35\n",
            "epoch 5\n",
            "0번째 손실값 : 0.18\n",
            "100번째 손실값 : 0.18\n",
            "200번째 손실값 : 0.25\n",
            "300번째 손실값 : 0.23\n",
            "400번째 손실값 : 0.31\n",
            "epoch 6\n",
            "0번째 손실값 : 0.18\n",
            "100번째 손실값 : 0.18\n",
            "200번째 손실값 : 0.24\n",
            "300번째 손실값 : 0.20\n",
            "400번째 손실값 : 0.26\n",
            "epoch 7\n",
            "0번째 손실값 : 0.17\n",
            "100번째 손실값 : 0.17\n",
            "200번째 손실값 : 0.22\n",
            "300번째 손실값 : 0.18\n",
            "400번째 손실값 : 0.20\n",
            "epoch 8\n",
            "0번째 손실값 : 0.15\n",
            "100번째 손실값 : 0.14\n",
            "200번째 손실값 : 0.18\n",
            "300번째 손실값 : 0.15\n",
            "400번째 손실값 : 0.16\n",
            "epoch 9\n",
            "0번째 손실값 : 0.13\n",
            "100번째 손실값 : 0.11\n",
            "200번째 손실값 : 0.13\n",
            "300번째 손실값 : 0.11\n",
            "400번째 손실값 : 0.14\n",
            "epoch 10\n",
            "0번째 손실값 : 0.10\n",
            "100번째 손실값 : 0.08\n",
            "200번째 손실값 : 0.09\n",
            "300번째 손실값 : 0.09\n",
            "400번째 손실값 : 0.12\n"
          ]
        }
      ]
    },
    {
      "cell_type": "markdown",
      "source": [
        "모델 평가"
      ],
      "metadata": {
        "id": "W6E3GAUH1H8c"
      }
    },
    {
      "cell_type": "code",
      "source": [
        "import numpy as np\n",
        "\n",
        "predictions = model(test_images)\n",
        "predictions = predictions.numpy()\n",
        "predicted_labels = np.argmax(predictions,axis=1)\n",
        "maches = predicted_labels == test_labels\n",
        "print(f\"정확도 : {maches.mean():.2f}\")"
      ],
      "metadata": {
        "colab": {
          "base_uri": "https://localhost:8080/"
        },
        "id": "tXcnob1lyhoo",
        "outputId": "12079da8-570e-4430-e4db-e3c4deb2982f"
      },
      "execution_count": 52,
      "outputs": [
        {
          "output_type": "stream",
          "name": "stdout",
          "text": [
            "정확도 : 0.96\n"
          ]
        }
      ]
    },
    {
      "cell_type": "code",
      "source": [],
      "metadata": {
        "id": "GVhA5Zbk1PsT"
      },
      "execution_count": null,
      "outputs": []
    }
  ]
}