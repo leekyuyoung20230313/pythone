{
  "nbformat": 4,
  "nbformat_minor": 0,
  "metadata": {
    "colab": {
      "provenance": []
    },
    "kernelspec": {
      "name": "python3",
      "display_name": "Python 3"
    },
    "language_info": {
      "name": "python"
    }
  },
  "cells": [
    {
      "cell_type": "markdown",
      "source": [
        "MNIST\n",
        "   - 255. 표준화\n",
        "   - 28*28 rehshape\n",
        "   - 이미지에 노이즈 추가\n",
        "\n",
        "일반화\n",
        "\n",
        "신경망 하이퍼 파라메터 튜닝\n"
      ],
      "metadata": {
        "id": "pAjFEJjfg3nW"
      }
    },
    {
      "cell_type": "code",
      "execution_count": 1,
      "metadata": {
        "colab": {
          "base_uri": "https://localhost:8080/"
        },
        "id": "kQwKWpy5gwQR",
        "outputId": "fc3e259d-4bd4-42d7-e142-f70576fe6fb9"
      },
      "outputs": [
        {
          "output_type": "stream",
          "name": "stdout",
          "text": [
            "Downloading data from https://storage.googleapis.com/tensorflow/tf-keras-datasets/mnist.npz\n",
            "11490434/11490434 [==============================] - 0s 0us/step\n"
          ]
        }
      ],
      "source": [
        "import tensorflow as tf\n",
        "import numpy as np\n",
        "(train_images,train_labels),(test_imagees,test_labels) = tf.keras.datasets.mnist.load_data()\n",
        "train_images = train_images.reshape(-1,28*28)\n",
        "train_images = train_images.astype('float32') / 255.\n",
        "test_imagees = test_imagees.reshape(-1,28*28)\n",
        "test_imagees = test_imagees.astype('float32') / 255.\n",
        "\n",
        "train_images_with_noise = np.concatenate([train_images, np.random.random( (len(train_images),784) )], axis=1 )\n",
        "train_images_with_zeros = np.concatenate([train_images, np.zeros((len(train_images),784) )], axis=1 )"
      ]
    },
    {
      "cell_type": "code",
      "source": [
        "from keras import Sequential\n",
        "def getmodel():\n",
        "    model = tf.keras.Sequential([\n",
        "        tf.keras.layers.Dense(512,activation='relu'),\n",
        "        tf.keras.layers.Dense(10,activation='softmax')\n",
        "    ])\n",
        "    model.compile(optimizer='rmsprop',loss = tf.keras.losses.sparse_categorical_crossentropy,metrics=['accuracy'])\n",
        "    return model\n",
        "\n",
        "model = getmodel()\n",
        "hist_noise = model.fit(train_images_with_noise, train_labels,epochs=10,batch_size=128,validation_split=0.2)\n",
        "hist_zero = model.fit(train_images_with_zeros, train_labels,epochs=10,batch_size=128,validation_split=0.2)"
      ],
      "metadata": {
        "id": "uqwlhFkpifcG"
      },
      "execution_count": null,
      "outputs": []
    },
    {
      "cell_type": "code",
      "source": [
        "import matplotlib.pyplot as plt\n",
        "plt.plot(hist_noise.history['val_accuracy'],label = 'noise val accuracy')\n",
        "plt.plot(hist_zero.history['val_accuracy'],label = 'zero val accuracy')\n",
        "plt.legend()\n",
        "plt.show()"
      ],
      "metadata": {
        "colab": {
          "base_uri": "https://localhost:8080/",
          "height": 430
        },
        "id": "RRv2TyyLjcrv",
        "outputId": "f7fe3275-51d5-4cef-ed19-c9f497f1477a"
      },
      "execution_count": 4,
      "outputs": [
        {
          "output_type": "display_data",
          "data": {
            "text/plain": [
              "<Figure size 640x480 with 1 Axes>"
            ],
            "image/png": "[encoded data removed]"
          },
          "metadata": {}
        }
      ]
    },
    {
      "cell_type": "markdown",
      "source": [],
      "metadata": {
        "id": "DzCl6CJ8k9th"
      }
    },
    {
      "cell_type": "code",
      "source": [
        "# 정답데이터를 복사\n",
        "random_train_labels = train_labels[:]\n",
        "np.random.shuffle(random_train_labels)\n",
        "model = getmodel()\n",
        "hist = model.fit(train_images, random_train_labels,epochs=10,batch_size=128,validation_split=0.2)"
      ],
      "metadata": {
        "colab": {
          "base_uri": "https://localhost:8080/"
        },
        "id": "Kr9-08jckX3W",
        "outputId": "a43a6fbf-1b2d-4a74-f7ac-6ef9ada0deb0"
      },
      "execution_count": 5,
      "outputs": [
        {
          "output_type": "stream",
          "name": "stdout",
          "text": [
            "Epoch 1/10\n",
            "375/375 [==============================] - 5s 13ms/step - loss: 2.3145 - accuracy: 0.1041 - val_loss: 2.3047 - val_accuracy: 0.1098\n",
            "Epoch 2/10\n",
            "375/375 [==============================] - 4s 12ms/step - loss: 2.2991 - accuracy: 0.1173 - val_loss: 2.3116 - val_accuracy: 0.1017\n",
            "Epoch 3/10\n",
            "375/375 [==============================] - 4s 11ms/step - loss: 2.2904 - accuracy: 0.1274 - val_loss: 2.3169 - val_accuracy: 0.1044\n",
            "Epoch 4/10\n",
            "375/375 [==============================] - 5s 12ms/step - loss: 2.2788 - accuracy: 0.1369 - val_loss: 2.3245 - val_accuracy: 0.1002\n",
            "Epoch 5/10\n",
            "375/375 [==============================] - 5s 13ms/step - loss: 2.2634 - accuracy: 0.1517 - val_loss: 2.3359 - val_accuracy: 0.1059\n",
            "Epoch 6/10\n",
            "375/375 [==============================] - 4s 11ms/step - loss: 2.2440 - accuracy: 0.1648 - val_loss: 2.3467 - val_accuracy: 0.1091\n",
            "Epoch 7/10\n",
            "375/375 [==============================] - 5s 13ms/step - loss: 2.2209 - accuracy: 0.1773 - val_loss: 2.3503 - val_accuracy: 0.1028\n",
            "Epoch 8/10\n",
            "375/375 [==============================] - 4s 11ms/step - loss: 2.1942 - accuracy: 0.1968 - val_loss: 2.3747 - val_accuracy: 0.0983\n",
            "Epoch 9/10\n",
            "375/375 [==============================] - 4s 11ms/step - loss: 2.1648 - accuracy: 0.2102 - val_loss: 2.3936 - val_accuracy: 0.1005\n",
            "Epoch 10/10\n",
            "375/375 [==============================] - 5s 13ms/step - loss: 2.1327 - accuracy: 0.2294 - val_loss: 2.4076 - val_accuracy: 0.1088\n"
          ]
        }
      ]
    },
    {
      "cell_type": "markdown",
      "source": [
        "훈련성능 향상"
      ],
      "metadata": {
        "id": "zcRSasMimOpf"
      }
    },
    {
      "cell_type": "code",
      "source": [
        "(train_images,train_labels),(test_imagees,test_labels) = tf.keras.datasets.mnist.load_data()\n",
        "train_images = train_images.reshape(-1,28*28)\n",
        "train_images = train_images.astype('float32') / 255.\n",
        "test_imagees = test_imagees.reshape(-1,28*28)\n",
        "test_imagees = test_imagees.astype('float32') / 255.\n",
        "\n",
        "def getmodel(opt):\n",
        "    model = tf.keras.Sequential([\n",
        "        tf.keras.layers.Dense(512,activation='relu'),\n",
        "        tf.keras.layers.Dense(10,activation='softmax')\n",
        "    ])\n",
        "    model.compile(optimizer=opt,loss = tf.keras.losses.sparse_categorical_crossentropy,metrics=['accuracy'])\n",
        "    return model"
      ],
      "metadata": {
        "id": "cVz_nMlNlu8N"
      },
      "execution_count": 12,
      "outputs": []
    },
    {
      "cell_type": "code",
      "source": [
        "opt = tf.keras.optimizers.RMSprop(learning_rate=1.)\n",
        "model = getmodel(opt)\n",
        "hist = model.fit(train_images,train_labels,epochs=10,batch_size=128,validation_split=0.2)"
      ],
      "metadata": {
        "colab": {
          "base_uri": "https://localhost:8080/"
        },
        "id": "J9o-o9CHmel-",
        "outputId": "5aeb6c52-97e4-40f3-b316-05207076df3c"
      },
      "execution_count": 13,
      "outputs": [
        {
          "output_type": "stream",
          "name": "stdout",
          "text": [
            "Epoch 1/10\n",
            "375/375 [==============================] - 6s 15ms/step - loss: 481.9367 - accuracy: 0.2869 - val_loss: 2.4020 - val_accuracy: 0.1443\n",
            "Epoch 2/10\n",
            "375/375 [==============================] - 4s 12ms/step - loss: 2.8155 - accuracy: 0.1562 - val_loss: 2.3505 - val_accuracy: 0.1459\n",
            "Epoch 3/10\n",
            "375/375 [==============================] - 4s 11ms/step - loss: 2.4724 - accuracy: 0.1323 - val_loss: 2.3758 - val_accuracy: 0.1308\n",
            "Epoch 4/10\n",
            "375/375 [==============================] - 7s 18ms/step - loss: 2.4190 - accuracy: 0.1388 - val_loss: 2.4148 - val_accuracy: 0.1545\n",
            "Epoch 5/10\n",
            "375/375 [==============================] - 4s 12ms/step - loss: 2.3856 - accuracy: 0.1516 - val_loss: 2.2991 - val_accuracy: 0.1612\n",
            "Epoch 6/10\n",
            "375/375 [==============================] - 4s 11ms/step - loss: 2.5646 - accuracy: 0.1733 - val_loss: 2.2470 - val_accuracy: 0.1852\n",
            "Epoch 7/10\n",
            "375/375 [==============================] - 5s 14ms/step - loss: 2.4229 - accuracy: 0.1723 - val_loss: 2.2902 - val_accuracy: 0.1618\n",
            "Epoch 8/10\n",
            "375/375 [==============================] - 4s 11ms/step - loss: 2.3940 - accuracy: 0.1428 - val_loss: 2.5783 - val_accuracy: 0.1150\n",
            "Epoch 9/10\n",
            "375/375 [==============================] - 4s 11ms/step - loss: 2.4461 - accuracy: 0.1637 - val_loss: 2.3836 - val_accuracy: 0.1072\n",
            "Epoch 10/10\n",
            "375/375 [==============================] - 5s 13ms/step - loss: 2.4481 - accuracy: 0.1503 - val_loss: 2.3203 - val_accuracy: 0.1976\n"
          ]
        }
      ]
    },
    {
      "cell_type": "code",
      "source": [
        "opt = tf.keras.optimizers.RMSprop(learning_rate=1e-2)\n",
        "model = getmodel(opt)\n",
        "hist = model.fit(train_images,train_labels,epochs=10,batch_size=128,validation_split=0.2)"
      ],
      "metadata": {
        "colab": {
          "base_uri": "https://localhost:8080/"
        },
        "id": "VaYjMUiHmwpG",
        "outputId": "e5b48b59-abd0-4023-9fa9-bad6e8e71294"
      },
      "execution_count": 14,
      "outputs": [
        {
          "output_type": "stream",
          "name": "stdout",
          "text": [
            "Epoch 1/10\n",
            "375/375 [==============================] - 5s 11ms/step - loss: 0.3594 - accuracy: 0.9121 - val_loss: 0.1479 - val_accuracy: 0.9589\n",
            "Epoch 2/10\n",
            "375/375 [==============================] - 4s 11ms/step - loss: 0.1270 - accuracy: 0.9643 - val_loss: 0.1412 - val_accuracy: 0.9650\n",
            "Epoch 3/10\n",
            "375/375 [==============================] - 5s 14ms/step - loss: 0.0965 - accuracy: 0.9743 - val_loss: 0.1460 - val_accuracy: 0.9683\n",
            "Epoch 4/10\n",
            "375/375 [==============================] - 4s 11ms/step - loss: 0.0811 - accuracy: 0.9797 - val_loss: 0.1748 - val_accuracy: 0.9661\n",
            "Epoch 5/10\n",
            "375/375 [==============================] - 4s 12ms/step - loss: 0.0653 - accuracy: 0.9834 - val_loss: 0.1570 - val_accuracy: 0.9696\n",
            "Epoch 6/10\n",
            "375/375 [==============================] - 5s 13ms/step - loss: 0.0568 - accuracy: 0.9859 - val_loss: 0.1717 - val_accuracy: 0.9713\n",
            "Epoch 7/10\n",
            "375/375 [==============================] - 4s 10ms/step - loss: 0.0544 - accuracy: 0.9867 - val_loss: 0.1637 - val_accuracy: 0.9753\n",
            "Epoch 8/10\n",
            "375/375 [==============================] - 5s 12ms/step - loss: 0.0471 - accuracy: 0.9892 - val_loss: 0.1966 - val_accuracy: 0.9738\n",
            "Epoch 9/10\n",
            "375/375 [==============================] - 4s 12ms/step - loss: 0.0411 - accuracy: 0.9900 - val_loss: 0.2259 - val_accuracy: 0.9733\n",
            "Epoch 10/10\n",
            "375/375 [==============================] - 4s 12ms/step - loss: 0.0370 - accuracy: 0.9914 - val_loss: 0.2199 - val_accuracy: 0.9750\n"
          ]
        }
      ]
    },
    {
      "cell_type": "code",
      "source": [
        "opt = tf.keras.optimizers.RMSprop(learning_rate=1e-7)\n",
        "model = getmodel(opt)\n",
        "hist = model.fit(train_images,train_labels,epochs=10,batch_size=128,validation_split=0.2)"
      ],
      "metadata": {
        "colab": {
          "base_uri": "https://localhost:8080/"
        },
        "id": "9iXKY0AsncAF",
        "outputId": "4d7510a0-0dac-4134-af3c-9b3468665b1b"
      },
      "execution_count": 16,
      "outputs": [
        {
          "output_type": "stream",
          "name": "stdout",
          "text": [
            "Epoch 1/10\n",
            "375/375 [==============================] - 5s 11ms/step - loss: 2.4157 - accuracy: 0.1165 - val_loss: 2.4056 - val_accuracy: 0.1185\n",
            "Epoch 2/10\n",
            "375/375 [==============================] - 4s 11ms/step - loss: 2.4047 - accuracy: 0.1206 - val_loss: 2.3947 - val_accuracy: 0.1234\n",
            "Epoch 3/10\n",
            "375/375 [==============================] - 5s 13ms/step - loss: 2.3939 - accuracy: 0.1247 - val_loss: 2.3840 - val_accuracy: 0.1283\n",
            "Epoch 4/10\n",
            "375/375 [==============================] - 4s 10ms/step - loss: 2.3833 - accuracy: 0.1280 - val_loss: 2.3733 - val_accuracy: 0.1338\n",
            "Epoch 5/10\n",
            "375/375 [==============================] - 4s 11ms/step - loss: 2.3727 - accuracy: 0.1325 - val_loss: 2.3628 - val_accuracy: 0.1388\n",
            "Epoch 6/10\n",
            "375/375 [==============================] - 5s 13ms/step - loss: 2.3622 - accuracy: 0.1369 - val_loss: 2.3523 - val_accuracy: 0.1423\n",
            "Epoch 7/10\n",
            "375/375 [==============================] - 4s 11ms/step - loss: 2.3519 - accuracy: 0.1407 - val_loss: 2.3420 - val_accuracy: 0.1480\n",
            "Epoch 8/10\n",
            "375/375 [==============================] - 4s 12ms/step - loss: 2.3416 - accuracy: 0.1446 - val_loss: 2.3317 - val_accuracy: 0.1522\n",
            "Epoch 9/10\n",
            "375/375 [==============================] - 5s 12ms/step - loss: 2.3314 - accuracy: 0.1485 - val_loss: 2.3215 - val_accuracy: 0.1559\n",
            "Epoch 10/10\n",
            "375/375 [==============================] - 5s 12ms/step - loss: 2.3213 - accuracy: 0.1529 - val_loss: 2.3114 - val_accuracy: 0.1596\n"
          ]
        }
      ]
    },
    {
      "cell_type": "markdown",
      "source": [
        "모델용량 늘리기"
      ],
      "metadata": {
        "id": "MrvMJ019sYAA"
      }
    },
    {
      "cell_type": "code",
      "source": [
        "def getmodel(opt):\n",
        "    model = tf.keras.Sequential([\n",
        "        tf.keras.layers.Dense(128,activation='relu'),\n",
        "        tf.keras.layers.Dense(64,activation='relu'),\n",
        "        tf.keras.layers.Dense(32,activation='relu'),\n",
        "        tf.keras.layers.Dense(10,activation='softmax')\n",
        "    ])\n",
        "    model.compile(optimizer=opt,loss = tf.keras.losses.sparse_categorical_crossentropy,metrics=['accuracy'])\n",
        "    return model\n",
        "opt = tf.keras.optimizers.RMSprop(learning_rate=1e-2)\n",
        "model = getmodel(opt)\n",
        "hist = model.fit(train_images,train_labels,epochs=10,batch_size=128,validation_split=0.2)"
      ],
      "metadata": {
        "colab": {
          "base_uri": "https://localhost:8080/"
        },
        "id": "WIRBrDaisIC3",
        "outputId": "af641e54-0716-436d-ddc1-bb368ec229a4"
      },
      "execution_count": 18,
      "outputs": [
        {
          "output_type": "stream",
          "name": "stdout",
          "text": [
            "Epoch 1/10\n",
            "375/375 [==============================] - 34s 6ms/step - loss: 0.4171 - accuracy: 0.8733 - val_loss: 0.2457 - val_accuracy: 0.9252\n",
            "Epoch 2/10\n",
            "375/375 [==============================] - 2s 6ms/step - loss: 0.1771 - accuracy: 0.9496 - val_loss: 0.1305 - val_accuracy: 0.9653\n",
            "Epoch 3/10\n",
            "375/375 [==============================] - 2s 6ms/step - loss: 0.1395 - accuracy: 0.9618 - val_loss: 0.1448 - val_accuracy: 0.9663\n",
            "Epoch 4/10\n",
            "375/375 [==============================] - 2s 6ms/step - loss: 0.1255 - accuracy: 0.9678 - val_loss: 0.1688 - val_accuracy: 0.9606\n",
            "Epoch 5/10\n",
            "375/375 [==============================] - 3s 9ms/step - loss: 0.1142 - accuracy: 0.9709 - val_loss: 0.1667 - val_accuracy: 0.9614\n",
            "Epoch 6/10\n",
            "375/375 [==============================] - 2s 6ms/step - loss: 0.1049 - accuracy: 0.9733 - val_loss: 0.2177 - val_accuracy: 0.9573\n",
            "Epoch 7/10\n",
            "375/375 [==============================] - 2s 6ms/step - loss: 0.1079 - accuracy: 0.9730 - val_loss: 0.1508 - val_accuracy: 0.9682\n",
            "Epoch 8/10\n",
            "375/375 [==============================] - 2s 6ms/step - loss: 0.0983 - accuracy: 0.9753 - val_loss: 0.1572 - val_accuracy: 0.9645\n",
            "Epoch 9/10\n",
            "375/375 [==============================] - 2s 6ms/step - loss: 0.0960 - accuracy: 0.9766 - val_loss: 0.2258 - val_accuracy: 0.9629\n",
            "Epoch 10/10\n",
            "375/375 [==============================] - 3s 8ms/step - loss: 0.0923 - accuracy: 0.9772 - val_loss: 0.2111 - val_accuracy: 0.9634\n"
          ]
        }
      ]
    },
    {
      "cell_type": "code",
      "source": [
        "def getmodel(opt):\n",
        "    regularizers = tf.keras.regularizers\n",
        "    model = tf.keras.Sequential([\n",
        "        tf.keras.layers.Dense(16,activation='relu',kernel_regularizer=regularizers.l2(l2=0.001)),\n",
        "        tf.keras.layers.Dense(16,activation='relu'),\n",
        "        tf.keras.layers.Dense(10,activation='softmax')\n",
        "    ])\n",
        "    model.compile(optimizer=opt,loss = tf.keras.losses.sparse_categorical_crossentropy,metrics=['accuracy'])\n",
        "    return model\n",
        "est = tf.keras.callbacks.EarlyStopping(patience=3,restore_best_weights=True)\n",
        "opt = tf.keras.optimizers.RMSprop(learning_rate=1e-2)\n",
        "model = getmodel(opt)\n",
        "hist = model.fit(train_images,train_labels,epochs=1000,batch_size=128,validation_split=0.2,callbacks=[est])"
      ],
      "metadata": {
        "colab": {
          "base_uri": "https://localhost:8080/"
        },
        "id": "YQZToUHQsqsf",
        "outputId": "f9372c6c-7d7f-4b3d-c2b5-db2294a4247a"
      },
      "execution_count": null,
      "outputs": [
        {
          "output_type": "stream",
          "name": "stdout",
          "text": [
            "Epoch 1/1000\n",
            "375/375 [==============================] - 2s 4ms/step - loss: 0.5292 - accuracy: 0.8594 - val_loss: 0.3771 - val_accuracy: 0.9084\n",
            "Epoch 2/1000\n",
            "375/375 [==============================] - 1s 4ms/step - loss: 0.3832 - accuracy: 0.9086 - val_loss: 0.3548 - val_accuracy: 0.9180\n",
            "Epoch 3/1000\n",
            "375/375 [==============================] - 1s 3ms/step - loss: 0.3639 - accuracy: 0.9150 - val_loss: 0.3429 - val_accuracy: 0.9184\n",
            "Epoch 4/1000\n",
            "375/375 [==============================] - 2s 4ms/step - loss: 0.3570 - accuracy: 0.9178 - val_loss: 0.3269 - val_accuracy: 0.9258\n",
            "Epoch 5/1000\n",
            "375/375 [==============================] - 2s 5ms/step - loss: 0.3499 - accuracy: 0.9194 - val_loss: 0.2979 - val_accuracy: 0.9367\n",
            "Epoch 6/1000\n",
            "375/375 [==============================] - 1s 4ms/step - loss: 0.3476 - accuracy: 0.9211 - val_loss: 0.3074 - val_accuracy: 0.9340\n",
            "Epoch 7/1000\n",
            "375/375 [==============================] - 1s 4ms/step - loss: 0.3442 - accuracy: 0.9211 - val_loss: 0.3320 - val_accuracy: 0.9259\n",
            "Epoch 8/1000\n",
            "375/375 [==============================] - 1s 4ms/step - loss: 0.3433 - accuracy: 0.9222 - val_loss: 0.2759 - val_accuracy: 0.9427\n",
            "Epoch 9/1000\n",
            "375/375 [==============================] - 1s 3ms/step - loss: 0.3382 - accuracy: 0.9226 - val_loss: 0.2988 - val_accuracy: 0.9367\n",
            "Epoch 10/1000\n",
            "255/375 [===================>..........] - ETA: 0s - loss: 0.3334 - accuracy: 0.9255"
          ]
        }
      ]
    },
    {
      "cell_type": "code",
      "source": [],
      "metadata": {
        "id": "myxCqzgSu4JJ"
      },
      "execution_count": null,
      "outputs": []
    }
  ]
}