{
  "nbformat": 4,
  "nbformat_minor": 0,
  "metadata": {
    "colab": {
      "provenance": [],
      "gpuType": "A100",
      "machine_shape": "hm"
    },
    "kernelspec": {
      "name": "python3",
      "display_name": "Python 3"
    },
    "language_info": {
      "name": "python"
    },
    "accelerator": "GPU"
  },
  "cells": [
    {
      "cell_type": "code",
      "execution_count": 2,
      "metadata": {
        "colab": {
          "base_uri": "https://localhost:8080/"
        },
        "id": "lDKQnYJ708N3",
        "outputId": "905408a8-90d1-4131-bbb1-02e04878d419"
      },
      "outputs": [
        {
          "output_type": "stream",
          "name": "stdout",
          "text": [
            "Archive:  /content/2009_2016.csv.zip\n",
            "  inflating: jena_climate_2009_2016.csv  \n",
            "  inflating: __MACOSX/._jena_climate_2009_2016.csv  \n"
          ]
        }
      ],
      "source": [
        "!unzip /content/2009_2016.csv.zip"
      ]
    },
    {
      "cell_type": "code",
      "source": [
        "import pandas as pd\n",
        "df = pd.read_csv('/content/jena_climate_2009_2016.csv')\n",
        "df.head()"
      ],
      "metadata": {
        "colab": {
          "base_uri": "https://localhost:8080/",
          "height": 391
        },
        "id": "iNRqz1km2qqf",
        "outputId": "b85b4786-0f06-45d8-bcbc-bddab9bd9e6d"
      },
      "execution_count": 3,
      "outputs": [
        {
          "output_type": "execute_result",
          "data": {
            "text/plain": [
              "             Date Time  p (mbar)  T (degC)  Tpot (K)  Tdew (degC)  rh (%)  \\\n",
              "0  01.01.2009 00:10:00    996.52     -8.02    265.40        -8.90    93.3   \n",
              "1  01.01.2009 00:20:00    996.57     -8.41    265.01        -9.28    93.4   \n",
              "2  01.01.2009 00:30:00    996.53     -8.51    264.91        -9.31    93.9   \n",
              "3  01.01.2009 00:40:00    996.51     -8.31    265.12        -9.07    94.2   \n",
              "4  01.01.2009 00:50:00    996.51     -8.27    265.15        -9.04    94.1   \n",
              "\n",
              "   VPmax (mbar)  VPact (mbar)  VPdef (mbar)  sh (g/kg)  H2OC (mmol/mol)  \\\n",
              "0          3.33          3.11          0.22       1.94             3.12   \n",
              "1          3.23          3.02          0.21       1.89             3.03   \n",
              "2          3.21          3.01          0.20       1.88             3.02   \n",
              "3          3.26          3.07          0.19       1.92             3.08   \n",
              "4          3.27          3.08          0.19       1.92             3.09   \n",
              "\n",
              "   rho (g/m**3)  wv (m/s)  max. wv (m/s)  wd (deg)  \n",
              "0       1307.75      1.03           1.75     152.3  \n",
              "1       1309.80      0.72           1.50     136.1  \n",
              "2       1310.24      0.19           0.63     171.6  \n",
              "3       1309.19      0.34           0.50     198.0  \n",
              "4       1309.00      0.32           0.63     214.3  "
            ],
            "text/html": [
              "\n",
              "  <div id=\"df-432e9a51-e02f-4078-9dba-b9d73cc90e0f\">\n",
              "    <div class=\"colab-df-container\">\n",
              "      <div>\n",
              "<style scoped>\n",
              "    .dataframe tbody tr th:only-of-type {\n",
              "        vertical-align: middle;\n",
              "    }\n",
              "\n",
              "    .dataframe tbody tr th {\n",
              "        vertical-align: top;\n",
              "    }\n",
              "\n",
              "    .dataframe thead th {\n",
              "        text-align: right;\n",
              "    }\n",
              "</style>\n",
              "<table border=\"1\" class=\"dataframe\">\n",
              "  <thead>\n",
              "    <tr style=\"text-align: right;\">\n",
              "      <th></th>\n",
              "      <th>Date Time</th>\n",
              "      <th>p (mbar)</th>\n",
              "      <th>T (degC)</th>\n",
              "      <th>Tpot (K)</th>\n",
              "      <th>Tdew (degC)</th>\n",
              "      <th>rh (%)</th>\n",
              "      <th>VPmax (mbar)</th>\n",
              "      <th>VPact (mbar)</th>\n",
              "      <th>VPdef (mbar)</th>\n",
              "      <th>sh (g/kg)</th>\n",
              "      <th>H2OC (mmol/mol)</th>\n",
              "      <th>rho (g/m**3)</th>\n",
              "      <th>wv (m/s)</th>\n",
              "      <th>max. wv (m/s)</th>\n",
              "      <th>wd (deg)</th>\n",
              "    </tr>\n",
              "  </thead>\n",
              "  <tbody>\n",
              "    <tr>\n",
              "      <th>0</th>\n",
              "      <td>01.01.2009 00:10:00</td>\n",
              "      <td>996.52</td>\n",
              "      <td>-8.02</td>\n",
              "      <td>265.40</td>\n",
              "      <td>-8.90</td>\n",
              "      <td>93.3</td>\n",
              "      <td>3.33</td>\n",
              "      <td>3.11</td>\n",
              "      <td>0.22</td>\n",
              "      <td>1.94</td>\n",
              "      <td>3.12</td>\n",
              "      <td>1307.75</td>\n",
              "      <td>1.03</td>\n",
              "      <td>1.75</td>\n",
              "      <td>152.3</td>\n",
              "    </tr>\n",
              "    <tr>\n",
              "      <th>1</th>\n",
              "      <td>01.01.2009 00:20:00</td>\n",
              "      <td>996.57</td>\n",
              "      <td>-8.41</td>\n",
              "      <td>265.01</td>\n",
              "      <td>-9.28</td>\n",
              "      <td>93.4</td>\n",
              "      <td>3.23</td>\n",
              "      <td>3.02</td>\n",
              "      <td>0.21</td>\n",
              "      <td>1.89</td>\n",
              "      <td>3.03</td>\n",
              "      <td>1309.80</td>\n",
              "      <td>0.72</td>\n",
              "      <td>1.50</td>\n",
              "      <td>136.1</td>\n",
              "    </tr>\n",
              "    <tr>\n",
              "      <th>2</th>\n",
              "      <td>01.01.2009 00:30:00</td>\n",
              "      <td>996.53</td>\n",
              "      <td>-8.51</td>\n",
              "      <td>264.91</td>\n",
              "      <td>-9.31</td>\n",
              "      <td>93.9</td>\n",
              "      <td>3.21</td>\n",
              "      <td>3.01</td>\n",
              "      <td>0.20</td>\n",
              "      <td>1.88</td>\n",
              "      <td>3.02</td>\n",
              "      <td>1310.24</td>\n",
              "      <td>0.19</td>\n",
              "      <td>0.63</td>\n",
              "      <td>171.6</td>\n",
              "    </tr>\n",
              "    <tr>\n",
              "      <th>3</th>\n",
              "      <td>01.01.2009 00:40:00</td>\n",
              "      <td>996.51</td>\n",
              "      <td>-8.31</td>\n",
              "      <td>265.12</td>\n",
              "      <td>-9.07</td>\n",
              "      <td>94.2</td>\n",
              "      <td>3.26</td>\n",
              "      <td>3.07</td>\n",
              "      <td>0.19</td>\n",
              "      <td>1.92</td>\n",
              "      <td>3.08</td>\n",
              "      <td>1309.19</td>\n",
              "      <td>0.34</td>\n",
              "      <td>0.50</td>\n",
              "      <td>198.0</td>\n",
              "    </tr>\n",
              "    <tr>\n",
              "      <th>4</th>\n",
              "      <td>01.01.2009 00:50:00</td>\n",
              "      <td>996.51</td>\n",
              "      <td>-8.27</td>\n",
              "      <td>265.15</td>\n",
              "      <td>-9.04</td>\n",
              "      <td>94.1</td>\n",
              "      <td>3.27</td>\n",
              "      <td>3.08</td>\n",
              "      <td>0.19</td>\n",
              "      <td>1.92</td>\n",
              "      <td>3.09</td>\n",
              "      <td>1309.00</td>\n",
              "      <td>0.32</td>\n",
              "      <td>0.63</td>\n",
              "      <td>214.3</td>\n",
              "    </tr>\n",
              "  </tbody>\n",
              "</table>\n",
              "</div>\n",
              "      <button class=\"colab-df-convert\" onclick=\"convertToInteractive('df-432e9a51-e02f-4078-9dba-b9d73cc90e0f')\"\n",
              "              title=\"Convert this dataframe to an interactive table.\"\n",
              "              style=\"display:none;\">\n",
              "        \n",
              "  <svg xmlns=\"http://www.w3.org/2000/svg\" height=\"24px\"viewBox=\"0 0 24 24\"\n",
              "       width=\"24px\">\n",
              "    <path d=\"M0 0h24v24H0V0z\" fill=\"none\"/>\n",
              "    <path d=\"M18.56 5.44l.94 2.06.94-2.06 2.06-.94-2.06-.94-.94-2.06-.94 2.06-2.06.94zm-11 1L8.5 8.5l.94-2.06 2.06-.94-2.06-.94L8.5 2.5l-.94 2.06-2.06.94zm10 10l.94 2.06.94-2.06 2.06-.94-2.06-.94-.94-2.06-.94 2.06-2.06.94z\"/><path d=\"M17.41 7.96l-1.37-1.37c-.4-.4-.92-.59-1.43-.59-.52 0-1.04.2-1.43.59L10.3 9.45l-7.72 7.72c-.78.78-.78 2.05 0 2.83L4 21.41c.39.39.9.59 1.41.59.51 0 1.02-.2 1.41-.59l7.78-7.78 2.81-2.81c.8-.78.8-2.07 0-2.86zM5.41 20L4 18.59l7.72-7.72 1.47 1.35L5.41 20z\"/>\n",
              "  </svg>\n",
              "      </button>\n",
              "      \n",
              "  <style>\n",
              "    .colab-df-container {\n",
              "      display:flex;\n",
              "      flex-wrap:wrap;\n",
              "      gap: 12px;\n",
              "    }\n",
              "\n",
              "    .colab-df-convert {\n",
              "      background-color: #E8F0FE;\n",
              "      border: none;\n",
              "      border-radius: 50%;\n",
              "      cursor: pointer;\n",
              "      display: none;\n",
              "      fill: #1967D2;\n",
              "      height: 32px;\n",
              "      padding: 0 0 0 0;\n",
              "      width: 32px;\n",
              "    }\n",
              "\n",
              "    .colab-df-convert:hover {\n",
              "      background-color: #E2EBFA;\n",
              "      box-shadow: 0px 1px 2px rgba(60, 64, 67, 0.3), 0px 1px 3px 1px rgba(60, 64, 67, 0.15);\n",
              "      fill: #174EA6;\n",
              "    }\n",
              "\n",
              "    [theme=dark] .colab-df-convert {\n",
              "      background-color: #3B4455;\n",
              "      fill: #D2E3FC;\n",
              "    }\n",
              "\n",
              "    [theme=dark] .colab-df-convert:hover {\n",
              "      background-color: #434B5C;\n",
              "      box-shadow: 0px 1px 3px 1px rgba(0, 0, 0, 0.15);\n",
              "      filter: drop-shadow(0px 1px 2px rgba(0, 0, 0, 0.3));\n",
              "      fill: #FFFFFF;\n",
              "    }\n",
              "  </style>\n",
              "\n",
              "      <script>\n",
              "        const buttonEl =\n",
              "          document.querySelector('#df-432e9a51-e02f-4078-9dba-b9d73cc90e0f button.colab-df-convert');\n",
              "        buttonEl.style.display =\n",
              "          google.colab.kernel.accessAllowed ? 'block' : 'none';\n",
              "\n",
              "        async function convertToInteractive(key) {\n",
              "          const element = document.querySelector('#df-432e9a51-e02f-4078-9dba-b9d73cc90e0f');\n",
              "          const dataTable =\n",
              "            await google.colab.kernel.invokeFunction('convertToInteractive',\n",
              "                                                     [key], {});\n",
              "          if (!dataTable) return;\n",
              "\n",
              "          const docLinkHtml = 'Like what you see? Visit the ' +\n",
              "            '<a target=\"_blank\" href=https://colab.research.google.com/notebooks/data_table.ipynb>data table notebook</a>'\n",
              "            + ' to learn more about interactive tables.';\n",
              "          element.innerHTML = '';\n",
              "          dataTable['output_type'] = 'display_data';\n",
              "          await google.colab.output.renderOutput(dataTable, element);\n",
              "          const docLink = document.createElement('div');\n",
              "          docLink.innerHTML = docLinkHtml;\n",
              "          element.appendChild(docLink);\n",
              "        }\n",
              "      </script>\n",
              "    </div>\n",
              "  </div>\n",
              "  "
            ]
          },
          "metadata": {},
          "execution_count": 3
        }
      ]
    },
    {
      "cell_type": "code",
      "source": [
        "temperature =  df['T (degC)'].to_numpy()\n",
        "len(temperature)"
      ],
      "metadata": {
        "colab": {
          "base_uri": "https://localhost:8080/"
        },
        "id": "EbaIiq1r2x6G",
        "outputId": "04fccddc-42e8-43dc-ad68-77065ed77222"
      },
      "execution_count": 9,
      "outputs": [
        {
          "output_type": "execute_result",
          "data": {
            "text/plain": [
              "420451"
            ]
          },
          "metadata": {},
          "execution_count": 9
        }
      ]
    },
    {
      "cell_type": "code",
      "source": [
        "raw_data = df.iloc[:,1:].to_numpy()"
      ],
      "metadata": {
        "id": "bCc9-YHoDI1A"
      },
      "execution_count": 10,
      "outputs": []
    },
    {
      "cell_type": "code",
      "source": [
        "import matplotlib.pyplot as plt\n",
        "plt.plot(temperature)\n",
        "plt.show()"
      ],
      "metadata": {
        "colab": {
          "base_uri": "https://localhost:8080/",
          "height": 434
        },
        "id": "7AbfwKn_4ONm",
        "outputId": "8e3aba5b-030d-4ecf-82d1-1a6f500c4efb"
      },
      "execution_count": 10,
      "outputs": [
        {
          "output_type": "display_data",
          "data": {
            "text/plain": [
              "<Figure size 640x480 with 1 Axes>"
            ],
            "image/png": "[encoded data removed]"
          },
          "metadata": {}
        }
      ]
    },
    {
      "cell_type": "code",
      "source": [
        "# 1 day : 144\n",
        "df['Date Time'][:144]"
      ],
      "metadata": {
        "colab": {
          "base_uri": "https://localhost:8080/"
        },
        "id": "P5zAyev24dBw",
        "outputId": "f41c8537-adea-4c3c-8095-e05f006115ca"
      },
      "execution_count": 11,
      "outputs": [
        {
          "output_type": "execute_result",
          "data": {
            "text/plain": [
              "0      01.01.2009 00:10:00\n",
              "1      01.01.2009 00:20:00\n",
              "2      01.01.2009 00:30:00\n",
              "3      01.01.2009 00:40:00\n",
              "4      01.01.2009 00:50:00\n",
              "              ...         \n",
              "139    01.01.2009 23:20:00\n",
              "140    01.01.2009 23:30:00\n",
              "141    01.01.2009 23:40:00\n",
              "142    01.01.2009 23:50:00\n",
              "143    02.01.2009 00:00:00\n",
              "Name: Date Time, Length: 144, dtype: object"
            ]
          },
          "metadata": {},
          "execution_count": 11
        }
      ]
    },
    {
      "cell_type": "code",
      "source": [
        "import matplotlib.pyplot as plt\n",
        "# plt.plot(temperature[:1440])\n",
        "plt.plot(temperature[1440:1440+1440])\n",
        "plt.show()"
      ],
      "metadata": {
        "colab": {
          "base_uri": "https://localhost:8080/",
          "height": 430
        },
        "id": "s9th2hgx4uDT",
        "outputId": "9880be31-c265-4096-94b1-069e1bb11bc4"
      },
      "execution_count": null,
      "outputs": [
        {
          "output_type": "display_data",
          "data": {
            "text/plain": [
              "<Figure size 640x480 with 1 Axes>"
            ],
            "image/png": "[encoded data removed]"
          },
          "metadata": {}
        }
      ]
    },
    {
      "cell_type": "markdown",
      "source": [
        "데이터 준비\n",
        "  - train : 0.5\n",
        "  - val : 0.25\n",
        "  - test"
      ],
      "metadata": {
        "id": "NmVDe2d85efw"
      }
    },
    {
      "cell_type": "code",
      "source": [
        "num_train_samples = int(0.5*len(raw_data))\n",
        "num_val_samples = int(0.25*len(raw_data))\n",
        "num_test_samples = len(raw_data) - num_train_samples-num_val_samples\n",
        "num_train_samples,num_val_samples,num_test_samples"
      ],
      "metadata": {
        "colab": {
          "base_uri": "https://localhost:8080/"
        },
        "id": "Oo52xyqk5WKV",
        "outputId": "de9c405d-e0d7-4dbb-ad79-cf00b41cb3e8"
      },
      "execution_count": 5,
      "outputs": [
        {
          "output_type": "execute_result",
          "data": {
            "text/plain": [
              "(210225, 105112, 105114)"
            ]
          },
          "metadata": {},
          "execution_count": 5
        }
      ]
    },
    {
      "cell_type": "markdown",
      "source": [
        "데이터 정규화\n",
        "  - 평균 : 각값에서 평균을 빼고\n",
        "  - 표준편차 : 그 값에다가 표준편차로 나눈다"
      ],
      "metadata": {
        "id": "-kx3yeJk7WyY"
      }
    },
    {
      "cell_type": "code",
      "source": [
        "m = raw_data[:num_train_samples].mean(axis=0)\n",
        "raw_data -= m\n",
        "s = raw_data[:num_train_samples].std(axis=0)\n",
        "raw_data /= s"
      ],
      "metadata": {
        "id": "ssJmCJG67F8d"
      },
      "execution_count": 13,
      "outputs": []
    },
    {
      "cell_type": "code",
      "source": [
        "import tensorflow as tf\n",
        "import numpy as np"
      ],
      "metadata": {
        "id": "soA97esn8Pu-"
      },
      "execution_count": 7,
      "outputs": []
    },
    {
      "cell_type": "code",
      "source": [
        "int_sequence = np.arange(10)\n",
        "print(int_sequence)\n",
        "dummy_dataset =  tf.keras.utils.timeseries_dataset_from_array(\n",
        "    data = int_sequence[:-3],\n",
        "    targets = int_sequence[3:],\n",
        "    sequence_length=3,\n",
        "    batch_size=2\n",
        ")\n",
        "int_sequence[:-3],int_sequence[3:]"
      ],
      "metadata": {
        "colab": {
          "base_uri": "https://localhost:8080/"
        },
        "id": "1vZ5Sfqe8sRH",
        "outputId": "aea3b8ed-ffa4-40d0-8bef-6649a2a8f70f"
      },
      "execution_count": 15,
      "outputs": [
        {
          "output_type": "stream",
          "name": "stdout",
          "text": [
            "[0 1 2 3 4 5 6 7 8 9]\n"
          ]
        },
        {
          "output_type": "execute_result",
          "data": {
            "text/plain": [
              "(array([0, 1, 2, 3, 4, 5, 6]), array([3, 4, 5, 6, 7, 8, 9]))"
            ]
          },
          "metadata": {},
          "execution_count": 15
        }
      ]
    },
    {
      "cell_type": "code",
      "source": [
        "for inputs, targets in dummy_dataset:\n",
        "  print(inputs)\n",
        "  print(targets)\n"
      ],
      "metadata": {
        "colab": {
          "base_uri": "https://localhost:8080/"
        },
        "id": "O9CacqeG8vnV",
        "outputId": "4fd4fde3-c0aa-4e77-cdfc-42f35987bfc7"
      },
      "execution_count": 16,
      "outputs": [
        {
          "output_type": "stream",
          "name": "stdout",
          "text": [
            "tf.Tensor(\n",
            "[[0 1 2]\n",
            " [1 2 3]], shape=(2, 3), dtype=int64)\n",
            "tf.Tensor([3 4], shape=(2,), dtype=int64)\n",
            "tf.Tensor(\n",
            "[[2 3 4]\n",
            " [3 4 5]], shape=(2, 3), dtype=int64)\n",
            "tf.Tensor([5 6], shape=(2,), dtype=int64)\n",
            "tf.Tensor([[4 5 6]], shape=(1, 3), dtype=int64)\n",
            "tf.Tensor([7], shape=(1,), dtype=int64)\n"
          ]
        }
      ]
    },
    {
      "cell_type": "markdown",
      "source": [
        "훈련용,검증용,테스트용 데이터 생성"
      ],
      "metadata": {
        "id": "bDBJI8gYEofN"
      }
    },
    {
      "cell_type": "code",
      "source": [
        "# 하루를 6시간 단위로 나눠서 예측\n",
        "# 시퀀스길이 * 6 =\n",
        "# delay = (시퀀스길이 +24)*sampling_rate\n",
        "\n",
        "sampling_rate = 6\n",
        "sequence_length = 120\n",
        "delay = sampling_rate*(sequence_length+24-1)\n",
        "batch_size = 256\n",
        "train_dataset =  tf.keras.utils.timeseries_dataset_from_array(\n",
        "    data = raw_data[:-delay],\n",
        "    targets= temperature[delay:],\n",
        "    sampling_rate=sampling_rate,\n",
        "    sequence_length = sequence_length,\n",
        "    batch_size=batch_size ,\n",
        "    shuffle=True,\n",
        "    start_index = 0,\n",
        "    end_index=num_train_samples\n",
        ")\n",
        "\n",
        "val_dataset =  tf.keras.utils.timeseries_dataset_from_array(\n",
        "    data = raw_data[:-delay],\n",
        "    targets = temperature[delay:],\n",
        "    sequence_length = sequence_length,\n",
        "    sampling_rate=sampling_rate,\n",
        "    batch_size=batch_size ,\n",
        "    shuffle=True,\n",
        "    start_index = num_train_samples,\n",
        "    end_index=num_train_samples+num_val_samples\n",
        ")\n",
        "test_dataset =  tf.keras.utils.timeseries_dataset_from_array(\n",
        "    data = raw_data[:-delay],\n",
        "    targets = temperature[delay:],\n",
        "    sequence_length = sequence_length,\n",
        "    sampling_rate=sampling_rate,\n",
        "    shuffle=True,\n",
        "    batch_size=batch_size ,\n",
        "    start_index = num_train_samples+num_val_samples,\n",
        ")"
      ],
      "metadata": {
        "id": "cuKU8sl4C3Sc"
      },
      "execution_count": 11,
      "outputs": []
    },
    {
      "cell_type": "markdown",
      "source": [
        "MAE 계산"
      ],
      "metadata": {
        "id": "WOXlyeKuHc8e"
      }
    },
    {
      "cell_type": "code",
      "source": [
        "for data,target in train_dataset:\n",
        "  print(data.shape)\n",
        "  print(target.shape)\n",
        "  break"
      ],
      "metadata": {
        "colab": {
          "base_uri": "https://localhost:8080/"
        },
        "id": "_mm0u2WUHMXT",
        "outputId": "4f158873-eb8d-4c57-f59d-fd44ed389b91"
      },
      "execution_count": null,
      "outputs": [
        {
          "output_type": "stream",
          "name": "stdout",
          "text": [
            "(256, 120, 14)\n",
            "(256,)\n"
          ]
        }
      ]
    },
    {
      "cell_type": "code",
      "source": [
        "inputs = tf.keras.Input(shape=(sequence_length,raw_data.shape[-1]))  # 120,14\n",
        "x = tf.keras.layers.Flatten()(inputs)\n",
        "x = tf.keras.layers.Dense(16,activation='relu')(x)\n",
        "outputs = tf.keras.layers.Dense(1)(x)\n",
        "model = tf.keras.Model(inputs,outputs)\n",
        "callbacks = [\n",
        "    tf.keras.callbacks.ModelCheckpoint('model_temp.h5',save_best_only=True)\n",
        "]\n",
        "model.compile(loss = 'mse', metrics=['mae'])\n",
        "hist = model.fit(train_dataset,epochs=10,validation_data=val_dataset,callbacks=callbacks)\n",
        "print(f'test mae: {model.evaluate(test_dataset)[1]:.2f}')"
      ],
      "metadata": {
        "colab": {
          "base_uri": "https://localhost:8080/"
        },
        "id": "FyEl9xFBGu28",
        "outputId": "5d094337-986a-4acf-fb18-1bbf0b7800fa"
      },
      "execution_count": null,
      "outputs": [
        {
          "output_type": "stream",
          "name": "stdout",
          "text": [
            "Epoch 1/10\n",
            "821/821 [==============================] - 60s 72ms/step - loss: 7.1404 - mae: 1.9139 - val_loss: 3.9224 - val_mae: 1.3689\n",
            "Epoch 2/10\n",
            "821/821 [==============================] - 47s 58ms/step - loss: 3.6245 - mae: 1.3198 - val_loss: 2.9676 - val_mae: 1.1590\n",
            "Epoch 3/10\n",
            "821/821 [==============================] - 48s 58ms/step - loss: 2.5943 - mae: 1.1561 - val_loss: 1.4502 - val_mae: 0.8394\n",
            "Epoch 4/10\n",
            "821/821 [==============================] - 53s 65ms/step - loss: 2.0306 - mae: 1.0200 - val_loss: 1.0076 - val_mae: 0.7633\n",
            "Epoch 5/10\n",
            "821/821 [==============================] - 48s 58ms/step - loss: 1.6722 - mae: 0.9309 - val_loss: 1.5012 - val_mae: 0.8817\n",
            "Epoch 6/10\n",
            "821/821 [==============================] - 56s 69ms/step - loss: 1.4102 - mae: 0.8698 - val_loss: 1.0528 - val_mae: 0.7587\n",
            "Epoch 7/10\n",
            "821/821 [==============================] - 54s 66ms/step - loss: 1.2843 - mae: 0.8277 - val_loss: 1.1011 - val_mae: 0.7135\n",
            "Epoch 8/10\n",
            "821/821 [==============================] - 47s 58ms/step - loss: 1.1299 - mae: 0.7714 - val_loss: 0.7813 - val_mae: 0.6334\n",
            "Epoch 9/10\n",
            "821/821 [==============================] - 47s 58ms/step - loss: 1.0215 - mae: 0.7311 - val_loss: 0.7448 - val_mae: 0.6092\n",
            "Epoch 10/10\n",
            "821/821 [==============================] - 48s 58ms/step - loss: 0.9723 - mae: 0.7112 - val_loss: 0.7696 - val_mae: 0.6579\n",
            "410/410 [==============================] - 16s 38ms/step - loss: 0.8138 - mae: 0.6487\n",
            "test mae: 0.65\n"
          ]
        }
      ]
    },
    {
      "cell_type": "code",
      "source": [
        "plt.plot(hist.history['mae'],'bo',label='train mae')\n",
        "plt.plot(hist.history['val_mae'],label='val mae')\n",
        "plt.legend()\n",
        "plt.show()"
      ],
      "metadata": {
        "colab": {
          "base_uri": "https://localhost:8080/",
          "height": 430
        },
        "id": "zF-gATTuIzLs",
        "outputId": "03e6d29a-4edf-4dbf-916a-97e296e1659d"
      },
      "execution_count": null,
      "outputs": [
        {
          "output_type": "display_data",
          "data": {
            "text/plain": [
              "<Figure size 640x480 with 1 Axes>"
            ],
            "image/png": "[encoded data removed]"
          },
          "metadata": {}
        }
      ]
    },
    {
      "cell_type": "markdown",
      "source": [
        "1D 합성곱 모델 적용"
      ],
      "metadata": {
        "id": "r7PXcGtD1OaN"
      }
    },
    {
      "cell_type": "code",
      "source": [
        "inputs = tf.keras.Input(shape=(sequence_length,raw_data.shape[-1]))  # 120,14\n",
        "x = tf.keras.layers.Conv1D(8,24,activation='relu')(inputs)\n",
        "x = tf.keras.layers.MaxPool1D(2)(x)\n",
        "x = tf.keras.layers.Conv1D(8,12,activation='relu')(x)\n",
        "x = tf.keras.layers.MaxPool1D(2)(x)\n",
        "x = tf.keras.layers.Conv1D(8,6,activation='relu')(x)\n",
        "x = tf.keras.layers.GlobalAveragePooling1D()(x)\n",
        "outputs = tf.keras.layers.Dense(1)(x)\n",
        "model = tf.keras.Model(inputs,outputs)\n",
        "callbacks = [\n",
        "    tf.keras.callbacks.ModelCheckpoint('model_conv1d.h5',save_best_only=True)\n",
        "]\n",
        "model.compile(loss = 'mse', metrics=['mae'])\n",
        "hist = model.fit(train_dataset,epochs=10,validation_data=val_dataset,callbacks=callbacks)\n",
        "print(f'test mae: {model.evaluate(test_dataset)[1]:.2f}')"
      ],
      "metadata": {
        "id": "qzYhIYLGNGNj",
        "colab": {
          "base_uri": "https://localhost:8080/"
        },
        "outputId": "708c0a19-1e6c-43f9-9013-5d711bc242d4"
      },
      "execution_count": null,
      "outputs": [
        {
          "output_type": "stream",
          "name": "stdout",
          "text": [
            "Epoch 1/10\n",
            "819/819 [==============================] - 58s 69ms/step - loss: 23.5741 - mae: 3.7775 - val_loss: 16.7055 - val_mae: 3.2582\n",
            "Epoch 2/10\n",
            "819/819 [==============================] - 58s 70ms/step - loss: 15.6138 - mae: 3.1302 - val_loss: 14.9127 - val_mae: 3.0358\n",
            "Epoch 3/10\n",
            "819/819 [==============================] - 56s 68ms/step - loss: 14.1871 - mae: 2.9912 - val_loss: 16.7474 - val_mae: 3.2215\n",
            "Epoch 4/10\n",
            "819/819 [==============================] - 64s 78ms/step - loss: 13.1524 - mae: 2.8724 - val_loss: 15.1156 - val_mae: 3.0445\n",
            "Epoch 5/10\n",
            "819/819 [==============================] - 58s 70ms/step - loss: 12.3800 - mae: 2.7826 - val_loss: 15.1186 - val_mae: 3.0331\n",
            "Epoch 6/10\n",
            "819/819 [==============================] - 61s 74ms/step - loss: 11.8341 - mae: 2.7199 - val_loss: 16.0577 - val_mae: 3.1406\n",
            "Epoch 7/10\n",
            "819/819 [==============================] - 70s 85ms/step - loss: 11.3693 - mae: 2.6639 - val_loss: 15.6831 - val_mae: 3.0942\n",
            "Epoch 8/10\n",
            "819/819 [==============================] - 56s 68ms/step - loss: 11.0493 - mae: 2.6231 - val_loss: 15.9015 - val_mae: 3.1060\n",
            "Epoch 9/10\n",
            "819/819 [==============================] - 55s 67ms/step - loss: 10.7307 - mae: 2.5836 - val_loss: 16.4158 - val_mae: 3.1664\n",
            "Epoch 10/10\n",
            "819/819 [==============================] - 60s 73ms/step - loss: 10.4260 - mae: 2.5476 - val_loss: 15.8073 - val_mae: 3.0988\n",
            "405/405 [==============================] - 14s 35ms/step - loss: 17.4993 - mae: 3.3015\n",
            "test mae: 3.30\n"
          ]
        }
      ]
    },
    {
      "cell_type": "code",
      "source": [
        "plt.plot(hist.history['mae'],'bo',label='train mae')\n",
        "plt.plot(hist.history['val_mae'],label='val mae')\n",
        "plt.legend()\n",
        "plt.show()"
      ],
      "metadata": {
        "colab": {
          "base_uri": "https://localhost:8080/",
          "height": 430
        },
        "id": "pPowa4PY2NtL",
        "outputId": "9be476db-8bd8-4ae2-854a-78d4d4fad8cb"
      },
      "execution_count": null,
      "outputs": [
        {
          "output_type": "display_data",
          "data": {
            "text/plain": [
              "<Figure size 640x480 with 1 Axes>"
            ],
            "image/png": "[encoded data removed]"
          },
          "metadata": {}
        }
      ]
    },
    {
      "cell_type": "markdown",
      "source": [
        "순환신경망  LSTM\n"
      ],
      "metadata": {
        "id": "g-zYMODE4uV0"
      }
    },
    {
      "cell_type": "code",
      "source": [
        "inputs = tf.keras.Input(shape=(sequence_length,raw_data.shape[-1]))  # 120,14\n",
        "x = tf.keras.layers.LSTM(16)(inputs)\n",
        "outputs = tf.keras.layers.Dense(1)(x)\n",
        "model = tf.keras.Model(inputs,outputs)\n",
        "callbacks = [\n",
        "    tf.keras.callbacks.ModelCheckpoint('model_lstm.h5',save_best_only=True)\n",
        "]\n",
        "model.compile(loss = 'mse', metrics=['mae'])\n",
        "hist = model.fit(train_dataset,epochs=10,validation_data=val_dataset,callbacks=callbacks)\n",
        "print(f'test mae: {model.evaluate(test_dataset)[1]:.2f}')"
      ],
      "metadata": {
        "colab": {
          "base_uri": "https://localhost:8080/"
        },
        "id": "9qVq-tE54qFk",
        "outputId": "102225f2-9a25-40b0-bd54-dc8752f27b83"
      },
      "execution_count": null,
      "outputs": [
        {
          "output_type": "stream",
          "name": "stdout",
          "text": [
            "Epoch 1/10\n",
            "819/819 [==============================] - 74s 87ms/step - loss: 39.3861 - mae: 4.5522 - val_loss: 11.8109 - val_mae: 2.6260\n",
            "Epoch 2/10\n",
            "819/819 [==============================] - 70s 85ms/step - loss: 10.9450 - mae: 2.5686 - val_loss: 9.9102 - val_mae: 2.4420\n",
            "Epoch 3/10\n",
            "819/819 [==============================] - 71s 86ms/step - loss: 9.7796 - mae: 2.4344 - val_loss: 9.8585 - val_mae: 2.4316\n",
            "Epoch 4/10\n",
            "819/819 [==============================] - 70s 85ms/step - loss: 9.1783 - mae: 2.3542 - val_loss: 9.5109 - val_mae: 2.3851\n",
            "Epoch 5/10\n",
            "819/819 [==============================] - 71s 86ms/step - loss: 8.7478 - mae: 2.2991 - val_loss: 9.7034 - val_mae: 2.4026\n",
            "Epoch 6/10\n",
            "819/819 [==============================] - 70s 85ms/step - loss: 8.4635 - mae: 2.2624 - val_loss: 9.7894 - val_mae: 2.4206\n",
            "Epoch 7/10\n",
            "819/819 [==============================] - 72s 87ms/step - loss: 8.2916 - mae: 2.2400 - val_loss: 10.0271 - val_mae: 2.4558\n",
            "Epoch 8/10\n",
            "819/819 [==============================] - 69s 83ms/step - loss: 8.1481 - mae: 2.2205 - val_loss: 10.0926 - val_mae: 2.4669\n",
            "Epoch 9/10\n",
            "819/819 [==============================] - 69s 84ms/step - loss: 8.0101 - mae: 2.2028 - val_loss: 10.2150 - val_mae: 2.4658\n",
            "Epoch 10/10\n",
            "819/819 [==============================] - 72s 88ms/step - loss: 7.8714 - mae: 2.1843 - val_loss: 10.2611 - val_mae: 2.4747\n",
            "405/405 [==============================] - 17s 42ms/step - loss: 10.8434 - mae: 2.6075\n",
            "test mae: 2.61\n"
          ]
        }
      ]
    },
    {
      "cell_type": "code",
      "source": [
        "plt.plot(hist.history['mae'],'bo',label='train mae')\n",
        "plt.plot(hist.history['val_mae'],label='val mae')\n",
        "plt.legend()\n",
        "plt.show()"
      ],
      "metadata": {
        "colab": {
          "base_uri": "https://localhost:8080/",
          "height": 430
        },
        "id": "C4Jjs__85Ccd",
        "outputId": "07b88746-f1b7-41a5-beaf-f9509716bf39"
      },
      "execution_count": null,
      "outputs": [
        {
          "output_type": "display_data",
          "data": {
            "text/plain": [
              "<Figure size 640x480 with 1 Axes>"
            ],
            "image/png": "[encoded data removed]"
          },
          "metadata": {}
        }
      ]
    },
    {
      "cell_type": "markdown",
      "source": [
        "RNN 구현하기\n",
        "  - 순환신경망\n",
        "  - 가중치 공유"
      ],
      "metadata": {
        "id": "7ZWXjcj38Ky-"
      }
    },
    {
      "cell_type": "code",
      "source": [
        "from tensorflow.python.ops.logging_ops import timestamp\n",
        "timesteps = 100  # 입력시퀀스의 길이\n",
        "input_features = 32\n",
        "output_features = 64\n",
        "inputs = np.random.random( (timesteps,input_features) )\n",
        "status_t = np.zeros((output_features,))\n",
        "print(inputs.shape, status_t.shape)\n",
        "W = np.random.random( (output_features,input_features) )\n",
        "U = np.random.random( (output_features,output_features) )\n",
        "b = np.random.random( (output_features,) )\n",
        "successive_outputs = []  # 출력의 결과를 저장 리스트\n",
        "for input_t in inputs:\n",
        "  output_t = np.tanh(np.dot(W,input_t) + np.dot(U,status_t) + b )\n",
        "  successive_outputs.append(output_t)\n",
        "  status_t = output_t"
      ],
      "metadata": {
        "colab": {
          "base_uri": "https://localhost:8080/"
        },
        "id": "MbkeYSUQ5EM8",
        "outputId": "c9dea2fc-5470-475f-8327-abbb94250252"
      },
      "execution_count": null,
      "outputs": [
        {
          "output_type": "stream",
          "name": "stdout",
          "text": [
            "(100, 32) (64,)\n"
          ]
        }
      ]
    },
    {
      "cell_type": "code",
      "source": [
        "final_output_sequence =  np.stack(successive_outputs,axis=0)\n",
        "final_output_sequence"
      ],
      "metadata": {
        "colab": {
          "base_uri": "https://localhost:8080/"
        },
        "id": "nL2nT3bA_aKG",
        "outputId": "415c3835-7c5a-43c9-9bcb-eb058de224dc"
      },
      "execution_count": null,
      "outputs": [
        {
          "output_type": "execute_result",
          "data": {
            "text/plain": [
              "array([[1.        , 1.        , 1.        , ..., 0.99999999, 1.        ,\n",
              "        0.99999994],\n",
              "       [1.        , 1.        , 1.        , ..., 1.        , 1.        ,\n",
              "        1.        ],\n",
              "       [1.        , 1.        , 1.        , ..., 1.        , 1.        ,\n",
              "        1.        ],\n",
              "       ...,\n",
              "       [1.        , 1.        , 1.        , ..., 1.        , 1.        ,\n",
              "        1.        ],\n",
              "       [1.        , 1.        , 1.        , ..., 1.        , 1.        ,\n",
              "        1.        ],\n",
              "       [1.        , 1.        , 1.        , ..., 1.        , 1.        ,\n",
              "        1.        ]])"
            ]
          },
          "metadata": {},
          "execution_count": 31
        }
      ]
    },
    {
      "cell_type": "markdown",
      "source": [
        "순환신경망 RNN\n",
        "  - 어떤 길이의 시퀀스도 처리할수 있으는 RNN\n"
      ],
      "metadata": {
        "id": "2ZxjEXQwB5ZV"
      }
    },
    {
      "cell_type": "code",
      "source": [
        "num_feature = 14\n",
        "inputs = tf.keras.Input(shape=(None,num_feature))\n",
        "output = tf.keras.layers.SimpleRNN(16)(inputs)\n",
        "output.shape"
      ],
      "metadata": {
        "colab": {
          "base_uri": "https://localhost:8080/"
        },
        "id": "MpuRjjD9BSPF",
        "outputId": "f207d836-e006-4dec-90ba-4e0195c54580"
      },
      "execution_count": null,
      "outputs": [
        {
          "output_type": "execute_result",
          "data": {
            "text/plain": [
              "TensorShape([None, 16])"
            ]
          },
          "metadata": {},
          "execution_count": 35
        }
      ]
    },
    {
      "cell_type": "markdown",
      "source": [
        "마지막 출력 스텝만 반환하는 RNN"
      ],
      "metadata": {
        "id": "thN6jWP0CV6u"
      }
    },
    {
      "cell_type": "code",
      "source": [
        "num_feature = 14\n",
        "step = 120\n",
        "inputs = tf.keras.Input(shape=(step,num_feature))\n",
        "output = tf.keras.layers.SimpleRNN(16,return_sequences=False)(inputs)\n",
        "output.shape"
      ],
      "metadata": {
        "colab": {
          "base_uri": "https://localhost:8080/"
        },
        "id": "PylA-RVuCVRB",
        "outputId": "8040e73e-1d42-40bc-d09e-1251ebda110d"
      },
      "execution_count": null,
      "outputs": [
        {
          "output_type": "execute_result",
          "data": {
            "text/plain": [
              "TensorShape([None, 16])"
            ]
          },
          "metadata": {},
          "execution_count": 33
        }
      ]
    },
    {
      "cell_type": "markdown",
      "source": [
        "전체출력을 반환하는 RNN"
      ],
      "metadata": {
        "id": "oESpZeibCwFA"
      }
    },
    {
      "cell_type": "code",
      "source": [
        "num_feature = 14\n",
        "step = 120\n",
        "inputs = tf.keras.Input(shape=(step,num_feature))\n",
        "output = tf.keras.layers.SimpleRNN(16,return_sequences=True)(inputs)\n",
        "output.shape"
      ],
      "metadata": {
        "colab": {
          "base_uri": "https://localhost:8080/"
        },
        "id": "CeQK8XoKCUHt",
        "outputId": "91895fa5-d197-4451-b5c8-d563b3fc4927"
      },
      "execution_count": null,
      "outputs": [
        {
          "output_type": "execute_result",
          "data": {
            "text/plain": [
              "TensorShape([None, 120, 16])"
            ]
          },
          "metadata": {},
          "execution_count": 36
        }
      ]
    },
    {
      "cell_type": "markdown",
      "source": [
        "스태킹(stacking)층"
      ],
      "metadata": {
        "id": "xNOeBnyQC5Jv"
      }
    },
    {
      "cell_type": "code",
      "source": [
        "num_feature = 14\n",
        "step = 120\n",
        "inputs = tf.keras.Input(shape=(step,num_feature))\n",
        "x = tf.keras.layers.SimpleRNN(16,return_sequences=True)(inputs)\n",
        "x = tf.keras.layers.SimpleRNN(16,return_sequences=True)(x)\n",
        "output = tf.keras.layers.SimpleRNN(16)(x)\n",
        "output.shape"
      ],
      "metadata": {
        "colab": {
          "base_uri": "https://localhost:8080/"
        },
        "id": "aB9lMiw0C1cW",
        "outputId": "044e65c1-1168-4632-bac9-4adcef95af43"
      },
      "execution_count": null,
      "outputs": [
        {
          "output_type": "execute_result",
          "data": {
            "text/plain": [
              "TensorShape([None, 16])"
            ]
          },
          "metadata": {},
          "execution_count": 37
        }
      ]
    },
    {
      "cell_type": "markdown",
      "source": [
        "LSTM에 순환 드랍아웃 적용하기"
      ],
      "metadata": {
        "id": "IF_XsuRGDa-B"
      }
    },
    {
      "cell_type": "code",
      "source": [
        "inputs = tf.keras.Input(shape=(sequence_length,raw_data.shape[-1]))  # 120,14\n",
        "x = tf.keras.layers.LSTM(32,recurrent_dropout=0.25)(inputs)\n",
        "x = tf.keras.layers.Dropout(0.5)(x)\n",
        "outputs = tf.keras.layers.Dense(1)(x)\n",
        "model = tf.keras.Model(inputs,outputs)\n",
        "callbacks = [\n",
        "    tf.keras.callbacks.ModelCheckpoint('model_lstm_dropout.h5',save_best_only=True)\n",
        "]\n",
        "model.compile(loss = 'mse', metrics=['mae'])\n",
        "hist = model.fit(train_dataset,epochs=50,validation_data=val_dataset,callbacks=callbacks)\n",
        "print(f'test mae: {model.evaluate(test_dataset)[1]:.2f}')"
      ],
      "metadata": {
        "id": "OUqhhOCJDIgO",
        "colab": {
          "base_uri": "https://localhost:8080/"
        },
        "outputId": "f80a1800-16d4-4f84-a91c-4eaf21845ba4"
      },
      "execution_count": 12,
      "outputs": [
        {
          "output_type": "stream",
          "name": "stdout",
          "text": [
            "Epoch 1/50\n",
            "819/819 [==============================] - 19s 14ms/step - loss: 112.3081 - mae: 8.5698 - val_loss: 66.5929 - val_mae: 6.5831\n",
            "Epoch 2/50\n",
            "819/819 [==============================] - 11s 13ms/step - loss: 70.8105 - mae: 6.6795 - val_loss: 51.2426 - val_mae: 5.7257\n",
            "Epoch 3/50\n",
            "819/819 [==============================] - 11s 13ms/step - loss: 63.9997 - mae: 6.2874 - val_loss: 44.9317 - val_mae: 5.2596\n",
            "Epoch 4/50\n",
            "819/819 [==============================] - 11s 14ms/step - loss: 59.5773 - mae: 6.0271 - val_loss: 40.9546 - val_mae: 5.0068\n",
            "Epoch 5/50\n",
            "819/819 [==============================] - 11s 14ms/step - loss: 56.8009 - mae: 5.8788 - val_loss: 36.8151 - val_mae: 4.6383\n",
            "Epoch 6/50\n",
            "819/819 [==============================] - 11s 13ms/step - loss: 55.3150 - mae: 5.7934 - val_loss: 34.6516 - val_mae: 4.4939\n",
            "Epoch 7/50\n",
            "819/819 [==============================] - 11s 13ms/step - loss: 54.1226 - mae: 5.7285 - val_loss: 36.2723 - val_mae: 4.7223\n",
            "Epoch 8/50\n",
            "819/819 [==============================] - 11s 13ms/step - loss: 53.2206 - mae: 5.6728 - val_loss: 38.5807 - val_mae: 4.9479\n",
            "Epoch 9/50\n",
            "819/819 [==============================] - 11s 13ms/step - loss: 52.2931 - mae: 5.6210 - val_loss: 34.2341 - val_mae: 4.5686\n",
            "Epoch 10/50\n",
            "819/819 [==============================] - 11s 13ms/step - loss: 51.9505 - mae: 5.6004 - val_loss: 32.4942 - val_mae: 4.3689\n",
            "Epoch 11/50\n",
            "819/819 [==============================] - 11s 14ms/step - loss: 51.0847 - mae: 5.5454 - val_loss: 34.7317 - val_mae: 4.6424\n",
            "Epoch 12/50\n",
            "819/819 [==============================] - 12s 15ms/step - loss: 50.6216 - mae: 5.5181 - val_loss: 32.2984 - val_mae: 4.3906\n",
            "Epoch 13/50\n",
            "819/819 [==============================] - 12s 14ms/step - loss: 50.1108 - mae: 5.4890 - val_loss: 36.5836 - val_mae: 4.8097\n",
            "Epoch 14/50\n",
            "819/819 [==============================] - 12s 14ms/step - loss: 49.8656 - mae: 5.4673 - val_loss: 31.6867 - val_mae: 4.3426\n",
            "Epoch 15/50\n",
            "819/819 [==============================] - 11s 14ms/step - loss: 49.8668 - mae: 5.4627 - val_loss: 32.4215 - val_mae: 4.4292\n",
            "Epoch 16/50\n",
            "819/819 [==============================] - 12s 14ms/step - loss: 49.5235 - mae: 5.4439 - val_loss: 29.9219 - val_mae: 4.1148\n",
            "Epoch 17/50\n",
            "819/819 [==============================] - 11s 14ms/step - loss: 49.5276 - mae: 5.4388 - val_loss: 32.1159 - val_mae: 4.4174\n",
            "Epoch 18/50\n",
            "819/819 [==============================] - 11s 14ms/step - loss: 49.2121 - mae: 5.4225 - val_loss: 30.0747 - val_mae: 4.1889\n",
            "Epoch 19/50\n",
            "819/819 [==============================] - 11s 14ms/step - loss: 49.0414 - mae: 5.4095 - val_loss: 39.1354 - val_mae: 5.1052\n",
            "Epoch 20/50\n",
            "819/819 [==============================] - 11s 13ms/step - loss: 48.6594 - mae: 5.3881 - val_loss: 30.9560 - val_mae: 4.3161\n",
            "Epoch 21/50\n",
            "819/819 [==============================] - 11s 13ms/step - loss: 49.0098 - mae: 5.4061 - val_loss: 29.3743 - val_mae: 4.1181\n",
            "Epoch 22/50\n",
            "819/819 [==============================] - 11s 13ms/step - loss: 48.7682 - mae: 5.3951 - val_loss: 32.1027 - val_mae: 4.4521\n",
            "Epoch 23/50\n",
            "819/819 [==============================] - 11s 14ms/step - loss: 48.3769 - mae: 5.3776 - val_loss: 28.7982 - val_mae: 4.0535\n",
            "Epoch 24/50\n",
            "819/819 [==============================] - 11s 14ms/step - loss: 48.4169 - mae: 5.3753 - val_loss: 30.5779 - val_mae: 4.2787\n",
            "Epoch 25/50\n",
            "819/819 [==============================] - 11s 14ms/step - loss: 48.2138 - mae: 5.3645 - val_loss: 34.7011 - val_mae: 4.7207\n",
            "Epoch 26/50\n",
            "819/819 [==============================] - 11s 14ms/step - loss: 48.5455 - mae: 5.3813 - val_loss: 33.5571 - val_mae: 4.6134\n",
            "Epoch 27/50\n",
            "819/819 [==============================] - 11s 14ms/step - loss: 48.3948 - mae: 5.3741 - val_loss: 28.4011 - val_mae: 4.0173\n",
            "Epoch 28/50\n",
            "819/819 [==============================] - 11s 14ms/step - loss: 48.5312 - mae: 5.3767 - val_loss: 30.7355 - val_mae: 4.3153\n",
            "Epoch 29/50\n",
            "819/819 [==============================] - 11s 13ms/step - loss: 48.2811 - mae: 5.3673 - val_loss: 33.6435 - val_mae: 4.6249\n",
            "Epoch 30/50\n",
            "819/819 [==============================] - 11s 14ms/step - loss: 48.0810 - mae: 5.3554 - val_loss: 28.4331 - val_mae: 4.0099\n",
            "Epoch 31/50\n",
            "819/819 [==============================] - 11s 14ms/step - loss: 48.1358 - mae: 5.3559 - val_loss: 32.5468 - val_mae: 4.5107\n",
            "Epoch 32/50\n",
            "819/819 [==============================] - 11s 14ms/step - loss: 48.1431 - mae: 5.3524 - val_loss: 29.4031 - val_mae: 4.1598\n",
            "Epoch 33/50\n",
            "819/819 [==============================] - 11s 14ms/step - loss: 48.1708 - mae: 5.3583 - val_loss: 34.0472 - val_mae: 4.6743\n",
            "Epoch 34/50\n",
            "819/819 [==============================] - 11s 14ms/step - loss: 48.0432 - mae: 5.3452 - val_loss: 37.6961 - val_mae: 5.0055\n",
            "Epoch 35/50\n",
            "819/819 [==============================] - 11s 14ms/step - loss: 47.9459 - mae: 5.3429 - val_loss: 28.0890 - val_mae: 4.0212\n",
            "Epoch 36/50\n",
            "819/819 [==============================] - 11s 14ms/step - loss: 48.1760 - mae: 5.3526 - val_loss: 31.4820 - val_mae: 4.3892\n",
            "Epoch 37/50\n",
            "819/819 [==============================] - 11s 13ms/step - loss: 47.8436 - mae: 5.3371 - val_loss: 28.7923 - val_mae: 4.1207\n",
            "Epoch 38/50\n",
            "819/819 [==============================] - 11s 14ms/step - loss: 47.6870 - mae: 5.3217 - val_loss: 29.9291 - val_mae: 4.2590\n",
            "Epoch 39/50\n",
            "819/819 [==============================] - 11s 13ms/step - loss: 47.6841 - mae: 5.3243 - val_loss: 27.3702 - val_mae: 3.9320\n",
            "Epoch 40/50\n",
            "819/819 [==============================] - 11s 14ms/step - loss: 47.7237 - mae: 5.3258 - val_loss: 32.8305 - val_mae: 4.5354\n",
            "Epoch 41/50\n",
            "819/819 [==============================] - 11s 13ms/step - loss: 47.7098 - mae: 5.3247 - val_loss: 27.9002 - val_mae: 4.0269\n",
            "Epoch 42/50\n",
            "819/819 [==============================] - 11s 14ms/step - loss: 47.7110 - mae: 5.3277 - val_loss: 44.6889 - val_mae: 5.5551\n",
            "Epoch 43/50\n",
            "819/819 [==============================] - 11s 14ms/step - loss: 47.7726 - mae: 5.3280 - val_loss: 30.3807 - val_mae: 4.3057\n",
            "Epoch 44/50\n",
            "819/819 [==============================] - 11s 13ms/step - loss: 47.4526 - mae: 5.3102 - val_loss: 28.2275 - val_mae: 4.0701\n",
            "Epoch 45/50\n",
            "819/819 [==============================] - 11s 13ms/step - loss: 47.8062 - mae: 5.3305 - val_loss: 27.9560 - val_mae: 4.0268\n",
            "Epoch 46/50\n",
            "819/819 [==============================] - 11s 14ms/step - loss: 47.4600 - mae: 5.3149 - val_loss: 41.1712 - val_mae: 5.3048\n",
            "Epoch 47/50\n",
            "819/819 [==============================] - 11s 14ms/step - loss: 47.5919 - mae: 5.3202 - val_loss: 27.3597 - val_mae: 3.9557\n",
            "Epoch 48/50\n",
            "819/819 [==============================] - 11s 13ms/step - loss: 47.4550 - mae: 5.3177 - val_loss: 27.0294 - val_mae: 3.9051\n",
            "Epoch 49/50\n",
            "819/819 [==============================] - 11s 14ms/step - loss: 47.4532 - mae: 5.3142 - val_loss: 39.7665 - val_mae: 5.1886\n",
            "Epoch 50/50\n",
            "819/819 [==============================] - 12s 14ms/step - loss: 47.6754 - mae: 5.3234 - val_loss: 27.2240 - val_mae: 3.9347\n",
            "405/405 [==============================] - 4s 9ms/step - loss: 31.0542 - mae: 4.0895\n",
            "test mae: 4.09\n"
          ]
        }
      ]
    },
    {
      "cell_type": "code",
      "source": [
        "import matplotlib.pyplot as plt\n",
        "plt.plot(hist.history['mae'],'bo',label='train mae')\n",
        "plt.plot(hist.history['val_mae'],label='val mae')\n",
        "plt.legend()\n",
        "plt.show()"
      ],
      "metadata": {
        "colab": {
          "base_uri": "https://localhost:8080/",
          "height": 430
        },
        "id": "ectT68NmENDe",
        "outputId": "3fcf5126-d08c-4dca-fd7a-9c0678aa28de"
      },
      "execution_count": 14,
      "outputs": [
        {
          "output_type": "display_data",
          "data": {
            "text/plain": [
              "<Figure size 640x480 with 1 Axes>"
            ],
            "image/png": "[encoded data removed]"
          },
          "metadata": {}
        }
      ]
    },
    {
      "cell_type": "code",
      "source": [
        "# 드랍아웃 규제, 스태킹이 적용된 GRU 모델\n",
        "inputs = tf.keras.Input(shape=(sequence_length,raw_data.shape[-1]))  # 120,14\n",
        "x = tf.keras.layers.GRU(32,recurrent_dropout=0.5,return_sequences=True)(input)\n",
        "x = tf.keras.layers.GRU(32,recurrent_dropout=0.5)(x)\n",
        "x = tf.keras.layers.Dropout(0.5)(x)\n",
        "outputs = tf.keras.layers.Dense(1)(x)\n",
        "model = tf.keras.Model(inputs,outputs)\n",
        "callbacks = [\n",
        "    tf.keras.callbacks.ModelCheckpoint('model_grud_dropout.h5',save_best_only=True)\n",
        "]\n",
        "model.compile(loss = 'mse', metrics=['mae'])\n",
        "hist = model.fit(train_dataset,epochs=50,validation_data=val_dataset,callbacks=callbacks)\n",
        "print(f'test mae: {model.evaluate(test_dataset)[1]:.2f}')"
      ],
      "metadata": {
        "id": "C6EAPYiNHR4F"
      },
      "execution_count": null,
      "outputs": []
    }
  ]
}