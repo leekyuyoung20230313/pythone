{
  "nbformat": 4,
  "nbformat_minor": 0,
  "metadata": {
    "colab": {
      "provenance": []
    },
    "kernelspec": {
      "name": "python3",
      "display_name": "Python 3"
    },
    "language_info": {
      "name": "python"
    }
  },
  "cells": [
    {
      "cell_type": "markdown",
      "metadata": {
        "id": "vPJ9jVBtNLHm"
      },
      "source": [
        "## 라이브러리 로딩"
      ]
    },
    {
      "cell_type": "code",
      "metadata": {
        "id": "v-zC2rkdKDcI"
      },
      "source": [
        "import pandas as pd\n",
        "from sklearn.ensemble import RandomForestRegressor"
      ],
      "execution_count": 252,
      "outputs": []
    },
    {
      "cell_type": "markdown",
      "metadata": {
        "id": "v8i_07N4LCku"
      },
      "source": [
        "## 데이터 로딩 및 확인"
      ]
    },
    {
      "cell_type": "code",
      "metadata": {
        "id": "to0uUNr6KHoq"
      },
      "source": [
        "train = pd.read_csv('train.csv') \n",
        "test = pd.read_csv('test.csv')"
      ],
      "execution_count": 253,
      "outputs": []
    },
    {
      "cell_type": "code",
      "metadata": {
        "colab": {
          "base_uri": "https://localhost:8080/"
        },
        "id": "f_vUhom0LGUv",
        "outputId": "b0a9bb88-9b5a-41ee-98c7-4a125947e073"
      },
      "source": [
        "train.info()"
      ],
      "execution_count": 254,
      "outputs": [
        {
          "output_type": "stream",
          "name": "stdout",
          "text": [
            "<class 'pandas.core.frame.DataFrame'>\n",
            "RangeIndex: 1459 entries, 0 to 1458\n",
            "Data columns (total 11 columns):\n",
            " #   Column                  Non-Null Count  Dtype  \n",
            "---  ------                  --------------  -----  \n",
            " 0   id                      1459 non-null   int64  \n",
            " 1   hour                    1459 non-null   int64  \n",
            " 2   hour_bef_temperature    1457 non-null   float64\n",
            " 3   hour_bef_precipitation  1457 non-null   float64\n",
            " 4   hour_bef_windspeed      1450 non-null   float64\n",
            " 5   hour_bef_humidity       1457 non-null   float64\n",
            " 6   hour_bef_visibility     1457 non-null   float64\n",
            " 7   hour_bef_ozone          1383 non-null   float64\n",
            " 8   hour_bef_pm10           1369 non-null   float64\n",
            " 9   hour_bef_pm2.5          1342 non-null   float64\n",
            " 10  count                   1459 non-null   float64\n",
            "dtypes: float64(9), int64(2)\n",
            "memory usage: 125.5 KB\n"
          ]
        }
      ]
    },
    {
      "cell_type": "code",
      "metadata": {
        "colab": {
          "base_uri": "https://localhost:8080/",
          "height": 270
        },
        "id": "__07tYh_KIZ9",
        "outputId": "e8aa9261-5b72-4723-96bc-f1d02f110546"
      },
      "source": [
        "train.head()"
      ],
      "execution_count": 255,
      "outputs": [
        {
          "output_type": "execute_result",
          "data": {
            "text/plain": [
              "   id  hour  hour_bef_temperature  hour_bef_precipitation  hour_bef_windspeed  \\\n",
              "0   3    20                  16.3                     1.0                 1.5   \n",
              "1   6    13                  20.1                     0.0                 1.4   \n",
              "2   7     6                  13.9                     0.0                 0.7   \n",
              "3   8    23                   8.1                     0.0                 2.7   \n",
              "4   9    18                  29.5                     0.0                 4.8   \n",
              "\n",
              "   hour_bef_humidity  hour_bef_visibility  hour_bef_ozone  hour_bef_pm10  \\\n",
              "0               89.0                576.0           0.027           76.0   \n",
              "1               48.0                916.0           0.042           73.0   \n",
              "2               79.0               1382.0           0.033           32.0   \n",
              "3               54.0                946.0           0.040           75.0   \n",
              "4                7.0               2000.0           0.057           27.0   \n",
              "\n",
              "   hour_bef_pm2.5  count  \n",
              "0            33.0   49.0  \n",
              "1            40.0  159.0  \n",
              "2            19.0   26.0  \n",
              "3            64.0   57.0  \n",
              "4            11.0  431.0  "
            ],
            "text/html": [
              "\n",
              "  <div id=\"df-1d743e2f-65cc-4449-846b-3b43a2a17c11\">\n",
              "    <div class=\"colab-df-container\">\n",
              "      <div>\n",
              "<style scoped>\n",
              "    .dataframe tbody tr th:only-of-type {\n",
              "        vertical-align: middle;\n",
              "    }\n",
              "\n",
              "    .dataframe tbody tr th {\n",
              "        vertical-align: top;\n",
              "    }\n",
              "\n",
              "    .dataframe thead th {\n",
              "        text-align: right;\n",
              "    }\n",
              "</style>\n",
              "<table border=\"1\" class=\"dataframe\">\n",
              "  <thead>\n",
              "    <tr style=\"text-align: right;\">\n",
              "      <th></th>\n",
              "      <th>id</th>\n",
              "      <th>hour</th>\n",
              "      <th>hour_bef_temperature</th>\n",
              "      <th>hour_bef_precipitation</th>\n",
              "      <th>hour_bef_windspeed</th>\n",
              "      <th>hour_bef_humidity</th>\n",
              "      <th>hour_bef_visibility</th>\n",
              "      <th>hour_bef_ozone</th>\n",
              "      <th>hour_bef_pm10</th>\n",
              "      <th>hour_bef_pm2.5</th>\n",
              "      <th>count</th>\n",
              "    </tr>\n",
              "  </thead>\n",
              "  <tbody>\n",
              "    <tr>\n",
              "      <th>0</th>\n",
              "      <td>3</td>\n",
              "      <td>20</td>\n",
              "      <td>16.3</td>\n",
              "      <td>1.0</td>\n",
              "      <td>1.5</td>\n",
              "      <td>89.0</td>\n",
              "      <td>576.0</td>\n",
              "      <td>0.027</td>\n",
              "      <td>76.0</td>\n",
              "      <td>33.0</td>\n",
              "      <td>49.0</td>\n",
              "    </tr>\n",
              "    <tr>\n",
              "      <th>1</th>\n",
              "      <td>6</td>\n",
              "      <td>13</td>\n",
              "      <td>20.1</td>\n",
              "      <td>0.0</td>\n",
              "      <td>1.4</td>\n",
              "      <td>48.0</td>\n",
              "      <td>916.0</td>\n",
              "      <td>0.042</td>\n",
              "      <td>73.0</td>\n",
              "      <td>40.0</td>\n",
              "      <td>159.0</td>\n",
              "    </tr>\n",
              "    <tr>\n",
              "      <th>2</th>\n",
              "      <td>7</td>\n",
              "      <td>6</td>\n",
              "      <td>13.9</td>\n",
              "      <td>0.0</td>\n",
              "      <td>0.7</td>\n",
              "      <td>79.0</td>\n",
              "      <td>1382.0</td>\n",
              "      <td>0.033</td>\n",
              "      <td>32.0</td>\n",
              "      <td>19.0</td>\n",
              "      <td>26.0</td>\n",
              "    </tr>\n",
              "    <tr>\n",
              "      <th>3</th>\n",
              "      <td>8</td>\n",
              "      <td>23</td>\n",
              "      <td>8.1</td>\n",
              "      <td>0.0</td>\n",
              "      <td>2.7</td>\n",
              "      <td>54.0</td>\n",
              "      <td>946.0</td>\n",
              "      <td>0.040</td>\n",
              "      <td>75.0</td>\n",
              "      <td>64.0</td>\n",
              "      <td>57.0</td>\n",
              "    </tr>\n",
              "    <tr>\n",
              "      <th>4</th>\n",
              "      <td>9</td>\n",
              "      <td>18</td>\n",
              "      <td>29.5</td>\n",
              "      <td>0.0</td>\n",
              "      <td>4.8</td>\n",
              "      <td>7.0</td>\n",
              "      <td>2000.0</td>\n",
              "      <td>0.057</td>\n",
              "      <td>27.0</td>\n",
              "      <td>11.0</td>\n",
              "      <td>431.0</td>\n",
              "    </tr>\n",
              "  </tbody>\n",
              "</table>\n",
              "</div>\n",
              "      <button class=\"colab-df-convert\" onclick=\"convertToInteractive('df-1d743e2f-65cc-4449-846b-3b43a2a17c11')\"\n",
              "              title=\"Convert this dataframe to an interactive table.\"\n",
              "              style=\"display:none;\">\n",
              "        \n",
              "  <svg xmlns=\"http://www.w3.org/2000/svg\" height=\"24px\"viewBox=\"0 0 24 24\"\n",
              "       width=\"24px\">\n",
              "    <path d=\"M0 0h24v24H0V0z\" fill=\"none\"/>\n",
              "    <path d=\"M18.56 5.44l.94 2.06.94-2.06 2.06-.94-2.06-.94-.94-2.06-.94 2.06-2.06.94zm-11 1L8.5 8.5l.94-2.06 2.06-.94-2.06-.94L8.5 2.5l-.94 2.06-2.06.94zm10 10l.94 2.06.94-2.06 2.06-.94-2.06-.94-.94-2.06-.94 2.06-2.06.94z\"/><path d=\"M17.41 7.96l-1.37-1.37c-.4-.4-.92-.59-1.43-.59-.52 0-1.04.2-1.43.59L10.3 9.45l-7.72 7.72c-.78.78-.78 2.05 0 2.83L4 21.41c.39.39.9.59 1.41.59.51 0 1.02-.2 1.41-.59l7.78-7.78 2.81-2.81c.8-.78.8-2.07 0-2.86zM5.41 20L4 18.59l7.72-7.72 1.47 1.35L5.41 20z\"/>\n",
              "  </svg>\n",
              "      </button>\n",
              "      \n",
              "  <style>\n",
              "    .colab-df-container {\n",
              "      display:flex;\n",
              "      flex-wrap:wrap;\n",
              "      gap: 12px;\n",
              "    }\n",
              "\n",
              "    .colab-df-convert {\n",
              "      background-color: #E8F0FE;\n",
              "      border: none;\n",
              "      border-radius: 50%;\n",
              "      cursor: pointer;\n",
              "      display: none;\n",
              "      fill: #1967D2;\n",
              "      height: 32px;\n",
              "      padding: 0 0 0 0;\n",
              "      width: 32px;\n",
              "    }\n",
              "\n",
              "    .colab-df-convert:hover {\n",
              "      background-color: #E2EBFA;\n",
              "      box-shadow: 0px 1px 2px rgba(60, 64, 67, 0.3), 0px 1px 3px 1px rgba(60, 64, 67, 0.15);\n",
              "      fill: #174EA6;\n",
              "    }\n",
              "\n",
              "    [theme=dark] .colab-df-convert {\n",
              "      background-color: #3B4455;\n",
              "      fill: #D2E3FC;\n",
              "    }\n",
              "\n",
              "    [theme=dark] .colab-df-convert:hover {\n",
              "      background-color: #434B5C;\n",
              "      box-shadow: 0px 1px 3px 1px rgba(0, 0, 0, 0.15);\n",
              "      filter: drop-shadow(0px 1px 2px rgba(0, 0, 0, 0.3));\n",
              "      fill: #FFFFFF;\n",
              "    }\n",
              "  </style>\n",
              "\n",
              "      <script>\n",
              "        const buttonEl =\n",
              "          document.querySelector('#df-1d743e2f-65cc-4449-846b-3b43a2a17c11 button.colab-df-convert');\n",
              "        buttonEl.style.display =\n",
              "          google.colab.kernel.accessAllowed ? 'block' : 'none';\n",
              "\n",
              "        async function convertToInteractive(key) {\n",
              "          const element = document.querySelector('#df-1d743e2f-65cc-4449-846b-3b43a2a17c11');\n",
              "          const dataTable =\n",
              "            await google.colab.kernel.invokeFunction('convertToInteractive',\n",
              "                                                     [key], {});\n",
              "          if (!dataTable) return;\n",
              "\n",
              "          const docLinkHtml = 'Like what you see? Visit the ' +\n",
              "            '<a target=\"_blank\" href=https://colab.research.google.com/notebooks/data_table.ipynb>data table notebook</a>'\n",
              "            + ' to learn more about interactive tables.';\n",
              "          element.innerHTML = '';\n",
              "          dataTable['output_type'] = 'display_data';\n",
              "          await google.colab.output.renderOutput(dataTable, element);\n",
              "          const docLink = document.createElement('div');\n",
              "          docLink.innerHTML = docLinkHtml;\n",
              "          element.appendChild(docLink);\n",
              "        }\n",
              "      </script>\n",
              "    </div>\n",
              "  </div>\n",
              "  "
            ]
          },
          "metadata": {},
          "execution_count": 255
        }
      ]
    },
    {
      "cell_type": "code",
      "metadata": {
        "colab": {
          "base_uri": "https://localhost:8080/",
          "height": 270
        },
        "id": "pVxYli5iKLuf",
        "outputId": "b87dd3c6-f46c-4d0c-9105-606ef455933f"
      },
      "source": [
        "test.head()"
      ],
      "execution_count": 256,
      "outputs": [
        {
          "output_type": "execute_result",
          "data": {
            "text/plain": [
              "   id  hour  hour_bef_temperature  hour_bef_precipitation  hour_bef_windspeed  \\\n",
              "0   0     7                  20.7                     0.0                 1.3   \n",
              "1   1    17                  30.0                     0.0                 5.4   \n",
              "2   2    13                  19.0                     1.0                 2.1   \n",
              "3   4     6                  22.5                     0.0                 2.5   \n",
              "4   5    22                  14.6                     1.0                 3.4   \n",
              "\n",
              "   hour_bef_humidity  hour_bef_visibility  hour_bef_ozone  hour_bef_pm10  \\\n",
              "0               62.0                954.0           0.041           44.0   \n",
              "1               33.0               1590.0           0.061           49.0   \n",
              "2               95.0                193.0           0.020           36.0   \n",
              "3               60.0               1185.0           0.027           52.0   \n",
              "4               93.0                218.0           0.041           18.0   \n",
              "\n",
              "   hour_bef_pm2.5  \n",
              "0            27.0  \n",
              "1            36.0  \n",
              "2            28.0  \n",
              "3            38.0  \n",
              "4            15.0  "
            ],
            "text/html": [
              "\n",
              "  <div id=\"df-2cc8a94c-a6d9-4335-b0e8-bb5c77094b78\">\n",
              "    <div class=\"colab-df-container\">\n",
              "      <div>\n",
              "<style scoped>\n",
              "    .dataframe tbody tr th:only-of-type {\n",
              "        vertical-align: middle;\n",
              "    }\n",
              "\n",
              "    .dataframe tbody tr th {\n",
              "        vertical-align: top;\n",
              "    }\n",
              "\n",
              "    .dataframe thead th {\n",
              "        text-align: right;\n",
              "    }\n",
              "</style>\n",
              "<table border=\"1\" class=\"dataframe\">\n",
              "  <thead>\n",
              "    <tr style=\"text-align: right;\">\n",
              "      <th></th>\n",
              "      <th>id</th>\n",
              "      <th>hour</th>\n",
              "      <th>hour_bef_temperature</th>\n",
              "      <th>hour_bef_precipitation</th>\n",
              "      <th>hour_bef_windspeed</th>\n",
              "      <th>hour_bef_humidity</th>\n",
              "      <th>hour_bef_visibility</th>\n",
              "      <th>hour_bef_ozone</th>\n",
              "      <th>hour_bef_pm10</th>\n",
              "      <th>hour_bef_pm2.5</th>\n",
              "    </tr>\n",
              "  </thead>\n",
              "  <tbody>\n",
              "    <tr>\n",
              "      <th>0</th>\n",
              "      <td>0</td>\n",
              "      <td>7</td>\n",
              "      <td>20.7</td>\n",
              "      <td>0.0</td>\n",
              "      <td>1.3</td>\n",
              "      <td>62.0</td>\n",
              "      <td>954.0</td>\n",
              "      <td>0.041</td>\n",
              "      <td>44.0</td>\n",
              "      <td>27.0</td>\n",
              "    </tr>\n",
              "    <tr>\n",
              "      <th>1</th>\n",
              "      <td>1</td>\n",
              "      <td>17</td>\n",
              "      <td>30.0</td>\n",
              "      <td>0.0</td>\n",
              "      <td>5.4</td>\n",
              "      <td>33.0</td>\n",
              "      <td>1590.0</td>\n",
              "      <td>0.061</td>\n",
              "      <td>49.0</td>\n",
              "      <td>36.0</td>\n",
              "    </tr>\n",
              "    <tr>\n",
              "      <th>2</th>\n",
              "      <td>2</td>\n",
              "      <td>13</td>\n",
              "      <td>19.0</td>\n",
              "      <td>1.0</td>\n",
              "      <td>2.1</td>\n",
              "      <td>95.0</td>\n",
              "      <td>193.0</td>\n",
              "      <td>0.020</td>\n",
              "      <td>36.0</td>\n",
              "      <td>28.0</td>\n",
              "    </tr>\n",
              "    <tr>\n",
              "      <th>3</th>\n",
              "      <td>4</td>\n",
              "      <td>6</td>\n",
              "      <td>22.5</td>\n",
              "      <td>0.0</td>\n",
              "      <td>2.5</td>\n",
              "      <td>60.0</td>\n",
              "      <td>1185.0</td>\n",
              "      <td>0.027</td>\n",
              "      <td>52.0</td>\n",
              "      <td>38.0</td>\n",
              "    </tr>\n",
              "    <tr>\n",
              "      <th>4</th>\n",
              "      <td>5</td>\n",
              "      <td>22</td>\n",
              "      <td>14.6</td>\n",
              "      <td>1.0</td>\n",
              "      <td>3.4</td>\n",
              "      <td>93.0</td>\n",
              "      <td>218.0</td>\n",
              "      <td>0.041</td>\n",
              "      <td>18.0</td>\n",
              "      <td>15.0</td>\n",
              "    </tr>\n",
              "  </tbody>\n",
              "</table>\n",
              "</div>\n",
              "      <button class=\"colab-df-convert\" onclick=\"convertToInteractive('df-2cc8a94c-a6d9-4335-b0e8-bb5c77094b78')\"\n",
              "              title=\"Convert this dataframe to an interactive table.\"\n",
              "              style=\"display:none;\">\n",
              "        \n",
              "  <svg xmlns=\"http://www.w3.org/2000/svg\" height=\"24px\"viewBox=\"0 0 24 24\"\n",
              "       width=\"24px\">\n",
              "    <path d=\"M0 0h24v24H0V0z\" fill=\"none\"/>\n",
              "    <path d=\"M18.56 5.44l.94 2.06.94-2.06 2.06-.94-2.06-.94-.94-2.06-.94 2.06-2.06.94zm-11 1L8.5 8.5l.94-2.06 2.06-.94-2.06-.94L8.5 2.5l-.94 2.06-2.06.94zm10 10l.94 2.06.94-2.06 2.06-.94-2.06-.94-.94-2.06-.94 2.06-2.06.94z\"/><path d=\"M17.41 7.96l-1.37-1.37c-.4-.4-.92-.59-1.43-.59-.52 0-1.04.2-1.43.59L10.3 9.45l-7.72 7.72c-.78.78-.78 2.05 0 2.83L4 21.41c.39.39.9.59 1.41.59.51 0 1.02-.2 1.41-.59l7.78-7.78 2.81-2.81c.8-.78.8-2.07 0-2.86zM5.41 20L4 18.59l7.72-7.72 1.47 1.35L5.41 20z\"/>\n",
              "  </svg>\n",
              "      </button>\n",
              "      \n",
              "  <style>\n",
              "    .colab-df-container {\n",
              "      display:flex;\n",
              "      flex-wrap:wrap;\n",
              "      gap: 12px;\n",
              "    }\n",
              "\n",
              "    .colab-df-convert {\n",
              "      background-color: #E8F0FE;\n",
              "      border: none;\n",
              "      border-radius: 50%;\n",
              "      cursor: pointer;\n",
              "      display: none;\n",
              "      fill: #1967D2;\n",
              "      height: 32px;\n",
              "      padding: 0 0 0 0;\n",
              "      width: 32px;\n",
              "    }\n",
              "\n",
              "    .colab-df-convert:hover {\n",
              "      background-color: #E2EBFA;\n",
              "      box-shadow: 0px 1px 2px rgba(60, 64, 67, 0.3), 0px 1px 3px 1px rgba(60, 64, 67, 0.15);\n",
              "      fill: #174EA6;\n",
              "    }\n",
              "\n",
              "    [theme=dark] .colab-df-convert {\n",
              "      background-color: #3B4455;\n",
              "      fill: #D2E3FC;\n",
              "    }\n",
              "\n",
              "    [theme=dark] .colab-df-convert:hover {\n",
              "      background-color: #434B5C;\n",
              "      box-shadow: 0px 1px 3px 1px rgba(0, 0, 0, 0.15);\n",
              "      filter: drop-shadow(0px 1px 2px rgba(0, 0, 0, 0.3));\n",
              "      fill: #FFFFFF;\n",
              "    }\n",
              "  </style>\n",
              "\n",
              "      <script>\n",
              "        const buttonEl =\n",
              "          document.querySelector('#df-2cc8a94c-a6d9-4335-b0e8-bb5c77094b78 button.colab-df-convert');\n",
              "        buttonEl.style.display =\n",
              "          google.colab.kernel.accessAllowed ? 'block' : 'none';\n",
              "\n",
              "        async function convertToInteractive(key) {\n",
              "          const element = document.querySelector('#df-2cc8a94c-a6d9-4335-b0e8-bb5c77094b78');\n",
              "          const dataTable =\n",
              "            await google.colab.kernel.invokeFunction('convertToInteractive',\n",
              "                                                     [key], {});\n",
              "          if (!dataTable) return;\n",
              "\n",
              "          const docLinkHtml = 'Like what you see? Visit the ' +\n",
              "            '<a target=\"_blank\" href=https://colab.research.google.com/notebooks/data_table.ipynb>data table notebook</a>'\n",
              "            + ' to learn more about interactive tables.';\n",
              "          element.innerHTML = '';\n",
              "          dataTable['output_type'] = 'display_data';\n",
              "          await google.colab.output.renderOutput(dataTable, element);\n",
              "          const docLink = document.createElement('div');\n",
              "          docLink.innerHTML = docLinkHtml;\n",
              "          element.appendChild(docLink);\n",
              "        }\n",
              "      </script>\n",
              "    </div>\n",
              "  </div>\n",
              "  "
            ]
          },
          "metadata": {},
          "execution_count": 256
        }
      ]
    },
    {
      "cell_type": "markdown",
      "metadata": {
        "id": "7T4NNGQbKT52"
      },
      "source": [
        "## 결측치 확인 및 처리"
      ]
    },
    {
      "cell_type": "code",
      "metadata": {
        "colab": {
          "base_uri": "https://localhost:8080/"
        },
        "id": "Pdj-uplvKMsH",
        "outputId": "fea1e6c2-bd6a-4a9c-b714-b99f317ec332"
      },
      "source": [
        "train.isnull().sum()"
      ],
      "execution_count": 257,
      "outputs": [
        {
          "output_type": "execute_result",
          "data": {
            "text/plain": [
              "id                          0\n",
              "hour                        0\n",
              "hour_bef_temperature        2\n",
              "hour_bef_precipitation      2\n",
              "hour_bef_windspeed          9\n",
              "hour_bef_humidity           2\n",
              "hour_bef_visibility         2\n",
              "hour_bef_ozone             76\n",
              "hour_bef_pm10              90\n",
              "hour_bef_pm2.5            117\n",
              "count                       0\n",
              "dtype: int64"
            ]
          },
          "metadata": {},
          "execution_count": 257
        }
      ]
    },
    {
      "cell_type": "code",
      "metadata": {
        "colab": {
          "base_uri": "https://localhost:8080/"
        },
        "id": "J4VedGdkKOFe",
        "outputId": "bf6197cf-37a7-4eae-aa45-27960416baf8"
      },
      "source": [
        "test.isnull().sum()"
      ],
      "execution_count": 258,
      "outputs": [
        {
          "output_type": "execute_result",
          "data": {
            "text/plain": [
              "id                         0\n",
              "hour                       0\n",
              "hour_bef_temperature       1\n",
              "hour_bef_precipitation     1\n",
              "hour_bef_windspeed         1\n",
              "hour_bef_humidity          1\n",
              "hour_bef_visibility        1\n",
              "hour_bef_ozone            35\n",
              "hour_bef_pm10             37\n",
              "hour_bef_pm2.5            36\n",
              "dtype: int64"
            ]
          },
          "metadata": {},
          "execution_count": 258
        }
      ]
    },
    {
      "cell_type": "code",
      "metadata": {
        "id": "M_-tgG09KQRC"
      },
      "source": [
        "# train.fillna(0,inplace = True)\n",
        "# test.fillna(0,inplace = True)\n",
        "# 중위수로 결측치 처리하기\n",
        "train_na = train.fillna(train.median())\n",
        "test_na = test.fillna(test.median())\n",
        "test = test_na.drop(['id'],axis=1)\n",
        "train_x = train_na.drop(['id','count'],axis = 1)\n",
        "train_y = train_na['count']\n",
        "from sklearn.model_selection import train_test_split\n",
        "x_train,x_test,y_train,y_test = train_test_split(train_x,train_y,test_size=0.2,random_state=100)\n",
        "x_train.shape, y_train.shape\n",
        "# 데이터 스케일링\n",
        "from sklearn.preprocessing import StandardScaler\n",
        "ss = StandardScaler()\n",
        "ss.fit(x_train)\n",
        "x_train_scaled = ss.transform(x_train)\n",
        "test_scaled = ss.transform(test)"
      ],
      "execution_count": 259,
      "outputs": []
    },
    {
      "cell_type": "markdown",
      "source": [
        "예측모델의 파이프라인 구축해서 각 모델의 점수를 비교해서 최상의 모델을 선택하고 하이퍼 파라메터적용하기\n",
        "\n",
        "ploy증가하는 함수도 적용해서 선형이 아닌 비선형도 성능 측정하기"
      ],
      "metadata": {
        "id": "XV5HbAPeAQMX"
      }
    },
    {
      "cell_type": "code",
      "source": [
        "from sklearn.neighbors import KNeighborsRegressor\n",
        "from sklearn.linear_model import LinearRegression,Ridge,Lasso, SGDRegressor\n",
        "from sklearn.ensemble import RandomForestRegressor,ExtraTreesRegressor,GradientBoostingRegressor\n",
        "from sklearn.tree import DecisionTreeRegressor\n",
        "from xgboost import XGBRegressor\n",
        "from lightgbm import LGBMRegressor\n",
        "# 교차 검증\n",
        "from sklearn.model_selection import cross_validate\n",
        "# 특성을 추가하여 비 선형으로 만들기\n",
        "from sklearn.preprocessing import PolynomialFeatures\n",
        "\n",
        "# 1. 가능한 모든 모델로 측정한다.\n",
        "temp1  = [\n",
        "    'KNeighborsRegressor','LinearRegression','Ridge','Lasso', 'SGDRegressor','RandomForestRegressor','ExtraTreesRegressor',\n",
        "    'DecisionTreeRegressor','XGBRegressor','LGBMRegressor','GradientBoostingRegressor'\n",
        "]\n",
        "temp2 = [\n",
        "    KNeighborsRegressor(),LinearRegression(),Ridge(),Lasso(), SGDRegressor(),RandomForestRegressor(),ExtraTreesRegressor(),\n",
        "    DecisionTreeRegressor(),XGBRegressor(),LGBMRegressor(),GradientBoostingRegressor()\n",
        "]\n",
        "models = tuple( zip(temp1,temp2))\n",
        "models"
      ],
      "metadata": {
        "colab": {
          "base_uri": "https://localhost:8080/"
        },
        "id": "78W4bhriAa1L",
        "outputId": "31b057dd-0465-47a9-943d-4e7aa61d1eda"
      },
      "execution_count": 260,
      "outputs": [
        {
          "output_type": "execute_result",
          "data": {
            "text/plain": [
              "(('KNeighborsRegressor', KNeighborsRegressor()),\n",
              " ('LinearRegression', LinearRegression()),\n",
              " ('Ridge', Ridge()),\n",
              " ('Lasso', Lasso()),\n",
              " ('SGDRegressor', SGDRegressor()),\n",
              " ('RandomForestRegressor', RandomForestRegressor()),\n",
              " ('ExtraTreesRegressor', ExtraTreesRegressor()),\n",
              " ('DecisionTreeRegressor', DecisionTreeRegressor()),\n",
              " ('XGBRegressor',\n",
              "  XGBRegressor(base_score=None, booster=None, callbacks=None,\n",
              "               colsample_bylevel=None, colsample_bynode=None,\n",
              "               colsample_bytree=None, early_stopping_rounds=None,\n",
              "               enable_categorical=False, eval_metric=None, feature_types=None,\n",
              "               gamma=None, gpu_id=None, grow_policy=None, importance_type=None,\n",
              "               interaction_constraints=None, learning_rate=None, max_bin=None,\n",
              "               max_cat_threshold=None, max_cat_to_onehot=None,\n",
              "               max_delta_step=None, max_depth=None, max_leaves=None,\n",
              "               min_child_weight=None, missing=nan, monotone_constraints=None,\n",
              "               n_estimators=100, n_jobs=None, num_parallel_tree=None,\n",
              "               predictor=None, random_state=None, ...)),\n",
              " ('LGBMRegressor', LGBMRegressor()),\n",
              " ('GradientBoostingRegressor', GradientBoostingRegressor()))"
            ]
          },
          "metadata": {},
          "execution_count": 260
        }
      ]
    },
    {
      "cell_type": "code",
      "source": [
        "import numpy as np\n",
        "for name,model in models:\n",
        "  score  = cross_validate(model,x_train_scaled,y_train)\n",
        "  print(f'{name} : {np.mean(score[\"test_score\"])}')"
      ],
      "metadata": {
        "colab": {
          "base_uri": "https://localhost:8080/"
        },
        "id": "XzAyBvL8Aa4Z",
        "outputId": "3b625fea-86a7-4db5-a167-36544c86517c"
      },
      "execution_count": 261,
      "outputs": [
        {
          "output_type": "stream",
          "name": "stdout",
          "text": [
            "KNeighborsRegressor : 0.6693598286091967\n",
            "LinearRegression : 0.5813469866793826\n",
            "Ridge : 0.5813659358733126\n",
            "Lasso : 0.5816589670822431\n",
            "SGDRegressor : 0.5808138774120747\n",
            "RandomForestRegressor : 0.7662345998105494\n",
            "ExtraTreesRegressor : 0.7831870456316177\n",
            "DecisionTreeRegressor : 0.5343022362440903\n",
            "XGBRegressor : 0.7609704731011966\n",
            "LGBMRegressor : 0.758873200528528\n",
            "GradientBoostingRegressor : 0.757570066744976\n"
          ]
        }
      ]
    },
    {
      "cell_type": "code",
      "source": [
        "# 비선형으로 예측하기 2차원\n",
        "import numpy as np\n",
        "pf = PolynomialFeatures(degree=2)\n",
        "x_train_poly = pf.fit_transform(x_train)\n",
        "ss = StandardScaler()\n",
        "x_train_poly_scaled = ss.fit_transform(x_train_poly)\n",
        "for name,model in models:\n",
        "  score  = cross_validate(model,x_train_poly_scaled,y_train)\n",
        "  print(f'{name} : {np.mean(score[\"test_score\"])}')"
      ],
      "metadata": {
        "colab": {
          "base_uri": "https://localhost:8080/"
        },
        "id": "RHfJXwa8CuYB",
        "outputId": "e89e0016-b2f2-4c7e-b672-e1cc89313457"
      },
      "execution_count": 262,
      "outputs": [
        {
          "output_type": "stream",
          "name": "stdout",
          "text": [
            "KNeighborsRegressor : 0.657944573744866\n",
            "LinearRegression : 0.6274844004727933\n",
            "Ridge : 0.6312565126836854\n",
            "Lasso : 0.6278180750181435\n",
            "SGDRegressor : 0.6231305647394193\n",
            "RandomForestRegressor : 0.7569167214629445\n",
            "ExtraTreesRegressor : 0.7899400804985611\n",
            "DecisionTreeRegressor : 0.5013134189196495\n",
            "XGBRegressor : 0.7473853054043834\n",
            "LGBMRegressor : 0.7737105136641451\n",
            "GradientBoostingRegressor : 0.7529022215932455\n"
          ]
        }
      ]
    },
    {
      "cell_type": "code",
      "source": [
        "# 비선형으로 예측하기 3차원\n",
        "import numpy as np\n",
        "pf = PolynomialFeatures(degree=3)\n",
        "x_train_poly = pf.fit_transform(x_train)\n",
        "ss = StandardScaler()\n",
        "x_train_poly_scaled = ss.fit_transform(x_train_poly)\n",
        "for name,model in models:\n",
        "  score  = cross_validate(model,x_train_poly_scaled,y_train)\n",
        "  print(f'{name} : {np.mean(score[\"test_score\"])}')"
      ],
      "metadata": {
        "colab": {
          "base_uri": "https://localhost:8080/"
        },
        "id": "i6sDNHzvHc1w",
        "outputId": "75eeba31-b4eb-4029-ff17-27dc1e4e00ad"
      },
      "execution_count": 263,
      "outputs": [
        {
          "output_type": "stream",
          "name": "stdout",
          "text": [
            "KNeighborsRegressor : 0.6660609700922837\n",
            "LinearRegression : 0.5712343348279636\n",
            "Ridge : 0.6690737877062002\n",
            "Lasso : 0.6347010361655256\n",
            "SGDRegressor : -4.102969595318666e+17\n",
            "RandomForestRegressor : 0.7509137953727328\n",
            "ExtraTreesRegressor : 0.7835086137987355\n",
            "DecisionTreeRegressor : 0.5000398048116784\n",
            "XGBRegressor : 0.762766466760462\n",
            "LGBMRegressor : 0.7668470772970029\n",
            "GradientBoostingRegressor : 0.7637137904846665\n"
          ]
        }
      ]
    },
    {
      "cell_type": "code",
      "source": [
        "# 결정트리로 중요 피처만 골라서 재 학습\n",
        "dt = DecisionTreeRegressor()\n",
        "dt.fit(x_train,y_train)\n",
        "np.sort(dt.feature_importances_), np.argsort(dt.feature_importances_)\n",
        "feature_dict = dict(zip(x_train.columns, dt.feature_importances_))\n",
        "sorted_items = sorted(feature_dict.items(), key=lambda x : x[1],reverse=True)\n",
        "print(sorted_items)\n",
        "top4cols = [a for a,b in sorted_items[:2]]\n",
        "x_train_top4 = x_train.loc[:,top4cols]\n",
        "# x_train_top4.head()\n",
        "# 스케일링\n",
        "from sklearn.preprocessing import RobustScaler\n",
        "ss = RobustScaler()\n",
        "x_train_top4_scaled = ss.fit_transform(x_train_top4)\n",
        "\n",
        "for name,model in models:\n",
        "  score  = cross_validate(model,x_train_top4_scaled,y_train)\n",
        "  print(f'{name} : {np.mean(score[\"test_score\"])}')"
      ],
      "metadata": {
        "colab": {
          "base_uri": "https://localhost:8080/"
        },
        "id": "quDI3mAMCub6",
        "outputId": "7bf241fd-0d04-4c26-bf0e-a5e90b75b5e5"
      },
      "execution_count": 264,
      "outputs": [
        {
          "output_type": "stream",
          "name": "stdout",
          "text": [
            "[('hour', 0.5894391873998772), ('hour_bef_temperature', 0.17809589122948388), ('hour_bef_humidity', 0.046656404587064354), ('hour_bef_ozone', 0.04537132610534237), ('hour_bef_windspeed', 0.033228931953904146), ('hour_bef_precipitation', 0.029400572857514372), ('hour_bef_pm10', 0.028187598057183995), ('hour_bef_pm2.5', 0.027521153427305725), ('hour_bef_visibility', 0.02209893438232383)]\n",
            "KNeighborsRegressor : 0.6574307949617426\n",
            "LinearRegression : 0.5412496511646111\n",
            "Ridge : 0.5412582330993121\n",
            "Lasso : 0.5408335273031938\n",
            "SGDRegressor : 0.5412839841891532\n",
            "RandomForestRegressor : 0.66611256956365\n",
            "ExtraTreesRegressor : 0.6042327675291114\n",
            "DecisionTreeRegressor : 0.5498282276052132\n",
            "XGBRegressor : 0.6364495127595005\n",
            "LGBMRegressor : 0.6997137574661194\n",
            "GradientBoostingRegressor : 0.7167434033559557\n"
          ]
        }
      ]
    },
    {
      "cell_type": "code",
      "source": [
        "# 피처의 개수가 많아야 성능이 높아짐.... \n",
        "from sklearn.decomposition import PCA\n",
        "ss = StandardScaler()\n",
        "pf = PolynomialFeatures(degree=3)\n",
        "pca = PCA(n_components=0.5)\n",
        "x_train_pca = pca.fit_transform(x_train)\n",
        "x_train_pca_scaled = ss.fit_transform(x_train_pca)\n",
        "x_train_pca_scaled_poly = pf.fit_transform(x_train_pca_scaled)\n",
        "\n",
        "for name,model in models:\n",
        "  score  = cross_validate(model,x_train_pca_scaled_poly,y_train)\n",
        "  print(f'{name} : {np.mean(score[\"test_score\"])}')\n",
        "\n"
      ],
      "metadata": {
        "colab": {
          "base_uri": "https://localhost:8080/"
        },
        "id": "hxvbQWYrJr99",
        "outputId": "91fdd37c-7685-459f-f3cf-01dc55254b45"
      },
      "execution_count": 265,
      "outputs": [
        {
          "output_type": "stream",
          "name": "stdout",
          "text": [
            "KNeighborsRegressor : -0.061406314322779744\n",
            "LinearRegression : 0.07541234633768286\n",
            "Ridge : 0.0754887937194777\n",
            "Lasso : 0.07518388196740595\n",
            "SGDRegressor : 0.07529968463541928\n",
            "RandomForestRegressor : -0.29729221582444076\n",
            "ExtraTreesRegressor : -0.4688510073887828\n",
            "DecisionTreeRegressor : -0.7641245671918997\n",
            "XGBRegressor : -0.21695443592993535\n",
            "LGBMRegressor : 0.019402807973451463\n",
            "GradientBoostingRegressor : 0.06578967390908812\n"
          ]
        }
      ]
    },
    {
      "cell_type": "code",
      "source": [
        "# 가장 성능이 좋은 케이스\n",
        "# 비선형으로 예측하기 2차원\n",
        "import numpy as np\n",
        "pf = PolynomialFeatures(degree=2)\n",
        "pf.fit(x_train)\n",
        "x_train_poly = pf.transform(x_train)\n",
        "x_test_poly = pf.transform(x_test)\n",
        "test_poly = pf.transform(test)\n",
        "\n",
        "ss = StandardScaler()\n",
        "ss.fit(x_train_poly)\n",
        "x_train_poly_scaled = ss.transform(x_train_poly)\n",
        "x_test_poly_scaled = ss.transform(x_test_poly)\n",
        "test_poly_scaled = ss.transform(test_poly)\n",
        "\n",
        "for name,model in models:\n",
        "  score  = cross_validate(model,x_train_poly_scaled,y_train)\n",
        "  print(f'{name} : {np.mean(score[\"test_score\"])}')"
      ],
      "metadata": {
        "colab": {
          "base_uri": "https://localhost:8080/"
        },
        "id": "CshVBHtLJsCh",
        "outputId": "f52aaf91-1038-41ef-b8b3-11d99d2e2f2b"
      },
      "execution_count": 266,
      "outputs": [
        {
          "output_type": "stream",
          "name": "stdout",
          "text": [
            "KNeighborsRegressor : 0.657944573744866\n",
            "LinearRegression : 0.6274844004727933\n",
            "Ridge : 0.6312565126836854\n",
            "Lasso : 0.6278180750181435\n",
            "SGDRegressor : 0.6181780511218096\n",
            "RandomForestRegressor : 0.7606919887815197\n",
            "ExtraTreesRegressor : 0.7860921043322604\n",
            "DecisionTreeRegressor : 0.49536807414923956\n",
            "XGBRegressor : 0.7473853054043834\n",
            "LGBMRegressor : 0.7737105136641451\n",
            "GradientBoostingRegressor : 0.7534915516550296\n"
          ]
        }
      ]
    },
    {
      "cell_type": "code",
      "source": [
        "# ExtraTreesRegressor 로 하이퍼 파라메터 수행하기\n",
        "from sklearn.model_selection import RandomizedSearchCV\n",
        "# 튜닝할 하이퍼파라미터 범위 설정\n",
        "param_dist = {\n",
        "    'n_estimators': [50, 100, 150],\n",
        "    'max_depth': [None, 5, 10],\n",
        "    'min_samples_split': [2, 5, 10],\n",
        "    'min_samples_leaf': [1, 2, 4]    \n",
        "}\n",
        "model = ExtraTreesRegressor()\n",
        "random_search = RandomizedSearchCV(model, param_distributions=param_dist, n_iter=10, cv=5, random_state=42)\n",
        "random_search.fit(x_train_poly_scaled, y_train)\n",
        "# 최적의 하이퍼파라미터와 성능 출력\n",
        "print(\"Best Hyperparameters:\", random_search.best_params_)\n",
        "print(\"Best Score:\", random_search.best_score_)"
      ],
      "metadata": {
        "colab": {
          "base_uri": "https://localhost:8080/"
        },
        "id": "ugmJurzNJrKh",
        "outputId": "1a2e0e91-e495-419d-aa55-a30b5efd7cca"
      },
      "execution_count": 267,
      "outputs": [
        {
          "output_type": "stream",
          "name": "stdout",
          "text": [
            "Best Hyperparameters: {'n_estimators': 100, 'min_samples_split': 2, 'min_samples_leaf': 2, 'max_depth': None}\n",
            "Best Score: 0.7877281250901964\n"
          ]
        }
      ]
    },
    {
      "cell_type": "code",
      "source": [
        "best_model = random_search.best_estimator_\n",
        "best_model.score(x_test_poly_scaled,y_test) "
      ],
      "metadata": {
        "colab": {
          "base_uri": "https://localhost:8080/"
        },
        "id": "q0_Qvx3NMVHM",
        "outputId": "8a7dc0fe-901a-444a-d1c3-69f950be14b5"
      },
      "execution_count": 268,
      "outputs": [
        {
          "output_type": "execute_result",
          "data": {
            "text/plain": [
              "0.8183608988967839"
            ]
          },
          "metadata": {},
          "execution_count": 268
        }
      ]
    },
    {
      "cell_type": "code",
      "source": [
        "x_test_poly_scaled.shape"
      ],
      "metadata": {
        "colab": {
          "base_uri": "https://localhost:8080/"
        },
        "id": "sB1S-Rj-dYJu",
        "outputId": "aa6ae479-5881-4cdc-85aa-c7af2f404bff"
      },
      "execution_count": 269,
      "outputs": [
        {
          "output_type": "execute_result",
          "data": {
            "text/plain": [
              "(292, 55)"
            ]
          },
          "metadata": {},
          "execution_count": 269
        }
      ]
    },
    {
      "cell_type": "code",
      "source": [
        "# 변수의 중요도 체크 : 주어진데이터를 랜던하게 학습해서 중요한 피처를 찾아줌\n",
        "from sklearn.inspection import permutation_importance\n",
        "# 변수 중요도 측정\n",
        "x_train_poly_scaled.shape, y_train.shape\n",
        "results = permutation_importance(best_model, x_train_poly_scaled, y_train, scoring='r2')\n",
        "# 중요도 결과 출력\n",
        "importance = results.importances_mean\n",
        "np.argsort(importance)[::-1][:45]\n",
        "\n",
        "# 튜닝할 하이퍼파라미터 범위 설정\n",
        "param_dist = {\n",
        "    'n_estimators': [50, 100, 150],\n",
        "    'max_depth': [None, 5, 10],\n",
        "    'min_samples_split': [2, 5, 10],\n",
        "    'min_samples_leaf': [1, 2, 4]    \n",
        "}\n",
        "model2 = ExtraTreesRegressor()\n",
        "random_search = RandomizedSearchCV(model2, param_distributions=param_dist, n_iter=10, cv=5, random_state=42)\n",
        "random_search.fit(x_train_poly_scaled[:,np.argsort(importance)[::-1][:45]], y_train)\n",
        "# 최적의 하이퍼파라미터와 성능 출력\n",
        "print(\"Best Hyperparameters:\", random_search.best_params_)\n",
        "print(\"Best Score:\", random_search.best_score_)\n",
        "\n",
        "best_model_test = random_search.best_estimator_\n",
        "best_model_test.score(x_test_poly_scaled[:,np.argsort(importance)[::-1][:45]],y_test) \n",
        "# x_train_poly_scaled.shape[:,np.argsort(importance)[::-1][:25]]\n"
      ],
      "metadata": {
        "colab": {
          "base_uri": "https://localhost:8080/"
        },
        "id": "EAjmZesoZXND",
        "outputId": "22364f1b-3d17-486e-86fd-813d956e3b9f"
      },
      "execution_count": 270,
      "outputs": [
        {
          "output_type": "stream",
          "name": "stdout",
          "text": [
            "Best Hyperparameters: {'n_estimators': 100, 'min_samples_split': 5, 'min_samples_leaf': 1, 'max_depth': None}\n",
            "Best Score: 0.7890784979340711\n"
          ]
        },
        {
          "output_type": "execute_result",
          "data": {
            "text/plain": [
              "0.8109071023824004"
            ]
          },
          "metadata": {},
          "execution_count": 270
        }
      ]
    },
    {
      "cell_type": "markdown",
      "metadata": {
        "id": "jN5oDFfCL7fc"
      },
      "source": [
        "## 학습 된 모델로 예측 데이터 생성"
      ]
    },
    {
      "cell_type": "code",
      "source": [
        "pred2 = best_model_test.predict(x_test_poly_scaled[:,np.argsort(importance)[::-1][:45]])\n",
        "pred2.shape, x_test_poly_scaled.shape"
      ],
      "metadata": {
        "colab": {
          "base_uri": "https://localhost:8080/"
        },
        "id": "j8pJ0Dv5blKz",
        "outputId": "76995b83-e9dc-41d7-b2d6-049da9687867"
      },
      "execution_count": 272,
      "outputs": [
        {
          "output_type": "execute_result",
          "data": {
            "text/plain": [
              "((292,), (292, 55))"
            ]
          },
          "metadata": {},
          "execution_count": 272
        }
      ]
    },
    {
      "cell_type": "code",
      "metadata": {
        "id": "ITPZ9W3fLkPf",
        "colab": {
          "base_uri": "https://localhost:8080/"
        },
        "outputId": "3bd3f5f9-d860-4934-973c-f99421c8c886"
      },
      "source": [
        "pred = best_model.predict(test_poly_scaled)\n",
        "pred.shape,test_poly_scaled.shape"
      ],
      "execution_count": 273,
      "outputs": [
        {
          "output_type": "execute_result",
          "data": {
            "text/plain": [
              "((715,), (715, 55))"
            ]
          },
          "metadata": {},
          "execution_count": 273
        }
      ]
    },
    {
      "cell_type": "markdown",
      "source": [
        "현재까지 최고 성능요인 정리\n",
        "  - 모델 : ExtraTreesRegressor\n",
        "  - 전처리 : na는 중위수로 대체(id 컬럼 제거)\n",
        "  - 2차원으로 차수증가\n",
        "  - 스케일링(Standard)\n",
        "  - 하이퍼 파라메터 튜닝\n",
        "    - Best Hyperparameters: {'n_estimators': 100, 'min_samples_split': 5, 'min_samples_leaf': 1, 'max_depth': None} "
      ],
      "metadata": {
        "id": "VNmCMWSGe09E"
      }
    },
    {
      "cell_type": "code",
      "source": [
        "train = pd.read_csv('train.csv') \n",
        "test = pd.read_csv('test.csv')\n",
        "train = train.drop(['count'],axis = 1)\n",
        "merge_df = pd.concat([train,test])\n",
        "merge_df.mean()"
      ],
      "metadata": {
        "colab": {
          "base_uri": "https://localhost:8080/"
        },
        "id": "kANdAUBhjF21",
        "outputId": "d36afac4-11c6-464e-c537-9f40de9fa38e"
      },
      "execution_count": 313,
      "outputs": [
        {
          "output_type": "execute_result",
          "data": {
            "text/plain": [
              "id                        1089.779209\n",
              "hour                        11.486661\n",
              "hour_bef_temperature        18.870244\n",
              "hour_bef_precipitation       0.038231\n",
              "hour_bef_windspeed           2.449168\n",
              "hour_bef_humidity           53.690465\n",
              "hour_bef_visibility       1390.179641\n",
              "hour_bef_ozone               0.039824\n",
              "hour_bef_pm10               50.465559\n",
              "hour_bef_pm2.5              28.517071\n",
              "dtype: float64"
            ]
          },
          "metadata": {},
          "execution_count": 313
        }
      ]
    },
    {
      "cell_type": "code",
      "source": [
        "train = pd.read_csv('train.csv') \n",
        "test = pd.read_csv('test.csv')\n",
        "# 중위수로 결측치 처리하기\n",
        "# train = train.fillna(train.median())\n",
        "# test = test.fillna(test.median())\n",
        "\n",
        "train = train.fillna(merge_df.mean())\n",
        "test = test.fillna(merge_df.mean())\n",
        "\n",
        "test = test.drop(['id'],axis=1)\n",
        "train = train.drop(['id'],axis = 1)\n",
        "# 섞기\n",
        "arr = np.arange(len(train))\n",
        "np.random.shuffle(arr)\n",
        "train = train.iloc[arr,:]\n",
        "\n",
        "train_x = train.drop(['count'],axis = 1)\n",
        "train_y = train['count']\n",
        "\n",
        "\n",
        "# 데이터 스케일링\n",
        "from sklearn.preprocessing import RobustScaler\n",
        "import numpy as np\n",
        "\n",
        "pf = PolynomialFeatures(degree=2)\n",
        "pf.fit(train_x)\n",
        "train_x_poly = pf.transform(train_x)\n",
        "test_poly = pf.transform(test)\n",
        "\n",
        "ss = RobustScaler()\n",
        "ss.fit(train_x_poly)\n",
        "train_x_poly_scaled = ss.transform(train_x_poly)\n",
        "test_poly_scaled = ss.transform(test_poly)"
      ],
      "metadata": {
        "id": "01q8KNoOewDC"
      },
      "execution_count": 314,
      "outputs": []
    },
    {
      "cell_type": "code",
      "source": [
        "model = ExtraTreesRegressor(n_estimators= 100, min_samples_split= 2, min_samples_leaf= 2, max_depth= None )\n",
        "model.fit(train_x_poly_scaled,train_y)\n",
        "model.score(train_x_poly_scaled,train_y)\n",
        "predict = model.predict(test_poly_scaled)\n",
        "\n",
        "# RMSE 구하기\n",
        "from sklearn.metrics import mean_squared_error\n",
        "# MSE를 계산합니다.\n",
        "mse = mean_squared_error(train_y,model.predict(train_x_poly_scaled))\n",
        "# RMSE를 계산합니다.\n",
        "rmse = np.sqrt(mse)\n",
        "print(f'RMSE : {rmse}')\n",
        "\n",
        "submission = pd.read_csv('submission.csv')\n",
        "submission['count'] = pred\n",
        "submission.to_csv('베이스라인.csv',index = False)"
      ],
      "metadata": {
        "colab": {
          "base_uri": "https://localhost:8080/"
        },
        "id": "6gxLSRsbewGJ",
        "outputId": "70eb9bba-5dd0-4651-d975-b19beb4e5d1a"
      },
      "execution_count": 316,
      "outputs": [
        {
          "output_type": "stream",
          "name": "stdout",
          "text": [
            "RMSE : 6.6332756125914685\n"
          ]
        }
      ]
    },
    {
      "cell_type": "markdown",
      "source": [
        "변수의 중요도 체크해서 특정 feature 선택해 보기"
      ],
      "metadata": {
        "id": "Llm1pht4j_CD"
      }
    },
    {
      "cell_type": "code",
      "source": [
        "from sklearn.inspection import permutation_importance\n",
        "# 변수 중요도 측정\n",
        "x_train_poly_scaled.shape, y_train.shape\n",
        "results = permutation_importance(model, train_x_poly_scaled, train_y, scoring='r2')\n",
        "# 중요도 결과 출력\n",
        "importance = results.importances_mean\n",
        "importance_index = np.argsort(importance)[::-1][:25]\n",
        "print(train_x_poly_scaled[:,importance_index].shape, train_x_poly_scaled.shape)\n",
        "new_data_train_x = train_x_poly_scaled[:,importance_index]\n",
        "new_data_test_x = test_poly_scaled[:,importance_index]\n",
        "#  재 학습\n",
        "new_model = ExtraTreesRegressor(n_estimators= 100, min_samples_split= 2, min_samples_leaf= 2, max_depth= None )\n",
        "new_model.fit(new_data_train_x,train_y)\n",
        "#예측\n",
        "predict = new_model.predict(new_data_test_x)\n",
        "#결과저장\n",
        "submission = pd.read_csv('submission.csv')\n",
        "submission['count'] = pred\n",
        "submission.to_csv('베이스라인.csv',index = False)"
      ],
      "metadata": {
        "colab": {
          "base_uri": "https://localhost:8080/"
        },
        "id": "__LGNUI_j9jN",
        "outputId": "67e4f095-342c-44d3-840a-62d33910578a"
      },
      "execution_count": 307,
      "outputs": [
        {
          "output_type": "stream",
          "name": "stdout",
          "text": [
            "(1459, 25) (1459, 55)\n"
          ]
        }
      ]
    },
    {
      "cell_type": "code",
      "source": [],
      "metadata": {
        "id": "2lmbbTUsewLK"
      },
      "execution_count": null,
      "outputs": []
    },
    {
      "cell_type": "code",
      "source": [],
      "metadata": {
        "id": "GvV5OM2_ewNO"
      },
      "execution_count": null,
      "outputs": []
    },
    {
      "cell_type": "code",
      "source": [],
      "metadata": {
        "id": "X7Rft6KaewPt"
      },
      "execution_count": null,
      "outputs": []
    },
    {
      "cell_type": "code",
      "source": [],
      "metadata": {
        "id": "mQESH28JewUA"
      },
      "execution_count": null,
      "outputs": []
    },
    {
      "cell_type": "code",
      "source": [],
      "metadata": {
        "id": "1BcfRCc3ewXh"
      },
      "execution_count": null,
      "outputs": []
    },
    {
      "cell_type": "markdown",
      "metadata": {
        "id": "8cmQhhzjL-MD"
      },
      "source": [
        "## 제출파일 생성"
      ]
    },
    {
      "cell_type": "code",
      "metadata": {
        "id": "HC_74SxhLozW"
      },
      "source": [
        "submission = pd.read_csv('submission.csv')\n",
        "submission2 = pd.read_csv('submission.csv')"
      ],
      "execution_count": null,
      "outputs": []
    },
    {
      "cell_type": "code",
      "metadata": {
        "id": "erbo9F9dLuzX"
      },
      "source": [
        "submission['count'] = pred\n",
        "submission2['count'] = pred2"
      ],
      "execution_count": null,
      "outputs": []
    },
    {
      "cell_type": "code",
      "metadata": {
        "id": "Ggp9jIZ7Lyf6"
      },
      "source": [
        "submission.to_csv('베이스라인.csv',index = False)\n",
        "submission2.to_csv('베이스라인2.csv',index = False)"
      ],
      "execution_count": null,
      "outputs": []
    },
    {
      "cell_type": "code",
      "source": [],
      "metadata": {
        "id": "ogLkl1GNVB3f"
      },
      "execution_count": null,
      "outputs": []
    }
  ]
}