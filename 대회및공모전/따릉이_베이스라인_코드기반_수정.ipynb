{
  "nbformat": 4,
  "nbformat_minor": 0,
  "metadata": {
    "colab": {
      "provenance": []
    },
    "kernelspec": {
      "name": "python3",
      "display_name": "Python 3"
    },
    "language_info": {
      "name": "python"
    }
  },
  "cells": [
    {
      "cell_type": "markdown",
      "metadata": {
        "id": "vPJ9jVBtNLHm"
      },
      "source": [
        "## 라이브러리 로딩"
      ]
    },
    {
      "cell_type": "code",
      "metadata": {
        "id": "v-zC2rkdKDcI"
      },
      "source": [
        "import pandas as pd\n",
        "from sklearn.ensemble import RandomForestRegressor"
      ],
      "execution_count": 149,
      "outputs": []
    },
    {
      "cell_type": "markdown",
      "metadata": {
        "id": "v8i_07N4LCku"
      },
      "source": [
        "## 데이터 로딩 및 확인"
      ]
    },
    {
      "cell_type": "code",
      "metadata": {
        "id": "to0uUNr6KHoq"
      },
      "source": [
        "train = pd.read_csv('train.csv') \n",
        "test = pd.read_csv('test.csv')"
      ],
      "execution_count": 150,
      "outputs": []
    },
    {
      "cell_type": "code",
      "metadata": {
        "colab": {
          "base_uri": "https://localhost:8080/"
        },
        "id": "f_vUhom0LGUv",
        "outputId": "e918cec3-5e54-42cf-9a92-bfb44657b8ab"
      },
      "source": [
        "train.info()"
      ],
      "execution_count": 151,
      "outputs": [
        {
          "output_type": "stream",
          "name": "stdout",
          "text": [
            "<class 'pandas.core.frame.DataFrame'>\n",
            "RangeIndex: 1459 entries, 0 to 1458\n",
            "Data columns (total 11 columns):\n",
            " #   Column                  Non-Null Count  Dtype  \n",
            "---  ------                  --------------  -----  \n",
            " 0   id                      1459 non-null   int64  \n",
            " 1   hour                    1459 non-null   int64  \n",
            " 2   hour_bef_temperature    1457 non-null   float64\n",
            " 3   hour_bef_precipitation  1457 non-null   float64\n",
            " 4   hour_bef_windspeed      1450 non-null   float64\n",
            " 5   hour_bef_humidity       1457 non-null   float64\n",
            " 6   hour_bef_visibility     1457 non-null   float64\n",
            " 7   hour_bef_ozone          1383 non-null   float64\n",
            " 8   hour_bef_pm10           1369 non-null   float64\n",
            " 9   hour_bef_pm2.5          1342 non-null   float64\n",
            " 10  count                   1459 non-null   float64\n",
            "dtypes: float64(9), int64(2)\n",
            "memory usage: 125.5 KB\n"
          ]
        }
      ]
    },
    {
      "cell_type": "code",
      "metadata": {
        "colab": {
          "base_uri": "https://localhost:8080/",
          "height": 270
        },
        "id": "__07tYh_KIZ9",
        "outputId": "62961838-5bb7-4590-c790-4cfd80411644"
      },
      "source": [
        "train.head()"
      ],
      "execution_count": 152,
      "outputs": [
        {
          "output_type": "execute_result",
          "data": {
            "text/plain": [
              "   id  hour  hour_bef_temperature  hour_bef_precipitation  hour_bef_windspeed  \\\n",
              "0   3    20                  16.3                     1.0                 1.5   \n",
              "1   6    13                  20.1                     0.0                 1.4   \n",
              "2   7     6                  13.9                     0.0                 0.7   \n",
              "3   8    23                   8.1                     0.0                 2.7   \n",
              "4   9    18                  29.5                     0.0                 4.8   \n",
              "\n",
              "   hour_bef_humidity  hour_bef_visibility  hour_bef_ozone  hour_bef_pm10  \\\n",
              "0               89.0                576.0           0.027           76.0   \n",
              "1               48.0                916.0           0.042           73.0   \n",
              "2               79.0               1382.0           0.033           32.0   \n",
              "3               54.0                946.0           0.040           75.0   \n",
              "4                7.0               2000.0           0.057           27.0   \n",
              "\n",
              "   hour_bef_pm2.5  count  \n",
              "0            33.0   49.0  \n",
              "1            40.0  159.0  \n",
              "2            19.0   26.0  \n",
              "3            64.0   57.0  \n",
              "4            11.0  431.0  "
            ],
            "text/html": [
              "\n",
              "  <div id=\"df-44ca7b6a-5a3f-4f55-80b0-26d6546124a8\">\n",
              "    <div class=\"colab-df-container\">\n",
              "      <div>\n",
              "<style scoped>\n",
              "    .dataframe tbody tr th:only-of-type {\n",
              "        vertical-align: middle;\n",
              "    }\n",
              "\n",
              "    .dataframe tbody tr th {\n",
              "        vertical-align: top;\n",
              "    }\n",
              "\n",
              "    .dataframe thead th {\n",
              "        text-align: right;\n",
              "    }\n",
              "</style>\n",
              "<table border=\"1\" class=\"dataframe\">\n",
              "  <thead>\n",
              "    <tr style=\"text-align: right;\">\n",
              "      <th></th>\n",
              "      <th>id</th>\n",
              "      <th>hour</th>\n",
              "      <th>hour_bef_temperature</th>\n",
              "      <th>hour_bef_precipitation</th>\n",
              "      <th>hour_bef_windspeed</th>\n",
              "      <th>hour_bef_humidity</th>\n",
              "      <th>hour_bef_visibility</th>\n",
              "      <th>hour_bef_ozone</th>\n",
              "      <th>hour_bef_pm10</th>\n",
              "      <th>hour_bef_pm2.5</th>\n",
              "      <th>count</th>\n",
              "    </tr>\n",
              "  </thead>\n",
              "  <tbody>\n",
              "    <tr>\n",
              "      <th>0</th>\n",
              "      <td>3</td>\n",
              "      <td>20</td>\n",
              "      <td>16.3</td>\n",
              "      <td>1.0</td>\n",
              "      <td>1.5</td>\n",
              "      <td>89.0</td>\n",
              "      <td>576.0</td>\n",
              "      <td>0.027</td>\n",
              "      <td>76.0</td>\n",
              "      <td>33.0</td>\n",
              "      <td>49.0</td>\n",
              "    </tr>\n",
              "    <tr>\n",
              "      <th>1</th>\n",
              "      <td>6</td>\n",
              "      <td>13</td>\n",
              "      <td>20.1</td>\n",
              "      <td>0.0</td>\n",
              "      <td>1.4</td>\n",
              "      <td>48.0</td>\n",
              "      <td>916.0</td>\n",
              "      <td>0.042</td>\n",
              "      <td>73.0</td>\n",
              "      <td>40.0</td>\n",
              "      <td>159.0</td>\n",
              "    </tr>\n",
              "    <tr>\n",
              "      <th>2</th>\n",
              "      <td>7</td>\n",
              "      <td>6</td>\n",
              "      <td>13.9</td>\n",
              "      <td>0.0</td>\n",
              "      <td>0.7</td>\n",
              "      <td>79.0</td>\n",
              "      <td>1382.0</td>\n",
              "      <td>0.033</td>\n",
              "      <td>32.0</td>\n",
              "      <td>19.0</td>\n",
              "      <td>26.0</td>\n",
              "    </tr>\n",
              "    <tr>\n",
              "      <th>3</th>\n",
              "      <td>8</td>\n",
              "      <td>23</td>\n",
              "      <td>8.1</td>\n",
              "      <td>0.0</td>\n",
              "      <td>2.7</td>\n",
              "      <td>54.0</td>\n",
              "      <td>946.0</td>\n",
              "      <td>0.040</td>\n",
              "      <td>75.0</td>\n",
              "      <td>64.0</td>\n",
              "      <td>57.0</td>\n",
              "    </tr>\n",
              "    <tr>\n",
              "      <th>4</th>\n",
              "      <td>9</td>\n",
              "      <td>18</td>\n",
              "      <td>29.5</td>\n",
              "      <td>0.0</td>\n",
              "      <td>4.8</td>\n",
              "      <td>7.0</td>\n",
              "      <td>2000.0</td>\n",
              "      <td>0.057</td>\n",
              "      <td>27.0</td>\n",
              "      <td>11.0</td>\n",
              "      <td>431.0</td>\n",
              "    </tr>\n",
              "  </tbody>\n",
              "</table>\n",
              "</div>\n",
              "      <button class=\"colab-df-convert\" onclick=\"convertToInteractive('df-44ca7b6a-5a3f-4f55-80b0-26d6546124a8')\"\n",
              "              title=\"Convert this dataframe to an interactive table.\"\n",
              "              style=\"display:none;\">\n",
              "        \n",
              "  <svg xmlns=\"http://www.w3.org/2000/svg\" height=\"24px\"viewBox=\"0 0 24 24\"\n",
              "       width=\"24px\">\n",
              "    <path d=\"M0 0h24v24H0V0z\" fill=\"none\"/>\n",
              "    <path d=\"M18.56 5.44l.94 2.06.94-2.06 2.06-.94-2.06-.94-.94-2.06-.94 2.06-2.06.94zm-11 1L8.5 8.5l.94-2.06 2.06-.94-2.06-.94L8.5 2.5l-.94 2.06-2.06.94zm10 10l.94 2.06.94-2.06 2.06-.94-2.06-.94-.94-2.06-.94 2.06-2.06.94z\"/><path d=\"M17.41 7.96l-1.37-1.37c-.4-.4-.92-.59-1.43-.59-.52 0-1.04.2-1.43.59L10.3 9.45l-7.72 7.72c-.78.78-.78 2.05 0 2.83L4 21.41c.39.39.9.59 1.41.59.51 0 1.02-.2 1.41-.59l7.78-7.78 2.81-2.81c.8-.78.8-2.07 0-2.86zM5.41 20L4 18.59l7.72-7.72 1.47 1.35L5.41 20z\"/>\n",
              "  </svg>\n",
              "      </button>\n",
              "      \n",
              "  <style>\n",
              "    .colab-df-container {\n",
              "      display:flex;\n",
              "      flex-wrap:wrap;\n",
              "      gap: 12px;\n",
              "    }\n",
              "\n",
              "    .colab-df-convert {\n",
              "      background-color: #E8F0FE;\n",
              "      border: none;\n",
              "      border-radius: 50%;\n",
              "      cursor: pointer;\n",
              "      display: none;\n",
              "      fill: #1967D2;\n",
              "      height: 32px;\n",
              "      padding: 0 0 0 0;\n",
              "      width: 32px;\n",
              "    }\n",
              "\n",
              "    .colab-df-convert:hover {\n",
              "      background-color: #E2EBFA;\n",
              "      box-shadow: 0px 1px 2px rgba(60, 64, 67, 0.3), 0px 1px 3px 1px rgba(60, 64, 67, 0.15);\n",
              "      fill: #174EA6;\n",
              "    }\n",
              "\n",
              "    [theme=dark] .colab-df-convert {\n",
              "      background-color: #3B4455;\n",
              "      fill: #D2E3FC;\n",
              "    }\n",
              "\n",
              "    [theme=dark] .colab-df-convert:hover {\n",
              "      background-color: #434B5C;\n",
              "      box-shadow: 0px 1px 3px 1px rgba(0, 0, 0, 0.15);\n",
              "      filter: drop-shadow(0px 1px 2px rgba(0, 0, 0, 0.3));\n",
              "      fill: #FFFFFF;\n",
              "    }\n",
              "  </style>\n",
              "\n",
              "      <script>\n",
              "        const buttonEl =\n",
              "          document.querySelector('#df-44ca7b6a-5a3f-4f55-80b0-26d6546124a8 button.colab-df-convert');\n",
              "        buttonEl.style.display =\n",
              "          google.colab.kernel.accessAllowed ? 'block' : 'none';\n",
              "\n",
              "        async function convertToInteractive(key) {\n",
              "          const element = document.querySelector('#df-44ca7b6a-5a3f-4f55-80b0-26d6546124a8');\n",
              "          const dataTable =\n",
              "            await google.colab.kernel.invokeFunction('convertToInteractive',\n",
              "                                                     [key], {});\n",
              "          if (!dataTable) return;\n",
              "\n",
              "          const docLinkHtml = 'Like what you see? Visit the ' +\n",
              "            '<a target=\"_blank\" href=https://colab.research.google.com/notebooks/data_table.ipynb>data table notebook</a>'\n",
              "            + ' to learn more about interactive tables.';\n",
              "          element.innerHTML = '';\n",
              "          dataTable['output_type'] = 'display_data';\n",
              "          await google.colab.output.renderOutput(dataTable, element);\n",
              "          const docLink = document.createElement('div');\n",
              "          docLink.innerHTML = docLinkHtml;\n",
              "          element.appendChild(docLink);\n",
              "        }\n",
              "      </script>\n",
              "    </div>\n",
              "  </div>\n",
              "  "
            ]
          },
          "metadata": {},
          "execution_count": 152
        }
      ]
    },
    {
      "cell_type": "code",
      "metadata": {
        "colab": {
          "base_uri": "https://localhost:8080/",
          "height": 270
        },
        "id": "pVxYli5iKLuf",
        "outputId": "3c5438c2-ee40-41e0-a1a0-1f34c4c72f19"
      },
      "source": [
        "test.head()"
      ],
      "execution_count": 153,
      "outputs": [
        {
          "output_type": "execute_result",
          "data": {
            "text/plain": [
              "   id  hour  hour_bef_temperature  hour_bef_precipitation  hour_bef_windspeed  \\\n",
              "0   0     7                  20.7                     0.0                 1.3   \n",
              "1   1    17                  30.0                     0.0                 5.4   \n",
              "2   2    13                  19.0                     1.0                 2.1   \n",
              "3   4     6                  22.5                     0.0                 2.5   \n",
              "4   5    22                  14.6                     1.0                 3.4   \n",
              "\n",
              "   hour_bef_humidity  hour_bef_visibility  hour_bef_ozone  hour_bef_pm10  \\\n",
              "0               62.0                954.0           0.041           44.0   \n",
              "1               33.0               1590.0           0.061           49.0   \n",
              "2               95.0                193.0           0.020           36.0   \n",
              "3               60.0               1185.0           0.027           52.0   \n",
              "4               93.0                218.0           0.041           18.0   \n",
              "\n",
              "   hour_bef_pm2.5  \n",
              "0            27.0  \n",
              "1            36.0  \n",
              "2            28.0  \n",
              "3            38.0  \n",
              "4            15.0  "
            ],
            "text/html": [
              "\n",
              "  <div id=\"df-4c195fcf-f9a9-4af0-9711-e45be5ca48d8\">\n",
              "    <div class=\"colab-df-container\">\n",
              "      <div>\n",
              "<style scoped>\n",
              "    .dataframe tbody tr th:only-of-type {\n",
              "        vertical-align: middle;\n",
              "    }\n",
              "\n",
              "    .dataframe tbody tr th {\n",
              "        vertical-align: top;\n",
              "    }\n",
              "\n",
              "    .dataframe thead th {\n",
              "        text-align: right;\n",
              "    }\n",
              "</style>\n",
              "<table border=\"1\" class=\"dataframe\">\n",
              "  <thead>\n",
              "    <tr style=\"text-align: right;\">\n",
              "      <th></th>\n",
              "      <th>id</th>\n",
              "      <th>hour</th>\n",
              "      <th>hour_bef_temperature</th>\n",
              "      <th>hour_bef_precipitation</th>\n",
              "      <th>hour_bef_windspeed</th>\n",
              "      <th>hour_bef_humidity</th>\n",
              "      <th>hour_bef_visibility</th>\n",
              "      <th>hour_bef_ozone</th>\n",
              "      <th>hour_bef_pm10</th>\n",
              "      <th>hour_bef_pm2.5</th>\n",
              "    </tr>\n",
              "  </thead>\n",
              "  <tbody>\n",
              "    <tr>\n",
              "      <th>0</th>\n",
              "      <td>0</td>\n",
              "      <td>7</td>\n",
              "      <td>20.7</td>\n",
              "      <td>0.0</td>\n",
              "      <td>1.3</td>\n",
              "      <td>62.0</td>\n",
              "      <td>954.0</td>\n",
              "      <td>0.041</td>\n",
              "      <td>44.0</td>\n",
              "      <td>27.0</td>\n",
              "    </tr>\n",
              "    <tr>\n",
              "      <th>1</th>\n",
              "      <td>1</td>\n",
              "      <td>17</td>\n",
              "      <td>30.0</td>\n",
              "      <td>0.0</td>\n",
              "      <td>5.4</td>\n",
              "      <td>33.0</td>\n",
              "      <td>1590.0</td>\n",
              "      <td>0.061</td>\n",
              "      <td>49.0</td>\n",
              "      <td>36.0</td>\n",
              "    </tr>\n",
              "    <tr>\n",
              "      <th>2</th>\n",
              "      <td>2</td>\n",
              "      <td>13</td>\n",
              "      <td>19.0</td>\n",
              "      <td>1.0</td>\n",
              "      <td>2.1</td>\n",
              "      <td>95.0</td>\n",
              "      <td>193.0</td>\n",
              "      <td>0.020</td>\n",
              "      <td>36.0</td>\n",
              "      <td>28.0</td>\n",
              "    </tr>\n",
              "    <tr>\n",
              "      <th>3</th>\n",
              "      <td>4</td>\n",
              "      <td>6</td>\n",
              "      <td>22.5</td>\n",
              "      <td>0.0</td>\n",
              "      <td>2.5</td>\n",
              "      <td>60.0</td>\n",
              "      <td>1185.0</td>\n",
              "      <td>0.027</td>\n",
              "      <td>52.0</td>\n",
              "      <td>38.0</td>\n",
              "    </tr>\n",
              "    <tr>\n",
              "      <th>4</th>\n",
              "      <td>5</td>\n",
              "      <td>22</td>\n",
              "      <td>14.6</td>\n",
              "      <td>1.0</td>\n",
              "      <td>3.4</td>\n",
              "      <td>93.0</td>\n",
              "      <td>218.0</td>\n",
              "      <td>0.041</td>\n",
              "      <td>18.0</td>\n",
              "      <td>15.0</td>\n",
              "    </tr>\n",
              "  </tbody>\n",
              "</table>\n",
              "</div>\n",
              "      <button class=\"colab-df-convert\" onclick=\"convertToInteractive('df-4c195fcf-f9a9-4af0-9711-e45be5ca48d8')\"\n",
              "              title=\"Convert this dataframe to an interactive table.\"\n",
              "              style=\"display:none;\">\n",
              "        \n",
              "  <svg xmlns=\"http://www.w3.org/2000/svg\" height=\"24px\"viewBox=\"0 0 24 24\"\n",
              "       width=\"24px\">\n",
              "    <path d=\"M0 0h24v24H0V0z\" fill=\"none\"/>\n",
              "    <path d=\"M18.56 5.44l.94 2.06.94-2.06 2.06-.94-2.06-.94-.94-2.06-.94 2.06-2.06.94zm-11 1L8.5 8.5l.94-2.06 2.06-.94-2.06-.94L8.5 2.5l-.94 2.06-2.06.94zm10 10l.94 2.06.94-2.06 2.06-.94-2.06-.94-.94-2.06-.94 2.06-2.06.94z\"/><path d=\"M17.41 7.96l-1.37-1.37c-.4-.4-.92-.59-1.43-.59-.52 0-1.04.2-1.43.59L10.3 9.45l-7.72 7.72c-.78.78-.78 2.05 0 2.83L4 21.41c.39.39.9.59 1.41.59.51 0 1.02-.2 1.41-.59l7.78-7.78 2.81-2.81c.8-.78.8-2.07 0-2.86zM5.41 20L4 18.59l7.72-7.72 1.47 1.35L5.41 20z\"/>\n",
              "  </svg>\n",
              "      </button>\n",
              "      \n",
              "  <style>\n",
              "    .colab-df-container {\n",
              "      display:flex;\n",
              "      flex-wrap:wrap;\n",
              "      gap: 12px;\n",
              "    }\n",
              "\n",
              "    .colab-df-convert {\n",
              "      background-color: #E8F0FE;\n",
              "      border: none;\n",
              "      border-radius: 50%;\n",
              "      cursor: pointer;\n",
              "      display: none;\n",
              "      fill: #1967D2;\n",
              "      height: 32px;\n",
              "      padding: 0 0 0 0;\n",
              "      width: 32px;\n",
              "    }\n",
              "\n",
              "    .colab-df-convert:hover {\n",
              "      background-color: #E2EBFA;\n",
              "      box-shadow: 0px 1px 2px rgba(60, 64, 67, 0.3), 0px 1px 3px 1px rgba(60, 64, 67, 0.15);\n",
              "      fill: #174EA6;\n",
              "    }\n",
              "\n",
              "    [theme=dark] .colab-df-convert {\n",
              "      background-color: #3B4455;\n",
              "      fill: #D2E3FC;\n",
              "    }\n",
              "\n",
              "    [theme=dark] .colab-df-convert:hover {\n",
              "      background-color: #434B5C;\n",
              "      box-shadow: 0px 1px 3px 1px rgba(0, 0, 0, 0.15);\n",
              "      filter: drop-shadow(0px 1px 2px rgba(0, 0, 0, 0.3));\n",
              "      fill: #FFFFFF;\n",
              "    }\n",
              "  </style>\n",
              "\n",
              "      <script>\n",
              "        const buttonEl =\n",
              "          document.querySelector('#df-4c195fcf-f9a9-4af0-9711-e45be5ca48d8 button.colab-df-convert');\n",
              "        buttonEl.style.display =\n",
              "          google.colab.kernel.accessAllowed ? 'block' : 'none';\n",
              "\n",
              "        async function convertToInteractive(key) {\n",
              "          const element = document.querySelector('#df-4c195fcf-f9a9-4af0-9711-e45be5ca48d8');\n",
              "          const dataTable =\n",
              "            await google.colab.kernel.invokeFunction('convertToInteractive',\n",
              "                                                     [key], {});\n",
              "          if (!dataTable) return;\n",
              "\n",
              "          const docLinkHtml = 'Like what you see? Visit the ' +\n",
              "            '<a target=\"_blank\" href=https://colab.research.google.com/notebooks/data_table.ipynb>data table notebook</a>'\n",
              "            + ' to learn more about interactive tables.';\n",
              "          element.innerHTML = '';\n",
              "          dataTable['output_type'] = 'display_data';\n",
              "          await google.colab.output.renderOutput(dataTable, element);\n",
              "          const docLink = document.createElement('div');\n",
              "          docLink.innerHTML = docLinkHtml;\n",
              "          element.appendChild(docLink);\n",
              "        }\n",
              "      </script>\n",
              "    </div>\n",
              "  </div>\n",
              "  "
            ]
          },
          "metadata": {},
          "execution_count": 153
        }
      ]
    },
    {
      "cell_type": "markdown",
      "metadata": {
        "id": "7T4NNGQbKT52"
      },
      "source": [
        "## 결측치 확인 및 처리"
      ]
    },
    {
      "cell_type": "code",
      "metadata": {
        "colab": {
          "base_uri": "https://localhost:8080/"
        },
        "id": "Pdj-uplvKMsH",
        "outputId": "79ce5d6b-cc54-4958-b7b9-1bc153717b1e"
      },
      "source": [
        "train.isnull().sum()"
      ],
      "execution_count": 154,
      "outputs": [
        {
          "output_type": "execute_result",
          "data": {
            "text/plain": [
              "id                          0\n",
              "hour                        0\n",
              "hour_bef_temperature        2\n",
              "hour_bef_precipitation      2\n",
              "hour_bef_windspeed          9\n",
              "hour_bef_humidity           2\n",
              "hour_bef_visibility         2\n",
              "hour_bef_ozone             76\n",
              "hour_bef_pm10              90\n",
              "hour_bef_pm2.5            117\n",
              "count                       0\n",
              "dtype: int64"
            ]
          },
          "metadata": {},
          "execution_count": 154
        }
      ]
    },
    {
      "cell_type": "code",
      "metadata": {
        "colab": {
          "base_uri": "https://localhost:8080/"
        },
        "id": "J4VedGdkKOFe",
        "outputId": "17e975c4-41a8-473c-9a22-4b5669fae99e"
      },
      "source": [
        "test.isnull().sum()"
      ],
      "execution_count": 155,
      "outputs": [
        {
          "output_type": "execute_result",
          "data": {
            "text/plain": [
              "id                         0\n",
              "hour                       0\n",
              "hour_bef_temperature       1\n",
              "hour_bef_precipitation     1\n",
              "hour_bef_windspeed         1\n",
              "hour_bef_humidity          1\n",
              "hour_bef_visibility        1\n",
              "hour_bef_ozone            35\n",
              "hour_bef_pm10             37\n",
              "hour_bef_pm2.5            36\n",
              "dtype: int64"
            ]
          },
          "metadata": {},
          "execution_count": 155
        }
      ]
    },
    {
      "cell_type": "code",
      "metadata": {
        "id": "M_-tgG09KQRC"
      },
      "source": [
        "# train.fillna(0,inplace = True)\n",
        "# test.fillna(0,inplace = True)\n",
        "# 중위수로 결측치 처리하기\n",
        "train_na = train.fillna(train.median())\n",
        "test_na = test.fillna(test.median())\n",
        "test = test_na.drop(['id'],axis=1)\n",
        "train_x = train_na.drop(['id','count'],axis = 1)\n",
        "train_y = train_na['count']\n",
        "from sklearn.model_selection import train_test_split\n",
        "x_train,x_test,y_train,y_test = train_test_split(train_x,train_y,test_size=0.2,random_state=100)\n",
        "x_train.shape, y_train.shape\n",
        "# 데이터 스케일링\n",
        "from sklearn.preprocessing import StandardScaler\n",
        "ss = StandardScaler()\n",
        "ss.fit(x_train)\n",
        "x_train_scaled = ss.transform(x_train)\n",
        "test_scaled = ss.transform(test)"
      ],
      "execution_count": 156,
      "outputs": []
    },
    {
      "cell_type": "markdown",
      "source": [
        "예측모델의 파이프라인 구축해서 각 모델의 점수를 비교해서 최상의 모델을 선택하고 하이퍼 파라메터적용하기\n",
        "\n",
        "ploy증가하는 함수도 적용해서 선형이 아닌 비선형도 성능 측정하기"
      ],
      "metadata": {
        "id": "XV5HbAPeAQMX"
      }
    },
    {
      "cell_type": "code",
      "source": [
        "from sklearn.neighbors import KNeighborsRegressor\n",
        "from sklearn.linear_model import LinearRegression,Ridge,Lasso, SGDRegressor\n",
        "from sklearn.ensemble import RandomForestRegressor,ExtraTreesRegressor\n",
        "from sklearn.tree import DecisionTreeRegressor\n",
        "from xgboost import XGBRegressor\n",
        "from lightgbm import LGBMRegressor\n",
        "# 교차 검증\n",
        "from sklearn.model_selection import cross_validate\n",
        "# 특성을 추가하여 비 선형으로 만들기\n",
        "from sklearn.preprocessing import PolynomialFeatures\n",
        "\n",
        "# 1. 가능한 모든 모델로 측정한다.\n",
        "temp1  = [\n",
        "    'KNeighborsRegressor','LinearRegression','Ridge','Lasso', 'SGDRegressor','RandomForestRegressor','ExtraTreesRegressor',\n",
        "    'DecisionTreeRegressor','XGBRegressor','LGBMRegressor'\n",
        "]\n",
        "temp2 = [\n",
        "    KNeighborsRegressor(),LinearRegression(),Ridge(),Lasso(), SGDRegressor(),RandomForestRegressor(),ExtraTreesRegressor(),\n",
        "    DecisionTreeRegressor(),XGBRegressor(),LGBMRegressor()\n",
        "]\n",
        "models = tuple( zip(temp1,temp2))\n",
        "models"
      ],
      "metadata": {
        "colab": {
          "base_uri": "https://localhost:8080/"
        },
        "id": "78W4bhriAa1L",
        "outputId": "1b019bae-2335-438c-cdda-829142a94440"
      },
      "execution_count": 157,
      "outputs": [
        {
          "output_type": "execute_result",
          "data": {
            "text/plain": [
              "(('KNeighborsRegressor', KNeighborsRegressor()),\n",
              " ('LinearRegression', LinearRegression()),\n",
              " ('Ridge', Ridge()),\n",
              " ('Lasso', Lasso()),\n",
              " ('SGDRegressor', SGDRegressor()),\n",
              " ('RandomForestRegressor', RandomForestRegressor()),\n",
              " ('ExtraTreesRegressor', ExtraTreesRegressor()),\n",
              " ('DecisionTreeRegressor', DecisionTreeRegressor()),\n",
              " ('XGBRegressor',\n",
              "  XGBRegressor(base_score=None, booster=None, callbacks=None,\n",
              "               colsample_bylevel=None, colsample_bynode=None,\n",
              "               colsample_bytree=None, early_stopping_rounds=None,\n",
              "               enable_categorical=False, eval_metric=None, feature_types=None,\n",
              "               gamma=None, gpu_id=None, grow_policy=None, importance_type=None,\n",
              "               interaction_constraints=None, learning_rate=None, max_bin=None,\n",
              "               max_cat_threshold=None, max_cat_to_onehot=None,\n",
              "               max_delta_step=None, max_depth=None, max_leaves=None,\n",
              "               min_child_weight=None, missing=nan, monotone_constraints=None,\n",
              "               n_estimators=100, n_jobs=None, num_parallel_tree=None,\n",
              "               predictor=None, random_state=None, ...)),\n",
              " ('LGBMRegressor', LGBMRegressor()))"
            ]
          },
          "metadata": {},
          "execution_count": 157
        }
      ]
    },
    {
      "cell_type": "code",
      "source": [
        "import numpy as np\n",
        "for name,model in models:\n",
        "  score  = cross_validate(model,x_train_scaled,y_train)\n",
        "  print(f'{name} : {np.mean(score[\"test_score\"])}')"
      ],
      "metadata": {
        "colab": {
          "base_uri": "https://localhost:8080/"
        },
        "id": "XzAyBvL8Aa4Z",
        "outputId": "8d027ff0-25bf-4249-f6c6-4be64692649d"
      },
      "execution_count": 158,
      "outputs": [
        {
          "output_type": "stream",
          "name": "stdout",
          "text": [
            "KNeighborsRegressor : 0.6693598286091967\n",
            "LinearRegression : 0.5813469866793826\n",
            "Ridge : 0.5813659358733126\n",
            "Lasso : 0.5816589670822431\n",
            "SGDRegressor : 0.5793593163322897\n",
            "RandomForestRegressor : 0.7705387380944657\n",
            "ExtraTreesRegressor : 0.7821067070653562\n",
            "DecisionTreeRegressor : 0.545849408524066\n",
            "XGBRegressor : 0.7609704731011966\n",
            "LGBMRegressor : 0.758873200528528\n"
          ]
        }
      ]
    },
    {
      "cell_type": "code",
      "source": [
        "# 비선형으로 예측하기 2차원\n",
        "import numpy as np\n",
        "pf = PolynomialFeatures(degree=2)\n",
        "x_train_poly = pf.fit_transform(x_train)\n",
        "ss = StandardScaler()\n",
        "x_train_poly_scaled = ss.fit_transform(x_train_poly)\n",
        "for name,model in models:\n",
        "  score  = cross_validate(model,x_train_poly_scaled,y_train)\n",
        "  print(f'{name} : {np.mean(score[\"test_score\"])}')"
      ],
      "metadata": {
        "colab": {
          "base_uri": "https://localhost:8080/"
        },
        "id": "RHfJXwa8CuYB",
        "outputId": "e8128816-4ef6-4e40-8da8-eceb16931602"
      },
      "execution_count": 159,
      "outputs": [
        {
          "output_type": "stream",
          "name": "stdout",
          "text": [
            "KNeighborsRegressor : 0.657944573744866\n",
            "LinearRegression : 0.6274844004727933\n",
            "Ridge : 0.6312565126836854\n",
            "Lasso : 0.6278180750181435\n",
            "SGDRegressor : 0.6248966876563079\n",
            "RandomForestRegressor : 0.7556536716197874\n",
            "ExtraTreesRegressor : 0.790030020526246\n",
            "DecisionTreeRegressor : 0.49696896400871127\n",
            "XGBRegressor : 0.7473853054043834\n",
            "LGBMRegressor : 0.7737105136641451\n"
          ]
        }
      ]
    },
    {
      "cell_type": "code",
      "source": [
        "# 비선형으로 예측하기 3차원\n",
        "import numpy as np\n",
        "pf = PolynomialFeatures(degree=3)\n",
        "x_train_poly = pf.fit_transform(x_train)\n",
        "ss = StandardScaler()\n",
        "x_train_poly_scaled = ss.fit_transform(x_train_poly)\n",
        "for name,model in models:\n",
        "  score  = cross_validate(model,x_train_poly_scaled,y_train)\n",
        "  print(f'{name} : {np.mean(score[\"test_score\"])}')"
      ],
      "metadata": {
        "colab": {
          "base_uri": "https://localhost:8080/"
        },
        "id": "i6sDNHzvHc1w",
        "outputId": "cad6ba3f-9bef-4919-d179-5f2a732715c3"
      },
      "execution_count": 160,
      "outputs": [
        {
          "output_type": "stream",
          "name": "stdout",
          "text": [
            "KNeighborsRegressor : 0.6660609700922837\n",
            "LinearRegression : 0.5712343348279636\n",
            "Ridge : 0.6690737877062002\n",
            "Lasso : 0.6347010361655256\n",
            "SGDRegressor : -3.494926218927749e+17\n",
            "RandomForestRegressor : 0.7472281459552266\n",
            "ExtraTreesRegressor : 0.7827903832878942\n",
            "DecisionTreeRegressor : 0.4869309283506924\n",
            "XGBRegressor : 0.762766466760462\n",
            "LGBMRegressor : 0.7668470772970029\n"
          ]
        }
      ]
    },
    {
      "cell_type": "code",
      "source": [
        "# 결정트리로 중요 피처만 골라서 재 학습\n",
        "dt = DecisionTreeRegressor()\n",
        "dt.fit(x_train,y_train)\n",
        "np.sort(dt.feature_importances_), np.argsort(dt.feature_importances_)\n",
        "feature_dict = dict(zip(x_train.columns, dt.feature_importances_))\n",
        "sorted_items = sorted(feature_dict.items(), key=lambda x : x[1],reverse=True)\n",
        "print(sorted_items)\n",
        "top4cols = [a for a,b in sorted_items[:2]]\n",
        "x_train_top4 = x_train.loc[:,top4cols]\n",
        "# x_train_top4.head()\n",
        "# 스케일링\n",
        "from sklearn.preprocessing import RobustScaler\n",
        "ss = RobustScaler()\n",
        "x_train_top4_scaled = ss.fit_transform(x_train_top4)\n",
        "\n",
        "for name,model in models:\n",
        "  score  = cross_validate(model,x_train_top4_scaled,y_train)\n",
        "  print(f'{name} : {np.mean(score[\"test_score\"])}')"
      ],
      "metadata": {
        "colab": {
          "base_uri": "https://localhost:8080/"
        },
        "id": "quDI3mAMCub6",
        "outputId": "248cf13b-6fb1-4a52-f16b-ed2d8bad6961"
      },
      "execution_count": 161,
      "outputs": [
        {
          "output_type": "stream",
          "name": "stdout",
          "text": [
            "[('hour', 0.5888011640767341), ('hour_bef_temperature', 0.17619546955251073), ('hour_bef_ozone', 0.04696744729670609), ('hour_bef_humidity', 0.04483780532500811), ('hour_bef_windspeed', 0.03372000172370742), ('hour_bef_precipitation', 0.029363984356467185), ('hour_bef_visibility', 0.027154925964527826), ('hour_bef_pm2.5', 0.02710963051338448), ('hour_bef_pm10', 0.025849571190954077)]\n",
            "KNeighborsRegressor : 0.6574307949617426\n",
            "LinearRegression : 0.5412496511646111\n",
            "Ridge : 0.5412582330993121\n",
            "Lasso : 0.5408335273031938\n",
            "SGDRegressor : 0.5410129368745313\n",
            "RandomForestRegressor : 0.6676253604858349\n",
            "ExtraTreesRegressor : 0.6046536741637212\n",
            "DecisionTreeRegressor : 0.5483914386868975\n",
            "XGBRegressor : 0.6364495127595005\n",
            "LGBMRegressor : 0.6997137574661194\n"
          ]
        }
      ]
    },
    {
      "cell_type": "code",
      "source": [
        "# 피처의 개수가 많아야 성능이 높아짐.... \n",
        "from sklearn.decomposition import PCA\n",
        "ss = StandardScaler()\n",
        "pf = PolynomialFeatures(degree=3)\n",
        "pca = PCA(n_components=0.5)\n",
        "x_train_pca = pca.fit_transform(x_train)\n",
        "x_train_pca_scaled = ss.fit_transform(x_train_pca)\n",
        "x_train_pca_scaled_poly = pf.fit_transform(x_train_pca_scaled)\n",
        "\n",
        "for name,model in models:\n",
        "  score  = cross_validate(model,x_train_pca_scaled_poly,y_train)\n",
        "  print(f'{name} : {np.mean(score[\"test_score\"])}')\n",
        "\n"
      ],
      "metadata": {
        "colab": {
          "base_uri": "https://localhost:8080/"
        },
        "id": "hxvbQWYrJr99",
        "outputId": "d910fae7-431d-47ca-8e32-8aa20cb1ba26"
      },
      "execution_count": 162,
      "outputs": [
        {
          "output_type": "stream",
          "name": "stdout",
          "text": [
            "KNeighborsRegressor : -0.061406314322779744\n",
            "LinearRegression : 0.07541234633768286\n",
            "Ridge : 0.0754887937194777\n",
            "Lasso : 0.07518388196740595\n",
            "SGDRegressor : 0.07752500373397982\n",
            "RandomForestRegressor : -0.29293579622580757\n",
            "ExtraTreesRegressor : -0.46682174508913316\n",
            "DecisionTreeRegressor : -0.7523027526579152\n",
            "XGBRegressor : -0.21695443592993535\n",
            "LGBMRegressor : 0.019402807973451463\n"
          ]
        }
      ]
    },
    {
      "cell_type": "code",
      "source": [
        "# 가장 성능이 좋은 케이스\n",
        "# 비선형으로 예측하기 2차원\n",
        "import numpy as np\n",
        "pf = PolynomialFeatures(degree=2)\n",
        "pf.fit(x_train)\n",
        "x_train_poly = pf.transform(x_train)\n",
        "x_test_poly = pf.transform(x_test)\n",
        "test_poly = pf.transform(test)\n",
        "\n",
        "ss = StandardScaler()\n",
        "ss.fit(x_train_poly)\n",
        "x_train_poly_scaled = ss.transform(x_train_poly)\n",
        "x_test_poly_scaled = ss.transform(x_test_poly)\n",
        "test_poly_scaled = ss.transform(test_poly)\n",
        "\n",
        "for name,model in models:\n",
        "  score  = cross_validate(model,x_train_poly_scaled,y_train)\n",
        "  print(f'{name} : {np.mean(score[\"test_score\"])}')"
      ],
      "metadata": {
        "colab": {
          "base_uri": "https://localhost:8080/"
        },
        "id": "CshVBHtLJsCh",
        "outputId": "cec749b1-0195-40b7-c6a8-fd5ba52df08a"
      },
      "execution_count": 163,
      "outputs": [
        {
          "output_type": "stream",
          "name": "stdout",
          "text": [
            "KNeighborsRegressor : 0.657944573744866\n",
            "LinearRegression : 0.6274844004727933\n",
            "Ridge : 0.6312565126836854\n",
            "Lasso : 0.6278180750181435\n",
            "SGDRegressor : 0.6283604696552355\n",
            "RandomForestRegressor : 0.7578683993916349\n",
            "ExtraTreesRegressor : 0.7897057097361422\n",
            "DecisionTreeRegressor : 0.5149845773866404\n",
            "XGBRegressor : 0.7473853054043834\n",
            "LGBMRegressor : 0.7737105136641451\n"
          ]
        }
      ]
    },
    {
      "cell_type": "code",
      "source": [
        "# ExtraTreesRegressor 로 하이퍼 파라메터 수행하기\n",
        "from sklearn.model_selection import RandomizedSearchCV\n",
        "# 튜닝할 하이퍼파라미터 범위 설정\n",
        "param_dist = {\n",
        "    'n_estimators': [50, 100, 150],\n",
        "    'max_depth': [None, 5, 10],\n",
        "    'min_samples_split': [2, 5, 10],\n",
        "    'min_samples_leaf': [1, 2, 4]    \n",
        "}\n",
        "model = ExtraTreesRegressor()\n",
        "random_search = RandomizedSearchCV(model, param_distributions=param_dist, n_iter=10, cv=5, random_state=42)\n",
        "random_search.fit(x_train_poly_scaled, y_train)\n",
        "# 최적의 하이퍼파라미터와 성능 출력\n",
        "print(\"Best Hyperparameters:\", random_search.best_params_)\n",
        "print(\"Best Score:\", random_search.best_score_)"
      ],
      "metadata": {
        "colab": {
          "base_uri": "https://localhost:8080/"
        },
        "id": "ugmJurzNJrKh",
        "outputId": "68d9d985-c4af-41dc-8b01-6cff804af204"
      },
      "execution_count": 164,
      "outputs": [
        {
          "output_type": "stream",
          "name": "stdout",
          "text": [
            "Best Hyperparameters: {'n_estimators': 100, 'min_samples_split': 2, 'min_samples_leaf': 2, 'max_depth': None}\n",
            "Best Score: 0.7884718078423234\n"
          ]
        }
      ]
    },
    {
      "cell_type": "code",
      "source": [
        "best_model = random_search.best_estimator_\n",
        "best_model.score(x_test_poly_scaled,y_test) "
      ],
      "metadata": {
        "colab": {
          "base_uri": "https://localhost:8080/"
        },
        "id": "q0_Qvx3NMVHM",
        "outputId": "72430f16-ab06-4d59-bd17-b143084e7d0b"
      },
      "execution_count": 165,
      "outputs": [
        {
          "output_type": "execute_result",
          "data": {
            "text/plain": [
              "0.8160729707070813"
            ]
          },
          "metadata": {},
          "execution_count": 165
        }
      ]
    },
    {
      "cell_type": "markdown",
      "metadata": {
        "id": "jN5oDFfCL7fc"
      },
      "source": [
        "## 학습 된 모델로 예측 데이터 생성"
      ]
    },
    {
      "cell_type": "code",
      "metadata": {
        "id": "ITPZ9W3fLkPf",
        "colab": {
          "base_uri": "https://localhost:8080/"
        },
        "outputId": "f531aeac-0a16-452b-95e4-1d839f0ee097"
      },
      "source": [
        "pred = best_model.predict(test_poly_scaled)\n",
        "pred"
      ],
      "execution_count": 166,
      "outputs": [
        {
          "output_type": "execute_result",
          "data": {
            "text/plain": [
              "array([102.415     , 244.99      ,  46.985     ,  59.675     ,\n",
              "        50.83166667, 127.52666667, 171.47833333, 275.115     ,\n",
              "        48.23666667, 137.68      , 288.71166667, 259.68      ,\n",
              "       122.215     ,  35.79166667, 158.945     , 169.38166667,\n",
              "        26.33166667, 148.14      , 340.31      , 149.725     ,\n",
              "       209.07833333,  94.95166667,  35.415     , 119.85166667,\n",
              "       135.34      , 114.68833333,  24.04166667, 103.17666667,\n",
              "       102.545     , 176.50166667,  63.99333333,  34.07333333,\n",
              "        66.76166667, 134.525     , 248.5       ,  65.27166667,\n",
              "       135.13666667,  85.91166667, 250.01166667,  93.95666667,\n",
              "        50.76833333, 118.56833333, 165.52166667, 118.365     ,\n",
              "       320.14166667, 215.995     ,  87.58166667,  65.03666667,\n",
              "        21.22833333,  87.275     , 216.1       ,  91.65333333,\n",
              "       140.185     , 106.63      , 190.83166667, 121.77666667,\n",
              "        45.78      , 173.90666667,  26.82666667,  18.25166667,\n",
              "        94.86666667,  89.38333333, 230.55      , 296.90666667,\n",
              "       177.20333333, 307.35      ,  28.81833333, 246.32833333,\n",
              "       153.76      ,  27.85666667, 111.11833333,  35.01333333,\n",
              "       132.8       ,  16.265     , 317.69166667, 246.64333333,\n",
              "        42.00166667, 215.47833333, 237.        ,  22.02      ,\n",
              "       228.89166667, 152.675     ,  84.92666667,  85.65666667,\n",
              "       111.84333333, 286.46333333,  54.25      , 174.84      ,\n",
              "       102.05666667, 237.60833333, 223.23333333, 164.00666667,\n",
              "        64.23833333, 113.55833333,  38.72166667,  81.12666667,\n",
              "       105.58833333,  33.20666667, 201.35      , 154.05666667,\n",
              "        20.48833333, 150.41833333,  31.07      ,  98.46666667,\n",
              "        82.84833333,  57.61166667,  97.85      ,  17.64666667,\n",
              "       178.75666667,  90.58833333, 195.595     , 257.59833333,\n",
              "       171.76666667, 121.16      ,  67.73166667, 142.57666667,\n",
              "       178.845     ,  35.22166667, 195.92166667,  15.86666667,\n",
              "       112.535     , 101.975     , 137.78833333, 126.41166667,\n",
              "        46.55166667, 106.37333333,  50.17333333,  15.94333333,\n",
              "       231.76166667,  55.46333333, 136.265     , 172.74333333,\n",
              "        23.425     , 150.01      , 281.19333333, 132.31666667,\n",
              "        44.94333333, 175.18166667, 223.67333333, 346.63666667,\n",
              "       178.165     ,  29.39833333,  41.81      , 101.14666667,\n",
              "        91.75833333, 115.20333333,  94.33333333, 111.58      ,\n",
              "       168.67166667, 217.865     , 142.72166667, 287.50666667,\n",
              "       249.755     , 231.175     , 147.77833333,   9.53      ,\n",
              "       105.02166667,  24.37833333,  87.61666667, 146.785     ,\n",
              "       179.73333333,  19.61      , 200.53666667, 232.95833333,\n",
              "       126.17666667,  17.395     , 170.92666667, 152.53      ,\n",
              "       285.65666667,  20.76      , 118.185     , 150.59666667,\n",
              "        71.06666667, 133.00666667,  98.59333333,  84.68666667,\n",
              "       175.29666667, 181.34833333, 178.135     , 113.95833333,\n",
              "       216.16333333, 179.67333333, 157.64333333, 238.97333333,\n",
              "       113.98833333, 104.94      , 104.755     , 282.53333333,\n",
              "       175.665     ,  45.505     ,  38.22      , 153.11      ,\n",
              "       106.25666667, 128.96666667, 139.83166667, 286.96333333,\n",
              "       276.29166667, 163.13      , 127.415     , 112.03666667,\n",
              "        28.95666667, 200.37333333,  23.34833333, 273.52166667,\n",
              "       140.385     ,  55.08333333, 119.30666667, 203.795     ,\n",
              "       223.01      ,  61.155     , 276.99166667, 149.11166667,\n",
              "       131.84166667, 199.03166667, 257.01333333, 124.37333333,\n",
              "       220.735     , 114.65833333, 126.08      ,  86.17666667,\n",
              "        98.83      ,  29.17      , 105.81666667,  58.38666667,\n",
              "       147.63666667,  36.13666667, 197.78      , 180.76833333,\n",
              "        42.03333333, 185.51666667, 213.04166667, 121.31166667,\n",
              "        30.46333333,  89.99666667, 190.575     ,  98.71666667,\n",
              "       352.585     , 323.47166667, 146.865     , 166.66166667,\n",
              "        17.735     , 214.40333333,  26.00666667, 135.26666667,\n",
              "       134.30333333,  99.365     , 157.21666667, 227.48833333,\n",
              "        97.55166667,  18.62      ,  85.06833333, 257.53833333,\n",
              "       209.825     , 172.06166667, 141.81833333, 195.145     ,\n",
              "        29.99666667, 317.1       ,  82.44166667,  17.56166667,\n",
              "       177.88166667,  28.67166667, 236.21333333,  26.07833333,\n",
              "       163.29333333, 238.32666667,  29.78333333, 224.22      ,\n",
              "        83.48666667, 196.26      , 155.58      ,  94.84      ,\n",
              "        48.66666667, 320.00833333,  24.78666667, 267.835     ,\n",
              "        83.54      , 121.97166667, 190.79833333,  32.55166667,\n",
              "       285.15333333, 100.075     ,  16.41666667, 188.16166667,\n",
              "       193.63166667, 115.075     , 252.48333333, 145.69166667,\n",
              "        66.85666667, 101.18833333, 129.17      , 259.175     ,\n",
              "       177.45      , 137.37833333, 134.45      ,  52.89666667,\n",
              "       164.205     ,  43.07      , 202.85      ,  16.21666667,\n",
              "       116.74833333, 191.26166667, 175.225     , 218.54      ,\n",
              "       333.23333333, 206.58166667, 137.97166667,  59.465     ,\n",
              "       167.61166667,  83.90166667, 266.89      , 251.39833333,\n",
              "       239.81      ,  61.385     , 256.975     , 209.02666667,\n",
              "       144.05666667,  38.02      ,  29.18666667,  23.035     ,\n",
              "       185.16833333,  31.13833333, 136.50833333, 126.09166667,\n",
              "        97.39      , 354.29333333, 227.26666667, 104.08833333,\n",
              "        92.06      ,  84.795     ,  25.23      , 100.28666667,\n",
              "        73.69666667, 190.735     , 148.64166667,  44.42333333,\n",
              "       248.25666667, 177.61666667, 172.66      , 347.18833333,\n",
              "        22.945     ,  30.42      , 276.05166667, 189.41333333,\n",
              "       123.44166667,  28.29333333,  44.41666667,  98.98      ,\n",
              "       128.26166667, 262.03833333, 200.92333333, 240.95666667,\n",
              "        65.74      ,  49.62333333, 234.73166667,  61.585     ,\n",
              "        20.97666667,  39.22666667,  99.675     , 126.1       ,\n",
              "        63.745     , 210.77333333, 208.44833333, 173.33333333,\n",
              "       163.93833333,  28.25833333,  78.78666667, 113.375     ,\n",
              "        18.23833333, 188.50333333, 105.91166667,  84.87166667,\n",
              "       233.39166667, 251.55666667, 203.74333333,  15.04      ,\n",
              "        36.255     , 180.54166667, 103.59      ,  59.37      ,\n",
              "        91.02666667, 111.735     , 319.70166667, 309.37166667,\n",
              "       133.91      , 101.33833333, 143.875     , 169.725     ,\n",
              "       107.76333333, 224.71333333,  39.745     , 151.49333333,\n",
              "       236.28      ,  53.96      , 109.24666667, 107.6       ,\n",
              "       255.56333333,  29.86833333,  28.445     , 223.71      ,\n",
              "        21.31333333,  79.53333333,  16.955     , 240.925     ,\n",
              "        97.43666667, 112.97      , 121.39166667, 156.69      ,\n",
              "       114.04166667, 110.75      , 169.71      , 277.74333333,\n",
              "       140.615     , 115.02333333,  46.04833333, 122.00166667,\n",
              "       206.285     , 115.38      ,  54.02      ,  59.91333333,\n",
              "        30.93833333,  28.21      ,  17.        ,  34.3       ,\n",
              "       166.56333333, 111.505     , 105.54666667, 180.49333333,\n",
              "       116.05666667, 313.96166667, 142.44166667, 195.995     ,\n",
              "       203.63166667, 109.135     ,  96.06666667, 155.43833333,\n",
              "       327.88166667,  52.49166667, 112.10333333, 337.96333333,\n",
              "       261.505     , 147.885     ,  38.05166667, 103.58833333,\n",
              "       108.21333333, 122.03166667, 105.895     ,  26.36333333,\n",
              "       309.355     , 298.12      , 214.54833333, 133.55833333,\n",
              "       157.36166667, 253.94666667, 154.29833333, 147.50333333,\n",
              "       263.805     ,  72.44      ,  56.81833333, 120.115     ,\n",
              "       136.35833333, 136.56833333,  99.97833333, 116.10833333,\n",
              "        87.21333333, 186.85833333, 222.03333333,  91.98      ,\n",
              "       177.93666667, 232.45833333, 248.91333333,  53.00666667,\n",
              "       298.37333333,  89.42166667, 176.82      , 170.23833333,\n",
              "        19.685     ,  37.62166667, 215.68833333, 291.09      ,\n",
              "       102.44333333, 109.61      ,  27.36833333,  18.33666667,\n",
              "       243.745     , 150.49666667, 308.12833333, 198.355     ,\n",
              "        91.255     , 110.31333333, 206.77333333, 156.73666667,\n",
              "        64.03333333,  68.155     ,  41.06      , 169.34833333,\n",
              "       116.04      , 228.12166667, 293.02      , 237.285     ,\n",
              "        12.72166667, 225.79166667,  56.17666667, 110.01      ,\n",
              "        61.27833333, 213.85666667, 248.77833333,  27.75333333,\n",
              "       153.87333333,  92.70333333, 124.70333333, 146.85666667,\n",
              "       207.61833333, 159.72666667, 336.51333333,  72.02666667,\n",
              "        39.04833333, 250.28333333, 157.48      , 134.48      ,\n",
              "        27.915     , 229.055     ,  16.37333333,  49.43      ,\n",
              "        25.95      ,  42.68      ,  32.08333333, 150.36      ,\n",
              "       198.09      , 151.17      ,  55.815     ,  91.49833333,\n",
              "        30.22166667, 278.4       ,  99.28833333,  72.48333333,\n",
              "       102.83333333,  20.56666667,  43.58833333,  32.575     ,\n",
              "       279.77833333,  16.47166667, 181.62833333, 247.21      ,\n",
              "       290.035     , 212.82      , 111.51666667, 109.09      ,\n",
              "       105.535     , 115.88      , 195.98      ,  31.32666667,\n",
              "        18.66666667, 137.185     ,  16.00833333, 164.85833333,\n",
              "       146.37      ,  66.99666667, 164.74      , 216.25666667,\n",
              "       210.23166667, 324.43333333,  27.48666667, 103.48666667,\n",
              "        40.81166667,  61.14666667,  97.49833333, 109.73166667,\n",
              "        25.885     , 210.64833333,  83.26333333, 251.075     ,\n",
              "       132.65666667, 287.95166667, 174.915     , 257.10833333,\n",
              "       143.015     , 239.15      ,  66.53833333,  46.03      ,\n",
              "        37.58666667,  29.92166667,  78.49666667,  25.23166667,\n",
              "        20.02      , 105.54666667,  20.44333333, 233.30166667,\n",
              "       231.07333333, 136.85      ,  90.13666667,  96.71      ,\n",
              "        33.015     , 135.89833333,  91.40666667, 109.02      ,\n",
              "       207.465     ,  17.125     , 234.64      , 121.27833333,\n",
              "        16.30166667, 268.78333333, 106.885     ,  34.42666667,\n",
              "        88.01      , 275.19833333, 104.09      , 346.37333333,\n",
              "       278.97833333, 196.06666667, 199.32666667, 224.67166667,\n",
              "        23.85833333, 101.32333333, 128.99      ,  25.38166667,\n",
              "        45.20333333, 111.68833333, 197.07      , 167.16833333,\n",
              "        54.43333333, 174.62833333,  97.15166667, 259.34166667,\n",
              "       112.80666667, 321.085     ,  66.65166667,  34.73333333,\n",
              "        17.68166667, 237.02333333, 218.86833333,  87.35333333,\n",
              "       106.14666667,  27.83166667, 102.32833333, 154.26333333,\n",
              "       163.43      , 118.32666667, 108.97      ,  58.72      ,\n",
              "       117.58333333, 103.535     ,  68.415     , 107.08833333,\n",
              "       314.55      , 118.695     , 220.825     , 159.61833333,\n",
              "       238.055     , 167.84166667,  94.49      , 119.18166667,\n",
              "        95.835     , 206.71666667, 263.15      , 216.98      ,\n",
              "       105.44833333, 111.565     , 128.33666667,  14.40333333,\n",
              "       129.095     , 205.31166667,  30.90666667,  87.63      ,\n",
              "       112.95833333, 110.05666667, 182.61333333, 115.41833333,\n",
              "       265.08333333,  83.76      , 103.22166667, 128.39833333,\n",
              "       286.41666667,  91.13333333, 164.48333333, 149.73833333,\n",
              "        46.41      , 162.895     ,  22.25666667,  40.99833333,\n",
              "        21.06666667, 213.48333333,  99.265     , 172.78166667,\n",
              "       233.34333333, 144.10833333, 123.08333333,  29.01333333,\n",
              "       190.97833333,  21.37666667, 145.32666667,  32.26666667,\n",
              "        68.75666667,  92.44833333,  52.28166667, 200.24833333,\n",
              "        27.165     , 107.44666667, 178.14833333,  38.80333333,\n",
              "       248.19166667, 270.81333333,  12.635     , 366.91666667,\n",
              "       115.88666667, 257.76666667,  31.87      ,  82.39666667,\n",
              "        34.75333333, 260.71      ,  62.70666667,  72.36166667,\n",
              "       113.71166667, 147.3       , 185.85666667])"
            ]
          },
          "metadata": {},
          "execution_count": 166
        }
      ]
    },
    {
      "cell_type": "markdown",
      "metadata": {
        "id": "8cmQhhzjL-MD"
      },
      "source": [
        "## 제출파일 생성"
      ]
    },
    {
      "cell_type": "code",
      "metadata": {
        "id": "HC_74SxhLozW"
      },
      "source": [
        "submission = pd.read_csv('submission.csv')"
      ],
      "execution_count": 174,
      "outputs": []
    },
    {
      "cell_type": "code",
      "metadata": {
        "id": "erbo9F9dLuzX"
      },
      "source": [
        "submission['count'] = pred"
      ],
      "execution_count": 175,
      "outputs": []
    },
    {
      "cell_type": "code",
      "metadata": {
        "colab": {
          "base_uri": "https://localhost:8080/",
          "height": 206
        },
        "id": "Fz5ZjLPgMZ9Z",
        "outputId": "38a9ff9c-9196-4412-b383-838901193efd"
      },
      "source": [
        "submission.head()"
      ],
      "execution_count": 177,
      "outputs": [
        {
          "output_type": "execute_result",
          "data": {
            "text/plain": [
              "   id       count\n",
              "0   0  102.415000\n",
              "1   1  244.990000\n",
              "2   2   46.985000\n",
              "3   4   59.675000\n",
              "4   5   50.831667"
            ],
            "text/html": [
              "\n",
              "  <div id=\"df-8ad962d3-069c-459f-a538-51d6221fc9c1\">\n",
              "    <div class=\"colab-df-container\">\n",
              "      <div>\n",
              "<style scoped>\n",
              "    .dataframe tbody tr th:only-of-type {\n",
              "        vertical-align: middle;\n",
              "    }\n",
              "\n",
              "    .dataframe tbody tr th {\n",
              "        vertical-align: top;\n",
              "    }\n",
              "\n",
              "    .dataframe thead th {\n",
              "        text-align: right;\n",
              "    }\n",
              "</style>\n",
              "<table border=\"1\" class=\"dataframe\">\n",
              "  <thead>\n",
              "    <tr style=\"text-align: right;\">\n",
              "      <th></th>\n",
              "      <th>id</th>\n",
              "      <th>count</th>\n",
              "    </tr>\n",
              "  </thead>\n",
              "  <tbody>\n",
              "    <tr>\n",
              "      <th>0</th>\n",
              "      <td>0</td>\n",
              "      <td>102.415000</td>\n",
              "    </tr>\n",
              "    <tr>\n",
              "      <th>1</th>\n",
              "      <td>1</td>\n",
              "      <td>244.990000</td>\n",
              "    </tr>\n",
              "    <tr>\n",
              "      <th>2</th>\n",
              "      <td>2</td>\n",
              "      <td>46.985000</td>\n",
              "    </tr>\n",
              "    <tr>\n",
              "      <th>3</th>\n",
              "      <td>4</td>\n",
              "      <td>59.675000</td>\n",
              "    </tr>\n",
              "    <tr>\n",
              "      <th>4</th>\n",
              "      <td>5</td>\n",
              "      <td>50.831667</td>\n",
              "    </tr>\n",
              "  </tbody>\n",
              "</table>\n",
              "</div>\n",
              "      <button class=\"colab-df-convert\" onclick=\"convertToInteractive('df-8ad962d3-069c-459f-a538-51d6221fc9c1')\"\n",
              "              title=\"Convert this dataframe to an interactive table.\"\n",
              "              style=\"display:none;\">\n",
              "        \n",
              "  <svg xmlns=\"http://www.w3.org/2000/svg\" height=\"24px\"viewBox=\"0 0 24 24\"\n",
              "       width=\"24px\">\n",
              "    <path d=\"M0 0h24v24H0V0z\" fill=\"none\"/>\n",
              "    <path d=\"M18.56 5.44l.94 2.06.94-2.06 2.06-.94-2.06-.94-.94-2.06-.94 2.06-2.06.94zm-11 1L8.5 8.5l.94-2.06 2.06-.94-2.06-.94L8.5 2.5l-.94 2.06-2.06.94zm10 10l.94 2.06.94-2.06 2.06-.94-2.06-.94-.94-2.06-.94 2.06-2.06.94z\"/><path d=\"M17.41 7.96l-1.37-1.37c-.4-.4-.92-.59-1.43-.59-.52 0-1.04.2-1.43.59L10.3 9.45l-7.72 7.72c-.78.78-.78 2.05 0 2.83L4 21.41c.39.39.9.59 1.41.59.51 0 1.02-.2 1.41-.59l7.78-7.78 2.81-2.81c.8-.78.8-2.07 0-2.86zM5.41 20L4 18.59l7.72-7.72 1.47 1.35L5.41 20z\"/>\n",
              "  </svg>\n",
              "      </button>\n",
              "      \n",
              "  <style>\n",
              "    .colab-df-container {\n",
              "      display:flex;\n",
              "      flex-wrap:wrap;\n",
              "      gap: 12px;\n",
              "    }\n",
              "\n",
              "    .colab-df-convert {\n",
              "      background-color: #E8F0FE;\n",
              "      border: none;\n",
              "      border-radius: 50%;\n",
              "      cursor: pointer;\n",
              "      display: none;\n",
              "      fill: #1967D2;\n",
              "      height: 32px;\n",
              "      padding: 0 0 0 0;\n",
              "      width: 32px;\n",
              "    }\n",
              "\n",
              "    .colab-df-convert:hover {\n",
              "      background-color: #E2EBFA;\n",
              "      box-shadow: 0px 1px 2px rgba(60, 64, 67, 0.3), 0px 1px 3px 1px rgba(60, 64, 67, 0.15);\n",
              "      fill: #174EA6;\n",
              "    }\n",
              "\n",
              "    [theme=dark] .colab-df-convert {\n",
              "      background-color: #3B4455;\n",
              "      fill: #D2E3FC;\n",
              "    }\n",
              "\n",
              "    [theme=dark] .colab-df-convert:hover {\n",
              "      background-color: #434B5C;\n",
              "      box-shadow: 0px 1px 3px 1px rgba(0, 0, 0, 0.15);\n",
              "      filter: drop-shadow(0px 1px 2px rgba(0, 0, 0, 0.3));\n",
              "      fill: #FFFFFF;\n",
              "    }\n",
              "  </style>\n",
              "\n",
              "      <script>\n",
              "        const buttonEl =\n",
              "          document.querySelector('#df-8ad962d3-069c-459f-a538-51d6221fc9c1 button.colab-df-convert');\n",
              "        buttonEl.style.display =\n",
              "          google.colab.kernel.accessAllowed ? 'block' : 'none';\n",
              "\n",
              "        async function convertToInteractive(key) {\n",
              "          const element = document.querySelector('#df-8ad962d3-069c-459f-a538-51d6221fc9c1');\n",
              "          const dataTable =\n",
              "            await google.colab.kernel.invokeFunction('convertToInteractive',\n",
              "                                                     [key], {});\n",
              "          if (!dataTable) return;\n",
              "\n",
              "          const docLinkHtml = 'Like what you see? Visit the ' +\n",
              "            '<a target=\"_blank\" href=https://colab.research.google.com/notebooks/data_table.ipynb>data table notebook</a>'\n",
              "            + ' to learn more about interactive tables.';\n",
              "          element.innerHTML = '';\n",
              "          dataTable['output_type'] = 'display_data';\n",
              "          await google.colab.output.renderOutput(dataTable, element);\n",
              "          const docLink = document.createElement('div');\n",
              "          docLink.innerHTML = docLinkHtml;\n",
              "          element.appendChild(docLink);\n",
              "        }\n",
              "      </script>\n",
              "    </div>\n",
              "  </div>\n",
              "  "
            ]
          },
          "metadata": {},
          "execution_count": 177
        }
      ]
    },
    {
      "cell_type": "code",
      "metadata": {
        "id": "Ggp9jIZ7Lyf6"
      },
      "source": [
        "submission.to_csv('베이스라인.csv',index = False)"
      ],
      "execution_count": 178,
      "outputs": []
    },
    {
      "cell_type": "code",
      "source": [],
      "metadata": {
        "id": "ogLkl1GNVB3f"
      },
      "execution_count": null,
      "outputs": []
    }
  ]
}