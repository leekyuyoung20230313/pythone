{
  "nbformat": 4,
  "nbformat_minor": 0,
  "metadata": {
    "colab": {
      "provenance": []
    },
    "kernelspec": {
      "name": "python3",
      "display_name": "Python 3"
    },
    "language_info": {
      "name": "python"
    }
  },
  "cells": [
    {
      "cell_type": "markdown",
      "source": [
        "#### Installing AutoGluon"
      ],
      "metadata": {
        "id": "RKOjWzlHws1S"
      }
    },
    {
      "cell_type": "code",
      "execution_count": null,
      "metadata": {
        "id": "o3tPNzrAwKpS"
      },
      "outputs": [],
      "source": [
        "!pip install autogluon"
      ]
    },
    {
      "cell_type": "markdown",
      "source": [
        "##### unzip"
      ],
      "metadata": {
        "id": "0YusFYF3yh45"
      }
    },
    {
      "cell_type": "code",
      "source": [
        "!unzip /content/drive/MyDrive/전력사용량/open.zip"
      ],
      "metadata": {
        "colab": {
          "base_uri": "https://localhost:8080/"
        },
        "id": "Mk4fJuOdykEI",
        "outputId": "162873b6-8e7b-423d-951c-635baff37a20"
      },
      "execution_count": 3,
      "outputs": [
        {
          "output_type": "stream",
          "name": "stdout",
          "text": [
            "Archive:  /content/drive/MyDrive/전력사용량/open.zip\n",
            "  inflating: building_info.csv       \n",
            "  inflating: sample_submission.csv   \n",
            "  inflating: test.csv                \n",
            "  inflating: train.csv               \n"
          ]
        }
      ]
    },
    {
      "cell_type": "code",
      "source": [
        "import pandas as pd"
      ],
      "metadata": {
        "id": "p_kU_H0uymL8"
      },
      "execution_count": 4,
      "outputs": []
    },
    {
      "cell_type": "code",
      "source": [
        "train_df = pd.read_csv('./train.csv')\n",
        "test_df = pd.read_csv('./test.csv')"
      ],
      "metadata": {
        "id": "xX6fOT5myvfI"
      },
      "execution_count": 5,
      "outputs": []
    },
    {
      "cell_type": "code",
      "source": [
        "#결측값을 0으로 채웁니다\n",
        "train_df = train_df.fillna(0)\n",
        "\n",
        "#시계열 특성을 학습에 반영하기 위해 일시를 월, 일, 시간으로 나눕니다\n",
        "train_df['month'] = train_df['일시'].apply(lambda x : int(x[4:6]))\n",
        "train_df['day'] = train_df['일시'].apply(lambda x : int(x[6:8]))\n",
        "train_df['time'] = train_df['일시'].apply(lambda x : int(x[9:11]))\n",
        "\n",
        "# train_x = train_df.drop(columns=['num_date_time', '일시', '일조(hr)', '일사(MJ/m2)', '전력소비량(kWh)'])\n",
        "train_x = train_df.drop(columns=['num_date_time', '일시', '일조(hr)', '일사(MJ/m2)'])\n",
        "train_y = train_df['전력소비량(kWh)']\n",
        "\n",
        "test_df['month'] = test_df['일시'].apply(lambda x : int(x[4:6]))\n",
        "test_df['day'] = test_df['일시'].apply(lambda x : int(x[6:8]))\n",
        "test_df['time'] = test_df['일시'].apply(lambda x : int(x[9:11]))\n",
        "\n",
        "test_x = test_df.drop(columns=['num_date_time', '일시'])"
      ],
      "metadata": {
        "id": "Kf2ObOD15ary"
      },
      "execution_count": 8,
      "outputs": []
    },
    {
      "cell_type": "code",
      "source": [
        "# '전력소비량(kWh)'"
      ],
      "metadata": {
        "id": "SESgl8Zo5auR"
      },
      "execution_count": null,
      "outputs": []
    },
    {
      "cell_type": "code",
      "source": [
        "train_data = TabularDataset(train_x)\n",
        "test_data = TabularDataset(test_x)\n",
        "\n",
        "save_path = 'AutogluonModels/mae_360000'\n",
        "predictor = TabularPredictor(\n",
        "    label='전력소비량(kWh)',\n",
        "    path=save_path,\n",
        "    eval_metric='mean_absolute_percentage_error'\n",
        "    ).fit(\n",
        "        train_data=train_data,\n",
        "        presets='best_quality',\n",
        "        time_limit=3600*1\n",
        "        )\n",
        "\n",
        "pred = predictor.predict(test_data)"
      ],
      "metadata": {
        "colab": {
          "base_uri": "https://localhost:8080/"
        },
        "id": "ZUbGrphX5awp",
        "outputId": "0da285d3-9155-4cfe-fcdc-40c027814eab"
      },
      "execution_count": 13,
      "outputs": [
        {
          "output_type": "stream",
          "name": "stderr",
          "text": [
            "Warning: path already exists! This predictor may overwrite an existing predictor! path=\"AutogluonModels/mae_360000\"\n",
            "Presets specified: ['best_quality']\n",
            "Stack configuration (auto_stack=True): num_stack_levels=1, num_bag_folds=8, num_bag_sets=20\n",
            "Beginning AutoGluon training ... Time limit = 3600s\n",
            "AutoGluon will save models to \"AutogluonModels/mae_360000/\"\n",
            "AutoGluon Version:  0.8.2\n",
            "Python Version:     3.10.6\n",
            "Operating System:   Linux\n",
            "Platform Machine:   x86_64\n",
            "Platform Version:   #1 SMP Fri Jun 9 10:57:30 UTC 2023\n",
            "Disk Space Avail:   83.23 GB / 115.66 GB (72.0%)\n",
            "Train Data Rows:    204000\n",
            "Train Data Columns: 8\n",
            "Label Column: 전력소비량(kWh)\n",
            "Preprocessing data ...\n",
            "AutoGluon infers your prediction problem is: 'regression' (because dtype of label-column == float and many unique label-values observed).\n",
            "\tLabel info (max, min, mean, stddev): (25488.4, 0.0, 2451.03646, 2440.64886)\n",
            "\tIf 'regression' is not the correct problem_type, please manually specify the problem_type parameter during predictor init (You may specify problem_type as one of: ['binary', 'multiclass', 'regression'])\n",
            "Using Feature Generators to preprocess the data ...\n",
            "Fitting AutoMLPipelineFeatureGenerator...\n",
            "\tAvailable Memory:                    11851.14 MB\n",
            "\tTrain Data (Original)  Memory Usage: 13.06 MB (0.1% of available memory)\n",
            "\tInferring data type of each feature based on column values. Set feature_metadata_in to manually specify special dtypes of the features.\n",
            "\tStage 1 Generators:\n",
            "\t\tFitting AsTypeFeatureGenerator...\n",
            "\tStage 2 Generators:\n",
            "\t\tFitting FillNaFeatureGenerator...\n",
            "\tStage 3 Generators:\n",
            "\t\tFitting IdentityFeatureGenerator...\n",
            "\tStage 4 Generators:\n",
            "\t\tFitting DropUniqueFeatureGenerator...\n",
            "\tStage 5 Generators:\n",
            "\t\tFitting DropDuplicatesFeatureGenerator...\n",
            "\tTypes of features in original data (raw dtype, special dtypes):\n",
            "\t\t('float', []) : 4 | ['기온(C)', '강수량(mm)', '풍속(m/s)', '습도(%)']\n",
            "\t\t('int', [])   : 4 | ['건물번호', 'month', 'day', 'time']\n",
            "\tTypes of features in processed data (raw dtype, special dtypes):\n",
            "\t\t('float', []) : 4 | ['기온(C)', '강수량(mm)', '풍속(m/s)', '습도(%)']\n",
            "\t\t('int', [])   : 4 | ['건물번호', 'month', 'day', 'time']\n",
            "\t0.6s = Fit runtime\n",
            "\t8 features in original data used to generate 8 features in processed data.\n",
            "\tTrain Data (Processed) Memory Usage: 13.06 MB (0.1% of available memory)\n",
            "Data preprocessing and feature engineering runtime = 0.74s ...\n",
            "AutoGluon will gauge predictive performance using evaluation metric: 'mean_absolute_percentage_error'\n",
            "\tThis metric's sign has been flipped to adhere to being higher_is_better. The metric score can be multiplied by -1 to get the metric value.\n",
            "\tTo change this, specify the eval_metric parameter of Predictor()\n",
            "User-specified model hyperparameters to be fit:\n",
            "{\n",
            "\t'NN_TORCH': {},\n",
            "\t'GBM': [{'extra_trees': True, 'ag_args': {'name_suffix': 'XT'}}, {}, 'GBMLarge'],\n",
            "\t'CAT': {},\n",
            "\t'XGB': {},\n",
            "\t'FASTAI': {},\n",
            "\t'RF': [{'criterion': 'gini', 'ag_args': {'name_suffix': 'Gini', 'problem_types': ['binary', 'multiclass']}}, {'criterion': 'entropy', 'ag_args': {'name_suffix': 'Entr', 'problem_types': ['binary', 'multiclass']}}, {'criterion': 'squared_error', 'ag_args': {'name_suffix': 'MSE', 'problem_types': ['regression', 'quantile']}}],\n",
            "\t'XT': [{'criterion': 'gini', 'ag_args': {'name_suffix': 'Gini', 'problem_types': ['binary', 'multiclass']}}, {'criterion': 'entropy', 'ag_args': {'name_suffix': 'Entr', 'problem_types': ['binary', 'multiclass']}}, {'criterion': 'squared_error', 'ag_args': {'name_suffix': 'MSE', 'problem_types': ['regression', 'quantile']}}],\n",
            "\t'KNN': [{'weights': 'uniform', 'ag_args': {'name_suffix': 'Unif'}}, {'weights': 'distance', 'ag_args': {'name_suffix': 'Dist'}}],\n",
            "}\n",
            "AutoGluon will fit 2 stack levels (L1 to L2) ...\n",
            "Fitting 11 L1 models ...\n",
            "Fitting model: KNeighborsUnif_BAG_L1 ... Training model for up to 2398.9s of the 3599.25s of remaining time.\n",
            "\t-26768866392958.445\t = Validation score   (-mean_absolute_percentage_error)\n",
            "\t0.73s\t = Training   runtime\n",
            "\t5.06s\t = Validation runtime\n",
            "Fitting model: KNeighborsDist_BAG_L1 ... Training model for up to 2392.93s of the 3593.27s of remaining time.\n",
            "\t-19771131085794.99\t = Validation score   (-mean_absolute_percentage_error)\n",
            "\t0.72s\t = Training   runtime\n",
            "\t6.52s\t = Validation runtime\n",
            "Fitting model: LightGBMXT_BAG_L1 ... Training model for up to 2385.52s of the 3585.87s of remaining time.\n",
            "\tFitting 8 child models (S1F1 - S1F8) | Fitting with ParallelLocalFoldFittingStrategy\n",
            "\t-46694566446102.3\t = Validation score   (-mean_absolute_percentage_error)\n",
            "\t1973.17s\t = Training   runtime\n",
            "\t1392.41s\t = Validation runtime\n",
            "Fitting model: LightGBM_BAG_L1 ... Training model for up to 285.77s of the 1486.12s of remaining time.\n",
            "\tFitting 8 child models (S1F1 - S1F8) | Fitting with ParallelLocalFoldFittingStrategy\n",
            "\t-45733512436982.734\t = Validation score   (-mean_absolute_percentage_error)\n",
            "\t308.42s\t = Training   runtime\n",
            "\t101.35s\t = Validation runtime\n",
            "Completed 1/20 k-fold bagging repeats ...\n",
            "Fitting model: WeightedEnsemble_L2 ... Training model for up to 360.0s of the 1157.5s of remaining time.\n",
            "\t-19771131085794.99\t = Validation score   (-mean_absolute_percentage_error)\n",
            "\t2.84s\t = Training   runtime\n",
            "\t0.01s\t = Validation runtime\n",
            "Fitting 9 L2 models ...\n",
            "Fitting model: LightGBMXT_BAG_L2 ... Training model for up to 1154.62s of the 1154.57s of remaining time.\n",
            "\tFitting 8 child models (S1F1 - S1F8) | Fitting with ParallelLocalFoldFittingStrategy\n",
            "\t-33786537085578.664\t = Validation score   (-mean_absolute_percentage_error)\n",
            "\t1239.04s\t = Training   runtime\n",
            "\t663.92s\t = Validation runtime\n",
            "Completed 1/20 k-fold bagging repeats ...\n",
            "Fitting model: WeightedEnsemble_L3 ... Training model for up to 360.0s of the -193.88s of remaining time.\n",
            "\t-33786537085578.664\t = Validation score   (-mean_absolute_percentage_error)\n",
            "\t0.01s\t = Training   runtime\n",
            "\t0.01s\t = Validation runtime\n",
            "AutoGluon training complete, total runtime = 3794.01s ... Best model: \"WeightedEnsemble_L2\"\n",
            "TabularPredictor saved. To load, use: predictor = TabularPredictor.load(\"AutogluonModels/mae_360000/\")\n"
          ]
        }
      ]
    },
    {
      "cell_type": "code",
      "source": [
        "pred"
      ],
      "metadata": {
        "colab": {
          "base_uri": "https://localhost:8080/"
        },
        "id": "M6_1-bfw5YPR",
        "outputId": "52e7172e-1d00-4c24-d9f7-8c8a9cf14611"
      },
      "execution_count": 14,
      "outputs": [
        {
          "output_type": "execute_result",
          "data": {
            "text/plain": [
              "0        1689.140503\n",
              "1        1841.205200\n",
              "2        1645.944946\n",
              "3        1197.158325\n",
              "4        1278.095337\n",
              "            ...     \n",
              "16795    1252.642090\n",
              "16796    1306.275513\n",
              "16797    1237.789917\n",
              "16798    1029.661377\n",
              "16799     948.643982\n",
              "Name: 전력소비량(kWh), Length: 16800, dtype: float32"
            ]
          },
          "metadata": {},
          "execution_count": 14
        }
      ]
    },
    {
      "cell_type": "code",
      "source": [
        "submission = pd.read_csv('./sample_submission.csv')\n",
        "submission['answer'] = pred\n",
        "submission.to_csv('./baseline_submission.csv', index=False)"
      ],
      "metadata": {
        "id": "BRqF_L3kJhjw"
      },
      "execution_count": 15,
      "outputs": []
    },
    {
      "cell_type": "code",
      "source": [],
      "metadata": {
        "id": "keuih7XrJx0x"
      },
      "execution_count": null,
      "outputs": []
    }
  ]
}