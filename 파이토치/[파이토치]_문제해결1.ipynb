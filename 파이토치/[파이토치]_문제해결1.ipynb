{
  "nbformat": 4,
  "nbformat_minor": 0,
  "metadata": {
    "colab": {
      "provenance": []
    },
    "kernelspec": {
      "name": "python3",
      "display_name": "Python 3"
    },
    "language_info": {
      "name": "python"
    }
  },
  "cells": [
    {
      "cell_type": "markdown",
      "source": [
        "- 모델 : CNN, 합성곱, 폴링, 평탄호, forward, 배치정규화 ,Relu, LeakyRelu\n",
        "- 훈련 : 교차에트로피 오차, SGD, 학습률, 에폭, Adamax"
      ],
      "metadata": {
        "id": "nSh4H0hsfziW"
      }
    },
    {
      "cell_type": "code",
      "source": [
        "!unzip '/content/drive/MyDrive/Colab Notebooks/aerial-cactus-identification.zip' -d data"
      ],
      "metadata": {
        "colab": {
          "base_uri": "https://localhost:8080/"
        },
        "id": "o20r_xiRgIu9",
        "outputId": "6c790aca-e1a8-477b-d847-afb35166bcb8"
      },
      "execution_count": 2,
      "outputs": [
        {
          "output_type": "stream",
          "name": "stdout",
          "text": [
            "Archive:  /content/drive/MyDrive/Colab Notebooks/aerial-cactus-identification.zip\n",
            "  inflating: data/sample_submission.csv  \n",
            "  inflating: data/test.zip           \n",
            "  inflating: data/train.csv          \n",
            "  inflating: data/train.zip          \n"
          ]
        }
      ]
    },
    {
      "cell_type": "code",
      "source": [
        "import pandas as pd"
      ],
      "metadata": {
        "id": "N9G0ziajimDO"
      },
      "execution_count": 3,
      "outputs": []
    },
    {
      "cell_type": "code",
      "source": [
        "df = pd.read_csv('/content/data/train.csv')\n",
        "df .head()"
      ],
      "metadata": {
        "colab": {
          "base_uri": "https://localhost:8080/",
          "height": 206
        },
        "id": "aqow4t0jjKBE",
        "outputId": "60d3b8cc-304e-4190-e76b-9f00a268f4c7"
      },
      "execution_count": 4,
      "outputs": [
        {
          "output_type": "execute_result",
          "data": {
            "text/plain": [
              "                                     id  has_cactus\n",
              "0  0004be2cfeaba1c0361d39e2b000257b.jpg           1\n",
              "1  000c8a36845c0208e833c79c1bffedd1.jpg           1\n",
              "2  000d1e9a533f62e55c289303b072733d.jpg           1\n",
              "3  0011485b40695e9138e92d0b3fb55128.jpg           1\n",
              "4  0014d7a11e90b62848904c1418fc8cf2.jpg           1"
            ],
            "text/html": [
              "\n",
              "\n",
              "  <div id=\"df-fff82ca6-33ec-466e-a8e8-18614546e7f6\">\n",
              "    <div class=\"colab-df-container\">\n",
              "      <div>\n",
              "<style scoped>\n",
              "    .dataframe tbody tr th:only-of-type {\n",
              "        vertical-align: middle;\n",
              "    }\n",
              "\n",
              "    .dataframe tbody tr th {\n",
              "        vertical-align: top;\n",
              "    }\n",
              "\n",
              "    .dataframe thead th {\n",
              "        text-align: right;\n",
              "    }\n",
              "</style>\n",
              "<table border=\"1\" class=\"dataframe\">\n",
              "  <thead>\n",
              "    <tr style=\"text-align: right;\">\n",
              "      <th></th>\n",
              "      <th>id</th>\n",
              "      <th>has_cactus</th>\n",
              "    </tr>\n",
              "  </thead>\n",
              "  <tbody>\n",
              "    <tr>\n",
              "      <th>0</th>\n",
              "      <td>0004be2cfeaba1c0361d39e2b000257b.jpg</td>\n",
              "      <td>1</td>\n",
              "    </tr>\n",
              "    <tr>\n",
              "      <th>1</th>\n",
              "      <td>000c8a36845c0208e833c79c1bffedd1.jpg</td>\n",
              "      <td>1</td>\n",
              "    </tr>\n",
              "    <tr>\n",
              "      <th>2</th>\n",
              "      <td>000d1e9a533f62e55c289303b072733d.jpg</td>\n",
              "      <td>1</td>\n",
              "    </tr>\n",
              "    <tr>\n",
              "      <th>3</th>\n",
              "      <td>0011485b40695e9138e92d0b3fb55128.jpg</td>\n",
              "      <td>1</td>\n",
              "    </tr>\n",
              "    <tr>\n",
              "      <th>4</th>\n",
              "      <td>0014d7a11e90b62848904c1418fc8cf2.jpg</td>\n",
              "      <td>1</td>\n",
              "    </tr>\n",
              "  </tbody>\n",
              "</table>\n",
              "</div>\n",
              "      <button class=\"colab-df-convert\" onclick=\"convertToInteractive('df-fff82ca6-33ec-466e-a8e8-18614546e7f6')\"\n",
              "              title=\"Convert this dataframe to an interactive table.\"\n",
              "              style=\"display:none;\">\n",
              "\n",
              "  <svg xmlns=\"http://www.w3.org/2000/svg\" height=\"24px\"viewBox=\"0 0 24 24\"\n",
              "       width=\"24px\">\n",
              "    <path d=\"M0 0h24v24H0V0z\" fill=\"none\"/>\n",
              "    <path d=\"M18.56 5.44l.94 2.06.94-2.06 2.06-.94-2.06-.94-.94-2.06-.94 2.06-2.06.94zm-11 1L8.5 8.5l.94-2.06 2.06-.94-2.06-.94L8.5 2.5l-.94 2.06-2.06.94zm10 10l.94 2.06.94-2.06 2.06-.94-2.06-.94-.94-2.06-.94 2.06-2.06.94z\"/><path d=\"M17.41 7.96l-1.37-1.37c-.4-.4-.92-.59-1.43-.59-.52 0-1.04.2-1.43.59L10.3 9.45l-7.72 7.72c-.78.78-.78 2.05 0 2.83L4 21.41c.39.39.9.59 1.41.59.51 0 1.02-.2 1.41-.59l7.78-7.78 2.81-2.81c.8-.78.8-2.07 0-2.86zM5.41 20L4 18.59l7.72-7.72 1.47 1.35L5.41 20z\"/>\n",
              "  </svg>\n",
              "      </button>\n",
              "\n",
              "\n",
              "\n",
              "    <div id=\"df-f31639a5-e7ec-40c4-bcc1-dd22da5ac899\">\n",
              "      <button class=\"colab-df-quickchart\" onclick=\"quickchart('df-f31639a5-e7ec-40c4-bcc1-dd22da5ac899')\"\n",
              "              title=\"Suggest charts.\"\n",
              "              style=\"display:none;\">\n",
              "\n",
              "<svg xmlns=\"http://www.w3.org/2000/svg\" height=\"24px\"viewBox=\"0 0 24 24\"\n",
              "     width=\"24px\">\n",
              "    <g>\n",
              "        <path d=\"M19 3H5c-1.1 0-2 .9-2 2v14c0 1.1.9 2 2 2h14c1.1 0 2-.9 2-2V5c0-1.1-.9-2-2-2zM9 17H7v-7h2v7zm4 0h-2V7h2v10zm4 0h-2v-4h2v4z\"/>\n",
              "    </g>\n",
              "</svg>\n",
              "      </button>\n",
              "    </div>\n",
              "\n",
              "<style>\n",
              "  .colab-df-quickchart {\n",
              "    background-color: #E8F0FE;\n",
              "    border: none;\n",
              "    border-radius: 50%;\n",
              "    cursor: pointer;\n",
              "    display: none;\n",
              "    fill: #1967D2;\n",
              "    height: 32px;\n",
              "    padding: 0 0 0 0;\n",
              "    width: 32px;\n",
              "  }\n",
              "\n",
              "  .colab-df-quickchart:hover {\n",
              "    background-color: #E2EBFA;\n",
              "    box-shadow: 0px 1px 2px rgba(60, 64, 67, 0.3), 0px 1px 3px 1px rgba(60, 64, 67, 0.15);\n",
              "    fill: #174EA6;\n",
              "  }\n",
              "\n",
              "  [theme=dark] .colab-df-quickchart {\n",
              "    background-color: #3B4455;\n",
              "    fill: #D2E3FC;\n",
              "  }\n",
              "\n",
              "  [theme=dark] .colab-df-quickchart:hover {\n",
              "    background-color: #434B5C;\n",
              "    box-shadow: 0px 1px 3px 1px rgba(0, 0, 0, 0.15);\n",
              "    filter: drop-shadow(0px 1px 2px rgba(0, 0, 0, 0.3));\n",
              "    fill: #FFFFFF;\n",
              "  }\n",
              "</style>\n",
              "\n",
              "    <script>\n",
              "      async function quickchart(key) {\n",
              "        const containerElement = document.querySelector('#' + key);\n",
              "        const charts = await google.colab.kernel.invokeFunction(\n",
              "            'suggestCharts', [key], {});\n",
              "      }\n",
              "    </script>\n",
              "\n",
              "      <script>\n",
              "\n",
              "function displayQuickchartButton(domScope) {\n",
              "  let quickchartButtonEl =\n",
              "    domScope.querySelector('#df-f31639a5-e7ec-40c4-bcc1-dd22da5ac899 button.colab-df-quickchart');\n",
              "  quickchartButtonEl.style.display =\n",
              "    google.colab.kernel.accessAllowed ? 'block' : 'none';\n",
              "}\n",
              "\n",
              "        displayQuickchartButton(document);\n",
              "      </script>\n",
              "      <style>\n",
              "    .colab-df-container {\n",
              "      display:flex;\n",
              "      flex-wrap:wrap;\n",
              "      gap: 12px;\n",
              "    }\n",
              "\n",
              "    .colab-df-convert {\n",
              "      background-color: #E8F0FE;\n",
              "      border: none;\n",
              "      border-radius: 50%;\n",
              "      cursor: pointer;\n",
              "      display: none;\n",
              "      fill: #1967D2;\n",
              "      height: 32px;\n",
              "      padding: 0 0 0 0;\n",
              "      width: 32px;\n",
              "    }\n",
              "\n",
              "    .colab-df-convert:hover {\n",
              "      background-color: #E2EBFA;\n",
              "      box-shadow: 0px 1px 2px rgba(60, 64, 67, 0.3), 0px 1px 3px 1px rgba(60, 64, 67, 0.15);\n",
              "      fill: #174EA6;\n",
              "    }\n",
              "\n",
              "    [theme=dark] .colab-df-convert {\n",
              "      background-color: #3B4455;\n",
              "      fill: #D2E3FC;\n",
              "    }\n",
              "\n",
              "    [theme=dark] .colab-df-convert:hover {\n",
              "      background-color: #434B5C;\n",
              "      box-shadow: 0px 1px 3px 1px rgba(0, 0, 0, 0.15);\n",
              "      filter: drop-shadow(0px 1px 2px rgba(0, 0, 0, 0.3));\n",
              "      fill: #FFFFFF;\n",
              "    }\n",
              "  </style>\n",
              "\n",
              "      <script>\n",
              "        const buttonEl =\n",
              "          document.querySelector('#df-fff82ca6-33ec-466e-a8e8-18614546e7f6 button.colab-df-convert');\n",
              "        buttonEl.style.display =\n",
              "          google.colab.kernel.accessAllowed ? 'block' : 'none';\n",
              "\n",
              "        async function convertToInteractive(key) {\n",
              "          const element = document.querySelector('#df-fff82ca6-33ec-466e-a8e8-18614546e7f6');\n",
              "          const dataTable =\n",
              "            await google.colab.kernel.invokeFunction('convertToInteractive',\n",
              "                                                     [key], {});\n",
              "          if (!dataTable) return;\n",
              "\n",
              "          const docLinkHtml = 'Like what you see? Visit the ' +\n",
              "            '<a target=\"_blank\" href=https://colab.research.google.com/notebooks/data_table.ipynb>data table notebook</a>'\n",
              "            + ' to learn more about interactive tables.';\n",
              "          element.innerHTML = '';\n",
              "          dataTable['output_type'] = 'display_data';\n",
              "          await google.colab.output.renderOutput(dataTable, element);\n",
              "          const docLink = document.createElement('div');\n",
              "          docLink.innerHTML = docLinkHtml;\n",
              "          element.appendChild(docLink);\n",
              "        }\n",
              "      </script>\n",
              "    </div>\n",
              "  </div>\n"
            ]
          },
          "metadata": {},
          "execution_count": 4
        }
      ]
    },
    {
      "cell_type": "code",
      "source": [
        "pd.read_csv('/content/data/sample_submission.csv')"
      ],
      "metadata": {
        "colab": {
          "base_uri": "https://localhost:8080/",
          "height": 423
        },
        "id": "tjh9vSzijQs8",
        "outputId": "3e827ee4-c012-4a24-8085-1f4aff466ec3"
      },
      "execution_count": 5,
      "outputs": [
        {
          "output_type": "execute_result",
          "data": {
            "text/plain": [
              "                                        id  has_cactus\n",
              "0     000940378805c44108d287872b2f04ce.jpg         0.5\n",
              "1     0017242f54ececa4512b4d7937d1e21e.jpg         0.5\n",
              "2     001ee6d8564003107853118ab87df407.jpg         0.5\n",
              "3     002e175c3c1e060769475f52182583d0.jpg         0.5\n",
              "4     0036e44a7e8f7218e9bc7bf8137e4943.jpg         0.5\n",
              "...                                    ...         ...\n",
              "3995  ffaafd0c9f2f0e73172848463bc2e523.jpg         0.5\n",
              "3996  ffae37344310a1549162493237d25d3f.jpg         0.5\n",
              "3997  ffbd469c56873d064326204aac546e0d.jpg         0.5\n",
              "3998  ffcb76b7d47f29ece11c751e5f763f52.jpg         0.5\n",
              "3999  fffed17d1a8e0433a934db518d7f532c.jpg         0.5\n",
              "\n",
              "[4000 rows x 2 columns]"
            ],
            "text/html": [
              "\n",
              "\n",
              "  <div id=\"df-fcdaebec-ef4f-4b31-b444-959d97a62031\">\n",
              "    <div class=\"colab-df-container\">\n",
              "      <div>\n",
              "<style scoped>\n",
              "    .dataframe tbody tr th:only-of-type {\n",
              "        vertical-align: middle;\n",
              "    }\n",
              "\n",
              "    .dataframe tbody tr th {\n",
              "        vertical-align: top;\n",
              "    }\n",
              "\n",
              "    .dataframe thead th {\n",
              "        text-align: right;\n",
              "    }\n",
              "</style>\n",
              "<table border=\"1\" class=\"dataframe\">\n",
              "  <thead>\n",
              "    <tr style=\"text-align: right;\">\n",
              "      <th></th>\n",
              "      <th>id</th>\n",
              "      <th>has_cactus</th>\n",
              "    </tr>\n",
              "  </thead>\n",
              "  <tbody>\n",
              "    <tr>\n",
              "      <th>0</th>\n",
              "      <td>000940378805c44108d287872b2f04ce.jpg</td>\n",
              "      <td>0.5</td>\n",
              "    </tr>\n",
              "    <tr>\n",
              "      <th>1</th>\n",
              "      <td>0017242f54ececa4512b4d7937d1e21e.jpg</td>\n",
              "      <td>0.5</td>\n",
              "    </tr>\n",
              "    <tr>\n",
              "      <th>2</th>\n",
              "      <td>001ee6d8564003107853118ab87df407.jpg</td>\n",
              "      <td>0.5</td>\n",
              "    </tr>\n",
              "    <tr>\n",
              "      <th>3</th>\n",
              "      <td>002e175c3c1e060769475f52182583d0.jpg</td>\n",
              "      <td>0.5</td>\n",
              "    </tr>\n",
              "    <tr>\n",
              "      <th>4</th>\n",
              "      <td>0036e44a7e8f7218e9bc7bf8137e4943.jpg</td>\n",
              "      <td>0.5</td>\n",
              "    </tr>\n",
              "    <tr>\n",
              "      <th>...</th>\n",
              "      <td>...</td>\n",
              "      <td>...</td>\n",
              "    </tr>\n",
              "    <tr>\n",
              "      <th>3995</th>\n",
              "      <td>ffaafd0c9f2f0e73172848463bc2e523.jpg</td>\n",
              "      <td>0.5</td>\n",
              "    </tr>\n",
              "    <tr>\n",
              "      <th>3996</th>\n",
              "      <td>ffae37344310a1549162493237d25d3f.jpg</td>\n",
              "      <td>0.5</td>\n",
              "    </tr>\n",
              "    <tr>\n",
              "      <th>3997</th>\n",
              "      <td>ffbd469c56873d064326204aac546e0d.jpg</td>\n",
              "      <td>0.5</td>\n",
              "    </tr>\n",
              "    <tr>\n",
              "      <th>3998</th>\n",
              "      <td>ffcb76b7d47f29ece11c751e5f763f52.jpg</td>\n",
              "      <td>0.5</td>\n",
              "    </tr>\n",
              "    <tr>\n",
              "      <th>3999</th>\n",
              "      <td>fffed17d1a8e0433a934db518d7f532c.jpg</td>\n",
              "      <td>0.5</td>\n",
              "    </tr>\n",
              "  </tbody>\n",
              "</table>\n",
              "<p>4000 rows × 2 columns</p>\n",
              "</div>\n",
              "      <button class=\"colab-df-convert\" onclick=\"convertToInteractive('df-fcdaebec-ef4f-4b31-b444-959d97a62031')\"\n",
              "              title=\"Convert this dataframe to an interactive table.\"\n",
              "              style=\"display:none;\">\n",
              "\n",
              "  <svg xmlns=\"http://www.w3.org/2000/svg\" height=\"24px\"viewBox=\"0 0 24 24\"\n",
              "       width=\"24px\">\n",
              "    <path d=\"M0 0h24v24H0V0z\" fill=\"none\"/>\n",
              "    <path d=\"M18.56 5.44l.94 2.06.94-2.06 2.06-.94-2.06-.94-.94-2.06-.94 2.06-2.06.94zm-11 1L8.5 8.5l.94-2.06 2.06-.94-2.06-.94L8.5 2.5l-.94 2.06-2.06.94zm10 10l.94 2.06.94-2.06 2.06-.94-2.06-.94-.94-2.06-.94 2.06-2.06.94z\"/><path d=\"M17.41 7.96l-1.37-1.37c-.4-.4-.92-.59-1.43-.59-.52 0-1.04.2-1.43.59L10.3 9.45l-7.72 7.72c-.78.78-.78 2.05 0 2.83L4 21.41c.39.39.9.59 1.41.59.51 0 1.02-.2 1.41-.59l7.78-7.78 2.81-2.81c.8-.78.8-2.07 0-2.86zM5.41 20L4 18.59l7.72-7.72 1.47 1.35L5.41 20z\"/>\n",
              "  </svg>\n",
              "      </button>\n",
              "\n",
              "\n",
              "\n",
              "    <div id=\"df-259745c7-ce7c-4333-9828-bce34a71a3db\">\n",
              "      <button class=\"colab-df-quickchart\" onclick=\"quickchart('df-259745c7-ce7c-4333-9828-bce34a71a3db')\"\n",
              "              title=\"Suggest charts.\"\n",
              "              style=\"display:none;\">\n",
              "\n",
              "<svg xmlns=\"http://www.w3.org/2000/svg\" height=\"24px\"viewBox=\"0 0 24 24\"\n",
              "     width=\"24px\">\n",
              "    <g>\n",
              "        <path d=\"M19 3H5c-1.1 0-2 .9-2 2v14c0 1.1.9 2 2 2h14c1.1 0 2-.9 2-2V5c0-1.1-.9-2-2-2zM9 17H7v-7h2v7zm4 0h-2V7h2v10zm4 0h-2v-4h2v4z\"/>\n",
              "    </g>\n",
              "</svg>\n",
              "      </button>\n",
              "    </div>\n",
              "\n",
              "<style>\n",
              "  .colab-df-quickchart {\n",
              "    background-color: #E8F0FE;\n",
              "    border: none;\n",
              "    border-radius: 50%;\n",
              "    cursor: pointer;\n",
              "    display: none;\n",
              "    fill: #1967D2;\n",
              "    height: 32px;\n",
              "    padding: 0 0 0 0;\n",
              "    width: 32px;\n",
              "  }\n",
              "\n",
              "  .colab-df-quickchart:hover {\n",
              "    background-color: #E2EBFA;\n",
              "    box-shadow: 0px 1px 2px rgba(60, 64, 67, 0.3), 0px 1px 3px 1px rgba(60, 64, 67, 0.15);\n",
              "    fill: #174EA6;\n",
              "  }\n",
              "\n",
              "  [theme=dark] .colab-df-quickchart {\n",
              "    background-color: #3B4455;\n",
              "    fill: #D2E3FC;\n",
              "  }\n",
              "\n",
              "  [theme=dark] .colab-df-quickchart:hover {\n",
              "    background-color: #434B5C;\n",
              "    box-shadow: 0px 1px 3px 1px rgba(0, 0, 0, 0.15);\n",
              "    filter: drop-shadow(0px 1px 2px rgba(0, 0, 0, 0.3));\n",
              "    fill: #FFFFFF;\n",
              "  }\n",
              "</style>\n",
              "\n",
              "    <script>\n",
              "      async function quickchart(key) {\n",
              "        const containerElement = document.querySelector('#' + key);\n",
              "        const charts = await google.colab.kernel.invokeFunction(\n",
              "            'suggestCharts', [key], {});\n",
              "      }\n",
              "    </script>\n",
              "\n",
              "      <script>\n",
              "\n",
              "function displayQuickchartButton(domScope) {\n",
              "  let quickchartButtonEl =\n",
              "    domScope.querySelector('#df-259745c7-ce7c-4333-9828-bce34a71a3db button.colab-df-quickchart');\n",
              "  quickchartButtonEl.style.display =\n",
              "    google.colab.kernel.accessAllowed ? 'block' : 'none';\n",
              "}\n",
              "\n",
              "        displayQuickchartButton(document);\n",
              "      </script>\n",
              "      <style>\n",
              "    .colab-df-container {\n",
              "      display:flex;\n",
              "      flex-wrap:wrap;\n",
              "      gap: 12px;\n",
              "    }\n",
              "\n",
              "    .colab-df-convert {\n",
              "      background-color: #E8F0FE;\n",
              "      border: none;\n",
              "      border-radius: 50%;\n",
              "      cursor: pointer;\n",
              "      display: none;\n",
              "      fill: #1967D2;\n",
              "      height: 32px;\n",
              "      padding: 0 0 0 0;\n",
              "      width: 32px;\n",
              "    }\n",
              "\n",
              "    .colab-df-convert:hover {\n",
              "      background-color: #E2EBFA;\n",
              "      box-shadow: 0px 1px 2px rgba(60, 64, 67, 0.3), 0px 1px 3px 1px rgba(60, 64, 67, 0.15);\n",
              "      fill: #174EA6;\n",
              "    }\n",
              "\n",
              "    [theme=dark] .colab-df-convert {\n",
              "      background-color: #3B4455;\n",
              "      fill: #D2E3FC;\n",
              "    }\n",
              "\n",
              "    [theme=dark] .colab-df-convert:hover {\n",
              "      background-color: #434B5C;\n",
              "      box-shadow: 0px 1px 3px 1px rgba(0, 0, 0, 0.15);\n",
              "      filter: drop-shadow(0px 1px 2px rgba(0, 0, 0, 0.3));\n",
              "      fill: #FFFFFF;\n",
              "    }\n",
              "  </style>\n",
              "\n",
              "      <script>\n",
              "        const buttonEl =\n",
              "          document.querySelector('#df-fcdaebec-ef4f-4b31-b444-959d97a62031 button.colab-df-convert');\n",
              "        buttonEl.style.display =\n",
              "          google.colab.kernel.accessAllowed ? 'block' : 'none';\n",
              "\n",
              "        async function convertToInteractive(key) {\n",
              "          const element = document.querySelector('#df-fcdaebec-ef4f-4b31-b444-959d97a62031');\n",
              "          const dataTable =\n",
              "            await google.colab.kernel.invokeFunction('convertToInteractive',\n",
              "                                                     [key], {});\n",
              "          if (!dataTable) return;\n",
              "\n",
              "          const docLinkHtml = 'Like what you see? Visit the ' +\n",
              "            '<a target=\"_blank\" href=https://colab.research.google.com/notebooks/data_table.ipynb>data table notebook</a>'\n",
              "            + ' to learn more about interactive tables.';\n",
              "          element.innerHTML = '';\n",
              "          dataTable['output_type'] = 'display_data';\n",
              "          await google.colab.output.renderOutput(dataTable, element);\n",
              "          const docLink = document.createElement('div');\n",
              "          docLink.innerHTML = docLinkHtml;\n",
              "          element.appendChild(docLink);\n",
              "        }\n",
              "      </script>\n",
              "    </div>\n",
              "  </div>\n"
            ]
          },
          "metadata": {},
          "execution_count": 5
        }
      ]
    },
    {
      "cell_type": "code",
      "source": [
        "import matplotlib.pyplot as plt\n",
        "plt.pie(df['has_cactus'].value_counts(),\n",
        "        labels=['Has cactus', 'Hasn\\' cactus'],\n",
        "        autopct = '%.1f%%')\n",
        "plt.show()"
      ],
      "metadata": {
        "colab": {
          "base_uri": "https://localhost:8080/",
          "height": 406
        },
        "id": "6X3cOb2ejeQt",
        "outputId": "1fa6725b-1092-4be4-e79d-297c85e3a2d6"
      },
      "execution_count": 12,
      "outputs": [
        {
          "output_type": "display_data",
          "data": {
            "text/plain": [
              "<Figure size 640x480 with 1 Axes>"
            ],
            "image/png": "[encoded data removed]"
          },
          "metadata": {}
        }
      ]
    },
    {
      "cell_type": "code",
      "source": [
        "!unzip /content/data/train.zip -d train\n",
        "!unzip /content/data/test.zip -d test"
      ],
      "metadata": {
        "id": "PiT7MXC6j-Ve"
      },
      "execution_count": null,
      "outputs": []
    },
    {
      "cell_type": "code",
      "source": [
        "from glob import glob"
      ],
      "metadata": {
        "id": "faKFQS26kseV"
      },
      "execution_count": 14,
      "outputs": []
    },
    {
      "cell_type": "code",
      "source": [
        "train_path = glob('/content/train/train/*.jpg')\n",
        "test_path = glob('/content/test/test/*.jpg')"
      ],
      "metadata": {
        "id": "85yJP6-5k2ee"
      },
      "execution_count": 22,
      "outputs": []
    },
    {
      "cell_type": "code",
      "source": [
        "len(train_path), len(test_path)"
      ],
      "metadata": {
        "colab": {
          "base_uri": "https://localhost:8080/"
        },
        "id": "66eR1_KJk-e0",
        "outputId": "76e4a8ad-424b-48ae-af46-3dca8a668acf"
      },
      "execution_count": 23,
      "outputs": [
        {
          "output_type": "execute_result",
          "data": {
            "text/plain": [
              "(17500, 4000)"
            ]
          },
          "metadata": {},
          "execution_count": 23
        }
      ]
    },
    {
      "cell_type": "code",
      "source": [
        "train_path[:5]"
      ],
      "metadata": {
        "colab": {
          "base_uri": "https://localhost:8080/"
        },
        "id": "NGBMogfglCmt",
        "outputId": "0a64955e-72d5-48dc-b8e4-c6c4f37acc80"
      },
      "execution_count": 24,
      "outputs": [
        {
          "output_type": "execute_result",
          "data": {
            "text/plain": [
              "['/content/train/train/77bd97e49a1fc7595a0fab5390ab51aa.jpg',\n",
              " '/content/train/train/951cb197c71c5ce971e0a1a9bdd8ae24.jpg',\n",
              " '/content/train/train/d08ee9c8747376a3e8ee65e3a04d1ed6.jpg',\n",
              " '/content/train/train/aa1fe205820a8fb5e10c37856fe80da6.jpg',\n",
              " '/content/train/train/a1ca0314465bcba8a5497220ea495915.jpg']"
            ]
          },
          "metadata": {},
          "execution_count": 24
        }
      ]
    },
    {
      "cell_type": "code",
      "source": [
        "ten_has_cactus_fname = df[df['has_cactus'] == 1]['id'][:10].values\n",
        "ten_has_cactus_fname = \"/content/train/train/\" + ten_has_cactus_fname\n",
        "ten_has_cactus_fname"
      ],
      "metadata": {
        "id": "oIJITQBhlaR9"
      },
      "execution_count": null,
      "outputs": []
    },
    {
      "cell_type": "code",
      "source": [
        "from PIL import Image"
      ],
      "metadata": {
        "id": "DtP0WSJwmdPB"
      },
      "execution_count": 36,
      "outputs": []
    },
    {
      "cell_type": "code",
      "source": [
        "for idx,fname in  enumerate(ten_has_cactus_fname):\n",
        "  plt.subplot(2,5,idx+1)\n",
        "  img = Image.open(fname)\n",
        "  plt.imshow(img)\n",
        "  plt.axis('off')\n",
        "plt.show()"
      ],
      "metadata": {
        "colab": {
          "base_uri": "https://localhost:8080/",
          "height": 324
        },
        "id": "iXsNDfvCl7Xl",
        "outputId": "e017d60c-103d-4e0e-fa32-8c98c369f995"
      },
      "execution_count": 38,
      "outputs": [
        {
          "output_type": "display_data",
          "data": {
            "text/plain": [
              "<Figure size 640x480 with 10 Axes>"
            ],
            "image/png": "[encoded data removed]"
          },
          "metadata": {}
        }
      ]
    },
    {
      "cell_type": "code",
      "source": [
        "import numpy as np\n"
      ],
      "metadata": {
        "id": "IBi78ScdqF0o"
      },
      "execution_count": 43,
      "outputs": []
    },
    {
      "cell_type": "code",
      "source": [
        "img = Image.open(ten_has_cactus_fname[0])\n",
        "np.array(img).shape"
      ],
      "metadata": {
        "colab": {
          "base_uri": "https://localhost:8080/"
        },
        "id": "3IuYXY-SmnG8",
        "outputId": "d52a6952-f48b-4bff-967e-6736b4153825"
      },
      "execution_count": 45,
      "outputs": [
        {
          "output_type": "execute_result",
          "data": {
            "text/plain": [
              "(32, 32, 3)"
            ]
          },
          "metadata": {},
          "execution_count": 45
        }
      ]
    },
    {
      "cell_type": "code",
      "source": [
        "five_cactus_fname = df[df['has_cactus'] == 0]['id'][:5].values\n",
        "five_cactus_fname = \"/content/train/train/\" + five_cactus_fname\n",
        "for idx,fname in  enumerate(five_cactus_fname):\n",
        "  plt.subplot(1,5,idx+1)\n",
        "  img = Image.open(fname)\n",
        "  plt.imshow(img)\n",
        "  plt.axis('off')\n",
        "plt.show()"
      ],
      "metadata": {
        "colab": {
          "base_uri": "https://localhost:8080/",
          "height": 122
        },
        "id": "hik7tdcfp-bk",
        "outputId": "9435cc22-cc2a-4404-fe36-8a32fbe549c9"
      },
      "execution_count": 47,
      "outputs": [
        {
          "output_type": "display_data",
          "data": {
            "text/plain": [
              "<Figure size 640x480 with 5 Axes>"
            ],
            "image/png": "[encoded data removed]"
          },
          "metadata": {}
        }
      ]
    },
    {
      "cell_type": "code",
      "source": [
        "import torch # 파이토치\n",
        "import random\n",
        "import numpy as np\n",
        "import os\n",
        "\n",
        "# 시드값 고정\n",
        "seed = 50\n",
        "os.environ['PYTHONHASHSEED'] = str(seed)\n",
        "random.seed(seed)                # 파이썬 난수 생성기 시드 고정\n",
        "np.random.seed(seed)             # 넘파이 난수 생성기 시드 고정\n",
        "torch.manual_seed(seed)          # 파이토치 난수 생성기 시드 고정 (CPU 사용 시)\n",
        "torch.cuda.manual_seed(seed)     # 파이토치 난수 생성기 시드 고정 (GPU 사용 시)\n",
        "torch.cuda.manual_seed_all(seed) # 파이토치 난수 생성기 시드 고정 (멀티GPU 사용 시)\n",
        "torch.backends.cudnn.deterministic = True # 확정적 연산 사용\n",
        "torch.backends.cudnn.benchmark = False    # 벤치마크 기능 해제\n",
        "torch.backends.cudnn.enabled = False      # cudnn 사용 해제"
      ],
      "metadata": {
        "id": "_-gb4M0wqX7k"
      },
      "execution_count": 48,
      "outputs": []
    },
    {
      "cell_type": "code",
      "source": [
        "device ='cuda' if torch.cuda.is_available() else 'cpu'"
      ],
      "metadata": {
        "id": "I_NwkkYYuqt_"
      },
      "execution_count": 49,
      "outputs": []
    },
    {
      "cell_type": "code",
      "source": [
        "from sklearn.model_selection import train_test_split\n",
        "\n",
        "# 훈련 데이터, 검증 데이터 분리\n",
        "train, valid = train_test_split(df,\n",
        "                                test_size=0.1,\n",
        "                                stratify=df['has_cactus'],\n",
        "                                random_state=50)"
      ],
      "metadata": {
        "id": "irAh__ZPuy_s"
      },
      "execution_count": 50,
      "outputs": []
    },
    {
      "cell_type": "code",
      "source": [
        "train"
      ],
      "metadata": {
        "colab": {
          "base_uri": "https://localhost:8080/",
          "height": 423
        },
        "id": "8nm6dMklu_D2",
        "outputId": "ccae8ec3-1f63-41a1-f1ac-612ea7d9be0b"
      },
      "execution_count": 57,
      "outputs": [
        {
          "output_type": "execute_result",
          "data": {
            "text/plain": [
              "                                         id  has_cactus\n",
              "10630  995e3ba502e55d8e469b0b4623893176.jpg           0\n",
              "8638   7bc5c0e2a681b1f173c70899534dca7a.jpg           1\n",
              "11167  a148ba511648e3975f0cf5e6b8bc5593.jpg           1\n",
              "2398   21650f4673340621f3d508f8dee60059.jpg           0\n",
              "17110  fa4411b08a8efff184ad4e71abbac8a5.jpg           1\n",
              "...                                     ...         ...\n",
              "11006  9f22014ea131cca0b31cf396dd3a5936.jpg           0\n",
              "13085  be05fe5498e5647b517258bc9bbc29a5.jpg           1\n",
              "15963  e8db543e91815bc2906f1853b01f8d84.jpg           1\n",
              "9368   870d086ffb1027403f8a72e21a14fb68.jpg           1\n",
              "423    06291bc555c93e02559c5af73f857345.jpg           1\n",
              "\n",
              "[15750 rows x 2 columns]"
            ],
            "text/html": [
              "\n",
              "\n",
              "  <div id=\"df-5a35d102-0eb8-40cc-a72e-b1134083ba74\">\n",
              "    <div class=\"colab-df-container\">\n",
              "      <div>\n",
              "<style scoped>\n",
              "    .dataframe tbody tr th:only-of-type {\n",
              "        vertical-align: middle;\n",
              "    }\n",
              "\n",
              "    .dataframe tbody tr th {\n",
              "        vertical-align: top;\n",
              "    }\n",
              "\n",
              "    .dataframe thead th {\n",
              "        text-align: right;\n",
              "    }\n",
              "</style>\n",
              "<table border=\"1\" class=\"dataframe\">\n",
              "  <thead>\n",
              "    <tr style=\"text-align: right;\">\n",
              "      <th></th>\n",
              "      <th>id</th>\n",
              "      <th>has_cactus</th>\n",
              "    </tr>\n",
              "  </thead>\n",
              "  <tbody>\n",
              "    <tr>\n",
              "      <th>10630</th>\n",
              "      <td>995e3ba502e55d8e469b0b4623893176.jpg</td>\n",
              "      <td>0</td>\n",
              "    </tr>\n",
              "    <tr>\n",
              "      <th>8638</th>\n",
              "      <td>7bc5c0e2a681b1f173c70899534dca7a.jpg</td>\n",
              "      <td>1</td>\n",
              "    </tr>\n",
              "    <tr>\n",
              "      <th>11167</th>\n",
              "      <td>a148ba511648e3975f0cf5e6b8bc5593.jpg</td>\n",
              "      <td>1</td>\n",
              "    </tr>\n",
              "    <tr>\n",
              "      <th>2398</th>\n",
              "      <td>21650f4673340621f3d508f8dee60059.jpg</td>\n",
              "      <td>0</td>\n",
              "    </tr>\n",
              "    <tr>\n",
              "      <th>17110</th>\n",
              "      <td>fa4411b08a8efff184ad4e71abbac8a5.jpg</td>\n",
              "      <td>1</td>\n",
              "    </tr>\n",
              "    <tr>\n",
              "      <th>...</th>\n",
              "      <td>...</td>\n",
              "      <td>...</td>\n",
              "    </tr>\n",
              "    <tr>\n",
              "      <th>11006</th>\n",
              "      <td>9f22014ea131cca0b31cf396dd3a5936.jpg</td>\n",
              "      <td>0</td>\n",
              "    </tr>\n",
              "    <tr>\n",
              "      <th>13085</th>\n",
              "      <td>be05fe5498e5647b517258bc9bbc29a5.jpg</td>\n",
              "      <td>1</td>\n",
              "    </tr>\n",
              "    <tr>\n",
              "      <th>15963</th>\n",
              "      <td>e8db543e91815bc2906f1853b01f8d84.jpg</td>\n",
              "      <td>1</td>\n",
              "    </tr>\n",
              "    <tr>\n",
              "      <th>9368</th>\n",
              "      <td>870d086ffb1027403f8a72e21a14fb68.jpg</td>\n",
              "      <td>1</td>\n",
              "    </tr>\n",
              "    <tr>\n",
              "      <th>423</th>\n",
              "      <td>06291bc555c93e02559c5af73f857345.jpg</td>\n",
              "      <td>1</td>\n",
              "    </tr>\n",
              "  </tbody>\n",
              "</table>\n",
              "<p>15750 rows × 2 columns</p>\n",
              "</div>\n",
              "      <button class=\"colab-df-convert\" onclick=\"convertToInteractive('df-5a35d102-0eb8-40cc-a72e-b1134083ba74')\"\n",
              "              title=\"Convert this dataframe to an interactive table.\"\n",
              "              style=\"display:none;\">\n",
              "\n",
              "  <svg xmlns=\"http://www.w3.org/2000/svg\" height=\"24px\"viewBox=\"0 0 24 24\"\n",
              "       width=\"24px\">\n",
              "    <path d=\"M0 0h24v24H0V0z\" fill=\"none\"/>\n",
              "    <path d=\"M18.56 5.44l.94 2.06.94-2.06 2.06-.94-2.06-.94-.94-2.06-.94 2.06-2.06.94zm-11 1L8.5 8.5l.94-2.06 2.06-.94-2.06-.94L8.5 2.5l-.94 2.06-2.06.94zm10 10l.94 2.06.94-2.06 2.06-.94-2.06-.94-.94-2.06-.94 2.06-2.06.94z\"/><path d=\"M17.41 7.96l-1.37-1.37c-.4-.4-.92-.59-1.43-.59-.52 0-1.04.2-1.43.59L10.3 9.45l-7.72 7.72c-.78.78-.78 2.05 0 2.83L4 21.41c.39.39.9.59 1.41.59.51 0 1.02-.2 1.41-.59l7.78-7.78 2.81-2.81c.8-.78.8-2.07 0-2.86zM5.41 20L4 18.59l7.72-7.72 1.47 1.35L5.41 20z\"/>\n",
              "  </svg>\n",
              "      </button>\n",
              "\n",
              "\n",
              "\n",
              "    <div id=\"df-b1cb44c3-ae12-42ee-a570-1cbac9b7128d\">\n",
              "      <button class=\"colab-df-quickchart\" onclick=\"quickchart('df-b1cb44c3-ae12-42ee-a570-1cbac9b7128d')\"\n",
              "              title=\"Suggest charts.\"\n",
              "              style=\"display:none;\">\n",
              "\n",
              "<svg xmlns=\"http://www.w3.org/2000/svg\" height=\"24px\"viewBox=\"0 0 24 24\"\n",
              "     width=\"24px\">\n",
              "    <g>\n",
              "        <path d=\"M19 3H5c-1.1 0-2 .9-2 2v14c0 1.1.9 2 2 2h14c1.1 0 2-.9 2-2V5c0-1.1-.9-2-2-2zM9 17H7v-7h2v7zm4 0h-2V7h2v10zm4 0h-2v-4h2v4z\"/>\n",
              "    </g>\n",
              "</svg>\n",
              "      </button>\n",
              "    </div>\n",
              "\n",
              "<style>\n",
              "  .colab-df-quickchart {\n",
              "    background-color: #E8F0FE;\n",
              "    border: none;\n",
              "    border-radius: 50%;\n",
              "    cursor: pointer;\n",
              "    display: none;\n",
              "    fill: #1967D2;\n",
              "    height: 32px;\n",
              "    padding: 0 0 0 0;\n",
              "    width: 32px;\n",
              "  }\n",
              "\n",
              "  .colab-df-quickchart:hover {\n",
              "    background-color: #E2EBFA;\n",
              "    box-shadow: 0px 1px 2px rgba(60, 64, 67, 0.3), 0px 1px 3px 1px rgba(60, 64, 67, 0.15);\n",
              "    fill: #174EA6;\n",
              "  }\n",
              "\n",
              "  [theme=dark] .colab-df-quickchart {\n",
              "    background-color: #3B4455;\n",
              "    fill: #D2E3FC;\n",
              "  }\n",
              "\n",
              "  [theme=dark] .colab-df-quickchart:hover {\n",
              "    background-color: #434B5C;\n",
              "    box-shadow: 0px 1px 3px 1px rgba(0, 0, 0, 0.15);\n",
              "    filter: drop-shadow(0px 1px 2px rgba(0, 0, 0, 0.3));\n",
              "    fill: #FFFFFF;\n",
              "  }\n",
              "</style>\n",
              "\n",
              "    <script>\n",
              "      async function quickchart(key) {\n",
              "        const containerElement = document.querySelector('#' + key);\n",
              "        const charts = await google.colab.kernel.invokeFunction(\n",
              "            'suggestCharts', [key], {});\n",
              "      }\n",
              "    </script>\n",
              "\n",
              "      <script>\n",
              "\n",
              "function displayQuickchartButton(domScope) {\n",
              "  let quickchartButtonEl =\n",
              "    domScope.querySelector('#df-b1cb44c3-ae12-42ee-a570-1cbac9b7128d button.colab-df-quickchart');\n",
              "  quickchartButtonEl.style.display =\n",
              "    google.colab.kernel.accessAllowed ? 'block' : 'none';\n",
              "}\n",
              "\n",
              "        displayQuickchartButton(document);\n",
              "      </script>\n",
              "      <style>\n",
              "    .colab-df-container {\n",
              "      display:flex;\n",
              "      flex-wrap:wrap;\n",
              "      gap: 12px;\n",
              "    }\n",
              "\n",
              "    .colab-df-convert {\n",
              "      background-color: #E8F0FE;\n",
              "      border: none;\n",
              "      border-radius: 50%;\n",
              "      cursor: pointer;\n",
              "      display: none;\n",
              "      fill: #1967D2;\n",
              "      height: 32px;\n",
              "      padding: 0 0 0 0;\n",
              "      width: 32px;\n",
              "    }\n",
              "\n",
              "    .colab-df-convert:hover {\n",
              "      background-color: #E2EBFA;\n",
              "      box-shadow: 0px 1px 2px rgba(60, 64, 67, 0.3), 0px 1px 3px 1px rgba(60, 64, 67, 0.15);\n",
              "      fill: #174EA6;\n",
              "    }\n",
              "\n",
              "    [theme=dark] .colab-df-convert {\n",
              "      background-color: #3B4455;\n",
              "      fill: #D2E3FC;\n",
              "    }\n",
              "\n",
              "    [theme=dark] .colab-df-convert:hover {\n",
              "      background-color: #434B5C;\n",
              "      box-shadow: 0px 1px 3px 1px rgba(0, 0, 0, 0.15);\n",
              "      filter: drop-shadow(0px 1px 2px rgba(0, 0, 0, 0.3));\n",
              "      fill: #FFFFFF;\n",
              "    }\n",
              "  </style>\n",
              "\n",
              "      <script>\n",
              "        const buttonEl =\n",
              "          document.querySelector('#df-5a35d102-0eb8-40cc-a72e-b1134083ba74 button.colab-df-convert');\n",
              "        buttonEl.style.display =\n",
              "          google.colab.kernel.accessAllowed ? 'block' : 'none';\n",
              "\n",
              "        async function convertToInteractive(key) {\n",
              "          const element = document.querySelector('#df-5a35d102-0eb8-40cc-a72e-b1134083ba74');\n",
              "          const dataTable =\n",
              "            await google.colab.kernel.invokeFunction('convertToInteractive',\n",
              "                                                     [key], {});\n",
              "          if (!dataTable) return;\n",
              "\n",
              "          const docLinkHtml = 'Like what you see? Visit the ' +\n",
              "            '<a target=\"_blank\" href=https://colab.research.google.com/notebooks/data_table.ipynb>data table notebook</a>'\n",
              "            + ' to learn more about interactive tables.';\n",
              "          element.innerHTML = '';\n",
              "          dataTable['output_type'] = 'display_data';\n",
              "          await google.colab.output.renderOutput(dataTable, element);\n",
              "          const docLink = document.createElement('div');\n",
              "          docLink.innerHTML = docLinkHtml;\n",
              "          element.appendChild(docLink);\n",
              "        }\n",
              "      </script>\n",
              "    </div>\n",
              "  </div>\n"
            ]
          },
          "metadata": {},
          "execution_count": 57
        }
      ]
    },
    {
      "cell_type": "code",
      "source": [
        "len(df)"
      ],
      "metadata": {
        "colab": {
          "base_uri": "https://localhost:8080/"
        },
        "id": "o7UvtpD1vAe9",
        "outputId": "9418554e-1d84-48bd-cd83-fb4349f2cbd0"
      },
      "execution_count": 54,
      "outputs": [
        {
          "output_type": "execute_result",
          "data": {
            "text/plain": [
              "17500"
            ]
          },
          "metadata": {},
          "execution_count": 54
        }
      ]
    },
    {
      "cell_type": "code",
      "source": [
        "import cv2 # OpenCV 라이브러리\n",
        "from torch.utils.data import Dataset # 데이터 생성을 위한 클래스\n",
        "\n",
        "class ImageDataset(Dataset):\n",
        "    # 초기화 메서드(생성자)\n",
        "    def __init__(self, df, img_dir='./', transform=None):\n",
        "        super().__init__() # 상속받은 Dataset의 생성자 호출\n",
        "        # 전달받은 인수들 저장\n",
        "        self.df = df\n",
        "        self.img_dir = img_dir\n",
        "        self.transform = transform\n",
        "\n",
        "    # 데이터셋 크기 반환 메서드\n",
        "    def __len__(self):\n",
        "        return len(self.df)\n",
        "\n",
        "    # 인덱스(idx)에 해당하는 데이터 반환 메서드\n",
        "    def __getitem__(self, idx):\n",
        "        img_id = self.df.iloc[idx, 0]    # 이미지 ID\n",
        "        img_path = self.img_dir + img_id # 이미지 파일 경로\n",
        "        image = cv2.imread(img_path)     # 이미지 파일 읽기\n",
        "        image = cv2.cvtColor(image, cv2.COLOR_BGR2RGB) # 이미지 색상 보정\n",
        "        label = self.df.iloc[idx, 1]     # 이미지 레이블(타깃값)\n",
        "\n",
        "        if self.transform is not None:\n",
        "            image = self.transform(image) # 변환기가 있다면 이미지 변환\n",
        "        return image, label"
      ],
      "metadata": {
        "id": "ufU2WmrzvJ42"
      },
      "execution_count": 56,
      "outputs": []
    },
    {
      "cell_type": "code",
      "source": [
        "from torchvision import transforms # 이미지 변환을 위한 모듈\n",
        "transform = transforms.ToTensor()\n",
        "dataset_train = ImageDataset(df=train, img_dir='/content/train/train/', transform=transform)\n",
        "dataset_valid = ImageDataset(df=valid, img_dir='/content/train/train/', transform=transform)"
      ],
      "metadata": {
        "id": "buRrHCPMvdTV"
      },
      "execution_count": 58,
      "outputs": []
    },
    {
      "cell_type": "code",
      "source": [
        "from torch.utils.data import DataLoader # 데이터 로더 클래스\n",
        "\n",
        "loader_train = DataLoader(dataset=dataset_train, batch_size=32, shuffle=True)\n",
        "loader_valid = DataLoader(dataset=dataset_valid, batch_size=32, shuffle=False)"
      ],
      "metadata": {
        "id": "v0I12NiQwEq0"
      },
      "execution_count": 66,
      "outputs": []
    },
    {
      "cell_type": "code",
      "source": [
        "# next(iter(loader_train))"
      ],
      "metadata": {
        "id": "WULg3MAzwIrM"
      },
      "execution_count": 67,
      "outputs": []
    },
    {
      "cell_type": "code",
      "source": [
        "import torch.nn as nn # 신경망 모듈\n",
        "import torch.nn.functional as F # 신경망 모듈에서 자주 사용되는 함수\n",
        "\n",
        "class Model(nn.Module):\n",
        "    # 신경망 계층 정의\n",
        "    def __init__(self):\n",
        "        super(Model,self).__init__() # 상속받은 nn.Module의 __init__() 메서드 호출\n",
        "\n",
        "        # 첫 번째 합성곱 계층\n",
        "        self.conv1 = nn.Conv2d(in_channels=3, out_channels=32,\n",
        "                               kernel_size=3, padding=2)\n",
        "        # 두 번째 합성곱 계층\n",
        "        self.conv2 = nn.Conv2d(in_channels=32, out_channels=64,\n",
        "                               kernel_size=3, padding=2)\n",
        "        # 최대 풀링 계층\n",
        "        self.max_pool = nn.MaxPool2d(kernel_size=2)\n",
        "        # 평균 풀링 계층\n",
        "        self.avg_pool = nn.AvgPool2d(kernel_size=2)\n",
        "        # 전결합 계층\n",
        "        self.fc = nn.Linear(in_features=64 * 4 * 4, out_features=2)\n",
        "\n",
        "    # 순전파 출력 정의\n",
        "    def forward(self, x):\n",
        "        x = self.max_pool(F.relu(self.conv1(x)))\n",
        "        x = self.max_pool(F.relu(self.conv2(x)))\n",
        "        x = self.avg_pool(x)\n",
        "        # x = x.view(-1, 64 * 4 * 4) # 평탄화\n",
        "        x = nn.Flatten()(x)\n",
        "        x = self.fc(x)\n",
        "        return x"
      ],
      "metadata": {
        "id": "pg8LsMQDwLql"
      },
      "execution_count": 70,
      "outputs": []
    },
    {
      "cell_type": "code",
      "source": [
        "model = Model().to(device)\n",
        "\n",
        "model"
      ],
      "metadata": {
        "colab": {
          "base_uri": "https://localhost:8080/"
        },
        "id": "bpXg-swSwwOs",
        "outputId": "32ed2782-8152-43d4-caa9-743f7d1c7b29"
      },
      "execution_count": 71,
      "outputs": [
        {
          "output_type": "execute_result",
          "data": {
            "text/plain": [
              "Model(\n",
              "  (conv1): Conv2d(3, 32, kernel_size=(3, 3), stride=(1, 1), padding=(2, 2))\n",
              "  (conv2): Conv2d(32, 64, kernel_size=(3, 3), stride=(1, 1), padding=(2, 2))\n",
              "  (max_pool): MaxPool2d(kernel_size=2, stride=2, padding=0, dilation=1, ceil_mode=False)\n",
              "  (avg_pool): AvgPool2d(kernel_size=2, stride=2, padding=0)\n",
              "  (fc): Linear(in_features=1024, out_features=2, bias=True)\n",
              ")"
            ]
          },
          "metadata": {},
          "execution_count": 71
        }
      ]
    },
    {
      "cell_type": "code",
      "source": [
        "# 손실함수\n",
        "criterion = nn.CrossEntropyLoss()"
      ],
      "metadata": {
        "id": "-BYqK2Anw4VN"
      },
      "execution_count": 72,
      "outputs": []
    },
    {
      "cell_type": "code",
      "source": [
        "# 옵티마이저\n",
        "optimizer = torch.optim.SGD(model.parameters(), lr=0.01)"
      ],
      "metadata": {
        "id": "dJoLWBI4xOUE"
      },
      "execution_count": 73,
      "outputs": []
    },
    {
      "cell_type": "code",
      "source": [
        "import tqdm\n",
        "epochs = 10 # 총 에폭\n",
        "# 총 에폭만큼 반복\n",
        "for epoch in range(epochs):\n",
        "\n",
        "    # '반복 횟수'만큼 반복\n",
        "    iterdata = tqdm.tqdm(loader_train)\n",
        "    for images, labels in iterdata:\n",
        "        # 이미지, 레이블 데이터 미니배치를 장비에 할당\n",
        "        images = images.to(device)\n",
        "        labels = labels.to(device)\n",
        "\n",
        "        # 옵티마이저 내 기울기 초기화\n",
        "        optimizer.zero_grad()\n",
        "        # 순전파 : 이미지 데이터를 신경망 모델의 입력값으로 사용해 출력값 계산\n",
        "        outputs = model(images)\n",
        "        # 손실 함수를 활용해 outputs와 labels의 손실값 계산\n",
        "        loss = criterion(outputs, labels)\n",
        "        # 역전파 수행\n",
        "        loss.backward()\n",
        "        # 가중치 갱신\n",
        "        optimizer.step()\n",
        "        # 훈련 데이터 손실값 출력\n",
        "        iterdata.set_description(f'에폭 [{epoch+1}] - 손실값: {loss.item()}')\n",
        ""
      ],
      "metadata": {
        "colab": {
          "base_uri": "https://localhost:8080/"
        },
        "id": "jpJtUAb3xiiM",
        "outputId": "5edaf7ee-c3bc-4d6b-8ae8-f3484d9a2e9d"
      },
      "execution_count": 75,
      "outputs": [
        {
          "output_type": "stream",
          "name": "stderr",
          "text": [
            "에폭 [1] - 손실값: 0.3142210841178894: 100%|██████████| 493/493 [00:34<00:00, 14.40it/s]\n",
            "에폭 [2] - 손실값: 0.31147393584251404: 100%|██████████| 493/493 [00:34<00:00, 14.41it/s]\n",
            "에폭 [3] - 손실값: 0.03801364824175835: 100%|██████████| 493/493 [00:35<00:00, 13.89it/s]\n",
            "에폭 [4] - 손실값: 0.1296568661928177: 100%|██████████| 493/493 [00:34<00:00, 14.28it/s]\n",
            "에폭 [5] - 손실값: 0.1385999470949173: 100%|██████████| 493/493 [00:34<00:00, 14.37it/s]\n",
            "에폭 [6] - 손실값: 0.3440640866756439: 100%|██████████| 493/493 [00:35<00:00, 13.70it/s]\n",
            "에폭 [7] - 손실값: 0.10236068814992905: 100%|██████████| 493/493 [00:34<00:00, 14.21it/s]\n",
            "에폭 [8] - 손실값: 0.014414262026548386: 100%|██████████| 493/493 [00:34<00:00, 14.36it/s]\n",
            "에폭 [9] - 손실값: 0.0006710689631290734: 100%|██████████| 493/493 [00:35<00:00, 13.74it/s]\n",
            "에폭 [10] - 손실값: 0.03094567358493805: 100%|██████████| 493/493 [00:34<00:00, 14.34it/s]\n"
          ]
        }
      ]
    },
    {
      "cell_type": "markdown",
      "source": [
        "성능검증"
      ],
      "metadata": {
        "id": "YVEsajm72XlG"
      }
    },
    {
      "cell_type": "code",
      "source": [
        "from sklearn.metrics import roc_auc_score # ROC AUC 점수 계산 함수 임포트\n",
        "\n",
        "# 실제값과 예측 확률값을 담을 리스트 초기화\n",
        "true_list = []\n",
        "preds_list = []\n",
        "\n",
        "model.eval() # 모델을 평가 상태로 설정\n",
        "\n",
        "with torch.no_grad(): # 기울기 계산 비활성화\n",
        "    for images, labels in loader_valid:\n",
        "        # 이미지, 레이블 데이터 미니배치를 장비에 할당\n",
        "        images = images.to(device)\n",
        "        labels = labels.to(device)\n",
        "\n",
        "        # 순전파 : 이미지 데이터를 신경망 모델의 입력값으로 사용해 출력값 계산\n",
        "        outputs = model(images)\n",
        "        # print(outputs, outputs.shape,torch.softmax(outputs.cpu(), dim=1))\n",
        "        # break\n",
        "        preds = torch.softmax(outputs.cpu(), dim=1)[:, 1] # 예측 확률\n",
        "\n",
        "        true = labels.cpu() # 실제값\n",
        "        # 예측 확률과 실제값을 리스트에 추가\n",
        "        preds_list.extend(preds)\n",
        "        true_list.extend(true)\n",
        "\n",
        "# 검증 데이터 ROC AUC 점수 계산\n",
        "print(f'검증 데이터 ROC AUC : {roc_auc_score(true_list, preds_list):.4f}')"
      ],
      "metadata": {
        "colab": {
          "base_uri": "https://localhost:8080/"
        },
        "id": "nqJiGKJ2yKH9",
        "outputId": "d7ae6d48-94e1-4443-9b31-a4267e756d63"
      },
      "execution_count": 80,
      "outputs": [
        {
          "output_type": "stream",
          "name": "stdout",
          "text": [
            "검증 데이터 ROC AUC : 0.9906\n"
          ]
        }
      ]
    },
    {
      "cell_type": "markdown",
      "source": [
        "ROC\n",
        "  - 분류모델의 성능을 시각화\n",
        "  - 진짜양성비율에 대한 거짓양성 비율의 곡선"
      ],
      "metadata": {
        "id": "6vUMftLX4nAq"
      }
    },
    {
      "cell_type": "markdown",
      "source": [
        "성능개선\n",
        "  - 다양한 이미지를확보 : 이미지 증폭\n",
        "  - 모델을 좀더 깊게 : 배치정규화\n",
        "  - 성능좋은 옵티마이져 : 최신옵티마이져\n",
        "  - 훈련수 증가"
      ],
      "metadata": {
        "id": "1fME6gmA5tj9"
      }
    },
    {
      "cell_type": "markdown",
      "source": [
        "이미지 증폭"
      ],
      "metadata": {
        "id": "4CsJhkNb6TGV"
      }
    },
    {
      "cell_type": "code",
      "source": [
        "import torchvision.transforms as tf\n",
        "transform_train = tf.Compose([\n",
        "    tf.ToTensor(), tf.Pad(32,padding_mode='symmetric'),\n",
        "    tf.RandomHorizontalFlip(),\n",
        "    tf.RandomVerticalFlip(),\n",
        "    tf.RandomRotation(10),\n",
        "    tf.Normalize(mean=(0.4,0.4,0.4), std=(0.2,0.2,0.2))\n",
        "])\n",
        "transform_test = tf.Compose([\n",
        "    tf.ToTensor(), tf.Pad(32,padding_mode='symmetric'),\n",
        "    tf.Normalize(mean=(0.4,0.4,0.4), std=(0.2,0.2,0.2))\n",
        "])"
      ],
      "metadata": {
        "id": "7x-Sq11n54KA"
      },
      "execution_count": 82,
      "outputs": []
    },
    {
      "cell_type": "markdown",
      "source": [
        "이미지 데이터셋"
      ],
      "metadata": {
        "id": "bn5GN9Cu7ved"
      }
    },
    {
      "cell_type": "code",
      "source": [
        "dataset_train = ImageDataset(df=train, img_dir='/content/train/train/', transform=transform_train)\n",
        "dataset_valid = ImageDataset(df=valid, img_dir='/content/train/train/', transform=transform_test)"
      ],
      "metadata": {
        "id": "KP1MiNnJ7sWx"
      },
      "execution_count": 83,
      "outputs": []
    },
    {
      "cell_type": "markdown",
      "source": [
        "데이터 로더"
      ],
      "metadata": {
        "id": "C7sJVJZX7-Tu"
      }
    },
    {
      "cell_type": "code",
      "source": [
        "loader_train = DataLoader(dataset=dataset_train, batch_size=32, shuffle=True)\n",
        "loader_valid = DataLoader(dataset=dataset_valid, batch_size=32, shuffle=False)"
      ],
      "metadata": {
        "id": "01aj1_lx79j2"
      },
      "execution_count": 84,
      "outputs": []
    },
    {
      "cell_type": "markdown",
      "source": [
        "모델생성\n",
        "  - basicModel\n",
        "    - 합성곱+배치정규화+최대폴링\n",
        "\n",
        "basicModel x 5 + 평균폴링 + 평탄화 + FC + FC -output\n",
        "  "
      ],
      "metadata": {
        "id": "25FbmtFh8JQG"
      }
    },
    {
      "cell_type": "code",
      "source": [
        "# (입력데이터의크기 + 2*패딩-커널사이즈) / 스트라이드 사이즈 + 1\n",
        "class NewModel(nn.Module):\n",
        "  def __init__(self, ) -> None:\n",
        "      super(NewModel,self).__init__()\n",
        "      self.block1 = nn.Sequential(\n",
        "          nn.Conv2d(3,32,kernel_size=3,padding=2),\n",
        "          nn.BatchNorm2d(32),\n",
        "          nn.LeakyReLU(),\n",
        "          nn.MaxPool2d(2)\n",
        "      )\n",
        "      self.block2 = nn.Sequential(\n",
        "          nn.Conv2d(32,64,kernel_size=3,padding=2),\n",
        "          nn.BatchNorm2d(64),\n",
        "          nn.LeakyReLU(),\n",
        "          nn.MaxPool2d(2)\n",
        "      )\n",
        "      self.block3 = nn.Sequential(\n",
        "          nn.Conv2d(64,128,kernel_size=3,padding=2),\n",
        "          nn.BatchNorm2d(128),\n",
        "          nn.LeakyReLU(),\n",
        "          nn.MaxPool2d(2)\n",
        "      )\n",
        "      self.block4 = nn.Sequential(\n",
        "          nn.Conv2d(128,256,kernel_size=3,padding=2),\n",
        "          nn.BatchNorm2d(256),\n",
        "          nn.LeakyReLU(),\n",
        "          nn.MaxPool2d(2)\n",
        "      )\n",
        "      self.block5 = nn.Sequential(\n",
        "          nn.Conv2d(256,512,kernel_size=3,padding=2),\n",
        "          nn.BatchNorm2d(512),\n",
        "          nn.LeakyReLU(),\n",
        "          nn.MaxPool2d(2)\n",
        "      )\n",
        "      self.avg_pool = nn.AvgPool2d(kernel_size=4)\n",
        "      self.flatten = nn.Flatten()\n",
        "      self.fc1 = nn.Linear(in_features=512, out_features=64)\n",
        "      self.fc2 = nn.Linear(in_features=64, out_features=2)\n",
        "  def forward(self, x):\n",
        "    x = self.block1(x);     x = self.block2(x);     x = self.block3(x)\n",
        "    x = self.block4(x);    x = self.block5(x)\n",
        "    x = self.avg_pool(x)\n",
        "    x = self.flatten(x)\n",
        "    x = self.fc1(x)\n",
        "    x = self.fc2(x)\n",
        "    return x\n",
        "\n",
        "model = NewModel().to(device)"
      ],
      "metadata": {
        "id": "h5Z4e7TK8G2n"
      },
      "execution_count": 122,
      "outputs": []
    },
    {
      "cell_type": "markdown",
      "source": [
        "손실함수"
      ],
      "metadata": {
        "id": "Xb-h6HdL-uvA"
      }
    },
    {
      "cell_type": "code",
      "source": [
        "criterion = nn.CrossEntropyLoss()"
      ],
      "metadata": {
        "id": "vaSq9PU3-pGz"
      },
      "execution_count": 123,
      "outputs": []
    },
    {
      "cell_type": "markdown",
      "source": [
        "옵티마이져"
      ],
      "metadata": {
        "id": "mkNxRdit-0g1"
      }
    },
    {
      "cell_type": "code",
      "source": [
        "optimizer = torch.optim.Adamax(model.parameters(),lr=6e-6)"
      ],
      "metadata": {
        "id": "I0MuARv_-zU9"
      },
      "execution_count": 124,
      "outputs": []
    },
    {
      "cell_type": "markdown",
      "source": [
        "학습"
      ],
      "metadata": {
        "id": "ZYV4YWZg_fxQ"
      }
    },
    {
      "cell_type": "code",
      "source": [
        "# for images, _ in loader_train:\n",
        "#   images = images.to(device)\n",
        "#   print(images.shape)\n",
        "#   break\n"
      ],
      "metadata": {
        "id": "g4pTDxM9_q8W"
      },
      "execution_count": 125,
      "outputs": []
    },
    {
      "cell_type": "code",
      "source": [
        "import tqdm\n",
        "epochs = 100 # 총 에폭\n",
        "# 총 에폭만큼 반복\n",
        "for epoch in range(epochs):\n",
        "\n",
        "    # '반복 횟수'만큼 반복\n",
        "    iterdata = tqdm.tqdm(loader_train)\n",
        "    for images, labels in iterdata:\n",
        "        # 이미지, 레이블 데이터 미니배치를 장비에 할당\n",
        "        images = images.to(device)\n",
        "        labels = labels.to(device)\n",
        "\n",
        "        # 옵티마이저 내 기울기 초기화\n",
        "        optimizer.zero_grad()\n",
        "        # 순전파 : 이미지 데이터를 신경망 모델의 입력값으로 사용해 출력값 계산\n",
        "        outputs = model(images)\n",
        "        # 손실 함수를 활용해 outputs와 labels의 손실값 계산\n",
        "        loss = criterion(outputs, labels)\n",
        "        # 역전파 수행\n",
        "        loss.backward()\n",
        "        # 가중치 갱신\n",
        "        optimizer.step()\n",
        "        # 훈련 데이터 손실값 출력\n",
        "        iterdata.set_description(f'에폭 [{epoch+1}] - 손실값: {loss.item()}')\n",
        ""
      ],
      "metadata": {
        "colab": {
          "base_uri": "https://localhost:8080/"
        },
        "id": "k9JLwsF4-_gN",
        "outputId": "9d7ee9b5-e28f-465b-98f3-4a4d0543998f"
      },
      "execution_count": null,
      "outputs": [
        {
          "output_type": "stream",
          "name": "stderr",
          "text": [
            "에폭 [1] - 손실값: 0.287889689207077:  18%|█▊        | 90/493 [02:21<09:51,  1.47s/it]  "
          ]
        }
      ]
    },
    {
      "cell_type": "code",
      "source": [],
      "metadata": {
        "id": "jLhkzqyW-_zm"
      },
      "execution_count": null,
      "outputs": []
    }
  ]
}