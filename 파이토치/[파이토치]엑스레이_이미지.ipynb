{
  "nbformat": 4,
  "nbformat_minor": 0,
  "metadata": {
    "colab": {
      "provenance": [],
      "gpuType": "T4"
    },
    "kernelspec": {
      "name": "python3",
      "display_name": "Python 3"
    },
    "language_info": {
      "name": "python"
    },
    "accelerator": "GPU"
  },
  "cells": [
    {
      "cell_type": "code",
      "execution_count": 80,
      "metadata": {
        "id": "tEmJxAzctXvV"
      },
      "outputs": [],
      "source": [
        "import torch\n",
        "import torch.nn as nn\n",
        "from glob import glob\n",
        "import matplotlib.pyplot as plt"
      ]
    },
    {
      "cell_type": "code",
      "source": [
        "# !unzip '/content/drive/MyDrive/XRAY/흉부선 X-ray.zip'"
      ],
      "metadata": {
        "id": "k5BdHDQ01RvX"
      },
      "execution_count": 81,
      "outputs": []
    },
    {
      "cell_type": "code",
      "source": [
        "print(len(glob('/content/chest_xray/train/*/*')))\n",
        "print(len(glob('/content/chest_xray/test/*/*')))\n",
        "print(len(glob('/content/chest_xray/val/*/*')))"
      ],
      "metadata": {
        "colab": {
          "base_uri": "https://localhost:8080/"
        },
        "id": "viHmEh_B1Xh0",
        "outputId": "2b56789b-da59-4135-9952-33e4995e20e1"
      },
      "execution_count": 82,
      "outputs": [
        {
          "output_type": "stream",
          "name": "stdout",
          "text": [
            "5216\n",
            "624\n",
            "16\n"
          ]
        }
      ]
    },
    {
      "cell_type": "code",
      "source": [
        "# 정상흉부이미지개수(NORMAL), 폐렴흉부 이미지 개수(PNEUMONIA)"
      ],
      "metadata": {
        "id": "8326eknA1xtM"
      },
      "execution_count": 83,
      "outputs": []
    },
    {
      "cell_type": "code",
      "source": [
        "len(glob('/content/chest_xray/train/NORMAL/*')),len(glob('/content/chest_xray/test/NORMAL/*')),len(glob('/content/chest_xray/val/NORMAL/*'))"
      ],
      "metadata": {
        "colab": {
          "base_uri": "https://localhost:8080/"
        },
        "id": "WMkOHcXh2q4s",
        "outputId": "249d0d70-52cd-4d33-d161-c58ec2e11c2f"
      },
      "execution_count": 84,
      "outputs": [
        {
          "output_type": "execute_result",
          "data": {
            "text/plain": [
              "(1341, 234, 8)"
            ]
          },
          "metadata": {},
          "execution_count": 84
        }
      ]
    },
    {
      "cell_type": "code",
      "source": [
        "len(glob('/content/chest_xray/train/PNEUMONIA/*')),len(glob('/content/chest_xray/test/PNEUMONIA/*')),len(glob('/content/chest_xray/val/PNEUMONIA/*'))"
      ],
      "metadata": {
        "colab": {
          "base_uri": "https://localhost:8080/"
        },
        "id": "Nfl_TngE2uGM",
        "outputId": "22c4a530-2be7-4047-d36e-53f0ceec83c6"
      },
      "execution_count": 85,
      "outputs": [
        {
          "output_type": "execute_result",
          "data": {
            "text/plain": [
              "(3875, 390, 8)"
            ]
          },
          "metadata": {},
          "execution_count": 85
        }
      ]
    },
    {
      "cell_type": "code",
      "source": [
        "1341+ 234+ 8, 3875+ 390+ 8"
      ],
      "metadata": {
        "colab": {
          "base_uri": "https://localhost:8080/"
        },
        "id": "o8bYmmJd2-MG",
        "outputId": "015e8e3f-be27-4100-ebfe-f5e0a801a62e"
      },
      "execution_count": 86,
      "outputs": [
        {
          "output_type": "execute_result",
          "data": {
            "text/plain": [
              "(1583, 4273)"
            ]
          },
          "metadata": {},
          "execution_count": 86
        }
      ]
    },
    {
      "cell_type": "code",
      "source": [
        "1583 / (1583+ 4273),  4273 / (1583+ 4273)"
      ],
      "metadata": {
        "colab": {
          "base_uri": "https://localhost:8080/"
        },
        "id": "FIOYhiRd3Jzj",
        "outputId": "5bed0965-7895-40df-ff27-7ef596097a3a"
      },
      "execution_count": 87,
      "outputs": [
        {
          "output_type": "execute_result",
          "data": {
            "text/plain": [
              "(0.2703210382513661, 0.7296789617486339)"
            ]
          },
          "metadata": {},
          "execution_count": 87
        }
      ]
    },
    {
      "cell_type": "code",
      "source": [
        "import cv2"
      ],
      "metadata": {
        "id": "tolaiYV33TrD"
      },
      "execution_count": 88,
      "outputs": []
    },
    {
      "cell_type": "code",
      "source": [
        "train_normal = glob('/content/chest_xray/train/NORMAL/*')[:3]\n",
        "train_PNEUMONIA = glob('/content/chest_xray/train/PNEUMONIA/*')[:3]"
      ],
      "metadata": {
        "id": "NXT9QrIw3m98"
      },
      "execution_count": 89,
      "outputs": []
    },
    {
      "cell_type": "code",
      "source": [
        "for  idx,fname in enumerate( train_normal):\n",
        "  normal_img = cv2.imread(fname)\n",
        "  pneumonia_img = cv2.imread(train_PNEUMONIA[idx])\n",
        "  plt.subplot(2,3,idx+1)\n",
        "  plt.imshow(normal_img)\n",
        "\n",
        "  plt.subplot(2,3,idx+4)\n",
        "  plt.imshow(pneumonia_img)\n",
        "\n",
        "plt.show()"
      ],
      "metadata": {
        "colab": {
          "base_uri": "https://localhost:8080/",
          "height": 378
        },
        "id": "KzCQ-Ede3efj",
        "outputId": "2d6a2fbd-0cf5-45d5-84e4-d5a188d1f346"
      },
      "execution_count": 90,
      "outputs": [
        {
          "output_type": "display_data",
          "data": {
            "text/plain": [
              "<Figure size 640x480 with 6 Axes>"
            ],
            "image/png": "[encoded data removed]"
          },
          "metadata": {}
        }
      ]
    },
    {
      "cell_type": "markdown",
      "source": [
        "- 베이스라인\n",
        "  - 데이터 증강\n",
        "  - 전이학습(efficientnet-b0)\n",
        "  - 옵티마이져 : Adam\n",
        "- 성능개선\n",
        "  - 데이터 증강:동일\n",
        "  - 신경망: efficientnet-b1+efficientnet-b2+efficientnet-b3 앙상블\n",
        "  - 옵티마이져 : AdamW"
      ],
      "metadata": {
        "id": "eOibnH0G5h2Y"
      }
    },
    {
      "cell_type": "markdown",
      "source": [
        "시드값 고정"
      ],
      "metadata": {
        "id": "drO3f1yV5-LN"
      }
    },
    {
      "cell_type": "code",
      "source": [
        "import pandas as pd\n",
        "import numpy as np\n",
        "import random\n",
        "import os\n",
        "\n",
        "def seed_everything(seed):\n",
        "    random.seed(seed)\n",
        "    os.environ['PYTHONHASHSEED'] = str(seed)\n",
        "    np.random.seed(seed)\n",
        "\n",
        "seed_everything(42) # Seed 고정"
      ],
      "metadata": {
        "id": "PlrYrIdo4C7L"
      },
      "execution_count": 91,
      "outputs": []
    },
    {
      "cell_type": "code",
      "source": [
        "device = 'cuda' if torch.cuda.is_available() else 'cpu'"
      ],
      "metadata": {
        "id": "ow16h9S26Onr"
      },
      "execution_count": 92,
      "outputs": []
    },
    {
      "cell_type": "markdown",
      "source": [
        "이미지 변환기"
      ],
      "metadata": {
        "id": "ArBL2nxZ6u1Y"
      }
    },
    {
      "cell_type": "code",
      "source": [
        "from torchvision import transforms\n",
        "transform_train = transforms.Compose(\n",
        "    [\n",
        "        transforms.Resize((250,250)),\n",
        "        transforms.CenterCrop(180),\n",
        "        transforms.RandomHorizontalFlip(0.5),\n",
        "        transforms.RandomVerticalFlip(0.2),\n",
        "        transforms.RandomRotation(20),\n",
        "        transforms.ToTensor(),\n",
        "        transforms.Normalize(mean=(0.4,0.4,0.4),std=(0.2,0.2,0.2))\n",
        "    ]\n",
        ")\n",
        "\n",
        "transform_test = transforms.Compose(\n",
        "    [\n",
        "        transforms.Resize((250,250)),\n",
        "        transforms.CenterCrop(180),\n",
        "        transforms.ToTensor(),\n",
        "        transforms.Normalize(mean=(0.4,0.4,0.4),std=(0.2,0.2,0.2))\n",
        "    ]\n",
        ")"
      ],
      "metadata": {
        "id": "dnC2SpID6sbr"
      },
      "execution_count": 93,
      "outputs": []
    },
    {
      "cell_type": "code",
      "source": [
        "# 0 : Normal  /    1 :  Pneumonia"
      ],
      "metadata": {
        "id": "9kP7Heco-QBo"
      },
      "execution_count": 94,
      "outputs": []
    },
    {
      "cell_type": "markdown",
      "source": [
        "데이터 셋"
      ],
      "metadata": {
        "id": "j-iMA0AH-faR"
      }
    },
    {
      "cell_type": "code",
      "source": [
        "from torchvision.datasets import ImageFolder"
      ],
      "metadata": {
        "id": "88GTvSCP-g2-"
      },
      "execution_count": 95,
      "outputs": []
    },
    {
      "cell_type": "code",
      "source": [
        "dataset_train = ImageFolder(root='/content/chest_xray/train/', transform=transform_train)\n",
        "dataset_test = ImageFolder(root='/content/chest_xray/test/', transform=transform_test)\n",
        "dataset_valid = ImageFolder(root='/content/chest_xray/val/', transform=transform_test)"
      ],
      "metadata": {
        "id": "llLsLmhQ-tVs"
      },
      "execution_count": 96,
      "outputs": []
    },
    {
      "cell_type": "markdown",
      "source": [
        "데이터 로더"
      ],
      "metadata": {
        "id": "gzcdz-h5_O7B"
      }
    },
    {
      "cell_type": "code",
      "source": [
        "from torch.utils.data import DataLoader\n",
        "batch_size=8\n",
        "loader_train = DataLoader(dataset=dataset_train, batch_size=batch_size,\n",
        "                          shuffle=True,num_workers=2)\n",
        "loader_test = DataLoader(dataset=dataset_test, batch_size=batch_size,\n",
        "                          shuffle=False,num_workers=2)\n",
        "loader_valid = DataLoader(dataset=dataset_valid, batch_size=batch_size,\n",
        "                          shuffle=False,num_workers=2)"
      ],
      "metadata": {
        "id": "iTCW0A8b_MCs"
      },
      "execution_count": 97,
      "outputs": []
    },
    {
      "cell_type": "code",
      "source": [
        "imgdata,label =  next(iter(loader_train))\n",
        "np.array(imgdata).shape"
      ],
      "metadata": {
        "colab": {
          "base_uri": "https://localhost:8080/"
        },
        "id": "5lwRXIPH_sEb",
        "outputId": "b6983d61-50a2-4e4d-99fa-27105303df34"
      },
      "execution_count": 98,
      "outputs": [
        {
          "output_type": "execute_result",
          "data": {
            "text/plain": [
              "(8, 3, 180, 180)"
            ]
          },
          "metadata": {},
          "execution_count": 98
        }
      ]
    },
    {
      "cell_type": "markdown",
      "source": [
        "사전훈련된 모델 가져오기"
      ],
      "metadata": {
        "id": "ySK4Wg8vBE6I"
      }
    },
    {
      "cell_type": "code",
      "source": [
        "!pip install efficientnet-pytorch"
      ],
      "metadata": {
        "colab": {
          "base_uri": "https://localhost:8080/"
        },
        "id": "Zxb8TMqZ_vqD",
        "outputId": "52fc0ec4-5737-464c-a9bc-2a4efc95615b"
      },
      "execution_count": 99,
      "outputs": [
        {
          "output_type": "stream",
          "name": "stdout",
          "text": [
            "Requirement already satisfied: efficientnet-pytorch in /usr/local/lib/python3.10/dist-packages (0.7.1)\n",
            "Requirement already satisfied: torch in /usr/local/lib/python3.10/dist-packages (from efficientnet-pytorch) (2.0.1+cu118)\n",
            "Requirement already satisfied: filelock in /usr/local/lib/python3.10/dist-packages (from torch->efficientnet-pytorch) (3.12.2)\n",
            "Requirement already satisfied: typing-extensions in /usr/local/lib/python3.10/dist-packages (from torch->efficientnet-pytorch) (4.7.1)\n",
            "Requirement already satisfied: sympy in /usr/local/lib/python3.10/dist-packages (from torch->efficientnet-pytorch) (1.11.1)\n",
            "Requirement already satisfied: networkx in /usr/local/lib/python3.10/dist-packages (from torch->efficientnet-pytorch) (3.1)\n",
            "Requirement already satisfied: jinja2 in /usr/local/lib/python3.10/dist-packages (from torch->efficientnet-pytorch) (3.1.2)\n",
            "Requirement already satisfied: triton==2.0.0 in /usr/local/lib/python3.10/dist-packages (from torch->efficientnet-pytorch) (2.0.0)\n",
            "Requirement already satisfied: cmake in /usr/local/lib/python3.10/dist-packages (from triton==2.0.0->torch->efficientnet-pytorch) (3.25.2)\n",
            "Requirement already satisfied: lit in /usr/local/lib/python3.10/dist-packages (from triton==2.0.0->torch->efficientnet-pytorch) (16.0.6)\n",
            "Requirement already satisfied: MarkupSafe>=2.0 in /usr/local/lib/python3.10/dist-packages (from jinja2->torch->efficientnet-pytorch) (2.1.3)\n",
            "Requirement already satisfied: mpmath>=0.19 in /usr/local/lib/python3.10/dist-packages (from sympy->torch->efficientnet-pytorch) (1.3.0)\n"
          ]
        }
      ]
    },
    {
      "cell_type": "code",
      "source": [
        "from efficientnet_pytorch import EfficientNet"
      ],
      "metadata": {
        "id": "bvlq0RocBkGL"
      },
      "execution_count": 100,
      "outputs": []
    },
    {
      "cell_type": "code",
      "source": [
        "model = EfficientNet.from_pretrained('efficientnet-b0',num_classes=2)\n",
        "model.to(device)"
      ],
      "metadata": {
        "colab": {
          "base_uri": "https://localhost:8080/"
        },
        "id": "ZJWuhASDBzKE",
        "outputId": "8da42b1c-04b9-4c4e-f2cc-e0f2bc6e2029"
      },
      "execution_count": 101,
      "outputs": [
        {
          "output_type": "stream",
          "name": "stdout",
          "text": [
            "Loaded pretrained weights for efficientnet-b0\n"
          ]
        },
        {
          "output_type": "execute_result",
          "data": {
            "text/plain": [
              "EfficientNet(\n",
              "  (_conv_stem): Conv2dStaticSamePadding(\n",
              "    3, 32, kernel_size=(3, 3), stride=(2, 2), bias=False\n",
              "    (static_padding): ZeroPad2d((0, 1, 0, 1))\n",
              "  )\n",
              "  (_bn0): BatchNorm2d(32, eps=0.001, momentum=0.010000000000000009, affine=True, track_running_stats=True)\n",
              "  (_blocks): ModuleList(\n",
              "    (0): MBConvBlock(\n",
              "      (_depthwise_conv): Conv2dStaticSamePadding(\n",
              "        32, 32, kernel_size=(3, 3), stride=[1, 1], groups=32, bias=False\n",
              "        (static_padding): ZeroPad2d((1, 1, 1, 1))\n",
              "      )\n",
              "      (_bn1): BatchNorm2d(32, eps=0.001, momentum=0.010000000000000009, affine=True, track_running_stats=True)\n",
              "      (_se_reduce): Conv2dStaticSamePadding(\n",
              "        32, 8, kernel_size=(1, 1), stride=(1, 1)\n",
              "        (static_padding): Identity()\n",
              "      )\n",
              "      (_se_expand): Conv2dStaticSamePadding(\n",
              "        8, 32, kernel_size=(1, 1), stride=(1, 1)\n",
              "        (static_padding): Identity()\n",
              "      )\n",
              "      (_project_conv): Conv2dStaticSamePadding(\n",
              "        32, 16, kernel_size=(1, 1), stride=(1, 1), bias=False\n",
              "        (static_padding): Identity()\n",
              "      )\n",
              "      (_bn2): BatchNorm2d(16, eps=0.001, momentum=0.010000000000000009, affine=True, track_running_stats=True)\n",
              "      (_swish): MemoryEfficientSwish()\n",
              "    )\n",
              "    (1): MBConvBlock(\n",
              "      (_expand_conv): Conv2dStaticSamePadding(\n",
              "        16, 96, kernel_size=(1, 1), stride=(1, 1), bias=False\n",
              "        (static_padding): Identity()\n",
              "      )\n",
              "      (_bn0): BatchNorm2d(96, eps=0.001, momentum=0.010000000000000009, affine=True, track_running_stats=True)\n",
              "      (_depthwise_conv): Conv2dStaticSamePadding(\n",
              "        96, 96, kernel_size=(3, 3), stride=[2, 2], groups=96, bias=False\n",
              "        (static_padding): ZeroPad2d((0, 1, 0, 1))\n",
              "      )\n",
              "      (_bn1): BatchNorm2d(96, eps=0.001, momentum=0.010000000000000009, affine=True, track_running_stats=True)\n",
              "      (_se_reduce): Conv2dStaticSamePadding(\n",
              "        96, 4, kernel_size=(1, 1), stride=(1, 1)\n",
              "        (static_padding): Identity()\n",
              "      )\n",
              "      (_se_expand): Conv2dStaticSamePadding(\n",
              "        4, 96, kernel_size=(1, 1), stride=(1, 1)\n",
              "        (static_padding): Identity()\n",
              "      )\n",
              "      (_project_conv): Conv2dStaticSamePadding(\n",
              "        96, 24, kernel_size=(1, 1), stride=(1, 1), bias=False\n",
              "        (static_padding): Identity()\n",
              "      )\n",
              "      (_bn2): BatchNorm2d(24, eps=0.001, momentum=0.010000000000000009, affine=True, track_running_stats=True)\n",
              "      (_swish): MemoryEfficientSwish()\n",
              "    )\n",
              "    (2): MBConvBlock(\n",
              "      (_expand_conv): Conv2dStaticSamePadding(\n",
              "        24, 144, kernel_size=(1, 1), stride=(1, 1), bias=False\n",
              "        (static_padding): Identity()\n",
              "      )\n",
              "      (_bn0): BatchNorm2d(144, eps=0.001, momentum=0.010000000000000009, affine=True, track_running_stats=True)\n",
              "      (_depthwise_conv): Conv2dStaticSamePadding(\n",
              "        144, 144, kernel_size=(3, 3), stride=(1, 1), groups=144, bias=False\n",
              "        (static_padding): ZeroPad2d((1, 1, 1, 1))\n",
              "      )\n",
              "      (_bn1): BatchNorm2d(144, eps=0.001, momentum=0.010000000000000009, affine=True, track_running_stats=True)\n",
              "      (_se_reduce): Conv2dStaticSamePadding(\n",
              "        144, 6, kernel_size=(1, 1), stride=(1, 1)\n",
              "        (static_padding): Identity()\n",
              "      )\n",
              "      (_se_expand): Conv2dStaticSamePadding(\n",
              "        6, 144, kernel_size=(1, 1), stride=(1, 1)\n",
              "        (static_padding): Identity()\n",
              "      )\n",
              "      (_project_conv): Conv2dStaticSamePadding(\n",
              "        144, 24, kernel_size=(1, 1), stride=(1, 1), bias=False\n",
              "        (static_padding): Identity()\n",
              "      )\n",
              "      (_bn2): BatchNorm2d(24, eps=0.001, momentum=0.010000000000000009, affine=True, track_running_stats=True)\n",
              "      (_swish): MemoryEfficientSwish()\n",
              "    )\n",
              "    (3): MBConvBlock(\n",
              "      (_expand_conv): Conv2dStaticSamePadding(\n",
              "        24, 144, kernel_size=(1, 1), stride=(1, 1), bias=False\n",
              "        (static_padding): Identity()\n",
              "      )\n",
              "      (_bn0): BatchNorm2d(144, eps=0.001, momentum=0.010000000000000009, affine=True, track_running_stats=True)\n",
              "      (_depthwise_conv): Conv2dStaticSamePadding(\n",
              "        144, 144, kernel_size=(5, 5), stride=[2, 2], groups=144, bias=False\n",
              "        (static_padding): ZeroPad2d((1, 2, 1, 2))\n",
              "      )\n",
              "      (_bn1): BatchNorm2d(144, eps=0.001, momentum=0.010000000000000009, affine=True, track_running_stats=True)\n",
              "      (_se_reduce): Conv2dStaticSamePadding(\n",
              "        144, 6, kernel_size=(1, 1), stride=(1, 1)\n",
              "        (static_padding): Identity()\n",
              "      )\n",
              "      (_se_expand): Conv2dStaticSamePadding(\n",
              "        6, 144, kernel_size=(1, 1), stride=(1, 1)\n",
              "        (static_padding): Identity()\n",
              "      )\n",
              "      (_project_conv): Conv2dStaticSamePadding(\n",
              "        144, 40, kernel_size=(1, 1), stride=(1, 1), bias=False\n",
              "        (static_padding): Identity()\n",
              "      )\n",
              "      (_bn2): BatchNorm2d(40, eps=0.001, momentum=0.010000000000000009, affine=True, track_running_stats=True)\n",
              "      (_swish): MemoryEfficientSwish()\n",
              "    )\n",
              "    (4): MBConvBlock(\n",
              "      (_expand_conv): Conv2dStaticSamePadding(\n",
              "        40, 240, kernel_size=(1, 1), stride=(1, 1), bias=False\n",
              "        (static_padding): Identity()\n",
              "      )\n",
              "      (_bn0): BatchNorm2d(240, eps=0.001, momentum=0.010000000000000009, affine=True, track_running_stats=True)\n",
              "      (_depthwise_conv): Conv2dStaticSamePadding(\n",
              "        240, 240, kernel_size=(5, 5), stride=(1, 1), groups=240, bias=False\n",
              "        (static_padding): ZeroPad2d((2, 2, 2, 2))\n",
              "      )\n",
              "      (_bn1): BatchNorm2d(240, eps=0.001, momentum=0.010000000000000009, affine=True, track_running_stats=True)\n",
              "      (_se_reduce): Conv2dStaticSamePadding(\n",
              "        240, 10, kernel_size=(1, 1), stride=(1, 1)\n",
              "        (static_padding): Identity()\n",
              "      )\n",
              "      (_se_expand): Conv2dStaticSamePadding(\n",
              "        10, 240, kernel_size=(1, 1), stride=(1, 1)\n",
              "        (static_padding): Identity()\n",
              "      )\n",
              "      (_project_conv): Conv2dStaticSamePadding(\n",
              "        240, 40, kernel_size=(1, 1), stride=(1, 1), bias=False\n",
              "        (static_padding): Identity()\n",
              "      )\n",
              "      (_bn2): BatchNorm2d(40, eps=0.001, momentum=0.010000000000000009, affine=True, track_running_stats=True)\n",
              "      (_swish): MemoryEfficientSwish()\n",
              "    )\n",
              "    (5): MBConvBlock(\n",
              "      (_expand_conv): Conv2dStaticSamePadding(\n",
              "        40, 240, kernel_size=(1, 1), stride=(1, 1), bias=False\n",
              "        (static_padding): Identity()\n",
              "      )\n",
              "      (_bn0): BatchNorm2d(240, eps=0.001, momentum=0.010000000000000009, affine=True, track_running_stats=True)\n",
              "      (_depthwise_conv): Conv2dStaticSamePadding(\n",
              "        240, 240, kernel_size=(3, 3), stride=[2, 2], groups=240, bias=False\n",
              "        (static_padding): ZeroPad2d((0, 1, 0, 1))\n",
              "      )\n",
              "      (_bn1): BatchNorm2d(240, eps=0.001, momentum=0.010000000000000009, affine=True, track_running_stats=True)\n",
              "      (_se_reduce): Conv2dStaticSamePadding(\n",
              "        240, 10, kernel_size=(1, 1), stride=(1, 1)\n",
              "        (static_padding): Identity()\n",
              "      )\n",
              "      (_se_expand): Conv2dStaticSamePadding(\n",
              "        10, 240, kernel_size=(1, 1), stride=(1, 1)\n",
              "        (static_padding): Identity()\n",
              "      )\n",
              "      (_project_conv): Conv2dStaticSamePadding(\n",
              "        240, 80, kernel_size=(1, 1), stride=(1, 1), bias=False\n",
              "        (static_padding): Identity()\n",
              "      )\n",
              "      (_bn2): BatchNorm2d(80, eps=0.001, momentum=0.010000000000000009, affine=True, track_running_stats=True)\n",
              "      (_swish): MemoryEfficientSwish()\n",
              "    )\n",
              "    (6-7): 2 x MBConvBlock(\n",
              "      (_expand_conv): Conv2dStaticSamePadding(\n",
              "        80, 480, kernel_size=(1, 1), stride=(1, 1), bias=False\n",
              "        (static_padding): Identity()\n",
              "      )\n",
              "      (_bn0): BatchNorm2d(480, eps=0.001, momentum=0.010000000000000009, affine=True, track_running_stats=True)\n",
              "      (_depthwise_conv): Conv2dStaticSamePadding(\n",
              "        480, 480, kernel_size=(3, 3), stride=(1, 1), groups=480, bias=False\n",
              "        (static_padding): ZeroPad2d((1, 1, 1, 1))\n",
              "      )\n",
              "      (_bn1): BatchNorm2d(480, eps=0.001, momentum=0.010000000000000009, affine=True, track_running_stats=True)\n",
              "      (_se_reduce): Conv2dStaticSamePadding(\n",
              "        480, 20, kernel_size=(1, 1), stride=(1, 1)\n",
              "        (static_padding): Identity()\n",
              "      )\n",
              "      (_se_expand): Conv2dStaticSamePadding(\n",
              "        20, 480, kernel_size=(1, 1), stride=(1, 1)\n",
              "        (static_padding): Identity()\n",
              "      )\n",
              "      (_project_conv): Conv2dStaticSamePadding(\n",
              "        480, 80, kernel_size=(1, 1), stride=(1, 1), bias=False\n",
              "        (static_padding): Identity()\n",
              "      )\n",
              "      (_bn2): BatchNorm2d(80, eps=0.001, momentum=0.010000000000000009, affine=True, track_running_stats=True)\n",
              "      (_swish): MemoryEfficientSwish()\n",
              "    )\n",
              "    (8): MBConvBlock(\n",
              "      (_expand_conv): Conv2dStaticSamePadding(\n",
              "        80, 480, kernel_size=(1, 1), stride=(1, 1), bias=False\n",
              "        (static_padding): Identity()\n",
              "      )\n",
              "      (_bn0): BatchNorm2d(480, eps=0.001, momentum=0.010000000000000009, affine=True, track_running_stats=True)\n",
              "      (_depthwise_conv): Conv2dStaticSamePadding(\n",
              "        480, 480, kernel_size=(5, 5), stride=[1, 1], groups=480, bias=False\n",
              "        (static_padding): ZeroPad2d((2, 2, 2, 2))\n",
              "      )\n",
              "      (_bn1): BatchNorm2d(480, eps=0.001, momentum=0.010000000000000009, affine=True, track_running_stats=True)\n",
              "      (_se_reduce): Conv2dStaticSamePadding(\n",
              "        480, 20, kernel_size=(1, 1), stride=(1, 1)\n",
              "        (static_padding): Identity()\n",
              "      )\n",
              "      (_se_expand): Conv2dStaticSamePadding(\n",
              "        20, 480, kernel_size=(1, 1), stride=(1, 1)\n",
              "        (static_padding): Identity()\n",
              "      )\n",
              "      (_project_conv): Conv2dStaticSamePadding(\n",
              "        480, 112, kernel_size=(1, 1), stride=(1, 1), bias=False\n",
              "        (static_padding): Identity()\n",
              "      )\n",
              "      (_bn2): BatchNorm2d(112, eps=0.001, momentum=0.010000000000000009, affine=True, track_running_stats=True)\n",
              "      (_swish): MemoryEfficientSwish()\n",
              "    )\n",
              "    (9-10): 2 x MBConvBlock(\n",
              "      (_expand_conv): Conv2dStaticSamePadding(\n",
              "        112, 672, kernel_size=(1, 1), stride=(1, 1), bias=False\n",
              "        (static_padding): Identity()\n",
              "      )\n",
              "      (_bn0): BatchNorm2d(672, eps=0.001, momentum=0.010000000000000009, affine=True, track_running_stats=True)\n",
              "      (_depthwise_conv): Conv2dStaticSamePadding(\n",
              "        672, 672, kernel_size=(5, 5), stride=(1, 1), groups=672, bias=False\n",
              "        (static_padding): ZeroPad2d((2, 2, 2, 2))\n",
              "      )\n",
              "      (_bn1): BatchNorm2d(672, eps=0.001, momentum=0.010000000000000009, affine=True, track_running_stats=True)\n",
              "      (_se_reduce): Conv2dStaticSamePadding(\n",
              "        672, 28, kernel_size=(1, 1), stride=(1, 1)\n",
              "        (static_padding): Identity()\n",
              "      )\n",
              "      (_se_expand): Conv2dStaticSamePadding(\n",
              "        28, 672, kernel_size=(1, 1), stride=(1, 1)\n",
              "        (static_padding): Identity()\n",
              "      )\n",
              "      (_project_conv): Conv2dStaticSamePadding(\n",
              "        672, 112, kernel_size=(1, 1), stride=(1, 1), bias=False\n",
              "        (static_padding): Identity()\n",
              "      )\n",
              "      (_bn2): BatchNorm2d(112, eps=0.001, momentum=0.010000000000000009, affine=True, track_running_stats=True)\n",
              "      (_swish): MemoryEfficientSwish()\n",
              "    )\n",
              "    (11): MBConvBlock(\n",
              "      (_expand_conv): Conv2dStaticSamePadding(\n",
              "        112, 672, kernel_size=(1, 1), stride=(1, 1), bias=False\n",
              "        (static_padding): Identity()\n",
              "      )\n",
              "      (_bn0): BatchNorm2d(672, eps=0.001, momentum=0.010000000000000009, affine=True, track_running_stats=True)\n",
              "      (_depthwise_conv): Conv2dStaticSamePadding(\n",
              "        672, 672, kernel_size=(5, 5), stride=[2, 2], groups=672, bias=False\n",
              "        (static_padding): ZeroPad2d((1, 2, 1, 2))\n",
              "      )\n",
              "      (_bn1): BatchNorm2d(672, eps=0.001, momentum=0.010000000000000009, affine=True, track_running_stats=True)\n",
              "      (_se_reduce): Conv2dStaticSamePadding(\n",
              "        672, 28, kernel_size=(1, 1), stride=(1, 1)\n",
              "        (static_padding): Identity()\n",
              "      )\n",
              "      (_se_expand): Conv2dStaticSamePadding(\n",
              "        28, 672, kernel_size=(1, 1), stride=(1, 1)\n",
              "        (static_padding): Identity()\n",
              "      )\n",
              "      (_project_conv): Conv2dStaticSamePadding(\n",
              "        672, 192, kernel_size=(1, 1), stride=(1, 1), bias=False\n",
              "        (static_padding): Identity()\n",
              "      )\n",
              "      (_bn2): BatchNorm2d(192, eps=0.001, momentum=0.010000000000000009, affine=True, track_running_stats=True)\n",
              "      (_swish): MemoryEfficientSwish()\n",
              "    )\n",
              "    (12-14): 3 x MBConvBlock(\n",
              "      (_expand_conv): Conv2dStaticSamePadding(\n",
              "        192, 1152, kernel_size=(1, 1), stride=(1, 1), bias=False\n",
              "        (static_padding): Identity()\n",
              "      )\n",
              "      (_bn0): BatchNorm2d(1152, eps=0.001, momentum=0.010000000000000009, affine=True, track_running_stats=True)\n",
              "      (_depthwise_conv): Conv2dStaticSamePadding(\n",
              "        1152, 1152, kernel_size=(5, 5), stride=(1, 1), groups=1152, bias=False\n",
              "        (static_padding): ZeroPad2d((2, 2, 2, 2))\n",
              "      )\n",
              "      (_bn1): BatchNorm2d(1152, eps=0.001, momentum=0.010000000000000009, affine=True, track_running_stats=True)\n",
              "      (_se_reduce): Conv2dStaticSamePadding(\n",
              "        1152, 48, kernel_size=(1, 1), stride=(1, 1)\n",
              "        (static_padding): Identity()\n",
              "      )\n",
              "      (_se_expand): Conv2dStaticSamePadding(\n",
              "        48, 1152, kernel_size=(1, 1), stride=(1, 1)\n",
              "        (static_padding): Identity()\n",
              "      )\n",
              "      (_project_conv): Conv2dStaticSamePadding(\n",
              "        1152, 192, kernel_size=(1, 1), stride=(1, 1), bias=False\n",
              "        (static_padding): Identity()\n",
              "      )\n",
              "      (_bn2): BatchNorm2d(192, eps=0.001, momentum=0.010000000000000009, affine=True, track_running_stats=True)\n",
              "      (_swish): MemoryEfficientSwish()\n",
              "    )\n",
              "    (15): MBConvBlock(\n",
              "      (_expand_conv): Conv2dStaticSamePadding(\n",
              "        192, 1152, kernel_size=(1, 1), stride=(1, 1), bias=False\n",
              "        (static_padding): Identity()\n",
              "      )\n",
              "      (_bn0): BatchNorm2d(1152, eps=0.001, momentum=0.010000000000000009, affine=True, track_running_stats=True)\n",
              "      (_depthwise_conv): Conv2dStaticSamePadding(\n",
              "        1152, 1152, kernel_size=(3, 3), stride=[1, 1], groups=1152, bias=False\n",
              "        (static_padding): ZeroPad2d((1, 1, 1, 1))\n",
              "      )\n",
              "      (_bn1): BatchNorm2d(1152, eps=0.001, momentum=0.010000000000000009, affine=True, track_running_stats=True)\n",
              "      (_se_reduce): Conv2dStaticSamePadding(\n",
              "        1152, 48, kernel_size=(1, 1), stride=(1, 1)\n",
              "        (static_padding): Identity()\n",
              "      )\n",
              "      (_se_expand): Conv2dStaticSamePadding(\n",
              "        48, 1152, kernel_size=(1, 1), stride=(1, 1)\n",
              "        (static_padding): Identity()\n",
              "      )\n",
              "      (_project_conv): Conv2dStaticSamePadding(\n",
              "        1152, 320, kernel_size=(1, 1), stride=(1, 1), bias=False\n",
              "        (static_padding): Identity()\n",
              "      )\n",
              "      (_bn2): BatchNorm2d(320, eps=0.001, momentum=0.010000000000000009, affine=True, track_running_stats=True)\n",
              "      (_swish): MemoryEfficientSwish()\n",
              "    )\n",
              "  )\n",
              "  (_conv_head): Conv2dStaticSamePadding(\n",
              "    320, 1280, kernel_size=(1, 1), stride=(1, 1), bias=False\n",
              "    (static_padding): Identity()\n",
              "  )\n",
              "  (_bn1): BatchNorm2d(1280, eps=0.001, momentum=0.010000000000000009, affine=True, track_running_stats=True)\n",
              "  (_avg_pooling): AdaptiveAvgPool2d(output_size=1)\n",
              "  (_dropout): Dropout(p=0.2, inplace=False)\n",
              "  (_fc): Linear(in_features=1280, out_features=2, bias=True)\n",
              "  (_swish): MemoryEfficientSwish()\n",
              ")"
            ]
          },
          "metadata": {},
          "execution_count": 101
        }
      ]
    },
    {
      "cell_type": "markdown",
      "source": [
        "손실함수 및 옵티마이져"
      ],
      "metadata": {
        "id": "JPKjlwp9CLNO"
      }
    },
    {
      "cell_type": "code",
      "source": [
        "criterion = nn.CrossEntropyLoss()\n",
        "optimizer = torch.optim.Adam(model.parameters(),lr=0.01)"
      ],
      "metadata": {
        "id": "rBERvPIhCFI7"
      },
      "execution_count": 102,
      "outputs": []
    },
    {
      "cell_type": "code",
      "source": [
        "from sklearn.metrics import accuracy_score,recall_score,f1_score"
      ],
      "metadata": {
        "id": "CLbYlcqKJjuo"
      },
      "execution_count": 103,
      "outputs": []
    },
    {
      "cell_type": "markdown",
      "source": [
        "훈련 : 함수로.."
      ],
      "metadata": {
        "id": "3jVlxBGVCjOm"
      }
    },
    {
      "cell_type": "code",
      "source": [
        "from tqdm import tqdm\n",
        "def train(model,loder_train,loder_valid,criterion,optimizer\n",
        "          ,scheduler=None,epochs=10,save_file='model_state_dic.pth'):\n",
        "  valid_loss_min = np.inf # 가장 큰 무한대의 값으로 초기화\n",
        "  for epoch in range(epochs):\n",
        "    iterdata = tqdm(loader_train)\n",
        "    model.train() # 훈련상태로 변경. Efficient에 내장\n",
        "    epoch_train_loss = 0\n",
        "    #[훈련]\n",
        "    for images, labels in iterdata:\n",
        "      # 데이터 장비로 이동\n",
        "      images = images.to(device); labels = labels.to(device)\n",
        "      # 기울기 초기화\n",
        "      optimizer.zero_grad()\n",
        "      # 순전파\n",
        "      output = model(images)\n",
        "      # 손실값계산\n",
        "      loss = criterion(output,labels)\n",
        "      epoch_train_loss += loss.item()\n",
        "      # 역전파\n",
        "      loss.backward()\n",
        "      # 가중치 갱신\n",
        "      optimizer.step()\n",
        "      # 학습률 갱신(스케줄러가 있으면)\n",
        "      if scheduler:\n",
        "        scheduler.step()\n",
        "      # iterdata.set_description() 진행상황 출력\n",
        "      iterdata.set_description(f\"epoch:{epoch+1}, loss:{loss.item()}\")\n",
        "\n",
        "    #[검증]\n",
        "    model.eval()\n",
        "    epoch_val_loss = 0\n",
        "    preds_list,true_list = [],[]  # 예측값, 실제값\n",
        "    iterdata_val = tqdm(loder_valid)\n",
        "    for images, labels in iterdata_val:\n",
        "      # 데이터 장비로 이동\n",
        "      images = images.to(device); labels = labels.to(device)\n",
        "      # 순전파\n",
        "      outputs = model(images)\n",
        "      # 손실값계산\n",
        "      loss = criterion(outputs,labels)\n",
        "      epoch_val_loss += loss.item()\n",
        "      preds = torch.max(outputs.cpu(), dim=1)[1].numpy()  # 0:데이터  1:클래스별 확률\n",
        "      true = labels.cpu().numpy()\n",
        "\n",
        "      preds_list.extend(preds)\n",
        "      true_list.extend(true)\n",
        "    #평가지표\n",
        "    val_accuracy = accuracy_score(true_list,preds_list)\n",
        "    val_recall = recall_score(true_list,preds_list)\n",
        "    val_f1_score = f1_score(true_list,preds_list)\n",
        "    print(f\"정확도:{val_accuracy:.4f} 재현율:{val_recall:.4f} F1:{val_f1_score:.4f}\")\n",
        "    #[최적의 가중치 찾기] - early stopping과 비슷한 느낌\n",
        "    # 현재 손실값이 지금까지의 손실값보다 가장작으면\n",
        "    if epoch_val_loss <= valid_loss_min:\n",
        "      torch.save(model.state_dict(),save_file)  # 저장\n",
        "      valid_loss_min = epoch_val_loss\n",
        "    # 현재 모델의 가중치 저장\n",
        "  return torch.load(save_file) # 최적의 모델 가중치를 반환"
      ],
      "metadata": {
        "id": "GTawOzJVCYvU"
      },
      "execution_count": 104,
      "outputs": []
    },
    {
      "cell_type": "markdown",
      "source": [
        "모델 훈련"
      ],
      "metadata": {
        "id": "xyvQ4Io7LH5l"
      }
    },
    {
      "cell_type": "code",
      "source": [
        "model_state_dic = train(model = model,\n",
        "                        loder_train=loader_train,\n",
        "                        loder_valid = loader_valid,\n",
        "                        criterion=criterion,\n",
        "                        optimizer=optimizer\n",
        "                        )"
      ],
      "metadata": {
        "colab": {
          "base_uri": "https://localhost:8080/"
        },
        "id": "6w9VkyQwLGxN",
        "outputId": "cdfa7d1c-dada-4996-b98a-71f7ec3243dc"
      },
      "execution_count": 106,
      "outputs": [
        {
          "output_type": "stream",
          "name": "stderr",
          "text": [
            "epoch:1, loss:0.09034159034490585: 100%|██████████| 652/652 [02:13<00:00,  4.87it/s]\n",
            "100%|██████████| 2/2 [00:00<00:00,  4.05it/s]\n"
          ]
        },
        {
          "output_type": "stream",
          "name": "stdout",
          "text": [
            "정확도:0.6250 재현율:1.0000 F1:0.7273\n"
          ]
        },
        {
          "output_type": "stream",
          "name": "stderr",
          "text": [
            "epoch:2, loss:0.5469325184822083: 100%|██████████| 652/652 [02:01<00:00,  5.36it/s]\n",
            "100%|██████████| 2/2 [00:00<00:00,  4.03it/s]\n"
          ]
        },
        {
          "output_type": "stream",
          "name": "stdout",
          "text": [
            "정확도:0.6875 재현율:0.5000 F1:0.6154\n"
          ]
        },
        {
          "output_type": "stream",
          "name": "stderr",
          "text": [
            "epoch:3, loss:0.07191170752048492: 100%|██████████| 652/652 [02:06<00:00,  5.16it/s]\n",
            "100%|██████████| 2/2 [00:00<00:00,  2.42it/s]\n"
          ]
        },
        {
          "output_type": "stream",
          "name": "stdout",
          "text": [
            "정확도:0.5000 재현율:1.0000 F1:0.6667\n"
          ]
        },
        {
          "output_type": "stream",
          "name": "stderr",
          "text": [
            "epoch:4, loss:0.14047344028949738: 100%|██████████| 652/652 [02:00<00:00,  5.42it/s]\n",
            "100%|██████████| 2/2 [00:00<00:00,  4.20it/s]\n"
          ]
        },
        {
          "output_type": "stream",
          "name": "stdout",
          "text": [
            "정확도:0.4375 재현율:0.6250 F1:0.5263\n"
          ]
        },
        {
          "output_type": "stream",
          "name": "stderr",
          "text": [
            "epoch:5, loss:0.04352588579058647: 100%|██████████| 652/652 [02:00<00:00,  5.43it/s]\n",
            "100%|██████████| 2/2 [00:00<00:00,  4.08it/s]\n"
          ]
        },
        {
          "output_type": "stream",
          "name": "stdout",
          "text": [
            "정확도:0.5000 재현율:1.0000 F1:0.6667\n"
          ]
        },
        {
          "output_type": "stream",
          "name": "stderr",
          "text": [
            "epoch:6, loss:0.1132926270365715: 100%|██████████| 652/652 [02:04<00:00,  5.24it/s]\n",
            "100%|██████████| 2/2 [00:00<00:00,  2.45it/s]\n"
          ]
        },
        {
          "output_type": "stream",
          "name": "stdout",
          "text": [
            "정확도:0.6250 재현율:0.2500 F1:0.4000\n"
          ]
        },
        {
          "output_type": "stream",
          "name": "stderr",
          "text": [
            "epoch:7, loss:0.014014959335327148: 100%|██████████| 652/652 [02:01<00:00,  5.36it/s]\n",
            "100%|██████████| 2/2 [00:00<00:00,  4.04it/s]\n"
          ]
        },
        {
          "output_type": "stream",
          "name": "stdout",
          "text": [
            "정확도:0.7500 재현율:0.8750 F1:0.7778\n"
          ]
        },
        {
          "output_type": "stream",
          "name": "stderr",
          "text": [
            "epoch:8, loss:0.013704748824238777: 100%|██████████| 652/652 [02:00<00:00,  5.41it/s]\n",
            "100%|██████████| 2/2 [00:00<00:00,  4.20it/s]\n"
          ]
        },
        {
          "output_type": "stream",
          "name": "stdout",
          "text": [
            "정확도:0.5000 재현율:1.0000 F1:0.6667\n"
          ]
        },
        {
          "output_type": "stream",
          "name": "stderr",
          "text": [
            "epoch:9, loss:0.016880517825484276: 100%|██████████| 652/652 [01:57<00:00,  5.56it/s]\n",
            "100%|██████████| 2/2 [00:00<00:00,  4.20it/s]\n"
          ]
        },
        {
          "output_type": "stream",
          "name": "stdout",
          "text": [
            "정확도:0.6250 재현율:1.0000 F1:0.7273\n"
          ]
        },
        {
          "output_type": "stream",
          "name": "stderr",
          "text": [
            "epoch:10, loss:0.00935616809874773: 100%|██████████| 652/652 [01:59<00:00,  5.46it/s]\n",
            "100%|██████████| 2/2 [00:00<00:00,  4.02it/s]"
          ]
        },
        {
          "output_type": "stream",
          "name": "stdout",
          "text": [
            "정확도:0.6250 재현율:1.0000 F1:0.7273\n"
          ]
        },
        {
          "output_type": "stream",
          "name": "stderr",
          "text": [
            "\n"
          ]
        }
      ]
    },
    {
      "cell_type": "markdown",
      "source": [
        "예측"
      ],
      "metadata": {
        "id": "oV2DyaQ2RR8u"
      }
    },
    {
      "cell_type": "code",
      "source": [
        "def predict(model,loader_test):\n",
        "  model.eval()\n",
        "  preds_list,true_list = [],[]\n",
        "  with torch.no_grad():\n",
        "    for images,labels in loader_test:\n",
        "      images = images.to(device)\n",
        "      labels = labels.to(device)\n",
        "      outputs = model(images)\n",
        "      preds =  torch.max(outputs.cpu(),dim=1)[1].numpy()\n",
        "      true = labels.cpu().numpy()\n",
        "      preds_list.extend(preds)\n",
        "      true_list.extend(true)\n",
        "  return preds_list,true_list"
      ],
      "metadata": {
        "id": "_h_yKOdYLli0"
      },
      "execution_count": 107,
      "outputs": []
    },
    {
      "cell_type": "code",
      "source": [
        "#모델 불러오기\n",
        "model.load_state_dict(model_state_dic)\n",
        "pred_list, true_list = predict(model,loader_test=loader_test)"
      ],
      "metadata": {
        "id": "TEaiEWqhR7pU"
      },
      "execution_count": 109,
      "outputs": []
    },
    {
      "cell_type": "code",
      "source": [
        "val_accuracy = accuracy_score(true_list,pred_list)\n",
        "val_recall = recall_score(true_list,pred_list)\n",
        "val_f1_score = f1_score(true_list,pred_list)\n",
        "print(f\"정확도:{val_accuracy:.4f} 재현율:{val_recall:.4f} F1:{val_f1_score:.4f}\")"
      ],
      "metadata": {
        "colab": {
          "base_uri": "https://localhost:8080/"
        },
        "id": "T1l8uuRfSTql",
        "outputId": "dc8a24cf-6c5e-473c-a1a4-91b7a79a33de"
      },
      "execution_count": 110,
      "outputs": [
        {
          "output_type": "stream",
          "name": "stdout",
          "text": [
            "정확도:0.7981 재현율:0.7308 F1:0.8190\n"
          ]
        }
      ]
    },
    {
      "cell_type": "code",
      "source": [
        "pred_list"
      ],
      "metadata": {
        "id": "ZeeiZcSRSkyb"
      },
      "execution_count": null,
      "outputs": []
    },
    {
      "cell_type": "markdown",
      "source": [
        "개선사항\n",
        "  - 스케줄러 사용 : 학습률을 크게->작게 변화량을 줌\n",
        "  - effici~~b0, b1, b3 각각모델학습하고 결과를 취합\n",
        "  - 1의 갯수를 더하고 / 3 = np.round()를 이용해서 반올림\n"
      ],
      "metadata": {
        "id": "8iwn7kTvTKrl"
      }
    },
    {
      "cell_type": "markdown",
      "source": [
        "![image.png](data:image/png;base64,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)"
      ],
      "metadata": {
        "id": "afbbyjxLTXjF"
      }
    },
    {
      "cell_type": "code",
      "source": [],
      "metadata": {
        "id": "icttuXdHSvUj"
      },
      "execution_count": null,
      "outputs": []
    }
  ]
}